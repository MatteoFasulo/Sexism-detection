{
  "cells": [
    {
      "cell_type": "markdown",
      "metadata": {
        "id": "qmIZOuDv-bQk"
      },
      "source": [
        "<a href=\"https://colab.research.google.com/github/MatteoFasulo/Sexism-detection/blob/main/assignment_1.ipynb\" target=\"_parent\"><img src=\"https://colab.research.google.com/assets/colab-badge.svg\" alt=\"Open In Colab\"/></a>"
      ]
    },
    {
      "cell_type": "markdown",
      "metadata": {
        "id": "9vYXSXHf-bQp"
      },
      "source": [
        "# Libraries"
      ]
    },
    {
      "cell_type": "code",
      "execution_count": 1,
      "metadata": {
        "id": "rT1NnYib-cZs"
      },
      "outputs": [],
      "source": [
        "%%capture\n",
        "!pip install requests umap nltk gensim datasets evaluate transformers"
      ]
    },
    {
      "cell_type": "code",
      "execution_count": 2,
      "metadata": {
        "id": "8HsAwNAc-bQp"
      },
      "outputs": [],
      "source": [
        "import gc\n",
        "import os\n",
        "import requests\n",
        "from pathlib import Path\n",
        "import re\n",
        "import json\n",
        "from typing import OrderedDict\n",
        "import copy\n",
        "\n",
        "import numpy as np\n",
        "import pandas as pd\n",
        "\n",
        "from sklearn.utils.class_weight import compute_class_weight\n",
        "from sklearn.metrics import f1_score, accuracy_score\n",
        "\n",
        "from tqdm import tqdm\n",
        "import matplotlib.pyplot as plt\n",
        "\n",
        "import nltk\n",
        "from nltk.stem import WordNetLemmatizer\n",
        "\n",
        "import gensim\n",
        "import gensim.downloader as gloader\n",
        "\n",
        "import torch\n",
        "\n",
        "from datasets import Dataset\n",
        "from transformers import AutoTokenizer\n",
        "from transformers import DataCollatorWithPadding\n",
        "from transformers import AutoModelForSequenceClassification\n",
        "from transformers import TrainingArguments\n",
        "from transformers import Trainer\n",
        "import evaluate"
      ]
    },
    {
      "cell_type": "markdown",
      "metadata": {
        "id": "o4MUwVBe-bQt"
      },
      "source": [
        "# Class definition"
      ]
    },
    {
      "cell_type": "code",
      "execution_count": 3,
      "metadata": {
        "id": "w4OPhRgq-bQu"
      },
      "outputs": [],
      "source": [
        "class SexismDetector:\n",
        "    def __init__(self):\n",
        "\n",
        "        URL_PATTERN_STR = r\"\"\"(?i)((?:https?:(?:/{1,3}|[a-z0-9%])|[a-z0-9.\\-]+[.](?:com|net|org|edu|gov|mil|aero|asia|biz|cat|coop|info\n",
        "                      |int|jobs|mobi|museum|name|post|pro|tel|travel|xxx|ac|ad|ae|af|ag|ai|al|am|an|ao|aq|ar|as|at|au|aw|ax|az|ba|\n",
        "                      bb|bd|be|bf|bg|bh|bi|bj|bm|bn|bo|br|bs|bt|bv|bw|by|bz|ca|cc|cd|cf|cg|ch|ci|ck|cl|cm|cn|co|cr|cs|cu|cv|cx|cy|\n",
        "                      cz|dd|de|dj|dk|dm|do|dz|ec|ee|eg|eh|er|es|et|eu|fi|fj|fk|fm|fo|fr|ga|gb|gd|ge|gf|gg|gh|gi|gl|gm|gn|gp|gq|gr|\n",
        "                      gs|gt|gu|gw|gy|hk|hm|hn|hr|ht|hu|id|ie|il|im|in|io|iq|ir|is|it|je|jm|jo|jp|ke|kg|kh|ki|km|kn|kp|kr|kw|ky|kz|\n",
        "                      la|lb|lc|li|lk|lr|ls|lt|lu|lv|ly|ma|mc|md|me|mg|mh|mk|ml|mm|mn|mo|mp|mq|mr|ms|mt|mu|mv|mw|mx|my|mz|na|nc|ne|\n",
        "                      nf|ng|ni|nl|no|np|nr|nu|nz|om|pa|pe|pf|pg|ph|pk|pl|pm|pn|pr|ps|pt|pw|py|qa|re|ro|rs|ru|rw|sa|sb|sc|sd|se|sg|\n",
        "                      sh|si|sj|Ja|sk|sl|sm|sn|so|sr|ss|st|su|sv|sx|sy|sz|tc|td|tf|tg|th|tj|tk|tl|tm|tn|to|tp|tr|tt|tv|tw|tz|ua|ug|\n",
        "                      uk|us|uy|uz|va|vc|ve|vg|vi|vn|vu|wf|ws|ye|yt|yu|za|zm|zw)/)(?:[^\\s()<>{}\\[\\]]+|\\([^\\s()]*?\\([^\\s()]+\\)[^\\s()]\n",
        "                      *?\\)|\\([^\\s]+?\\))+(?:\\([^\\s()]*?\\([^\\s()]+\\)[^\\s()]*?\\)|\\([^\\s]+?\\)|[^\\s`!()\\[\\]{};:'\\\".,<>?«»“”‘’])|(?:(?<!@)\n",
        "                      [a-z0-9]+(?:[.\\-][a-z0-9]+)*[.](?:com|net|org|edu|gov|mil|aero|asia|biz|cat|coop|info|int|jobs|mobi|museum|name\n",
        "                      |post|pro|tel|travel|xxx|ac|ad|ae|af|ag|ai|al|am|an|ao|aq|ar|as|at|au|aw|ax|az|ba|bb|bd|be|bf|bg|bh|bi|bj|bm|bn\n",
        "                      |bo|br|bs|bt|bv|bw|by|bz|ca|cc|cd|cf|cg|ch|ci|ck|cl|cm|cn|co|cr|cs|cu|cv|cx|cy|cz|dd|de|dj|dk|dm|do|dz|ec|ee|eg\n",
        "                      |eh|er|es|et|eu|fi|fj|fk|fm|fo|fr|ga|gb|gd|ge|gf|gg|gh|gi|gl|gm|gn|gp|gq|gr|gs|gt|gu|gw|gy|hk|hm|hn|hr|ht|hu|id\n",
        "                      |ie|il|im|in|io|iq|ir|is|it|je|jm|jo|jp|ke|kg|kh|ki|km|kn|kp|kr|kw|ky|kz|la|lb|lc|li|lk|lr|ls|lt|lu|lv|ly|ma|mc|\n",
        "                      md|me|mg|mh|mk|ml|mm|mn|mo|mp|mq|mr|ms|mt|mu|mv|mw|mx|my|mz|na|nc|ne|nf|ng|ni|nl|no|np|nr|nu|nz|om|pa|pe|pf|pg|\n",
        "                      ph|pk|pl|pm|pn|pr|ps|pt|pw|py|qa|re|ro|rs|ru|rw|sa|sb|sc|sd|se|sg|sh|si|sj|Ja|sk|sl|sm|sn|so|sr|ss|st|su|sv|sx|\n",
        "                      sy|sz|tc|td|tf|tg|th|tj|tk|tl|tm|tn|to|tp|tr|tt|tv|tw|tz|ua|ug|uk|us|uy|uz|va|vc|ve|vg|vi|vn|vu|wf|ws|ye|yt|yu|\n",
        "                      za|zm|zw)\\b/?(?!@)))\"\"\"\n",
        "        self.URL_PATTERN = re.compile(URL_PATTERN_STR, re.IGNORECASE)\n",
        "        self.HASHTAG_PATTERN = re.compile(r'#\\w*')\n",
        "        self.MENTION_PATTERN = re.compile(r'@\\w*')\n",
        "        self.EMOJIS_PATTERN = re.compile(u'([\\U00002600-\\U000027BF])|([\\U0001f300-\\U0001f64F])|([\\U0001f680-\\U0001f6FF])')\n",
        "        self.AND_PATTERN = re.compile(r'&amp;')\n",
        "        self.PUNCT_REPEAT_PATTERN = re.compile(r'([!?.]){2,}')\n",
        "        self.ELONG_PATTERN = re.compile(r'\\b(\\S*?)(.)\\2{2,}\\b')\n",
        "        self.WORD_PATTERN = re.compile(r'[^\\w<>\\s]')\n",
        "        self.SEED = 1337\n",
        "        self.DATA_FOLDER = Path('data')\n",
        "        self.MODEL_FOLDER = Path('models')\n",
        "        self.columns_to_maintain = ['id_EXIST', 'lang', 'tweet', 'hard_label_task1']\n",
        "        self.UNK_TOKEN = '[UNK]'\n",
        "        self.PAD_TOKEN = '[PAD]'\n",
        "\n",
        "    def download_corpus(self, url: str, filename: str) -> None:\n",
        "        \"\"\"\n",
        "        Downloads a text corpus from a given URL and saves it to a specified filename within the data folder.\n",
        "\n",
        "        Args:\n",
        "            url (str): The URL from which to download the corpus.\n",
        "            filename (str): The name of the file to save the downloaded corpus.\n",
        "\n",
        "        Raises:\n",
        "            requests.exceptions.HTTPError: If the HTTP request returned an unsuccessful status code.\n",
        "\n",
        "        Side Effects:\n",
        "            Creates the data folder if it does not exist.\n",
        "            Writes the downloaded corpus to the specified file.\n",
        "        \"\"\"\n",
        "        if not self.DATA_FOLDER.exists():\n",
        "            self.DATA_FOLDER.mkdir(parents=True)\n",
        "            print(f\"Created folder {self.DATA_FOLDER}.\")\n",
        "\n",
        "        response = requests.get(url)\n",
        "        response.raise_for_status()\n",
        "        with open(self.DATA_FOLDER / filename, 'w', encoding='utf-8') as f:\n",
        "            f.write(response.text)\n",
        "\n",
        "    def load_corpus(self, filename: str, *args, **kwargs) -> pd.DataFrame:\n",
        "        \"\"\"\n",
        "        Load a corpus from a JSON file.\n",
        "\n",
        "        Parameters:\n",
        "        filename (str): The name of the JSON file to load.\n",
        "        *args: Variable length argument list to pass to pandas read_json.\n",
        "        **kwargs: Arbitrary keyword arguments to pass to pandas read_json.\n",
        "\n",
        "        Returns:\n",
        "        DataFrame: A pandas DataFrame containing the loaded corpus.\n",
        "        \"\"\"\n",
        "        return pd.read_json(self.DATA_FOLDER / filename, *args, **kwargs)\n",
        "\n",
        "    @staticmethod\n",
        "    def majority_voting(votes: list[str]) -> str:\n",
        "        \"\"\"\n",
        "        Determines the majority vote from a list of votes.\n",
        "        Args:\n",
        "            votes (list[str]): A list of votes, where each vote is either \"YES\" or \"NO\".\n",
        "        Returns:\n",
        "            str: The result of the majority vote. Returns \"YES\" if there are more \"YES\" votes,\n",
        "                \"NO\" if there are more \"NO\" votes, and \"NEUTRAL\" in case of a tie.\n",
        "        \"\"\"\n",
        "        total_num_votes = len(votes)\n",
        "        yes_votes = votes.count(\"YES\")\n",
        "        no_votes = total_num_votes - yes_votes\n",
        "\n",
        "        if yes_votes > no_votes:\n",
        "            return \"YES\"\n",
        "        elif no_votes > yes_votes:\n",
        "            return \"NO\"\n",
        "        else:\n",
        "            return \"NEUTRAL\" # This will be the case when there is a tie (removed later)\n",
        "\n",
        "    def preprocess_text(self, text: str) -> str:\n",
        "        \"\"\"\n",
        "        Preprocesses the input text by removing or replacing specific patterns.\n",
        "\n",
        "        Args:\n",
        "            text (str): The input text to be preprocessed.\n",
        "\n",
        "        Returns:\n",
        "            str: The preprocessed text with URLs, mentions, hashtags, emojis,\n",
        "                 special characters removed, 'and' replaced, and extra spaces trimmed.\n",
        "        \"\"\"\n",
        "        text = re.sub(self.URL_PATTERN, ' <URL>', text)\n",
        "        text = re.sub(r\"/\", \" / \", text)\n",
        "        text = re.sub(self.MENTION_PATTERN, ' <USER> ', text)\n",
        "        text = re.sub(r\"[-+]?[.\\d]*[\\d]+[:,.\\d]*\", \" <NUMBER> \", text)\n",
        "        text = re.sub(self.HASHTAG_PATTERN, ' <HASHTAG> ', text)\n",
        "        #text = self.EMOJIS_PATTERN.sub('', text)\n",
        "        #text = self.AND_PATTERN.sub('and', text) # &amp; already in the Vocab of GloVe-twitter\n",
        "        text = re.sub(self.PUNCT_REPEAT_PATTERN, lambda match: f\" {match.group(1)} <REPEAT> \", text)\n",
        "        text = re.sub(self.ELONG_PATTERN, lambda match: f\" {match.group(1)}{match.group(2)} <ELONG> \", text)\n",
        "        text = text.strip()\n",
        "        text = re.sub(self.WORD_PATTERN, ' ', text)\n",
        "        text = text.strip()\n",
        "        return text\n",
        "\n",
        "    def lemmatize_text(self, text: str) -> str:\n",
        "        \"\"\"\n",
        "        Lemmatizes the input text using the WordNet lemmatizer.\n",
        "\n",
        "        This method attempts to lemmatize each word in the input text. If the WordNet\n",
        "        data is not available, it will download the necessary data and retry.\n",
        "\n",
        "        Args:\n",
        "            text (str): The input text to be lemmatized.\n",
        "\n",
        "        Returns:\n",
        "            str: The lemmatized text.\n",
        "        \"\"\"\n",
        "        lemmatizer = WordNetLemmatizer()\n",
        "        downloaded = False\n",
        "        while not downloaded:\n",
        "            try:\n",
        "                lemmatizer.lemmatize(text)\n",
        "                downloaded = True\n",
        "            except LookupError:\n",
        "                print(\"Downloading WordNet...\")\n",
        "                nltk.download('wordnet')\n",
        "        return ' '.join([lemmatizer.lemmatize(word) for word in text.split()])\n",
        "\n",
        "    @staticmethod\n",
        "    def text_diff(original_text: str, preprocessed_text: str, random: bool = True) -> None:\n",
        "        \"\"\"\n",
        "        Displays a comparison between an original tweet and its preprocessed version.\n",
        "        Args:\n",
        "            original_text (str): The original text data containing tweets.\n",
        "            preprocessed_text (str): The preprocessed text data containing tweets.\n",
        "            random (bool, optional): If True, a random tweet is selected for comparison.\n",
        "                                     If False, the first tweet is selected. Defaults to True.\n",
        "        Returns:\n",
        "            None\n",
        "        \"\"\"\n",
        "        if random:\n",
        "            idx = np.random.randint(0, preprocessed_text.shape[0])\n",
        "        else:\n",
        "            idx = 0\n",
        "\n",
        "        print(f\"Original tweet:\\n{original_text['tweet'].iloc[idx]}\")\n",
        "        print(f\"Processed tweet:\\n{preprocessed_text['tweet'].iloc[idx]}\")\n",
        "\n",
        "    def load_glove(self, model_name: str = 'glove-wiki-gigaword', embedding_dim: int = 50) -> gensim.models.keyedvectors.KeyedVectors:\n",
        "        \"\"\"\n",
        "        Loads the GloVe model with the specified name and embedding dimension.\n",
        "        Args:\n",
        "            model_name (str): The name of the GloVe model to load. Default is 'glove-wiki-gigaword'.\n",
        "            embedding_dim (int): The dimension of the word embeddings. Default is 50.\n",
        "        Returns:\n",
        "            gensim.models.keyedvectors.KeyedVectors: The loaded GloVe model.\n",
        "        Raises:\n",
        "            Exception: If there is an error in downloading or loading the model.\n",
        "        Notes:\n",
        "            - If the model folder does not exist, it will be created.\n",
        "            - If the model is not already downloaded, it will be downloaded and saved to the specified path.\n",
        "            - If the model is already downloaded, it will be loaded from the specified path.\n",
        "        \"\"\"\n",
        "        self.EMBEDDING_DIM = embedding_dim\n",
        "\n",
        "        if not self.MODEL_FOLDER.exists():\n",
        "            self.MODEL_FOLDER.mkdir(parents=True)\n",
        "            print(f\"Created folder {self.MODEL_FOLDER}.\")\n",
        "\n",
        "        model_path = self.MODEL_FOLDER / f\"{model_name}-{embedding_dim}\"\n",
        "        if not model_path.exists():\n",
        "            print(f\"Downloading {model_name} model...\")\n",
        "            glove_model = gloader.load(f\"{model_name}-{embedding_dim}\")\n",
        "            print(f\"Model downloaded! Saving to {model_path}\")\n",
        "            glove_model.save(str(model_path))\n",
        "            print(f\"Model saved to {self.MODEL_FOLDER / f'{model_name}-{embedding_dim}'}\")\n",
        "        else:\n",
        "            glove_model = gensim.models.keyedvectors.KeyedVectors.load(str(model_path))\n",
        "        return glove_model\n",
        "\n",
        "    def get_vocab(self, data: pd.DataFrame) -> tuple[OrderedDict, OrderedDict]:\n",
        "        \"\"\"\n",
        "        Generates vocabulary mappings from a given dataset.\n",
        "        Args:\n",
        "            data (pd.DataFrame): A pandas DataFrame containing the dataset with a column 'tweet'.\n",
        "            word_listing (list, optional): A list of words to include in the vocabulary. If None, the vocabulary\n",
        "                                           will be built from the dataset. Defaults to None.\n",
        "        Returns:\n",
        "            tuple[OrderedDict, OrderedDict]: A tuple containing two OrderedDicts:\n",
        "                - idx_to_word: Mapping from index to word.\n",
        "                - word_to_idx: Mapping from word to index.\n",
        "        \"\"\"\n",
        "        idx_to_word = OrderedDict()\n",
        "        word_to_idx = OrderedDict()\n",
        "\n",
        "        curr_idx = 0\n",
        "        for sentence in data.tweet.values:\n",
        "            tokens = sentence.split()\n",
        "            for token in tokens:\n",
        "                if token not in word_to_idx:\n",
        "                    word_to_idx[token] = curr_idx\n",
        "                    idx_to_word[curr_idx] = token\n",
        "                    curr_idx += 1\n",
        "\n",
        "        word_listing = list(idx_to_word.values())\n",
        "        return idx_to_word, word_to_idx, word_listing\n",
        "\n",
        "    def co_occurrence_count(self, df: pd.DataFrame, idx_to_word, word_to_idx, window_size: int = 10) -> np.ndarray:\n",
        "\n",
        "        vocab_size = len(idx_to_word)\n",
        "        co_occurrence_matrix = np.zeros((vocab_size, vocab_size), dtype=np.float32)\n",
        "\n",
        "        for sentence in tqdm(df.tweet.values):\n",
        "            tokens = sentence.split()\n",
        "            for pos, token in enumerate(tokens):\n",
        "                start = max(0, pos - window_size)\n",
        "                end = min(pos + window_size + 1, len(tokens))\n",
        "\n",
        "                first_word_index = word_to_idx[token]\n",
        "\n",
        "                for pos2 in range(start, end):\n",
        "                    if pos2 != pos:\n",
        "                        second_token = tokens[pos2]\n",
        "                        second_word_index = word_to_idx[second_token]\n",
        "                        co_occurrence_matrix[first_word_index, second_word_index] += 1\n",
        "\n",
        "        return co_occurrence_matrix\n",
        "\n",
        "    def co_occurrence_dataframe(self, co_occurrence_matrix: np.ndarray, idx_to_word: OrderedDict) -> pd.DataFrame:\n",
        "        \"\"\"\n",
        "        Converts a co-occurrence matrix into a pandas DataFrame with word indices as row and column labels.\n",
        "        Args:\n",
        "            co_occurrence_matrix (np.ndarray): A co-occurrence matrix with word indices as row and column indices.\n",
        "            idx_to_word (OrderedDict): A mapping from word index to word.\n",
        "        Returns:\n",
        "            pd.DataFrame: A pandas DataFrame with word indices as row and column labels.\n",
        "        \"\"\"\n",
        "        return pd.DataFrame(co_occurrence_matrix, index=idx_to_word.values(), columns=idx_to_word.values())\n",
        "\n",
        "    def get_augmented_vocab(self, emb_model: gensim.models.keyedvectors.KeyedVectors, train_words: list, co_occurrence_df: pd.DataFrame, save: bool = False) -> gensim.models.keyedvectors.KeyedVectors:\n",
        "        \"\"\"\n",
        "        Augments the given embedding model with new tokens from the training words list. If a token is not found in the\n",
        "        embedding model, a random vector is generated for it. Optionally saves the updated vocabulary to a JSON file.\n",
        "        Args:\n",
        "            emb_model (gensim.models.keyedvectors.KeyedVectors): The embedding model to augment.\n",
        "            train_words (list): A list of words to add to the embedding model.\n",
        "            co_occurrence_df (pd.DataFrame): A DataFrame containing co-occurrence data for the training words.\n",
        "            save (bool, optional): If True, saves the updated vocabulary to a JSON file. Defaults to False.\n",
        "        Returns:\n",
        "            gensim.models.keyedvectors.KeyedVectors: The augmented embedding model.\n",
        "        \"\"\"\n",
        "        new_tokens = []\n",
        "        new_vectors = []\n",
        "\n",
        "        for token in train_words:\n",
        "            try:\n",
        "                embedding_vec = emb_model.get_vector(token)\n",
        "            except KeyError:\n",
        "                try:\n",
        "                    # Handle missing token in embedding model\n",
        "                    top_5_most_frequent = co_occurrence_df.loc[token].sort_values(ascending=False).index.tolist()[:5]\n",
        "\n",
        "                    # Filter words that are in the embedding model\n",
        "                    valid_words = [word for word in top_5_most_frequent if word in emb_model.key_to_index]\n",
        "\n",
        "                    if valid_words: # TODO: check that valid words as atleast 2 words otherwise mean won't be significant\n",
        "                        # Calculate the average vector for valid words\n",
        "                        embedding_vec = np.mean([emb_model.get_vector(word) for word in valid_words], axis=0)\n",
        "                    else:\n",
        "                        # Handle the case where no valid co-occurring words exist\n",
        "                        raise ValueError(f\"No valid co-occurring words found for token: {token}\")\n",
        "\n",
        "                except Exception as e:\n",
        "                    print(f\"Generating random vector for token '{token}': {e}\")\n",
        "                    embedding_vec = np.random.uniform(low=-0.05, high=0.05, size=self.EMBEDDING_DIM)\n",
        "\n",
        "            new_tokens.append(token)\n",
        "            new_vectors.append(embedding_vec)\n",
        "\n",
        "        emb_model.add_vectors(new_tokens, new_vectors)\n",
        "        # add the UNK token to the embedding model with the vector which is the average of all the vectors\n",
        "        emb_model.add_vectors([\"[UNK]\", \"[PAD]\"], [np.mean(emb_model.vectors, axis=0), np.zeros(self.EMBEDDING_DIM)])\n",
        "\n",
        "        if save:\n",
        "            vocab_path = self.DATA_FOLDER / 'vocab.json'\n",
        "            print(f\"Saving vocab to {vocab_path}\")\n",
        "            with vocab_path.open('w', encoding='utf-8') as f:\n",
        "                json.dump(emb_model.key_to_index, f, indent=4)\n",
        "            print(\"Vocab saved!\")\n",
        "\n",
        "        return emb_model\n",
        "\n",
        "    def get_oov(self, embedding_model: gensim.models.keyedvectors.KeyedVectors, word_listing: list) -> set:\n",
        "        \"\"\"\n",
        "        Returns a list of out-of-vocabulary (OOV) words from a given list of words.\n",
        "        Args:\n",
        "            embedding_model (gensim.models.keyedvectors.KeyedVectors): The word embedding model containing known words.\n",
        "            word_listing (list): A list of words to check against the embedding model.\n",
        "        Returns:\n",
        "            set: A set of out-of-vocabulary words.\n",
        "        \"\"\"\n",
        "        return set(word_listing).difference(set(embedding_model.key_to_index.keys()))\n",
        "\n",
        "    def get_oov_stats(self, embedding_model: gensim.models.keyedvectors.KeyedVectors, word_listing: list) -> None:\n",
        "        \"\"\"\n",
        "        Calculate and print the number and percentage of out-of-vocabulary (OOV) words.\n",
        "        Args:\n",
        "            embedding_model (gensim.models.keyedvectors.KeyedVectors): The word embedding model containing known words.\n",
        "            word_listing (list): A list of words to check against the embedding model.\n",
        "        Returns:\n",
        "            None\n",
        "        \"\"\"\n",
        "        OOV_token = self.get_oov(embedding_model, word_listing)\n",
        "        OOV_percentage = float(len(OOV_token)) * 100 / len(word_listing)\n",
        "\n",
        "        print(f\"Total OOV terms: {len(OOV_token)} ({OOV_percentage:.2f}%)\")\n",
        "\n",
        "    def get_padded_sequences(self, data: pd.Series, embedding_model: gensim.models.keyedvectors.KeyedVectors) -> torch.Tensor:\n",
        "        \"\"\"\n",
        "        Converts a pandas Series of text data into padded sequences of word indices using a given embedding model.\n",
        "\n",
        "        Args:\n",
        "            data (pd.Series): A pandas Series containing text data.\n",
        "            embedding_model (gensim.models.keyedvectors.KeyedVectors): A pre-trained word embedding model.\n",
        "\n",
        "        Returns:\n",
        "            torch.Tensor: A tensor containing padded sequences of word indices.\n",
        "        \"\"\"\n",
        "        tokenizer = nltk.tokenize.NLTKWordTokenizer()\n",
        "        unk_index = 9856\n",
        "\n",
        "        sequences = [torch.tensor([embedding_model.get_index(word, default=unk_index) for word in tokenizer.tokenize(x)]) for x in data.values]\n",
        "\n",
        "        return torch.nn.utils.rnn.pad_sequence(sequences, padding_value=embedding_model.get_index(self.PAD_TOKEN), batch_first=True)\n",
        "\n",
        "    def get_dataloader(self, data: pd.DataFrame, embedding_model: gensim.models.keyedvectors.KeyedVectors, type: str, *args, **kwargs) -> torch.utils.data.DataLoader:\n",
        "        if type not in ['train', 'val', 'test']:\n",
        "            raise ValueError(\"Invalid type. Must be one of 'train', 'val', or 'test'.\")\n",
        "        padded_sequences = self.get_padded_sequences(data.tweet, embedding_model)\n",
        "        labels = torch.tensor(data.label.values)\n",
        "        dataset = TextDataset(padded_sequences, labels)\n",
        "        return torch.utils.data.DataLoader(dataset, *args, **kwargs)\n",
        "\n",
        "class TextDataset(torch.utils.data.Dataset):\n",
        "    def __init__(self, sequences, labels):\n",
        "        self.sequences = sequences\n",
        "        self.labels = labels\n",
        "\n",
        "    def __len__(self):\n",
        "        return self.sequences.shape[0]\n",
        "\n",
        "    def __getitem__(self, idx):\n",
        "        return self.sequences[idx], self.labels[idx]"
      ]
    },
    {
      "cell_type": "markdown",
      "metadata": {
        "id": "9S8JHdj0-bQw"
      },
      "source": [
        "# Task 1: Corpus\n",
        "\n",
        "1. Download the data\n",
        "2. Load the JSON files and encode them as a DataFrame\n",
        "3. Generate hard labels for Task 1 with majority voting\n",
        "4. Filter the DataFrame for only english tweets\n",
        "5. Remove unwanted columns\n",
        "6. Encode the hard labels column as integers\n",
        "\n",
        ">**Bonus**: explore also Spanish tweets leveraging multi-language models and assessing the performance of the model on the two languages in comparison to the English-only model."
      ]
    },
    {
      "cell_type": "markdown",
      "metadata": {
        "id": "nALIh9GUC7tn"
      },
      "source": [
        "Fist of all, we need to instantiate the class which we will use to perform the task."
      ]
    },
    {
      "cell_type": "code",
      "execution_count": 4,
      "metadata": {
        "id": "UX6zDKbU-bQx"
      },
      "outputs": [],
      "source": [
        "detector = SexismDetector()"
      ]
    },
    {
      "cell_type": "markdown",
      "metadata": {
        "id": "bBtjK_NyC7tn"
      },
      "source": [
        "Let's define the device to use for the computation of PyTorch"
      ]
    },
    {
      "cell_type": "code",
      "execution_count": 5,
      "metadata": {
        "colab": {
          "base_uri": "https://localhost:8080/"
        },
        "id": "rAxlYsxwKy_k",
        "outputId": "b715651b-2d67-4d51-e0b9-d4656859101a"
      },
      "outputs": [
        {
          "output_type": "stream",
          "name": "stdout",
          "text": [
            "Using device: cuda\n"
          ]
        }
      ],
      "source": [
        "device = torch.device(\"cuda\" if torch.cuda.is_available() else \"cpu\")\n",
        "print(f\"Using device: {device}\")"
      ]
    },
    {
      "cell_type": "markdown",
      "metadata": {
        "id": "7QOBgb8HC7to"
      },
      "source": [
        "### Reproducibility\n",
        "\n",
        "The environment variable as well as the seed are set to ensure reproducibility of the results."
      ]
    },
    {
      "cell_type": "code",
      "execution_count": 6,
      "metadata": {
        "id": "-vI1-CPdKy_l"
      },
      "outputs": [],
      "source": [
        "os.environ[\"CUBLAS_WORKSPACE_CONFIG\"] = \":4096:8\"\n",
        "torch.cuda.manual_seed(detector.SEED)\n",
        "np.random.seed(detector.SEED)"
      ]
    },
    {
      "cell_type": "markdown",
      "metadata": {
        "id": "wpL0rkABC7tp"
      },
      "source": [
        "### Constants\n",
        "\n",
        "The constants are defined in the following cell. We will use them to define the embedding dimension and batch size."
      ]
    },
    {
      "cell_type": "code",
      "execution_count": 7,
      "metadata": {
        "id": "R-EBKp3wKy_l"
      },
      "outputs": [],
      "source": [
        "EMBEDDING_DIM = 50\n",
        "BATCH_SIZE = 128\n",
        "HIDDEN_DIM = 128\n",
        "EPOCHS = 50\n",
        "LEARNING_RATE = 1e-4"
      ]
    },
    {
      "cell_type": "markdown",
      "metadata": {
        "id": "2kB8zolx-bQx"
      },
      "source": [
        "### Download the data\n",
        "\n",
        "The data is downloaded from the repository of the course. The `download_corpus` method is used to download the data from the repository and save it in the `data` folder under the root directory of the project."
      ]
    },
    {
      "cell_type": "code",
      "execution_count": 8,
      "metadata": {
        "id": "zHCqDJCq-bQy"
      },
      "outputs": [],
      "source": [
        "detector.download_corpus(url='https://raw.githubusercontent.com/nlp-unibo/nlp-course-material/refs/heads/main/2024-2025/Assignment%201/data/training.json', filename='training.json')\n",
        "detector.download_corpus(url='https://raw.githubusercontent.com/nlp-unibo/nlp-course-material/refs/heads/main/2024-2025/Assignment%201/data/test.json', filename='test.json')\n",
        "detector.download_corpus(url='https://raw.githubusercontent.com/nlp-unibo/nlp-course-material/refs/heads/main/2024-2025/Assignment%201/data/validation.json', filename='validation.json')"
      ]
    },
    {
      "cell_type": "markdown",
      "metadata": {
        "id": "OlbBn1uh-bQy"
      },
      "source": [
        "### Load the JSON files and encode them as a DataFrame\n",
        "\n",
        "Then we load the JSON files and encode them as a DataFrame. The `load_corpus` method is used to load the data from the JSON files and encode them as a DataFrame."
      ]
    },
    {
      "cell_type": "code",
      "execution_count": 9,
      "metadata": {
        "id": "xffrWnDg-bQz"
      },
      "outputs": [],
      "source": [
        "train = detector.load_corpus('training.json', orient='index', encoding='utf-8')\n",
        "val = detector.load_corpus('validation.json', orient='index', encoding='utf-8')\n",
        "test = detector.load_corpus('test.json', orient='index', encoding='utf-8')"
      ]
    },
    {
      "cell_type": "markdown",
      "metadata": {
        "id": "KCeSw0jEC7tq"
      },
      "source": [
        "Make a copy of the test set to be used at the end to perform more in depth analysis about why the model is failing to classify the tweets."
      ]
    },
    {
      "cell_type": "code",
      "execution_count": 10,
      "metadata": {
        "id": "pcUMYS98C7tq"
      },
      "outputs": [],
      "source": [
        "test_copy = test.copy()"
      ]
    },
    {
      "cell_type": "markdown",
      "metadata": {
        "id": "RCaULr10C7tq"
      },
      "source": [
        "We can also inspect the first rows of the DataFrame to have an idea of the data we are working with."
      ]
    },
    {
      "cell_type": "code",
      "execution_count": 11,
      "metadata": {
        "colab": {
          "base_uri": "https://localhost:8080/",
          "height": 328
        },
        "id": "R-Iddy7j-bQ0",
        "outputId": "23afaa3d-753d-4ba7-dbc7-14d82d3ebbd1"
      },
      "outputs": [
        {
          "output_type": "execute_result",
          "data": {
            "text/plain": [
              "        id_EXIST lang                                              tweet  \\\n",
              "100001    100001   es  @TheChiflis Ignora al otro, es un capullo.El p...   \n",
              "100002    100002   es  @ultimonomada_ Si comicsgate se parece en algo...   \n",
              "100003    100003   es  @Steven2897 Lee sobre Gamergate, y como eso ha...   \n",
              "100004    100004   es  @Lunariita7 Un retraso social bastante lamenta...   \n",
              "100005    100005   es  @novadragon21 @icep4ck @TvDannyZ Entonces como...   \n",
              "\n",
              "        number_annotators                                         annotators  \\\n",
              "100001                  6  [Annotator_1, Annotator_2, Annotator_3, Annota...   \n",
              "100002                  6  [Annotator_7, Annotator_8, Annotator_9, Annota...   \n",
              "100003                  6  [Annotator_7, Annotator_8, Annotator_9, Annota...   \n",
              "100004                  6  [Annotator_13, Annotator_14, Annotator_15, Ann...   \n",
              "100005                  6  [Annotator_19, Annotator_20, Annotator_21, Ann...   \n",
              "\n",
              "         gender_annotators                          age_annotators  \\\n",
              "100001  [F, F, F, M, M, M]  [18-22, 23-45, 46+, 46+, 23-45, 18-22]   \n",
              "100002  [F, F, F, M, M, M]  [18-22, 23-45, 46+, 46+, 23-45, 18-22]   \n",
              "100003  [F, F, F, M, M, M]  [18-22, 23-45, 46+, 46+, 23-45, 18-22]   \n",
              "100004  [F, F, F, M, M, M]  [18-22, 23-45, 46+, 46+, 23-45, 18-22]   \n",
              "100005  [F, F, F, M, M, M]  [18-22, 23-45, 46+, 46+, 23-45, 18-22]   \n",
              "\n",
              "                         labels_task1  \\\n",
              "100001  [YES, YES, NO, YES, YES, YES]   \n",
              "100002      [NO, NO, NO, NO, YES, NO]   \n",
              "100003       [NO, NO, NO, NO, NO, NO]   \n",
              "100004    [NO, NO, YES, NO, YES, YES]   \n",
              "100005   [YES, NO, YES, NO, YES, YES]   \n",
              "\n",
              "                                             labels_task2  \\\n",
              "100001  [REPORTED, JUDGEMENTAL, -, REPORTED, JUDGEMENT...   \n",
              "100002                            [-, -, -, -, DIRECT, -]   \n",
              "100003                                 [-, -, -, -, -, -]   \n",
              "100004              [-, -, DIRECT, -, REPORTED, REPORTED]   \n",
              "100005  [REPORTED, -, JUDGEMENTAL, -, JUDGEMENTAL, DIR...   \n",
              "\n",
              "                                             labels_task3     split  \n",
              "100001  [[OBJECTIFICATION], [OBJECTIFICATION, SEXUAL-V...  TRAIN_ES  \n",
              "100002       [[-], [-], [-], [-], [OBJECTIFICATION], [-]]  TRAIN_ES  \n",
              "100003                     [[-], [-], [-], [-], [-], [-]]  TRAIN_ES  \n",
              "100004  [[-], [-], [IDEOLOGICAL-INEQUALITY], [-], [IDE...  TRAIN_ES  \n",
              "100005  [[STEREOTYPING-DOMINANCE, OBJECTIFICATION], [-...  TRAIN_ES  "
            ],
            "text/html": [
              "\n",
              "  <div id=\"df-4dfc4e52-fed0-4616-a599-077e79489cff\" class=\"colab-df-container\">\n",
              "    <div>\n",
              "<style scoped>\n",
              "    .dataframe tbody tr th:only-of-type {\n",
              "        vertical-align: middle;\n",
              "    }\n",
              "\n",
              "    .dataframe tbody tr th {\n",
              "        vertical-align: top;\n",
              "    }\n",
              "\n",
              "    .dataframe thead th {\n",
              "        text-align: right;\n",
              "    }\n",
              "</style>\n",
              "<table border=\"1\" class=\"dataframe\">\n",
              "  <thead>\n",
              "    <tr style=\"text-align: right;\">\n",
              "      <th></th>\n",
              "      <th>id_EXIST</th>\n",
              "      <th>lang</th>\n",
              "      <th>tweet</th>\n",
              "      <th>number_annotators</th>\n",
              "      <th>annotators</th>\n",
              "      <th>gender_annotators</th>\n",
              "      <th>age_annotators</th>\n",
              "      <th>labels_task1</th>\n",
              "      <th>labels_task2</th>\n",
              "      <th>labels_task3</th>\n",
              "      <th>split</th>\n",
              "    </tr>\n",
              "  </thead>\n",
              "  <tbody>\n",
              "    <tr>\n",
              "      <th>100001</th>\n",
              "      <td>100001</td>\n",
              "      <td>es</td>\n",
              "      <td>@TheChiflis Ignora al otro, es un capullo.El p...</td>\n",
              "      <td>6</td>\n",
              "      <td>[Annotator_1, Annotator_2, Annotator_3, Annota...</td>\n",
              "      <td>[F, F, F, M, M, M]</td>\n",
              "      <td>[18-22, 23-45, 46+, 46+, 23-45, 18-22]</td>\n",
              "      <td>[YES, YES, NO, YES, YES, YES]</td>\n",
              "      <td>[REPORTED, JUDGEMENTAL, -, REPORTED, JUDGEMENT...</td>\n",
              "      <td>[[OBJECTIFICATION], [OBJECTIFICATION, SEXUAL-V...</td>\n",
              "      <td>TRAIN_ES</td>\n",
              "    </tr>\n",
              "    <tr>\n",
              "      <th>100002</th>\n",
              "      <td>100002</td>\n",
              "      <td>es</td>\n",
              "      <td>@ultimonomada_ Si comicsgate se parece en algo...</td>\n",
              "      <td>6</td>\n",
              "      <td>[Annotator_7, Annotator_8, Annotator_9, Annota...</td>\n",
              "      <td>[F, F, F, M, M, M]</td>\n",
              "      <td>[18-22, 23-45, 46+, 46+, 23-45, 18-22]</td>\n",
              "      <td>[NO, NO, NO, NO, YES, NO]</td>\n",
              "      <td>[-, -, -, -, DIRECT, -]</td>\n",
              "      <td>[[-], [-], [-], [-], [OBJECTIFICATION], [-]]</td>\n",
              "      <td>TRAIN_ES</td>\n",
              "    </tr>\n",
              "    <tr>\n",
              "      <th>100003</th>\n",
              "      <td>100003</td>\n",
              "      <td>es</td>\n",
              "      <td>@Steven2897 Lee sobre Gamergate, y como eso ha...</td>\n",
              "      <td>6</td>\n",
              "      <td>[Annotator_7, Annotator_8, Annotator_9, Annota...</td>\n",
              "      <td>[F, F, F, M, M, M]</td>\n",
              "      <td>[18-22, 23-45, 46+, 46+, 23-45, 18-22]</td>\n",
              "      <td>[NO, NO, NO, NO, NO, NO]</td>\n",
              "      <td>[-, -, -, -, -, -]</td>\n",
              "      <td>[[-], [-], [-], [-], [-], [-]]</td>\n",
              "      <td>TRAIN_ES</td>\n",
              "    </tr>\n",
              "    <tr>\n",
              "      <th>100004</th>\n",
              "      <td>100004</td>\n",
              "      <td>es</td>\n",
              "      <td>@Lunariita7 Un retraso social bastante lamenta...</td>\n",
              "      <td>6</td>\n",
              "      <td>[Annotator_13, Annotator_14, Annotator_15, Ann...</td>\n",
              "      <td>[F, F, F, M, M, M]</td>\n",
              "      <td>[18-22, 23-45, 46+, 46+, 23-45, 18-22]</td>\n",
              "      <td>[NO, NO, YES, NO, YES, YES]</td>\n",
              "      <td>[-, -, DIRECT, -, REPORTED, REPORTED]</td>\n",
              "      <td>[[-], [-], [IDEOLOGICAL-INEQUALITY], [-], [IDE...</td>\n",
              "      <td>TRAIN_ES</td>\n",
              "    </tr>\n",
              "    <tr>\n",
              "      <th>100005</th>\n",
              "      <td>100005</td>\n",
              "      <td>es</td>\n",
              "      <td>@novadragon21 @icep4ck @TvDannyZ Entonces como...</td>\n",
              "      <td>6</td>\n",
              "      <td>[Annotator_19, Annotator_20, Annotator_21, Ann...</td>\n",
              "      <td>[F, F, F, M, M, M]</td>\n",
              "      <td>[18-22, 23-45, 46+, 46+, 23-45, 18-22]</td>\n",
              "      <td>[YES, NO, YES, NO, YES, YES]</td>\n",
              "      <td>[REPORTED, -, JUDGEMENTAL, -, JUDGEMENTAL, DIR...</td>\n",
              "      <td>[[STEREOTYPING-DOMINANCE, OBJECTIFICATION], [-...</td>\n",
              "      <td>TRAIN_ES</td>\n",
              "    </tr>\n",
              "  </tbody>\n",
              "</table>\n",
              "</div>\n",
              "    <div class=\"colab-df-buttons\">\n",
              "\n",
              "  <div class=\"colab-df-container\">\n",
              "    <button class=\"colab-df-convert\" onclick=\"convertToInteractive('df-4dfc4e52-fed0-4616-a599-077e79489cff')\"\n",
              "            title=\"Convert this dataframe to an interactive table.\"\n",
              "            style=\"display:none;\">\n",
              "\n",
              "  <svg xmlns=\"http://www.w3.org/2000/svg\" height=\"24px\" viewBox=\"0 -960 960 960\">\n",
              "    <path d=\"M120-120v-720h720v720H120Zm60-500h600v-160H180v160Zm220 220h160v-160H400v160Zm0 220h160v-160H400v160ZM180-400h160v-160H180v160Zm440 0h160v-160H620v160ZM180-180h160v-160H180v160Zm440 0h160v-160H620v160Z\"/>\n",
              "  </svg>\n",
              "    </button>\n",
              "\n",
              "  <style>\n",
              "    .colab-df-container {\n",
              "      display:flex;\n",
              "      gap: 12px;\n",
              "    }\n",
              "\n",
              "    .colab-df-convert {\n",
              "      background-color: #E8F0FE;\n",
              "      border: none;\n",
              "      border-radius: 50%;\n",
              "      cursor: pointer;\n",
              "      display: none;\n",
              "      fill: #1967D2;\n",
              "      height: 32px;\n",
              "      padding: 0 0 0 0;\n",
              "      width: 32px;\n",
              "    }\n",
              "\n",
              "    .colab-df-convert:hover {\n",
              "      background-color: #E2EBFA;\n",
              "      box-shadow: 0px 1px 2px rgba(60, 64, 67, 0.3), 0px 1px 3px 1px rgba(60, 64, 67, 0.15);\n",
              "      fill: #174EA6;\n",
              "    }\n",
              "\n",
              "    .colab-df-buttons div {\n",
              "      margin-bottom: 4px;\n",
              "    }\n",
              "\n",
              "    [theme=dark] .colab-df-convert {\n",
              "      background-color: #3B4455;\n",
              "      fill: #D2E3FC;\n",
              "    }\n",
              "\n",
              "    [theme=dark] .colab-df-convert:hover {\n",
              "      background-color: #434B5C;\n",
              "      box-shadow: 0px 1px 3px 1px rgba(0, 0, 0, 0.15);\n",
              "      filter: drop-shadow(0px 1px 2px rgba(0, 0, 0, 0.3));\n",
              "      fill: #FFFFFF;\n",
              "    }\n",
              "  </style>\n",
              "\n",
              "    <script>\n",
              "      const buttonEl =\n",
              "        document.querySelector('#df-4dfc4e52-fed0-4616-a599-077e79489cff button.colab-df-convert');\n",
              "      buttonEl.style.display =\n",
              "        google.colab.kernel.accessAllowed ? 'block' : 'none';\n",
              "\n",
              "      async function convertToInteractive(key) {\n",
              "        const element = document.querySelector('#df-4dfc4e52-fed0-4616-a599-077e79489cff');\n",
              "        const dataTable =\n",
              "          await google.colab.kernel.invokeFunction('convertToInteractive',\n",
              "                                                    [key], {});\n",
              "        if (!dataTable) return;\n",
              "\n",
              "        const docLinkHtml = 'Like what you see? Visit the ' +\n",
              "          '<a target=\"_blank\" href=https://colab.research.google.com/notebooks/data_table.ipynb>data table notebook</a>'\n",
              "          + ' to learn more about interactive tables.';\n",
              "        element.innerHTML = '';\n",
              "        dataTable['output_type'] = 'display_data';\n",
              "        await google.colab.output.renderOutput(dataTable, element);\n",
              "        const docLink = document.createElement('div');\n",
              "        docLink.innerHTML = docLinkHtml;\n",
              "        element.appendChild(docLink);\n",
              "      }\n",
              "    </script>\n",
              "  </div>\n",
              "\n",
              "\n",
              "<div id=\"df-7f053566-0819-413f-8a67-2b08847085f4\">\n",
              "  <button class=\"colab-df-quickchart\" onclick=\"quickchart('df-7f053566-0819-413f-8a67-2b08847085f4')\"\n",
              "            title=\"Suggest charts\"\n",
              "            style=\"display:none;\">\n",
              "\n",
              "<svg xmlns=\"http://www.w3.org/2000/svg\" height=\"24px\"viewBox=\"0 0 24 24\"\n",
              "     width=\"24px\">\n",
              "    <g>\n",
              "        <path d=\"M19 3H5c-1.1 0-2 .9-2 2v14c0 1.1.9 2 2 2h14c1.1 0 2-.9 2-2V5c0-1.1-.9-2-2-2zM9 17H7v-7h2v7zm4 0h-2V7h2v10zm4 0h-2v-4h2v4z\"/>\n",
              "    </g>\n",
              "</svg>\n",
              "  </button>\n",
              "\n",
              "<style>\n",
              "  .colab-df-quickchart {\n",
              "      --bg-color: #E8F0FE;\n",
              "      --fill-color: #1967D2;\n",
              "      --hover-bg-color: #E2EBFA;\n",
              "      --hover-fill-color: #174EA6;\n",
              "      --disabled-fill-color: #AAA;\n",
              "      --disabled-bg-color: #DDD;\n",
              "  }\n",
              "\n",
              "  [theme=dark] .colab-df-quickchart {\n",
              "      --bg-color: #3B4455;\n",
              "      --fill-color: #D2E3FC;\n",
              "      --hover-bg-color: #434B5C;\n",
              "      --hover-fill-color: #FFFFFF;\n",
              "      --disabled-bg-color: #3B4455;\n",
              "      --disabled-fill-color: #666;\n",
              "  }\n",
              "\n",
              "  .colab-df-quickchart {\n",
              "    background-color: var(--bg-color);\n",
              "    border: none;\n",
              "    border-radius: 50%;\n",
              "    cursor: pointer;\n",
              "    display: none;\n",
              "    fill: var(--fill-color);\n",
              "    height: 32px;\n",
              "    padding: 0;\n",
              "    width: 32px;\n",
              "  }\n",
              "\n",
              "  .colab-df-quickchart:hover {\n",
              "    background-color: var(--hover-bg-color);\n",
              "    box-shadow: 0 1px 2px rgba(60, 64, 67, 0.3), 0 1px 3px 1px rgba(60, 64, 67, 0.15);\n",
              "    fill: var(--button-hover-fill-color);\n",
              "  }\n",
              "\n",
              "  .colab-df-quickchart-complete:disabled,\n",
              "  .colab-df-quickchart-complete:disabled:hover {\n",
              "    background-color: var(--disabled-bg-color);\n",
              "    fill: var(--disabled-fill-color);\n",
              "    box-shadow: none;\n",
              "  }\n",
              "\n",
              "  .colab-df-spinner {\n",
              "    border: 2px solid var(--fill-color);\n",
              "    border-color: transparent;\n",
              "    border-bottom-color: var(--fill-color);\n",
              "    animation:\n",
              "      spin 1s steps(1) infinite;\n",
              "  }\n",
              "\n",
              "  @keyframes spin {\n",
              "    0% {\n",
              "      border-color: transparent;\n",
              "      border-bottom-color: var(--fill-color);\n",
              "      border-left-color: var(--fill-color);\n",
              "    }\n",
              "    20% {\n",
              "      border-color: transparent;\n",
              "      border-left-color: var(--fill-color);\n",
              "      border-top-color: var(--fill-color);\n",
              "    }\n",
              "    30% {\n",
              "      border-color: transparent;\n",
              "      border-left-color: var(--fill-color);\n",
              "      border-top-color: var(--fill-color);\n",
              "      border-right-color: var(--fill-color);\n",
              "    }\n",
              "    40% {\n",
              "      border-color: transparent;\n",
              "      border-right-color: var(--fill-color);\n",
              "      border-top-color: var(--fill-color);\n",
              "    }\n",
              "    60% {\n",
              "      border-color: transparent;\n",
              "      border-right-color: var(--fill-color);\n",
              "    }\n",
              "    80% {\n",
              "      border-color: transparent;\n",
              "      border-right-color: var(--fill-color);\n",
              "      border-bottom-color: var(--fill-color);\n",
              "    }\n",
              "    90% {\n",
              "      border-color: transparent;\n",
              "      border-bottom-color: var(--fill-color);\n",
              "    }\n",
              "  }\n",
              "</style>\n",
              "\n",
              "  <script>\n",
              "    async function quickchart(key) {\n",
              "      const quickchartButtonEl =\n",
              "        document.querySelector('#' + key + ' button');\n",
              "      quickchartButtonEl.disabled = true;  // To prevent multiple clicks.\n",
              "      quickchartButtonEl.classList.add('colab-df-spinner');\n",
              "      try {\n",
              "        const charts = await google.colab.kernel.invokeFunction(\n",
              "            'suggestCharts', [key], {});\n",
              "      } catch (error) {\n",
              "        console.error('Error during call to suggestCharts:', error);\n",
              "      }\n",
              "      quickchartButtonEl.classList.remove('colab-df-spinner');\n",
              "      quickchartButtonEl.classList.add('colab-df-quickchart-complete');\n",
              "    }\n",
              "    (() => {\n",
              "      let quickchartButtonEl =\n",
              "        document.querySelector('#df-7f053566-0819-413f-8a67-2b08847085f4 button');\n",
              "      quickchartButtonEl.style.display =\n",
              "        google.colab.kernel.accessAllowed ? 'block' : 'none';\n",
              "    })();\n",
              "  </script>\n",
              "</div>\n",
              "\n",
              "    </div>\n",
              "  </div>\n"
            ],
            "application/vnd.google.colaboratory.intrinsic+json": {
              "type": "dataframe",
              "variable_name": "train",
              "summary": "{\n  \"name\": \"train\",\n  \"rows\": 6920,\n  \"fields\": [\n    {\n      \"column\": \"id_EXIST\",\n      \"properties\": {\n        \"dtype\": \"number\",\n        \"std\": 49830,\n        \"min\": 100001,\n        \"max\": 203260,\n        \"num_unique_values\": 6920,\n        \"samples\": [\n          100469,\n          101957,\n          100801\n        ],\n        \"semantic_type\": \"\",\n        \"description\": \"\"\n      }\n    },\n    {\n      \"column\": \"lang\",\n      \"properties\": {\n        \"dtype\": \"category\",\n        \"num_unique_values\": 2,\n        \"samples\": [\n          \"en\",\n          \"es\"\n        ],\n        \"semantic_type\": \"\",\n        \"description\": \"\"\n      }\n    },\n    {\n      \"column\": \"tweet\",\n      \"properties\": {\n        \"dtype\": \"string\",\n        \"num_unique_values\": 6920,\n        \"samples\": [\n          \"@AnelPerezM Pues.... realmente sabes cu\\u00e1ndo alguien aumenta tu serotonina... porque ver una mujer atractiva pues si.... pero que realmente te enamore...lo sientes porque eso te pone realmente feliz.\",\n          \"@giuli_cc:A confesi\\u00f3n de parte relevo de prueba.Claramente el ex Minedu CUENCA sostiene q el enfoque de g\\u00e9nero es lo m\\u00e1s alejado a lo binario.\\u00bfNo q el enfoque de g\\u00e9nero era buscar la igualdad entre VAR\\u00d3N Y MUJER?Claramente el EdG es un sin fin de g\\u00e9neros que quieren ense\\u00f1ar. https://t.co/UIxAyyC5nR\"\n        ],\n        \"semantic_type\": \"\",\n        \"description\": \"\"\n      }\n    },\n    {\n      \"column\": \"number_annotators\",\n      \"properties\": {\n        \"dtype\": \"number\",\n        \"std\": 0,\n        \"min\": 6,\n        \"max\": 6,\n        \"num_unique_values\": 1,\n        \"samples\": [\n          6\n        ],\n        \"semantic_type\": \"\",\n        \"description\": \"\"\n      }\n    },\n    {\n      \"column\": \"annotators\",\n      \"properties\": {\n        \"dtype\": \"object\",\n        \"semantic_type\": \"\",\n        \"description\": \"\"\n      }\n    },\n    {\n      \"column\": \"gender_annotators\",\n      \"properties\": {\n        \"dtype\": \"object\",\n        \"semantic_type\": \"\",\n        \"description\": \"\"\n      }\n    },\n    {\n      \"column\": \"age_annotators\",\n      \"properties\": {\n        \"dtype\": \"object\",\n        \"semantic_type\": \"\",\n        \"description\": \"\"\n      }\n    },\n    {\n      \"column\": \"labels_task1\",\n      \"properties\": {\n        \"dtype\": \"object\",\n        \"semantic_type\": \"\",\n        \"description\": \"\"\n      }\n    },\n    {\n      \"column\": \"labels_task2\",\n      \"properties\": {\n        \"dtype\": \"object\",\n        \"semantic_type\": \"\",\n        \"description\": \"\"\n      }\n    },\n    {\n      \"column\": \"labels_task3\",\n      \"properties\": {\n        \"dtype\": \"object\",\n        \"semantic_type\": \"\",\n        \"description\": \"\"\n      }\n    },\n    {\n      \"column\": \"split\",\n      \"properties\": {\n        \"dtype\": \"category\",\n        \"num_unique_values\": 2,\n        \"samples\": [\n          \"TRAIN_EN\"\n        ],\n        \"semantic_type\": \"\",\n        \"description\": \"\"\n      }\n    }\n  ]\n}"
            }
          },
          "metadata": {},
          "execution_count": 11
        }
      ],
      "source": [
        "train.head()"
      ]
    },
    {
      "cell_type": "markdown",
      "metadata": {
        "id": "qRJbTkHAC7tq"
      },
      "source": [
        "And of course we can also inspect the shape of the DataFrame to know how many rows and columns we have."
      ]
    },
    {
      "cell_type": "code",
      "execution_count": 12,
      "metadata": {
        "colab": {
          "base_uri": "https://localhost:8080/"
        },
        "id": "3PwyCeQc-bQ1",
        "outputId": "a978a03e-6378-4a2a-ca0a-552249437fcc"
      },
      "outputs": [
        {
          "output_type": "execute_result",
          "data": {
            "text/plain": [
              "((6920, 11), (726, 11), (312, 11))"
            ]
          },
          "metadata": {},
          "execution_count": 12
        }
      ],
      "source": [
        "train.shape, val.shape, test.shape"
      ]
    },
    {
      "cell_type": "markdown",
      "metadata": {
        "id": "4fISdCga-bQ1"
      },
      "source": [
        "### Generate hard labels for Task 1 with majority voting\n",
        "\n",
        "The hard labels for Task 1 are generated with majority voting. The `majority_voting` method is used to generate the hard labels for Task 1 with majority voting. In case of a tie, the label is set to `NEUTRAL` allowing for later filtering of the data."
      ]
    },
    {
      "cell_type": "code",
      "execution_count": 13,
      "metadata": {
        "id": "jVfdt1mf-bQ1"
      },
      "outputs": [],
      "source": [
        "train['hard_label_task1'] = train['labels_task1'].apply(detector.majority_voting)\n",
        "val['hard_label_task1'] = val['labels_task1'].apply(detector.majority_voting)\n",
        "test['hard_label_task1'] = test['labels_task1'].apply(detector.majority_voting)"
      ]
    },
    {
      "cell_type": "markdown",
      "metadata": {
        "id": "iNSfxEqA-bQ2"
      },
      "source": [
        "### Filter the DataFrame for only english tweets and remove unclear tweets\n",
        "\n",
        "Since the task requires to work only with English tweets, we filter the DataFrame for only English tweets. This can be easily done using basic pandas functionalities. Here we also removed all the rows with unclear labels (ties in the majority voting)."
      ]
    },
    {
      "cell_type": "code",
      "execution_count": 14,
      "metadata": {
        "id": "P3hE1ua_-bQ2"
      },
      "outputs": [],
      "source": [
        "train = train[(train['hard_label_task1'] != \"NEUTRAL\") & (train['lang'] == \"en\")]\n",
        "val = val[(val['hard_label_task1'] != \"NEUTRAL\") & (val['lang'] == \"en\")]\n",
        "test = test[(test['hard_label_task1'] != \"NEUTRAL\") & (test['lang'] == \"en\")]"
      ]
    },
    {
      "cell_type": "markdown",
      "metadata": {
        "id": "42sKF2b9C7tr"
      },
      "source": [
        "As we can see we have less rows than before, since we removed all the rows with unclear labels and all the rows with tweets in languages different from English."
      ]
    },
    {
      "cell_type": "code",
      "execution_count": 15,
      "metadata": {
        "colab": {
          "base_uri": "https://localhost:8080/"
        },
        "id": "js6SiYSY-bQ2",
        "outputId": "38658cc5-ef20-4877-e1d0-b51748987d4f"
      },
      "outputs": [
        {
          "output_type": "execute_result",
          "data": {
            "text/plain": [
              "((2870, 12), (158, 12), (286, 12))"
            ]
          },
          "metadata": {},
          "execution_count": 15
        }
      ],
      "source": [
        "train.shape, val.shape, test.shape"
      ]
    },
    {
      "cell_type": "markdown",
      "metadata": {
        "id": "edgN4FWb-bQ2"
      },
      "source": [
        "### Remove unwanted columns\n",
        "\n",
        "After that, we remove the unwanted columns from the DataFrame to keep only the columns we need for the task (the text of the tweet and the hard labels)."
      ]
    },
    {
      "cell_type": "code",
      "execution_count": 16,
      "metadata": {
        "id": "lFUcf_Ii-bQ3"
      },
      "outputs": [],
      "source": [
        "train = train[detector.columns_to_maintain]\n",
        "val = val[detector.columns_to_maintain]\n",
        "test = test[detector.columns_to_maintain]"
      ]
    },
    {
      "cell_type": "code",
      "execution_count": 17,
      "metadata": {
        "colab": {
          "base_uri": "https://localhost:8080/",
          "height": 206
        },
        "id": "BEe_i8hJ-bQ3",
        "outputId": "db879a80-8db4-4a41-d075-2466c21860cb"
      },
      "outputs": [
        {
          "output_type": "execute_result",
          "data": {
            "text/plain": [
              "        id_EXIST lang                                              tweet  \\\n",
              "200002    200002   en  Writing a uni essay in my local pub with a cof...   \n",
              "200003    200003   en  @UniversalORL it is 2021 not 1921. I dont appr...   \n",
              "200006    200006   en  According to a customer I have plenty of time ...   \n",
              "200007    200007   en  So only 'blokes' drink beer? Sorry, but if you...   \n",
              "200008    200008   en  New to the shelves this week - looking forward...   \n",
              "\n",
              "       hard_label_task1  \n",
              "200002              YES  \n",
              "200003              YES  \n",
              "200006              YES  \n",
              "200007              YES  \n",
              "200008               NO  "
            ],
            "text/html": [
              "\n",
              "  <div id=\"df-2de2cb57-6732-47b0-a049-ca3beef050a7\" class=\"colab-df-container\">\n",
              "    <div>\n",
              "<style scoped>\n",
              "    .dataframe tbody tr th:only-of-type {\n",
              "        vertical-align: middle;\n",
              "    }\n",
              "\n",
              "    .dataframe tbody tr th {\n",
              "        vertical-align: top;\n",
              "    }\n",
              "\n",
              "    .dataframe thead th {\n",
              "        text-align: right;\n",
              "    }\n",
              "</style>\n",
              "<table border=\"1\" class=\"dataframe\">\n",
              "  <thead>\n",
              "    <tr style=\"text-align: right;\">\n",
              "      <th></th>\n",
              "      <th>id_EXIST</th>\n",
              "      <th>lang</th>\n",
              "      <th>tweet</th>\n",
              "      <th>hard_label_task1</th>\n",
              "    </tr>\n",
              "  </thead>\n",
              "  <tbody>\n",
              "    <tr>\n",
              "      <th>200002</th>\n",
              "      <td>200002</td>\n",
              "      <td>en</td>\n",
              "      <td>Writing a uni essay in my local pub with a cof...</td>\n",
              "      <td>YES</td>\n",
              "    </tr>\n",
              "    <tr>\n",
              "      <th>200003</th>\n",
              "      <td>200003</td>\n",
              "      <td>en</td>\n",
              "      <td>@UniversalORL it is 2021 not 1921. I dont appr...</td>\n",
              "      <td>YES</td>\n",
              "    </tr>\n",
              "    <tr>\n",
              "      <th>200006</th>\n",
              "      <td>200006</td>\n",
              "      <td>en</td>\n",
              "      <td>According to a customer I have plenty of time ...</td>\n",
              "      <td>YES</td>\n",
              "    </tr>\n",
              "    <tr>\n",
              "      <th>200007</th>\n",
              "      <td>200007</td>\n",
              "      <td>en</td>\n",
              "      <td>So only 'blokes' drink beer? Sorry, but if you...</td>\n",
              "      <td>YES</td>\n",
              "    </tr>\n",
              "    <tr>\n",
              "      <th>200008</th>\n",
              "      <td>200008</td>\n",
              "      <td>en</td>\n",
              "      <td>New to the shelves this week - looking forward...</td>\n",
              "      <td>NO</td>\n",
              "    </tr>\n",
              "  </tbody>\n",
              "</table>\n",
              "</div>\n",
              "    <div class=\"colab-df-buttons\">\n",
              "\n",
              "  <div class=\"colab-df-container\">\n",
              "    <button class=\"colab-df-convert\" onclick=\"convertToInteractive('df-2de2cb57-6732-47b0-a049-ca3beef050a7')\"\n",
              "            title=\"Convert this dataframe to an interactive table.\"\n",
              "            style=\"display:none;\">\n",
              "\n",
              "  <svg xmlns=\"http://www.w3.org/2000/svg\" height=\"24px\" viewBox=\"0 -960 960 960\">\n",
              "    <path d=\"M120-120v-720h720v720H120Zm60-500h600v-160H180v160Zm220 220h160v-160H400v160Zm0 220h160v-160H400v160ZM180-400h160v-160H180v160Zm440 0h160v-160H620v160ZM180-180h160v-160H180v160Zm440 0h160v-160H620v160Z\"/>\n",
              "  </svg>\n",
              "    </button>\n",
              "\n",
              "  <style>\n",
              "    .colab-df-container {\n",
              "      display:flex;\n",
              "      gap: 12px;\n",
              "    }\n",
              "\n",
              "    .colab-df-convert {\n",
              "      background-color: #E8F0FE;\n",
              "      border: none;\n",
              "      border-radius: 50%;\n",
              "      cursor: pointer;\n",
              "      display: none;\n",
              "      fill: #1967D2;\n",
              "      height: 32px;\n",
              "      padding: 0 0 0 0;\n",
              "      width: 32px;\n",
              "    }\n",
              "\n",
              "    .colab-df-convert:hover {\n",
              "      background-color: #E2EBFA;\n",
              "      box-shadow: 0px 1px 2px rgba(60, 64, 67, 0.3), 0px 1px 3px 1px rgba(60, 64, 67, 0.15);\n",
              "      fill: #174EA6;\n",
              "    }\n",
              "\n",
              "    .colab-df-buttons div {\n",
              "      margin-bottom: 4px;\n",
              "    }\n",
              "\n",
              "    [theme=dark] .colab-df-convert {\n",
              "      background-color: #3B4455;\n",
              "      fill: #D2E3FC;\n",
              "    }\n",
              "\n",
              "    [theme=dark] .colab-df-convert:hover {\n",
              "      background-color: #434B5C;\n",
              "      box-shadow: 0px 1px 3px 1px rgba(0, 0, 0, 0.15);\n",
              "      filter: drop-shadow(0px 1px 2px rgba(0, 0, 0, 0.3));\n",
              "      fill: #FFFFFF;\n",
              "    }\n",
              "  </style>\n",
              "\n",
              "    <script>\n",
              "      const buttonEl =\n",
              "        document.querySelector('#df-2de2cb57-6732-47b0-a049-ca3beef050a7 button.colab-df-convert');\n",
              "      buttonEl.style.display =\n",
              "        google.colab.kernel.accessAllowed ? 'block' : 'none';\n",
              "\n",
              "      async function convertToInteractive(key) {\n",
              "        const element = document.querySelector('#df-2de2cb57-6732-47b0-a049-ca3beef050a7');\n",
              "        const dataTable =\n",
              "          await google.colab.kernel.invokeFunction('convertToInteractive',\n",
              "                                                    [key], {});\n",
              "        if (!dataTable) return;\n",
              "\n",
              "        const docLinkHtml = 'Like what you see? Visit the ' +\n",
              "          '<a target=\"_blank\" href=https://colab.research.google.com/notebooks/data_table.ipynb>data table notebook</a>'\n",
              "          + ' to learn more about interactive tables.';\n",
              "        element.innerHTML = '';\n",
              "        dataTable['output_type'] = 'display_data';\n",
              "        await google.colab.output.renderOutput(dataTable, element);\n",
              "        const docLink = document.createElement('div');\n",
              "        docLink.innerHTML = docLinkHtml;\n",
              "        element.appendChild(docLink);\n",
              "      }\n",
              "    </script>\n",
              "  </div>\n",
              "\n",
              "\n",
              "<div id=\"df-85b38451-93e4-4af4-84df-39c05927f6e3\">\n",
              "  <button class=\"colab-df-quickchart\" onclick=\"quickchart('df-85b38451-93e4-4af4-84df-39c05927f6e3')\"\n",
              "            title=\"Suggest charts\"\n",
              "            style=\"display:none;\">\n",
              "\n",
              "<svg xmlns=\"http://www.w3.org/2000/svg\" height=\"24px\"viewBox=\"0 0 24 24\"\n",
              "     width=\"24px\">\n",
              "    <g>\n",
              "        <path d=\"M19 3H5c-1.1 0-2 .9-2 2v14c0 1.1.9 2 2 2h14c1.1 0 2-.9 2-2V5c0-1.1-.9-2-2-2zM9 17H7v-7h2v7zm4 0h-2V7h2v10zm4 0h-2v-4h2v4z\"/>\n",
              "    </g>\n",
              "</svg>\n",
              "  </button>\n",
              "\n",
              "<style>\n",
              "  .colab-df-quickchart {\n",
              "      --bg-color: #E8F0FE;\n",
              "      --fill-color: #1967D2;\n",
              "      --hover-bg-color: #E2EBFA;\n",
              "      --hover-fill-color: #174EA6;\n",
              "      --disabled-fill-color: #AAA;\n",
              "      --disabled-bg-color: #DDD;\n",
              "  }\n",
              "\n",
              "  [theme=dark] .colab-df-quickchart {\n",
              "      --bg-color: #3B4455;\n",
              "      --fill-color: #D2E3FC;\n",
              "      --hover-bg-color: #434B5C;\n",
              "      --hover-fill-color: #FFFFFF;\n",
              "      --disabled-bg-color: #3B4455;\n",
              "      --disabled-fill-color: #666;\n",
              "  }\n",
              "\n",
              "  .colab-df-quickchart {\n",
              "    background-color: var(--bg-color);\n",
              "    border: none;\n",
              "    border-radius: 50%;\n",
              "    cursor: pointer;\n",
              "    display: none;\n",
              "    fill: var(--fill-color);\n",
              "    height: 32px;\n",
              "    padding: 0;\n",
              "    width: 32px;\n",
              "  }\n",
              "\n",
              "  .colab-df-quickchart:hover {\n",
              "    background-color: var(--hover-bg-color);\n",
              "    box-shadow: 0 1px 2px rgba(60, 64, 67, 0.3), 0 1px 3px 1px rgba(60, 64, 67, 0.15);\n",
              "    fill: var(--button-hover-fill-color);\n",
              "  }\n",
              "\n",
              "  .colab-df-quickchart-complete:disabled,\n",
              "  .colab-df-quickchart-complete:disabled:hover {\n",
              "    background-color: var(--disabled-bg-color);\n",
              "    fill: var(--disabled-fill-color);\n",
              "    box-shadow: none;\n",
              "  }\n",
              "\n",
              "  .colab-df-spinner {\n",
              "    border: 2px solid var(--fill-color);\n",
              "    border-color: transparent;\n",
              "    border-bottom-color: var(--fill-color);\n",
              "    animation:\n",
              "      spin 1s steps(1) infinite;\n",
              "  }\n",
              "\n",
              "  @keyframes spin {\n",
              "    0% {\n",
              "      border-color: transparent;\n",
              "      border-bottom-color: var(--fill-color);\n",
              "      border-left-color: var(--fill-color);\n",
              "    }\n",
              "    20% {\n",
              "      border-color: transparent;\n",
              "      border-left-color: var(--fill-color);\n",
              "      border-top-color: var(--fill-color);\n",
              "    }\n",
              "    30% {\n",
              "      border-color: transparent;\n",
              "      border-left-color: var(--fill-color);\n",
              "      border-top-color: var(--fill-color);\n",
              "      border-right-color: var(--fill-color);\n",
              "    }\n",
              "    40% {\n",
              "      border-color: transparent;\n",
              "      border-right-color: var(--fill-color);\n",
              "      border-top-color: var(--fill-color);\n",
              "    }\n",
              "    60% {\n",
              "      border-color: transparent;\n",
              "      border-right-color: var(--fill-color);\n",
              "    }\n",
              "    80% {\n",
              "      border-color: transparent;\n",
              "      border-right-color: var(--fill-color);\n",
              "      border-bottom-color: var(--fill-color);\n",
              "    }\n",
              "    90% {\n",
              "      border-color: transparent;\n",
              "      border-bottom-color: var(--fill-color);\n",
              "    }\n",
              "  }\n",
              "</style>\n",
              "\n",
              "  <script>\n",
              "    async function quickchart(key) {\n",
              "      const quickchartButtonEl =\n",
              "        document.querySelector('#' + key + ' button');\n",
              "      quickchartButtonEl.disabled = true;  // To prevent multiple clicks.\n",
              "      quickchartButtonEl.classList.add('colab-df-spinner');\n",
              "      try {\n",
              "        const charts = await google.colab.kernel.invokeFunction(\n",
              "            'suggestCharts', [key], {});\n",
              "      } catch (error) {\n",
              "        console.error('Error during call to suggestCharts:', error);\n",
              "      }\n",
              "      quickchartButtonEl.classList.remove('colab-df-spinner');\n",
              "      quickchartButtonEl.classList.add('colab-df-quickchart-complete');\n",
              "    }\n",
              "    (() => {\n",
              "      let quickchartButtonEl =\n",
              "        document.querySelector('#df-85b38451-93e4-4af4-84df-39c05927f6e3 button');\n",
              "      quickchartButtonEl.style.display =\n",
              "        google.colab.kernel.accessAllowed ? 'block' : 'none';\n",
              "    })();\n",
              "  </script>\n",
              "</div>\n",
              "\n",
              "    </div>\n",
              "  </div>\n"
            ],
            "application/vnd.google.colaboratory.intrinsic+json": {
              "type": "dataframe",
              "variable_name": "train",
              "summary": "{\n  \"name\": \"train\",\n  \"rows\": 2870,\n  \"fields\": [\n    {\n      \"column\": \"id_EXIST\",\n      \"properties\": {\n        \"dtype\": \"number\",\n        \"std\": 934,\n        \"min\": 200002,\n        \"max\": 203260,\n        \"num_unique_values\": 2870,\n        \"samples\": [\n          200504,\n          202694,\n          200852\n        ],\n        \"semantic_type\": \"\",\n        \"description\": \"\"\n      }\n    },\n    {\n      \"column\": \"lang\",\n      \"properties\": {\n        \"dtype\": \"category\",\n        \"num_unique_values\": 1,\n        \"samples\": [\n          \"en\"\n        ],\n        \"semantic_type\": \"\",\n        \"description\": \"\"\n      }\n    },\n    {\n      \"column\": \"tweet\",\n      \"properties\": {\n        \"dtype\": \"string\",\n        \"num_unique_values\": 2870,\n        \"samples\": [\n          \"Call me sexist but it just feels wrong that women are reffing the NBA like go ref the WNBA\\ud83d\\ude2c\"\n        ],\n        \"semantic_type\": \"\",\n        \"description\": \"\"\n      }\n    },\n    {\n      \"column\": \"hard_label_task1\",\n      \"properties\": {\n        \"dtype\": \"category\",\n        \"num_unique_values\": 2,\n        \"samples\": [\n          \"NO\"\n        ],\n        \"semantic_type\": \"\",\n        \"description\": \"\"\n      }\n    }\n  ]\n}"
            }
          },
          "metadata": {},
          "execution_count": 17
        }
      ],
      "source": [
        "train.head()"
      ]
    },
    {
      "cell_type": "markdown",
      "metadata": {
        "id": "C1vO0qNe-bQ3"
      },
      "source": [
        "### Encode the hard labels column as integers\n",
        "\n",
        "Finally, we encode the hard labels column as integers. This is done to have the labels in a format that can be used by the model."
      ]
    },
    {
      "cell_type": "code",
      "execution_count": 18,
      "metadata": {
        "id": "_vKw9ugP-bQ3"
      },
      "outputs": [],
      "source": [
        "train['hard_label_task1'] = train['hard_label_task1'].apply(lambda x: 1 if x == \"YES\" else 0)\n",
        "val['hard_label_task1'] = val['hard_label_task1'].apply(lambda x: 1 if x == \"YES\" else 0)\n",
        "test['hard_label_task1'] = test['hard_label_task1'].apply(lambda x: 1 if x == \"YES\" else 0)"
      ]
    },
    {
      "cell_type": "markdown",
      "metadata": {
        "id": "zwVjFiqMC7ts"
      },
      "source": [
        "### Rename the target column to label"
      ]
    },
    {
      "cell_type": "code",
      "execution_count": 19,
      "metadata": {
        "id": "sNAkCmHTC7ts"
      },
      "outputs": [],
      "source": [
        "train.rename(columns={'hard_label_task1': 'label'}, inplace=True)\n",
        "val.rename(columns={'hard_label_task1': 'label'}, inplace=True)\n",
        "test.rename(columns={'hard_label_task1': 'label'}, inplace=True)"
      ]
    },
    {
      "cell_type": "markdown",
      "metadata": {
        "id": "hBxMCgPYC7ts"
      },
      "source": [
        "The distribution of the labels is also shown to have an idea of the distribution of the labels in the dataset. As we can see there are more non-sexist tweets than sexist tweets in a ratio of 60:40. This is important to know since it can affect the performance of the model."
      ]
    },
    {
      "cell_type": "code",
      "execution_count": 20,
      "metadata": {
        "colab": {
          "base_uri": "https://localhost:8080/",
          "height": 467
        },
        "id": "QYpFYiwx-bQ4",
        "outputId": "c47b2494-db53-4d6c-b03c-3b43590a207b"
      },
      "outputs": [
        {
          "output_type": "display_data",
          "data": {
            "text/plain": [
              "<Figure size 640x480 with 1 Axes>"
            ],
            "image/png": "[encoded data removed]"
          },
          "metadata": {}
        }
      ],
      "source": [
        "train.label.value_counts(normalize=True).plot(kind='bar', title='Train', color=['green', 'red'], alpha=0.7)\n",
        "plt.show()"
      ]
    },
    {
      "cell_type": "markdown",
      "metadata": {
        "id": "D_qchDt7-bQ4"
      },
      "source": [
        "# Task 2: Data Cleaning\n",
        "\n",
        "1. Remove emojis\n",
        "2. Remove hashtags (e.g. #metoo)\n",
        "3. Remove mentions (e.g. @user)\n",
        "4. Remove URLs\n",
        "5. Remove special characters and symbols\n",
        "6. Remove specific quote characters (e.g. curly quotes)\n",
        "7. Perform lemmatization\n",
        "\n",
        ">**Bonus**: use other preprocessing strategies exploring techniques tailored specifically for tweets or methods that are common in social media text processing."
      ]
    },
    {
      "cell_type": "markdown",
      "metadata": {
        "id": "CPZ_A3ek-bQ4"
      },
      "source": [
        "The way to go (priority order) is the following:\n",
        "1. Remove URLs\n",
        "2. Remove mentions\n",
        "3. Remove hashtags\n",
        "4. Remove emojis\n",
        "5. Remove special characters\n",
        "6. Remove specific quote characters\n",
        "7. Perform lemmatization"
      ]
    },
    {
      "cell_type": "markdown",
      "metadata": {
        "id": "TacxYDItC7tw"
      },
      "source": [
        "We will take a copy of the original text to compare the original text with the cleaned text."
      ]
    },
    {
      "cell_type": "code",
      "execution_count": 21,
      "metadata": {
        "id": "vyKl2917-bQ4"
      },
      "outputs": [],
      "source": [
        "original_train = train.copy()"
      ]
    },
    {
      "cell_type": "markdown",
      "metadata": {
        "id": "RVsy1hN5C7tw"
      },
      "source": [
        "Then we can apply all the preprocessing steps to the text as described above (in that order)."
      ]
    },
    {
      "cell_type": "code",
      "execution_count": 22,
      "metadata": {
        "id": "xtI27hJo-bQ4"
      },
      "outputs": [],
      "source": [
        "train['tweet'] = train['tweet'].apply(detector.preprocess_text)\n",
        "val['tweet'] = val['tweet'].apply(detector.preprocess_text)\n",
        "test['tweet'] = test['tweet'].apply(detector.preprocess_text)"
      ]
    },
    {
      "cell_type": "markdown",
      "metadata": {
        "id": "yFOqFd6i-bQ6"
      },
      "source": [
        "### Perform lemmatization\n",
        "\n",
        "The lemmatization is performed using the `nltk` library. The `lemmatize` method is used to perform the lemmatization of the text. The lemmatization is performed on the cleaned text and takes a bit since it has to process all the words in the text."
      ]
    },
    {
      "cell_type": "code",
      "execution_count": 23,
      "metadata": {
        "id": "lu1toksv-bQ6"
      },
      "outputs": [],
      "source": [
        "train['tweet'] = train['tweet'].apply(detector.lemmatize_text)\n",
        "val['tweet'] = val['tweet'].apply(detector.lemmatize_text)\n",
        "test['tweet'] = test['tweet'].apply(detector.lemmatize_text)"
      ]
    },
    {
      "cell_type": "markdown",
      "metadata": {
        "id": "8R-fL1sl-bQ7"
      },
      "source": [
        "### Cast text to lowercase\n",
        "\n",
        "The text is cast to lowercase to ensure that the model does not learn to distinguish between words based on the case of the letters (uncased)."
      ]
    },
    {
      "cell_type": "code",
      "execution_count": 24,
      "metadata": {
        "id": "Ku484oN9-bQ7"
      },
      "outputs": [],
      "source": [
        "train['tweet'] = train['tweet'].str.lower()\n",
        "val['tweet'] = val['tweet'].str.lower()\n",
        "test['tweet'] = test['tweet'].str.lower()"
      ]
    },
    {
      "cell_type": "markdown",
      "metadata": {
        "id": "dFbPle-9-bQ8"
      },
      "source": [
        "### Show the difference between the original and cleaned text\n",
        "\n",
        "We can also inspect the difference between the original and cleaned text to see the effect of the preprocessing steps. As we can see the preprocessing steps have removed all the unwanted elements from the text and now the text is clean and ready to be used by the model."
      ]
    },
    {
      "cell_type": "code",
      "execution_count": 25,
      "metadata": {
        "colab": {
          "base_uri": "https://localhost:8080/"
        },
        "id": "TURQi4uE-bQ8",
        "outputId": "494fdea6-f2e5-462b-e07e-97ccdfb1b882"
      },
      "outputs": [
        {
          "output_type": "stream",
          "name": "stdout",
          "text": [
            "Original tweet:\n",
            "@YouFugazi He was abusive.  He was the problem.  Porsha's got issues but she didn't deserve mental and physical abuse or to grieve the loss of her child alone.\n",
            "Processed tweet:\n",
            "<user> he wa abusive he wa the problem porsha s got issue but she didn t deserve mental and physical abuse or to grieve the loss of her child alone\n"
          ]
        }
      ],
      "source": [
        "detector.text_diff(preprocessed_text=train, original_text=original_train, random=True)"
      ]
    },
    {
      "cell_type": "markdown",
      "metadata": {
        "id": "50Cj7hDE-bQ9"
      },
      "source": [
        "# Task 3: Text Encoding\n",
        "\n",
        "* Embed words using GloVe embeddings."
      ]
    },
    {
      "cell_type": "markdown",
      "metadata": {
        "id": "e3m8P2pe-bQ-"
      },
      "source": [
        "### Embed words using GloVe embeddings\n",
        "\n",
        "The pretrained GloVe embeddings are used to embed the words in the text. First we download the GloVe embeddings using the `gensim` library. We choose as embedding dimension 100 since it is a common choice for embeddings [CITE SOME SOURCE HERE]. The specific model is the `glove-twitter-100` which is trained on Twitter data. Our intuition is that this model will perform better on tweets than other models trained on different data due to the fact that the language used in tweets is different from the language used in other types of text. In this way we can leverage the specific language used in tweets to improve the performance of the model and also reduce the number of out-of-vocabulary words (which is a common problem when using pretrained embeddings).\n",
        "\n",
        "The vocabulary of the `glove-twitter-100` model is very large and contains many words but we are just using a subset of the words in the vocabulary. This is because we are using the words in the tweets and not all the words in the vocabulary are used in the tweets. At the end even if the vocabulary is large we are using only a small subset of the words in the vocabulary. Moreover, we are not interested in backpropagating the gradients to the embeddings so we can use the embeddings as they are without any problem on the computational side."
      ]
    },
    {
      "cell_type": "code",
      "execution_count": 26,
      "metadata": {
        "colab": {
          "base_uri": "https://localhost:8080/"
        },
        "id": "vEGg4Jvp-bQ-",
        "outputId": "93ecba5e-dee2-4bf3-e2cb-2491c7df1167"
      },
      "outputs": [
        {
          "output_type": "stream",
          "name": "stdout",
          "text": [
            "Vocabulary size: 1193514\n"
          ]
        }
      ],
      "source": [
        "emb_model = detector.load_glove(model_name='glove-twitter', embedding_dim=EMBEDDING_DIM)\n",
        "print(f\"Vocabulary size: {len(emb_model.key_to_index)}\")"
      ]
    },
    {
      "cell_type": "markdown",
      "metadata": {
        "id": "uhw6t0-hKy_0"
      },
      "source": [
        "Get the training vocabulary and generate the list of words appearing in the training set. We can extract the two ordered dictionaries (train_idx_to_word, train_word_to_idx) as well as the list of words appearing in the training set."
      ]
    },
    {
      "cell_type": "code",
      "execution_count": 27,
      "metadata": {
        "id": "JJEQVEKJLcKF"
      },
      "outputs": [],
      "source": [
        "train_idx_to_word, train_word_to_idx, train_word_listing = detector.get_vocab(train)"
      ]
    },
    {
      "cell_type": "markdown",
      "metadata": {
        "id": "KpCHzEq5Ky_0"
      },
      "source": [
        "We can inspect how many words in the training set are not in the GloVe vocabulary. This can be conveniente to assess the coverage of the GloVe embeddings on the training set. From our analysis we can see that the coverage using the GloVe embeddings model `glove-twitter-100` is better with respect to the model `glove-wiki-gigaword-100` which is trained on Wikipedia data. The actual difference is not so big (around 1%) but it can be important to have a good coverage of the embeddings on the training set. Moreover, such statistics do not take into account any possible difference in the quality of the embeddings which can be important to have a good performance of the model. The 1% difference might not be so important but the position of the words in the embeddings can be important to have a good performance of the model."
      ]
    },
    {
      "cell_type": "code",
      "execution_count": 28,
      "metadata": {
        "colab": {
          "base_uri": "https://localhost:8080/"
        },
        "id": "jJ3bEuo3Ky_0",
        "outputId": "b56ca55e-12fe-4ce9-cec2-f73c55b034fc"
      },
      "outputs": [
        {
          "output_type": "stream",
          "name": "stdout",
          "text": [
            "Total OOV terms: 784 (7.95%)\n"
          ]
        }
      ],
      "source": [
        "detector.get_oov_stats(emb_model, train_word_listing)"
      ]
    },
    {
      "cell_type": "markdown",
      "metadata": {
        "id": "KbFJl09CKy_1"
      },
      "source": [
        "We can also inspect what are these OOV words to have an idea of the words that are not in the GloVe vocabulary. As we can see the words that are not in the GloVe vocabulary are mostly rare words that are not so common in the English language or Twitter memes/slang. This is important to know since it can affect the performance of the model. The model will not be able to learn the embeddings for these words and will have to rely on the embeddings of similar words which can affect the performance of the model."
      ]
    },
    {
      "cell_type": "code",
      "execution_count": 29,
      "metadata": {
        "colab": {
          "base_uri": "https://localhost:8080/"
        },
        "id": "iXGncwVDKy_1",
        "outputId": "fb90d89e-6759-4269-e5cc-f52a1ab25795"
      },
      "outputs": [
        {
          "output_type": "execute_result",
          "data": {
            "text/plain": [
              "['chappaquiddick',\n",
              " 'transwomen',\n",
              " 'faultwhy',\n",
              " 'taehyungjimin',\n",
              " 'castrat',\n",
              " 'smtv',\n",
              " 'sandworms',\n",
              " 'grrls',\n",
              " 'recondition',\n",
              " 'sherni',\n",
              " 'adorime',\n",
              " 'transphobes',\n",
              " 'dimensionality',\n",
              " 'orderphallocentrism',\n",
              " 'toosi',\n",
              " 'hilted',\n",
              " 'truefender',\n",
              " 'referreing',\n",
              " 'chefayo',\n",
              " 'gqp',\n",
              " 'octonary',\n",
              " 'universalism',\n",
              " 'thisvegan',\n",
              " 'porngirl',\n",
              " 'infantilise',\n",
              " 'infallibility',\n",
              " 'formalized',\n",
              " 'commonersthe',\n",
              " 'doucheraj',\n",
              " 'appropriative',\n",
              " 'whoresrape',\n",
              " 'kylo',\n",
              " 'cosettas',\n",
              " 'onlyfans',\n",
              " 'shrinate',\n",
              " 'uwinguwi',\n",
              " 'horrormoviesin',\n",
              " 'bidmc',\n",
              " 'dvmbses',\n",
              " 'moranbong',\n",
              " 'rapistchris',\n",
              " 'akaabir',\n",
              " 'dhagne',\n",
              " 'workshoppers',\n",
              " 'garbarek',\n",
              " 'bourassa',\n",
              " 'seatcomment',\n",
              " 'spsp',\n",
              " 'zunelhakart',\n",
              " 'rendelshem',\n",
              " 'laylamoran',\n",
              " 'marginalisation',\n",
              " 'stayyou',\n",
              " 'disseminated',\n",
              " '번째_겨울여행',\n",
              " 'internalizing',\n",
              " 'overcode',\n",
              " 'paperswritingpro',\n",
              " '𝙩𝙤',\n",
              " 'premure',\n",
              " 'stelter',\n",
              " 'pedophiliajust',\n",
              " 'brnovich',\n",
              " 'macready',\n",
              " 'zarkashī',\n",
              " 'ọnịcha',\n",
              " 'demographically',\n",
              " 'nagtitake',\n",
              " 'igboeze',\n",
              " 'unfahrifhdyfhdh',\n",
              " '𝙩𝙖𝙠𝙚',\n",
              " 'friedanthe',\n",
              " 'legitimating',\n",
              " 'wildturtle',\n",
              " 'poubd',\n",
              " 'brownso',\n",
              " 'astrodomina',\n",
              " 'sjfkkffkgk',\n",
              " 'andhkaar',\n",
              " 'unrape',\n",
              " 'dresscan',\n",
              " 'māori',\n",
              " 'yellowhammer',\n",
              " 'debakey',\n",
              " 'mackinlay',\n",
              " 'constitutive',\n",
              " 'deforms',\n",
              " 'questuons',\n",
              " 'coutesy',\n",
              " 'muzzie',\n",
              " 'kuppalli',\n",
              " 'paperpsychology',\n",
              " 'hoursmeanwhile',\n",
              " 'nervetrainers',\n",
              " 'terfs',\n",
              " 'utopianism',\n",
              " 'aucklanders',\n",
              " 'udana',\n",
              " 'bitchesi',\n",
              " 'cyberwhistle',\n",
              " 'debutation',\n",
              " 'colourways',\n",
              " 'ㅤ𝑯𝒊𝒏𝒂',\n",
              " 'binion',\n",
              " 'duealgebraenglish',\n",
              " 'whiteyes',\n",
              " 'commodifying',\n",
              " 'heartattacksyoursickchildyourfailingkidneyscarcrashvictimsand',\n",
              " 'joffy',\n",
              " 'hodlers',\n",
              " 'brandsma',\n",
              " 'ostracize',\n",
              " 'trivialising',\n",
              " 'nigcels',\n",
              " 'yrboi',\n",
              " 'modernists',\n",
              " 'etcdiscrimination',\n",
              " 'alresdy',\n",
              " 'strocking',\n",
              " 'normalise',\n",
              " 'hoteps',\n",
              " 'greedremember',\n",
              " 'historythe',\n",
              " 'maskless',\n",
              " 'cowpatties',\n",
              " 'ocding',\n",
              " 'keibo',\n",
              " 'vawg',\n",
              " 'foebut',\n",
              " 'stinkpots',\n",
              " 'cashmeets',\n",
              " 'maneuvered',\n",
              " 'etcnb',\n",
              " 'gajab',\n",
              " 'thickhead',\n",
              " 'differentially',\n",
              " 'oppressedsuch',\n",
              " 'econmy',\n",
              " 'steroided',\n",
              " 'quinary',\n",
              " 'birnie',\n",
              " 'heckin',\n",
              " 'lmaoit',\n",
              " 'entertainmmt',\n",
              " 'sholud',\n",
              " 'sabbagh',\n",
              " 'overexaggerate',\n",
              " 'iterability',\n",
              " 'vestors',\n",
              " 'movt',\n",
              " 'assuages',\n",
              " 'ijāba',\n",
              " 'allvotebluein',\n",
              " 'allegationsjudge',\n",
              " 'uvogin',\n",
              " 'fashy',\n",
              " 'peacefuls',\n",
              " 'gruevski',\n",
              " 'remarket',\n",
              " 'performative',\n",
              " 'septenary',\n",
              " 'nyjc',\n",
              " 'trumpanzee',\n",
              " 'vaccinatedour',\n",
              " 'pithily',\n",
              " 'dvmb',\n",
              " 'makhulu',\n",
              " 'putatively',\n",
              " 'casiajonna',\n",
              " 'doctress',\n",
              " 'lymphedema',\n",
              " 'mysogynistic',\n",
              " 'succeedwhen',\n",
              " 'akdhajhdajjahshh',\n",
              " 'russiagate',\n",
              " 'librel',\n",
              " 'moolaat',\n",
              " 'plandemic',\n",
              " 'altseason',\n",
              " 'tjforce',\n",
              " 'actium',\n",
              " 'humberman',\n",
              " 'demiboys',\n",
              " 'wvst',\n",
              " 'reallymanchin',\n",
              " 'exegetical',\n",
              " 'binarily',\n",
              " 'halward',\n",
              " 'gilliland',\n",
              " 'metaverse',\n",
              " 'unvaxxed',\n",
              " 'davidic',\n",
              " 'lillets',\n",
              " 'immerwahr',\n",
              " 'contrarianism',\n",
              " 'strugatsky',\n",
              " 'feelbut',\n",
              " 'queering',\n",
              " 'genderfluid',\n",
              " 'eavestroughs',\n",
              " 'multilocal',\n",
              " 'provoker',\n",
              " 'phallocentrism',\n",
              " 'sophiedeelive',\n",
              " 'himbo',\n",
              " 'problematised',\n",
              " 'epistemic',\n",
              " 'frailer',\n",
              " 'manipulatrix',\n",
              " 'blasphemed',\n",
              " 'yoohan',\n",
              " 'lkhrin',\n",
              " 'bashfully',\n",
              " 'pathologises',\n",
              " 'etcetctec',\n",
              " 'neolocal',\n",
              " 'spainisnotademocracy',\n",
              " 'thinkinglife',\n",
              " 'patrilineal',\n",
              " 'nonary',\n",
              " 'cockamamie',\n",
              " 'talaks',\n",
              " 'transgress',\n",
              " 'vishap',\n",
              " 'asapits',\n",
              " 'endsars',\n",
              " 'paediatrician',\n",
              " 'angryyou',\n",
              " 'jaskier',\n",
              " 'oget',\n",
              " 'malchaamah',\n",
              " 'cishet',\n",
              " 'carceral',\n",
              " 'foilage',\n",
              " 'bowcaster',\n",
              " 'bayfuna',\n",
              " 'aislated',\n",
              " 'autogynephiliait',\n",
              " 'pailin',\n",
              " 'nonviable',\n",
              " 'chugli',\n",
              " 'twitterng',\n",
              " 'marginalian',\n",
              " 'femboy',\n",
              " 'handemiyy',\n",
              " 'immunologist',\n",
              " 'malapropism',\n",
              " '𝘀𝗼𝗻',\n",
              " 'submissiv',\n",
              " 'manspreading',\n",
              " 'unaliving',\n",
              " 'nepenthes',\n",
              " 'orientalism',\n",
              " 'matriliny',\n",
              " 'nonoomf',\n",
              " 'whoohahaha',\n",
              " 'selfawareness',\n",
              " 'horncastle',\n",
              " 'erens',\n",
              " 'shirtwaist',\n",
              " 'jikook',\n",
              " 'needso',\n",
              " 'othering',\n",
              " 'siouxland',\n",
              " 'softspun',\n",
              " 'gooning',\n",
              " 'goysplaining',\n",
              " 'gamergate',\n",
              " '𝙖𝙣𝙙',\n",
              " 'dforce',\n",
              " 'prophetically',\n",
              " 'polititcs',\n",
              " 'titsit',\n",
              " 'sissyslave',\n",
              " 'amogus',\n",
              " 'gcfems',\n",
              " 'avunlocal',\n",
              " 'anglicised',\n",
              " 'kehlani',\n",
              " 'glennyoungkin',\n",
              " 'colonialist',\n",
              " 'csrrying',\n",
              " 'brotopia',\n",
              " 'conjuration',\n",
              " 'activismby',\n",
              " 'thcenturyfucks',\n",
              " 'therei',\n",
              " 'hideousness',\n",
              " 'evangelilical',\n",
              " 'expereince',\n",
              " 'nonconforming',\n",
              " 'invariance',\n",
              " 'starmer',\n",
              " 'vaxxers',\n",
              " 'essentialismdrone',\n",
              " 'foundering',\n",
              " 'leafing',\n",
              " 'jongleur',\n",
              " 'fakesswi',\n",
              " 'genshin',\n",
              " '𝙘𝙖𝙧𝙚',\n",
              " 'sasukr',\n",
              " 'chaitya',\n",
              " 'ranpo',\n",
              " 'maaaster',\n",
              " 'worthlessand',\n",
              " 'herei',\n",
              " 'cranewomen',\n",
              " 'underyou',\n",
              " 'indelicate',\n",
              " 'vuyani',\n",
              " 'sleepingnurse',\n",
              " 'impassion',\n",
              " 'womanism',\n",
              " 'regimentation',\n",
              " 'worrisomehe',\n",
              " 'powerwash',\n",
              " 'meritless',\n",
              " 'mansplain',\n",
              " 'sfprice',\n",
              " 'leody',\n",
              " 'akaabireen',\n",
              " 'melded',\n",
              " 'aytl',\n",
              " 'alterlife',\n",
              " 'pomlázka',\n",
              " 'pandra',\n",
              " 'tejasswi',\n",
              " 'periodt',\n",
              " 'bellingcat',\n",
              " 'tevinter',\n",
              " 'glanzer',\n",
              " 'verey',\n",
              " 'kinju',\n",
              " 'duodenary',\n",
              " 'privative',\n",
              " 'bateshive',\n",
              " 'covid',\n",
              " 'ambanii',\n",
              " 'intersectionalitydo',\n",
              " 'weeki',\n",
              " 'msut',\n",
              " 'plaththe',\n",
              " 'socius',\n",
              " 'arbella',\n",
              " 'intwrvewers',\n",
              " 'iwca',\n",
              " 'bilocal',\n",
              " 'ziaratsitin',\n",
              " 'phallocentric',\n",
              " 'fauci',\n",
              " 'sosatie',\n",
              " 'becauselike',\n",
              " 'breebylon',\n",
              " 'gojiro',\n",
              " 'nikkab',\n",
              " 'quemix',\n",
              " 'revelled',\n",
              " 'weavernotes',\n",
              " 'partitioning',\n",
              " 'purebloods',\n",
              " 'anddodge',\n",
              " 'transgenderism',\n",
              " 'ghisipiti',\n",
              " 'otherized',\n",
              " 'pavard',\n",
              " 'sexualization',\n",
              " 'soulsmixed',\n",
              " 'kopechne',\n",
              " 'dolezal',\n",
              " 'whitesupremacistcisnormativepatriarchy',\n",
              " 'ujiko',\n",
              " 'laddish',\n",
              " 'iruma',\n",
              " 'heteronormativity',\n",
              " 'mgtow',\n",
              " 'metanarrative',\n",
              " 'ijma',\n",
              " 'qristianity',\n",
              " 'nicene',\n",
              " 'dysphoric',\n",
              " 'simulacrum',\n",
              " 'chuuyas',\n",
              " 'masqurading',\n",
              " 'enby',\n",
              " 'smtreading',\n",
              " 'womentekashi',\n",
              " 'xanx',\n",
              " 'immediatelyinnate',\n",
              " 'mentionnah',\n",
              " 'idolatrous',\n",
              " 'crubbs',\n",
              " 'ainihin',\n",
              " 'shitmy',\n",
              " 'kjvsource',\n",
              " 'racismanti',\n",
              " 'maccoby',\n",
              " 'forcely',\n",
              " 'tansume',\n",
              " 'nvmslitterhead',\n",
              " 'arklight',\n",
              " 'hatefuck',\n",
              " 'salience',\n",
              " 'paternalistic',\n",
              " 'dixiecrats',\n",
              " 'nightsippin',\n",
              " 'premised',\n",
              " 'reformulated',\n",
              " 'pndhis',\n",
              " 'tooheythere',\n",
              " 'liberatory',\n",
              " '𝐇𝐚𝐩𝐩𝐲',\n",
              " 'devasahayam',\n",
              " 'vaginanot',\n",
              " 'patrilocal',\n",
              " 'deffend',\n",
              " 'undertale',\n",
              " '𝐖𝐨𝐦𝐞𝐧',\n",
              " 'centralizing',\n",
              " 'kaizenix',\n",
              " 'alreadyeither',\n",
              " 'braine',\n",
              " 'ruggerio',\n",
              " 'mahomes',\n",
              " 'indention',\n",
              " 'soobinjust',\n",
              " 'repeat>',\n",
              " 'releasecommission',\n",
              " 'gunstock',\n",
              " 'reifying',\n",
              " 'androcentrism',\n",
              " 'underpantshaving',\n",
              " 'suburan',\n",
              " 'ryalls',\n",
              " 'likeʸᵒᵘ',\n",
              " 'lmaooc',\n",
              " 'scriptura',\n",
              " 'parellels',\n",
              " 'fetishization',\n",
              " 'vellem',\n",
              " 'centrism',\n",
              " 'wattsspaceman',\n",
              " 'exoticization',\n",
              " 'doinks',\n",
              " 'worldbuilding',\n",
              " 'allyship',\n",
              " 'contagiously',\n",
              " 'sexualizing',\n",
              " 'singleminded',\n",
              " 'amadour',\n",
              " 'wendyallure',\n",
              " 'danimation',\n",
              " 'lunabro',\n",
              " 'tarotm',\n",
              " 'findomgoddess',\n",
              " 'matrilocal',\n",
              " 'mazrui',\n",
              " 'shoehorned',\n",
              " 'hazviite',\n",
              " 'whitesplaining',\n",
              " 'malewife',\n",
              " 'essentialism',\n",
              " 'againmaybe',\n",
              " 'senica',\n",
              " 'congressperson',\n",
              " 'czechia',\n",
              " 'glanzernew',\n",
              " 'catholism',\n",
              " 'longevists',\n",
              " 'bakubussy',\n",
              " 'incels',\n",
              " 'rapei',\n",
              " 'nazarbayev',\n",
              " 'busuça',\n",
              " 'baddiel',\n",
              " 'intersexuality',\n",
              " 'femoid',\n",
              " 'duely',\n",
              " 'innuendosthe',\n",
              " 'antivax',\n",
              " 'upstander',\n",
              " 'beclouded',\n",
              " 'essentiality',\n",
              " '𝙣𝙚𝙚𝙙',\n",
              " 'thinkingcheck',\n",
              " 'peachfuzz',\n",
              " 'shriner',\n",
              " 'femimism',\n",
              " 'tribessome',\n",
              " 'senary',\n",
              " 'sanctomony',\n",
              " 'exoticals',\n",
              " 'actionaid',\n",
              " 'maximalism',\n",
              " 'pursueing',\n",
              " 'indue',\n",
              " 'subaltern',\n",
              " 'ultranationalism',\n",
              " 'perjorative',\n",
              " 'doorsbut']"
            ]
          },
          "metadata": {},
          "execution_count": 29
        }
      ],
      "source": [
        "list(detector.get_oov(emb_model, train_word_listing))[:500]"
      ]
    },
    {
      "cell_type": "markdown",
      "metadata": {
        "id": "MKlEtYznC7t2"
      },
      "source": [
        "Now, in order to deal with these OOV token we first thought of assigning a random vector to them. However, such choice might not be the best since the model will learn to distinguish between the OOV tokens and the other tokens based on the embeddings. This is not what we want since the OOV tokens are not different from the other tokens in the vocabulary.\n",
        "\n",
        "A smarter approach would be to extract the co-occurrence matrix from the training set and use it to generate the embeddings for the OOV tokens. Given a window size, we can extract the co-occurrence matrix and then use it to generate the embeddings for the OOV tokens. Whenever we encounter an OOV token we can define as embedding vector the average of the embeddings of the most frequent words that co-occur with the OOV token. This way we can generate the embeddings for the OOV tokens and have a better performance of the model since such OOV tokens will have embeddings that are similar to the embeddings of the words that co-occur with them (the similarity is indeed based on the co-occurrence matrix and on the average of the embedding vectors).\n",
        "\n",
        "The latter is the approach we will use to generate the embeddings for the OOV tokens. We will use a window size of 10 to extract the co-occurrence matrix and generate the embeddings for the OOV tokens."
      ]
    },
    {
      "cell_type": "code",
      "execution_count": 30,
      "metadata": {
        "colab": {
          "base_uri": "https://localhost:8080/",
          "height": 253
        },
        "id": "YGnlKq42Ky_2",
        "outputId": "8819fccf-c5ac-45e5-e5ca-22aae7cfd173"
      },
      "outputs": [
        {
          "output_type": "stream",
          "name": "stderr",
          "text": [
            "100%|██████████| 2870/2870 [00:12<00:00, 232.81it/s]\n"
          ]
        },
        {
          "output_type": "execute_result",
          "data": {
            "text/plain": [
              "         writing       a  uni  essay     in     my  local  pub   with  coffee  \\\n",
              "writing      2.0    14.0  1.0    2.0    5.0    3.0    1.0  1.0    3.0     1.0   \n",
              "a           14.0  1278.0  2.0    2.0  420.0  139.0    3.0  2.0  223.0     5.0   \n",
              "uni          1.0     2.0  0.0    1.0    1.0    1.0    1.0  1.0    1.0     1.0   \n",
              "essay        2.0     2.0  1.0    0.0    2.0    2.0    1.0  1.0    1.0     1.0   \n",
              "in           5.0   420.0  1.0    2.0  166.0   92.0    3.0  1.0   92.0     4.0   \n",
              "\n",
              "         ...  armor  dragoon  estinen  nike  coochie  mutuals  owns  grabs  \\\n",
              "writing  ...    0.0      0.0      0.0   0.0      0.0      0.0   0.0    0.0   \n",
              "a        ...    1.0      0.0      1.0   1.0      1.0      1.0   0.0    0.0   \n",
              "uni      ...    0.0      0.0      0.0   0.0      0.0      0.0   0.0    0.0   \n",
              "essay    ...    0.0      0.0      0.0   0.0      0.0      0.0   0.0    0.0   \n",
              "in       ...    0.0      0.0      0.0   0.0      0.0      0.0   0.0    0.0   \n",
              "\n",
              "          lh  mandy  \n",
              "writing  0.0    0.0  \n",
              "a        1.0    2.0  \n",
              "uni      0.0    0.0  \n",
              "essay    0.0    0.0  \n",
              "in       0.0    0.0  \n",
              "\n",
              "[5 rows x 9861 columns]"
            ],
            "text/html": [
              "\n",
              "  <div id=\"df-0ed093c7-a63c-4ed1-9a48-96df9ba75af4\" class=\"colab-df-container\">\n",
              "    <div>\n",
              "<style scoped>\n",
              "    .dataframe tbody tr th:only-of-type {\n",
              "        vertical-align: middle;\n",
              "    }\n",
              "\n",
              "    .dataframe tbody tr th {\n",
              "        vertical-align: top;\n",
              "    }\n",
              "\n",
              "    .dataframe thead th {\n",
              "        text-align: right;\n",
              "    }\n",
              "</style>\n",
              "<table border=\"1\" class=\"dataframe\">\n",
              "  <thead>\n",
              "    <tr style=\"text-align: right;\">\n",
              "      <th></th>\n",
              "      <th>writing</th>\n",
              "      <th>a</th>\n",
              "      <th>uni</th>\n",
              "      <th>essay</th>\n",
              "      <th>in</th>\n",
              "      <th>my</th>\n",
              "      <th>local</th>\n",
              "      <th>pub</th>\n",
              "      <th>with</th>\n",
              "      <th>coffee</th>\n",
              "      <th>...</th>\n",
              "      <th>armor</th>\n",
              "      <th>dragoon</th>\n",
              "      <th>estinen</th>\n",
              "      <th>nike</th>\n",
              "      <th>coochie</th>\n",
              "      <th>mutuals</th>\n",
              "      <th>owns</th>\n",
              "      <th>grabs</th>\n",
              "      <th>lh</th>\n",
              "      <th>mandy</th>\n",
              "    </tr>\n",
              "  </thead>\n",
              "  <tbody>\n",
              "    <tr>\n",
              "      <th>writing</th>\n",
              "      <td>2.0</td>\n",
              "      <td>14.0</td>\n",
              "      <td>1.0</td>\n",
              "      <td>2.0</td>\n",
              "      <td>5.0</td>\n",
              "      <td>3.0</td>\n",
              "      <td>1.0</td>\n",
              "      <td>1.0</td>\n",
              "      <td>3.0</td>\n",
              "      <td>1.0</td>\n",
              "      <td>...</td>\n",
              "      <td>0.0</td>\n",
              "      <td>0.0</td>\n",
              "      <td>0.0</td>\n",
              "      <td>0.0</td>\n",
              "      <td>0.0</td>\n",
              "      <td>0.0</td>\n",
              "      <td>0.0</td>\n",
              "      <td>0.0</td>\n",
              "      <td>0.0</td>\n",
              "      <td>0.0</td>\n",
              "    </tr>\n",
              "    <tr>\n",
              "      <th>a</th>\n",
              "      <td>14.0</td>\n",
              "      <td>1278.0</td>\n",
              "      <td>2.0</td>\n",
              "      <td>2.0</td>\n",
              "      <td>420.0</td>\n",
              "      <td>139.0</td>\n",
              "      <td>3.0</td>\n",
              "      <td>2.0</td>\n",
              "      <td>223.0</td>\n",
              "      <td>5.0</td>\n",
              "      <td>...</td>\n",
              "      <td>1.0</td>\n",
              "      <td>0.0</td>\n",
              "      <td>1.0</td>\n",
              "      <td>1.0</td>\n",
              "      <td>1.0</td>\n",
              "      <td>1.0</td>\n",
              "      <td>0.0</td>\n",
              "      <td>0.0</td>\n",
              "      <td>1.0</td>\n",
              "      <td>2.0</td>\n",
              "    </tr>\n",
              "    <tr>\n",
              "      <th>uni</th>\n",
              "      <td>1.0</td>\n",
              "      <td>2.0</td>\n",
              "      <td>0.0</td>\n",
              "      <td>1.0</td>\n",
              "      <td>1.0</td>\n",
              "      <td>1.0</td>\n",
              "      <td>1.0</td>\n",
              "      <td>1.0</td>\n",
              "      <td>1.0</td>\n",
              "      <td>1.0</td>\n",
              "      <td>...</td>\n",
              "      <td>0.0</td>\n",
              "      <td>0.0</td>\n",
              "      <td>0.0</td>\n",
              "      <td>0.0</td>\n",
              "      <td>0.0</td>\n",
              "      <td>0.0</td>\n",
              "      <td>0.0</td>\n",
              "      <td>0.0</td>\n",
              "      <td>0.0</td>\n",
              "      <td>0.0</td>\n",
              "    </tr>\n",
              "    <tr>\n",
              "      <th>essay</th>\n",
              "      <td>2.0</td>\n",
              "      <td>2.0</td>\n",
              "      <td>1.0</td>\n",
              "      <td>0.0</td>\n",
              "      <td>2.0</td>\n",
              "      <td>2.0</td>\n",
              "      <td>1.0</td>\n",
              "      <td>1.0</td>\n",
              "      <td>1.0</td>\n",
              "      <td>1.0</td>\n",
              "      <td>...</td>\n",
              "      <td>0.0</td>\n",
              "      <td>0.0</td>\n",
              "      <td>0.0</td>\n",
              "      <td>0.0</td>\n",
              "      <td>0.0</td>\n",
              "      <td>0.0</td>\n",
              "      <td>0.0</td>\n",
              "      <td>0.0</td>\n",
              "      <td>0.0</td>\n",
              "      <td>0.0</td>\n",
              "    </tr>\n",
              "    <tr>\n",
              "      <th>in</th>\n",
              "      <td>5.0</td>\n",
              "      <td>420.0</td>\n",
              "      <td>1.0</td>\n",
              "      <td>2.0</td>\n",
              "      <td>166.0</td>\n",
              "      <td>92.0</td>\n",
              "      <td>3.0</td>\n",
              "      <td>1.0</td>\n",
              "      <td>92.0</td>\n",
              "      <td>4.0</td>\n",
              "      <td>...</td>\n",
              "      <td>0.0</td>\n",
              "      <td>0.0</td>\n",
              "      <td>0.0</td>\n",
              "      <td>0.0</td>\n",
              "      <td>0.0</td>\n",
              "      <td>0.0</td>\n",
              "      <td>0.0</td>\n",
              "      <td>0.0</td>\n",
              "      <td>0.0</td>\n",
              "      <td>0.0</td>\n",
              "    </tr>\n",
              "  </tbody>\n",
              "</table>\n",
              "<p>5 rows × 9861 columns</p>\n",
              "</div>\n",
              "    <div class=\"colab-df-buttons\">\n",
              "\n",
              "  <div class=\"colab-df-container\">\n",
              "    <button class=\"colab-df-convert\" onclick=\"convertToInteractive('df-0ed093c7-a63c-4ed1-9a48-96df9ba75af4')\"\n",
              "            title=\"Convert this dataframe to an interactive table.\"\n",
              "            style=\"display:none;\">\n",
              "\n",
              "  <svg xmlns=\"http://www.w3.org/2000/svg\" height=\"24px\" viewBox=\"0 -960 960 960\">\n",
              "    <path d=\"M120-120v-720h720v720H120Zm60-500h600v-160H180v160Zm220 220h160v-160H400v160Zm0 220h160v-160H400v160ZM180-400h160v-160H180v160Zm440 0h160v-160H620v160ZM180-180h160v-160H180v160Zm440 0h160v-160H620v160Z\"/>\n",
              "  </svg>\n",
              "    </button>\n",
              "\n",
              "  <style>\n",
              "    .colab-df-container {\n",
              "      display:flex;\n",
              "      gap: 12px;\n",
              "    }\n",
              "\n",
              "    .colab-df-convert {\n",
              "      background-color: #E8F0FE;\n",
              "      border: none;\n",
              "      border-radius: 50%;\n",
              "      cursor: pointer;\n",
              "      display: none;\n",
              "      fill: #1967D2;\n",
              "      height: 32px;\n",
              "      padding: 0 0 0 0;\n",
              "      width: 32px;\n",
              "    }\n",
              "\n",
              "    .colab-df-convert:hover {\n",
              "      background-color: #E2EBFA;\n",
              "      box-shadow: 0px 1px 2px rgba(60, 64, 67, 0.3), 0px 1px 3px 1px rgba(60, 64, 67, 0.15);\n",
              "      fill: #174EA6;\n",
              "    }\n",
              "\n",
              "    .colab-df-buttons div {\n",
              "      margin-bottom: 4px;\n",
              "    }\n",
              "\n",
              "    [theme=dark] .colab-df-convert {\n",
              "      background-color: #3B4455;\n",
              "      fill: #D2E3FC;\n",
              "    }\n",
              "\n",
              "    [theme=dark] .colab-df-convert:hover {\n",
              "      background-color: #434B5C;\n",
              "      box-shadow: 0px 1px 3px 1px rgba(0, 0, 0, 0.15);\n",
              "      filter: drop-shadow(0px 1px 2px rgba(0, 0, 0, 0.3));\n",
              "      fill: #FFFFFF;\n",
              "    }\n",
              "  </style>\n",
              "\n",
              "    <script>\n",
              "      const buttonEl =\n",
              "        document.querySelector('#df-0ed093c7-a63c-4ed1-9a48-96df9ba75af4 button.colab-df-convert');\n",
              "      buttonEl.style.display =\n",
              "        google.colab.kernel.accessAllowed ? 'block' : 'none';\n",
              "\n",
              "      async function convertToInteractive(key) {\n",
              "        const element = document.querySelector('#df-0ed093c7-a63c-4ed1-9a48-96df9ba75af4');\n",
              "        const dataTable =\n",
              "          await google.colab.kernel.invokeFunction('convertToInteractive',\n",
              "                                                    [key], {});\n",
              "        if (!dataTable) return;\n",
              "\n",
              "        const docLinkHtml = 'Like what you see? Visit the ' +\n",
              "          '<a target=\"_blank\" href=https://colab.research.google.com/notebooks/data_table.ipynb>data table notebook</a>'\n",
              "          + ' to learn more about interactive tables.';\n",
              "        element.innerHTML = '';\n",
              "        dataTable['output_type'] = 'display_data';\n",
              "        await google.colab.output.renderOutput(dataTable, element);\n",
              "        const docLink = document.createElement('div');\n",
              "        docLink.innerHTML = docLinkHtml;\n",
              "        element.appendChild(docLink);\n",
              "      }\n",
              "    </script>\n",
              "  </div>\n",
              "\n",
              "\n",
              "<div id=\"df-87821080-0106-4dd9-8d0d-33d657bd4898\">\n",
              "  <button class=\"colab-df-quickchart\" onclick=\"quickchart('df-87821080-0106-4dd9-8d0d-33d657bd4898')\"\n",
              "            title=\"Suggest charts\"\n",
              "            style=\"display:none;\">\n",
              "\n",
              "<svg xmlns=\"http://www.w3.org/2000/svg\" height=\"24px\"viewBox=\"0 0 24 24\"\n",
              "     width=\"24px\">\n",
              "    <g>\n",
              "        <path d=\"M19 3H5c-1.1 0-2 .9-2 2v14c0 1.1.9 2 2 2h14c1.1 0 2-.9 2-2V5c0-1.1-.9-2-2-2zM9 17H7v-7h2v7zm4 0h-2V7h2v10zm4 0h-2v-4h2v4z\"/>\n",
              "    </g>\n",
              "</svg>\n",
              "  </button>\n",
              "\n",
              "<style>\n",
              "  .colab-df-quickchart {\n",
              "      --bg-color: #E8F0FE;\n",
              "      --fill-color: #1967D2;\n",
              "      --hover-bg-color: #E2EBFA;\n",
              "      --hover-fill-color: #174EA6;\n",
              "      --disabled-fill-color: #AAA;\n",
              "      --disabled-bg-color: #DDD;\n",
              "  }\n",
              "\n",
              "  [theme=dark] .colab-df-quickchart {\n",
              "      --bg-color: #3B4455;\n",
              "      --fill-color: #D2E3FC;\n",
              "      --hover-bg-color: #434B5C;\n",
              "      --hover-fill-color: #FFFFFF;\n",
              "      --disabled-bg-color: #3B4455;\n",
              "      --disabled-fill-color: #666;\n",
              "  }\n",
              "\n",
              "  .colab-df-quickchart {\n",
              "    background-color: var(--bg-color);\n",
              "    border: none;\n",
              "    border-radius: 50%;\n",
              "    cursor: pointer;\n",
              "    display: none;\n",
              "    fill: var(--fill-color);\n",
              "    height: 32px;\n",
              "    padding: 0;\n",
              "    width: 32px;\n",
              "  }\n",
              "\n",
              "  .colab-df-quickchart:hover {\n",
              "    background-color: var(--hover-bg-color);\n",
              "    box-shadow: 0 1px 2px rgba(60, 64, 67, 0.3), 0 1px 3px 1px rgba(60, 64, 67, 0.15);\n",
              "    fill: var(--button-hover-fill-color);\n",
              "  }\n",
              "\n",
              "  .colab-df-quickchart-complete:disabled,\n",
              "  .colab-df-quickchart-complete:disabled:hover {\n",
              "    background-color: var(--disabled-bg-color);\n",
              "    fill: var(--disabled-fill-color);\n",
              "    box-shadow: none;\n",
              "  }\n",
              "\n",
              "  .colab-df-spinner {\n",
              "    border: 2px solid var(--fill-color);\n",
              "    border-color: transparent;\n",
              "    border-bottom-color: var(--fill-color);\n",
              "    animation:\n",
              "      spin 1s steps(1) infinite;\n",
              "  }\n",
              "\n",
              "  @keyframes spin {\n",
              "    0% {\n",
              "      border-color: transparent;\n",
              "      border-bottom-color: var(--fill-color);\n",
              "      border-left-color: var(--fill-color);\n",
              "    }\n",
              "    20% {\n",
              "      border-color: transparent;\n",
              "      border-left-color: var(--fill-color);\n",
              "      border-top-color: var(--fill-color);\n",
              "    }\n",
              "    30% {\n",
              "      border-color: transparent;\n",
              "      border-left-color: var(--fill-color);\n",
              "      border-top-color: var(--fill-color);\n",
              "      border-right-color: var(--fill-color);\n",
              "    }\n",
              "    40% {\n",
              "      border-color: transparent;\n",
              "      border-right-color: var(--fill-color);\n",
              "      border-top-color: var(--fill-color);\n",
              "    }\n",
              "    60% {\n",
              "      border-color: transparent;\n",
              "      border-right-color: var(--fill-color);\n",
              "    }\n",
              "    80% {\n",
              "      border-color: transparent;\n",
              "      border-right-color: var(--fill-color);\n",
              "      border-bottom-color: var(--fill-color);\n",
              "    }\n",
              "    90% {\n",
              "      border-color: transparent;\n",
              "      border-bottom-color: var(--fill-color);\n",
              "    }\n",
              "  }\n",
              "</style>\n",
              "\n",
              "  <script>\n",
              "    async function quickchart(key) {\n",
              "      const quickchartButtonEl =\n",
              "        document.querySelector('#' + key + ' button');\n",
              "      quickchartButtonEl.disabled = true;  // To prevent multiple clicks.\n",
              "      quickchartButtonEl.classList.add('colab-df-spinner');\n",
              "      try {\n",
              "        const charts = await google.colab.kernel.invokeFunction(\n",
              "            'suggestCharts', [key], {});\n",
              "      } catch (error) {\n",
              "        console.error('Error during call to suggestCharts:', error);\n",
              "      }\n",
              "      quickchartButtonEl.classList.remove('colab-df-spinner');\n",
              "      quickchartButtonEl.classList.add('colab-df-quickchart-complete');\n",
              "    }\n",
              "    (() => {\n",
              "      let quickchartButtonEl =\n",
              "        document.querySelector('#df-87821080-0106-4dd9-8d0d-33d657bd4898 button');\n",
              "      quickchartButtonEl.style.display =\n",
              "        google.colab.kernel.accessAllowed ? 'block' : 'none';\n",
              "    })();\n",
              "  </script>\n",
              "</div>\n",
              "\n",
              "    </div>\n",
              "  </div>\n"
            ],
            "application/vnd.google.colaboratory.intrinsic+json": {
              "type": "dataframe",
              "variable_name": "co_occurrence_df"
            }
          },
          "metadata": {},
          "execution_count": 30
        }
      ],
      "source": [
        "co_occurrence_matrix = detector.co_occurrence_count(train, train_idx_to_word, train_word_to_idx, window_size=10)\n",
        "co_occurrence_df = detector.co_occurrence_dataframe(co_occurrence_matrix, train_idx_to_word)\n",
        "co_occurrence_df.head()"
      ]
    },
    {
      "cell_type": "markdown",
      "metadata": {
        "id": "JBh5xZruKy_2"
      },
      "source": [
        "After computing the co-occurrence matrix we decided to combine the training set vocabulary with the GloVe vocabulary and generate the embedding vectors for the words in the training set that do not appear in the GloVe vocabulary. This is done to have a better coverage of the embeddings on the training set and to have a better performance of the model. The embeddings for the OOV tokens are generated using the co-occurrence matrix and the average of the embeddings of the most frequent words that co-occur with the OOV tokens."
      ]
    },
    {
      "cell_type": "code",
      "execution_count": 31,
      "metadata": {
        "colab": {
          "base_uri": "https://localhost:8080/"
        },
        "id": "fnNshkRb-bRF",
        "outputId": "3eab06b7-94c1-4b63-910e-898f67858b29"
      },
      "outputs": [
        {
          "output_type": "stream",
          "name": "stdout",
          "text": [
            "Saving vocab to data/vocab.json\n",
            "Vocab saved!\n"
          ]
        }
      ],
      "source": [
        "emb_model_augmented = detector.get_augmented_vocab(emb_model, train_words=train_word_listing, co_occurrence_df=co_occurrence_df, save=True)"
      ]
    },
    {
      "cell_type": "markdown",
      "metadata": {
        "id": "n03FoiSbKy_2"
      },
      "source": [
        "At this point, we can just create our embe"
      ]
    },
    {
      "cell_type": "code",
      "execution_count": 32,
      "metadata": {
        "id": "yRw9DQEq-bRG"
      },
      "outputs": [],
      "source": [
        "### Create the embeddings matrix\n",
        "#vocab_size = len(train_word_listing) + 2 # +2 for the UNK and PAD tokens\n",
        "\n",
        "#embedding_matrix = np.zeros((vocab_size, EMBEDDING_DIM), dtype=np.float32)\n",
        "#idx = 0\n",
        "#for word in tqdm(train_word_listing):\n",
        "#    embedding_matrix[idx] = emb_model_augmented.get_vector(word)\n",
        "#    idx += 1\n",
        "\n",
        "# We only add the UNK token to the embedding matrix since the PAD token is the vector of zeros and it is already in the matrix (np.zeros initialization)\n",
        "#embedding_matrix[idx] = emb_model_augmented.get_vector(detector.UNK_TOKEN)\n",
        "#embedding_matrix.shape"
      ]
    },
    {
      "cell_type": "code",
      "execution_count": 33,
      "metadata": {
        "colab": {
          "base_uri": "https://localhost:8080/"
        },
        "id": "ryp3ICueC7t3",
        "outputId": "567a87d3-1782-4929-9b61-16b5c73912a9"
      },
      "outputs": [
        {
          "output_type": "execute_result",
          "data": {
            "text/plain": [
              "(1194300, 50)"
            ]
          },
          "metadata": {},
          "execution_count": 33
        }
      ],
      "source": [
        "embedding_matrix = emb_model_augmented.vectors\n",
        "embedding_matrix.shape"
      ]
    },
    {
      "cell_type": "markdown",
      "metadata": {
        "id": "0UUVw8lx-bRG"
      },
      "source": [
        "# Task 4: Model definition\n",
        "\n",
        "* Baseline: Implement a Bidirectional LSTM with a Dense layer on top.\n",
        "* Model 1: add an additional LSTM layer to the baseline model."
      ]
    },
    {
      "cell_type": "markdown",
      "metadata": {
        "id": "xpU6TmVd-bRG"
      },
      "source": [
        "### Baseline: Implement a Bidirectional LSTM with a Dense layer on top"
      ]
    },
    {
      "cell_type": "code",
      "execution_count": 170,
      "metadata": {
        "id": "QZCO79JTKy_4"
      },
      "outputs": [],
      "source": [
        "class BaselineModel(torch.nn.Module):\n",
        "    def __init__(self, embedding_model, hidden_dim, output_dim: int = 1, lstm_layers: int = 1, dropout: float = 0.3):\n",
        "        super().__init__()\n",
        "\n",
        "        self.hidden_dim = hidden_dim\n",
        "        self.lstm_layers = lstm_layers\n",
        "        self.hidden_dim = hidden_dim\n",
        "\n",
        "        self.word_embeddings = torch.nn.Embedding.from_pretrained(\n",
        "            embeddings=torch.from_numpy(embedding_model.vectors),\n",
        "            freeze=True,\n",
        "            padding_idx=embedding_model.get_index(detector.PAD_TOKEN)\n",
        "        )\n",
        "        self.lstm = torch.nn.LSTM(input_size=embedding_model.vector_size, hidden_size=hidden_dim, bidirectional=True, num_layers=lstm_layers, batch_first=True)\n",
        "        self.fc = torch.nn.Linear(in_features=2 * hidden_dim, out_features=output_dim)\n",
        "        self.dropout = torch.nn.Dropout(dropout)\n",
        "\n",
        "    def forward(self, inputs):\n",
        "        out = self.word_embeddings(inputs)\n",
        "        out, _ = self.lstm(out)\n",
        "        out = self.dropout(out)\n",
        "        out = torch.mean(out, dim=1)  # Average pooling over the seq len\n",
        "        out = self.fc(out)\n",
        "        return out"
      ]
    },
    {
      "cell_type": "markdown",
      "metadata": {
        "id": "xLeJwOVBKy_4"
      },
      "source": [
        "# Task 5: Training and Evaluation\n",
        "\n",
        "* Train **all** models on the train set.\n",
        "* Evaluate **all** models on the validation set.\n",
        "* Compute metrics on the validation set.\n",
        "* Pick **at least** three seeds for robust estimation.\n",
        "* Pick the **best** performing model according to the observed validation set performance.\n",
        "* Evaluate your models using macro F1-score."
      ]
    },
    {
      "cell_type": "code",
      "execution_count": 171,
      "metadata": {
        "id": "LPzmHJYBKy_5"
      },
      "outputs": [],
      "source": [
        "train_dloader = detector.get_dataloader(data=train, embedding_model=emb_model_augmented, type='train', batch_size=BATCH_SIZE, shuffle=True)\n",
        "val_dloader = detector.get_dataloader(data=val, embedding_model=emb_model_augmented, type='val', batch_size=BATCH_SIZE, shuffle=True)\n",
        "test_dloader = detector.get_dataloader(data=test, embedding_model=emb_model_augmented, type='test', batch_size=BATCH_SIZE, shuffle=False)"
      ]
    },
    {
      "cell_type": "markdown",
      "metadata": {
        "id": "cBXBJcKKKy_5"
      },
      "source": [
        "# Baseline Model"
      ]
    },
    {
      "cell_type": "code",
      "execution_count": 187,
      "metadata": {
        "colab": {
          "base_uri": "https://localhost:8080/"
        },
        "id": "0VhF0XnbKy_5",
        "outputId": "d61e3439-4eee-43a1-cd6e-24450e34e41c"
      },
      "outputs": [
        {
          "output_type": "execute_result",
          "data": {
            "text/plain": [
              "BaselineModel(\n",
              "  (word_embeddings): Embedding(1194300, 50, padding_idx=1194299)\n",
              "  (lstm): LSTM(50, 128, batch_first=True, bidirectional=True)\n",
              "  (fc): Linear(in_features=256, out_features=2, bias=True)\n",
              "  (dropout): Dropout(p=0.3, inplace=False)\n",
              ")"
            ]
          },
          "metadata": {},
          "execution_count": 187
        }
      ],
      "source": [
        "baseline_model = BaselineModel(emb_model, hidden_dim=HIDDEN_DIM, output_dim=2, lstm_layers=1)\n",
        "baseline_model.to(device)"
      ]
    },
    {
      "cell_type": "code",
      "execution_count": 188,
      "metadata": {
        "id": "DOgESCV0Ky_5"
      },
      "outputs": [],
      "source": [
        "history = pd.DataFrame(columns=['model', 'epoch', 'train_loss', 'val_loss', 'train_acc', 'val_acc', 'learning_rate'])"
      ]
    },
    {
      "cell_type": "code",
      "execution_count": 189,
      "metadata": {
        "id": "6shXlZsvC7t5"
      },
      "outputs": [],
      "source": [
        "class_weights = compute_class_weight(class_weight='balanced', classes=np.unique(train['label']), y=train['label'])\n",
        "class_weights_tensor = torch.tensor(class_weights, dtype=torch.float32).to(device)\n",
        "neg_weight, pos_weight = class_weights_tensor"
      ]
    },
    {
      "cell_type": "code",
      "execution_count": 190,
      "metadata": {
        "id": "vGYiMqpVKy_6"
      },
      "outputs": [],
      "source": [
        "loss_function = torch.nn.CrossEntropyLoss(weight=class_weights_tensor)\n",
        "optimizer = torch.optim.AdamW(baseline_model.parameters(), lr=LEARNING_RATE, weight_decay=1e-6)\n",
        "scheduler = torch.optim.lr_scheduler.ReduceLROnPlateau(optimizer, mode='min', factor=0.5, patience=5)"
      ]
    },
    {
      "cell_type": "code",
      "execution_count": 191,
      "metadata": {
        "id": "x-ldfLZqKy_6"
      },
      "outputs": [],
      "source": [
        "def train_model(model: torch.nn.Module, training_data: torch.utils.data.DataLoader, validation_data: torch.utils.data.DataLoader, loss_fn: torch.nn.Module, optimizer: torch.optim.Optimizer, scheduler: torch.optim.lr_scheduler.ReduceLROnPlateau, num_epochs: int = 30, name: str = 'baseline_lstm', verbose: bool = True) -> torch.nn.Module:\n",
        "    # Initialize parameters of Early stopping\n",
        "    best_val_loss = np.inf\n",
        "    best_model = None\n",
        "    best_model_epoch = 0\n",
        "    best_f1_score = 0\n",
        "\n",
        "    # Train the model\n",
        "    for epoch in range(num_epochs):\n",
        "        # Initialize the training variables for each epoch\n",
        "        train_correct = 0\n",
        "        train_total = 0\n",
        "\n",
        "        # Set the model to training mode\n",
        "        model.train()\n",
        "        # Iterate over the training data in batches\n",
        "        for batch in training_data:\n",
        "            # Get the inputs and labels\n",
        "            sentences, labels = batch\n",
        "\n",
        "            # Move the inputs and labels to the device (GPU)\n",
        "            sentences = sentences.to(device)\n",
        "            labels = labels.to(device)  # Labels should be integers for CrossEntropyLoss\n",
        "\n",
        "            # Zero grad the optimizer\n",
        "            optimizer.zero_grad()\n",
        "\n",
        "            # Forward pass\n",
        "            output = model(sentences)\n",
        "\n",
        "            # Compute the loss\n",
        "            loss = loss_fn(output, labels)\n",
        "\n",
        "            # Backward pass\n",
        "            loss.backward()\n",
        "\n",
        "            # Adjust learning weights\n",
        "            optimizer.step()\n",
        "\n",
        "            # Compute the accuracy\n",
        "            predicted = torch.argmax(output, dim=1)\n",
        "            train_total += labels.size(0)\n",
        "            train_correct += (predicted == labels).sum().item()\n",
        "\n",
        "        # Validation phase\n",
        "        model.eval()\n",
        "        final_val_loss = 0\n",
        "        val_correct = 0\n",
        "        val_total = 0\n",
        "\n",
        "        predicted_arr = []\n",
        "        labels_arr = []\n",
        "\n",
        "        with torch.no_grad():\n",
        "            for batch in validation_data:\n",
        "                sentence, labels = batch\n",
        "                sentence = sentence.to(device)\n",
        "                labels = labels.to(device)\n",
        "\n",
        "                output = model(sentence)\n",
        "                val_loss = loss_fn(output, labels)\n",
        "\n",
        "                final_val_loss += val_loss.item()\n",
        "\n",
        "                # Apply sigmoid to logits before thresholding\n",
        "                predicted = torch.argmax(output, dim=1)\n",
        "\n",
        "                val_total += labels.size(0)\n",
        "                val_correct += (predicted == labels).sum().item()\n",
        "\n",
        "                # Store predictions and true labels\n",
        "                predicted_arr.append(predicted)\n",
        "                labels_arr.append(labels)\n",
        "\n",
        "        # Concatenate tensors\n",
        "        predicted_arr = torch.cat(predicted_arr, dim=0).cpu().numpy()\n",
        "        labels_arr = torch.cat(labels_arr, dim=0).cpu().numpy()\n",
        "\n",
        "        # Compute the macro F1 score\n",
        "        f1 = f1_score(y_true=labels_arr, y_pred=predicted_arr, average='macro')\n",
        "\n",
        "        # Update the learning rate\n",
        "        scheduler.step(final_val_loss)\n",
        "\n",
        "        # Early stopping\n",
        "        if final_val_loss < best_val_loss:\n",
        "            best_val_loss = final_val_loss\n",
        "            best_model = copy.deepcopy(model.state_dict())\n",
        "            best_model_epoch = epoch\n",
        "            best_f1_score = f1\n",
        "\n",
        "        if verbose:\n",
        "            print(f\"Epoch {epoch + 1}/{num_epochs}\\tLoss: {loss.item():.4f}\\tAcc: {train_correct / train_total:.4f}\\tVal Loss: {final_val_loss:.4f}\\tVal Acc: {val_correct / val_total:.4f}\\tmacro_f1: {f1:.4f}\\tlr: {scheduler.get_last_lr()[0]:.7f}\")\n",
        "\n",
        "        # Save the history\n",
        "        history.loc[len(history)] = [name, epoch + 1, loss.item(), final_val_loss, train_correct / train_total, val_correct / val_total, scheduler.get_last_lr()[0]]\n",
        "\n",
        "    # Restore the best model\n",
        "    model.load_state_dict(best_model)\n",
        "    print(f\"Best model found at epoch {best_model_epoch + 1} with validation loss: {best_val_loss:.4f} and f1 sore: {best_f1_score:.4f}\")\n",
        "\n",
        "    # Save the best model\n",
        "    torch.save(model.state_dict(), detector.MODEL_FOLDER / 'baseline_lstm.pth')\n",
        "\n",
        "    return model"
      ]
    },
    {
      "cell_type": "code",
      "execution_count": 192,
      "metadata": {
        "colab": {
          "base_uri": "https://localhost:8080/"
        },
        "id": "R7XSi-TkKy_7",
        "outputId": "ed8b6d6f-7d80-4ef7-867a-6cd974de0b89"
      },
      "outputs": [
        {
          "output_type": "stream",
          "name": "stdout",
          "text": [
            "Epoch 1/30\tLoss: 0.6937\tAcc: 0.6084\tVal Loss: 1.3834\tVal Acc: 0.6266\tmacro_f1: 0.5321\tlr: 0.0001000\n",
            "Epoch 2/30\tLoss: 0.6920\tAcc: 0.6206\tVal Loss: 1.3798\tVal Acc: 0.6646\tmacro_f1: 0.6428\tlr: 0.0001000\n",
            "Epoch 3/30\tLoss: 0.6905\tAcc: 0.6035\tVal Loss: 1.3760\tVal Acc: 0.5759\tmacro_f1: 0.5758\tlr: 0.0001000\n",
            "Epoch 4/30\tLoss: 0.6844\tAcc: 0.5690\tVal Loss: 1.3674\tVal Acc: 0.6076\tmacro_f1: 0.6035\tlr: 0.0001000\n",
            "Epoch 5/30\tLoss: 0.6910\tAcc: 0.5617\tVal Loss: 1.3559\tVal Acc: 0.6392\tmacro_f1: 0.6389\tlr: 0.0001000\n",
            "Epoch 6/30\tLoss: 0.6754\tAcc: 0.6007\tVal Loss: 1.3282\tVal Acc: 0.6266\tmacro_f1: 0.6262\tlr: 0.0001000\n",
            "Epoch 7/30\tLoss: 0.6647\tAcc: 0.5913\tVal Loss: 1.3084\tVal Acc: 0.6646\tmacro_f1: 0.6645\tlr: 0.0001000\n",
            "Epoch 8/30\tLoss: 0.6380\tAcc: 0.6359\tVal Loss: 1.2044\tVal Acc: 0.7152\tmacro_f1: 0.7090\tlr: 0.0001000\n",
            "Epoch 9/30\tLoss: 0.5740\tAcc: 0.6453\tVal Loss: 1.1088\tVal Acc: 0.7089\tmacro_f1: 0.7072\tlr: 0.0001000\n",
            "Epoch 10/30\tLoss: 0.5285\tAcc: 0.6491\tVal Loss: 1.1774\tVal Acc: 0.6835\tmacro_f1: 0.6827\tlr: 0.0001000\n",
            "Epoch 11/30\tLoss: 0.5703\tAcc: 0.6760\tVal Loss: 1.0977\tVal Acc: 0.7342\tmacro_f1: 0.7256\tlr: 0.0001000\n",
            "Epoch 12/30\tLoss: 0.6794\tAcc: 0.6965\tVal Loss: 1.1228\tVal Acc: 0.7405\tmacro_f1: 0.7237\tlr: 0.0001000\n",
            "Epoch 13/30\tLoss: 0.6328\tAcc: 0.6990\tVal Loss: 1.1601\tVal Acc: 0.7342\tmacro_f1: 0.7268\tlr: 0.0001000\n",
            "Epoch 14/30\tLoss: 0.6401\tAcc: 0.7066\tVal Loss: 0.9445\tVal Acc: 0.7532\tmacro_f1: 0.7419\tlr: 0.0001000\n",
            "Epoch 15/30\tLoss: 0.5530\tAcc: 0.7153\tVal Loss: 1.0197\tVal Acc: 0.7278\tmacro_f1: 0.7184\tlr: 0.0001000\n",
            "Epoch 16/30\tLoss: 0.5728\tAcc: 0.7105\tVal Loss: 1.0059\tVal Acc: 0.7405\tmacro_f1: 0.7255\tlr: 0.0001000\n",
            "Epoch 17/30\tLoss: 0.5496\tAcc: 0.7118\tVal Loss: 1.0747\tVal Acc: 0.7342\tmacro_f1: 0.7213\tlr: 0.0001000\n",
            "Epoch 18/30\tLoss: 0.6409\tAcc: 0.7261\tVal Loss: 1.0350\tVal Acc: 0.7468\tmacro_f1: 0.7386\tlr: 0.0001000\n",
            "Epoch 19/30\tLoss: 0.4614\tAcc: 0.7293\tVal Loss: 1.2298\tVal Acc: 0.7405\tmacro_f1: 0.7327\tlr: 0.0001000\n",
            "Epoch 20/30\tLoss: 0.5050\tAcc: 0.7282\tVal Loss: 1.0743\tVal Acc: 0.7532\tmacro_f1: 0.7404\tlr: 0.0000500\n",
            "Epoch 21/30\tLoss: 0.6027\tAcc: 0.7345\tVal Loss: 1.0409\tVal Acc: 0.7595\tmacro_f1: 0.7463\tlr: 0.0000500\n",
            "Epoch 22/30\tLoss: 0.7044\tAcc: 0.7425\tVal Loss: 0.9941\tVal Acc: 0.7468\tmacro_f1: 0.7386\tlr: 0.0000500\n",
            "Epoch 23/30\tLoss: 0.5899\tAcc: 0.7436\tVal Loss: 1.0538\tVal Acc: 0.7595\tmacro_f1: 0.7478\tlr: 0.0000500\n",
            "Epoch 24/30\tLoss: 0.6075\tAcc: 0.7390\tVal Loss: 0.9597\tVal Acc: 0.7658\tmacro_f1: 0.7564\tlr: 0.0000500\n",
            "Epoch 25/30\tLoss: 0.6674\tAcc: 0.7449\tVal Loss: 1.0126\tVal Acc: 0.7532\tmacro_f1: 0.7457\tlr: 0.0000500\n",
            "Epoch 26/30\tLoss: 0.5826\tAcc: 0.7467\tVal Loss: 1.1010\tVal Acc: 0.7468\tmacro_f1: 0.7398\tlr: 0.0000250\n",
            "Epoch 27/30\tLoss: 0.5142\tAcc: 0.7415\tVal Loss: 1.0760\tVal Acc: 0.7658\tmacro_f1: 0.7551\tlr: 0.0000250\n",
            "Epoch 28/30\tLoss: 0.5970\tAcc: 0.7463\tVal Loss: 1.0301\tVal Acc: 0.7468\tmacro_f1: 0.7398\tlr: 0.0000250\n",
            "Epoch 29/30\tLoss: 0.6108\tAcc: 0.7411\tVal Loss: 0.9435\tVal Acc: 0.7595\tmacro_f1: 0.7505\tlr: 0.0000250\n",
            "Epoch 30/30\tLoss: 0.6046\tAcc: 0.7401\tVal Loss: 1.0285\tVal Acc: 0.7722\tmacro_f1: 0.7611\tlr: 0.0000250\n",
            "Best model found at epoch 29 with validation loss: 0.9435 and f1 sore: 0.7505\n"
          ]
        }
      ],
      "source": [
        "history_baseline_model = train_model(baseline_model, train_dloader, val_dloader, loss_function, optimizer, scheduler, num_epochs=EPOCHS, name='baseline', verbose=True)"
      ]
    },
    {
      "cell_type": "code",
      "execution_count": 193,
      "metadata": {
        "colab": {
          "base_uri": "https://localhost:8080/",
          "height": 507
        },
        "id": "rjID-z0GKy_7",
        "outputId": "eb08d905-b4cb-4b07-fb55-c7519f7e9be0"
      },
      "outputs": [
        {
          "output_type": "display_data",
          "data": {
            "text/plain": [
              "<Figure size 1800x500 with 3 Axes>"
            ],
            "image/png": "[encoded data removed]"
          },
          "metadata": {}
        }
      ],
      "source": [
        "fig, axes = plt.subplots(1, 3, figsize=(18, 5))\n",
        "\n",
        "baseline_model_name = history['model'] == 'baseline'\n",
        "\n",
        "history[baseline_model_name].plot(x='epoch', y=['train_loss', 'val_loss'], title='Loss', ax=axes[0])\n",
        "history[baseline_model_name].plot(x='epoch', y=['train_acc', 'val_acc'], title='Accuracy', ax=axes[1])\n",
        "history[baseline_model_name].plot(x='epoch', y='learning_rate', title='Learning Rate', ax=axes[2], logy=True)\n",
        "\n",
        "plt.tight_layout()\n",
        "plt.show()"
      ]
    },
    {
      "cell_type": "code",
      "execution_count": 194,
      "metadata": {
        "colab": {
          "base_uri": "https://localhost:8080/"
        },
        "id": "RDczJU7uC7t6",
        "outputId": "9634aff7-5d98-476b-ff02-1223ece72bb8"
      },
      "outputs": [
        {
          "output_type": "execute_result",
          "data": {
            "text/plain": [
              "216504"
            ]
          },
          "metadata": {},
          "execution_count": 194
        }
      ],
      "source": [
        "with torch.no_grad():\n",
        "    torch.cuda.empty_cache()\n",
        "\n",
        "gc.collect()"
      ]
    },
    {
      "cell_type": "markdown",
      "metadata": {
        "id": "nS5EXPDeKy_7"
      },
      "source": [
        "# Model 1"
      ]
    },
    {
      "cell_type": "code",
      "execution_count": 198,
      "metadata": {
        "colab": {
          "base_uri": "https://localhost:8080/"
        },
        "id": "aRw48-ZsKy_8",
        "outputId": "0dbbc8dd-3910-497d-dafc-3d951d02edef"
      },
      "outputs": [
        {
          "output_type": "execute_result",
          "data": {
            "text/plain": [
              "BaselineModel(\n",
              "  (word_embeddings): Embedding(1194300, 50, padding_idx=1194299)\n",
              "  (lstm): LSTM(50, 128, num_layers=2, batch_first=True, bidirectional=True)\n",
              "  (fc): Linear(in_features=256, out_features=2, bias=True)\n",
              "  (dropout): Dropout(p=0.3, inplace=False)\n",
              ")"
            ]
          },
          "metadata": {},
          "execution_count": 198
        }
      ],
      "source": [
        "model1 = BaselineModel(emb_model_augmented, hidden_dim=HIDDEN_DIM, lstm_layers=2, output_dim=2)\n",
        "model1.to(device)"
      ]
    },
    {
      "cell_type": "code",
      "execution_count": 199,
      "metadata": {
        "id": "vXpnXKlpKy_8"
      },
      "outputs": [],
      "source": [
        "loss_function = torch.nn.CrossEntropyLoss(weight=class_weights_tensor)\n",
        "optimizer = torch.optim.AdamW(model1.parameters(), lr=LEARNING_RATE, weight_decay=1e-5)\n",
        "scheduler = torch.optim.lr_scheduler.ReduceLROnPlateau(optimizer, mode='min', factor=0.5, patience=5)"
      ]
    },
    {
      "cell_type": "code",
      "execution_count": 200,
      "metadata": {
        "colab": {
          "base_uri": "https://localhost:8080/"
        },
        "id": "nju7RDDEKy_8",
        "outputId": "3b28395f-66fd-4568-97ff-c931de1c631c"
      },
      "outputs": [
        {
          "output_type": "stream",
          "name": "stdout",
          "text": [
            "Epoch 1/50\tLoss: 0.6939\tAcc: 0.4822\tVal Loss: 1.3859\tVal Acc: 0.5696\tmacro_f1: 0.3629\tlr: 0.0001000\n",
            "Epoch 2/50\tLoss: 0.6952\tAcc: 0.5035\tVal Loss: 1.3778\tVal Acc: 0.4430\tmacro_f1: 0.3253\tlr: 0.0001000\n",
            "Epoch 3/50\tLoss: 0.6908\tAcc: 0.4979\tVal Loss: 1.3734\tVal Acc: 0.6076\tmacro_f1: 0.6066\tlr: 0.0001000\n",
            "Epoch 4/50\tLoss: 0.6805\tAcc: 0.6045\tVal Loss: 1.3515\tVal Acc: 0.6772\tmacro_f1: 0.6625\tlr: 0.0001000\n",
            "Epoch 5/50\tLoss: 0.6626\tAcc: 0.5892\tVal Loss: 1.2915\tVal Acc: 0.6266\tmacro_f1: 0.6240\tlr: 0.0001000\n",
            "Epoch 6/50\tLoss: 0.6328\tAcc: 0.6376\tVal Loss: 1.1854\tVal Acc: 0.7089\tmacro_f1: 0.6889\tlr: 0.0001000\n",
            "Epoch 7/50\tLoss: 0.7028\tAcc: 0.6749\tVal Loss: 1.0728\tVal Acc: 0.7468\tmacro_f1: 0.7386\tlr: 0.0001000\n",
            "Epoch 8/50\tLoss: 0.6154\tAcc: 0.6892\tVal Loss: 1.0283\tVal Acc: 0.7405\tmacro_f1: 0.7315\tlr: 0.0001000\n",
            "Epoch 9/50\tLoss: 0.6567\tAcc: 0.7094\tVal Loss: 1.1321\tVal Acc: 0.7468\tmacro_f1: 0.7295\tlr: 0.0001000\n",
            "Epoch 10/50\tLoss: 0.5679\tAcc: 0.7265\tVal Loss: 0.9426\tVal Acc: 0.7342\tmacro_f1: 0.7307\tlr: 0.0001000\n",
            "Epoch 11/50\tLoss: 0.5821\tAcc: 0.7268\tVal Loss: 1.0049\tVal Acc: 0.7532\tmacro_f1: 0.7495\tlr: 0.0001000\n",
            "Epoch 12/50\tLoss: 0.5352\tAcc: 0.7237\tVal Loss: 0.9683\tVal Acc: 0.7595\tmacro_f1: 0.7563\tlr: 0.0001000\n",
            "Epoch 13/50\tLoss: 0.6863\tAcc: 0.7268\tVal Loss: 1.1213\tVal Acc: 0.6962\tmacro_f1: 0.6962\tlr: 0.0001000\n",
            "Epoch 14/50\tLoss: 0.5684\tAcc: 0.7373\tVal Loss: 1.0842\tVal Acc: 0.7911\tmacro_f1: 0.7804\tlr: 0.0001000\n",
            "Epoch 15/50\tLoss: 0.5622\tAcc: 0.7502\tVal Loss: 1.0015\tVal Acc: 0.7658\tmacro_f1: 0.7616\tlr: 0.0001000\n",
            "Epoch 16/50\tLoss: 0.5019\tAcc: 0.7443\tVal Loss: 0.9647\tVal Acc: 0.7215\tmacro_f1: 0.7208\tlr: 0.0000500\n",
            "Epoch 17/50\tLoss: 0.4277\tAcc: 0.7397\tVal Loss: 0.9290\tVal Acc: 0.7278\tmacro_f1: 0.7265\tlr: 0.0000500\n",
            "Epoch 18/50\tLoss: 0.4956\tAcc: 0.7533\tVal Loss: 1.0444\tVal Acc: 0.7658\tmacro_f1: 0.7616\tlr: 0.0000500\n",
            "Epoch 19/50\tLoss: 0.5014\tAcc: 0.7463\tVal Loss: 0.9703\tVal Acc: 0.7658\tmacro_f1: 0.7616\tlr: 0.0000500\n",
            "Epoch 20/50\tLoss: 0.5540\tAcc: 0.7443\tVal Loss: 1.0676\tVal Acc: 0.7848\tmacro_f1: 0.7768\tlr: 0.0000500\n",
            "Epoch 21/50\tLoss: 0.5604\tAcc: 0.7470\tVal Loss: 1.0092\tVal Acc: 0.7595\tmacro_f1: 0.7556\tlr: 0.0000500\n",
            "Epoch 22/50\tLoss: 0.5316\tAcc: 0.7568\tVal Loss: 0.8885\tVal Acc: 0.7785\tmacro_f1: 0.7728\tlr: 0.0000500\n",
            "Epoch 23/50\tLoss: 0.6556\tAcc: 0.7554\tVal Loss: 1.0968\tVal Acc: 0.7342\tmacro_f1: 0.7326\tlr: 0.0000500\n",
            "Epoch 24/50\tLoss: 0.5952\tAcc: 0.7540\tVal Loss: 0.9635\tVal Acc: 0.7658\tmacro_f1: 0.7616\tlr: 0.0000500\n",
            "Epoch 25/50\tLoss: 0.4295\tAcc: 0.7540\tVal Loss: 1.2012\tVal Acc: 0.7658\tmacro_f1: 0.7616\tlr: 0.0000500\n",
            "Epoch 26/50\tLoss: 0.3955\tAcc: 0.7557\tVal Loss: 1.0143\tVal Acc: 0.7595\tmacro_f1: 0.7556\tlr: 0.0000500\n",
            "Epoch 27/50\tLoss: 0.4616\tAcc: 0.7578\tVal Loss: 0.8940\tVal Acc: 0.7658\tmacro_f1: 0.7608\tlr: 0.0000500\n",
            "Epoch 28/50\tLoss: 0.3602\tAcc: 0.7610\tVal Loss: 0.9933\tVal Acc: 0.7722\tmacro_f1: 0.7676\tlr: 0.0000250\n",
            "Epoch 29/50\tLoss: 0.4436\tAcc: 0.7571\tVal Loss: 1.0179\tVal Acc: 0.7658\tmacro_f1: 0.7616\tlr: 0.0000250\n",
            "Epoch 30/50\tLoss: 0.5340\tAcc: 0.7568\tVal Loss: 0.9975\tVal Acc: 0.7595\tmacro_f1: 0.7563\tlr: 0.0000250\n",
            "Epoch 31/50\tLoss: 0.5396\tAcc: 0.7582\tVal Loss: 1.0534\tVal Acc: 0.7532\tmacro_f1: 0.7503\tlr: 0.0000250\n",
            "Epoch 32/50\tLoss: 0.5515\tAcc: 0.7582\tVal Loss: 0.9241\tVal Acc: 0.7595\tmacro_f1: 0.7570\tlr: 0.0000250\n",
            "Epoch 33/50\tLoss: 0.4966\tAcc: 0.7592\tVal Loss: 1.1775\tVal Acc: 0.7595\tmacro_f1: 0.7570\tlr: 0.0000250\n",
            "Epoch 34/50\tLoss: 0.5315\tAcc: 0.7610\tVal Loss: 0.8953\tVal Acc: 0.7658\tmacro_f1: 0.7616\tlr: 0.0000125\n",
            "Epoch 35/50\tLoss: 0.4794\tAcc: 0.7578\tVal Loss: 1.0858\tVal Acc: 0.7658\tmacro_f1: 0.7624\tlr: 0.0000125\n",
            "Epoch 36/50\tLoss: 0.5659\tAcc: 0.7582\tVal Loss: 0.9416\tVal Acc: 0.7595\tmacro_f1: 0.7570\tlr: 0.0000125\n",
            "Epoch 37/50\tLoss: 0.6298\tAcc: 0.7631\tVal Loss: 0.9936\tVal Acc: 0.7658\tmacro_f1: 0.7616\tlr: 0.0000125\n",
            "Epoch 38/50\tLoss: 0.4007\tAcc: 0.7571\tVal Loss: 1.0312\tVal Acc: 0.7658\tmacro_f1: 0.7616\tlr: 0.0000125\n",
            "Epoch 39/50\tLoss: 0.5687\tAcc: 0.7624\tVal Loss: 1.1095\tVal Acc: 0.7658\tmacro_f1: 0.7637\tlr: 0.0000125\n",
            "Epoch 40/50\tLoss: 0.5320\tAcc: 0.7578\tVal Loss: 1.0535\tVal Acc: 0.7532\tmacro_f1: 0.7503\tlr: 0.0000063\n",
            "Epoch 41/50\tLoss: 0.5119\tAcc: 0.7589\tVal Loss: 0.9678\tVal Acc: 0.7532\tmacro_f1: 0.7503\tlr: 0.0000063\n",
            "Epoch 42/50\tLoss: 0.5749\tAcc: 0.7641\tVal Loss: 1.0313\tVal Acc: 0.7532\tmacro_f1: 0.7503\tlr: 0.0000063\n",
            "Epoch 43/50\tLoss: 0.4796\tAcc: 0.7596\tVal Loss: 0.8884\tVal Acc: 0.7532\tmacro_f1: 0.7503\tlr: 0.0000063\n",
            "Epoch 44/50\tLoss: 0.5079\tAcc: 0.7617\tVal Loss: 1.1979\tVal Acc: 0.7595\tmacro_f1: 0.7570\tlr: 0.0000063\n",
            "Epoch 45/50\tLoss: 0.3987\tAcc: 0.7589\tVal Loss: 1.1001\tVal Acc: 0.7532\tmacro_f1: 0.7503\tlr: 0.0000063\n",
            "Epoch 46/50\tLoss: 0.6421\tAcc: 0.7599\tVal Loss: 0.9644\tVal Acc: 0.7532\tmacro_f1: 0.7503\tlr: 0.0000063\n",
            "Epoch 47/50\tLoss: 0.5313\tAcc: 0.7596\tVal Loss: 1.1189\tVal Acc: 0.7532\tmacro_f1: 0.7503\tlr: 0.0000063\n",
            "Epoch 48/50\tLoss: 0.4711\tAcc: 0.7592\tVal Loss: 0.9957\tVal Acc: 0.7658\tmacro_f1: 0.7624\tlr: 0.0000063\n",
            "Epoch 49/50\tLoss: 0.5567\tAcc: 0.7613\tVal Loss: 1.0672\tVal Acc: 0.7595\tmacro_f1: 0.7570\tlr: 0.0000031\n",
            "Epoch 50/50\tLoss: 0.3924\tAcc: 0.7627\tVal Loss: 1.0269\tVal Acc: 0.7532\tmacro_f1: 0.7503\tlr: 0.0000031\n",
            "Best model found at epoch 43 with validation loss: 0.8884 and f1 sore: 0.7503\n"
          ]
        }
      ],
      "source": [
        "history_model1 = train_model(model1, train_dloader, val_dloader, loss_function, optimizer, scheduler, num_epochs=EPOCHS, name='model1', verbose=True)"
      ]
    },
    {
      "cell_type": "code",
      "execution_count": 201,
      "metadata": {
        "colab": {
          "base_uri": "https://localhost:8080/",
          "height": 507
        },
        "id": "WrHRmdGdKy_8",
        "outputId": "0d6ccbc6-094c-43f9-9cbf-68cdb2d51752"
      },
      "outputs": [
        {
          "output_type": "display_data",
          "data": {
            "text/plain": [
              "<Figure size 1800x500 with 3 Axes>"
            ],
            "image/png": "[encoded data removed]"
          },
          "metadata": {}
        }
      ],
      "source": [
        "fig, axes = plt.subplots(1, 3, figsize=(18, 5))\n",
        "\n",
        "baseline_model_name = history['model'] == 'model1'\n",
        "\n",
        "history[baseline_model_name].plot(x='epoch', y=['train_loss', 'val_loss'], title='Loss', ax=axes[0])\n",
        "history[baseline_model_name].plot(x='epoch', y=['train_acc', 'val_acc'], title='Accuracy', ax=axes[1])\n",
        "history[baseline_model_name].plot(x='epoch', y='learning_rate', title='Learning Rate', ax=axes[2], logy=True)\n",
        "\n",
        "plt.tight_layout()\n",
        "plt.show()"
      ]
    },
    {
      "cell_type": "code",
      "execution_count": 202,
      "metadata": {
        "colab": {
          "base_uri": "https://localhost:8080/"
        },
        "id": "ZvbJU5ZeC7t7",
        "outputId": "1ac1e65e-5718-40a4-b142-ef0d32326af3"
      },
      "outputs": [
        {
          "output_type": "execute_result",
          "data": {
            "text/plain": [
              "15513"
            ]
          },
          "metadata": {},
          "execution_count": 202
        }
      ],
      "source": [
        "with torch.no_grad():\n",
        "    torch.cuda.empty_cache()\n",
        "\n",
        "gc.collect()"
      ]
    },
    {
      "cell_type": "markdown",
      "metadata": {
        "id": "_849c_EG-bRK"
      },
      "source": [
        "# Task 6: Transformers\n",
        "\n",
        "https://huggingface.co/cardiffnlp/twitter-roberta-base-hate"
      ]
    },
    {
      "cell_type": "markdown",
      "metadata": {
        "id": "eAAOAuYAKy_9"
      },
      "source": [
        "1. **Load the Tokenizer and Model**\n",
        "\n",
        "2. **Preprocess the Dataset**:\n",
        "   You will need to preprocess your dataset to prepare it for input into the model. Tokenize your text data using the appropriate tokenizer and ensure it is formatted correctly.\n",
        "\n",
        "   **Note**: You have to use the plain text of the dataset and not the version that you tokenized before, as you need to tokenize the cleaned text obtained after the initial cleaning process.\n",
        "\n",
        "3. **Train the Model**:\n",
        "   Use the `Trainer` to train the model on your training data.\n",
        "\n",
        "4. **Evaluate the Model on the Test Set** using F1-macro."
      ]
    },
    {
      "cell_type": "code",
      "execution_count": 224,
      "metadata": {
        "colab": {
          "base_uri": "https://localhost:8080/"
        },
        "id": "bn7tGuv7C7t7",
        "outputId": "63d9a218-94cd-4b02-8c0f-76c9ddc5bf2a"
      },
      "outputs": [
        {
          "output_type": "execute_result",
          "data": {
            "text/plain": [
              "124"
            ]
          },
          "metadata": {},
          "execution_count": 224
        }
      ],
      "source": [
        "with torch.no_grad():\n",
        "    torch.cuda.empty_cache()\n",
        "\n",
        "gc.collect()"
      ]
    },
    {
      "cell_type": "code",
      "execution_count": 225,
      "metadata": {
        "id": "wmyoK7ToKy_9"
      },
      "outputs": [],
      "source": [
        "model_card = 'cardiffnlp/twitter-roberta-base-hate'\n",
        "\n",
        "tokenizer = AutoTokenizer.from_pretrained(model_card)"
      ]
    },
    {
      "cell_type": "code",
      "execution_count": 226,
      "metadata": {
        "id": "Xm9q59AUKy_-"
      },
      "outputs": [],
      "source": [
        "train_data = Dataset.from_pandas(train)\n",
        "val_data = Dataset.from_pandas(val)\n",
        "test_data = Dataset.from_pandas(test)"
      ]
    },
    {
      "cell_type": "code",
      "execution_count": 227,
      "metadata": {
        "id": "zUaTGLO3Ky_-"
      },
      "outputs": [],
      "source": [
        "def preprocess_text(texts):\n",
        "    return tokenizer(texts['tweet'], truncation=True)"
      ]
    },
    {
      "cell_type": "code",
      "execution_count": 228,
      "metadata": {
        "colab": {
          "base_uri": "https://localhost:8080/",
          "height": 130,
          "referenced_widgets": [
            "ad2fdbff9bb94a428d4d9bba26a9227a",
            "f3f07832d759492fbbbb8b122358421d",
            "d9f8ee15420a4fab9b2e458344c0393b",
            "3ac29ea09e5c4f8db9657e56a1d12a6c",
            "4312146943be4263a594c15a0df095a1",
            "e314abf17ead42158468f5d0847f25cd",
            "392b67ddfb28405997e480da9608c65f",
            "a678740f297846a9ba51343ef9acccb7",
            "a501948a177942118b9b9f0bdfdd92b6",
            "a360ce1b71c74c569d5d16b818e15d10",
            "ed24a4a107564712b5239f68fe8b807f",
            "14d960b7685f4c24af674b53167820c0",
            "14022f99a32c4f5eb2a60adde2157e2c",
            "e7ec1d78fc9349e780b4c67aef084c81",
            "76e3d0f5fad6467d8ecde4d8d2b28a73",
            "99ae46da3b984572a92a4031f36ec845",
            "d160fc03521b429e9c6a2f71978f5697",
            "0fd8d961f74940998a6dcadd9ca11020",
            "010af9ad50c342aa8ffd390913656783",
            "37f6e3a55fae4e89b226d65799c056ae",
            "dfb7f13e3f104a0292e083a58fa39623",
            "a0740bcd833f480cb5b80b66176ee355",
            "4c6bc25ec6fe43449db337905e28f7a8",
            "41913e5ec0fd471fb19467573ed0c4c8",
            "baec7636b03b400284fc84d2dd0f059f",
            "67a557cd7c8141a3a3e004703bc853df",
            "d17b118594574bdcae63d547485ee16b",
            "6164ba82b8ab4195bf77e0db1c3d4e54",
            "d92a05827a4f4617a01a029eebdb2e4b",
            "9b749ee0bea046a0bd2569f95dd3629e",
            "78395c4346574282b7b3e7dfaca0f4ee",
            "8df32711e7c340ccbf3d92d65f981421",
            "dcaa7a024ddb4c19b25b6ad837e8f278"
          ]
        },
        "id": "9iUuHtPkKy_-",
        "outputId": "4343d55e-6735-4572-8e98-dbee19645da9"
      },
      "outputs": [
        {
          "output_type": "display_data",
          "data": {
            "text/plain": [
              "Map:   0%|          | 0/2870 [00:00<?, ? examples/s]"
            ],
            "application/vnd.jupyter.widget-view+json": {
              "version_major": 2,
              "version_minor": 0,
              "model_id": "ad2fdbff9bb94a428d4d9bba26a9227a"
            }
          },
          "metadata": {}
        },
        {
          "output_type": "stream",
          "name": "stderr",
          "text": [
            "Asking to truncate to max_length but no maximum length is provided and the model has no predefined maximum length. Default to no truncation.\n"
          ]
        },
        {
          "output_type": "display_data",
          "data": {
            "text/plain": [
              "Map:   0%|          | 0/158 [00:00<?, ? examples/s]"
            ],
            "application/vnd.jupyter.widget-view+json": {
              "version_major": 2,
              "version_minor": 0,
              "model_id": "14d960b7685f4c24af674b53167820c0"
            }
          },
          "metadata": {}
        },
        {
          "output_type": "display_data",
          "data": {
            "text/plain": [
              "Map:   0%|          | 0/286 [00:00<?, ? examples/s]"
            ],
            "application/vnd.jupyter.widget-view+json": {
              "version_major": 2,
              "version_minor": 0,
              "model_id": "4c6bc25ec6fe43449db337905e28f7a8"
            }
          },
          "metadata": {}
        }
      ],
      "source": [
        "train_data = train_data.map(preprocess_text, batched=True)\n",
        "val_data = val_data.map(preprocess_text, batched=True)\n",
        "test_data = test_data.map(preprocess_text, batched=True)"
      ]
    },
    {
      "cell_type": "code",
      "execution_count": 229,
      "metadata": {
        "colab": {
          "base_uri": "https://localhost:8080/"
        },
        "id": "ul9uJW1NKy__",
        "outputId": "eeed6c9e-68bc-4c28-cf0f-88ab8f928f01"
      },
      "outputs": [
        {
          "output_type": "stream",
          "name": "stdout",
          "text": [
            "Dataset({\n",
            "    features: ['id_EXIST', 'lang', 'tweet', 'label', '__index_level_0__', 'input_ids', 'attention_mask'],\n",
            "    num_rows: 2870\n",
            "})\n",
            "Dataset({\n",
            "    features: ['id_EXIST', 'lang', 'tweet', 'label', '__index_level_0__', 'input_ids', 'attention_mask'],\n",
            "    num_rows: 286\n",
            "})\n"
          ]
        }
      ],
      "source": [
        "print(train_data)\n",
        "print(test_data)"
      ]
    },
    {
      "cell_type": "code",
      "execution_count": 230,
      "metadata": {
        "colab": {
          "base_uri": "https://localhost:8080/"
        },
        "id": "A9KE0IjCKy__",
        "outputId": "abac0cbc-10e4-4209-d8b0-fb4bbd7c5273"
      },
      "outputs": [
        {
          "output_type": "stream",
          "name": "stdout",
          "text": [
            "<user> i get it <repeat> kind of <number> of woman are going after about <number> of men and ignoring the rest according to statistic of <number> dating apps so that s a pain point for some men but is hating woman really a main component to being an incel and what s the difference between mgtow and incel\n",
            "\n",
            "\n",
            "<s><user> i get it <repeat> kind of <number> of woman are going after about <number> of men and ignoring the rest according to statistic of <number> dating apps so that s a pain point for some men but is hating woman really a main component to being an incel and what s the difference between mgtow and incel</s>\n"
          ]
        }
      ],
      "source": [
        "original_text = train_data['tweet'][50]\n",
        "decoded_text = tokenizer.decode(train_data['input_ids'][50])\n",
        "print(original_text)\n",
        "print()\n",
        "print()\n",
        "print(decoded_text)"
      ]
    },
    {
      "cell_type": "code",
      "execution_count": 231,
      "metadata": {
        "id": "r8XaSgBQKy__"
      },
      "outputs": [],
      "source": [
        "data_collator = DataCollatorWithPadding(tokenizer=tokenizer)"
      ]
    },
    {
      "cell_type": "code",
      "execution_count": 232,
      "metadata": {
        "id": "UirlsPDnKy__"
      },
      "outputs": [],
      "source": [
        "model = AutoModelForSequenceClassification.from_pretrained(model_card,\n",
        "                                                           num_labels=2,\n",
        "                                                           id2label={0: 'NEG', 1: 'POS'},\n",
        "                                                           label2id={'NEG': 0, 'POS': 1})"
      ]
    },
    {
      "cell_type": "code",
      "execution_count": 233,
      "metadata": {
        "colab": {
          "base_uri": "https://localhost:8080/"
        },
        "id": "CL2HAsspKzAA",
        "outputId": "5c7d15ce-e7ef-4d40-da95-8d594ac1e932"
      },
      "outputs": [
        {
          "output_type": "stream",
          "name": "stdout",
          "text": [
            "RobertaForSequenceClassification(\n",
            "  (roberta): RobertaModel(\n",
            "    (embeddings): RobertaEmbeddings(\n",
            "      (word_embeddings): Embedding(50265, 768, padding_idx=1)\n",
            "      (position_embeddings): Embedding(514, 768, padding_idx=1)\n",
            "      (token_type_embeddings): Embedding(1, 768)\n",
            "      (LayerNorm): LayerNorm((768,), eps=1e-05, elementwise_affine=True)\n",
            "      (dropout): Dropout(p=0.1, inplace=False)\n",
            "    )\n",
            "    (encoder): RobertaEncoder(\n",
            "      (layer): ModuleList(\n",
            "        (0-11): 12 x RobertaLayer(\n",
            "          (attention): RobertaAttention(\n",
            "            (self): RobertaSdpaSelfAttention(\n",
            "              (query): Linear(in_features=768, out_features=768, bias=True)\n",
            "              (key): Linear(in_features=768, out_features=768, bias=True)\n",
            "              (value): Linear(in_features=768, out_features=768, bias=True)\n",
            "              (dropout): Dropout(p=0.1, inplace=False)\n",
            "            )\n",
            "            (output): RobertaSelfOutput(\n",
            "              (dense): Linear(in_features=768, out_features=768, bias=True)\n",
            "              (LayerNorm): LayerNorm((768,), eps=1e-05, elementwise_affine=True)\n",
            "              (dropout): Dropout(p=0.1, inplace=False)\n",
            "            )\n",
            "          )\n",
            "          (intermediate): RobertaIntermediate(\n",
            "            (dense): Linear(in_features=768, out_features=3072, bias=True)\n",
            "            (intermediate_act_fn): GELUActivation()\n",
            "          )\n",
            "          (output): RobertaOutput(\n",
            "            (dense): Linear(in_features=3072, out_features=768, bias=True)\n",
            "            (LayerNorm): LayerNorm((768,), eps=1e-05, elementwise_affine=True)\n",
            "            (dropout): Dropout(p=0.1, inplace=False)\n",
            "          )\n",
            "        )\n",
            "      )\n",
            "    )\n",
            "  )\n",
            "  (classifier): RobertaClassificationHead(\n",
            "    (dense): Linear(in_features=768, out_features=768, bias=True)\n",
            "    (dropout): Dropout(p=0.1, inplace=False)\n",
            "    (out_proj): Linear(in_features=768, out_features=2, bias=True)\n",
            "  )\n",
            ")\n"
          ]
        }
      ],
      "source": [
        "print(model)"
      ]
    },
    {
      "cell_type": "code",
      "execution_count": 234,
      "metadata": {
        "id": "vIGH8YkjKzAA"
      },
      "outputs": [],
      "source": [
        "acc_metric = evaluate.load('accuracy')\n",
        "f1_metric = evaluate.load('f1')\n",
        "\n",
        "def compute_metrics(output_info):\n",
        "    predictions, labels = output_info\n",
        "    predictions = np.argmax(predictions, axis=-1)\n",
        "\n",
        "    f1 = f1_metric.compute(predictions=predictions, references=labels, average='macro')\n",
        "    acc = acc_metric.compute(predictions=predictions, references=labels)\n",
        "    return {**f1, **acc}"
      ]
    },
    {
      "cell_type": "code",
      "execution_count": 235,
      "metadata": {
        "id": "SsahfUD4KzAA"
      },
      "outputs": [],
      "source": [
        "training_args = TrainingArguments(\n",
        "    output_dir=\"models\",                 # where to save model\n",
        "    learning_rate=5e-6,\n",
        "    per_device_train_batch_size=BATCH_SIZE,         # accelerate defines distributed training\n",
        "    per_device_eval_batch_size=BATCH_SIZE,\n",
        "    num_train_epochs=10,\n",
        "    weight_decay=1e-5,\n",
        "    eval_strategy=\"epoch\",           # when to report evaluation metrics/losses\n",
        "    save_strategy=\"epoch\",                 # when to save checkpoint\n",
        "    load_best_model_at_end=True,\n",
        "    report_to='none',                    # disabling wandb (default)\n",
        "    seed=detector.SEED,\n",
        "    data_seed=detector.SEED,\n",
        ")"
      ]
    },
    {
      "cell_type": "markdown",
      "metadata": {
        "id": "tpCUtCq0C7t9"
      },
      "source": [
        "Since we know that there is a slightly imbalance in the dataset labels, instead of using the default Trainer class of HuggingFace, we can write a custom class inheriting from the Trainer class and override the `compute_loss` method to compute the loss with the class weights computed from the dataset labels. In this way the loss function will take into account the imbalance in the dataset labels and will give more importance to the minority class. The impact of this change is that the F1 and accuracy scores will be more similar to each other since the model will be trained to give more importance to the minority class w.r.t. the majority class."
      ]
    },
    {
      "cell_type": "code",
      "execution_count": 236,
      "metadata": {
        "id": "Fi3PKUPbC7t9"
      },
      "outputs": [],
      "source": [
        "# Taken from https://github.com/huggingface/transformers/blob/main/src/transformers/trainer.py#L3700 (with some minor changes removing useless parts)\n",
        "class CustomTrainer(Trainer):\n",
        "    def __init__(self, class_weights, *args, **kwargs):\n",
        "        super().__init__(*args, **kwargs)\n",
        "        # You pass the class weights when instantiating the Trainer\n",
        "        self.class_weights = class_weights\n",
        "\n",
        "    def compute_loss(self, model, inputs, return_outputs=False, num_items_in_batch=None):\n",
        "        if self.label_smoother is not None and \"labels\" in inputs:\n",
        "            labels = inputs.pop(\"labels\")\n",
        "        else:\n",
        "            labels = None\n",
        "        outputs = model(**inputs)\n",
        "        # Save past state if it exists\n",
        "        # TODO: this needs to be fixed and made cleaner later.\n",
        "        if self.args.past_index >= 0:\n",
        "            self._past = outputs[self.args.past_index]\n",
        "\n",
        "        if labels is not None:\n",
        "            loss = self.label_smoother(outputs, labels)\n",
        "        else:\n",
        "            # We don't use .loss here since the model may return tuples instead of ModelOutput.\n",
        "\n",
        "            # Do not\n",
        "            # loss = outputs[\"loss\"] if isinstance(outputs, dict) else outputs[0]\n",
        "            logits = outputs.get('logits')\n",
        "            criterion = torch.nn.CrossEntropyLoss(weight=self.class_weights)\n",
        "            loss = criterion(logits, inputs['labels'])\n",
        "\n",
        "        return (loss, outputs) if return_outputs else loss"
      ]
    },
    {
      "cell_type": "code",
      "execution_count": 237,
      "metadata": {
        "id": "FthvNMvOKzAA",
        "colab": {
          "base_uri": "https://localhost:8080/",
          "height": 391
        },
        "outputId": "c95c28ec-d486-4725-e168-b1150a28f391"
      },
      "outputs": [
        {
          "output_type": "error",
          "ename": "OutOfMemoryError",
          "evalue": "CUDA out of memory. Tried to allocate 20.00 MiB. GPU 0 has a total capacity of 14.75 GiB of which 5.06 MiB is free. Process 285546 has 14.74 GiB memory in use. Of the allocated memory 14.53 GiB is allocated by PyTorch, and 28.85 MiB is reserved by PyTorch but unallocated. If reserved but unallocated memory is large try setting PYTORCH_CUDA_ALLOC_CONF=expandable_segments:True to avoid fragmentation.  See documentation for Memory Management  (https://pytorch.org/docs/stable/notes/cuda.html#environment-variables)",
          "traceback": [
            "\u001b[0;31m---------------------------------------------------------------------------\u001b[0m",
            "\u001b[0;31mOutOfMemoryError\u001b[0m                          Traceback (most recent call last)",
            "\u001b[0;32m<ipython-input-237-c39208f12a85>\u001b[0m in \u001b[0;36m<cell line: 1>\u001b[0;34m()\u001b[0m\n\u001b[0;32m----> 1\u001b[0;31m trainer = CustomTrainer(\n\u001b[0m\u001b[1;32m      2\u001b[0m     \u001b[0mmodel\u001b[0m\u001b[0;34m=\u001b[0m\u001b[0mmodel\u001b[0m\u001b[0;34m,\u001b[0m\u001b[0;34m\u001b[0m\u001b[0;34m\u001b[0m\u001b[0m\n\u001b[1;32m      3\u001b[0m     \u001b[0margs\u001b[0m\u001b[0;34m=\u001b[0m\u001b[0mtraining_args\u001b[0m\u001b[0;34m,\u001b[0m\u001b[0;34m\u001b[0m\u001b[0;34m\u001b[0m\u001b[0m\n\u001b[1;32m      4\u001b[0m     \u001b[0mtrain_dataset\u001b[0m\u001b[0;34m=\u001b[0m\u001b[0mtrain_data\u001b[0m\u001b[0;34m,\u001b[0m\u001b[0;34m\u001b[0m\u001b[0;34m\u001b[0m\u001b[0m\n\u001b[1;32m      5\u001b[0m     \u001b[0meval_dataset\u001b[0m\u001b[0;34m=\u001b[0m\u001b[0mtest_data\u001b[0m\u001b[0;34m,\u001b[0m\u001b[0;34m\u001b[0m\u001b[0;34m\u001b[0m\u001b[0m\n",
            "\u001b[0;32m<ipython-input-236-1c41f5964a0e>\u001b[0m in \u001b[0;36m__init__\u001b[0;34m(self, class_weights, *args, **kwargs)\u001b[0m\n\u001b[1;32m      2\u001b[0m \u001b[0;32mclass\u001b[0m \u001b[0mCustomTrainer\u001b[0m\u001b[0;34m(\u001b[0m\u001b[0mTrainer\u001b[0m\u001b[0;34m)\u001b[0m\u001b[0;34m:\u001b[0m\u001b[0;34m\u001b[0m\u001b[0;34m\u001b[0m\u001b[0m\n\u001b[1;32m      3\u001b[0m     \u001b[0;32mdef\u001b[0m \u001b[0m__init__\u001b[0m\u001b[0;34m(\u001b[0m\u001b[0mself\u001b[0m\u001b[0;34m,\u001b[0m \u001b[0mclass_weights\u001b[0m\u001b[0;34m,\u001b[0m \u001b[0;34m*\u001b[0m\u001b[0margs\u001b[0m\u001b[0;34m,\u001b[0m \u001b[0;34m**\u001b[0m\u001b[0mkwargs\u001b[0m\u001b[0;34m)\u001b[0m\u001b[0;34m:\u001b[0m\u001b[0;34m\u001b[0m\u001b[0;34m\u001b[0m\u001b[0m\n\u001b[0;32m----> 4\u001b[0;31m         \u001b[0msuper\u001b[0m\u001b[0;34m(\u001b[0m\u001b[0;34m)\u001b[0m\u001b[0;34m.\u001b[0m\u001b[0m__init__\u001b[0m\u001b[0;34m(\u001b[0m\u001b[0;34m*\u001b[0m\u001b[0margs\u001b[0m\u001b[0;34m,\u001b[0m \u001b[0;34m**\u001b[0m\u001b[0mkwargs\u001b[0m\u001b[0;34m)\u001b[0m\u001b[0;34m\u001b[0m\u001b[0;34m\u001b[0m\u001b[0m\n\u001b[0m\u001b[1;32m      5\u001b[0m         \u001b[0;31m# You pass the class weights when instantiating the Trainer\u001b[0m\u001b[0;34m\u001b[0m\u001b[0;34m\u001b[0m\u001b[0m\n\u001b[1;32m      6\u001b[0m         \u001b[0mself\u001b[0m\u001b[0;34m.\u001b[0m\u001b[0mclass_weights\u001b[0m \u001b[0;34m=\u001b[0m \u001b[0mclass_weights\u001b[0m\u001b[0;34m\u001b[0m\u001b[0;34m\u001b[0m\u001b[0m\n",
            "\u001b[0;32m/usr/local/lib/python3.10/dist-packages/transformers/utils/deprecation.py\u001b[0m in \u001b[0;36mwrapped_func\u001b[0;34m(*args, **kwargs)\u001b[0m\n\u001b[1;32m    163\u001b[0m                 \u001b[0mwarnings\u001b[0m\u001b[0;34m.\u001b[0m\u001b[0mwarn\u001b[0m\u001b[0;34m(\u001b[0m\u001b[0mmessage\u001b[0m\u001b[0;34m,\u001b[0m \u001b[0mFutureWarning\u001b[0m\u001b[0;34m,\u001b[0m \u001b[0mstacklevel\u001b[0m\u001b[0;34m=\u001b[0m\u001b[0;36m2\u001b[0m\u001b[0;34m)\u001b[0m\u001b[0;34m\u001b[0m\u001b[0;34m\u001b[0m\u001b[0m\n\u001b[1;32m    164\u001b[0m \u001b[0;34m\u001b[0m\u001b[0m\n\u001b[0;32m--> 165\u001b[0;31m             \u001b[0;32mreturn\u001b[0m \u001b[0mfunc\u001b[0m\u001b[0;34m(\u001b[0m\u001b[0;34m*\u001b[0m\u001b[0margs\u001b[0m\u001b[0;34m,\u001b[0m \u001b[0;34m**\u001b[0m\u001b[0mkwargs\u001b[0m\u001b[0;34m)\u001b[0m\u001b[0;34m\u001b[0m\u001b[0;34m\u001b[0m\u001b[0m\n\u001b[0m\u001b[1;32m    166\u001b[0m \u001b[0;34m\u001b[0m\u001b[0m\n\u001b[1;32m    167\u001b[0m         \u001b[0;32mreturn\u001b[0m \u001b[0mwrapped_func\u001b[0m\u001b[0;34m\u001b[0m\u001b[0;34m\u001b[0m\u001b[0m\n",
            "\u001b[0;32m/usr/local/lib/python3.10/dist-packages/transformers/trainer.py\u001b[0m in \u001b[0;36m__init__\u001b[0;34m(self, model, args, data_collator, train_dataset, eval_dataset, processing_class, model_init, compute_loss_func, compute_metrics, callbacks, optimizers, preprocess_logits_for_metrics)\u001b[0m\n\u001b[1;32m    572\u001b[0m             \u001b[0;32mand\u001b[0m \u001b[0;32mnot\u001b[0m \u001b[0mgetattr\u001b[0m\u001b[0;34m(\u001b[0m\u001b[0mmodel\u001b[0m\u001b[0;34m,\u001b[0m \u001b[0;34m\"quantization_method\"\u001b[0m\u001b[0;34m,\u001b[0m \u001b[0;32mNone\u001b[0m\u001b[0;34m)\u001b[0m \u001b[0;34m==\u001b[0m \u001b[0mQuantizationMethod\u001b[0m\u001b[0;34m.\u001b[0m\u001b[0mBITS_AND_BYTES\u001b[0m\u001b[0;34m\u001b[0m\u001b[0;34m\u001b[0m\u001b[0m\n\u001b[1;32m    573\u001b[0m         ):\n\u001b[0;32m--> 574\u001b[0;31m             \u001b[0mself\u001b[0m\u001b[0;34m.\u001b[0m\u001b[0m_move_model_to_device\u001b[0m\u001b[0;34m(\u001b[0m\u001b[0mmodel\u001b[0m\u001b[0;34m,\u001b[0m \u001b[0margs\u001b[0m\u001b[0;34m.\u001b[0m\u001b[0mdevice\u001b[0m\u001b[0;34m)\u001b[0m\u001b[0;34m\u001b[0m\u001b[0;34m\u001b[0m\u001b[0m\n\u001b[0m\u001b[1;32m    575\u001b[0m \u001b[0;34m\u001b[0m\u001b[0m\n\u001b[1;32m    576\u001b[0m         \u001b[0;31m# Force n_gpu to 1 to avoid DataParallel as MP will manage the GPUs\u001b[0m\u001b[0;34m\u001b[0m\u001b[0;34m\u001b[0m\u001b[0m\n",
            "\u001b[0;32m/usr/local/lib/python3.10/dist-packages/transformers/trainer.py\u001b[0m in \u001b[0;36m_move_model_to_device\u001b[0;34m(self, model, device)\u001b[0m\n\u001b[1;32m    844\u001b[0m \u001b[0;34m\u001b[0m\u001b[0m\n\u001b[1;32m    845\u001b[0m     \u001b[0;32mdef\u001b[0m \u001b[0m_move_model_to_device\u001b[0m\u001b[0;34m(\u001b[0m\u001b[0mself\u001b[0m\u001b[0;34m,\u001b[0m \u001b[0mmodel\u001b[0m\u001b[0;34m,\u001b[0m \u001b[0mdevice\u001b[0m\u001b[0;34m)\u001b[0m\u001b[0;34m:\u001b[0m\u001b[0;34m\u001b[0m\u001b[0;34m\u001b[0m\u001b[0m\n\u001b[0;32m--> 846\u001b[0;31m         \u001b[0mmodel\u001b[0m \u001b[0;34m=\u001b[0m \u001b[0mmodel\u001b[0m\u001b[0;34m.\u001b[0m\u001b[0mto\u001b[0m\u001b[0;34m(\u001b[0m\u001b[0mdevice\u001b[0m\u001b[0;34m)\u001b[0m\u001b[0;34m\u001b[0m\u001b[0;34m\u001b[0m\u001b[0m\n\u001b[0m\u001b[1;32m    847\u001b[0m         \u001b[0;31m# Moving a model to an XLA device disconnects the tied weights, so we have to retie them.\u001b[0m\u001b[0;34m\u001b[0m\u001b[0;34m\u001b[0m\u001b[0m\n\u001b[1;32m    848\u001b[0m         \u001b[0;32mif\u001b[0m \u001b[0mself\u001b[0m\u001b[0;34m.\u001b[0m\u001b[0margs\u001b[0m\u001b[0;34m.\u001b[0m\u001b[0mparallel_mode\u001b[0m \u001b[0;34m==\u001b[0m \u001b[0mParallelMode\u001b[0m\u001b[0;34m.\u001b[0m\u001b[0mTPU\u001b[0m \u001b[0;32mand\u001b[0m \u001b[0mhasattr\u001b[0m\u001b[0;34m(\u001b[0m\u001b[0mmodel\u001b[0m\u001b[0;34m,\u001b[0m \u001b[0;34m\"tie_weights\"\u001b[0m\u001b[0;34m)\u001b[0m\u001b[0;34m:\u001b[0m\u001b[0;34m\u001b[0m\u001b[0;34m\u001b[0m\u001b[0m\n",
            "\u001b[0;32m/usr/local/lib/python3.10/dist-packages/transformers/modeling_utils.py\u001b[0m in \u001b[0;36mto\u001b[0;34m(self, *args, **kwargs)\u001b[0m\n\u001b[1;32m   3155\u001b[0m                     \u001b[0;34m\" `dtype` by passing the correct `torch_dtype` argument.\"\u001b[0m\u001b[0;34m\u001b[0m\u001b[0;34m\u001b[0m\u001b[0m\n\u001b[1;32m   3156\u001b[0m                 )\n\u001b[0;32m-> 3157\u001b[0;31m         \u001b[0;32mreturn\u001b[0m \u001b[0msuper\u001b[0m\u001b[0;34m(\u001b[0m\u001b[0;34m)\u001b[0m\u001b[0;34m.\u001b[0m\u001b[0mto\u001b[0m\u001b[0;34m(\u001b[0m\u001b[0;34m*\u001b[0m\u001b[0margs\u001b[0m\u001b[0;34m,\u001b[0m \u001b[0;34m**\u001b[0m\u001b[0mkwargs\u001b[0m\u001b[0;34m)\u001b[0m\u001b[0;34m\u001b[0m\u001b[0;34m\u001b[0m\u001b[0m\n\u001b[0m\u001b[1;32m   3158\u001b[0m \u001b[0;34m\u001b[0m\u001b[0m\n\u001b[1;32m   3159\u001b[0m     \u001b[0;32mdef\u001b[0m \u001b[0mhalf\u001b[0m\u001b[0;34m(\u001b[0m\u001b[0mself\u001b[0m\u001b[0;34m,\u001b[0m \u001b[0;34m*\u001b[0m\u001b[0margs\u001b[0m\u001b[0;34m)\u001b[0m\u001b[0;34m:\u001b[0m\u001b[0;34m\u001b[0m\u001b[0;34m\u001b[0m\u001b[0m\n",
            "\u001b[0;32m/usr/local/lib/python3.10/dist-packages/torch/nn/modules/module.py\u001b[0m in \u001b[0;36mto\u001b[0;34m(self, *args, **kwargs)\u001b[0m\n\u001b[1;32m   1338\u001b[0m                     \u001b[0;32mraise\u001b[0m\u001b[0;34m\u001b[0m\u001b[0;34m\u001b[0m\u001b[0m\n\u001b[1;32m   1339\u001b[0m \u001b[0;34m\u001b[0m\u001b[0m\n\u001b[0;32m-> 1340\u001b[0;31m         \u001b[0;32mreturn\u001b[0m \u001b[0mself\u001b[0m\u001b[0;34m.\u001b[0m\u001b[0m_apply\u001b[0m\u001b[0;34m(\u001b[0m\u001b[0mconvert\u001b[0m\u001b[0;34m)\u001b[0m\u001b[0;34m\u001b[0m\u001b[0;34m\u001b[0m\u001b[0m\n\u001b[0m\u001b[1;32m   1341\u001b[0m \u001b[0;34m\u001b[0m\u001b[0m\n\u001b[1;32m   1342\u001b[0m     def register_full_backward_pre_hook(\n",
            "\u001b[0;32m/usr/local/lib/python3.10/dist-packages/torch/nn/modules/module.py\u001b[0m in \u001b[0;36m_apply\u001b[0;34m(self, fn, recurse)\u001b[0m\n\u001b[1;32m    898\u001b[0m         \u001b[0;32mif\u001b[0m \u001b[0mrecurse\u001b[0m\u001b[0;34m:\u001b[0m\u001b[0;34m\u001b[0m\u001b[0;34m\u001b[0m\u001b[0m\n\u001b[1;32m    899\u001b[0m             \u001b[0;32mfor\u001b[0m \u001b[0mmodule\u001b[0m \u001b[0;32min\u001b[0m \u001b[0mself\u001b[0m\u001b[0;34m.\u001b[0m\u001b[0mchildren\u001b[0m\u001b[0;34m(\u001b[0m\u001b[0;34m)\u001b[0m\u001b[0;34m:\u001b[0m\u001b[0;34m\u001b[0m\u001b[0;34m\u001b[0m\u001b[0m\n\u001b[0;32m--> 900\u001b[0;31m                 \u001b[0mmodule\u001b[0m\u001b[0;34m.\u001b[0m\u001b[0m_apply\u001b[0m\u001b[0;34m(\u001b[0m\u001b[0mfn\u001b[0m\u001b[0;34m)\u001b[0m\u001b[0;34m\u001b[0m\u001b[0;34m\u001b[0m\u001b[0m\n\u001b[0m\u001b[1;32m    901\u001b[0m \u001b[0;34m\u001b[0m\u001b[0m\n\u001b[1;32m    902\u001b[0m         \u001b[0;32mdef\u001b[0m \u001b[0mcompute_should_use_set_data\u001b[0m\u001b[0;34m(\u001b[0m\u001b[0mtensor\u001b[0m\u001b[0;34m,\u001b[0m \u001b[0mtensor_applied\u001b[0m\u001b[0;34m)\u001b[0m\u001b[0;34m:\u001b[0m\u001b[0;34m\u001b[0m\u001b[0;34m\u001b[0m\u001b[0m\n",
            "\u001b[0;32m/usr/local/lib/python3.10/dist-packages/torch/nn/modules/module.py\u001b[0m in \u001b[0;36m_apply\u001b[0;34m(self, fn, recurse)\u001b[0m\n\u001b[1;32m    898\u001b[0m         \u001b[0;32mif\u001b[0m \u001b[0mrecurse\u001b[0m\u001b[0;34m:\u001b[0m\u001b[0;34m\u001b[0m\u001b[0;34m\u001b[0m\u001b[0m\n\u001b[1;32m    899\u001b[0m             \u001b[0;32mfor\u001b[0m \u001b[0mmodule\u001b[0m \u001b[0;32min\u001b[0m \u001b[0mself\u001b[0m\u001b[0;34m.\u001b[0m\u001b[0mchildren\u001b[0m\u001b[0;34m(\u001b[0m\u001b[0;34m)\u001b[0m\u001b[0;34m:\u001b[0m\u001b[0;34m\u001b[0m\u001b[0;34m\u001b[0m\u001b[0m\n\u001b[0;32m--> 900\u001b[0;31m                 \u001b[0mmodule\u001b[0m\u001b[0;34m.\u001b[0m\u001b[0m_apply\u001b[0m\u001b[0;34m(\u001b[0m\u001b[0mfn\u001b[0m\u001b[0;34m)\u001b[0m\u001b[0;34m\u001b[0m\u001b[0;34m\u001b[0m\u001b[0m\n\u001b[0m\u001b[1;32m    901\u001b[0m \u001b[0;34m\u001b[0m\u001b[0m\n\u001b[1;32m    902\u001b[0m         \u001b[0;32mdef\u001b[0m \u001b[0mcompute_should_use_set_data\u001b[0m\u001b[0;34m(\u001b[0m\u001b[0mtensor\u001b[0m\u001b[0;34m,\u001b[0m \u001b[0mtensor_applied\u001b[0m\u001b[0;34m)\u001b[0m\u001b[0;34m:\u001b[0m\u001b[0;34m\u001b[0m\u001b[0;34m\u001b[0m\u001b[0m\n",
            "\u001b[0;32m/usr/local/lib/python3.10/dist-packages/torch/nn/modules/module.py\u001b[0m in \u001b[0;36m_apply\u001b[0;34m(self, fn, recurse)\u001b[0m\n\u001b[1;32m    898\u001b[0m         \u001b[0;32mif\u001b[0m \u001b[0mrecurse\u001b[0m\u001b[0;34m:\u001b[0m\u001b[0;34m\u001b[0m\u001b[0;34m\u001b[0m\u001b[0m\n\u001b[1;32m    899\u001b[0m             \u001b[0;32mfor\u001b[0m \u001b[0mmodule\u001b[0m \u001b[0;32min\u001b[0m \u001b[0mself\u001b[0m\u001b[0;34m.\u001b[0m\u001b[0mchildren\u001b[0m\u001b[0;34m(\u001b[0m\u001b[0;34m)\u001b[0m\u001b[0;34m:\u001b[0m\u001b[0;34m\u001b[0m\u001b[0;34m\u001b[0m\u001b[0m\n\u001b[0;32m--> 900\u001b[0;31m                 \u001b[0mmodule\u001b[0m\u001b[0;34m.\u001b[0m\u001b[0m_apply\u001b[0m\u001b[0;34m(\u001b[0m\u001b[0mfn\u001b[0m\u001b[0;34m)\u001b[0m\u001b[0;34m\u001b[0m\u001b[0;34m\u001b[0m\u001b[0m\n\u001b[0m\u001b[1;32m    901\u001b[0m \u001b[0;34m\u001b[0m\u001b[0m\n\u001b[1;32m    902\u001b[0m         \u001b[0;32mdef\u001b[0m \u001b[0mcompute_should_use_set_data\u001b[0m\u001b[0;34m(\u001b[0m\u001b[0mtensor\u001b[0m\u001b[0;34m,\u001b[0m \u001b[0mtensor_applied\u001b[0m\u001b[0;34m)\u001b[0m\u001b[0;34m:\u001b[0m\u001b[0;34m\u001b[0m\u001b[0;34m\u001b[0m\u001b[0m\n",
            "\u001b[0;32m/usr/local/lib/python3.10/dist-packages/torch/nn/modules/module.py\u001b[0m in \u001b[0;36m_apply\u001b[0;34m(self, fn, recurse)\u001b[0m\n\u001b[1;32m    898\u001b[0m         \u001b[0;32mif\u001b[0m \u001b[0mrecurse\u001b[0m\u001b[0;34m:\u001b[0m\u001b[0;34m\u001b[0m\u001b[0;34m\u001b[0m\u001b[0m\n\u001b[1;32m    899\u001b[0m             \u001b[0;32mfor\u001b[0m \u001b[0mmodule\u001b[0m \u001b[0;32min\u001b[0m \u001b[0mself\u001b[0m\u001b[0;34m.\u001b[0m\u001b[0mchildren\u001b[0m\u001b[0;34m(\u001b[0m\u001b[0;34m)\u001b[0m\u001b[0;34m:\u001b[0m\u001b[0;34m\u001b[0m\u001b[0;34m\u001b[0m\u001b[0m\n\u001b[0;32m--> 900\u001b[0;31m                 \u001b[0mmodule\u001b[0m\u001b[0;34m.\u001b[0m\u001b[0m_apply\u001b[0m\u001b[0;34m(\u001b[0m\u001b[0mfn\u001b[0m\u001b[0;34m)\u001b[0m\u001b[0;34m\u001b[0m\u001b[0;34m\u001b[0m\u001b[0m\n\u001b[0m\u001b[1;32m    901\u001b[0m \u001b[0;34m\u001b[0m\u001b[0m\n\u001b[1;32m    902\u001b[0m         \u001b[0;32mdef\u001b[0m \u001b[0mcompute_should_use_set_data\u001b[0m\u001b[0;34m(\u001b[0m\u001b[0mtensor\u001b[0m\u001b[0;34m,\u001b[0m \u001b[0mtensor_applied\u001b[0m\u001b[0;34m)\u001b[0m\u001b[0;34m:\u001b[0m\u001b[0;34m\u001b[0m\u001b[0;34m\u001b[0m\u001b[0m\n",
            "\u001b[0;32m/usr/local/lib/python3.10/dist-packages/torch/nn/modules/module.py\u001b[0m in \u001b[0;36m_apply\u001b[0;34m(self, fn, recurse)\u001b[0m\n\u001b[1;32m    898\u001b[0m         \u001b[0;32mif\u001b[0m \u001b[0mrecurse\u001b[0m\u001b[0;34m:\u001b[0m\u001b[0;34m\u001b[0m\u001b[0;34m\u001b[0m\u001b[0m\n\u001b[1;32m    899\u001b[0m             \u001b[0;32mfor\u001b[0m \u001b[0mmodule\u001b[0m \u001b[0;32min\u001b[0m \u001b[0mself\u001b[0m\u001b[0;34m.\u001b[0m\u001b[0mchildren\u001b[0m\u001b[0;34m(\u001b[0m\u001b[0;34m)\u001b[0m\u001b[0;34m:\u001b[0m\u001b[0;34m\u001b[0m\u001b[0;34m\u001b[0m\u001b[0m\n\u001b[0;32m--> 900\u001b[0;31m                 \u001b[0mmodule\u001b[0m\u001b[0;34m.\u001b[0m\u001b[0m_apply\u001b[0m\u001b[0;34m(\u001b[0m\u001b[0mfn\u001b[0m\u001b[0;34m)\u001b[0m\u001b[0;34m\u001b[0m\u001b[0;34m\u001b[0m\u001b[0m\n\u001b[0m\u001b[1;32m    901\u001b[0m \u001b[0;34m\u001b[0m\u001b[0m\n\u001b[1;32m    902\u001b[0m         \u001b[0;32mdef\u001b[0m \u001b[0mcompute_should_use_set_data\u001b[0m\u001b[0;34m(\u001b[0m\u001b[0mtensor\u001b[0m\u001b[0;34m,\u001b[0m \u001b[0mtensor_applied\u001b[0m\u001b[0;34m)\u001b[0m\u001b[0;34m:\u001b[0m\u001b[0;34m\u001b[0m\u001b[0;34m\u001b[0m\u001b[0m\n",
            "\u001b[0;32m/usr/local/lib/python3.10/dist-packages/torch/nn/modules/module.py\u001b[0m in \u001b[0;36m_apply\u001b[0;34m(self, fn, recurse)\u001b[0m\n\u001b[1;32m    898\u001b[0m         \u001b[0;32mif\u001b[0m \u001b[0mrecurse\u001b[0m\u001b[0;34m:\u001b[0m\u001b[0;34m\u001b[0m\u001b[0;34m\u001b[0m\u001b[0m\n\u001b[1;32m    899\u001b[0m             \u001b[0;32mfor\u001b[0m \u001b[0mmodule\u001b[0m \u001b[0;32min\u001b[0m \u001b[0mself\u001b[0m\u001b[0;34m.\u001b[0m\u001b[0mchildren\u001b[0m\u001b[0;34m(\u001b[0m\u001b[0;34m)\u001b[0m\u001b[0;34m:\u001b[0m\u001b[0;34m\u001b[0m\u001b[0;34m\u001b[0m\u001b[0m\n\u001b[0;32m--> 900\u001b[0;31m                 \u001b[0mmodule\u001b[0m\u001b[0;34m.\u001b[0m\u001b[0m_apply\u001b[0m\u001b[0;34m(\u001b[0m\u001b[0mfn\u001b[0m\u001b[0;34m)\u001b[0m\u001b[0;34m\u001b[0m\u001b[0;34m\u001b[0m\u001b[0m\n\u001b[0m\u001b[1;32m    901\u001b[0m \u001b[0;34m\u001b[0m\u001b[0m\n\u001b[1;32m    902\u001b[0m         \u001b[0;32mdef\u001b[0m \u001b[0mcompute_should_use_set_data\u001b[0m\u001b[0;34m(\u001b[0m\u001b[0mtensor\u001b[0m\u001b[0;34m,\u001b[0m \u001b[0mtensor_applied\u001b[0m\u001b[0;34m)\u001b[0m\u001b[0;34m:\u001b[0m\u001b[0;34m\u001b[0m\u001b[0;34m\u001b[0m\u001b[0m\n",
            "\u001b[0;32m/usr/local/lib/python3.10/dist-packages/torch/nn/modules/module.py\u001b[0m in \u001b[0;36m_apply\u001b[0;34m(self, fn, recurse)\u001b[0m\n\u001b[1;32m    925\u001b[0m             \u001b[0;31m# `with torch.no_grad():`\u001b[0m\u001b[0;34m\u001b[0m\u001b[0;34m\u001b[0m\u001b[0m\n\u001b[1;32m    926\u001b[0m             \u001b[0;32mwith\u001b[0m \u001b[0mtorch\u001b[0m\u001b[0;34m.\u001b[0m\u001b[0mno_grad\u001b[0m\u001b[0;34m(\u001b[0m\u001b[0;34m)\u001b[0m\u001b[0;34m:\u001b[0m\u001b[0;34m\u001b[0m\u001b[0;34m\u001b[0m\u001b[0m\n\u001b[0;32m--> 927\u001b[0;31m                 \u001b[0mparam_applied\u001b[0m \u001b[0;34m=\u001b[0m \u001b[0mfn\u001b[0m\u001b[0;34m(\u001b[0m\u001b[0mparam\u001b[0m\u001b[0;34m)\u001b[0m\u001b[0;34m\u001b[0m\u001b[0;34m\u001b[0m\u001b[0m\n\u001b[0m\u001b[1;32m    928\u001b[0m             \u001b[0mp_should_use_set_data\u001b[0m \u001b[0;34m=\u001b[0m \u001b[0mcompute_should_use_set_data\u001b[0m\u001b[0;34m(\u001b[0m\u001b[0mparam\u001b[0m\u001b[0;34m,\u001b[0m \u001b[0mparam_applied\u001b[0m\u001b[0;34m)\u001b[0m\u001b[0;34m\u001b[0m\u001b[0;34m\u001b[0m\u001b[0m\n\u001b[1;32m    929\u001b[0m \u001b[0;34m\u001b[0m\u001b[0m\n",
            "\u001b[0;32m/usr/local/lib/python3.10/dist-packages/torch/nn/modules/module.py\u001b[0m in \u001b[0;36mconvert\u001b[0;34m(t)\u001b[0m\n\u001b[1;32m   1324\u001b[0m                         \u001b[0mmemory_format\u001b[0m\u001b[0;34m=\u001b[0m\u001b[0mconvert_to_format\u001b[0m\u001b[0;34m,\u001b[0m\u001b[0;34m\u001b[0m\u001b[0;34m\u001b[0m\u001b[0m\n\u001b[1;32m   1325\u001b[0m                     )\n\u001b[0;32m-> 1326\u001b[0;31m                 return t.to(\n\u001b[0m\u001b[1;32m   1327\u001b[0m                     \u001b[0mdevice\u001b[0m\u001b[0;34m,\u001b[0m\u001b[0;34m\u001b[0m\u001b[0;34m\u001b[0m\u001b[0m\n\u001b[1;32m   1328\u001b[0m                     \u001b[0mdtype\u001b[0m \u001b[0;32mif\u001b[0m \u001b[0mt\u001b[0m\u001b[0;34m.\u001b[0m\u001b[0mis_floating_point\u001b[0m\u001b[0;34m(\u001b[0m\u001b[0;34m)\u001b[0m \u001b[0;32mor\u001b[0m \u001b[0mt\u001b[0m\u001b[0;34m.\u001b[0m\u001b[0mis_complex\u001b[0m\u001b[0;34m(\u001b[0m\u001b[0;34m)\u001b[0m \u001b[0;32melse\u001b[0m \u001b[0;32mNone\u001b[0m\u001b[0;34m,\u001b[0m\u001b[0;34m\u001b[0m\u001b[0;34m\u001b[0m\u001b[0m\n",
            "\u001b[0;31mOutOfMemoryError\u001b[0m: CUDA out of memory. Tried to allocate 20.00 MiB. GPU 0 has a total capacity of 14.75 GiB of which 5.06 MiB is free. Process 285546 has 14.74 GiB memory in use. Of the allocated memory 14.53 GiB is allocated by PyTorch, and 28.85 MiB is reserved by PyTorch but unallocated. If reserved but unallocated memory is large try setting PYTORCH_CUDA_ALLOC_CONF=expandable_segments:True to avoid fragmentation.  See documentation for Memory Management  (https://pytorch.org/docs/stable/notes/cuda.html#environment-variables)"
          ]
        }
      ],
      "source": [
        "trainer = CustomTrainer(\n",
        "    model=model,\n",
        "    args=training_args,\n",
        "    train_dataset=train_data,\n",
        "    eval_dataset=test_data,\n",
        "    processing_class=tokenizer,\n",
        "    data_collator=data_collator,\n",
        "    compute_metrics=compute_metrics,\n",
        "    class_weights=class_weights_tensor,\n",
        ")"
      ]
    },
    {
      "cell_type": "code",
      "execution_count": null,
      "metadata": {
        "id": "3jGdDKRJKzAA"
      },
      "outputs": [],
      "source": [
        "trainer.train()"
      ]
    },
    {
      "cell_type": "code",
      "execution_count": null,
      "metadata": {
        "id": "ZcGc6SmaC7t-",
        "outputId": "4a2ee065-6c33-471d-fc9a-53e4cea5b184"
      },
      "outputs": [
        {
          "data": {
            "text/html": [],
            "text/plain": [
              "<IPython.core.display.HTML object>"
            ]
          },
          "metadata": {},
          "output_type": "display_data"
        },
        {
          "name": "stdout",
          "output_type": "stream",
          "text": [
            "(286, 2)\n",
            "(286,)\n"
          ]
        }
      ],
      "source": [
        "test_prediction_info = trainer.predict(test_data)\n",
        "test_predictions, test_labels = test_prediction_info.predictions, test_prediction_info.label_ids\n",
        "\n",
        "print(test_predictions.shape)\n",
        "print(test_labels.shape)"
      ]
    },
    {
      "cell_type": "code",
      "execution_count": null,
      "metadata": {
        "id": "B2SzjtFbC7t-",
        "outputId": "51f3a0d9-e0e3-4494-9839-575e12013f8f"
      },
      "outputs": [
        {
          "name": "stdout",
          "output_type": "stream",
          "text": [
            "{'f1': 0.8343989848591246, 'accuracy': 0.8356643356643356}\n"
          ]
        }
      ],
      "source": [
        "test_metrics = compute_metrics([test_predictions, test_labels])\n",
        "print(test_metrics)"
      ]
    },
    {
      "cell_type": "markdown",
      "metadata": {
        "id": "qoCoBkHN-bRK"
      },
      "source": [
        "# Task 7: Error Analysis\n",
        "\n",
        "After evaluating the model, perform a brief error analysis:\n",
        "\n",
        " - Review the results and identify common errors.\n",
        "\n",
        " - Summarize your findings regarding the errors and their impact on performance (e.g. but not limited to Out-of-Vocabulary (OOV) words, data imbalance, and performance differences between the custom model and the transformer...)\n",
        " - Suggest possible solutions to address the identified errors."
      ]
    },
    {
      "cell_type": "code",
      "execution_count": null,
      "metadata": {
        "id": "1eu5fi73C7t-",
        "outputId": "e85b8875-3bd9-49d6-aad1-898bae003fcb"
      },
      "outputs": [
        {
          "data": {
            "text/html": [
              "<div>\n",
              "<style scoped>\n",
              "    .dataframe tbody tr th:only-of-type {\n",
              "        vertical-align: middle;\n",
              "    }\n",
              "\n",
              "    .dataframe tbody tr th {\n",
              "        vertical-align: top;\n",
              "    }\n",
              "\n",
              "    .dataframe thead th {\n",
              "        text-align: right;\n",
              "    }\n",
              "</style>\n",
              "<table border=\"1\" class=\"dataframe\">\n",
              "  <thead>\n",
              "    <tr style=\"text-align: right;\">\n",
              "      <th></th>\n",
              "      <th>id_EXIST</th>\n",
              "      <th>lang</th>\n",
              "      <th>tweet</th>\n",
              "      <th>number_annotators</th>\n",
              "      <th>annotators</th>\n",
              "      <th>gender_annotators</th>\n",
              "      <th>age_annotators</th>\n",
              "      <th>labels_task1</th>\n",
              "      <th>labels_task2</th>\n",
              "      <th>labels_task3</th>\n",
              "      <th>split</th>\n",
              "    </tr>\n",
              "  </thead>\n",
              "  <tbody>\n",
              "    <tr>\n",
              "      <th>400178</th>\n",
              "      <td>400178</td>\n",
              "      <td>en</td>\n",
              "      <td>1st day at the pool on a beautiful Sunday in N...</td>\n",
              "      <td>6</td>\n",
              "      <td>[Annotator_764, Annotator_765, Annotator_766, ...</td>\n",
              "      <td>[F, F, F, M, M, M]</td>\n",
              "      <td>[18-22, 23-45, 46+, 18-22, 23-45, 46+]</td>\n",
              "      <td>[NO, NO, NO, NO, NO, NO]</td>\n",
              "      <td>[-, -, -, -, -, -]</td>\n",
              "      <td>[[-], [-], [-], [-], [-], [-]]</td>\n",
              "      <td>DEV_EN</td>\n",
              "    </tr>\n",
              "    <tr>\n",
              "      <th>400179</th>\n",
              "      <td>400179</td>\n",
              "      <td>en</td>\n",
              "      <td>“I like your outfit too except when i dress up...</td>\n",
              "      <td>6</td>\n",
              "      <td>[Annotator_805, Annotator_426, Annotator_806, ...</td>\n",
              "      <td>[F, F, F, M, M, M]</td>\n",
              "      <td>[18-22, 23-45, 46+, 18-22, 23-45, 46+]</td>\n",
              "      <td>[YES, YES, YES, YES, YES, NO]</td>\n",
              "      <td>[JUDGEMENTAL, DIRECT, REPORTED, DIRECT, REPORT...</td>\n",
              "      <td>[[OBJECTIFICATION], [OBJECTIFICATION, MISOGYNY...</td>\n",
              "      <td>DEV_EN</td>\n",
              "    </tr>\n",
              "    <tr>\n",
              "      <th>400180</th>\n",
              "      <td>400180</td>\n",
              "      <td>en</td>\n",
              "      <td>@KNasFanFic 🥺💖 same, though!!! the angst just ...</td>\n",
              "      <td>6</td>\n",
              "      <td>[Annotator_795, Annotator_796, Annotator_797, ...</td>\n",
              "      <td>[F, F, F, M, M, M]</td>\n",
              "      <td>[18-22, 23-45, 46+, 18-22, 23-45, 46+]</td>\n",
              "      <td>[NO, NO, NO, NO, NO, NO]</td>\n",
              "      <td>[-, -, -, -, -, -]</td>\n",
              "      <td>[[-], [-], [-], [-], [-], [-]]</td>\n",
              "      <td>DEV_EN</td>\n",
              "    </tr>\n",
              "    <tr>\n",
              "      <th>400181</th>\n",
              "      <td>400181</td>\n",
              "      <td>en</td>\n",
              "      <td>@themaxburns @GOP Fuck that cunt. Tried to vot...</td>\n",
              "      <td>6</td>\n",
              "      <td>[Annotator_795, Annotator_796, Annotator_797, ...</td>\n",
              "      <td>[F, F, F, M, M, M]</td>\n",
              "      <td>[18-22, 23-45, 46+, 18-22, 23-45, 46+]</td>\n",
              "      <td>[NO, YES, YES, YES, YES, YES]</td>\n",
              "      <td>[-, DIRECT, JUDGEMENTAL, DIRECT, DIRECT, DIRECT]</td>\n",
              "      <td>[[-], [IDEOLOGICAL-INEQUALITY, MISOGYNY-NON-SE...</td>\n",
              "      <td>DEV_EN</td>\n",
              "    </tr>\n",
              "    <tr>\n",
              "      <th>400182</th>\n",
              "      <td>400182</td>\n",
              "      <td>en</td>\n",
              "      <td>@ultshunnie u gotta say some shit like “i’ll f...</td>\n",
              "      <td>6</td>\n",
              "      <td>[Annotator_770, Annotator_771, Annotator_772, ...</td>\n",
              "      <td>[F, F, F, M, M, M]</td>\n",
              "      <td>[18-22, 23-45, 46+, 18-22, 23-45, 46+]</td>\n",
              "      <td>[YES, YES, YES, YES, YES, YES]</td>\n",
              "      <td>[DIRECT, REPORTED, DIRECT, DIRECT, JUDGEMENTAL...</td>\n",
              "      <td>[[OBJECTIFICATION, SEXUAL-VIOLENCE], [SEXUAL-V...</td>\n",
              "      <td>DEV_EN</td>\n",
              "    </tr>\n",
              "  </tbody>\n",
              "</table>\n",
              "</div>"
            ],
            "text/plain": [
              "        id_EXIST lang                                              tweet  \\\n",
              "400178    400178   en  1st day at the pool on a beautiful Sunday in N...   \n",
              "400179    400179   en  “I like your outfit too except when i dress up...   \n",
              "400180    400180   en  @KNasFanFic 🥺💖 same, though!!! the angst just ...   \n",
              "400181    400181   en  @themaxburns @GOP Fuck that cunt. Tried to vot...   \n",
              "400182    400182   en  @ultshunnie u gotta say some shit like “i’ll f...   \n",
              "\n",
              "        number_annotators                                         annotators  \\\n",
              "400178                  6  [Annotator_764, Annotator_765, Annotator_766, ...   \n",
              "400179                  6  [Annotator_805, Annotator_426, Annotator_806, ...   \n",
              "400180                  6  [Annotator_795, Annotator_796, Annotator_797, ...   \n",
              "400181                  6  [Annotator_795, Annotator_796, Annotator_797, ...   \n",
              "400182                  6  [Annotator_770, Annotator_771, Annotator_772, ...   \n",
              "\n",
              "         gender_annotators                          age_annotators  \\\n",
              "400178  [F, F, F, M, M, M]  [18-22, 23-45, 46+, 18-22, 23-45, 46+]   \n",
              "400179  [F, F, F, M, M, M]  [18-22, 23-45, 46+, 18-22, 23-45, 46+]   \n",
              "400180  [F, F, F, M, M, M]  [18-22, 23-45, 46+, 18-22, 23-45, 46+]   \n",
              "400181  [F, F, F, M, M, M]  [18-22, 23-45, 46+, 18-22, 23-45, 46+]   \n",
              "400182  [F, F, F, M, M, M]  [18-22, 23-45, 46+, 18-22, 23-45, 46+]   \n",
              "\n",
              "                          labels_task1  \\\n",
              "400178        [NO, NO, NO, NO, NO, NO]   \n",
              "400179   [YES, YES, YES, YES, YES, NO]   \n",
              "400180        [NO, NO, NO, NO, NO, NO]   \n",
              "400181   [NO, YES, YES, YES, YES, YES]   \n",
              "400182  [YES, YES, YES, YES, YES, YES]   \n",
              "\n",
              "                                             labels_task2  \\\n",
              "400178                                 [-, -, -, -, -, -]   \n",
              "400179  [JUDGEMENTAL, DIRECT, REPORTED, DIRECT, REPORT...   \n",
              "400180                                 [-, -, -, -, -, -]   \n",
              "400181   [-, DIRECT, JUDGEMENTAL, DIRECT, DIRECT, DIRECT]   \n",
              "400182  [DIRECT, REPORTED, DIRECT, DIRECT, JUDGEMENTAL...   \n",
              "\n",
              "                                             labels_task3   split  \n",
              "400178                     [[-], [-], [-], [-], [-], [-]]  DEV_EN  \n",
              "400179  [[OBJECTIFICATION], [OBJECTIFICATION, MISOGYNY...  DEV_EN  \n",
              "400180                     [[-], [-], [-], [-], [-], [-]]  DEV_EN  \n",
              "400181  [[-], [IDEOLOGICAL-INEQUALITY, MISOGYNY-NON-SE...  DEV_EN  \n",
              "400182  [[OBJECTIFICATION, SEXUAL-VIOLENCE], [SEXUAL-V...  DEV_EN  "
            ]
          },
          "execution_count": 57,
          "metadata": {},
          "output_type": "execute_result"
        }
      ],
      "source": [
        "test_copy.head()"
      ]
    },
    {
      "cell_type": "code",
      "execution_count": null,
      "metadata": {
        "id": "EWVOu4I_C7t-"
      },
      "outputs": [],
      "source": [
        "def contains_OOV(text, embedding_model):\n",
        "    \"\"\"\n",
        "    Return the out-of-vocabulary (OOV) words in a given text.\n",
        "    \"\"\"\n",
        "    return [word for word in text.split() if word not in embedding_model.key_to_index]\n",
        "\n",
        "def review_errors(predictions, labels, verbose: bool = False):\n",
        "    errors = []\n",
        "    for i, (pred, label) in enumerate(zip(predictions, labels)):\n",
        "        if np.argmax(pred) != label:\n",
        "            errors.append(i)\n",
        "\n",
        "    print(f\"Found {len(errors)} errors out of {len(labels)} samples.\")\n",
        "\n",
        "    errors_due_to_OOV = 0\n",
        "    wrong_tweet_ids = []\n",
        "    for i in errors:\n",
        "        tweet_text = test_data['tweet'][i]\n",
        "        tweet_id = test_data['id_EXIST'][i]\n",
        "        wrong_tweet_ids.append(tweet_id)\n",
        "        oov_found = contains_OOV(tweet_text, emb_model_augmented)\n",
        "        original_labels = test_copy[test_copy['id_EXIST'] == tweet_id]['labels_task1'].values[0]\n",
        "        if oov_found:\n",
        "            errors_due_to_OOV += 1\n",
        "        if verbose:\n",
        "            print(f\"\"\"\n",
        "            Contains OOV: {oov_found if len(oov_found) > 0 else 'No'}\n",
        "            Tweet: {tweet_text}\n",
        "            Predicted: {predictions[i]}\n",
        "            True Label: {labels[i]}\n",
        "            Raw Labels: {original_labels}\n",
        "\n",
        "            \"\"\")\n",
        "    print(f\"Errors due to OOV: {errors_due_to_OOV}, {errors_due_to_OOV / len(errors) * 100:.2f}%\")\n",
        "    return wrong_tweet_ids"
      ]
    },
    {
      "cell_type": "code",
      "execution_count": null,
      "metadata": {
        "id": "Z8zDRXiNC7t_",
        "outputId": "467c905d-624d-4688-82ed-caf452322a17"
      },
      "outputs": [
        {
          "name": "stdout",
          "output_type": "stream",
          "text": [
            "Found 47 errors out of 286 samples.\n",
            "\n",
            "            Contains OOV: No\n",
            "            Tweet: i mean i do but wouldn t it be fun to get gangbanged together\n",
            "            Predicted: [-0.58872044  0.3933368 ]\n",
            "            True Label: 0\n",
            "            Raw Labels: ['NO', 'NO', 'NO', 'NO', 'YES', 'YES']\n",
            "\n",
            "            \n",
            "\n",
            "            Contains OOV: No\n",
            "            Tweet: sex a in gender harassment is what they are inferring\n",
            "            Predicted: [-0.7549928   0.74185854]\n",
            "            True Label: 0\n",
            "            Raw Labels: ['NO', 'YES', 'NO', 'NO', 'NO', 'NO']\n",
            "\n",
            "            \n",
            "\n",
            "            Contains OOV: ['unshocking']\n",
            "            Tweet: appreciate being included along with on the uvalde gunman s history of cyber gender harassment regrettably unshocking\n",
            "            Predicted: [-1.0426189  1.1208726]\n",
            "            True Label: 0\n",
            "            Raw Labels: ['NO', 'NO', 'YES', 'YES', 'NO', 'NO']\n",
            "\n",
            "            \n",
            "\n",
            "            Contains OOV: ['blonks', 'yoongis']\n",
            "            Tweet: how did we reach a point where blonks are having the audacity to talk about yoongis rap do y all see who you stan are y all ok your girl can t write can t deliver can t come close to bts s lyricism tf are y all getting brave for fashion deal\n",
            "            Predicted: [-0.8496176  0.8611555]\n",
            "            True Label: 0\n",
            "            Raw Labels: ['YES', 'YES', 'NO', 'NO', 'NO', 'NO']\n",
            "\n",
            "            \n",
            "\n",
            "            Contains OOV: ['pinwork']\n",
            "            Tweet: that gold digger is nice but the picture and set up for them are elite pinwork is like the revealing of the mona lisa always a work of art\n",
            "            Predicted: [ 0.96978235 -1.0131257 ]\n",
            "            True Label: 1\n",
            "            Raw Labels: ['NO', 'YES', 'YES', 'NO', 'YES', 'YES']\n",
            "\n",
            "            \n",
            "\n",
            "            Contains OOV: No\n",
            "            Tweet: he tries to expose this gold digger but it backfires day fianc e b via\n",
            "            Predicted: [-0.38737506  0.409964  ]\n",
            "            True Label: 0\n",
            "            Raw Labels: ['NO', 'NO', 'NO', 'NO', 'YES', 'YES']\n",
            "\n",
            "            \n",
            "\n",
            "            Contains OOV: No\n",
            "            Tweet: well let me ask for the guy do you ever just grab your testicle because you can\n",
            "            Predicted: [-0.74611896  0.6192064 ]\n",
            "            True Label: 0\n",
            "            Raw Labels: ['NO', 'NO', 'NO', 'NO', 'NO', 'YES']\n",
            "\n",
            "            \n",
            "\n",
            "            Contains OOV: ['badassary']\n",
            "            Tweet: dear fan can we not harass talented actor of color stop being racist douche nozzle this is why we can t have nice thing moses is a badass inquisitor and y all can t handle her badassary\n",
            "            Predicted: [ 0.24530992 -0.1050558 ]\n",
            "            True Label: 1\n",
            "            Raw Labels: ['YES', 'YES', 'YES', 'YES', 'NO', 'NO']\n",
            "\n",
            "            \n",
            "\n",
            "            Contains OOV: ['aughhh']\n",
            "            Tweet: aughhh i still got an exam tomorrow i hate woman\n",
            "            Predicted: [0.29749173 0.15123102]\n",
            "            True Label: 1\n",
            "            Raw Labels: ['YES', 'YES', 'NO', 'YES', 'YES', 'YES']\n",
            "\n",
            "            \n",
            "\n",
            "            Contains OOV: No\n",
            "            Tweet: not a much a they harm kill woman and child by a long shot pun intended\n",
            "            Predicted: [ 0.32080236 -0.3809491 ]\n",
            "            True Label: 1\n",
            "            Raw Labels: ['YES', 'YES', 'YES', 'YES', 'YES', 'YES']\n",
            "\n",
            "            \n",
            "\n",
            "            Contains OOV: No\n",
            "            Tweet: yup i hate when men rape and kill woman\n",
            "            Predicted: [-1.9022561  1.9150243]\n",
            "            True Label: 0\n",
            "            Raw Labels: ['YES', 'NO', 'NO', 'YES', 'NO', 'NO']\n",
            "\n",
            "            \n",
            "\n",
            "            Contains OOV: No\n",
            "            Tweet: calls to clean up parliament s laddish culture after mp s porn shame via\n",
            "            Predicted: [ 0.31263545 -0.3861905 ]\n",
            "            True Label: 1\n",
            "            Raw Labels: ['NO', 'YES', 'YES', 'YES', 'YES', 'NO']\n",
            "\n",
            "            \n",
            "\n",
            "            Contains OOV: No\n",
            "            Tweet: ladies don t let anyone body shame you in any way you are fat so what you are beautiful my dear be confident in yourself peace\n",
            "            Predicted: [-0.05168364 -0.00336111]\n",
            "            True Label: 0\n",
            "            Raw Labels: ['YES', 'YES', 'NO', 'NO', 'NO', 'NO']\n",
            "\n",
            "            \n",
            "\n",
            "            Contains OOV: No\n",
            "            Tweet: stop don t lie to these people ladies don t let this man trick you out of the greatest organ of your life cause what\n",
            "            Predicted: [-1.8607882  1.8178452]\n",
            "            True Label: 0\n",
            "            Raw Labels: ['NO', 'YES', 'NO', 'NO', 'YES', 'NO']\n",
            "\n",
            "            \n",
            "\n",
            "            Contains OOV: No\n",
            "            Tweet: ladies don t have a miscarriage in louisiana if you do in addition to probably having your friend and family sued by some opportunistic yokel you ll be charged with murder\n",
            "            Predicted: [-1.9893768  1.9270742]\n",
            "            True Label: 0\n",
            "            Raw Labels: ['YES', 'YES', 'NO', 'NO', 'NO', 'NO']\n",
            "\n",
            "            \n",
            "\n",
            "            Contains OOV: No\n",
            "            Tweet: dude looks like a lady aerosmith\n",
            "            Predicted: [ 0.5692531 -0.4311024]\n",
            "            True Label: 1\n",
            "            Raw Labels: ['YES', 'YES', 'NO', 'YES', 'NO', 'YES']\n",
            "\n",
            "            \n",
            "\n",
            "            Contains OOV: No\n",
            "            Tweet: mansplaining the concept of a pee drawer to my partner who want me\n",
            "            Predicted: [ 0.05984054 -0.18615519]\n",
            "            True Label: 1\n",
            "            Raw Labels: ['YES', 'YES', 'YES', 'NO', 'YES', 'YES']\n",
            "\n",
            "            \n",
            "\n",
            "            Contains OOV: No\n",
            "            Tweet: going weak rn playing the guitar manspreading i am on my knees\n",
            "            Predicted: [ 0.01860664 -0.03567205]\n",
            "            True Label: 1\n",
            "            Raw Labels: ['YES', 'YES', 'NO', 'YES', 'YES', 'YES']\n",
            "\n",
            "            \n",
            "\n",
            "            Contains OOV: No\n",
            "            Tweet: stay on penis masturbate the penis forever\n",
            "            Predicted: [-1.1060357   0.96916294]\n",
            "            True Label: 0\n",
            "            Raw Labels: ['YES', 'NO', 'NO', 'NO', 'NO', 'NO']\n",
            "\n",
            "            \n",
            "\n",
            "            Contains OOV: No\n",
            "            Tweet: i don t need a man to tell me what to stand up for thank you\n",
            "            Predicted: [ 0.7492817 -0.8055718]\n",
            "            True Label: 1\n",
            "            Raw Labels: ['YES', 'YES', 'NO', 'YES', 'YES', 'NO']\n",
            "\n",
            "            \n",
            "\n",
            "            Contains OOV: No\n",
            "            Tweet: it s objectification and dehumanizing i saw someone take time out of their day to make a strong political point about horwath sarcasm he tweeted about how her photo looked like it had lot of photoshop such pathetic clown\n",
            "            Predicted: [ 0.15927866 -0.11660285]\n",
            "            True Label: 1\n",
            "            Raw Labels: ['YES', 'YES', 'YES', 'YES', 'YES', 'NO']\n",
            "\n",
            "            \n",
            "\n",
            "            Contains OOV: No\n",
            "            Tweet: as a diverse and pluralistic country america s law should not be based on a distorted and patriarchal interpretation of christianity furthermore the government should have no role whatsoever in a woman s private healthcare decision\n",
            "            Predicted: [0.01111533 0.03115518]\n",
            "            True Label: 0\n",
            "            Raw Labels: ['NO', 'YES', 'NO', 'NO', 'NO', 'NO']\n",
            "\n",
            "            \n",
            "\n",
            "            Contains OOV: No\n",
            "            Tweet: notice something else tho almost every single one is a man that s such a fucking problem that this is how some men believe they should let out their anger and hatred this society need to do better it doe not even benefit the men patriarchy misogyny fails everyone\n",
            "            Predicted: [-1.1197008  1.1528618]\n",
            "            True Label: 0\n",
            "            Raw Labels: ['NO', 'YES', 'NO', 'YES', 'NO', 'NO']\n",
            "\n",
            "            \n",
            "\n",
            "            Contains OOV: ['teaxass']\n",
            "            Tweet: it s in the teaxass code book of penis envy idiot that it s gun over everything sad thing is it s spreading and the more we try to stop it the faster it spread like the diseased idiot that support it\n",
            "            Predicted: [-0.71961504  0.5965757 ]\n",
            "            True Label: 0\n",
            "            Raw Labels: ['NO', 'NO', 'NO', 'NO', 'NO', 'NO']\n",
            "\n",
            "            \n",
            "\n",
            "            Contains OOV: No\n",
            "            Tweet: have i missed something or ha phallocentrism become the latest cult\n",
            "            Predicted: [ 1.3740033 -1.358332 ]\n",
            "            True Label: 1\n",
            "            Raw Labels: ['NO', 'YES', 'YES', 'NO', 'YES', 'YES']\n",
            "\n",
            "            \n",
            "\n",
            "            Contains OOV: No\n",
            "            Tweet: fuck s sake is it possible to have a furry space that s not explicitly content restricted and doesn t immediately become yet another showcase for size queen phallocentrism\n",
            "            Predicted: [ 0.07298443 -0.11588699]\n",
            "            True Label: 1\n",
            "            Raw Labels: ['YES', 'YES', 'YES', 'YES', 'YES', 'YES']\n",
            "\n",
            "            \n",
            "\n",
            "            Contains OOV: No\n",
            "            Tweet: cyborg politics is the struggle for language and the struggle against perfect communication against the one code that translates all meaning perfectly the central dogma of phallogocentrism\n",
            "            Predicted: [ 2.1218688 -1.949897 ]\n",
            "            True Label: 1\n",
            "            Raw Labels: ['YES', 'YES', 'YES', 'YES', 'NO', 'YES']\n",
            "\n",
            "            \n",
            "\n",
            "            Contains OOV: ['montha']\n",
            "            Tweet: sharia law in the religion of islam allows abortion before the th montha for rape incest mental physical health or life of mother is at risk after the th month abortion allowed only to save the life of the mother\n",
            "            Predicted: [-0.7677238  0.5636185]\n",
            "            True Label: 0\n",
            "            Raw Labels: ['NO', 'YES', 'NO', 'NO', 'NO', 'NO']\n",
            "\n",
            "            \n",
            "\n",
            "            Contains OOV: No\n",
            "            Tweet: calling a man bald is sexual harassment via\n",
            "            Predicted: [-0.7357748   0.72932625]\n",
            "            True Label: 0\n",
            "            Raw Labels: ['YES', 'NO', 'NO', 'NO', 'NO', 'NO']\n",
            "\n",
            "            \n",
            "\n",
            "            Contains OOV: No\n",
            "            Tweet: according to the human rights commission in people experience sexual harassment at work we have created an online course providing strategy to prevent and respond should incident occur start your course at\n",
            "            Predicted: [ 0.9914994 -0.6639327]\n",
            "            True Label: 1\n",
            "            Raw Labels: ['YES', 'YES', 'NO', 'YES', 'NO', 'YES']\n",
            "\n",
            "            \n",
            "\n",
            "            Contains OOV: No\n",
            "            Tweet: i don t care what gender race religion sexual orientation a person is a long a they are qualified for that position that being said is she qualified based on experience education or wa she chosen solely because she is black and gay to please progressive woke just saying\n",
            "            Predicted: [ 0.17694925 -0.06194963]\n",
            "            True Label: 1\n",
            "            Raw Labels: ['YES', 'YES', 'YES', 'NO', 'YES', 'YES']\n",
            "\n",
            "            \n",
            "\n",
            "            Contains OOV: No\n",
            "            Tweet: yea back when i didn t even have one to slap unfortunate\n",
            "            Predicted: [ 1.1481696 -1.1253496]\n",
            "            True Label: 1\n",
            "            Raw Labels: ['YES', 'NO', 'NO', 'YES', 'YES', 'YES']\n",
            "\n",
            "            \n",
            "\n",
            "            Contains OOV: No\n",
            "            Tweet: wen i m rich i hope the broke nigga in me survives cuz i ain t ever paying buck for a salad i hope the trench slap that shit outta my hand\n",
            "            Predicted: [-0.32192844  0.1216954 ]\n",
            "            True Label: 0\n",
            "            Raw Labels: ['NO', 'NO', 'NO', 'NO', 'NO', 'NO']\n",
            "\n",
            "            \n",
            "\n",
            "            Contains OOV: No\n",
            "            Tweet: never knew you all share tit how did we stop being pal again yeah\n",
            "            Predicted: [ 1.7511573 -1.7948326]\n",
            "            True Label: 1\n",
            "            Raw Labels: ['NO', 'YES', 'YES', 'YES', 'YES', 'NO']\n",
            "\n",
            "            \n",
            "\n",
            "            Contains OOV: ['bounceeyyyy', 'boobieeeessssss']\n",
            "            Tweet: bounceeyyyy boobieeeessssss\n",
            "            Predicted: [ 0.04882302 -0.46676853]\n",
            "            True Label: 1\n",
            "            Raw Labels: ['YES', 'YES', 'YES', 'YES', 'YES', 'YES']\n",
            "\n",
            "            \n",
            "\n",
            "            Contains OOV: No\n",
            "            Tweet: today s woman eye makeup and those nail too\n",
            "            Predicted: [-0.13675365  0.31295186]\n",
            "            True Label: 0\n",
            "            Raw Labels: ['NO', 'NO', 'YES', 'YES', 'NO', 'NO']\n",
            "\n",
            "            \n",
            "\n",
            "            Contains OOV: No\n",
            "            Tweet: i packed my hubby case when we were going to a wedding in england told him to pop his underpants in gets to england he put his kilt outfit on and everyone discovered what a true scot doesn t wear under his kilt if i don t do it it doesn t get done men\n",
            "            Predicted: [ 0.05387682 -0.13856384]\n",
            "            True Label: 1\n",
            "            Raw Labels: ['YES', 'YES', 'NO', 'NO', 'YES', 'YES']\n",
            "\n",
            "            \n",
            "\n",
            "            Contains OOV: No\n",
            "            Tweet: oh so now u can t understand woman s word\n",
            "            Predicted: [-1.6117808  1.8118759]\n",
            "            True Label: 0\n",
            "            Raw Labels: ['NO', 'NO', 'NO', 'YES', 'NO', 'YES']\n",
            "\n",
            "            \n",
            "\n",
            "            Contains OOV: ['kneehighs']\n",
            "            Tweet: the question is do i wear the very short skirt that literally show my as with kneehighs or opt out for a short\n",
            "            Predicted: [-0.4450308  0.4592737]\n",
            "            True Label: 0\n",
            "            Raw Labels: ['NO', 'NO', 'YES', 'NO', 'YES', 'NO']\n",
            "\n",
            "            \n",
            "\n",
            "            Contains OOV: No\n",
            "            Tweet: my new favorite meme is the pregnant woman driving in the oklahoma hov lane telling the state trooper who pulled her over that she is driving with another person\n",
            "            Predicted: [-1.3506367  1.2390037]\n",
            "            True Label: 0\n",
            "            Raw Labels: ['NO', 'YES', 'NO', 'NO', 'NO', 'YES']\n",
            "\n",
            "            \n",
            "\n",
            "            Contains OOV: No\n",
            "            Tweet: feminism vs womanism hudson weems identifies further difference between womanism and feminism being womanism is family oriented and focus on race class and gender while feminism is female oriented and strictly focus on biological sex related issue woman face\n",
            "            Predicted: [-1.18085    1.2616788]\n",
            "            True Label: 0\n",
            "            Raw Labels: ['YES', 'NO', 'NO', 'NO', 'NO', 'NO']\n",
            "\n",
            "            \n",
            "\n",
            "            Contains OOV: No\n",
            "            Tweet: yeah woman are getting just a bad i ve noticed it anyway i m sorry people are sending you stuff like that it can be so gross\n",
            "            Predicted: [-2.0313082  2.06214  ]\n",
            "            True Label: 0\n",
            "            Raw Labels: ['NO', 'NO', 'NO', 'NO', 'NO', 'YES']\n",
            "\n",
            "            \n",
            "\n",
            "            Contains OOV: No\n",
            "            Tweet: yo i swear sagittarius men and woman are the funniest\n",
            "            Predicted: [-0.14278899  0.05253501]\n",
            "            True Label: 0\n",
            "            Raw Labels: ['NO', 'NO', 'NO', 'NO', 'NO', 'NO']\n",
            "\n",
            "            \n",
            "\n",
            "            Contains OOV: ['ligation']\n",
            "            Tweet: a vasectomy is a simple surgery done in an office hospital or clinic hour later recovery is pretty much complete tubal ligation recovery take week longer if it s done following a c section or childbirth many woman can t afford to take week off work\n",
            "            Predicted: [-1.0645252  1.137113 ]\n",
            "            True Label: 0\n",
            "            Raw Labels: ['YES', 'YES', 'NO', 'NO', 'NO', 'NO']\n",
            "\n",
            "            \n",
            "\n",
            "            Contains OOV: No\n",
            "            Tweet: wow trouble making witches unite\n",
            "            Predicted: [0.03546962 0.31136063]\n",
            "            True Label: 0\n",
            "            Raw Labels: ['NO', 'NO', 'NO', 'NO', 'NO', 'NO']\n",
            "\n",
            "            \n",
            "\n",
            "            Contains OOV: No\n",
            "            Tweet: uh they re allowed to calling this out make you look like a cunt fortunately i ll block you so fast you wont get your screenshot\n",
            "            Predicted: [-1.4758443  1.6662315]\n",
            "            True Label: 0\n",
            "            Raw Labels: ['NO', 'NO', 'YES', 'NO', 'YES', 'NO']\n",
            "\n",
            "            \n",
            "\n",
            "            Contains OOV: No\n",
            "            Tweet: i don t know what you re on about my point wa that you shouldn t mock other people s look because it s very shallow and make you look like a cunt thanks for your input though\n",
            "            Predicted: [-0.589043    0.69798976]\n",
            "            True Label: 0\n",
            "            Raw Labels: ['YES', 'NO', 'NO', 'YES', 'NO', 'NO']\n",
            "\n",
            "            \n",
            "Errors due to OOV: 10, 21.28%\n"
          ]
        }
      ],
      "source": [
        "wrong_tweet_ids = review_errors(test_predictions, test_labels, verbose=True)"
      ]
    },
    {
      "cell_type": "markdown",
      "metadata": {
        "id": "eCcWEEjtC7t_"
      },
      "source": [
        "Common errrors spotted so far:\n",
        "\n",
        "* Most of the errors are due to the fact that the model is not able to distinguish between the sexist and non-sexist tweets.\n",
        "    * The predicted score is the opposite of the true score. This is a common error in classification tasks and can be due to the fact that the model is not able to learn the features that distinguish between the two classes.\n",
        "    * Moreover around 20% of the errors are tweets where there is atleast one OOV token"
      ]
    },
    {
      "cell_type": "markdown",
      "metadata": {
        "id": "d3G2ZV4fC7t_"
      },
      "source": [
        "Get the slice of the test dataset where the model is failing to classify the tweets (wrong predictions). This can be useful to understand why the model is failing to classify the tweets and to have an idea of the features that the model is not able to learn."
      ]
    },
    {
      "cell_type": "code",
      "execution_count": null,
      "metadata": {
        "id": "lFef9Oo5C7t_",
        "outputId": "35af0699-a976-4ce9-f8c8-c4533bfad02f"
      },
      "outputs": [
        {
          "data": {
            "text/plain": [
              "array(['“I mean I do, but… wouldn’t it be fun to get gangbanged together~?” https://t.co/lNRZ9z53VL',\n",
              "       \"@LogicalFallac18 @LBC Sex* as in 'gender' harassment is what they are inferring.\",\n",
              "       'Appreciate being included along with @wphillips49 on the Uvalde gunman’s history of cyber gender harassment. Regrettably unshocking. @UVALaw https://t.co/gg1UwHYdIf',\n",
              "       \"@EyemotionFandom How did we reach a point where blonks are having the audacity to talk about yoongis rap do y'all see who you Stan ? Are y'all ok ?? Your girls can't write can't deliver can't come close to bts's lyricism tf are y'all getting brave for ?? Fashion deals ??\",\n",
              "       '@Catoishere @HatClub @RahnniFitteds That gold digger is nice but the picture and set up for them are elite. Pinwork is like the revealing of the Mona Lisa. Always a work of art.',\n",
              "       'He Tries To Expose This Gold Digger BUT IT BACKFIRES. | 90 Day Fiancée B... https://t.co/pz91AbJ0WS via @YouTube',\n",
              "       '@MatrixPirate12 Well let me ask for the guys… do you ever just grab your testicles because you can?',\n",
              "       \"Dear @starwars fans Can we not harass talented actors of color? Stop being racist douche nozzles. This is why we can't have nice things. Moses is a badass inquisitor and y'all can't handle her badassary. https://t.co/bczGdn6evx\",\n",
              "       'Aughhh i still got an exam tomorrow. I hate women',\n",
              "       '@DaddyBrianMC @roadhouse2100 @stlcty03 Not as much as they harm/kill women and children, by a long shot (pun intended)',\n",
              "       '@BoopBepp @Helloth07860784 @Bronwen85 Yup I hate when men rape and kill women. https://t.co/MyfVPu6THd',\n",
              "       \"Calls to clean up Parliament's laddish culture after MP's porn shame https://t.co/3AC2ArWrjF via https://t.co/LiNou8Ixhu\",\n",
              "       \"Ladies,don't let anyone body shame you in any way...you are fat so what..you are beautiful my dear...be confident in yourself...peace\",\n",
              "       'Stop ✋🏾 Don’t lie to these people. Ladies, don’t let this man trick you out of the greatest organs of your life 🙄 cause  what? https://t.co/secSDVvFKz',\n",
              "       \"Ladies, don't have a miscarriage in Louisiana! If you do, in addition to probably having your friends and family sued by some opportunistic yokel, you'll be charged with murder.  https://t.co/6JtnjUCkLC\",\n",
              "       '\"Dude Looks Like A Lady\" 💫🎶Aerosmith🎶🎸⚡️💫https://t.co/41OxpV6YWm',\n",
              "       'Mansplaining the concept of a pee drawer to my partner (who want me)',\n",
              "       'Going weak rn... PLAYING THE GUITAR?!?!?! MANSPREADING!?!??!?! I AM ON MY KNEES https://t.co/yKABMDXGmg',\n",
              "       'stay on Penis masturbate the Penis forever https://t.co/lOtwLsVr12',\n",
              "       '@jcollie @thevivafrei @ewarren I don’t need a man to tell me what to stand up for, thank you.',\n",
              "       \"@ShelleyKingsto3 @CNP_MacFarlane @CanadianinAB It's objectification &amp; dehumanizing. I saw someone take time out of their day to make a strong political point about Horwath 🙄(sarcasm) -- he Tweeted about how her photo looked like it had lots of photoshop. Such pathetic clowns.\",\n",
              "       '\"As a diverse and pluralistic country, America’s laws should not be based on a distorted and patriarchal interpretation of Christianity. Furthermore, the government should have no role whatsoever in a woman’s private healthcare decisions.\"',\n",
              "       '@tuckednuts Notice something else tho…Almost every single one, is a man. That’s such a fucking problem that this is how some men believe they should let out their angers and hatred. This society needs to do better, it does not even benefit the men. Patriarchy/misogyny fails everyone',\n",
              "       '@BetteMidler It’s in the TEAxASS code book of penis envy idiots that it’s guns over everything. Sad thing is it’s spreading and the more we try to stop it, the faster it spreads like the diseased idiots that support it.',\n",
              "       '@Mistywoman1 Have I missed something, or has phallocentrism become the latest cult?',\n",
              "       \"Fuck's sake is it possible to have a furry space that's not explicitly content-restricted and doesn't immediately become yet another showcase for size-queen phallocentrism?\",\n",
              "       'Cyborg politics is the struggle for language and the struggle against perfect communication, against the one code that translates all meaning perfectly, the central dogma of phallogocentrism',\n",
              "       '@AquariusElayne @MissMaryMcInOR @DarbysCastle @EileenM60933733 Sharia law in the religion of Islam allows abortion before the 5th montha for Rape, Incest, Mental/Physical health, or Life of Mother is at risk. After the 5th Month, abortion allowed only to save the life of the Mother.',\n",
              "       '\"Calling A Man Bald Is Sexual Harassment\" https://t.co/MiSGkB89bs via @YouTube',\n",
              "       'According to the Human Rights Commission, 1 in 3 people experience sexual harassment at work. We have created an online course  providing strategies to prevent and respond should incidents occur. Start your course at: https://t.co/yC40T3cJao #guardianpst https://t.co/oTwKxFqxQN',\n",
              "       '@townhallcom I don’t care what gender, race, religion,sexual orientation a person is as long as they are qualified for that position. That being said, is she qualified based on experience/education or was she chosen solely because she is black and gay to please progressives/woke. Just saying.',\n",
              "       '@djxmenez yea back when i didn’t even have one to slap, unfortunate !',\n",
              "       \"Wen I'm rich I hope the broke nigga in me survives cuz I ain't ever paying 54 bucks for a salad. I hope the trenches slap that shit outta my hand.\",\n",
              "       '@TheNon_Nun Never knew you all share tits, how did we stop being pals again yeah ?🌚',\n",
              "       'BOUNCEEYYYY BOOBIEEEESSSSSS #hookup #BOUNCEY #boobs #boobie #tits https://t.co/lUAuZkT5w3',\n",
              "       '@UberFacts Today’s women eye makeup. And those nails too.',\n",
              "       \"@maria56_lamb I packed my hubbies case when we were going to a wedding in england, told him to pop his underpants in.  Gets to England, he puts his kilt outfit on and everyone discovered what a true scot doesn't wear under his kilt.  If I don't do it, it doesn't get done.  Men!\",\n",
              "       '@bhargavtata0 oh so now u can’t understand women’s words??????',\n",
              "       'the question is do i wear the very short skirt that literally shows my ass with kneehighs or opt out for a short 🤔',\n",
              "       '@CheriJacobus My new favorite meme is the pregnant woman driving in the Oklahoma HOV lane telling the state trooper who pulled her over that she is driving with another person..',\n",
              "       'Feminism VS Womanism\"Hudson-Weems identifies further differences between womanism and feminism being; womanism is \"family-oriented\" and focuses on race, class, and gender, while feminism is \"female-oriented\" and strictly focuses on biological sex related issues women face.\" https://t.co/D5p9VCPTmn',\n",
              "       \"@CrossrdsCMG Yeah, women are getting just as bad. I've noticed it anyway, I'm sorry people are sending you stuff like that, it can be so gross!\",\n",
              "       'Yo I swear  sagittarius men and women are the funniest 😭😭😭😭😂😂😂😂😂😂😭😭😭😭😭',\n",
              "       \"@joelaltonmoore @KMisGrand @TheMrBarramundi @ZipPulse A vasectomy is a simple surgery done in an office, hospital, or clinic. 24 hours later recovery is pretty much complete!Tubal ligation recovery takes 1-3 weeks, longer if it's done following a C-section or childbirth. Many women can't afford to take 1-3 weeks off work!\",\n",
              "       '@KimFawcett11 @FrenchFem @Wild_Womyn WOW! Trouble Making Witches Unite!',\n",
              "       \"Uh, they're allowed to? calling this out makes you look like a cunt. Fortunately, I'll block you so fast you wont get your screenshot. https://t.co/iyWul5BoN6\",\n",
              "       \"@JetCelestial @polgara28951124 @CharlotteEmmaUK I don't know what you're on about? My point was that you shouldn't mock other people's looks, because it's very shallow and makes you look like a cunt. Thanks for your input though 👍\"],\n",
              "      dtype=object)"
            ]
          },
          "execution_count": 85,
          "metadata": {},
          "output_type": "execute_result"
        }
      ],
      "source": [
        "test_copy[test_copy['id_EXIST'].isin(wrong_tweet_ids)].tweet.values"
      ]
    },
    {
      "cell_type": "markdown",
      "metadata": {
        "id": "lCNhVqZ9-bRL"
      },
      "source": [
        "# Task 8: Report\n",
        "\n",
        "Wrap up your experiment in a short report (up to 2 pages).\n",
        "\n",
        "* Use the NLP course report template.\n",
        "* Summarize each task in the report following the provided template.\n",
        "\n",
        "The report is not a copy-paste of graphs, tables, and command outputs.\n",
        "\n",
        "* Summarize classification performance in Table format.\n",
        "* **Do not** report command outputs or screenshots.\n",
        "* Report learning curves in Figure format.\n",
        "* The error analysis section should summarize your findings."
      ]
    }
  ],
  "metadata": {
    "accelerator": "GPU",
    "colab": {
      "gpuType": "T4",
      "provenance": []
    },
    "kernelspec": {
      "display_name": "Python 3",
      "name": "python3"
    },
    "language_info": {
      "codemirror_mode": {
        "name": "ipython",
        "version": 3
      },
      "file_extension": ".py",
      "mimetype": "text/x-python",
      "name": "python",
      "nbconvert_exporter": "python",
      "pygments_lexer": "ipython3",
      "version": "3.12.3"
    },
    "widgets": {
      "application/vnd.jupyter.widget-state+json": {
        "ad2fdbff9bb94a428d4d9bba26a9227a": {
          "model_module": "@jupyter-widgets/controls",
          "model_name": "HBoxModel",
          "model_module_version": "1.5.0",
          "state": {
            "_dom_classes": [],
            "_model_module": "@jupyter-widgets/controls",
            "_model_module_version": "1.5.0",
            "_model_name": "HBoxModel",
            "_view_count": null,
            "_view_module": "@jupyter-widgets/controls",
            "_view_module_version": "1.5.0",
            "_view_name": "HBoxView",
            "box_style": "",
            "children": [
              "IPY_MODEL_f3f07832d759492fbbbb8b122358421d",
              "IPY_MODEL_d9f8ee15420a4fab9b2e458344c0393b",
              "IPY_MODEL_3ac29ea09e5c4f8db9657e56a1d12a6c"
            ],
            "layout": "IPY_MODEL_4312146943be4263a594c15a0df095a1"
          }
        },
        "f3f07832d759492fbbbb8b122358421d": {
          "model_module": "@jupyter-widgets/controls",
          "model_name": "HTMLModel",
          "model_module_version": "1.5.0",
          "state": {
            "_dom_classes": [],
            "_model_module": "@jupyter-widgets/controls",
            "_model_module_version": "1.5.0",
            "_model_name": "HTMLModel",
            "_view_count": null,
            "_view_module": "@jupyter-widgets/controls",
            "_view_module_version": "1.5.0",
            "_view_name": "HTMLView",
            "description": "",
            "description_tooltip": null,
            "layout": "IPY_MODEL_e314abf17ead42158468f5d0847f25cd",
            "placeholder": "​",
            "style": "IPY_MODEL_392b67ddfb28405997e480da9608c65f",
            "value": "Map: 100%"
          }
        },
        "d9f8ee15420a4fab9b2e458344c0393b": {
          "model_module": "@jupyter-widgets/controls",
          "model_name": "FloatProgressModel",
          "model_module_version": "1.5.0",
          "state": {
            "_dom_classes": [],
            "_model_module": "@jupyter-widgets/controls",
            "_model_module_version": "1.5.0",
            "_model_name": "FloatProgressModel",
            "_view_count": null,
            "_view_module": "@jupyter-widgets/controls",
            "_view_module_version": "1.5.0",
            "_view_name": "ProgressView",
            "bar_style": "success",
            "description": "",
            "description_tooltip": null,
            "layout": "IPY_MODEL_a678740f297846a9ba51343ef9acccb7",
            "max": 2870,
            "min": 0,
            "orientation": "horizontal",
            "style": "IPY_MODEL_a501948a177942118b9b9f0bdfdd92b6",
            "value": 2870
          }
        },
        "3ac29ea09e5c4f8db9657e56a1d12a6c": {
          "model_module": "@jupyter-widgets/controls",
          "model_name": "HTMLModel",
          "model_module_version": "1.5.0",
          "state": {
            "_dom_classes": [],
            "_model_module": "@jupyter-widgets/controls",
            "_model_module_version": "1.5.0",
            "_model_name": "HTMLModel",
            "_view_count": null,
            "_view_module": "@jupyter-widgets/controls",
            "_view_module_version": "1.5.0",
            "_view_name": "HTMLView",
            "description": "",
            "description_tooltip": null,
            "layout": "IPY_MODEL_a360ce1b71c74c569d5d16b818e15d10",
            "placeholder": "​",
            "style": "IPY_MODEL_ed24a4a107564712b5239f68fe8b807f",
            "value": " 2870/2870 [00:00&lt;00:00, 7893.55 examples/s]"
          }
        },
        "4312146943be4263a594c15a0df095a1": {
          "model_module": "@jupyter-widgets/base",
          "model_name": "LayoutModel",
          "model_module_version": "1.2.0",
          "state": {
            "_model_module": "@jupyter-widgets/base",
            "_model_module_version": "1.2.0",
            "_model_name": "LayoutModel",
            "_view_count": null,
            "_view_module": "@jupyter-widgets/base",
            "_view_module_version": "1.2.0",
            "_view_name": "LayoutView",
            "align_content": null,
            "align_items": null,
            "align_self": null,
            "border": null,
            "bottom": null,
            "display": null,
            "flex": null,
            "flex_flow": null,
            "grid_area": null,
            "grid_auto_columns": null,
            "grid_auto_flow": null,
            "grid_auto_rows": null,
            "grid_column": null,
            "grid_gap": null,
            "grid_row": null,
            "grid_template_areas": null,
            "grid_template_columns": null,
            "grid_template_rows": null,
            "height": null,
            "justify_content": null,
            "justify_items": null,
            "left": null,
            "margin": null,
            "max_height": null,
            "max_width": null,
            "min_height": null,
            "min_width": null,
            "object_fit": null,
            "object_position": null,
            "order": null,
            "overflow": null,
            "overflow_x": null,
            "overflow_y": null,
            "padding": null,
            "right": null,
            "top": null,
            "visibility": null,
            "width": null
          }
        },
        "e314abf17ead42158468f5d0847f25cd": {
          "model_module": "@jupyter-widgets/base",
          "model_name": "LayoutModel",
          "model_module_version": "1.2.0",
          "state": {
            "_model_module": "@jupyter-widgets/base",
            "_model_module_version": "1.2.0",
            "_model_name": "LayoutModel",
            "_view_count": null,
            "_view_module": "@jupyter-widgets/base",
            "_view_module_version": "1.2.0",
            "_view_name": "LayoutView",
            "align_content": null,
            "align_items": null,
            "align_self": null,
            "border": null,
            "bottom": null,
            "display": null,
            "flex": null,
            "flex_flow": null,
            "grid_area": null,
            "grid_auto_columns": null,
            "grid_auto_flow": null,
            "grid_auto_rows": null,
            "grid_column": null,
            "grid_gap": null,
            "grid_row": null,
            "grid_template_areas": null,
            "grid_template_columns": null,
            "grid_template_rows": null,
            "height": null,
            "justify_content": null,
            "justify_items": null,
            "left": null,
            "margin": null,
            "max_height": null,
            "max_width": null,
            "min_height": null,
            "min_width": null,
            "object_fit": null,
            "object_position": null,
            "order": null,
            "overflow": null,
            "overflow_x": null,
            "overflow_y": null,
            "padding": null,
            "right": null,
            "top": null,
            "visibility": null,
            "width": null
          }
        },
        "392b67ddfb28405997e480da9608c65f": {
          "model_module": "@jupyter-widgets/controls",
          "model_name": "DescriptionStyleModel",
          "model_module_version": "1.5.0",
          "state": {
            "_model_module": "@jupyter-widgets/controls",
            "_model_module_version": "1.5.0",
            "_model_name": "DescriptionStyleModel",
            "_view_count": null,
            "_view_module": "@jupyter-widgets/base",
            "_view_module_version": "1.2.0",
            "_view_name": "StyleView",
            "description_width": ""
          }
        },
        "a678740f297846a9ba51343ef9acccb7": {
          "model_module": "@jupyter-widgets/base",
          "model_name": "LayoutModel",
          "model_module_version": "1.2.0",
          "state": {
            "_model_module": "@jupyter-widgets/base",
            "_model_module_version": "1.2.0",
            "_model_name": "LayoutModel",
            "_view_count": null,
            "_view_module": "@jupyter-widgets/base",
            "_view_module_version": "1.2.0",
            "_view_name": "LayoutView",
            "align_content": null,
            "align_items": null,
            "align_self": null,
            "border": null,
            "bottom": null,
            "display": null,
            "flex": null,
            "flex_flow": null,
            "grid_area": null,
            "grid_auto_columns": null,
            "grid_auto_flow": null,
            "grid_auto_rows": null,
            "grid_column": null,
            "grid_gap": null,
            "grid_row": null,
            "grid_template_areas": null,
            "grid_template_columns": null,
            "grid_template_rows": null,
            "height": null,
            "justify_content": null,
            "justify_items": null,
            "left": null,
            "margin": null,
            "max_height": null,
            "max_width": null,
            "min_height": null,
            "min_width": null,
            "object_fit": null,
            "object_position": null,
            "order": null,
            "overflow": null,
            "overflow_x": null,
            "overflow_y": null,
            "padding": null,
            "right": null,
            "top": null,
            "visibility": null,
            "width": null
          }
        },
        "a501948a177942118b9b9f0bdfdd92b6": {
          "model_module": "@jupyter-widgets/controls",
          "model_name": "ProgressStyleModel",
          "model_module_version": "1.5.0",
          "state": {
            "_model_module": "@jupyter-widgets/controls",
            "_model_module_version": "1.5.0",
            "_model_name": "ProgressStyleModel",
            "_view_count": null,
            "_view_module": "@jupyter-widgets/base",
            "_view_module_version": "1.2.0",
            "_view_name": "StyleView",
            "bar_color": null,
            "description_width": ""
          }
        },
        "a360ce1b71c74c569d5d16b818e15d10": {
          "model_module": "@jupyter-widgets/base",
          "model_name": "LayoutModel",
          "model_module_version": "1.2.0",
          "state": {
            "_model_module": "@jupyter-widgets/base",
            "_model_module_version": "1.2.0",
            "_model_name": "LayoutModel",
            "_view_count": null,
            "_view_module": "@jupyter-widgets/base",
            "_view_module_version": "1.2.0",
            "_view_name": "LayoutView",
            "align_content": null,
            "align_items": null,
            "align_self": null,
            "border": null,
            "bottom": null,
            "display": null,
            "flex": null,
            "flex_flow": null,
            "grid_area": null,
            "grid_auto_columns": null,
            "grid_auto_flow": null,
            "grid_auto_rows": null,
            "grid_column": null,
            "grid_gap": null,
            "grid_row": null,
            "grid_template_areas": null,
            "grid_template_columns": null,
            "grid_template_rows": null,
            "height": null,
            "justify_content": null,
            "justify_items": null,
            "left": null,
            "margin": null,
            "max_height": null,
            "max_width": null,
            "min_height": null,
            "min_width": null,
            "object_fit": null,
            "object_position": null,
            "order": null,
            "overflow": null,
            "overflow_x": null,
            "overflow_y": null,
            "padding": null,
            "right": null,
            "top": null,
            "visibility": null,
            "width": null
          }
        },
        "ed24a4a107564712b5239f68fe8b807f": {
          "model_module": "@jupyter-widgets/controls",
          "model_name": "DescriptionStyleModel",
          "model_module_version": "1.5.0",
          "state": {
            "_model_module": "@jupyter-widgets/controls",
            "_model_module_version": "1.5.0",
            "_model_name": "DescriptionStyleModel",
            "_view_count": null,
            "_view_module": "@jupyter-widgets/base",
            "_view_module_version": "1.2.0",
            "_view_name": "StyleView",
            "description_width": ""
          }
        },
        "14d960b7685f4c24af674b53167820c0": {
          "model_module": "@jupyter-widgets/controls",
          "model_name": "HBoxModel",
          "model_module_version": "1.5.0",
          "state": {
            "_dom_classes": [],
            "_model_module": "@jupyter-widgets/controls",
            "_model_module_version": "1.5.0",
            "_model_name": "HBoxModel",
            "_view_count": null,
            "_view_module": "@jupyter-widgets/controls",
            "_view_module_version": "1.5.0",
            "_view_name": "HBoxView",
            "box_style": "",
            "children": [
              "IPY_MODEL_14022f99a32c4f5eb2a60adde2157e2c",
              "IPY_MODEL_e7ec1d78fc9349e780b4c67aef084c81",
              "IPY_MODEL_76e3d0f5fad6467d8ecde4d8d2b28a73"
            ],
            "layout": "IPY_MODEL_99ae46da3b984572a92a4031f36ec845"
          }
        },
        "14022f99a32c4f5eb2a60adde2157e2c": {
          "model_module": "@jupyter-widgets/controls",
          "model_name": "HTMLModel",
          "model_module_version": "1.5.0",
          "state": {
            "_dom_classes": [],
            "_model_module": "@jupyter-widgets/controls",
            "_model_module_version": "1.5.0",
            "_model_name": "HTMLModel",
            "_view_count": null,
            "_view_module": "@jupyter-widgets/controls",
            "_view_module_version": "1.5.0",
            "_view_name": "HTMLView",
            "description": "",
            "description_tooltip": null,
            "layout": "IPY_MODEL_d160fc03521b429e9c6a2f71978f5697",
            "placeholder": "​",
            "style": "IPY_MODEL_0fd8d961f74940998a6dcadd9ca11020",
            "value": "Map: 100%"
          }
        },
        "e7ec1d78fc9349e780b4c67aef084c81": {
          "model_module": "@jupyter-widgets/controls",
          "model_name": "FloatProgressModel",
          "model_module_version": "1.5.0",
          "state": {
            "_dom_classes": [],
            "_model_module": "@jupyter-widgets/controls",
            "_model_module_version": "1.5.0",
            "_model_name": "FloatProgressModel",
            "_view_count": null,
            "_view_module": "@jupyter-widgets/controls",
            "_view_module_version": "1.5.0",
            "_view_name": "ProgressView",
            "bar_style": "success",
            "description": "",
            "description_tooltip": null,
            "layout": "IPY_MODEL_010af9ad50c342aa8ffd390913656783",
            "max": 158,
            "min": 0,
            "orientation": "horizontal",
            "style": "IPY_MODEL_37f6e3a55fae4e89b226d65799c056ae",
            "value": 158
          }
        },
        "76e3d0f5fad6467d8ecde4d8d2b28a73": {
          "model_module": "@jupyter-widgets/controls",
          "model_name": "HTMLModel",
          "model_module_version": "1.5.0",
          "state": {
            "_dom_classes": [],
            "_model_module": "@jupyter-widgets/controls",
            "_model_module_version": "1.5.0",
            "_model_name": "HTMLModel",
            "_view_count": null,
            "_view_module": "@jupyter-widgets/controls",
            "_view_module_version": "1.5.0",
            "_view_name": "HTMLView",
            "description": "",
            "description_tooltip": null,
            "layout": "IPY_MODEL_dfb7f13e3f104a0292e083a58fa39623",
            "placeholder": "​",
            "style": "IPY_MODEL_a0740bcd833f480cb5b80b66176ee355",
            "value": " 158/158 [00:00&lt;00:00, 2286.69 examples/s]"
          }
        },
        "99ae46da3b984572a92a4031f36ec845": {
          "model_module": "@jupyter-widgets/base",
          "model_name": "LayoutModel",
          "model_module_version": "1.2.0",
          "state": {
            "_model_module": "@jupyter-widgets/base",
            "_model_module_version": "1.2.0",
            "_model_name": "LayoutModel",
            "_view_count": null,
            "_view_module": "@jupyter-widgets/base",
            "_view_module_version": "1.2.0",
            "_view_name": "LayoutView",
            "align_content": null,
            "align_items": null,
            "align_self": null,
            "border": null,
            "bottom": null,
            "display": null,
            "flex": null,
            "flex_flow": null,
            "grid_area": null,
            "grid_auto_columns": null,
            "grid_auto_flow": null,
            "grid_auto_rows": null,
            "grid_column": null,
            "grid_gap": null,
            "grid_row": null,
            "grid_template_areas": null,
            "grid_template_columns": null,
            "grid_template_rows": null,
            "height": null,
            "justify_content": null,
            "justify_items": null,
            "left": null,
            "margin": null,
            "max_height": null,
            "max_width": null,
            "min_height": null,
            "min_width": null,
            "object_fit": null,
            "object_position": null,
            "order": null,
            "overflow": null,
            "overflow_x": null,
            "overflow_y": null,
            "padding": null,
            "right": null,
            "top": null,
            "visibility": null,
            "width": null
          }
        },
        "d160fc03521b429e9c6a2f71978f5697": {
          "model_module": "@jupyter-widgets/base",
          "model_name": "LayoutModel",
          "model_module_version": "1.2.0",
          "state": {
            "_model_module": "@jupyter-widgets/base",
            "_model_module_version": "1.2.0",
            "_model_name": "LayoutModel",
            "_view_count": null,
            "_view_module": "@jupyter-widgets/base",
            "_view_module_version": "1.2.0",
            "_view_name": "LayoutView",
            "align_content": null,
            "align_items": null,
            "align_self": null,
            "border": null,
            "bottom": null,
            "display": null,
            "flex": null,
            "flex_flow": null,
            "grid_area": null,
            "grid_auto_columns": null,
            "grid_auto_flow": null,
            "grid_auto_rows": null,
            "grid_column": null,
            "grid_gap": null,
            "grid_row": null,
            "grid_template_areas": null,
            "grid_template_columns": null,
            "grid_template_rows": null,
            "height": null,
            "justify_content": null,
            "justify_items": null,
            "left": null,
            "margin": null,
            "max_height": null,
            "max_width": null,
            "min_height": null,
            "min_width": null,
            "object_fit": null,
            "object_position": null,
            "order": null,
            "overflow": null,
            "overflow_x": null,
            "overflow_y": null,
            "padding": null,
            "right": null,
            "top": null,
            "visibility": null,
            "width": null
          }
        },
        "0fd8d961f74940998a6dcadd9ca11020": {
          "model_module": "@jupyter-widgets/controls",
          "model_name": "DescriptionStyleModel",
          "model_module_version": "1.5.0",
          "state": {
            "_model_module": "@jupyter-widgets/controls",
            "_model_module_version": "1.5.0",
            "_model_name": "DescriptionStyleModel",
            "_view_count": null,
            "_view_module": "@jupyter-widgets/base",
            "_view_module_version": "1.2.0",
            "_view_name": "StyleView",
            "description_width": ""
          }
        },
        "010af9ad50c342aa8ffd390913656783": {
          "model_module": "@jupyter-widgets/base",
          "model_name": "LayoutModel",
          "model_module_version": "1.2.0",
          "state": {
            "_model_module": "@jupyter-widgets/base",
            "_model_module_version": "1.2.0",
            "_model_name": "LayoutModel",
            "_view_count": null,
            "_view_module": "@jupyter-widgets/base",
            "_view_module_version": "1.2.0",
            "_view_name": "LayoutView",
            "align_content": null,
            "align_items": null,
            "align_self": null,
            "border": null,
            "bottom": null,
            "display": null,
            "flex": null,
            "flex_flow": null,
            "grid_area": null,
            "grid_auto_columns": null,
            "grid_auto_flow": null,
            "grid_auto_rows": null,
            "grid_column": null,
            "grid_gap": null,
            "grid_row": null,
            "grid_template_areas": null,
            "grid_template_columns": null,
            "grid_template_rows": null,
            "height": null,
            "justify_content": null,
            "justify_items": null,
            "left": null,
            "margin": null,
            "max_height": null,
            "max_width": null,
            "min_height": null,
            "min_width": null,
            "object_fit": null,
            "object_position": null,
            "order": null,
            "overflow": null,
            "overflow_x": null,
            "overflow_y": null,
            "padding": null,
            "right": null,
            "top": null,
            "visibility": null,
            "width": null
          }
        },
        "37f6e3a55fae4e89b226d65799c056ae": {
          "model_module": "@jupyter-widgets/controls",
          "model_name": "ProgressStyleModel",
          "model_module_version": "1.5.0",
          "state": {
            "_model_module": "@jupyter-widgets/controls",
            "_model_module_version": "1.5.0",
            "_model_name": "ProgressStyleModel",
            "_view_count": null,
            "_view_module": "@jupyter-widgets/base",
            "_view_module_version": "1.2.0",
            "_view_name": "StyleView",
            "bar_color": null,
            "description_width": ""
          }
        },
        "dfb7f13e3f104a0292e083a58fa39623": {
          "model_module": "@jupyter-widgets/base",
          "model_name": "LayoutModel",
          "model_module_version": "1.2.0",
          "state": {
            "_model_module": "@jupyter-widgets/base",
            "_model_module_version": "1.2.0",
            "_model_name": "LayoutModel",
            "_view_count": null,
            "_view_module": "@jupyter-widgets/base",
            "_view_module_version": "1.2.0",
            "_view_name": "LayoutView",
            "align_content": null,
            "align_items": null,
            "align_self": null,
            "border": null,
            "bottom": null,
            "display": null,
            "flex": null,
            "flex_flow": null,
            "grid_area": null,
            "grid_auto_columns": null,
            "grid_auto_flow": null,
            "grid_auto_rows": null,
            "grid_column": null,
            "grid_gap": null,
            "grid_row": null,
            "grid_template_areas": null,
            "grid_template_columns": null,
            "grid_template_rows": null,
            "height": null,
            "justify_content": null,
            "justify_items": null,
            "left": null,
            "margin": null,
            "max_height": null,
            "max_width": null,
            "min_height": null,
            "min_width": null,
            "object_fit": null,
            "object_position": null,
            "order": null,
            "overflow": null,
            "overflow_x": null,
            "overflow_y": null,
            "padding": null,
            "right": null,
            "top": null,
            "visibility": null,
            "width": null
          }
        },
        "a0740bcd833f480cb5b80b66176ee355": {
          "model_module": "@jupyter-widgets/controls",
          "model_name": "DescriptionStyleModel",
          "model_module_version": "1.5.0",
          "state": {
            "_model_module": "@jupyter-widgets/controls",
            "_model_module_version": "1.5.0",
            "_model_name": "DescriptionStyleModel",
            "_view_count": null,
            "_view_module": "@jupyter-widgets/base",
            "_view_module_version": "1.2.0",
            "_view_name": "StyleView",
            "description_width": ""
          }
        },
        "4c6bc25ec6fe43449db337905e28f7a8": {
          "model_module": "@jupyter-widgets/controls",
          "model_name": "HBoxModel",
          "model_module_version": "1.5.0",
          "state": {
            "_dom_classes": [],
            "_model_module": "@jupyter-widgets/controls",
            "_model_module_version": "1.5.0",
            "_model_name": "HBoxModel",
            "_view_count": null,
            "_view_module": "@jupyter-widgets/controls",
            "_view_module_version": "1.5.0",
            "_view_name": "HBoxView",
            "box_style": "",
            "children": [
              "IPY_MODEL_41913e5ec0fd471fb19467573ed0c4c8",
              "IPY_MODEL_baec7636b03b400284fc84d2dd0f059f",
              "IPY_MODEL_67a557cd7c8141a3a3e004703bc853df"
            ],
            "layout": "IPY_MODEL_d17b118594574bdcae63d547485ee16b"
          }
        },
        "41913e5ec0fd471fb19467573ed0c4c8": {
          "model_module": "@jupyter-widgets/controls",
          "model_name": "HTMLModel",
          "model_module_version": "1.5.0",
          "state": {
            "_dom_classes": [],
            "_model_module": "@jupyter-widgets/controls",
            "_model_module_version": "1.5.0",
            "_model_name": "HTMLModel",
            "_view_count": null,
            "_view_module": "@jupyter-widgets/controls",
            "_view_module_version": "1.5.0",
            "_view_name": "HTMLView",
            "description": "",
            "description_tooltip": null,
            "layout": "IPY_MODEL_6164ba82b8ab4195bf77e0db1c3d4e54",
            "placeholder": "​",
            "style": "IPY_MODEL_d92a05827a4f4617a01a029eebdb2e4b",
            "value": "Map: 100%"
          }
        },
        "baec7636b03b400284fc84d2dd0f059f": {
          "model_module": "@jupyter-widgets/controls",
          "model_name": "FloatProgressModel",
          "model_module_version": "1.5.0",
          "state": {
            "_dom_classes": [],
            "_model_module": "@jupyter-widgets/controls",
            "_model_module_version": "1.5.0",
            "_model_name": "FloatProgressModel",
            "_view_count": null,
            "_view_module": "@jupyter-widgets/controls",
            "_view_module_version": "1.5.0",
            "_view_name": "ProgressView",
            "bar_style": "success",
            "description": "",
            "description_tooltip": null,
            "layout": "IPY_MODEL_9b749ee0bea046a0bd2569f95dd3629e",
            "max": 286,
            "min": 0,
            "orientation": "horizontal",
            "style": "IPY_MODEL_78395c4346574282b7b3e7dfaca0f4ee",
            "value": 286
          }
        },
        "67a557cd7c8141a3a3e004703bc853df": {
          "model_module": "@jupyter-widgets/controls",
          "model_name": "HTMLModel",
          "model_module_version": "1.5.0",
          "state": {
            "_dom_classes": [],
            "_model_module": "@jupyter-widgets/controls",
            "_model_module_version": "1.5.0",
            "_model_name": "HTMLModel",
            "_view_count": null,
            "_view_module": "@jupyter-widgets/controls",
            "_view_module_version": "1.5.0",
            "_view_name": "HTMLView",
            "description": "",
            "description_tooltip": null,
            "layout": "IPY_MODEL_8df32711e7c340ccbf3d92d65f981421",
            "placeholder": "​",
            "style": "IPY_MODEL_dcaa7a024ddb4c19b25b6ad837e8f278",
            "value": " 286/286 [00:00&lt;00:00, 3590.67 examples/s]"
          }
        },
        "d17b118594574bdcae63d547485ee16b": {
          "model_module": "@jupyter-widgets/base",
          "model_name": "LayoutModel",
          "model_module_version": "1.2.0",
          "state": {
            "_model_module": "@jupyter-widgets/base",
            "_model_module_version": "1.2.0",
            "_model_name": "LayoutModel",
            "_view_count": null,
            "_view_module": "@jupyter-widgets/base",
            "_view_module_version": "1.2.0",
            "_view_name": "LayoutView",
            "align_content": null,
            "align_items": null,
            "align_self": null,
            "border": null,
            "bottom": null,
            "display": null,
            "flex": null,
            "flex_flow": null,
            "grid_area": null,
            "grid_auto_columns": null,
            "grid_auto_flow": null,
            "grid_auto_rows": null,
            "grid_column": null,
            "grid_gap": null,
            "grid_row": null,
            "grid_template_areas": null,
            "grid_template_columns": null,
            "grid_template_rows": null,
            "height": null,
            "justify_content": null,
            "justify_items": null,
            "left": null,
            "margin": null,
            "max_height": null,
            "max_width": null,
            "min_height": null,
            "min_width": null,
            "object_fit": null,
            "object_position": null,
            "order": null,
            "overflow": null,
            "overflow_x": null,
            "overflow_y": null,
            "padding": null,
            "right": null,
            "top": null,
            "visibility": null,
            "width": null
          }
        },
        "6164ba82b8ab4195bf77e0db1c3d4e54": {
          "model_module": "@jupyter-widgets/base",
          "model_name": "LayoutModel",
          "model_module_version": "1.2.0",
          "state": {
            "_model_module": "@jupyter-widgets/base",
            "_model_module_version": "1.2.0",
            "_model_name": "LayoutModel",
            "_view_count": null,
            "_view_module": "@jupyter-widgets/base",
            "_view_module_version": "1.2.0",
            "_view_name": "LayoutView",
            "align_content": null,
            "align_items": null,
            "align_self": null,
            "border": null,
            "bottom": null,
            "display": null,
            "flex": null,
            "flex_flow": null,
            "grid_area": null,
            "grid_auto_columns": null,
            "grid_auto_flow": null,
            "grid_auto_rows": null,
            "grid_column": null,
            "grid_gap": null,
            "grid_row": null,
            "grid_template_areas": null,
            "grid_template_columns": null,
            "grid_template_rows": null,
            "height": null,
            "justify_content": null,
            "justify_items": null,
            "left": null,
            "margin": null,
            "max_height": null,
            "max_width": null,
            "min_height": null,
            "min_width": null,
            "object_fit": null,
            "object_position": null,
            "order": null,
            "overflow": null,
            "overflow_x": null,
            "overflow_y": null,
            "padding": null,
            "right": null,
            "top": null,
            "visibility": null,
            "width": null
          }
        },
        "d92a05827a4f4617a01a029eebdb2e4b": {
          "model_module": "@jupyter-widgets/controls",
          "model_name": "DescriptionStyleModel",
          "model_module_version": "1.5.0",
          "state": {
            "_model_module": "@jupyter-widgets/controls",
            "_model_module_version": "1.5.0",
            "_model_name": "DescriptionStyleModel",
            "_view_count": null,
            "_view_module": "@jupyter-widgets/base",
            "_view_module_version": "1.2.0",
            "_view_name": "StyleView",
            "description_width": ""
          }
        },
        "9b749ee0bea046a0bd2569f95dd3629e": {
          "model_module": "@jupyter-widgets/base",
          "model_name": "LayoutModel",
          "model_module_version": "1.2.0",
          "state": {
            "_model_module": "@jupyter-widgets/base",
            "_model_module_version": "1.2.0",
            "_model_name": "LayoutModel",
            "_view_count": null,
            "_view_module": "@jupyter-widgets/base",
            "_view_module_version": "1.2.0",
            "_view_name": "LayoutView",
            "align_content": null,
            "align_items": null,
            "align_self": null,
            "border": null,
            "bottom": null,
            "display": null,
            "flex": null,
            "flex_flow": null,
            "grid_area": null,
            "grid_auto_columns": null,
            "grid_auto_flow": null,
            "grid_auto_rows": null,
            "grid_column": null,
            "grid_gap": null,
            "grid_row": null,
            "grid_template_areas": null,
            "grid_template_columns": null,
            "grid_template_rows": null,
            "height": null,
            "justify_content": null,
            "justify_items": null,
            "left": null,
            "margin": null,
            "max_height": null,
            "max_width": null,
            "min_height": null,
            "min_width": null,
            "object_fit": null,
            "object_position": null,
            "order": null,
            "overflow": null,
            "overflow_x": null,
            "overflow_y": null,
            "padding": null,
            "right": null,
            "top": null,
            "visibility": null,
            "width": null
          }
        },
        "78395c4346574282b7b3e7dfaca0f4ee": {
          "model_module": "@jupyter-widgets/controls",
          "model_name": "ProgressStyleModel",
          "model_module_version": "1.5.0",
          "state": {
            "_model_module": "@jupyter-widgets/controls",
            "_model_module_version": "1.5.0",
            "_model_name": "ProgressStyleModel",
            "_view_count": null,
            "_view_module": "@jupyter-widgets/base",
            "_view_module_version": "1.2.0",
            "_view_name": "StyleView",
            "bar_color": null,
            "description_width": ""
          }
        },
        "8df32711e7c340ccbf3d92d65f981421": {
          "model_module": "@jupyter-widgets/base",
          "model_name": "LayoutModel",
          "model_module_version": "1.2.0",
          "state": {
            "_model_module": "@jupyter-widgets/base",
            "_model_module_version": "1.2.0",
            "_model_name": "LayoutModel",
            "_view_count": null,
            "_view_module": "@jupyter-widgets/base",
            "_view_module_version": "1.2.0",
            "_view_name": "LayoutView",
            "align_content": null,
            "align_items": null,
            "align_self": null,
            "border": null,
            "bottom": null,
            "display": null,
            "flex": null,
            "flex_flow": null,
            "grid_area": null,
            "grid_auto_columns": null,
            "grid_auto_flow": null,
            "grid_auto_rows": null,
            "grid_column": null,
            "grid_gap": null,
            "grid_row": null,
            "grid_template_areas": null,
            "grid_template_columns": null,
            "grid_template_rows": null,
            "height": null,
            "justify_content": null,
            "justify_items": null,
            "left": null,
            "margin": null,
            "max_height": null,
            "max_width": null,
            "min_height": null,
            "min_width": null,
            "object_fit": null,
            "object_position": null,
            "order": null,
            "overflow": null,
            "overflow_x": null,
            "overflow_y": null,
            "padding": null,
            "right": null,
            "top": null,
            "visibility": null,
            "width": null
          }
        },
        "dcaa7a024ddb4c19b25b6ad837e8f278": {
          "model_module": "@jupyter-widgets/controls",
          "model_name": "DescriptionStyleModel",
          "model_module_version": "1.5.0",
          "state": {
            "_model_module": "@jupyter-widgets/controls",
            "_model_module_version": "1.5.0",
            "_model_name": "DescriptionStyleModel",
            "_view_count": null,
            "_view_module": "@jupyter-widgets/base",
            "_view_module_version": "1.2.0",
            "_view_name": "StyleView",
            "description_width": ""
          }
        }
      }
    }
  },
  "nbformat": 4,
  "nbformat_minor": 0
}