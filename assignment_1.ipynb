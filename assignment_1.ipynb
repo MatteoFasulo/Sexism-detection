{
 "cells": [
  {
   "cell_type": "markdown",
   "metadata": {
    "id": "qmIZOuDv-bQk"
   },
   "source": [
    "<a href=\"https://colab.research.google.com/github/MatteoFasulo/Sexism-detection/blob/main/assignment_1.ipynb\" target=\"_parent\"><img src=\"https://colab.research.google.com/assets/colab-badge.svg\" alt=\"Open In Colab\"/></a>"
   ]
  },
  {
   "cell_type": "markdown",
   "metadata": {
    "id": "9vYXSXHf-bQp"
   },
   "source": [
    "# Libraries"
   ]
  },
  {
   "cell_type": "code",
   "execution_count": 1,
   "metadata": {
    "id": "rT1NnYib-cZs"
   },
   "outputs": [],
   "source": [
    "#%%capture\n",
    "#!pip install requests umap nltk gensim"
   ]
  },
  {
   "cell_type": "code",
   "execution_count": 2,
   "metadata": {
    "id": "8HsAwNAc-bQp"
   },
   "outputs": [],
   "source": [
    "import os\n",
    "import requests\n",
    "from pathlib import Path\n",
    "import re\n",
    "import json\n",
    "from typing import OrderedDict\n",
    "import copy\n",
    "\n",
    "import numpy as np\n",
    "import pandas as pd\n",
    "\n",
    "import umap\n",
    "from sklearn.manifold import TSNE\n",
    "from sklearn.decomposition import TruncatedSVD\n",
    "from sklearn.metrics import f1_score, accuracy_score\n",
    "\n",
    "import matplotlib.pyplot as plt\n",
    "\n",
    "from tqdm import tqdm\n",
    "\n",
    "import nltk\n",
    "from nltk.stem import WordNetLemmatizer\n",
    "\n",
    "import gensim\n",
    "import gensim.downloader as gloader\n",
    "\n",
    "import torch\n",
    "\n",
    "from datasets import Dataset\n",
    "from transformers import AutoTokenizer\n",
    "from transformers import DataCollatorWithPadding\n",
    "from transformers import AutoModelForSequenceClassification\n",
    "from transformers import TrainingArguments\n",
    "from transformers import Trainer\n",
    "import evaluate"
   ]
  },
  {
   "cell_type": "markdown",
   "metadata": {
    "id": "o4MUwVBe-bQt"
   },
   "source": [
    "# Class definition"
   ]
  },
  {
   "cell_type": "code",
   "execution_count": 3,
   "metadata": {
    "id": "w4OPhRgq-bQu"
   },
   "outputs": [],
   "source": [
    "class SexismDetector:\n",
    "    def __init__(self):\n",
    "\n",
    "        URL_PATTERN_STR = r\"\"\"(?i)((?:https?:(?:/{1,3}|[a-z0-9%])|[a-z0-9.\\-]+[.](?:com|net|org|edu|gov|mil|aero|asia|biz|cat|coop|info\n",
    "                      |int|jobs|mobi|museum|name|post|pro|tel|travel|xxx|ac|ad|ae|af|ag|ai|al|am|an|ao|aq|ar|as|at|au|aw|ax|az|ba|\n",
    "                      bb|bd|be|bf|bg|bh|bi|bj|bm|bn|bo|br|bs|bt|bv|bw|by|bz|ca|cc|cd|cf|cg|ch|ci|ck|cl|cm|cn|co|cr|cs|cu|cv|cx|cy|\n",
    "                      cz|dd|de|dj|dk|dm|do|dz|ec|ee|eg|eh|er|es|et|eu|fi|fj|fk|fm|fo|fr|ga|gb|gd|ge|gf|gg|gh|gi|gl|gm|gn|gp|gq|gr|\n",
    "                      gs|gt|gu|gw|gy|hk|hm|hn|hr|ht|hu|id|ie|il|im|in|io|iq|ir|is|it|je|jm|jo|jp|ke|kg|kh|ki|km|kn|kp|kr|kw|ky|kz|\n",
    "                      la|lb|lc|li|lk|lr|ls|lt|lu|lv|ly|ma|mc|md|me|mg|mh|mk|ml|mm|mn|mo|mp|mq|mr|ms|mt|mu|mv|mw|mx|my|mz|na|nc|ne|\n",
    "                      nf|ng|ni|nl|no|np|nr|nu|nz|om|pa|pe|pf|pg|ph|pk|pl|pm|pn|pr|ps|pt|pw|py|qa|re|ro|rs|ru|rw|sa|sb|sc|sd|se|sg|\n",
    "                      sh|si|sj|Ja|sk|sl|sm|sn|so|sr|ss|st|su|sv|sx|sy|sz|tc|td|tf|tg|th|tj|tk|tl|tm|tn|to|tp|tr|tt|tv|tw|tz|ua|ug|\n",
    "                      uk|us|uy|uz|va|vc|ve|vg|vi|vn|vu|wf|ws|ye|yt|yu|za|zm|zw)/)(?:[^\\s()<>{}\\[\\]]+|\\([^\\s()]*?\\([^\\s()]+\\)[^\\s()]\n",
    "                      *?\\)|\\([^\\s]+?\\))+(?:\\([^\\s()]*?\\([^\\s()]+\\)[^\\s()]*?\\)|\\([^\\s]+?\\)|[^\\s`!()\\[\\]{};:'\\\".,<>?«»“”‘’])|(?:(?<!@)\n",
    "                      [a-z0-9]+(?:[.\\-][a-z0-9]+)*[.](?:com|net|org|edu|gov|mil|aero|asia|biz|cat|coop|info|int|jobs|mobi|museum|name\n",
    "                      |post|pro|tel|travel|xxx|ac|ad|ae|af|ag|ai|al|am|an|ao|aq|ar|as|at|au|aw|ax|az|ba|bb|bd|be|bf|bg|bh|bi|bj|bm|bn\n",
    "                      |bo|br|bs|bt|bv|bw|by|bz|ca|cc|cd|cf|cg|ch|ci|ck|cl|cm|cn|co|cr|cs|cu|cv|cx|cy|cz|dd|de|dj|dk|dm|do|dz|ec|ee|eg\n",
    "                      |eh|er|es|et|eu|fi|fj|fk|fm|fo|fr|ga|gb|gd|ge|gf|gg|gh|gi|gl|gm|gn|gp|gq|gr|gs|gt|gu|gw|gy|hk|hm|hn|hr|ht|hu|id\n",
    "                      |ie|il|im|in|io|iq|ir|is|it|je|jm|jo|jp|ke|kg|kh|ki|km|kn|kp|kr|kw|ky|kz|la|lb|lc|li|lk|lr|ls|lt|lu|lv|ly|ma|mc|\n",
    "                      md|me|mg|mh|mk|ml|mm|mn|mo|mp|mq|mr|ms|mt|mu|mv|mw|mx|my|mz|na|nc|ne|nf|ng|ni|nl|no|np|nr|nu|nz|om|pa|pe|pf|pg|\n",
    "                      ph|pk|pl|pm|pn|pr|ps|pt|pw|py|qa|re|ro|rs|ru|rw|sa|sb|sc|sd|se|sg|sh|si|sj|Ja|sk|sl|sm|sn|so|sr|ss|st|su|sv|sx|\n",
    "                      sy|sz|tc|td|tf|tg|th|tj|tk|tl|tm|tn|to|tp|tr|tt|tv|tw|tz|ua|ug|uk|us|uy|uz|va|vc|ve|vg|vi|vn|vu|wf|ws|ye|yt|yu|\n",
    "                      za|zm|zw)\\b/?(?!@)))\"\"\"\n",
    "        self.URL_PATTERN = re.compile(URL_PATTERN_STR, re.IGNORECASE)\n",
    "        self.HASHTAG_PATTERN = re.compile(r'#\\w*')\n",
    "        self.MENTION_PATTERN = re.compile(r'@\\w*')\n",
    "        self.EMOJIS_PATTERN = re.compile(u'([\\U00002600-\\U000027BF])|([\\U0001f300-\\U0001f64F])|([\\U0001f680-\\U0001f6FF])')\n",
    "        self.SPECIAL_CHARACTERS_PATTERN = re.compile(r'&lt;/?[a-z]+&gt;')\n",
    "        self.AND_PATTERN = re.compile(r'&amp;')\n",
    "        self.WORD_PATTERN = re.compile(r'[^a-zA-Z\\s]')\n",
    "        self.SEED = 1337\n",
    "        self.DATA_FOLDER = Path('data')\n",
    "        self.MODEL_FOLDER = Path('models')\n",
    "        self.columns_to_maintain = ['id_EXIST', 'lang', 'tweet', 'hard_label_task1']\n",
    "        self.UNK_TOKEN = '[UNK]'\n",
    "        self.PAD_TOKEN = '[PAD]'\n",
    "\n",
    "    def download_corpus(self, url: str, filename: str) -> None:\n",
    "        \"\"\"\n",
    "        Downloads a text corpus from a given URL and saves it to a specified filename within the data folder.\n",
    "\n",
    "        Args:\n",
    "            url (str): The URL from which to download the corpus.\n",
    "            filename (str): The name of the file to save the downloaded corpus.\n",
    "\n",
    "        Raises:\n",
    "            requests.exceptions.HTTPError: If the HTTP request returned an unsuccessful status code.\n",
    "\n",
    "        Side Effects:\n",
    "            Creates the data folder if it does not exist.\n",
    "            Writes the downloaded corpus to the specified file.\n",
    "        \"\"\"\n",
    "        if not self.DATA_FOLDER.exists():\n",
    "            self.DATA_FOLDER.mkdir(parents=True)\n",
    "            print(f\"Created folder {self.DATA_FOLDER}.\")\n",
    "\n",
    "        response = requests.get(url)\n",
    "        response.raise_for_status()\n",
    "        with open(self.DATA_FOLDER / filename, 'w', encoding='utf-8') as f:\n",
    "            f.write(response.text)\n",
    "\n",
    "    def load_corpus(self, filename: str, *args, **kwargs) -> pd.DataFrame:\n",
    "        \"\"\"\n",
    "        Load a corpus from a JSON file.\n",
    "\n",
    "        Parameters:\n",
    "        filename (str): The name of the JSON file to load.\n",
    "        *args: Variable length argument list to pass to pandas read_json.\n",
    "        **kwargs: Arbitrary keyword arguments to pass to pandas read_json.\n",
    "\n",
    "        Returns:\n",
    "        DataFrame: A pandas DataFrame containing the loaded corpus.\n",
    "        \"\"\"\n",
    "        return pd.read_json(self.DATA_FOLDER / filename, *args, **kwargs)\n",
    "\n",
    "    @staticmethod\n",
    "    def majority_voting(votes: list[str]) -> str:\n",
    "        \"\"\"\n",
    "        Determines the majority vote from a list of votes.\n",
    "        Args:\n",
    "            votes (list[str]): A list of votes, where each vote is either \"YES\" or \"NO\".\n",
    "        Returns:\n",
    "            str: The result of the majority vote. Returns \"YES\" if there are more \"YES\" votes,\n",
    "                \"NO\" if there are more \"NO\" votes, and \"NEUTRAL\" in case of a tie.\n",
    "        \"\"\"\n",
    "        total_num_votes = len(votes)\n",
    "        yes_votes = votes.count(\"YES\")\n",
    "        no_votes = total_num_votes - yes_votes\n",
    "\n",
    "        if yes_votes > no_votes:\n",
    "            return \"YES\"\n",
    "        elif no_votes > yes_votes:\n",
    "            return \"NO\"\n",
    "        else:\n",
    "            return \"NEUTRAL\" # This will be the case when there is a tie (removed later)\n",
    "\n",
    "    def preprocess_text(self, text: str) -> str:\n",
    "        \"\"\"\n",
    "        Preprocesses the input text by removing or replacing specific patterns.\n",
    "\n",
    "        Args:\n",
    "            text (str): The input text to be preprocessed.\n",
    "\n",
    "        Returns:\n",
    "            str: The preprocessed text with URLs, mentions, hashtags, emojis, \n",
    "                 special characters removed, 'and' replaced, and extra spaces trimmed.\n",
    "        \"\"\"\n",
    "        text = self.URL_PATTERN.sub('', text)\n",
    "        text = self.MENTION_PATTERN.sub('', text)\n",
    "        text = self.HASHTAG_PATTERN.sub('', text)\n",
    "        text = self.EMOJIS_PATTERN.sub('', text)\n",
    "        text = self.SPECIAL_CHARACTERS_PATTERN.sub('', text)\n",
    "        text = self.AND_PATTERN.sub('and', text)\n",
    "        text = text.strip()\n",
    "        text = self.WORD_PATTERN.sub(' ', text)\n",
    "        text = text.strip()\n",
    "        return text\n",
    "\n",
    "    def lemmatize_text(self, text: str) -> str:\n",
    "        \"\"\"\n",
    "        Lemmatizes the input text using the WordNet lemmatizer.\n",
    "\n",
    "        This method attempts to lemmatize each word in the input text. If the WordNet\n",
    "        data is not available, it will download the necessary data and retry.\n",
    "\n",
    "        Args:\n",
    "            text (str): The input text to be lemmatized.\n",
    "\n",
    "        Returns:\n",
    "            str: The lemmatized text.\n",
    "        \"\"\"\n",
    "        lemmatizer = WordNetLemmatizer()\n",
    "        downloaded = False\n",
    "        while not downloaded:\n",
    "            try:\n",
    "                lemmatizer.lemmatize(text)\n",
    "                downloaded = True\n",
    "            except LookupError:\n",
    "                print(\"Downloading WordNet...\")\n",
    "                nltk.download('wordnet')\n",
    "        return ' '.join([lemmatizer.lemmatize(word) for word in text.split()])\n",
    "\n",
    "    @staticmethod\n",
    "    def text_diff(original_text: str, preprocessed_text: str, random: bool = True) -> None:\n",
    "        \"\"\"\n",
    "        Displays a comparison between an original tweet and its preprocessed version.\n",
    "        Args:\n",
    "            original_text (str): The original text data containing tweets.\n",
    "            preprocessed_text (str): The preprocessed text data containing tweets.\n",
    "            random (bool, optional): If True, a random tweet is selected for comparison. \n",
    "                                     If False, the first tweet is selected. Defaults to True.\n",
    "        Returns:\n",
    "            None\n",
    "        \"\"\"\n",
    "        if random:\n",
    "            idx = np.random.randint(0, preprocessed_text.shape[0])\n",
    "        else:\n",
    "            idx = 0\n",
    "\n",
    "        print(f\"Original tweet:\\n{original_text['tweet'].iloc[idx]}\")\n",
    "        print(f\"Processed tweet:\\n{preprocessed_text['tweet'].iloc[idx]}\")\n",
    "\n",
    "    def load_glove(self, model_name: str = 'glove-wiki-gigaword', embedding_dim: int = 50) -> gensim.models.keyedvectors.KeyedVectors:\n",
    "        \"\"\"\n",
    "        Loads the GloVe model with the specified name and embedding dimension.\n",
    "        Args:\n",
    "            model_name (str): The name of the GloVe model to load. Default is 'glove-wiki-gigaword'.\n",
    "            embedding_dim (int): The dimension of the word embeddings. Default is 50.\n",
    "        Returns:\n",
    "            gensim.models.keyedvectors.KeyedVectors: The loaded GloVe model.\n",
    "        Raises:\n",
    "            Exception: If there is an error in downloading or loading the model.\n",
    "        Notes:\n",
    "            - If the model folder does not exist, it will be created.\n",
    "            - If the model is not already downloaded, it will be downloaded and saved to the specified path.\n",
    "            - If the model is already downloaded, it will be loaded from the specified path.\n",
    "        \"\"\"\n",
    "        self.EMBEDDING_DIM = embedding_dim\n",
    "\n",
    "        if not self.MODEL_FOLDER.exists():\n",
    "            self.MODEL_FOLDER.mkdir(parents=True)\n",
    "            print(f\"Created folder {self.MODEL_FOLDER}.\")\n",
    "        \n",
    "        model_path = self.MODEL_FOLDER / f\"{model_name}-{embedding_dim}\"\n",
    "        if not model_path.exists():\n",
    "            print(f\"Downloading {model_name} model...\")\n",
    "            glove_model = gloader.load(f\"{model_name}-{embedding_dim}\")\n",
    "            print(f\"Model downloaded! Saving to {model_path}\")\n",
    "            glove_model.save(str(model_path))\n",
    "            print(f\"Model saved to {self.MODEL_FOLDER / f'{model_name}-{embedding_dim}'}\")\n",
    "        else:\n",
    "            glove_model = gensim.models.keyedvectors.KeyedVectors.load(str(model_path))\n",
    "        return glove_model\n",
    "\n",
    "    def get_vocab(self, data: pd.DataFrame) -> tuple[OrderedDict, OrderedDict]:\n",
    "        \"\"\"\n",
    "        Generates vocabulary mappings from a given dataset.\n",
    "        Args:\n",
    "            data (pd.DataFrame): A pandas DataFrame containing the dataset with a column 'tweet'.\n",
    "            word_listing (list, optional): A list of words to include in the vocabulary. If None, the vocabulary\n",
    "                                           will be built from the dataset. Defaults to None.\n",
    "        Returns:\n",
    "            tuple[OrderedDict, OrderedDict]: A tuple containing two OrderedDicts:\n",
    "                - idx_to_word: Mapping from index to word.\n",
    "                - word_to_idx: Mapping from word to index.\n",
    "        \"\"\"\n",
    "        idx_to_word = OrderedDict()\n",
    "        word_to_idx = OrderedDict()\n",
    "\n",
    "        curr_idx = 0\n",
    "        for sentence in data.tweet.values:\n",
    "            tokens = sentence.split()\n",
    "            for token in tokens:\n",
    "                if token not in word_to_idx:\n",
    "                    word_to_idx[token] = curr_idx\n",
    "                    idx_to_word[curr_idx] = token\n",
    "                    curr_idx += 1\n",
    "\n",
    "        word_listing = list(idx_to_word.values())\n",
    "        return idx_to_word, word_to_idx, word_listing\n",
    "\n",
    "    def co_occurrence_count(self, df: pd.DataFrame, idx_to_word, word_to_idx, window_size: int = 10) -> np.ndarray:\n",
    "\n",
    "        vocab_size = len(idx_to_word)\n",
    "        co_occurrence_matrix = np.zeros((vocab_size, vocab_size), dtype=np.float32)\n",
    "        \n",
    "        for sentence in tqdm(df.tweet.values):\n",
    "            tokens = sentence.split()\n",
    "            for pos, token in enumerate(tokens):\n",
    "                start = max(0, pos - window_size)\n",
    "                end = min(pos + window_size + 1, len(tokens))\n",
    "\n",
    "                first_word_index = word_to_idx[token]\n",
    "\n",
    "                for pos2 in range(start, end):\n",
    "                    if pos2 != pos:\n",
    "                        second_token = tokens[pos2]\n",
    "                        second_word_index = word_to_idx[second_token]\n",
    "                        co_occurrence_matrix[first_word_index, second_word_index] += 1\n",
    "\n",
    "        return co_occurrence_matrix\n",
    "\n",
    "    def co_occurrence_dataframe(self, co_occurrence_matrix: np.ndarray, idx_to_word: OrderedDict) -> pd.DataFrame:\n",
    "        \"\"\"\n",
    "        Converts a co-occurrence matrix into a pandas DataFrame with word indices as row and column labels.\n",
    "        Args:\n",
    "            co_occurrence_matrix (np.ndarray): A co-occurrence matrix with word indices as row and column indices.\n",
    "            idx_to_word (OrderedDict): A mapping from word index to word.\n",
    "        Returns:\n",
    "            pd.DataFrame: A pandas DataFrame with word indices as row and column labels.\n",
    "        \"\"\"\n",
    "        return pd.DataFrame(co_occurrence_matrix, index=idx_to_word.values(), columns=idx_to_word.values())\n",
    "\n",
    "    def get_augmented_vocab(self, emb_model: gensim.models.keyedvectors.KeyedVectors, train_words: list, co_occurrence_df: pd.DataFrame, save: bool = False) -> gensim.models.keyedvectors.KeyedVectors:\n",
    "        \"\"\"\n",
    "        Augments the given embedding model with new tokens from the training words list. If a token is not found in the \n",
    "        embedding model, a random vector is generated for it. Optionally saves the updated vocabulary to a JSON file.\n",
    "        Args:\n",
    "            emb_model (gensim.models.keyedvectors.KeyedVectors): The embedding model to augment.\n",
    "            train_words (list): A list of words to add to the embedding model.\n",
    "            co_occurrence_df (pd.DataFrame): A DataFrame containing co-occurrence data for the training words.\n",
    "            save (bool, optional): If True, saves the updated vocabulary to a JSON file. Defaults to False.\n",
    "        Returns:\n",
    "            gensim.models.keyedvectors.KeyedVectors: The augmented embedding model.\n",
    "        \"\"\"\n",
    "        new_tokens = []\n",
    "        new_vectors = []\n",
    "        for token in train_words:\n",
    "            try:\n",
    "                embedding_vec = emb_model.get_vector(token)\n",
    "            except KeyError:\n",
    "                try:\n",
    "                    # Handle missing token in embedding model\n",
    "                    top_5_most_frequent = co_occurrence_df.loc[token].sort_values(ascending=False).index.tolist()[:5]\n",
    "\n",
    "                    # Filter words that are in the embedding model\n",
    "                    valid_words = [word for word in top_5_most_frequent if word in emb_model.key_to_index]\n",
    "\n",
    "                    if valid_words:\n",
    "                        # Calculate the average vector for valid words\n",
    "                        embedding_vec = np.mean([emb_model.get_vector(word) for word in valid_words], axis=0)\n",
    "                    else:\n",
    "                        # Handle the case where no valid co-occurring words exist\n",
    "                        raise ValueError(f\"No valid co-occurring words found for token: {token}\")\n",
    "                except Exception as e:\n",
    "                    print(f\"Generating random vector for token '{token}': {e}\")\n",
    "                    embedding_vec = np.random.uniform(low=-0.05, high=0.05, size=self.EMBEDDING_DIM)\n",
    "\n",
    "            new_tokens.append(token)\n",
    "            new_vectors.append(embedding_vec)\n",
    "\n",
    "        emb_model.add_vectors(new_tokens, new_vectors)\n",
    "        # add the UNK token to the embedding model with the vector which is the average of all the vectors\n",
    "        emb_model.add_vectors([\"[UNK]\", \"[PAD]\"], [np.mean(emb_model.vectors, axis=0), np.zeros(self.EMBEDDING_DIM)])\n",
    "\n",
    "        if save:\n",
    "            vocab_path = self.DATA_FOLDER / 'vocab.json'\n",
    "            print(f\"Saving vocab to {vocab_path}\")\n",
    "            with vocab_path.open('w', encoding='utf-8') as f:\n",
    "                json.dump(emb_model.key_to_index, f, indent=4)\n",
    "            print(\"Vocab saved!\")\n",
    "\n",
    "        return emb_model\n",
    "\n",
    "    def get_oov(self, embedding_model: gensim.models.keyedvectors.KeyedVectors, word_listing: list) -> set:\n",
    "        \"\"\"\n",
    "        Returns a list of out-of-vocabulary (OOV) words from a given list of words.\n",
    "        Args:\n",
    "            embedding_model (gensim.models.keyedvectors.KeyedVectors): The word embedding model containing known words.\n",
    "            word_listing (list): A list of words to check against the embedding model.\n",
    "        Returns:\n",
    "            set: A set of out-of-vocabulary words.\n",
    "        \"\"\"\n",
    "        return set(word_listing).difference(set(embedding_model.key_to_index.keys()))\n",
    "\n",
    "    def get_oov_stats(self, embedding_model: gensim.models.keyedvectors.KeyedVectors, word_listing: list) -> None:\n",
    "        \"\"\"\n",
    "        Calculate and print the number and percentage of out-of-vocabulary (OOV) words.\n",
    "        Args:\n",
    "            embedding_model (gensim.models.keyedvectors.KeyedVectors): The word embedding model containing known words.\n",
    "            word_listing (list): A list of words to check against the embedding model.\n",
    "        Returns:\n",
    "            None\n",
    "        \"\"\"\n",
    "        OOV_token = self.get_oov(embedding_model, word_listing)\n",
    "        OOV_percentage = float(len(OOV_token)) * 100 / len(word_listing)\n",
    "\n",
    "        print(f\"Total OOV terms: {len(OOV_token)} ({OOV_percentage:.2f}%)\")\n",
    "\n",
    "    def get_padded_sequences(self, data: pd.Series, embedding_model: gensim.models.keyedvectors.KeyedVectors) -> torch.Tensor:\n",
    "        \"\"\"\n",
    "        Converts a pandas Series of text data into padded sequences of word indices using a given embedding model.\n",
    "\n",
    "        Args:\n",
    "            data (pd.Series): A pandas Series containing text data.\n",
    "            embedding_model (gensim.models.keyedvectors.KeyedVectors): A pre-trained word embedding model.\n",
    "\n",
    "        Returns:\n",
    "            torch.Tensor: A tensor containing padded sequences of word indices.\n",
    "        \"\"\"\n",
    "        tokenizer = nltk.tokenize.NLTKWordTokenizer()\n",
    "        unk_index = embedding_model.get_index(self.UNK_TOKEN)\n",
    "\n",
    "        sequences = [torch.tensor([embedding_model.get_index(word, default=unk_index) for word in tokenizer.tokenize(x)]) for x in data.values]\n",
    "        \n",
    "        return torch.nn.utils.rnn.pad_sequence(sequences, padding_value=embedding_model.get_index(self.PAD_TOKEN), batch_first=True)\n",
    "\n",
    "    def get_dataloader(self, data: pd.DataFrame, embedding_model: gensim.models.keyedvectors.KeyedVectors, type: str, *args, **kwargs) -> torch.utils.data.DataLoader:\n",
    "        if type not in ['train', 'val', 'test']:\n",
    "            raise ValueError(\"Invalid type. Must be one of 'train', 'val', or 'test'.\")\n",
    "        padded_sequences = self.get_padded_sequences(data.tweet, embedding_model)\n",
    "        labels = torch.tensor(data.hard_label_task1.values)\n",
    "        dataset = TextDataset(padded_sequences, labels)\n",
    "        return torch.utils.data.DataLoader(dataset, *args, **kwargs)\n",
    "    \n",
    "\n",
    "    @staticmethod\n",
    "    def visualize_embeddings(embeddings: np.ndarray,\n",
    "                         word_annotations,\n",
    "                         word_to_idx):\n",
    "        \"\"\"\n",
    "        Plots given reduce word embeddings (2D). Users can highlight specific words (word_annotations list).\n",
    "\n",
    "        :param embeddings: word embedding matrix of shape (words, 2) retrieved via a dimensionality reduction technique.\n",
    "        :param word_annotations: list of words to be annotated.\n",
    "        :param word_to_idx: vocabulary map (word -> index) (dict)\n",
    "        \"\"\"\n",
    "        fig, ax = plt.subplots(1, 1, figsize=(15, 12))\n",
    "\n",
    "        if word_annotations:\n",
    "            print(f\"Annotating words: {word_annotations}\")\n",
    "\n",
    "            word_indexes = []\n",
    "            for word in word_annotations:\n",
    "                word_index = word_to_idx[word]\n",
    "                word_indexes.append(word_index)\n",
    "\n",
    "            word_indexes = np.array(word_indexes)\n",
    "\n",
    "            other_embeddings = embeddings[np.setdiff1d(np.arange(embeddings.shape[0]), word_indexes)]\n",
    "            target_embeddings = embeddings[word_indexes]\n",
    "\n",
    "            ax.scatter(other_embeddings[:, 0], other_embeddings[:, 1], alpha=0.1, c='blue')\n",
    "            ax.scatter(target_embeddings[:, 0], target_embeddings[:, 1], alpha=1.0, c='red')\n",
    "            ax.scatter(target_embeddings[:, 0], target_embeddings[:, 1], alpha=1, facecolors='none', edgecolors='r', s=1000)\n",
    "\n",
    "            for word, word_index in zip(word_annotations, word_indexes):\n",
    "                word_x, word_y = embeddings[word_index, 0], embeddings[word_index, 1]\n",
    "                ax.annotate(word, xy=(word_x, word_y))\n",
    "        else:\n",
    "            ax.scatter(embeddings[:, 0], embeddings[:, 1], alpha=0.1, c='blue')\n",
    "\n",
    "        # We avoid outliers ruining the visualization if they are quite far away\n",
    "        axis_x_limit = (np.min(embeddings[:, 0]), np.max(embeddings[:, 0]))\n",
    "        axis_y_limit = (np.min(embeddings[:, 1]), np.max(embeddings[:, 1]))\n",
    "        plt.xlim(left=axis_x_limit[0] - 0.5, right=axis_x_limit[1] + 0.5)\n",
    "        plt.ylim(bottom=axis_y_limit[0] - 0.5, top=axis_y_limit[1] + 0.5)\n",
    "        ax.set_xlim(axis_x_limit[0], axis_x_limit[1])\n",
    "        ax.set_ylim(axis_y_limit[0], axis_y_limit[1])\n",
    "\n",
    "    @staticmethod\n",
    "    def reduce_SVD(embeddings: np.ndarray) -> np.ndarray:\n",
    "        \"\"\"\n",
    "        Applies SVD dimensionality reduction.\n",
    "\n",
    "        :param embeddings: word embedding matrix of shape (words, dim). In the case\n",
    "                        of a word-word co-occurrence matrix the matrix shape would\n",
    "                        be (words, words).\n",
    "\n",
    "        :return\n",
    "            - 2-dimensional word embedding matrix of shape (words, 2)\n",
    "        \"\"\"\n",
    "        print(\"Running SVD reduction method...\")\n",
    "        svd = TruncatedSVD(n_components=2, n_iter=10)\n",
    "        reduced = svd.fit_transform(embeddings)\n",
    "        print(\"SVD reduction completed!\")\n",
    "\n",
    "        return reduced\n",
    "\n",
    "    @staticmethod\n",
    "    def reduce_tSNE(embeddings: np.ndarray) -> np.ndarray:\n",
    "        \"\"\"\n",
    "        Applies t-SNE dimensionality reduction.\n",
    "        \"\"\"\n",
    "        print(\"Running t-SNE reduction method... (it may take a while...)\")\n",
    "        tsne = TSNE(n_components=2, n_iter=1000, metric='cosine')\n",
    "        reduced = tsne.fit_transform(embeddings)\n",
    "        print(\"t-SNE reduction completed!\")\n",
    "\n",
    "        return reduced\n",
    "\n",
    "    @staticmethod\n",
    "    def reduce_umap(embeddings: np.ndarray) -> np.ndarray:\n",
    "        \"\"\"\n",
    "        Applies UMAP dimensionality reduction.\n",
    "        \"\"\"\n",
    "        print(\"Running UMAP reduction method... (it may take a while...)\")\n",
    "        umap_emb = umap.UMAP(n_components=2, metric='cosine')\n",
    "        reduced = umap_emb.fit_transform(embeddings)\n",
    "        print(\"UMAP reduction completed!\")\n",
    "\n",
    "        return reduced\n",
    "\n",
    "class TextDataset(torch.utils.data.Dataset):\n",
    "    def __init__(self, sequences, labels):\n",
    "        self.sequences = sequences\n",
    "        self.labels = labels\n",
    "\n",
    "    def __len__(self):\n",
    "        return self.sequences.shape[0]\n",
    "\n",
    "    def __getitem__(self, idx):\n",
    "        return self.sequences[idx], self.labels[idx]"
   ]
  },
  {
   "cell_type": "markdown",
   "metadata": {
    "id": "9S8JHdj0-bQw"
   },
   "source": [
    "# Task 1: Corpus\n",
    "\n",
    "1. Download the data\n",
    "2. Load the JSON files and encode them as a DataFrame\n",
    "3. Generate hard labels for Task 1 with majority voting\n",
    "4. Filter the DataFrame for only english tweets\n",
    "5. Remove unwanted columns\n",
    "6. Encode the hard labels column as integers\n",
    "\n",
    ">**Bonus**: explore also Spanish tweets leveraging multi-language models and assessing the performance of the model on the two languages in comparison to the English-only model."
   ]
  },
  {
   "cell_type": "code",
   "execution_count": 4,
   "metadata": {
    "id": "UX6zDKbU-bQx"
   },
   "outputs": [],
   "source": [
    "detector = SexismDetector()"
   ]
  },
  {
   "cell_type": "code",
   "execution_count": 5,
   "metadata": {},
   "outputs": [
    {
     "name": "stdout",
     "output_type": "stream",
     "text": [
      "Using device: cuda\n"
     ]
    }
   ],
   "source": [
    "device = torch.device(\"cuda\" if torch.cuda.is_available() else \"cpu\")\n",
    "print(f\"Using device: {device}\")"
   ]
  },
  {
   "cell_type": "code",
   "execution_count": 6,
   "metadata": {},
   "outputs": [],
   "source": [
    "os.environ[\"CUBLAS_WORKSPACE_CONFIG\"] = \":4096:8\"\n",
    "torch.cuda.manual_seed(detector.SEED)\n",
    "np.random.seed(detector.SEED)"
   ]
  },
  {
   "cell_type": "code",
   "execution_count": 7,
   "metadata": {},
   "outputs": [],
   "source": [
    "EMBEDDING_DIM = 50\n",
    "BATCH_SIZE = 128"
   ]
  },
  {
   "cell_type": "markdown",
   "metadata": {
    "id": "2kB8zolx-bQx"
   },
   "source": [
    "### Download the data"
   ]
  },
  {
   "cell_type": "code",
   "execution_count": 8,
   "metadata": {
    "id": "zHCqDJCq-bQy"
   },
   "outputs": [],
   "source": [
    "detector.download_corpus(url='https://raw.githubusercontent.com/nlp-unibo/nlp-course-material/refs/heads/main/2024-2025/Assignment%201/data/training.json', filename='training.json')\n",
    "detector.download_corpus(url='https://raw.githubusercontent.com/nlp-unibo/nlp-course-material/refs/heads/main/2024-2025/Assignment%201/data/test.json', filename='test.json')\n",
    "detector.download_corpus(url='https://raw.githubusercontent.com/nlp-unibo/nlp-course-material/refs/heads/main/2024-2025/Assignment%201/data/validation.json', filename='validation.json')"
   ]
  },
  {
   "cell_type": "markdown",
   "metadata": {
    "id": "OlbBn1uh-bQy"
   },
   "source": [
    "### Load the JSON files and encode them as a DataFrame"
   ]
  },
  {
   "cell_type": "code",
   "execution_count": 9,
   "metadata": {
    "id": "xffrWnDg-bQz"
   },
   "outputs": [],
   "source": [
    "train = detector.load_corpus('training.json', orient='index', encoding='utf-8')\n",
    "test = detector.load_corpus('test.json', orient='index', encoding='utf-8')\n",
    "val = detector.load_corpus('validation.json', orient='index', encoding='utf-8')"
   ]
  },
  {
   "cell_type": "code",
   "execution_count": 10,
   "metadata": {
    "colab": {
     "base_uri": "https://localhost:8080/",
     "height": 328
    },
    "id": "R-Iddy7j-bQ0",
    "outputId": "98626d55-a01d-4474-d8f6-b15486c6f0d2"
   },
   "outputs": [
    {
     "data": {
      "text/html": [
       "<div>\n",
       "<style scoped>\n",
       "    .dataframe tbody tr th:only-of-type {\n",
       "        vertical-align: middle;\n",
       "    }\n",
       "\n",
       "    .dataframe tbody tr th {\n",
       "        vertical-align: top;\n",
       "    }\n",
       "\n",
       "    .dataframe thead th {\n",
       "        text-align: right;\n",
       "    }\n",
       "</style>\n",
       "<table border=\"1\" class=\"dataframe\">\n",
       "  <thead>\n",
       "    <tr style=\"text-align: right;\">\n",
       "      <th></th>\n",
       "      <th>id_EXIST</th>\n",
       "      <th>lang</th>\n",
       "      <th>tweet</th>\n",
       "      <th>number_annotators</th>\n",
       "      <th>annotators</th>\n",
       "      <th>gender_annotators</th>\n",
       "      <th>age_annotators</th>\n",
       "      <th>labels_task1</th>\n",
       "      <th>labels_task2</th>\n",
       "      <th>labels_task3</th>\n",
       "      <th>split</th>\n",
       "    </tr>\n",
       "  </thead>\n",
       "  <tbody>\n",
       "    <tr>\n",
       "      <th>100001</th>\n",
       "      <td>100001</td>\n",
       "      <td>es</td>\n",
       "      <td>@TheChiflis Ignora al otro, es un capullo.El p...</td>\n",
       "      <td>6</td>\n",
       "      <td>[Annotator_1, Annotator_2, Annotator_3, Annota...</td>\n",
       "      <td>[F, F, F, M, M, M]</td>\n",
       "      <td>[18-22, 23-45, 46+, 46+, 23-45, 18-22]</td>\n",
       "      <td>[YES, YES, NO, YES, YES, YES]</td>\n",
       "      <td>[REPORTED, JUDGEMENTAL, -, REPORTED, JUDGEMENT...</td>\n",
       "      <td>[[OBJECTIFICATION], [OBJECTIFICATION, SEXUAL-V...</td>\n",
       "      <td>TRAIN_ES</td>\n",
       "    </tr>\n",
       "    <tr>\n",
       "      <th>100002</th>\n",
       "      <td>100002</td>\n",
       "      <td>es</td>\n",
       "      <td>@ultimonomada_ Si comicsgate se parece en algo...</td>\n",
       "      <td>6</td>\n",
       "      <td>[Annotator_7, Annotator_8, Annotator_9, Annota...</td>\n",
       "      <td>[F, F, F, M, M, M]</td>\n",
       "      <td>[18-22, 23-45, 46+, 46+, 23-45, 18-22]</td>\n",
       "      <td>[NO, NO, NO, NO, YES, NO]</td>\n",
       "      <td>[-, -, -, -, DIRECT, -]</td>\n",
       "      <td>[[-], [-], [-], [-], [OBJECTIFICATION], [-]]</td>\n",
       "      <td>TRAIN_ES</td>\n",
       "    </tr>\n",
       "    <tr>\n",
       "      <th>100003</th>\n",
       "      <td>100003</td>\n",
       "      <td>es</td>\n",
       "      <td>@Steven2897 Lee sobre Gamergate, y como eso ha...</td>\n",
       "      <td>6</td>\n",
       "      <td>[Annotator_7, Annotator_8, Annotator_9, Annota...</td>\n",
       "      <td>[F, F, F, M, M, M]</td>\n",
       "      <td>[18-22, 23-45, 46+, 46+, 23-45, 18-22]</td>\n",
       "      <td>[NO, NO, NO, NO, NO, NO]</td>\n",
       "      <td>[-, -, -, -, -, -]</td>\n",
       "      <td>[[-], [-], [-], [-], [-], [-]]</td>\n",
       "      <td>TRAIN_ES</td>\n",
       "    </tr>\n",
       "    <tr>\n",
       "      <th>100004</th>\n",
       "      <td>100004</td>\n",
       "      <td>es</td>\n",
       "      <td>@Lunariita7 Un retraso social bastante lamenta...</td>\n",
       "      <td>6</td>\n",
       "      <td>[Annotator_13, Annotator_14, Annotator_15, Ann...</td>\n",
       "      <td>[F, F, F, M, M, M]</td>\n",
       "      <td>[18-22, 23-45, 46+, 46+, 23-45, 18-22]</td>\n",
       "      <td>[NO, NO, YES, NO, YES, YES]</td>\n",
       "      <td>[-, -, DIRECT, -, REPORTED, REPORTED]</td>\n",
       "      <td>[[-], [-], [IDEOLOGICAL-INEQUALITY], [-], [IDE...</td>\n",
       "      <td>TRAIN_ES</td>\n",
       "    </tr>\n",
       "    <tr>\n",
       "      <th>100005</th>\n",
       "      <td>100005</td>\n",
       "      <td>es</td>\n",
       "      <td>@novadragon21 @icep4ck @TvDannyZ Entonces como...</td>\n",
       "      <td>6</td>\n",
       "      <td>[Annotator_19, Annotator_20, Annotator_21, Ann...</td>\n",
       "      <td>[F, F, F, M, M, M]</td>\n",
       "      <td>[18-22, 23-45, 46+, 46+, 23-45, 18-22]</td>\n",
       "      <td>[YES, NO, YES, NO, YES, YES]</td>\n",
       "      <td>[REPORTED, -, JUDGEMENTAL, -, JUDGEMENTAL, DIR...</td>\n",
       "      <td>[[STEREOTYPING-DOMINANCE, OBJECTIFICATION], [-...</td>\n",
       "      <td>TRAIN_ES</td>\n",
       "    </tr>\n",
       "  </tbody>\n",
       "</table>\n",
       "</div>"
      ],
      "text/plain": [
       "        id_EXIST lang                                              tweet  \\\n",
       "100001    100001   es  @TheChiflis Ignora al otro, es un capullo.El p...   \n",
       "100002    100002   es  @ultimonomada_ Si comicsgate se parece en algo...   \n",
       "100003    100003   es  @Steven2897 Lee sobre Gamergate, y como eso ha...   \n",
       "100004    100004   es  @Lunariita7 Un retraso social bastante lamenta...   \n",
       "100005    100005   es  @novadragon21 @icep4ck @TvDannyZ Entonces como...   \n",
       "\n",
       "        number_annotators                                         annotators  \\\n",
       "100001                  6  [Annotator_1, Annotator_2, Annotator_3, Annota...   \n",
       "100002                  6  [Annotator_7, Annotator_8, Annotator_9, Annota...   \n",
       "100003                  6  [Annotator_7, Annotator_8, Annotator_9, Annota...   \n",
       "100004                  6  [Annotator_13, Annotator_14, Annotator_15, Ann...   \n",
       "100005                  6  [Annotator_19, Annotator_20, Annotator_21, Ann...   \n",
       "\n",
       "         gender_annotators                          age_annotators  \\\n",
       "100001  [F, F, F, M, M, M]  [18-22, 23-45, 46+, 46+, 23-45, 18-22]   \n",
       "100002  [F, F, F, M, M, M]  [18-22, 23-45, 46+, 46+, 23-45, 18-22]   \n",
       "100003  [F, F, F, M, M, M]  [18-22, 23-45, 46+, 46+, 23-45, 18-22]   \n",
       "100004  [F, F, F, M, M, M]  [18-22, 23-45, 46+, 46+, 23-45, 18-22]   \n",
       "100005  [F, F, F, M, M, M]  [18-22, 23-45, 46+, 46+, 23-45, 18-22]   \n",
       "\n",
       "                         labels_task1  \\\n",
       "100001  [YES, YES, NO, YES, YES, YES]   \n",
       "100002      [NO, NO, NO, NO, YES, NO]   \n",
       "100003       [NO, NO, NO, NO, NO, NO]   \n",
       "100004    [NO, NO, YES, NO, YES, YES]   \n",
       "100005   [YES, NO, YES, NO, YES, YES]   \n",
       "\n",
       "                                             labels_task2  \\\n",
       "100001  [REPORTED, JUDGEMENTAL, -, REPORTED, JUDGEMENT...   \n",
       "100002                            [-, -, -, -, DIRECT, -]   \n",
       "100003                                 [-, -, -, -, -, -]   \n",
       "100004              [-, -, DIRECT, -, REPORTED, REPORTED]   \n",
       "100005  [REPORTED, -, JUDGEMENTAL, -, JUDGEMENTAL, DIR...   \n",
       "\n",
       "                                             labels_task3     split  \n",
       "100001  [[OBJECTIFICATION], [OBJECTIFICATION, SEXUAL-V...  TRAIN_ES  \n",
       "100002       [[-], [-], [-], [-], [OBJECTIFICATION], [-]]  TRAIN_ES  \n",
       "100003                     [[-], [-], [-], [-], [-], [-]]  TRAIN_ES  \n",
       "100004  [[-], [-], [IDEOLOGICAL-INEQUALITY], [-], [IDE...  TRAIN_ES  \n",
       "100005  [[STEREOTYPING-DOMINANCE, OBJECTIFICATION], [-...  TRAIN_ES  "
      ]
     },
     "execution_count": 10,
     "metadata": {},
     "output_type": "execute_result"
    }
   ],
   "source": [
    "train.head()"
   ]
  },
  {
   "cell_type": "code",
   "execution_count": 11,
   "metadata": {
    "colab": {
     "base_uri": "https://localhost:8080/"
    },
    "id": "3PwyCeQc-bQ1",
    "outputId": "e32f4d75-d4ae-4df0-c22b-c04092ee102e"
   },
   "outputs": [
    {
     "data": {
      "text/plain": [
       "((6920, 11), (726, 11), (312, 11))"
      ]
     },
     "execution_count": 11,
     "metadata": {},
     "output_type": "execute_result"
    }
   ],
   "source": [
    "train.shape, val.shape, test.shape"
   ]
  },
  {
   "cell_type": "markdown",
   "metadata": {
    "id": "4fISdCga-bQ1"
   },
   "source": [
    "### Generate hard labels for Task 1 with majority voting"
   ]
  },
  {
   "cell_type": "code",
   "execution_count": 12,
   "metadata": {
    "id": "jVfdt1mf-bQ1"
   },
   "outputs": [],
   "source": [
    "train['hard_label_task1'] = train['labels_task1'].apply(detector.majority_voting)\n",
    "val['hard_label_task1'] = val['labels_task1'].apply(detector.majority_voting)\n",
    "test['hard_label_task1'] = test['labels_task1'].apply(detector.majority_voting)"
   ]
  },
  {
   "cell_type": "markdown",
   "metadata": {
    "id": "iNSfxEqA-bQ2"
   },
   "source": [
    "### Filter the DataFrame for only english tweets and remove unclear tweets"
   ]
  },
  {
   "cell_type": "code",
   "execution_count": 13,
   "metadata": {
    "id": "P3hE1ua_-bQ2"
   },
   "outputs": [],
   "source": [
    "train = train[(train['hard_label_task1'] != \"NEUTRAL\") & (train['lang'] == \"en\")]\n",
    "val = val[(val['hard_label_task1'] != \"NEUTRAL\") & (val['lang'] == \"en\")]\n",
    "test = test[(test['hard_label_task1'] != \"NEUTRAL\") & (test['lang'] == \"en\")]"
   ]
  },
  {
   "cell_type": "code",
   "execution_count": 14,
   "metadata": {
    "colab": {
     "base_uri": "https://localhost:8080/"
    },
    "id": "js6SiYSY-bQ2",
    "outputId": "67b99dfa-633f-47d1-bf92-bcc6f2215d93"
   },
   "outputs": [
    {
     "data": {
      "text/plain": [
       "((2870, 12), (158, 12), (286, 12))"
      ]
     },
     "execution_count": 14,
     "metadata": {},
     "output_type": "execute_result"
    }
   ],
   "source": [
    "train.shape, val.shape, test.shape"
   ]
  },
  {
   "cell_type": "markdown",
   "metadata": {
    "id": "edgN4FWb-bQ2"
   },
   "source": [
    "### Remove unwanted columns"
   ]
  },
  {
   "cell_type": "code",
   "execution_count": 15,
   "metadata": {
    "id": "lFUcf_Ii-bQ3"
   },
   "outputs": [],
   "source": [
    "train = train[detector.columns_to_maintain]\n",
    "val = val[detector.columns_to_maintain]\n",
    "test = test[detector.columns_to_maintain]"
   ]
  },
  {
   "cell_type": "code",
   "execution_count": 16,
   "metadata": {
    "colab": {
     "base_uri": "https://localhost:8080/",
     "height": 206
    },
    "id": "BEe_i8hJ-bQ3",
    "outputId": "f06531fd-1aaa-430f-a1d2-8e81f546707b"
   },
   "outputs": [
    {
     "data": {
      "text/html": [
       "<div>\n",
       "<style scoped>\n",
       "    .dataframe tbody tr th:only-of-type {\n",
       "        vertical-align: middle;\n",
       "    }\n",
       "\n",
       "    .dataframe tbody tr th {\n",
       "        vertical-align: top;\n",
       "    }\n",
       "\n",
       "    .dataframe thead th {\n",
       "        text-align: right;\n",
       "    }\n",
       "</style>\n",
       "<table border=\"1\" class=\"dataframe\">\n",
       "  <thead>\n",
       "    <tr style=\"text-align: right;\">\n",
       "      <th></th>\n",
       "      <th>id_EXIST</th>\n",
       "      <th>lang</th>\n",
       "      <th>tweet</th>\n",
       "      <th>hard_label_task1</th>\n",
       "    </tr>\n",
       "  </thead>\n",
       "  <tbody>\n",
       "    <tr>\n",
       "      <th>200002</th>\n",
       "      <td>200002</td>\n",
       "      <td>en</td>\n",
       "      <td>Writing a uni essay in my local pub with a cof...</td>\n",
       "      <td>YES</td>\n",
       "    </tr>\n",
       "    <tr>\n",
       "      <th>200003</th>\n",
       "      <td>200003</td>\n",
       "      <td>en</td>\n",
       "      <td>@UniversalORL it is 2021 not 1921. I dont appr...</td>\n",
       "      <td>YES</td>\n",
       "    </tr>\n",
       "    <tr>\n",
       "      <th>200006</th>\n",
       "      <td>200006</td>\n",
       "      <td>en</td>\n",
       "      <td>According to a customer I have plenty of time ...</td>\n",
       "      <td>YES</td>\n",
       "    </tr>\n",
       "    <tr>\n",
       "      <th>200007</th>\n",
       "      <td>200007</td>\n",
       "      <td>en</td>\n",
       "      <td>So only 'blokes' drink beer? Sorry, but if you...</td>\n",
       "      <td>YES</td>\n",
       "    </tr>\n",
       "    <tr>\n",
       "      <th>200008</th>\n",
       "      <td>200008</td>\n",
       "      <td>en</td>\n",
       "      <td>New to the shelves this week - looking forward...</td>\n",
       "      <td>NO</td>\n",
       "    </tr>\n",
       "  </tbody>\n",
       "</table>\n",
       "</div>"
      ],
      "text/plain": [
       "        id_EXIST lang                                              tweet  \\\n",
       "200002    200002   en  Writing a uni essay in my local pub with a cof...   \n",
       "200003    200003   en  @UniversalORL it is 2021 not 1921. I dont appr...   \n",
       "200006    200006   en  According to a customer I have plenty of time ...   \n",
       "200007    200007   en  So only 'blokes' drink beer? Sorry, but if you...   \n",
       "200008    200008   en  New to the shelves this week - looking forward...   \n",
       "\n",
       "       hard_label_task1  \n",
       "200002              YES  \n",
       "200003              YES  \n",
       "200006              YES  \n",
       "200007              YES  \n",
       "200008               NO  "
      ]
     },
     "execution_count": 16,
     "metadata": {},
     "output_type": "execute_result"
    }
   ],
   "source": [
    "train.head()"
   ]
  },
  {
   "cell_type": "markdown",
   "metadata": {
    "id": "C1vO0qNe-bQ3"
   },
   "source": [
    "### Encode the hard labels column as integers"
   ]
  },
  {
   "cell_type": "code",
   "execution_count": 17,
   "metadata": {
    "id": "_vKw9ugP-bQ3"
   },
   "outputs": [],
   "source": [
    "train['hard_label_task1'] = train['hard_label_task1'].apply(lambda x: 1 if x == \"YES\" else 0)\n",
    "val['hard_label_task1'] = val['hard_label_task1'].apply(lambda x: 1 if x == \"YES\" else 0)\n",
    "test['hard_label_task1'] = test['hard_label_task1'].apply(lambda x: 1 if x == \"YES\" else 0)"
   ]
  },
  {
   "cell_type": "code",
   "execution_count": 18,
   "metadata": {
    "colab": {
     "base_uri": "https://localhost:8080/",
     "height": 178
    },
    "id": "QYpFYiwx-bQ4",
    "outputId": "eb4f3686-ace7-40f8-90cf-1926603dc94f"
   },
   "outputs": [
    {
     "data": {
      "text/plain": [
       "hard_label_task1\n",
       "0    0.603833\n",
       "1    0.396167\n",
       "Name: proportion, dtype: float64"
      ]
     },
     "execution_count": 18,
     "metadata": {},
     "output_type": "execute_result"
    }
   ],
   "source": [
    "train.hard_label_task1.value_counts(normalize=True)"
   ]
  },
  {
   "cell_type": "markdown",
   "metadata": {
    "id": "D_qchDt7-bQ4"
   },
   "source": [
    "# Task 2: Data Cleaning\n",
    "\n",
    "1. Remove emojis\n",
    "2. Remove hashtags (e.g. #metoo)\n",
    "3. Remove mentions (e.g. @user)\n",
    "4. Remove URLs\n",
    "5. Remove special characters and symbols\n",
    "6. Remove specific quote characters (e.g. curly quotes)\n",
    "7. Perform lemmatization\n",
    "\n",
    ">**Bonus**: use other preprocessing strategies exploring techniques tailored specifically for tweets or methods that are common in social media text processing."
   ]
  },
  {
   "cell_type": "markdown",
   "metadata": {
    "id": "CPZ_A3ek-bQ4"
   },
   "source": [
    "The way to go (priority order) is the following:\n",
    "1. Remove URLs\n",
    "2. Remove mentions\n",
    "3. Remove hashtags\n",
    "4. Remove emojis\n",
    "5. Remove special characters\n",
    "6. Remove specific quote characters\n",
    "7. Perform lemmatization"
   ]
  },
  {
   "cell_type": "code",
   "execution_count": 19,
   "metadata": {
    "id": "vyKl2917-bQ4"
   },
   "outputs": [],
   "source": [
    "original_train = train.copy()"
   ]
  },
  {
   "cell_type": "code",
   "execution_count": 20,
   "metadata": {
    "id": "xtI27hJo-bQ4"
   },
   "outputs": [],
   "source": [
    "train['tweet'] = train['tweet'].apply(detector.preprocess_text)\n",
    "val['tweet'] = val['tweet'].apply(detector.preprocess_text)\n",
    "test['tweet'] = test['tweet'].apply(detector.preprocess_text)"
   ]
  },
  {
   "cell_type": "markdown",
   "metadata": {
    "id": "yFOqFd6i-bQ6"
   },
   "source": [
    "### Perform lemmatization"
   ]
  },
  {
   "cell_type": "code",
   "execution_count": 21,
   "metadata": {
    "id": "lu1toksv-bQ6"
   },
   "outputs": [],
   "source": [
    "train['tweet'] = train['tweet'].apply(detector.lemmatize_text)\n",
    "val['tweet'] = val['tweet'].apply(detector.lemmatize_text)\n",
    "test['tweet'] = test['tweet'].apply(detector.lemmatize_text)"
   ]
  },
  {
   "cell_type": "markdown",
   "metadata": {
    "id": "8R-fL1sl-bQ7"
   },
   "source": [
    "### Cast text to lowercase"
   ]
  },
  {
   "cell_type": "code",
   "execution_count": 22,
   "metadata": {
    "id": "Ku484oN9-bQ7"
   },
   "outputs": [],
   "source": [
    "train['tweet'] = train['tweet'].str.lower()\n",
    "val['tweet'] = val['tweet'].str.lower()\n",
    "test['tweet'] = test['tweet'].str.lower()"
   ]
  },
  {
   "cell_type": "markdown",
   "metadata": {
    "id": "dFbPle-9-bQ8"
   },
   "source": [
    "### Show the difference between the original and cleaned text"
   ]
  },
  {
   "cell_type": "code",
   "execution_count": 23,
   "metadata": {
    "colab": {
     "base_uri": "https://localhost:8080/"
    },
    "id": "TURQi4uE-bQ8",
    "outputId": "6b6268ed-87e4-41ed-8bd9-af1dd77d51c7"
   },
   "outputs": [
    {
     "name": "stdout",
     "output_type": "stream",
     "text": [
      "Original tweet:\n",
      "@YouFugazi He was abusive.  He was the problem.  Porsha's got issues but she didn't deserve mental and physical abuse or to grieve the loss of her child alone.\n",
      "Processed tweet:\n",
      "he wa abusive he wa the problem porsha s got issue but she didn t deserve mental and physical abuse or to grieve the loss of her child alone\n"
     ]
    }
   ],
   "source": [
    "detector.text_diff(preprocessed_text=train, original_text=original_train, random=True)"
   ]
  },
  {
   "cell_type": "markdown",
   "metadata": {
    "id": "50Cj7hDE-bQ9"
   },
   "source": [
    "# Task 3: Text Encoding\n",
    "\n",
    "* Embed words using GloVe embeddings."
   ]
  },
  {
   "cell_type": "markdown",
   "metadata": {
    "id": "e3m8P2pe-bQ-"
   },
   "source": [
    "### Embed words using GloVe embeddings"
   ]
  },
  {
   "cell_type": "code",
   "execution_count": 24,
   "metadata": {
    "colab": {
     "base_uri": "https://localhost:8080/"
    },
    "id": "vEGg4Jvp-bQ-",
    "outputId": "a06a7677-a807-4a62-8792-f4b6242f7adf"
   },
   "outputs": [
    {
     "name": "stdout",
     "output_type": "stream",
     "text": [
      "Vocabulary size: 1193514\n"
     ]
    }
   ],
   "source": [
    "emb_model = detector.load_glove(model_name='glove-twitter', embedding_dim=EMBEDDING_DIM)\n",
    "print(f\"Vocabulary size: {len(emb_model.key_to_index)}\")"
   ]
  },
  {
   "cell_type": "markdown",
   "metadata": {},
   "source": [
    "Get the training vocabulary and generate the list of words appearing in the training set."
   ]
  },
  {
   "cell_type": "code",
   "execution_count": 25,
   "metadata": {
    "id": "JJEQVEKJLcKF"
   },
   "outputs": [],
   "source": [
    "train_idx_to_word, train_word_to_idx, train_word_listing = detector.get_vocab(train)"
   ]
  },
  {
   "cell_type": "markdown",
   "metadata": {},
   "source": [
    "Inspect how many words in the training set are not in the GloVe vocabulary."
   ]
  },
  {
   "cell_type": "code",
   "execution_count": 26,
   "metadata": {},
   "outputs": [
    {
     "name": "stdout",
     "output_type": "stream",
     "text": [
      "Total OOV terms: 791 (8.03%)\n"
     ]
    }
   ],
   "source": [
    "detector.get_oov_stats(emb_model, train_word_listing)"
   ]
  },
  {
   "cell_type": "markdown",
   "metadata": {},
   "source": [
    "Insepct the first 10 OOV words."
   ]
  },
  {
   "cell_type": "code",
   "execution_count": 27,
   "metadata": {},
   "outputs": [
    {
     "data": {
      "text/plain": [
       "['strugatsky', 'angryyou', 'fariah', 'ehlinger', 'dimensionality']"
      ]
     },
     "execution_count": 27,
     "metadata": {},
     "output_type": "execute_result"
    }
   ],
   "source": [
    "list(detector.get_oov(emb_model, train_word_listing))[:5]"
   ]
  },
  {
   "cell_type": "markdown",
   "metadata": {},
   "source": [
    "Get the co-occurrence dataframe from the training set."
   ]
  },
  {
   "cell_type": "code",
   "execution_count": 28,
   "metadata": {},
   "outputs": [
    {
     "name": "stderr",
     "output_type": "stream",
     "text": [
      "100%|██████████| 2870/2870 [00:04<00:00, 651.09it/s]\n"
     ]
    },
    {
     "data": {
      "text/html": [
       "<div>\n",
       "<style scoped>\n",
       "    .dataframe tbody tr th:only-of-type {\n",
       "        vertical-align: middle;\n",
       "    }\n",
       "\n",
       "    .dataframe tbody tr th {\n",
       "        vertical-align: top;\n",
       "    }\n",
       "\n",
       "    .dataframe thead th {\n",
       "        text-align: right;\n",
       "    }\n",
       "</style>\n",
       "<table border=\"1\" class=\"dataframe\">\n",
       "  <thead>\n",
       "    <tr style=\"text-align: right;\">\n",
       "      <th></th>\n",
       "      <th>writing</th>\n",
       "      <th>a</th>\n",
       "      <th>uni</th>\n",
       "      <th>essay</th>\n",
       "      <th>in</th>\n",
       "      <th>my</th>\n",
       "      <th>local</th>\n",
       "      <th>pub</th>\n",
       "      <th>with</th>\n",
       "      <th>coffee</th>\n",
       "      <th>...</th>\n",
       "      <th>armor</th>\n",
       "      <th>dragoon</th>\n",
       "      <th>estinen</th>\n",
       "      <th>nike</th>\n",
       "      <th>coochie</th>\n",
       "      <th>mutuals</th>\n",
       "      <th>owns</th>\n",
       "      <th>grabs</th>\n",
       "      <th>lh</th>\n",
       "      <th>mandy</th>\n",
       "    </tr>\n",
       "  </thead>\n",
       "  <tbody>\n",
       "    <tr>\n",
       "      <th>writing</th>\n",
       "      <td>2.0</td>\n",
       "      <td>14.0</td>\n",
       "      <td>1.0</td>\n",
       "      <td>2.0</td>\n",
       "      <td>5.0</td>\n",
       "      <td>3.0</td>\n",
       "      <td>1.0</td>\n",
       "      <td>1.0</td>\n",
       "      <td>3.0</td>\n",
       "      <td>1.0</td>\n",
       "      <td>...</td>\n",
       "      <td>0.0</td>\n",
       "      <td>0.0</td>\n",
       "      <td>0.0</td>\n",
       "      <td>0.0</td>\n",
       "      <td>0.0</td>\n",
       "      <td>0.0</td>\n",
       "      <td>0.0</td>\n",
       "      <td>0.0</td>\n",
       "      <td>0.0</td>\n",
       "      <td>0.0</td>\n",
       "    </tr>\n",
       "    <tr>\n",
       "      <th>a</th>\n",
       "      <td>14.0</td>\n",
       "      <td>1284.0</td>\n",
       "      <td>2.0</td>\n",
       "      <td>2.0</td>\n",
       "      <td>429.0</td>\n",
       "      <td>140.0</td>\n",
       "      <td>3.0</td>\n",
       "      <td>2.0</td>\n",
       "      <td>225.0</td>\n",
       "      <td>6.0</td>\n",
       "      <td>...</td>\n",
       "      <td>1.0</td>\n",
       "      <td>0.0</td>\n",
       "      <td>1.0</td>\n",
       "      <td>1.0</td>\n",
       "      <td>1.0</td>\n",
       "      <td>1.0</td>\n",
       "      <td>0.0</td>\n",
       "      <td>0.0</td>\n",
       "      <td>1.0</td>\n",
       "      <td>2.0</td>\n",
       "    </tr>\n",
       "    <tr>\n",
       "      <th>uni</th>\n",
       "      <td>1.0</td>\n",
       "      <td>2.0</td>\n",
       "      <td>0.0</td>\n",
       "      <td>1.0</td>\n",
       "      <td>1.0</td>\n",
       "      <td>1.0</td>\n",
       "      <td>1.0</td>\n",
       "      <td>1.0</td>\n",
       "      <td>1.0</td>\n",
       "      <td>1.0</td>\n",
       "      <td>...</td>\n",
       "      <td>0.0</td>\n",
       "      <td>0.0</td>\n",
       "      <td>0.0</td>\n",
       "      <td>0.0</td>\n",
       "      <td>0.0</td>\n",
       "      <td>0.0</td>\n",
       "      <td>0.0</td>\n",
       "      <td>0.0</td>\n",
       "      <td>0.0</td>\n",
       "      <td>0.0</td>\n",
       "    </tr>\n",
       "    <tr>\n",
       "      <th>essay</th>\n",
       "      <td>2.0</td>\n",
       "      <td>2.0</td>\n",
       "      <td>1.0</td>\n",
       "      <td>0.0</td>\n",
       "      <td>2.0</td>\n",
       "      <td>2.0</td>\n",
       "      <td>1.0</td>\n",
       "      <td>1.0</td>\n",
       "      <td>1.0</td>\n",
       "      <td>1.0</td>\n",
       "      <td>...</td>\n",
       "      <td>0.0</td>\n",
       "      <td>0.0</td>\n",
       "      <td>0.0</td>\n",
       "      <td>0.0</td>\n",
       "      <td>0.0</td>\n",
       "      <td>0.0</td>\n",
       "      <td>0.0</td>\n",
       "      <td>0.0</td>\n",
       "      <td>0.0</td>\n",
       "      <td>0.0</td>\n",
       "    </tr>\n",
       "    <tr>\n",
       "      <th>in</th>\n",
       "      <td>5.0</td>\n",
       "      <td>429.0</td>\n",
       "      <td>1.0</td>\n",
       "      <td>2.0</td>\n",
       "      <td>174.0</td>\n",
       "      <td>92.0</td>\n",
       "      <td>3.0</td>\n",
       "      <td>1.0</td>\n",
       "      <td>92.0</td>\n",
       "      <td>4.0</td>\n",
       "      <td>...</td>\n",
       "      <td>0.0</td>\n",
       "      <td>0.0</td>\n",
       "      <td>0.0</td>\n",
       "      <td>0.0</td>\n",
       "      <td>0.0</td>\n",
       "      <td>0.0</td>\n",
       "      <td>0.0</td>\n",
       "      <td>0.0</td>\n",
       "      <td>0.0</td>\n",
       "      <td>0.0</td>\n",
       "    </tr>\n",
       "  </tbody>\n",
       "</table>\n",
       "<p>5 rows × 9856 columns</p>\n",
       "</div>"
      ],
      "text/plain": [
       "         writing       a  uni  essay     in     my  local  pub   with  coffee  \\\n",
       "writing      2.0    14.0  1.0    2.0    5.0    3.0    1.0  1.0    3.0     1.0   \n",
       "a           14.0  1284.0  2.0    2.0  429.0  140.0    3.0  2.0  225.0     6.0   \n",
       "uni          1.0     2.0  0.0    1.0    1.0    1.0    1.0  1.0    1.0     1.0   \n",
       "essay        2.0     2.0  1.0    0.0    2.0    2.0    1.0  1.0    1.0     1.0   \n",
       "in           5.0   429.0  1.0    2.0  174.0   92.0    3.0  1.0   92.0     4.0   \n",
       "\n",
       "         ...  armor  dragoon  estinen  nike  coochie  mutuals  owns  grabs  \\\n",
       "writing  ...    0.0      0.0      0.0   0.0      0.0      0.0   0.0    0.0   \n",
       "a        ...    1.0      0.0      1.0   1.0      1.0      1.0   0.0    0.0   \n",
       "uni      ...    0.0      0.0      0.0   0.0      0.0      0.0   0.0    0.0   \n",
       "essay    ...    0.0      0.0      0.0   0.0      0.0      0.0   0.0    0.0   \n",
       "in       ...    0.0      0.0      0.0   0.0      0.0      0.0   0.0    0.0   \n",
       "\n",
       "          lh  mandy  \n",
       "writing  0.0    0.0  \n",
       "a        1.0    2.0  \n",
       "uni      0.0    0.0  \n",
       "essay    0.0    0.0  \n",
       "in       0.0    0.0  \n",
       "\n",
       "[5 rows x 9856 columns]"
      ]
     },
     "execution_count": 28,
     "metadata": {},
     "output_type": "execute_result"
    }
   ],
   "source": [
    "co_occurrence_matrix = detector.co_occurrence_count(train, train_idx_to_word, train_word_to_idx, window_size=10)\n",
    "co_occurrence_df = detector.co_occurrence_dataframe(co_occurrence_matrix, train_idx_to_word)\n",
    "co_occurrence_df.head()"
   ]
  },
  {
   "cell_type": "markdown",
   "metadata": {},
   "source": [
    "Merge the training set vocabulary with the GloVe vocabulary and generate the embedding vectors for the words in the training set that do not appear in the GloVe vocabulary."
   ]
  },
  {
   "cell_type": "code",
   "execution_count": 29,
   "metadata": {
    "colab": {
     "base_uri": "https://localhost:8080/"
    },
    "id": "fnNshkRb-bRF",
    "outputId": "cba4801b-47e4-4188-bd8e-134d2e30d6d3"
   },
   "outputs": [
    {
     "name": "stdout",
     "output_type": "stream",
     "text": [
      "Saving vocab to data\\vocab.json\n",
      "Vocab saved!\n"
     ]
    }
   ],
   "source": [
    "emb_model_augmented = detector.get_augmented_vocab(emb_model, train_words=train_word_listing, co_occurrence_df=co_occurrence_df, save=True)"
   ]
  },
  {
   "cell_type": "markdown",
   "metadata": {},
   "source": [
    "Now we can create the embedding matrix that will be used in the model."
   ]
  },
  {
   "cell_type": "code",
   "execution_count": 30,
   "metadata": {
    "colab": {
     "base_uri": "https://localhost:8080/"
    },
    "id": "yRw9DQEq-bRG",
    "outputId": "1c1fc2bb-7b70-4885-bc7e-2d9960853f1e"
   },
   "outputs": [
    {
     "name": "stdout",
     "output_type": "stream",
     "text": [
      "Embedding matrix has 1194307 vectors (tokens), each of dimension 50\n"
     ]
    }
   ],
   "source": [
    "### Create the embeddings matrix\n",
    "embedding_matrix = emb_model_augmented.vectors\n",
    "print(f\"Embedding matrix has {embedding_matrix.shape[0]} vectors (tokens), each of dimension {embedding_matrix.shape[1]}\")"
   ]
  },
  {
   "cell_type": "markdown",
   "metadata": {},
   "source": [
    "We can also visualize the embeddings using UMAP (but this is optional)."
   ]
  },
  {
   "cell_type": "code",
   "execution_count": 31,
   "metadata": {
    "id": "FZvQAyL_-bRG"
   },
   "outputs": [],
   "source": [
    "# UMAP\n",
    "#reduced_embedding_umap = detector.reduce_umap(embedding_matrix)\n",
    "#detector.visualize_embeddings(reduced_embedding_umap, ['whore', 'woman', 'slut', 'girl', 'man', 'boy'], emb_model.key_to_index)\n",
    "\n",
    "#plt.show()"
   ]
  },
  {
   "cell_type": "markdown",
   "metadata": {
    "id": "0UUVw8lx-bRG"
   },
   "source": [
    "# Task 4: Model definition\n",
    "\n",
    "* Baseline: Implement a Bidirectional LSTM with a Dense layer on top.\n",
    "* Model 1: add an additional LSTM layer to the baseline model."
   ]
  },
  {
   "cell_type": "markdown",
   "metadata": {
    "id": "xpU6TmVd-bRG"
   },
   "source": [
    "### Baseline: Implement a Bidirectional LSTM with a Dense layer on top"
   ]
  },
  {
   "cell_type": "code",
   "execution_count": 32,
   "metadata": {},
   "outputs": [],
   "source": [
    "class BaselineModel(torch.nn.Module):\n",
    "    def __init__(self, embedding_model, hidden_dim, output_dim: int = 1, lstm_layers: int = 1):\n",
    "        super(BaselineModel, self).__init__()\n",
    "\n",
    "        self.hidden_dim = hidden_dim\n",
    "        self.lstm_layers = lstm_layers\n",
    "        self.hidden_dim = hidden_dim\n",
    "\n",
    "        self.word_embeddings = torch.nn.Embedding.from_pretrained(\n",
    "            embeddings=torch.from_numpy(embedding_model.vectors),\n",
    "            freeze=True,\n",
    "            padding_idx=embedding_model.get_index(detector.PAD_TOKEN)\n",
    "        )\n",
    "        self.lstm = torch.nn.LSTM(input_size=embedding_model.vector_size, hidden_size=hidden_dim, bidirectional=True, num_layers=lstm_layers, batch_first=True)\n",
    "        self.fc = torch.nn.Linear(in_features=2 * hidden_dim, out_features=output_dim)\n",
    "\n",
    "        ## Weights initialization\n",
    "        def _weights_init(m):\n",
    "            if isinstance(m, torch.nn.Linear or torch.nn.LSTM):\n",
    "                torch.nn.init.xavier_normal_(m.weight)\n",
    "                m.bias.data.zero_()\n",
    "        \n",
    "        self.apply(_weights_init)\n",
    "    \n",
    "    def forward(self, inputs):\n",
    "        out = self.word_embeddings(inputs)\n",
    "\n",
    "        h = torch.zeros(2 * self.lstm_layers, inputs.size(0), self.hidden_dim).cuda()\n",
    "        c = torch.zeros(2 * self.lstm_layers, inputs.size(0), self.hidden_dim).cuda()\n",
    "        \n",
    "        out, _ = self.lstm(out, (h,c))\n",
    "        out = self.fc(out[:,-1,:])\n",
    "        return out"
   ]
  },
  {
   "cell_type": "markdown",
   "metadata": {},
   "source": [
    "# Task 5: Training and Evaluation\n",
    "\n",
    "* Train **all** models on the train set.\n",
    "* Evaluate **all** models on the validation set.\n",
    "* Compute metrics on the validation set.\n",
    "* Pick **at least** three seeds for robust estimation.\n",
    "* Pick the **best** performing model according to the observed validation set performance.\n",
    "* Evaluate your models using macro F1-score."
   ]
  },
  {
   "cell_type": "code",
   "execution_count": 33,
   "metadata": {},
   "outputs": [],
   "source": [
    "train_dloader = detector.get_dataloader(data=train, embedding_model=emb_model_augmented, type='train', batch_size=BATCH_SIZE, shuffle=True, pin_memory=True)\n",
    "val_dloader = detector.get_dataloader(data=val, embedding_model=emb_model_augmented, type='val', batch_size=BATCH_SIZE, shuffle=False)\n",
    "test_dloader = detector.get_dataloader(data=test, embedding_model=emb_model_augmented, type='test', batch_size=BATCH_SIZE, shuffle=False)"
   ]
  },
  {
   "cell_type": "markdown",
   "metadata": {},
   "source": [
    "# Baseline Model"
   ]
  },
  {
   "cell_type": "code",
   "execution_count": 34,
   "metadata": {},
   "outputs": [
    {
     "data": {
      "text/plain": [
       "BaselineModel(\n",
       "  (word_embeddings): Embedding(1194307, 50, padding_idx=1194306)\n",
       "  (lstm): LSTM(50, 128, batch_first=True, bidirectional=True)\n",
       "  (fc): Linear(in_features=256, out_features=1, bias=True)\n",
       ")"
      ]
     },
     "execution_count": 34,
     "metadata": {},
     "output_type": "execute_result"
    }
   ],
   "source": [
    "baseline_model = BaselineModel(emb_model_augmented, hidden_dim=128, lstm_layers=1)\n",
    "baseline_model.word_embeddings.weight.requires_grad = False # freeze the embeddings\n",
    "baseline_model.to(device)"
   ]
  },
  {
   "cell_type": "code",
   "execution_count": 35,
   "metadata": {},
   "outputs": [],
   "source": [
    "history = pd.DataFrame(columns=['model', 'epoch', 'train_loss', 'val_loss', 'train_acc', 'val_acc', 'learning_rate'])"
   ]
  },
  {
   "cell_type": "code",
   "execution_count": 36,
   "metadata": {},
   "outputs": [
    {
     "data": {
      "text/plain": [
       "hard_label_task1\n",
       "0    1733\n",
       "1    1137\n",
       "Name: count, dtype: int64"
      ]
     },
     "execution_count": 36,
     "metadata": {},
     "output_type": "execute_result"
    }
   ],
   "source": [
    "train['hard_label_task1'].value_counts()"
   ]
  },
  {
   "cell_type": "code",
   "execution_count": 37,
   "metadata": {},
   "outputs": [
    {
     "data": {
      "text/plain": [
       "1.4850042844901457"
      ]
     },
     "execution_count": 37,
     "metadata": {},
     "output_type": "execute_result"
    }
   ],
   "source": [
    "1733 / 1167"
   ]
  },
  {
   "cell_type": "code",
   "execution_count": 38,
   "metadata": {},
   "outputs": [
    {
     "data": {
      "text/plain": [
       "1733.0"
      ]
     },
     "execution_count": 38,
     "metadata": {},
     "output_type": "execute_result"
    }
   ],
   "source": [
    "1.4850042844901457 * 1167"
   ]
  },
  {
   "cell_type": "code",
   "execution_count": 39,
   "metadata": {},
   "outputs": [],
   "source": [
    "loss_function = torch.nn.BCEWithLogitsLoss(reduction='none')\n",
    "optimizer = torch.optim.AdamW(baseline_model.parameters(), lr=1e-4, weight_decay=1e-5)\n",
    "scheduler = torch.optim.lr_scheduler.ReduceLROnPlateau(optimizer, mode='min', factor=0.5, patience=10)"
   ]
  },
  {
   "cell_type": "code",
   "execution_count": 40,
   "metadata": {},
   "outputs": [],
   "source": [
    "def train_model(model: torch.nn.Module, training_data: torch.utils.data.DataLoader, validation_data: torch.utils.data.DataLoader, loss_fn: torch.nn.Module, optimizer: torch.optim.Optimizer, scheduler: torch.optim.lr_scheduler.ReduceLROnPlateau, num_epochs: int = 30, name: str = 'baseline_lstm', verbose: bool = True) -> torch.nn.Module:\n",
    "    # Initialize parameters of Early stopping\n",
    "    best_val_loss = np.inf\n",
    "    best_model = None\n",
    "    best_model_epoch = 0\n",
    "    best_f1_score = 0\n",
    "\n",
    "    # Train the model\n",
    "    for epoch in range(num_epochs):\n",
    "        # Initialize the training variables for each epoch\n",
    "        train_correct = 0\n",
    "        train_total = 0\n",
    "\n",
    "        # Set the model to training mode\n",
    "        model.train()\n",
    "        # Iterate over the training data in batches\n",
    "        for batch in training_data:\n",
    "            # Get the inputs and labels\n",
    "            sentences, labels = batch\n",
    "\n",
    "            # Move the inputs and labels to the device (GPU)\n",
    "            sentences = sentences.to(device)\n",
    "            labels = labels.unsqueeze(1).float().to(device)\n",
    "\n",
    "            # Zero grad the optimizer\n",
    "            optimizer.zero_grad()\n",
    "\n",
    "            # Forward pass\n",
    "            output = model(sentences)\n",
    "\n",
    "            # Compute the loss\n",
    "            loss = loss_fn(output, labels)\n",
    "            # Mask the loss for the PAD tokens\n",
    "            mask = labels != emb_model_augmented.get_index(detector.PAD_TOKEN)\n",
    "            # Find where the loss is masked\n",
    "            loss_masked = loss.where(mask, torch.tensor(0.0))\n",
    "            # Compute the mean loss for the batch (ignoring the PAD tokens)\n",
    "            mean_loss = loss_masked.sum() / mask.sum()\n",
    "\n",
    "            # Backward pass\n",
    "            mean_loss.backward()\n",
    "\n",
    "            torch.nn.utils.clip_grad_norm_(model.parameters(), 1.0, norm_type=2)\n",
    "            # Adjust learning weights\n",
    "            optimizer.step()\n",
    "\n",
    "            # Compute the accuracy\n",
    "            predicted = (output > 0.5).float()\n",
    "            train_total += labels.size(0)\n",
    "            train_correct += (predicted == labels).sum().item()\n",
    "\n",
    "        # Update the learning rate\n",
    "        scheduler.step(mean_loss)\n",
    "\n",
    "        # Set the model to evaluation mode\n",
    "        model.eval()\n",
    "        # Initialize the validation variables for each epoch\n",
    "        final_val_loss = 0\n",
    "        val_correct = 0\n",
    "        val_total = 0\n",
    "        # Initialize the arrays to store the predicted and true labels\n",
    "        predicted_arr = []\n",
    "        labels_arr = []\n",
    "\n",
    "        # Iterate over the validation data in batches without computing gradients\n",
    "        with torch.no_grad():\n",
    "            for batch in validation_data:\n",
    "                # Get the inputs and labels\n",
    "                sentence, labels = batch\n",
    "\n",
    "                # Move the inputs and labels to the device (GPU)\n",
    "                sentence = sentence.to(device)\n",
    "                labels = labels.unsqueeze(1).float().to(device)\n",
    "\n",
    "                # Forward pass\n",
    "                output = model(sentence)\n",
    "\n",
    "                # Compute the loss\n",
    "                val_loss = loss_fn(output, labels)\n",
    "                # Mask the loss for the PAD tokens\n",
    "                mask = labels != emb_model_augmented.get_index(detector.PAD_TOKEN)\n",
    "                # Find where the loss is masked\n",
    "                loss_masked = val_loss.where(mask, torch.tensor(0.0))\n",
    "                # Compute the mean loss for the batch (ignoring the PAD tokens)\n",
    "                mean_val_loss = loss_masked.sum() / mask.sum()\n",
    "\n",
    "                # Accumulate the loss\n",
    "                final_val_loss += mean_val_loss.item()\n",
    "\n",
    "                # Compute the accuracy\n",
    "                predicted = (output > 0.5).float()\n",
    "                \n",
    "                # Compute the accuracy\n",
    "                val_total += labels.size(0)\n",
    "                val_correct += (predicted == labels).sum().item()\n",
    "\n",
    "                # Store the predicted labels\n",
    "                predicted_arr.append(predicted.to('cpu'))\n",
    "                # Store the true labels\n",
    "                labels_arr.append(labels.to('cpu'))\n",
    "\n",
    "        # Compute the final validation loss\n",
    "        final_val_loss /= len(validation_data)\n",
    "\n",
    "        # Compute the macro F1 score\n",
    "        f1 = f1_score(y_true=np.concatenate(labels_arr), y_pred=np.concatenate(predicted_arr), average='macro')\n",
    "\n",
    "        # Early stopping\n",
    "        if final_val_loss < best_val_loss:\n",
    "            best_val_loss = final_val_loss\n",
    "            best_model = copy.deepcopy(model.state_dict())\n",
    "            best_model_epoch = epoch\n",
    "            best_f1_score = f1\n",
    "\n",
    "        if verbose:\n",
    "            print(f\"Epoch {epoch + 1}/{num_epochs}\\tLoss: {mean_loss.item():.4f}\\tAcc: {train_correct / train_total:.4f}\\tVal Loss: {final_val_loss:.4f}\\tVal Acc: {val_correct / val_total:.4f}\\tmacro_f1: {f1:.4f}\\tlr: {scheduler.get_last_lr()[0]:.6f}\")\n",
    "        \n",
    "        # Save the history\n",
    "        history.loc[len(history)] = [name, epoch + 1, mean_loss.item(), final_val_loss, train_correct / train_total, val_correct / val_total, scheduler.get_last_lr()[0]]\n",
    "    \n",
    "    # Restore the best model\n",
    "    model.load_state_dict(best_model)\n",
    "    print(f\"Best model found at epoch {best_model_epoch + 1} with validation loss: {best_val_loss:.4f} and f1 sore: {best_f1_score:.4f}\")\n",
    "\n",
    "    # Save the best model\n",
    "    torch.save(model.state_dict(), detector.MODEL_FOLDER / 'baseline_lstm.pth')\n",
    "    \n",
    "    return model"
   ]
  },
  {
   "cell_type": "code",
   "execution_count": 41,
   "metadata": {},
   "outputs": [
    {
     "name": "stdout",
     "output_type": "stream",
     "text": [
      "Epoch 1/100\tLoss: 0.6958\tAcc: 0.6038\tVal Loss: 0.6933\tVal Acc: 0.5696\tmacro_f1: 0.3629\tlr: 0.000100\n",
      "Epoch 2/100\tLoss: 0.6822\tAcc: 0.6038\tVal Loss: 0.6973\tVal Acc: 0.5696\tmacro_f1: 0.3629\tlr: 0.000100\n",
      "Epoch 3/100\tLoss: 0.6862\tAcc: 0.6038\tVal Loss: 0.7055\tVal Acc: 0.5696\tmacro_f1: 0.3629\tlr: 0.000100\n",
      "Epoch 4/100\tLoss: 0.6938\tAcc: 0.6038\tVal Loss: 0.7146\tVal Acc: 0.5696\tmacro_f1: 0.3629\tlr: 0.000100\n",
      "Epoch 5/100\tLoss: 0.6381\tAcc: 0.6038\tVal Loss: 0.7167\tVal Acc: 0.5696\tmacro_f1: 0.3629\tlr: 0.000100\n",
      "Epoch 6/100\tLoss: 0.6435\tAcc: 0.6038\tVal Loss: 0.7161\tVal Acc: 0.5696\tmacro_f1: 0.3629\tlr: 0.000100\n",
      "Epoch 7/100\tLoss: 0.6967\tAcc: 0.6042\tVal Loss: 0.7137\tVal Acc: 0.5696\tmacro_f1: 0.3629\tlr: 0.000100\n",
      "Epoch 8/100\tLoss: 0.6946\tAcc: 0.6042\tVal Loss: 0.7097\tVal Acc: 0.5759\tmacro_f1: 0.3789\tlr: 0.000100\n",
      "Epoch 9/100\tLoss: 0.7233\tAcc: 0.6045\tVal Loss: 0.7079\tVal Acc: 0.5949\tmacro_f1: 0.4244\tlr: 0.000100\n",
      "Epoch 10/100\tLoss: 0.6537\tAcc: 0.6049\tVal Loss: 0.7020\tVal Acc: 0.5949\tmacro_f1: 0.4244\tlr: 0.000100\n",
      "Epoch 11/100\tLoss: 0.7266\tAcc: 0.6056\tVal Loss: 0.7007\tVal Acc: 0.5823\tmacro_f1: 0.4283\tlr: 0.000100\n",
      "Epoch 12/100\tLoss: 0.7025\tAcc: 0.6073\tVal Loss: 0.6945\tVal Acc: 0.5886\tmacro_f1: 0.4419\tlr: 0.000100\n",
      "Epoch 13/100\tLoss: 0.6713\tAcc: 0.6108\tVal Loss: 0.6792\tVal Acc: 0.6139\tmacro_f1: 0.4668\tlr: 0.000100\n",
      "Epoch 14/100\tLoss: 0.5657\tAcc: 0.6310\tVal Loss: 0.6924\tVal Acc: 0.6076\tmacro_f1: 0.4530\tlr: 0.000100\n",
      "Epoch 15/100\tLoss: 0.6100\tAcc: 0.6763\tVal Loss: 0.6095\tVal Acc: 0.7025\tmacro_f1: 0.6737\tlr: 0.000100\n",
      "Epoch 16/100\tLoss: 0.5106\tAcc: 0.6993\tVal Loss: 0.6292\tVal Acc: 0.7089\tmacro_f1: 0.6670\tlr: 0.000100\n",
      "Epoch 17/100\tLoss: 0.6490\tAcc: 0.7111\tVal Loss: 0.6195\tVal Acc: 0.7089\tmacro_f1: 0.6704\tlr: 0.000100\n",
      "Epoch 18/100\tLoss: 0.5011\tAcc: 0.7192\tVal Loss: 0.5974\tVal Acc: 0.7342\tmacro_f1: 0.7046\tlr: 0.000100\n",
      "Epoch 19/100\tLoss: 0.6802\tAcc: 0.7279\tVal Loss: 0.5827\tVal Acc: 0.7215\tmacro_f1: 0.6957\tlr: 0.000100\n",
      "Epoch 20/100\tLoss: 0.5097\tAcc: 0.7352\tVal Loss: 0.5646\tVal Acc: 0.7342\tmacro_f1: 0.7160\tlr: 0.000100\n",
      "Epoch 21/100\tLoss: 0.5885\tAcc: 0.7369\tVal Loss: 0.5625\tVal Acc: 0.7342\tmacro_f1: 0.7140\tlr: 0.000100\n",
      "Epoch 22/100\tLoss: 0.6480\tAcc: 0.7443\tVal Loss: 0.5555\tVal Acc: 0.7468\tmacro_f1: 0.7295\tlr: 0.000100\n",
      "Epoch 23/100\tLoss: 0.5286\tAcc: 0.7443\tVal Loss: 0.5511\tVal Acc: 0.7532\tmacro_f1: 0.7388\tlr: 0.000100\n",
      "Epoch 24/100\tLoss: 0.5742\tAcc: 0.7509\tVal Loss: 0.5928\tVal Acc: 0.7215\tmacro_f1: 0.6781\tlr: 0.000100\n",
      "Epoch 25/100\tLoss: 0.5220\tAcc: 0.7439\tVal Loss: 0.5488\tVal Acc: 0.7595\tmacro_f1: 0.7447\tlr: 0.000100\n",
      "Epoch 26/100\tLoss: 0.5110\tAcc: 0.7401\tVal Loss: 0.5682\tVal Acc: 0.7215\tmacro_f1: 0.6847\tlr: 0.000100\n",
      "Epoch 27/100\tLoss: 0.5112\tAcc: 0.7509\tVal Loss: 0.5515\tVal Acc: 0.7342\tmacro_f1: 0.7019\tlr: 0.000100\n",
      "Epoch 28/100\tLoss: 0.5129\tAcc: 0.7557\tVal Loss: 0.5556\tVal Acc: 0.7278\tmacro_f1: 0.6903\tlr: 0.000100\n",
      "Epoch 29/100\tLoss: 0.5331\tAcc: 0.7498\tVal Loss: 0.5389\tVal Acc: 0.7215\tmacro_f1: 0.6877\tlr: 0.000050\n",
      "Epoch 30/100\tLoss: 0.4922\tAcc: 0.7491\tVal Loss: 0.5376\tVal Acc: 0.7278\tmacro_f1: 0.6989\tlr: 0.000050\n",
      "Epoch 31/100\tLoss: 0.5114\tAcc: 0.7505\tVal Loss: 0.5417\tVal Acc: 0.7278\tmacro_f1: 0.6962\tlr: 0.000050\n",
      "Epoch 32/100\tLoss: 0.5474\tAcc: 0.7606\tVal Loss: 0.5428\tVal Acc: 0.7278\tmacro_f1: 0.6962\tlr: 0.000050\n",
      "Epoch 33/100\tLoss: 0.5403\tAcc: 0.7571\tVal Loss: 0.5634\tVal Acc: 0.7342\tmacro_f1: 0.6990\tlr: 0.000050\n",
      "Epoch 34/100\tLoss: 0.4999\tAcc: 0.7592\tVal Loss: 0.5424\tVal Acc: 0.7278\tmacro_f1: 0.6962\tlr: 0.000050\n",
      "Epoch 35/100\tLoss: 0.5578\tAcc: 0.7523\tVal Loss: 0.5328\tVal Acc: 0.7405\tmacro_f1: 0.7153\tlr: 0.000050\n",
      "Epoch 36/100\tLoss: 0.5183\tAcc: 0.7589\tVal Loss: 0.5339\tVal Acc: 0.7342\tmacro_f1: 0.7071\tlr: 0.000050\n",
      "Epoch 37/100\tLoss: 0.5744\tAcc: 0.7551\tVal Loss: 0.5381\tVal Acc: 0.7278\tmacro_f1: 0.6989\tlr: 0.000050\n",
      "Epoch 38/100\tLoss: 0.7055\tAcc: 0.7631\tVal Loss: 0.5365\tVal Acc: 0.7278\tmacro_f1: 0.6989\tlr: 0.000050\n",
      "Epoch 39/100\tLoss: 0.6307\tAcc: 0.7533\tVal Loss: 0.5398\tVal Acc: 0.7405\tmacro_f1: 0.7103\tlr: 0.000050\n",
      "Epoch 40/100\tLoss: 0.5495\tAcc: 0.7606\tVal Loss: 0.5323\tVal Acc: 0.7342\tmacro_f1: 0.7046\tlr: 0.000050\n",
      "Epoch 41/100\tLoss: 0.5537\tAcc: 0.7544\tVal Loss: 0.5332\tVal Acc: 0.7468\tmacro_f1: 0.7187\tlr: 0.000025\n",
      "Epoch 42/100\tLoss: 0.4276\tAcc: 0.7624\tVal Loss: 0.5398\tVal Acc: 0.7468\tmacro_f1: 0.7187\tlr: 0.000025\n",
      "Epoch 43/100\tLoss: 0.3710\tAcc: 0.7620\tVal Loss: 0.5375\tVal Acc: 0.7405\tmacro_f1: 0.7103\tlr: 0.000025\n",
      "Epoch 44/100\tLoss: 0.4512\tAcc: 0.7606\tVal Loss: 0.5362\tVal Acc: 0.7405\tmacro_f1: 0.7103\tlr: 0.000025\n",
      "Epoch 45/100\tLoss: 0.4806\tAcc: 0.7613\tVal Loss: 0.5323\tVal Acc: 0.7405\tmacro_f1: 0.7129\tlr: 0.000025\n",
      "Epoch 46/100\tLoss: 0.5076\tAcc: 0.7634\tVal Loss: 0.5363\tVal Acc: 0.7405\tmacro_f1: 0.7103\tlr: 0.000025\n",
      "Epoch 47/100\tLoss: 0.4942\tAcc: 0.7620\tVal Loss: 0.5375\tVal Acc: 0.7405\tmacro_f1: 0.7103\tlr: 0.000025\n",
      "Epoch 48/100\tLoss: 0.5881\tAcc: 0.7613\tVal Loss: 0.5397\tVal Acc: 0.7405\tmacro_f1: 0.7103\tlr: 0.000025\n",
      "Epoch 49/100\tLoss: 0.5842\tAcc: 0.7634\tVal Loss: 0.5380\tVal Acc: 0.7468\tmacro_f1: 0.7187\tlr: 0.000025\n",
      "Epoch 50/100\tLoss: 0.4997\tAcc: 0.7638\tVal Loss: 0.5446\tVal Acc: 0.7405\tmacro_f1: 0.7103\tlr: 0.000025\n",
      "Epoch 51/100\tLoss: 0.4853\tAcc: 0.7589\tVal Loss: 0.5317\tVal Acc: 0.7342\tmacro_f1: 0.7071\tlr: 0.000025\n",
      "Epoch 52/100\tLoss: 0.5030\tAcc: 0.7669\tVal Loss: 0.5478\tVal Acc: 0.7405\tmacro_f1: 0.7103\tlr: 0.000025\n",
      "Epoch 53/100\tLoss: 0.4779\tAcc: 0.7620\tVal Loss: 0.5386\tVal Acc: 0.7405\tmacro_f1: 0.7103\tlr: 0.000025\n",
      "Epoch 54/100\tLoss: 0.3835\tAcc: 0.7620\tVal Loss: 0.5371\tVal Acc: 0.7468\tmacro_f1: 0.7187\tlr: 0.000013\n",
      "Epoch 55/100\tLoss: 0.5276\tAcc: 0.7662\tVal Loss: 0.5377\tVal Acc: 0.7468\tmacro_f1: 0.7187\tlr: 0.000013\n",
      "Epoch 56/100\tLoss: 0.5076\tAcc: 0.7634\tVal Loss: 0.5403\tVal Acc: 0.7405\tmacro_f1: 0.7103\tlr: 0.000013\n",
      "Epoch 57/100\tLoss: 0.5684\tAcc: 0.7641\tVal Loss: 0.5425\tVal Acc: 0.7405\tmacro_f1: 0.7103\tlr: 0.000013\n",
      "Epoch 58/100\tLoss: 0.4837\tAcc: 0.7652\tVal Loss: 0.5388\tVal Acc: 0.7468\tmacro_f1: 0.7187\tlr: 0.000013\n",
      "Epoch 59/100\tLoss: 0.4367\tAcc: 0.7655\tVal Loss: 0.5391\tVal Acc: 0.7405\tmacro_f1: 0.7103\tlr: 0.000013\n",
      "Epoch 60/100\tLoss: 0.4709\tAcc: 0.7648\tVal Loss: 0.5389\tVal Acc: 0.7405\tmacro_f1: 0.7103\tlr: 0.000013\n",
      "Epoch 61/100\tLoss: 0.4973\tAcc: 0.7648\tVal Loss: 0.5406\tVal Acc: 0.7405\tmacro_f1: 0.7103\tlr: 0.000013\n",
      "Epoch 62/100\tLoss: 0.4262\tAcc: 0.7645\tVal Loss: 0.5404\tVal Acc: 0.7405\tmacro_f1: 0.7103\tlr: 0.000013\n",
      "Epoch 63/100\tLoss: 0.5105\tAcc: 0.7669\tVal Loss: 0.5404\tVal Acc: 0.7405\tmacro_f1: 0.7103\tlr: 0.000013\n",
      "Epoch 64/100\tLoss: 0.4375\tAcc: 0.7655\tVal Loss: 0.5388\tVal Acc: 0.7405\tmacro_f1: 0.7103\tlr: 0.000013\n",
      "Epoch 65/100\tLoss: 0.4271\tAcc: 0.7652\tVal Loss: 0.5408\tVal Acc: 0.7405\tmacro_f1: 0.7103\tlr: 0.000006\n",
      "Epoch 66/100\tLoss: 0.4931\tAcc: 0.7655\tVal Loss: 0.5405\tVal Acc: 0.7405\tmacro_f1: 0.7103\tlr: 0.000006\n",
      "Epoch 67/100\tLoss: 0.6257\tAcc: 0.7652\tVal Loss: 0.5407\tVal Acc: 0.7405\tmacro_f1: 0.7103\tlr: 0.000006\n",
      "Epoch 68/100\tLoss: 0.4733\tAcc: 0.7655\tVal Loss: 0.5401\tVal Acc: 0.7405\tmacro_f1: 0.7103\tlr: 0.000006\n",
      "Epoch 69/100\tLoss: 0.4452\tAcc: 0.7662\tVal Loss: 0.5412\tVal Acc: 0.7405\tmacro_f1: 0.7103\tlr: 0.000006\n",
      "Epoch 70/100\tLoss: 0.3647\tAcc: 0.7652\tVal Loss: 0.5421\tVal Acc: 0.7405\tmacro_f1: 0.7103\tlr: 0.000006\n",
      "Epoch 71/100\tLoss: 0.5298\tAcc: 0.7666\tVal Loss: 0.5400\tVal Acc: 0.7405\tmacro_f1: 0.7103\tlr: 0.000006\n",
      "Epoch 72/100\tLoss: 0.3627\tAcc: 0.7662\tVal Loss: 0.5401\tVal Acc: 0.7405\tmacro_f1: 0.7103\tlr: 0.000006\n",
      "Epoch 73/100\tLoss: 0.4773\tAcc: 0.7666\tVal Loss: 0.5401\tVal Acc: 0.7405\tmacro_f1: 0.7103\tlr: 0.000006\n",
      "Epoch 74/100\tLoss: 0.3745\tAcc: 0.7666\tVal Loss: 0.5404\tVal Acc: 0.7405\tmacro_f1: 0.7103\tlr: 0.000006\n",
      "Epoch 75/100\tLoss: 0.4273\tAcc: 0.7669\tVal Loss: 0.5392\tVal Acc: 0.7405\tmacro_f1: 0.7103\tlr: 0.000006\n",
      "Epoch 76/100\tLoss: 0.4207\tAcc: 0.7666\tVal Loss: 0.5407\tVal Acc: 0.7405\tmacro_f1: 0.7103\tlr: 0.000006\n",
      "Epoch 77/100\tLoss: 0.6163\tAcc: 0.7669\tVal Loss: 0.5410\tVal Acc: 0.7405\tmacro_f1: 0.7103\tlr: 0.000006\n",
      "Epoch 78/100\tLoss: 0.5626\tAcc: 0.7669\tVal Loss: 0.5434\tVal Acc: 0.7342\tmacro_f1: 0.7019\tlr: 0.000006\n",
      "Epoch 79/100\tLoss: 0.4792\tAcc: 0.7690\tVal Loss: 0.5391\tVal Acc: 0.7405\tmacro_f1: 0.7103\tlr: 0.000006\n",
      "Epoch 80/100\tLoss: 0.4469\tAcc: 0.7655\tVal Loss: 0.5431\tVal Acc: 0.7342\tmacro_f1: 0.7019\tlr: 0.000006\n",
      "Epoch 81/100\tLoss: 0.5113\tAcc: 0.7666\tVal Loss: 0.5419\tVal Acc: 0.7405\tmacro_f1: 0.7103\tlr: 0.000006\n",
      "Epoch 82/100\tLoss: 0.4286\tAcc: 0.7679\tVal Loss: 0.5417\tVal Acc: 0.7405\tmacro_f1: 0.7103\tlr: 0.000006\n",
      "Epoch 83/100\tLoss: 0.5229\tAcc: 0.7669\tVal Loss: 0.5401\tVal Acc: 0.7405\tmacro_f1: 0.7103\tlr: 0.000003\n",
      "Epoch 84/100\tLoss: 0.4603\tAcc: 0.7686\tVal Loss: 0.5401\tVal Acc: 0.7405\tmacro_f1: 0.7103\tlr: 0.000003\n",
      "Epoch 85/100\tLoss: 0.4531\tAcc: 0.7676\tVal Loss: 0.5405\tVal Acc: 0.7405\tmacro_f1: 0.7103\tlr: 0.000003\n",
      "Epoch 86/100\tLoss: 0.5146\tAcc: 0.7679\tVal Loss: 0.5422\tVal Acc: 0.7405\tmacro_f1: 0.7103\tlr: 0.000003\n",
      "Epoch 87/100\tLoss: 0.5552\tAcc: 0.7672\tVal Loss: 0.5417\tVal Acc: 0.7405\tmacro_f1: 0.7103\tlr: 0.000003\n",
      "Epoch 88/100\tLoss: 0.5155\tAcc: 0.7679\tVal Loss: 0.5391\tVal Acc: 0.7405\tmacro_f1: 0.7103\tlr: 0.000003\n",
      "Epoch 89/100\tLoss: 0.4285\tAcc: 0.7683\tVal Loss: 0.5415\tVal Acc: 0.7342\tmacro_f1: 0.7019\tlr: 0.000003\n",
      "Epoch 90/100\tLoss: 0.4745\tAcc: 0.7679\tVal Loss: 0.5414\tVal Acc: 0.7342\tmacro_f1: 0.7019\tlr: 0.000003\n",
      "Epoch 91/100\tLoss: 0.4552\tAcc: 0.7676\tVal Loss: 0.5419\tVal Acc: 0.7405\tmacro_f1: 0.7103\tlr: 0.000003\n",
      "Epoch 92/100\tLoss: 0.4870\tAcc: 0.7679\tVal Loss: 0.5411\tVal Acc: 0.7405\tmacro_f1: 0.7103\tlr: 0.000003\n",
      "Epoch 93/100\tLoss: 0.4911\tAcc: 0.7683\tVal Loss: 0.5424\tVal Acc: 0.7342\tmacro_f1: 0.7019\tlr: 0.000003\n",
      "Epoch 94/100\tLoss: 0.4388\tAcc: 0.7669\tVal Loss: 0.5423\tVal Acc: 0.7342\tmacro_f1: 0.7019\tlr: 0.000002\n",
      "Epoch 95/100\tLoss: 0.5357\tAcc: 0.7669\tVal Loss: 0.5424\tVal Acc: 0.7342\tmacro_f1: 0.7019\tlr: 0.000002\n",
      "Epoch 96/100\tLoss: 0.5908\tAcc: 0.7669\tVal Loss: 0.5418\tVal Acc: 0.7342\tmacro_f1: 0.7019\tlr: 0.000002\n",
      "Epoch 97/100\tLoss: 0.4580\tAcc: 0.7683\tVal Loss: 0.5416\tVal Acc: 0.7342\tmacro_f1: 0.7019\tlr: 0.000002\n",
      "Epoch 98/100\tLoss: 0.4841\tAcc: 0.7679\tVal Loss: 0.5412\tVal Acc: 0.7342\tmacro_f1: 0.7019\tlr: 0.000002\n",
      "Epoch 99/100\tLoss: 0.4482\tAcc: 0.7676\tVal Loss: 0.5407\tVal Acc: 0.7405\tmacro_f1: 0.7103\tlr: 0.000002\n",
      "Epoch 100/100\tLoss: 0.5742\tAcc: 0.7676\tVal Loss: 0.5413\tVal Acc: 0.7405\tmacro_f1: 0.7103\tlr: 0.000002\n",
      "Best model found at epoch 51 with validation loss: 0.5317 and f1 sore: 0.7071\n"
     ]
    }
   ],
   "source": [
    "history_baseline_model = train_model(baseline_model, train_dloader, val_dloader, loss_function, optimizer, scheduler, num_epochs=100, name='baseline', verbose=True)"
   ]
  },
  {
   "cell_type": "code",
   "execution_count": 42,
   "metadata": {},
   "outputs": [
    {
     "data": {
      "image/png": "[encoded data removed]",
      "text/plain": [
       "<Figure size 1800x500 with 3 Axes>"
      ]
     },
     "metadata": {},
     "output_type": "display_data"
    }
   ],
   "source": [
    "fig, axes = plt.subplots(1, 3, figsize=(18, 5))\n",
    "\n",
    "baseline_model_name = history['model'] == 'baseline'\n",
    "\n",
    "history[baseline_model_name].plot(x='epoch', y=['train_loss', 'val_loss'], title='Loss', ax=axes[0])\n",
    "history[baseline_model_name].plot(x='epoch', y=['train_acc', 'val_acc'], title='Accuracy', ax=axes[1])\n",
    "history[baseline_model_name].plot(x='epoch', y='learning_rate', title='Learning Rate', ax=axes[2], logy=True)\n",
    "\n",
    "plt.tight_layout()\n",
    "plt.show()"
   ]
  },
  {
   "cell_type": "markdown",
   "metadata": {},
   "source": [
    "# Model 1"
   ]
  },
  {
   "cell_type": "code",
   "execution_count": 43,
   "metadata": {},
   "outputs": [
    {
     "data": {
      "text/plain": [
       "BaselineModel(\n",
       "  (word_embeddings): Embedding(1194307, 50, padding_idx=1194306)\n",
       "  (lstm): LSTM(50, 128, num_layers=2, batch_first=True, bidirectional=True)\n",
       "  (fc): Linear(in_features=256, out_features=1, bias=True)\n",
       ")"
      ]
     },
     "execution_count": 43,
     "metadata": {},
     "output_type": "execute_result"
    }
   ],
   "source": [
    "model1 = BaselineModel(emb_model_augmented, hidden_dim=128, lstm_layers=2)\n",
    "model1.word_embeddings.weight.requires_grad = False # freeze the embeddings\n",
    "model1.to(device)"
   ]
  },
  {
   "cell_type": "code",
   "execution_count": 44,
   "metadata": {},
   "outputs": [],
   "source": [
    "loss_function = torch.nn.BCEWithLogitsLoss(reduction='none')\n",
    "optimizer = torch.optim.AdamW(model1.parameters(), lr=1e-4, weight_decay=1e-5)\n",
    "scheduler = torch.optim.lr_scheduler.ReduceLROnPlateau(optimizer, mode='min', factor=0.5, patience=10, min_lr=1e-6)"
   ]
  },
  {
   "cell_type": "code",
   "execution_count": null,
   "metadata": {},
   "outputs": [
    {
     "name": "stdout",
     "output_type": "stream",
     "text": [
      "Epoch 1/50\tLoss: 0.6937\tAcc: 0.6038\tVal Loss: 0.6972\tVal Acc: 0.5696\tmacro_f1: 0.3629\tlr: 0.000100\n",
      "Epoch 2/50\tLoss: 0.6948\tAcc: 0.6038\tVal Loss: 0.7136\tVal Acc: 0.5696\tmacro_f1: 0.3629\tlr: 0.000100\n",
      "Epoch 3/50\tLoss: 0.6028\tAcc: 0.6038\tVal Loss: 0.7228\tVal Acc: 0.5696\tmacro_f1: 0.3629\tlr: 0.000100\n",
      "Epoch 4/50\tLoss: 0.7003\tAcc: 0.6038\tVal Loss: 0.7197\tVal Acc: 0.5696\tmacro_f1: 0.3629\tlr: 0.000100\n",
      "Epoch 5/50\tLoss: 0.7153\tAcc: 0.6038\tVal Loss: 0.7180\tVal Acc: 0.5696\tmacro_f1: 0.3629\tlr: 0.000100\n",
      "Epoch 6/50\tLoss: 0.6803\tAcc: 0.6038\tVal Loss: 0.7146\tVal Acc: 0.5696\tmacro_f1: 0.3629\tlr: 0.000100\n",
      "Epoch 7/50\tLoss: 0.6986\tAcc: 0.6038\tVal Loss: 0.7138\tVal Acc: 0.5696\tmacro_f1: 0.3629\tlr: 0.000100\n",
      "Epoch 8/50\tLoss: 0.6752\tAcc: 0.6042\tVal Loss: 0.7108\tVal Acc: 0.5886\tmacro_f1: 0.4096\tlr: 0.000100\n",
      "Epoch 9/50\tLoss: 0.6526\tAcc: 0.6042\tVal Loss: 0.7048\tVal Acc: 0.5759\tmacro_f1: 0.4143\tlr: 0.000100\n",
      "Epoch 10/50\tLoss: 0.6408\tAcc: 0.6052\tVal Loss: 0.7030\tVal Acc: 0.5886\tmacro_f1: 0.4419\tlr: 0.000100\n",
      "Epoch 11/50\tLoss: 0.6470\tAcc: 0.6070\tVal Loss: 0.7010\tVal Acc: 0.5949\tmacro_f1: 0.4553\tlr: 0.000100\n",
      "Epoch 12/50\tLoss: 0.6437\tAcc: 0.6077\tVal Loss: 0.7013\tVal Acc: 0.5886\tmacro_f1: 0.4419\tlr: 0.000100\n",
      "Epoch 13/50\tLoss: 0.7000\tAcc: 0.6066\tVal Loss: 0.6998\tVal Acc: 0.5949\tmacro_f1: 0.4456\tlr: 0.000100\n",
      "Epoch 14/50\tLoss: 0.6438\tAcc: 0.6108\tVal Loss: 0.6822\tVal Acc: 0.6139\tmacro_f1: 0.4668\tlr: 0.000050\n",
      "Epoch 15/50\tLoss: 0.6207\tAcc: 0.6195\tVal Loss: 0.6461\tVal Acc: 0.6582\tmacro_f1: 0.5748\tlr: 0.000050\n",
      "Epoch 16/50\tLoss: 0.6321\tAcc: 0.6617\tVal Loss: 0.6362\tVal Acc: 0.7025\tmacro_f1: 0.6504\tlr: 0.000050\n",
      "Epoch 17/50\tLoss: 0.5134\tAcc: 0.7035\tVal Loss: 0.6188\tVal Acc: 0.7089\tmacro_f1: 0.6889\tlr: 0.000050\n",
      "Epoch 18/50\tLoss: 0.5793\tAcc: 0.7185\tVal Loss: 0.6010\tVal Acc: 0.7278\tmacro_f1: 0.7138\tlr: 0.000050\n",
      "Epoch 19/50\tLoss: 0.6503\tAcc: 0.7240\tVal Loss: 0.6406\tVal Acc: 0.7089\tmacro_f1: 0.6793\tlr: 0.000050\n",
      "Epoch 20/50\tLoss: 0.5994\tAcc: 0.7101\tVal Loss: 0.5896\tVal Acc: 0.7342\tmacro_f1: 0.7179\tlr: 0.000050\n",
      "Epoch 21/50\tLoss: 0.6135\tAcc: 0.7213\tVal Loss: 0.6228\tVal Acc: 0.7089\tmacro_f1: 0.6793\tlr: 0.000050\n",
      "Epoch 22/50\tLoss: 0.5939\tAcc: 0.7188\tVal Loss: 0.5946\tVal Acc: 0.7405\tmacro_f1: 0.7315\tlr: 0.000050\n",
      "Epoch 23/50\tLoss: 0.6030\tAcc: 0.7286\tVal Loss: 0.5856\tVal Acc: 0.7405\tmacro_f1: 0.7315\tlr: 0.000050\n",
      "Epoch 24/50\tLoss: 0.5414\tAcc: 0.7164\tVal Loss: 0.5974\tVal Acc: 0.5759\tmacro_f1: 0.4143\tlr: 0.000050\n",
      "Epoch 25/50\tLoss: 0.4775\tAcc: 0.6944\tVal Loss: 0.5959\tVal Acc: 0.7405\tmacro_f1: 0.7315\tlr: 0.000050\n",
      "Epoch 26/50\tLoss: 0.5109\tAcc: 0.6861\tVal Loss: 0.5905\tVal Acc: 0.7405\tmacro_f1: 0.7327\tlr: 0.000050\n",
      "Epoch 27/50\tLoss: 0.5827\tAcc: 0.7338\tVal Loss: 0.5813\tVal Acc: 0.7532\tmacro_f1: 0.7419\tlr: 0.000050\n",
      "Epoch 28/50\tLoss: 0.5809\tAcc: 0.7338\tVal Loss: 0.5880\tVal Acc: 0.7405\tmacro_f1: 0.7237\tlr: 0.000050\n",
      "Epoch 29/50\tLoss: 0.5447\tAcc: 0.7345\tVal Loss: 0.5868\tVal Acc: 0.7405\tmacro_f1: 0.7301\tlr: 0.000050\n",
      "Epoch 30/50\tLoss: 0.4475\tAcc: 0.7362\tVal Loss: 0.5816\tVal Acc: 0.7468\tmacro_f1: 0.7409\tlr: 0.000050\n",
      "Epoch 31/50\tLoss: 0.5971\tAcc: 0.7321\tVal Loss: 0.5892\tVal Acc: 0.7532\tmacro_f1: 0.7419\tlr: 0.000050\n",
      "Epoch 32/50\tLoss: 0.4806\tAcc: 0.7422\tVal Loss: 0.6170\tVal Acc: 0.7342\tmacro_f1: 0.7160\tlr: 0.000050\n",
      "Epoch 33/50\tLoss: 0.6101\tAcc: 0.7348\tVal Loss: 0.5771\tVal Acc: 0.7468\tmacro_f1: 0.7374\tlr: 0.000050\n",
      "Epoch 34/50\tLoss: 0.5904\tAcc: 0.7446\tVal Loss: 0.5897\tVal Acc: 0.7405\tmacro_f1: 0.7301\tlr: 0.000050\n",
      "Epoch 35/50\tLoss: 0.5372\tAcc: 0.7443\tVal Loss: 0.5803\tVal Acc: 0.7405\tmacro_f1: 0.7301\tlr: 0.000050\n",
      "Epoch 36/50\tLoss: 0.6059\tAcc: 0.7443\tVal Loss: 0.5735\tVal Acc: 0.7532\tmacro_f1: 0.7478\tlr: 0.000050\n",
      "Epoch 37/50\tLoss: 0.5788\tAcc: 0.7268\tVal Loss: 0.5981\tVal Acc: 0.7405\tmacro_f1: 0.7287\tlr: 0.000050\n",
      "Epoch 38/50\tLoss: 0.5404\tAcc: 0.6418\tVal Loss: 0.5913\tVal Acc: 0.7342\tmacro_f1: 0.7228\tlr: 0.000050\n",
      "Epoch 39/50\tLoss: 0.5230\tAcc: 0.7460\tVal Loss: 0.5831\tVal Acc: 0.7532\tmacro_f1: 0.7446\tlr: 0.000050\n",
      "Epoch 40/50\tLoss: 0.5547\tAcc: 0.7209\tVal Loss: 0.5911\tVal Acc: 0.7468\tmacro_f1: 0.7409\tlr: 0.000050\n",
      "Epoch 41/50\tLoss: 0.5351\tAcc: 0.7425\tVal Loss: 0.5710\tVal Acc: 0.7468\tmacro_f1: 0.7360\tlr: 0.000025\n",
      "Epoch 42/50\tLoss: 0.6062\tAcc: 0.7484\tVal Loss: 0.5759\tVal Acc: 0.7468\tmacro_f1: 0.7360\tlr: 0.000025\n",
      "Epoch 43/50\tLoss: 0.5603\tAcc: 0.7495\tVal Loss: 0.5762\tVal Acc: 0.7468\tmacro_f1: 0.7360\tlr: 0.000025\n",
      "Epoch 44/50\tLoss: 0.6161\tAcc: 0.7460\tVal Loss: 0.5750\tVal Acc: 0.7468\tmacro_f1: 0.7360\tlr: 0.000025\n",
      "Epoch 45/50\tLoss: 0.4929\tAcc: 0.7477\tVal Loss: 0.5755\tVal Acc: 0.7468\tmacro_f1: 0.7360\tlr: 0.000025\n",
      "Epoch 46/50\tLoss: 0.5983\tAcc: 0.7439\tVal Loss: 0.5797\tVal Acc: 0.7468\tmacro_f1: 0.7360\tlr: 0.000025\n",
      "Epoch 47/50\tLoss: 0.5016\tAcc: 0.7509\tVal Loss: 0.5708\tVal Acc: 0.7405\tmacro_f1: 0.7327\tlr: 0.000025\n",
      "Epoch 48/50\tLoss: 0.5047\tAcc: 0.7502\tVal Loss: 0.5715\tVal Acc: 0.7532\tmacro_f1: 0.7446\tlr: 0.000025\n",
      "Epoch 49/50\tLoss: 0.4800\tAcc: 0.7512\tVal Loss: 0.5797\tVal Acc: 0.7468\tmacro_f1: 0.7360\tlr: 0.000025\n",
      "Epoch 50/50\tLoss: 0.6541\tAcc: 0.7484\tVal Loss: 0.5749\tVal Acc: 0.7532\tmacro_f1: 0.7433\tlr: 0.000025\n",
      "Best model found at epoch 47 with validation loss: 0.5708 and f1 sore: 0.7327\n"
     ]
    }
   ],
   "source": [
    "history_model1 = train_model(model1, train_dloader, val_dloader, loss_function, optimizer, scheduler, num_epochs=100, name='model1', verbose=True)"
   ]
  },
  {
   "cell_type": "code",
   "execution_count": 46,
   "metadata": {},
   "outputs": [
    {
     "data": {
      "image/png": "[encoded data removed]",
      "text/plain": [
       "<Figure size 1800x500 with 3 Axes>"
      ]
     },
     "metadata": {},
     "output_type": "display_data"
    }
   ],
   "source": [
    "fig, axes = plt.subplots(1, 3, figsize=(18, 5))\n",
    "\n",
    "baseline_model_name = history['model'] == 'model1'\n",
    "\n",
    "history[baseline_model_name].plot(x='epoch', y=['train_loss', 'val_loss'], title='Loss', ax=axes[0])\n",
    "history[baseline_model_name].plot(x='epoch', y=['train_acc', 'val_acc'], title='Accuracy', ax=axes[1])\n",
    "history[baseline_model_name].plot(x='epoch', y='learning_rate', title='Learning Rate', ax=axes[2], logy=True)\n",
    "\n",
    "plt.tight_layout()\n",
    "plt.show()"
   ]
  },
  {
   "cell_type": "markdown",
   "metadata": {
    "id": "_849c_EG-bRK"
   },
   "source": [
    "# Task 6: Transformers\n",
    "\n",
    "https://huggingface.co/cardiffnlp/twitter-roberta-base-hate"
   ]
  },
  {
   "cell_type": "markdown",
   "metadata": {},
   "source": [
    "1. **Load the Tokenizer and Model**\n",
    "\n",
    "2. **Preprocess the Dataset**:\n",
    "   You will need to preprocess your dataset to prepare it for input into the model. Tokenize your text data using the appropriate tokenizer and ensure it is formatted correctly.\n",
    "\n",
    "   **Note**: You have to use the plain text of the dataset and not the version that you tokenized before, as you need to tokenize the cleaned text obtained after the initial cleaning process.\n",
    "\n",
    "3. **Train the Model**:\n",
    "   Use the `Trainer` to train the model on your training data.\n",
    "\n",
    "4. **Evaluate the Model on the Test Set** using F1-macro."
   ]
  },
  {
   "cell_type": "code",
   "execution_count": 33,
   "metadata": {},
   "outputs": [],
   "source": [
    "model_card = 'cardiffnlp/twitter-roberta-base-hate'\n",
    "\n",
    "tokenizer = AutoTokenizer.from_pretrained(model_card)"
   ]
  },
  {
   "cell_type": "code",
   "execution_count": 34,
   "metadata": {},
   "outputs": [],
   "source": [
    "train_data = Dataset.from_pandas(train)\n",
    "val_data = Dataset.from_pandas(val)\n",
    "test_data = Dataset.from_pandas(test)"
   ]
  },
  {
   "cell_type": "code",
   "execution_count": 35,
   "metadata": {},
   "outputs": [],
   "source": [
    "def preprocess_text(texts):\n",
    "    return tokenizer(texts['tweet'], truncation=True)"
   ]
  },
  {
   "cell_type": "code",
   "execution_count": 36,
   "metadata": {},
   "outputs": [
    {
     "data": {
      "application/vnd.jupyter.widget-view+json": {
       "model_id": "6e6377a77a5d469ebc0e2c8188172a43",
       "version_major": 2,
       "version_minor": 0
      },
      "text/plain": [
       "Map:   0%|          | 0/2870 [00:00<?, ? examples/s]"
      ]
     },
     "metadata": {},
     "output_type": "display_data"
    },
    {
     "name": "stderr",
     "output_type": "stream",
     "text": [
      "Asking to truncate to max_length but no maximum length is provided and the model has no predefined maximum length. Default to no truncation.\n"
     ]
    },
    {
     "data": {
      "application/vnd.jupyter.widget-view+json": {
       "model_id": "a54f34dff14b4ad39d3c2a444bf89cdb",
       "version_major": 2,
       "version_minor": 0
      },
      "text/plain": [
       "Map:   0%|          | 0/158 [00:00<?, ? examples/s]"
      ]
     },
     "metadata": {},
     "output_type": "display_data"
    },
    {
     "data": {
      "application/vnd.jupyter.widget-view+json": {
       "model_id": "56234b16b06a4e8a8acc11c70dd15de8",
       "version_major": 2,
       "version_minor": 0
      },
      "text/plain": [
       "Map:   0%|          | 0/286 [00:00<?, ? examples/s]"
      ]
     },
     "metadata": {},
     "output_type": "display_data"
    }
   ],
   "source": [
    "train_data = train_data.map(preprocess_text, batched=True)\n",
    "val_data = val_data.map(preprocess_text, batched=True)\n",
    "test_data = test_data.map(preprocess_text, batched=True)"
   ]
  },
  {
   "cell_type": "code",
   "execution_count": 37,
   "metadata": {},
   "outputs": [
    {
     "name": "stdout",
     "output_type": "stream",
     "text": [
      "Dataset({\n",
      "    features: ['id_EXIST', 'lang', 'tweet', 'hard_label_task1', '__index_level_0__', 'input_ids', 'attention_mask'],\n",
      "    num_rows: 2870\n",
      "})\n",
      "Dataset({\n",
      "    features: ['id_EXIST', 'lang', 'tweet', 'hard_label_task1', '__index_level_0__', 'input_ids', 'attention_mask'],\n",
      "    num_rows: 286\n",
      "})\n"
     ]
    }
   ],
   "source": [
    "print(train_data)\n",
    "print(test_data)"
   ]
  },
  {
   "cell_type": "code",
   "execution_count": 38,
   "metadata": {},
   "outputs": [
    {
     "name": "stdout",
     "output_type": "stream",
     "text": [
      "i get it kind of of woman are going after about of men and ignoring the rest according to statistic of dating apps so that s a pain point for some men but is hating woman really a main component to being an incel and what s the difference between mgtow and incel\n",
      "\n",
      "\n",
      "<s>i get it kind of of woman are going after about of men and ignoring the rest according to statistic of dating apps so that s a pain point for some men but is hating woman really a main component to being an incel and what s the difference between mgtow and incel</s>\n"
     ]
    }
   ],
   "source": [
    "original_text = train_data['tweet'][50]\n",
    "decoded_text = tokenizer.decode(train_data['input_ids'][50])\n",
    "print(original_text)\n",
    "print()\n",
    "print()\n",
    "print(decoded_text)"
   ]
  },
  {
   "cell_type": "code",
   "execution_count": 39,
   "metadata": {},
   "outputs": [],
   "source": [
    "data_collator = DataCollatorWithPadding(tokenizer=tokenizer)"
   ]
  },
  {
   "cell_type": "code",
   "execution_count": 40,
   "metadata": {},
   "outputs": [],
   "source": [
    "model = AutoModelForSequenceClassification.from_pretrained(model_card,\n",
    "                                                           num_labels=2,\n",
    "                                                           id2label={0: 'NEG', 1: 'POS'},\n",
    "                                                           label2id={'NEG': 0, 'POS': 1})"
   ]
  },
  {
   "cell_type": "code",
   "execution_count": 41,
   "metadata": {},
   "outputs": [
    {
     "name": "stdout",
     "output_type": "stream",
     "text": [
      "RobertaForSequenceClassification(\n",
      "  (roberta): RobertaModel(\n",
      "    (embeddings): RobertaEmbeddings(\n",
      "      (word_embeddings): Embedding(50265, 768, padding_idx=1)\n",
      "      (position_embeddings): Embedding(514, 768, padding_idx=1)\n",
      "      (token_type_embeddings): Embedding(1, 768)\n",
      "      (LayerNorm): LayerNorm((768,), eps=1e-05, elementwise_affine=True)\n",
      "      (dropout): Dropout(p=0.1, inplace=False)\n",
      "    )\n",
      "    (encoder): RobertaEncoder(\n",
      "      (layer): ModuleList(\n",
      "        (0-11): 12 x RobertaLayer(\n",
      "          (attention): RobertaAttention(\n",
      "            (self): RobertaSdpaSelfAttention(\n",
      "              (query): Linear(in_features=768, out_features=768, bias=True)\n",
      "              (key): Linear(in_features=768, out_features=768, bias=True)\n",
      "              (value): Linear(in_features=768, out_features=768, bias=True)\n",
      "              (dropout): Dropout(p=0.1, inplace=False)\n",
      "            )\n",
      "            (output): RobertaSelfOutput(\n",
      "              (dense): Linear(in_features=768, out_features=768, bias=True)\n",
      "              (LayerNorm): LayerNorm((768,), eps=1e-05, elementwise_affine=True)\n",
      "              (dropout): Dropout(p=0.1, inplace=False)\n",
      "            )\n",
      "          )\n",
      "          (intermediate): RobertaIntermediate(\n",
      "            (dense): Linear(in_features=768, out_features=3072, bias=True)\n",
      "            (intermediate_act_fn): GELUActivation()\n",
      "          )\n",
      "          (output): RobertaOutput(\n",
      "            (dense): Linear(in_features=3072, out_features=768, bias=True)\n",
      "            (LayerNorm): LayerNorm((768,), eps=1e-05, elementwise_affine=True)\n",
      "            (dropout): Dropout(p=0.1, inplace=False)\n",
      "          )\n",
      "        )\n",
      "      )\n",
      "    )\n",
      "  )\n",
      "  (classifier): RobertaClassificationHead(\n",
      "    (dense): Linear(in_features=768, out_features=768, bias=True)\n",
      "    (dropout): Dropout(p=0.1, inplace=False)\n",
      "    (out_proj): Linear(in_features=768, out_features=2, bias=True)\n",
      "  )\n",
      ")\n"
     ]
    }
   ],
   "source": [
    "print(model)"
   ]
  },
  {
   "cell_type": "code",
   "execution_count": 46,
   "metadata": {},
   "outputs": [],
   "source": [
    "def compute_metrics(output_info):\n",
    "    predictions, labels = output_info\n",
    "    predictions = (predictions[:, 1] > 0.5)\n",
    "    \n",
    "    f1 = f1_score(y_pred=predictions, y_true=labels, average='macro')\n",
    "    acc = accuracy_score(y_pred=predictions, y_true=labels)\n",
    "    return {'f1': f1, 'acc': acc}"
   ]
  },
  {
   "cell_type": "code",
   "execution_count": 47,
   "metadata": {},
   "outputs": [
    {
     "name": "stderr",
     "output_type": "stream",
     "text": [
      "f:\\VSCODE\\Python\\Sexism-detection\\.venv\\Lib\\site-packages\\transformers\\training_args.py:1568: FutureWarning: `evaluation_strategy` is deprecated and will be removed in version 4.46 of 🤗 Transformers. Use `eval_strategy` instead\n",
      "  warnings.warn(\n"
     ]
    }
   ],
   "source": [
    "training_args = TrainingArguments(\n",
    "    output_dir=\"models\",                 # where to save model\n",
    "    learning_rate=1e-5,                   \n",
    "    per_device_train_batch_size=BATCH_SIZE,         # accelerate defines distributed training\n",
    "    per_device_eval_batch_size=BATCH_SIZE,\n",
    "    num_train_epochs=1,\n",
    "    weight_decay=1e-5,\n",
    "    evaluation_strategy=\"epoch\",           # when to report evaluation metrics/losses\n",
    "    save_strategy=\"epoch\",                 # when to save checkpoint\n",
    "    load_best_model_at_end=True,\n",
    "    report_to='none'                       # disabling wandb (default)\n",
    ")"
   ]
  },
  {
   "cell_type": "code",
   "execution_count": 48,
   "metadata": {},
   "outputs": [
    {
     "name": "stderr",
     "output_type": "stream",
     "text": [
      "C:\\Users\\Matte\\AppData\\Local\\Temp\\ipykernel_23620\\4171576305.py:1: FutureWarning: `tokenizer` is deprecated and will be removed in version 5.0.0 for `Trainer.__init__`. Use `processing_class` instead.\n",
      "  trainer = Trainer(\n"
     ]
    }
   ],
   "source": [
    "trainer = Trainer(\n",
    "    model=model,\n",
    "    args=training_args,\n",
    "    train_dataset=train_data,\n",
    "    eval_dataset=test_data,\n",
    "    tokenizer=tokenizer,\n",
    "    data_collator=data_collator,\n",
    "    compute_metrics=compute_metrics,\n",
    ")"
   ]
  },
  {
   "cell_type": "code",
   "execution_count": 49,
   "metadata": {},
   "outputs": [
    {
     "data": {
      "application/vnd.jupyter.widget-view+json": {
       "model_id": "b2b7e515788946c18681179d7bab06f3",
       "version_major": 2,
       "version_minor": 0
      },
      "text/plain": [
       "  0%|          | 0/23 [00:00<?, ?it/s]"
      ]
     },
     "metadata": {},
     "output_type": "display_data"
    },
    {
     "ename": "",
     "evalue": "",
     "output_type": "error",
     "traceback": [
      "\u001b[1;31mThe Kernel crashed while executing code in the current cell or a previous cell. \n",
      "\u001b[1;31mPlease review the code in the cell(s) to identify a possible cause of the failure. \n",
      "\u001b[1;31mClick <a href='https://aka.ms/vscodeJupyterKernelCrash'>here</a> for more info. \n",
      "\u001b[1;31mView Jupyter <a href='command:jupyter.viewOutput'>log</a> for further details."
     ]
    }
   ],
   "source": [
    "trainer.train()"
   ]
  },
  {
   "cell_type": "markdown",
   "metadata": {
    "id": "qoCoBkHN-bRK"
   },
   "source": [
    "# Task 7: Error Analysis\n",
    "\n",
    "After evaluating the model, perform a brief error analysis:\n",
    "\n",
    " - Review the results and identify common errors.\n",
    "\n",
    " - Summarize your findings regarding the errors and their impact on performance (e.g. but not limited to Out-of-Vocabulary (OOV) words, data imbalance, and performance differences between the custom model and the transformer...)\n",
    " - Suggest possible solutions to address the identified errors."
   ]
  },
  {
   "cell_type": "markdown",
   "metadata": {
    "id": "lCNhVqZ9-bRL"
   },
   "source": [
    "# Task 8: Report\n",
    "\n",
    "Wrap up your experiment in a short report (up to 2 pages).\n",
    "\n",
    "* Use the NLP course report template.\n",
    "* Summarize each task in the report following the provided template.\n",
    "\n",
    "The report is not a copy-paste of graphs, tables, and command outputs.\n",
    "\n",
    "* Summarize classification performance in Table format.\n",
    "* **Do not** report command outputs or screenshots.\n",
    "* Report learning curves in Figure format.\n",
    "* The error analysis section should summarize your findings."
   ]
  }
 ],
 "metadata": {
  "accelerator": "GPU",
  "colab": {
   "gpuType": "T4",
   "provenance": []
  },
  "kernelspec": {
   "display_name": ".venv",
   "language": "python",
   "name": "python3"
  },
  "language_info": {
   "codemirror_mode": {
    "name": "ipython",
    "version": 3
   },
   "file_extension": ".py",
   "mimetype": "text/x-python",
   "name": "python",
   "nbconvert_exporter": "python",
   "pygments_lexer": "ipython3",
   "version": "3.12.4"
  }
 },
 "nbformat": 4,
 "nbformat_minor": 0
}
