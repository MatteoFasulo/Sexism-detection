{
 "cells": [
  {
   "cell_type": "markdown",
   "metadata": {
    "id": "qmIZOuDv-bQk"
   },
   "source": [
    "<a href=\"https://colab.research.google.com/github/MatteoFasulo/Sexism-detection/blob/main/assignment_1.ipynb\" target=\"_parent\"><img src=\"https://colab.research.google.com/assets/colab-badge.svg\" alt=\"Open In Colab\"/></a>"
   ]
  },
  {
   "cell_type": "markdown",
   "metadata": {
    "id": "9vYXSXHf-bQp"
   },
   "source": [
    "# Libraries"
   ]
  },
  {
   "cell_type": "code",
   "execution_count": 493,
   "metadata": {
    "id": "rT1NnYib-cZs"
   },
   "outputs": [],
   "source": [
    "#%%capture\n",
    "#%pip install requests nltk gensim datasets evaluate transformers"
   ]
  },
  {
   "cell_type": "code",
   "execution_count": 494,
   "metadata": {
    "id": "8HsAwNAc-bQp"
   },
   "outputs": [],
   "source": [
    "import gc\n",
    "import os\n",
    "import requests\n",
    "from pathlib import Path\n",
    "import re\n",
    "import json\n",
    "from typing import OrderedDict\n",
    "import copy\n",
    "import unicodedata\n",
    "import emoji\n",
    "\n",
    "import numpy as np\n",
    "import pandas as pd\n",
    "\n",
    "from sklearn.utils.class_weight import compute_class_weight\n",
    "from sklearn.metrics import f1_score\n",
    "\n",
    "from tqdm import tqdm\n",
    "import matplotlib.pyplot as plt\n",
    "\n",
    "import nltk\n",
    "from nltk.stem import WordNetLemmatizer\n",
    "\n",
    "import gensim\n",
    "import gensim.downloader as gloader\n",
    "\n",
    "import torch\n",
    "\n",
    "from datasets import Dataset\n",
    "from transformers import AutoTokenizer\n",
    "from transformers import DataCollatorWithPadding\n",
    "from transformers import AutoModelForSequenceClassification\n",
    "from transformers import TrainingArguments\n",
    "from transformers import Trainer\n",
    "import evaluate"
   ]
  },
  {
   "cell_type": "markdown",
   "metadata": {
    "id": "o4MUwVBe-bQt"
   },
   "source": [
    "# Class definition"
   ]
  },
  {
   "cell_type": "code",
   "execution_count": 495,
   "metadata": {
    "id": "w4OPhRgq-bQu"
   },
   "outputs": [],
   "source": [
    "class SexismDetector:\n",
    "    def __init__(self):\n",
    "\n",
    "        URL_PATTERN_STR = r\"\"\"(?i)((?:https?:(?:/{1,3}|[a-z0-9%])|[a-z0-9.\\-]+[.](?:com|net|org|edu|gov|mil|aero|asia|biz|cat|coop|info\n",
    "                      |int|jobs|mobi|museum|name|post|pro|tel|travel|xxx|ac|ad|ae|af|ag|ai|al|am|an|ao|aq|ar|as|at|au|aw|ax|az|ba|\n",
    "                      bb|bd|be|bf|bg|bh|bi|bj|bm|bn|bo|br|bs|bt|bv|bw|by|bz|ca|cc|cd|cf|cg|ch|ci|ck|cl|cm|cn|co|cr|cs|cu|cv|cx|cy|\n",
    "                      cz|dd|de|dj|dk|dm|do|dz|ec|ee|eg|eh|er|es|et|eu|fi|fj|fk|fm|fo|fr|ga|gb|gd|ge|gf|gg|gh|gi|gl|gm|gn|gp|gq|gr|\n",
    "                      gs|gt|gu|gw|gy|hk|hm|hn|hr|ht|hu|id|ie|il|im|in|io|iq|ir|is|it|je|jm|jo|jp|ke|kg|kh|ki|km|kn|kp|kr|kw|ky|kz|\n",
    "                      la|lb|lc|li|lk|lr|ls|lt|lu|lv|ly|ma|mc|md|me|mg|mh|mk|ml|mm|mn|mo|mp|mq|mr|ms|mt|mu|mv|mw|mx|my|mz|na|nc|ne|\n",
    "                      nf|ng|ni|nl|no|np|nr|nu|nz|om|pa|pe|pf|pg|ph|pk|pl|pm|pn|pr|ps|pt|pw|py|qa|re|ro|rs|ru|rw|sa|sb|sc|sd|se|sg|\n",
    "                      sh|si|sj|Ja|sk|sl|sm|sn|so|sr|ss|st|su|sv|sx|sy|sz|tc|td|tf|tg|th|tj|tk|tl|tm|tn|to|tp|tr|tt|tv|tw|tz|ua|ug|\n",
    "                      uk|us|uy|uz|va|vc|ve|vg|vi|vn|vu|wf|ws|ye|yt|yu|za|zm|zw)/)(?:[^\\s()<>{}\\[\\]]+|\\([^\\s()]*?\\([^\\s()]+\\)[^\\s()]\n",
    "                      *?\\)|\\([^\\s]+?\\))+(?:\\([^\\s()]*?\\([^\\s()]+\\)[^\\s()]*?\\)|\\([^\\s]+?\\)|[^\\s`!()\\[\\]{};:'\\\".,<>?«»“”‘’])|(?:(?<!@)\n",
    "                      [a-z0-9]+(?:[.\\-][a-z0-9]+)*[.](?:com|net|org|edu|gov|mil|aero|asia|biz|cat|coop|info|int|jobs|mobi|museum|name\n",
    "                      |post|pro|tel|travel|xxx|ac|ad|ae|af|ag|ai|al|am|an|ao|aq|ar|as|at|au|aw|ax|az|ba|bb|bd|be|bf|bg|bh|bi|bj|bm|bn\n",
    "                      |bo|br|bs|bt|bv|bw|by|bz|ca|cc|cd|cf|cg|ch|ci|ck|cl|cm|cn|co|cr|cs|cu|cv|cx|cy|cz|dd|de|dj|dk|dm|do|dz|ec|ee|eg\n",
    "                      |eh|er|es|et|eu|fi|fj|fk|fm|fo|fr|ga|gb|gd|ge|gf|gg|gh|gi|gl|gm|gn|gp|gq|gr|gs|gt|gu|gw|gy|hk|hm|hn|hr|ht|hu|id\n",
    "                      |ie|il|im|in|io|iq|ir|is|it|je|jm|jo|jp|ke|kg|kh|ki|km|kn|kp|kr|kw|ky|kz|la|lb|lc|li|lk|lr|ls|lt|lu|lv|ly|ma|mc|\n",
    "                      md|me|mg|mh|mk|ml|mm|mn|mo|mp|mq|mr|ms|mt|mu|mv|mw|mx|my|mz|na|nc|ne|nf|ng|ni|nl|no|np|nr|nu|nz|om|pa|pe|pf|pg|\n",
    "                      ph|pk|pl|pm|pn|pr|ps|pt|pw|py|qa|re|ro|rs|ru|rw|sa|sb|sc|sd|se|sg|sh|si|sj|Ja|sk|sl|sm|sn|so|sr|ss|st|su|sv|sx|\n",
    "                      sy|sz|tc|td|tf|tg|th|tj|tk|tl|tm|tn|to|tp|tr|tt|tv|tw|tz|ua|ug|uk|us|uy|uz|va|vc|ve|vg|vi|vn|vu|wf|ws|ye|yt|yu|\n",
    "                      za|zm|zw)\\b/?(?!@)))\"\"\"\n",
    "        self.URL_PATTERN = re.compile(URL_PATTERN_STR, re.IGNORECASE)\n",
    "        self.HASHTAG_PATTERN = re.compile(r'#\\w*')\n",
    "        self.MENTION_PATTERN = re.compile(r'@\\w*')\n",
    "        self.EMOJIS_PATTERN = re.compile(u'([\\U00002600-\\U000027BF])|([\\U0001f300-\\U0001f64F])|([\\U0001f680-\\U0001f6FF])')\n",
    "        self.AND_PATTERN = re.compile(r'&amp;')\n",
    "        self.PUNCT_REPEAT_PATTERN = re.compile(r'([!?.]){2,}')\n",
    "        self.ELONG_PATTERN = re.compile(r'\\b(\\S*?)(.)\\2{2,}\\b')\n",
    "        self.WORD_PATTERN = re.compile(r'[^\\w<>\\s]')\n",
    "        self.SEED = 1337\n",
    "        self.DATA_FOLDER = Path('data')\n",
    "        self.MODEL_FOLDER = Path('models')\n",
    "        self.columns_to_maintain = ['id_EXIST', 'lang', 'tweet', 'hard_label_task1']\n",
    "        self.UNK_TOKEN = '[UNK]'\n",
    "        self.PAD_TOKEN = '[PAD]'\n",
    "\n",
    "    def download_corpus(self, url: str, filename: str) -> None:\n",
    "        \"\"\"\n",
    "        Downloads a text corpus from a given URL and saves it to a specified filename within the data folder.\n",
    "\n",
    "        Args:\n",
    "            url (str): The URL from which to download the corpus.\n",
    "            filename (str): The name of the file to save the downloaded corpus.\n",
    "\n",
    "        Raises:\n",
    "            requests.exceptions.HTTPError: If the HTTP request returned an unsuccessful status code.\n",
    "\n",
    "        Side Effects:\n",
    "            Creates the data folder if it does not exist.\n",
    "            Writes the downloaded corpus to the specified file.\n",
    "        \"\"\"\n",
    "        if not self.DATA_FOLDER.exists():\n",
    "            self.DATA_FOLDER.mkdir(parents=True)\n",
    "            print(f\"Created folder {self.DATA_FOLDER}.\")\n",
    "\n",
    "        response = requests.get(url)\n",
    "        response.raise_for_status()\n",
    "        with open(self.DATA_FOLDER / filename, 'w', encoding='utf-8') as f:\n",
    "            f.write(response.text)\n",
    "\n",
    "    def load_corpus(self, filename: str, *args, **kwargs) -> pd.DataFrame:\n",
    "        \"\"\"\n",
    "        Load a corpus from a JSON file.\n",
    "\n",
    "        Parameters:\n",
    "        filename (str): The name of the JSON file to load.\n",
    "        *args: Variable length argument list to pass to pandas read_json.\n",
    "        **kwargs: Arbitrary keyword arguments to pass to pandas read_json.\n",
    "\n",
    "        Returns:\n",
    "        DataFrame: A pandas DataFrame containing the loaded corpus.\n",
    "        \"\"\"\n",
    "        return pd.read_json(self.DATA_FOLDER / filename, *args, **kwargs)\n",
    "\n",
    "    @staticmethod\n",
    "    def majority_voting(votes: list[str]) -> str:\n",
    "        \"\"\"\n",
    "        Determines the majority vote from a list of votes.\n",
    "        Args:\n",
    "            votes (list[str]): A list of votes, where each vote is either \"YES\" or \"NO\".\n",
    "        Returns:\n",
    "            str: The result of the majority vote. Returns \"YES\" if there are more \"YES\" votes,\n",
    "                \"NO\" if there are more \"NO\" votes, and \"NEUTRAL\" in case of a tie.\n",
    "        \"\"\"\n",
    "        total_num_votes = len(votes)\n",
    "        yes_votes = votes.count(\"YES\")\n",
    "        no_votes = total_num_votes - yes_votes\n",
    "\n",
    "        if yes_votes > no_votes:\n",
    "            return \"YES\"\n",
    "        elif no_votes > yes_votes:\n",
    "            return \"NO\"\n",
    "        else:\n",
    "            return \"NEUTRAL\" # This will be the case when there is a tie (removed later)\n",
    "\n",
    "    def preprocess_text(self, text: str) -> str:\n",
    "        \"\"\"\n",
    "        Preprocesses the input text by removing or replacing specific patterns.\n",
    "\n",
    "        Args:\n",
    "            text (str): The input text to be preprocessed.\n",
    "\n",
    "        Returns:\n",
    "            str: The preprocessed text with URLs, mentions, hashtags, emojis,\n",
    "                 special characters removed, 'and' replaced, and extra spaces trimmed.\n",
    "        \"\"\"\n",
    "        # Convert URL to <URL> so that GloVe will have a vector for it\n",
    "        text = re.sub(self.URL_PATTERN, ' <URL>', text)\n",
    "        # Add spaces around slashes\n",
    "        text = re.sub(r\"/\", \" / \", text)\n",
    "        # Replace mentions with <USER>\n",
    "        text = re.sub(self.MENTION_PATTERN, ' <USER> ', text)\n",
    "        # Replace numbers with <NUMBER>\n",
    "        text = re.sub(r\"[-+]?[.\\d]*[\\d]+[:,.\\d]*\", \" <NUMBER> \", text)\n",
    "        # Replace hashtags with <HASHTAG>\n",
    "        text = re.sub(self.HASHTAG_PATTERN, ' <HASHTAG> ', text)\n",
    "        #text = self.AND_PATTERN.sub('and', text) # &amp; already in the Vocab of GloVe-twitter\n",
    "        # Replace multiple punctuation marks with <REPEAT>\n",
    "        text = re.sub(self.PUNCT_REPEAT_PATTERN, lambda match: f\" {match.group(1)} <REPEAT> \", text)\n",
    "        # Replace elongated words with <ELONG>\n",
    "        text = re.sub(self.ELONG_PATTERN, lambda match: f\" {match.group(1)}{match.group(2)} <ELONG> \", text)\n",
    "        #text = emoji.replace_emoji(text, replace='') # some emojis are in the vocab so we do not remove them, the others will be OOVs\n",
    "        text = text.strip()\n",
    "        # Get only words\n",
    "        text = re.sub(self.WORD_PATTERN, ' ', text)\n",
    "        text = text.strip()\n",
    "        # Convert stylized Unicode characters to plain text (removes bold text, etc.)\n",
    "        text = ''.join(c for c in unicodedata.normalize('NFKD', text) if not unicodedata.combining(c))\n",
    "        return text\n",
    "\n",
    "    def lemmatize_text(self, text: str) -> str:\n",
    "        \"\"\"\n",
    "        Lemmatizes the input text using the WordNet lemmatizer.\n",
    "\n",
    "        This method attempts to lemmatize each word in the input text. If the WordNet\n",
    "        data is not available, it will download the necessary data and retry.\n",
    "\n",
    "        Args:\n",
    "            text (str): The input text to be lemmatized.\n",
    "\n",
    "        Returns:\n",
    "            str: The lemmatized text.\n",
    "        \"\"\"\n",
    "        lemmatizer = WordNetLemmatizer()\n",
    "        downloaded = False\n",
    "        while not downloaded:\n",
    "            try:\n",
    "                lemmatizer.lemmatize(text)\n",
    "                downloaded = True\n",
    "            except LookupError:\n",
    "                print(\"Downloading WordNet...\")\n",
    "                nltk.download('wordnet')\n",
    "        return ' '.join([lemmatizer.lemmatize(word) for word in text.split()])\n",
    "\n",
    "    @staticmethod\n",
    "    def text_diff(original_text: str, preprocessed_text: str, random: bool = True) -> None:\n",
    "        \"\"\"\n",
    "        Displays a comparison between an original tweet and its preprocessed version.\n",
    "        Args:\n",
    "            original_text (str): The original text data containing tweets.\n",
    "            preprocessed_text (str): The preprocessed text data containing tweets.\n",
    "            random (bool, optional): If True, a random tweet is selected for comparison.\n",
    "                                     If False, the first tweet is selected. Defaults to True.\n",
    "        Returns:\n",
    "            None\n",
    "        \"\"\"\n",
    "        if random:\n",
    "            idx = np.random.randint(0, preprocessed_text.shape[0])\n",
    "        else:\n",
    "            idx = 0\n",
    "\n",
    "        print(f\"Original tweet:\\n{original_text['tweet'].iloc[idx]}\")\n",
    "        print(f\"Processed tweet:\\n{preprocessed_text['tweet'].iloc[idx]}\")\n",
    "\n",
    "    def load_glove(self, model_name: str = 'glove-wiki-gigaword', embedding_dim: int = 50) -> gensim.models.keyedvectors.KeyedVectors:\n",
    "        \"\"\"\n",
    "        Loads the GloVe model with the specified name and embedding dimension.\n",
    "        Args:\n",
    "            model_name (str): The name of the GloVe model to load. Default is 'glove-wiki-gigaword'.\n",
    "            embedding_dim (int): The dimension of the word embeddings. Default is 50.\n",
    "        Returns:\n",
    "            gensim.models.keyedvectors.KeyedVectors: The loaded GloVe model.\n",
    "        Raises:\n",
    "            Exception: If there is an error in downloading or loading the model.\n",
    "        Notes:\n",
    "            - If the model folder does not exist, it will be created.\n",
    "            - If the model is not already downloaded, it will be downloaded and saved to the specified path.\n",
    "            - If the model is already downloaded, it will be loaded from the specified path.\n",
    "        \"\"\"\n",
    "        self.EMBEDDING_DIM = embedding_dim\n",
    "\n",
    "        if not self.MODEL_FOLDER.exists():\n",
    "            self.MODEL_FOLDER.mkdir(parents=True)\n",
    "            print(f\"Created folder {self.MODEL_FOLDER}.\")\n",
    "\n",
    "        model_path = self.MODEL_FOLDER / f\"{model_name}-{embedding_dim}\"\n",
    "        if not model_path.exists():\n",
    "            print(f\"Downloading {model_name} model...\")\n",
    "            glove_model = gloader.load(f\"{model_name}-{embedding_dim}\")\n",
    "            print(f\"Model downloaded! Saving to {model_path}\")\n",
    "            glove_model.save(str(model_path))\n",
    "            print(f\"Model saved to {self.MODEL_FOLDER / f'{model_name}-{embedding_dim}'}\")\n",
    "        else:\n",
    "            glove_model = gensim.models.keyedvectors.KeyedVectors.load(str(model_path))\n",
    "        return glove_model\n",
    "\n",
    "    def get_vocab(self, data: pd.DataFrame) -> tuple[OrderedDict, OrderedDict]:\n",
    "        \"\"\"\n",
    "        Generates vocabulary mappings from a given dataset.\n",
    "        Args:\n",
    "            data (pd.DataFrame): A pandas DataFrame containing the dataset with a column 'tweet'.\n",
    "            word_listing (list, optional): A list of words to include in the vocabulary. If None, the vocabulary\n",
    "                                           will be built from the dataset. Defaults to None.\n",
    "        Returns:\n",
    "            tuple[OrderedDict, OrderedDict]: A tuple containing two OrderedDicts:\n",
    "                - idx_to_word: Mapping from index to word.\n",
    "                - word_to_idx: Mapping from word to index.\n",
    "        \"\"\"\n",
    "        idx_to_word = OrderedDict()\n",
    "        word_to_idx = OrderedDict()\n",
    "\n",
    "        curr_idx = 0\n",
    "        for sentence in data.tweet.values:\n",
    "            tokens = sentence.split()\n",
    "            for token in tokens:\n",
    "                if token not in word_to_idx:\n",
    "                    word_to_idx[token] = curr_idx\n",
    "                    idx_to_word[curr_idx] = token\n",
    "                    curr_idx += 1\n",
    "\n",
    "        word_listing = list(idx_to_word.values())\n",
    "        return idx_to_word, word_to_idx, word_listing\n",
    "\n",
    "    def co_occurrence_count(self, df: pd.DataFrame, idx_to_word, word_to_idx, window_size: int = 10) -> np.ndarray:\n",
    "\n",
    "        vocab_size = len(idx_to_word)\n",
    "        co_occurrence_matrix = np.zeros((vocab_size, vocab_size), dtype=np.float32)\n",
    "\n",
    "        for sentence in tqdm(df.tweet.values):\n",
    "            tokens = sentence.split()\n",
    "            for pos, token in enumerate(tokens):\n",
    "                start = max(0, pos - window_size)\n",
    "                end = min(pos + window_size + 1, len(tokens))\n",
    "\n",
    "                first_word_index = word_to_idx[token]\n",
    "\n",
    "                for pos2 in range(start, end):\n",
    "                    if pos2 != pos:\n",
    "                        second_token = tokens[pos2]\n",
    "                        second_word_index = word_to_idx[second_token]\n",
    "                        co_occurrence_matrix[first_word_index, second_word_index] += 1\n",
    "\n",
    "        return co_occurrence_matrix\n",
    "\n",
    "    def co_occurrence_dataframe(self, co_occurrence_matrix: np.ndarray, idx_to_word: OrderedDict) -> pd.DataFrame:\n",
    "        \"\"\"\n",
    "        Converts a co-occurrence matrix into a pandas DataFrame with word indices as row and column labels.\n",
    "        Args:\n",
    "            co_occurrence_matrix (np.ndarray): A co-occurrence matrix with word indices as row and column indices.\n",
    "            idx_to_word (OrderedDict): A mapping from word index to word.\n",
    "        Returns:\n",
    "            pd.DataFrame: A pandas DataFrame with word indices as row and column labels.\n",
    "        \"\"\"\n",
    "        return pd.DataFrame(co_occurrence_matrix, index=idx_to_word.values(), columns=idx_to_word.values())\n",
    "\n",
    "    def get_augmented_vocab(self, emb_model: gensim.models.keyedvectors.KeyedVectors, train_words: list, co_occurrence_df: pd.DataFrame, save: bool = False) -> gensim.models.keyedvectors.KeyedVectors:\n",
    "        \"\"\"\n",
    "        Augments the given embedding model with new tokens from the training words list. If a token is not found in the\n",
    "        embedding model, a random vector is generated for it. Optionally saves the updated vocabulary to a JSON file.\n",
    "        Args:\n",
    "            emb_model (gensim.models.keyedvectors.KeyedVectors): The embedding model to augment.\n",
    "            train_words (list): A list of words to add to the embedding model.\n",
    "            co_occurrence_df (pd.DataFrame): A DataFrame containing co-occurrence data for the training words.\n",
    "            save (bool, optional): If True, saves the updated vocabulary to a JSON file. Defaults to False.\n",
    "        Returns:\n",
    "            gensim.models.keyedvectors.KeyedVectors: The augmented embedding model.\n",
    "        \"\"\"\n",
    "        new_tokens = []\n",
    "        new_vectors = []\n",
    "\n",
    "        for token in train_words:\n",
    "            try:\n",
    "                embedding_vec = emb_model.get_vector(token)\n",
    "            except KeyError:\n",
    "                try:\n",
    "                    # Handle missing token in embedding model\n",
    "                    top_5_most_frequent = co_occurrence_df.loc[token].sort_values(ascending=False).index.tolist()[:5]\n",
    "\n",
    "                    # Filter words that are in the embedding model\n",
    "                    valid_words = [word for word in top_5_most_frequent if word in emb_model.key_to_index]\n",
    "\n",
    "                    if valid_words: # TODO: check that valid words as atleast 2 words otherwise mean won't be significant\n",
    "                        # Calculate the average vector for valid words\n",
    "                        embedding_vec = np.mean([emb_model.get_vector(word) for word in valid_words], axis=0)\n",
    "                    else:\n",
    "                        # Handle the case where no valid co-occurring words exist\n",
    "                        raise ValueError(f\"No valid co-occurring words found for token: {token}\")\n",
    "\n",
    "                except Exception as e:\n",
    "                    print(f\"Generating random vector for token '{token}': {e}\")\n",
    "                    embedding_vec = np.random.uniform(low=-0.05, high=0.05, size=self.EMBEDDING_DIM)\n",
    "\n",
    "            new_tokens.append(token)\n",
    "            new_vectors.append(embedding_vec)\n",
    "\n",
    "        emb_model.add_vectors(new_tokens, new_vectors)\n",
    "        # add the UNK token to the embedding model with the vector which is the average of all the vectors\n",
    "        emb_model.add_vectors([\"[UNK]\", \"[PAD]\"], [np.mean(emb_model.vectors, axis=0), np.zeros(self.EMBEDDING_DIM)])\n",
    "\n",
    "        if save:\n",
    "            vocab_path = self.DATA_FOLDER / 'vocab.json'\n",
    "            print(f\"Saving vocab to {vocab_path}\")\n",
    "            with vocab_path.open('w', encoding='utf-8') as f:\n",
    "                json.dump(emb_model.key_to_index, f, indent=4)\n",
    "            print(\"Vocab saved!\")\n",
    "\n",
    "        return emb_model\n",
    "\n",
    "    def get_oov(self, embedding_model: gensim.models.keyedvectors.KeyedVectors, word_listing: list) -> set:\n",
    "        \"\"\"\n",
    "        Returns a list of out-of-vocabulary (OOV) words from a given list of words.\n",
    "        Args:\n",
    "            embedding_model (gensim.models.keyedvectors.KeyedVectors): The word embedding model containing known words.\n",
    "            word_listing (list): A list of words to check against the embedding model.\n",
    "        Returns:\n",
    "            set: A set of out-of-vocabulary words.\n",
    "        \"\"\"\n",
    "        return set(word_listing).difference(set(embedding_model.key_to_index.keys()))\n",
    "\n",
    "    def get_oov_stats(self, embedding_model: gensim.models.keyedvectors.KeyedVectors, word_listing: list) -> None:\n",
    "        \"\"\"\n",
    "        Calculate and print the number and percentage of out-of-vocabulary (OOV) words.\n",
    "        Args:\n",
    "            embedding_model (gensim.models.keyedvectors.KeyedVectors): The word embedding model containing known words.\n",
    "            word_listing (list): A list of words to check against the embedding model.\n",
    "        Returns:\n",
    "            None\n",
    "        \"\"\"\n",
    "        OOV_token = self.get_oov(embedding_model, word_listing)\n",
    "        OOV_percentage = float(len(OOV_token)) * 100 / len(word_listing)\n",
    "\n",
    "        print(f\"Total OOV terms: {len(OOV_token)} ({OOV_percentage:.2f}%)\")\n",
    "\n",
    "    def get_padded_sequences(self, data: pd.Series, embedding_model: gensim.models.keyedvectors.KeyedVectors) -> torch.Tensor:\n",
    "        \"\"\"\n",
    "        Converts a pandas Series of text data into padded sequences of word indices using a given embedding model.\n",
    "\n",
    "        Args:\n",
    "            data (pd.Series): A pandas Series containing text data.\n",
    "            embedding_model (gensim.models.keyedvectors.KeyedVectors): A pre-trained word embedding model.\n",
    "\n",
    "        Returns:\n",
    "            torch.Tensor: A tensor containing padded sequences of word indices.\n",
    "        \"\"\"\n",
    "        tokenizer = nltk.tokenize.NLTKWordTokenizer()\n",
    "        unk_index = 9856\n",
    "\n",
    "        sequences = [torch.tensor([embedding_model.get_index(word, default=unk_index) for word in tokenizer.tokenize(x)]) for x in data.values]\n",
    "\n",
    "        return torch.nn.utils.rnn.pad_sequence(sequences, padding_value=embedding_model.get_index(self.PAD_TOKEN), batch_first=True)\n",
    "\n",
    "    def get_dataloader(self, data: pd.DataFrame, embedding_model: gensim.models.keyedvectors.KeyedVectors, type: str, *args, **kwargs) -> torch.utils.data.DataLoader:\n",
    "        if type not in ['train', 'val', 'test']:\n",
    "            raise ValueError(\"Invalid type. Must be one of 'train', 'val', or 'test'.\")\n",
    "        padded_sequences = self.get_padded_sequences(data.tweet, embedding_model)\n",
    "        labels = torch.tensor(data.label.values)\n",
    "        dataset = TextDataset(padded_sequences, labels)\n",
    "        return torch.utils.data.DataLoader(dataset, *args, **kwargs)\n",
    "\n",
    "class TextDataset(torch.utils.data.Dataset):\n",
    "    def __init__(self, sequences, labels):\n",
    "        self.sequences = sequences\n",
    "        self.labels = labels\n",
    "\n",
    "    def __len__(self):\n",
    "        return self.sequences.shape[0]\n",
    "\n",
    "    def __getitem__(self, idx):\n",
    "        return self.sequences[idx], self.labels[idx]"
   ]
  },
  {
   "cell_type": "markdown",
   "metadata": {
    "id": "9S8JHdj0-bQw"
   },
   "source": [
    "# Task 1: Corpus\n",
    "\n",
    "1. Download the data\n",
    "2. Load the JSON files and encode them as a DataFrame\n",
    "3. Generate hard labels for Task 1 with majority voting\n",
    "4. Filter the DataFrame for only english tweets\n",
    "5. Remove unwanted columns\n",
    "6. Encode the hard labels column as integers\n",
    "\n",
    ">**Bonus**: explore also Spanish tweets leveraging multi-language models and assessing the performance of the model on the two languages in comparison to the English-only model."
   ]
  },
  {
   "cell_type": "markdown",
   "metadata": {
    "id": "nALIh9GUC7tn"
   },
   "source": [
    "Fist of all, we need to instantiate the class which we will use to perform the task."
   ]
  },
  {
   "cell_type": "code",
   "execution_count": 496,
   "metadata": {
    "id": "UX6zDKbU-bQx"
   },
   "outputs": [],
   "source": [
    "detector = SexismDetector()"
   ]
  },
  {
   "cell_type": "markdown",
   "metadata": {
    "id": "bBtjK_NyC7tn"
   },
   "source": [
    "Let's define the device to use for the computation of PyTorch"
   ]
  },
  {
   "cell_type": "code",
   "execution_count": 497,
   "metadata": {
    "colab": {
     "base_uri": "https://localhost:8080/"
    },
    "id": "rAxlYsxwKy_k",
    "outputId": "b715651b-2d67-4d51-e0b9-d4656859101a"
   },
   "outputs": [
    {
     "name": "stdout",
     "output_type": "stream",
     "text": [
      "Using device: cuda\n"
     ]
    }
   ],
   "source": [
    "device = torch.device(\"cuda\" if torch.cuda.is_available() else \"cpu\")\n",
    "print(f\"Using device: {device}\")"
   ]
  },
  {
   "cell_type": "markdown",
   "metadata": {
    "id": "7QOBgb8HC7to"
   },
   "source": [
    "### Reproducibility\n",
    "\n",
    "The environment variable as well as the seed are set to ensure reproducibility of the results."
   ]
  },
  {
   "cell_type": "code",
   "execution_count": 498,
   "metadata": {
    "id": "-vI1-CPdKy_l"
   },
   "outputs": [],
   "source": [
    "os.environ[\"CUBLAS_WORKSPACE_CONFIG\"] = \":4096:8\"\n",
    "torch.cuda.manual_seed(detector.SEED)\n",
    "np.random.seed(detector.SEED)"
   ]
  },
  {
   "cell_type": "markdown",
   "metadata": {
    "id": "wpL0rkABC7tp"
   },
   "source": [
    "### Constants\n",
    "\n",
    "The constants are defined in the following cell. We will use them to define the embedding dimension and batch size."
   ]
  },
  {
   "cell_type": "code",
   "execution_count": 499,
   "metadata": {
    "id": "R-EBKp3wKy_l"
   },
   "outputs": [],
   "source": [
    "EMBEDDING_DIM = 50\n",
    "BATCH_SIZE = 64\n",
    "HIDDEN_DIM = 128\n",
    "EPOCHS = 50\n",
    "LEARNING_RATE = 1e-4"
   ]
  },
  {
   "cell_type": "markdown",
   "metadata": {
    "id": "2kB8zolx-bQx"
   },
   "source": [
    "### Download the data\n",
    "\n",
    "The data is downloaded from the repository of the course. The `download_corpus` method is used to download the data from the repository and save it in the `data` folder under the root directory of the project."
   ]
  },
  {
   "cell_type": "code",
   "execution_count": 500,
   "metadata": {
    "id": "zHCqDJCq-bQy"
   },
   "outputs": [],
   "source": [
    "detector.download_corpus(url='https://raw.githubusercontent.com/nlp-unibo/nlp-course-material/refs/heads/main/2024-2025/Assignment%201/data/training.json', filename='training.json')\n",
    "detector.download_corpus(url='https://raw.githubusercontent.com/nlp-unibo/nlp-course-material/refs/heads/main/2024-2025/Assignment%201/data/test.json', filename='test.json')\n",
    "detector.download_corpus(url='https://raw.githubusercontent.com/nlp-unibo/nlp-course-material/refs/heads/main/2024-2025/Assignment%201/data/validation.json', filename='validation.json')"
   ]
  },
  {
   "cell_type": "markdown",
   "metadata": {
    "id": "OlbBn1uh-bQy"
   },
   "source": [
    "### Load the JSON files and encode them as a DataFrame\n",
    "\n",
    "Then we load the JSON files and encode them as a DataFrame. The `load_corpus` method is used to load the data from the JSON files and encode them as a DataFrame."
   ]
  },
  {
   "cell_type": "code",
   "execution_count": 501,
   "metadata": {
    "id": "xffrWnDg-bQz"
   },
   "outputs": [],
   "source": [
    "train = detector.load_corpus('training.json', orient='index', encoding='utf-8')\n",
    "val = detector.load_corpus('validation.json', orient='index', encoding='utf-8')\n",
    "test = detector.load_corpus('test.json', orient='index', encoding='utf-8')"
   ]
  },
  {
   "cell_type": "markdown",
   "metadata": {
    "id": "KCeSw0jEC7tq"
   },
   "source": [
    "Make a copy of the test set to be used at the end to perform more in depth analysis about why the model is failing to classify the tweets."
   ]
  },
  {
   "cell_type": "code",
   "execution_count": 502,
   "metadata": {
    "id": "pcUMYS98C7tq"
   },
   "outputs": [],
   "source": [
    "test_copy = test.copy()"
   ]
  },
  {
   "cell_type": "markdown",
   "metadata": {
    "id": "RCaULr10C7tq"
   },
   "source": [
    "We can also inspect the first rows of the DataFrame to have an idea of the data we are working with."
   ]
  },
  {
   "cell_type": "code",
   "execution_count": 503,
   "metadata": {
    "colab": {
     "base_uri": "https://localhost:8080/",
     "height": 328
    },
    "id": "R-Iddy7j-bQ0",
    "outputId": "23afaa3d-753d-4ba7-dbc7-14d82d3ebbd1"
   },
   "outputs": [
    {
     "data": {
      "text/html": [
       "<div>\n",
       "<style scoped>\n",
       "    .dataframe tbody tr th:only-of-type {\n",
       "        vertical-align: middle;\n",
       "    }\n",
       "\n",
       "    .dataframe tbody tr th {\n",
       "        vertical-align: top;\n",
       "    }\n",
       "\n",
       "    .dataframe thead th {\n",
       "        text-align: right;\n",
       "    }\n",
       "</style>\n",
       "<table border=\"1\" class=\"dataframe\">\n",
       "  <thead>\n",
       "    <tr style=\"text-align: right;\">\n",
       "      <th></th>\n",
       "      <th>id_EXIST</th>\n",
       "      <th>lang</th>\n",
       "      <th>tweet</th>\n",
       "      <th>number_annotators</th>\n",
       "      <th>annotators</th>\n",
       "      <th>gender_annotators</th>\n",
       "      <th>age_annotators</th>\n",
       "      <th>labels_task1</th>\n",
       "      <th>labels_task2</th>\n",
       "      <th>labels_task3</th>\n",
       "      <th>split</th>\n",
       "    </tr>\n",
       "  </thead>\n",
       "  <tbody>\n",
       "    <tr>\n",
       "      <th>100001</th>\n",
       "      <td>100001</td>\n",
       "      <td>es</td>\n",
       "      <td>@TheChiflis Ignora al otro, es un capullo.El p...</td>\n",
       "      <td>6</td>\n",
       "      <td>[Annotator_1, Annotator_2, Annotator_3, Annota...</td>\n",
       "      <td>[F, F, F, M, M, M]</td>\n",
       "      <td>[18-22, 23-45, 46+, 46+, 23-45, 18-22]</td>\n",
       "      <td>[YES, YES, NO, YES, YES, YES]</td>\n",
       "      <td>[REPORTED, JUDGEMENTAL, -, REPORTED, JUDGEMENT...</td>\n",
       "      <td>[[OBJECTIFICATION], [OBJECTIFICATION, SEXUAL-V...</td>\n",
       "      <td>TRAIN_ES</td>\n",
       "    </tr>\n",
       "    <tr>\n",
       "      <th>100002</th>\n",
       "      <td>100002</td>\n",
       "      <td>es</td>\n",
       "      <td>@ultimonomada_ Si comicsgate se parece en algo...</td>\n",
       "      <td>6</td>\n",
       "      <td>[Annotator_7, Annotator_8, Annotator_9, Annota...</td>\n",
       "      <td>[F, F, F, M, M, M]</td>\n",
       "      <td>[18-22, 23-45, 46+, 46+, 23-45, 18-22]</td>\n",
       "      <td>[NO, NO, NO, NO, YES, NO]</td>\n",
       "      <td>[-, -, -, -, DIRECT, -]</td>\n",
       "      <td>[[-], [-], [-], [-], [OBJECTIFICATION], [-]]</td>\n",
       "      <td>TRAIN_ES</td>\n",
       "    </tr>\n",
       "    <tr>\n",
       "      <th>100003</th>\n",
       "      <td>100003</td>\n",
       "      <td>es</td>\n",
       "      <td>@Steven2897 Lee sobre Gamergate, y como eso ha...</td>\n",
       "      <td>6</td>\n",
       "      <td>[Annotator_7, Annotator_8, Annotator_9, Annota...</td>\n",
       "      <td>[F, F, F, M, M, M]</td>\n",
       "      <td>[18-22, 23-45, 46+, 46+, 23-45, 18-22]</td>\n",
       "      <td>[NO, NO, NO, NO, NO, NO]</td>\n",
       "      <td>[-, -, -, -, -, -]</td>\n",
       "      <td>[[-], [-], [-], [-], [-], [-]]</td>\n",
       "      <td>TRAIN_ES</td>\n",
       "    </tr>\n",
       "    <tr>\n",
       "      <th>100004</th>\n",
       "      <td>100004</td>\n",
       "      <td>es</td>\n",
       "      <td>@Lunariita7 Un retraso social bastante lamenta...</td>\n",
       "      <td>6</td>\n",
       "      <td>[Annotator_13, Annotator_14, Annotator_15, Ann...</td>\n",
       "      <td>[F, F, F, M, M, M]</td>\n",
       "      <td>[18-22, 23-45, 46+, 46+, 23-45, 18-22]</td>\n",
       "      <td>[NO, NO, YES, NO, YES, YES]</td>\n",
       "      <td>[-, -, DIRECT, -, REPORTED, REPORTED]</td>\n",
       "      <td>[[-], [-], [IDEOLOGICAL-INEQUALITY], [-], [IDE...</td>\n",
       "      <td>TRAIN_ES</td>\n",
       "    </tr>\n",
       "    <tr>\n",
       "      <th>100005</th>\n",
       "      <td>100005</td>\n",
       "      <td>es</td>\n",
       "      <td>@novadragon21 @icep4ck @TvDannyZ Entonces como...</td>\n",
       "      <td>6</td>\n",
       "      <td>[Annotator_19, Annotator_20, Annotator_21, Ann...</td>\n",
       "      <td>[F, F, F, M, M, M]</td>\n",
       "      <td>[18-22, 23-45, 46+, 46+, 23-45, 18-22]</td>\n",
       "      <td>[YES, NO, YES, NO, YES, YES]</td>\n",
       "      <td>[REPORTED, -, JUDGEMENTAL, -, JUDGEMENTAL, DIR...</td>\n",
       "      <td>[[STEREOTYPING-DOMINANCE, OBJECTIFICATION], [-...</td>\n",
       "      <td>TRAIN_ES</td>\n",
       "    </tr>\n",
       "  </tbody>\n",
       "</table>\n",
       "</div>"
      ],
      "text/plain": [
       "        id_EXIST lang                                              tweet  \\\n",
       "100001    100001   es  @TheChiflis Ignora al otro, es un capullo.El p...   \n",
       "100002    100002   es  @ultimonomada_ Si comicsgate se parece en algo...   \n",
       "100003    100003   es  @Steven2897 Lee sobre Gamergate, y como eso ha...   \n",
       "100004    100004   es  @Lunariita7 Un retraso social bastante lamenta...   \n",
       "100005    100005   es  @novadragon21 @icep4ck @TvDannyZ Entonces como...   \n",
       "\n",
       "        number_annotators                                         annotators  \\\n",
       "100001                  6  [Annotator_1, Annotator_2, Annotator_3, Annota...   \n",
       "100002                  6  [Annotator_7, Annotator_8, Annotator_9, Annota...   \n",
       "100003                  6  [Annotator_7, Annotator_8, Annotator_9, Annota...   \n",
       "100004                  6  [Annotator_13, Annotator_14, Annotator_15, Ann...   \n",
       "100005                  6  [Annotator_19, Annotator_20, Annotator_21, Ann...   \n",
       "\n",
       "         gender_annotators                          age_annotators  \\\n",
       "100001  [F, F, F, M, M, M]  [18-22, 23-45, 46+, 46+, 23-45, 18-22]   \n",
       "100002  [F, F, F, M, M, M]  [18-22, 23-45, 46+, 46+, 23-45, 18-22]   \n",
       "100003  [F, F, F, M, M, M]  [18-22, 23-45, 46+, 46+, 23-45, 18-22]   \n",
       "100004  [F, F, F, M, M, M]  [18-22, 23-45, 46+, 46+, 23-45, 18-22]   \n",
       "100005  [F, F, F, M, M, M]  [18-22, 23-45, 46+, 46+, 23-45, 18-22]   \n",
       "\n",
       "                         labels_task1  \\\n",
       "100001  [YES, YES, NO, YES, YES, YES]   \n",
       "100002      [NO, NO, NO, NO, YES, NO]   \n",
       "100003       [NO, NO, NO, NO, NO, NO]   \n",
       "100004    [NO, NO, YES, NO, YES, YES]   \n",
       "100005   [YES, NO, YES, NO, YES, YES]   \n",
       "\n",
       "                                             labels_task2  \\\n",
       "100001  [REPORTED, JUDGEMENTAL, -, REPORTED, JUDGEMENT...   \n",
       "100002                            [-, -, -, -, DIRECT, -]   \n",
       "100003                                 [-, -, -, -, -, -]   \n",
       "100004              [-, -, DIRECT, -, REPORTED, REPORTED]   \n",
       "100005  [REPORTED, -, JUDGEMENTAL, -, JUDGEMENTAL, DIR...   \n",
       "\n",
       "                                             labels_task3     split  \n",
       "100001  [[OBJECTIFICATION], [OBJECTIFICATION, SEXUAL-V...  TRAIN_ES  \n",
       "100002       [[-], [-], [-], [-], [OBJECTIFICATION], [-]]  TRAIN_ES  \n",
       "100003                     [[-], [-], [-], [-], [-], [-]]  TRAIN_ES  \n",
       "100004  [[-], [-], [IDEOLOGICAL-INEQUALITY], [-], [IDE...  TRAIN_ES  \n",
       "100005  [[STEREOTYPING-DOMINANCE, OBJECTIFICATION], [-...  TRAIN_ES  "
      ]
     },
     "execution_count": 503,
     "metadata": {},
     "output_type": "execute_result"
    }
   ],
   "source": [
    "train.head()"
   ]
  },
  {
   "cell_type": "markdown",
   "metadata": {
    "id": "qRJbTkHAC7tq"
   },
   "source": [
    "And of course we can also inspect the shape of the DataFrame to know how many rows and columns we have."
   ]
  },
  {
   "cell_type": "code",
   "execution_count": 504,
   "metadata": {
    "colab": {
     "base_uri": "https://localhost:8080/"
    },
    "id": "3PwyCeQc-bQ1",
    "outputId": "a978a03e-6378-4a2a-ca0a-552249437fcc"
   },
   "outputs": [
    {
     "data": {
      "text/plain": [
       "((6920, 11), (726, 11), (312, 11))"
      ]
     },
     "execution_count": 504,
     "metadata": {},
     "output_type": "execute_result"
    }
   ],
   "source": [
    "train.shape, val.shape, test.shape"
   ]
  },
  {
   "cell_type": "markdown",
   "metadata": {
    "id": "4fISdCga-bQ1"
   },
   "source": [
    "### Generate hard labels for Task 1 with majority voting\n",
    "\n",
    "The hard labels for Task 1 are generated with majority voting. The `majority_voting` method is used to generate the hard labels for Task 1 with majority voting. In case of a tie, the label is set to `NEUTRAL` allowing for later filtering of the data."
   ]
  },
  {
   "cell_type": "code",
   "execution_count": 505,
   "metadata": {
    "id": "jVfdt1mf-bQ1"
   },
   "outputs": [],
   "source": [
    "train['hard_label_task1'] = train['labels_task1'].apply(detector.majority_voting)\n",
    "val['hard_label_task1'] = val['labels_task1'].apply(detector.majority_voting)\n",
    "test['hard_label_task1'] = test['labels_task1'].apply(detector.majority_voting)"
   ]
  },
  {
   "cell_type": "markdown",
   "metadata": {
    "id": "iNSfxEqA-bQ2"
   },
   "source": [
    "### Filter the DataFrame for only english tweets and remove unclear tweets\n",
    "\n",
    "Since the task requires to work only with English tweets, we filter the DataFrame for only English tweets. This can be easily done using basic pandas functionalities. Here we also removed all the rows with unclear labels (ties in the majority voting)."
   ]
  },
  {
   "cell_type": "code",
   "execution_count": 506,
   "metadata": {
    "id": "P3hE1ua_-bQ2"
   },
   "outputs": [],
   "source": [
    "train = train[(train['hard_label_task1'] != \"NEUTRAL\") & (train['lang'] == \"en\")]\n",
    "val = val[(val['hard_label_task1'] != \"NEUTRAL\") & (val['lang'] == \"en\")]\n",
    "test = test[(test['hard_label_task1'] != \"NEUTRAL\") & (test['lang'] == \"en\")]"
   ]
  },
  {
   "cell_type": "markdown",
   "metadata": {
    "id": "42sKF2b9C7tr"
   },
   "source": [
    "As we can see we have less rows than before, since we removed all the rows with unclear labels and all the rows with tweets in languages different from English."
   ]
  },
  {
   "cell_type": "code",
   "execution_count": 507,
   "metadata": {
    "colab": {
     "base_uri": "https://localhost:8080/"
    },
    "id": "js6SiYSY-bQ2",
    "outputId": "38658cc5-ef20-4877-e1d0-b51748987d4f"
   },
   "outputs": [
    {
     "data": {
      "text/plain": [
       "((2870, 12), (158, 12), (286, 12))"
      ]
     },
     "execution_count": 507,
     "metadata": {},
     "output_type": "execute_result"
    }
   ],
   "source": [
    "train.shape, val.shape, test.shape"
   ]
  },
  {
   "cell_type": "markdown",
   "metadata": {
    "id": "edgN4FWb-bQ2"
   },
   "source": [
    "### Remove unwanted columns\n",
    "\n",
    "After that, we remove the unwanted columns from the DataFrame to keep only the columns we need for the task (the text of the tweet and the hard labels)."
   ]
  },
  {
   "cell_type": "code",
   "execution_count": 508,
   "metadata": {
    "id": "lFUcf_Ii-bQ3"
   },
   "outputs": [],
   "source": [
    "train = train[detector.columns_to_maintain]\n",
    "val = val[detector.columns_to_maintain]\n",
    "test = test[detector.columns_to_maintain]"
   ]
  },
  {
   "cell_type": "code",
   "execution_count": 509,
   "metadata": {
    "colab": {
     "base_uri": "https://localhost:8080/",
     "height": 206
    },
    "id": "BEe_i8hJ-bQ3",
    "outputId": "db879a80-8db4-4a41-d075-2466c21860cb"
   },
   "outputs": [
    {
     "data": {
      "text/html": [
       "<div>\n",
       "<style scoped>\n",
       "    .dataframe tbody tr th:only-of-type {\n",
       "        vertical-align: middle;\n",
       "    }\n",
       "\n",
       "    .dataframe tbody tr th {\n",
       "        vertical-align: top;\n",
       "    }\n",
       "\n",
       "    .dataframe thead th {\n",
       "        text-align: right;\n",
       "    }\n",
       "</style>\n",
       "<table border=\"1\" class=\"dataframe\">\n",
       "  <thead>\n",
       "    <tr style=\"text-align: right;\">\n",
       "      <th></th>\n",
       "      <th>id_EXIST</th>\n",
       "      <th>lang</th>\n",
       "      <th>tweet</th>\n",
       "      <th>hard_label_task1</th>\n",
       "    </tr>\n",
       "  </thead>\n",
       "  <tbody>\n",
       "    <tr>\n",
       "      <th>200002</th>\n",
       "      <td>200002</td>\n",
       "      <td>en</td>\n",
       "      <td>Writing a uni essay in my local pub with a cof...</td>\n",
       "      <td>YES</td>\n",
       "    </tr>\n",
       "    <tr>\n",
       "      <th>200003</th>\n",
       "      <td>200003</td>\n",
       "      <td>en</td>\n",
       "      <td>@UniversalORL it is 2021 not 1921. I dont appr...</td>\n",
       "      <td>YES</td>\n",
       "    </tr>\n",
       "    <tr>\n",
       "      <th>200006</th>\n",
       "      <td>200006</td>\n",
       "      <td>en</td>\n",
       "      <td>According to a customer I have plenty of time ...</td>\n",
       "      <td>YES</td>\n",
       "    </tr>\n",
       "    <tr>\n",
       "      <th>200007</th>\n",
       "      <td>200007</td>\n",
       "      <td>en</td>\n",
       "      <td>So only 'blokes' drink beer? Sorry, but if you...</td>\n",
       "      <td>YES</td>\n",
       "    </tr>\n",
       "    <tr>\n",
       "      <th>200008</th>\n",
       "      <td>200008</td>\n",
       "      <td>en</td>\n",
       "      <td>New to the shelves this week - looking forward...</td>\n",
       "      <td>NO</td>\n",
       "    </tr>\n",
       "  </tbody>\n",
       "</table>\n",
       "</div>"
      ],
      "text/plain": [
       "        id_EXIST lang                                              tweet  \\\n",
       "200002    200002   en  Writing a uni essay in my local pub with a cof...   \n",
       "200003    200003   en  @UniversalORL it is 2021 not 1921. I dont appr...   \n",
       "200006    200006   en  According to a customer I have plenty of time ...   \n",
       "200007    200007   en  So only 'blokes' drink beer? Sorry, but if you...   \n",
       "200008    200008   en  New to the shelves this week - looking forward...   \n",
       "\n",
       "       hard_label_task1  \n",
       "200002              YES  \n",
       "200003              YES  \n",
       "200006              YES  \n",
       "200007              YES  \n",
       "200008               NO  "
      ]
     },
     "execution_count": 509,
     "metadata": {},
     "output_type": "execute_result"
    }
   ],
   "source": [
    "train.head()"
   ]
  },
  {
   "cell_type": "markdown",
   "metadata": {
    "id": "C1vO0qNe-bQ3"
   },
   "source": [
    "### Encode the hard labels column as integers\n",
    "\n",
    "Finally, we encode the hard labels column as integers. This is done to have the labels in a format that can be used by the model."
   ]
  },
  {
   "cell_type": "code",
   "execution_count": 510,
   "metadata": {
    "id": "_vKw9ugP-bQ3"
   },
   "outputs": [],
   "source": [
    "train['hard_label_task1'] = train['hard_label_task1'].apply(lambda x: 1 if x == \"YES\" else 0)\n",
    "val['hard_label_task1'] = val['hard_label_task1'].apply(lambda x: 1 if x == \"YES\" else 0)\n",
    "test['hard_label_task1'] = test['hard_label_task1'].apply(lambda x: 1 if x == \"YES\" else 0)"
   ]
  },
  {
   "cell_type": "markdown",
   "metadata": {
    "id": "zwVjFiqMC7ts"
   },
   "source": [
    "### Rename the target column to label"
   ]
  },
  {
   "cell_type": "code",
   "execution_count": 511,
   "metadata": {
    "id": "sNAkCmHTC7ts"
   },
   "outputs": [],
   "source": [
    "train.rename(columns={'hard_label_task1': 'label'}, inplace=True)\n",
    "val.rename(columns={'hard_label_task1': 'label'}, inplace=True)\n",
    "test.rename(columns={'hard_label_task1': 'label'}, inplace=True)"
   ]
  },
  {
   "cell_type": "markdown",
   "metadata": {
    "id": "hBxMCgPYC7ts"
   },
   "source": [
    "The distribution of the labels is also shown to have an idea of the distribution of the labels in the dataset. As we can see there are more non-sexist tweets than sexist tweets in a ratio of 60:40. This is important to know since it can affect the performance of the model."
   ]
  },
  {
   "cell_type": "code",
   "execution_count": 512,
   "metadata": {
    "colab": {
     "base_uri": "https://localhost:8080/",
     "height": 467
    },
    "id": "QYpFYiwx-bQ4",
    "outputId": "c47b2494-db53-4d6c-b03c-3b43590a207b"
   },
   "outputs": [
    {
     "data": {
      "image/png": "[encoded data removed]",
      "text/plain": [
       "<Figure size 640x480 with 1 Axes>"
      ]
     },
     "metadata": {},
     "output_type": "display_data"
    }
   ],
   "source": [
    "train.label.value_counts(normalize=True).plot(kind='bar', title='Train', color=['green', 'red'], alpha=0.7)\n",
    "plt.show()"
   ]
  },
  {
   "cell_type": "markdown",
   "metadata": {
    "id": "D_qchDt7-bQ4"
   },
   "source": [
    "# Task 2: Data Cleaning\n",
    "\n",
    "1. Remove emojis\n",
    "2. Remove hashtags (e.g. #metoo)\n",
    "3. Remove mentions (e.g. @user)\n",
    "4. Remove URLs\n",
    "5. Remove special characters and symbols\n",
    "6. Remove specific quote characters (e.g. curly quotes)\n",
    "7. Perform lemmatization\n",
    "\n",
    ">**Bonus**: use other preprocessing strategies exploring techniques tailored specifically for tweets or methods that are common in social media text processing."
   ]
  },
  {
   "cell_type": "markdown",
   "metadata": {
    "id": "CPZ_A3ek-bQ4"
   },
   "source": [
    "The way to go (priority order) is the following:\n",
    "1. Remove URLs\n",
    "2. Remove mentions\n",
    "3. Remove hashtags\n",
    "4. Remove emojis\n",
    "5. Remove special characters\n",
    "6. Remove specific quote characters\n",
    "7. Perform lemmatization"
   ]
  },
  {
   "cell_type": "markdown",
   "metadata": {
    "id": "TacxYDItC7tw"
   },
   "source": [
    "We will take a copy of the original text to compare the original text with the cleaned text."
   ]
  },
  {
   "cell_type": "code",
   "execution_count": 513,
   "metadata": {
    "id": "vyKl2917-bQ4"
   },
   "outputs": [],
   "source": [
    "original_train = train.copy()"
   ]
  },
  {
   "cell_type": "markdown",
   "metadata": {
    "id": "RVsy1hN5C7tw"
   },
   "source": [
    "Then we can apply all the preprocessing steps to the text as described above (in that order)."
   ]
  },
  {
   "cell_type": "code",
   "execution_count": 514,
   "metadata": {
    "id": "xtI27hJo-bQ4"
   },
   "outputs": [],
   "source": [
    "train['tweet'] = train['tweet'].apply(detector.preprocess_text)\n",
    "val['tweet'] = val['tweet'].apply(detector.preprocess_text)\n",
    "test['tweet'] = test['tweet'].apply(detector.preprocess_text)"
   ]
  },
  {
   "cell_type": "markdown",
   "metadata": {
    "id": "yFOqFd6i-bQ6"
   },
   "source": [
    "### Perform lemmatization\n",
    "\n",
    "The lemmatization is performed using the `nltk` library. The `lemmatize` method is used to perform the lemmatization of the text. The lemmatization is performed on the cleaned text and takes a bit since it has to process all the words in the text."
   ]
  },
  {
   "cell_type": "code",
   "execution_count": 515,
   "metadata": {
    "id": "lu1toksv-bQ6"
   },
   "outputs": [],
   "source": [
    "train['tweet'] = train['tweet'].apply(detector.lemmatize_text)\n",
    "val['tweet'] = val['tweet'].apply(detector.lemmatize_text)\n",
    "test['tweet'] = test['tweet'].apply(detector.lemmatize_text)"
   ]
  },
  {
   "cell_type": "markdown",
   "metadata": {
    "id": "8R-fL1sl-bQ7"
   },
   "source": [
    "### Cast text to lowercase\n",
    "\n",
    "The text is cast to lowercase to ensure that the model does not learn to distinguish between words based on the case of the letters (uncased)."
   ]
  },
  {
   "cell_type": "code",
   "execution_count": 516,
   "metadata": {
    "id": "Ku484oN9-bQ7"
   },
   "outputs": [],
   "source": [
    "train['tweet'] = train['tweet'].str.lower()\n",
    "val['tweet'] = val['tweet'].str.lower()\n",
    "test['tweet'] = test['tweet'].str.lower()"
   ]
  },
  {
   "cell_type": "markdown",
   "metadata": {
    "id": "dFbPle-9-bQ8"
   },
   "source": [
    "### Show the difference between the original and cleaned text\n",
    "\n",
    "We can also inspect the difference between the original and cleaned text to see the effect of the preprocessing steps. As we can see the preprocessing steps have removed all the unwanted elements from the text and now the text is clean and ready to be used by the model."
   ]
  },
  {
   "cell_type": "code",
   "execution_count": 517,
   "metadata": {
    "colab": {
     "base_uri": "https://localhost:8080/"
    },
    "id": "TURQi4uE-bQ8",
    "outputId": "494fdea6-f2e5-462b-e07e-97ccdfb1b882"
   },
   "outputs": [
    {
     "name": "stdout",
     "output_type": "stream",
     "text": [
      "Original tweet:\n",
      "@YouFugazi He was abusive.  He was the problem.  Porsha's got issues but she didn't deserve mental and physical abuse or to grieve the loss of her child alone.\n",
      "Processed tweet:\n",
      "<user> he wa abusive he wa the problem porsha s got issue but she didn t deserve mental and physical abuse or to grieve the loss of her child alone\n"
     ]
    }
   ],
   "source": [
    "detector.text_diff(preprocessed_text=train, original_text=original_train, random=True)"
   ]
  },
  {
   "cell_type": "markdown",
   "metadata": {
    "id": "50Cj7hDE-bQ9"
   },
   "source": [
    "# Task 3: Text Encoding\n",
    "\n",
    "* Embed words using GloVe embeddings."
   ]
  },
  {
   "cell_type": "markdown",
   "metadata": {
    "id": "e3m8P2pe-bQ-"
   },
   "source": [
    "### Embed words using GloVe embeddings\n",
    "\n",
    "The pretrained GloVe embeddings are used to embed the words in the text. First we download the GloVe embeddings using the `gensim` library. We choose as embedding dimension 100 since it is a common choice for embeddings [CITE SOME SOURCE HERE]. The specific model is the `glove-twitter-100` which is trained on Twitter data. Our intuition is that this model will perform better on tweets than other models trained on different data due to the fact that the language used in tweets is different from the language used in other types of text. In this way we can leverage the specific language used in tweets to improve the performance of the model and also reduce the number of out-of-vocabulary words (which is a common problem when using pretrained embeddings).\n",
    "\n",
    "The vocabulary of the `glove-twitter-100` model is very large and contains many words but we are just using a subset of the words in the vocabulary. This is because we are using the words in the tweets and not all the words in the vocabulary are used in the tweets. At the end even if the vocabulary is large we are using only a small subset of the words in the vocabulary. Moreover, we are not interested in backpropagating the gradients to the embeddings so we can use the embeddings as they are without any problem on the computational side."
   ]
  },
  {
   "cell_type": "code",
   "execution_count": 518,
   "metadata": {
    "colab": {
     "base_uri": "https://localhost:8080/"
    },
    "id": "vEGg4Jvp-bQ-",
    "outputId": "93ecba5e-dee2-4bf3-e2cb-2491c7df1167"
   },
   "outputs": [
    {
     "name": "stdout",
     "output_type": "stream",
     "text": [
      "Vocabulary size: 1193514\n"
     ]
    }
   ],
   "source": [
    "emb_model = detector.load_glove(model_name='glove-twitter', embedding_dim=EMBEDDING_DIM)\n",
    "print(f\"Vocabulary size: {len(emb_model.key_to_index)}\")"
   ]
  },
  {
   "cell_type": "markdown",
   "metadata": {
    "id": "uhw6t0-hKy_0"
   },
   "source": [
    "Get the training vocabulary and generate the list of words appearing in the training set. We can extract the two ordered dictionaries (train_idx_to_word, train_word_to_idx) as well as the list of words appearing in the training set."
   ]
  },
  {
   "cell_type": "code",
   "execution_count": 519,
   "metadata": {
    "id": "JJEQVEKJLcKF"
   },
   "outputs": [],
   "source": [
    "train_idx_to_word, train_word_to_idx, train_word_listing = detector.get_vocab(train)"
   ]
  },
  {
   "cell_type": "markdown",
   "metadata": {
    "id": "KpCHzEq5Ky_0"
   },
   "source": [
    "We can inspect how many words in the training set are not in the GloVe vocabulary. This can be conveniente to assess the coverage of the GloVe embeddings on the training set. From our analysis we can see that the coverage using the GloVe embeddings model `glove-twitter-100` is better with respect to the model `glove-wiki-gigaword-100` which is trained on Wikipedia data. The actual difference is not so big (around 1%) but it can be important to have a good coverage of the embeddings on the training set. Moreover, such statistics do not take into account any possible difference in the quality of the embeddings which can be important to have a good performance of the model. The 1% difference might not be so important but the position of the words in the embeddings can be important to have a good performance of the model."
   ]
  },
  {
   "cell_type": "code",
   "execution_count": 520,
   "metadata": {
    "colab": {
     "base_uri": "https://localhost:8080/"
    },
    "id": "jJ3bEuo3Ky_0",
    "outputId": "b56ca55e-12fe-4ce9-cec2-f73c55b034fc"
   },
   "outputs": [
    {
     "name": "stdout",
     "output_type": "stream",
     "text": [
      "Total OOV terms: 768 (7.80%)\n"
     ]
    }
   ],
   "source": [
    "detector.get_oov_stats(emb_model, train_word_listing)"
   ]
  },
  {
   "cell_type": "markdown",
   "metadata": {
    "id": "KbFJl09CKy_1"
   },
   "source": [
    "We can also inspect what are these OOV words to have an idea of the words that are not in the GloVe vocabulary. As we can see the words that are not in the GloVe vocabulary are mostly rare words that are not so common in the English language or Twitter memes/slang. This is important to know since it can affect the performance of the model. The model will not be able to learn the embeddings for these words and will have to rely on the embeddings of similar words which can affect the performance of the model."
   ]
  },
  {
   "cell_type": "code",
   "execution_count": 521,
   "metadata": {
    "colab": {
     "base_uri": "https://localhost:8080/"
    },
    "id": "iXGncwVDKy_1",
    "outputId": "fb90d89e-6759-4269-e5cc-f52a1ab25795"
   },
   "outputs": [
    {
     "data": {
      "text/plain": [
       "['chugli',\n",
       " 'matriarcal',\n",
       " 'femboy',\n",
       " 'femimism',\n",
       " 'clavell',\n",
       " 'racialized',\n",
       " 'gronru',\n",
       " 'iterability',\n",
       " 'antivax',\n",
       " 'indue',\n",
       " 'igorot',\n",
       " 'astrodomina',\n",
       " 'octonary',\n",
       " 'cysm',\n",
       " 'bellingcat',\n",
       " 'titsit',\n",
       " 'greenpants',\n",
       " 'toattack',\n",
       " 'mahomes',\n",
       " 'cumhole',\n",
       " 'enby',\n",
       " 'referreing',\n",
       " 'greedremember',\n",
       " 'ranchu',\n",
       " 'matteri',\n",
       " 'pandra',\n",
       " 'duely',\n",
       " 'nightsippin',\n",
       " 'whoohahaha',\n",
       " 'gqp',\n",
       " 'vaxxers',\n",
       " 'sofoulis',\n",
       " 'colourways',\n",
       " 'nervetrainers',\n",
       " 'exoticization',\n",
       " 'succeedwhen',\n",
       " 'eurocentric',\n",
       " 'amadudu',\n",
       " 'mkbl',\n",
       " 'dvmb',\n",
       " 'denary',\n",
       " 'meritless',\n",
       " 'fariah',\n",
       " 'nyjc',\n",
       " 'unaliving',\n",
       " 'nonoomf',\n",
       " 'phallogocentrism',\n",
       " 'hideousness',\n",
       " 'nollaigh',\n",
       " 'murrrphhhur',\n",
       " 'expereince',\n",
       " 'lymphedema',\n",
       " 'cissexist',\n",
       " 'stockholme',\n",
       " 'binion',\n",
       " 'aeneid',\n",
       " 'tooheythere',\n",
       " 'womentekashi',\n",
       " 'canonically',\n",
       " 'intersectionalitydo',\n",
       " 'czechia',\n",
       " 'hermain',\n",
       " 'duodenary',\n",
       " 'nazarbayev',\n",
       " 'slenders',\n",
       " 'afterpay',\n",
       " 'spsp',\n",
       " 'adorime',\n",
       " 'immunologist',\n",
       " 'outgrowth',\n",
       " 'sjfkkffkgk',\n",
       " 'metanarratives',\n",
       " 'unvaxxed',\n",
       " 'jikook',\n",
       " 'orderphallocentrism',\n",
       " 'glennyoungkin',\n",
       " 'plandemic',\n",
       " 'gojiro',\n",
       " 'fatphobic',\n",
       " 'switchsportsnotallmenwow',\n",
       " 'goxuan',\n",
       " 'tigray',\n",
       " 'maleness',\n",
       " 'womanism',\n",
       " 'hazviite',\n",
       " 'wattsspaceman',\n",
       " 'centrism',\n",
       " 'philiacs',\n",
       " 'angrywhen',\n",
       " 'orchestrates',\n",
       " 'librel',\n",
       " 'constitutive',\n",
       " 'pajeet',\n",
       " 'vawg',\n",
       " 'chromatica',\n",
       " 'verey',\n",
       " 'lunaria',\n",
       " '번째_겨울여행',\n",
       " 'infantilise',\n",
       " 'bakubussy',\n",
       " 'coercively',\n",
       " 'wabr',\n",
       " 'sirmed',\n",
       " 'underyou',\n",
       " 'terfs',\n",
       " 'amasiri',\n",
       " 'shrinate',\n",
       " 'queering',\n",
       " 'handemiyy',\n",
       " 'thickhead',\n",
       " 'kylo',\n",
       " 'pithily',\n",
       " 'nagtitake',\n",
       " 'malewife',\n",
       " 'modernists',\n",
       " 'reallymanchin',\n",
       " 'agreementsoctober',\n",
       " 'elaida',\n",
       " 'rapistchris',\n",
       " 'maaaster',\n",
       " 'bidmc',\n",
       " 'sandworms',\n",
       " 'workshoppers',\n",
       " 'acephalous',\n",
       " 'zunelhakart',\n",
       " 'availiaple',\n",
       " 'normalise',\n",
       " 'problematised',\n",
       " 'putatively',\n",
       " 'aucklanders',\n",
       " 'revelled',\n",
       " 'colonizer',\n",
       " 'clossus',\n",
       " 'shanaia',\n",
       " 'autogynephiliait',\n",
       " 'activismby',\n",
       " 'mackinlay',\n",
       " 'dishevelled',\n",
       " 'binarily',\n",
       " 'gilliland',\n",
       " 'deconstructs',\n",
       " 'wfwlct',\n",
       " 'contrarianism',\n",
       " 'entertainmmt',\n",
       " 'udana',\n",
       " 'secretory',\n",
       " 'horrormoviesin',\n",
       " 'mesoamerican',\n",
       " 'overfeeding',\n",
       " 'provoker',\n",
       " 'voyeuristically',\n",
       " 'uburu',\n",
       " 'incel',\n",
       " 'womenfolk',\n",
       " 'gunnersbury',\n",
       " 'halward',\n",
       " 'impinging',\n",
       " 'etcdiscrimination',\n",
       " 'shivaami',\n",
       " 'soulsmixed',\n",
       " 'matriliny',\n",
       " 'dforce',\n",
       " 'igboeze',\n",
       " 'dvmbses',\n",
       " 'repeat>',\n",
       " 'carceral',\n",
       " 'macready',\n",
       " 'mgtow',\n",
       " 'danimation',\n",
       " 'huskiness',\n",
       " 'themtired',\n",
       " 'lightprotector',\n",
       " 'impassion',\n",
       " 'gamergate',\n",
       " 'bashfully',\n",
       " 'mentionnah',\n",
       " 'okposi',\n",
       " 'weejuns',\n",
       " 'demiboys',\n",
       " 'sosatie',\n",
       " 'groundmeanwhile',\n",
       " 'xanx',\n",
       " 'anddodge',\n",
       " 'conjuration',\n",
       " 'signweare',\n",
       " 'masqurading',\n",
       " 'culty',\n",
       " 'horncastle',\n",
       " 'allegationsjudge',\n",
       " 'strocking',\n",
       " 'tjprotect',\n",
       " 'homiletics',\n",
       " 'sloganeering',\n",
       " 'reifying',\n",
       " 'worrisomehe',\n",
       " 'gruevski',\n",
       " 'patrilocal',\n",
       " 'etcetctec',\n",
       " 'wvst',\n",
       " 'phallocentrism',\n",
       " 'casteist',\n",
       " 'lillets',\n",
       " 'ujiko',\n",
       " 'internalizing',\n",
       " 'tigreans',\n",
       " 'glanzer',\n",
       " 'emplaced',\n",
       " 'quaternary',\n",
       " 'pumuna',\n",
       " 'malchaamah',\n",
       " 'egotistically',\n",
       " 'awashilo',\n",
       " 'fetishization',\n",
       " 'essentialist',\n",
       " 'ghisipiti',\n",
       " 'chappaquiddick',\n",
       " 'polititcs',\n",
       " 'fauci',\n",
       " 'herei',\n",
       " 'mazrui',\n",
       " 'johnleemushr',\n",
       " 'ranpo',\n",
       " 'subaltern',\n",
       " 'vellem',\n",
       " 'ruggerio',\n",
       " 'thcenturyfucks',\n",
       " 'applicationbut',\n",
       " 'ᅠhina',\n",
       " 'foebut',\n",
       " 'basmah',\n",
       " 'bacigalupi',\n",
       " 'paperswritingpro',\n",
       " 'hilted',\n",
       " 'incels',\n",
       " 'needso',\n",
       " 'deltarune',\n",
       " 'normalising',\n",
       " 'comicsgate',\n",
       " 'yalcın',\n",
       " 'endsars',\n",
       " 'nonary',\n",
       " 'deffend',\n",
       " 'recondition',\n",
       " 'laddish',\n",
       " 'doctress',\n",
       " 'whiteyes',\n",
       " 'tfumy',\n",
       " 'bearmarket',\n",
       " 'exoticals',\n",
       " 'weavernotes',\n",
       " 'disseminated',\n",
       " 'parellels',\n",
       " 'formalized',\n",
       " 'manipulatrix',\n",
       " 'doocy',\n",
       " 'cecilt',\n",
       " 'asapits',\n",
       " 'devasahayam',\n",
       " 'ocding',\n",
       " 'akaabir',\n",
       " 'overpeeforming',\n",
       " 'iruma',\n",
       " 'aislated',\n",
       " 'keibo',\n",
       " 'androcentrism',\n",
       " 'worldbuilding',\n",
       " 'ambanii',\n",
       " 'neolocal',\n",
       " 'brnovich',\n",
       " 'downvoted',\n",
       " 'alterlife',\n",
       " 'conscientizacao',\n",
       " 'hoursmeanwhile',\n",
       " 'themand',\n",
       " 'axiomatizes',\n",
       " 'arkady',\n",
       " 'nepenthes',\n",
       " 'laylamoran',\n",
       " 'snowchester',\n",
       " 'transness',\n",
       " 'spainisnotademocracy',\n",
       " 'voiceit',\n",
       " 'shmeat',\n",
       " 'unrape',\n",
       " 'quinary',\n",
       " 'kungcono',\n",
       " 'yellowhammer',\n",
       " 'iwca',\n",
       " 'reassign',\n",
       " 'cumdump',\n",
       " 'aytl',\n",
       " 'onicha',\n",
       " 'gooning',\n",
       " 'lunabro',\n",
       " 'hyperfocused',\n",
       " 'multilocal',\n",
       " 'selfawareness',\n",
       " 'repressor',\n",
       " 'soobinjust',\n",
       " 'exiling',\n",
       " 'cintebt',\n",
       " 'liberatory',\n",
       " 'malapropism',\n",
       " 'erens',\n",
       " 'slimzosrecordings',\n",
       " 'overcode',\n",
       " 'allvotebluein',\n",
       " 'upstander',\n",
       " 'glanzernew',\n",
       " 'catholism',\n",
       " 'theodolite',\n",
       " 'sleepingnurse',\n",
       " 'performative',\n",
       " 'shirtwaist',\n",
       " 'hodlers',\n",
       " 'muzzie',\n",
       " 'innuendosthe',\n",
       " 'commonersthe',\n",
       " 'exegetical',\n",
       " 'cishet',\n",
       " 'garbarek',\n",
       " 'shoehorned',\n",
       " 'contradictionit',\n",
       " 'monied',\n",
       " 'jyl',\n",
       " 'leapableio',\n",
       " 'porngirl',\n",
       " 'feelbut',\n",
       " 'wolflord',\n",
       " 'gajab',\n",
       " 'saffar',\n",
       " 'genderfluid',\n",
       " 'privative',\n",
       " 'frailer',\n",
       " 'dresscan',\n",
       " 'himbo',\n",
       " 'klobuchar',\n",
       " 'ortakolma',\n",
       " 'no_tall_men',\n",
       " 'pplleeaassee',\n",
       " 'underpantshaving',\n",
       " 'leafa',\n",
       " 'perjorative',\n",
       " 'amadour',\n",
       " 'dixiecrats',\n",
       " 'mansplain',\n",
       " 'busuca',\n",
       " 'foilage',\n",
       " 'doucheraj',\n",
       " 'infers',\n",
       " 'fakesswi',\n",
       " 'radabots',\n",
       " 'premised',\n",
       " 'redpill',\n",
       " 'shezad',\n",
       " 'transwomen',\n",
       " 'transgress',\n",
       " 'becauselike',\n",
       " 'strugatskyhard',\n",
       " 'wabout',\n",
       " 'kjvsource',\n",
       " 'birnie',\n",
       " 'subserve',\n",
       " 'otherized',\n",
       " 'deforms',\n",
       " 'mysogynistic',\n",
       " 'regimentation',\n",
       " 'simulacrum',\n",
       " 'paternalistic',\n",
       " 'pervasiveness',\n",
       " 'othering',\n",
       " 'bandied',\n",
       " 'lolthe',\n",
       " 'orientalism',\n",
       " 'yrboi',\n",
       " 'grrls',\n",
       " 'maneuvered',\n",
       " 'lmaooc',\n",
       " 'epistemological',\n",
       " 'cranewomen',\n",
       " 'souldn',\n",
       " 'gunstock',\n",
       " 'manspreading',\n",
       " 'friedanthe',\n",
       " 'ultranationalism',\n",
       " 'alresdy',\n",
       " 'septenary',\n",
       " 'sntiques',\n",
       " 'amogus',\n",
       " 'sanctomony',\n",
       " 'leody',\n",
       " 'kaizenix',\n",
       " 'shitmy',\n",
       " 'gimbap',\n",
       " 'invariance',\n",
       " 'offuse',\n",
       " 'buttling',\n",
       " 'patrilineal',\n",
       " 'moranbong',\n",
       " 'newprice',\n",
       " 'estinen',\n",
       " 'utopianism',\n",
       " 'terminological',\n",
       " 'nuancebecause',\n",
       " 'catastrophizing',\n",
       " 'anglicised',\n",
       " 'nonbinary',\n",
       " 'fetishizing',\n",
       " 'kinju',\n",
       " 'casterly',\n",
       " 'seatcomment',\n",
       " 'dhagne',\n",
       " 'slsjsu',\n",
       " 'essentialismdrone',\n",
       " 'obfuscating',\n",
       " 'taegi',\n",
       " 'dimensionality',\n",
       " 'transfems',\n",
       " 'whoresrape',\n",
       " 'zarkashi',\n",
       " 'mimetic',\n",
       " 'vishap',\n",
       " 'oget',\n",
       " 'wokeness',\n",
       " 'worthlessand',\n",
       " 'metanarrative',\n",
       " 'timesyou',\n",
       " 'ehlinger',\n",
       " 'matrilineal',\n",
       " 'underpins',\n",
       " 'baddiel',\n",
       " 'yorknew',\n",
       " 'unfahrifhdyfhdh',\n",
       " 'metaverse',\n",
       " 'steroided',\n",
       " 'sfprice',\n",
       " 'russiagate',\n",
       " 'indention',\n",
       " 'spitballing',\n",
       " 'squicky',\n",
       " 'akdhajhdajjahshh',\n",
       " 'mechanization',\n",
       " 'nties',\n",
       " 'andhkaar',\n",
       " 'whitesplaining',\n",
       " 'kuppalli',\n",
       " 'ijaba',\n",
       " 'lxp',\n",
       " 'kohlberg',\n",
       " 'mpeleke',\n",
       " 'periodt',\n",
       " 'immerwahr',\n",
       " 'makhulu',\n",
       " 'differentially',\n",
       " 'jaskier',\n",
       " 'rekieta',\n",
       " 'bilocal',\n",
       " 'therei',\n",
       " 'assignmentsonline',\n",
       " 'scoatlan',\n",
       " 'allyship',\n",
       " 'cosettas',\n",
       " 'msut',\n",
       " 'akaabireen',\n",
       " 'congressperson',\n",
       " 'shriner',\n",
       " 'diztortion',\n",
       " 'studycalculusdm',\n",
       " 'emasculation',\n",
       " 'dysphoric',\n",
       " 'contagiously',\n",
       " 'objectivist',\n",
       " 'nfts',\n",
       " 'votewhy',\n",
       " 'femoid',\n",
       " 'classifier',\n",
       " 'starmer',\n",
       " 'fravor',\n",
       " 'chaitya',\n",
       " 'idolatrous',\n",
       " 'cashmeets',\n",
       " 'talaks',\n",
       " 'pedophiliajust',\n",
       " 'oppressedsuch',\n",
       " 'paperpsychology',\n",
       " 'doorsbut',\n",
       " 'sexualizing',\n",
       " 'archipielago',\n",
       " 'remarket',\n",
       " 'innesota',\n",
       " 'csrrying',\n",
       " 'pardaah',\n",
       " 'fffffffuck',\n",
       " 'suburan',\n",
       " 'sisterscene',\n",
       " 'daoibh',\n",
       " 'moolaat',\n",
       " 'phallocentric',\n",
       " 'classmathchemistrynursinggeographypsychologysociologyresearch',\n",
       " 'maximalism']"
      ]
     },
     "execution_count": 521,
     "metadata": {},
     "output_type": "execute_result"
    }
   ],
   "source": [
    "list(detector.get_oov(emb_model, train_word_listing))[:500]"
   ]
  },
  {
   "cell_type": "markdown",
   "metadata": {
    "id": "MKlEtYznC7t2"
   },
   "source": [
    "Now, in order to deal with these OOV token we first thought of assigning a random vector to them. However, such choice might not be the best since the model will learn to distinguish between the OOV tokens and the other tokens based on the embeddings. This is not what we want since the OOV tokens are not different from the other tokens in the vocabulary.\n",
    "\n",
    "A smarter approach would be to extract the co-occurrence matrix from the training set and use it to generate the embeddings for the OOV tokens. Given a window size, we can extract the co-occurrence matrix and then use it to generate the embeddings for the OOV tokens. Whenever we encounter an OOV token we can define as embedding vector the average of the embeddings of the most frequent words that co-occur with the OOV token. This way we can generate the embeddings for the OOV tokens and have a better performance of the model since such OOV tokens will have embeddings that are similar to the embeddings of the words that co-occur with them (the similarity is indeed based on the co-occurrence matrix and on the average of the embedding vectors).\n",
    "\n",
    "The latter is the approach we will use to generate the embeddings for the OOV tokens. We will use a window size of 10 to extract the co-occurrence matrix and generate the embeddings for the OOV tokens."
   ]
  },
  {
   "cell_type": "code",
   "execution_count": 522,
   "metadata": {
    "colab": {
     "base_uri": "https://localhost:8080/",
     "height": 253
    },
    "id": "YGnlKq42Ky_2",
    "outputId": "8819fccf-c5ac-45e5-e5ca-22aae7cfd173"
   },
   "outputs": [
    {
     "name": "stderr",
     "output_type": "stream",
     "text": [
      "100%|██████████| 2870/2870 [00:06<00:00, 422.75it/s]\n"
     ]
    },
    {
     "data": {
      "text/html": [
       "<div>\n",
       "<style scoped>\n",
       "    .dataframe tbody tr th:only-of-type {\n",
       "        vertical-align: middle;\n",
       "    }\n",
       "\n",
       "    .dataframe tbody tr th {\n",
       "        vertical-align: top;\n",
       "    }\n",
       "\n",
       "    .dataframe thead th {\n",
       "        text-align: right;\n",
       "    }\n",
       "</style>\n",
       "<table border=\"1\" class=\"dataframe\">\n",
       "  <thead>\n",
       "    <tr style=\"text-align: right;\">\n",
       "      <th></th>\n",
       "      <th>writing</th>\n",
       "      <th>a</th>\n",
       "      <th>uni</th>\n",
       "      <th>essay</th>\n",
       "      <th>in</th>\n",
       "      <th>my</th>\n",
       "      <th>local</th>\n",
       "      <th>pub</th>\n",
       "      <th>with</th>\n",
       "      <th>coffee</th>\n",
       "      <th>...</th>\n",
       "      <th>armor</th>\n",
       "      <th>dragoon</th>\n",
       "      <th>estinen</th>\n",
       "      <th>nike</th>\n",
       "      <th>coochie</th>\n",
       "      <th>mutuals</th>\n",
       "      <th>owns</th>\n",
       "      <th>grabs</th>\n",
       "      <th>lh</th>\n",
       "      <th>mandy</th>\n",
       "    </tr>\n",
       "  </thead>\n",
       "  <tbody>\n",
       "    <tr>\n",
       "      <th>writing</th>\n",
       "      <td>2.0</td>\n",
       "      <td>14.0</td>\n",
       "      <td>1.0</td>\n",
       "      <td>2.0</td>\n",
       "      <td>5.0</td>\n",
       "      <td>3.0</td>\n",
       "      <td>1.0</td>\n",
       "      <td>1.0</td>\n",
       "      <td>3.0</td>\n",
       "      <td>1.0</td>\n",
       "      <td>...</td>\n",
       "      <td>0.0</td>\n",
       "      <td>0.0</td>\n",
       "      <td>0.0</td>\n",
       "      <td>0.0</td>\n",
       "      <td>0.0</td>\n",
       "      <td>0.0</td>\n",
       "      <td>0.0</td>\n",
       "      <td>0.0</td>\n",
       "      <td>0.0</td>\n",
       "      <td>0.0</td>\n",
       "    </tr>\n",
       "    <tr>\n",
       "      <th>a</th>\n",
       "      <td>14.0</td>\n",
       "      <td>1278.0</td>\n",
       "      <td>2.0</td>\n",
       "      <td>2.0</td>\n",
       "      <td>421.0</td>\n",
       "      <td>139.0</td>\n",
       "      <td>3.0</td>\n",
       "      <td>2.0</td>\n",
       "      <td>223.0</td>\n",
       "      <td>5.0</td>\n",
       "      <td>...</td>\n",
       "      <td>1.0</td>\n",
       "      <td>0.0</td>\n",
       "      <td>1.0</td>\n",
       "      <td>1.0</td>\n",
       "      <td>1.0</td>\n",
       "      <td>1.0</td>\n",
       "      <td>0.0</td>\n",
       "      <td>0.0</td>\n",
       "      <td>1.0</td>\n",
       "      <td>2.0</td>\n",
       "    </tr>\n",
       "    <tr>\n",
       "      <th>uni</th>\n",
       "      <td>1.0</td>\n",
       "      <td>2.0</td>\n",
       "      <td>0.0</td>\n",
       "      <td>1.0</td>\n",
       "      <td>1.0</td>\n",
       "      <td>1.0</td>\n",
       "      <td>1.0</td>\n",
       "      <td>1.0</td>\n",
       "      <td>1.0</td>\n",
       "      <td>1.0</td>\n",
       "      <td>...</td>\n",
       "      <td>0.0</td>\n",
       "      <td>0.0</td>\n",
       "      <td>0.0</td>\n",
       "      <td>0.0</td>\n",
       "      <td>0.0</td>\n",
       "      <td>0.0</td>\n",
       "      <td>0.0</td>\n",
       "      <td>0.0</td>\n",
       "      <td>0.0</td>\n",
       "      <td>0.0</td>\n",
       "    </tr>\n",
       "    <tr>\n",
       "      <th>essay</th>\n",
       "      <td>2.0</td>\n",
       "      <td>2.0</td>\n",
       "      <td>1.0</td>\n",
       "      <td>0.0</td>\n",
       "      <td>2.0</td>\n",
       "      <td>2.0</td>\n",
       "      <td>1.0</td>\n",
       "      <td>1.0</td>\n",
       "      <td>1.0</td>\n",
       "      <td>1.0</td>\n",
       "      <td>...</td>\n",
       "      <td>0.0</td>\n",
       "      <td>0.0</td>\n",
       "      <td>0.0</td>\n",
       "      <td>0.0</td>\n",
       "      <td>0.0</td>\n",
       "      <td>0.0</td>\n",
       "      <td>0.0</td>\n",
       "      <td>0.0</td>\n",
       "      <td>0.0</td>\n",
       "      <td>0.0</td>\n",
       "    </tr>\n",
       "    <tr>\n",
       "      <th>in</th>\n",
       "      <td>5.0</td>\n",
       "      <td>421.0</td>\n",
       "      <td>1.0</td>\n",
       "      <td>2.0</td>\n",
       "      <td>166.0</td>\n",
       "      <td>92.0</td>\n",
       "      <td>3.0</td>\n",
       "      <td>1.0</td>\n",
       "      <td>92.0</td>\n",
       "      <td>4.0</td>\n",
       "      <td>...</td>\n",
       "      <td>0.0</td>\n",
       "      <td>0.0</td>\n",
       "      <td>0.0</td>\n",
       "      <td>0.0</td>\n",
       "      <td>0.0</td>\n",
       "      <td>0.0</td>\n",
       "      <td>0.0</td>\n",
       "      <td>0.0</td>\n",
       "      <td>0.0</td>\n",
       "      <td>0.0</td>\n",
       "    </tr>\n",
       "  </tbody>\n",
       "</table>\n",
       "<p>5 rows × 9840 columns</p>\n",
       "</div>"
      ],
      "text/plain": [
       "         writing       a  uni  essay     in     my  local  pub   with  coffee  \\\n",
       "writing      2.0    14.0  1.0    2.0    5.0    3.0    1.0  1.0    3.0     1.0   \n",
       "a           14.0  1278.0  2.0    2.0  421.0  139.0    3.0  2.0  223.0     5.0   \n",
       "uni          1.0     2.0  0.0    1.0    1.0    1.0    1.0  1.0    1.0     1.0   \n",
       "essay        2.0     2.0  1.0    0.0    2.0    2.0    1.0  1.0    1.0     1.0   \n",
       "in           5.0   421.0  1.0    2.0  166.0   92.0    3.0  1.0   92.0     4.0   \n",
       "\n",
       "         ...  armor  dragoon  estinen  nike  coochie  mutuals  owns  grabs  \\\n",
       "writing  ...    0.0      0.0      0.0   0.0      0.0      0.0   0.0    0.0   \n",
       "a        ...    1.0      0.0      1.0   1.0      1.0      1.0   0.0    0.0   \n",
       "uni      ...    0.0      0.0      0.0   0.0      0.0      0.0   0.0    0.0   \n",
       "essay    ...    0.0      0.0      0.0   0.0      0.0      0.0   0.0    0.0   \n",
       "in       ...    0.0      0.0      0.0   0.0      0.0      0.0   0.0    0.0   \n",
       "\n",
       "          lh  mandy  \n",
       "writing  0.0    0.0  \n",
       "a        1.0    2.0  \n",
       "uni      0.0    0.0  \n",
       "essay    0.0    0.0  \n",
       "in       0.0    0.0  \n",
       "\n",
       "[5 rows x 9840 columns]"
      ]
     },
     "execution_count": 522,
     "metadata": {},
     "output_type": "execute_result"
    }
   ],
   "source": [
    "co_occurrence_matrix = detector.co_occurrence_count(train, train_idx_to_word, train_word_to_idx, window_size=10)\n",
    "co_occurrence_df = detector.co_occurrence_dataframe(co_occurrence_matrix, train_idx_to_word)\n",
    "co_occurrence_df.head()"
   ]
  },
  {
   "cell_type": "markdown",
   "metadata": {
    "id": "JBh5xZruKy_2"
   },
   "source": [
    "After computing the co-occurrence matrix we decided to combine the training set vocabulary with the GloVe vocabulary and generate the embedding vectors for the words in the training set that do not appear in the GloVe vocabulary. This is done to have a better coverage of the embeddings on the training set and to have a better performance of the model. The embeddings for the OOV tokens are generated using the co-occurrence matrix and the average of the embeddings of the most frequent words that co-occur with the OOV tokens."
   ]
  },
  {
   "cell_type": "code",
   "execution_count": 523,
   "metadata": {
    "colab": {
     "base_uri": "https://localhost:8080/"
    },
    "id": "fnNshkRb-bRF",
    "outputId": "3eab06b7-94c1-4b63-910e-898f67858b29"
   },
   "outputs": [
    {
     "name": "stdout",
     "output_type": "stream",
     "text": [
      "Saving vocab to data/vocab.json\n",
      "Vocab saved!\n"
     ]
    }
   ],
   "source": [
    "emb_model_augmented = detector.get_augmented_vocab(emb_model, train_words=train_word_listing, co_occurrence_df=co_occurrence_df, save=True)"
   ]
  },
  {
   "cell_type": "markdown",
   "metadata": {
    "id": "n03FoiSbKy_2"
   },
   "source": [
    "At this point, we can just create our embe"
   ]
  },
  {
   "cell_type": "code",
   "execution_count": 524,
   "metadata": {
    "id": "yRw9DQEq-bRG"
   },
   "outputs": [],
   "source": [
    "### Create the embeddings matrix\n",
    "#vocab_size = len(train_word_listing) + 2 # +2 for the UNK and PAD tokens\n",
    "\n",
    "#embedding_matrix = np.zeros((vocab_size, EMBEDDING_DIM), dtype=np.float32)\n",
    "#idx = 0\n",
    "#for word in tqdm(train_word_listing):\n",
    "#    embedding_matrix[idx] = emb_model_augmented.get_vector(word)\n",
    "#    idx += 1\n",
    "\n",
    "# We only add the UNK token to the embedding matrix since the PAD token is the vector of zeros and it is already in the matrix (np.zeros initialization)\n",
    "#embedding_matrix[idx] = emb_model_augmented.get_vector(detector.UNK_TOKEN)\n",
    "#embedding_matrix.shape"
   ]
  },
  {
   "cell_type": "code",
   "execution_count": 525,
   "metadata": {
    "colab": {
     "base_uri": "https://localhost:8080/"
    },
    "id": "ryp3ICueC7t3",
    "outputId": "567a87d3-1782-4929-9b61-16b5c73912a9"
   },
   "outputs": [
    {
     "data": {
      "text/plain": [
       "(1194284, 50)"
      ]
     },
     "execution_count": 525,
     "metadata": {},
     "output_type": "execute_result"
    }
   ],
   "source": [
    "embedding_matrix = emb_model_augmented.vectors\n",
    "embedding_matrix.shape"
   ]
  },
  {
   "cell_type": "markdown",
   "metadata": {
    "id": "0UUVw8lx-bRG"
   },
   "source": [
    "# Task 4: Model definition\n",
    "\n",
    "* Baseline: Implement a Bidirectional LSTM with a Dense layer on top.\n",
    "* Model 1: add an additional LSTM layer to the baseline model."
   ]
  },
  {
   "cell_type": "markdown",
   "metadata": {
    "id": "xpU6TmVd-bRG"
   },
   "source": [
    "### Baseline: Implement a Bidirectional LSTM with a Dense layer on top"
   ]
  },
  {
   "cell_type": "code",
   "execution_count": 526,
   "metadata": {
    "id": "QZCO79JTKy_4"
   },
   "outputs": [],
   "source": [
    "class BaselineModel(torch.nn.Module):\n",
    "    def __init__(self, embedding_model, hidden_dim, output_dim: int = 1, lstm_layers: int = 1, dropout: float = 0.3):\n",
    "        super().__init__()\n",
    "\n",
    "        self.hidden_dim = hidden_dim\n",
    "        self.lstm_layers = lstm_layers\n",
    "        self.hidden_dim = hidden_dim\n",
    "\n",
    "        self.word_embeddings = torch.nn.Embedding.from_pretrained(\n",
    "            embeddings=torch.from_numpy(embedding_model.vectors),\n",
    "            freeze=True,\n",
    "            padding_idx=embedding_model.get_index(detector.PAD_TOKEN)\n",
    "        )\n",
    "        self.lstm = torch.nn.LSTM(input_size=embedding_model.vector_size, hidden_size=hidden_dim, bidirectional=True, num_layers=lstm_layers, batch_first=True)\n",
    "        self.fc = torch.nn.Linear(in_features=2 * hidden_dim, out_features=output_dim)\n",
    "        self.dropout = torch.nn.Dropout(dropout)\n",
    "\n",
    "    def forward(self, inputs):\n",
    "        out = self.word_embeddings(inputs)\n",
    "        out, _ = self.lstm(out)\n",
    "        out = self.dropout(out)\n",
    "        out = torch.mean(out, dim=1)  # Average pooling over the seq len\n",
    "        out = self.fc(out)\n",
    "        return out"
   ]
  },
  {
   "cell_type": "markdown",
   "metadata": {
    "id": "xLeJwOVBKy_4"
   },
   "source": [
    "# Task 5: Training and Evaluation\n",
    "\n",
    "* Train **all** models on the train set.\n",
    "* Evaluate **all** models on the validation set.\n",
    "* Compute metrics on the validation set.\n",
    "* Pick **at least** three seeds for robust estimation.\n",
    "* Pick the **best** performing model according to the observed validation set performance.\n",
    "* Evaluate your models using macro F1-score."
   ]
  },
  {
   "cell_type": "code",
   "execution_count": 527,
   "metadata": {
    "id": "LPzmHJYBKy_5"
   },
   "outputs": [],
   "source": [
    "train_dloader = detector.get_dataloader(data=train, embedding_model=emb_model_augmented, type='train', batch_size=BATCH_SIZE, shuffle=True)\n",
    "val_dloader = detector.get_dataloader(data=val, embedding_model=emb_model_augmented, type='val', batch_size=BATCH_SIZE, shuffle=True)\n",
    "test_dloader = detector.get_dataloader(data=test, embedding_model=emb_model_augmented, type='test', batch_size=BATCH_SIZE, shuffle=False)"
   ]
  },
  {
   "cell_type": "markdown",
   "metadata": {},
   "source": [
    "Compute the class weight tensor to deal with the class imbalance in the dataset. This is important to have a good performance of the model since the model will learn to distinguish between the classes based on the class imbalance."
   ]
  },
  {
   "cell_type": "code",
   "execution_count": 528,
   "metadata": {},
   "outputs": [],
   "source": [
    "class_weights = compute_class_weight(class_weight='balanced', classes=np.unique(train['label']), y=train['label'])\n",
    "class_weights_tensor = torch.tensor(class_weights, dtype=torch.float32)"
   ]
  },
  {
   "cell_type": "markdown",
   "metadata": {
    "id": "cBXBJcKKKy_5"
   },
   "source": [
    "# Baseline Model"
   ]
  },
  {
   "cell_type": "code",
   "execution_count": null,
   "metadata": {
    "colab": {
     "base_uri": "https://localhost:8080/"
    },
    "id": "0VhF0XnbKy_5",
    "outputId": "d61e3439-4eee-43a1-cd6e-24450e34e41c"
   },
   "outputs": [],
   "source": [
    "baseline_model = BaselineModel(emb_model, hidden_dim=HIDDEN_DIM, output_dim=2, lstm_layers=1)\n",
    "baseline_model.to(device)"
   ]
  },
  {
   "cell_type": "code",
   "execution_count": null,
   "metadata": {
    "id": "DOgESCV0Ky_5"
   },
   "outputs": [],
   "source": [
    "history = pd.DataFrame(columns=['model', 'epoch', 'train_loss', 'val_loss', 'train_acc', 'val_acc', 'learning_rate'])"
   ]
  },
  {
   "cell_type": "code",
   "execution_count": null,
   "metadata": {
    "id": "vGYiMqpVKy_6"
   },
   "outputs": [],
   "source": [
    "loss_function = torch.nn.CrossEntropyLoss(\n",
    "    weight=class_weights_tensor.to(device), \n",
    "    ignore_index=emb_model_augmented.get_index(detector.PAD_TOKEN)\n",
    ")\n",
    "optimizer = torch.optim.AdamW(baseline_model.parameters(), lr=LEARNING_RATE, weight_decay=1e-5)\n",
    "scheduler = torch.optim.lr_scheduler.ReduceLROnPlateau(optimizer, mode='min', factor=0.1, patience=10)"
   ]
  },
  {
   "cell_type": "code",
   "execution_count": null,
   "metadata": {
    "id": "x-ldfLZqKy_6"
   },
   "outputs": [],
   "source": [
    "def train_model(\n",
    "        model: torch.nn.Module, \n",
    "        training_data: torch.utils.data.DataLoader, \n",
    "        validation_data: torch.utils.data.DataLoader, \n",
    "        loss_fn: torch.nn.Module, \n",
    "        optimizer: torch.optim.Optimizer, \n",
    "        scheduler: torch.optim.lr_scheduler.ReduceLROnPlateau, \n",
    "        num_epochs: int = 30, \n",
    "        name: str = 'baseline_lstm', \n",
    "        verbose: bool = True\n",
    "    ) -> torch.nn.Module:\n",
    "    \n",
    "    # Initialize parameters of Early stopping\n",
    "    best_val_loss = np.inf\n",
    "    best_model = None\n",
    "    best_model_epoch = 0\n",
    "    best_f1_score = 0\n",
    "\n",
    "    # Train the model\n",
    "    for epoch in range(num_epochs):\n",
    "        # Initialize the training variables for each epoch\n",
    "        train_correct = 0\n",
    "        train_total = 0\n",
    "\n",
    "        # Set the model to training mode\n",
    "        model.train()\n",
    "        # Iterate over the training data in batches\n",
    "        for batch in training_data:\n",
    "            # Get the inputs and labels\n",
    "            sentences, labels = batch\n",
    "\n",
    "            # Move the inputs and labels to the device (GPU)\n",
    "            sentences = sentences.to(device)\n",
    "            labels = labels.to(device)  # Labels should be integers for CrossEntropyLoss\n",
    "\n",
    "            # Zero grad the optimizer\n",
    "            optimizer.zero_grad()\n",
    "\n",
    "            # Forward pass\n",
    "            output = model(sentences)\n",
    "\n",
    "            # Compute the loss\n",
    "            loss = loss_fn(output, labels)\n",
    "\n",
    "            # Backward pass\n",
    "            loss.backward()\n",
    "\n",
    "            # Adjust learning weights\n",
    "            optimizer.step()\n",
    "\n",
    "            # Compute the accuracy\n",
    "            predicted = torch.argmax(output, dim=1)\n",
    "            train_total += labels.size(0)\n",
    "            train_correct += (predicted == labels).sum().item()\n",
    "\n",
    "        # Validation phase\n",
    "        model.eval()\n",
    "        final_val_loss = 0\n",
    "        val_correct = 0\n",
    "        val_total = 0\n",
    "\n",
    "        predicted_arr = []\n",
    "        labels_arr = []\n",
    "\n",
    "        with torch.no_grad():\n",
    "            for batch in validation_data:\n",
    "                sentence, labels = batch\n",
    "                sentence = sentence.to(device)\n",
    "                labels = labels.to(device)\n",
    "\n",
    "                output = model(sentence)\n",
    "                val_loss = loss_fn(output, labels)\n",
    "\n",
    "                final_val_loss += val_loss.item()\n",
    "\n",
    "                # Apply sigmoid to logits before thresholding\n",
    "                predicted = torch.argmax(output, dim=1)\n",
    "\n",
    "                val_total += labels.size(0)\n",
    "                val_correct += (predicted == labels).sum().item()\n",
    "\n",
    "                # Store predictions and true labels\n",
    "                predicted_arr.append(predicted)\n",
    "                labels_arr.append(labels)\n",
    "\n",
    "        # Concatenate tensors\n",
    "        predicted_arr = torch.cat(predicted_arr, dim=0).cpu().numpy()\n",
    "        labels_arr = torch.cat(labels_arr, dim=0).cpu().numpy()\n",
    "\n",
    "        # Compute the macro F1 score\n",
    "        f1 = f1_score(y_true=labels_arr, y_pred=predicted_arr, average='macro')\n",
    "\n",
    "        # Update the learning rate\n",
    "        scheduler.step(final_val_loss)\n",
    "\n",
    "        # Early stopping\n",
    "        if final_val_loss < best_val_loss:\n",
    "            best_val_loss = final_val_loss\n",
    "            best_model = copy.deepcopy(model.state_dict())\n",
    "            best_model_epoch = epoch\n",
    "            best_f1_score = f1\n",
    "\n",
    "        if verbose:\n",
    "            print(f\"Epoch {epoch + 1}/{num_epochs}\\tLoss: {loss.item():.4f}\\tAcc: {train_correct / train_total:.4f}\\tVal Loss: {final_val_loss:.4f}\\tVal Acc: {val_correct / val_total:.4f}\\tmacro_f1: {f1:.4f}\\tlr: {scheduler.get_last_lr()[0]:.7f}\")\n",
    "\n",
    "        # Save the history\n",
    "        history.loc[len(history)] = [name, epoch + 1, loss.item(), final_val_loss, train_correct / train_total, val_correct / val_total, scheduler.get_last_lr()[0]]\n",
    "\n",
    "    # Restore the best model\n",
    "    model.load_state_dict(best_model)\n",
    "    print(f\"Best model found at epoch {best_model_epoch + 1} with validation loss: {best_val_loss:.4f} and f1 sore: {best_f1_score:.4f}\")\n",
    "\n",
    "    # Save the best model\n",
    "    torch.save(model.state_dict(), detector.MODEL_FOLDER / 'baseline_lstm.pth')\n",
    "\n",
    "    return model"
   ]
  },
  {
   "cell_type": "code",
   "execution_count": null,
   "metadata": {
    "colab": {
     "base_uri": "https://localhost:8080/"
    },
    "id": "R7XSi-TkKy_7",
    "outputId": "ed8b6d6f-7d80-4ef7-867a-6cd974de0b89"
   },
   "outputs": [
    {
     "name": "stdout",
     "output_type": "stream",
     "text": [
      "Epoch 1/50\tLoss: 0.6893\tAcc: 0.6038\tVal Loss: 1.3819\tVal Acc: 0.6013\tmacro_f1: 0.5259\tlr: 0.0001000\n",
      "Epoch 2/50\tLoss: 0.6904\tAcc: 0.6118\tVal Loss: 1.3782\tVal Acc: 0.6013\tmacro_f1: 0.5954\tlr: 0.0001000\n",
      "Epoch 3/50\tLoss: 0.6885\tAcc: 0.5488\tVal Loss: 1.3656\tVal Acc: 0.5316\tmacro_f1: 0.5279\tlr: 0.0001000\n",
      "Epoch 4/50\tLoss: 0.6934\tAcc: 0.5641\tVal Loss: 1.3611\tVal Acc: 0.6139\tmacro_f1: 0.6135\tlr: 0.0001000\n",
      "Epoch 5/50\tLoss: 0.6802\tAcc: 0.5895\tVal Loss: 1.3407\tVal Acc: 0.5949\tmacro_f1: 0.5947\tlr: 0.0001000\n",
      "Epoch 6/50\tLoss: 0.6767\tAcc: 0.5756\tVal Loss: 1.3062\tVal Acc: 0.6266\tmacro_f1: 0.6262\tlr: 0.0001000\n",
      "Epoch 7/50\tLoss: 0.6491\tAcc: 0.6181\tVal Loss: 1.3033\tVal Acc: 0.6962\tmacro_f1: 0.6731\tlr: 0.0001000\n",
      "Epoch 8/50\tLoss: 0.6498\tAcc: 0.6693\tVal Loss: 1.1619\tVal Acc: 0.7215\tmacro_f1: 0.7003\tlr: 0.0001000\n",
      "Epoch 9/50\tLoss: 0.6163\tAcc: 0.6763\tVal Loss: 1.1715\tVal Acc: 0.6899\tmacro_f1: 0.6805\tlr: 0.0001000\n",
      "Epoch 10/50\tLoss: 0.6392\tAcc: 0.6780\tVal Loss: 1.1383\tVal Acc: 0.7089\tmacro_f1: 0.6910\tlr: 0.0001000\n",
      "Epoch 11/50\tLoss: 0.6593\tAcc: 0.6805\tVal Loss: 1.1486\tVal Acc: 0.7342\tmacro_f1: 0.7140\tlr: 0.0001000\n",
      "Epoch 12/50\tLoss: 0.5891\tAcc: 0.7000\tVal Loss: 1.0959\tVal Acc: 0.7215\tmacro_f1: 0.7080\tlr: 0.0001000\n",
      "Epoch 13/50\tLoss: 0.5785\tAcc: 0.7056\tVal Loss: 1.0325\tVal Acc: 0.7532\tmacro_f1: 0.7371\tlr: 0.0001000\n",
      "Epoch 14/50\tLoss: 0.4369\tAcc: 0.7160\tVal Loss: 1.0969\tVal Acc: 0.7025\tmacro_f1: 0.6949\tlr: 0.0001000\n",
      "Epoch 15/50\tLoss: 0.5379\tAcc: 0.6906\tVal Loss: 1.0982\tVal Acc: 0.7342\tmacro_f1: 0.7179\tlr: 0.0001000\n",
      "Epoch 16/50\tLoss: 0.6191\tAcc: 0.7167\tVal Loss: 1.1473\tVal Acc: 0.7532\tmacro_f1: 0.7245\tlr: 0.0001000\n",
      "Epoch 17/50\tLoss: 0.5694\tAcc: 0.7261\tVal Loss: 0.9861\tVal Acc: 0.7468\tmacro_f1: 0.7360\tlr: 0.0001000\n",
      "Epoch 18/50\tLoss: 0.5949\tAcc: 0.7394\tVal Loss: 1.2871\tVal Acc: 0.7215\tmacro_f1: 0.7125\tlr: 0.0001000\n",
      "Epoch 19/50\tLoss: 0.5382\tAcc: 0.7317\tVal Loss: 1.0475\tVal Acc: 0.7405\tmacro_f1: 0.7237\tlr: 0.0001000\n",
      "Epoch 20/50\tLoss: 0.5913\tAcc: 0.7425\tVal Loss: 1.0393\tVal Acc: 0.7215\tmacro_f1: 0.7160\tlr: 0.0001000\n",
      "Epoch 21/50\tLoss: 0.6508\tAcc: 0.7307\tVal Loss: 1.2056\tVal Acc: 0.7152\tmacro_f1: 0.7101\tlr: 0.0001000\n",
      "Epoch 22/50\tLoss: 0.5476\tAcc: 0.7362\tVal Loss: 0.9601\tVal Acc: 0.7342\tmacro_f1: 0.7256\tlr: 0.0001000\n",
      "Epoch 23/50\tLoss: 0.4924\tAcc: 0.7404\tVal Loss: 1.0202\tVal Acc: 0.7595\tmacro_f1: 0.7478\tlr: 0.0001000\n",
      "Epoch 24/50\tLoss: 0.6119\tAcc: 0.7293\tVal Loss: 1.1010\tVal Acc: 0.6899\tmacro_f1: 0.6889\tlr: 0.0001000\n",
      "Epoch 25/50\tLoss: 0.4889\tAcc: 0.7303\tVal Loss: 1.1214\tVal Acc: 0.7215\tmacro_f1: 0.7080\tlr: 0.0001000\n",
      "Epoch 26/50\tLoss: 0.4934\tAcc: 0.7460\tVal Loss: 1.1772\tVal Acc: 0.7405\tmacro_f1: 0.7237\tlr: 0.0001000\n",
      "Epoch 27/50\tLoss: 0.5589\tAcc: 0.7477\tVal Loss: 1.0539\tVal Acc: 0.7468\tmacro_f1: 0.7386\tlr: 0.0001000\n",
      "Epoch 28/50\tLoss: 0.4017\tAcc: 0.7355\tVal Loss: 1.1164\tVal Acc: 0.7342\tmacro_f1: 0.7256\tlr: 0.0001000\n",
      "Epoch 29/50\tLoss: 0.6859\tAcc: 0.7481\tVal Loss: 1.0230\tVal Acc: 0.7089\tmacro_f1: 0.7072\tlr: 0.0001000\n",
      "Epoch 30/50\tLoss: 0.5349\tAcc: 0.7341\tVal Loss: 1.2430\tVal Acc: 0.7278\tmacro_f1: 0.7230\tlr: 0.0001000\n",
      "Epoch 31/50\tLoss: 0.5732\tAcc: 0.7422\tVal Loss: 1.1389\tVal Acc: 0.7342\tmacro_f1: 0.7279\tlr: 0.0001000\n",
      "Epoch 32/50\tLoss: 0.4760\tAcc: 0.7589\tVal Loss: 0.9683\tVal Acc: 0.7342\tmacro_f1: 0.7196\tlr: 0.0001000\n",
      "Epoch 33/50\tLoss: 0.4883\tAcc: 0.7547\tVal Loss: 1.1611\tVal Acc: 0.7532\tmacro_f1: 0.7468\tlr: 0.0000100\n",
      "Epoch 34/50\tLoss: 0.5336\tAcc: 0.7561\tVal Loss: 1.1381\tVal Acc: 0.7595\tmacro_f1: 0.7538\tlr: 0.0000100\n",
      "Epoch 35/50\tLoss: 0.5785\tAcc: 0.7540\tVal Loss: 1.1993\tVal Acc: 0.7468\tmacro_f1: 0.7418\tlr: 0.0000100\n",
      "Epoch 36/50\tLoss: 0.4932\tAcc: 0.7547\tVal Loss: 1.1912\tVal Acc: 0.7595\tmacro_f1: 0.7538\tlr: 0.0000100\n",
      "Epoch 37/50\tLoss: 0.4756\tAcc: 0.7547\tVal Loss: 1.1656\tVal Acc: 0.7722\tmacro_f1: 0.7658\tlr: 0.0000100\n",
      "Epoch 38/50\tLoss: 0.6235\tAcc: 0.7540\tVal Loss: 1.0506\tVal Acc: 0.7532\tmacro_f1: 0.7478\tlr: 0.0000100\n",
      "Epoch 39/50\tLoss: 0.5988\tAcc: 0.7537\tVal Loss: 1.2268\tVal Acc: 0.7595\tmacro_f1: 0.7538\tlr: 0.0000100\n",
      "Epoch 40/50\tLoss: 0.5479\tAcc: 0.7561\tVal Loss: 1.1267\tVal Acc: 0.7658\tmacro_f1: 0.7598\tlr: 0.0000100\n",
      "Epoch 41/50\tLoss: 0.4765\tAcc: 0.7575\tVal Loss: 1.2525\tVal Acc: 0.7658\tmacro_f1: 0.7598\tlr: 0.0000100\n",
      "Epoch 42/50\tLoss: 0.5670\tAcc: 0.7578\tVal Loss: 1.0545\tVal Acc: 0.7722\tmacro_f1: 0.7648\tlr: 0.0000100\n",
      "Epoch 43/50\tLoss: 0.4982\tAcc: 0.7575\tVal Loss: 1.0257\tVal Acc: 0.7532\tmacro_f1: 0.7478\tlr: 0.0000100\n",
      "Epoch 44/50\tLoss: 0.4839\tAcc: 0.7551\tVal Loss: 1.0142\tVal Acc: 0.7785\tmacro_f1: 0.7708\tlr: 0.0000010\n",
      "Epoch 45/50\tLoss: 0.5244\tAcc: 0.7606\tVal Loss: 1.0899\tVal Acc: 0.7785\tmacro_f1: 0.7718\tlr: 0.0000010\n",
      "Epoch 46/50\tLoss: 0.5101\tAcc: 0.7582\tVal Loss: 1.0660\tVal Acc: 0.7722\tmacro_f1: 0.7658\tlr: 0.0000010\n",
      "Epoch 47/50\tLoss: 0.6892\tAcc: 0.7589\tVal Loss: 1.1409\tVal Acc: 0.7658\tmacro_f1: 0.7598\tlr: 0.0000010\n",
      "Epoch 48/50\tLoss: 0.6579\tAcc: 0.7596\tVal Loss: 1.0710\tVal Acc: 0.7658\tmacro_f1: 0.7598\tlr: 0.0000010\n",
      "Epoch 49/50\tLoss: 0.5304\tAcc: 0.7582\tVal Loss: 1.0761\tVal Acc: 0.7658\tmacro_f1: 0.7598\tlr: 0.0000010\n",
      "Epoch 50/50\tLoss: 0.6186\tAcc: 0.7582\tVal Loss: 1.1664\tVal Acc: 0.7658\tmacro_f1: 0.7598\tlr: 0.0000010\n",
      "Best model found at epoch 22 with validation loss: 0.9601 and f1 sore: 0.7256\n"
     ]
    }
   ],
   "source": [
    "history_baseline_model = train_model(baseline_model, train_dloader, val_dloader, loss_function, optimizer, scheduler, num_epochs=EPOCHS, name='baseline', verbose=True)"
   ]
  },
  {
   "cell_type": "code",
   "execution_count": null,
   "metadata": {
    "colab": {
     "base_uri": "https://localhost:8080/",
     "height": 507
    },
    "id": "rjID-z0GKy_7",
    "outputId": "eb08d905-b4cb-4b07-fb55-c7519f7e9be0"
   },
   "outputs": [
    {
     "data": {
      "image/png": "[encoded data removed]",
      "text/plain": [
       "<Figure size 1800x500 with 3 Axes>"
      ]
     },
     "metadata": {},
     "output_type": "display_data"
    }
   ],
   "source": [
    "fig, axes = plt.subplots(1, 3, figsize=(18, 5))\n",
    "\n",
    "baseline_model_name = history['model'] == 'baseline'\n",
    "\n",
    "history[baseline_model_name].plot(x='epoch', y=['train_loss', 'val_loss'], title='Loss', ax=axes[0])\n",
    "history[baseline_model_name].plot(x='epoch', y=['train_acc', 'val_acc'], title='Accuracy', ax=axes[1])\n",
    "history[baseline_model_name].plot(x='epoch', y='learning_rate', title='Learning Rate', ax=axes[2], logy=True)\n",
    "\n",
    "plt.tight_layout()\n",
    "plt.show()"
   ]
  },
  {
   "cell_type": "code",
   "execution_count": null,
   "metadata": {
    "colab": {
     "base_uri": "https://localhost:8080/"
    },
    "id": "RDczJU7uC7t6",
    "outputId": "9634aff7-5d98-476b-ff02-1223ece72bb8"
   },
   "outputs": [
    {
     "data": {
      "text/plain": [
       "28367"
      ]
     },
     "execution_count": 198,
     "metadata": {},
     "output_type": "execute_result"
    }
   ],
   "source": [
    "with torch.no_grad():\n",
    "    torch.cuda.empty_cache()\n",
    "\n",
    "gc.collect()"
   ]
  },
  {
   "cell_type": "markdown",
   "metadata": {
    "id": "nS5EXPDeKy_7"
   },
   "source": [
    "# Model 1"
   ]
  },
  {
   "cell_type": "code",
   "execution_count": null,
   "metadata": {
    "colab": {
     "base_uri": "https://localhost:8080/"
    },
    "id": "aRw48-ZsKy_8",
    "outputId": "0dbbc8dd-3910-497d-dafc-3d951d02edef"
   },
   "outputs": [
    {
     "data": {
      "text/plain": [
       "BaselineModel(\n",
       "  (word_embeddings): Embedding(1194284, 50, padding_idx=1194283)\n",
       "  (lstm): LSTM(50, 128, num_layers=2, batch_first=True, bidirectional=True)\n",
       "  (fc): Linear(in_features=256, out_features=2, bias=True)\n",
       "  (dropout): Dropout(p=0.3, inplace=False)\n",
       ")"
      ]
     },
     "execution_count": 199,
     "metadata": {},
     "output_type": "execute_result"
    }
   ],
   "source": [
    "model1 = BaselineModel(emb_model_augmented, hidden_dim=HIDDEN_DIM, lstm_layers=2, output_dim=2)\n",
    "model1.to(device)"
   ]
  },
  {
   "cell_type": "code",
   "execution_count": null,
   "metadata": {
    "id": "vXpnXKlpKy_8"
   },
   "outputs": [],
   "source": [
    "loss_function = torch.nn.CrossEntropyLoss(weight=class_weights_tensor)\n",
    "optimizer = torch.optim.AdamW(model1.parameters(), lr=LEARNING_RATE, weight_decay=1e-5)\n",
    "scheduler = torch.optim.lr_scheduler.ReduceLROnPlateau(optimizer, mode='min', factor=0.1, patience=10)"
   ]
  },
  {
   "cell_type": "code",
   "execution_count": null,
   "metadata": {
    "colab": {
     "base_uri": "https://localhost:8080/"
    },
    "id": "nju7RDDEKy_8",
    "outputId": "3b28395f-66fd-4568-97ff-c931de1c631c"
   },
   "outputs": [
    {
     "name": "stdout",
     "output_type": "stream",
     "text": [
      "Epoch 1/50\tLoss: 0.6936\tAcc: 0.4003\tVal Loss: 1.3828\tVal Acc: 0.5633\tmacro_f1: 0.5633\tlr: 0.0001000\n",
      "Epoch 2/50\tLoss: 0.6897\tAcc: 0.6153\tVal Loss: 1.3787\tVal Acc: 0.6582\tmacro_f1: 0.5622\tlr: 0.0001000\n",
      "Epoch 3/50\tLoss: 0.6925\tAcc: 0.6279\tVal Loss: 1.3686\tVal Acc: 0.6962\tmacro_f1: 0.6707\tlr: 0.0001000\n",
      "Epoch 4/50\tLoss: 0.6806\tAcc: 0.6003\tVal Loss: 1.3487\tVal Acc: 0.6203\tmacro_f1: 0.6202\tlr: 0.0001000\n",
      "Epoch 5/50\tLoss: 0.6519\tAcc: 0.5997\tVal Loss: 1.2628\tVal Acc: 0.6709\tmacro_f1: 0.6655\tlr: 0.0001000\n",
      "Epoch 6/50\tLoss: 0.6682\tAcc: 0.6460\tVal Loss: 1.1554\tVal Acc: 0.7089\tmacro_f1: 0.6994\tlr: 0.0001000\n",
      "Epoch 7/50\tLoss: 0.5722\tAcc: 0.6791\tVal Loss: 1.2318\tVal Acc: 0.7342\tmacro_f1: 0.7096\tlr: 0.0001000\n",
      "Epoch 8/50\tLoss: 0.6766\tAcc: 0.7101\tVal Loss: 1.1764\tVal Acc: 0.7405\tmacro_f1: 0.7381\tlr: 0.0001000\n",
      "Epoch 9/50\tLoss: 0.6910\tAcc: 0.7129\tVal Loss: 1.1684\tVal Acc: 0.7215\tmacro_f1: 0.6932\tlr: 0.0001000\n",
      "Epoch 10/50\tLoss: 0.4926\tAcc: 0.7303\tVal Loss: 1.0468\tVal Acc: 0.6962\tmacro_f1: 0.6958\tlr: 0.0001000\n",
      "Epoch 11/50\tLoss: 0.5919\tAcc: 0.7317\tVal Loss: 1.1683\tVal Acc: 0.7848\tmacro_f1: 0.7778\tlr: 0.0001000\n",
      "Epoch 12/50\tLoss: 0.5763\tAcc: 0.7369\tVal Loss: 1.0153\tVal Acc: 0.7468\tmacro_f1: 0.7435\tlr: 0.0001000\n",
      "Epoch 13/50\tLoss: 0.6276\tAcc: 0.7352\tVal Loss: 0.9674\tVal Acc: 0.7785\tmacro_f1: 0.7728\tlr: 0.0001000\n",
      "Epoch 14/50\tLoss: 0.6358\tAcc: 0.7376\tVal Loss: 1.0575\tVal Acc: 0.7848\tmacro_f1: 0.7778\tlr: 0.0001000\n",
      "Epoch 15/50\tLoss: 0.4911\tAcc: 0.7474\tVal Loss: 1.1032\tVal Acc: 0.7911\tmacro_f1: 0.7849\tlr: 0.0001000\n",
      "Epoch 16/50\tLoss: 0.5508\tAcc: 0.7523\tVal Loss: 0.9482\tVal Acc: 0.7468\tmacro_f1: 0.7442\tlr: 0.0001000\n",
      "Epoch 17/50\tLoss: 0.4496\tAcc: 0.7376\tVal Loss: 0.9896\tVal Acc: 0.7785\tmacro_f1: 0.7696\tlr: 0.0001000\n",
      "Epoch 18/50\tLoss: 0.4891\tAcc: 0.7453\tVal Loss: 0.9194\tVal Acc: 0.7342\tmacro_f1: 0.7335\tlr: 0.0001000\n",
      "Epoch 19/50\tLoss: 0.4945\tAcc: 0.7502\tVal Loss: 1.0299\tVal Acc: 0.7848\tmacro_f1: 0.7788\tlr: 0.0001000\n",
      "Epoch 20/50\tLoss: 0.5509\tAcc: 0.7540\tVal Loss: 1.0665\tVal Acc: 0.7658\tmacro_f1: 0.7624\tlr: 0.0001000\n",
      "Epoch 21/50\tLoss: 0.5152\tAcc: 0.7533\tVal Loss: 0.9994\tVal Acc: 0.7595\tmacro_f1: 0.7556\tlr: 0.0001000\n",
      "Epoch 22/50\tLoss: 0.5598\tAcc: 0.7564\tVal Loss: 0.9084\tVal Acc: 0.7722\tmacro_f1: 0.7658\tlr: 0.0001000\n",
      "Epoch 23/50\tLoss: 0.5187\tAcc: 0.7554\tVal Loss: 1.0102\tVal Acc: 0.7658\tmacro_f1: 0.7624\tlr: 0.0001000\n",
      "Epoch 24/50\tLoss: 0.4622\tAcc: 0.7617\tVal Loss: 1.0322\tVal Acc: 0.7785\tmacro_f1: 0.7745\tlr: 0.0001000\n",
      "Epoch 25/50\tLoss: 0.4996\tAcc: 0.7638\tVal Loss: 0.8377\tVal Acc: 0.7785\tmacro_f1: 0.7745\tlr: 0.0001000\n",
      "Epoch 26/50\tLoss: 0.5641\tAcc: 0.7624\tVal Loss: 0.8724\tVal Acc: 0.7532\tmacro_f1: 0.7524\tlr: 0.0001000\n",
      "Epoch 27/50\tLoss: 0.3771\tAcc: 0.7554\tVal Loss: 0.9566\tVal Acc: 0.7658\tmacro_f1: 0.7637\tlr: 0.0001000\n",
      "Epoch 28/50\tLoss: 0.6632\tAcc: 0.7599\tVal Loss: 1.1762\tVal Acc: 0.7722\tmacro_f1: 0.7698\tlr: 0.0001000\n",
      "Epoch 29/50\tLoss: 0.4863\tAcc: 0.7589\tVal Loss: 0.9192\tVal Acc: 0.7722\tmacro_f1: 0.7703\tlr: 0.0001000\n",
      "Epoch 30/50\tLoss: 0.4317\tAcc: 0.7676\tVal Loss: 0.9702\tVal Acc: 0.7722\tmacro_f1: 0.7708\tlr: 0.0001000\n",
      "Epoch 31/50\tLoss: 0.6856\tAcc: 0.7582\tVal Loss: 1.1049\tVal Acc: 0.7785\tmacro_f1: 0.7737\tlr: 0.0001000\n",
      "Epoch 32/50\tLoss: 0.4403\tAcc: 0.7652\tVal Loss: 0.8982\tVal Acc: 0.7785\tmacro_f1: 0.7759\tlr: 0.0001000\n",
      "Epoch 33/50\tLoss: 0.6221\tAcc: 0.7686\tVal Loss: 0.9336\tVal Acc: 0.7722\tmacro_f1: 0.7703\tlr: 0.0001000\n",
      "Epoch 34/50\tLoss: 0.5195\tAcc: 0.7697\tVal Loss: 1.1890\tVal Acc: 0.7468\tmacro_f1: 0.7462\tlr: 0.0001000\n",
      "Epoch 35/50\tLoss: 0.3812\tAcc: 0.7589\tVal Loss: 0.9996\tVal Acc: 0.7722\tmacro_f1: 0.7668\tlr: 0.0001000\n",
      "Epoch 36/50\tLoss: 0.4247\tAcc: 0.7725\tVal Loss: 1.0654\tVal Acc: 0.7722\tmacro_f1: 0.7676\tlr: 0.0000100\n",
      "Epoch 37/50\tLoss: 0.4459\tAcc: 0.7746\tVal Loss: 1.1939\tVal Acc: 0.7658\tmacro_f1: 0.7631\tlr: 0.0000100\n",
      "Epoch 38/50\tLoss: 0.5098\tAcc: 0.7749\tVal Loss: 1.1060\tVal Acc: 0.7722\tmacro_f1: 0.7692\tlr: 0.0000100\n",
      "Epoch 39/50\tLoss: 0.5215\tAcc: 0.7777\tVal Loss: 0.8983\tVal Acc: 0.7658\tmacro_f1: 0.7631\tlr: 0.0000100\n",
      "Epoch 40/50\tLoss: 0.4345\tAcc: 0.7774\tVal Loss: 0.9912\tVal Acc: 0.7722\tmacro_f1: 0.7692\tlr: 0.0000100\n",
      "Epoch 41/50\tLoss: 0.3622\tAcc: 0.7791\tVal Loss: 1.1950\tVal Acc: 0.7722\tmacro_f1: 0.7692\tlr: 0.0000100\n",
      "Epoch 42/50\tLoss: 0.6281\tAcc: 0.7787\tVal Loss: 0.9688\tVal Acc: 0.7722\tmacro_f1: 0.7692\tlr: 0.0000100\n",
      "Epoch 43/50\tLoss: 0.4645\tAcc: 0.7767\tVal Loss: 1.1019\tVal Acc: 0.7722\tmacro_f1: 0.7692\tlr: 0.0000100\n",
      "Epoch 44/50\tLoss: 0.4049\tAcc: 0.7787\tVal Loss: 0.8850\tVal Acc: 0.7785\tmacro_f1: 0.7752\tlr: 0.0000100\n",
      "Epoch 45/50\tLoss: 0.5089\tAcc: 0.7760\tVal Loss: 0.8934\tVal Acc: 0.7785\tmacro_f1: 0.7752\tlr: 0.0000100\n",
      "Epoch 46/50\tLoss: 0.4929\tAcc: 0.7746\tVal Loss: 1.0392\tVal Acc: 0.7722\tmacro_f1: 0.7684\tlr: 0.0000100\n",
      "Epoch 47/50\tLoss: 0.4391\tAcc: 0.7753\tVal Loss: 1.1007\tVal Acc: 0.7785\tmacro_f1: 0.7745\tlr: 0.0000010\n",
      "Epoch 48/50\tLoss: 0.5381\tAcc: 0.7801\tVal Loss: 0.9636\tVal Acc: 0.7722\tmacro_f1: 0.7684\tlr: 0.0000010\n",
      "Epoch 49/50\tLoss: 0.4716\tAcc: 0.7812\tVal Loss: 0.9032\tVal Acc: 0.7785\tmacro_f1: 0.7752\tlr: 0.0000010\n",
      "Epoch 50/50\tLoss: 0.4605\tAcc: 0.7787\tVal Loss: 0.9477\tVal Acc: 0.7785\tmacro_f1: 0.7752\tlr: 0.0000010\n",
      "Best model found at epoch 25 with validation loss: 0.8377 and f1 sore: 0.7745\n"
     ]
    }
   ],
   "source": [
    "history_model1 = train_model(model1, train_dloader, val_dloader, loss_function, optimizer, scheduler, num_epochs=EPOCHS, name='model1', verbose=True)"
   ]
  },
  {
   "cell_type": "code",
   "execution_count": null,
   "metadata": {
    "colab": {
     "base_uri": "https://localhost:8080/",
     "height": 507
    },
    "id": "WrHRmdGdKy_8",
    "outputId": "0d6ccbc6-094c-43f9-9cbf-68cdb2d51752"
   },
   "outputs": [
    {
     "data": {
      "image/png": "[encoded data removed]",
      "text/plain": [
       "<Figure size 1800x500 with 3 Axes>"
      ]
     },
     "metadata": {},
     "output_type": "display_data"
    }
   ],
   "source": [
    "fig, axes = plt.subplots(1, 3, figsize=(18, 5))\n",
    "\n",
    "baseline_model_name = history['model'] == 'model1'\n",
    "\n",
    "history[baseline_model_name].plot(x='epoch', y=['train_loss', 'val_loss'], title='Loss', ax=axes[0])\n",
    "history[baseline_model_name].plot(x='epoch', y=['train_acc', 'val_acc'], title='Accuracy', ax=axes[1])\n",
    "history[baseline_model_name].plot(x='epoch', y='learning_rate', title='Learning Rate', ax=axes[2], logy=True)\n",
    "\n",
    "plt.tight_layout()\n",
    "plt.show()"
   ]
  },
  {
   "cell_type": "code",
   "execution_count": 529,
   "metadata": {
    "colab": {
     "base_uri": "https://localhost:8080/"
    },
    "id": "ZvbJU5ZeC7t7",
    "outputId": "1ac1e65e-5718-40a4-b142-ef0d32326af3"
   },
   "outputs": [
    {
     "data": {
      "text/plain": [
       "64"
      ]
     },
     "execution_count": 529,
     "metadata": {},
     "output_type": "execute_result"
    }
   ],
   "source": [
    "with torch.no_grad():\n",
    "    torch.cuda.empty_cache()\n",
    "\n",
    "gc.collect()"
   ]
  },
  {
   "cell_type": "markdown",
   "metadata": {
    "id": "_849c_EG-bRK"
   },
   "source": [
    "# Task 6: Transformers\n",
    "\n",
    "https://huggingface.co/cardiffnlp/twitter-roberta-base-hate"
   ]
  },
  {
   "cell_type": "markdown",
   "metadata": {
    "id": "eAAOAuYAKy_9"
   },
   "source": [
    "1. **Load the Tokenizer and Model**\n",
    "\n",
    "2. **Preprocess the Dataset**:\n",
    "   You will need to preprocess your dataset to prepare it for input into the model. Tokenize your text data using the appropriate tokenizer and ensure it is formatted correctly.\n",
    "\n",
    "   **Note**: You have to use the plain text of the dataset and not the version that you tokenized before, as you need to tokenize the cleaned text obtained after the initial cleaning process.\n",
    "\n",
    "3. **Train the Model**:\n",
    "   Use the `Trainer` to train the model on your training data.\n",
    "\n",
    "4. **Evaluate the Model on the Test Set** using F1-macro."
   ]
  },
  {
   "cell_type": "code",
   "execution_count": 624,
   "metadata": {
    "colab": {
     "base_uri": "https://localhost:8080/"
    },
    "id": "bn7tGuv7C7t7",
    "outputId": "63d9a218-94cd-4b02-8c0f-76c9ddc5bf2a"
   },
   "outputs": [
    {
     "data": {
      "text/plain": [
       "3306"
      ]
     },
     "execution_count": 624,
     "metadata": {},
     "output_type": "execute_result"
    }
   ],
   "source": [
    "with torch.no_grad():\n",
    "    torch.cuda.empty_cache()\n",
    "\n",
    "gc.collect()"
   ]
  },
  {
   "cell_type": "code",
   "execution_count": 625,
   "metadata": {
    "id": "wmyoK7ToKy_9"
   },
   "outputs": [],
   "source": [
    "model_card = 'cardiffnlp/twitter-roberta-base-hate'\n",
    "\n",
    "tokenizer = AutoTokenizer.from_pretrained(model_card)"
   ]
  },
  {
   "cell_type": "code",
   "execution_count": 626,
   "metadata": {
    "id": "Xm9q59AUKy_-"
   },
   "outputs": [],
   "source": [
    "train_data = Dataset.from_pandas(train)\n",
    "val_data = Dataset.from_pandas(val)\n",
    "test_data = Dataset.from_pandas(test)"
   ]
  },
  {
   "cell_type": "code",
   "execution_count": 627,
   "metadata": {
    "id": "zUaTGLO3Ky_-"
   },
   "outputs": [],
   "source": [
    "def preprocess_text(texts):\n",
    "    return tokenizer(texts['tweet']) # TODO: truncation to max length based on average length?"
   ]
  },
  {
   "cell_type": "code",
   "execution_count": 628,
   "metadata": {
    "colab": {
     "base_uri": "https://localhost:8080/",
     "height": 130,
     "referenced_widgets": [
      "ad2fdbff9bb94a428d4d9bba26a9227a",
      "f3f07832d759492fbbbb8b122358421d",
      "d9f8ee15420a4fab9b2e458344c0393b",
      "3ac29ea09e5c4f8db9657e56a1d12a6c",
      "4312146943be4263a594c15a0df095a1",
      "e314abf17ead42158468f5d0847f25cd",
      "392b67ddfb28405997e480da9608c65f",
      "a678740f297846a9ba51343ef9acccb7",
      "a501948a177942118b9b9f0bdfdd92b6",
      "a360ce1b71c74c569d5d16b818e15d10",
      "ed24a4a107564712b5239f68fe8b807f",
      "14d960b7685f4c24af674b53167820c0",
      "14022f99a32c4f5eb2a60adde2157e2c",
      "e7ec1d78fc9349e780b4c67aef084c81",
      "76e3d0f5fad6467d8ecde4d8d2b28a73",
      "99ae46da3b984572a92a4031f36ec845",
      "d160fc03521b429e9c6a2f71978f5697",
      "0fd8d961f74940998a6dcadd9ca11020",
      "010af9ad50c342aa8ffd390913656783",
      "37f6e3a55fae4e89b226d65799c056ae",
      "dfb7f13e3f104a0292e083a58fa39623",
      "a0740bcd833f480cb5b80b66176ee355",
      "4c6bc25ec6fe43449db337905e28f7a8",
      "41913e5ec0fd471fb19467573ed0c4c8",
      "baec7636b03b400284fc84d2dd0f059f",
      "67a557cd7c8141a3a3e004703bc853df",
      "d17b118594574bdcae63d547485ee16b",
      "6164ba82b8ab4195bf77e0db1c3d4e54",
      "d92a05827a4f4617a01a029eebdb2e4b",
      "9b749ee0bea046a0bd2569f95dd3629e",
      "78395c4346574282b7b3e7dfaca0f4ee",
      "8df32711e7c340ccbf3d92d65f981421",
      "dcaa7a024ddb4c19b25b6ad837e8f278"
     ]
    },
    "id": "9iUuHtPkKy_-",
    "outputId": "4343d55e-6735-4572-8e98-dbee19645da9"
   },
   "outputs": [
    {
     "data": {
      "application/vnd.jupyter.widget-view+json": {
       "model_id": "d42fc9ddfa354306a38a9f41f7b743d5",
       "version_major": 2,
       "version_minor": 0
      },
      "text/plain": [
       "Map:   0%|          | 0/2870 [00:00<?, ? examples/s]"
      ]
     },
     "metadata": {},
     "output_type": "display_data"
    },
    {
     "data": {
      "application/vnd.jupyter.widget-view+json": {
       "model_id": "b7aabf54cb2c40e8810874433a49ecab",
       "version_major": 2,
       "version_minor": 0
      },
      "text/plain": [
       "Map:   0%|          | 0/158 [00:00<?, ? examples/s]"
      ]
     },
     "metadata": {},
     "output_type": "display_data"
    },
    {
     "data": {
      "application/vnd.jupyter.widget-view+json": {
       "model_id": "867558136a0043a080f032811f00b0e2",
       "version_major": 2,
       "version_minor": 0
      },
      "text/plain": [
       "Map:   0%|          | 0/286 [00:00<?, ? examples/s]"
      ]
     },
     "metadata": {},
     "output_type": "display_data"
    }
   ],
   "source": [
    "train_data = train_data.map(preprocess_text, batched=True)\n",
    "val_data = val_data.map(preprocess_text, batched=True)\n",
    "test_data = test_data.map(preprocess_text, batched=True)"
   ]
  },
  {
   "cell_type": "code",
   "execution_count": 629,
   "metadata": {
    "colab": {
     "base_uri": "https://localhost:8080/"
    },
    "id": "ul9uJW1NKy__",
    "outputId": "eeed6c9e-68bc-4c28-cf0f-88ab8f928f01"
   },
   "outputs": [
    {
     "name": "stdout",
     "output_type": "stream",
     "text": [
      "Dataset({\n",
      "    features: ['id_EXIST', 'lang', 'tweet', 'label', '__index_level_0__', 'input_ids', 'attention_mask'],\n",
      "    num_rows: 2870\n",
      "})\n",
      "Dataset({\n",
      "    features: ['id_EXIST', 'lang', 'tweet', 'label', '__index_level_0__', 'input_ids', 'attention_mask'],\n",
      "    num_rows: 286\n",
      "})\n"
     ]
    }
   ],
   "source": [
    "print(train_data)\n",
    "print(test_data)"
   ]
  },
  {
   "cell_type": "code",
   "execution_count": 630,
   "metadata": {
    "colab": {
     "base_uri": "https://localhost:8080/"
    },
    "id": "A9KE0IjCKy__",
    "outputId": "abac0cbc-10e4-4209-d8b0-fb4bbd7c5273"
   },
   "outputs": [
    {
     "name": "stdout",
     "output_type": "stream",
     "text": [
      "<user> i get it <repeat> kind of <number> of woman are going after about <number> of men and ignoring the rest according to statistic of <number> dating apps so that s a pain point for some men but is hating woman really a main component to being an incel and what s the difference between mgtow and incel\n",
      "\n",
      "\n",
      "<s><user> i get it <repeat> kind of <number> of woman are going after about <number> of men and ignoring the rest according to statistic of <number> dating apps so that s a pain point for some men but is hating woman really a main component to being an incel and what s the difference between mgtow and incel</s>\n"
     ]
    }
   ],
   "source": [
    "original_text = train_data['tweet'][50]\n",
    "decoded_text = tokenizer.decode(train_data['input_ids'][50])\n",
    "print(original_text)\n",
    "print()\n",
    "print()\n",
    "print(decoded_text)"
   ]
  },
  {
   "cell_type": "code",
   "execution_count": 631,
   "metadata": {
    "id": "UirlsPDnKy__"
   },
   "outputs": [
    {
     "name": "stderr",
     "output_type": "stream",
     "text": [
      "huggingface/tokenizers: The current process just got forked, after parallelism has already been used. Disabling parallelism to avoid deadlocks...\n",
      "To disable this warning, you can either:\n",
      "\t- Avoid using `tokenizers` before the fork if possible\n",
      "\t- Explicitly set the environment variable TOKENIZERS_PARALLELISM=(true | false)\n"
     ]
    }
   ],
   "source": [
    "model = AutoModelForSequenceClassification.from_pretrained(model_card,\n",
    "                                                           num_labels=2,\n",
    "                                                           id2label={0: 'NEG', 1: 'POS'},\n",
    "                                                           label2id={'NEG': 0, 'POS': 1})"
   ]
  },
  {
   "cell_type": "code",
   "execution_count": 632,
   "metadata": {},
   "outputs": [],
   "source": [
    "data_collator = DataCollatorWithPadding(tokenizer=tokenizer)"
   ]
  },
  {
   "cell_type": "code",
   "execution_count": 633,
   "metadata": {
    "colab": {
     "base_uri": "https://localhost:8080/"
    },
    "id": "CL2HAsspKzAA",
    "outputId": "5c7d15ce-e7ef-4d40-da95-8d594ac1e932"
   },
   "outputs": [
    {
     "name": "stdout",
     "output_type": "stream",
     "text": [
      "RobertaForSequenceClassification(\n",
      "  (roberta): RobertaModel(\n",
      "    (embeddings): RobertaEmbeddings(\n",
      "      (word_embeddings): Embedding(50265, 768, padding_idx=1)\n",
      "      (position_embeddings): Embedding(514, 768, padding_idx=1)\n",
      "      (token_type_embeddings): Embedding(1, 768)\n",
      "      (LayerNorm): LayerNorm((768,), eps=1e-05, elementwise_affine=True)\n",
      "      (dropout): Dropout(p=0.1, inplace=False)\n",
      "    )\n",
      "    (encoder): RobertaEncoder(\n",
      "      (layer): ModuleList(\n",
      "        (0-11): 12 x RobertaLayer(\n",
      "          (attention): RobertaAttention(\n",
      "            (self): RobertaSdpaSelfAttention(\n",
      "              (query): Linear(in_features=768, out_features=768, bias=True)\n",
      "              (key): Linear(in_features=768, out_features=768, bias=True)\n",
      "              (value): Linear(in_features=768, out_features=768, bias=True)\n",
      "              (dropout): Dropout(p=0.1, inplace=False)\n",
      "            )\n",
      "            (output): RobertaSelfOutput(\n",
      "              (dense): Linear(in_features=768, out_features=768, bias=True)\n",
      "              (LayerNorm): LayerNorm((768,), eps=1e-05, elementwise_affine=True)\n",
      "              (dropout): Dropout(p=0.1, inplace=False)\n",
      "            )\n",
      "          )\n",
      "          (intermediate): RobertaIntermediate(\n",
      "            (dense): Linear(in_features=768, out_features=3072, bias=True)\n",
      "            (intermediate_act_fn): GELUActivation()\n",
      "          )\n",
      "          (output): RobertaOutput(\n",
      "            (dense): Linear(in_features=3072, out_features=768, bias=True)\n",
      "            (LayerNorm): LayerNorm((768,), eps=1e-05, elementwise_affine=True)\n",
      "            (dropout): Dropout(p=0.1, inplace=False)\n",
      "          )\n",
      "        )\n",
      "      )\n",
      "    )\n",
      "  )\n",
      "  (classifier): RobertaClassificationHead(\n",
      "    (dense): Linear(in_features=768, out_features=768, bias=True)\n",
      "    (dropout): Dropout(p=0.1, inplace=False)\n",
      "    (out_proj): Linear(in_features=768, out_features=2, bias=True)\n",
      "  )\n",
      ")\n"
     ]
    }
   ],
   "source": [
    "print(model)"
   ]
  },
  {
   "cell_type": "code",
   "execution_count": 634,
   "metadata": {
    "id": "vIGH8YkjKzAA"
   },
   "outputs": [],
   "source": [
    "acc_metric = evaluate.load('accuracy')\n",
    "f1_metric = evaluate.load('f1')\n",
    "precision_metric = evaluate.load(\"precision\")\n",
    "recall_metric = evaluate.load(\"recall\")\n",
    "confusion_matrix_metric = evaluate.load(\"confusion_matrix\")\n",
    "\n",
    "def compute_metrics(output_info):\n",
    "    predictions, labels = output_info\n",
    "    predictions = np.argmax(predictions, axis=-1)\n",
    "\n",
    "    f1 = f1_metric.compute(predictions=predictions, references=labels, average='macro')\n",
    "    acc = acc_metric.compute(predictions=predictions, references=labels)\n",
    "    precision = precision_metric.compute(predictions=predictions, references=labels, average='macro')\n",
    "    recall = recall_metric.compute(predictions=predictions, references=labels, average='macro')\n",
    "    confusion_matrix = confusion_matrix_metric.compute(predictions=predictions, references=labels)\n",
    "\n",
    "    return {**f1, **acc, **precision, **recall}"
   ]
  },
  {
   "cell_type": "code",
   "execution_count": 635,
   "metadata": {
    "id": "SsahfUD4KzAA"
   },
   "outputs": [],
   "source": [
    "training_args = TrainingArguments(\n",
    "    output_dir=\"models\",                 # where to save model\n",
    "    learning_rate=5e-6,\n",
    "    per_device_train_batch_size=BATCH_SIZE,         # accelerate defines distributed training\n",
    "    per_device_eval_batch_size=BATCH_SIZE,\n",
    "    num_train_epochs=10,\n",
    "    weight_decay=1e-5,\n",
    "    eval_strategy=\"epoch\",           # when to report evaluation metrics/losses\n",
    "    save_strategy=\"epoch\",                 # when to save checkpoint\n",
    "    load_best_model_at_end=True,\n",
    "    report_to='none',                    # disabling wandb (default)\n",
    "    seed=detector.SEED,\n",
    "    data_seed=detector.SEED\n",
    ")"
   ]
  },
  {
   "cell_type": "markdown",
   "metadata": {
    "id": "tpCUtCq0C7t9"
   },
   "source": [
    "Since we know that there is a slightly imbalance in the dataset labels, instead of using the default Trainer class of HuggingFace, we can write a custom class inheriting from the Trainer class and override the `compute_loss` method to compute the loss with the class weights computed from the dataset labels. In this way the loss function will take into account the imbalance in the dataset labels and will give more importance to the minority class. The impact of this change is that the F1 and accuracy scores will be more similar to each other since the model will be trained to give more importance to the minority class w.r.t. the majority class."
   ]
  },
  {
   "cell_type": "code",
   "execution_count": 636,
   "metadata": {
    "id": "Fi3PKUPbC7t9"
   },
   "outputs": [],
   "source": [
    "# Taken from https://github.com/huggingface/transformers/blob/main/src/transformers/trainer.py#L3700 (with some minor changes removing useless parts)\n",
    "class CustomTrainer(Trainer):\n",
    "    def __init__(self, class_weights, *args, **kwargs):\n",
    "        super().__init__(*args, **kwargs)\n",
    "        # You pass the class weights when instantiating the Trainer\n",
    "        self.class_weights = class_weights\n",
    "\n",
    "    def compute_loss(self, model, inputs, return_outputs=False, num_items_in_batch=None):\n",
    "        if self.label_smoother is not None and \"labels\" in inputs:\n",
    "            labels = inputs.pop(\"labels\")\n",
    "        else:\n",
    "            labels = None\n",
    "        outputs = model(**inputs)\n",
    "        # Save past state if it exists\n",
    "        # TODO: this needs to be fixed and made cleaner later.\n",
    "        if self.args.past_index >= 0:\n",
    "            self._past = outputs[self.args.past_index]\n",
    "\n",
    "        if labels is not None:\n",
    "            loss = self.label_smoother(outputs, labels)\n",
    "        else:\n",
    "            # We don't use .loss here since the model may return tuples instead of ModelOutput.\n",
    "\n",
    "            # Do not\n",
    "            # loss = outputs[\"loss\"] if isinstance(outputs, dict) else outputs[0]\n",
    "            logits = outputs.get('logits')\n",
    "            criterion = torch.nn.CrossEntropyLoss(weight=self.class_weights.to(device))\n",
    "            loss = criterion(logits, inputs['labels'])\n",
    "\n",
    "        return (loss, outputs) if return_outputs else loss"
   ]
  },
  {
   "cell_type": "code",
   "execution_count": 637,
   "metadata": {
    "colab": {
     "base_uri": "https://localhost:8080/",
     "height": 391
    },
    "id": "FthvNMvOKzAA",
    "outputId": "c95c28ec-d486-4725-e168-b1150a28f391"
   },
   "outputs": [],
   "source": [
    "trainer = CustomTrainer(\n",
    "    model=model,\n",
    "    args=training_args,\n",
    "    train_dataset=train_data,\n",
    "    eval_dataset=test_data,\n",
    "    processing_class=tokenizer,\n",
    "    data_collator=data_collator,\n",
    "    compute_metrics=compute_metrics,\n",
    "    class_weights=class_weights_tensor,\n",
    ")"
   ]
  },
  {
   "cell_type": "code",
   "execution_count": 638,
   "metadata": {
    "id": "3jGdDKRJKzAA"
   },
   "outputs": [
    {
     "data": {
      "text/html": [
       "\n",
       "    <div>\n",
       "      \n",
       "      <progress value='450' max='450' style='width:300px; height:20px; vertical-align: middle;'></progress>\n",
       "      [450/450 02:45, Epoch 10/10]\n",
       "    </div>\n",
       "    <table border=\"1\" class=\"dataframe\">\n",
       "  <thead>\n",
       " <tr style=\"text-align: left;\">\n",
       "      <th>Epoch</th>\n",
       "      <th>Training Loss</th>\n",
       "      <th>Validation Loss</th>\n",
       "      <th>F1</th>\n",
       "      <th>Accuracy</th>\n",
       "      <th>Precision</th>\n",
       "      <th>Recall</th>\n",
       "    </tr>\n",
       "  </thead>\n",
       "  <tbody>\n",
       "    <tr>\n",
       "      <td>1</td>\n",
       "      <td>No log</td>\n",
       "      <td>0.406985</td>\n",
       "      <td>0.807671</td>\n",
       "      <td>0.807692</td>\n",
       "      <td>0.816546</td>\n",
       "      <td>0.818006</td>\n",
       "    </tr>\n",
       "    <tr>\n",
       "      <td>2</td>\n",
       "      <td>No log</td>\n",
       "      <td>0.379207</td>\n",
       "      <td>0.820518</td>\n",
       "      <td>0.821678</td>\n",
       "      <td>0.819747</td>\n",
       "      <td>0.823760</td>\n",
       "    </tr>\n",
       "    <tr>\n",
       "      <td>3</td>\n",
       "      <td>No log</td>\n",
       "      <td>0.367721</td>\n",
       "      <td>0.838203</td>\n",
       "      <td>0.839161</td>\n",
       "      <td>0.837495</td>\n",
       "      <td>0.841915</td>\n",
       "    </tr>\n",
       "    <tr>\n",
       "      <td>4</td>\n",
       "      <td>No log</td>\n",
       "      <td>0.367195</td>\n",
       "      <td>0.848088</td>\n",
       "      <td>0.849650</td>\n",
       "      <td>0.847107</td>\n",
       "      <td>0.849603</td>\n",
       "    </tr>\n",
       "    <tr>\n",
       "      <td>5</td>\n",
       "      <td>No log</td>\n",
       "      <td>0.367896</td>\n",
       "      <td>0.837821</td>\n",
       "      <td>0.839161</td>\n",
       "      <td>0.836754</td>\n",
       "      <td>0.840228</td>\n",
       "    </tr>\n",
       "    <tr>\n",
       "      <td>6</td>\n",
       "      <td>No log</td>\n",
       "      <td>0.359647</td>\n",
       "      <td>0.848672</td>\n",
       "      <td>0.849650</td>\n",
       "      <td>0.847769</td>\n",
       "      <td>0.852133</td>\n",
       "    </tr>\n",
       "    <tr>\n",
       "      <td>7</td>\n",
       "      <td>No log</td>\n",
       "      <td>0.364451</td>\n",
       "      <td>0.848493</td>\n",
       "      <td>0.849650</td>\n",
       "      <td>0.847412</td>\n",
       "      <td>0.851290</td>\n",
       "    </tr>\n",
       "    <tr>\n",
       "      <td>8</td>\n",
       "      <td>No log</td>\n",
       "      <td>0.362362</td>\n",
       "      <td>0.848493</td>\n",
       "      <td>0.849650</td>\n",
       "      <td>0.847412</td>\n",
       "      <td>0.851290</td>\n",
       "    </tr>\n",
       "    <tr>\n",
       "      <td>9</td>\n",
       "      <td>No log</td>\n",
       "      <td>0.366038</td>\n",
       "      <td>0.848298</td>\n",
       "      <td>0.849650</td>\n",
       "      <td>0.847192</td>\n",
       "      <td>0.850446</td>\n",
       "    </tr>\n",
       "    <tr>\n",
       "      <td>10</td>\n",
       "      <td>No log</td>\n",
       "      <td>0.365644</td>\n",
       "      <td>0.848298</td>\n",
       "      <td>0.849650</td>\n",
       "      <td>0.847192</td>\n",
       "      <td>0.850446</td>\n",
       "    </tr>\n",
       "  </tbody>\n",
       "</table><p>"
      ],
      "text/plain": [
       "<IPython.core.display.HTML object>"
      ]
     },
     "metadata": {},
     "output_type": "display_data"
    },
    {
     "data": {
      "text/plain": [
       "TrainOutput(global_step=450, training_loss=0.3045474921332465, metrics={'train_runtime': 165.9851, 'train_samples_per_second': 172.907, 'train_steps_per_second': 2.711, 'total_flos': 1400785786518120.0, 'train_loss': 0.3045474921332465, 'epoch': 10.0})"
      ]
     },
     "execution_count": 638,
     "metadata": {},
     "output_type": "execute_result"
    }
   ],
   "source": [
    "trainer.train()"
   ]
  },
  {
   "cell_type": "code",
   "execution_count": 641,
   "metadata": {
    "id": "ZcGc6SmaC7t-",
    "outputId": "4a2ee065-6c33-471d-fc9a-53e4cea5b184"
   },
   "outputs": [
    {
     "data": {
      "text/html": [
       "\n",
       "    <div>\n",
       "      \n",
       "      <progress value='1' max='5' style='width:300px; height:20px; vertical-align: middle;'></progress>\n",
       "      [1/5 : < :]\n",
       "    </div>\n",
       "    "
      ],
      "text/plain": [
       "<IPython.core.display.HTML object>"
      ]
     },
     "metadata": {},
     "output_type": "display_data"
    },
    {
     "name": "stdout",
     "output_type": "stream",
     "text": [
      "(286, 2)\n",
      "(286,)\n"
     ]
    }
   ],
   "source": [
    "test_prediction_info = trainer.predict(test_data)\n",
    "test_predictions, test_labels = test_prediction_info.predictions, test_prediction_info.label_ids\n",
    "\n",
    "print(test_predictions.shape)\n",
    "print(test_labels.shape)"
   ]
  },
  {
   "cell_type": "code",
   "execution_count": 642,
   "metadata": {
    "id": "B2SzjtFbC7t-",
    "outputId": "51f3a0d9-e0e3-4494-9839-575e12013f8f"
   },
   "outputs": [
    {
     "name": "stdout",
     "output_type": "stream",
     "text": [
      "{'f1': 0.8486716625444523, 'accuracy': 0.8496503496503497, 'precision': 0.8477685788468133, 'recall': 0.8521329365079365}\n"
     ]
    }
   ],
   "source": [
    "test_metrics = compute_metrics([test_predictions, test_labels])\n",
    "print(test_metrics)"
   ]
  },
  {
   "cell_type": "markdown",
   "metadata": {
    "id": "qoCoBkHN-bRK"
   },
   "source": [
    "# Task 7: Error Analysis\n",
    "\n",
    "After evaluating the model, perform a brief error analysis:\n",
    "\n",
    " - Review the results and identify common errors.\n",
    "\n",
    " - Summarize your findings regarding the errors and their impact on performance (e.g. but not limited to Out-of-Vocabulary (OOV) words, data imbalance, and performance differences between the custom model and the transformer...)\n",
    " - Suggest possible solutions to address the identified errors."
   ]
  },
  {
   "cell_type": "markdown",
   "metadata": {},
   "source": [
    "Confusion Matrix"
   ]
  },
  {
   "cell_type": "code",
   "execution_count": null,
   "metadata": {},
   "outputs": [
    {
     "data": {
      "image/png": "[encoded data removed]",
      "text/plain": [
       "<Figure size 640x480 with 2 Axes>"
      ]
     },
     "metadata": {},
     "output_type": "display_data"
    }
   ],
   "source": [
    "from sklearn.metrics import confusion_matrix, ConfusionMatrixDisplay, PrecisionRecallDisplay\n",
    "\n",
    "cm = confusion_matrix(y_true=test_labels, y_pred=np.argmax(test_predictions, axis=-1))\n",
    "disp = ConfusionMatrixDisplay(confusion_matrix=cm, display_labels=['Non-sexist', 'Sexist'])\n",
    "disp.plot(cmap='viridis')\n",
    "plt.show()"
   ]
  },
  {
   "cell_type": "markdown",
   "metadata": {},
   "source": [
    "Precision-Recall Curve"
   ]
  },
  {
   "cell_type": "code",
   "execution_count": null,
   "metadata": {},
   "outputs": [
    {
     "data": {
      "image/png": "[encoded data removed]",
      "text/plain": [
       "<Figure size 640x480 with 1 Axes>"
      ]
     },
     "metadata": {},
     "output_type": "display_data"
    }
   ],
   "source": [
    "display = PrecisionRecallDisplay.from_predictions(y_true=test_labels, y_pred=np.argmax(test_predictions, axis=-1), name='Cardiff Twitter RoBERTa Base', plot_chance_level=True)\n",
    "_ = display.ax_.set_title(\"2-class Precision-Recall curve\")"
   ]
  },
  {
   "cell_type": "markdown",
   "metadata": {},
   "source": [
    "Analysis on misclassified tweets, percentage of OOV words, original labels, etc."
   ]
  },
  {
   "cell_type": "code",
   "execution_count": 597,
   "metadata": {
    "id": "1eu5fi73C7t-",
    "outputId": "e85b8875-3bd9-49d6-aad1-898bae003fcb"
   },
   "outputs": [
    {
     "data": {
      "text/html": [
       "<div>\n",
       "<style scoped>\n",
       "    .dataframe tbody tr th:only-of-type {\n",
       "        vertical-align: middle;\n",
       "    }\n",
       "\n",
       "    .dataframe tbody tr th {\n",
       "        vertical-align: top;\n",
       "    }\n",
       "\n",
       "    .dataframe thead th {\n",
       "        text-align: right;\n",
       "    }\n",
       "</style>\n",
       "<table border=\"1\" class=\"dataframe\">\n",
       "  <thead>\n",
       "    <tr style=\"text-align: right;\">\n",
       "      <th></th>\n",
       "      <th>id_EXIST</th>\n",
       "      <th>lang</th>\n",
       "      <th>tweet</th>\n",
       "      <th>number_annotators</th>\n",
       "      <th>annotators</th>\n",
       "      <th>gender_annotators</th>\n",
       "      <th>age_annotators</th>\n",
       "      <th>labels_task1</th>\n",
       "      <th>labels_task2</th>\n",
       "      <th>labels_task3</th>\n",
       "      <th>split</th>\n",
       "    </tr>\n",
       "  </thead>\n",
       "  <tbody>\n",
       "    <tr>\n",
       "      <th>400178</th>\n",
       "      <td>400178</td>\n",
       "      <td>en</td>\n",
       "      <td>1st day at the pool on a beautiful Sunday in N...</td>\n",
       "      <td>6</td>\n",
       "      <td>[Annotator_764, Annotator_765, Annotator_766, ...</td>\n",
       "      <td>[F, F, F, M, M, M]</td>\n",
       "      <td>[18-22, 23-45, 46+, 18-22, 23-45, 46+]</td>\n",
       "      <td>[NO, NO, NO, NO, NO, NO]</td>\n",
       "      <td>[-, -, -, -, -, -]</td>\n",
       "      <td>[[-], [-], [-], [-], [-], [-]]</td>\n",
       "      <td>DEV_EN</td>\n",
       "    </tr>\n",
       "    <tr>\n",
       "      <th>400179</th>\n",
       "      <td>400179</td>\n",
       "      <td>en</td>\n",
       "      <td>“I like your outfit too except when i dress up...</td>\n",
       "      <td>6</td>\n",
       "      <td>[Annotator_805, Annotator_426, Annotator_806, ...</td>\n",
       "      <td>[F, F, F, M, M, M]</td>\n",
       "      <td>[18-22, 23-45, 46+, 18-22, 23-45, 46+]</td>\n",
       "      <td>[YES, YES, YES, YES, YES, NO]</td>\n",
       "      <td>[JUDGEMENTAL, DIRECT, REPORTED, DIRECT, REPORT...</td>\n",
       "      <td>[[OBJECTIFICATION], [OBJECTIFICATION, MISOGYNY...</td>\n",
       "      <td>DEV_EN</td>\n",
       "    </tr>\n",
       "    <tr>\n",
       "      <th>400180</th>\n",
       "      <td>400180</td>\n",
       "      <td>en</td>\n",
       "      <td>@KNasFanFic 🥺💖 same, though!!! the angst just ...</td>\n",
       "      <td>6</td>\n",
       "      <td>[Annotator_795, Annotator_796, Annotator_797, ...</td>\n",
       "      <td>[F, F, F, M, M, M]</td>\n",
       "      <td>[18-22, 23-45, 46+, 18-22, 23-45, 46+]</td>\n",
       "      <td>[NO, NO, NO, NO, NO, NO]</td>\n",
       "      <td>[-, -, -, -, -, -]</td>\n",
       "      <td>[[-], [-], [-], [-], [-], [-]]</td>\n",
       "      <td>DEV_EN</td>\n",
       "    </tr>\n",
       "    <tr>\n",
       "      <th>400181</th>\n",
       "      <td>400181</td>\n",
       "      <td>en</td>\n",
       "      <td>@themaxburns @GOP Fuck that cunt. Tried to vot...</td>\n",
       "      <td>6</td>\n",
       "      <td>[Annotator_795, Annotator_796, Annotator_797, ...</td>\n",
       "      <td>[F, F, F, M, M, M]</td>\n",
       "      <td>[18-22, 23-45, 46+, 18-22, 23-45, 46+]</td>\n",
       "      <td>[NO, YES, YES, YES, YES, YES]</td>\n",
       "      <td>[-, DIRECT, JUDGEMENTAL, DIRECT, DIRECT, DIRECT]</td>\n",
       "      <td>[[-], [IDEOLOGICAL-INEQUALITY, MISOGYNY-NON-SE...</td>\n",
       "      <td>DEV_EN</td>\n",
       "    </tr>\n",
       "    <tr>\n",
       "      <th>400182</th>\n",
       "      <td>400182</td>\n",
       "      <td>en</td>\n",
       "      <td>@ultshunnie u gotta say some shit like “i’ll f...</td>\n",
       "      <td>6</td>\n",
       "      <td>[Annotator_770, Annotator_771, Annotator_772, ...</td>\n",
       "      <td>[F, F, F, M, M, M]</td>\n",
       "      <td>[18-22, 23-45, 46+, 18-22, 23-45, 46+]</td>\n",
       "      <td>[YES, YES, YES, YES, YES, YES]</td>\n",
       "      <td>[DIRECT, REPORTED, DIRECT, DIRECT, JUDGEMENTAL...</td>\n",
       "      <td>[[OBJECTIFICATION, SEXUAL-VIOLENCE], [SEXUAL-V...</td>\n",
       "      <td>DEV_EN</td>\n",
       "    </tr>\n",
       "  </tbody>\n",
       "</table>\n",
       "</div>"
      ],
      "text/plain": [
       "        id_EXIST lang                                              tweet  \\\n",
       "400178    400178   en  1st day at the pool on a beautiful Sunday in N...   \n",
       "400179    400179   en  “I like your outfit too except when i dress up...   \n",
       "400180    400180   en  @KNasFanFic 🥺💖 same, though!!! the angst just ...   \n",
       "400181    400181   en  @themaxburns @GOP Fuck that cunt. Tried to vot...   \n",
       "400182    400182   en  @ultshunnie u gotta say some shit like “i’ll f...   \n",
       "\n",
       "        number_annotators                                         annotators  \\\n",
       "400178                  6  [Annotator_764, Annotator_765, Annotator_766, ...   \n",
       "400179                  6  [Annotator_805, Annotator_426, Annotator_806, ...   \n",
       "400180                  6  [Annotator_795, Annotator_796, Annotator_797, ...   \n",
       "400181                  6  [Annotator_795, Annotator_796, Annotator_797, ...   \n",
       "400182                  6  [Annotator_770, Annotator_771, Annotator_772, ...   \n",
       "\n",
       "         gender_annotators                          age_annotators  \\\n",
       "400178  [F, F, F, M, M, M]  [18-22, 23-45, 46+, 18-22, 23-45, 46+]   \n",
       "400179  [F, F, F, M, M, M]  [18-22, 23-45, 46+, 18-22, 23-45, 46+]   \n",
       "400180  [F, F, F, M, M, M]  [18-22, 23-45, 46+, 18-22, 23-45, 46+]   \n",
       "400181  [F, F, F, M, M, M]  [18-22, 23-45, 46+, 18-22, 23-45, 46+]   \n",
       "400182  [F, F, F, M, M, M]  [18-22, 23-45, 46+, 18-22, 23-45, 46+]   \n",
       "\n",
       "                          labels_task1  \\\n",
       "400178        [NO, NO, NO, NO, NO, NO]   \n",
       "400179   [YES, YES, YES, YES, YES, NO]   \n",
       "400180        [NO, NO, NO, NO, NO, NO]   \n",
       "400181   [NO, YES, YES, YES, YES, YES]   \n",
       "400182  [YES, YES, YES, YES, YES, YES]   \n",
       "\n",
       "                                             labels_task2  \\\n",
       "400178                                 [-, -, -, -, -, -]   \n",
       "400179  [JUDGEMENTAL, DIRECT, REPORTED, DIRECT, REPORT...   \n",
       "400180                                 [-, -, -, -, -, -]   \n",
       "400181   [-, DIRECT, JUDGEMENTAL, DIRECT, DIRECT, DIRECT]   \n",
       "400182  [DIRECT, REPORTED, DIRECT, DIRECT, JUDGEMENTAL...   \n",
       "\n",
       "                                             labels_task3   split  \n",
       "400178                     [[-], [-], [-], [-], [-], [-]]  DEV_EN  \n",
       "400179  [[OBJECTIFICATION], [OBJECTIFICATION, MISOGYNY...  DEV_EN  \n",
       "400180                     [[-], [-], [-], [-], [-], [-]]  DEV_EN  \n",
       "400181  [[-], [IDEOLOGICAL-INEQUALITY, MISOGYNY-NON-SE...  DEV_EN  \n",
       "400182  [[OBJECTIFICATION, SEXUAL-VIOLENCE], [SEXUAL-V...  DEV_EN  "
      ]
     },
     "execution_count": 597,
     "metadata": {},
     "output_type": "execute_result"
    }
   ],
   "source": [
    "test_copy.head()"
   ]
  },
  {
   "cell_type": "code",
   "execution_count": 598,
   "metadata": {
    "id": "EWVOu4I_C7t-"
   },
   "outputs": [],
   "source": [
    "def contains_OOV(text, embedding_model):\n",
    "    \"\"\"\n",
    "    Return the out-of-vocabulary (OOV) words in a given text.\n",
    "    \"\"\"\n",
    "    return [word for word in text.split() if word not in embedding_model.key_to_index]\n",
    "\n",
    "def review_errors(predictions, labels, verbose: bool = False):\n",
    "    errors = []\n",
    "    for i, (pred, label) in enumerate(zip(predictions, labels)):\n",
    "        if np.argmax(pred) != label:\n",
    "            errors.append(i)\n",
    "\n",
    "    print(f\"Found {len(errors)} errors out of {len(labels)} samples.\")\n",
    "\n",
    "    errors_due_to_OOV = 0\n",
    "    wrong_tweet_ids = []\n",
    "    for i in errors:\n",
    "        tweet_text = test_data['tweet'][i]\n",
    "        tweet_id = test_data['id_EXIST'][i]\n",
    "        wrong_tweet_ids.append(tweet_id)\n",
    "        oov_found = contains_OOV(tweet_text, emb_model_augmented)\n",
    "        original_labels = test_copy[test_copy['id_EXIST'] == tweet_id]['labels_task1'].values[0]\n",
    "        if oov_found:\n",
    "            errors_due_to_OOV += 1\n",
    "        if verbose:\n",
    "            print(f\"\"\"\n",
    "            Contains OOV: {oov_found if len(oov_found) > 0 else 'No'}\n",
    "            Tweet: {tweet_text}\n",
    "            Predicted: {predictions[i]}\n",
    "            True Label: {labels[i]}\n",
    "            Raw Labels: {original_labels}\n",
    "\n",
    "            \"\"\")\n",
    "    print(f\"Errors due to OOV: {errors_due_to_OOV}, {errors_due_to_OOV / len(errors) * 100:.2f}%\")\n",
    "    return wrong_tweet_ids"
   ]
  },
  {
   "cell_type": "code",
   "execution_count": 600,
   "metadata": {
    "id": "Z8zDRXiNC7t_",
    "outputId": "467c905d-624d-4688-82ed-caf452322a17"
   },
   "outputs": [
    {
     "name": "stdout",
     "output_type": "stream",
     "text": [
      "Found 43 errors out of 286 samples.\n",
      "\n",
      "            Contains OOV: No\n",
      "            Tweet: i mean i do but wouldn t it be fun to get gangbanged together <url>\n",
      "            Predicted: [-0.6982422   0.47607422]\n",
      "            True Label: 0\n",
      "            Raw Labels: ['NO', 'NO', 'NO', 'NO', 'YES', 'YES']\n",
      "\n",
      "            \n",
      "\n",
      "            Contains OOV: No\n",
      "            Tweet: <user> <user> sex a in gender harassment is what they are inferring\n",
      "            Predicted: [-0.50146484  0.4633789 ]\n",
      "            True Label: 0\n",
      "            Raw Labels: ['NO', 'YES', 'NO', 'NO', 'NO', 'NO']\n",
      "\n",
      "            \n",
      "\n",
      "            Contains OOV: ['unshocking']\n",
      "            Tweet: appreciate being included along with <user> on the uvalde gunman s history of cyber gender harassment regrettably unshocking <user> <url>\n",
      "            Predicted: [-0.9277344   0.94433594]\n",
      "            True Label: 0\n",
      "            Raw Labels: ['NO', 'NO', 'YES', 'YES', 'NO', 'NO']\n",
      "\n",
      "            \n",
      "\n",
      "            Contains OOV: ['blonks', 'yoongis']\n",
      "            Tweet: <user> how did we reach a point where blonks are having the audacity to talk about yoongis rap do y all see who you stan are y all ok <repeat> your girl can t write can t deliver can t come close to bts s lyricism tf are y all getting brave for <repeat> fashion deal <repeat>\n",
      "            Predicted: [-1.1679688  1.1201172]\n",
      "            True Label: 0\n",
      "            Raw Labels: ['YES', 'YES', 'NO', 'NO', 'NO', 'NO']\n",
      "\n",
      "            \n",
      "\n",
      "            Contains OOV: ['pinwork']\n",
      "            Tweet: <user> <user> <user> that gold digger is nice but the picture and set up for them are elite pinwork is like the revealing of the mona lisa always a work of art\n",
      "            Predicted: [ 1.2480469 -1.3183594]\n",
      "            True Label: 1\n",
      "            Raw Labels: ['NO', 'YES', 'YES', 'NO', 'YES', 'YES']\n",
      "\n",
      "            \n",
      "\n",
      "            Contains OOV: No\n",
      "            Tweet: he tries to expose this gold digger but it backfires <number> day fiancee b <repeat> <url> via <user>\n",
      "            Predicted: [-0.37475586  0.2939453 ]\n",
      "            True Label: 0\n",
      "            Raw Labels: ['NO', 'NO', 'NO', 'NO', 'YES', 'YES']\n",
      "\n",
      "            \n",
      "\n",
      "            Contains OOV: No\n",
      "            Tweet: <user> well let me ask for the guy do you ever just grab your testicle because you can\n",
      "            Predicted: [-0.9633789  0.7993164]\n",
      "            True Label: 0\n",
      "            Raw Labels: ['NO', 'NO', 'NO', 'NO', 'NO', 'YES']\n",
      "\n",
      "            \n",
      "\n",
      "            Contains OOV: ['badassary']\n",
      "            Tweet: dear <user> fan can we not harass talented actor of color stop being racist douche nozzle this is why we can t have nice thing moses is a badass inquisitor and y all can t handle her badassary <url>\n",
      "            Predicted: [ 0.14611816 -0.07232666]\n",
      "            True Label: 1\n",
      "            Raw Labels: ['YES', 'YES', 'YES', 'YES', 'NO', 'NO']\n",
      "\n",
      "            \n",
      "\n",
      "            Contains OOV: No\n",
      "            Tweet: stop saying i said this cu she ha short hair some of her gayest look came from <number> <number> blonde ponytail era <repeat> know ur herstory <url>\n",
      "            Predicted: [ 0.11120605 -0.28833008]\n",
      "            True Label: 1\n",
      "            Raw Labels: ['YES', 'YES', 'YES', 'YES', 'YES', 'NO']\n",
      "\n",
      "            \n",
      "\n",
      "            Contains OOV: No\n",
      "            Tweet: <user> <user> <user> not a much a they harm kill woman and child by a long shot pun intended\n",
      "            Predicted: [-0.03317261 -0.15563965]\n",
      "            True Label: 1\n",
      "            Raw Labels: ['YES', 'YES', 'YES', 'YES', 'YES', 'YES']\n",
      "\n",
      "            \n",
      "\n",
      "            Contains OOV: No\n",
      "            Tweet: <user> <user> <user> yup i hate when men rape and kill woman <url>\n",
      "            Predicted: [-2.1308594  2.0742188]\n",
      "            True Label: 0\n",
      "            Raw Labels: ['YES', 'NO', 'NO', 'YES', 'NO', 'NO']\n",
      "\n",
      "            \n",
      "\n",
      "            Contains OOV: No\n",
      "            Tweet: calls to clean up parliament s laddish culture after mp s porn shame <url> via <url>\n",
      "            Predicted: [ 0.25219727 -0.42944336]\n",
      "            True Label: 1\n",
      "            Raw Labels: ['NO', 'YES', 'YES', 'YES', 'YES', 'NO']\n",
      "\n",
      "            \n",
      "\n",
      "            Contains OOV: No\n",
      "            Tweet: ladies don t let anyone body shame you in any way <repeat> you are fat so what <repeat> you are beautiful my dear <repeat> be confident in yourself <repeat> peace\n",
      "            Predicted: [-0.515625   0.4951172]\n",
      "            True Label: 0\n",
      "            Raw Labels: ['YES', 'YES', 'NO', 'NO', 'NO', 'NO']\n",
      "\n",
      "            \n",
      "\n",
      "            Contains OOV: No\n",
      "            Tweet: stop don t lie to these people ladies don t let this man trick you out of the greatest organ of your life cause what <url>\n",
      "            Predicted: [-1.828125   1.7900391]\n",
      "            True Label: 0\n",
      "            Raw Labels: ['NO', 'YES', 'NO', 'NO', 'YES', 'NO']\n",
      "\n",
      "            \n",
      "\n",
      "            Contains OOV: No\n",
      "            Tweet: ladies don t have a miscarriage in louisiana if you do in addition to probably having your friend and family sued by some opportunistic yokel you ll be charged with murder <url>\n",
      "            Predicted: [-2.1367188  2.0488281]\n",
      "            True Label: 0\n",
      "            Raw Labels: ['YES', 'YES', 'NO', 'NO', 'NO', 'NO']\n",
      "\n",
      "            \n",
      "\n",
      "            Contains OOV: No\n",
      "            Tweet: dude looks like a lady aerosmith <url>\n",
      "            Predicted: [ 0.7080078  -0.63671875]\n",
      "            True Label: 1\n",
      "            Raw Labels: ['YES', 'YES', 'NO', 'YES', 'NO', 'YES']\n",
      "\n",
      "            \n",
      "\n",
      "            Contains OOV: No\n",
      "            Tweet: mansplaining the concept of a pee drawer to my partner who want me\n",
      "            Predicted: [ 0.19750977 -0.33007812]\n",
      "            True Label: 1\n",
      "            Raw Labels: ['YES', 'YES', 'YES', 'NO', 'YES', 'YES']\n",
      "\n",
      "            \n",
      "\n",
      "            Contains OOV: No\n",
      "            Tweet: stay on penis masturbate the penis forever <url>\n",
      "            Predicted: [-1.0214844  0.8857422]\n",
      "            True Label: 0\n",
      "            Raw Labels: ['YES', 'NO', 'NO', 'NO', 'NO', 'NO']\n",
      "\n",
      "            \n",
      "\n",
      "            Contains OOV: No\n",
      "            Tweet: <user> <user> <user> i don t need a man to tell me what to stand up for thank you\n",
      "            Predicted: [ 0.2685547  -0.36083984]\n",
      "            True Label: 1\n",
      "            Raw Labels: ['YES', 'YES', 'NO', 'YES', 'YES', 'NO']\n",
      "\n",
      "            \n",
      "\n",
      "            Contains OOV: No\n",
      "            Tweet: <user> <user> on the audio from when his finger wa cut off even the people that were there said she did it she say she s totally against cocaine but doe cocaine tries to say the nurse is basically lying in her note about her doing drug everyone is lying but her\n",
      "            Predicted: [0.0173645  0.16296387]\n",
      "            True Label: 0\n",
      "            Raw Labels: ['NO', 'NO', 'YES', 'NO', 'NO', 'NO']\n",
      "\n",
      "            \n",
      "\n",
      "            Contains OOV: No\n",
      "            Tweet: as a diverse and pluralistic country america s law should not be based on a distorted and patriarchal interpretation of christianity furthermore the government should have no role whatsoever in a woman s private healthcare decision\n",
      "            Predicted: [-0.03692627  0.08105469]\n",
      "            True Label: 0\n",
      "            Raw Labels: ['NO', 'YES', 'NO', 'NO', 'NO', 'NO']\n",
      "\n",
      "            \n",
      "\n",
      "            Contains OOV: No\n",
      "            Tweet: <user> notice something else tho almost every single one is a man that s such a fucking problem that this is how some men believe they should let out their anger and hatred this society need to do better it doe not even benefit the men patriarchy misogyny fails everyone\n",
      "            Predicted: [-1.0429688  1.0292969]\n",
      "            True Label: 0\n",
      "            Raw Labels: ['NO', 'YES', 'NO', 'YES', 'NO', 'NO']\n",
      "\n",
      "            \n",
      "\n",
      "            Contains OOV: ['teaxass']\n",
      "            Tweet: <user> it s in the teaxass code book of penis envy idiot that it s gun over everything sad thing is it s spreading and the more we try to stop it the faster it spread like the diseased idiot that support it\n",
      "            Predicted: [-0.63134766  0.46533203]\n",
      "            True Label: 0\n",
      "            Raw Labels: ['NO', 'NO', 'NO', 'NO', 'NO', 'NO']\n",
      "\n",
      "            \n",
      "\n",
      "            Contains OOV: No\n",
      "            Tweet: <user> have i missed something or ha phallocentrism become the latest cult\n",
      "            Predicted: [ 1.1054688 -1.1738281]\n",
      "            True Label: 1\n",
      "            Raw Labels: ['NO', 'YES', 'YES', 'NO', 'YES', 'YES']\n",
      "\n",
      "            \n",
      "\n",
      "            Contains OOV: No\n",
      "            Tweet: cyborg politics is the struggle for language and the struggle against perfect communication against the one code that translates all meaning perfectly the central dogma of phallogocentrism\n",
      "            Predicted: [ 2.1875    -2.0292969]\n",
      "            True Label: 1\n",
      "            Raw Labels: ['YES', 'YES', 'YES', 'YES', 'NO', 'YES']\n",
      "\n",
      "            \n",
      "\n",
      "            Contains OOV: ['montha']\n",
      "            Tweet: <user> <user> <user> <user> sharia law in the religion of islam allows abortion before the <number> th montha for rape incest mental physical health or life of mother is at risk after the <number> th month abortion allowed only to save the life of the mother\n",
      "            Predicted: [-0.88134766  0.58935547]\n",
      "            True Label: 0\n",
      "            Raw Labels: ['NO', 'YES', 'NO', 'NO', 'NO', 'NO']\n",
      "\n",
      "            \n",
      "\n",
      "            Contains OOV: No\n",
      "            Tweet: calling a man bald is sexual harassment <url> via <user>\n",
      "            Predicted: [-0.68066406  0.61279297]\n",
      "            True Label: 0\n",
      "            Raw Labels: ['YES', 'NO', 'NO', 'NO', 'NO', 'NO']\n",
      "\n",
      "            \n",
      "\n",
      "            Contains OOV: No\n",
      "            Tweet: according to the human rights commission <number> in <number> people experience sexual harassment at work we have created an online course providing strategy to prevent and respond should incident occur start your course at <url> <hashtag> <url>\n",
      "            Predicted: [ 1.0556641 -0.9355469]\n",
      "            True Label: 1\n",
      "            Raw Labels: ['YES', 'YES', 'NO', 'YES', 'NO', 'YES']\n",
      "\n",
      "            \n",
      "\n",
      "            Contains OOV: No\n",
      "            Tweet: <user> i don t care what gender race religion sexual orientation a person is a long a they are qualified for that position that being said is she qualified based on experience education or wa she chosen solely because she is black and gay to please progressive woke just saying\n",
      "            Predicted: [ 0.20874023 -0.12548828]\n",
      "            True Label: 1\n",
      "            Raw Labels: ['YES', 'YES', 'YES', 'NO', 'YES', 'YES']\n",
      "\n",
      "            \n",
      "\n",
      "            Contains OOV: No\n",
      "            Tweet: <user> yea back when i didn t even have one to slap unfortunate\n",
      "            Predicted: [ 1.5078125 -1.5380859]\n",
      "            True Label: 1\n",
      "            Raw Labels: ['YES', 'NO', 'NO', 'YES', 'YES', 'YES']\n",
      "\n",
      "            \n",
      "\n",
      "            Contains OOV: No\n",
      "            Tweet: wen i m rich i hope the broke nigga in me survives cuz i ain t ever paying <number> buck for a salad i hope the trench slap that shit outta my hand\n",
      "            Predicted: [-0.23327637 -0.0021286 ]\n",
      "            True Label: 0\n",
      "            Raw Labels: ['NO', 'NO', 'NO', 'NO', 'NO', 'NO']\n",
      "\n",
      "            \n",
      "\n",
      "            Contains OOV: No\n",
      "            Tweet: <user> never knew you all share tit how did we stop being pal again yeah\n",
      "            Predicted: [ 1.2021484 -1.3408203]\n",
      "            True Label: 1\n",
      "            Raw Labels: ['NO', 'YES', 'YES', 'YES', 'YES', 'NO']\n",
      "\n",
      "            \n",
      "\n",
      "            Contains OOV: ['bounceey', 'boobieeees']\n",
      "            Tweet: bounceey <elong> boobieeees <elong> <hashtag> <hashtag> <hashtag> <hashtag> <hashtag> <url>\n",
      "            Predicted: [ 0.10852051 -0.46606445]\n",
      "            True Label: 1\n",
      "            Raw Labels: ['YES', 'YES', 'YES', 'YES', 'YES', 'YES']\n",
      "\n",
      "            \n",
      "\n",
      "            Contains OOV: No\n",
      "            Tweet: <user> oh so now u can t understand woman s word <repeat>\n",
      "            Predicted: [-1.7734375  1.9267578]\n",
      "            True Label: 0\n",
      "            Raw Labels: ['NO', 'NO', 'NO', 'YES', 'NO', 'YES']\n",
      "\n",
      "            \n",
      "\n",
      "            Contains OOV: No\n",
      "            Tweet: fainted wearing a very short skirt and no one could legally touch me so i just had my as out until the nurse came <url>\n",
      "            Predicted: [ 0.21984863 -0.14709473]\n",
      "            True Label: 1\n",
      "            Raw Labels: ['YES', 'YES', 'NO', 'YES', 'YES', 'NO']\n",
      "\n",
      "            \n",
      "\n",
      "            Contains OOV: ['kneehighs']\n",
      "            Tweet: the question is do i wear the very short skirt that literally show my as with kneehighs or opt out for a short\n",
      "            Predicted: [-0.41357422  0.4350586 ]\n",
      "            True Label: 0\n",
      "            Raw Labels: ['NO', 'NO', 'YES', 'NO', 'YES', 'NO']\n",
      "\n",
      "            \n",
      "\n",
      "            Contains OOV: No\n",
      "            Tweet: <user> my new favorite meme is the pregnant woman driving in the oklahoma hov lane telling the state trooper who pulled her over that she is driving with another person <repeat>\n",
      "            Predicted: [-1.4892578  1.3544922]\n",
      "            True Label: 0\n",
      "            Raw Labels: ['NO', 'YES', 'NO', 'NO', 'NO', 'YES']\n",
      "\n",
      "            \n",
      "\n",
      "            Contains OOV: No\n",
      "            Tweet: feminism vs womanism hudson weems identifies further difference between womanism and feminism being womanism is family oriented and focus on race class and gender while feminism is female oriented and strictly focus on biological sex related issue woman face <url>\n",
      "            Predicted: [-1.125      1.1464844]\n",
      "            True Label: 0\n",
      "            Raw Labels: ['YES', 'NO', 'NO', 'NO', 'NO', 'NO']\n",
      "\n",
      "            \n",
      "\n",
      "            Contains OOV: No\n",
      "            Tweet: <user> yeah woman are getting just a bad i ve noticed it anyway i m sorry people are sending you stuff like that it can be so gross\n",
      "            Predicted: [-2.0878906  2.1484375]\n",
      "            True Label: 0\n",
      "            Raw Labels: ['NO', 'NO', 'NO', 'NO', 'NO', 'YES']\n",
      "\n",
      "            \n",
      "\n",
      "            Contains OOV: ['ligation']\n",
      "            Tweet: <user> <user> <user> <user> a vasectomy is a simple surgery done in an office hospital or clinic <number> hour later recovery is pretty much complete tubal ligation recovery take <number> <number> week longer if it s done following a c section or childbirth many woman can t afford to take <number> <number> week off work\n",
      "            Predicted: [-0.92333984  0.9477539 ]\n",
      "            True Label: 0\n",
      "            Raw Labels: ['YES', 'YES', 'NO', 'NO', 'NO', 'NO']\n",
      "\n",
      "            \n",
      "\n",
      "            Contains OOV: No\n",
      "            Tweet: <user> <user> <user> wow trouble making witches unite\n",
      "            Predicted: [-0.60302734  0.82714844]\n",
      "            True Label: 0\n",
      "            Raw Labels: ['NO', 'NO', 'NO', 'NO', 'NO', 'NO']\n",
      "\n",
      "            \n",
      "\n",
      "            Contains OOV: No\n",
      "            Tweet: uh they re allowed to calling this out make you look like a cunt fortunately i ll block you so fast you wont get your screenshot <url>\n",
      "            Predicted: [-1.5283203  1.6787109]\n",
      "            True Label: 0\n",
      "            Raw Labels: ['NO', 'NO', 'YES', 'NO', 'YES', 'NO']\n",
      "\n",
      "            \n",
      "\n",
      "            Contains OOV: No\n",
      "            Tweet: <user> <user> <user> i don t know what you re on about my point wa that you shouldn t mock other people s look because it s very shallow and make you look like a cunt thanks for your input though\n",
      "            Predicted: [-0.8022461  0.8955078]\n",
      "            True Label: 0\n",
      "            Raw Labels: ['YES', 'NO', 'NO', 'YES', 'NO', 'NO']\n",
      "\n",
      "            \n",
      "Errors due to OOV: 9, 20.93%\n"
     ]
    }
   ],
   "source": [
    "wrong_tweet_ids = review_errors(test_predictions, test_labels, verbose=True)"
   ]
  },
  {
   "cell_type": "markdown",
   "metadata": {
    "id": "eCcWEEjtC7t_"
   },
   "source": [
    "Common errrors spotted so far:\n",
    "\n",
    "* Most of the errors are due to the fact that the model is not able to distinguish between the sexist and non-sexist tweets.\n",
    "    * The predicted score is the opposite of the true score. This is a common error in classification tasks and can be due to the fact that the model is not able to learn the features that distinguish between the two classes.\n",
    "    * Moreover around 20% of the errors are tweets where there is atleast one OOV token"
   ]
  },
  {
   "cell_type": "markdown",
   "metadata": {
    "id": "d3G2ZV4fC7t_"
   },
   "source": [
    "Get the slice of the test dataset where the model is failing to classify the tweets (wrong predictions). This can be useful to understand why the model is failing to classify the tweets and to have an idea of the features that the model is not able to learn."
   ]
  },
  {
   "cell_type": "code",
   "execution_count": 569,
   "metadata": {
    "id": "lFef9Oo5C7t_",
    "outputId": "35af0699-a976-4ce9-f8c8-c4533bfad02f"
   },
   "outputs": [
    {
     "data": {
      "text/plain": [
       "array(['“I mean I do, but… wouldn’t it be fun to get gangbanged together~?” https://t.co/lNRZ9z53VL',\n",
       "       \"@LogicalFallac18 @LBC Sex* as in 'gender' harassment is what they are inferring.\",\n",
       "       'Appreciate being included along with @wphillips49 on the Uvalde gunman’s history of cyber gender harassment. Regrettably unshocking. @UVALaw https://t.co/gg1UwHYdIf',\n",
       "       \"@EyemotionFandom How did we reach a point where blonks are having the audacity to talk about yoongis rap do y'all see who you Stan ? Are y'all ok ?? Your girls can't write can't deliver can't come close to bts's lyricism tf are y'all getting brave for ?? Fashion deals ??\",\n",
       "       '@Catoishere @HatClub @RahnniFitteds That gold digger is nice but the picture and set up for them are elite. Pinwork is like the revealing of the Mona Lisa. Always a work of art.',\n",
       "       'He Tries To Expose This Gold Digger BUT IT BACKFIRES. | 90 Day Fiancée B... https://t.co/pz91AbJ0WS via @YouTube',\n",
       "       '@MatrixPirate12 Well let me ask for the guys… do you ever just grab your testicles because you can?',\n",
       "       \"Dear @starwars fans Can we not harass talented actors of color? Stop being racist douche nozzles. This is why we can't have nice things. Moses is a badass inquisitor and y'all can't handle her badassary. https://t.co/bczGdn6evx\",\n",
       "       'stop saying i said this cus she has short hair! some of her gayest looks came from 2017/18 blonde ponytail era!!!!!! know ur herstory https://t.co/YJYVzJVP0L',\n",
       "       '@DaddyBrianMC @roadhouse2100 @stlcty03 Not as much as they harm/kill women and children, by a long shot (pun intended)',\n",
       "       '@BoopBepp @Helloth07860784 @Bronwen85 Yup I hate when men rape and kill women. https://t.co/MyfVPu6THd',\n",
       "       \"Calls to clean up Parliament's laddish culture after MP's porn shame https://t.co/3AC2ArWrjF via https://t.co/LiNou8Ixhu\",\n",
       "       \"Ladies,don't let anyone body shame you in any way...you are fat so what..you are beautiful my dear...be confident in yourself...peace\",\n",
       "       'Stop ✋🏾 Don’t lie to these people. Ladies, don’t let this man trick you out of the greatest organs of your life 🙄 cause  what? https://t.co/secSDVvFKz',\n",
       "       \"Ladies, don't have a miscarriage in Louisiana! If you do, in addition to probably having your friends and family sued by some opportunistic yokel, you'll be charged with murder.  https://t.co/6JtnjUCkLC\",\n",
       "       '\"Dude Looks Like A Lady\" 💫🎶Aerosmith🎶🎸⚡️💫https://t.co/41OxpV6YWm',\n",
       "       'Mansplaining the concept of a pee drawer to my partner (who want me)',\n",
       "       'stay on Penis masturbate the Penis forever https://t.co/lOtwLsVr12',\n",
       "       '@jcollie @thevivafrei @ewarren I don’t need a man to tell me what to stand up for, thank you.',\n",
       "       '@SeanMc46114355 @piscesflowers On the audio from when his finger was cut off ! Even the  people that were there said she did it. She says she’s totally against cocaine but does cocaine. Tries to say the nurse is basically lying in her notes about her doing drugs. Everyone is lying but her!',\n",
       "       \"@ShelleyKingsto3 @CNP_MacFarlane @CanadianinAB It's objectification &amp; dehumanizing. I saw someone take time out of their day to make a strong political point about Horwath 🙄(sarcasm) -- he Tweeted about how her photo looked like it had lots of photoshop. Such pathetic clowns.\",\n",
       "       '@tuckednuts Notice something else tho…Almost every single one, is a man. That’s such a fucking problem that this is how some men believe they should let out their angers and hatred. This society needs to do better, it does not even benefit the men. Patriarchy/misogyny fails everyone',\n",
       "       '@BetteMidler It’s in the TEAxASS code book of penis envy idiots that it’s guns over everything. Sad thing is it’s spreading and the more we try to stop it, the faster it spreads like the diseased idiots that support it.',\n",
       "       '@Mistywoman1 Have I missed something, or has phallocentrism become the latest cult?',\n",
       "       \"Fuck's sake is it possible to have a furry space that's not explicitly content-restricted and doesn't immediately become yet another showcase for size-queen phallocentrism?\",\n",
       "       'Cyborg politics is the struggle for language and the struggle against perfect communication, against the one code that translates all meaning perfectly, the central dogma of phallogocentrism',\n",
       "       '@AquariusElayne @MissMaryMcInOR @DarbysCastle @EileenM60933733 Sharia law in the religion of Islam allows abortion before the 5th montha for Rape, Incest, Mental/Physical health, or Life of Mother is at risk. After the 5th Month, abortion allowed only to save the life of the Mother.',\n",
       "       '\"Calling A Man Bald Is Sexual Harassment\" https://t.co/MiSGkB89bs via @YouTube',\n",
       "       'According to the Human Rights Commission, 1 in 3 people experience sexual harassment at work. We have created an online course  providing strategies to prevent and respond should incidents occur. Start your course at: https://t.co/yC40T3cJao #guardianpst https://t.co/oTwKxFqxQN',\n",
       "       '@townhallcom I don’t care what gender, race, religion,sexual orientation a person is as long as they are qualified for that position. That being said, is she qualified based on experience/education or was she chosen solely because she is black and gay to please progressives/woke. Just saying.',\n",
       "       '@djxmenez yea back when i didn’t even have one to slap, unfortunate !',\n",
       "       \"Wen I'm rich I hope the broke nigga in me survives cuz I ain't ever paying 54 bucks for a salad. I hope the trenches slap that shit outta my hand.\",\n",
       "       '@TheNon_Nun Never knew you all share tits, how did we stop being pals again yeah ?🌚',\n",
       "       'BOUNCEEYYYY BOOBIEEEESSSSSS #hookup #BOUNCEY #boobs #boobie #tits https://t.co/lUAuZkT5w3',\n",
       "       '@UberFacts Today’s women eye makeup. And those nails too.',\n",
       "       \"@maria56_lamb I packed my hubbies case when we were going to a wedding in england, told him to pop his underpants in.  Gets to England, he puts his kilt outfit on and everyone discovered what a true scot doesn't wear under his kilt.  If I don't do it, it doesn't get done.  Men!\",\n",
       "       '@bhargavtata0 oh so now u can’t understand women’s words??????',\n",
       "       'fainted wearing a Very short skirt and no one could legally touch me so i just had my ass out until the nurse came 😭 https://t.co/qwi7fyO98B',\n",
       "       'the question is do i wear the very short skirt that literally shows my ass with kneehighs or opt out for a short 🤔',\n",
       "       '@CheriJacobus My new favorite meme is the pregnant woman driving in the Oklahoma HOV lane telling the state trooper who pulled her over that she is driving with another person..',\n",
       "       'Feminism VS Womanism\"Hudson-Weems identifies further differences between womanism and feminism being; womanism is \"family-oriented\" and focuses on race, class, and gender, while feminism is \"female-oriented\" and strictly focuses on biological sex related issues women face.\" https://t.co/D5p9VCPTmn',\n",
       "       \"@CrossrdsCMG Yeah, women are getting just as bad. I've noticed it anyway, I'm sorry people are sending you stuff like that, it can be so gross!\",\n",
       "       'Yo I swear  sagittarius men and women are the funniest 😭😭😭😭😂😂😂😂😂😂😭😭😭😭😭',\n",
       "       \"@joelaltonmoore @KMisGrand @TheMrBarramundi @ZipPulse A vasectomy is a simple surgery done in an office, hospital, or clinic. 24 hours later recovery is pretty much complete!Tubal ligation recovery takes 1-3 weeks, longer if it's done following a C-section or childbirth. Many women can't afford to take 1-3 weeks off work!\",\n",
       "       '@KimFawcett11 @FrenchFem @Wild_Womyn WOW! Trouble Making Witches Unite!',\n",
       "       \"Uh, they're allowed to? calling this out makes you look like a cunt. Fortunately, I'll block you so fast you wont get your screenshot. https://t.co/iyWul5BoN6\",\n",
       "       \"@JetCelestial @polgara28951124 @CharlotteEmmaUK I don't know what you're on about? My point was that you shouldn't mock other people's looks, because it's very shallow and makes you look like a cunt. Thanks for your input though 👍\"],\n",
       "      dtype=object)"
      ]
     },
     "execution_count": 569,
     "metadata": {},
     "output_type": "execute_result"
    }
   ],
   "source": [
    "test_copy[test_copy['id_EXIST'].isin(wrong_tweet_ids)].tweet.values"
   ]
  },
  {
   "cell_type": "markdown",
   "metadata": {
    "id": "lCNhVqZ9-bRL"
   },
   "source": [
    "# Task 8: Report\n",
    "\n",
    "Wrap up your experiment in a short report (up to 2 pages).\n",
    "\n",
    "* Use the NLP course report template.\n",
    "* Summarize each task in the report following the provided template.\n",
    "\n",
    "The report is not a copy-paste of graphs, tables, and command outputs.\n",
    "\n",
    "* Summarize classification performance in Table format.\n",
    "* **Do not** report command outputs or screenshots.\n",
    "* Report learning curves in Figure format.\n",
    "* The error analysis section should summarize your findings."
   ]
  }
 ],
 "metadata": {
  "accelerator": "GPU",
  "colab": {
   "gpuType": "T4",
   "provenance": []
  },
  "kernelspec": {
   "display_name": "Python 3",
   "name": "python3"
  },
  "language_info": {
   "codemirror_mode": {
    "name": "ipython",
    "version": 3
   },
   "file_extension": ".py",
   "mimetype": "text/x-python",
   "name": "python",
   "nbconvert_exporter": "python",
   "pygments_lexer": "ipython3",
   "version": "3.12.3"
  },
  "widgets": {
   "application/vnd.jupyter.widget-state+json": {
    "010af9ad50c342aa8ffd390913656783": {
     "model_module": "@jupyter-widgets/base",
     "model_module_version": "1.2.0",
     "model_name": "LayoutModel",
     "state": {
      "_model_module": "@jupyter-widgets/base",
      "_model_module_version": "1.2.0",
      "_model_name": "LayoutModel",
      "_view_count": null,
      "_view_module": "@jupyter-widgets/base",
      "_view_module_version": "1.2.0",
      "_view_name": "LayoutView",
      "align_content": null,
      "align_items": null,
      "align_self": null,
      "border": null,
      "bottom": null,
      "display": null,
      "flex": null,
      "flex_flow": null,
      "grid_area": null,
      "grid_auto_columns": null,
      "grid_auto_flow": null,
      "grid_auto_rows": null,
      "grid_column": null,
      "grid_gap": null,
      "grid_row": null,
      "grid_template_areas": null,
      "grid_template_columns": null,
      "grid_template_rows": null,
      "height": null,
      "justify_content": null,
      "justify_items": null,
      "left": null,
      "margin": null,
      "max_height": null,
      "max_width": null,
      "min_height": null,
      "min_width": null,
      "object_fit": null,
      "object_position": null,
      "order": null,
      "overflow": null,
      "overflow_x": null,
      "overflow_y": null,
      "padding": null,
      "right": null,
      "top": null,
      "visibility": null,
      "width": null
     }
    },
    "0fd8d961f74940998a6dcadd9ca11020": {
     "model_module": "@jupyter-widgets/controls",
     "model_module_version": "1.5.0",
     "model_name": "DescriptionStyleModel",
     "state": {
      "_model_module": "@jupyter-widgets/controls",
      "_model_module_version": "1.5.0",
      "_model_name": "DescriptionStyleModel",
      "_view_count": null,
      "_view_module": "@jupyter-widgets/base",
      "_view_module_version": "1.2.0",
      "_view_name": "StyleView",
      "description_width": ""
     }
    },
    "14022f99a32c4f5eb2a60adde2157e2c": {
     "model_module": "@jupyter-widgets/controls",
     "model_module_version": "1.5.0",
     "model_name": "HTMLModel",
     "state": {
      "_dom_classes": [],
      "_model_module": "@jupyter-widgets/controls",
      "_model_module_version": "1.5.0",
      "_model_name": "HTMLModel",
      "_view_count": null,
      "_view_module": "@jupyter-widgets/controls",
      "_view_module_version": "1.5.0",
      "_view_name": "HTMLView",
      "description": "",
      "description_tooltip": null,
      "layout": "IPY_MODEL_d160fc03521b429e9c6a2f71978f5697",
      "placeholder": "​",
      "style": "IPY_MODEL_0fd8d961f74940998a6dcadd9ca11020",
      "value": "Map: 100%"
     }
    },
    "14d960b7685f4c24af674b53167820c0": {
     "model_module": "@jupyter-widgets/controls",
     "model_module_version": "1.5.0",
     "model_name": "HBoxModel",
     "state": {
      "_dom_classes": [],
      "_model_module": "@jupyter-widgets/controls",
      "_model_module_version": "1.5.0",
      "_model_name": "HBoxModel",
      "_view_count": null,
      "_view_module": "@jupyter-widgets/controls",
      "_view_module_version": "1.5.0",
      "_view_name": "HBoxView",
      "box_style": "",
      "children": [
       "IPY_MODEL_14022f99a32c4f5eb2a60adde2157e2c",
       "IPY_MODEL_e7ec1d78fc9349e780b4c67aef084c81",
       "IPY_MODEL_76e3d0f5fad6467d8ecde4d8d2b28a73"
      ],
      "layout": "IPY_MODEL_99ae46da3b984572a92a4031f36ec845"
     }
    },
    "37f6e3a55fae4e89b226d65799c056ae": {
     "model_module": "@jupyter-widgets/controls",
     "model_module_version": "1.5.0",
     "model_name": "ProgressStyleModel",
     "state": {
      "_model_module": "@jupyter-widgets/controls",
      "_model_module_version": "1.5.0",
      "_model_name": "ProgressStyleModel",
      "_view_count": null,
      "_view_module": "@jupyter-widgets/base",
      "_view_module_version": "1.2.0",
      "_view_name": "StyleView",
      "bar_color": null,
      "description_width": ""
     }
    },
    "392b67ddfb28405997e480da9608c65f": {
     "model_module": "@jupyter-widgets/controls",
     "model_module_version": "1.5.0",
     "model_name": "DescriptionStyleModel",
     "state": {
      "_model_module": "@jupyter-widgets/controls",
      "_model_module_version": "1.5.0",
      "_model_name": "DescriptionStyleModel",
      "_view_count": null,
      "_view_module": "@jupyter-widgets/base",
      "_view_module_version": "1.2.0",
      "_view_name": "StyleView",
      "description_width": ""
     }
    },
    "3ac29ea09e5c4f8db9657e56a1d12a6c": {
     "model_module": "@jupyter-widgets/controls",
     "model_module_version": "1.5.0",
     "model_name": "HTMLModel",
     "state": {
      "_dom_classes": [],
      "_model_module": "@jupyter-widgets/controls",
      "_model_module_version": "1.5.0",
      "_model_name": "HTMLModel",
      "_view_count": null,
      "_view_module": "@jupyter-widgets/controls",
      "_view_module_version": "1.5.0",
      "_view_name": "HTMLView",
      "description": "",
      "description_tooltip": null,
      "layout": "IPY_MODEL_a360ce1b71c74c569d5d16b818e15d10",
      "placeholder": "​",
      "style": "IPY_MODEL_ed24a4a107564712b5239f68fe8b807f",
      "value": " 2870/2870 [00:00&lt;00:00, 7893.55 examples/s]"
     }
    },
    "41913e5ec0fd471fb19467573ed0c4c8": {
     "model_module": "@jupyter-widgets/controls",
     "model_module_version": "1.5.0",
     "model_name": "HTMLModel",
     "state": {
      "_dom_classes": [],
      "_model_module": "@jupyter-widgets/controls",
      "_model_module_version": "1.5.0",
      "_model_name": "HTMLModel",
      "_view_count": null,
      "_view_module": "@jupyter-widgets/controls",
      "_view_module_version": "1.5.0",
      "_view_name": "HTMLView",
      "description": "",
      "description_tooltip": null,
      "layout": "IPY_MODEL_6164ba82b8ab4195bf77e0db1c3d4e54",
      "placeholder": "​",
      "style": "IPY_MODEL_d92a05827a4f4617a01a029eebdb2e4b",
      "value": "Map: 100%"
     }
    },
    "4312146943be4263a594c15a0df095a1": {
     "model_module": "@jupyter-widgets/base",
     "model_module_version": "1.2.0",
     "model_name": "LayoutModel",
     "state": {
      "_model_module": "@jupyter-widgets/base",
      "_model_module_version": "1.2.0",
      "_model_name": "LayoutModel",
      "_view_count": null,
      "_view_module": "@jupyter-widgets/base",
      "_view_module_version": "1.2.0",
      "_view_name": "LayoutView",
      "align_content": null,
      "align_items": null,
      "align_self": null,
      "border": null,
      "bottom": null,
      "display": null,
      "flex": null,
      "flex_flow": null,
      "grid_area": null,
      "grid_auto_columns": null,
      "grid_auto_flow": null,
      "grid_auto_rows": null,
      "grid_column": null,
      "grid_gap": null,
      "grid_row": null,
      "grid_template_areas": null,
      "grid_template_columns": null,
      "grid_template_rows": null,
      "height": null,
      "justify_content": null,
      "justify_items": null,
      "left": null,
      "margin": null,
      "max_height": null,
      "max_width": null,
      "min_height": null,
      "min_width": null,
      "object_fit": null,
      "object_position": null,
      "order": null,
      "overflow": null,
      "overflow_x": null,
      "overflow_y": null,
      "padding": null,
      "right": null,
      "top": null,
      "visibility": null,
      "width": null
     }
    },
    "4c6bc25ec6fe43449db337905e28f7a8": {
     "model_module": "@jupyter-widgets/controls",
     "model_module_version": "1.5.0",
     "model_name": "HBoxModel",
     "state": {
      "_dom_classes": [],
      "_model_module": "@jupyter-widgets/controls",
      "_model_module_version": "1.5.0",
      "_model_name": "HBoxModel",
      "_view_count": null,
      "_view_module": "@jupyter-widgets/controls",
      "_view_module_version": "1.5.0",
      "_view_name": "HBoxView",
      "box_style": "",
      "children": [
       "IPY_MODEL_41913e5ec0fd471fb19467573ed0c4c8",
       "IPY_MODEL_baec7636b03b400284fc84d2dd0f059f",
       "IPY_MODEL_67a557cd7c8141a3a3e004703bc853df"
      ],
      "layout": "IPY_MODEL_d17b118594574bdcae63d547485ee16b"
     }
    },
    "6164ba82b8ab4195bf77e0db1c3d4e54": {
     "model_module": "@jupyter-widgets/base",
     "model_module_version": "1.2.0",
     "model_name": "LayoutModel",
     "state": {
      "_model_module": "@jupyter-widgets/base",
      "_model_module_version": "1.2.0",
      "_model_name": "LayoutModel",
      "_view_count": null,
      "_view_module": "@jupyter-widgets/base",
      "_view_module_version": "1.2.0",
      "_view_name": "LayoutView",
      "align_content": null,
      "align_items": null,
      "align_self": null,
      "border": null,
      "bottom": null,
      "display": null,
      "flex": null,
      "flex_flow": null,
      "grid_area": null,
      "grid_auto_columns": null,
      "grid_auto_flow": null,
      "grid_auto_rows": null,
      "grid_column": null,
      "grid_gap": null,
      "grid_row": null,
      "grid_template_areas": null,
      "grid_template_columns": null,
      "grid_template_rows": null,
      "height": null,
      "justify_content": null,
      "justify_items": null,
      "left": null,
      "margin": null,
      "max_height": null,
      "max_width": null,
      "min_height": null,
      "min_width": null,
      "object_fit": null,
      "object_position": null,
      "order": null,
      "overflow": null,
      "overflow_x": null,
      "overflow_y": null,
      "padding": null,
      "right": null,
      "top": null,
      "visibility": null,
      "width": null
     }
    },
    "67a557cd7c8141a3a3e004703bc853df": {
     "model_module": "@jupyter-widgets/controls",
     "model_module_version": "1.5.0",
     "model_name": "HTMLModel",
     "state": {
      "_dom_classes": [],
      "_model_module": "@jupyter-widgets/controls",
      "_model_module_version": "1.5.0",
      "_model_name": "HTMLModel",
      "_view_count": null,
      "_view_module": "@jupyter-widgets/controls",
      "_view_module_version": "1.5.0",
      "_view_name": "HTMLView",
      "description": "",
      "description_tooltip": null,
      "layout": "IPY_MODEL_8df32711e7c340ccbf3d92d65f981421",
      "placeholder": "​",
      "style": "IPY_MODEL_dcaa7a024ddb4c19b25b6ad837e8f278",
      "value": " 286/286 [00:00&lt;00:00, 3590.67 examples/s]"
     }
    },
    "76e3d0f5fad6467d8ecde4d8d2b28a73": {
     "model_module": "@jupyter-widgets/controls",
     "model_module_version": "1.5.0",
     "model_name": "HTMLModel",
     "state": {
      "_dom_classes": [],
      "_model_module": "@jupyter-widgets/controls",
      "_model_module_version": "1.5.0",
      "_model_name": "HTMLModel",
      "_view_count": null,
      "_view_module": "@jupyter-widgets/controls",
      "_view_module_version": "1.5.0",
      "_view_name": "HTMLView",
      "description": "",
      "description_tooltip": null,
      "layout": "IPY_MODEL_dfb7f13e3f104a0292e083a58fa39623",
      "placeholder": "​",
      "style": "IPY_MODEL_a0740bcd833f480cb5b80b66176ee355",
      "value": " 158/158 [00:00&lt;00:00, 2286.69 examples/s]"
     }
    },
    "78395c4346574282b7b3e7dfaca0f4ee": {
     "model_module": "@jupyter-widgets/controls",
     "model_module_version": "1.5.0",
     "model_name": "ProgressStyleModel",
     "state": {
      "_model_module": "@jupyter-widgets/controls",
      "_model_module_version": "1.5.0",
      "_model_name": "ProgressStyleModel",
      "_view_count": null,
      "_view_module": "@jupyter-widgets/base",
      "_view_module_version": "1.2.0",
      "_view_name": "StyleView",
      "bar_color": null,
      "description_width": ""
     }
    },
    "8df32711e7c340ccbf3d92d65f981421": {
     "model_module": "@jupyter-widgets/base",
     "model_module_version": "1.2.0",
     "model_name": "LayoutModel",
     "state": {
      "_model_module": "@jupyter-widgets/base",
      "_model_module_version": "1.2.0",
      "_model_name": "LayoutModel",
      "_view_count": null,
      "_view_module": "@jupyter-widgets/base",
      "_view_module_version": "1.2.0",
      "_view_name": "LayoutView",
      "align_content": null,
      "align_items": null,
      "align_self": null,
      "border": null,
      "bottom": null,
      "display": null,
      "flex": null,
      "flex_flow": null,
      "grid_area": null,
      "grid_auto_columns": null,
      "grid_auto_flow": null,
      "grid_auto_rows": null,
      "grid_column": null,
      "grid_gap": null,
      "grid_row": null,
      "grid_template_areas": null,
      "grid_template_columns": null,
      "grid_template_rows": null,
      "height": null,
      "justify_content": null,
      "justify_items": null,
      "left": null,
      "margin": null,
      "max_height": null,
      "max_width": null,
      "min_height": null,
      "min_width": null,
      "object_fit": null,
      "object_position": null,
      "order": null,
      "overflow": null,
      "overflow_x": null,
      "overflow_y": null,
      "padding": null,
      "right": null,
      "top": null,
      "visibility": null,
      "width": null
     }
    },
    "99ae46da3b984572a92a4031f36ec845": {
     "model_module": "@jupyter-widgets/base",
     "model_module_version": "1.2.0",
     "model_name": "LayoutModel",
     "state": {
      "_model_module": "@jupyter-widgets/base",
      "_model_module_version": "1.2.0",
      "_model_name": "LayoutModel",
      "_view_count": null,
      "_view_module": "@jupyter-widgets/base",
      "_view_module_version": "1.2.0",
      "_view_name": "LayoutView",
      "align_content": null,
      "align_items": null,
      "align_self": null,
      "border": null,
      "bottom": null,
      "display": null,
      "flex": null,
      "flex_flow": null,
      "grid_area": null,
      "grid_auto_columns": null,
      "grid_auto_flow": null,
      "grid_auto_rows": null,
      "grid_column": null,
      "grid_gap": null,
      "grid_row": null,
      "grid_template_areas": null,
      "grid_template_columns": null,
      "grid_template_rows": null,
      "height": null,
      "justify_content": null,
      "justify_items": null,
      "left": null,
      "margin": null,
      "max_height": null,
      "max_width": null,
      "min_height": null,
      "min_width": null,
      "object_fit": null,
      "object_position": null,
      "order": null,
      "overflow": null,
      "overflow_x": null,
      "overflow_y": null,
      "padding": null,
      "right": null,
      "top": null,
      "visibility": null,
      "width": null
     }
    },
    "9b749ee0bea046a0bd2569f95dd3629e": {
     "model_module": "@jupyter-widgets/base",
     "model_module_version": "1.2.0",
     "model_name": "LayoutModel",
     "state": {
      "_model_module": "@jupyter-widgets/base",
      "_model_module_version": "1.2.0",
      "_model_name": "LayoutModel",
      "_view_count": null,
      "_view_module": "@jupyter-widgets/base",
      "_view_module_version": "1.2.0",
      "_view_name": "LayoutView",
      "align_content": null,
      "align_items": null,
      "align_self": null,
      "border": null,
      "bottom": null,
      "display": null,
      "flex": null,
      "flex_flow": null,
      "grid_area": null,
      "grid_auto_columns": null,
      "grid_auto_flow": null,
      "grid_auto_rows": null,
      "grid_column": null,
      "grid_gap": null,
      "grid_row": null,
      "grid_template_areas": null,
      "grid_template_columns": null,
      "grid_template_rows": null,
      "height": null,
      "justify_content": null,
      "justify_items": null,
      "left": null,
      "margin": null,
      "max_height": null,
      "max_width": null,
      "min_height": null,
      "min_width": null,
      "object_fit": null,
      "object_position": null,
      "order": null,
      "overflow": null,
      "overflow_x": null,
      "overflow_y": null,
      "padding": null,
      "right": null,
      "top": null,
      "visibility": null,
      "width": null
     }
    },
    "a0740bcd833f480cb5b80b66176ee355": {
     "model_module": "@jupyter-widgets/controls",
     "model_module_version": "1.5.0",
     "model_name": "DescriptionStyleModel",
     "state": {
      "_model_module": "@jupyter-widgets/controls",
      "_model_module_version": "1.5.0",
      "_model_name": "DescriptionStyleModel",
      "_view_count": null,
      "_view_module": "@jupyter-widgets/base",
      "_view_module_version": "1.2.0",
      "_view_name": "StyleView",
      "description_width": ""
     }
    },
    "a360ce1b71c74c569d5d16b818e15d10": {
     "model_module": "@jupyter-widgets/base",
     "model_module_version": "1.2.0",
     "model_name": "LayoutModel",
     "state": {
      "_model_module": "@jupyter-widgets/base",
      "_model_module_version": "1.2.0",
      "_model_name": "LayoutModel",
      "_view_count": null,
      "_view_module": "@jupyter-widgets/base",
      "_view_module_version": "1.2.0",
      "_view_name": "LayoutView",
      "align_content": null,
      "align_items": null,
      "align_self": null,
      "border": null,
      "bottom": null,
      "display": null,
      "flex": null,
      "flex_flow": null,
      "grid_area": null,
      "grid_auto_columns": null,
      "grid_auto_flow": null,
      "grid_auto_rows": null,
      "grid_column": null,
      "grid_gap": null,
      "grid_row": null,
      "grid_template_areas": null,
      "grid_template_columns": null,
      "grid_template_rows": null,
      "height": null,
      "justify_content": null,
      "justify_items": null,
      "left": null,
      "margin": null,
      "max_height": null,
      "max_width": null,
      "min_height": null,
      "min_width": null,
      "object_fit": null,
      "object_position": null,
      "order": null,
      "overflow": null,
      "overflow_x": null,
      "overflow_y": null,
      "padding": null,
      "right": null,
      "top": null,
      "visibility": null,
      "width": null
     }
    },
    "a501948a177942118b9b9f0bdfdd92b6": {
     "model_module": "@jupyter-widgets/controls",
     "model_module_version": "1.5.0",
     "model_name": "ProgressStyleModel",
     "state": {
      "_model_module": "@jupyter-widgets/controls",
      "_model_module_version": "1.5.0",
      "_model_name": "ProgressStyleModel",
      "_view_count": null,
      "_view_module": "@jupyter-widgets/base",
      "_view_module_version": "1.2.0",
      "_view_name": "StyleView",
      "bar_color": null,
      "description_width": ""
     }
    },
    "a678740f297846a9ba51343ef9acccb7": {
     "model_module": "@jupyter-widgets/base",
     "model_module_version": "1.2.0",
     "model_name": "LayoutModel",
     "state": {
      "_model_module": "@jupyter-widgets/base",
      "_model_module_version": "1.2.0",
      "_model_name": "LayoutModel",
      "_view_count": null,
      "_view_module": "@jupyter-widgets/base",
      "_view_module_version": "1.2.0",
      "_view_name": "LayoutView",
      "align_content": null,
      "align_items": null,
      "align_self": null,
      "border": null,
      "bottom": null,
      "display": null,
      "flex": null,
      "flex_flow": null,
      "grid_area": null,
      "grid_auto_columns": null,
      "grid_auto_flow": null,
      "grid_auto_rows": null,
      "grid_column": null,
      "grid_gap": null,
      "grid_row": null,
      "grid_template_areas": null,
      "grid_template_columns": null,
      "grid_template_rows": null,
      "height": null,
      "justify_content": null,
      "justify_items": null,
      "left": null,
      "margin": null,
      "max_height": null,
      "max_width": null,
      "min_height": null,
      "min_width": null,
      "object_fit": null,
      "object_position": null,
      "order": null,
      "overflow": null,
      "overflow_x": null,
      "overflow_y": null,
      "padding": null,
      "right": null,
      "top": null,
      "visibility": null,
      "width": null
     }
    },
    "ad2fdbff9bb94a428d4d9bba26a9227a": {
     "model_module": "@jupyter-widgets/controls",
     "model_module_version": "1.5.0",
     "model_name": "HBoxModel",
     "state": {
      "_dom_classes": [],
      "_model_module": "@jupyter-widgets/controls",
      "_model_module_version": "1.5.0",
      "_model_name": "HBoxModel",
      "_view_count": null,
      "_view_module": "@jupyter-widgets/controls",
      "_view_module_version": "1.5.0",
      "_view_name": "HBoxView",
      "box_style": "",
      "children": [
       "IPY_MODEL_f3f07832d759492fbbbb8b122358421d",
       "IPY_MODEL_d9f8ee15420a4fab9b2e458344c0393b",
       "IPY_MODEL_3ac29ea09e5c4f8db9657e56a1d12a6c"
      ],
      "layout": "IPY_MODEL_4312146943be4263a594c15a0df095a1"
     }
    },
    "baec7636b03b400284fc84d2dd0f059f": {
     "model_module": "@jupyter-widgets/controls",
     "model_module_version": "1.5.0",
     "model_name": "FloatProgressModel",
     "state": {
      "_dom_classes": [],
      "_model_module": "@jupyter-widgets/controls",
      "_model_module_version": "1.5.0",
      "_model_name": "FloatProgressModel",
      "_view_count": null,
      "_view_module": "@jupyter-widgets/controls",
      "_view_module_version": "1.5.0",
      "_view_name": "ProgressView",
      "bar_style": "success",
      "description": "",
      "description_tooltip": null,
      "layout": "IPY_MODEL_9b749ee0bea046a0bd2569f95dd3629e",
      "max": 286,
      "min": 0,
      "orientation": "horizontal",
      "style": "IPY_MODEL_78395c4346574282b7b3e7dfaca0f4ee",
      "value": 286
     }
    },
    "d160fc03521b429e9c6a2f71978f5697": {
     "model_module": "@jupyter-widgets/base",
     "model_module_version": "1.2.0",
     "model_name": "LayoutModel",
     "state": {
      "_model_module": "@jupyter-widgets/base",
      "_model_module_version": "1.2.0",
      "_model_name": "LayoutModel",
      "_view_count": null,
      "_view_module": "@jupyter-widgets/base",
      "_view_module_version": "1.2.0",
      "_view_name": "LayoutView",
      "align_content": null,
      "align_items": null,
      "align_self": null,
      "border": null,
      "bottom": null,
      "display": null,
      "flex": null,
      "flex_flow": null,
      "grid_area": null,
      "grid_auto_columns": null,
      "grid_auto_flow": null,
      "grid_auto_rows": null,
      "grid_column": null,
      "grid_gap": null,
      "grid_row": null,
      "grid_template_areas": null,
      "grid_template_columns": null,
      "grid_template_rows": null,
      "height": null,
      "justify_content": null,
      "justify_items": null,
      "left": null,
      "margin": null,
      "max_height": null,
      "max_width": null,
      "min_height": null,
      "min_width": null,
      "object_fit": null,
      "object_position": null,
      "order": null,
      "overflow": null,
      "overflow_x": null,
      "overflow_y": null,
      "padding": null,
      "right": null,
      "top": null,
      "visibility": null,
      "width": null
     }
    },
    "d17b118594574bdcae63d547485ee16b": {
     "model_module": "@jupyter-widgets/base",
     "model_module_version": "1.2.0",
     "model_name": "LayoutModel",
     "state": {
      "_model_module": "@jupyter-widgets/base",
      "_model_module_version": "1.2.0",
      "_model_name": "LayoutModel",
      "_view_count": null,
      "_view_module": "@jupyter-widgets/base",
      "_view_module_version": "1.2.0",
      "_view_name": "LayoutView",
      "align_content": null,
      "align_items": null,
      "align_self": null,
      "border": null,
      "bottom": null,
      "display": null,
      "flex": null,
      "flex_flow": null,
      "grid_area": null,
      "grid_auto_columns": null,
      "grid_auto_flow": null,
      "grid_auto_rows": null,
      "grid_column": null,
      "grid_gap": null,
      "grid_row": null,
      "grid_template_areas": null,
      "grid_template_columns": null,
      "grid_template_rows": null,
      "height": null,
      "justify_content": null,
      "justify_items": null,
      "left": null,
      "margin": null,
      "max_height": null,
      "max_width": null,
      "min_height": null,
      "min_width": null,
      "object_fit": null,
      "object_position": null,
      "order": null,
      "overflow": null,
      "overflow_x": null,
      "overflow_y": null,
      "padding": null,
      "right": null,
      "top": null,
      "visibility": null,
      "width": null
     }
    },
    "d92a05827a4f4617a01a029eebdb2e4b": {
     "model_module": "@jupyter-widgets/controls",
     "model_module_version": "1.5.0",
     "model_name": "DescriptionStyleModel",
     "state": {
      "_model_module": "@jupyter-widgets/controls",
      "_model_module_version": "1.5.0",
      "_model_name": "DescriptionStyleModel",
      "_view_count": null,
      "_view_module": "@jupyter-widgets/base",
      "_view_module_version": "1.2.0",
      "_view_name": "StyleView",
      "description_width": ""
     }
    },
    "d9f8ee15420a4fab9b2e458344c0393b": {
     "model_module": "@jupyter-widgets/controls",
     "model_module_version": "1.5.0",
     "model_name": "FloatProgressModel",
     "state": {
      "_dom_classes": [],
      "_model_module": "@jupyter-widgets/controls",
      "_model_module_version": "1.5.0",
      "_model_name": "FloatProgressModel",
      "_view_count": null,
      "_view_module": "@jupyter-widgets/controls",
      "_view_module_version": "1.5.0",
      "_view_name": "ProgressView",
      "bar_style": "success",
      "description": "",
      "description_tooltip": null,
      "layout": "IPY_MODEL_a678740f297846a9ba51343ef9acccb7",
      "max": 2870,
      "min": 0,
      "orientation": "horizontal",
      "style": "IPY_MODEL_a501948a177942118b9b9f0bdfdd92b6",
      "value": 2870
     }
    },
    "dcaa7a024ddb4c19b25b6ad837e8f278": {
     "model_module": "@jupyter-widgets/controls",
     "model_module_version": "1.5.0",
     "model_name": "DescriptionStyleModel",
     "state": {
      "_model_module": "@jupyter-widgets/controls",
      "_model_module_version": "1.5.0",
      "_model_name": "DescriptionStyleModel",
      "_view_count": null,
      "_view_module": "@jupyter-widgets/base",
      "_view_module_version": "1.2.0",
      "_view_name": "StyleView",
      "description_width": ""
     }
    },
    "dfb7f13e3f104a0292e083a58fa39623": {
     "model_module": "@jupyter-widgets/base",
     "model_module_version": "1.2.0",
     "model_name": "LayoutModel",
     "state": {
      "_model_module": "@jupyter-widgets/base",
      "_model_module_version": "1.2.0",
      "_model_name": "LayoutModel",
      "_view_count": null,
      "_view_module": "@jupyter-widgets/base",
      "_view_module_version": "1.2.0",
      "_view_name": "LayoutView",
      "align_content": null,
      "align_items": null,
      "align_self": null,
      "border": null,
      "bottom": null,
      "display": null,
      "flex": null,
      "flex_flow": null,
      "grid_area": null,
      "grid_auto_columns": null,
      "grid_auto_flow": null,
      "grid_auto_rows": null,
      "grid_column": null,
      "grid_gap": null,
      "grid_row": null,
      "grid_template_areas": null,
      "grid_template_columns": null,
      "grid_template_rows": null,
      "height": null,
      "justify_content": null,
      "justify_items": null,
      "left": null,
      "margin": null,
      "max_height": null,
      "max_width": null,
      "min_height": null,
      "min_width": null,
      "object_fit": null,
      "object_position": null,
      "order": null,
      "overflow": null,
      "overflow_x": null,
      "overflow_y": null,
      "padding": null,
      "right": null,
      "top": null,
      "visibility": null,
      "width": null
     }
    },
    "e314abf17ead42158468f5d0847f25cd": {
     "model_module": "@jupyter-widgets/base",
     "model_module_version": "1.2.0",
     "model_name": "LayoutModel",
     "state": {
      "_model_module": "@jupyter-widgets/base",
      "_model_module_version": "1.2.0",
      "_model_name": "LayoutModel",
      "_view_count": null,
      "_view_module": "@jupyter-widgets/base",
      "_view_module_version": "1.2.0",
      "_view_name": "LayoutView",
      "align_content": null,
      "align_items": null,
      "align_self": null,
      "border": null,
      "bottom": null,
      "display": null,
      "flex": null,
      "flex_flow": null,
      "grid_area": null,
      "grid_auto_columns": null,
      "grid_auto_flow": null,
      "grid_auto_rows": null,
      "grid_column": null,
      "grid_gap": null,
      "grid_row": null,
      "grid_template_areas": null,
      "grid_template_columns": null,
      "grid_template_rows": null,
      "height": null,
      "justify_content": null,
      "justify_items": null,
      "left": null,
      "margin": null,
      "max_height": null,
      "max_width": null,
      "min_height": null,
      "min_width": null,
      "object_fit": null,
      "object_position": null,
      "order": null,
      "overflow": null,
      "overflow_x": null,
      "overflow_y": null,
      "padding": null,
      "right": null,
      "top": null,
      "visibility": null,
      "width": null
     }
    },
    "e7ec1d78fc9349e780b4c67aef084c81": {
     "model_module": "@jupyter-widgets/controls",
     "model_module_version": "1.5.0",
     "model_name": "FloatProgressModel",
     "state": {
      "_dom_classes": [],
      "_model_module": "@jupyter-widgets/controls",
      "_model_module_version": "1.5.0",
      "_model_name": "FloatProgressModel",
      "_view_count": null,
      "_view_module": "@jupyter-widgets/controls",
      "_view_module_version": "1.5.0",
      "_view_name": "ProgressView",
      "bar_style": "success",
      "description": "",
      "description_tooltip": null,
      "layout": "IPY_MODEL_010af9ad50c342aa8ffd390913656783",
      "max": 158,
      "min": 0,
      "orientation": "horizontal",
      "style": "IPY_MODEL_37f6e3a55fae4e89b226d65799c056ae",
      "value": 158
     }
    },
    "ed24a4a107564712b5239f68fe8b807f": {
     "model_module": "@jupyter-widgets/controls",
     "model_module_version": "1.5.0",
     "model_name": "DescriptionStyleModel",
     "state": {
      "_model_module": "@jupyter-widgets/controls",
      "_model_module_version": "1.5.0",
      "_model_name": "DescriptionStyleModel",
      "_view_count": null,
      "_view_module": "@jupyter-widgets/base",
      "_view_module_version": "1.2.0",
      "_view_name": "StyleView",
      "description_width": ""
     }
    },
    "f3f07832d759492fbbbb8b122358421d": {
     "model_module": "@jupyter-widgets/controls",
     "model_module_version": "1.5.0",
     "model_name": "HTMLModel",
     "state": {
      "_dom_classes": [],
      "_model_module": "@jupyter-widgets/controls",
      "_model_module_version": "1.5.0",
      "_model_name": "HTMLModel",
      "_view_count": null,
      "_view_module": "@jupyter-widgets/controls",
      "_view_module_version": "1.5.0",
      "_view_name": "HTMLView",
      "description": "",
      "description_tooltip": null,
      "layout": "IPY_MODEL_e314abf17ead42158468f5d0847f25cd",
      "placeholder": "​",
      "style": "IPY_MODEL_392b67ddfb28405997e480da9608c65f",
      "value": "Map: 100%"
     }
    }
   }
  }
 },
 "nbformat": 4,
 "nbformat_minor": 0
}
