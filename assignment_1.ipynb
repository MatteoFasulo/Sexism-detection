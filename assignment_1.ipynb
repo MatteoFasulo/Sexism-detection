{
 "cells": [
  {
   "cell_type": "markdown",
   "metadata": {},
   "source": [
    "<a href=\"https://colab.research.google.com/github/MatteoFasulo/Sexism-detection/blob/main/assignment_1.ipynb\" target=\"_parent\"><img src=\"https://colab.research.google.com/assets/colab-badge.svg\" alt=\"Open In Colab\"/></a>"
   ]
  },
  {
   "cell_type": "markdown",
   "metadata": {},
   "source": [
    "# Libraries"
   ]
  },
  {
   "cell_type": "code",
   "execution_count": 5,
   "metadata": {},
   "outputs": [],
   "source": [
    "import os\n",
    "from pathlib import Path\n",
    "\n",
    "import numpy as np\n",
    "import pandas as pd\n",
    "\n",
    "import matplotlib.pyplot as plt"
   ]
  },
  {
   "cell_type": "markdown",
   "metadata": {},
   "source": [
    "### Constants and Setup"
   ]
  },
  {
   "cell_type": "markdown",
   "metadata": {},
   "source": [
    "# Task 1: Corpus\n",
    "\n",
    "1. Download the data\n",
    "2. Load the JSON files and encode them as a DataFrame\n",
    "3. Generate hard labels for Task 1 with majority voting\n",
    "4. Filter the DataFrame for only english tweets\n",
    "5. Remove unwanted columns\n",
    "6. Encode the hard labels column as integers"
   ]
  },
  {
   "cell_type": "markdown",
   "metadata": {},
   "source": [
    "### Download the data"
   ]
  },
  {
   "cell_type": "code",
   "execution_count": 4,
   "metadata": {},
   "outputs": [
    {
     "name": "stderr",
     "output_type": "stream",
     "text": [
      "--2024-11-05 18:44:35--  https://raw.githubusercontent.com/nlp-unibo/nlp-course-material/refs/heads/main/2024-2025/Assignment%201/data/training.json\n",
      "Resolving raw.githubusercontent.com (raw.githubusercontent.com)... 185.199.109.133, 185.199.110.133, 185.199.111.133, ...\n",
      "Connecting to raw.githubusercontent.com (raw.githubusercontent.com)|185.199.109.133|:443... connected.\n",
      "HTTP request sent, awaiting response... 200 OK\n",
      "Length: 6217980 (5.9M) [text/plain]\n",
      "Saving to: ‘data/training.json’\n",
      "\n",
      "     0K .......... .......... .......... .......... ..........  0% 3.29M 2s\n",
      "    50K .......... .......... .......... .......... ..........  1% 1.91M 2s\n",
      "   100K .......... .......... .......... .......... ..........  2% 3.49M 2s\n",
      "   150K .......... .......... .......... .......... ..........  3% 3.19M 2s\n",
      "   200K .......... .......... .......... .......... ..........  4% 3.21M 2s\n",
      "   250K .......... .......... .......... .......... ..........  4% 2.08M 2s\n",
      "   300K .......... .......... .......... .......... ..........  5% 2.94M 2s\n",
      "   350K .......... .......... .......... .......... ..........  6% 2.65M 2s\n",
      "   400K .......... .......... .......... .......... ..........  7% 2.96M 2s\n",
      "   450K .......... .......... .......... .......... ..........  8% 2.72M 2s\n",
      "   500K .......... .......... .......... .......... ..........  9% 2.68M 2s\n",
      "   550K .......... .......... .......... .......... ..........  9% 2.76M 2s\n",
      "   600K .......... .......... .......... .......... .......... 10% 3.04M 2s\n",
      "   650K .......... .......... .......... .......... .......... 11% 2.46M 2s\n",
      "   700K .......... .......... .......... .......... .......... 12% 3.64M 2s\n",
      "   750K .......... .......... .......... .......... .......... 13% 3.42M 2s\n",
      "   800K .......... .......... .......... .......... .......... 13% 3.66M 2s\n",
      "   850K .......... .......... .......... .......... .......... 14% 3.31M 2s\n",
      "   900K .......... .......... .......... .......... .......... 15% 3.23M 2s\n",
      "   950K .......... .......... .......... .......... .......... 16% 3.75M 2s\n",
      "  1000K .......... .......... .......... .......... .......... 17% 2.37M 2s\n",
      "  1050K .......... .......... .......... .......... .......... 18% 3.03M 2s\n",
      "  1100K .......... .......... .......... .......... .......... 18% 3.22M 2s\n",
      "  1150K .......... .......... .......... .......... .......... 19% 4.02M 2s\n",
      "  1200K .......... .......... .......... .......... .......... 20% 2.98M 2s\n",
      "  1250K .......... .......... .......... .......... .......... 21% 2.29M 2s\n",
      "  1300K .......... .......... .......... .......... .......... 22% 3.34M 2s\n",
      "  1350K .......... .......... .......... .......... .......... 23% 3.23M 2s\n",
      "  1400K .......... .......... .......... .......... .......... 23% 3.40M 2s\n",
      "  1450K .......... .......... .......... .......... .......... 24% 2.91M 2s\n",
      "  1500K .......... .......... .......... .......... .......... 25% 3.76M 1s\n",
      "  1550K .......... .......... .......... .......... .......... 26% 2.50M 1s\n",
      "  1600K .......... .......... .......... .......... .......... 27% 3.17M 1s\n",
      "  1650K .......... .......... .......... .......... .......... 27% 2.34M 1s\n",
      "  1700K .......... .......... .......... .......... .......... 28% 3.44M 1s\n",
      "  1750K .......... .......... .......... .......... .......... 29% 3.07M 1s\n",
      "  1800K .......... .......... .......... .......... .......... 30% 2.88M 1s\n",
      "  1850K .......... .......... .......... .......... .......... 31% 2.27M 1s\n",
      "  1900K .......... .......... .......... .......... .......... 32% 2.53M 1s\n",
      "  1950K .......... .......... .......... .......... .......... 32% 2.39M 1s\n",
      "  2000K .......... .......... .......... .......... .......... 33% 2.25M 1s\n",
      "  2050K .......... .......... .......... .......... .......... 34% 1.18M 1s\n",
      "  2100K .......... .......... .......... .......... .......... 35% 1.78M 1s\n",
      "  2150K .......... .......... .......... .......... .......... 36% 1.19M 1s\n",
      "  2200K .......... .......... .......... .......... .......... 37%  967K 1s\n",
      "  2250K .......... .......... .......... .......... .......... 37% 2.64M 1s\n",
      "  2300K .......... .......... .......... .......... .......... 38% 1.90M 1s\n",
      "  2350K .......... .......... .......... .......... .......... 39% 2.39M 1s\n",
      "  2400K .......... .......... .......... .......... .......... 40% 2.65M 1s\n",
      "  2450K .......... .......... .......... .......... .......... 41% 2.19M 1s\n",
      "  2500K .......... .......... .......... .......... .......... 41% 3.03M 1s\n",
      "  2550K .......... .......... .......... .......... .......... 42% 2.83M 1s\n",
      "  2600K .......... .......... .......... .......... .......... 43% 2.25M 1s\n",
      "  2650K .......... .......... .......... .......... .......... 44% 2.75M 1s\n",
      "  2700K .......... .......... .......... .......... .......... 45% 2.85M 1s\n",
      "  2750K .......... .......... .......... .......... .......... 46% 3.18M 1s\n",
      "  2800K .......... .......... .......... .......... .......... 46% 3.77M 1s\n",
      "  2850K .......... .......... .......... .......... .......... 47% 1.65M 1s\n",
      "  2900K .......... .......... .......... .......... .......... 48% 3.01M 1s\n",
      "  2950K .......... .......... .......... .......... .......... 49% 3.33M 1s\n",
      "  3000K .......... .......... .......... .......... .......... 50% 1.77M 1s\n",
      "  3050K .......... .......... .......... .......... .......... 51% 3.47M 1s\n",
      "  3100K .......... .......... .......... .......... .......... 51% 3.31M 1s\n",
      "  3150K .......... .......... .......... .......... .......... 52% 2.30M 1s\n",
      "  3200K .......... .......... .......... .......... .......... 53% 1.04M 1s\n",
      "  3250K .......... .......... .......... .......... .......... 54%  958K 1s\n",
      "  3300K .......... .......... .......... .......... .......... 55% 2.38M 1s\n",
      "  3350K .......... .......... .......... .......... .......... 55% 3.28M 1s\n",
      "  3400K .......... .......... .......... .......... .......... 56% 4.21M 1s\n",
      "  3450K .......... .......... .......... .......... .......... 57% 2.64M 1s\n",
      "  3500K .......... .......... .......... .......... .......... 58% 4.37M 1s\n",
      "  3550K .......... .......... .......... .......... .......... 59% 2.78M 1s\n",
      "  3600K .......... .......... .......... .......... .......... 60% 3.11M 1s\n",
      "  3650K .......... .......... .......... .......... .......... 60%  415K 1s\n",
      "  3700K .......... .......... .......... .......... .......... 61% 51.4M 1s\n",
      "  3750K .......... .......... .......... .......... .......... 62% 60.3M 1s\n",
      "  3800K .......... .......... .......... .......... .......... 63%  140M 1s\n",
      "  3850K .......... .......... .......... .......... .......... 64%  166M 1s\n",
      "  3900K .......... .......... .......... .......... .......... 65%  146M 1s\n",
      "  3950K .......... .......... .......... .......... .......... 65%  179M 1s\n",
      "  4000K .......... .......... .......... .......... .......... 66% 6.92M 1s\n",
      "  4050K .......... .......... .......... .......... .......... 67% 1.90M 1s\n",
      "  4100K .......... .......... .......... .......... .......... 68% 2.94M 1s\n",
      "  4150K .......... .......... .......... .......... .......... 69% 2.43M 1s\n",
      "  4200K .......... .......... .......... .......... .......... 69% 3.44M 1s\n",
      "  4250K .......... .......... .......... .......... .......... 70% 1.66M 1s\n",
      "  4300K .......... .......... .......... .......... .......... 71% 3.61M 1s\n",
      "  4350K .......... .......... .......... .......... .......... 72% 2.96M 1s\n",
      "  4400K .......... .......... .......... .......... .......... 73% 3.24M 1s\n",
      "  4450K .......... .......... .......... .......... .......... 74% 2.09M 1s\n",
      "  4500K .......... .......... .......... .......... .......... 74% 2.37M 1s\n",
      "  4550K .......... .......... .......... .......... .......... 75% 3.18M 1s\n",
      "  4600K .......... .......... .......... .......... .......... 76% 2.77M 1s\n",
      "  4650K .......... .......... .......... .......... .......... 77% 2.40M 1s\n",
      "  4700K .......... .......... .......... .......... .......... 78% 2.12M 1s\n",
      "  4750K .......... .......... .......... .......... .......... 79% 3.34M 0s\n",
      "  4800K .......... .......... .......... .......... .......... 79% 2.47M 0s\n",
      "  4850K .......... .......... .......... .......... .......... 80% 2.44M 0s\n",
      "  4900K .......... .......... .......... .......... .......... 81% 3.65M 0s\n",
      "  4950K .......... .......... .......... .......... .......... 82% 2.89M 0s\n",
      "  5000K .......... .......... .......... .......... .......... 83% 3.93M 0s\n",
      "  5050K .......... .......... .......... .......... .......... 83% 3.17M 0s\n",
      "  5100K .......... .......... .......... .......... .......... 84% 2.98M 0s\n",
      "  5150K .......... .......... .......... .......... .......... 85% 2.59M 0s\n",
      "  5200K .......... .......... .......... .......... .......... 86% 2.92M 0s\n",
      "  5250K .......... .......... .......... .......... .......... 87% 2.41M 0s\n",
      "  5300K .......... .......... .......... .......... .......... 88% 2.82M 0s\n",
      "  5350K .......... .......... .......... .......... .......... 88% 3.27M 0s\n",
      "  5400K .......... .......... .......... .......... .......... 89% 3.22M 0s\n",
      "  5450K .......... .......... .......... .......... .......... 90% 3.08M 0s\n",
      "  5500K .......... .......... .......... .......... .......... 91% 2.53M 0s\n",
      "  5550K .......... .......... .......... .......... .......... 92% 3.37M 0s\n",
      "  5600K .......... .......... .......... .......... .......... 93% 3.59M 0s\n",
      "  5650K .......... .......... .......... .......... .......... 93% 1.78M 0s\n",
      "  5700K .......... .......... .......... .......... .......... 94% 2.30M 0s\n",
      "  5750K .......... .......... .......... .......... .......... 95% 2.68M 0s\n",
      "  5800K .......... .......... .......... .......... .......... 96% 2.10M 0s\n",
      "  5850K .......... .......... .......... .......... .......... 97% 1.77M 0s\n",
      "  5900K .......... .......... .......... .......... .......... 97%  580K 0s\n",
      "  5950K .......... .......... .......... .......... .......... 98% 9.21M 0s\n",
      "  6000K .......... .......... .......... .......... .......... 99%  210M 0s\n",
      "  6050K .......... .......... ..                              100%  151M=2.3s\n",
      "\n",
      "2024-11-05 18:44:37 (2.54 MB/s) - ‘data/training.json’ saved [6217980/6217980]\n",
      "\n",
      "--2024-11-05 18:44:37--  https://raw.githubusercontent.com/nlp-unibo/nlp-course-material/refs/heads/main/2024-2025/Assignment%201/data/test.json\n",
      "Resolving raw.githubusercontent.com (raw.githubusercontent.com)... 185.199.111.133, 185.199.108.133, 185.199.109.133, ...\n",
      "Connecting to raw.githubusercontent.com (raw.githubusercontent.com)|185.199.111.133|:443... connected.\n",
      "HTTP request sent, awaiting response... 200 OK\n",
      "Length: 492435 (481K) [text/plain]\n",
      "Saving to: ‘data/test.json’\n",
      "\n",
      "     0K .......... .......... .......... .......... .......... 10% 2.89M 0s\n",
      "    50K .......... .......... .......... .......... .......... 20% 2.85M 0s\n",
      "   100K .......... .......... .......... .......... .......... 31% 3.55M 0s\n",
      "   150K .......... .......... .......... .......... .......... 41% 3.78M 0s\n",
      "   200K .......... .......... .......... .......... .......... 51% 3.98M 0s\n",
      "   250K .......... .......... .......... .......... .......... 62% 3.56M 0s\n",
      "   300K .......... .......... .......... .......... .......... 72% 2.94M 0s\n",
      "   350K .......... .......... .......... .......... .......... 83% 2.54M 0s\n",
      "   400K .......... .......... .......... .......... .......... 93% 2.34M 0s\n",
      "   450K .......... .......... ..........                      100% 7.36M=0.1s\n",
      "\n",
      "2024-11-05 18:44:38 (3.19 MB/s) - ‘data/test.json’ saved [492435/492435]\n",
      "\n",
      "--2024-11-05 18:44:38--  https://raw.githubusercontent.com/nlp-unibo/nlp-course-material/refs/heads/main/2024-2025/Assignment%201/data/validation.json\n",
      "Resolving raw.githubusercontent.com (raw.githubusercontent.com)... 185.199.110.133, 185.199.111.133, 185.199.109.133, ...\n",
      "Connecting to raw.githubusercontent.com (raw.githubusercontent.com)|185.199.110.133|:443... connected.\n",
      "HTTP request sent, awaiting response... 200 OK\n",
      "Length: 1159313 (1.1M) [text/plain]\n",
      "Saving to: ‘data/validation.json’\n",
      "\n",
      "     0K .......... .......... .......... .......... ..........  4% 2.29M 0s\n",
      "    50K .......... .......... .......... .......... ..........  8% 3.04M 0s\n",
      "   100K .......... .......... .......... .......... .......... 13% 2.80M 0s\n",
      "   150K .......... .......... .......... .......... .......... 17% 3.72M 0s\n",
      "   200K .......... .......... .......... .......... .......... 22% 3.43M 0s\n",
      "   250K .......... .......... .......... .......... .......... 26% 3.18M 0s\n",
      "   300K .......... .......... .......... .......... .......... 30% 2.93M 0s\n",
      "   350K .......... .......... .......... .......... .......... 35% 2.49M 0s\n",
      "   400K .......... .......... .......... .......... .......... 39% 2.75M 0s\n",
      "   450K .......... .......... .......... .......... .......... 44% 3.61M 0s\n",
      "   500K .......... .......... .......... .......... .......... 48% 3.60M 0s\n",
      "   550K .......... .......... .......... .......... .......... 52% 2.87M 0s\n",
      "   600K .......... .......... .......... .......... .......... 57% 3.44M 0s\n",
      "   650K .......... .......... .......... .......... .......... 61% 2.77M 0s\n",
      "   700K .......... .......... .......... .......... .......... 66% 2.89M 0s\n",
      "   750K .......... .......... .......... .......... .......... 70% 2.40M 0s\n",
      "   800K .......... .......... .......... .......... .......... 75% 3.05M 0s\n",
      "   850K .......... .......... .......... .......... .......... 79% 3.07M 0s\n",
      "   900K .......... .......... .......... .......... .......... 83% 3.08M 0s\n",
      "   950K .......... .......... .......... .......... .......... 88% 4.07M 0s\n",
      "  1000K .......... .......... .......... .......... .......... 92% 3.13M 0s\n",
      "  1050K .......... .......... .......... .......... .......... 97% 2.74M 0s\n",
      "  1100K .......... .......... .......... ..                   100% 3.83M=0.4s\n",
      "\n",
      "2024-11-05 18:44:39 (3.02 MB/s) - ‘data/validation.json’ saved [1159313/1159313]\n",
      "\n"
     ]
    },
    {
     "data": {
      "text/plain": [
       "0"
      ]
     },
     "execution_count": 4,
     "metadata": {},
     "output_type": "execute_result"
    }
   ],
   "source": [
    "if not Path(\"data\").exists():\n",
    "    os.mkdir(\"data\")\n",
    "    print(\"data directory created\")\n",
    "\n",
    "train_url = 'https://raw.githubusercontent.com/nlp-unibo/nlp-course-material/refs/heads/main/2024-2025/Assignment%201/data/training.json'\n",
    "test_url = 'https://raw.githubusercontent.com/nlp-unibo/nlp-course-material/refs/heads/main/2024-2025/Assignment%201/data/test.json'\n",
    "val_url = 'https://raw.githubusercontent.com/nlp-unibo/nlp-course-material/refs/heads/main/2024-2025/Assignment%201/data/validation.json'\n",
    "\n",
    "os.system(f\"wget {train_url} -O data/training.json\")\n",
    "os.system(f\"wget {test_url} -O data/test.json\")\n",
    "os.system(f\"wget {val_url} -O data/validation.json\")"
   ]
  },
  {
   "cell_type": "markdown",
   "metadata": {},
   "source": [
    "### Load the JSON files and encode them as a DataFrame"
   ]
  },
  {
   "cell_type": "code",
   "execution_count": 52,
   "metadata": {},
   "outputs": [],
   "source": [
    "train = pd.read_json(\"data/training.json\", orient='index', encoding='utf-8')\n",
    "val = pd.read_json(\"data/validation.json\", orient='index', encoding='utf-8')\n",
    "test = pd.read_json(\"data/test.json\", orient='index', encoding='utf-8')"
   ]
  },
  {
   "cell_type": "code",
   "execution_count": 53,
   "metadata": {},
   "outputs": [
    {
     "data": {
      "text/html": [
       "<div>\n",
       "<style scoped>\n",
       "    .dataframe tbody tr th:only-of-type {\n",
       "        vertical-align: middle;\n",
       "    }\n",
       "\n",
       "    .dataframe tbody tr th {\n",
       "        vertical-align: top;\n",
       "    }\n",
       "\n",
       "    .dataframe thead th {\n",
       "        text-align: right;\n",
       "    }\n",
       "</style>\n",
       "<table border=\"1\" class=\"dataframe\">\n",
       "  <thead>\n",
       "    <tr style=\"text-align: right;\">\n",
       "      <th></th>\n",
       "      <th>id_EXIST</th>\n",
       "      <th>lang</th>\n",
       "      <th>tweet</th>\n",
       "      <th>number_annotators</th>\n",
       "      <th>annotators</th>\n",
       "      <th>gender_annotators</th>\n",
       "      <th>age_annotators</th>\n",
       "      <th>labels_task1</th>\n",
       "      <th>labels_task2</th>\n",
       "      <th>labels_task3</th>\n",
       "      <th>split</th>\n",
       "    </tr>\n",
       "  </thead>\n",
       "  <tbody>\n",
       "    <tr>\n",
       "      <th>100001</th>\n",
       "      <td>100001</td>\n",
       "      <td>es</td>\n",
       "      <td>@TheChiflis Ignora al otro, es un capullo.El p...</td>\n",
       "      <td>6</td>\n",
       "      <td>[Annotator_1, Annotator_2, Annotator_3, Annota...</td>\n",
       "      <td>[F, F, F, M, M, M]</td>\n",
       "      <td>[18-22, 23-45, 46+, 46+, 23-45, 18-22]</td>\n",
       "      <td>[YES, YES, NO, YES, YES, YES]</td>\n",
       "      <td>[REPORTED, JUDGEMENTAL, -, REPORTED, JUDGEMENT...</td>\n",
       "      <td>[[OBJECTIFICATION], [OBJECTIFICATION, SEXUAL-V...</td>\n",
       "      <td>TRAIN_ES</td>\n",
       "    </tr>\n",
       "    <tr>\n",
       "      <th>100002</th>\n",
       "      <td>100002</td>\n",
       "      <td>es</td>\n",
       "      <td>@ultimonomada_ Si comicsgate se parece en algo...</td>\n",
       "      <td>6</td>\n",
       "      <td>[Annotator_7, Annotator_8, Annotator_9, Annota...</td>\n",
       "      <td>[F, F, F, M, M, M]</td>\n",
       "      <td>[18-22, 23-45, 46+, 46+, 23-45, 18-22]</td>\n",
       "      <td>[NO, NO, NO, NO, YES, NO]</td>\n",
       "      <td>[-, -, -, -, DIRECT, -]</td>\n",
       "      <td>[[-], [-], [-], [-], [OBJECTIFICATION], [-]]</td>\n",
       "      <td>TRAIN_ES</td>\n",
       "    </tr>\n",
       "    <tr>\n",
       "      <th>100003</th>\n",
       "      <td>100003</td>\n",
       "      <td>es</td>\n",
       "      <td>@Steven2897 Lee sobre Gamergate, y como eso ha...</td>\n",
       "      <td>6</td>\n",
       "      <td>[Annotator_7, Annotator_8, Annotator_9, Annota...</td>\n",
       "      <td>[F, F, F, M, M, M]</td>\n",
       "      <td>[18-22, 23-45, 46+, 46+, 23-45, 18-22]</td>\n",
       "      <td>[NO, NO, NO, NO, NO, NO]</td>\n",
       "      <td>[-, -, -, -, -, -]</td>\n",
       "      <td>[[-], [-], [-], [-], [-], [-]]</td>\n",
       "      <td>TRAIN_ES</td>\n",
       "    </tr>\n",
       "    <tr>\n",
       "      <th>100004</th>\n",
       "      <td>100004</td>\n",
       "      <td>es</td>\n",
       "      <td>@Lunariita7 Un retraso social bastante lamenta...</td>\n",
       "      <td>6</td>\n",
       "      <td>[Annotator_13, Annotator_14, Annotator_15, Ann...</td>\n",
       "      <td>[F, F, F, M, M, M]</td>\n",
       "      <td>[18-22, 23-45, 46+, 46+, 23-45, 18-22]</td>\n",
       "      <td>[NO, NO, YES, NO, YES, YES]</td>\n",
       "      <td>[-, -, DIRECT, -, REPORTED, REPORTED]</td>\n",
       "      <td>[[-], [-], [IDEOLOGICAL-INEQUALITY], [-], [IDE...</td>\n",
       "      <td>TRAIN_ES</td>\n",
       "    </tr>\n",
       "    <tr>\n",
       "      <th>100005</th>\n",
       "      <td>100005</td>\n",
       "      <td>es</td>\n",
       "      <td>@novadragon21 @icep4ck @TvDannyZ Entonces como...</td>\n",
       "      <td>6</td>\n",
       "      <td>[Annotator_19, Annotator_20, Annotator_21, Ann...</td>\n",
       "      <td>[F, F, F, M, M, M]</td>\n",
       "      <td>[18-22, 23-45, 46+, 46+, 23-45, 18-22]</td>\n",
       "      <td>[YES, NO, YES, NO, YES, YES]</td>\n",
       "      <td>[REPORTED, -, JUDGEMENTAL, -, JUDGEMENTAL, DIR...</td>\n",
       "      <td>[[STEREOTYPING-DOMINANCE, OBJECTIFICATION], [-...</td>\n",
       "      <td>TRAIN_ES</td>\n",
       "    </tr>\n",
       "  </tbody>\n",
       "</table>\n",
       "</div>"
      ],
      "text/plain": [
       "        id_EXIST lang                                              tweet  \\\n",
       "100001    100001   es  @TheChiflis Ignora al otro, es un capullo.El p...   \n",
       "100002    100002   es  @ultimonomada_ Si comicsgate se parece en algo...   \n",
       "100003    100003   es  @Steven2897 Lee sobre Gamergate, y como eso ha...   \n",
       "100004    100004   es  @Lunariita7 Un retraso social bastante lamenta...   \n",
       "100005    100005   es  @novadragon21 @icep4ck @TvDannyZ Entonces como...   \n",
       "\n",
       "        number_annotators                                         annotators  \\\n",
       "100001                  6  [Annotator_1, Annotator_2, Annotator_3, Annota...   \n",
       "100002                  6  [Annotator_7, Annotator_8, Annotator_9, Annota...   \n",
       "100003                  6  [Annotator_7, Annotator_8, Annotator_9, Annota...   \n",
       "100004                  6  [Annotator_13, Annotator_14, Annotator_15, Ann...   \n",
       "100005                  6  [Annotator_19, Annotator_20, Annotator_21, Ann...   \n",
       "\n",
       "         gender_annotators                          age_annotators  \\\n",
       "100001  [F, F, F, M, M, M]  [18-22, 23-45, 46+, 46+, 23-45, 18-22]   \n",
       "100002  [F, F, F, M, M, M]  [18-22, 23-45, 46+, 46+, 23-45, 18-22]   \n",
       "100003  [F, F, F, M, M, M]  [18-22, 23-45, 46+, 46+, 23-45, 18-22]   \n",
       "100004  [F, F, F, M, M, M]  [18-22, 23-45, 46+, 46+, 23-45, 18-22]   \n",
       "100005  [F, F, F, M, M, M]  [18-22, 23-45, 46+, 46+, 23-45, 18-22]   \n",
       "\n",
       "                         labels_task1  \\\n",
       "100001  [YES, YES, NO, YES, YES, YES]   \n",
       "100002      [NO, NO, NO, NO, YES, NO]   \n",
       "100003       [NO, NO, NO, NO, NO, NO]   \n",
       "100004    [NO, NO, YES, NO, YES, YES]   \n",
       "100005   [YES, NO, YES, NO, YES, YES]   \n",
       "\n",
       "                                             labels_task2  \\\n",
       "100001  [REPORTED, JUDGEMENTAL, -, REPORTED, JUDGEMENT...   \n",
       "100002                            [-, -, -, -, DIRECT, -]   \n",
       "100003                                 [-, -, -, -, -, -]   \n",
       "100004              [-, -, DIRECT, -, REPORTED, REPORTED]   \n",
       "100005  [REPORTED, -, JUDGEMENTAL, -, JUDGEMENTAL, DIR...   \n",
       "\n",
       "                                             labels_task3     split  \n",
       "100001  [[OBJECTIFICATION], [OBJECTIFICATION, SEXUAL-V...  TRAIN_ES  \n",
       "100002       [[-], [-], [-], [-], [OBJECTIFICATION], [-]]  TRAIN_ES  \n",
       "100003                     [[-], [-], [-], [-], [-], [-]]  TRAIN_ES  \n",
       "100004  [[-], [-], [IDEOLOGICAL-INEQUALITY], [-], [IDE...  TRAIN_ES  \n",
       "100005  [[STEREOTYPING-DOMINANCE, OBJECTIFICATION], [-...  TRAIN_ES  "
      ]
     },
     "execution_count": 53,
     "metadata": {},
     "output_type": "execute_result"
    }
   ],
   "source": [
    "train.head()"
   ]
  },
  {
   "cell_type": "code",
   "execution_count": 54,
   "metadata": {},
   "outputs": [
    {
     "data": {
      "text/plain": [
       "((6920, 11), (726, 11), (312, 11))"
      ]
     },
     "execution_count": 54,
     "metadata": {},
     "output_type": "execute_result"
    }
   ],
   "source": [
    "train.shape, val.shape, test.shape"
   ]
  },
  {
   "cell_type": "markdown",
   "metadata": {},
   "source": [
    "### Generate hard labels for Task 1 with majority voting"
   ]
  },
  {
   "cell_type": "code",
   "execution_count": 55,
   "metadata": {},
   "outputs": [],
   "source": [
    "def majority_voting(votes: list[str]) -> str:\n",
    "    total_num_votes = len(votes)\n",
    "    yes_votes = votes.count(\"YES\")\n",
    "    no_votes = total_num_votes - yes_votes\n",
    "\n",
    "    if yes_votes > no_votes:\n",
    "        return \"YES\"\n",
    "    elif no_votes > yes_votes:\n",
    "        return \"NO\"\n",
    "    else:\n",
    "        return \"NEUTRAL\" # This will be the case when there is a tie (removed later)"
   ]
  },
  {
   "cell_type": "code",
   "execution_count": 56,
   "metadata": {},
   "outputs": [],
   "source": [
    "train['hard_label_task1'] = train['labels_task1'].apply(majority_voting)\n",
    "val['hard_label_task1'] = val['labels_task1'].apply(majority_voting)\n",
    "test['hard_label_task1'] = test['labels_task1'].apply(majority_voting)"
   ]
  },
  {
   "cell_type": "markdown",
   "metadata": {},
   "source": [
    "### Filter the DataFrame for only english tweets and remove unclear tweets"
   ]
  },
  {
   "cell_type": "code",
   "execution_count": 57,
   "metadata": {},
   "outputs": [],
   "source": [
    "train = train[(train['hard_label_task1'] != \"NEUTRAL\") & (train['lang'] == \"en\")]\n",
    "val = val[(val['hard_label_task1'] != \"NEUTRAL\") & (val['lang'] == \"en\")]\n",
    "test = test[(test['hard_label_task1'] != \"NEUTRAL\") & (test['lang'] == \"en\")]"
   ]
  },
  {
   "cell_type": "code",
   "execution_count": 58,
   "metadata": {},
   "outputs": [
    {
     "data": {
      "text/plain": [
       "((2870, 12), (158, 12), (286, 12))"
      ]
     },
     "execution_count": 58,
     "metadata": {},
     "output_type": "execute_result"
    }
   ],
   "source": [
    "train.shape, val.shape, test.shape"
   ]
  },
  {
   "cell_type": "markdown",
   "metadata": {},
   "source": [
    "### Remove unwanted columns"
   ]
  },
  {
   "cell_type": "code",
   "execution_count": 59,
   "metadata": {},
   "outputs": [],
   "source": [
    "columns_to_maintain = ['id_EXIST', 'lang', 'tweet', 'hard_label_task1']\n",
    "\n",
    "train = train[columns_to_maintain]\n",
    "val = val[columns_to_maintain]\n",
    "test = test[columns_to_maintain]"
   ]
  },
  {
   "cell_type": "code",
   "execution_count": 60,
   "metadata": {},
   "outputs": [
    {
     "data": {
      "text/html": [
       "<div>\n",
       "<style scoped>\n",
       "    .dataframe tbody tr th:only-of-type {\n",
       "        vertical-align: middle;\n",
       "    }\n",
       "\n",
       "    .dataframe tbody tr th {\n",
       "        vertical-align: top;\n",
       "    }\n",
       "\n",
       "    .dataframe thead th {\n",
       "        text-align: right;\n",
       "    }\n",
       "</style>\n",
       "<table border=\"1\" class=\"dataframe\">\n",
       "  <thead>\n",
       "    <tr style=\"text-align: right;\">\n",
       "      <th></th>\n",
       "      <th>id_EXIST</th>\n",
       "      <th>lang</th>\n",
       "      <th>tweet</th>\n",
       "      <th>hard_label_task1</th>\n",
       "    </tr>\n",
       "  </thead>\n",
       "  <tbody>\n",
       "    <tr>\n",
       "      <th>200002</th>\n",
       "      <td>200002</td>\n",
       "      <td>en</td>\n",
       "      <td>Writing a uni essay in my local pub with a cof...</td>\n",
       "      <td>YES</td>\n",
       "    </tr>\n",
       "    <tr>\n",
       "      <th>200003</th>\n",
       "      <td>200003</td>\n",
       "      <td>en</td>\n",
       "      <td>@UniversalORL it is 2021 not 1921. I dont appr...</td>\n",
       "      <td>YES</td>\n",
       "    </tr>\n",
       "    <tr>\n",
       "      <th>200006</th>\n",
       "      <td>200006</td>\n",
       "      <td>en</td>\n",
       "      <td>According to a customer I have plenty of time ...</td>\n",
       "      <td>YES</td>\n",
       "    </tr>\n",
       "    <tr>\n",
       "      <th>200007</th>\n",
       "      <td>200007</td>\n",
       "      <td>en</td>\n",
       "      <td>So only 'blokes' drink beer? Sorry, but if you...</td>\n",
       "      <td>YES</td>\n",
       "    </tr>\n",
       "    <tr>\n",
       "      <th>200008</th>\n",
       "      <td>200008</td>\n",
       "      <td>en</td>\n",
       "      <td>New to the shelves this week - looking forward...</td>\n",
       "      <td>NO</td>\n",
       "    </tr>\n",
       "  </tbody>\n",
       "</table>\n",
       "</div>"
      ],
      "text/plain": [
       "        id_EXIST lang                                              tweet  \\\n",
       "200002    200002   en  Writing a uni essay in my local pub with a cof...   \n",
       "200003    200003   en  @UniversalORL it is 2021 not 1921. I dont appr...   \n",
       "200006    200006   en  According to a customer I have plenty of time ...   \n",
       "200007    200007   en  So only 'blokes' drink beer? Sorry, but if you...   \n",
       "200008    200008   en  New to the shelves this week - looking forward...   \n",
       "\n",
       "       hard_label_task1  \n",
       "200002              YES  \n",
       "200003              YES  \n",
       "200006              YES  \n",
       "200007              YES  \n",
       "200008               NO  "
      ]
     },
     "execution_count": 60,
     "metadata": {},
     "output_type": "execute_result"
    }
   ],
   "source": [
    "train.head()"
   ]
  },
  {
   "cell_type": "markdown",
   "metadata": {},
   "source": [
    "### Encode the hard labels column as integers"
   ]
  },
  {
   "cell_type": "code",
   "execution_count": 62,
   "metadata": {},
   "outputs": [],
   "source": [
    "train['hard_label_task1'] = train['hard_label_task1'].apply(lambda x: 1 if x == \"YES\" else 0)\n",
    "val['hard_label_task1'] = val['hard_label_task1'].apply(lambda x: 1 if x == \"YES\" else 0)\n",
    "test['hard_label_task1'] = test['hard_label_task1'].apply(lambda x: 1 if x == \"YES\" else 0)"
   ]
  },
  {
   "cell_type": "code",
   "execution_count": 64,
   "metadata": {},
   "outputs": [
    {
     "data": {
      "text/plain": [
       "hard_label_task1\n",
       "0    1733\n",
       "1    1137\n",
       "Name: count, dtype: int64"
      ]
     },
     "execution_count": 64,
     "metadata": {},
     "output_type": "execute_result"
    }
   ],
   "source": [
    "train.hard_label_task1.value_counts()"
   ]
  }
 ],
 "metadata": {
  "kernelspec": {
   "display_name": ".venv",
   "language": "python",
   "name": "python3"
  },
  "language_info": {
   "codemirror_mode": {
    "name": "ipython",
    "version": 3
   },
   "file_extension": ".py",
   "mimetype": "text/x-python",
   "name": "python",
   "nbconvert_exporter": "python",
   "pygments_lexer": "ipython3",
   "version": "3.12.3"
  }
 },
 "nbformat": 4,
 "nbformat_minor": 2
}
