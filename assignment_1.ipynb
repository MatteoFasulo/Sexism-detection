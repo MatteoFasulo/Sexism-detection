{
 "cells": [
  {
   "cell_type": "markdown",
   "metadata": {
    "id": "qmIZOuDv-bQk"
   },
   "source": [
    "<a href=\"https://colab.research.google.com/github/MatteoFasulo/Sexism-detection/blob/main/assignment_1.ipynb\" target=\"_parent\"><img src=\"https://colab.research.google.com/assets/colab-badge.svg\" alt=\"Open In Colab\"/></a>"
   ]
  },
  {
   "cell_type": "markdown",
   "metadata": {
    "id": "9vYXSXHf-bQp"
   },
   "source": [
    "# Libraries"
   ]
  },
  {
   "cell_type": "markdown",
   "metadata": {},
   "source": [
    "Uncomment the following cell to install the required libraries in Google Colab."
   ]
  },
  {
   "cell_type": "code",
   "execution_count": 36,
   "metadata": {
    "id": "rT1NnYib-cZs"
   },
   "outputs": [],
   "source": [
    "#%%capture\n",
    "#%pip install requests nltk gensim datasets evaluate transformers"
   ]
  },
  {
   "cell_type": "code",
   "execution_count": 37,
   "metadata": {
    "id": "8HsAwNAc-bQp"
   },
   "outputs": [],
   "source": [
    "import requests\n",
    "import gc\n",
    "import os\n",
    "from pathlib import Path\n",
    "import re\n",
    "import json\n",
    "from typing import OrderedDict\n",
    "import copy\n",
    "\n",
    "\n",
    "import unicodedata\n",
    "\n",
    "import numpy as np\n",
    "import pandas as pd\n",
    "\n",
    "from sklearn.utils.class_weight import compute_class_weight\n",
    "from sklearn.metrics import f1_score, accuracy_score, precision_score, recall_score\n",
    "\n",
    "from tqdm import tqdm\n",
    "import matplotlib.pyplot as plt\n",
    "\n",
    "import nltk\n",
    "from nltk.stem import WordNetLemmatizer\n",
    "\n",
    "import gensim\n",
    "import gensim.downloader as gloader\n",
    "\n",
    "import torch\n",
    "\n",
    "from datasets import Dataset\n",
    "from transformers import AutoTokenizer\n",
    "from transformers import DataCollatorWithPadding\n",
    "from transformers import AutoModelForSequenceClassification\n",
    "from transformers import TrainingArguments\n",
    "from transformers import Trainer\n",
    "import evaluate"
   ]
  },
  {
   "cell_type": "markdown",
   "metadata": {
    "id": "o4MUwVBe-bQt"
   },
   "source": [
    "# Class definition"
   ]
  },
  {
   "cell_type": "code",
   "execution_count": 38,
   "metadata": {},
   "outputs": [],
   "source": [
    "class SexismDetector:\n",
    "    def __init__(self):\n",
    "        URL_PATTERN_STR = r\"\"\"(?i)((?:https?:(?:/{1,3}|[a-z0-9%])|[a-z0-9.\\-]+[.](?:com|net|org|edu|gov|mil|aero|asia|biz|cat|coop|info\n",
    "                      |int|jobs|mobi|museum|name|post|pro|tel|travel|xxx|ac|ad|ae|af|ag|ai|al|am|an|ao|aq|ar|as|at|au|aw|ax|az|ba|\n",
    "                      bb|bd|be|bf|bg|bh|bi|bj|bm|bn|bo|br|bs|bt|bv|bw|by|bz|ca|cc|cd|cf|cg|ch|ci|ck|cl|cm|cn|co|cr|cs|cu|cv|cx|cy|\n",
    "                      cz|dd|de|dj|dk|dm|do|dz|ec|ee|eg|eh|er|es|et|eu|fi|fj|fk|fm|fo|fr|ga|gb|gd|ge|gf|gg|gh|gi|gl|gm|gn|gp|gq|gr|\n",
    "                      gs|gt|gu|gw|gy|hk|hm|hn|hr|ht|hu|id|ie|il|im|in|io|iq|ir|is|it|je|jm|jo|jp|ke|kg|kh|ki|km|kn|kp|kr|kw|ky|kz|\n",
    "                      la|lb|lc|li|lk|lr|ls|lt|lu|lv|ly|ma|mc|md|me|mg|mh|mk|ml|mm|mn|mo|mp|mq|mr|ms|mt|mu|mv|mw|mx|my|mz|na|nc|ne|\n",
    "                      nf|ng|ni|nl|no|np|nr|nu|nz|om|pa|pe|pf|pg|ph|pk|pl|pm|pn|pr|ps|pt|pw|py|qa|re|ro|rs|ru|rw|sa|sb|sc|sd|se|sg|\n",
    "                      sh|si|sj|Ja|sk|sl|sm|sn|so|sr|ss|st|su|sv|sx|sy|sz|tc|td|tf|tg|th|tj|tk|tl|tm|tn|to|tp|tr|tt|tv|tw|tz|ua|ug|\n",
    "                      uk|us|uy|uz|va|vc|ve|vg|vi|vn|vu|wf|ws|ye|yt|yu|za|zm|zw)/)(?:[^\\s()<>{}\\[\\]]+|\\([^\\s()]*?\\([^\\s()]+\\)[^\\s()]\n",
    "                      *?\\)|\\([^\\s]+?\\))+(?:\\([^\\s()]*?\\([^\\s()]+\\)[^\\s()]*?\\)|\\([^\\s]+?\\)|[^\\s`!()\\[\\]{};:'\\\".,<>?«»“”‘’])|(?:(?<!@)\n",
    "                      [a-z0-9]+(?:[.\\-][a-z0-9]+)*[.](?:com|net|org|edu|gov|mil|aero|asia|biz|cat|coop|info|int|jobs|mobi|museum|name\n",
    "                      |post|pro|tel|travel|xxx|ac|ad|ae|af|ag|ai|al|am|an|ao|aq|ar|as|at|au|aw|ax|az|ba|bb|bd|be|bf|bg|bh|bi|bj|bm|bn\n",
    "                      |bo|br|bs|bt|bv|bw|by|bz|ca|cc|cd|cf|cg|ch|ci|ck|cl|cm|cn|co|cr|cs|cu|cv|cx|cy|cz|dd|de|dj|dk|dm|do|dz|ec|ee|eg\n",
    "                      |eh|er|es|et|eu|fi|fj|fk|fm|fo|fr|ga|gb|gd|ge|gf|gg|gh|gi|gl|gm|gn|gp|gq|gr|gs|gt|gu|gw|gy|hk|hm|hn|hr|ht|hu|id\n",
    "                      |ie|il|im|in|io|iq|ir|is|it|je|jm|jo|jp|ke|kg|kh|ki|km|kn|kp|kr|kw|ky|kz|la|lb|lc|li|lk|lr|ls|lt|lu|lv|ly|ma|mc|\n",
    "                      md|me|mg|mh|mk|ml|mm|mn|mo|mp|mq|mr|ms|mt|mu|mv|mw|mx|my|mz|na|nc|ne|nf|ng|ni|nl|no|np|nr|nu|nz|om|pa|pe|pf|pg|\n",
    "                      ph|pk|pl|pm|pn|pr|ps|pt|pw|py|qa|re|ro|rs|ru|rw|sa|sb|sc|sd|se|sg|sh|si|sj|Ja|sk|sl|sm|sn|so|sr|ss|st|su|sv|sx|\n",
    "                      sy|sz|tc|td|tf|tg|th|tj|tk|tl|tm|tn|to|tp|tr|tt|tv|tw|tz|ua|ug|uk|us|uy|uz|va|vc|ve|vg|vi|vn|vu|wf|ws|ye|yt|yu|\n",
    "                      za|zm|zw)\\b/?(?!@)))\"\"\"\n",
    "        self.URL_PATTERN = re.compile(URL_PATTERN_STR, re.IGNORECASE)\n",
    "        self.HASHTAG_PATTERN = re.compile(r'#\\w*')\n",
    "        self.MENTION_PATTERN = re.compile(r'@\\w*')\n",
    "        self.EMOJIS_PATTERN = re.compile(u'([\\U00002600-\\U000027BF])|([\\U0001f300-\\U0001f64F])|([\\U0001f680-\\U0001f6FF])')\n",
    "        self.AND_PATTERN = re.compile(r'&amp;')\n",
    "        self.PUNCT_REPEAT_PATTERN = re.compile(r'([!?.]){2,}')\n",
    "        self.ELONG_PATTERN = re.compile(r'\\b(\\S*?)(.)\\2{2,}\\b')\n",
    "        self.WORD_PATTERN = re.compile(r'[^\\w<>\\s]')\n",
    "        self.SEED = 1337\n",
    "        self.DATA_FOLDER = Path('data')\n",
    "        self.MODEL_FOLDER = Path('models')\n",
    "        self.columns_to_maintain = ['id_EXIST', 'lang', 'tweet', 'hard_label_task1']\n",
    "        self.UNK_TOKEN = '[UNK]'\n",
    "        self.PAD_TOKEN = '[PAD]'\n",
    "\n",
    "    def download_corpus(self, url: str, filename: str) -> None:\n",
    "        \"\"\"\n",
    "        Downloads a text corpus from a given URL and saves it to a specified filename within the data folder.\n",
    "\n",
    "        Args:\n",
    "            url (str): The URL from which to download the corpus.\n",
    "            filename (str): The name of the file to save the downloaded corpus.\n",
    "\n",
    "        Raises:\n",
    "            requests.exceptions.HTTPError: If the HTTP request returned an unsuccessful status code.\n",
    "\n",
    "        Side Effects:\n",
    "            Creates the data folder if it does not exist.\n",
    "            Writes the downloaded corpus to the specified file.\n",
    "        \"\"\"\n",
    "        if not self.DATA_FOLDER.exists():\n",
    "            self.DATA_FOLDER.mkdir(parents=True)\n",
    "            print(f\"Created folder {self.DATA_FOLDER}.\")\n",
    "\n",
    "        response = requests.get(url)\n",
    "        response.raise_for_status()\n",
    "        with open(self.DATA_FOLDER / filename, 'w', encoding='utf-8') as f:\n",
    "            f.write(response.text)\n",
    "\n",
    "    def load_corpus(self, filename: str, *args, **kwargs) -> pd.DataFrame:\n",
    "        \"\"\"\n",
    "        Load a corpus from a JSON file.\n",
    "\n",
    "        Parameters:\n",
    "        filename (str): The name of the JSON file to load.\n",
    "        *args: Variable length argument list to pass to pandas read_json.\n",
    "        **kwargs: Arbitrary keyword arguments to pass to pandas read_json.\n",
    "\n",
    "        Returns:\n",
    "        DataFrame: A pandas DataFrame containing the loaded corpus.\n",
    "        \"\"\"\n",
    "        return pd.read_json(self.DATA_FOLDER / filename, *args, **kwargs)\n",
    "\n",
    "    @staticmethod\n",
    "    def majority_voting(votes: list[str]) -> str:\n",
    "        \"\"\"\n",
    "        Determines the majority vote from a list of votes.\n",
    "        Args:\n",
    "            votes (list[str]): A list of votes, where each vote is either \"YES\" or \"NO\".\n",
    "        Returns:\n",
    "            str: The result of the majority vote. Returns \"YES\" if there are more \"YES\" votes,\n",
    "                \"NO\" if there are more \"NO\" votes, and \"NEUTRAL\" in case of a tie.\n",
    "        \"\"\"\n",
    "        total_num_votes = len(votes)\n",
    "        yes_votes = votes.count(\"YES\")\n",
    "        no_votes = total_num_votes - yes_votes\n",
    "\n",
    "        if yes_votes > no_votes:\n",
    "            return \"YES\"\n",
    "        elif no_votes > yes_votes:\n",
    "            return \"NO\"\n",
    "        else:\n",
    "            return \"NEUTRAL\" # This will be the case when there is a tie (removed later)\n",
    "\n",
    "    def preprocess_text(self, text: str) -> str:\n",
    "        \"\"\"\n",
    "        Preprocesses the input text by removing or replacing specific patterns.\n",
    "\n",
    "        Args:\n",
    "            text (str): The input text to be preprocessed.\n",
    "\n",
    "        Returns:\n",
    "            str: The preprocessed text with URLs, mentions, hashtags, emojis,\n",
    "                 special characters removed, 'and' replaced, and extra spaces trimmed.\n",
    "        \"\"\"\n",
    "        # Convert URL to <URL> so that GloVe will have a vector for it\n",
    "        text = re.sub(self.URL_PATTERN, ' <URL>', text)\n",
    "        # Add spaces around slashes\n",
    "        text = re.sub(r\"/\", \" / \", text)\n",
    "        # Replace mentions with <USER>\n",
    "        text = re.sub(self.MENTION_PATTERN, ' <USER> ', text)\n",
    "        # Replace numbers with <NUMBER>\n",
    "        text = re.sub(r\"[-+]?[.\\d]*[\\d]+[:,.\\d]*\", \" <NUMBER> \", text)\n",
    "        # Replace hashtags with <HASHTAG>\n",
    "        text = re.sub(self.HASHTAG_PATTERN, ' <HASHTAG> ', text)\n",
    "        #text = self.AND_PATTERN.sub('and', text) # &amp; already in the Vocab of GloVe-twitter\n",
    "        # Replace multiple punctuation marks with <REPEAT>\n",
    "        text = re.sub(self.PUNCT_REPEAT_PATTERN, lambda match: f\" {match.group(1)} <REPEAT> \", text)\n",
    "        # Replace elongated words with <ELONG>\n",
    "        text = re.sub(self.ELONG_PATTERN, lambda match: f\" {match.group(1)}{match.group(2)} <ELONG> \", text)\n",
    "        #text = emoji.replace_emoji(text, replace='') # some emojis are in the vocab so we do not remove them, the others will be OOVs\n",
    "        text = text.strip()\n",
    "        # Get only words\n",
    "        text = re.sub(self.WORD_PATTERN, ' ', text)\n",
    "        text = text.strip()\n",
    "        # Convert stylized Unicode characters to plain text (removes bold text, etc.)\n",
    "        text = ''.join(c for c in unicodedata.normalize('NFKD', text) if not unicodedata.combining(c))\n",
    "        return text\n",
    "\n",
    "    def lemmatize_text(self, text: str) -> str:\n",
    "        \"\"\"\n",
    "        Lemmatizes the input text using the WordNet lemmatizer.\n",
    "\n",
    "        This method attempts to lemmatize each word in the input text. If the WordNet\n",
    "        data is not available, it will download the necessary data and retry.\n",
    "\n",
    "        Args:\n",
    "            text (str): The input text to be lemmatized.\n",
    "\n",
    "        Returns:\n",
    "            str: The lemmatized text.\n",
    "        \"\"\"\n",
    "        lemmatizer = WordNetLemmatizer()\n",
    "        downloaded = False\n",
    "        while not downloaded:\n",
    "            try:\n",
    "                lemmatizer.lemmatize(text)\n",
    "                downloaded = True\n",
    "            except LookupError:\n",
    "                print(\"Downloading WordNet...\")\n",
    "                nltk.download('wordnet')\n",
    "        return ' '.join([lemmatizer.lemmatize(word) for word in text.split()])\n",
    "\n",
    "    @staticmethod\n",
    "    def text_diff(original_text: str, preprocessed_text: str, random: bool = True) -> None:\n",
    "        \"\"\"\n",
    "        Displays a comparison between an original tweet and its preprocessed version.\n",
    "        Args:\n",
    "            original_text (str): The original text data containing tweets.\n",
    "            preprocessed_text (str): The preprocessed text data containing tweets.\n",
    "            random (bool, optional): If True, a random tweet is selected for comparison.\n",
    "                                     If False, the first tweet is selected. Defaults to True.\n",
    "        Returns:\n",
    "            None\n",
    "        \"\"\"\n",
    "        if random:\n",
    "            idx = np.random.randint(0, preprocessed_text.shape[0])\n",
    "        else:\n",
    "            idx = 0\n",
    "\n",
    "        print(f\"Original tweet:\\n{original_text['tweet'].iloc[idx]}\")\n",
    "        print(f\"Processed tweet:\\n{preprocessed_text['tweet'].iloc[idx]}\")\n",
    "\n",
    "    def load_glove(self, model_name: str = 'glove-wiki-gigaword', embedding_dim: int = 50) -> gensim.models.keyedvectors.KeyedVectors:\n",
    "        \"\"\"\n",
    "        Loads the GloVe model with the specified name and embedding dimension.\n",
    "        Args:\n",
    "            model_name (str): The name of the GloVe model to load. Default is 'glove-wiki-gigaword'.\n",
    "            embedding_dim (int): The dimension of the word embeddings. Default is 50.\n",
    "        Returns:\n",
    "            gensim.models.keyedvectors.KeyedVectors: The loaded GloVe model.\n",
    "        Raises:\n",
    "            Exception: If there is an error in downloading or loading the model.\n",
    "        Notes:\n",
    "            - If the model folder does not exist, it will be created.\n",
    "            - If the model is not already downloaded, it will be downloaded and saved to the specified path.\n",
    "            - If the model is already downloaded, it will be loaded from the specified path.\n",
    "        \"\"\"\n",
    "        self.EMBEDDING_DIM = embedding_dim\n",
    "\n",
    "        if not self.MODEL_FOLDER.exists():\n",
    "            self.MODEL_FOLDER.mkdir(parents=True)\n",
    "            print(f\"Created folder {self.MODEL_FOLDER}.\")\n",
    "\n",
    "        model_path = self.MODEL_FOLDER / f\"{model_name}-{embedding_dim}\"\n",
    "        if not model_path.exists():\n",
    "            print(f\"Downloading {model_name} model...\")\n",
    "            glove_model = gloader.load(f\"{model_name}-{embedding_dim}\")\n",
    "            print(f\"Model downloaded! Saving to {model_path}\")\n",
    "            glove_model.save(str(model_path))\n",
    "            print(f\"Model saved to {self.MODEL_FOLDER / f'{model_name}-{embedding_dim}'}\")\n",
    "        else:\n",
    "            glove_model = gensim.models.keyedvectors.KeyedVectors.load(str(model_path))\n",
    "        return glove_model\n",
    "\n",
    "    def get_vocab(self, data: pd.DataFrame) -> tuple[OrderedDict, OrderedDict]:\n",
    "        \"\"\"\n",
    "        Generates vocabulary mappings from a given dataset.\n",
    "        Args:\n",
    "            data (pd.DataFrame): A pandas DataFrame containing the dataset with a column 'tweet'.\n",
    "            word_listing (list, optional): A list of words to include in the vocabulary. If None, the vocabulary\n",
    "                                           will be built from the dataset. Defaults to None.\n",
    "        Returns:\n",
    "            tuple[OrderedDict, OrderedDict]: A tuple containing two OrderedDicts:\n",
    "                - idx_to_word: Mapping from index to word.\n",
    "                - word_to_idx: Mapping from word to index.\n",
    "        \"\"\"\n",
    "        idx_to_word = OrderedDict()\n",
    "        word_to_idx = OrderedDict()\n",
    "\n",
    "        curr_idx = 0\n",
    "        for sentence in data.tweet.values:\n",
    "            tokens = sentence.split()\n",
    "            for token in tokens:\n",
    "                if token not in word_to_idx:\n",
    "                    word_to_idx[token] = curr_idx\n",
    "                    idx_to_word[curr_idx] = token\n",
    "                    curr_idx += 1\n",
    "\n",
    "        word_listing = list(idx_to_word.values())\n",
    "        return idx_to_word, word_to_idx, word_listing\n",
    "\n",
    "    def co_occurrence_count(self, df: pd.DataFrame, idx_to_word, word_to_idx, window_size: int = 10) -> np.ndarray:\n",
    "\n",
    "        vocab_size = len(idx_to_word)\n",
    "        co_occurrence_matrix = np.zeros((vocab_size, vocab_size), dtype=np.float32)\n",
    "\n",
    "        for sentence in tqdm(df.tweet.values):\n",
    "            tokens = sentence.split()\n",
    "            for pos, token in enumerate(tokens):\n",
    "                start = max(0, pos - window_size)\n",
    "                end = min(pos + window_size + 1, len(tokens))\n",
    "\n",
    "                first_word_index = word_to_idx[token]\n",
    "\n",
    "                for pos2 in range(start, end):\n",
    "                    if pos2 != pos:\n",
    "                        second_token = tokens[pos2]\n",
    "                        second_word_index = word_to_idx[second_token]\n",
    "                        co_occurrence_matrix[first_word_index, second_word_index] += 1\n",
    "\n",
    "        return co_occurrence_matrix\n",
    "\n",
    "    def co_occurrence_dataframe(self, co_occurrence_matrix: np.ndarray, idx_to_word: OrderedDict) -> pd.DataFrame:\n",
    "        \"\"\"\n",
    "        Converts a co-occurrence matrix into a pandas DataFrame with word indices as row and column labels.\n",
    "        Args:\n",
    "            co_occurrence_matrix (np.ndarray): A co-occurrence matrix with word indices as row and column indices.\n",
    "            idx_to_word (OrderedDict): A mapping from word index to word.\n",
    "        Returns:\n",
    "            pd.DataFrame: A pandas DataFrame with word indices as row and column labels.\n",
    "        \"\"\"\n",
    "        return pd.DataFrame(co_occurrence_matrix, index=idx_to_word.values(), columns=idx_to_word.values())\n",
    "\n",
    "    def get_augmented_vocab(self, emb_model: gensim.models.keyedvectors.KeyedVectors, train_words: list, co_occurrence_df: pd.DataFrame, save: bool = False) -> gensim.models.keyedvectors.KeyedVectors:\n",
    "        \"\"\"\n",
    "        Augments the given embedding model with new tokens from the training words list. If a token is not found in the\n",
    "        embedding model, a random vector is generated for it. Optionally saves the updated vocabulary to a JSON file.\n",
    "        Args:\n",
    "            emb_model (gensim.models.keyedvectors.KeyedVectors): The embedding model to augment.\n",
    "            train_words (list): A list of words to add to the embedding model.\n",
    "            co_occurrence_df (pd.DataFrame): A DataFrame containing co-occurrence data for the training words.\n",
    "            save (bool, optional): If True, saves the updated vocabulary to a JSON file. Defaults to False.\n",
    "        Returns:\n",
    "            gensim.models.keyedvectors.KeyedVectors: The augmented embedding model.\n",
    "        \"\"\"\n",
    "        new_tokens = []\n",
    "        new_vectors = []\n",
    "\n",
    "        for token in train_words:\n",
    "            try:\n",
    "                embedding_vec = emb_model.get_vector(token)\n",
    "            except KeyError:\n",
    "                try:\n",
    "                    # Handle missing token in embedding model\n",
    "                    top_5_most_frequent = co_occurrence_df.loc[token].sort_values(ascending=False).index.tolist()[:5]\n",
    "\n",
    "                    # Filter words that are in the embedding model\n",
    "                    valid_words = [word for word in top_5_most_frequent if word in emb_model.key_to_index]\n",
    "\n",
    "                    if valid_words: # TODO: check that valid words as atleast 2 words otherwise mean won't be significant\n",
    "                        # Calculate the average vector for valid words\n",
    "                        embedding_vec = np.mean([emb_model.get_vector(word) for word in valid_words], axis=0)\n",
    "                    else:\n",
    "                        # Handle the case where no valid co-occurring words exist\n",
    "                        raise ValueError(f\"No valid co-occurring words found for token: {token}\")\n",
    "\n",
    "                except Exception as e:\n",
    "                    print(f\"Generating random vector for token '{token}': {e}\")\n",
    "                    embedding_vec = np.random.uniform(low=-0.05, high=0.05, size=self.EMBEDDING_DIM)\n",
    "\n",
    "            new_tokens.append(token)\n",
    "            new_vectors.append(embedding_vec)\n",
    "\n",
    "        emb_model.add_vectors(new_tokens, new_vectors)\n",
    "        # add the UNK token to the embedding model with the vector which is the average of all the vectors\n",
    "        emb_model.add_vectors([\"[UNK]\", \"[PAD]\"], [np.mean(emb_model.vectors, axis=0), np.zeros(self.EMBEDDING_DIM)])\n",
    "\n",
    "        if save:\n",
    "            vocab_path = self.DATA_FOLDER / 'vocab.json'\n",
    "            print(f\"Saving vocab to {vocab_path}\")\n",
    "            with vocab_path.open('w', encoding='utf-8') as f:\n",
    "                json.dump(emb_model.key_to_index, f, indent=4)\n",
    "            print(\"Vocab saved!\")\n",
    "\n",
    "        return emb_model\n",
    "\n",
    "    def get_oov(self, embedding_model: gensim.models.keyedvectors.KeyedVectors, word_listing: list) -> set:\n",
    "        \"\"\"\n",
    "        Returns a list of out-of-vocabulary (OOV) words from a given list of words.\n",
    "        Args:\n",
    "            embedding_model (gensim.models.keyedvectors.KeyedVectors): The word embedding model containing known words.\n",
    "            word_listing (list): A list of words to check against the embedding model.\n",
    "        Returns:\n",
    "            set: A set of out-of-vocabulary words.\n",
    "        \"\"\"\n",
    "        return set(word_listing).difference(set(embedding_model.key_to_index.keys()))\n",
    "\n",
    "    def get_oov_stats(self, embedding_model: gensim.models.keyedvectors.KeyedVectors, word_listing: list) -> None:\n",
    "        \"\"\"\n",
    "        Calculate and print the number and percentage of out-of-vocabulary (OOV) words.\n",
    "        Args:\n",
    "            embedding_model (gensim.models.keyedvectors.KeyedVectors): The word embedding model containing known words.\n",
    "            word_listing (list): A list of words to check against the embedding model.\n",
    "        Returns:\n",
    "            None\n",
    "        \"\"\"\n",
    "        OOV_token = self.get_oov(embedding_model, word_listing)\n",
    "        OOV_percentage = float(len(OOV_token)) * 100 / len(word_listing)\n",
    "\n",
    "        print(f\"Total OOV terms: {len(OOV_token)} ({OOV_percentage:.2f}%)\")\n",
    "\n",
    "    def get_class_weights(self, data: pd.DataFrame, label_column: str) -> np.ndarray:\n",
    "        \"\"\"\n",
    "        Computes class weights for a given dataset.\n",
    "        Args:\n",
    "            data (pd.DataFrame, optional): A pandas DataFrame containing the dataset. Defaults to None.\n",
    "        Returns:\n",
    "            np.ndarray: An array of class weights.\n",
    "        \"\"\"\n",
    "        class_weights = compute_class_weight('balanced', classes=np.unique(data[label_column]), y=data[label_column])\n",
    "        self.class_weights = torch.tensor(class_weights, dtype=torch.float32)\n",
    "        return self.class_weights\n",
    "\n",
    "    def get_padded_sequences(self, data: pd.Series, embedding_model: gensim.models.keyedvectors.KeyedVectors) -> torch.Tensor:\n",
    "        \"\"\"\n",
    "        Converts a pandas Series of text data into padded sequences of word indices using a given embedding model.\n",
    "\n",
    "        Args:\n",
    "            data (pd.Series): A pandas Series containing text data.\n",
    "            embedding_model (gensim.models.keyedvectors.KeyedVectors): A pre-trained word embedding model.\n",
    "\n",
    "        Returns:\n",
    "            torch.Tensor: A tensor containing padded sequences of word indices.\n",
    "        \"\"\"\n",
    "        tokenizer = nltk.tokenize.NLTKWordTokenizer()\n",
    "        unk_index = 9856\n",
    "\n",
    "        sequences = [torch.tensor([embedding_model.get_index(word, default=unk_index) for word in tokenizer.tokenize(x)]) for x in data.values]\n",
    "\n",
    "        return torch.nn.utils.rnn.pad_sequence(sequences, padding_value=embedding_model.get_index(self.PAD_TOKEN), batch_first=True)\n",
    "\n",
    "    def get_dataloader(self, data: pd.DataFrame, embedding_model: gensim.models.keyedvectors.KeyedVectors, type: str, *args, **kwargs) -> torch.utils.data.DataLoader:\n",
    "        \"\"\"\n",
    "        Creates a DataLoader for the given dataset.\n",
    "\n",
    "        Args:\n",
    "            data (pd.DataFrame): DataFrame containing the data. Must have 'tweet' and 'label' columns.\n",
    "            embedding_model (gensim.models.keyedvectors.KeyedVectors): Pre-trained embedding model to convert tweets to vectors.\n",
    "            type (str): Type of dataset. Must be one of 'train', 'val', or 'test'.\n",
    "            *args: Variable length argument list for DataLoader.\n",
    "            **kwargs: Arbitrary keyword arguments for DataLoader.\n",
    "\n",
    "        Returns:\n",
    "            torch.utils.data.DataLoader: DataLoader for the given dataset.\n",
    "\n",
    "        Raises:\n",
    "            ValueError: If the type is not one of 'train', 'val', or 'test'.\n",
    "        \"\"\"\n",
    "        if type not in ['train', 'val', 'test']:\n",
    "            raise ValueError(\"Invalid type. Must be one of 'train', 'val', or 'test'.\")\n",
    "        padded_sequences = self.get_padded_sequences(data.tweet, embedding_model)\n",
    "        labels = torch.tensor(data.label.values)\n",
    "        dataset = TextDataset(padded_sequences, labels)\n",
    "        return torch.utils.data.DataLoader(dataset, *args, **kwargs)\n",
    "\n",
    "class TextDataset(torch.utils.data.Dataset):\n",
    "    \"\"\"\n",
    "    A custom dataset class for handling text sequences and their corresponding labels.\n",
    "\n",
    "    Args:\n",
    "        sequences (torch.Tensor): A tensor containing the text sequences.\n",
    "        labels (torch.Tensor): A tensor containing the labels for each text sequence.\n",
    "\n",
    "    Attributes:\n",
    "        sequences (torch.Tensor): Stores the text sequences.\n",
    "        labels (torch.Tensor): Stores the labels for each text sequence.\n",
    "\n",
    "    Methods:\n",
    "        __len__(): Returns the number of text sequences in the dataset.\n",
    "        __getitem__(idx): Returns the text sequence and label at the specified index.\n",
    "    \"\"\"\n",
    "    def __init__(self, sequences, labels):\n",
    "        self.sequences = sequences\n",
    "        self.labels = labels\n",
    "\n",
    "    def __len__(self):\n",
    "        return self.sequences.shape[0]\n",
    "\n",
    "    def __getitem__(self, idx):\n",
    "        return self.sequences[idx], self.labels[idx]"
   ]
  },
  {
   "cell_type": "markdown",
   "metadata": {
    "id": "9S8JHdj0-bQw"
   },
   "source": [
    "# Task 1: Corpus\n",
    "\n",
    "1. Download the data\n",
    "2. Load the JSON files and encode them as a DataFrame\n",
    "3. Generate hard labels for Task 1 with majority voting\n",
    "4. Filter the DataFrame for only english tweets\n",
    "5. Remove unwanted columns\n",
    "6. Encode the hard labels column as integers\n",
    "\n",
    ">**Bonus**: explore also Spanish tweets leveraging multi-language models and assessing the performance of the model on the two languages in comparison to the English-only model."
   ]
  },
  {
   "cell_type": "markdown",
   "metadata": {
    "id": "nALIh9GUC7tn"
   },
   "source": [
    "Fist of all, we need to instantiate the class which we will use to perform the task."
   ]
  },
  {
   "cell_type": "code",
   "execution_count": 39,
   "metadata": {},
   "outputs": [],
   "source": [
    "detector = SexismDetector()"
   ]
  },
  {
   "cell_type": "markdown",
   "metadata": {
    "id": "bBtjK_NyC7tn"
   },
   "source": [
    "Let's define the device to use for the computation of PyTorch"
   ]
  },
  {
   "cell_type": "code",
   "execution_count": 40,
   "metadata": {
    "colab": {
     "base_uri": "https://localhost:8080/"
    },
    "id": "rAxlYsxwKy_k",
    "outputId": "b715651b-2d67-4d51-e0b9-d4656859101a"
   },
   "outputs": [
    {
     "name": "stdout",
     "output_type": "stream",
     "text": [
      "Using device: cuda\n"
     ]
    }
   ],
   "source": [
    "device = torch.device(\"cuda\" if torch.cuda.is_available() else \"cpu\")\n",
    "print(f\"Using device: {device}\")"
   ]
  },
  {
   "cell_type": "markdown",
   "metadata": {
    "id": "wpL0rkABC7tp"
   },
   "source": [
    "### Constants\n",
    "\n",
    "The constants are defined in the following cell. We will use them to define the embedding dimension and batch size."
   ]
  },
  {
   "cell_type": "code",
   "execution_count": 41,
   "metadata": {
    "id": "R-EBKp3wKy_l"
   },
   "outputs": [],
   "source": [
    "EMBEDDING_DIM = 50\n",
    "BATCH_SIZE = 64\n",
    "HIDDEN_DIM = 128\n",
    "EPOCHS = 50\n",
    "LEARNING_RATE = 1e-4"
   ]
  },
  {
   "cell_type": "markdown",
   "metadata": {
    "id": "2kB8zolx-bQx"
   },
   "source": [
    "### Download the data\n",
    "\n",
    "The data is downloaded from the repository of the course. The `download_corpus` method is used to download the data from the repository and save it in the `data` folder under the root directory of the project."
   ]
  },
  {
   "cell_type": "code",
   "execution_count": 42,
   "metadata": {
    "id": "zHCqDJCq-bQy"
   },
   "outputs": [],
   "source": [
    "detector.download_corpus(url='https://raw.githubusercontent.com/nlp-unibo/nlp-course-material/refs/heads/main/2024-2025/Assignment%201/data/training.json', filename='training.json')\n",
    "detector.download_corpus(url='https://raw.githubusercontent.com/nlp-unibo/nlp-course-material/refs/heads/main/2024-2025/Assignment%201/data/test.json', filename='test.json')\n",
    "detector.download_corpus(url='https://raw.githubusercontent.com/nlp-unibo/nlp-course-material/refs/heads/main/2024-2025/Assignment%201/data/validation.json', filename='validation.json')"
   ]
  },
  {
   "cell_type": "markdown",
   "metadata": {
    "id": "OlbBn1uh-bQy"
   },
   "source": [
    "### Load the JSON files and encode them as a DataFrame\n",
    "\n",
    "Then we load the JSON files and encode them as a DataFrame. The `load_corpus` method is used to load the data from the JSON files and encode them as a DataFrame."
   ]
  },
  {
   "cell_type": "code",
   "execution_count": 43,
   "metadata": {
    "id": "xffrWnDg-bQz"
   },
   "outputs": [],
   "source": [
    "train = detector.load_corpus('training.json', orient='index', encoding='utf-8')\n",
    "val = detector.load_corpus('validation.json', orient='index', encoding='utf-8')\n",
    "test = detector.load_corpus('test.json', orient='index', encoding='utf-8')"
   ]
  },
  {
   "cell_type": "markdown",
   "metadata": {
    "id": "KCeSw0jEC7tq"
   },
   "source": [
    "Make a copy of the test set to be used at the end to perform more in depth analysis about why the model is failing to classify the tweets."
   ]
  },
  {
   "cell_type": "code",
   "execution_count": 44,
   "metadata": {
    "id": "pcUMYS98C7tq"
   },
   "outputs": [],
   "source": [
    "test_copy = test.copy()"
   ]
  },
  {
   "cell_type": "markdown",
   "metadata": {
    "id": "RCaULr10C7tq"
   },
   "source": [
    "We can also inspect the first rows of the DataFrame to have an idea of the data we are working with."
   ]
  },
  {
   "cell_type": "code",
   "execution_count": 45,
   "metadata": {
    "colab": {
     "base_uri": "https://localhost:8080/",
     "height": 328
    },
    "id": "R-Iddy7j-bQ0",
    "outputId": "23afaa3d-753d-4ba7-dbc7-14d82d3ebbd1"
   },
   "outputs": [
    {
     "data": {
      "text/html": [
       "<div>\n",
       "<style scoped>\n",
       "    .dataframe tbody tr th:only-of-type {\n",
       "        vertical-align: middle;\n",
       "    }\n",
       "\n",
       "    .dataframe tbody tr th {\n",
       "        vertical-align: top;\n",
       "    }\n",
       "\n",
       "    .dataframe thead th {\n",
       "        text-align: right;\n",
       "    }\n",
       "</style>\n",
       "<table border=\"1\" class=\"dataframe\">\n",
       "  <thead>\n",
       "    <tr style=\"text-align: right;\">\n",
       "      <th></th>\n",
       "      <th>id_EXIST</th>\n",
       "      <th>lang</th>\n",
       "      <th>tweet</th>\n",
       "      <th>number_annotators</th>\n",
       "      <th>annotators</th>\n",
       "      <th>gender_annotators</th>\n",
       "      <th>age_annotators</th>\n",
       "      <th>labels_task1</th>\n",
       "      <th>labels_task2</th>\n",
       "      <th>labels_task3</th>\n",
       "      <th>split</th>\n",
       "    </tr>\n",
       "  </thead>\n",
       "  <tbody>\n",
       "    <tr>\n",
       "      <th>100001</th>\n",
       "      <td>100001</td>\n",
       "      <td>es</td>\n",
       "      <td>@TheChiflis Ignora al otro, es un capullo.El p...</td>\n",
       "      <td>6</td>\n",
       "      <td>[Annotator_1, Annotator_2, Annotator_3, Annota...</td>\n",
       "      <td>[F, F, F, M, M, M]</td>\n",
       "      <td>[18-22, 23-45, 46+, 46+, 23-45, 18-22]</td>\n",
       "      <td>[YES, YES, NO, YES, YES, YES]</td>\n",
       "      <td>[REPORTED, JUDGEMENTAL, -, REPORTED, JUDGEMENT...</td>\n",
       "      <td>[[OBJECTIFICATION], [OBJECTIFICATION, SEXUAL-V...</td>\n",
       "      <td>TRAIN_ES</td>\n",
       "    </tr>\n",
       "    <tr>\n",
       "      <th>100002</th>\n",
       "      <td>100002</td>\n",
       "      <td>es</td>\n",
       "      <td>@ultimonomada_ Si comicsgate se parece en algo...</td>\n",
       "      <td>6</td>\n",
       "      <td>[Annotator_7, Annotator_8, Annotator_9, Annota...</td>\n",
       "      <td>[F, F, F, M, M, M]</td>\n",
       "      <td>[18-22, 23-45, 46+, 46+, 23-45, 18-22]</td>\n",
       "      <td>[NO, NO, NO, NO, YES, NO]</td>\n",
       "      <td>[-, -, -, -, DIRECT, -]</td>\n",
       "      <td>[[-], [-], [-], [-], [OBJECTIFICATION], [-]]</td>\n",
       "      <td>TRAIN_ES</td>\n",
       "    </tr>\n",
       "    <tr>\n",
       "      <th>100003</th>\n",
       "      <td>100003</td>\n",
       "      <td>es</td>\n",
       "      <td>@Steven2897 Lee sobre Gamergate, y como eso ha...</td>\n",
       "      <td>6</td>\n",
       "      <td>[Annotator_7, Annotator_8, Annotator_9, Annota...</td>\n",
       "      <td>[F, F, F, M, M, M]</td>\n",
       "      <td>[18-22, 23-45, 46+, 46+, 23-45, 18-22]</td>\n",
       "      <td>[NO, NO, NO, NO, NO, NO]</td>\n",
       "      <td>[-, -, -, -, -, -]</td>\n",
       "      <td>[[-], [-], [-], [-], [-], [-]]</td>\n",
       "      <td>TRAIN_ES</td>\n",
       "    </tr>\n",
       "    <tr>\n",
       "      <th>100004</th>\n",
       "      <td>100004</td>\n",
       "      <td>es</td>\n",
       "      <td>@Lunariita7 Un retraso social bastante lamenta...</td>\n",
       "      <td>6</td>\n",
       "      <td>[Annotator_13, Annotator_14, Annotator_15, Ann...</td>\n",
       "      <td>[F, F, F, M, M, M]</td>\n",
       "      <td>[18-22, 23-45, 46+, 46+, 23-45, 18-22]</td>\n",
       "      <td>[NO, NO, YES, NO, YES, YES]</td>\n",
       "      <td>[-, -, DIRECT, -, REPORTED, REPORTED]</td>\n",
       "      <td>[[-], [-], [IDEOLOGICAL-INEQUALITY], [-], [IDE...</td>\n",
       "      <td>TRAIN_ES</td>\n",
       "    </tr>\n",
       "    <tr>\n",
       "      <th>100005</th>\n",
       "      <td>100005</td>\n",
       "      <td>es</td>\n",
       "      <td>@novadragon21 @icep4ck @TvDannyZ Entonces como...</td>\n",
       "      <td>6</td>\n",
       "      <td>[Annotator_19, Annotator_20, Annotator_21, Ann...</td>\n",
       "      <td>[F, F, F, M, M, M]</td>\n",
       "      <td>[18-22, 23-45, 46+, 46+, 23-45, 18-22]</td>\n",
       "      <td>[YES, NO, YES, NO, YES, YES]</td>\n",
       "      <td>[REPORTED, -, JUDGEMENTAL, -, JUDGEMENTAL, DIR...</td>\n",
       "      <td>[[STEREOTYPING-DOMINANCE, OBJECTIFICATION], [-...</td>\n",
       "      <td>TRAIN_ES</td>\n",
       "    </tr>\n",
       "  </tbody>\n",
       "</table>\n",
       "</div>"
      ],
      "text/plain": [
       "        id_EXIST lang                                              tweet  \\\n",
       "100001    100001   es  @TheChiflis Ignora al otro, es un capullo.El p...   \n",
       "100002    100002   es  @ultimonomada_ Si comicsgate se parece en algo...   \n",
       "100003    100003   es  @Steven2897 Lee sobre Gamergate, y como eso ha...   \n",
       "100004    100004   es  @Lunariita7 Un retraso social bastante lamenta...   \n",
       "100005    100005   es  @novadragon21 @icep4ck @TvDannyZ Entonces como...   \n",
       "\n",
       "        number_annotators                                         annotators  \\\n",
       "100001                  6  [Annotator_1, Annotator_2, Annotator_3, Annota...   \n",
       "100002                  6  [Annotator_7, Annotator_8, Annotator_9, Annota...   \n",
       "100003                  6  [Annotator_7, Annotator_8, Annotator_9, Annota...   \n",
       "100004                  6  [Annotator_13, Annotator_14, Annotator_15, Ann...   \n",
       "100005                  6  [Annotator_19, Annotator_20, Annotator_21, Ann...   \n",
       "\n",
       "         gender_annotators                          age_annotators  \\\n",
       "100001  [F, F, F, M, M, M]  [18-22, 23-45, 46+, 46+, 23-45, 18-22]   \n",
       "100002  [F, F, F, M, M, M]  [18-22, 23-45, 46+, 46+, 23-45, 18-22]   \n",
       "100003  [F, F, F, M, M, M]  [18-22, 23-45, 46+, 46+, 23-45, 18-22]   \n",
       "100004  [F, F, F, M, M, M]  [18-22, 23-45, 46+, 46+, 23-45, 18-22]   \n",
       "100005  [F, F, F, M, M, M]  [18-22, 23-45, 46+, 46+, 23-45, 18-22]   \n",
       "\n",
       "                         labels_task1  \\\n",
       "100001  [YES, YES, NO, YES, YES, YES]   \n",
       "100002      [NO, NO, NO, NO, YES, NO]   \n",
       "100003       [NO, NO, NO, NO, NO, NO]   \n",
       "100004    [NO, NO, YES, NO, YES, YES]   \n",
       "100005   [YES, NO, YES, NO, YES, YES]   \n",
       "\n",
       "                                             labels_task2  \\\n",
       "100001  [REPORTED, JUDGEMENTAL, -, REPORTED, JUDGEMENT...   \n",
       "100002                            [-, -, -, -, DIRECT, -]   \n",
       "100003                                 [-, -, -, -, -, -]   \n",
       "100004              [-, -, DIRECT, -, REPORTED, REPORTED]   \n",
       "100005  [REPORTED, -, JUDGEMENTAL, -, JUDGEMENTAL, DIR...   \n",
       "\n",
       "                                             labels_task3     split  \n",
       "100001  [[OBJECTIFICATION], [OBJECTIFICATION, SEXUAL-V...  TRAIN_ES  \n",
       "100002       [[-], [-], [-], [-], [OBJECTIFICATION], [-]]  TRAIN_ES  \n",
       "100003                     [[-], [-], [-], [-], [-], [-]]  TRAIN_ES  \n",
       "100004  [[-], [-], [IDEOLOGICAL-INEQUALITY], [-], [IDE...  TRAIN_ES  \n",
       "100005  [[STEREOTYPING-DOMINANCE, OBJECTIFICATION], [-...  TRAIN_ES  "
      ]
     },
     "execution_count": 45,
     "metadata": {},
     "output_type": "execute_result"
    }
   ],
   "source": [
    "train.head()"
   ]
  },
  {
   "cell_type": "markdown",
   "metadata": {
    "id": "qRJbTkHAC7tq"
   },
   "source": [
    "And of course we can also inspect the shape of the DataFrame to know how many rows and columns we have."
   ]
  },
  {
   "cell_type": "code",
   "execution_count": 46,
   "metadata": {
    "colab": {
     "base_uri": "https://localhost:8080/"
    },
    "id": "3PwyCeQc-bQ1",
    "outputId": "a978a03e-6378-4a2a-ca0a-552249437fcc"
   },
   "outputs": [
    {
     "data": {
      "text/plain": [
       "((6920, 11), (726, 11), (312, 11))"
      ]
     },
     "execution_count": 46,
     "metadata": {},
     "output_type": "execute_result"
    }
   ],
   "source": [
    "train.shape, val.shape, test.shape"
   ]
  },
  {
   "cell_type": "markdown",
   "metadata": {
    "id": "4fISdCga-bQ1"
   },
   "source": [
    "### Generate hard labels for Task 1 with majority voting\n",
    "\n",
    "The hard labels for Task 1 are generated with majority voting. The `majority_voting` method is used to generate the hard labels for Task 1 with majority voting. In case of a tie, the label is set to `NEUTRAL` allowing for later filtering of the data."
   ]
  },
  {
   "cell_type": "code",
   "execution_count": 47,
   "metadata": {
    "id": "jVfdt1mf-bQ1"
   },
   "outputs": [],
   "source": [
    "train['hard_label_task1'] = train['labels_task1'].apply(detector.majority_voting)\n",
    "val['hard_label_task1'] = val['labels_task1'].apply(detector.majority_voting)\n",
    "test['hard_label_task1'] = test['labels_task1'].apply(detector.majority_voting)"
   ]
  },
  {
   "cell_type": "markdown",
   "metadata": {
    "id": "iNSfxEqA-bQ2"
   },
   "source": [
    "### Filter the DataFrame for only english tweets and remove unclear tweets\n",
    "\n",
    "Since the task requires to work only with English tweets, we filter the DataFrame for only English tweets. This can be easily done using basic pandas functionalities. Here we also removed all the rows with unclear labels (ties in the majority voting)."
   ]
  },
  {
   "cell_type": "code",
   "execution_count": 48,
   "metadata": {
    "id": "P3hE1ua_-bQ2"
   },
   "outputs": [],
   "source": [
    "train = train[(train['hard_label_task1'] != \"NEUTRAL\") & (train['lang'] == \"en\")]\n",
    "val = val[(val['hard_label_task1'] != \"NEUTRAL\") & (val['lang'] == \"en\")]\n",
    "test = test[(test['hard_label_task1'] != \"NEUTRAL\") & (test['lang'] == \"en\")]"
   ]
  },
  {
   "cell_type": "markdown",
   "metadata": {
    "id": "42sKF2b9C7tr"
   },
   "source": [
    "As we can see we have less rows than before, since we removed all the rows with unclear labels and all the rows with tweets in languages different from English."
   ]
  },
  {
   "cell_type": "code",
   "execution_count": 49,
   "metadata": {
    "colab": {
     "base_uri": "https://localhost:8080/"
    },
    "id": "js6SiYSY-bQ2",
    "outputId": "38658cc5-ef20-4877-e1d0-b51748987d4f"
   },
   "outputs": [
    {
     "data": {
      "text/plain": [
       "((2870, 12), (158, 12), (286, 12))"
      ]
     },
     "execution_count": 49,
     "metadata": {},
     "output_type": "execute_result"
    }
   ],
   "source": [
    "train.shape, val.shape, test.shape"
   ]
  },
  {
   "cell_type": "markdown",
   "metadata": {
    "id": "edgN4FWb-bQ2"
   },
   "source": [
    "### Remove unwanted columns\n",
    "\n",
    "After that, we remove the unwanted columns from the DataFrame to keep only the columns we need for the task (the text of the tweet and the hard labels)."
   ]
  },
  {
   "cell_type": "code",
   "execution_count": 50,
   "metadata": {
    "id": "lFUcf_Ii-bQ3"
   },
   "outputs": [],
   "source": [
    "train = train[detector.columns_to_maintain]\n",
    "val = val[detector.columns_to_maintain]\n",
    "test = test[detector.columns_to_maintain]"
   ]
  },
  {
   "cell_type": "code",
   "execution_count": 51,
   "metadata": {
    "colab": {
     "base_uri": "https://localhost:8080/",
     "height": 206
    },
    "id": "BEe_i8hJ-bQ3",
    "outputId": "db879a80-8db4-4a41-d075-2466c21860cb"
   },
   "outputs": [
    {
     "data": {
      "text/html": [
       "<div>\n",
       "<style scoped>\n",
       "    .dataframe tbody tr th:only-of-type {\n",
       "        vertical-align: middle;\n",
       "    }\n",
       "\n",
       "    .dataframe tbody tr th {\n",
       "        vertical-align: top;\n",
       "    }\n",
       "\n",
       "    .dataframe thead th {\n",
       "        text-align: right;\n",
       "    }\n",
       "</style>\n",
       "<table border=\"1\" class=\"dataframe\">\n",
       "  <thead>\n",
       "    <tr style=\"text-align: right;\">\n",
       "      <th></th>\n",
       "      <th>id_EXIST</th>\n",
       "      <th>lang</th>\n",
       "      <th>tweet</th>\n",
       "      <th>hard_label_task1</th>\n",
       "    </tr>\n",
       "  </thead>\n",
       "  <tbody>\n",
       "    <tr>\n",
       "      <th>200002</th>\n",
       "      <td>200002</td>\n",
       "      <td>en</td>\n",
       "      <td>Writing a uni essay in my local pub with a cof...</td>\n",
       "      <td>YES</td>\n",
       "    </tr>\n",
       "    <tr>\n",
       "      <th>200003</th>\n",
       "      <td>200003</td>\n",
       "      <td>en</td>\n",
       "      <td>@UniversalORL it is 2021 not 1921. I dont appr...</td>\n",
       "      <td>YES</td>\n",
       "    </tr>\n",
       "    <tr>\n",
       "      <th>200006</th>\n",
       "      <td>200006</td>\n",
       "      <td>en</td>\n",
       "      <td>According to a customer I have plenty of time ...</td>\n",
       "      <td>YES</td>\n",
       "    </tr>\n",
       "    <tr>\n",
       "      <th>200007</th>\n",
       "      <td>200007</td>\n",
       "      <td>en</td>\n",
       "      <td>So only 'blokes' drink beer? Sorry, but if you...</td>\n",
       "      <td>YES</td>\n",
       "    </tr>\n",
       "    <tr>\n",
       "      <th>200008</th>\n",
       "      <td>200008</td>\n",
       "      <td>en</td>\n",
       "      <td>New to the shelves this week - looking forward...</td>\n",
       "      <td>NO</td>\n",
       "    </tr>\n",
       "  </tbody>\n",
       "</table>\n",
       "</div>"
      ],
      "text/plain": [
       "        id_EXIST lang                                              tweet  \\\n",
       "200002    200002   en  Writing a uni essay in my local pub with a cof...   \n",
       "200003    200003   en  @UniversalORL it is 2021 not 1921. I dont appr...   \n",
       "200006    200006   en  According to a customer I have plenty of time ...   \n",
       "200007    200007   en  So only 'blokes' drink beer? Sorry, but if you...   \n",
       "200008    200008   en  New to the shelves this week - looking forward...   \n",
       "\n",
       "       hard_label_task1  \n",
       "200002              YES  \n",
       "200003              YES  \n",
       "200006              YES  \n",
       "200007              YES  \n",
       "200008               NO  "
      ]
     },
     "execution_count": 51,
     "metadata": {},
     "output_type": "execute_result"
    }
   ],
   "source": [
    "train.head()"
   ]
  },
  {
   "cell_type": "markdown",
   "metadata": {
    "id": "C1vO0qNe-bQ3"
   },
   "source": [
    "### Encode the hard labels column as integers\n",
    "\n",
    "Finally, we encode the hard labels column as integers. This is done to have the labels in a format that can be used by the model."
   ]
  },
  {
   "cell_type": "code",
   "execution_count": 52,
   "metadata": {
    "id": "_vKw9ugP-bQ3"
   },
   "outputs": [],
   "source": [
    "train['hard_label_task1'] = train['hard_label_task1'].apply(lambda x: 1 if x == \"YES\" else 0)\n",
    "val['hard_label_task1'] = val['hard_label_task1'].apply(lambda x: 1 if x == \"YES\" else 0)\n",
    "test['hard_label_task1'] = test['hard_label_task1'].apply(lambda x: 1 if x == \"YES\" else 0)"
   ]
  },
  {
   "cell_type": "markdown",
   "metadata": {
    "id": "zwVjFiqMC7ts"
   },
   "source": [
    "### Rename the target column to label"
   ]
  },
  {
   "cell_type": "code",
   "execution_count": 53,
   "metadata": {
    "id": "sNAkCmHTC7ts"
   },
   "outputs": [],
   "source": [
    "train.rename(columns={'hard_label_task1': 'label'}, inplace=True)\n",
    "val.rename(columns={'hard_label_task1': 'label'}, inplace=True)\n",
    "test.rename(columns={'hard_label_task1': 'label'}, inplace=True)"
   ]
  },
  {
   "cell_type": "markdown",
   "metadata": {
    "id": "hBxMCgPYC7ts"
   },
   "source": [
    "The distribution of the labels is also shown to have an idea of the distribution of the labels in the dataset. As we can see there are more non-sexist tweets than sexist tweets in a ratio of 60:40. This is important to know since it can affect the performance of the model."
   ]
  },
  {
   "cell_type": "code",
   "execution_count": 54,
   "metadata": {
    "colab": {
     "base_uri": "https://localhost:8080/",
     "height": 467
    },
    "id": "QYpFYiwx-bQ4",
    "outputId": "c47b2494-db53-4d6c-b03c-3b43590a207b"
   },
   "outputs": [
    {
     "data": {
      "image/png": "[encoded data removed]",
      "text/plain": [
       "<Figure size 640x480 with 1 Axes>"
      ]
     },
     "metadata": {},
     "output_type": "display_data"
    }
   ],
   "source": [
    "train.label.value_counts(normalize=True).plot(kind='bar', title='Train', color=['green', 'red'], alpha=0.7)\n",
    "plt.show()"
   ]
  },
  {
   "cell_type": "markdown",
   "metadata": {
    "id": "D_qchDt7-bQ4"
   },
   "source": [
    "# Task 2: Data Cleaning\n",
    "\n",
    "1. Remove emojis\n",
    "2. Remove hashtags (e.g. #metoo)\n",
    "3. Remove mentions (e.g. @user)\n",
    "4. Remove URLs\n",
    "5. Remove special characters and symbols\n",
    "6. Remove specific quote characters (e.g. curly quotes)\n",
    "7. Perform lemmatization\n",
    "\n",
    ">**Bonus**: use other preprocessing strategies exploring techniques tailored specifically for tweets or methods that are common in social media text processing."
   ]
  },
  {
   "cell_type": "markdown",
   "metadata": {
    "id": "CPZ_A3ek-bQ4"
   },
   "source": [
    "The way to go (priority order) is the following:\n",
    "1. Remove URLs\n",
    "2. Remove mentions\n",
    "3. Remove hashtags\n",
    "4. Remove emojis\n",
    "5. Remove special characters\n",
    "6. Remove specific quote characters\n",
    "7. Perform lemmatization"
   ]
  },
  {
   "cell_type": "markdown",
   "metadata": {
    "id": "TacxYDItC7tw"
   },
   "source": [
    "We will take a copy of the original text to compare the original text with the cleaned text."
   ]
  },
  {
   "cell_type": "code",
   "execution_count": 55,
   "metadata": {
    "id": "vyKl2917-bQ4"
   },
   "outputs": [],
   "source": [
    "original_train = train.copy()"
   ]
  },
  {
   "cell_type": "markdown",
   "metadata": {
    "id": "RVsy1hN5C7tw"
   },
   "source": [
    "Then we can apply all the preprocessing steps to the text as described above (in that order)."
   ]
  },
  {
   "cell_type": "code",
   "execution_count": 56,
   "metadata": {
    "id": "xtI27hJo-bQ4"
   },
   "outputs": [],
   "source": [
    "train['tweet'] = train['tweet'].apply(detector.preprocess_text)\n",
    "val['tweet'] = val['tweet'].apply(detector.preprocess_text)\n",
    "test['tweet'] = test['tweet'].apply(detector.preprocess_text)"
   ]
  },
  {
   "cell_type": "markdown",
   "metadata": {
    "id": "yFOqFd6i-bQ6"
   },
   "source": [
    "### Perform lemmatization\n",
    "\n",
    "The lemmatization is performed using the `nltk` library. The `lemmatize` method is used to perform the lemmatization of the text. The lemmatization is performed on the cleaned text and takes a bit since it has to process all the words in the text."
   ]
  },
  {
   "cell_type": "code",
   "execution_count": 57,
   "metadata": {
    "id": "lu1toksv-bQ6"
   },
   "outputs": [],
   "source": [
    "train['tweet'] = train['tweet'].apply(detector.lemmatize_text)\n",
    "val['tweet'] = val['tweet'].apply(detector.lemmatize_text)\n",
    "test['tweet'] = test['tweet'].apply(detector.lemmatize_text)"
   ]
  },
  {
   "cell_type": "markdown",
   "metadata": {
    "id": "8R-fL1sl-bQ7"
   },
   "source": [
    "### Cast text to lowercase\n",
    "\n",
    "The text is cast to lowercase to ensure that the model does not learn to distinguish between words based on the case of the letters (uncased)."
   ]
  },
  {
   "cell_type": "code",
   "execution_count": 58,
   "metadata": {
    "id": "Ku484oN9-bQ7"
   },
   "outputs": [],
   "source": [
    "train['tweet'] = train['tweet'].str.lower()\n",
    "val['tweet'] = val['tweet'].str.lower()\n",
    "test['tweet'] = test['tweet'].str.lower()"
   ]
  },
  {
   "cell_type": "markdown",
   "metadata": {
    "id": "dFbPle-9-bQ8"
   },
   "source": [
    "### Show the difference between the original and cleaned text\n",
    "\n",
    "We can also inspect the difference between the original and cleaned text to see the effect of the preprocessing steps. As we can see the preprocessing steps have removed all the unwanted elements from the text and now the text is clean and ready to be used by the model."
   ]
  },
  {
   "cell_type": "code",
   "execution_count": 59,
   "metadata": {
    "colab": {
     "base_uri": "https://localhost:8080/"
    },
    "id": "TURQi4uE-bQ8",
    "outputId": "494fdea6-f2e5-462b-e07e-97ccdfb1b882"
   },
   "outputs": [
    {
     "name": "stdout",
     "output_type": "stream",
     "text": [
      "Original tweet:\n",
      "at the same time the exoticization - sometimes self-exoticization - I see of cultural outputs from countries like Japan or Korea, which presupposes that those cultures are SO different that EU/US folks couldn’t POSSIBLY understand… it’s a whole thing.\n",
      "Processed tweet:\n",
      "at the same time the exoticization sometimes self exoticization i see of cultural output from country like japan or korea which presupposes that those culture are so different that eu us folk couldn t possibly understand it s a whole thing\n"
     ]
    }
   ],
   "source": [
    "detector.text_diff(preprocessed_text=train, original_text=original_train, random=True)"
   ]
  },
  {
   "cell_type": "markdown",
   "metadata": {
    "id": "50Cj7hDE-bQ9"
   },
   "source": [
    "# Task 3: Text Encoding\n",
    "\n",
    "* Embed words using GloVe embeddings."
   ]
  },
  {
   "cell_type": "markdown",
   "metadata": {
    "id": "e3m8P2pe-bQ-"
   },
   "source": [
    "### Embed words using GloVe embeddings\n",
    "\n",
    "The pretrained GloVe embeddings are used to embed the words in the text. First we download the GloVe embeddings using the `gensim` library. We choose as embedding dimension 100 since it is a common choice for embeddings [CITE SOME SOURCE HERE]. The specific model is the `glove-twitter-100` which is trained on Twitter data. Our intuition is that this model will perform better on tweets than other models trained on different data due to the fact that the language used in tweets is different from the language used in other types of text. In this way we can leverage the specific language used in tweets to improve the performance of the model and also reduce the number of out-of-vocabulary words (which is a common problem when using pretrained embeddings).\n",
    "\n",
    "The vocabulary of the `glove-twitter-100` model is very large and contains many words but we are just using a subset of the words in the vocabulary. This is because we are using the words in the tweets and not all the words in the vocabulary are used in the tweets. At the end even if the vocabulary is large we are using only a small subset of the words in the vocabulary. Moreover, we are not interested in backpropagating the gradients to the embeddings so we can use the embeddings as they are without any problem on the computational side."
   ]
  },
  {
   "cell_type": "code",
   "execution_count": 60,
   "metadata": {
    "colab": {
     "base_uri": "https://localhost:8080/"
    },
    "id": "vEGg4Jvp-bQ-",
    "outputId": "93ecba5e-dee2-4bf3-e2cb-2491c7df1167"
   },
   "outputs": [
    {
     "name": "stdout",
     "output_type": "stream",
     "text": [
      "Vocabulary size: 1193514\n"
     ]
    }
   ],
   "source": [
    "emb_model = detector.load_glove(model_name='glove-twitter', embedding_dim=EMBEDDING_DIM)\n",
    "print(f\"Vocabulary size: {len(emb_model.key_to_index)}\")"
   ]
  },
  {
   "cell_type": "markdown",
   "metadata": {
    "id": "uhw6t0-hKy_0"
   },
   "source": [
    "Get the training vocabulary and generate the list of words appearing in the training set. We can extract the two ordered dictionaries (train_idx_to_word, train_word_to_idx) as well as the list of words appearing in the training set."
   ]
  },
  {
   "cell_type": "code",
   "execution_count": 61,
   "metadata": {
    "id": "JJEQVEKJLcKF"
   },
   "outputs": [],
   "source": [
    "train_idx_to_word, train_word_to_idx, train_word_listing = detector.get_vocab(train)"
   ]
  },
  {
   "cell_type": "markdown",
   "metadata": {
    "id": "KpCHzEq5Ky_0"
   },
   "source": [
    "We can inspect how many words in the training set are not in the GloVe vocabulary. This can be conveniente to assess the coverage of the GloVe embeddings on the training set. From our analysis we can see that the coverage using the GloVe embeddings model `glove-twitter-100` is better with respect to the model `glove-wiki-gigaword-100` which is trained on Wikipedia data. The actual difference is not so big (around 1%) but it can be important to have a good coverage of the embeddings on the training set. Moreover, such statistics do not take into account any possible difference in the quality of the embeddings which can be important to have a good performance of the model. The 1% difference might not be so important but the position of the words in the embeddings can be important to have a good performance of the model."
   ]
  },
  {
   "cell_type": "code",
   "execution_count": 62,
   "metadata": {
    "colab": {
     "base_uri": "https://localhost:8080/"
    },
    "id": "jJ3bEuo3Ky_0",
    "outputId": "b56ca55e-12fe-4ce9-cec2-f73c55b034fc"
   },
   "outputs": [
    {
     "name": "stdout",
     "output_type": "stream",
     "text": [
      "Total OOV terms: 768 (7.80%)\n"
     ]
    }
   ],
   "source": [
    "detector.get_oov_stats(emb_model, train_word_listing)"
   ]
  },
  {
   "cell_type": "markdown",
   "metadata": {
    "id": "KbFJl09CKy_1"
   },
   "source": [
    "We can also inspect what are these OOV words to have an idea of the words that are not in the GloVe vocabulary. As we can see the words that are not in the GloVe vocabulary are mostly rare words that are not so common in the English language or Twitter memes/slang. This is important to know since it can affect the performance of the model. The model will not be able to learn the embeddings for these words and will have to rely on the embeddings of similar words which can affect the performance of the model."
   ]
  },
  {
   "cell_type": "code",
   "execution_count": 63,
   "metadata": {
    "colab": {
     "base_uri": "https://localhost:8080/"
    },
    "id": "iXGncwVDKy_1",
    "outputId": "fb90d89e-6759-4269-e5cc-f52a1ab25795"
   },
   "outputs": [
    {
     "data": {
      "text/plain": [
       "['yellowhammer',\n",
       " 'blasphemed',\n",
       " 'essentialist',\n",
       " 'allyship',\n",
       " 'intersexuality',\n",
       " 'maleness',\n",
       " 'eurocentric',\n",
       " 'remarket',\n",
       " 'contagiously',\n",
       " 'alreadyeither']"
      ]
     },
     "execution_count": 63,
     "metadata": {},
     "output_type": "execute_result"
    }
   ],
   "source": [
    "list(detector.get_oov(emb_model, train_word_listing))[:10]"
   ]
  },
  {
   "cell_type": "markdown",
   "metadata": {
    "id": "MKlEtYznC7t2"
   },
   "source": [
    "Now, in order to deal with these OOV token we first thought of assigning a random vector to them. However, such choice might not be the best since the model will learn to distinguish between the OOV tokens and the other tokens based on the embeddings. This is not what we want since the OOV tokens are not different from the other tokens in the vocabulary.\n",
    "\n",
    "A smarter approach would be to extract the co-occurrence matrix from the training set and use it to generate the embeddings for the OOV tokens. Given a window size, we can extract the co-occurrence matrix and then use it to generate the embeddings for the OOV tokens. Whenever we encounter an OOV token we can define as embedding vector the average of the embeddings of the most frequent words that co-occur with the OOV token. This way we can generate the embeddings for the OOV tokens and have a better performance of the model since such OOV tokens will have embeddings that are similar to the embeddings of the words that co-occur with them (the similarity is indeed based on the co-occurrence matrix and on the average of the embedding vectors).\n",
    "\n",
    "The latter is the approach we will use to generate the embeddings for the OOV tokens. We will use a window size of 10 to extract the co-occurrence matrix and generate the embeddings for the OOV tokens."
   ]
  },
  {
   "cell_type": "code",
   "execution_count": 64,
   "metadata": {
    "colab": {
     "base_uri": "https://localhost:8080/",
     "height": 253
    },
    "id": "YGnlKq42Ky_2",
    "outputId": "8819fccf-c5ac-45e5-e5ca-22aae7cfd173"
   },
   "outputs": [
    {
     "name": "stderr",
     "output_type": "stream",
     "text": [
      "100%|██████████| 2870/2870 [00:06<00:00, 422.96it/s]\n"
     ]
    },
    {
     "data": {
      "text/html": [
       "<div>\n",
       "<style scoped>\n",
       "    .dataframe tbody tr th:only-of-type {\n",
       "        vertical-align: middle;\n",
       "    }\n",
       "\n",
       "    .dataframe tbody tr th {\n",
       "        vertical-align: top;\n",
       "    }\n",
       "\n",
       "    .dataframe thead th {\n",
       "        text-align: right;\n",
       "    }\n",
       "</style>\n",
       "<table border=\"1\" class=\"dataframe\">\n",
       "  <thead>\n",
       "    <tr style=\"text-align: right;\">\n",
       "      <th></th>\n",
       "      <th>writing</th>\n",
       "      <th>a</th>\n",
       "      <th>uni</th>\n",
       "      <th>essay</th>\n",
       "      <th>in</th>\n",
       "      <th>my</th>\n",
       "      <th>local</th>\n",
       "      <th>pub</th>\n",
       "      <th>with</th>\n",
       "      <th>coffee</th>\n",
       "      <th>...</th>\n",
       "      <th>armor</th>\n",
       "      <th>dragoon</th>\n",
       "      <th>estinen</th>\n",
       "      <th>nike</th>\n",
       "      <th>coochie</th>\n",
       "      <th>mutuals</th>\n",
       "      <th>owns</th>\n",
       "      <th>grabs</th>\n",
       "      <th>lh</th>\n",
       "      <th>mandy</th>\n",
       "    </tr>\n",
       "  </thead>\n",
       "  <tbody>\n",
       "    <tr>\n",
       "      <th>writing</th>\n",
       "      <td>2.0</td>\n",
       "      <td>14.0</td>\n",
       "      <td>1.0</td>\n",
       "      <td>2.0</td>\n",
       "      <td>5.0</td>\n",
       "      <td>3.0</td>\n",
       "      <td>1.0</td>\n",
       "      <td>1.0</td>\n",
       "      <td>3.0</td>\n",
       "      <td>1.0</td>\n",
       "      <td>...</td>\n",
       "      <td>0.0</td>\n",
       "      <td>0.0</td>\n",
       "      <td>0.0</td>\n",
       "      <td>0.0</td>\n",
       "      <td>0.0</td>\n",
       "      <td>0.0</td>\n",
       "      <td>0.0</td>\n",
       "      <td>0.0</td>\n",
       "      <td>0.0</td>\n",
       "      <td>0.0</td>\n",
       "    </tr>\n",
       "    <tr>\n",
       "      <th>a</th>\n",
       "      <td>14.0</td>\n",
       "      <td>1278.0</td>\n",
       "      <td>2.0</td>\n",
       "      <td>2.0</td>\n",
       "      <td>421.0</td>\n",
       "      <td>139.0</td>\n",
       "      <td>3.0</td>\n",
       "      <td>2.0</td>\n",
       "      <td>223.0</td>\n",
       "      <td>5.0</td>\n",
       "      <td>...</td>\n",
       "      <td>1.0</td>\n",
       "      <td>0.0</td>\n",
       "      <td>1.0</td>\n",
       "      <td>1.0</td>\n",
       "      <td>1.0</td>\n",
       "      <td>1.0</td>\n",
       "      <td>0.0</td>\n",
       "      <td>0.0</td>\n",
       "      <td>1.0</td>\n",
       "      <td>2.0</td>\n",
       "    </tr>\n",
       "    <tr>\n",
       "      <th>uni</th>\n",
       "      <td>1.0</td>\n",
       "      <td>2.0</td>\n",
       "      <td>0.0</td>\n",
       "      <td>1.0</td>\n",
       "      <td>1.0</td>\n",
       "      <td>1.0</td>\n",
       "      <td>1.0</td>\n",
       "      <td>1.0</td>\n",
       "      <td>1.0</td>\n",
       "      <td>1.0</td>\n",
       "      <td>...</td>\n",
       "      <td>0.0</td>\n",
       "      <td>0.0</td>\n",
       "      <td>0.0</td>\n",
       "      <td>0.0</td>\n",
       "      <td>0.0</td>\n",
       "      <td>0.0</td>\n",
       "      <td>0.0</td>\n",
       "      <td>0.0</td>\n",
       "      <td>0.0</td>\n",
       "      <td>0.0</td>\n",
       "    </tr>\n",
       "    <tr>\n",
       "      <th>essay</th>\n",
       "      <td>2.0</td>\n",
       "      <td>2.0</td>\n",
       "      <td>1.0</td>\n",
       "      <td>0.0</td>\n",
       "      <td>2.0</td>\n",
       "      <td>2.0</td>\n",
       "      <td>1.0</td>\n",
       "      <td>1.0</td>\n",
       "      <td>1.0</td>\n",
       "      <td>1.0</td>\n",
       "      <td>...</td>\n",
       "      <td>0.0</td>\n",
       "      <td>0.0</td>\n",
       "      <td>0.0</td>\n",
       "      <td>0.0</td>\n",
       "      <td>0.0</td>\n",
       "      <td>0.0</td>\n",
       "      <td>0.0</td>\n",
       "      <td>0.0</td>\n",
       "      <td>0.0</td>\n",
       "      <td>0.0</td>\n",
       "    </tr>\n",
       "    <tr>\n",
       "      <th>in</th>\n",
       "      <td>5.0</td>\n",
       "      <td>421.0</td>\n",
       "      <td>1.0</td>\n",
       "      <td>2.0</td>\n",
       "      <td>166.0</td>\n",
       "      <td>92.0</td>\n",
       "      <td>3.0</td>\n",
       "      <td>1.0</td>\n",
       "      <td>92.0</td>\n",
       "      <td>4.0</td>\n",
       "      <td>...</td>\n",
       "      <td>0.0</td>\n",
       "      <td>0.0</td>\n",
       "      <td>0.0</td>\n",
       "      <td>0.0</td>\n",
       "      <td>0.0</td>\n",
       "      <td>0.0</td>\n",
       "      <td>0.0</td>\n",
       "      <td>0.0</td>\n",
       "      <td>0.0</td>\n",
       "      <td>0.0</td>\n",
       "    </tr>\n",
       "  </tbody>\n",
       "</table>\n",
       "<p>5 rows × 9840 columns</p>\n",
       "</div>"
      ],
      "text/plain": [
       "         writing       a  uni  essay     in     my  local  pub   with  coffee  \\\n",
       "writing      2.0    14.0  1.0    2.0    5.0    3.0    1.0  1.0    3.0     1.0   \n",
       "a           14.0  1278.0  2.0    2.0  421.0  139.0    3.0  2.0  223.0     5.0   \n",
       "uni          1.0     2.0  0.0    1.0    1.0    1.0    1.0  1.0    1.0     1.0   \n",
       "essay        2.0     2.0  1.0    0.0    2.0    2.0    1.0  1.0    1.0     1.0   \n",
       "in           5.0   421.0  1.0    2.0  166.0   92.0    3.0  1.0   92.0     4.0   \n",
       "\n",
       "         ...  armor  dragoon  estinen  nike  coochie  mutuals  owns  grabs  \\\n",
       "writing  ...    0.0      0.0      0.0   0.0      0.0      0.0   0.0    0.0   \n",
       "a        ...    1.0      0.0      1.0   1.0      1.0      1.0   0.0    0.0   \n",
       "uni      ...    0.0      0.0      0.0   0.0      0.0      0.0   0.0    0.0   \n",
       "essay    ...    0.0      0.0      0.0   0.0      0.0      0.0   0.0    0.0   \n",
       "in       ...    0.0      0.0      0.0   0.0      0.0      0.0   0.0    0.0   \n",
       "\n",
       "          lh  mandy  \n",
       "writing  0.0    0.0  \n",
       "a        1.0    2.0  \n",
       "uni      0.0    0.0  \n",
       "essay    0.0    0.0  \n",
       "in       0.0    0.0  \n",
       "\n",
       "[5 rows x 9840 columns]"
      ]
     },
     "execution_count": 64,
     "metadata": {},
     "output_type": "execute_result"
    }
   ],
   "source": [
    "co_occurrence_matrix = detector.co_occurrence_count(train, train_idx_to_word, train_word_to_idx, window_size=10)\n",
    "co_occurrence_df = detector.co_occurrence_dataframe(co_occurrence_matrix, train_idx_to_word)\n",
    "co_occurrence_df.head()"
   ]
  },
  {
   "cell_type": "markdown",
   "metadata": {
    "id": "JBh5xZruKy_2"
   },
   "source": [
    "After computing the co-occurrence matrix we decided to combine the training set vocabulary with the GloVe vocabulary and generate the embedding vectors for the words in the training set that do not appear in the GloVe vocabulary. This is done to have a better coverage of the embeddings on the training set and to have a better performance of the model. The embeddings for the OOV tokens are generated using the co-occurrence matrix and the average of the embeddings of the most frequent words that co-occur with the OOV tokens."
   ]
  },
  {
   "cell_type": "code",
   "execution_count": 65,
   "metadata": {
    "colab": {
     "base_uri": "https://localhost:8080/"
    },
    "id": "fnNshkRb-bRF",
    "outputId": "3eab06b7-94c1-4b63-910e-898f67858b29"
   },
   "outputs": [
    {
     "name": "stdout",
     "output_type": "stream",
     "text": [
      "Saving vocab to data/vocab.json\n",
      "Vocab saved!\n"
     ]
    }
   ],
   "source": [
    "emb_model_augmented = detector.get_augmented_vocab(emb_model, train_words=train_word_listing, co_occurrence_df=co_occurrence_df, save=True)"
   ]
  },
  {
   "cell_type": "markdown",
   "metadata": {},
   "source": [
    "Now we can just get all the vectors from the augmented GloVe and use them as embedding matrix for the model."
   ]
  },
  {
   "cell_type": "code",
   "execution_count": 66,
   "metadata": {
    "colab": {
     "base_uri": "https://localhost:8080/"
    },
    "id": "ryp3ICueC7t3",
    "outputId": "567a87d3-1782-4929-9b61-16b5c73912a9"
   },
   "outputs": [
    {
     "name": "stdout",
     "output_type": "stream",
     "text": [
      "Embedding matrix of 1194284 words, each of 50 dimensions\n"
     ]
    }
   ],
   "source": [
    "embedding_matrix = emb_model_augmented.vectors\n",
    "print(f\"Embedding matrix of {embedding_matrix.shape[0]} words, each of {embedding_matrix.shape[1]} dimensions\")"
   ]
  },
  {
   "cell_type": "markdown",
   "metadata": {},
   "source": [
    "Before moving on the model definition we will first compute the class weights to deal with the class imbalance in the dataset. The class weights are computed using the `compute_class_weight` method from the `sklearn` library. The class weights are used to weight the loss function in order to give more importance to the minority class. This is important to have a better performance of the model and to deal with the class imbalance in the dataset. In this way the model will be aware of the class imbalance thus leading to a better f1 score."
   ]
  },
  {
   "cell_type": "code",
   "execution_count": 67,
   "metadata": {},
   "outputs": [],
   "source": [
    "class_weights_tensor = detector.get_class_weights(train, 'label')"
   ]
  },
  {
   "cell_type": "markdown",
   "metadata": {
    "id": "0UUVw8lx-bRG"
   },
   "source": [
    "# Task 4: Model definition\n",
    "\n",
    "* Baseline: Implement a Bidirectional LSTM with a Dense layer on top.\n",
    "* Model 1: add an additional LSTM layer to the baseline model."
   ]
  },
  {
   "cell_type": "markdown",
   "metadata": {
    "id": "xpU6TmVd-bRG"
   },
   "source": [
    "### Baseline: Implement a Bidirectional LSTM with a Dense layer on top"
   ]
  },
  {
   "cell_type": "code",
   "execution_count": 68,
   "metadata": {
    "id": "QZCO79JTKy_4"
   },
   "outputs": [],
   "source": [
    "class BaselineModel(torch.nn.Module):\n",
    "    def __init__(self, embedding_model, detector, hidden_dim, output_dim: int = 1, lstm_layers: int = 1, dropout: float = 0.3):\n",
    "        super().__init__()\n",
    "\n",
    "        self.hidden_dim = hidden_dim\n",
    "        self.lstm_layers = lstm_layers\n",
    "        self.hidden_dim = hidden_dim\n",
    "\n",
    "        self.word_embeddings = torch.nn.Embedding.from_pretrained(\n",
    "            embeddings=torch.from_numpy(embedding_model.vectors),\n",
    "            freeze=True,\n",
    "            padding_idx=embedding_model.get_index(detector.PAD_TOKEN)\n",
    "        )\n",
    "        self.lstm = torch.nn.LSTM(input_size=embedding_model.vector_size, hidden_size=hidden_dim, bidirectional=True, num_layers=lstm_layers, batch_first=True)\n",
    "        self.fc = torch.nn.Linear(in_features=2 * hidden_dim, out_features=output_dim)\n",
    "        self.dropout = torch.nn.Dropout(dropout)\n",
    "\n",
    "    def forward(self, inputs):\n",
    "        out = self.word_embeddings(inputs)\n",
    "        out, _ = self.lstm(out)\n",
    "        out = self.dropout(out)\n",
    "        out = torch.mean(out, dim=1)  # Average pooling over the seq len\n",
    "        out = self.fc(out)\n",
    "        return out"
   ]
  },
  {
   "cell_type": "markdown",
   "metadata": {
    "id": "xLeJwOVBKy_4"
   },
   "source": [
    "# Task 5: Training and Evaluation\n",
    "\n",
    "* Train **all** models on the train set.\n",
    "* Evaluate **all** models on the validation set.\n",
    "* Compute metrics on the validation set.\n",
    "* Pick **at least** three seeds for robust estimation.\n",
    "* Pick the **best** performing model according to the observed validation set performance.\n",
    "* Evaluate your models using macro F1-score."
   ]
  },
  {
   "cell_type": "code",
   "execution_count": 97,
   "metadata": {},
   "outputs": [],
   "source": [
    "class LSTM_network():\n",
    "    def __init__(self, name: str, seed: int, detector: SexismDetector, embedding_model: gensim.models.keyedvectors.KeyedVectors, hidden_dim: int = 128, output_dim: int = 2, lstm_layers: int = 1, dropout: float = 0.5):\n",
    "        self.name = name\n",
    "\n",
    "        self.seed = seed\n",
    "        self.__set_seed(seed)\n",
    "\n",
    "        self.device = torch.device(\"cuda\" if torch.cuda.is_available() else \"cpu\")\n",
    "        self.network = BaselineModel(embedding_model, detector, hidden_dim, output_dim, lstm_layers, dropout)\n",
    "        self.network.to(device)\n",
    "        self.detector = detector\n",
    "        self.embedding_model = embedding_model\n",
    "        self.history = None\n",
    "\n",
    "        self.trained = False\n",
    "        # Clear the cache and perform garbage collection on initialization\n",
    "        self.clear_cache()\n",
    "\n",
    "    def __set_seed(self, seed):\n",
    "        \"\"\"\n",
    "        Set the random seed for reproducibility.\n",
    "\n",
    "        This method sets the seed for CUDA operations and NumPy to ensure that \n",
    "        the results are reproducible. It also sets the CUBLAS workspace configuration \n",
    "        to ensure deterministic results.\n",
    "\n",
    "        Args:\n",
    "            seed (int): The seed value to set for random number generation.\n",
    "        \"\"\"\n",
    "        os.environ[\"CUBLAS_WORKSPACE_CONFIG\"] = \":4096:8\"\n",
    "        torch.cuda.manual_seed(seed)\n",
    "        np.random.seed(seed)\n",
    "\n",
    "    def clear_cache(self):\n",
    "        \"\"\"\n",
    "        Clears the cache for CUDA and performs garbage collection.\n",
    "\n",
    "        This method uses PyTorch's `torch.cuda.empty_cache()` to release all unoccupied cached memory \n",
    "        currently held by the CUDA memory allocator, making that memory available for other GPU applications.\n",
    "        It also calls Python's garbage collector to free up any unreferenced memory in the system.\n",
    "\n",
    "        Note:\n",
    "            This method should be used with caution as it can affect the performance of your application \n",
    "            by causing memory fragmentation.\n",
    "        \"\"\"\n",
    "        with torch.no_grad():\n",
    "            torch.cuda.empty_cache()\n",
    "\n",
    "        gc.collect()\n",
    "\n",
    "    def train(self, training_set: pd.DataFrame, validation_set: pd.DataFrame, epochs: int, batch_size: int, lr: float, weight_decay: float, verbose=True):\n",
    "        # Get the train and validation dataloader\n",
    "        train_dloader = self.detector.get_dataloader(data=training_set,\n",
    "                                                     embedding_model=self.embedding_model,\n",
    "                                                     type=\"train\",\n",
    "                                                     batch_size=batch_size,\n",
    "                                                     shuffle=True)\n",
    "\n",
    "        val_dloader = self.detector.get_dataloader(data=validation_set,\n",
    "                                                     embedding_model=self.embedding_model,\n",
    "                                                     type=\"val\",\n",
    "                                                     batch_size=batch_size,\n",
    "                                                     shuffle=False)\n",
    "                                            \n",
    "\n",
    "        # Initialize the history\n",
    "        history = pd.DataFrame(columns=['model', 'epoch', 'train_loss', 'val_loss', 'train_acc', 'val_acc', 'learning_rate'])\n",
    "        \n",
    "        #Queste cose le ho messe qua se no c'era l'init che era con 10000 parametri\n",
    "        #Tra cui il test,train e val set, che secondo me stanno meglio quando chiami il train\n",
    "\n",
    "        class_weights_tensor = self.detector.class_weights\n",
    "        criterion = torch.nn.CrossEntropyLoss(\n",
    "            weight=class_weights_tensor.to(device), \n",
    "            ignore_index=self.embedding_model.get_index(self.detector.PAD_TOKEN)\n",
    "        )\n",
    "\n",
    "        optimizer = torch.optim.AdamW(self.network.parameters(), lr=lr, weight_decay=weight_decay)\n",
    "        scheduler = torch.optim.lr_scheduler.ReduceLROnPlateau(optimizer, mode='min', factor=0.5, patience=10)\n",
    "\n",
    "        # Training loop\n",
    "\n",
    "        # Initialize parameters of Early stopping\n",
    "        best_val_loss = np.inf\n",
    "        best_model = None\n",
    "        best_model_epoch = 0\n",
    "        best_f1_score = 0\n",
    "\n",
    "\n",
    "        # Train the model\n",
    "        for epoch in range(epochs):\n",
    "            # Initialize the training variables for each epoch\n",
    "            train_correct = 0\n",
    "            train_total = 0\n",
    "\n",
    "            # Set the model to training mode\n",
    "            self.network.train()\n",
    "            # Iterate over the training data in batches\n",
    "            for batch in train_dloader:\n",
    "                # Get the inputs and labels\n",
    "                sentences, labels = batch\n",
    "                # Move the inputs and labels to the device (GPU)\n",
    "                sentences = sentences.to(device)\n",
    "                labels = labels.to(device)  # Labels should be integers for CrossEntropyLoss\n",
    "\n",
    "                # Zero grad the optimizer\n",
    "                optimizer.zero_grad()\n",
    "\n",
    "                # Forward pass\n",
    "                output = self.network(sentences)\n",
    "\n",
    "                # Compute the loss\n",
    "                loss = criterion(output, labels)\n",
    "\n",
    "                # Backward pass\n",
    "                loss.backward()\n",
    "\n",
    "                # Adjust learning weights\n",
    "                optimizer.step()\n",
    "\n",
    "                # Compute the accuracy\n",
    "                predicted = torch.argmax(output, dim=1)\n",
    "                train_total += labels.size(0)\n",
    "                train_correct += (predicted == labels).sum().item()\n",
    "\n",
    "            # Validation phase\n",
    "            self.network.eval()\n",
    "            final_val_loss = 0\n",
    "            val_correct = 0\n",
    "            val_total = 0\n",
    "\n",
    "            predicted_arr = []\n",
    "            labels_arr = []\n",
    "\n",
    "            with torch.no_grad():\n",
    "                for batch in val_dloader:\n",
    "                    sentence, labels = batch\n",
    "                    sentence = sentence.to(device)\n",
    "                    labels = labels.to(device)\n",
    "\n",
    "                    output = self.network(sentence)\n",
    "                    val_loss = criterion(output, labels)\n",
    "\n",
    "                    final_val_loss += val_loss.item()\n",
    "\n",
    "                    # Apply sigmoid to logits before thresholding\n",
    "                    predicted = torch.argmax(output, dim=1)\n",
    "\n",
    "                    val_total += labels.size(0)\n",
    "                    val_correct += (predicted == labels).sum().item()\n",
    "\n",
    "                    # Store predictions and true labels\n",
    "                    predicted_arr.append(predicted)\n",
    "                    labels_arr.append(labels)\n",
    "\n",
    "            # Concatenate tensors\n",
    "            predicted_arr = torch.cat(predicted_arr, dim=0).cpu().numpy()\n",
    "            labels_arr = torch.cat(labels_arr, dim=0).cpu().numpy()\n",
    "\n",
    "            # Compute the accuracy\n",
    "            accuracy = accuracy_score(y_true=labels_arr, y_pred=predicted_arr)\n",
    "\n",
    "            # Compute precision, recall and f1 score\n",
    "            precision = precision_score(y_true=labels_arr, y_pred=predicted_arr, average='macro')\n",
    "            recall = recall_score(y_true=labels_arr, y_pred=predicted_arr, average='macro')\n",
    "            f1 = f1_score(y_true=labels_arr, y_pred=predicted_arr, average='macro')\n",
    "\n",
    "            # Update the learning rate\n",
    "            scheduler.step(final_val_loss)\n",
    "\n",
    "            # Early stopping\n",
    "            if final_val_loss < best_val_loss:\n",
    "                best_val_loss = final_val_loss\n",
    "                best_model = copy.deepcopy(self.network.state_dict())\n",
    "                best_model_epoch = epoch\n",
    "                best_f1_score = f1\n",
    "\n",
    "            if verbose:\n",
    "                print(f\"Epoch {epoch + 1}/{epochs}\\tLoss: {loss.item():.4f}\\tAcc: {train_correct / train_total:.4f}\\tVal Loss: {final_val_loss:.4f}\\tVal Acc: {val_correct / val_total:.4f}\\tmacro_f1: {f1:.4f}\\tlr: {scheduler.get_last_lr()[0]:.7f}\")\n",
    "\n",
    "            # Save the history\n",
    "            history.loc[len(history)] = [self.name, epoch + 1, loss.item(), final_val_loss, train_correct / train_total, val_correct / val_total, scheduler.get_last_lr()[0]]\n",
    "\n",
    "        # Restore the best model\n",
    "        self.network.load_state_dict(best_model)\n",
    "        print(f\"Best model found at epoch {best_model_epoch + 1} with validation loss: {best_val_loss:.4f} and f1 sore: {best_f1_score:.4f}\")\n",
    "\n",
    "        # Save the best model\n",
    "        torch.save(self.network.state_dict(), detector.MODEL_FOLDER / f'{self.name}.pth')\n",
    "\n",
    "        #Save the history\n",
    "        self.history = history\n",
    "        self.trained = True\n",
    "\n",
    "        #Return the history and metrics\n",
    "        return history, accuracy, precision, recall, f1\n",
    "\n",
    "    def plot_history(self):\n",
    "        if self.trained:\n",
    "            fig, axes = plt.subplots(1, 3, figsize=(18, 5))\n",
    "            baseline_model_name = self.history['model'] == self.name\n",
    "            self.history[baseline_model_name].plot(x='epoch', y=['train_loss', 'val_loss'], title='Loss', ax=axes[0])\n",
    "            self.history[baseline_model_name].plot(x='epoch', y=['train_acc', 'val_acc'], title='Accuracy', ax=axes[1])\n",
    "            self.history[baseline_model_name].plot(x='epoch', y='learning_rate', title='Learning Rate', ax=axes[2], logy=True)\n",
    "\n",
    "            plt.tight_layout()\n",
    "            plt.show()\n",
    "        else:\n",
    "            raise Exception(\"You need to train the model first!\")"
   ]
  },
  {
   "cell_type": "markdown",
   "metadata": {
    "id": "cBXBJcKKKy_5"
   },
   "source": [
    "# LSTMs"
   ]
  },
  {
   "cell_type": "markdown",
   "metadata": {},
   "source": [
    "The idea here is to run three times the baseline model with different seeds and then average the performance over the seeds with the standard deviation. This is done to have a robust estimation of the performance of the model and to have a better idea of the performance of the model."
   ]
  },
  {
   "cell_type": "code",
   "execution_count": 98,
   "metadata": {},
   "outputs": [
    {
     "name": "stdout",
     "output_type": "stream",
     "text": [
      "Training baseline model with seed 1337\n",
      "Best model found at epoch 15 with validation loss: 1.5394 and f1 sore: 0.7668\n"
     ]
    },
    {
     "data": {
      "image/png": "[encoded data removed]",
      "text/plain": [
       "<Figure size 1800x500 with 3 Axes>"
      ]
     },
     "metadata": {},
     "output_type": "display_data"
    },
    {
     "name": "stdout",
     "output_type": "stream",
     "text": [
      "Training model with two LSTM layers with seed 1337\n",
      "Best model found at epoch 18 with validation loss: 1.4402 and f1 sore: 0.7624\n"
     ]
    },
    {
     "data": {
      "image/png": "[encoded data removed]",
      "text/plain": [
       "<Figure size 1800x500 with 3 Axes>"
      ]
     },
     "metadata": {},
     "output_type": "display_data"
    },
    {
     "name": "stdout",
     "output_type": "stream",
     "text": [
      "Training baseline model with seed 42\n",
      "Best model found at epoch 19 with validation loss: 1.5648 and f1 sore: 0.7676\n"
     ]
    },
    {
     "data": {
      "image/png": "[encoded data removed]",
      "text/plain": [
       "<Figure size 1800x500 with 3 Axes>"
      ]
     },
     "metadata": {},
     "output_type": "display_data"
    },
    {
     "name": "stdout",
     "output_type": "stream",
     "text": [
      "Training model with two LSTM layers with seed 42\n",
      "Best model found at epoch 7 with validation loss: 1.4744 and f1 sore: 0.7745\n"
     ]
    },
    {
     "data": {
      "image/png": "[encoded data removed]",
      "text/plain": [
       "<Figure size 1800x500 with 3 Axes>"
      ]
     },
     "metadata": {},
     "output_type": "display_data"
    },
    {
     "name": "stdout",
     "output_type": "stream",
     "text": [
      "Training baseline model with seed 69\n",
      "Best model found at epoch 10 with validation loss: 1.4977 and f1 sore: 0.7582\n"
     ]
    },
    {
     "data": {
      "image/png": "[encoded data removed]",
      "text/plain": [
       "<Figure size 1800x500 with 3 Axes>"
      ]
     },
     "metadata": {},
     "output_type": "display_data"
    },
    {
     "name": "stdout",
     "output_type": "stream",
     "text": [
      "Training model with two LSTM layers with seed 69\n",
      "Best model found at epoch 13 with validation loss: 1.4963 and f1 sore: 0.7797\n"
     ]
    },
    {
     "data": {
      "image/png": "[encoded data removed]",
      "text/plain": [
       "<Figure size 1800x500 with 3 Axes>"
      ]
     },
     "metadata": {},
     "output_type": "display_data"
    }
   ],
   "source": [
    "# Set the seeds for reproducibility\n",
    "seeds = [1337, 42, 69]\n",
    "\n",
    "# Accumulate the results of each seed\n",
    "lstm_results_df = pd.DataFrame(columns=['name', 'accuracy', 'precision', 'recall', 'f1', 'layers'])\n",
    "\n",
    "\n",
    "for seed in seeds:\n",
    "    # Baseline model\n",
    "    print(f\"Training baseline model with seed {seed}\")\n",
    "    lstm = LSTM_network(f\"baseline_{seed}\",\n",
    "                        seed,\n",
    "                        detector,\n",
    "                        emb_model_augmented,\n",
    "                        hidden_dim=HIDDEN_DIM,\n",
    "                        output_dim=2,\n",
    "                        lstm_layers=1,\n",
    "                        dropout=0.4)\n",
    "\n",
    "    history, accuracy, precision, recall, f1 = lstm.train(train, val, EPOCHS, BATCH_SIZE, LEARNING_RATE, weight_decay=1e-5, verbose=False)\n",
    "\n",
    "    lstm.plot_history()\n",
    "\n",
    "    lstm_results_df.loc[len(lstm_results_df)] = [lstm.name, accuracy, precision, recall, f1, lstm.network.lstm_layers]\n",
    "\n",
    "    # Model with two LSTM layers\n",
    "    print(f\"Training model with two LSTM layers with seed {seed}\")\n",
    "    lstm_2_layers = LSTM_network(f\"2_layers_{seed}\",\n",
    "                                 seed,\n",
    "                                 detector,\n",
    "                                 emb_model_augmented,\n",
    "                                 hidden_dim=HIDDEN_DIM,\n",
    "                                 output_dim=2,\n",
    "                                 lstm_layers=2,\n",
    "                                 dropout=0.4)\n",
    "    \n",
    "    history, accuracy, precision, recall, f1 = lstm_2_layers.train(train, val, EPOCHS, BATCH_SIZE, LEARNING_RATE, weight_decay=1e-5, verbose=False)\n",
    "\n",
    "    lstm_2_layers.plot_history()\n",
    "\n",
    "    lstm_results_df.loc[len(lstm_results_df)] = [lstm_2_layers.name, accuracy, precision, recall, f1, lstm_2_layers.network.lstm_layers]"
   ]
  },
  {
   "cell_type": "markdown",
   "metadata": {},
   "source": [
    "Now we can get the mean and the standard deviation of the performance of the model over the seeds. This is done to have a better idea of the performance of the model and to have a robust estimation of the performance of the model."
   ]
  },
  {
   "cell_type": "code",
   "execution_count": 103,
   "metadata": {},
   "outputs": [
    {
     "data": {
      "text/html": [
       "<div>\n",
       "<style scoped>\n",
       "    .dataframe tbody tr th:only-of-type {\n",
       "        vertical-align: middle;\n",
       "    }\n",
       "\n",
       "    .dataframe tbody tr th {\n",
       "        vertical-align: top;\n",
       "    }\n",
       "\n",
       "    .dataframe thead th {\n",
       "        text-align: right;\n",
       "    }\n",
       "</style>\n",
       "<table border=\"1\" class=\"dataframe\">\n",
       "  <thead>\n",
       "    <tr style=\"text-align: right;\">\n",
       "      <th></th>\n",
       "      <th>name</th>\n",
       "      <th>accuracy</th>\n",
       "      <th>precision</th>\n",
       "      <th>recall</th>\n",
       "      <th>f1</th>\n",
       "      <th>layers</th>\n",
       "    </tr>\n",
       "  </thead>\n",
       "  <tbody>\n",
       "    <tr>\n",
       "      <th>0</th>\n",
       "      <td>baseline_1337</td>\n",
       "      <td>0.778481</td>\n",
       "      <td>0.775689</td>\n",
       "      <td>0.769608</td>\n",
       "      <td>0.771818</td>\n",
       "      <td>1</td>\n",
       "    </tr>\n",
       "    <tr>\n",
       "      <th>1</th>\n",
       "      <td>2_layers_1337</td>\n",
       "      <td>0.778481</td>\n",
       "      <td>0.775689</td>\n",
       "      <td>0.769608</td>\n",
       "      <td>0.771818</td>\n",
       "      <td>2</td>\n",
       "    </tr>\n",
       "    <tr>\n",
       "      <th>2</th>\n",
       "      <td>baseline_42</td>\n",
       "      <td>0.778481</td>\n",
       "      <td>0.775689</td>\n",
       "      <td>0.769608</td>\n",
       "      <td>0.771818</td>\n",
       "      <td>1</td>\n",
       "    </tr>\n",
       "    <tr>\n",
       "      <th>3</th>\n",
       "      <td>2_layers_42</td>\n",
       "      <td>0.772152</td>\n",
       "      <td>0.769657</td>\n",
       "      <td>0.762255</td>\n",
       "      <td>0.764764</td>\n",
       "      <td>2</td>\n",
       "    </tr>\n",
       "    <tr>\n",
       "      <th>4</th>\n",
       "      <td>baseline_69</td>\n",
       "      <td>0.778481</td>\n",
       "      <td>0.775689</td>\n",
       "      <td>0.769608</td>\n",
       "      <td>0.771818</td>\n",
       "      <td>1</td>\n",
       "    </tr>\n",
       "    <tr>\n",
       "      <th>5</th>\n",
       "      <td>2_layers_69</td>\n",
       "      <td>0.765823</td>\n",
       "      <td>0.762490</td>\n",
       "      <td>0.756699</td>\n",
       "      <td>0.758779</td>\n",
       "      <td>2</td>\n",
       "    </tr>\n",
       "  </tbody>\n",
       "</table>\n",
       "</div>"
      ],
      "text/plain": [
       "            name  accuracy  precision    recall        f1  layers\n",
       "0  baseline_1337  0.778481   0.775689  0.769608  0.771818       1\n",
       "1  2_layers_1337  0.778481   0.775689  0.769608  0.771818       2\n",
       "2    baseline_42  0.778481   0.775689  0.769608  0.771818       1\n",
       "3    2_layers_42  0.772152   0.769657  0.762255  0.764764       2\n",
       "4    baseline_69  0.778481   0.775689  0.769608  0.771818       1\n",
       "5    2_layers_69  0.765823   0.762490  0.756699  0.758779       2"
      ]
     },
     "execution_count": 103,
     "metadata": {},
     "output_type": "execute_result"
    }
   ],
   "source": [
    "lstm_results_df"
   ]
  },
  {
   "cell_type": "code",
   "execution_count": 99,
   "metadata": {},
   "outputs": [
    {
     "name": "stdout",
     "output_type": "stream",
     "text": [
      "Results for the baseline model:\n"
     ]
    },
    {
     "data": {
      "text/html": [
       "<div>\n",
       "<style scoped>\n",
       "    .dataframe tbody tr th:only-of-type {\n",
       "        vertical-align: middle;\n",
       "    }\n",
       "\n",
       "    .dataframe tbody tr th {\n",
       "        vertical-align: top;\n",
       "    }\n",
       "\n",
       "    .dataframe thead th {\n",
       "        text-align: right;\n",
       "    }\n",
       "</style>\n",
       "<table border=\"1\" class=\"dataframe\">\n",
       "  <thead>\n",
       "    <tr style=\"text-align: right;\">\n",
       "      <th></th>\n",
       "      <th>accuracy</th>\n",
       "      <th>precision</th>\n",
       "      <th>recall</th>\n",
       "      <th>f1</th>\n",
       "    </tr>\n",
       "  </thead>\n",
       "  <tbody>\n",
       "    <tr>\n",
       "      <th>mean</th>\n",
       "      <td>0.778481</td>\n",
       "      <td>0.775689</td>\n",
       "      <td>0.769608</td>\n",
       "      <td>0.771818</td>\n",
       "    </tr>\n",
       "    <tr>\n",
       "      <th>std</th>\n",
       "      <td>0.000000</td>\n",
       "      <td>0.000000</td>\n",
       "      <td>0.000000</td>\n",
       "      <td>0.000000</td>\n",
       "    </tr>\n",
       "  </tbody>\n",
       "</table>\n",
       "</div>"
      ],
      "text/plain": [
       "      accuracy  precision    recall        f1\n",
       "mean  0.778481   0.775689  0.769608  0.771818\n",
       "std   0.000000   0.000000  0.000000  0.000000"
      ]
     },
     "execution_count": 99,
     "metadata": {},
     "output_type": "execute_result"
    }
   ],
   "source": [
    "lstm_results_df_index = lstm_results_df.set_index('name')\n",
    "print('Results for the baseline model:')\n",
    "lstm_results_df_index[lstm_results_df_index['layers'] == 1].agg(['mean', 'std']).drop(columns='layers')"
   ]
  },
  {
   "cell_type": "code",
   "execution_count": 100,
   "metadata": {},
   "outputs": [
    {
     "name": "stdout",
     "output_type": "stream",
     "text": [
      "Results for the model with two LSTM layers:\n"
     ]
    },
    {
     "data": {
      "text/html": [
       "<div>\n",
       "<style scoped>\n",
       "    .dataframe tbody tr th:only-of-type {\n",
       "        vertical-align: middle;\n",
       "    }\n",
       "\n",
       "    .dataframe tbody tr th {\n",
       "        vertical-align: top;\n",
       "    }\n",
       "\n",
       "    .dataframe thead th {\n",
       "        text-align: right;\n",
       "    }\n",
       "</style>\n",
       "<table border=\"1\" class=\"dataframe\">\n",
       "  <thead>\n",
       "    <tr style=\"text-align: right;\">\n",
       "      <th></th>\n",
       "      <th>accuracy</th>\n",
       "      <th>precision</th>\n",
       "      <th>recall</th>\n",
       "      <th>f1</th>\n",
       "    </tr>\n",
       "  </thead>\n",
       "  <tbody>\n",
       "    <tr>\n",
       "      <th>mean</th>\n",
       "      <td>0.772152</td>\n",
       "      <td>0.769279</td>\n",
       "      <td>0.762854</td>\n",
       "      <td>0.765120</td>\n",
       "    </tr>\n",
       "    <tr>\n",
       "      <th>std</th>\n",
       "      <td>0.006329</td>\n",
       "      <td>0.006608</td>\n",
       "      <td>0.006475</td>\n",
       "      <td>0.006527</td>\n",
       "    </tr>\n",
       "  </tbody>\n",
       "</table>\n",
       "</div>"
      ],
      "text/plain": [
       "      accuracy  precision    recall        f1\n",
       "mean  0.772152   0.769279  0.762854  0.765120\n",
       "std   0.006329   0.006608  0.006475  0.006527"
      ]
     },
     "execution_count": 100,
     "metadata": {},
     "output_type": "execute_result"
    }
   ],
   "source": [
    "print('Results for the model with two LSTM layers:')\n",
    "lstm_results_df_index[lstm_results_df_index['layers'] == 2].agg(['mean', 'std']).drop(columns='layers')"
   ]
  },
  {
   "cell_type": "markdown",
   "metadata": {},
   "source": [
    "Now pick the best performing model according to the observed validation set performance"
   ]
  },
  {
   "cell_type": "code",
   "execution_count": 102,
   "metadata": {},
   "outputs": [
    {
     "name": "stdout",
     "output_type": "stream",
     "text": [
      "Best model: baseline_1337 with f1 score: 0.7718\n"
     ]
    }
   ],
   "source": [
    "# Model with  best f1 score (macro)\n",
    "\n",
    "best_model_name = lstm_results_df_index['f1'].idxmax()\n",
    "print(f\"Best model: {best_model_name} with f1 score: {lstm_results_df_index.loc[best_model_name, 'f1']:.4f}\")"
   ]
  },
  {
   "cell_type": "markdown",
   "metadata": {
    "id": "_849c_EG-bRK"
   },
   "source": [
    "# Task 6: Transformers\n",
    "\n",
    "https://huggingface.co/cardiffnlp/twitter-roberta-base-hate"
   ]
  },
  {
   "cell_type": "markdown",
   "metadata": {
    "id": "eAAOAuYAKy_9"
   },
   "source": [
    "1. **Load the Tokenizer and Model**\n",
    "\n",
    "2. **Preprocess the Dataset**:\n",
    "   You will need to preprocess your dataset to prepare it for input into the model. Tokenize your text data using the appropriate tokenizer and ensure it is formatted correctly.\n",
    "\n",
    "   **Note**: You have to use the plain text of the dataset and not the version that you tokenized before, as you need to tokenize the cleaned text obtained after the initial cleaning process.\n",
    "\n",
    "3. **Train the Model**:\n",
    "   Use the `Trainer` to train the model on your training data.\n",
    "\n",
    "4. **Evaluate the Model on the Test Set** using F1-macro."
   ]
  },
  {
   "cell_type": "code",
   "execution_count": 96,
   "metadata": {},
   "outputs": [],
   "source": [
    "class roBERTa:\n",
    "    def __init__(self, model_card: str, class_weights: torch.Tensor, seed: int):\n",
    "        self.model_card = model_card\n",
    "        self.class_weights = class_weights\n",
    "        self.seed = seed\n",
    "        self.device = torch.device(\"cuda\" if torch.cuda.is_available() else \"cpu\")\n",
    "        \n",
    "        # Clear the cache and perform garbage collection on initialization\n",
    "        self.clear_cache()\n",
    "    \n",
    "    def clear_cache(self):\n",
    "        \"\"\"\n",
    "        Clears the cache for CUDA and performs garbage collection.\n",
    "\n",
    "        This method uses PyTorch's `torch.cuda.empty_cache()` to release all unoccupied cached memory \n",
    "        currently held by the CUDA memory allocator, making that memory available for other GPU applications.\n",
    "        It also calls Python's garbage collector to free up any unreferenced memory in the system.\n",
    "\n",
    "        Note:\n",
    "            This method should be used with caution as it can affect the performance of your application \n",
    "            by causing memory fragmentation.\n",
    "        \"\"\"\n",
    "        with torch.no_grad():\n",
    "            torch.cuda.empty_cache()\n",
    "\n",
    "        gc.collect()\n",
    "\n",
    "    def get_tokenizer(self):\n",
    "        \"\"\"\n",
    "        Initializes and returns the tokenizer for the specified model card.\n",
    "\n",
    "        This method loads a tokenizer using the `AutoTokenizer` class from the \n",
    "        Hugging Face Transformers library, based on the model card specified \n",
    "        in the `self.model_card` attribute. The loaded tokenizer is then \n",
    "        assigned to the `self.tokenizer` attribute and returned.\n",
    "\n",
    "        Returns:\n",
    "            PreTrainedTokenizer: The tokenizer initialized from the specified model card.\n",
    "        \"\"\"\n",
    "        tokenizer = AutoTokenizer.from_pretrained(self.model_card)\n",
    "        self.tokenizer = tokenizer\n",
    "        return tokenizer\n",
    "\n",
    "    def get_dataset(self, dataframe: pd.DataFrame):\n",
    "        \"\"\"\n",
    "        Converts a pandas DataFrame into a Dataset object.\n",
    "\n",
    "        Args:\n",
    "            dataframe (pd.DataFrame): The pandas DataFrame to be converted.\n",
    "\n",
    "        Returns:\n",
    "            Dataset: A Dataset object created from the given DataFrame.\n",
    "        \"\"\"\n",
    "        return Dataset.from_pandas(dataframe)\n",
    "    \n",
    "    def preprocess_text(self, texts: pd.DataFrame, column: str = 'tweet'):\n",
    "        \"\"\"\n",
    "        Preprocesses the text data by tokenizing the specified column in the DataFrame.\n",
    "\n",
    "        Args:\n",
    "            texts (pd.DataFrame): The DataFrame containing the text data to be processed.\n",
    "            column (str, optional): The name of the column in the DataFrame that contains the text data. Defaults to 'tweet'.\n",
    "\n",
    "        Returns:\n",
    "            List[Dict[str, Union[List[int], List[str]]]]: The tokenized representation of the text data.\n",
    "        \"\"\"\n",
    "        return self.tokenizer(texts[column]) # TODO: truncate to max len based on average len?\n",
    "\n",
    "    def show_encoded_text(self, data, idx: int):\n",
    "        \"\"\"\n",
    "        Displays the original, encoded, and decoded text for a given index in the dataset.\n",
    "\n",
    "        Args:\n",
    "            data (dict): A dictionary containing the dataset with keys 'tweet' and 'input_ids'.\n",
    "            idx (int): The index of the tweet to display.\n",
    "\n",
    "        Prints:\n",
    "            str: The original tweet text.\n",
    "            str: The encoded tweet text as input IDs.\n",
    "            str: The decoded tweet text from the input IDs.\n",
    "        \"\"\"\n",
    "        print(f\"Original: {data['tweet'][idx]}\")\n",
    "        print(f\"Encoded: {data['input_ids'][idx]}\")\n",
    "        print(f\"Decoded: {self.tokenizer.decode(data['input_ids'][idx])}\")\n",
    "\n",
    "    def get_model(self, num_labels: int, id2label: dict, label2id: dict):\n",
    "        \"\"\"\n",
    "        Loads a pre-trained model for sequence classification.\n",
    "\n",
    "        Args:\n",
    "            num_labels (int): The number of labels for classification.\n",
    "            id2label (dict): A dictionary mapping label IDs to label names.\n",
    "            label2id (dict): A dictionary mapping label names to label IDs.\n",
    "\n",
    "        Returns:\n",
    "            AutoModelForSequenceClassification: The pre-trained model configured for sequence classification.\n",
    "        \"\"\"\n",
    "        return AutoModelForSequenceClassification.from_pretrained(self.model_card, num_labels=num_labels, id2label=id2label, label2id=label2id)\n",
    "\n",
    "    def get_data_collator(self):\n",
    "        \"\"\"\n",
    "        Creates and returns a data collator that dynamically pads the inputs to the maximum length of a batch.\n",
    "\n",
    "        Returns:\n",
    "            DataCollatorWithPadding: An instance of DataCollatorWithPadding initialized with the tokenizer.\n",
    "        \"\"\"\n",
    "        return DataCollatorWithPadding(tokenizer=self.tokenizer)\n",
    "\n",
    "    def compute_metrics(self, output_info):\n",
    "        \"\"\"\n",
    "        Compute various evaluation metrics for model predictions.\n",
    "\n",
    "        Args:\n",
    "            output_info (tuple): A tuple containing the model predictions and the true labels.\n",
    "                - predictions (np.ndarray): The predicted labels from the model.\n",
    "                - labels (np.ndarray): The true labels.\n",
    "\n",
    "        Returns:\n",
    "            dict: A dictionary containing the computed metrics:\n",
    "                - 'f1': The F1 score (macro average).\n",
    "                - 'accuracy': The accuracy score.\n",
    "                - 'precision': The precision score (macro average).\n",
    "                - 'recall': The recall score (macro average).\n",
    "        \"\"\"\n",
    "        acc_metric = evaluate.load('accuracy')\n",
    "        f1_metric = evaluate.load('f1')\n",
    "        precision_metric = evaluate.load(\"precision\")\n",
    "        recall_metric = evaluate.load(\"recall\")\n",
    "\n",
    "        predictions, labels = output_info\n",
    "        predictions = np.argmax(predictions, axis=-1)\n",
    "\n",
    "        f1 = f1_metric.compute(predictions=predictions, references=labels, average='macro')\n",
    "        acc = acc_metric.compute(predictions=predictions, references=labels)\n",
    "        precision = precision_metric.compute(predictions=predictions, references=labels, average='macro')\n",
    "        recall = recall_metric.compute(predictions=predictions, references=labels, average='macro')\n",
    "\n",
    "        return {**f1, **acc, **precision, **recall}\n",
    "\n",
    "    def get_training_args(self, *args, **kwargs):\n",
    "        \"\"\"\n",
    "        Generates and returns the training arguments for the model.\n",
    "\n",
    "        This method accepts any number of positional and keyword arguments and \n",
    "        passes them to the `TrainingArguments` constructor from the HuggingFace \n",
    "        Transformers library.\n",
    "\n",
    "        Args:\n",
    "            *args: Variable length argument list.\n",
    "            **kwargs: Arbitrary keyword arguments.\n",
    "\n",
    "        Returns:\n",
    "            TrainingArguments: An instance of the TrainingArguments class \n",
    "            initialized with the provided arguments.\n",
    "        \"\"\"\n",
    "        return TrainingArguments(*args, **kwargs)\n",
    "\n",
    "    def get_trainer(self, model, training_args, train_dataset, eval_dataset, data_collator):\n",
    "        \"\"\"\n",
    "        Creates and returns a CustomTrainer instance for training and evaluation.\n",
    "\n",
    "        Args:\n",
    "            model (PreTrainedModel): The model to be trained.\n",
    "            training_args (TrainingArguments): The arguments for training configuration.\n",
    "            train_dataset (Dataset): The dataset to be used for training.\n",
    "            eval_dataset (Dataset): The dataset to be used for evaluation.\n",
    "            data_collator (DataCollator): The data collator to be used for batching.\n",
    "\n",
    "        Returns:\n",
    "            CustomTrainer: An instance of CustomTrainer configured with the provided arguments.\n",
    "        \"\"\"\n",
    "        return CustomTrainer(\n",
    "            model=model,\n",
    "            args=training_args,\n",
    "            train_dataset=train_dataset,\n",
    "            eval_dataset=eval_dataset,\n",
    "            data_collator=data_collator,\n",
    "            compute_metrics=self.compute_metrics,\n",
    "            class_weights=self.class_weights,\n",
    "            device=self.device,\n",
    "        )\n",
    "\n",
    "    def get_predictions(self, trainer, data):\n",
    "        \"\"\"\n",
    "        Generate predictions and labels from the given trainer and data.\n",
    "\n",
    "        Args:\n",
    "            trainer (Trainer): The trainer object used for making predictions.\n",
    "            data (Dataset): The dataset on which predictions are to be made.\n",
    "\n",
    "        Returns:\n",
    "            tuple: A tuple containing two elements:\n",
    "                - predictions (ndarray): The predicted values.\n",
    "                - labels (ndarray): The true labels corresponding to the predictions.\n",
    "        \"\"\"\n",
    "        predictions_info = trainer.predict(data)\n",
    "        predictions, labels = predictions_info.predictions, predictions_info.label_ids\n",
    "\n",
    "        return predictions, labels\n",
    "    \n",
    "    def get_metrics(self, predictions, labels):\n",
    "        \"\"\"\n",
    "        Calculate and return the evaluation metrics based on the given predictions and labels.\n",
    "\n",
    "        Args:\n",
    "            predictions (list or array-like): The predicted values.\n",
    "            labels (list or array-like): The true values.\n",
    "\n",
    "        Returns:\n",
    "            dict: A dictionary containing the computed metrics.\n",
    "        \"\"\"\n",
    "        return self.compute_metrics([predictions, labels])\n",
    "\n",
    "    def get_confusion_matrix(self, predictions, labels):\n",
    "        \"\"\"\n",
    "        Generates and displays a confusion matrix for the given predictions and labels.\n",
    "\n",
    "        Args:\n",
    "            predictions (numpy.ndarray): The predicted probabilities or logits for each class.\n",
    "            labels (numpy.ndarray): The true labels for the data.\n",
    "\n",
    "        Returns:\n",
    "            None: This function displays the confusion matrix plot and does not return any value.\n",
    "        \"\"\"\n",
    "        cm = confusion_matrix(y_true=labels, y_pred=np.argmax(predictions, axis=-1))\n",
    "        disp = ConfusionMatrixDisplay(confusion_matrix=cm, display_labels=['Non-sexist', 'Sexist'])\n",
    "        disp.plot(cmap='viridis')\n",
    "        plt.show()\n",
    "\n",
    "    def get_precision_recall(self, predictions, labels):\n",
    "        \"\"\"\n",
    "        Calculate and display the precision-recall curve for the given predictions and labels.\n",
    "\n",
    "        Args:\n",
    "            predictions (np.ndarray): The predicted probabilities or logits from the model.\n",
    "            labels (np.ndarray): The true labels for the data.\n",
    "\n",
    "        Returns:\n",
    "            None: This function displays the precision-recall curve using matplotlib.\n",
    "        \"\"\"\n",
    "        display = PrecisionRecallDisplay.from_predictions(y_true=labels, y_pred=np.argmax(predictions, axis=-1), name='Cardiff Twitter RoBERTa Base', plot_chance_level=True)\n",
    "        _ = display.ax_.set_title(\"2-class Precision-Recall curve\")\n",
    "\n",
    "    def contains_OOV(self, text):\n",
    "        \"\"\"\n",
    "        Return the out-of-vocabulary (OOV) words in a given text.\n",
    "        \"\"\"\n",
    "        vocab_words = list(self.tokenizer.vocab.keys())\n",
    "        return set(word for word in text.split() if word not in vocab_words)\n",
    "\n",
    "    def review_errors(self, original_data, preprocessed_data, predictions, labels, verbose: bool = False):\n",
    "        \"\"\"\n",
    "        Analyzes and reviews errors in model predictions.\n",
    "\n",
    "        Args:\n",
    "            original_data (pd.DataFrame): The original dataset containing the true labels.\n",
    "            preprocessed_data (pd.DataFrame): The preprocessed dataset used for predictions.\n",
    "            predictions (np.ndarray): The model's predictions.\n",
    "            labels (np.ndarray): The true labels.\n",
    "            verbose (bool, optional): If True, prints detailed information about each error. Defaults to False.\n",
    "\n",
    "        Returns:\n",
    "            list: A list of tweet IDs where the model made incorrect predictions.\n",
    "\n",
    "        Prints:\n",
    "            - The total number of errors found.\n",
    "            - Detailed information about each error if verbose is True.\n",
    "            - The number and percentage of errors due to Out-Of-Vocabulary (OOV) words.\n",
    "        \"\"\"\n",
    "        errors = []\n",
    "        for i, (pred, label) in enumerate(zip(predictions, labels)):\n",
    "            if np.argmax(pred) != label:\n",
    "                errors.append(i)\n",
    "\n",
    "        print(f\"Found {len(errors)} errors out of {len(labels)} samples.\")\n",
    "\n",
    "        errors_due_to_OOV = 0\n",
    "        wrong_tweet_ids = []\n",
    "        for i in errors:\n",
    "            tweet_text = preprocessed_data['tweet'][i]\n",
    "            tweet_id = preprocessed_data['id_EXIST'][i]\n",
    "            wrong_tweet_ids.append(tweet_id)\n",
    "            oov_found = self.contains_OOV(tweet_text)\n",
    "            original_labels = original_data[original_data['id_EXIST'] == tweet_id]['labels_task1'].values[0]\n",
    "            if oov_found:\n",
    "                errors_due_to_OOV += 1\n",
    "            if verbose:\n",
    "                print(f\"\"\"\n",
    "                Contains OOV: {oov_found if len(oov_found) > 0 else 'No'}\n",
    "                Tweet: {tweet_text}\n",
    "                Predicted: {predictions[i]}\n",
    "                True Label: {labels[i]}\n",
    "                Raw Labels: {original_labels}\n",
    "\n",
    "                \"\"\")\n",
    "        print(f\"Errors due to OOV: {errors_due_to_OOV}, {errors_due_to_OOV / len(errors) * 100:.2f}%\")\n",
    "        return wrong_tweet_ids\n",
    "\n",
    "# Since we know that there is a slightly imbalance in the dataset labels, instead of using the default Trainer class of HuggingFace, we can write a custom class inheriting from the Trainer class and override the `compute_loss` method to compute the loss with the class weights computed from the dataset labels. In this way the loss function will take into account the imbalance in the dataset labels and will give more importance to the minority class. The impact of this change is that the F1 and accuracy scores will be more similar to each other since the model will be trained to give more importance to the minority class w.r.t. the majority class.\n",
    "\n",
    "# Taken from https://github.com/huggingface/transformers/blob/main/src/transformers/trainer.py#L3700 (with some minor changes removing useless parts)\n",
    "class CustomTrainer(Trainer):\n",
    "    def __init__(self, class_weights, device, *args, **kwargs):\n",
    "        super().__init__(*args, **kwargs)\n",
    "        # You pass the class weights when instantiating the Trainer\n",
    "        self.class_weights = class_weights\n",
    "        self.device = device\n",
    "\n",
    "    def compute_loss(self, model, inputs, return_outputs=False, num_items_in_batch=None):\n",
    "        if self.label_smoother is not None and \"labels\" in inputs:\n",
    "            labels = inputs.pop(\"labels\")\n",
    "        else:\n",
    "            labels = None\n",
    "        outputs = model(**inputs)\n",
    "        # Save past state if it exists\n",
    "        # TODO: this needs to be fixed and made cleaner later.\n",
    "        if self.args.past_index >= 0:\n",
    "            self._past = outputs[self.args.past_index]\n",
    "\n",
    "        if labels is not None:\n",
    "            loss = self.label_smoother(outputs, labels)\n",
    "        else:\n",
    "            # We don't use .loss here since the model may return tuples instead of ModelOutput.\n",
    "\n",
    "            # Do not\n",
    "            # loss = outputs[\"loss\"] if isinstance(outputs, dict) else outputs[0]\n",
    "            logits = outputs.get('logits')\n",
    "            criterion = torch.nn.CrossEntropyLoss(weight=self.class_weights.to(self.device))\n",
    "            loss = criterion(logits, inputs['labels'])\n",
    "\n",
    "        return (loss, outputs) if return_outputs else loss"
   ]
  },
  {
   "cell_type": "markdown",
   "metadata": {},
   "source": [
    "Instantiate the class with seed and class weights to ensure reproducibility of the results."
   ]
  },
  {
   "cell_type": "code",
   "execution_count": 113,
   "metadata": {},
   "outputs": [],
   "source": [
    "model_card = 'cardiffnlp/twitter-roberta-base-hate'\n",
    "transformer = roBERTa(model_card, class_weights=class_weights_tensor, seed=1337)"
   ]
  },
  {
   "cell_type": "code",
   "execution_count": 114,
   "metadata": {
    "id": "wmyoK7ToKy_9"
   },
   "outputs": [],
   "source": [
    "tokenizer = transformer.get_tokenizer()"
   ]
  },
  {
   "cell_type": "code",
   "execution_count": 115,
   "metadata": {
    "id": "Xm9q59AUKy_-"
   },
   "outputs": [],
   "source": [
    "train_data = transformer.get_dataset(train)\n",
    "val_data = transformer.get_dataset(val)\n",
    "test_data = transformer.get_dataset(test)"
   ]
  },
  {
   "cell_type": "code",
   "execution_count": 116,
   "metadata": {
    "colab": {
     "base_uri": "https://localhost:8080/",
     "height": 130,
     "referenced_widgets": [
      "ad2fdbff9bb94a428d4d9bba26a9227a",
      "f3f07832d759492fbbbb8b122358421d",
      "d9f8ee15420a4fab9b2e458344c0393b",
      "3ac29ea09e5c4f8db9657e56a1d12a6c",
      "4312146943be4263a594c15a0df095a1",
      "e314abf17ead42158468f5d0847f25cd",
      "392b67ddfb28405997e480da9608c65f",
      "a678740f297846a9ba51343ef9acccb7",
      "a501948a177942118b9b9f0bdfdd92b6",
      "a360ce1b71c74c569d5d16b818e15d10",
      "ed24a4a107564712b5239f68fe8b807f",
      "14d960b7685f4c24af674b53167820c0",
      "14022f99a32c4f5eb2a60adde2157e2c",
      "e7ec1d78fc9349e780b4c67aef084c81",
      "76e3d0f5fad6467d8ecde4d8d2b28a73",
      "99ae46da3b984572a92a4031f36ec845",
      "d160fc03521b429e9c6a2f71978f5697",
      "0fd8d961f74940998a6dcadd9ca11020",
      "010af9ad50c342aa8ffd390913656783",
      "37f6e3a55fae4e89b226d65799c056ae",
      "dfb7f13e3f104a0292e083a58fa39623",
      "a0740bcd833f480cb5b80b66176ee355",
      "4c6bc25ec6fe43449db337905e28f7a8",
      "41913e5ec0fd471fb19467573ed0c4c8",
      "baec7636b03b400284fc84d2dd0f059f",
      "67a557cd7c8141a3a3e004703bc853df",
      "d17b118594574bdcae63d547485ee16b",
      "6164ba82b8ab4195bf77e0db1c3d4e54",
      "d92a05827a4f4617a01a029eebdb2e4b",
      "9b749ee0bea046a0bd2569f95dd3629e",
      "78395c4346574282b7b3e7dfaca0f4ee",
      "8df32711e7c340ccbf3d92d65f981421",
      "dcaa7a024ddb4c19b25b6ad837e8f278"
     ]
    },
    "id": "9iUuHtPkKy_-",
    "outputId": "4343d55e-6735-4572-8e98-dbee19645da9"
   },
   "outputs": [
    {
     "data": {
      "application/vnd.jupyter.widget-view+json": {
       "model_id": "1bee7106c0b64dc6877755db19e51c5e",
       "version_major": 2,
       "version_minor": 0
      },
      "text/plain": [
       "Map:   0%|          | 0/2870 [00:00<?, ? examples/s]"
      ]
     },
     "metadata": {},
     "output_type": "display_data"
    },
    {
     "data": {
      "application/vnd.jupyter.widget-view+json": {
       "model_id": "e49f064f79394ec39f68ee639fbe9a46",
       "version_major": 2,
       "version_minor": 0
      },
      "text/plain": [
       "Map:   0%|          | 0/158 [00:00<?, ? examples/s]"
      ]
     },
     "metadata": {},
     "output_type": "display_data"
    },
    {
     "data": {
      "application/vnd.jupyter.widget-view+json": {
       "model_id": "15abf962e9194fffb174b556039117e7",
       "version_major": 2,
       "version_minor": 0
      },
      "text/plain": [
       "Map:   0%|          | 0/286 [00:00<?, ? examples/s]"
      ]
     },
     "metadata": {},
     "output_type": "display_data"
    }
   ],
   "source": [
    "train_data = train_data.map(transformer.preprocess_text, batched=True)\n",
    "val_data = val_data.map(transformer.preprocess_text, batched=True)\n",
    "test_data = test_data.map(transformer.preprocess_text, batched=True)"
   ]
  },
  {
   "cell_type": "code",
   "execution_count": 117,
   "metadata": {
    "colab": {
     "base_uri": "https://localhost:8080/"
    },
    "id": "ul9uJW1NKy__",
    "outputId": "eeed6c9e-68bc-4c28-cf0f-88ab8f928f01"
   },
   "outputs": [
    {
     "name": "stdout",
     "output_type": "stream",
     "text": [
      "Dataset({\n",
      "    features: ['id_EXIST', 'lang', 'tweet', 'label', '__index_level_0__', 'input_ids', 'attention_mask'],\n",
      "    num_rows: 2870\n",
      "})\n",
      "Dataset({\n",
      "    features: ['id_EXIST', 'lang', 'tweet', 'label', '__index_level_0__', 'input_ids', 'attention_mask'],\n",
      "    num_rows: 286\n",
      "})\n"
     ]
    }
   ],
   "source": [
    "print(train_data)\n",
    "print(test_data)"
   ]
  },
  {
   "cell_type": "code",
   "execution_count": 118,
   "metadata": {
    "colab": {
     "base_uri": "https://localhost:8080/"
    },
    "id": "A9KE0IjCKy__",
    "outputId": "abac0cbc-10e4-4209-d8b0-fb4bbd7c5273"
   },
   "outputs": [
    {
     "name": "stdout",
     "output_type": "stream",
     "text": [
      "Original: writing a uni essay in my local pub with a coffee random old man keep asking me drunk question when i m trying to concentrate amp end with good luck but you ll just end up getting married and not use it anyway <hashtag> is alive and well\n",
      "Encoded: [0, 13293, 10, 542, 118, 14700, 11, 127, 400, 8881, 19, 10, 3895, 9624, 793, 313, 489, 1996, 162, 10789, 864, 77, 939, 475, 667, 7, 14410, 28127, 253, 19, 205, 6620, 53, 47, 19385, 95, 253, 62, 562, 2997, 8, 45, 304, 24, 6992, 28696, 25903, 10058, 15698, 16, 4299, 8, 157, 2]\n",
      "Decoded: <s>writing a uni essay in my local pub with a coffee random old man keep asking me drunk question when i m trying to concentrate amp end with good luck but you ll just end up getting married and not use it anyway <hashtag> is alive and well</s>\n"
     ]
    }
   ],
   "source": [
    "transformer.show_encoded_text(data=train_data, idx=0)"
   ]
  },
  {
   "cell_type": "code",
   "execution_count": 119,
   "metadata": {
    "id": "UirlsPDnKy__"
   },
   "outputs": [
    {
     "name": "stderr",
     "output_type": "stream",
     "text": [
      "huggingface/tokenizers: The current process just got forked, after parallelism has already been used. Disabling parallelism to avoid deadlocks...\n",
      "To disable this warning, you can either:\n",
      "\t- Avoid using `tokenizers` before the fork if possible\n",
      "\t- Explicitly set the environment variable TOKENIZERS_PARALLELISM=(true | false)\n"
     ]
    }
   ],
   "source": [
    "model = transformer.get_model(num_labels=2, id2label={0: 'NEG', 1: 'POS'}, label2id={'NEG': 0, 'POS': 1})"
   ]
  },
  {
   "cell_type": "code",
   "execution_count": 120,
   "metadata": {},
   "outputs": [],
   "source": [
    "data_collator = transformer.get_data_collator()"
   ]
  },
  {
   "cell_type": "code",
   "execution_count": 121,
   "metadata": {
    "colab": {
     "base_uri": "https://localhost:8080/"
    },
    "id": "CL2HAsspKzAA",
    "outputId": "5c7d15ce-e7ef-4d40-da95-8d594ac1e932"
   },
   "outputs": [
    {
     "name": "stdout",
     "output_type": "stream",
     "text": [
      "RobertaForSequenceClassification(\n",
      "  (roberta): RobertaModel(\n",
      "    (embeddings): RobertaEmbeddings(\n",
      "      (word_embeddings): Embedding(50265, 768, padding_idx=1)\n",
      "      (position_embeddings): Embedding(514, 768, padding_idx=1)\n",
      "      (token_type_embeddings): Embedding(1, 768)\n",
      "      (LayerNorm): LayerNorm((768,), eps=1e-05, elementwise_affine=True)\n",
      "      (dropout): Dropout(p=0.1, inplace=False)\n",
      "    )\n",
      "    (encoder): RobertaEncoder(\n",
      "      (layer): ModuleList(\n",
      "        (0-11): 12 x RobertaLayer(\n",
      "          (attention): RobertaAttention(\n",
      "            (self): RobertaSdpaSelfAttention(\n",
      "              (query): Linear(in_features=768, out_features=768, bias=True)\n",
      "              (key): Linear(in_features=768, out_features=768, bias=True)\n",
      "              (value): Linear(in_features=768, out_features=768, bias=True)\n",
      "              (dropout): Dropout(p=0.1, inplace=False)\n",
      "            )\n",
      "            (output): RobertaSelfOutput(\n",
      "              (dense): Linear(in_features=768, out_features=768, bias=True)\n",
      "              (LayerNorm): LayerNorm((768,), eps=1e-05, elementwise_affine=True)\n",
      "              (dropout): Dropout(p=0.1, inplace=False)\n",
      "            )\n",
      "          )\n",
      "          (intermediate): RobertaIntermediate(\n",
      "            (dense): Linear(in_features=768, out_features=3072, bias=True)\n",
      "            (intermediate_act_fn): GELUActivation()\n",
      "          )\n",
      "          (output): RobertaOutput(\n",
      "            (dense): Linear(in_features=3072, out_features=768, bias=True)\n",
      "            (LayerNorm): LayerNorm((768,), eps=1e-05, elementwise_affine=True)\n",
      "            (dropout): Dropout(p=0.1, inplace=False)\n",
      "          )\n",
      "        )\n",
      "      )\n",
      "    )\n",
      "  )\n",
      "  (classifier): RobertaClassificationHead(\n",
      "    (dense): Linear(in_features=768, out_features=768, bias=True)\n",
      "    (dropout): Dropout(p=0.1, inplace=False)\n",
      "    (out_proj): Linear(in_features=768, out_features=2, bias=True)\n",
      "  )\n",
      ")\n"
     ]
    }
   ],
   "source": [
    "print(model)"
   ]
  },
  {
   "cell_type": "code",
   "execution_count": 122,
   "metadata": {
    "id": "SsahfUD4KzAA"
   },
   "outputs": [],
   "source": [
    "training_args = transformer.get_training_args(\n",
    "    output_dir=\"models\",                 # where to save model\n",
    "    learning_rate=5e-6,\n",
    "    per_device_train_batch_size=BATCH_SIZE,         # accelerate defines distributed training\n",
    "    per_device_eval_batch_size=BATCH_SIZE,\n",
    "    num_train_epochs=10,\n",
    "    weight_decay=1e-5,\n",
    "    eval_strategy=\"epoch\",           # when to report evaluation metrics/losses\n",
    "    save_strategy=\"epoch\",                 # when to save checkpoint\n",
    "    load_best_model_at_end=True,\n",
    "    report_to='none',                    # disabling wandb (default)\n",
    "    seed=transformer.seed,\n",
    "    data_seed=transformer.seed\n",
    ")"
   ]
  },
  {
   "cell_type": "code",
   "execution_count": 124,
   "metadata": {
    "colab": {
     "base_uri": "https://localhost:8080/",
     "height": 391
    },
    "id": "FthvNMvOKzAA",
    "outputId": "c95c28ec-d486-4725-e168-b1150a28f391"
   },
   "outputs": [],
   "source": [
    "trainer = transformer.get_trainer(model, training_args, train_data, test_data, data_collator)"
   ]
  },
  {
   "cell_type": "code",
   "execution_count": null,
   "metadata": {
    "id": "3jGdDKRJKzAA"
   },
   "outputs": [],
   "source": [
    "trainer.train()"
   ]
  },
  {
   "cell_type": "code",
   "execution_count": null,
   "metadata": {
    "id": "ZcGc6SmaC7t-",
    "outputId": "4a2ee065-6c33-471d-fc9a-53e4cea5b184"
   },
   "outputs": [
    {
     "data": {
      "text/html": [],
      "text/plain": [
       "<IPython.core.display.HTML object>"
      ]
     },
     "metadata": {},
     "output_type": "display_data"
    }
   ],
   "source": [
    "test_predictions, test_labels = transformer.get_predictions(trainer, test_data)"
   ]
  },
  {
   "cell_type": "code",
   "execution_count": null,
   "metadata": {
    "id": "B2SzjtFbC7t-",
    "outputId": "51f3a0d9-e0e3-4494-9839-575e12013f8f"
   },
   "outputs": [
    {
     "name": "stdout",
     "output_type": "stream",
     "text": [
      "{'f1': 0.8452380952380952, 'accuracy': 0.8461538461538461, 'precision': 0.8444966705836271, 'recall': 0.8490079365079365}\n"
     ]
    }
   ],
   "source": [
    "test_metrics = transformer.compute_metrics([test_predictions, test_labels])\n",
    "print(test_metrics)"
   ]
  },
  {
   "cell_type": "markdown",
   "metadata": {
    "id": "qoCoBkHN-bRK"
   },
   "source": [
    "# Task 7: Error Analysis\n",
    "\n",
    "After evaluating the model, perform a brief error analysis:\n",
    "\n",
    " - Review the results and identify common errors.\n",
    "\n",
    " - Summarize your findings regarding the errors and their impact on performance (e.g. but not limited to Out-of-Vocabulary (OOV) words, data imbalance, and performance differences between the custom model and the transformer...)\n",
    " - Suggest possible solutions to address the identified errors."
   ]
  },
  {
   "cell_type": "markdown",
   "metadata": {},
   "source": [
    "Confusion Matrix"
   ]
  },
  {
   "cell_type": "code",
   "execution_count": 65,
   "metadata": {},
   "outputs": [
    {
     "data": {
      "image/png": "[encoded data removed]",
      "text/plain": [
       "<Figure size 640x480 with 2 Axes>"
      ]
     },
     "metadata": {},
     "output_type": "display_data"
    }
   ],
   "source": [
    "transformer.get_confusion_matrix(test_predictions, test_labels)"
   ]
  },
  {
   "cell_type": "markdown",
   "metadata": {},
   "source": [
    "Precision-Recall Curve"
   ]
  },
  {
   "cell_type": "code",
   "execution_count": 66,
   "metadata": {},
   "outputs": [
    {
     "data": {
      "image/png": "[encoded data removed]",
      "text/plain": [
       "<Figure size 640x480 with 1 Axes>"
      ]
     },
     "metadata": {},
     "output_type": "display_data"
    }
   ],
   "source": [
    "transformer.get_precision_recall(predictions=test_predictions, labels=test_labels)"
   ]
  },
  {
   "cell_type": "markdown",
   "metadata": {},
   "source": [
    "Analysis on misclassified tweets, percentage of OOV words, original labels, etc."
   ]
  },
  {
   "cell_type": "code",
   "execution_count": 597,
   "metadata": {
    "id": "1eu5fi73C7t-",
    "outputId": "e85b8875-3bd9-49d6-aad1-898bae003fcb"
   },
   "outputs": [
    {
     "data": {
      "text/html": [
       "<div>\n",
       "<style scoped>\n",
       "    .dataframe tbody tr th:only-of-type {\n",
       "        vertical-align: middle;\n",
       "    }\n",
       "\n",
       "    .dataframe tbody tr th {\n",
       "        vertical-align: top;\n",
       "    }\n",
       "\n",
       "    .dataframe thead th {\n",
       "        text-align: right;\n",
       "    }\n",
       "</style>\n",
       "<table border=\"1\" class=\"dataframe\">\n",
       "  <thead>\n",
       "    <tr style=\"text-align: right;\">\n",
       "      <th></th>\n",
       "      <th>id_EXIST</th>\n",
       "      <th>lang</th>\n",
       "      <th>tweet</th>\n",
       "      <th>number_annotators</th>\n",
       "      <th>annotators</th>\n",
       "      <th>gender_annotators</th>\n",
       "      <th>age_annotators</th>\n",
       "      <th>labels_task1</th>\n",
       "      <th>labels_task2</th>\n",
       "      <th>labels_task3</th>\n",
       "      <th>split</th>\n",
       "    </tr>\n",
       "  </thead>\n",
       "  <tbody>\n",
       "    <tr>\n",
       "      <th>400178</th>\n",
       "      <td>400178</td>\n",
       "      <td>en</td>\n",
       "      <td>1st day at the pool on a beautiful Sunday in N...</td>\n",
       "      <td>6</td>\n",
       "      <td>[Annotator_764, Annotator_765, Annotator_766, ...</td>\n",
       "      <td>[F, F, F, M, M, M]</td>\n",
       "      <td>[18-22, 23-45, 46+, 18-22, 23-45, 46+]</td>\n",
       "      <td>[NO, NO, NO, NO, NO, NO]</td>\n",
       "      <td>[-, -, -, -, -, -]</td>\n",
       "      <td>[[-], [-], [-], [-], [-], [-]]</td>\n",
       "      <td>DEV_EN</td>\n",
       "    </tr>\n",
       "    <tr>\n",
       "      <th>400179</th>\n",
       "      <td>400179</td>\n",
       "      <td>en</td>\n",
       "      <td>“I like your outfit too except when i dress up...</td>\n",
       "      <td>6</td>\n",
       "      <td>[Annotator_805, Annotator_426, Annotator_806, ...</td>\n",
       "      <td>[F, F, F, M, M, M]</td>\n",
       "      <td>[18-22, 23-45, 46+, 18-22, 23-45, 46+]</td>\n",
       "      <td>[YES, YES, YES, YES, YES, NO]</td>\n",
       "      <td>[JUDGEMENTAL, DIRECT, REPORTED, DIRECT, REPORT...</td>\n",
       "      <td>[[OBJECTIFICATION], [OBJECTIFICATION, MISOGYNY...</td>\n",
       "      <td>DEV_EN</td>\n",
       "    </tr>\n",
       "    <tr>\n",
       "      <th>400180</th>\n",
       "      <td>400180</td>\n",
       "      <td>en</td>\n",
       "      <td>@KNasFanFic 🥺💖 same, though!!! the angst just ...</td>\n",
       "      <td>6</td>\n",
       "      <td>[Annotator_795, Annotator_796, Annotator_797, ...</td>\n",
       "      <td>[F, F, F, M, M, M]</td>\n",
       "      <td>[18-22, 23-45, 46+, 18-22, 23-45, 46+]</td>\n",
       "      <td>[NO, NO, NO, NO, NO, NO]</td>\n",
       "      <td>[-, -, -, -, -, -]</td>\n",
       "      <td>[[-], [-], [-], [-], [-], [-]]</td>\n",
       "      <td>DEV_EN</td>\n",
       "    </tr>\n",
       "    <tr>\n",
       "      <th>400181</th>\n",
       "      <td>400181</td>\n",
       "      <td>en</td>\n",
       "      <td>@themaxburns @GOP Fuck that cunt. Tried to vot...</td>\n",
       "      <td>6</td>\n",
       "      <td>[Annotator_795, Annotator_796, Annotator_797, ...</td>\n",
       "      <td>[F, F, F, M, M, M]</td>\n",
       "      <td>[18-22, 23-45, 46+, 18-22, 23-45, 46+]</td>\n",
       "      <td>[NO, YES, YES, YES, YES, YES]</td>\n",
       "      <td>[-, DIRECT, JUDGEMENTAL, DIRECT, DIRECT, DIRECT]</td>\n",
       "      <td>[[-], [IDEOLOGICAL-INEQUALITY, MISOGYNY-NON-SE...</td>\n",
       "      <td>DEV_EN</td>\n",
       "    </tr>\n",
       "    <tr>\n",
       "      <th>400182</th>\n",
       "      <td>400182</td>\n",
       "      <td>en</td>\n",
       "      <td>@ultshunnie u gotta say some shit like “i’ll f...</td>\n",
       "      <td>6</td>\n",
       "      <td>[Annotator_770, Annotator_771, Annotator_772, ...</td>\n",
       "      <td>[F, F, F, M, M, M]</td>\n",
       "      <td>[18-22, 23-45, 46+, 18-22, 23-45, 46+]</td>\n",
       "      <td>[YES, YES, YES, YES, YES, YES]</td>\n",
       "      <td>[DIRECT, REPORTED, DIRECT, DIRECT, JUDGEMENTAL...</td>\n",
       "      <td>[[OBJECTIFICATION, SEXUAL-VIOLENCE], [SEXUAL-V...</td>\n",
       "      <td>DEV_EN</td>\n",
       "    </tr>\n",
       "  </tbody>\n",
       "</table>\n",
       "</div>"
      ],
      "text/plain": [
       "        id_EXIST lang                                              tweet  \\\n",
       "400178    400178   en  1st day at the pool on a beautiful Sunday in N...   \n",
       "400179    400179   en  “I like your outfit too except when i dress up...   \n",
       "400180    400180   en  @KNasFanFic 🥺💖 same, though!!! the angst just ...   \n",
       "400181    400181   en  @themaxburns @GOP Fuck that cunt. Tried to vot...   \n",
       "400182    400182   en  @ultshunnie u gotta say some shit like “i’ll f...   \n",
       "\n",
       "        number_annotators                                         annotators  \\\n",
       "400178                  6  [Annotator_764, Annotator_765, Annotator_766, ...   \n",
       "400179                  6  [Annotator_805, Annotator_426, Annotator_806, ...   \n",
       "400180                  6  [Annotator_795, Annotator_796, Annotator_797, ...   \n",
       "400181                  6  [Annotator_795, Annotator_796, Annotator_797, ...   \n",
       "400182                  6  [Annotator_770, Annotator_771, Annotator_772, ...   \n",
       "\n",
       "         gender_annotators                          age_annotators  \\\n",
       "400178  [F, F, F, M, M, M]  [18-22, 23-45, 46+, 18-22, 23-45, 46+]   \n",
       "400179  [F, F, F, M, M, M]  [18-22, 23-45, 46+, 18-22, 23-45, 46+]   \n",
       "400180  [F, F, F, M, M, M]  [18-22, 23-45, 46+, 18-22, 23-45, 46+]   \n",
       "400181  [F, F, F, M, M, M]  [18-22, 23-45, 46+, 18-22, 23-45, 46+]   \n",
       "400182  [F, F, F, M, M, M]  [18-22, 23-45, 46+, 18-22, 23-45, 46+]   \n",
       "\n",
       "                          labels_task1  \\\n",
       "400178        [NO, NO, NO, NO, NO, NO]   \n",
       "400179   [YES, YES, YES, YES, YES, NO]   \n",
       "400180        [NO, NO, NO, NO, NO, NO]   \n",
       "400181   [NO, YES, YES, YES, YES, YES]   \n",
       "400182  [YES, YES, YES, YES, YES, YES]   \n",
       "\n",
       "                                             labels_task2  \\\n",
       "400178                                 [-, -, -, -, -, -]   \n",
       "400179  [JUDGEMENTAL, DIRECT, REPORTED, DIRECT, REPORT...   \n",
       "400180                                 [-, -, -, -, -, -]   \n",
       "400181   [-, DIRECT, JUDGEMENTAL, DIRECT, DIRECT, DIRECT]   \n",
       "400182  [DIRECT, REPORTED, DIRECT, DIRECT, JUDGEMENTAL...   \n",
       "\n",
       "                                             labels_task3   split  \n",
       "400178                     [[-], [-], [-], [-], [-], [-]]  DEV_EN  \n",
       "400179  [[OBJECTIFICATION], [OBJECTIFICATION, MISOGYNY...  DEV_EN  \n",
       "400180                     [[-], [-], [-], [-], [-], [-]]  DEV_EN  \n",
       "400181  [[-], [IDEOLOGICAL-INEQUALITY, MISOGYNY-NON-SE...  DEV_EN  \n",
       "400182  [[OBJECTIFICATION, SEXUAL-VIOLENCE], [SEXUAL-V...  DEV_EN  "
      ]
     },
     "execution_count": 597,
     "metadata": {},
     "output_type": "execute_result"
    }
   ],
   "source": [
    "test_copy.head()"
   ]
  },
  {
   "cell_type": "code",
   "execution_count": 73,
   "metadata": {
    "id": "Z8zDRXiNC7t_",
    "outputId": "467c905d-624d-4688-82ed-caf452322a17"
   },
   "outputs": [
    {
     "name": "stdout",
     "output_type": "stream",
     "text": [
      "Found 44 errors out of 286 samples.\n",
      "\n",
      "                Contains OOV: {'gangbanged', 'wouldn', '<url>'}\n",
      "                Tweet: i mean i do but wouldn t it be fun to get gangbanged together <url>\n",
      "                Predicted: [-0.69483227  0.46991426]\n",
      "                True Label: 0\n",
      "                Raw Labels: ['NO', 'NO', 'NO', 'NO', 'YES', 'YES']\n",
      "\n",
      "                \n",
      "\n",
      "                Contains OOV: {'harassment', 'inferring', '<user>'}\n",
      "                Tweet: <user> <user> sex a in gender harassment is what they are inferring\n",
      "                Predicted: [-0.4800261   0.44028035]\n",
      "                True Label: 0\n",
      "                Raw Labels: ['NO', 'YES', 'NO', 'NO', 'NO', 'NO']\n",
      "\n",
      "                \n",
      "\n",
      "                Contains OOV: {'uvalde', '<user>', 'included', 'regrettably', '<url>', 'appreciate', 'harassment', 'unshocking', 'cyber', 'gunman'}\n",
      "                Tweet: appreciate being included along with <user> on the uvalde gunman s history of cyber gender harassment regrettably unshocking <user> <url>\n",
      "                Predicted: [-0.9295229  0.942116 ]\n",
      "                True Label: 0\n",
      "                Raw Labels: ['NO', 'NO', 'YES', 'YES', 'NO', 'NO']\n",
      "\n",
      "                \n",
      "\n",
      "                Contains OOV: {'brave', 'lyricism', 'yoongis', 'deliver', '<user>', 'blonks', 'audacity', 'bts', '<repeat>'}\n",
      "                Tweet: <user> how did we reach a point where blonks are having the audacity to talk about yoongis rap do y all see who you stan are y all ok <repeat> your girl can t write can t deliver can t come close to bts s lyricism tf are y all getting brave for <repeat> fashion deal <repeat>\n",
      "                Predicted: [-1.1917329  1.1413128]\n",
      "                True Label: 0\n",
      "                Raw Labels: ['YES', 'YES', 'NO', 'NO', 'NO', 'NO']\n",
      "\n",
      "                \n",
      "\n",
      "                Contains OOV: {'elite', 'pinwork', '<user>', 'lisa', 'digger', 'revealing', 'mona'}\n",
      "                Tweet: <user> <user> <user> that gold digger is nice but the picture and set up for them are elite pinwork is like the revealing of the mona lisa always a work of art\n",
      "                Predicted: [ 1.2343392 -1.3103489]\n",
      "                True Label: 1\n",
      "                Raw Labels: ['NO', 'YES', 'YES', 'NO', 'YES', 'YES']\n",
      "\n",
      "                \n",
      "\n",
      "                Contains OOV: {'fiancee', 'expose', '<user>', '<number>', 'digger', '<url>', 'tries', 'backfires', '<repeat>'}\n",
      "                Tweet: he tries to expose this gold digger but it backfires <number> day fiancee b <repeat> <url> via <user>\n",
      "                Predicted: [-0.3807358  0.2956594]\n",
      "                True Label: 0\n",
      "                Raw Labels: ['NO', 'NO', 'NO', 'NO', 'YES', 'YES']\n",
      "\n",
      "                \n",
      "\n",
      "                Contains OOV: {'testicle', '<user>'}\n",
      "                Tweet: <user> well let me ask for the guy do you ever just grab your testicle because you can\n",
      "                Predicted: [-0.9600011  0.7940491]\n",
      "                True Label: 0\n",
      "                Raw Labels: ['NO', 'NO', 'NO', 'NO', 'NO', 'YES']\n",
      "\n",
      "                \n",
      "\n",
      "                Contains OOV: {'douche', 'nozzle', 'harass', 'moses', '<user>', 'badassary', '<url>', 'inquisitor', 'dear', 'badass', 'talented'}\n",
      "                Tweet: dear <user> fan can we not harass talented actor of color stop being racist douche nozzle this is why we can t have nice thing moses is a badass inquisitor and y all can t handle her badassary <url>\n",
      "                Predicted: [ 0.1540606  -0.08367006]\n",
      "                True Label: 1\n",
      "                Raw Labels: ['YES', 'YES', 'YES', 'YES', 'NO', 'NO']\n",
      "\n",
      "                \n",
      "\n",
      "                Contains OOV: {'gayest', 'ponytail', 'saying', 'herstory', 'came', '<number>', '<repeat>', '<url>', 'blonde'}\n",
      "                Tweet: stop saying i said this cu she ha short hair some of her gayest look came from <number> <number> blonde ponytail era <repeat> know ur herstory <url>\n",
      "                Predicted: [ 0.10916674 -0.28764713]\n",
      "                True Label: 1\n",
      "                Raw Labels: ['YES', 'YES', 'YES', 'YES', 'YES', 'NO']\n",
      "\n",
      "                \n",
      "\n",
      "                Contains OOV: {'intended', '<user>'}\n",
      "                Tweet: <user> <user> <user> not a much a they harm kill woman and child by a long shot pun intended\n",
      "                Predicted: [-0.02404275 -0.16884756]\n",
      "                True Label: 1\n",
      "                Raw Labels: ['YES', 'YES', 'YES', 'YES', 'YES', 'YES']\n",
      "\n",
      "                \n",
      "\n",
      "                Contains OOV: {'yup', '<url>', '<user>'}\n",
      "                Tweet: <user> <user> <user> yup i hate when men rape and kill woman <url>\n",
      "                Predicted: [-2.12689    2.0682747]\n",
      "                True Label: 0\n",
      "                Raw Labels: ['YES', 'NO', 'NO', 'YES', 'NO', 'NO']\n",
      "\n",
      "                \n",
      "\n",
      "                Contains OOV: {'calls', 'parliament', '<url>', 'porn', 'laddish', 'shame'}\n",
      "                Tweet: calls to clean up parliament s laddish culture after mp s porn shame <url> via <url>\n",
      "                Predicted: [ 0.2442186  -0.42392248]\n",
      "                True Label: 1\n",
      "                Raw Labels: ['NO', 'YES', 'YES', 'YES', 'YES', 'NO']\n",
      "\n",
      "                \n",
      "\n",
      "                Contains OOV: {'beautiful', 'yourself', 'anyone', 'dear', 'ladies', 'shame', 'confident', '<repeat>'}\n",
      "                Tweet: ladies don t let anyone body shame you in any way <repeat> you are fat so what <repeat> you are beautiful my dear <repeat> be confident in yourself <repeat> peace\n",
      "                Predicted: [-0.53151673  0.5077672 ]\n",
      "                True Label: 0\n",
      "                Raw Labels: ['YES', 'YES', 'NO', 'NO', 'NO', 'NO']\n",
      "\n",
      "                \n",
      "\n",
      "                Contains OOV: {'greatest', 'trick', '<url>', 'ladies'}\n",
      "                Tweet: stop don t lie to these people ladies don t let this man trick you out of the greatest organ of your life cause what <url>\n",
      "                Predicted: [-1.8292819  1.7897501]\n",
      "                True Label: 0\n",
      "                Raw Labels: ['NO', 'YES', 'NO', 'NO', 'YES', 'NO']\n",
      "\n",
      "                \n",
      "\n",
      "                Contains OOV: {'louisiana', 'opportunistic', '<url>', 'yokel', 'addition', 'ladies', 'sued', 'miscarriage', 'murder'}\n",
      "                Tweet: ladies don t have a miscarriage in louisiana if you do in addition to probably having your friend and family sued by some opportunistic yokel you ll be charged with murder <url>\n",
      "                Predicted: [-2.1407247  2.053614 ]\n",
      "                True Label: 0\n",
      "                Raw Labels: ['YES', 'YES', 'NO', 'NO', 'NO', 'NO']\n",
      "\n",
      "                \n",
      "\n",
      "                Contains OOV: {'<url>', 'aerosmith', 'dude', 'lady', 'looks'}\n",
      "                Tweet: dude looks like a lady aerosmith <url>\n",
      "                Predicted: [ 0.6469058 -0.5774265]\n",
      "                True Label: 1\n",
      "                Raw Labels: ['YES', 'YES', 'NO', 'YES', 'NO', 'YES']\n",
      "\n",
      "                \n",
      "\n",
      "                Contains OOV: {'drawer', 'mansplaining', 'partner'}\n",
      "                Tweet: mansplaining the concept of a pee drawer to my partner who want me\n",
      "                Predicted: [ 0.197422   -0.33160868]\n",
      "                True Label: 1\n",
      "                Raw Labels: ['YES', 'YES', 'YES', 'NO', 'YES', 'YES']\n",
      "\n",
      "                \n",
      "\n",
      "                Contains OOV: {'masturbate', 'forever', '<url>', 'penis'}\n",
      "                Tweet: stay on penis masturbate the penis forever <url>\n",
      "                Predicted: [-1.0240799   0.88464093]\n",
      "                True Label: 0\n",
      "                Raw Labels: ['YES', 'NO', 'NO', 'NO', 'NO', 'NO']\n",
      "\n",
      "                \n",
      "\n",
      "                Contains OOV: {'<user>'}\n",
      "                Tweet: <user> <user> <user> i don t need a man to tell me what to stand up for thank you\n",
      "                Predicted: [ 0.28340718 -0.3786655 ]\n",
      "                True Label: 1\n",
      "                Raw Labels: ['YES', 'YES', 'NO', 'YES', 'YES', 'NO']\n",
      "\n",
      "                \n",
      "\n",
      "                Contains OOV: {'doe', '<user>', 'nurse', 'cocaine', 'tries', 'totally', 'basically'}\n",
      "                Tweet: <user> <user> on the audio from when his finger wa cut off even the people that were there said she did it she say she s totally against cocaine but doe cocaine tries to say the nurse is basically lying in her note about her doing drug everyone is lying but her\n",
      "                Predicted: [-0.00476664  0.17947423]\n",
      "                True Label: 0\n",
      "                Raw Labels: ['NO', 'NO', 'YES', 'NO', 'NO', 'NO']\n",
      "\n",
      "                \n",
      "\n",
      "                Contains OOV: {'america', 'decision', 'whatsoever', 'interpretation', 'distorted', 'diverse', 'pluralistic', 'healthcare', 'furthermore', 'christianity', 'patriarchal'}\n",
      "                Tweet: as a diverse and pluralistic country america s law should not be based on a distorted and patriarchal interpretation of christianity furthermore the government should have no role whatsoever in a woman s private healthcare decision\n",
      "                Predicted: [-0.03681407  0.07725822]\n",
      "                True Label: 0\n",
      "                Raw Labels: ['NO', 'YES', 'NO', 'NO', 'NO', 'NO']\n",
      "\n",
      "                \n",
      "\n",
      "                Contains OOV: {'tho', 'doe', 'believe', '<user>', 'hatred', 'fails', 'patriarchy', 'fucking', 'society', 'misogyny'}\n",
      "                Tweet: <user> notice something else tho almost every single one is a man that s such a fucking problem that this is how some men believe they should let out their anger and hatred this society need to do better it doe not even benefit the men patriarchy misogyny fails everyone\n",
      "                Predicted: [-1.0333905  1.0191693]\n",
      "                True Label: 0\n",
      "                Raw Labels: ['NO', 'YES', 'NO', 'YES', 'NO', 'NO']\n",
      "\n",
      "                \n",
      "\n",
      "                Contains OOV: {'diseased', 'sad', '<user>', 'teaxass', 'penis', 'spreading', 'faster', 'idiot', 'envy'}\n",
      "                Tweet: <user> it s in the teaxass code book of penis envy idiot that it s gun over everything sad thing is it s spreading and the more we try to stop it the faster it spread like the diseased idiot that support it\n",
      "                Predicted: [-0.6361581   0.46666932]\n",
      "                True Label: 0\n",
      "                Raw Labels: ['NO', 'NO', 'NO', 'NO', 'NO', 'NO']\n",
      "\n",
      "                \n",
      "\n",
      "                Contains OOV: {'phallocentrism', 'missed', 'become', '<user>'}\n",
      "                Tweet: <user> have i missed something or ha phallocentrism become the latest cult\n",
      "                Predicted: [ 1.0805446 -1.1576986]\n",
      "                True Label: 1\n",
      "                Raw Labels: ['NO', 'YES', 'YES', 'NO', 'YES', 'YES']\n",
      "\n",
      "                \n",
      "\n",
      "                Contains OOV: {'cyborg', 'translates', 'dogma', 'struggle', 'perfectly', 'phallogocentrism'}\n",
      "                Tweet: cyborg politics is the struggle for language and the struggle against perfect communication against the one code that translates all meaning perfectly the central dogma of phallogocentrism\n",
      "                Predicted: [ 2.1850615 -2.0298812]\n",
      "                True Label: 1\n",
      "                Raw Labels: ['YES', 'YES', 'YES', 'YES', 'NO', 'YES']\n",
      "\n",
      "                \n",
      "\n",
      "                Contains OOV: {'<user>', '<number>', 'incest', 'montha', 'religion', 'sharia', 'islam'}\n",
      "                Tweet: <user> <user> <user> <user> sharia law in the religion of islam allows abortion before the <number> th montha for rape incest mental physical health or life of mother is at risk after the <number> th month abortion allowed only to save the life of the mother\n",
      "                Predicted: [-0.88427365  0.5868368 ]\n",
      "                True Label: 0\n",
      "                Raw Labels: ['NO', 'YES', 'NO', 'NO', 'NO', 'NO']\n",
      "\n",
      "                \n",
      "\n",
      "                Contains OOV: {'<user>', 'harassment', 'bald', '<url>'}\n",
      "                Tweet: calling a man bald is sexual harassment <url> via <user>\n",
      "                Predicted: [-0.6667911   0.59825104]\n",
      "                True Label: 0\n",
      "                Raw Labels: ['YES', 'NO', 'NO', 'NO', 'NO', 'NO']\n",
      "\n",
      "                \n",
      "\n",
      "                Contains OOV: {'strategy', 'commission', 'prevent', 'experience', '<number>', '<url>', 'providing', 'harassment', 'occur', '<hashtag>', 'incident'}\n",
      "                Tweet: according to the human rights commission <number> in <number> people experience sexual harassment at work we have created an online course providing strategy to prevent and respond should incident occur start your course at <url> <hashtag> <url>\n",
      "                Predicted: [ 1.049238   -0.93467724]\n",
      "                True Label: 1\n",
      "                Raw Labels: ['YES', 'YES', 'NO', 'YES', 'NO', 'YES']\n",
      "\n",
      "                \n",
      "\n",
      "                Contains OOV: {'woke', 'experience', '<user>', 'solely', 'chosen', 'orientation', 'religion', 'progressive', 'saying'}\n",
      "                Tweet: <user> i don t care what gender race religion sexual orientation a person is a long a they are qualified for that position that being said is she qualified based on experience education or wa she chosen solely because she is black and gay to please progressive woke just saying\n",
      "                Predicted: [ 0.19177833 -0.11458272]\n",
      "                True Label: 1\n",
      "                Raw Labels: ['YES', 'YES', 'YES', 'NO', 'YES', 'YES']\n",
      "\n",
      "                \n",
      "\n",
      "                Contains OOV: {'slap', 'yea', '<user>', 'unfortunate'}\n",
      "                Tweet: <user> yea back when i didn t even have one to slap unfortunate\n",
      "                Predicted: [ 1.5058196 -1.5372918]\n",
      "                True Label: 1\n",
      "                Raw Labels: ['YES', 'NO', 'NO', 'YES', 'YES', 'YES']\n",
      "\n",
      "                \n",
      "\n",
      "                Contains OOV: {'salad', 'trench', 'nigga', '<number>', 'outta', 'slap', 'cuz', 'hope', 'survives', 'broke'}\n",
      "                Tweet: wen i m rich i hope the broke nigga in me survives cuz i ain t ever paying <number> buck for a salad i hope the trench slap that shit outta my hand\n",
      "                Predicted: [-0.23284799 -0.00421468]\n",
      "                True Label: 0\n",
      "                Raw Labels: ['NO', 'NO', 'NO', 'NO', 'NO', 'NO']\n",
      "\n",
      "                \n",
      "\n",
      "                Contains OOV: {'knew', 'tit', '<user>'}\n",
      "                Tweet: <user> never knew you all share tit how did we stop being pal again yeah\n",
      "                Predicted: [ 1.1975179 -1.3391706]\n",
      "                True Label: 1\n",
      "                Raw Labels: ['NO', 'YES', 'YES', 'YES', 'YES', 'NO']\n",
      "\n",
      "                \n",
      "\n",
      "                Contains OOV: {'boobieeees', '<elong>', '<url>', 'bounceey', '<hashtag>'}\n",
      "                Tweet: bounceey <elong> boobieeees <elong> <hashtag> <hashtag> <hashtag> <hashtag> <hashtag> <url>\n",
      "                Predicted: [ 0.07439062 -0.4408582 ]\n",
      "                True Label: 1\n",
      "                Raw Labels: ['YES', 'YES', 'YES', 'YES', 'YES', 'YES']\n",
      "\n",
      "                \n",
      "\n",
      "                Contains OOV: {'<repeat>', 'understand', '<user>'}\n",
      "                Tweet: <user> oh so now u can t understand woman s word <repeat>\n",
      "                Predicted: [-1.7762872  1.9263874]\n",
      "                True Label: 0\n",
      "                Raw Labels: ['NO', 'NO', 'NO', 'YES', 'NO', 'YES']\n",
      "\n",
      "                \n",
      "\n",
      "                Contains OOV: {'fainted', 'came', 'skirt', 'legally', '<url>', 'nurse', 'wearing'}\n",
      "                Tweet: fainted wearing a very short skirt and no one could legally touch me so i just had my as out until the nurse came <url>\n",
      "                Predicted: [ 0.20857063 -0.13862209]\n",
      "                True Label: 1\n",
      "                Raw Labels: ['YES', 'YES', 'NO', 'YES', 'YES', 'NO']\n",
      "\n",
      "                \n",
      "\n",
      "                Contains OOV: {'skirt', 'kneehighs'}\n",
      "                Tweet: the question is do i wear the very short skirt that literally show my as with kneehighs or opt out for a short\n",
      "                Predicted: [-0.4242215   0.44425565]\n",
      "                True Label: 0\n",
      "                Raw Labels: ['NO', 'NO', 'YES', 'NO', 'YES', 'NO']\n",
      "\n",
      "                \n",
      "\n",
      "                Contains OOV: {'<user>', 'pregnant', 'meme', 'trooper', 'pulled', '<repeat>', 'oklahoma'}\n",
      "                Tweet: <user> my new favorite meme is the pregnant woman driving in the oklahoma hov lane telling the state trooper who pulled her over that she is driving with another person <repeat>\n",
      "                Predicted: [-1.4836543  1.3447188]\n",
      "                True Label: 0\n",
      "                Raw Labels: ['NO', 'YES', 'NO', 'NO', 'NO', 'YES']\n",
      "\n",
      "                \n",
      "\n",
      "                Contains OOV: {'ukraine', '<user>', '<number>', 'overthrow', '<url>', 'directly', 'crap', 'department', 'fakest', 'isw', 'victoria', 'nuland'}\n",
      "                Tweet: <user> <user> isw published the fakest crap of any of the map they are just a front for the us state department they are fake news victoria nuland is the woman directly involved in the armed overthrow of the ukraine government in <number> <url>\n",
      "                Predicted: [-0.01346832  0.02895043]\n",
      "                True Label: 0\n",
      "                Raw Labels: ['NO', 'YES', 'NO', 'NO', 'NO', 'NO']\n",
      "\n",
      "                \n",
      "\n",
      "                Contains OOV: {'biological', 'weems', 'womanism', 'hudson', 'strictly', 'further', 'identifies', '<url>', 'difference', 'feminism'}\n",
      "                Tweet: feminism vs womanism hudson weems identifies further difference between womanism and feminism being womanism is family oriented and focus on race class and gender while feminism is female oriented and strictly focus on biological sex related issue woman face <url>\n",
      "                Predicted: [-1.1268613  1.143273 ]\n",
      "                True Label: 0\n",
      "                Raw Labels: ['YES', 'NO', 'NO', 'NO', 'NO', 'NO']\n",
      "\n",
      "                \n",
      "\n",
      "                Contains OOV: {'anyway', '<user>', 'sending'}\n",
      "                Tweet: <user> yeah woman are getting just a bad i ve noticed it anyway i m sorry people are sending you stuff like that it can be so gross\n",
      "                Predicted: [-2.0913336  2.1535723]\n",
      "                True Label: 0\n",
      "                Raw Labels: ['NO', 'NO', 'NO', 'NO', 'NO', 'YES']\n",
      "\n",
      "                \n",
      "\n",
      "                Contains OOV: {'afford', 'ligation', 'longer', '<user>', '<number>', 'recovery', 'vasectomy', 'tubal', 'childbirth', 'surgery', 'clinic', 'following'}\n",
      "                Tweet: <user> <user> <user> <user> a vasectomy is a simple surgery done in an office hospital or clinic <number> hour later recovery is pretty much complete tubal ligation recovery take <number> <number> week longer if it s done following a c section or childbirth many woman can t afford to take <number> <number> week off work\n",
      "                Predicted: [-0.94486076  0.96645075]\n",
      "                True Label: 0\n",
      "                Raw Labels: ['YES', 'YES', 'NO', 'NO', 'NO', 'NO']\n",
      "\n",
      "                \n",
      "\n",
      "                Contains OOV: {'witches', 'unite', '<user>', 'trouble'}\n",
      "                Tweet: <user> <user> <user> wow trouble making witches unite\n",
      "                Predicted: [-0.6223498  0.8433084]\n",
      "                True Label: 0\n",
      "                Raw Labels: ['NO', 'NO', 'NO', 'NO', 'NO', 'NO']\n",
      "\n",
      "                \n",
      "\n",
      "                Contains OOV: {'screenshot', 'cunt', '<url>', 'wont'}\n",
      "                Tweet: uh they re allowed to calling this out make you look like a cunt fortunately i ll block you so fast you wont get your screenshot <url>\n",
      "                Predicted: [-1.5238445  1.6733332]\n",
      "                True Label: 0\n",
      "                Raw Labels: ['NO', 'NO', 'YES', 'NO', 'YES', 'NO']\n",
      "\n",
      "                \n",
      "\n",
      "                Contains OOV: {'shouldn', '<user>', 'mock', 'shallow', 'cunt'}\n",
      "                Tweet: <user> <user> <user> i don t know what you re on about my point wa that you shouldn t mock other people s look because it s very shallow and make you look like a cunt thanks for your input though\n",
      "                Predicted: [-0.80373585  0.8942277 ]\n",
      "                True Label: 0\n",
      "                Raw Labels: ['YES', 'NO', 'NO', 'YES', 'NO', 'NO']\n",
      "\n",
      "                \n",
      "Errors due to OOV: 44, 100.00%\n"
     ]
    }
   ],
   "source": [
    "wrong_tweet_ids = transformer.review_errors(test_copy, test_data, test_predictions, test_labels, verbose=True)"
   ]
  },
  {
   "cell_type": "markdown",
   "metadata": {
    "id": "eCcWEEjtC7t_"
   },
   "source": [
    "Common errrors spotted so far:\n",
    "\n",
    "* Most of the errors are due to the fact that the model is not able to distinguish between the sexist and non-sexist tweets.\n",
    "    * The predicted score is the opposite of the true score. This is a common error in classification tasks and can be due to the fact that the model is not able to learn the features that distinguish between the two classes.\n",
    "    * All the missclassified tweets contain, at least, one word which is not in the vocabulary of the roBERTa. This for sure has an impact in the performance of the model since the model is not able to learn the embeddings for these words and loses information about the tweets. Indeed these OOVs are special tokens of the GloVe embeddings and are not present in the roBERTa vocabulary. This is a common problem when using pretrained embeddings. Moreover, this version of roBERTa has just a few special tokens as visible from the [map on huggingface](https://huggingface.co/cardiffnlp/twitter-roberta-base-hate/blob/main/special_tokens_map.json).\n",
    "    * A model which includes the special tokens for user mentions, url, elongations, etc. might perform better on this task since it will be able to learn the embeddings for these tokens and have better performances."
   ]
  },
  {
   "cell_type": "markdown",
   "metadata": {
    "id": "d3G2ZV4fC7t_"
   },
   "source": [
    "Get the slice of the test dataset where the model is failing to classify the tweets (wrong predictions). This can be useful to understand why the model is failing to classify the tweets and to have an idea of the features that the model is not able to learn."
   ]
  },
  {
   "cell_type": "code",
   "execution_count": 569,
   "metadata": {
    "id": "lFef9Oo5C7t_",
    "outputId": "35af0699-a976-4ce9-f8c8-c4533bfad02f"
   },
   "outputs": [
    {
     "data": {
      "text/plain": [
       "array(['“I mean I do, but… wouldn’t it be fun to get gangbanged together~?” https://t.co/lNRZ9z53VL',\n",
       "       \"@LogicalFallac18 @LBC Sex* as in 'gender' harassment is what they are inferring.\",\n",
       "       'Appreciate being included along with @wphillips49 on the Uvalde gunman’s history of cyber gender harassment. Regrettably unshocking. @UVALaw https://t.co/gg1UwHYdIf',\n",
       "       \"@EyemotionFandom How did we reach a point where blonks are having the audacity to talk about yoongis rap do y'all see who you Stan ? Are y'all ok ?? Your girls can't write can't deliver can't come close to bts's lyricism tf are y'all getting brave for ?? Fashion deals ??\",\n",
       "       '@Catoishere @HatClub @RahnniFitteds That gold digger is nice but the picture and set up for them are elite. Pinwork is like the revealing of the Mona Lisa. Always a work of art.',\n",
       "       'He Tries To Expose This Gold Digger BUT IT BACKFIRES. | 90 Day Fiancée B... https://t.co/pz91AbJ0WS via @YouTube',\n",
       "       '@MatrixPirate12 Well let me ask for the guys… do you ever just grab your testicles because you can?',\n",
       "       \"Dear @starwars fans Can we not harass talented actors of color? Stop being racist douche nozzles. This is why we can't have nice things. Moses is a badass inquisitor and y'all can't handle her badassary. https://t.co/bczGdn6evx\",\n",
       "       'stop saying i said this cus she has short hair! some of her gayest looks came from 2017/18 blonde ponytail era!!!!!! know ur herstory https://t.co/YJYVzJVP0L',\n",
       "       '@DaddyBrianMC @roadhouse2100 @stlcty03 Not as much as they harm/kill women and children, by a long shot (pun intended)',\n",
       "       '@BoopBepp @Helloth07860784 @Bronwen85 Yup I hate when men rape and kill women. https://t.co/MyfVPu6THd',\n",
       "       \"Calls to clean up Parliament's laddish culture after MP's porn shame https://t.co/3AC2ArWrjF via https://t.co/LiNou8Ixhu\",\n",
       "       \"Ladies,don't let anyone body shame you in any way...you are fat so what..you are beautiful my dear...be confident in yourself...peace\",\n",
       "       'Stop ✋🏾 Don’t lie to these people. Ladies, don’t let this man trick you out of the greatest organs of your life 🙄 cause  what? https://t.co/secSDVvFKz',\n",
       "       \"Ladies, don't have a miscarriage in Louisiana! If you do, in addition to probably having your friends and family sued by some opportunistic yokel, you'll be charged with murder.  https://t.co/6JtnjUCkLC\",\n",
       "       '\"Dude Looks Like A Lady\" 💫🎶Aerosmith🎶🎸⚡️💫https://t.co/41OxpV6YWm',\n",
       "       'Mansplaining the concept of a pee drawer to my partner (who want me)',\n",
       "       'stay on Penis masturbate the Penis forever https://t.co/lOtwLsVr12',\n",
       "       '@jcollie @thevivafrei @ewarren I don’t need a man to tell me what to stand up for, thank you.',\n",
       "       '@SeanMc46114355 @piscesflowers On the audio from when his finger was cut off ! Even the  people that were there said she did it. She says she’s totally against cocaine but does cocaine. Tries to say the nurse is basically lying in her notes about her doing drugs. Everyone is lying but her!',\n",
       "       \"@ShelleyKingsto3 @CNP_MacFarlane @CanadianinAB It's objectification &amp; dehumanizing. I saw someone take time out of their day to make a strong political point about Horwath 🙄(sarcasm) -- he Tweeted about how her photo looked like it had lots of photoshop. Such pathetic clowns.\",\n",
       "       '@tuckednuts Notice something else tho…Almost every single one, is a man. That’s such a fucking problem that this is how some men believe they should let out their angers and hatred. This society needs to do better, it does not even benefit the men. Patriarchy/misogyny fails everyone',\n",
       "       '@BetteMidler It’s in the TEAxASS code book of penis envy idiots that it’s guns over everything. Sad thing is it’s spreading and the more we try to stop it, the faster it spreads like the diseased idiots that support it.',\n",
       "       '@Mistywoman1 Have I missed something, or has phallocentrism become the latest cult?',\n",
       "       \"Fuck's sake is it possible to have a furry space that's not explicitly content-restricted and doesn't immediately become yet another showcase for size-queen phallocentrism?\",\n",
       "       'Cyborg politics is the struggle for language and the struggle against perfect communication, against the one code that translates all meaning perfectly, the central dogma of phallogocentrism',\n",
       "       '@AquariusElayne @MissMaryMcInOR @DarbysCastle @EileenM60933733 Sharia law in the religion of Islam allows abortion before the 5th montha for Rape, Incest, Mental/Physical health, or Life of Mother is at risk. After the 5th Month, abortion allowed only to save the life of the Mother.',\n",
       "       '\"Calling A Man Bald Is Sexual Harassment\" https://t.co/MiSGkB89bs via @YouTube',\n",
       "       'According to the Human Rights Commission, 1 in 3 people experience sexual harassment at work. We have created an online course  providing strategies to prevent and respond should incidents occur. Start your course at: https://t.co/yC40T3cJao #guardianpst https://t.co/oTwKxFqxQN',\n",
       "       '@townhallcom I don’t care what gender, race, religion,sexual orientation a person is as long as they are qualified for that position. That being said, is she qualified based on experience/education or was she chosen solely because she is black and gay to please progressives/woke. Just saying.',\n",
       "       '@djxmenez yea back when i didn’t even have one to slap, unfortunate !',\n",
       "       \"Wen I'm rich I hope the broke nigga in me survives cuz I ain't ever paying 54 bucks for a salad. I hope the trenches slap that shit outta my hand.\",\n",
       "       '@TheNon_Nun Never knew you all share tits, how did we stop being pals again yeah ?🌚',\n",
       "       'BOUNCEEYYYY BOOBIEEEESSSSSS #hookup #BOUNCEY #boobs #boobie #tits https://t.co/lUAuZkT5w3',\n",
       "       '@UberFacts Today’s women eye makeup. And those nails too.',\n",
       "       \"@maria56_lamb I packed my hubbies case when we were going to a wedding in england, told him to pop his underpants in.  Gets to England, he puts his kilt outfit on and everyone discovered what a true scot doesn't wear under his kilt.  If I don't do it, it doesn't get done.  Men!\",\n",
       "       '@bhargavtata0 oh so now u can’t understand women’s words??????',\n",
       "       'fainted wearing a Very short skirt and no one could legally touch me so i just had my ass out until the nurse came 😭 https://t.co/qwi7fyO98B',\n",
       "       'the question is do i wear the very short skirt that literally shows my ass with kneehighs or opt out for a short 🤔',\n",
       "       '@CheriJacobus My new favorite meme is the pregnant woman driving in the Oklahoma HOV lane telling the state trooper who pulled her over that she is driving with another person..',\n",
       "       'Feminism VS Womanism\"Hudson-Weems identifies further differences between womanism and feminism being; womanism is \"family-oriented\" and focuses on race, class, and gender, while feminism is \"female-oriented\" and strictly focuses on biological sex related issues women face.\" https://t.co/D5p9VCPTmn',\n",
       "       \"@CrossrdsCMG Yeah, women are getting just as bad. I've noticed it anyway, I'm sorry people are sending you stuff like that, it can be so gross!\",\n",
       "       'Yo I swear  sagittarius men and women are the funniest 😭😭😭😭😂😂😂😂😂😂😭😭😭😭😭',\n",
       "       \"@joelaltonmoore @KMisGrand @TheMrBarramundi @ZipPulse A vasectomy is a simple surgery done in an office, hospital, or clinic. 24 hours later recovery is pretty much complete!Tubal ligation recovery takes 1-3 weeks, longer if it's done following a C-section or childbirth. Many women can't afford to take 1-3 weeks off work!\",\n",
       "       '@KimFawcett11 @FrenchFem @Wild_Womyn WOW! Trouble Making Witches Unite!',\n",
       "       \"Uh, they're allowed to? calling this out makes you look like a cunt. Fortunately, I'll block you so fast you wont get your screenshot. https://t.co/iyWul5BoN6\",\n",
       "       \"@JetCelestial @polgara28951124 @CharlotteEmmaUK I don't know what you're on about? My point was that you shouldn't mock other people's looks, because it's very shallow and makes you look like a cunt. Thanks for your input though 👍\"],\n",
       "      dtype=object)"
      ]
     },
     "execution_count": 569,
     "metadata": {},
     "output_type": "execute_result"
    }
   ],
   "source": [
    "test_copy[test_copy['id_EXIST'].isin(wrong_tweet_ids)].tweet.values"
   ]
  },
  {
   "cell_type": "markdown",
   "metadata": {
    "id": "lCNhVqZ9-bRL"
   },
   "source": [
    "# Task 8: Report\n",
    "\n",
    "Wrap up your experiment in a short report (up to 2 pages).\n",
    "\n",
    "* Use the NLP course report template.\n",
    "* Summarize each task in the report following the provided template.\n",
    "\n",
    "The report is not a copy-paste of graphs, tables, and command outputs.\n",
    "\n",
    "* Summarize classification performance in Table format.\n",
    "* **Do not** report command outputs or screenshots.\n",
    "* Report learning curves in Figure format.\n",
    "* The error analysis section should summarize your findings."
   ]
  }
 ],
 "metadata": {
  "accelerator": "GPU",
  "colab": {
   "gpuType": "T4",
   "provenance": []
  },
  "kernelspec": {
   "display_name": ".venv",
   "language": "python",
   "name": "python3"
  },
  "language_info": {
   "codemirror_mode": {
    "name": "ipython",
    "version": 3
   },
   "file_extension": ".py",
   "mimetype": "text/x-python",
   "name": "python",
   "nbconvert_exporter": "python",
   "pygments_lexer": "ipython3",
   "version": "3.12.3"
  },
  "widgets": {
   "application/vnd.jupyter.widget-state+json": {
    "010af9ad50c342aa8ffd390913656783": {
     "model_module": "@jupyter-widgets/base",
     "model_module_version": "1.2.0",
     "model_name": "LayoutModel",
     "state": {
      "_model_module": "@jupyter-widgets/base",
      "_model_module_version": "1.2.0",
      "_model_name": "LayoutModel",
      "_view_count": null,
      "_view_module": "@jupyter-widgets/base",
      "_view_module_version": "1.2.0",
      "_view_name": "LayoutView",
      "align_content": null,
      "align_items": null,
      "align_self": null,
      "border": null,
      "bottom": null,
      "display": null,
      "flex": null,
      "flex_flow": null,
      "grid_area": null,
      "grid_auto_columns": null,
      "grid_auto_flow": null,
      "grid_auto_rows": null,
      "grid_column": null,
      "grid_gap": null,
      "grid_row": null,
      "grid_template_areas": null,
      "grid_template_columns": null,
      "grid_template_rows": null,
      "height": null,
      "justify_content": null,
      "justify_items": null,
      "left": null,
      "margin": null,
      "max_height": null,
      "max_width": null,
      "min_height": null,
      "min_width": null,
      "object_fit": null,
      "object_position": null,
      "order": null,
      "overflow": null,
      "overflow_x": null,
      "overflow_y": null,
      "padding": null,
      "right": null,
      "top": null,
      "visibility": null,
      "width": null
     }
    },
    "0fd8d961f74940998a6dcadd9ca11020": {
     "model_module": "@jupyter-widgets/controls",
     "model_module_version": "1.5.0",
     "model_name": "DescriptionStyleModel",
     "state": {
      "_model_module": "@jupyter-widgets/controls",
      "_model_module_version": "1.5.0",
      "_model_name": "DescriptionStyleModel",
      "_view_count": null,
      "_view_module": "@jupyter-widgets/base",
      "_view_module_version": "1.2.0",
      "_view_name": "StyleView",
      "description_width": ""
     }
    },
    "14022f99a32c4f5eb2a60adde2157e2c": {
     "model_module": "@jupyter-widgets/controls",
     "model_module_version": "1.5.0",
     "model_name": "HTMLModel",
     "state": {
      "_dom_classes": [],
      "_model_module": "@jupyter-widgets/controls",
      "_model_module_version": "1.5.0",
      "_model_name": "HTMLModel",
      "_view_count": null,
      "_view_module": "@jupyter-widgets/controls",
      "_view_module_version": "1.5.0",
      "_view_name": "HTMLView",
      "description": "",
      "description_tooltip": null,
      "layout": "IPY_MODEL_d160fc03521b429e9c6a2f71978f5697",
      "placeholder": "​",
      "style": "IPY_MODEL_0fd8d961f74940998a6dcadd9ca11020",
      "value": "Map: 100%"
     }
    },
    "14d960b7685f4c24af674b53167820c0": {
     "model_module": "@jupyter-widgets/controls",
     "model_module_version": "1.5.0",
     "model_name": "HBoxModel",
     "state": {
      "_dom_classes": [],
      "_model_module": "@jupyter-widgets/controls",
      "_model_module_version": "1.5.0",
      "_model_name": "HBoxModel",
      "_view_count": null,
      "_view_module": "@jupyter-widgets/controls",
      "_view_module_version": "1.5.0",
      "_view_name": "HBoxView",
      "box_style": "",
      "children": [
       "IPY_MODEL_14022f99a32c4f5eb2a60adde2157e2c",
       "IPY_MODEL_e7ec1d78fc9349e780b4c67aef084c81",
       "IPY_MODEL_76e3d0f5fad6467d8ecde4d8d2b28a73"
      ],
      "layout": "IPY_MODEL_99ae46da3b984572a92a4031f36ec845"
     }
    },
    "37f6e3a55fae4e89b226d65799c056ae": {
     "model_module": "@jupyter-widgets/controls",
     "model_module_version": "1.5.0",
     "model_name": "ProgressStyleModel",
     "state": {
      "_model_module": "@jupyter-widgets/controls",
      "_model_module_version": "1.5.0",
      "_model_name": "ProgressStyleModel",
      "_view_count": null,
      "_view_module": "@jupyter-widgets/base",
      "_view_module_version": "1.2.0",
      "_view_name": "StyleView",
      "bar_color": null,
      "description_width": ""
     }
    },
    "392b67ddfb28405997e480da9608c65f": {
     "model_module": "@jupyter-widgets/controls",
     "model_module_version": "1.5.0",
     "model_name": "DescriptionStyleModel",
     "state": {
      "_model_module": "@jupyter-widgets/controls",
      "_model_module_version": "1.5.0",
      "_model_name": "DescriptionStyleModel",
      "_view_count": null,
      "_view_module": "@jupyter-widgets/base",
      "_view_module_version": "1.2.0",
      "_view_name": "StyleView",
      "description_width": ""
     }
    },
    "3ac29ea09e5c4f8db9657e56a1d12a6c": {
     "model_module": "@jupyter-widgets/controls",
     "model_module_version": "1.5.0",
     "model_name": "HTMLModel",
     "state": {
      "_dom_classes": [],
      "_model_module": "@jupyter-widgets/controls",
      "_model_module_version": "1.5.0",
      "_model_name": "HTMLModel",
      "_view_count": null,
      "_view_module": "@jupyter-widgets/controls",
      "_view_module_version": "1.5.0",
      "_view_name": "HTMLView",
      "description": "",
      "description_tooltip": null,
      "layout": "IPY_MODEL_a360ce1b71c74c569d5d16b818e15d10",
      "placeholder": "​",
      "style": "IPY_MODEL_ed24a4a107564712b5239f68fe8b807f",
      "value": " 2870/2870 [00:00&lt;00:00, 7893.55 examples/s]"
     }
    },
    "41913e5ec0fd471fb19467573ed0c4c8": {
     "model_module": "@jupyter-widgets/controls",
     "model_module_version": "1.5.0",
     "model_name": "HTMLModel",
     "state": {
      "_dom_classes": [],
      "_model_module": "@jupyter-widgets/controls",
      "_model_module_version": "1.5.0",
      "_model_name": "HTMLModel",
      "_view_count": null,
      "_view_module": "@jupyter-widgets/controls",
      "_view_module_version": "1.5.0",
      "_view_name": "HTMLView",
      "description": "",
      "description_tooltip": null,
      "layout": "IPY_MODEL_6164ba82b8ab4195bf77e0db1c3d4e54",
      "placeholder": "​",
      "style": "IPY_MODEL_d92a05827a4f4617a01a029eebdb2e4b",
      "value": "Map: 100%"
     }
    },
    "4312146943be4263a594c15a0df095a1": {
     "model_module": "@jupyter-widgets/base",
     "model_module_version": "1.2.0",
     "model_name": "LayoutModel",
     "state": {
      "_model_module": "@jupyter-widgets/base",
      "_model_module_version": "1.2.0",
      "_model_name": "LayoutModel",
      "_view_count": null,
      "_view_module": "@jupyter-widgets/base",
      "_view_module_version": "1.2.0",
      "_view_name": "LayoutView",
      "align_content": null,
      "align_items": null,
      "align_self": null,
      "border": null,
      "bottom": null,
      "display": null,
      "flex": null,
      "flex_flow": null,
      "grid_area": null,
      "grid_auto_columns": null,
      "grid_auto_flow": null,
      "grid_auto_rows": null,
      "grid_column": null,
      "grid_gap": null,
      "grid_row": null,
      "grid_template_areas": null,
      "grid_template_columns": null,
      "grid_template_rows": null,
      "height": null,
      "justify_content": null,
      "justify_items": null,
      "left": null,
      "margin": null,
      "max_height": null,
      "max_width": null,
      "min_height": null,
      "min_width": null,
      "object_fit": null,
      "object_position": null,
      "order": null,
      "overflow": null,
      "overflow_x": null,
      "overflow_y": null,
      "padding": null,
      "right": null,
      "top": null,
      "visibility": null,
      "width": null
     }
    },
    "4c6bc25ec6fe43449db337905e28f7a8": {
     "model_module": "@jupyter-widgets/controls",
     "model_module_version": "1.5.0",
     "model_name": "HBoxModel",
     "state": {
      "_dom_classes": [],
      "_model_module": "@jupyter-widgets/controls",
      "_model_module_version": "1.5.0",
      "_model_name": "HBoxModel",
      "_view_count": null,
      "_view_module": "@jupyter-widgets/controls",
      "_view_module_version": "1.5.0",
      "_view_name": "HBoxView",
      "box_style": "",
      "children": [
       "IPY_MODEL_41913e5ec0fd471fb19467573ed0c4c8",
       "IPY_MODEL_baec7636b03b400284fc84d2dd0f059f",
       "IPY_MODEL_67a557cd7c8141a3a3e004703bc853df"
      ],
      "layout": "IPY_MODEL_d17b118594574bdcae63d547485ee16b"
     }
    },
    "6164ba82b8ab4195bf77e0db1c3d4e54": {
     "model_module": "@jupyter-widgets/base",
     "model_module_version": "1.2.0",
     "model_name": "LayoutModel",
     "state": {
      "_model_module": "@jupyter-widgets/base",
      "_model_module_version": "1.2.0",
      "_model_name": "LayoutModel",
      "_view_count": null,
      "_view_module": "@jupyter-widgets/base",
      "_view_module_version": "1.2.0",
      "_view_name": "LayoutView",
      "align_content": null,
      "align_items": null,
      "align_self": null,
      "border": null,
      "bottom": null,
      "display": null,
      "flex": null,
      "flex_flow": null,
      "grid_area": null,
      "grid_auto_columns": null,
      "grid_auto_flow": null,
      "grid_auto_rows": null,
      "grid_column": null,
      "grid_gap": null,
      "grid_row": null,
      "grid_template_areas": null,
      "grid_template_columns": null,
      "grid_template_rows": null,
      "height": null,
      "justify_content": null,
      "justify_items": null,
      "left": null,
      "margin": null,
      "max_height": null,
      "max_width": null,
      "min_height": null,
      "min_width": null,
      "object_fit": null,
      "object_position": null,
      "order": null,
      "overflow": null,
      "overflow_x": null,
      "overflow_y": null,
      "padding": null,
      "right": null,
      "top": null,
      "visibility": null,
      "width": null
     }
    },
    "67a557cd7c8141a3a3e004703bc853df": {
     "model_module": "@jupyter-widgets/controls",
     "model_module_version": "1.5.0",
     "model_name": "HTMLModel",
     "state": {
      "_dom_classes": [],
      "_model_module": "@jupyter-widgets/controls",
      "_model_module_version": "1.5.0",
      "_model_name": "HTMLModel",
      "_view_count": null,
      "_view_module": "@jupyter-widgets/controls",
      "_view_module_version": "1.5.0",
      "_view_name": "HTMLView",
      "description": "",
      "description_tooltip": null,
      "layout": "IPY_MODEL_8df32711e7c340ccbf3d92d65f981421",
      "placeholder": "​",
      "style": "IPY_MODEL_dcaa7a024ddb4c19b25b6ad837e8f278",
      "value": " 286/286 [00:00&lt;00:00, 3590.67 examples/s]"
     }
    },
    "76e3d0f5fad6467d8ecde4d8d2b28a73": {
     "model_module": "@jupyter-widgets/controls",
     "model_module_version": "1.5.0",
     "model_name": "HTMLModel",
     "state": {
      "_dom_classes": [],
      "_model_module": "@jupyter-widgets/controls",
      "_model_module_version": "1.5.0",
      "_model_name": "HTMLModel",
      "_view_count": null,
      "_view_module": "@jupyter-widgets/controls",
      "_view_module_version": "1.5.0",
      "_view_name": "HTMLView",
      "description": "",
      "description_tooltip": null,
      "layout": "IPY_MODEL_dfb7f13e3f104a0292e083a58fa39623",
      "placeholder": "​",
      "style": "IPY_MODEL_a0740bcd833f480cb5b80b66176ee355",
      "value": " 158/158 [00:00&lt;00:00, 2286.69 examples/s]"
     }
    },
    "78395c4346574282b7b3e7dfaca0f4ee": {
     "model_module": "@jupyter-widgets/controls",
     "model_module_version": "1.5.0",
     "model_name": "ProgressStyleModel",
     "state": {
      "_model_module": "@jupyter-widgets/controls",
      "_model_module_version": "1.5.0",
      "_model_name": "ProgressStyleModel",
      "_view_count": null,
      "_view_module": "@jupyter-widgets/base",
      "_view_module_version": "1.2.0",
      "_view_name": "StyleView",
      "bar_color": null,
      "description_width": ""
     }
    },
    "8df32711e7c340ccbf3d92d65f981421": {
     "model_module": "@jupyter-widgets/base",
     "model_module_version": "1.2.0",
     "model_name": "LayoutModel",
     "state": {
      "_model_module": "@jupyter-widgets/base",
      "_model_module_version": "1.2.0",
      "_model_name": "LayoutModel",
      "_view_count": null,
      "_view_module": "@jupyter-widgets/base",
      "_view_module_version": "1.2.0",
      "_view_name": "LayoutView",
      "align_content": null,
      "align_items": null,
      "align_self": null,
      "border": null,
      "bottom": null,
      "display": null,
      "flex": null,
      "flex_flow": null,
      "grid_area": null,
      "grid_auto_columns": null,
      "grid_auto_flow": null,
      "grid_auto_rows": null,
      "grid_column": null,
      "grid_gap": null,
      "grid_row": null,
      "grid_template_areas": null,
      "grid_template_columns": null,
      "grid_template_rows": null,
      "height": null,
      "justify_content": null,
      "justify_items": null,
      "left": null,
      "margin": null,
      "max_height": null,
      "max_width": null,
      "min_height": null,
      "min_width": null,
      "object_fit": null,
      "object_position": null,
      "order": null,
      "overflow": null,
      "overflow_x": null,
      "overflow_y": null,
      "padding": null,
      "right": null,
      "top": null,
      "visibility": null,
      "width": null
     }
    },
    "99ae46da3b984572a92a4031f36ec845": {
     "model_module": "@jupyter-widgets/base",
     "model_module_version": "1.2.0",
     "model_name": "LayoutModel",
     "state": {
      "_model_module": "@jupyter-widgets/base",
      "_model_module_version": "1.2.0",
      "_model_name": "LayoutModel",
      "_view_count": null,
      "_view_module": "@jupyter-widgets/base",
      "_view_module_version": "1.2.0",
      "_view_name": "LayoutView",
      "align_content": null,
      "align_items": null,
      "align_self": null,
      "border": null,
      "bottom": null,
      "display": null,
      "flex": null,
      "flex_flow": null,
      "grid_area": null,
      "grid_auto_columns": null,
      "grid_auto_flow": null,
      "grid_auto_rows": null,
      "grid_column": null,
      "grid_gap": null,
      "grid_row": null,
      "grid_template_areas": null,
      "grid_template_columns": null,
      "grid_template_rows": null,
      "height": null,
      "justify_content": null,
      "justify_items": null,
      "left": null,
      "margin": null,
      "max_height": null,
      "max_width": null,
      "min_height": null,
      "min_width": null,
      "object_fit": null,
      "object_position": null,
      "order": null,
      "overflow": null,
      "overflow_x": null,
      "overflow_y": null,
      "padding": null,
      "right": null,
      "top": null,
      "visibility": null,
      "width": null
     }
    },
    "9b749ee0bea046a0bd2569f95dd3629e": {
     "model_module": "@jupyter-widgets/base",
     "model_module_version": "1.2.0",
     "model_name": "LayoutModel",
     "state": {
      "_model_module": "@jupyter-widgets/base",
      "_model_module_version": "1.2.0",
      "_model_name": "LayoutModel",
      "_view_count": null,
      "_view_module": "@jupyter-widgets/base",
      "_view_module_version": "1.2.0",
      "_view_name": "LayoutView",
      "align_content": null,
      "align_items": null,
      "align_self": null,
      "border": null,
      "bottom": null,
      "display": null,
      "flex": null,
      "flex_flow": null,
      "grid_area": null,
      "grid_auto_columns": null,
      "grid_auto_flow": null,
      "grid_auto_rows": null,
      "grid_column": null,
      "grid_gap": null,
      "grid_row": null,
      "grid_template_areas": null,
      "grid_template_columns": null,
      "grid_template_rows": null,
      "height": null,
      "justify_content": null,
      "justify_items": null,
      "left": null,
      "margin": null,
      "max_height": null,
      "max_width": null,
      "min_height": null,
      "min_width": null,
      "object_fit": null,
      "object_position": null,
      "order": null,
      "overflow": null,
      "overflow_x": null,
      "overflow_y": null,
      "padding": null,
      "right": null,
      "top": null,
      "visibility": null,
      "width": null
     }
    },
    "a0740bcd833f480cb5b80b66176ee355": {
     "model_module": "@jupyter-widgets/controls",
     "model_module_version": "1.5.0",
     "model_name": "DescriptionStyleModel",
     "state": {
      "_model_module": "@jupyter-widgets/controls",
      "_model_module_version": "1.5.0",
      "_model_name": "DescriptionStyleModel",
      "_view_count": null,
      "_view_module": "@jupyter-widgets/base",
      "_view_module_version": "1.2.0",
      "_view_name": "StyleView",
      "description_width": ""
     }
    },
    "a360ce1b71c74c569d5d16b818e15d10": {
     "model_module": "@jupyter-widgets/base",
     "model_module_version": "1.2.0",
     "model_name": "LayoutModel",
     "state": {
      "_model_module": "@jupyter-widgets/base",
      "_model_module_version": "1.2.0",
      "_model_name": "LayoutModel",
      "_view_count": null,
      "_view_module": "@jupyter-widgets/base",
      "_view_module_version": "1.2.0",
      "_view_name": "LayoutView",
      "align_content": null,
      "align_items": null,
      "align_self": null,
      "border": null,
      "bottom": null,
      "display": null,
      "flex": null,
      "flex_flow": null,
      "grid_area": null,
      "grid_auto_columns": null,
      "grid_auto_flow": null,
      "grid_auto_rows": null,
      "grid_column": null,
      "grid_gap": null,
      "grid_row": null,
      "grid_template_areas": null,
      "grid_template_columns": null,
      "grid_template_rows": null,
      "height": null,
      "justify_content": null,
      "justify_items": null,
      "left": null,
      "margin": null,
      "max_height": null,
      "max_width": null,
      "min_height": null,
      "min_width": null,
      "object_fit": null,
      "object_position": null,
      "order": null,
      "overflow": null,
      "overflow_x": null,
      "overflow_y": null,
      "padding": null,
      "right": null,
      "top": null,
      "visibility": null,
      "width": null
     }
    },
    "a501948a177942118b9b9f0bdfdd92b6": {
     "model_module": "@jupyter-widgets/controls",
     "model_module_version": "1.5.0",
     "model_name": "ProgressStyleModel",
     "state": {
      "_model_module": "@jupyter-widgets/controls",
      "_model_module_version": "1.5.0",
      "_model_name": "ProgressStyleModel",
      "_view_count": null,
      "_view_module": "@jupyter-widgets/base",
      "_view_module_version": "1.2.0",
      "_view_name": "StyleView",
      "bar_color": null,
      "description_width": ""
     }
    },
    "a678740f297846a9ba51343ef9acccb7": {
     "model_module": "@jupyter-widgets/base",
     "model_module_version": "1.2.0",
     "model_name": "LayoutModel",
     "state": {
      "_model_module": "@jupyter-widgets/base",
      "_model_module_version": "1.2.0",
      "_model_name": "LayoutModel",
      "_view_count": null,
      "_view_module": "@jupyter-widgets/base",
      "_view_module_version": "1.2.0",
      "_view_name": "LayoutView",
      "align_content": null,
      "align_items": null,
      "align_self": null,
      "border": null,
      "bottom": null,
      "display": null,
      "flex": null,
      "flex_flow": null,
      "grid_area": null,
      "grid_auto_columns": null,
      "grid_auto_flow": null,
      "grid_auto_rows": null,
      "grid_column": null,
      "grid_gap": null,
      "grid_row": null,
      "grid_template_areas": null,
      "grid_template_columns": null,
      "grid_template_rows": null,
      "height": null,
      "justify_content": null,
      "justify_items": null,
      "left": null,
      "margin": null,
      "max_height": null,
      "max_width": null,
      "min_height": null,
      "min_width": null,
      "object_fit": null,
      "object_position": null,
      "order": null,
      "overflow": null,
      "overflow_x": null,
      "overflow_y": null,
      "padding": null,
      "right": null,
      "top": null,
      "visibility": null,
      "width": null
     }
    },
    "ad2fdbff9bb94a428d4d9bba26a9227a": {
     "model_module": "@jupyter-widgets/controls",
     "model_module_version": "1.5.0",
     "model_name": "HBoxModel",
     "state": {
      "_dom_classes": [],
      "_model_module": "@jupyter-widgets/controls",
      "_model_module_version": "1.5.0",
      "_model_name": "HBoxModel",
      "_view_count": null,
      "_view_module": "@jupyter-widgets/controls",
      "_view_module_version": "1.5.0",
      "_view_name": "HBoxView",
      "box_style": "",
      "children": [
       "IPY_MODEL_f3f07832d759492fbbbb8b122358421d",
       "IPY_MODEL_d9f8ee15420a4fab9b2e458344c0393b",
       "IPY_MODEL_3ac29ea09e5c4f8db9657e56a1d12a6c"
      ],
      "layout": "IPY_MODEL_4312146943be4263a594c15a0df095a1"
     }
    },
    "baec7636b03b400284fc84d2dd0f059f": {
     "model_module": "@jupyter-widgets/controls",
     "model_module_version": "1.5.0",
     "model_name": "FloatProgressModel",
     "state": {
      "_dom_classes": [],
      "_model_module": "@jupyter-widgets/controls",
      "_model_module_version": "1.5.0",
      "_model_name": "FloatProgressModel",
      "_view_count": null,
      "_view_module": "@jupyter-widgets/controls",
      "_view_module_version": "1.5.0",
      "_view_name": "ProgressView",
      "bar_style": "success",
      "description": "",
      "description_tooltip": null,
      "layout": "IPY_MODEL_9b749ee0bea046a0bd2569f95dd3629e",
      "max": 286,
      "min": 0,
      "orientation": "horizontal",
      "style": "IPY_MODEL_78395c4346574282b7b3e7dfaca0f4ee",
      "value": 286
     }
    },
    "d160fc03521b429e9c6a2f71978f5697": {
     "model_module": "@jupyter-widgets/base",
     "model_module_version": "1.2.0",
     "model_name": "LayoutModel",
     "state": {
      "_model_module": "@jupyter-widgets/base",
      "_model_module_version": "1.2.0",
      "_model_name": "LayoutModel",
      "_view_count": null,
      "_view_module": "@jupyter-widgets/base",
      "_view_module_version": "1.2.0",
      "_view_name": "LayoutView",
      "align_content": null,
      "align_items": null,
      "align_self": null,
      "border": null,
      "bottom": null,
      "display": null,
      "flex": null,
      "flex_flow": null,
      "grid_area": null,
      "grid_auto_columns": null,
      "grid_auto_flow": null,
      "grid_auto_rows": null,
      "grid_column": null,
      "grid_gap": null,
      "grid_row": null,
      "grid_template_areas": null,
      "grid_template_columns": null,
      "grid_template_rows": null,
      "height": null,
      "justify_content": null,
      "justify_items": null,
      "left": null,
      "margin": null,
      "max_height": null,
      "max_width": null,
      "min_height": null,
      "min_width": null,
      "object_fit": null,
      "object_position": null,
      "order": null,
      "overflow": null,
      "overflow_x": null,
      "overflow_y": null,
      "padding": null,
      "right": null,
      "top": null,
      "visibility": null,
      "width": null
     }
    },
    "d17b118594574bdcae63d547485ee16b": {
     "model_module": "@jupyter-widgets/base",
     "model_module_version": "1.2.0",
     "model_name": "LayoutModel",
     "state": {
      "_model_module": "@jupyter-widgets/base",
      "_model_module_version": "1.2.0",
      "_model_name": "LayoutModel",
      "_view_count": null,
      "_view_module": "@jupyter-widgets/base",
      "_view_module_version": "1.2.0",
      "_view_name": "LayoutView",
      "align_content": null,
      "align_items": null,
      "align_self": null,
      "border": null,
      "bottom": null,
      "display": null,
      "flex": null,
      "flex_flow": null,
      "grid_area": null,
      "grid_auto_columns": null,
      "grid_auto_flow": null,
      "grid_auto_rows": null,
      "grid_column": null,
      "grid_gap": null,
      "grid_row": null,
      "grid_template_areas": null,
      "grid_template_columns": null,
      "grid_template_rows": null,
      "height": null,
      "justify_content": null,
      "justify_items": null,
      "left": null,
      "margin": null,
      "max_height": null,
      "max_width": null,
      "min_height": null,
      "min_width": null,
      "object_fit": null,
      "object_position": null,
      "order": null,
      "overflow": null,
      "overflow_x": null,
      "overflow_y": null,
      "padding": null,
      "right": null,
      "top": null,
      "visibility": null,
      "width": null
     }
    },
    "d92a05827a4f4617a01a029eebdb2e4b": {
     "model_module": "@jupyter-widgets/controls",
     "model_module_version": "1.5.0",
     "model_name": "DescriptionStyleModel",
     "state": {
      "_model_module": "@jupyter-widgets/controls",
      "_model_module_version": "1.5.0",
      "_model_name": "DescriptionStyleModel",
      "_view_count": null,
      "_view_module": "@jupyter-widgets/base",
      "_view_module_version": "1.2.0",
      "_view_name": "StyleView",
      "description_width": ""
     }
    },
    "d9f8ee15420a4fab9b2e458344c0393b": {
     "model_module": "@jupyter-widgets/controls",
     "model_module_version": "1.5.0",
     "model_name": "FloatProgressModel",
     "state": {
      "_dom_classes": [],
      "_model_module": "@jupyter-widgets/controls",
      "_model_module_version": "1.5.0",
      "_model_name": "FloatProgressModel",
      "_view_count": null,
      "_view_module": "@jupyter-widgets/controls",
      "_view_module_version": "1.5.0",
      "_view_name": "ProgressView",
      "bar_style": "success",
      "description": "",
      "description_tooltip": null,
      "layout": "IPY_MODEL_a678740f297846a9ba51343ef9acccb7",
      "max": 2870,
      "min": 0,
      "orientation": "horizontal",
      "style": "IPY_MODEL_a501948a177942118b9b9f0bdfdd92b6",
      "value": 2870
     }
    },
    "dcaa7a024ddb4c19b25b6ad837e8f278": {
     "model_module": "@jupyter-widgets/controls",
     "model_module_version": "1.5.0",
     "model_name": "DescriptionStyleModel",
     "state": {
      "_model_module": "@jupyter-widgets/controls",
      "_model_module_version": "1.5.0",
      "_model_name": "DescriptionStyleModel",
      "_view_count": null,
      "_view_module": "@jupyter-widgets/base",
      "_view_module_version": "1.2.0",
      "_view_name": "StyleView",
      "description_width": ""
     }
    },
    "dfb7f13e3f104a0292e083a58fa39623": {
     "model_module": "@jupyter-widgets/base",
     "model_module_version": "1.2.0",
     "model_name": "LayoutModel",
     "state": {
      "_model_module": "@jupyter-widgets/base",
      "_model_module_version": "1.2.0",
      "_model_name": "LayoutModel",
      "_view_count": null,
      "_view_module": "@jupyter-widgets/base",
      "_view_module_version": "1.2.0",
      "_view_name": "LayoutView",
      "align_content": null,
      "align_items": null,
      "align_self": null,
      "border": null,
      "bottom": null,
      "display": null,
      "flex": null,
      "flex_flow": null,
      "grid_area": null,
      "grid_auto_columns": null,
      "grid_auto_flow": null,
      "grid_auto_rows": null,
      "grid_column": null,
      "grid_gap": null,
      "grid_row": null,
      "grid_template_areas": null,
      "grid_template_columns": null,
      "grid_template_rows": null,
      "height": null,
      "justify_content": null,
      "justify_items": null,
      "left": null,
      "margin": null,
      "max_height": null,
      "max_width": null,
      "min_height": null,
      "min_width": null,
      "object_fit": null,
      "object_position": null,
      "order": null,
      "overflow": null,
      "overflow_x": null,
      "overflow_y": null,
      "padding": null,
      "right": null,
      "top": null,
      "visibility": null,
      "width": null
     }
    },
    "e314abf17ead42158468f5d0847f25cd": {
     "model_module": "@jupyter-widgets/base",
     "model_module_version": "1.2.0",
     "model_name": "LayoutModel",
     "state": {
      "_model_module": "@jupyter-widgets/base",
      "_model_module_version": "1.2.0",
      "_model_name": "LayoutModel",
      "_view_count": null,
      "_view_module": "@jupyter-widgets/base",
      "_view_module_version": "1.2.0",
      "_view_name": "LayoutView",
      "align_content": null,
      "align_items": null,
      "align_self": null,
      "border": null,
      "bottom": null,
      "display": null,
      "flex": null,
      "flex_flow": null,
      "grid_area": null,
      "grid_auto_columns": null,
      "grid_auto_flow": null,
      "grid_auto_rows": null,
      "grid_column": null,
      "grid_gap": null,
      "grid_row": null,
      "grid_template_areas": null,
      "grid_template_columns": null,
      "grid_template_rows": null,
      "height": null,
      "justify_content": null,
      "justify_items": null,
      "left": null,
      "margin": null,
      "max_height": null,
      "max_width": null,
      "min_height": null,
      "min_width": null,
      "object_fit": null,
      "object_position": null,
      "order": null,
      "overflow": null,
      "overflow_x": null,
      "overflow_y": null,
      "padding": null,
      "right": null,
      "top": null,
      "visibility": null,
      "width": null
     }
    },
    "e7ec1d78fc9349e780b4c67aef084c81": {
     "model_module": "@jupyter-widgets/controls",
     "model_module_version": "1.5.0",
     "model_name": "FloatProgressModel",
     "state": {
      "_dom_classes": [],
      "_model_module": "@jupyter-widgets/controls",
      "_model_module_version": "1.5.0",
      "_model_name": "FloatProgressModel",
      "_view_count": null,
      "_view_module": "@jupyter-widgets/controls",
      "_view_module_version": "1.5.0",
      "_view_name": "ProgressView",
      "bar_style": "success",
      "description": "",
      "description_tooltip": null,
      "layout": "IPY_MODEL_010af9ad50c342aa8ffd390913656783",
      "max": 158,
      "min": 0,
      "orientation": "horizontal",
      "style": "IPY_MODEL_37f6e3a55fae4e89b226d65799c056ae",
      "value": 158
     }
    },
    "ed24a4a107564712b5239f68fe8b807f": {
     "model_module": "@jupyter-widgets/controls",
     "model_module_version": "1.5.0",
     "model_name": "DescriptionStyleModel",
     "state": {
      "_model_module": "@jupyter-widgets/controls",
      "_model_module_version": "1.5.0",
      "_model_name": "DescriptionStyleModel",
      "_view_count": null,
      "_view_module": "@jupyter-widgets/base",
      "_view_module_version": "1.2.0",
      "_view_name": "StyleView",
      "description_width": ""
     }
    },
    "f3f07832d759492fbbbb8b122358421d": {
     "model_module": "@jupyter-widgets/controls",
     "model_module_version": "1.5.0",
     "model_name": "HTMLModel",
     "state": {
      "_dom_classes": [],
      "_model_module": "@jupyter-widgets/controls",
      "_model_module_version": "1.5.0",
      "_model_name": "HTMLModel",
      "_view_count": null,
      "_view_module": "@jupyter-widgets/controls",
      "_view_module_version": "1.5.0",
      "_view_name": "HTMLView",
      "description": "",
      "description_tooltip": null,
      "layout": "IPY_MODEL_e314abf17ead42158468f5d0847f25cd",
      "placeholder": "​",
      "style": "IPY_MODEL_392b67ddfb28405997e480da9608c65f",
      "value": "Map: 100%"
     }
    }
   }
  }
 },
 "nbformat": 4,
 "nbformat_minor": 0
}
