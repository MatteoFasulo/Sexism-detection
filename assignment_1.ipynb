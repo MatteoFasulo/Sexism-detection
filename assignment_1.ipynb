{
 "cells": [
  {
   "cell_type": "markdown",
   "metadata": {
    "id": "qmIZOuDv-bQk"
   },
   "source": [
    "<a href=\"https://colab.research.google.com/github/MatteoFasulo/Sexism-detection/blob/main/assignment_1.ipynb\" target=\"_parent\"><img src=\"https://colab.research.google.com/assets/colab-badge.svg\" alt=\"Open In Colab\"/></a>"
   ]
  },
  {
   "cell_type": "markdown",
   "metadata": {
    "id": "9vYXSXHf-bQp"
   },
   "source": [
    "# Libraries"
   ]
  },
  {
   "cell_type": "code",
   "execution_count": 1,
   "metadata": {
    "id": "rT1NnYib-cZs"
   },
   "outputs": [],
   "source": [
    "#%%capture\n",
    "#!pip install requests umap nltk gensim datasets evaluate transformers"
   ]
  },
  {
   "cell_type": "code",
   "execution_count": 1,
   "metadata": {
    "id": "8HsAwNAc-bQp"
   },
   "outputs": [],
   "source": [
    "import gc\n",
    "import os\n",
    "import requests\n",
    "from pathlib import Path\n",
    "import re\n",
    "import json\n",
    "from typing import OrderedDict\n",
    "import copy\n",
    "\n",
    "import numpy as np\n",
    "import pandas as pd\n",
    "\n",
    "import umap\n",
    "from sklearn.manifold import TSNE\n",
    "from sklearn.decomposition import TruncatedSVD\n",
    "from sklearn.metrics import f1_score, accuracy_score\n",
    "\n",
    "import matplotlib.pyplot as plt\n",
    "\n",
    "from tqdm import tqdm\n",
    "\n",
    "import nltk\n",
    "from nltk.stem import WordNetLemmatizer\n",
    "\n",
    "import gensim\n",
    "import gensim.downloader as gloader\n",
    "\n",
    "import torch\n",
    "\n",
    "from datasets import Dataset\n",
    "from transformers import AutoTokenizer\n",
    "from transformers import DataCollatorWithPadding\n",
    "from transformers import AutoModelForSequenceClassification\n",
    "from transformers import TrainingArguments\n",
    "from transformers import Trainer\n",
    "import evaluate"
   ]
  },
  {
   "cell_type": "markdown",
   "metadata": {
    "id": "o4MUwVBe-bQt"
   },
   "source": [
    "# Class definition"
   ]
  },
  {
   "cell_type": "code",
   "execution_count": 2,
   "metadata": {
    "id": "w4OPhRgq-bQu"
   },
   "outputs": [],
   "source": [
    "class SexismDetector:\n",
    "    def __init__(self):\n",
    "\n",
    "        URL_PATTERN_STR = r\"\"\"(?i)((?:https?:(?:/{1,3}|[a-z0-9%])|[a-z0-9.\\-]+[.](?:com|net|org|edu|gov|mil|aero|asia|biz|cat|coop|info\n",
    "                      |int|jobs|mobi|museum|name|post|pro|tel|travel|xxx|ac|ad|ae|af|ag|ai|al|am|an|ao|aq|ar|as|at|au|aw|ax|az|ba|\n",
    "                      bb|bd|be|bf|bg|bh|bi|bj|bm|bn|bo|br|bs|bt|bv|bw|by|bz|ca|cc|cd|cf|cg|ch|ci|ck|cl|cm|cn|co|cr|cs|cu|cv|cx|cy|\n",
    "                      cz|dd|de|dj|dk|dm|do|dz|ec|ee|eg|eh|er|es|et|eu|fi|fj|fk|fm|fo|fr|ga|gb|gd|ge|gf|gg|gh|gi|gl|gm|gn|gp|gq|gr|\n",
    "                      gs|gt|gu|gw|gy|hk|hm|hn|hr|ht|hu|id|ie|il|im|in|io|iq|ir|is|it|je|jm|jo|jp|ke|kg|kh|ki|km|kn|kp|kr|kw|ky|kz|\n",
    "                      la|lb|lc|li|lk|lr|ls|lt|lu|lv|ly|ma|mc|md|me|mg|mh|mk|ml|mm|mn|mo|mp|mq|mr|ms|mt|mu|mv|mw|mx|my|mz|na|nc|ne|\n",
    "                      nf|ng|ni|nl|no|np|nr|nu|nz|om|pa|pe|pf|pg|ph|pk|pl|pm|pn|pr|ps|pt|pw|py|qa|re|ro|rs|ru|rw|sa|sb|sc|sd|se|sg|\n",
    "                      sh|si|sj|Ja|sk|sl|sm|sn|so|sr|ss|st|su|sv|sx|sy|sz|tc|td|tf|tg|th|tj|tk|tl|tm|tn|to|tp|tr|tt|tv|tw|tz|ua|ug|\n",
    "                      uk|us|uy|uz|va|vc|ve|vg|vi|vn|vu|wf|ws|ye|yt|yu|za|zm|zw)/)(?:[^\\s()<>{}\\[\\]]+|\\([^\\s()]*?\\([^\\s()]+\\)[^\\s()]\n",
    "                      *?\\)|\\([^\\s]+?\\))+(?:\\([^\\s()]*?\\([^\\s()]+\\)[^\\s()]*?\\)|\\([^\\s]+?\\)|[^\\s`!()\\[\\]{};:'\\\".,<>?«»“”‘’])|(?:(?<!@)\n",
    "                      [a-z0-9]+(?:[.\\-][a-z0-9]+)*[.](?:com|net|org|edu|gov|mil|aero|asia|biz|cat|coop|info|int|jobs|mobi|museum|name\n",
    "                      |post|pro|tel|travel|xxx|ac|ad|ae|af|ag|ai|al|am|an|ao|aq|ar|as|at|au|aw|ax|az|ba|bb|bd|be|bf|bg|bh|bi|bj|bm|bn\n",
    "                      |bo|br|bs|bt|bv|bw|by|bz|ca|cc|cd|cf|cg|ch|ci|ck|cl|cm|cn|co|cr|cs|cu|cv|cx|cy|cz|dd|de|dj|dk|dm|do|dz|ec|ee|eg\n",
    "                      |eh|er|es|et|eu|fi|fj|fk|fm|fo|fr|ga|gb|gd|ge|gf|gg|gh|gi|gl|gm|gn|gp|gq|gr|gs|gt|gu|gw|gy|hk|hm|hn|hr|ht|hu|id\n",
    "                      |ie|il|im|in|io|iq|ir|is|it|je|jm|jo|jp|ke|kg|kh|ki|km|kn|kp|kr|kw|ky|kz|la|lb|lc|li|lk|lr|ls|lt|lu|lv|ly|ma|mc|\n",
    "                      md|me|mg|mh|mk|ml|mm|mn|mo|mp|mq|mr|ms|mt|mu|mv|mw|mx|my|mz|na|nc|ne|nf|ng|ni|nl|no|np|nr|nu|nz|om|pa|pe|pf|pg|\n",
    "                      ph|pk|pl|pm|pn|pr|ps|pt|pw|py|qa|re|ro|rs|ru|rw|sa|sb|sc|sd|se|sg|sh|si|sj|Ja|sk|sl|sm|sn|so|sr|ss|st|su|sv|sx|\n",
    "                      sy|sz|tc|td|tf|tg|th|tj|tk|tl|tm|tn|to|tp|tr|tt|tv|tw|tz|ua|ug|uk|us|uy|uz|va|vc|ve|vg|vi|vn|vu|wf|ws|ye|yt|yu|\n",
    "                      za|zm|zw)\\b/?(?!@)))\"\"\"\n",
    "        self.URL_PATTERN = re.compile(URL_PATTERN_STR, re.IGNORECASE)\n",
    "        self.HASHTAG_PATTERN = re.compile(r'#\\w*')\n",
    "        self.MENTION_PATTERN = re.compile(r'@\\w*')\n",
    "        self.EMOJIS_PATTERN = re.compile(u'([\\U00002600-\\U000027BF])|([\\U0001f300-\\U0001f64F])|([\\U0001f680-\\U0001f6FF])')\n",
    "        self.SPECIAL_CHARACTERS_PATTERN = re.compile(r'&lt;/?[a-z]+&gt;')\n",
    "        self.AND_PATTERN = re.compile(r'&amp;')\n",
    "        self.WORD_PATTERN = re.compile(r'[^a-zA-Z\\s]')\n",
    "        self.SEED = 1337\n",
    "        self.DATA_FOLDER = Path('data')\n",
    "        self.MODEL_FOLDER = Path('models')\n",
    "        self.columns_to_maintain = ['id_EXIST', 'lang', 'tweet', 'hard_label_task1']\n",
    "        self.UNK_TOKEN = '[UNK]'\n",
    "        self.PAD_TOKEN = '[PAD]'\n",
    "\n",
    "    def download_corpus(self, url: str, filename: str) -> None:\n",
    "        \"\"\"\n",
    "        Downloads a text corpus from a given URL and saves it to a specified filename within the data folder.\n",
    "\n",
    "        Args:\n",
    "            url (str): The URL from which to download the corpus.\n",
    "            filename (str): The name of the file to save the downloaded corpus.\n",
    "\n",
    "        Raises:\n",
    "            requests.exceptions.HTTPError: If the HTTP request returned an unsuccessful status code.\n",
    "\n",
    "        Side Effects:\n",
    "            Creates the data folder if it does not exist.\n",
    "            Writes the downloaded corpus to the specified file.\n",
    "        \"\"\"\n",
    "        if not self.DATA_FOLDER.exists():\n",
    "            self.DATA_FOLDER.mkdir(parents=True)\n",
    "            print(f\"Created folder {self.DATA_FOLDER}.\")\n",
    "\n",
    "        response = requests.get(url)\n",
    "        response.raise_for_status()\n",
    "        with open(self.DATA_FOLDER / filename, 'w', encoding='utf-8') as f:\n",
    "            f.write(response.text)\n",
    "\n",
    "    def load_corpus(self, filename: str, *args, **kwargs) -> pd.DataFrame:\n",
    "        \"\"\"\n",
    "        Load a corpus from a JSON file.\n",
    "\n",
    "        Parameters:\n",
    "        filename (str): The name of the JSON file to load.\n",
    "        *args: Variable length argument list to pass to pandas read_json.\n",
    "        **kwargs: Arbitrary keyword arguments to pass to pandas read_json.\n",
    "\n",
    "        Returns:\n",
    "        DataFrame: A pandas DataFrame containing the loaded corpus.\n",
    "        \"\"\"\n",
    "        return pd.read_json(self.DATA_FOLDER / filename, *args, **kwargs)\n",
    "\n",
    "    @staticmethod\n",
    "    def majority_voting(votes: list[str]) -> str:\n",
    "        \"\"\"\n",
    "        Determines the majority vote from a list of votes.\n",
    "        Args:\n",
    "            votes (list[str]): A list of votes, where each vote is either \"YES\" or \"NO\".\n",
    "        Returns:\n",
    "            str: The result of the majority vote. Returns \"YES\" if there are more \"YES\" votes,\n",
    "                \"NO\" if there are more \"NO\" votes, and \"NEUTRAL\" in case of a tie.\n",
    "        \"\"\"\n",
    "        total_num_votes = len(votes)\n",
    "        yes_votes = votes.count(\"YES\")\n",
    "        no_votes = total_num_votes - yes_votes\n",
    "\n",
    "        if yes_votes > no_votes:\n",
    "            return \"YES\"\n",
    "        elif no_votes > yes_votes:\n",
    "            return \"NO\"\n",
    "        else:\n",
    "            return \"NEUTRAL\" # This will be the case when there is a tie (removed later)\n",
    "\n",
    "    def preprocess_text(self, text: str) -> str:\n",
    "        \"\"\"\n",
    "        Preprocesses the input text by removing or replacing specific patterns.\n",
    "\n",
    "        Args:\n",
    "            text (str): The input text to be preprocessed.\n",
    "\n",
    "        Returns:\n",
    "            str: The preprocessed text with URLs, mentions, hashtags, emojis,\n",
    "                 special characters removed, 'and' replaced, and extra spaces trimmed.\n",
    "        \"\"\"\n",
    "        text = self.URL_PATTERN.sub('', text)\n",
    "        text = self.MENTION_PATTERN.sub('', text)\n",
    "        text = self.HASHTAG_PATTERN.sub('', text)\n",
    "        text = self.EMOJIS_PATTERN.sub('', text)\n",
    "        text = self.SPECIAL_CHARACTERS_PATTERN.sub('', text)\n",
    "        text = self.AND_PATTERN.sub('and', text)\n",
    "        text = text.strip()\n",
    "        text = self.WORD_PATTERN.sub(' ', text)\n",
    "        text = text.strip()\n",
    "        return text\n",
    "\n",
    "    def lemmatize_text(self, text: str) -> str:\n",
    "        \"\"\"\n",
    "        Lemmatizes the input text using the WordNet lemmatizer.\n",
    "\n",
    "        This method attempts to lemmatize each word in the input text. If the WordNet\n",
    "        data is not available, it will download the necessary data and retry.\n",
    "\n",
    "        Args:\n",
    "            text (str): The input text to be lemmatized.\n",
    "\n",
    "        Returns:\n",
    "            str: The lemmatized text.\n",
    "        \"\"\"\n",
    "        lemmatizer = WordNetLemmatizer()\n",
    "        downloaded = False\n",
    "        while not downloaded:\n",
    "            try:\n",
    "                lemmatizer.lemmatize(text)\n",
    "                downloaded = True\n",
    "            except LookupError:\n",
    "                print(\"Downloading WordNet...\")\n",
    "                nltk.download('wordnet')\n",
    "        return ' '.join([lemmatizer.lemmatize(word) for word in text.split()])\n",
    "\n",
    "    @staticmethod\n",
    "    def text_diff(original_text: str, preprocessed_text: str, random: bool = True) -> None:\n",
    "        \"\"\"\n",
    "        Displays a comparison between an original tweet and its preprocessed version.\n",
    "        Args:\n",
    "            original_text (str): The original text data containing tweets.\n",
    "            preprocessed_text (str): The preprocessed text data containing tweets.\n",
    "            random (bool, optional): If True, a random tweet is selected for comparison.\n",
    "                                     If False, the first tweet is selected. Defaults to True.\n",
    "        Returns:\n",
    "            None\n",
    "        \"\"\"\n",
    "        if random:\n",
    "            idx = np.random.randint(0, preprocessed_text.shape[0])\n",
    "        else:\n",
    "            idx = 0\n",
    "\n",
    "        print(f\"Original tweet:\\n{original_text['tweet'].iloc[idx]}\")\n",
    "        print(f\"Processed tweet:\\n{preprocessed_text['tweet'].iloc[idx]}\")\n",
    "\n",
    "    def load_glove(self, model_name: str = 'glove-wiki-gigaword', embedding_dim: int = 50) -> gensim.models.keyedvectors.KeyedVectors:\n",
    "        \"\"\"\n",
    "        Loads the GloVe model with the specified name and embedding dimension.\n",
    "        Args:\n",
    "            model_name (str): The name of the GloVe model to load. Default is 'glove-wiki-gigaword'.\n",
    "            embedding_dim (int): The dimension of the word embeddings. Default is 50.\n",
    "        Returns:\n",
    "            gensim.models.keyedvectors.KeyedVectors: The loaded GloVe model.\n",
    "        Raises:\n",
    "            Exception: If there is an error in downloading or loading the model.\n",
    "        Notes:\n",
    "            - If the model folder does not exist, it will be created.\n",
    "            - If the model is not already downloaded, it will be downloaded and saved to the specified path.\n",
    "            - If the model is already downloaded, it will be loaded from the specified path.\n",
    "        \"\"\"\n",
    "        self.EMBEDDING_DIM = embedding_dim\n",
    "\n",
    "        if not self.MODEL_FOLDER.exists():\n",
    "            self.MODEL_FOLDER.mkdir(parents=True)\n",
    "            print(f\"Created folder {self.MODEL_FOLDER}.\")\n",
    "\n",
    "        model_path = self.MODEL_FOLDER / f\"{model_name}-{embedding_dim}\"\n",
    "        if not model_path.exists():\n",
    "            print(f\"Downloading {model_name} model...\")\n",
    "            glove_model = gloader.load(f\"{model_name}-{embedding_dim}\")\n",
    "            print(f\"Model downloaded! Saving to {model_path}\")\n",
    "            glove_model.save(str(model_path))\n",
    "            print(f\"Model saved to {self.MODEL_FOLDER / f'{model_name}-{embedding_dim}'}\")\n",
    "        else:\n",
    "            glove_model = gensim.models.keyedvectors.KeyedVectors.load(str(model_path))\n",
    "        return glove_model\n",
    "\n",
    "    def get_vocab(self, data: pd.DataFrame) -> tuple[OrderedDict, OrderedDict]:\n",
    "        \"\"\"\n",
    "        Generates vocabulary mappings from a given dataset.\n",
    "        Args:\n",
    "            data (pd.DataFrame): A pandas DataFrame containing the dataset with a column 'tweet'.\n",
    "            word_listing (list, optional): A list of words to include in the vocabulary. If None, the vocabulary\n",
    "                                           will be built from the dataset. Defaults to None.\n",
    "        Returns:\n",
    "            tuple[OrderedDict, OrderedDict]: A tuple containing two OrderedDicts:\n",
    "                - idx_to_word: Mapping from index to word.\n",
    "                - word_to_idx: Mapping from word to index.\n",
    "        \"\"\"\n",
    "        idx_to_word = OrderedDict()\n",
    "        word_to_idx = OrderedDict()\n",
    "\n",
    "        curr_idx = 0\n",
    "        for sentence in data.tweet.values:\n",
    "            tokens = sentence.split()\n",
    "            for token in tokens:\n",
    "                if token not in word_to_idx:\n",
    "                    word_to_idx[token] = curr_idx\n",
    "                    idx_to_word[curr_idx] = token\n",
    "                    curr_idx += 1\n",
    "\n",
    "        word_listing = list(idx_to_word.values())\n",
    "        return idx_to_word, word_to_idx, word_listing\n",
    "\n",
    "    def co_occurrence_count(self, df: pd.DataFrame, idx_to_word, word_to_idx, window_size: int = 10) -> np.ndarray:\n",
    "\n",
    "        vocab_size = len(idx_to_word)\n",
    "        co_occurrence_matrix = np.zeros((vocab_size, vocab_size), dtype=np.float32)\n",
    "\n",
    "        for sentence in tqdm(df.tweet.values):\n",
    "            tokens = sentence.split()\n",
    "            for pos, token in enumerate(tokens):\n",
    "                start = max(0, pos - window_size)\n",
    "                end = min(pos + window_size + 1, len(tokens))\n",
    "\n",
    "                first_word_index = word_to_idx[token]\n",
    "\n",
    "                for pos2 in range(start, end):\n",
    "                    if pos2 != pos:\n",
    "                        second_token = tokens[pos2]\n",
    "                        second_word_index = word_to_idx[second_token]\n",
    "                        co_occurrence_matrix[first_word_index, second_word_index] += 1\n",
    "\n",
    "        return co_occurrence_matrix\n",
    "\n",
    "    def co_occurrence_dataframe(self, co_occurrence_matrix: np.ndarray, idx_to_word: OrderedDict) -> pd.DataFrame:\n",
    "        \"\"\"\n",
    "        Converts a co-occurrence matrix into a pandas DataFrame with word indices as row and column labels.\n",
    "        Args:\n",
    "            co_occurrence_matrix (np.ndarray): A co-occurrence matrix with word indices as row and column indices.\n",
    "            idx_to_word (OrderedDict): A mapping from word index to word.\n",
    "        Returns:\n",
    "            pd.DataFrame: A pandas DataFrame with word indices as row and column labels.\n",
    "        \"\"\"\n",
    "        return pd.DataFrame(co_occurrence_matrix, index=idx_to_word.values(), columns=idx_to_word.values())\n",
    "\n",
    "    def get_augmented_vocab(self, emb_model: gensim.models.keyedvectors.KeyedVectors, train_words: list, co_occurrence_df: pd.DataFrame, save: bool = False) -> gensim.models.keyedvectors.KeyedVectors:\n",
    "        \"\"\"\n",
    "        Augments the given embedding model with new tokens from the training words list. If a token is not found in the\n",
    "        embedding model, a random vector is generated for it. Optionally saves the updated vocabulary to a JSON file.\n",
    "        Args:\n",
    "            emb_model (gensim.models.keyedvectors.KeyedVectors): The embedding model to augment.\n",
    "            train_words (list): A list of words to add to the embedding model.\n",
    "            co_occurrence_df (pd.DataFrame): A DataFrame containing co-occurrence data for the training words.\n",
    "            save (bool, optional): If True, saves the updated vocabulary to a JSON file. Defaults to False.\n",
    "        Returns:\n",
    "            gensim.models.keyedvectors.KeyedVectors: The augmented embedding model.\n",
    "        \"\"\"\n",
    "        new_tokens = []\n",
    "        new_vectors = []\n",
    "\n",
    "        for token in train_words:\n",
    "            try:\n",
    "                embedding_vec = emb_model.get_vector(token)\n",
    "            except KeyError:\n",
    "                try:\n",
    "                    # Handle missing token in embedding model\n",
    "                    top_5_most_frequent = co_occurrence_df.loc[token].sort_values(ascending=False).index.tolist()[:5]\n",
    "\n",
    "                    # Filter words that are in the embedding model\n",
    "                    valid_words = [word for word in top_5_most_frequent if word in emb_model.key_to_index]\n",
    "\n",
    "                    if valid_words:\n",
    "                        # Calculate the average vector for valid words\n",
    "                        embedding_vec = np.mean([emb_model.get_vector(word) for word in valid_words], axis=0)\n",
    "                    else:\n",
    "                        # Handle the case where no valid co-occurring words exist\n",
    "                        raise ValueError(f\"No valid co-occurring words found for token: {token}\")\n",
    "                except Exception as e:\n",
    "                    print(f\"Generating random vector for token '{token}': {e}\")\n",
    "                    embedding_vec = np.random.uniform(low=-0.05, high=0.05, size=self.EMBEDDING_DIM)\n",
    "\n",
    "            new_tokens.append(token)\n",
    "            new_vectors.append(embedding_vec)\n",
    "\n",
    "        emb_model.add_vectors(new_tokens, new_vectors)\n",
    "        # add the UNK token to the embedding model with the vector which is the average of all the vectors\n",
    "        emb_model.add_vectors([\"[UNK]\", \"[PAD]\"], [np.mean(emb_model.vectors, axis=0), np.zeros(self.EMBEDDING_DIM)])\n",
    "\n",
    "        if save:\n",
    "            vocab_path = self.DATA_FOLDER / 'vocab.json'\n",
    "            print(f\"Saving vocab to {vocab_path}\")\n",
    "            with vocab_path.open('w', encoding='utf-8') as f:\n",
    "                json.dump(emb_model.key_to_index, f, indent=4)\n",
    "            print(\"Vocab saved!\")\n",
    "\n",
    "        return emb_model\n",
    "\n",
    "    def get_oov(self, embedding_model: gensim.models.keyedvectors.KeyedVectors, word_listing: list) -> set:\n",
    "        \"\"\"\n",
    "        Returns a list of out-of-vocabulary (OOV) words from a given list of words.\n",
    "        Args:\n",
    "            embedding_model (gensim.models.keyedvectors.KeyedVectors): The word embedding model containing known words.\n",
    "            word_listing (list): A list of words to check against the embedding model.\n",
    "        Returns:\n",
    "            set: A set of out-of-vocabulary words.\n",
    "        \"\"\"\n",
    "        return set(word_listing).difference(set(embedding_model.key_to_index.keys()))\n",
    "\n",
    "    def get_oov_stats(self, embedding_model: gensim.models.keyedvectors.KeyedVectors, word_listing: list) -> None:\n",
    "        \"\"\"\n",
    "        Calculate and print the number and percentage of out-of-vocabulary (OOV) words.\n",
    "        Args:\n",
    "            embedding_model (gensim.models.keyedvectors.KeyedVectors): The word embedding model containing known words.\n",
    "            word_listing (list): A list of words to check against the embedding model.\n",
    "        Returns:\n",
    "            None\n",
    "        \"\"\"\n",
    "        OOV_token = self.get_oov(embedding_model, word_listing)\n",
    "        OOV_percentage = float(len(OOV_token)) * 100 / len(word_listing)\n",
    "\n",
    "        print(f\"Total OOV terms: {len(OOV_token)} ({OOV_percentage:.2f}%)\")\n",
    "\n",
    "    def get_padded_sequences(self, data: pd.Series, embedding_model: gensim.models.keyedvectors.KeyedVectors) -> torch.Tensor:\n",
    "        \"\"\"\n",
    "        Converts a pandas Series of text data into padded sequences of word indices using a given embedding model.\n",
    "\n",
    "        Args:\n",
    "            data (pd.Series): A pandas Series containing text data.\n",
    "            embedding_model (gensim.models.keyedvectors.KeyedVectors): A pre-trained word embedding model.\n",
    "\n",
    "        Returns:\n",
    "            torch.Tensor: A tensor containing padded sequences of word indices.\n",
    "        \"\"\"\n",
    "        tokenizer = nltk.tokenize.NLTKWordTokenizer()\n",
    "        unk_index = 9856\n",
    "\n",
    "        sequences = [torch.tensor([embedding_model.get_index(word, default=unk_index) for word in tokenizer.tokenize(x)]) for x in data.values]\n",
    "\n",
    "        return torch.nn.utils.rnn.pad_sequence(sequences, padding_value=embedding_model.get_index(self.PAD_TOKEN), batch_first=True)\n",
    "\n",
    "    def get_dataloader(self, data: pd.DataFrame, embedding_model: gensim.models.keyedvectors.KeyedVectors, type: str, *args, **kwargs) -> torch.utils.data.DataLoader:\n",
    "        if type not in ['train', 'val', 'test']:\n",
    "            raise ValueError(\"Invalid type. Must be one of 'train', 'val', or 'test'.\")\n",
    "        padded_sequences = self.get_padded_sequences(data.tweet, embedding_model)\n",
    "        labels = torch.tensor(data.hard_label_task1.values)\n",
    "        dataset = TextDataset(padded_sequences, labels)\n",
    "        return torch.utils.data.DataLoader(dataset, *args, **kwargs)\n",
    "\n",
    "\n",
    "    @staticmethod\n",
    "    def visualize_embeddings(embeddings: np.ndarray,\n",
    "                         word_annotations,\n",
    "                         word_to_idx):\n",
    "        \"\"\"\n",
    "        Plots given reduce word embeddings (2D). Users can highlight specific words (word_annotations list).\n",
    "\n",
    "        :param embeddings: word embedding matrix of shape (words, 2) retrieved via a dimensionality reduction technique.\n",
    "        :param word_annotations: list of words to be annotated.\n",
    "        :param word_to_idx: vocabulary map (word -> index) (dict)\n",
    "        \"\"\"\n",
    "        fig, ax = plt.subplots(1, 1, figsize=(15, 12))\n",
    "\n",
    "        if word_annotations:\n",
    "            print(f\"Annotating words: {word_annotations}\")\n",
    "\n",
    "            word_indexes = []\n",
    "            for word in word_annotations:\n",
    "                word_index = word_to_idx[word]\n",
    "                word_indexes.append(word_index)\n",
    "\n",
    "            word_indexes = np.array(word_indexes)\n",
    "\n",
    "            other_embeddings = embeddings[np.setdiff1d(np.arange(embeddings.shape[0]), word_indexes)]\n",
    "            target_embeddings = embeddings[word_indexes]\n",
    "\n",
    "            ax.scatter(other_embeddings[:, 0], other_embeddings[:, 1], alpha=0.1, c='blue')\n",
    "            ax.scatter(target_embeddings[:, 0], target_embeddings[:, 1], alpha=1.0, c='red')\n",
    "            ax.scatter(target_embeddings[:, 0], target_embeddings[:, 1], alpha=1, facecolors='none', edgecolors='r', s=1000)\n",
    "\n",
    "            for word, word_index in zip(word_annotations, word_indexes):\n",
    "                word_x, word_y = embeddings[word_index, 0], embeddings[word_index, 1]\n",
    "                ax.annotate(word, xy=(word_x, word_y))\n",
    "        else:\n",
    "            ax.scatter(embeddings[:, 0], embeddings[:, 1], alpha=0.1, c='blue')\n",
    "\n",
    "        # We avoid outliers ruining the visualization if they are quite far away\n",
    "        axis_x_limit = (np.min(embeddings[:, 0]), np.max(embeddings[:, 0]))\n",
    "        axis_y_limit = (np.min(embeddings[:, 1]), np.max(embeddings[:, 1]))\n",
    "        plt.xlim(left=axis_x_limit[0] - 0.5, right=axis_x_limit[1] + 0.5)\n",
    "        plt.ylim(bottom=axis_y_limit[0] - 0.5, top=axis_y_limit[1] + 0.5)\n",
    "        ax.set_xlim(axis_x_limit[0], axis_x_limit[1])\n",
    "        ax.set_ylim(axis_y_limit[0], axis_y_limit[1])\n",
    "\n",
    "    @staticmethod\n",
    "    def reduce_SVD(embeddings: np.ndarray) -> np.ndarray:\n",
    "        \"\"\"\n",
    "        Applies SVD dimensionality reduction.\n",
    "\n",
    "        :param embeddings: word embedding matrix of shape (words, dim). In the case\n",
    "                        of a word-word co-occurrence matrix the matrix shape would\n",
    "                        be (words, words).\n",
    "\n",
    "        :return\n",
    "            - 2-dimensional word embedding matrix of shape (words, 2)\n",
    "        \"\"\"\n",
    "        print(\"Running SVD reduction method...\")\n",
    "        svd = TruncatedSVD(n_components=2, n_iter=10)\n",
    "        reduced = svd.fit_transform(embeddings)\n",
    "        print(\"SVD reduction completed!\")\n",
    "\n",
    "        return reduced\n",
    "\n",
    "    @staticmethod\n",
    "    def reduce_tSNE(embeddings: np.ndarray) -> np.ndarray:\n",
    "        \"\"\"\n",
    "        Applies t-SNE dimensionality reduction.\n",
    "        \"\"\"\n",
    "        print(\"Running t-SNE reduction method... (it may take a while...)\")\n",
    "        tsne = TSNE(n_components=2, n_iter=1000, metric='cosine')\n",
    "        reduced = tsne.fit_transform(embeddings)\n",
    "        print(\"t-SNE reduction completed!\")\n",
    "\n",
    "        return reduced\n",
    "\n",
    "    @staticmethod\n",
    "    def reduce_umap(embeddings: np.ndarray) -> np.ndarray:\n",
    "        \"\"\"\n",
    "        Applies UMAP dimensionality reduction.\n",
    "        \"\"\"\n",
    "        print(\"Running UMAP reduction method... (it may take a while...)\")\n",
    "        umap_emb = umap.UMAP(n_components=2, metric='cosine')\n",
    "        reduced = umap_emb.fit_transform(embeddings)\n",
    "        print(\"UMAP reduction completed!\")\n",
    "\n",
    "        return reduced\n",
    "\n",
    "class TextDataset(torch.utils.data.Dataset):\n",
    "    def __init__(self, sequences, labels):\n",
    "        self.sequences = sequences\n",
    "        self.labels = labels\n",
    "\n",
    "    def __len__(self):\n",
    "        return self.sequences.shape[0]\n",
    "\n",
    "    def __getitem__(self, idx):\n",
    "        return self.sequences[idx], self.labels[idx]"
   ]
  },
  {
   "cell_type": "markdown",
   "metadata": {
    "id": "9S8JHdj0-bQw"
   },
   "source": [
    "# Task 1: Corpus\n",
    "\n",
    "1. Download the data\n",
    "2. Load the JSON files and encode them as a DataFrame\n",
    "3. Generate hard labels for Task 1 with majority voting\n",
    "4. Filter the DataFrame for only english tweets\n",
    "5. Remove unwanted columns\n",
    "6. Encode the hard labels column as integers\n",
    "\n",
    ">**Bonus**: explore also Spanish tweets leveraging multi-language models and assessing the performance of the model on the two languages in comparison to the English-only model."
   ]
  },
  {
   "cell_type": "markdown",
   "metadata": {},
   "source": [
    "Fist of all, we need to instantiate the class which we will use to perform the task."
   ]
  },
  {
   "cell_type": "code",
   "execution_count": 3,
   "metadata": {
    "id": "UX6zDKbU-bQx"
   },
   "outputs": [],
   "source": [
    "detector = SexismDetector()"
   ]
  },
  {
   "cell_type": "markdown",
   "metadata": {},
   "source": [
    "Let's define the device to use for the computation of PyTorch"
   ]
  },
  {
   "cell_type": "code",
   "execution_count": 4,
   "metadata": {
    "colab": {
     "base_uri": "https://localhost:8080/"
    },
    "id": "rAxlYsxwKy_k",
    "outputId": "2cd6e17f-8dd1-46db-b1c8-bf62bbae1e14"
   },
   "outputs": [
    {
     "name": "stdout",
     "output_type": "stream",
     "text": [
      "Using device: cuda\n"
     ]
    }
   ],
   "source": [
    "device = torch.device(\"cuda\" if torch.cuda.is_available() else \"cpu\")\n",
    "print(f\"Using device: {device}\")"
   ]
  },
  {
   "cell_type": "markdown",
   "metadata": {},
   "source": [
    "### Reproducibility\n",
    "\n",
    "The environment variable as well as the seed are set to ensure reproducibility of the results."
   ]
  },
  {
   "cell_type": "code",
   "execution_count": 5,
   "metadata": {
    "id": "-vI1-CPdKy_l"
   },
   "outputs": [],
   "source": [
    "os.environ[\"CUBLAS_WORKSPACE_CONFIG\"] = \":4096:8\"\n",
    "torch.cuda.manual_seed(detector.SEED)\n",
    "np.random.seed(detector.SEED)"
   ]
  },
  {
   "cell_type": "markdown",
   "metadata": {},
   "source": [
    "### Constants\n",
    "\n",
    "The constants are defined in the following cell. We will use them to define the embedding dimension and batch size."
   ]
  },
  {
   "cell_type": "code",
   "execution_count": 6,
   "metadata": {
    "id": "R-EBKp3wKy_l"
   },
   "outputs": [],
   "source": [
    "EMBEDDING_DIM = 50\n",
    "BATCH_SIZE = 128"
   ]
  },
  {
   "cell_type": "markdown",
   "metadata": {
    "id": "2kB8zolx-bQx"
   },
   "source": [
    "### Download the data\n",
    "\n",
    "The data is downloaded from the repository of the course. The `download_corpus` method is used to download the data from the repository and save it in the `data` folder under the root directory of the project."
   ]
  },
  {
   "cell_type": "code",
   "execution_count": 7,
   "metadata": {
    "colab": {
     "base_uri": "https://localhost:8080/"
    },
    "id": "zHCqDJCq-bQy",
    "outputId": "205666f8-d53e-493a-84d1-1f953c226f2f"
   },
   "outputs": [],
   "source": [
    "detector.download_corpus(url='https://raw.githubusercontent.com/nlp-unibo/nlp-course-material/refs/heads/main/2024-2025/Assignment%201/data/training.json', filename='training.json')\n",
    "detector.download_corpus(url='https://raw.githubusercontent.com/nlp-unibo/nlp-course-material/refs/heads/main/2024-2025/Assignment%201/data/test.json', filename='test.json')\n",
    "detector.download_corpus(url='https://raw.githubusercontent.com/nlp-unibo/nlp-course-material/refs/heads/main/2024-2025/Assignment%201/data/validation.json', filename='validation.json')"
   ]
  },
  {
   "cell_type": "markdown",
   "metadata": {
    "id": "OlbBn1uh-bQy"
   },
   "source": [
    "### Load the JSON files and encode them as a DataFrame\n",
    "\n",
    "Then we load the JSON files and encode them as a DataFrame. The `load_corpus` method is used to load the data from the JSON files and encode them as a DataFrame."
   ]
  },
  {
   "cell_type": "code",
   "execution_count": 8,
   "metadata": {
    "id": "xffrWnDg-bQz"
   },
   "outputs": [],
   "source": [
    "train = detector.load_corpus('training.json', orient='index', encoding='utf-8')\n",
    "test = detector.load_corpus('test.json', orient='index', encoding='utf-8')\n",
    "val = detector.load_corpus('validation.json', orient='index', encoding='utf-8')"
   ]
  },
  {
   "cell_type": "markdown",
   "metadata": {},
   "source": [
    "We can also inspect the first rows of the DataFrame to have an idea of the data we are working with."
   ]
  },
  {
   "cell_type": "code",
   "execution_count": 9,
   "metadata": {
    "colab": {
     "base_uri": "https://localhost:8080/",
     "height": 328
    },
    "id": "R-Iddy7j-bQ0",
    "outputId": "88348604-f1bd-4011-db76-7b1deb4cca67"
   },
   "outputs": [
    {
     "data": {
      "text/html": [
       "<div>\n",
       "<style scoped>\n",
       "    .dataframe tbody tr th:only-of-type {\n",
       "        vertical-align: middle;\n",
       "    }\n",
       "\n",
       "    .dataframe tbody tr th {\n",
       "        vertical-align: top;\n",
       "    }\n",
       "\n",
       "    .dataframe thead th {\n",
       "        text-align: right;\n",
       "    }\n",
       "</style>\n",
       "<table border=\"1\" class=\"dataframe\">\n",
       "  <thead>\n",
       "    <tr style=\"text-align: right;\">\n",
       "      <th></th>\n",
       "      <th>id_EXIST</th>\n",
       "      <th>lang</th>\n",
       "      <th>tweet</th>\n",
       "      <th>number_annotators</th>\n",
       "      <th>annotators</th>\n",
       "      <th>gender_annotators</th>\n",
       "      <th>age_annotators</th>\n",
       "      <th>labels_task1</th>\n",
       "      <th>labels_task2</th>\n",
       "      <th>labels_task3</th>\n",
       "      <th>split</th>\n",
       "    </tr>\n",
       "  </thead>\n",
       "  <tbody>\n",
       "    <tr>\n",
       "      <th>100001</th>\n",
       "      <td>100001</td>\n",
       "      <td>es</td>\n",
       "      <td>@TheChiflis Ignora al otro, es un capullo.El p...</td>\n",
       "      <td>6</td>\n",
       "      <td>[Annotator_1, Annotator_2, Annotator_3, Annota...</td>\n",
       "      <td>[F, F, F, M, M, M]</td>\n",
       "      <td>[18-22, 23-45, 46+, 46+, 23-45, 18-22]</td>\n",
       "      <td>[YES, YES, NO, YES, YES, YES]</td>\n",
       "      <td>[REPORTED, JUDGEMENTAL, -, REPORTED, JUDGEMENT...</td>\n",
       "      <td>[[OBJECTIFICATION], [OBJECTIFICATION, SEXUAL-V...</td>\n",
       "      <td>TRAIN_ES</td>\n",
       "    </tr>\n",
       "    <tr>\n",
       "      <th>100002</th>\n",
       "      <td>100002</td>\n",
       "      <td>es</td>\n",
       "      <td>@ultimonomada_ Si comicsgate se parece en algo...</td>\n",
       "      <td>6</td>\n",
       "      <td>[Annotator_7, Annotator_8, Annotator_9, Annota...</td>\n",
       "      <td>[F, F, F, M, M, M]</td>\n",
       "      <td>[18-22, 23-45, 46+, 46+, 23-45, 18-22]</td>\n",
       "      <td>[NO, NO, NO, NO, YES, NO]</td>\n",
       "      <td>[-, -, -, -, DIRECT, -]</td>\n",
       "      <td>[[-], [-], [-], [-], [OBJECTIFICATION], [-]]</td>\n",
       "      <td>TRAIN_ES</td>\n",
       "    </tr>\n",
       "    <tr>\n",
       "      <th>100003</th>\n",
       "      <td>100003</td>\n",
       "      <td>es</td>\n",
       "      <td>@Steven2897 Lee sobre Gamergate, y como eso ha...</td>\n",
       "      <td>6</td>\n",
       "      <td>[Annotator_7, Annotator_8, Annotator_9, Annota...</td>\n",
       "      <td>[F, F, F, M, M, M]</td>\n",
       "      <td>[18-22, 23-45, 46+, 46+, 23-45, 18-22]</td>\n",
       "      <td>[NO, NO, NO, NO, NO, NO]</td>\n",
       "      <td>[-, -, -, -, -, -]</td>\n",
       "      <td>[[-], [-], [-], [-], [-], [-]]</td>\n",
       "      <td>TRAIN_ES</td>\n",
       "    </tr>\n",
       "    <tr>\n",
       "      <th>100004</th>\n",
       "      <td>100004</td>\n",
       "      <td>es</td>\n",
       "      <td>@Lunariita7 Un retraso social bastante lamenta...</td>\n",
       "      <td>6</td>\n",
       "      <td>[Annotator_13, Annotator_14, Annotator_15, Ann...</td>\n",
       "      <td>[F, F, F, M, M, M]</td>\n",
       "      <td>[18-22, 23-45, 46+, 46+, 23-45, 18-22]</td>\n",
       "      <td>[NO, NO, YES, NO, YES, YES]</td>\n",
       "      <td>[-, -, DIRECT, -, REPORTED, REPORTED]</td>\n",
       "      <td>[[-], [-], [IDEOLOGICAL-INEQUALITY], [-], [IDE...</td>\n",
       "      <td>TRAIN_ES</td>\n",
       "    </tr>\n",
       "    <tr>\n",
       "      <th>100005</th>\n",
       "      <td>100005</td>\n",
       "      <td>es</td>\n",
       "      <td>@novadragon21 @icep4ck @TvDannyZ Entonces como...</td>\n",
       "      <td>6</td>\n",
       "      <td>[Annotator_19, Annotator_20, Annotator_21, Ann...</td>\n",
       "      <td>[F, F, F, M, M, M]</td>\n",
       "      <td>[18-22, 23-45, 46+, 46+, 23-45, 18-22]</td>\n",
       "      <td>[YES, NO, YES, NO, YES, YES]</td>\n",
       "      <td>[REPORTED, -, JUDGEMENTAL, -, JUDGEMENTAL, DIR...</td>\n",
       "      <td>[[STEREOTYPING-DOMINANCE, OBJECTIFICATION], [-...</td>\n",
       "      <td>TRAIN_ES</td>\n",
       "    </tr>\n",
       "  </tbody>\n",
       "</table>\n",
       "</div>"
      ],
      "text/plain": [
       "        id_EXIST lang                                              tweet  \\\n",
       "100001    100001   es  @TheChiflis Ignora al otro, es un capullo.El p...   \n",
       "100002    100002   es  @ultimonomada_ Si comicsgate se parece en algo...   \n",
       "100003    100003   es  @Steven2897 Lee sobre Gamergate, y como eso ha...   \n",
       "100004    100004   es  @Lunariita7 Un retraso social bastante lamenta...   \n",
       "100005    100005   es  @novadragon21 @icep4ck @TvDannyZ Entonces como...   \n",
       "\n",
       "        number_annotators                                         annotators  \\\n",
       "100001                  6  [Annotator_1, Annotator_2, Annotator_3, Annota...   \n",
       "100002                  6  [Annotator_7, Annotator_8, Annotator_9, Annota...   \n",
       "100003                  6  [Annotator_7, Annotator_8, Annotator_9, Annota...   \n",
       "100004                  6  [Annotator_13, Annotator_14, Annotator_15, Ann...   \n",
       "100005                  6  [Annotator_19, Annotator_20, Annotator_21, Ann...   \n",
       "\n",
       "         gender_annotators                          age_annotators  \\\n",
       "100001  [F, F, F, M, M, M]  [18-22, 23-45, 46+, 46+, 23-45, 18-22]   \n",
       "100002  [F, F, F, M, M, M]  [18-22, 23-45, 46+, 46+, 23-45, 18-22]   \n",
       "100003  [F, F, F, M, M, M]  [18-22, 23-45, 46+, 46+, 23-45, 18-22]   \n",
       "100004  [F, F, F, M, M, M]  [18-22, 23-45, 46+, 46+, 23-45, 18-22]   \n",
       "100005  [F, F, F, M, M, M]  [18-22, 23-45, 46+, 46+, 23-45, 18-22]   \n",
       "\n",
       "                         labels_task1  \\\n",
       "100001  [YES, YES, NO, YES, YES, YES]   \n",
       "100002      [NO, NO, NO, NO, YES, NO]   \n",
       "100003       [NO, NO, NO, NO, NO, NO]   \n",
       "100004    [NO, NO, YES, NO, YES, YES]   \n",
       "100005   [YES, NO, YES, NO, YES, YES]   \n",
       "\n",
       "                                             labels_task2  \\\n",
       "100001  [REPORTED, JUDGEMENTAL, -, REPORTED, JUDGEMENT...   \n",
       "100002                            [-, -, -, -, DIRECT, -]   \n",
       "100003                                 [-, -, -, -, -, -]   \n",
       "100004              [-, -, DIRECT, -, REPORTED, REPORTED]   \n",
       "100005  [REPORTED, -, JUDGEMENTAL, -, JUDGEMENTAL, DIR...   \n",
       "\n",
       "                                             labels_task3     split  \n",
       "100001  [[OBJECTIFICATION], [OBJECTIFICATION, SEXUAL-V...  TRAIN_ES  \n",
       "100002       [[-], [-], [-], [-], [OBJECTIFICATION], [-]]  TRAIN_ES  \n",
       "100003                     [[-], [-], [-], [-], [-], [-]]  TRAIN_ES  \n",
       "100004  [[-], [-], [IDEOLOGICAL-INEQUALITY], [-], [IDE...  TRAIN_ES  \n",
       "100005  [[STEREOTYPING-DOMINANCE, OBJECTIFICATION], [-...  TRAIN_ES  "
      ]
     },
     "execution_count": 9,
     "metadata": {},
     "output_type": "execute_result"
    }
   ],
   "source": [
    "train.head()"
   ]
  },
  {
   "cell_type": "markdown",
   "metadata": {},
   "source": [
    "And of course we can also inspect the shape of the DataFrame to know how many rows and columns we have."
   ]
  },
  {
   "cell_type": "code",
   "execution_count": 10,
   "metadata": {
    "colab": {
     "base_uri": "https://localhost:8080/"
    },
    "id": "3PwyCeQc-bQ1",
    "outputId": "9aa93f6b-6440-467b-bb20-c66476331ed3"
   },
   "outputs": [
    {
     "data": {
      "text/plain": [
       "((6920, 11), (726, 11), (312, 11))"
      ]
     },
     "execution_count": 10,
     "metadata": {},
     "output_type": "execute_result"
    }
   ],
   "source": [
    "train.shape, val.shape, test.shape"
   ]
  },
  {
   "cell_type": "markdown",
   "metadata": {
    "id": "4fISdCga-bQ1"
   },
   "source": [
    "### Generate hard labels for Task 1 with majority voting\n",
    "\n",
    "The hard labels for Task 1 are generated with majority voting. The `majority_voting` method is used to generate the hard labels for Task 1 with majority voting. In case of a tie, the label is set to `NEUTRAL` allowing for later filtering of the data."
   ]
  },
  {
   "cell_type": "code",
   "execution_count": 11,
   "metadata": {
    "id": "jVfdt1mf-bQ1"
   },
   "outputs": [],
   "source": [
    "train['hard_label_task1'] = train['labels_task1'].apply(detector.majority_voting)\n",
    "val['hard_label_task1'] = val['labels_task1'].apply(detector.majority_voting)\n",
    "test['hard_label_task1'] = test['labels_task1'].apply(detector.majority_voting)"
   ]
  },
  {
   "cell_type": "markdown",
   "metadata": {
    "id": "iNSfxEqA-bQ2"
   },
   "source": [
    "### Filter the DataFrame for only english tweets and remove unclear tweets\n",
    "\n",
    "Since the task requires to work only with English tweets, we filter the DataFrame for only English tweets. This can be easily done using basic pandas functionalities. Here we also removed all the rows with unclear labels (ties in the majority voting)."
   ]
  },
  {
   "cell_type": "code",
   "execution_count": 12,
   "metadata": {
    "id": "P3hE1ua_-bQ2"
   },
   "outputs": [],
   "source": [
    "train = train[(train['hard_label_task1'] != \"NEUTRAL\") & (train['lang'] == \"en\")]\n",
    "val = val[(val['hard_label_task1'] != \"NEUTRAL\") & (val['lang'] == \"en\")]\n",
    "test = test[(test['hard_label_task1'] != \"NEUTRAL\") & (test['lang'] == \"en\")]"
   ]
  },
  {
   "cell_type": "markdown",
   "metadata": {},
   "source": [
    "As we can see we have less rows than before, since we removed all the rows with unclear labels and all the rows with tweets in languages different from English."
   ]
  },
  {
   "cell_type": "code",
   "execution_count": 13,
   "metadata": {
    "colab": {
     "base_uri": "https://localhost:8080/"
    },
    "id": "js6SiYSY-bQ2",
    "outputId": "47337445-3fc6-4dce-a4a9-4fa120868285"
   },
   "outputs": [
    {
     "data": {
      "text/plain": [
       "((2870, 12), (158, 12), (286, 12))"
      ]
     },
     "execution_count": 13,
     "metadata": {},
     "output_type": "execute_result"
    }
   ],
   "source": [
    "train.shape, val.shape, test.shape"
   ]
  },
  {
   "cell_type": "markdown",
   "metadata": {
    "id": "edgN4FWb-bQ2"
   },
   "source": [
    "### Remove unwanted columns\n",
    "\n",
    "After that, we remove the unwanted columns from the DataFrame to keep only the columns we need for the task (the text of the tweet and the hard labels)."
   ]
  },
  {
   "cell_type": "code",
   "execution_count": 14,
   "metadata": {
    "id": "lFUcf_Ii-bQ3"
   },
   "outputs": [],
   "source": [
    "train = train[detector.columns_to_maintain]\n",
    "val = val[detector.columns_to_maintain]\n",
    "test = test[detector.columns_to_maintain]"
   ]
  },
  {
   "cell_type": "code",
   "execution_count": 15,
   "metadata": {
    "colab": {
     "base_uri": "https://localhost:8080/",
     "height": 206
    },
    "id": "BEe_i8hJ-bQ3",
    "outputId": "72ad859e-1832-4bcf-af78-47767dec7248"
   },
   "outputs": [
    {
     "data": {
      "text/html": [
       "<div>\n",
       "<style scoped>\n",
       "    .dataframe tbody tr th:only-of-type {\n",
       "        vertical-align: middle;\n",
       "    }\n",
       "\n",
       "    .dataframe tbody tr th {\n",
       "        vertical-align: top;\n",
       "    }\n",
       "\n",
       "    .dataframe thead th {\n",
       "        text-align: right;\n",
       "    }\n",
       "</style>\n",
       "<table border=\"1\" class=\"dataframe\">\n",
       "  <thead>\n",
       "    <tr style=\"text-align: right;\">\n",
       "      <th></th>\n",
       "      <th>id_EXIST</th>\n",
       "      <th>lang</th>\n",
       "      <th>tweet</th>\n",
       "      <th>hard_label_task1</th>\n",
       "    </tr>\n",
       "  </thead>\n",
       "  <tbody>\n",
       "    <tr>\n",
       "      <th>200002</th>\n",
       "      <td>200002</td>\n",
       "      <td>en</td>\n",
       "      <td>Writing a uni essay in my local pub with a cof...</td>\n",
       "      <td>YES</td>\n",
       "    </tr>\n",
       "    <tr>\n",
       "      <th>200003</th>\n",
       "      <td>200003</td>\n",
       "      <td>en</td>\n",
       "      <td>@UniversalORL it is 2021 not 1921. I dont appr...</td>\n",
       "      <td>YES</td>\n",
       "    </tr>\n",
       "    <tr>\n",
       "      <th>200006</th>\n",
       "      <td>200006</td>\n",
       "      <td>en</td>\n",
       "      <td>According to a customer I have plenty of time ...</td>\n",
       "      <td>YES</td>\n",
       "    </tr>\n",
       "    <tr>\n",
       "      <th>200007</th>\n",
       "      <td>200007</td>\n",
       "      <td>en</td>\n",
       "      <td>So only 'blokes' drink beer? Sorry, but if you...</td>\n",
       "      <td>YES</td>\n",
       "    </tr>\n",
       "    <tr>\n",
       "      <th>200008</th>\n",
       "      <td>200008</td>\n",
       "      <td>en</td>\n",
       "      <td>New to the shelves this week - looking forward...</td>\n",
       "      <td>NO</td>\n",
       "    </tr>\n",
       "  </tbody>\n",
       "</table>\n",
       "</div>"
      ],
      "text/plain": [
       "        id_EXIST lang                                              tweet  \\\n",
       "200002    200002   en  Writing a uni essay in my local pub with a cof...   \n",
       "200003    200003   en  @UniversalORL it is 2021 not 1921. I dont appr...   \n",
       "200006    200006   en  According to a customer I have plenty of time ...   \n",
       "200007    200007   en  So only 'blokes' drink beer? Sorry, but if you...   \n",
       "200008    200008   en  New to the shelves this week - looking forward...   \n",
       "\n",
       "       hard_label_task1  \n",
       "200002              YES  \n",
       "200003              YES  \n",
       "200006              YES  \n",
       "200007              YES  \n",
       "200008               NO  "
      ]
     },
     "execution_count": 15,
     "metadata": {},
     "output_type": "execute_result"
    }
   ],
   "source": [
    "train.head()"
   ]
  },
  {
   "cell_type": "markdown",
   "metadata": {
    "id": "C1vO0qNe-bQ3"
   },
   "source": [
    "### Encode the hard labels column as integers\n",
    "\n",
    "Finally, we encode the hard labels column as integers. This is done to have the labels in a format that can be used by the model."
   ]
  },
  {
   "cell_type": "code",
   "execution_count": 16,
   "metadata": {
    "id": "_vKw9ugP-bQ3"
   },
   "outputs": [],
   "source": [
    "train['hard_label_task1'] = train['hard_label_task1'].apply(lambda x: 1 if x == \"YES\" else 0)\n",
    "val['hard_label_task1'] = val['hard_label_task1'].apply(lambda x: 1 if x == \"YES\" else 0)\n",
    "test['hard_label_task1'] = test['hard_label_task1'].apply(lambda x: 1 if x == \"YES\" else 0)"
   ]
  },
  {
   "cell_type": "markdown",
   "metadata": {},
   "source": [
    "The distribution of the labels is also shown to have an idea of the distribution of the labels in the dataset. As we can see there are more non-sexist tweets than sexist tweets in a ratio of 60:40. This is important to know since it can affect the performance of the model."
   ]
  },
  {
   "cell_type": "code",
   "execution_count": 17,
   "metadata": {
    "colab": {
     "base_uri": "https://localhost:8080/",
     "height": 178
    },
    "id": "QYpFYiwx-bQ4",
    "outputId": "30ddc74f-0bd3-4d68-8b3f-1227d4c3cc45"
   },
   "outputs": [
    {
     "data": {
      "image/png": "[encoded data removed]",
      "text/plain": [
       "<Figure size 640x480 with 1 Axes>"
      ]
     },
     "metadata": {},
     "output_type": "display_data"
    }
   ],
   "source": [
    "train.hard_label_task1.value_counts(normalize=True).plot(kind='bar', title='Train', color=['green', 'red'], alpha=0.7)\n",
    "plt.show()"
   ]
  },
  {
   "cell_type": "markdown",
   "metadata": {
    "id": "D_qchDt7-bQ4"
   },
   "source": [
    "# Task 2: Data Cleaning\n",
    "\n",
    "1. Remove emojis\n",
    "2. Remove hashtags (e.g. #metoo)\n",
    "3. Remove mentions (e.g. @user)\n",
    "4. Remove URLs\n",
    "5. Remove special characters and symbols\n",
    "6. Remove specific quote characters (e.g. curly quotes)\n",
    "7. Perform lemmatization\n",
    "\n",
    ">**Bonus**: use other preprocessing strategies exploring techniques tailored specifically for tweets or methods that are common in social media text processing."
   ]
  },
  {
   "cell_type": "markdown",
   "metadata": {
    "id": "CPZ_A3ek-bQ4"
   },
   "source": [
    "The way to go (priority order) is the following:\n",
    "1. Remove URLs\n",
    "2. Remove mentions\n",
    "3. Remove hashtags\n",
    "4. Remove emojis\n",
    "5. Remove special characters\n",
    "6. Remove specific quote characters\n",
    "7. Perform lemmatization"
   ]
  },
  {
   "cell_type": "markdown",
   "metadata": {},
   "source": [
    "We will take a copy of the original text to compare the original text with the cleaned text."
   ]
  },
  {
   "cell_type": "code",
   "execution_count": 18,
   "metadata": {
    "id": "vyKl2917-bQ4"
   },
   "outputs": [],
   "source": [
    "original_train = train.copy()"
   ]
  },
  {
   "cell_type": "markdown",
   "metadata": {},
   "source": [
    "Then we can apply all the preprocessing steps to the text as described above (in that order)."
   ]
  },
  {
   "cell_type": "code",
   "execution_count": 19,
   "metadata": {
    "id": "xtI27hJo-bQ4"
   },
   "outputs": [],
   "source": [
    "train['tweet'] = train['tweet'].apply(detector.preprocess_text)\n",
    "val['tweet'] = val['tweet'].apply(detector.preprocess_text)\n",
    "test['tweet'] = test['tweet'].apply(detector.preprocess_text)"
   ]
  },
  {
   "cell_type": "markdown",
   "metadata": {
    "id": "yFOqFd6i-bQ6"
   },
   "source": [
    "### Perform lemmatization\n",
    "\n",
    "The lemmatization is performed using the `nltk` library. The `lemmatize` method is used to perform the lemmatization of the text. The lemmatization is performed on the cleaned text and takes a bit since it has to process all the words in the text."
   ]
  },
  {
   "cell_type": "code",
   "execution_count": 20,
   "metadata": {
    "colab": {
     "base_uri": "https://localhost:8080/"
    },
    "id": "lu1toksv-bQ6",
    "outputId": "989c4b96-825d-4f4b-f8dc-e3355ef57098"
   },
   "outputs": [],
   "source": [
    "train['tweet'] = train['tweet'].apply(detector.lemmatize_text)\n",
    "val['tweet'] = val['tweet'].apply(detector.lemmatize_text)\n",
    "test['tweet'] = test['tweet'].apply(detector.lemmatize_text)"
   ]
  },
  {
   "cell_type": "markdown",
   "metadata": {
    "id": "8R-fL1sl-bQ7"
   },
   "source": [
    "### Cast text to lowercase\n",
    "\n",
    "The text is cast to lowercase to ensure that the model does not learn to distinguish between words based on the case of the letters (uncased)."
   ]
  },
  {
   "cell_type": "code",
   "execution_count": 21,
   "metadata": {
    "id": "Ku484oN9-bQ7"
   },
   "outputs": [],
   "source": [
    "train['tweet'] = train['tweet'].str.lower()\n",
    "val['tweet'] = val['tweet'].str.lower()\n",
    "test['tweet'] = test['tweet'].str.lower()"
   ]
  },
  {
   "cell_type": "markdown",
   "metadata": {
    "id": "dFbPle-9-bQ8"
   },
   "source": [
    "### Show the difference between the original and cleaned text\n",
    "\n",
    "We can also inspect the difference between the original and cleaned text to see the effect of the preprocessing steps. As we can see the preprocessing steps have removed all the unwanted elements from the text and now the text is clean and ready to be used by the model."
   ]
  },
  {
   "cell_type": "code",
   "execution_count": 22,
   "metadata": {
    "colab": {
     "base_uri": "https://localhost:8080/"
    },
    "id": "TURQi4uE-bQ8",
    "outputId": "c3a747a3-7bb4-4bd6-9ea5-98824fa677f9"
   },
   "outputs": [
    {
     "name": "stdout",
     "output_type": "stream",
     "text": [
      "Original tweet:\n",
      "@YouFugazi He was abusive.  He was the problem.  Porsha's got issues but she didn't deserve mental and physical abuse or to grieve the loss of her child alone.\n",
      "Processed tweet:\n",
      "he wa abusive he wa the problem porsha s got issue but she didn t deserve mental and physical abuse or to grieve the loss of her child alone\n"
     ]
    }
   ],
   "source": [
    "detector.text_diff(preprocessed_text=train, original_text=original_train, random=True)"
   ]
  },
  {
   "cell_type": "markdown",
   "metadata": {
    "id": "50Cj7hDE-bQ9"
   },
   "source": [
    "# Task 3: Text Encoding\n",
    "\n",
    "* Embed words using GloVe embeddings."
   ]
  },
  {
   "cell_type": "markdown",
   "metadata": {
    "id": "e3m8P2pe-bQ-"
   },
   "source": [
    "### Embed words using GloVe embeddings\n",
    "\n",
    "The pretrained GloVe embeddings are used to embed the words in the text. First we download the GloVe embeddings using the `gensim` library. We choose as embedding dimension 100 since it is a common choice for embeddings [CITE SOME SOURCE HERE]. The specific model is the `glove-twitter-100` which is trained on Twitter data. Our intuition is that this model will perform better on tweets than other models trained on different data due to the fact that the language used in tweets is different from the language used in other types of text. In this way we can leverage the specific language used in tweets to improve the performance of the model and also reduce the number of out-of-vocabulary words (which is a common problem when using pretrained embeddings).\n",
    "\n",
    "The vocabulary of the `glove-twitter-100` model is very large and contains many words but we are just using a subset of the words in the vocabulary. This is because we are using the words in the tweets and not all the words in the vocabulary are used in the tweets. At the end even if the vocabulary is large we are using only a small subset of the words in the vocabulary. Moreover, we are not interested in backpropagating the gradients to the embeddings so we can use the embeddings as they are without any problem on the computational side."
   ]
  },
  {
   "cell_type": "code",
   "execution_count": 23,
   "metadata": {
    "colab": {
     "base_uri": "https://localhost:8080/"
    },
    "id": "vEGg4Jvp-bQ-",
    "outputId": "0b17a196-4f96-4b5e-8da3-3ccfe078924f"
   },
   "outputs": [
    {
     "name": "stdout",
     "output_type": "stream",
     "text": [
      "Vocabulary size: 1193514\n"
     ]
    }
   ],
   "source": [
    "emb_model = detector.load_glove(model_name='glove-twitter', embedding_dim=EMBEDDING_DIM)\n",
    "print(f\"Vocabulary size: {len(emb_model.key_to_index)}\")"
   ]
  },
  {
   "cell_type": "markdown",
   "metadata": {
    "id": "uhw6t0-hKy_0"
   },
   "source": [
    "Get the training vocabulary and generate the list of words appearing in the training set. We can extract the two ordered dictionaries (train_idx_to_word, train_word_to_idx) as well as the list of words appearing in the training set."
   ]
  },
  {
   "cell_type": "code",
   "execution_count": 24,
   "metadata": {
    "id": "JJEQVEKJLcKF"
   },
   "outputs": [],
   "source": [
    "train_idx_to_word, train_word_to_idx, train_word_listing = detector.get_vocab(train)"
   ]
  },
  {
   "cell_type": "markdown",
   "metadata": {
    "id": "KpCHzEq5Ky_0"
   },
   "source": [
    "We can inspect how many words in the training set are not in the GloVe vocabulary. This can be conveniente to assess the coverage of the GloVe embeddings on the training set. From our analysis we can see that the coverage using the GloVe embeddings model `glove-twitter-100` is better with respect to the model `glove-wiki-gigaword-100` which is trained on Wikipedia data. The actual difference is not so big (around 1%) but it can be important to have a good coverage of the embeddings on the training set. Moreover, such statistics do not take into account any possible difference in the quality of the embeddings which can be important to have a good performance of the model. The 1% difference might not be so important but the position of the words in the embeddings can be important to have a good performance of the model."
   ]
  },
  {
   "cell_type": "code",
   "execution_count": 25,
   "metadata": {
    "colab": {
     "base_uri": "https://localhost:8080/"
    },
    "id": "jJ3bEuo3Ky_0",
    "outputId": "9f110f85-82cc-478a-8e76-33bdcb09c742"
   },
   "outputs": [
    {
     "name": "stdout",
     "output_type": "stream",
     "text": [
      "Total OOV terms: 791 (8.03%)\n"
     ]
    }
   ],
   "source": [
    "detector.get_oov_stats(emb_model, train_word_listing)"
   ]
  },
  {
   "cell_type": "markdown",
   "metadata": {
    "id": "KbFJl09CKy_1"
   },
   "source": [
    "We can also inspect what are these OOV words to have an idea of the words that are not in the GloVe vocabulary. As we can see the words that are not in the GloVe vocabulary are mostly rare words that are not so common in the English language or Twitter memes/slang. This is important to know since it can affect the performance of the model. The model will not be able to learn the embeddings for these words and will have to rely on the embeddings of similar words which can affect the performance of the model."
   ]
  },
  {
   "cell_type": "code",
   "execution_count": 26,
   "metadata": {
    "colab": {
     "base_uri": "https://localhost:8080/"
    },
    "id": "iXGncwVDKy_1",
    "outputId": "a0b526b7-3c38-456d-ce84-35976bb19ec0"
   },
   "outputs": [
    {
     "data": {
      "text/plain": [
       "['steroided', 'internationalism', 'ranchu', 'yessssss', 'nonary']"
      ]
     },
     "execution_count": 26,
     "metadata": {},
     "output_type": "execute_result"
    }
   ],
   "source": [
    "list(detector.get_oov(emb_model, train_word_listing))[:5]"
   ]
  },
  {
   "cell_type": "markdown",
   "metadata": {},
   "source": [
    "Now, in order to deal with these OOV token we first thought of assigning a random vector to them. However, such choice might not be the best since the model will learn to distinguish between the OOV tokens and the other tokens based on the embeddings. This is not what we want since the OOV tokens are not different from the other tokens in the vocabulary.\n",
    "\n",
    "A smarter approach would be to extract the co-occurrence matrix from the training set and use it to generate the embeddings for the OOV tokens. Given a window size, we can extract the co-occurrence matrix and then use it to generate the embeddings for the OOV tokens. Whenever we encounter an OOV token we can define as embedding vector the average of the embeddings of the most frequent words that co-occur with the OOV token. This way we can generate the embeddings for the OOV tokens and have a better performance of the model since such OOV tokens will have embeddings that are similar to the embeddings of the words that co-occur with them (the similarity is indeed based on the co-occurrence matrix and on the average of the embedding vectors).\n",
    "\n",
    "The latter is the approach we will use to generate the embeddings for the OOV tokens. We will use a window size of 10 to extract the co-occurrence matrix and generate the embeddings for the OOV tokens."
   ]
  },
  {
   "cell_type": "code",
   "execution_count": 27,
   "metadata": {
    "colab": {
     "base_uri": "https://localhost:8080/",
     "height": 253
    },
    "id": "YGnlKq42Ky_2",
    "outputId": "f4beaacd-b67c-4ac8-b6e7-a247014a9a82"
   },
   "outputs": [
    {
     "name": "stderr",
     "output_type": "stream",
     "text": [
      "100%|██████████| 2870/2870 [00:06<00:00, 467.81it/s]\n"
     ]
    },
    {
     "data": {
      "text/html": [
       "<div>\n",
       "<style scoped>\n",
       "    .dataframe tbody tr th:only-of-type {\n",
       "        vertical-align: middle;\n",
       "    }\n",
       "\n",
       "    .dataframe tbody tr th {\n",
       "        vertical-align: top;\n",
       "    }\n",
       "\n",
       "    .dataframe thead th {\n",
       "        text-align: right;\n",
       "    }\n",
       "</style>\n",
       "<table border=\"1\" class=\"dataframe\">\n",
       "  <thead>\n",
       "    <tr style=\"text-align: right;\">\n",
       "      <th></th>\n",
       "      <th>writing</th>\n",
       "      <th>a</th>\n",
       "      <th>uni</th>\n",
       "      <th>essay</th>\n",
       "      <th>in</th>\n",
       "      <th>my</th>\n",
       "      <th>local</th>\n",
       "      <th>pub</th>\n",
       "      <th>with</th>\n",
       "      <th>coffee</th>\n",
       "      <th>...</th>\n",
       "      <th>armor</th>\n",
       "      <th>dragoon</th>\n",
       "      <th>estinen</th>\n",
       "      <th>nike</th>\n",
       "      <th>coochie</th>\n",
       "      <th>mutuals</th>\n",
       "      <th>owns</th>\n",
       "      <th>grabs</th>\n",
       "      <th>lh</th>\n",
       "      <th>mandy</th>\n",
       "    </tr>\n",
       "  </thead>\n",
       "  <tbody>\n",
       "    <tr>\n",
       "      <th>writing</th>\n",
       "      <td>2.0</td>\n",
       "      <td>14.0</td>\n",
       "      <td>1.0</td>\n",
       "      <td>2.0</td>\n",
       "      <td>5.0</td>\n",
       "      <td>3.0</td>\n",
       "      <td>1.0</td>\n",
       "      <td>1.0</td>\n",
       "      <td>3.0</td>\n",
       "      <td>1.0</td>\n",
       "      <td>...</td>\n",
       "      <td>0.0</td>\n",
       "      <td>0.0</td>\n",
       "      <td>0.0</td>\n",
       "      <td>0.0</td>\n",
       "      <td>0.0</td>\n",
       "      <td>0.0</td>\n",
       "      <td>0.0</td>\n",
       "      <td>0.0</td>\n",
       "      <td>0.0</td>\n",
       "      <td>0.0</td>\n",
       "    </tr>\n",
       "    <tr>\n",
       "      <th>a</th>\n",
       "      <td>14.0</td>\n",
       "      <td>1284.0</td>\n",
       "      <td>2.0</td>\n",
       "      <td>2.0</td>\n",
       "      <td>429.0</td>\n",
       "      <td>140.0</td>\n",
       "      <td>3.0</td>\n",
       "      <td>2.0</td>\n",
       "      <td>225.0</td>\n",
       "      <td>6.0</td>\n",
       "      <td>...</td>\n",
       "      <td>1.0</td>\n",
       "      <td>0.0</td>\n",
       "      <td>1.0</td>\n",
       "      <td>1.0</td>\n",
       "      <td>1.0</td>\n",
       "      <td>1.0</td>\n",
       "      <td>0.0</td>\n",
       "      <td>0.0</td>\n",
       "      <td>1.0</td>\n",
       "      <td>2.0</td>\n",
       "    </tr>\n",
       "    <tr>\n",
       "      <th>uni</th>\n",
       "      <td>1.0</td>\n",
       "      <td>2.0</td>\n",
       "      <td>0.0</td>\n",
       "      <td>1.0</td>\n",
       "      <td>1.0</td>\n",
       "      <td>1.0</td>\n",
       "      <td>1.0</td>\n",
       "      <td>1.0</td>\n",
       "      <td>1.0</td>\n",
       "      <td>1.0</td>\n",
       "      <td>...</td>\n",
       "      <td>0.0</td>\n",
       "      <td>0.0</td>\n",
       "      <td>0.0</td>\n",
       "      <td>0.0</td>\n",
       "      <td>0.0</td>\n",
       "      <td>0.0</td>\n",
       "      <td>0.0</td>\n",
       "      <td>0.0</td>\n",
       "      <td>0.0</td>\n",
       "      <td>0.0</td>\n",
       "    </tr>\n",
       "    <tr>\n",
       "      <th>essay</th>\n",
       "      <td>2.0</td>\n",
       "      <td>2.0</td>\n",
       "      <td>1.0</td>\n",
       "      <td>0.0</td>\n",
       "      <td>2.0</td>\n",
       "      <td>2.0</td>\n",
       "      <td>1.0</td>\n",
       "      <td>1.0</td>\n",
       "      <td>1.0</td>\n",
       "      <td>1.0</td>\n",
       "      <td>...</td>\n",
       "      <td>0.0</td>\n",
       "      <td>0.0</td>\n",
       "      <td>0.0</td>\n",
       "      <td>0.0</td>\n",
       "      <td>0.0</td>\n",
       "      <td>0.0</td>\n",
       "      <td>0.0</td>\n",
       "      <td>0.0</td>\n",
       "      <td>0.0</td>\n",
       "      <td>0.0</td>\n",
       "    </tr>\n",
       "    <tr>\n",
       "      <th>in</th>\n",
       "      <td>5.0</td>\n",
       "      <td>429.0</td>\n",
       "      <td>1.0</td>\n",
       "      <td>2.0</td>\n",
       "      <td>174.0</td>\n",
       "      <td>92.0</td>\n",
       "      <td>3.0</td>\n",
       "      <td>1.0</td>\n",
       "      <td>92.0</td>\n",
       "      <td>4.0</td>\n",
       "      <td>...</td>\n",
       "      <td>0.0</td>\n",
       "      <td>0.0</td>\n",
       "      <td>0.0</td>\n",
       "      <td>0.0</td>\n",
       "      <td>0.0</td>\n",
       "      <td>0.0</td>\n",
       "      <td>0.0</td>\n",
       "      <td>0.0</td>\n",
       "      <td>0.0</td>\n",
       "      <td>0.0</td>\n",
       "    </tr>\n",
       "  </tbody>\n",
       "</table>\n",
       "<p>5 rows × 9856 columns</p>\n",
       "</div>"
      ],
      "text/plain": [
       "         writing       a  uni  essay     in     my  local  pub   with  coffee  \\\n",
       "writing      2.0    14.0  1.0    2.0    5.0    3.0    1.0  1.0    3.0     1.0   \n",
       "a           14.0  1284.0  2.0    2.0  429.0  140.0    3.0  2.0  225.0     6.0   \n",
       "uni          1.0     2.0  0.0    1.0    1.0    1.0    1.0  1.0    1.0     1.0   \n",
       "essay        2.0     2.0  1.0    0.0    2.0    2.0    1.0  1.0    1.0     1.0   \n",
       "in           5.0   429.0  1.0    2.0  174.0   92.0    3.0  1.0   92.0     4.0   \n",
       "\n",
       "         ...  armor  dragoon  estinen  nike  coochie  mutuals  owns  grabs  \\\n",
       "writing  ...    0.0      0.0      0.0   0.0      0.0      0.0   0.0    0.0   \n",
       "a        ...    1.0      0.0      1.0   1.0      1.0      1.0   0.0    0.0   \n",
       "uni      ...    0.0      0.0      0.0   0.0      0.0      0.0   0.0    0.0   \n",
       "essay    ...    0.0      0.0      0.0   0.0      0.0      0.0   0.0    0.0   \n",
       "in       ...    0.0      0.0      0.0   0.0      0.0      0.0   0.0    0.0   \n",
       "\n",
       "          lh  mandy  \n",
       "writing  0.0    0.0  \n",
       "a        1.0    2.0  \n",
       "uni      0.0    0.0  \n",
       "essay    0.0    0.0  \n",
       "in       0.0    0.0  \n",
       "\n",
       "[5 rows x 9856 columns]"
      ]
     },
     "execution_count": 27,
     "metadata": {},
     "output_type": "execute_result"
    }
   ],
   "source": [
    "co_occurrence_matrix = detector.co_occurrence_count(train, train_idx_to_word, train_word_to_idx, window_size=10)\n",
    "co_occurrence_df = detector.co_occurrence_dataframe(co_occurrence_matrix, train_idx_to_word)\n",
    "co_occurrence_df.head()"
   ]
  },
  {
   "cell_type": "markdown",
   "metadata": {
    "id": "JBh5xZruKy_2"
   },
   "source": [
    "After computing the co-occurrence matrix we decided to combine the training set vocabulary with the GloVe vocabulary and generate the embedding vectors for the words in the training set that do not appear in the GloVe vocabulary. This is done to have a better coverage of the embeddings on the training set and to have a better performance of the model. The embeddings for the OOV tokens are generated using the co-occurrence matrix and the average of the embeddings of the most frequent words that co-occur with the OOV tokens."
   ]
  },
  {
   "cell_type": "code",
   "execution_count": 28,
   "metadata": {
    "colab": {
     "base_uri": "https://localhost:8080/"
    },
    "id": "fnNshkRb-bRF",
    "outputId": "8955f7c0-616f-4f5e-8159-78083807c6da"
   },
   "outputs": [
    {
     "name": "stdout",
     "output_type": "stream",
     "text": [
      "Saving vocab to data/vocab.json\n",
      "Vocab saved!\n"
     ]
    }
   ],
   "source": [
    "emb_model_augmented = detector.get_augmented_vocab(emb_model, train_words=train_word_listing, co_occurrence_df=co_occurrence_df, save=True)"
   ]
  },
  {
   "cell_type": "markdown",
   "metadata": {
    "id": "n03FoiSbKy_2"
   },
   "source": [
    "At this point, we can just create our embe"
   ]
  },
  {
   "cell_type": "code",
   "execution_count": 29,
   "metadata": {
    "colab": {
     "base_uri": "https://localhost:8080/"
    },
    "id": "yRw9DQEq-bRG",
    "outputId": "ec160585-d357-4c4c-ee3a-946279fac9e5"
   },
   "outputs": [],
   "source": [
    "### Create the embeddings matrix\n",
    "#vocab_size = len(train_word_listing) + 2 # +2 for the UNK and PAD tokens\n",
    "\n",
    "#embedding_matrix = np.zeros((vocab_size, EMBEDDING_DIM), dtype=np.float32)\n",
    "#idx = 0\n",
    "#for word in tqdm(train_word_listing):\n",
    "#    embedding_matrix[idx] = emb_model_augmented.get_vector(word)\n",
    "#    idx += 1\n",
    "\n",
    "# We only add the UNK token to the embedding matrix since the PAD token is the vector of zeros and it is already in the matrix (np.zeros initialization)\n",
    "#embedding_matrix[idx] = emb_model_augmented.get_vector(detector.UNK_TOKEN)\n",
    "#embedding_matrix.shape"
   ]
  },
  {
   "cell_type": "code",
   "execution_count": 30,
   "metadata": {},
   "outputs": [
    {
     "data": {
      "text/plain": [
       "(1194307, 50)"
      ]
     },
     "execution_count": 30,
     "metadata": {},
     "output_type": "execute_result"
    }
   ],
   "source": [
    "embedding_matrix = emb_model_augmented.vectors\n",
    "embedding_matrix.shape"
   ]
  },
  {
   "cell_type": "markdown",
   "metadata": {
    "id": "ICIKBKz3Ky_3"
   },
   "source": [
    "We can also visualize the embeddings using UMAP (but this is optional)."
   ]
  },
  {
   "cell_type": "code",
   "execution_count": 32,
   "metadata": {
    "id": "FZvQAyL_-bRG"
   },
   "outputs": [],
   "source": [
    "# UMAP\n",
    "#reduced_embedding_umap = detector.reduce_umap(embedding_matrix)\n",
    "#detector.visualize_embeddings(reduced_embedding_umap, ['whore', 'woman', 'slut', 'girl', 'man', 'boy'], emb_model.key_to_index)\n",
    "\n",
    "#plt.show()"
   ]
  },
  {
   "cell_type": "markdown",
   "metadata": {
    "id": "0UUVw8lx-bRG"
   },
   "source": [
    "# Task 4: Model definition\n",
    "\n",
    "* Baseline: Implement a Bidirectional LSTM with a Dense layer on top.\n",
    "* Model 1: add an additional LSTM layer to the baseline model."
   ]
  },
  {
   "cell_type": "markdown",
   "metadata": {
    "id": "xpU6TmVd-bRG"
   },
   "source": [
    "### Baseline: Implement a Bidirectional LSTM with a Dense layer on top"
   ]
  },
  {
   "cell_type": "code",
   "execution_count": 33,
   "metadata": {
    "id": "QZCO79JTKy_4"
   },
   "outputs": [],
   "source": [
    "class BaselineModel(torch.nn.Module):\n",
    "    def __init__(self, embedding_model, hidden_dim, output_dim: int = 1, lstm_layers: int = 1):\n",
    "        super(BaselineModel, self).__init__()\n",
    "\n",
    "        self.hidden_dim = hidden_dim\n",
    "        self.lstm_layers = lstm_layers\n",
    "        self.hidden_dim = hidden_dim\n",
    "\n",
    "        self.word_embeddings = torch.nn.Embedding.from_pretrained(\n",
    "            embeddings=torch.from_numpy(embedding_model.vectors),\n",
    "            freeze=True,\n",
    "            padding_idx=9857\n",
    "        )\n",
    "        self.lstm = torch.nn.LSTM(input_size=embedding_model.vector_size, hidden_size=hidden_dim, bidirectional=True, num_layers=lstm_layers, batch_first=True)\n",
    "        self.fc = torch.nn.Linear(in_features=2 * hidden_dim, out_features=output_dim)\n",
    "\n",
    "        ## Weights initialization\n",
    "        def _weights_init(m):\n",
    "            if isinstance(m, torch.nn.Linear or torch.nn.LSTM):\n",
    "                torch.nn.init.xavier_normal_(m.weight)\n",
    "                m.bias.data.zero_()\n",
    "\n",
    "        self.apply(_weights_init)\n",
    "\n",
    "    def forward(self, inputs):\n",
    "        out = self.word_embeddings(inputs)\n",
    "\n",
    "        h = torch.zeros(2 * self.lstm_layers, inputs.size(0), self.hidden_dim).cuda()\n",
    "        c = torch.zeros(2 * self.lstm_layers, inputs.size(0), self.hidden_dim).cuda()\n",
    "\n",
    "        out, _ = self.lstm(out, (h,c))\n",
    "        out = self.fc(out[:,-1,:])\n",
    "        return out"
   ]
  },
  {
   "cell_type": "markdown",
   "metadata": {
    "id": "xLeJwOVBKy_4"
   },
   "source": [
    "# Task 5: Training and Evaluation\n",
    "\n",
    "* Train **all** models on the train set.\n",
    "* Evaluate **all** models on the validation set.\n",
    "* Compute metrics on the validation set.\n",
    "* Pick **at least** three seeds for robust estimation.\n",
    "* Pick the **best** performing model according to the observed validation set performance.\n",
    "* Evaluate your models using macro F1-score."
   ]
  },
  {
   "cell_type": "code",
   "execution_count": 34,
   "metadata": {
    "id": "LPzmHJYBKy_5"
   },
   "outputs": [],
   "source": [
    "train_dloader = detector.get_dataloader(data=train, embedding_model=emb_model_augmented, type='train', batch_size=BATCH_SIZE, shuffle=True)\n",
    "val_dloader = detector.get_dataloader(data=val, embedding_model=emb_model_augmented, type='val', batch_size=BATCH_SIZE, shuffle=False)\n",
    "test_dloader = detector.get_dataloader(data=test, embedding_model=emb_model_augmented, type='test', batch_size=BATCH_SIZE, shuffle=False)"
   ]
  },
  {
   "cell_type": "markdown",
   "metadata": {
    "id": "cBXBJcKKKy_5"
   },
   "source": [
    "# Baseline Model"
   ]
  },
  {
   "cell_type": "code",
   "execution_count": 35,
   "metadata": {
    "colab": {
     "base_uri": "https://localhost:8080/"
    },
    "id": "0VhF0XnbKy_5",
    "outputId": "aa04ac79-9a4a-42b9-cd39-ba1633e03b56"
   },
   "outputs": [
    {
     "data": {
      "text/plain": [
       "BaselineModel(\n",
       "  (word_embeddings): Embedding(1194307, 50, padding_idx=9857)\n",
       "  (lstm): LSTM(50, 512, batch_first=True, bidirectional=True)\n",
       "  (fc): Linear(in_features=1024, out_features=1, bias=True)\n",
       ")"
      ]
     },
     "execution_count": 35,
     "metadata": {},
     "output_type": "execute_result"
    }
   ],
   "source": [
    "baseline_model = BaselineModel(emb_model_augmented, hidden_dim=512, lstm_layers=1)\n",
    "baseline_model.word_embeddings.weight.requires_grad = False # freeze the embeddings\n",
    "baseline_model.to(device)"
   ]
  },
  {
   "cell_type": "code",
   "execution_count": 36,
   "metadata": {
    "id": "DOgESCV0Ky_5"
   },
   "outputs": [],
   "source": [
    "history = pd.DataFrame(columns=['model', 'epoch', 'train_loss', 'val_loss', 'train_acc', 'val_acc', 'learning_rate'])"
   ]
  },
  {
   "cell_type": "code",
   "execution_count": 37,
   "metadata": {
    "colab": {
     "base_uri": "https://localhost:8080/",
     "height": 178
    },
    "id": "JcDMqakLKy_5",
    "outputId": "b9d7af2c-059a-48f1-dd7f-b337985fca5d"
   },
   "outputs": [
    {
     "data": {
      "text/plain": [
       "hard_label_task1\n",
       "0    1733\n",
       "1    1137\n",
       "Name: count, dtype: int64"
      ]
     },
     "execution_count": 37,
     "metadata": {},
     "output_type": "execute_result"
    }
   ],
   "source": [
    "train['hard_label_task1'].value_counts()"
   ]
  },
  {
   "cell_type": "code",
   "execution_count": 38,
   "metadata": {
    "colab": {
     "base_uri": "https://localhost:8080/"
    },
    "id": "w_73fqRiKy_6",
    "outputId": "f80ed4a9-9361-4814-a62e-746d722ad0cb"
   },
   "outputs": [
    {
     "data": {
      "text/plain": [
       "1.4850042844901457"
      ]
     },
     "execution_count": 38,
     "metadata": {},
     "output_type": "execute_result"
    }
   ],
   "source": [
    "1733 / 1167"
   ]
  },
  {
   "cell_type": "code",
   "execution_count": 39,
   "metadata": {
    "colab": {
     "base_uri": "https://localhost:8080/"
    },
    "id": "KG6VMWxpKy_6",
    "outputId": "f855f352-904d-4951-ffc7-6ad214783665"
   },
   "outputs": [
    {
     "data": {
      "text/plain": [
       "1733.0"
      ]
     },
     "execution_count": 39,
     "metadata": {},
     "output_type": "execute_result"
    }
   ],
   "source": [
    "1.4850042844901457 * 1167"
   ]
  },
  {
   "cell_type": "code",
   "execution_count": 40,
   "metadata": {
    "id": "vGYiMqpVKy_6"
   },
   "outputs": [],
   "source": [
    "loss_function = torch.nn.BCEWithLogitsLoss(reduction='none', pos_weight=torch.tensor(1.4850042844901457).to(device))\n",
    "optimizer = torch.optim.AdamW(baseline_model.parameters(), lr=1e-4, weight_decay=1e-5)\n",
    "scheduler = torch.optim.lr_scheduler.ReduceLROnPlateau(optimizer, mode='min', factor=0.5, patience=10)"
   ]
  },
  {
   "cell_type": "code",
   "execution_count": 41,
   "metadata": {
    "id": "x-ldfLZqKy_6"
   },
   "outputs": [],
   "source": [
    "def train_model(model: torch.nn.Module, training_data: torch.utils.data.DataLoader, validation_data: torch.utils.data.DataLoader, loss_fn: torch.nn.Module, optimizer: torch.optim.Optimizer, scheduler: torch.optim.lr_scheduler.ReduceLROnPlateau, num_epochs: int = 30, name: str = 'baseline_lstm', verbose: bool = True) -> torch.nn.Module:\n",
    "    # Initialize parameters of Early stopping\n",
    "    best_val_loss = np.inf\n",
    "    best_model = None\n",
    "    best_model_epoch = 0\n",
    "    best_f1_score = 0\n",
    "\n",
    "    # Train the model\n",
    "    for epoch in range(num_epochs):\n",
    "        # Initialize the training variables for each epoch\n",
    "        train_correct = 0\n",
    "        train_total = 0\n",
    "\n",
    "        # Set the model to training mode\n",
    "        model.train()\n",
    "        # Iterate over the training data in batches\n",
    "        for batch in training_data:\n",
    "            # Get the inputs and labels\n",
    "            sentences, labels = batch\n",
    "\n",
    "            # Move the inputs and labels to the device (GPU)\n",
    "            sentences = sentences.to(device)\n",
    "            labels = labels.unsqueeze(1).float().to(device)\n",
    "\n",
    "            # Zero grad the optimizer\n",
    "            optimizer.zero_grad()\n",
    "\n",
    "            # Forward pass\n",
    "            output = model(sentences)\n",
    "\n",
    "            # Compute the loss\n",
    "            loss = loss_fn(output, labels)\n",
    "            # Mask the loss for the PAD tokens\n",
    "            mask = labels != emb_model_augmented.get_index(detector.PAD_TOKEN)\n",
    "            # Find where the loss is masked\n",
    "            loss_masked = loss.where(mask, torch.tensor(0.0))\n",
    "            # Compute the mean loss for the batch (ignoring the PAD tokens)\n",
    "            mean_loss = loss_masked.sum() / mask.sum()\n",
    "\n",
    "            # Backward pass\n",
    "            mean_loss.backward()\n",
    "\n",
    "            torch.nn.utils.clip_grad_norm_(model.parameters(), 1.0, norm_type=2)\n",
    "            # Adjust learning weights\n",
    "            optimizer.step()\n",
    "\n",
    "            # Compute the accuracy\n",
    "            predicted = (output > 0.5).float()\n",
    "            train_total += labels.size(0)\n",
    "            train_correct += (predicted == labels).sum().item()\n",
    "\n",
    "        # Update the learning rate\n",
    "        scheduler.step(mean_loss)\n",
    "\n",
    "        # Set the model to evaluation mode\n",
    "        model.eval()\n",
    "        # Initialize the validation variables for each epoch\n",
    "        final_val_loss = 0\n",
    "        val_correct = 0\n",
    "        val_total = 0\n",
    "        # Initialize the arrays to store the predicted and true labels\n",
    "        predicted_arr = []\n",
    "        labels_arr = []\n",
    "\n",
    "        # Iterate over the validation data in batches without computing gradients\n",
    "        with torch.no_grad():\n",
    "            for batch in validation_data:\n",
    "                # Get the inputs and labels\n",
    "                sentence, labels = batch\n",
    "\n",
    "                # Move the inputs and labels to the device (GPU)\n",
    "                sentence = sentence.to(device)\n",
    "                labels = labels.unsqueeze(1).float().to(device)\n",
    "\n",
    "                # Forward pass\n",
    "                output = model(sentence)\n",
    "\n",
    "                # Compute the loss\n",
    "                val_loss = loss_fn(output, labels)\n",
    "                # Mask the loss for the PAD tokens\n",
    "                mask = labels != emb_model_augmented.get_index(detector.PAD_TOKEN)\n",
    "                # Find where the loss is masked\n",
    "                loss_masked = val_loss.where(mask, torch.tensor(0.0))\n",
    "                # Compute the mean loss for the batch (ignoring the PAD tokens)\n",
    "                mean_val_loss = loss_masked.sum() / mask.sum()\n",
    "\n",
    "                # Accumulate the loss\n",
    "                final_val_loss += mean_val_loss.item()\n",
    "\n",
    "                # Compute the accuracy\n",
    "                predicted = (output > 0.5).float()\n",
    "\n",
    "                # Compute the accuracy\n",
    "                val_total += labels.size(0)\n",
    "                val_correct += (predicted == labels).sum().item()\n",
    "\n",
    "                # Store the predicted labels\n",
    "                predicted_arr.append(predicted.to('cpu'))\n",
    "                # Store the true labels\n",
    "                labels_arr.append(labels.to('cpu'))\n",
    "\n",
    "        # Compute the final validation loss\n",
    "        final_val_loss /= len(validation_data)\n",
    "\n",
    "        # Compute the macro F1 score\n",
    "        f1 = f1_score(y_true=np.concatenate(labels_arr), y_pred=np.concatenate(predicted_arr), average='macro')\n",
    "\n",
    "        # Early stopping\n",
    "        if final_val_loss < best_val_loss:\n",
    "            best_val_loss = final_val_loss\n",
    "            best_model = copy.deepcopy(model.state_dict())\n",
    "            best_model_epoch = epoch\n",
    "            best_f1_score = f1\n",
    "\n",
    "        if verbose:\n",
    "            print(f\"Epoch {epoch + 1}/{num_epochs}\\tLoss: {mean_loss.item():.4f}\\tAcc: {train_correct / train_total:.4f}\\tVal Loss: {final_val_loss:.4f}\\tVal Acc: {val_correct / val_total:.4f}\\tmacro_f1: {f1:.4f}\\tlr: {scheduler.get_last_lr()[0]:.6f}\")\n",
    "\n",
    "        # Save the history\n",
    "        history.loc[len(history)] = [name, epoch + 1, mean_loss.item(), final_val_loss, train_correct / train_total, val_correct / val_total, scheduler.get_last_lr()[0]]\n",
    "\n",
    "    # Restore the best model\n",
    "    model.load_state_dict(best_model)\n",
    "    print(f\"Best model found at epoch {best_model_epoch + 1} with validation loss: {best_val_loss:.4f} and f1 sore: {best_f1_score:.4f}\")\n",
    "\n",
    "    # Save the best model\n",
    "    torch.save(model.state_dict(), detector.MODEL_FOLDER / 'baseline_lstm.pth')\n",
    "\n",
    "    return model"
   ]
  },
  {
   "cell_type": "code",
   "execution_count": 42,
   "metadata": {
    "colab": {
     "base_uri": "https://localhost:8080/"
    },
    "id": "R7XSi-TkKy_7",
    "outputId": "bc71bd87-6ae2-4348-916e-05a7f6868bd7"
   },
   "outputs": [
    {
     "name": "stdout",
     "output_type": "stream",
     "text": [
      "Epoch 1/100\tLoss: 0.8229\tAcc: 0.6038\tVal Loss: 0.8712\tVal Acc: 0.5696\tmacro_f1: 0.3629\tlr: 0.000100\n",
      "Epoch 2/100\tLoss: 0.8281\tAcc: 0.6038\tVal Loss: 0.8663\tVal Acc: 0.5696\tmacro_f1: 0.3629\tlr: 0.000100\n",
      "Epoch 3/100\tLoss: 0.8266\tAcc: 0.6035\tVal Loss: 0.8543\tVal Acc: 0.5886\tmacro_f1: 0.4515\tlr: 0.000100\n",
      "Epoch 4/100\tLoss: 0.8739\tAcc: 0.6080\tVal Loss: 0.8480\tVal Acc: 0.5823\tmacro_f1: 0.4477\tlr: 0.000100\n",
      "Epoch 5/100\tLoss: 0.8358\tAcc: 0.6080\tVal Loss: 0.8587\tVal Acc: 0.5886\tmacro_f1: 0.4419\tlr: 0.000100\n",
      "Epoch 6/100\tLoss: 0.8209\tAcc: 0.6105\tVal Loss: 0.8546\tVal Acc: 0.5823\tmacro_f1: 0.4283\tlr: 0.000100\n",
      "Epoch 7/100\tLoss: 0.8665\tAcc: 0.6101\tVal Loss: 0.8544\tVal Acc: 0.6013\tmacro_f1: 0.4389\tlr: 0.000100\n",
      "Epoch 8/100\tLoss: 0.7568\tAcc: 0.6160\tVal Loss: 0.7593\tVal Acc: 0.6519\tmacro_f1: 0.6268\tlr: 0.000100\n",
      "Epoch 9/100\tLoss: 0.8569\tAcc: 0.6432\tVal Loss: 0.7302\tVal Acc: 0.7215\tmacro_f1: 0.7080\tlr: 0.000100\n",
      "Epoch 10/100\tLoss: 0.8464\tAcc: 0.6836\tVal Loss: 0.8258\tVal Acc: 0.7342\tmacro_f1: 0.7160\tlr: 0.000100\n",
      "Epoch 11/100\tLoss: 0.8004\tAcc: 0.7258\tVal Loss: 0.7322\tVal Acc: 0.7468\tmacro_f1: 0.7276\tlr: 0.000100\n",
      "Epoch 12/100\tLoss: 0.6213\tAcc: 0.7293\tVal Loss: 0.7476\tVal Acc: 0.7278\tmacro_f1: 0.7038\tlr: 0.000100\n",
      "Epoch 13/100\tLoss: 0.7666\tAcc: 0.7317\tVal Loss: 0.7164\tVal Acc: 0.7215\tmacro_f1: 0.6957\tlr: 0.000100\n",
      "Epoch 14/100\tLoss: 0.6408\tAcc: 0.7387\tVal Loss: 0.6555\tVal Acc: 0.7595\tmacro_f1: 0.7505\tlr: 0.000100\n",
      "Epoch 15/100\tLoss: 0.6437\tAcc: 0.7453\tVal Loss: 0.6499\tVal Acc: 0.7532\tmacro_f1: 0.7433\tlr: 0.000100\n",
      "Epoch 16/100\tLoss: 0.6649\tAcc: 0.7474\tVal Loss: 0.6742\tVal Acc: 0.7405\tmacro_f1: 0.7176\tlr: 0.000100\n",
      "Epoch 17/100\tLoss: 0.4727\tAcc: 0.7547\tVal Loss: 0.6485\tVal Acc: 0.7722\tmacro_f1: 0.7611\tlr: 0.000100\n",
      "Epoch 18/100\tLoss: 0.6157\tAcc: 0.7544\tVal Loss: 0.6658\tVal Acc: 0.7468\tmacro_f1: 0.7276\tlr: 0.000100\n",
      "Epoch 19/100\tLoss: 0.5979\tAcc: 0.7627\tVal Loss: 0.6605\tVal Acc: 0.7468\tmacro_f1: 0.7276\tlr: 0.000100\n",
      "Epoch 20/100\tLoss: 0.6941\tAcc: 0.7509\tVal Loss: 0.6650\tVal Acc: 0.7405\tmacro_f1: 0.7176\tlr: 0.000100\n",
      "Epoch 21/100\tLoss: 0.7810\tAcc: 0.7530\tVal Loss: 0.6516\tVal Acc: 0.7722\tmacro_f1: 0.7624\tlr: 0.000100\n",
      "Epoch 22/100\tLoss: 0.6235\tAcc: 0.7477\tVal Loss: 0.6709\tVal Acc: 0.7342\tmacro_f1: 0.7140\tlr: 0.000100\n",
      "Epoch 23/100\tLoss: 0.7457\tAcc: 0.7638\tVal Loss: 0.6606\tVal Acc: 0.7405\tmacro_f1: 0.7197\tlr: 0.000100\n",
      "Epoch 24/100\tLoss: 0.4913\tAcc: 0.7551\tVal Loss: 0.6531\tVal Acc: 0.7595\tmacro_f1: 0.7478\tlr: 0.000100\n",
      "Epoch 25/100\tLoss: 0.9044\tAcc: 0.7659\tVal Loss: 0.6700\tVal Acc: 0.7342\tmacro_f1: 0.7118\tlr: 0.000100\n",
      "Epoch 26/100\tLoss: 0.6034\tAcc: 0.7624\tVal Loss: 0.6666\tVal Acc: 0.7278\tmacro_f1: 0.6989\tlr: 0.000100\n",
      "Epoch 27/100\tLoss: 0.5743\tAcc: 0.7648\tVal Loss: 0.6454\tVal Acc: 0.7532\tmacro_f1: 0.7388\tlr: 0.000100\n",
      "Epoch 28/100\tLoss: 0.6822\tAcc: 0.7693\tVal Loss: 0.6333\tVal Acc: 0.7468\tmacro_f1: 0.7374\tlr: 0.000050\n",
      "Epoch 29/100\tLoss: 0.5318\tAcc: 0.7659\tVal Loss: 0.6451\tVal Acc: 0.7532\tmacro_f1: 0.7404\tlr: 0.000050\n",
      "Epoch 30/100\tLoss: 0.6690\tAcc: 0.7662\tVal Loss: 0.6505\tVal Acc: 0.7595\tmacro_f1: 0.7463\tlr: 0.000050\n",
      "Epoch 31/100\tLoss: 0.6801\tAcc: 0.7669\tVal Loss: 0.6601\tVal Acc: 0.7595\tmacro_f1: 0.7463\tlr: 0.000050\n",
      "Epoch 32/100\tLoss: 0.5055\tAcc: 0.7686\tVal Loss: 0.6421\tVal Acc: 0.7595\tmacro_f1: 0.7478\tlr: 0.000050\n",
      "Epoch 33/100\tLoss: 0.6876\tAcc: 0.7707\tVal Loss: 0.6459\tVal Acc: 0.7532\tmacro_f1: 0.7404\tlr: 0.000050\n",
      "Epoch 34/100\tLoss: 0.6248\tAcc: 0.7645\tVal Loss: 0.6441\tVal Acc: 0.7532\tmacro_f1: 0.7433\tlr: 0.000050\n",
      "Epoch 35/100\tLoss: 0.5574\tAcc: 0.7676\tVal Loss: 0.6604\tVal Acc: 0.7405\tmacro_f1: 0.7197\tlr: 0.000050\n",
      "Epoch 36/100\tLoss: 0.6143\tAcc: 0.7707\tVal Loss: 0.6627\tVal Acc: 0.7342\tmacro_f1: 0.7071\tlr: 0.000050\n",
      "Epoch 37/100\tLoss: 0.7990\tAcc: 0.7721\tVal Loss: 0.6947\tVal Acc: 0.7278\tmacro_f1: 0.6962\tlr: 0.000050\n",
      "Epoch 38/100\tLoss: 0.6225\tAcc: 0.7714\tVal Loss: 0.6390\tVal Acc: 0.7658\tmacro_f1: 0.7564\tlr: 0.000050\n",
      "Epoch 39/100\tLoss: 0.7882\tAcc: 0.7725\tVal Loss: 0.6686\tVal Acc: 0.7405\tmacro_f1: 0.7237\tlr: 0.000025\n",
      "Epoch 40/100\tLoss: 0.6216\tAcc: 0.7725\tVal Loss: 0.6547\tVal Acc: 0.7468\tmacro_f1: 0.7313\tlr: 0.000025\n",
      "Epoch 41/100\tLoss: 0.5764\tAcc: 0.7732\tVal Loss: 0.6673\tVal Acc: 0.7405\tmacro_f1: 0.7197\tlr: 0.000025\n",
      "Epoch 42/100\tLoss: 0.6214\tAcc: 0.7725\tVal Loss: 0.6683\tVal Acc: 0.7342\tmacro_f1: 0.7140\tlr: 0.000025\n",
      "Epoch 43/100\tLoss: 0.5720\tAcc: 0.7753\tVal Loss: 0.6543\tVal Acc: 0.7595\tmacro_f1: 0.7478\tlr: 0.000025\n",
      "Epoch 44/100\tLoss: 0.3929\tAcc: 0.7732\tVal Loss: 0.6446\tVal Acc: 0.7405\tmacro_f1: 0.7315\tlr: 0.000025\n",
      "Epoch 45/100\tLoss: 0.3922\tAcc: 0.7801\tVal Loss: 0.6641\tVal Acc: 0.7468\tmacro_f1: 0.7295\tlr: 0.000025\n",
      "Epoch 46/100\tLoss: 0.6167\tAcc: 0.7794\tVal Loss: 0.6606\tVal Acc: 0.7532\tmacro_f1: 0.7419\tlr: 0.000025\n",
      "Epoch 47/100\tLoss: 0.4612\tAcc: 0.7787\tVal Loss: 0.6643\tVal Acc: 0.7532\tmacro_f1: 0.7353\tlr: 0.000025\n",
      "Epoch 48/100\tLoss: 0.6609\tAcc: 0.7774\tVal Loss: 0.6820\tVal Acc: 0.7405\tmacro_f1: 0.7176\tlr: 0.000025\n",
      "Epoch 49/100\tLoss: 0.5197\tAcc: 0.7798\tVal Loss: 0.6786\tVal Acc: 0.7405\tmacro_f1: 0.7197\tlr: 0.000025\n",
      "Epoch 50/100\tLoss: 0.6617\tAcc: 0.7780\tVal Loss: 0.6777\tVal Acc: 0.7405\tmacro_f1: 0.7197\tlr: 0.000025\n",
      "Epoch 51/100\tLoss: 0.5013\tAcc: 0.7791\tVal Loss: 0.6980\tVal Acc: 0.7278\tmacro_f1: 0.7038\tlr: 0.000025\n",
      "Epoch 52/100\tLoss: 0.6079\tAcc: 0.7760\tVal Loss: 0.6588\tVal Acc: 0.7405\tmacro_f1: 0.7255\tlr: 0.000025\n",
      "Epoch 53/100\tLoss: 0.7580\tAcc: 0.7801\tVal Loss: 0.6653\tVal Acc: 0.7342\tmacro_f1: 0.7179\tlr: 0.000025\n",
      "Epoch 54/100\tLoss: 0.7165\tAcc: 0.7840\tVal Loss: 0.6624\tVal Acc: 0.7405\tmacro_f1: 0.7271\tlr: 0.000025\n",
      "Epoch 55/100\tLoss: 0.5711\tAcc: 0.7774\tVal Loss: 0.6515\tVal Acc: 0.7468\tmacro_f1: 0.7360\tlr: 0.000025\n",
      "Epoch 56/100\tLoss: 0.6066\tAcc: 0.7787\tVal Loss: 0.6612\tVal Acc: 0.7342\tmacro_f1: 0.7196\tlr: 0.000013\n",
      "Epoch 57/100\tLoss: 0.6171\tAcc: 0.7847\tVal Loss: 0.6772\tVal Acc: 0.7405\tmacro_f1: 0.7197\tlr: 0.000013\n",
      "Epoch 58/100\tLoss: 0.5145\tAcc: 0.7847\tVal Loss: 0.6701\tVal Acc: 0.7532\tmacro_f1: 0.7353\tlr: 0.000013\n",
      "Epoch 59/100\tLoss: 0.5476\tAcc: 0.7864\tVal Loss: 0.6698\tVal Acc: 0.7405\tmacro_f1: 0.7271\tlr: 0.000013\n",
      "Epoch 60/100\tLoss: 0.4398\tAcc: 0.7843\tVal Loss: 0.6742\tVal Acc: 0.7532\tmacro_f1: 0.7353\tlr: 0.000013\n",
      "Epoch 61/100\tLoss: 0.7216\tAcc: 0.7829\tVal Loss: 0.6714\tVal Acc: 0.7405\tmacro_f1: 0.7237\tlr: 0.000013\n",
      "Epoch 62/100\tLoss: 0.5708\tAcc: 0.7829\tVal Loss: 0.6660\tVal Acc: 0.7405\tmacro_f1: 0.7237\tlr: 0.000013\n",
      "Epoch 63/100\tLoss: 0.4496\tAcc: 0.7861\tVal Loss: 0.6665\tVal Acc: 0.7405\tmacro_f1: 0.7255\tlr: 0.000013\n",
      "Epoch 64/100\tLoss: 0.4699\tAcc: 0.7836\tVal Loss: 0.6772\tVal Acc: 0.7532\tmacro_f1: 0.7353\tlr: 0.000013\n",
      "Epoch 65/100\tLoss: 0.5284\tAcc: 0.7868\tVal Loss: 0.6700\tVal Acc: 0.7405\tmacro_f1: 0.7237\tlr: 0.000013\n",
      "Epoch 66/100\tLoss: 0.4915\tAcc: 0.7864\tVal Loss: 0.6660\tVal Acc: 0.7342\tmacro_f1: 0.7213\tlr: 0.000013\n",
      "Epoch 67/100\tLoss: 0.6600\tAcc: 0.7833\tVal Loss: 0.6786\tVal Acc: 0.7342\tmacro_f1: 0.7179\tlr: 0.000006\n",
      "Epoch 68/100\tLoss: 0.4984\tAcc: 0.7843\tVal Loss: 0.6786\tVal Acc: 0.7405\tmacro_f1: 0.7237\tlr: 0.000006\n",
      "Epoch 69/100\tLoss: 0.4243\tAcc: 0.7882\tVal Loss: 0.6728\tVal Acc: 0.7342\tmacro_f1: 0.7179\tlr: 0.000006\n",
      "Epoch 70/100\tLoss: 0.5556\tAcc: 0.7889\tVal Loss: 0.6733\tVal Acc: 0.7405\tmacro_f1: 0.7237\tlr: 0.000006\n",
      "Epoch 71/100\tLoss: 0.5190\tAcc: 0.7892\tVal Loss: 0.6796\tVal Acc: 0.7468\tmacro_f1: 0.7295\tlr: 0.000006\n",
      "Epoch 72/100\tLoss: 0.7531\tAcc: 0.7871\tVal Loss: 0.6741\tVal Acc: 0.7405\tmacro_f1: 0.7237\tlr: 0.000006\n",
      "Epoch 73/100\tLoss: 0.5887\tAcc: 0.7882\tVal Loss: 0.6805\tVal Acc: 0.7468\tmacro_f1: 0.7276\tlr: 0.000006\n",
      "Epoch 74/100\tLoss: 0.7504\tAcc: 0.7854\tVal Loss: 0.6752\tVal Acc: 0.7278\tmacro_f1: 0.7121\tlr: 0.000006\n",
      "Epoch 75/100\tLoss: 0.7045\tAcc: 0.7854\tVal Loss: 0.6784\tVal Acc: 0.7405\tmacro_f1: 0.7237\tlr: 0.000006\n",
      "Epoch 76/100\tLoss: 0.5556\tAcc: 0.7889\tVal Loss: 0.6776\tVal Acc: 0.7405\tmacro_f1: 0.7237\tlr: 0.000006\n",
      "Epoch 77/100\tLoss: 0.5582\tAcc: 0.7882\tVal Loss: 0.6737\tVal Acc: 0.7342\tmacro_f1: 0.7179\tlr: 0.000006\n",
      "Epoch 78/100\tLoss: 0.4591\tAcc: 0.7889\tVal Loss: 0.6735\tVal Acc: 0.7405\tmacro_f1: 0.7237\tlr: 0.000003\n",
      "Epoch 79/100\tLoss: 0.5913\tAcc: 0.7899\tVal Loss: 0.6753\tVal Acc: 0.7405\tmacro_f1: 0.7237\tlr: 0.000003\n",
      "Epoch 80/100\tLoss: 0.4814\tAcc: 0.7899\tVal Loss: 0.6785\tVal Acc: 0.7405\tmacro_f1: 0.7237\tlr: 0.000003\n",
      "Epoch 81/100\tLoss: 0.5416\tAcc: 0.7902\tVal Loss: 0.6742\tVal Acc: 0.7342\tmacro_f1: 0.7179\tlr: 0.000003\n",
      "Epoch 82/100\tLoss: 0.4036\tAcc: 0.7885\tVal Loss: 0.6741\tVal Acc: 0.7342\tmacro_f1: 0.7179\tlr: 0.000003\n",
      "Epoch 83/100\tLoss: 0.6049\tAcc: 0.7871\tVal Loss: 0.6749\tVal Acc: 0.7278\tmacro_f1: 0.7121\tlr: 0.000003\n",
      "Epoch 84/100\tLoss: 0.5570\tAcc: 0.7882\tVal Loss: 0.6755\tVal Acc: 0.7405\tmacro_f1: 0.7237\tlr: 0.000003\n",
      "Epoch 85/100\tLoss: 0.5399\tAcc: 0.7878\tVal Loss: 0.6738\tVal Acc: 0.7342\tmacro_f1: 0.7179\tlr: 0.000003\n",
      "Epoch 86/100\tLoss: 0.6463\tAcc: 0.7906\tVal Loss: 0.6787\tVal Acc: 0.7405\tmacro_f1: 0.7237\tlr: 0.000003\n",
      "Epoch 87/100\tLoss: 0.7399\tAcc: 0.7902\tVal Loss: 0.6765\tVal Acc: 0.7405\tmacro_f1: 0.7237\tlr: 0.000003\n",
      "Epoch 88/100\tLoss: 0.5344\tAcc: 0.7892\tVal Loss: 0.6731\tVal Acc: 0.7342\tmacro_f1: 0.7179\tlr: 0.000003\n",
      "Epoch 89/100\tLoss: 0.6012\tAcc: 0.7902\tVal Loss: 0.6759\tVal Acc: 0.7342\tmacro_f1: 0.7179\tlr: 0.000002\n",
      "Epoch 90/100\tLoss: 0.6567\tAcc: 0.7871\tVal Loss: 0.6755\tVal Acc: 0.7342\tmacro_f1: 0.7179\tlr: 0.000002\n",
      "Epoch 91/100\tLoss: 0.5426\tAcc: 0.7909\tVal Loss: 0.6762\tVal Acc: 0.7342\tmacro_f1: 0.7179\tlr: 0.000002\n",
      "Epoch 92/100\tLoss: 0.5226\tAcc: 0.7892\tVal Loss: 0.6762\tVal Acc: 0.7342\tmacro_f1: 0.7179\tlr: 0.000002\n",
      "Epoch 93/100\tLoss: 0.5443\tAcc: 0.7895\tVal Loss: 0.6755\tVal Acc: 0.7342\tmacro_f1: 0.7179\tlr: 0.000002\n",
      "Epoch 94/100\tLoss: 0.5898\tAcc: 0.7895\tVal Loss: 0.6750\tVal Acc: 0.7342\tmacro_f1: 0.7179\tlr: 0.000002\n",
      "Epoch 95/100\tLoss: 0.4878\tAcc: 0.7895\tVal Loss: 0.6759\tVal Acc: 0.7278\tmacro_f1: 0.7121\tlr: 0.000002\n",
      "Epoch 96/100\tLoss: 0.5620\tAcc: 0.7875\tVal Loss: 0.6755\tVal Acc: 0.7278\tmacro_f1: 0.7121\tlr: 0.000002\n",
      "Epoch 97/100\tLoss: 0.6208\tAcc: 0.7864\tVal Loss: 0.6769\tVal Acc: 0.7278\tmacro_f1: 0.7121\tlr: 0.000002\n",
      "Epoch 98/100\tLoss: 0.5719\tAcc: 0.7871\tVal Loss: 0.6768\tVal Acc: 0.7278\tmacro_f1: 0.7121\tlr: 0.000002\n",
      "Epoch 99/100\tLoss: 0.5971\tAcc: 0.7868\tVal Loss: 0.6778\tVal Acc: 0.7278\tmacro_f1: 0.7121\tlr: 0.000002\n",
      "Epoch 100/100\tLoss: 0.6306\tAcc: 0.7871\tVal Loss: 0.6756\tVal Acc: 0.7278\tmacro_f1: 0.7121\tlr: 0.000001\n",
      "Best model found at epoch 28 with validation loss: 0.6333 and f1 sore: 0.7374\n"
     ]
    }
   ],
   "source": [
    "history_baseline_model = train_model(baseline_model, train_dloader, val_dloader, loss_function, optimizer, scheduler, num_epochs=100, name='baseline', verbose=True)"
   ]
  },
  {
   "cell_type": "code",
   "execution_count": 43,
   "metadata": {
    "colab": {
     "base_uri": "https://localhost:8080/",
     "height": 507
    },
    "id": "rjID-z0GKy_7",
    "outputId": "895016a1-3ab5-4a01-bf0e-6ed02a17d729"
   },
   "outputs": [
    {
     "data": {
      "image/png": "[encoded data removed]",
      "text/plain": [
       "<Figure size 1800x500 with 3 Axes>"
      ]
     },
     "metadata": {},
     "output_type": "display_data"
    }
   ],
   "source": [
    "fig, axes = plt.subplots(1, 3, figsize=(18, 5))\n",
    "\n",
    "baseline_model_name = history['model'] == 'baseline'\n",
    "\n",
    "history[baseline_model_name].plot(x='epoch', y=['train_loss', 'val_loss'], title='Loss', ax=axes[0])\n",
    "history[baseline_model_name].plot(x='epoch', y=['train_acc', 'val_acc'], title='Accuracy', ax=axes[1])\n",
    "history[baseline_model_name].plot(x='epoch', y='learning_rate', title='Learning Rate', ax=axes[2], logy=True)\n",
    "\n",
    "plt.tight_layout()\n",
    "plt.show()"
   ]
  },
  {
   "cell_type": "code",
   "execution_count": 44,
   "metadata": {},
   "outputs": [
    {
     "data": {
      "text/plain": [
       "4139"
      ]
     },
     "execution_count": 44,
     "metadata": {},
     "output_type": "execute_result"
    }
   ],
   "source": [
    "with torch.no_grad():\n",
    "    torch.cuda.empty_cache()\n",
    "\n",
    "gc.collect()"
   ]
  },
  {
   "cell_type": "markdown",
   "metadata": {
    "id": "nS5EXPDeKy_7"
   },
   "source": [
    "# Model 1"
   ]
  },
  {
   "cell_type": "code",
   "execution_count": 45,
   "metadata": {
    "colab": {
     "base_uri": "https://localhost:8080/"
    },
    "id": "aRw48-ZsKy_8",
    "outputId": "3835af53-ff9d-4002-f7a8-014a47051e99"
   },
   "outputs": [
    {
     "data": {
      "text/plain": [
       "BaselineModel(\n",
       "  (word_embeddings): Embedding(1194307, 50, padding_idx=9857)\n",
       "  (lstm): LSTM(50, 512, num_layers=2, batch_first=True, bidirectional=True)\n",
       "  (fc): Linear(in_features=1024, out_features=1, bias=True)\n",
       ")"
      ]
     },
     "execution_count": 45,
     "metadata": {},
     "output_type": "execute_result"
    }
   ],
   "source": [
    "model1 = BaselineModel(emb_model_augmented, hidden_dim=512, lstm_layers=2)\n",
    "model1.word_embeddings.weight.requires_grad = False # freeze the embeddings\n",
    "model1.to(device)"
   ]
  },
  {
   "cell_type": "code",
   "execution_count": 46,
   "metadata": {
    "id": "vXpnXKlpKy_8"
   },
   "outputs": [],
   "source": [
    "loss_function = torch.nn.BCEWithLogitsLoss(reduction='none', pos_weight=torch.tensor(1.4850042844901457).to(device))\n",
    "optimizer = torch.optim.AdamW(model1.parameters(), lr=1e-4, weight_decay=1e-5)\n",
    "scheduler = torch.optim.lr_scheduler.ReduceLROnPlateau(optimizer, mode='min', factor=0.5, patience=10, min_lr=1e-6)"
   ]
  },
  {
   "cell_type": "code",
   "execution_count": 47,
   "metadata": {
    "colab": {
     "base_uri": "https://localhost:8080/"
    },
    "id": "nju7RDDEKy_8",
    "outputId": "da72f953-6c40-416c-bb71-daea6d64d33f"
   },
   "outputs": [
    {
     "name": "stdout",
     "output_type": "stream",
     "text": [
      "Epoch 1/100\tLoss: 0.8148\tAcc: 0.6038\tVal Loss: 0.8856\tVal Acc: 0.5696\tmacro_f1: 0.3629\tlr: 0.000100\n",
      "Epoch 2/100\tLoss: 0.8160\tAcc: 0.6038\tVal Loss: 0.8642\tVal Acc: 0.5696\tmacro_f1: 0.3629\tlr: 0.000100\n",
      "Epoch 3/100\tLoss: 0.8339\tAcc: 0.6049\tVal Loss: 0.8531\tVal Acc: 0.5823\tmacro_f1: 0.4477\tlr: 0.000100\n",
      "Epoch 4/100\tLoss: 0.7931\tAcc: 0.6122\tVal Loss: 0.8689\tVal Acc: 0.5886\tmacro_f1: 0.4096\tlr: 0.000100\n",
      "Epoch 5/100\tLoss: 0.8010\tAcc: 0.6045\tVal Loss: 0.8571\tVal Acc: 0.5823\tmacro_f1: 0.4283\tlr: 0.000100\n",
      "Epoch 6/100\tLoss: 0.8410\tAcc: 0.6049\tVal Loss: 0.8485\tVal Acc: 0.5823\tmacro_f1: 0.4477\tlr: 0.000100\n",
      "Epoch 7/100\tLoss: 0.8028\tAcc: 0.6101\tVal Loss: 0.8437\tVal Acc: 0.6013\tmacro_f1: 0.5004\tlr: 0.000100\n",
      "Epoch 8/100\tLoss: 0.7718\tAcc: 0.6098\tVal Loss: 0.8401\tVal Acc: 0.5949\tmacro_f1: 0.4811\tlr: 0.000100\n",
      "Epoch 9/100\tLoss: 0.9731\tAcc: 0.6164\tVal Loss: 1.1091\tVal Acc: 0.5696\tmacro_f1: 0.3629\tlr: 0.000100\n",
      "Epoch 10/100\tLoss: 0.8270\tAcc: 0.6432\tVal Loss: 0.6878\tVal Acc: 0.7278\tmacro_f1: 0.6871\tlr: 0.000100\n",
      "Epoch 11/100\tLoss: 0.8574\tAcc: 0.6564\tVal Loss: 0.8687\tVal Acc: 0.6646\tmacro_f1: 0.5735\tlr: 0.000100\n",
      "Epoch 12/100\tLoss: 0.6844\tAcc: 0.7049\tVal Loss: 0.7751\tVal Acc: 0.7405\tmacro_f1: 0.7197\tlr: 0.000100\n",
      "Epoch 13/100\tLoss: 0.6989\tAcc: 0.7324\tVal Loss: 0.7404\tVal Acc: 0.7089\tmacro_f1: 0.6844\tlr: 0.000100\n",
      "Epoch 14/100\tLoss: 0.6980\tAcc: 0.7261\tVal Loss: 0.6868\tVal Acc: 0.7342\tmacro_f1: 0.7307\tlr: 0.000100\n",
      "Epoch 15/100\tLoss: 0.7106\tAcc: 0.7230\tVal Loss: 0.6739\tVal Acc: 0.7342\tmacro_f1: 0.7196\tlr: 0.000100\n",
      "Epoch 16/100\tLoss: 0.6546\tAcc: 0.7317\tVal Loss: 0.7227\tVal Acc: 0.6962\tmacro_f1: 0.6681\tlr: 0.000100\n",
      "Epoch 17/100\tLoss: 0.7262\tAcc: 0.7491\tVal Loss: 0.6710\tVal Acc: 0.7595\tmacro_f1: 0.7505\tlr: 0.000100\n",
      "Epoch 18/100\tLoss: 0.6076\tAcc: 0.7418\tVal Loss: 0.6920\tVal Acc: 0.7278\tmacro_f1: 0.6962\tlr: 0.000100\n",
      "Epoch 19/100\tLoss: 0.5275\tAcc: 0.7390\tVal Loss: 0.6667\tVal Acc: 0.7468\tmacro_f1: 0.7313\tlr: 0.000100\n",
      "Epoch 20/100\tLoss: 0.7308\tAcc: 0.7509\tVal Loss: 0.6579\tVal Acc: 0.7658\tmacro_f1: 0.7598\tlr: 0.000100\n",
      "Epoch 21/100\tLoss: 0.6289\tAcc: 0.7397\tVal Loss: 0.6416\tVal Acc: 0.7405\tmacro_f1: 0.7301\tlr: 0.000100\n",
      "Epoch 22/100\tLoss: 0.7721\tAcc: 0.7564\tVal Loss: 0.7174\tVal Acc: 0.7342\tmacro_f1: 0.7096\tlr: 0.000100\n",
      "Epoch 23/100\tLoss: 0.7724\tAcc: 0.7575\tVal Loss: 0.6475\tVal Acc: 0.7468\tmacro_f1: 0.7374\tlr: 0.000100\n",
      "Epoch 24/100\tLoss: 0.5021\tAcc: 0.7328\tVal Loss: 0.6719\tVal Acc: 0.7468\tmacro_f1: 0.7345\tlr: 0.000100\n",
      "Epoch 25/100\tLoss: 0.5557\tAcc: 0.7592\tVal Loss: 0.6591\tVal Acc: 0.7658\tmacro_f1: 0.7598\tlr: 0.000100\n",
      "Epoch 26/100\tLoss: 0.4787\tAcc: 0.7624\tVal Loss: 0.6877\tVal Acc: 0.7342\tmacro_f1: 0.7179\tlr: 0.000100\n",
      "Epoch 27/100\tLoss: 0.6569\tAcc: 0.7530\tVal Loss: 0.6810\tVal Acc: 0.7595\tmacro_f1: 0.7478\tlr: 0.000100\n",
      "Epoch 28/100\tLoss: 0.6640\tAcc: 0.7568\tVal Loss: 0.6541\tVal Acc: 0.7722\tmacro_f1: 0.7676\tlr: 0.000100\n",
      "Epoch 29/100\tLoss: 0.5938\tAcc: 0.7523\tVal Loss: 0.6789\tVal Acc: 0.7468\tmacro_f1: 0.7345\tlr: 0.000100\n",
      "Epoch 30/100\tLoss: 0.4901\tAcc: 0.7641\tVal Loss: 0.7228\tVal Acc: 0.7405\tmacro_f1: 0.7076\tlr: 0.000100\n",
      "Epoch 31/100\tLoss: 0.5890\tAcc: 0.7659\tVal Loss: 0.6726\tVal Acc: 0.7468\tmacro_f1: 0.7398\tlr: 0.000100\n",
      "Epoch 32/100\tLoss: 0.6807\tAcc: 0.7610\tVal Loss: 0.6782\tVal Acc: 0.7468\tmacro_f1: 0.7398\tlr: 0.000100\n",
      "Epoch 33/100\tLoss: 0.6349\tAcc: 0.7718\tVal Loss: 0.7227\tVal Acc: 0.7405\tmacro_f1: 0.7129\tlr: 0.000100\n",
      "Epoch 34/100\tLoss: 0.5962\tAcc: 0.7655\tVal Loss: 0.6809\tVal Acc: 0.7595\tmacro_f1: 0.7463\tlr: 0.000100\n",
      "Epoch 35/100\tLoss: 0.5688\tAcc: 0.7753\tVal Loss: 0.6819\tVal Acc: 0.7722\tmacro_f1: 0.7611\tlr: 0.000100\n",
      "Epoch 36/100\tLoss: 0.5860\tAcc: 0.7551\tVal Loss: 0.6564\tVal Acc: 0.7468\tmacro_f1: 0.7448\tlr: 0.000100\n",
      "Epoch 37/100\tLoss: 0.5970\tAcc: 0.7561\tVal Loss: 0.6898\tVal Acc: 0.7595\tmacro_f1: 0.7538\tlr: 0.000050\n",
      "Epoch 38/100\tLoss: 0.4091\tAcc: 0.7735\tVal Loss: 0.6701\tVal Acc: 0.7785\tmacro_f1: 0.7641\tlr: 0.000050\n",
      "Epoch 39/100\tLoss: 0.6652\tAcc: 0.7742\tVal Loss: 0.6808\tVal Acc: 0.7785\tmacro_f1: 0.7656\tlr: 0.000050\n",
      "Epoch 40/100\tLoss: 0.5929\tAcc: 0.7791\tVal Loss: 0.6633\tVal Acc: 0.7722\tmacro_f1: 0.7611\tlr: 0.000050\n",
      "Epoch 41/100\tLoss: 0.6210\tAcc: 0.7774\tVal Loss: 0.6694\tVal Acc: 0.7658\tmacro_f1: 0.7537\tlr: 0.000050\n",
      "Epoch 42/100\tLoss: 0.6232\tAcc: 0.7780\tVal Loss: 0.6726\tVal Acc: 0.7658\tmacro_f1: 0.7537\tlr: 0.000050\n",
      "Epoch 43/100\tLoss: 0.6589\tAcc: 0.7732\tVal Loss: 0.7008\tVal Acc: 0.7532\tmacro_f1: 0.7353\tlr: 0.000050\n",
      "Epoch 44/100\tLoss: 0.6179\tAcc: 0.7753\tVal Loss: 0.6830\tVal Acc: 0.7658\tmacro_f1: 0.7588\tlr: 0.000050\n",
      "Epoch 45/100\tLoss: 0.5021\tAcc: 0.7780\tVal Loss: 0.6893\tVal Acc: 0.7532\tmacro_f1: 0.7433\tlr: 0.000050\n",
      "Epoch 46/100\tLoss: 0.6880\tAcc: 0.7808\tVal Loss: 0.7025\tVal Acc: 0.7342\tmacro_f1: 0.7256\tlr: 0.000050\n",
      "Epoch 47/100\tLoss: 0.6462\tAcc: 0.7787\tVal Loss: 0.6976\tVal Acc: 0.7595\tmacro_f1: 0.7492\tlr: 0.000050\n",
      "Epoch 48/100\tLoss: 0.5790\tAcc: 0.7746\tVal Loss: 0.6844\tVal Acc: 0.7468\tmacro_f1: 0.7360\tlr: 0.000050\n",
      "Epoch 49/100\tLoss: 0.6054\tAcc: 0.7791\tVal Loss: 0.7084\tVal Acc: 0.7468\tmacro_f1: 0.7360\tlr: 0.000025\n",
      "Epoch 50/100\tLoss: 0.5435\tAcc: 0.7777\tVal Loss: 0.6997\tVal Acc: 0.7405\tmacro_f1: 0.7176\tlr: 0.000025\n",
      "Epoch 51/100\tLoss: 0.5992\tAcc: 0.7784\tVal Loss: 0.7089\tVal Acc: 0.7595\tmacro_f1: 0.7447\tlr: 0.000025\n",
      "Epoch 52/100\tLoss: 0.7200\tAcc: 0.7808\tVal Loss: 0.7111\tVal Acc: 0.7532\tmacro_f1: 0.7371\tlr: 0.000025\n",
      "Epoch 53/100\tLoss: 0.5609\tAcc: 0.7801\tVal Loss: 0.7197\tVal Acc: 0.7405\tmacro_f1: 0.7218\tlr: 0.000025\n",
      "Epoch 54/100\tLoss: 0.5202\tAcc: 0.7826\tVal Loss: 0.7190\tVal Acc: 0.7532\tmacro_f1: 0.7371\tlr: 0.000025\n",
      "Epoch 55/100\tLoss: 0.4913\tAcc: 0.7794\tVal Loss: 0.7046\tVal Acc: 0.7658\tmacro_f1: 0.7551\tlr: 0.000025\n",
      "Epoch 56/100\tLoss: 0.6003\tAcc: 0.7840\tVal Loss: 0.7078\tVal Acc: 0.7595\tmacro_f1: 0.7447\tlr: 0.000025\n",
      "Epoch 57/100\tLoss: 0.6161\tAcc: 0.7760\tVal Loss: 0.7157\tVal Acc: 0.7468\tmacro_f1: 0.7360\tlr: 0.000025\n",
      "Epoch 58/100\tLoss: 0.5713\tAcc: 0.7812\tVal Loss: 0.7116\tVal Acc: 0.7595\tmacro_f1: 0.7478\tlr: 0.000025\n",
      "Epoch 59/100\tLoss: 0.5451\tAcc: 0.7815\tVal Loss: 0.7288\tVal Acc: 0.7658\tmacro_f1: 0.7551\tlr: 0.000025\n",
      "Epoch 60/100\tLoss: 0.5568\tAcc: 0.7798\tVal Loss: 0.7244\tVal Acc: 0.7658\tmacro_f1: 0.7522\tlr: 0.000013\n",
      "Epoch 61/100\tLoss: 0.4551\tAcc: 0.7808\tVal Loss: 0.7240\tVal Acc: 0.7532\tmacro_f1: 0.7371\tlr: 0.000013\n",
      "Epoch 62/100\tLoss: 0.5223\tAcc: 0.7805\tVal Loss: 0.7295\tVal Acc: 0.7595\tmacro_f1: 0.7447\tlr: 0.000013\n",
      "Epoch 63/100\tLoss: 0.5126\tAcc: 0.7819\tVal Loss: 0.7274\tVal Acc: 0.7595\tmacro_f1: 0.7447\tlr: 0.000013\n",
      "Epoch 64/100\tLoss: 0.4904\tAcc: 0.7801\tVal Loss: 0.7278\tVal Acc: 0.7532\tmacro_f1: 0.7371\tlr: 0.000013\n",
      "Epoch 65/100\tLoss: 0.5232\tAcc: 0.7815\tVal Loss: 0.7233\tVal Acc: 0.7468\tmacro_f1: 0.7295\tlr: 0.000013\n",
      "Epoch 66/100\tLoss: 0.5198\tAcc: 0.7833\tVal Loss: 0.7266\tVal Acc: 0.7532\tmacro_f1: 0.7371\tlr: 0.000013\n",
      "Epoch 67/100\tLoss: 0.4420\tAcc: 0.7812\tVal Loss: 0.7285\tVal Acc: 0.7468\tmacro_f1: 0.7295\tlr: 0.000013\n",
      "Epoch 68/100\tLoss: 0.5382\tAcc: 0.7836\tVal Loss: 0.7296\tVal Acc: 0.7532\tmacro_f1: 0.7371\tlr: 0.000013\n",
      "Epoch 69/100\tLoss: 0.6864\tAcc: 0.7829\tVal Loss: 0.7273\tVal Acc: 0.7658\tmacro_f1: 0.7522\tlr: 0.000013\n",
      "Epoch 70/100\tLoss: 0.4941\tAcc: 0.7861\tVal Loss: 0.7222\tVal Acc: 0.7468\tmacro_f1: 0.7295\tlr: 0.000013\n",
      "Epoch 71/100\tLoss: 0.6005\tAcc: 0.7829\tVal Loss: 0.7299\tVal Acc: 0.7532\tmacro_f1: 0.7371\tlr: 0.000006\n",
      "Epoch 72/100\tLoss: 0.7188\tAcc: 0.7847\tVal Loss: 0.7321\tVal Acc: 0.7595\tmacro_f1: 0.7447\tlr: 0.000006\n",
      "Epoch 73/100\tLoss: 0.5886\tAcc: 0.7812\tVal Loss: 0.7257\tVal Acc: 0.7595\tmacro_f1: 0.7447\tlr: 0.000006\n",
      "Epoch 74/100\tLoss: 0.4416\tAcc: 0.7819\tVal Loss: 0.7317\tVal Acc: 0.7658\tmacro_f1: 0.7522\tlr: 0.000006\n",
      "Epoch 75/100\tLoss: 0.5008\tAcc: 0.7826\tVal Loss: 0.7317\tVal Acc: 0.7595\tmacro_f1: 0.7447\tlr: 0.000006\n",
      "Epoch 76/100\tLoss: 0.4789\tAcc: 0.7826\tVal Loss: 0.7237\tVal Acc: 0.7658\tmacro_f1: 0.7522\tlr: 0.000006\n",
      "Epoch 77/100\tLoss: 0.5928\tAcc: 0.7833\tVal Loss: 0.7268\tVal Acc: 0.7658\tmacro_f1: 0.7522\tlr: 0.000006\n",
      "Epoch 78/100\tLoss: 0.5087\tAcc: 0.7843\tVal Loss: 0.7290\tVal Acc: 0.7658\tmacro_f1: 0.7522\tlr: 0.000006\n",
      "Epoch 79/100\tLoss: 0.6128\tAcc: 0.7836\tVal Loss: 0.7237\tVal Acc: 0.7722\tmacro_f1: 0.7597\tlr: 0.000006\n",
      "Epoch 80/100\tLoss: 0.4120\tAcc: 0.7836\tVal Loss: 0.7264\tVal Acc: 0.7658\tmacro_f1: 0.7522\tlr: 0.000006\n",
      "Epoch 81/100\tLoss: 0.6046\tAcc: 0.7843\tVal Loss: 0.7326\tVal Acc: 0.7595\tmacro_f1: 0.7447\tlr: 0.000006\n",
      "Epoch 82/100\tLoss: 0.4351\tAcc: 0.7826\tVal Loss: 0.7303\tVal Acc: 0.7658\tmacro_f1: 0.7522\tlr: 0.000003\n",
      "Epoch 83/100\tLoss: 0.4148\tAcc: 0.7819\tVal Loss: 0.7320\tVal Acc: 0.7658\tmacro_f1: 0.7522\tlr: 0.000003\n",
      "Epoch 84/100\tLoss: 0.4422\tAcc: 0.7833\tVal Loss: 0.7314\tVal Acc: 0.7658\tmacro_f1: 0.7522\tlr: 0.000003\n",
      "Epoch 85/100\tLoss: 0.8201\tAcc: 0.7822\tVal Loss: 0.7299\tVal Acc: 0.7658\tmacro_f1: 0.7522\tlr: 0.000003\n",
      "Epoch 86/100\tLoss: 0.5051\tAcc: 0.7836\tVal Loss: 0.7306\tVal Acc: 0.7595\tmacro_f1: 0.7447\tlr: 0.000003\n",
      "Epoch 87/100\tLoss: 0.4211\tAcc: 0.7833\tVal Loss: 0.7308\tVal Acc: 0.7658\tmacro_f1: 0.7522\tlr: 0.000003\n",
      "Epoch 88/100\tLoss: 0.5915\tAcc: 0.7833\tVal Loss: 0.7340\tVal Acc: 0.7595\tmacro_f1: 0.7447\tlr: 0.000003\n",
      "Epoch 89/100\tLoss: 0.5369\tAcc: 0.7836\tVal Loss: 0.7274\tVal Acc: 0.7595\tmacro_f1: 0.7447\tlr: 0.000003\n",
      "Epoch 90/100\tLoss: 0.4652\tAcc: 0.7812\tVal Loss: 0.7274\tVal Acc: 0.7658\tmacro_f1: 0.7522\tlr: 0.000003\n",
      "Epoch 91/100\tLoss: 0.7262\tAcc: 0.7833\tVal Loss: 0.7328\tVal Acc: 0.7658\tmacro_f1: 0.7522\tlr: 0.000003\n",
      "Epoch 92/100\tLoss: 0.4319\tAcc: 0.7826\tVal Loss: 0.7316\tVal Acc: 0.7595\tmacro_f1: 0.7447\tlr: 0.000003\n",
      "Epoch 93/100\tLoss: 0.4796\tAcc: 0.7822\tVal Loss: 0.7264\tVal Acc: 0.7658\tmacro_f1: 0.7522\tlr: 0.000002\n",
      "Epoch 94/100\tLoss: 0.5654\tAcc: 0.7812\tVal Loss: 0.7323\tVal Acc: 0.7658\tmacro_f1: 0.7522\tlr: 0.000002\n",
      "Epoch 95/100\tLoss: 0.6734\tAcc: 0.7833\tVal Loss: 0.7328\tVal Acc: 0.7595\tmacro_f1: 0.7447\tlr: 0.000002\n",
      "Epoch 96/100\tLoss: 0.4801\tAcc: 0.7836\tVal Loss: 0.7324\tVal Acc: 0.7658\tmacro_f1: 0.7522\tlr: 0.000002\n",
      "Epoch 97/100\tLoss: 0.6022\tAcc: 0.7826\tVal Loss: 0.7332\tVal Acc: 0.7658\tmacro_f1: 0.7522\tlr: 0.000002\n",
      "Epoch 98/100\tLoss: 0.4791\tAcc: 0.7822\tVal Loss: 0.7331\tVal Acc: 0.7658\tmacro_f1: 0.7522\tlr: 0.000002\n",
      "Epoch 99/100\tLoss: 0.6716\tAcc: 0.7826\tVal Loss: 0.7336\tVal Acc: 0.7658\tmacro_f1: 0.7522\tlr: 0.000002\n",
      "Epoch 100/100\tLoss: 0.4846\tAcc: 0.7840\tVal Loss: 0.7348\tVal Acc: 0.7658\tmacro_f1: 0.7522\tlr: 0.000002\n",
      "Best model found at epoch 21 with validation loss: 0.6416 and f1 sore: 0.7301\n"
     ]
    }
   ],
   "source": [
    "history_model1 = train_model(model1, train_dloader, val_dloader, loss_function, optimizer, scheduler, num_epochs=100, name='model1', verbose=True)"
   ]
  },
  {
   "cell_type": "code",
   "execution_count": 48,
   "metadata": {
    "colab": {
     "base_uri": "https://localhost:8080/",
     "height": 507
    },
    "id": "WrHRmdGdKy_8",
    "outputId": "6d8c259d-d54e-47d9-e907-bb13382ae27b"
   },
   "outputs": [
    {
     "data": {
      "image/png": "[encoded data removed]",
      "text/plain": [
       "<Figure size 1800x500 with 3 Axes>"
      ]
     },
     "metadata": {},
     "output_type": "display_data"
    }
   ],
   "source": [
    "fig, axes = plt.subplots(1, 3, figsize=(18, 5))\n",
    "\n",
    "baseline_model_name = history['model'] == 'model1'\n",
    "\n",
    "history[baseline_model_name].plot(x='epoch', y=['train_loss', 'val_loss'], title='Loss', ax=axes[0])\n",
    "history[baseline_model_name].plot(x='epoch', y=['train_acc', 'val_acc'], title='Accuracy', ax=axes[1])\n",
    "history[baseline_model_name].plot(x='epoch', y='learning_rate', title='Learning Rate', ax=axes[2], logy=True)\n",
    "\n",
    "plt.tight_layout()\n",
    "plt.show()"
   ]
  },
  {
   "cell_type": "code",
   "execution_count": 119,
   "metadata": {},
   "outputs": [
    {
     "data": {
      "text/plain": [
       "0"
      ]
     },
     "execution_count": 119,
     "metadata": {},
     "output_type": "execute_result"
    }
   ],
   "source": [
    "with torch.no_grad():\n",
    "    torch.cuda.empty_cache()\n",
    "\n",
    "gc.collect()"
   ]
  },
  {
   "cell_type": "markdown",
   "metadata": {
    "id": "_849c_EG-bRK"
   },
   "source": [
    "# Task 6: Transformers\n",
    "\n",
    "https://huggingface.co/cardiffnlp/twitter-roberta-base-hate"
   ]
  },
  {
   "cell_type": "markdown",
   "metadata": {
    "id": "eAAOAuYAKy_9"
   },
   "source": [
    "1. **Load the Tokenizer and Model**\n",
    "\n",
    "2. **Preprocess the Dataset**:\n",
    "   You will need to preprocess your dataset to prepare it for input into the model. Tokenize your text data using the appropriate tokenizer and ensure it is formatted correctly.\n",
    "\n",
    "   **Note**: You have to use the plain text of the dataset and not the version that you tokenized before, as you need to tokenize the cleaned text obtained after the initial cleaning process.\n",
    "\n",
    "3. **Train the Model**:\n",
    "   Use the `Trainer` to train the model on your training data.\n",
    "\n",
    "4. **Evaluate the Model on the Test Set** using F1-macro."
   ]
  },
  {
   "cell_type": "code",
   "execution_count": 31,
   "metadata": {},
   "outputs": [
    {
     "data": {
      "text/plain": [
       "33"
      ]
     },
     "execution_count": 31,
     "metadata": {},
     "output_type": "execute_result"
    }
   ],
   "source": [
    "with torch.no_grad():\n",
    "    torch.cuda.empty_cache()\n",
    "\n",
    "gc.collect()"
   ]
  },
  {
   "cell_type": "code",
   "execution_count": 32,
   "metadata": {
    "colab": {
     "base_uri": "https://localhost:8080/",
     "height": 249,
     "referenced_widgets": [
      "5c3a1a083956415abde452c1be524c82",
      "c01e95dcb722437ab45b4d65814b7418",
      "7c0102045e404b5984f835445b95c3b1",
      "40f6c8af291f4be1a1c2fa2dd57abfe9",
      "f94cbdd078c24cc2a69cbdffc90eac15",
      "d5ed0adc494b488ba77f3d9efd0ec993",
      "4030652c9de24715b20e7039f4b50121",
      "84ff4e3fb3fa41d3932651f23b9cdecc",
      "2ffc89423843499a8e99f8856d4973dd",
      "c218e86aa39949638b906bf3479448ef",
      "cd79821f9e9649f78045cf8dbef02c4e",
      "28dccf930b144cc0a530930f0cf367f4",
      "88a0e113bd0646298bcec72d1d1c59e4",
      "420d900b51c049c29b7ce6f38024d490",
      "1c57201798964ff48caf2d5b4b6efd84",
      "ad5a55bfe5da4905bbd53d4339579fd7",
      "04ee46a0320041b780f962830d76eda9",
      "26021d35a543461d9f21251a4e80a442",
      "2de41fc2d2db4682857ed2ef0313ac84",
      "554d5a3aa12b4f36a5b8d783dd664da6",
      "3027a9f20c254eb099552e5c990af8b3",
      "3b95da522d6240f29d84ec8632f9698d",
      "3cfda71e8ca242c28ad1feae6fae9fbf",
      "be07c371e22b45f29bd471f532f99be7",
      "35ac8a335b644414826ad8cf54f2b777",
      "1e470d2da2ed40429c20490a89180d46",
      "cf7f242b3abe448ca80b52ff16b9c891",
      "1c6539cd702b439192a5256155dc217b",
      "98711ed6949e4a77a50e78b1e8868977",
      "3579813e5f43417c8afeee7e7c8ac7e4",
      "c7d6d6009e064c0c904a7ac3752e94a5",
      "1129c02ea1554f93a16e2625e64d9abb",
      "67e96609371e461cbc16104cb20850f5",
      "58fb238c87d3435cb390410ea3de38a1",
      "e437575f0de94048a9a7b23228345be9",
      "3b44fb3eeec14f0582a1b5f1f592da62",
      "fbbc1d51ecc041fca58032acabb25518",
      "4a9151e40c734e57a530d705f0646012",
      "b00bd5dc27a0472da080aa3c4411c647",
      "2f65a0a66db342b5ad768624af7121ca",
      "0f3496af1279470b870f2d785b7f0f68",
      "b3ebb5d1b5ec450eb8a16ad59afd2da2",
      "f44eb28f8d9245f68b838ea068dcde7c",
      "b61e11b471524addb814d02bb63d9b59"
     ]
    },
    "id": "wmyoK7ToKy_9",
    "outputId": "6fe1de38-bb69-4484-fbc3-9e2ec20eea69"
   },
   "outputs": [],
   "source": [
    "model_card = 'cardiffnlp/twitter-roberta-base-hate'\n",
    "\n",
    "tokenizer = AutoTokenizer.from_pretrained(model_card)"
   ]
  },
  {
   "cell_type": "code",
   "execution_count": 33,
   "metadata": {
    "id": "Xm9q59AUKy_-"
   },
   "outputs": [],
   "source": [
    "train_data = Dataset.from_pandas(train)\n",
    "val_data = Dataset.from_pandas(val)\n",
    "test_data = Dataset.from_pandas(test)"
   ]
  },
  {
   "cell_type": "code",
   "execution_count": 34,
   "metadata": {
    "id": "zUaTGLO3Ky_-"
   },
   "outputs": [],
   "source": [
    "def preprocess_text(texts):\n",
    "    return tokenizer(texts['tweet'], truncation=True)"
   ]
  },
  {
   "cell_type": "code",
   "execution_count": 35,
   "metadata": {
    "colab": {
     "base_uri": "https://localhost:8080/",
     "height": 130,
     "referenced_widgets": [
      "4e5f746185884c8f9d67c25aeb273612",
      "6edc984687714c19ad6a5e3fd3e17134",
      "2a8872935c2843a6b94428f23897aa3f",
      "0920bd1fdd284b9f9af3f5e21d428c38",
      "090140c074524183abfbd406c1f0d5e3",
      "f0d20bfa7f0b45358f747edac340206e",
      "47571ddff12e4f909efed5c6309d2dab",
      "d2769be6dcd0465dbe7f88b7ef362316",
      "ac9957e47437475cb4c5f3eb4f881b71",
      "e3519d06d2414dae92c84ebc8465a3e4",
      "cd0d6956fba841b08f58687cab9e9e08",
      "37f66d9cf33a47ada2686f6e53786037",
      "6c4fc2faa6af44208668012e174a4bc1",
      "0c9b51807f394084ab0979d99050be20",
      "5e04671d154d419890e52041ef3438d5",
      "ddfbf8c36fb04deeb94cfa59fc8cfdda",
      "7b81028c021940aaa0b200f512cebefc",
      "b47eb17bee3f425cb9d94967cf01fd7a",
      "8139ab4fe1f1448d975c454a23c194a8",
      "abee19e517624c86a1c562b696c5adc0",
      "dfe60d2809ad48b5a8729d22acf3ef86",
      "40456ad7b7714ec184a7c1d7581e570f",
      "3c5eb369876d44409c4f288cb72d0e3b",
      "2bcb8684d9ac49e9ad25fb0f8e9cf346",
      "b02ed2fb2f3046d1b34355e37b161a48",
      "f20c4ac2403044ef9bd36e53f3c76790",
      "81cee81cb4854d989b86b0045bc6a8d6",
      "7d972ca22b8f4db1bd66c0f15af5c41d",
      "29665a22c8b4472686e11f20e70e1ea2",
      "3777b33ded3d47209a015103f1397e4c",
      "8ccb927b3be746fba4d15d43764f3e0b",
      "27e30795aac84f428a750f30964c5499",
      "b0968e16a21e49b08af5670e21e11c23"
     ]
    },
    "id": "9iUuHtPkKy_-",
    "outputId": "a8a51d4c-aae1-4ef6-fc9f-601b31a3db19"
   },
   "outputs": [
    {
     "data": {
      "application/vnd.jupyter.widget-view+json": {
       "model_id": "962ad23b0e8246549e0d0be5f8d5a2a9",
       "version_major": 2,
       "version_minor": 0
      },
      "text/plain": [
       "Map:   0%|          | 0/2870 [00:00<?, ? examples/s]"
      ]
     },
     "metadata": {},
     "output_type": "display_data"
    },
    {
     "name": "stderr",
     "output_type": "stream",
     "text": [
      "Asking to truncate to max_length but no maximum length is provided and the model has no predefined maximum length. Default to no truncation.\n"
     ]
    },
    {
     "data": {
      "application/vnd.jupyter.widget-view+json": {
       "model_id": "8172da678688453b920e75cbe3c4c0ad",
       "version_major": 2,
       "version_minor": 0
      },
      "text/plain": [
       "Map:   0%|          | 0/158 [00:00<?, ? examples/s]"
      ]
     },
     "metadata": {},
     "output_type": "display_data"
    },
    {
     "data": {
      "application/vnd.jupyter.widget-view+json": {
       "model_id": "09e1ae94d502417d9e15140ae3c981cf",
       "version_major": 2,
       "version_minor": 0
      },
      "text/plain": [
       "Map:   0%|          | 0/286 [00:00<?, ? examples/s]"
      ]
     },
     "metadata": {},
     "output_type": "display_data"
    }
   ],
   "source": [
    "train_data = train_data.map(preprocess_text, batched=True)\n",
    "val_data = val_data.map(preprocess_text, batched=True)\n",
    "test_data = test_data.map(preprocess_text, batched=True)"
   ]
  },
  {
   "cell_type": "code",
   "execution_count": 36,
   "metadata": {
    "id": "qpR_e0iCPIEd"
   },
   "outputs": [],
   "source": [
    "train_data = train_data.rename_column('hard_label_task1', 'label')\n",
    "test_data = test_data.rename_column('hard_label_task1', 'label')"
   ]
  },
  {
   "cell_type": "code",
   "execution_count": 37,
   "metadata": {
    "colab": {
     "base_uri": "https://localhost:8080/"
    },
    "id": "ul9uJW1NKy__",
    "outputId": "f77076ba-344c-4a01-bd23-8e75117394d8"
   },
   "outputs": [
    {
     "name": "stdout",
     "output_type": "stream",
     "text": [
      "Dataset({\n",
      "    features: ['id_EXIST', 'lang', 'tweet', 'label', '__index_level_0__', 'input_ids', 'attention_mask'],\n",
      "    num_rows: 2870\n",
      "})\n",
      "Dataset({\n",
      "    features: ['id_EXIST', 'lang', 'tweet', 'label', '__index_level_0__', 'input_ids', 'attention_mask'],\n",
      "    num_rows: 286\n",
      "})\n"
     ]
    }
   ],
   "source": [
    "print(train_data)\n",
    "print(test_data)"
   ]
  },
  {
   "cell_type": "code",
   "execution_count": 38,
   "metadata": {
    "colab": {
     "base_uri": "https://localhost:8080/"
    },
    "id": "A9KE0IjCKy__",
    "outputId": "2d5035bd-2a7a-4d19-ab26-222ca5c716b2"
   },
   "outputs": [
    {
     "name": "stdout",
     "output_type": "stream",
     "text": [
      "i get it kind of of woman are going after about of men and ignoring the rest according to statistic of dating apps so that s a pain point for some men but is hating woman really a main component to being an incel and what s the difference between mgtow and incel\n",
      "\n",
      "\n",
      "<s>i get it kind of of woman are going after about of men and ignoring the rest according to statistic of dating apps so that s a pain point for some men but is hating woman really a main component to being an incel and what s the difference between mgtow and incel</s>\n"
     ]
    }
   ],
   "source": [
    "original_text = train_data['tweet'][50]\n",
    "decoded_text = tokenizer.decode(train_data['input_ids'][50])\n",
    "print(original_text)\n",
    "print()\n",
    "print()\n",
    "print(decoded_text)"
   ]
  },
  {
   "cell_type": "code",
   "execution_count": 39,
   "metadata": {
    "id": "r8XaSgBQKy__"
   },
   "outputs": [],
   "source": [
    "data_collator = DataCollatorWithPadding(tokenizer=tokenizer)"
   ]
  },
  {
   "cell_type": "code",
   "execution_count": 40,
   "metadata": {
    "id": "UirlsPDnKy__"
   },
   "outputs": [],
   "source": [
    "model = AutoModelForSequenceClassification.from_pretrained(model_card,\n",
    "                                                           num_labels=2,\n",
    "                                                           id2label={0: 'NEG', 1: 'POS'},\n",
    "                                                           label2id={'NEG': 0, 'POS': 1})"
   ]
  },
  {
   "cell_type": "code",
   "execution_count": 41,
   "metadata": {
    "colab": {
     "base_uri": "https://localhost:8080/"
    },
    "id": "CL2HAsspKzAA",
    "outputId": "48efe60b-2d3d-4cad-ff46-45ce6a16a45f"
   },
   "outputs": [
    {
     "name": "stdout",
     "output_type": "stream",
     "text": [
      "RobertaForSequenceClassification(\n",
      "  (roberta): RobertaModel(\n",
      "    (embeddings): RobertaEmbeddings(\n",
      "      (word_embeddings): Embedding(50265, 768, padding_idx=1)\n",
      "      (position_embeddings): Embedding(514, 768, padding_idx=1)\n",
      "      (token_type_embeddings): Embedding(1, 768)\n",
      "      (LayerNorm): LayerNorm((768,), eps=1e-05, elementwise_affine=True)\n",
      "      (dropout): Dropout(p=0.1, inplace=False)\n",
      "    )\n",
      "    (encoder): RobertaEncoder(\n",
      "      (layer): ModuleList(\n",
      "        (0-11): 12 x RobertaLayer(\n",
      "          (attention): RobertaAttention(\n",
      "            (self): RobertaSdpaSelfAttention(\n",
      "              (query): Linear(in_features=768, out_features=768, bias=True)\n",
      "              (key): Linear(in_features=768, out_features=768, bias=True)\n",
      "              (value): Linear(in_features=768, out_features=768, bias=True)\n",
      "              (dropout): Dropout(p=0.1, inplace=False)\n",
      "            )\n",
      "            (output): RobertaSelfOutput(\n",
      "              (dense): Linear(in_features=768, out_features=768, bias=True)\n",
      "              (LayerNorm): LayerNorm((768,), eps=1e-05, elementwise_affine=True)\n",
      "              (dropout): Dropout(p=0.1, inplace=False)\n",
      "            )\n",
      "          )\n",
      "          (intermediate): RobertaIntermediate(\n",
      "            (dense): Linear(in_features=768, out_features=3072, bias=True)\n",
      "            (intermediate_act_fn): GELUActivation()\n",
      "          )\n",
      "          (output): RobertaOutput(\n",
      "            (dense): Linear(in_features=3072, out_features=768, bias=True)\n",
      "            (LayerNorm): LayerNorm((768,), eps=1e-05, elementwise_affine=True)\n",
      "            (dropout): Dropout(p=0.1, inplace=False)\n",
      "          )\n",
      "        )\n",
      "      )\n",
      "    )\n",
      "  )\n",
      "  (classifier): RobertaClassificationHead(\n",
      "    (dense): Linear(in_features=768, out_features=768, bias=True)\n",
      "    (dropout): Dropout(p=0.1, inplace=False)\n",
      "    (out_proj): Linear(in_features=768, out_features=2, bias=True)\n",
      "  )\n",
      ")\n"
     ]
    }
   ],
   "source": [
    "print(model)"
   ]
  },
  {
   "cell_type": "code",
   "execution_count": 42,
   "metadata": {
    "id": "vIGH8YkjKzAA"
   },
   "outputs": [],
   "source": [
    "def compute_metrics(output_info):\n",
    "    predictions, labels = output_info\n",
    "    predictions = np.argmax(predictions, axis=-1)\n",
    "\n",
    "    f1 = f1_score(y_pred=predictions, y_true=labels, average='macro')\n",
    "    acc = accuracy_score(y_pred=predictions, y_true=labels)\n",
    "    return {'f1': f1, 'acc': acc}"
   ]
  },
  {
   "cell_type": "code",
   "execution_count": 43,
   "metadata": {
    "id": "SsahfUD4KzAA"
   },
   "outputs": [],
   "source": [
    "training_args = TrainingArguments(\n",
    "    output_dir=\"models\",                 # where to save model\n",
    "    learning_rate=8e-6,\n",
    "    per_device_train_batch_size=BATCH_SIZE,         # accelerate defines distributed training\n",
    "    per_device_eval_batch_size=BATCH_SIZE,\n",
    "    num_train_epochs=10,\n",
    "    weight_decay=1e-3,\n",
    "    eval_strategy=\"epoch\",           # when to report evaluation metrics/losses\n",
    "    save_strategy=\"epoch\",                 # when to save checkpoint\n",
    "    torch_empty_cache_steps=100,\n",
    "    load_best_model_at_end=True,\n",
    "    report_to='none',                    # disabling wandb (default)\n",
    "    seed=detector.SEED,\n",
    "    data_seed=detector.SEED,\n",
    ")"
   ]
  },
  {
   "cell_type": "code",
   "execution_count": 44,
   "metadata": {
    "id": "FthvNMvOKzAA"
   },
   "outputs": [],
   "source": [
    "trainer = Trainer(\n",
    "    model=model,\n",
    "    args=training_args,\n",
    "    train_dataset=train_data,\n",
    "    eval_dataset=test_data,\n",
    "    processing_class=tokenizer,\n",
    "    data_collator=data_collator,\n",
    "    compute_metrics=compute_metrics,\n",
    ")"
   ]
  },
  {
   "cell_type": "code",
   "execution_count": 45,
   "metadata": {
    "colab": {
     "base_uri": "https://localhost:8080/",
     "height": 424
    },
    "id": "3jGdDKRJKzAA",
    "outputId": "c6af8843-bbce-410b-c37b-b3e26310c0cf"
   },
   "outputs": [
    {
     "data": {
      "text/html": [
       "\n",
       "    <div>\n",
       "      \n",
       "      <progress value='230' max='230' style='width:300px; height:20px; vertical-align: middle;'></progress>\n",
       "      [230/230 02:58, Epoch 10/10]\n",
       "    </div>\n",
       "    <table border=\"1\" class=\"dataframe\">\n",
       "  <thead>\n",
       " <tr style=\"text-align: left;\">\n",
       "      <th>Epoch</th>\n",
       "      <th>Training Loss</th>\n",
       "      <th>Validation Loss</th>\n",
       "      <th>F1</th>\n",
       "      <th>Acc</th>\n",
       "    </tr>\n",
       "  </thead>\n",
       "  <tbody>\n",
       "    <tr>\n",
       "      <td>1</td>\n",
       "      <td>No log</td>\n",
       "      <td>0.398333</td>\n",
       "      <td>0.813479</td>\n",
       "      <td>0.814685</td>\n",
       "    </tr>\n",
       "    <tr>\n",
       "      <td>2</td>\n",
       "      <td>No log</td>\n",
       "      <td>0.378905</td>\n",
       "      <td>0.823935</td>\n",
       "      <td>0.825175</td>\n",
       "    </tr>\n",
       "    <tr>\n",
       "      <td>3</td>\n",
       "      <td>No log</td>\n",
       "      <td>0.364906</td>\n",
       "      <td>0.844665</td>\n",
       "      <td>0.846154</td>\n",
       "    </tr>\n",
       "    <tr>\n",
       "      <td>4</td>\n",
       "      <td>No log</td>\n",
       "      <td>0.370191</td>\n",
       "      <td>0.836571</td>\n",
       "      <td>0.839161</td>\n",
       "    </tr>\n",
       "    <tr>\n",
       "      <td>5</td>\n",
       "      <td>No log</td>\n",
       "      <td>0.375934</td>\n",
       "      <td>0.836571</td>\n",
       "      <td>0.839161</td>\n",
       "    </tr>\n",
       "    <tr>\n",
       "      <td>6</td>\n",
       "      <td>No log</td>\n",
       "      <td>0.379062</td>\n",
       "      <td>0.844203</td>\n",
       "      <td>0.846154</td>\n",
       "    </tr>\n",
       "    <tr>\n",
       "      <td>7</td>\n",
       "      <td>No log</td>\n",
       "      <td>0.382213</td>\n",
       "      <td>0.843948</td>\n",
       "      <td>0.846154</td>\n",
       "    </tr>\n",
       "    <tr>\n",
       "      <td>8</td>\n",
       "      <td>No log</td>\n",
       "      <td>0.384688</td>\n",
       "      <td>0.843948</td>\n",
       "      <td>0.846154</td>\n",
       "    </tr>\n",
       "    <tr>\n",
       "      <td>9</td>\n",
       "      <td>No log</td>\n",
       "      <td>0.390664</td>\n",
       "      <td>0.832867</td>\n",
       "      <td>0.835664</td>\n",
       "    </tr>\n",
       "    <tr>\n",
       "      <td>10</td>\n",
       "      <td>No log</td>\n",
       "      <td>0.392415</td>\n",
       "      <td>0.833166</td>\n",
       "      <td>0.835664</td>\n",
       "    </tr>\n",
       "  </tbody>\n",
       "</table><p>"
      ],
      "text/plain": [
       "<IPython.core.display.HTML object>"
      ]
     },
     "metadata": {},
     "output_type": "display_data"
    },
    {
     "data": {
      "text/plain": [
       "TrainOutput(global_step=230, training_loss=0.2854091810143512, metrics={'train_runtime': 179.219, 'train_samples_per_second': 160.139, 'train_steps_per_second': 1.283, 'total_flos': 975996070972080.0, 'train_loss': 0.2854091810143512, 'epoch': 10.0})"
      ]
     },
     "execution_count": 45,
     "metadata": {},
     "output_type": "execute_result"
    }
   ],
   "source": [
    "trainer.train()"
   ]
  },
  {
   "cell_type": "markdown",
   "metadata": {
    "id": "qoCoBkHN-bRK"
   },
   "source": [
    "# Task 7: Error Analysis\n",
    "\n",
    "After evaluating the model, perform a brief error analysis:\n",
    "\n",
    " - Review the results and identify common errors.\n",
    "\n",
    " - Summarize your findings regarding the errors and their impact on performance (e.g. but not limited to Out-of-Vocabulary (OOV) words, data imbalance, and performance differences between the custom model and the transformer...)\n",
    " - Suggest possible solutions to address the identified errors."
   ]
  },
  {
   "cell_type": "markdown",
   "metadata": {
    "id": "lCNhVqZ9-bRL"
   },
   "source": [
    "# Task 8: Report\n",
    "\n",
    "Wrap up your experiment in a short report (up to 2 pages).\n",
    "\n",
    "* Use the NLP course report template.\n",
    "* Summarize each task in the report following the provided template.\n",
    "\n",
    "The report is not a copy-paste of graphs, tables, and command outputs.\n",
    "\n",
    "* Summarize classification performance in Table format.\n",
    "* **Do not** report command outputs or screenshots.\n",
    "* Report learning curves in Figure format.\n",
    "* The error analysis section should summarize your findings."
   ]
  }
 ],
 "metadata": {
  "accelerator": "GPU",
  "colab": {
   "gpuType": "T4",
   "provenance": []
  },
  "kernelspec": {
   "display_name": ".venv",
   "language": "python",
   "name": "python3"
  },
  "language_info": {
   "codemirror_mode": {
    "name": "ipython",
    "version": 3
   },
   "file_extension": ".py",
   "mimetype": "text/x-python",
   "name": "python",
   "nbconvert_exporter": "python",
   "pygments_lexer": "ipython3",
   "version": "3.12.3"
  },
  "widgets": {
   "application/vnd.jupyter.widget-state+json": {
    "04ee46a0320041b780f962830d76eda9": {
     "model_module": "@jupyter-widgets/base",
     "model_module_version": "1.2.0",
     "model_name": "LayoutModel",
     "state": {
      "_model_module": "@jupyter-widgets/base",
      "_model_module_version": "1.2.0",
      "_model_name": "LayoutModel",
      "_view_count": null,
      "_view_module": "@jupyter-widgets/base",
      "_view_module_version": "1.2.0",
      "_view_name": "LayoutView",
      "align_content": null,
      "align_items": null,
      "align_self": null,
      "border": null,
      "bottom": null,
      "display": null,
      "flex": null,
      "flex_flow": null,
      "grid_area": null,
      "grid_auto_columns": null,
      "grid_auto_flow": null,
      "grid_auto_rows": null,
      "grid_column": null,
      "grid_gap": null,
      "grid_row": null,
      "grid_template_areas": null,
      "grid_template_columns": null,
      "grid_template_rows": null,
      "height": null,
      "justify_content": null,
      "justify_items": null,
      "left": null,
      "margin": null,
      "max_height": null,
      "max_width": null,
      "min_height": null,
      "min_width": null,
      "object_fit": null,
      "object_position": null,
      "order": null,
      "overflow": null,
      "overflow_x": null,
      "overflow_y": null,
      "padding": null,
      "right": null,
      "top": null,
      "visibility": null,
      "width": null
     }
    },
    "090140c074524183abfbd406c1f0d5e3": {
     "model_module": "@jupyter-widgets/base",
     "model_module_version": "1.2.0",
     "model_name": "LayoutModel",
     "state": {
      "_model_module": "@jupyter-widgets/base",
      "_model_module_version": "1.2.0",
      "_model_name": "LayoutModel",
      "_view_count": null,
      "_view_module": "@jupyter-widgets/base",
      "_view_module_version": "1.2.0",
      "_view_name": "LayoutView",
      "align_content": null,
      "align_items": null,
      "align_self": null,
      "border": null,
      "bottom": null,
      "display": null,
      "flex": null,
      "flex_flow": null,
      "grid_area": null,
      "grid_auto_columns": null,
      "grid_auto_flow": null,
      "grid_auto_rows": null,
      "grid_column": null,
      "grid_gap": null,
      "grid_row": null,
      "grid_template_areas": null,
      "grid_template_columns": null,
      "grid_template_rows": null,
      "height": null,
      "justify_content": null,
      "justify_items": null,
      "left": null,
      "margin": null,
      "max_height": null,
      "max_width": null,
      "min_height": null,
      "min_width": null,
      "object_fit": null,
      "object_position": null,
      "order": null,
      "overflow": null,
      "overflow_x": null,
      "overflow_y": null,
      "padding": null,
      "right": null,
      "top": null,
      "visibility": null,
      "width": null
     }
    },
    "0920bd1fdd284b9f9af3f5e21d428c38": {
     "model_module": "@jupyter-widgets/controls",
     "model_module_version": "1.5.0",
     "model_name": "HTMLModel",
     "state": {
      "_dom_classes": [],
      "_model_module": "@jupyter-widgets/controls",
      "_model_module_version": "1.5.0",
      "_model_name": "HTMLModel",
      "_view_count": null,
      "_view_module": "@jupyter-widgets/controls",
      "_view_module_version": "1.5.0",
      "_view_name": "HTMLView",
      "description": "",
      "description_tooltip": null,
      "layout": "IPY_MODEL_e3519d06d2414dae92c84ebc8465a3e4",
      "placeholder": "​",
      "style": "IPY_MODEL_cd0d6956fba841b08f58687cab9e9e08",
      "value": " 2870/2870 [00:00&lt;00:00, 7516.83 examples/s]"
     }
    },
    "0c9b51807f394084ab0979d99050be20": {
     "model_module": "@jupyter-widgets/controls",
     "model_module_version": "1.5.0",
     "model_name": "FloatProgressModel",
     "state": {
      "_dom_classes": [],
      "_model_module": "@jupyter-widgets/controls",
      "_model_module_version": "1.5.0",
      "_model_name": "FloatProgressModel",
      "_view_count": null,
      "_view_module": "@jupyter-widgets/controls",
      "_view_module_version": "1.5.0",
      "_view_name": "ProgressView",
      "bar_style": "success",
      "description": "",
      "description_tooltip": null,
      "layout": "IPY_MODEL_8139ab4fe1f1448d975c454a23c194a8",
      "max": 158,
      "min": 0,
      "orientation": "horizontal",
      "style": "IPY_MODEL_abee19e517624c86a1c562b696c5adc0",
      "value": 158
     }
    },
    "0f3496af1279470b870f2d785b7f0f68": {
     "model_module": "@jupyter-widgets/base",
     "model_module_version": "1.2.0",
     "model_name": "LayoutModel",
     "state": {
      "_model_module": "@jupyter-widgets/base",
      "_model_module_version": "1.2.0",
      "_model_name": "LayoutModel",
      "_view_count": null,
      "_view_module": "@jupyter-widgets/base",
      "_view_module_version": "1.2.0",
      "_view_name": "LayoutView",
      "align_content": null,
      "align_items": null,
      "align_self": null,
      "border": null,
      "bottom": null,
      "display": null,
      "flex": null,
      "flex_flow": null,
      "grid_area": null,
      "grid_auto_columns": null,
      "grid_auto_flow": null,
      "grid_auto_rows": null,
      "grid_column": null,
      "grid_gap": null,
      "grid_row": null,
      "grid_template_areas": null,
      "grid_template_columns": null,
      "grid_template_rows": null,
      "height": null,
      "justify_content": null,
      "justify_items": null,
      "left": null,
      "margin": null,
      "max_height": null,
      "max_width": null,
      "min_height": null,
      "min_width": null,
      "object_fit": null,
      "object_position": null,
      "order": null,
      "overflow": null,
      "overflow_x": null,
      "overflow_y": null,
      "padding": null,
      "right": null,
      "top": null,
      "visibility": null,
      "width": null
     }
    },
    "1129c02ea1554f93a16e2625e64d9abb": {
     "model_module": "@jupyter-widgets/base",
     "model_module_version": "1.2.0",
     "model_name": "LayoutModel",
     "state": {
      "_model_module": "@jupyter-widgets/base",
      "_model_module_version": "1.2.0",
      "_model_name": "LayoutModel",
      "_view_count": null,
      "_view_module": "@jupyter-widgets/base",
      "_view_module_version": "1.2.0",
      "_view_name": "LayoutView",
      "align_content": null,
      "align_items": null,
      "align_self": null,
      "border": null,
      "bottom": null,
      "display": null,
      "flex": null,
      "flex_flow": null,
      "grid_area": null,
      "grid_auto_columns": null,
      "grid_auto_flow": null,
      "grid_auto_rows": null,
      "grid_column": null,
      "grid_gap": null,
      "grid_row": null,
      "grid_template_areas": null,
      "grid_template_columns": null,
      "grid_template_rows": null,
      "height": null,
      "justify_content": null,
      "justify_items": null,
      "left": null,
      "margin": null,
      "max_height": null,
      "max_width": null,
      "min_height": null,
      "min_width": null,
      "object_fit": null,
      "object_position": null,
      "order": null,
      "overflow": null,
      "overflow_x": null,
      "overflow_y": null,
      "padding": null,
      "right": null,
      "top": null,
      "visibility": null,
      "width": null
     }
    },
    "1c57201798964ff48caf2d5b4b6efd84": {
     "model_module": "@jupyter-widgets/controls",
     "model_module_version": "1.5.0",
     "model_name": "HTMLModel",
     "state": {
      "_dom_classes": [],
      "_model_module": "@jupyter-widgets/controls",
      "_model_module_version": "1.5.0",
      "_model_name": "HTMLModel",
      "_view_count": null,
      "_view_module": "@jupyter-widgets/controls",
      "_view_module_version": "1.5.0",
      "_view_name": "HTMLView",
      "description": "",
      "description_tooltip": null,
      "layout": "IPY_MODEL_3027a9f20c254eb099552e5c990af8b3",
      "placeholder": "​",
      "style": "IPY_MODEL_3b95da522d6240f29d84ec8632f9698d",
      "value": " 899k/899k [00:00&lt;00:00, 3.45MB/s]"
     }
    },
    "1c6539cd702b439192a5256155dc217b": {
     "model_module": "@jupyter-widgets/base",
     "model_module_version": "1.2.0",
     "model_name": "LayoutModel",
     "state": {
      "_model_module": "@jupyter-widgets/base",
      "_model_module_version": "1.2.0",
      "_model_name": "LayoutModel",
      "_view_count": null,
      "_view_module": "@jupyter-widgets/base",
      "_view_module_version": "1.2.0",
      "_view_name": "LayoutView",
      "align_content": null,
      "align_items": null,
      "align_self": null,
      "border": null,
      "bottom": null,
      "display": null,
      "flex": null,
      "flex_flow": null,
      "grid_area": null,
      "grid_auto_columns": null,
      "grid_auto_flow": null,
      "grid_auto_rows": null,
      "grid_column": null,
      "grid_gap": null,
      "grid_row": null,
      "grid_template_areas": null,
      "grid_template_columns": null,
      "grid_template_rows": null,
      "height": null,
      "justify_content": null,
      "justify_items": null,
      "left": null,
      "margin": null,
      "max_height": null,
      "max_width": null,
      "min_height": null,
      "min_width": null,
      "object_fit": null,
      "object_position": null,
      "order": null,
      "overflow": null,
      "overflow_x": null,
      "overflow_y": null,
      "padding": null,
      "right": null,
      "top": null,
      "visibility": null,
      "width": null
     }
    },
    "1e470d2da2ed40429c20490a89180d46": {
     "model_module": "@jupyter-widgets/controls",
     "model_module_version": "1.5.0",
     "model_name": "HTMLModel",
     "state": {
      "_dom_classes": [],
      "_model_module": "@jupyter-widgets/controls",
      "_model_module_version": "1.5.0",
      "_model_name": "HTMLModel",
      "_view_count": null,
      "_view_module": "@jupyter-widgets/controls",
      "_view_module_version": "1.5.0",
      "_view_name": "HTMLView",
      "description": "",
      "description_tooltip": null,
      "layout": "IPY_MODEL_1129c02ea1554f93a16e2625e64d9abb",
      "placeholder": "​",
      "style": "IPY_MODEL_67e96609371e461cbc16104cb20850f5",
      "value": " 456k/456k [00:00&lt;00:00, 6.98MB/s]"
     }
    },
    "26021d35a543461d9f21251a4e80a442": {
     "model_module": "@jupyter-widgets/controls",
     "model_module_version": "1.5.0",
     "model_name": "DescriptionStyleModel",
     "state": {
      "_model_module": "@jupyter-widgets/controls",
      "_model_module_version": "1.5.0",
      "_model_name": "DescriptionStyleModel",
      "_view_count": null,
      "_view_module": "@jupyter-widgets/base",
      "_view_module_version": "1.2.0",
      "_view_name": "StyleView",
      "description_width": ""
     }
    },
    "27e30795aac84f428a750f30964c5499": {
     "model_module": "@jupyter-widgets/base",
     "model_module_version": "1.2.0",
     "model_name": "LayoutModel",
     "state": {
      "_model_module": "@jupyter-widgets/base",
      "_model_module_version": "1.2.0",
      "_model_name": "LayoutModel",
      "_view_count": null,
      "_view_module": "@jupyter-widgets/base",
      "_view_module_version": "1.2.0",
      "_view_name": "LayoutView",
      "align_content": null,
      "align_items": null,
      "align_self": null,
      "border": null,
      "bottom": null,
      "display": null,
      "flex": null,
      "flex_flow": null,
      "grid_area": null,
      "grid_auto_columns": null,
      "grid_auto_flow": null,
      "grid_auto_rows": null,
      "grid_column": null,
      "grid_gap": null,
      "grid_row": null,
      "grid_template_areas": null,
      "grid_template_columns": null,
      "grid_template_rows": null,
      "height": null,
      "justify_content": null,
      "justify_items": null,
      "left": null,
      "margin": null,
      "max_height": null,
      "max_width": null,
      "min_height": null,
      "min_width": null,
      "object_fit": null,
      "object_position": null,
      "order": null,
      "overflow": null,
      "overflow_x": null,
      "overflow_y": null,
      "padding": null,
      "right": null,
      "top": null,
      "visibility": null,
      "width": null
     }
    },
    "28dccf930b144cc0a530930f0cf367f4": {
     "model_module": "@jupyter-widgets/controls",
     "model_module_version": "1.5.0",
     "model_name": "HBoxModel",
     "state": {
      "_dom_classes": [],
      "_model_module": "@jupyter-widgets/controls",
      "_model_module_version": "1.5.0",
      "_model_name": "HBoxModel",
      "_view_count": null,
      "_view_module": "@jupyter-widgets/controls",
      "_view_module_version": "1.5.0",
      "_view_name": "HBoxView",
      "box_style": "",
      "children": [
       "IPY_MODEL_88a0e113bd0646298bcec72d1d1c59e4",
       "IPY_MODEL_420d900b51c049c29b7ce6f38024d490",
       "IPY_MODEL_1c57201798964ff48caf2d5b4b6efd84"
      ],
      "layout": "IPY_MODEL_ad5a55bfe5da4905bbd53d4339579fd7"
     }
    },
    "29665a22c8b4472686e11f20e70e1ea2": {
     "model_module": "@jupyter-widgets/controls",
     "model_module_version": "1.5.0",
     "model_name": "DescriptionStyleModel",
     "state": {
      "_model_module": "@jupyter-widgets/controls",
      "_model_module_version": "1.5.0",
      "_model_name": "DescriptionStyleModel",
      "_view_count": null,
      "_view_module": "@jupyter-widgets/base",
      "_view_module_version": "1.2.0",
      "_view_name": "StyleView",
      "description_width": ""
     }
    },
    "2a8872935c2843a6b94428f23897aa3f": {
     "model_module": "@jupyter-widgets/controls",
     "model_module_version": "1.5.0",
     "model_name": "FloatProgressModel",
     "state": {
      "_dom_classes": [],
      "_model_module": "@jupyter-widgets/controls",
      "_model_module_version": "1.5.0",
      "_model_name": "FloatProgressModel",
      "_view_count": null,
      "_view_module": "@jupyter-widgets/controls",
      "_view_module_version": "1.5.0",
      "_view_name": "ProgressView",
      "bar_style": "success",
      "description": "",
      "description_tooltip": null,
      "layout": "IPY_MODEL_d2769be6dcd0465dbe7f88b7ef362316",
      "max": 2870,
      "min": 0,
      "orientation": "horizontal",
      "style": "IPY_MODEL_ac9957e47437475cb4c5f3eb4f881b71",
      "value": 2870
     }
    },
    "2bcb8684d9ac49e9ad25fb0f8e9cf346": {
     "model_module": "@jupyter-widgets/controls",
     "model_module_version": "1.5.0",
     "model_name": "HTMLModel",
     "state": {
      "_dom_classes": [],
      "_model_module": "@jupyter-widgets/controls",
      "_model_module_version": "1.5.0",
      "_model_name": "HTMLModel",
      "_view_count": null,
      "_view_module": "@jupyter-widgets/controls",
      "_view_module_version": "1.5.0",
      "_view_name": "HTMLView",
      "description": "",
      "description_tooltip": null,
      "layout": "IPY_MODEL_7d972ca22b8f4db1bd66c0f15af5c41d",
      "placeholder": "​",
      "style": "IPY_MODEL_29665a22c8b4472686e11f20e70e1ea2",
      "value": "Map: 100%"
     }
    },
    "2de41fc2d2db4682857ed2ef0313ac84": {
     "model_module": "@jupyter-widgets/base",
     "model_module_version": "1.2.0",
     "model_name": "LayoutModel",
     "state": {
      "_model_module": "@jupyter-widgets/base",
      "_model_module_version": "1.2.0",
      "_model_name": "LayoutModel",
      "_view_count": null,
      "_view_module": "@jupyter-widgets/base",
      "_view_module_version": "1.2.0",
      "_view_name": "LayoutView",
      "align_content": null,
      "align_items": null,
      "align_self": null,
      "border": null,
      "bottom": null,
      "display": null,
      "flex": null,
      "flex_flow": null,
      "grid_area": null,
      "grid_auto_columns": null,
      "grid_auto_flow": null,
      "grid_auto_rows": null,
      "grid_column": null,
      "grid_gap": null,
      "grid_row": null,
      "grid_template_areas": null,
      "grid_template_columns": null,
      "grid_template_rows": null,
      "height": null,
      "justify_content": null,
      "justify_items": null,
      "left": null,
      "margin": null,
      "max_height": null,
      "max_width": null,
      "min_height": null,
      "min_width": null,
      "object_fit": null,
      "object_position": null,
      "order": null,
      "overflow": null,
      "overflow_x": null,
      "overflow_y": null,
      "padding": null,
      "right": null,
      "top": null,
      "visibility": null,
      "width": null
     }
    },
    "2f65a0a66db342b5ad768624af7121ca": {
     "model_module": "@jupyter-widgets/controls",
     "model_module_version": "1.5.0",
     "model_name": "DescriptionStyleModel",
     "state": {
      "_model_module": "@jupyter-widgets/controls",
      "_model_module_version": "1.5.0",
      "_model_name": "DescriptionStyleModel",
      "_view_count": null,
      "_view_module": "@jupyter-widgets/base",
      "_view_module_version": "1.2.0",
      "_view_name": "StyleView",
      "description_width": ""
     }
    },
    "2ffc89423843499a8e99f8856d4973dd": {
     "model_module": "@jupyter-widgets/controls",
     "model_module_version": "1.5.0",
     "model_name": "ProgressStyleModel",
     "state": {
      "_model_module": "@jupyter-widgets/controls",
      "_model_module_version": "1.5.0",
      "_model_name": "ProgressStyleModel",
      "_view_count": null,
      "_view_module": "@jupyter-widgets/base",
      "_view_module_version": "1.2.0",
      "_view_name": "StyleView",
      "bar_color": null,
      "description_width": ""
     }
    },
    "3027a9f20c254eb099552e5c990af8b3": {
     "model_module": "@jupyter-widgets/base",
     "model_module_version": "1.2.0",
     "model_name": "LayoutModel",
     "state": {
      "_model_module": "@jupyter-widgets/base",
      "_model_module_version": "1.2.0",
      "_model_name": "LayoutModel",
      "_view_count": null,
      "_view_module": "@jupyter-widgets/base",
      "_view_module_version": "1.2.0",
      "_view_name": "LayoutView",
      "align_content": null,
      "align_items": null,
      "align_self": null,
      "border": null,
      "bottom": null,
      "display": null,
      "flex": null,
      "flex_flow": null,
      "grid_area": null,
      "grid_auto_columns": null,
      "grid_auto_flow": null,
      "grid_auto_rows": null,
      "grid_column": null,
      "grid_gap": null,
      "grid_row": null,
      "grid_template_areas": null,
      "grid_template_columns": null,
      "grid_template_rows": null,
      "height": null,
      "justify_content": null,
      "justify_items": null,
      "left": null,
      "margin": null,
      "max_height": null,
      "max_width": null,
      "min_height": null,
      "min_width": null,
      "object_fit": null,
      "object_position": null,
      "order": null,
      "overflow": null,
      "overflow_x": null,
      "overflow_y": null,
      "padding": null,
      "right": null,
      "top": null,
      "visibility": null,
      "width": null
     }
    },
    "3579813e5f43417c8afeee7e7c8ac7e4": {
     "model_module": "@jupyter-widgets/base",
     "model_module_version": "1.2.0",
     "model_name": "LayoutModel",
     "state": {
      "_model_module": "@jupyter-widgets/base",
      "_model_module_version": "1.2.0",
      "_model_name": "LayoutModel",
      "_view_count": null,
      "_view_module": "@jupyter-widgets/base",
      "_view_module_version": "1.2.0",
      "_view_name": "LayoutView",
      "align_content": null,
      "align_items": null,
      "align_self": null,
      "border": null,
      "bottom": null,
      "display": null,
      "flex": null,
      "flex_flow": null,
      "grid_area": null,
      "grid_auto_columns": null,
      "grid_auto_flow": null,
      "grid_auto_rows": null,
      "grid_column": null,
      "grid_gap": null,
      "grid_row": null,
      "grid_template_areas": null,
      "grid_template_columns": null,
      "grid_template_rows": null,
      "height": null,
      "justify_content": null,
      "justify_items": null,
      "left": null,
      "margin": null,
      "max_height": null,
      "max_width": null,
      "min_height": null,
      "min_width": null,
      "object_fit": null,
      "object_position": null,
      "order": null,
      "overflow": null,
      "overflow_x": null,
      "overflow_y": null,
      "padding": null,
      "right": null,
      "top": null,
      "visibility": null,
      "width": null
     }
    },
    "35ac8a335b644414826ad8cf54f2b777": {
     "model_module": "@jupyter-widgets/controls",
     "model_module_version": "1.5.0",
     "model_name": "FloatProgressModel",
     "state": {
      "_dom_classes": [],
      "_model_module": "@jupyter-widgets/controls",
      "_model_module_version": "1.5.0",
      "_model_name": "FloatProgressModel",
      "_view_count": null,
      "_view_module": "@jupyter-widgets/controls",
      "_view_module_version": "1.5.0",
      "_view_name": "ProgressView",
      "bar_style": "success",
      "description": "",
      "description_tooltip": null,
      "layout": "IPY_MODEL_3579813e5f43417c8afeee7e7c8ac7e4",
      "max": 456318,
      "min": 0,
      "orientation": "horizontal",
      "style": "IPY_MODEL_c7d6d6009e064c0c904a7ac3752e94a5",
      "value": 456318
     }
    },
    "3777b33ded3d47209a015103f1397e4c": {
     "model_module": "@jupyter-widgets/base",
     "model_module_version": "1.2.0",
     "model_name": "LayoutModel",
     "state": {
      "_model_module": "@jupyter-widgets/base",
      "_model_module_version": "1.2.0",
      "_model_name": "LayoutModel",
      "_view_count": null,
      "_view_module": "@jupyter-widgets/base",
      "_view_module_version": "1.2.0",
      "_view_name": "LayoutView",
      "align_content": null,
      "align_items": null,
      "align_self": null,
      "border": null,
      "bottom": null,
      "display": null,
      "flex": null,
      "flex_flow": null,
      "grid_area": null,
      "grid_auto_columns": null,
      "grid_auto_flow": null,
      "grid_auto_rows": null,
      "grid_column": null,
      "grid_gap": null,
      "grid_row": null,
      "grid_template_areas": null,
      "grid_template_columns": null,
      "grid_template_rows": null,
      "height": null,
      "justify_content": null,
      "justify_items": null,
      "left": null,
      "margin": null,
      "max_height": null,
      "max_width": null,
      "min_height": null,
      "min_width": null,
      "object_fit": null,
      "object_position": null,
      "order": null,
      "overflow": null,
      "overflow_x": null,
      "overflow_y": null,
      "padding": null,
      "right": null,
      "top": null,
      "visibility": null,
      "width": null
     }
    },
    "37f66d9cf33a47ada2686f6e53786037": {
     "model_module": "@jupyter-widgets/controls",
     "model_module_version": "1.5.0",
     "model_name": "HBoxModel",
     "state": {
      "_dom_classes": [],
      "_model_module": "@jupyter-widgets/controls",
      "_model_module_version": "1.5.0",
      "_model_name": "HBoxModel",
      "_view_count": null,
      "_view_module": "@jupyter-widgets/controls",
      "_view_module_version": "1.5.0",
      "_view_name": "HBoxView",
      "box_style": "",
      "children": [
       "IPY_MODEL_6c4fc2faa6af44208668012e174a4bc1",
       "IPY_MODEL_0c9b51807f394084ab0979d99050be20",
       "IPY_MODEL_5e04671d154d419890e52041ef3438d5"
      ],
      "layout": "IPY_MODEL_ddfbf8c36fb04deeb94cfa59fc8cfdda"
     }
    },
    "3b44fb3eeec14f0582a1b5f1f592da62": {
     "model_module": "@jupyter-widgets/controls",
     "model_module_version": "1.5.0",
     "model_name": "FloatProgressModel",
     "state": {
      "_dom_classes": [],
      "_model_module": "@jupyter-widgets/controls",
      "_model_module_version": "1.5.0",
      "_model_name": "FloatProgressModel",
      "_view_count": null,
      "_view_module": "@jupyter-widgets/controls",
      "_view_module_version": "1.5.0",
      "_view_name": "ProgressView",
      "bar_style": "success",
      "description": "",
      "description_tooltip": null,
      "layout": "IPY_MODEL_0f3496af1279470b870f2d785b7f0f68",
      "max": 150,
      "min": 0,
      "orientation": "horizontal",
      "style": "IPY_MODEL_b3ebb5d1b5ec450eb8a16ad59afd2da2",
      "value": 150
     }
    },
    "3b95da522d6240f29d84ec8632f9698d": {
     "model_module": "@jupyter-widgets/controls",
     "model_module_version": "1.5.0",
     "model_name": "DescriptionStyleModel",
     "state": {
      "_model_module": "@jupyter-widgets/controls",
      "_model_module_version": "1.5.0",
      "_model_name": "DescriptionStyleModel",
      "_view_count": null,
      "_view_module": "@jupyter-widgets/base",
      "_view_module_version": "1.2.0",
      "_view_name": "StyleView",
      "description_width": ""
     }
    },
    "3c5eb369876d44409c4f288cb72d0e3b": {
     "model_module": "@jupyter-widgets/controls",
     "model_module_version": "1.5.0",
     "model_name": "HBoxModel",
     "state": {
      "_dom_classes": [],
      "_model_module": "@jupyter-widgets/controls",
      "_model_module_version": "1.5.0",
      "_model_name": "HBoxModel",
      "_view_count": null,
      "_view_module": "@jupyter-widgets/controls",
      "_view_module_version": "1.5.0",
      "_view_name": "HBoxView",
      "box_style": "",
      "children": [
       "IPY_MODEL_2bcb8684d9ac49e9ad25fb0f8e9cf346",
       "IPY_MODEL_b02ed2fb2f3046d1b34355e37b161a48",
       "IPY_MODEL_f20c4ac2403044ef9bd36e53f3c76790"
      ],
      "layout": "IPY_MODEL_81cee81cb4854d989b86b0045bc6a8d6"
     }
    },
    "3cfda71e8ca242c28ad1feae6fae9fbf": {
     "model_module": "@jupyter-widgets/controls",
     "model_module_version": "1.5.0",
     "model_name": "HBoxModel",
     "state": {
      "_dom_classes": [],
      "_model_module": "@jupyter-widgets/controls",
      "_model_module_version": "1.5.0",
      "_model_name": "HBoxModel",
      "_view_count": null,
      "_view_module": "@jupyter-widgets/controls",
      "_view_module_version": "1.5.0",
      "_view_name": "HBoxView",
      "box_style": "",
      "children": [
       "IPY_MODEL_be07c371e22b45f29bd471f532f99be7",
       "IPY_MODEL_35ac8a335b644414826ad8cf54f2b777",
       "IPY_MODEL_1e470d2da2ed40429c20490a89180d46"
      ],
      "layout": "IPY_MODEL_cf7f242b3abe448ca80b52ff16b9c891"
     }
    },
    "4030652c9de24715b20e7039f4b50121": {
     "model_module": "@jupyter-widgets/controls",
     "model_module_version": "1.5.0",
     "model_name": "DescriptionStyleModel",
     "state": {
      "_model_module": "@jupyter-widgets/controls",
      "_model_module_version": "1.5.0",
      "_model_name": "DescriptionStyleModel",
      "_view_count": null,
      "_view_module": "@jupyter-widgets/base",
      "_view_module_version": "1.2.0",
      "_view_name": "StyleView",
      "description_width": ""
     }
    },
    "40456ad7b7714ec184a7c1d7581e570f": {
     "model_module": "@jupyter-widgets/controls",
     "model_module_version": "1.5.0",
     "model_name": "DescriptionStyleModel",
     "state": {
      "_model_module": "@jupyter-widgets/controls",
      "_model_module_version": "1.5.0",
      "_model_name": "DescriptionStyleModel",
      "_view_count": null,
      "_view_module": "@jupyter-widgets/base",
      "_view_module_version": "1.2.0",
      "_view_name": "StyleView",
      "description_width": ""
     }
    },
    "40f6c8af291f4be1a1c2fa2dd57abfe9": {
     "model_module": "@jupyter-widgets/controls",
     "model_module_version": "1.5.0",
     "model_name": "HTMLModel",
     "state": {
      "_dom_classes": [],
      "_model_module": "@jupyter-widgets/controls",
      "_model_module_version": "1.5.0",
      "_model_name": "HTMLModel",
      "_view_count": null,
      "_view_module": "@jupyter-widgets/controls",
      "_view_module_version": "1.5.0",
      "_view_name": "HTMLView",
      "description": "",
      "description_tooltip": null,
      "layout": "IPY_MODEL_c218e86aa39949638b906bf3479448ef",
      "placeholder": "​",
      "style": "IPY_MODEL_cd79821f9e9649f78045cf8dbef02c4e",
      "value": " 700/700 [00:00&lt;00:00, 32.2kB/s]"
     }
    },
    "420d900b51c049c29b7ce6f38024d490": {
     "model_module": "@jupyter-widgets/controls",
     "model_module_version": "1.5.0",
     "model_name": "FloatProgressModel",
     "state": {
      "_dom_classes": [],
      "_model_module": "@jupyter-widgets/controls",
      "_model_module_version": "1.5.0",
      "_model_name": "FloatProgressModel",
      "_view_count": null,
      "_view_module": "@jupyter-widgets/controls",
      "_view_module_version": "1.5.0",
      "_view_name": "ProgressView",
      "bar_style": "success",
      "description": "",
      "description_tooltip": null,
      "layout": "IPY_MODEL_2de41fc2d2db4682857ed2ef0313ac84",
      "max": 898822,
      "min": 0,
      "orientation": "horizontal",
      "style": "IPY_MODEL_554d5a3aa12b4f36a5b8d783dd664da6",
      "value": 898822
     }
    },
    "47571ddff12e4f909efed5c6309d2dab": {
     "model_module": "@jupyter-widgets/controls",
     "model_module_version": "1.5.0",
     "model_name": "DescriptionStyleModel",
     "state": {
      "_model_module": "@jupyter-widgets/controls",
      "_model_module_version": "1.5.0",
      "_model_name": "DescriptionStyleModel",
      "_view_count": null,
      "_view_module": "@jupyter-widgets/base",
      "_view_module_version": "1.2.0",
      "_view_name": "StyleView",
      "description_width": ""
     }
    },
    "4a9151e40c734e57a530d705f0646012": {
     "model_module": "@jupyter-widgets/base",
     "model_module_version": "1.2.0",
     "model_name": "LayoutModel",
     "state": {
      "_model_module": "@jupyter-widgets/base",
      "_model_module_version": "1.2.0",
      "_model_name": "LayoutModel",
      "_view_count": null,
      "_view_module": "@jupyter-widgets/base",
      "_view_module_version": "1.2.0",
      "_view_name": "LayoutView",
      "align_content": null,
      "align_items": null,
      "align_self": null,
      "border": null,
      "bottom": null,
      "display": null,
      "flex": null,
      "flex_flow": null,
      "grid_area": null,
      "grid_auto_columns": null,
      "grid_auto_flow": null,
      "grid_auto_rows": null,
      "grid_column": null,
      "grid_gap": null,
      "grid_row": null,
      "grid_template_areas": null,
      "grid_template_columns": null,
      "grid_template_rows": null,
      "height": null,
      "justify_content": null,
      "justify_items": null,
      "left": null,
      "margin": null,
      "max_height": null,
      "max_width": null,
      "min_height": null,
      "min_width": null,
      "object_fit": null,
      "object_position": null,
      "order": null,
      "overflow": null,
      "overflow_x": null,
      "overflow_y": null,
      "padding": null,
      "right": null,
      "top": null,
      "visibility": null,
      "width": null
     }
    },
    "4e5f746185884c8f9d67c25aeb273612": {
     "model_module": "@jupyter-widgets/controls",
     "model_module_version": "1.5.0",
     "model_name": "HBoxModel",
     "state": {
      "_dom_classes": [],
      "_model_module": "@jupyter-widgets/controls",
      "_model_module_version": "1.5.0",
      "_model_name": "HBoxModel",
      "_view_count": null,
      "_view_module": "@jupyter-widgets/controls",
      "_view_module_version": "1.5.0",
      "_view_name": "HBoxView",
      "box_style": "",
      "children": [
       "IPY_MODEL_6edc984687714c19ad6a5e3fd3e17134",
       "IPY_MODEL_2a8872935c2843a6b94428f23897aa3f",
       "IPY_MODEL_0920bd1fdd284b9f9af3f5e21d428c38"
      ],
      "layout": "IPY_MODEL_090140c074524183abfbd406c1f0d5e3"
     }
    },
    "554d5a3aa12b4f36a5b8d783dd664da6": {
     "model_module": "@jupyter-widgets/controls",
     "model_module_version": "1.5.0",
     "model_name": "ProgressStyleModel",
     "state": {
      "_model_module": "@jupyter-widgets/controls",
      "_model_module_version": "1.5.0",
      "_model_name": "ProgressStyleModel",
      "_view_count": null,
      "_view_module": "@jupyter-widgets/base",
      "_view_module_version": "1.2.0",
      "_view_name": "StyleView",
      "bar_color": null,
      "description_width": ""
     }
    },
    "58fb238c87d3435cb390410ea3de38a1": {
     "model_module": "@jupyter-widgets/controls",
     "model_module_version": "1.5.0",
     "model_name": "HBoxModel",
     "state": {
      "_dom_classes": [],
      "_model_module": "@jupyter-widgets/controls",
      "_model_module_version": "1.5.0",
      "_model_name": "HBoxModel",
      "_view_count": null,
      "_view_module": "@jupyter-widgets/controls",
      "_view_module_version": "1.5.0",
      "_view_name": "HBoxView",
      "box_style": "",
      "children": [
       "IPY_MODEL_e437575f0de94048a9a7b23228345be9",
       "IPY_MODEL_3b44fb3eeec14f0582a1b5f1f592da62",
       "IPY_MODEL_fbbc1d51ecc041fca58032acabb25518"
      ],
      "layout": "IPY_MODEL_4a9151e40c734e57a530d705f0646012"
     }
    },
    "5c3a1a083956415abde452c1be524c82": {
     "model_module": "@jupyter-widgets/controls",
     "model_module_version": "1.5.0",
     "model_name": "HBoxModel",
     "state": {
      "_dom_classes": [],
      "_model_module": "@jupyter-widgets/controls",
      "_model_module_version": "1.5.0",
      "_model_name": "HBoxModel",
      "_view_count": null,
      "_view_module": "@jupyter-widgets/controls",
      "_view_module_version": "1.5.0",
      "_view_name": "HBoxView",
      "box_style": "",
      "children": [
       "IPY_MODEL_c01e95dcb722437ab45b4d65814b7418",
       "IPY_MODEL_7c0102045e404b5984f835445b95c3b1",
       "IPY_MODEL_40f6c8af291f4be1a1c2fa2dd57abfe9"
      ],
      "layout": "IPY_MODEL_f94cbdd078c24cc2a69cbdffc90eac15"
     }
    },
    "5e04671d154d419890e52041ef3438d5": {
     "model_module": "@jupyter-widgets/controls",
     "model_module_version": "1.5.0",
     "model_name": "HTMLModel",
     "state": {
      "_dom_classes": [],
      "_model_module": "@jupyter-widgets/controls",
      "_model_module_version": "1.5.0",
      "_model_name": "HTMLModel",
      "_view_count": null,
      "_view_module": "@jupyter-widgets/controls",
      "_view_module_version": "1.5.0",
      "_view_name": "HTMLView",
      "description": "",
      "description_tooltip": null,
      "layout": "IPY_MODEL_dfe60d2809ad48b5a8729d22acf3ef86",
      "placeholder": "​",
      "style": "IPY_MODEL_40456ad7b7714ec184a7c1d7581e570f",
      "value": " 158/158 [00:00&lt;00:00, 3125.15 examples/s]"
     }
    },
    "67e96609371e461cbc16104cb20850f5": {
     "model_module": "@jupyter-widgets/controls",
     "model_module_version": "1.5.0",
     "model_name": "DescriptionStyleModel",
     "state": {
      "_model_module": "@jupyter-widgets/controls",
      "_model_module_version": "1.5.0",
      "_model_name": "DescriptionStyleModel",
      "_view_count": null,
      "_view_module": "@jupyter-widgets/base",
      "_view_module_version": "1.2.0",
      "_view_name": "StyleView",
      "description_width": ""
     }
    },
    "6c4fc2faa6af44208668012e174a4bc1": {
     "model_module": "@jupyter-widgets/controls",
     "model_module_version": "1.5.0",
     "model_name": "HTMLModel",
     "state": {
      "_dom_classes": [],
      "_model_module": "@jupyter-widgets/controls",
      "_model_module_version": "1.5.0",
      "_model_name": "HTMLModel",
      "_view_count": null,
      "_view_module": "@jupyter-widgets/controls",
      "_view_module_version": "1.5.0",
      "_view_name": "HTMLView",
      "description": "",
      "description_tooltip": null,
      "layout": "IPY_MODEL_7b81028c021940aaa0b200f512cebefc",
      "placeholder": "​",
      "style": "IPY_MODEL_b47eb17bee3f425cb9d94967cf01fd7a",
      "value": "Map: 100%"
     }
    },
    "6edc984687714c19ad6a5e3fd3e17134": {
     "model_module": "@jupyter-widgets/controls",
     "model_module_version": "1.5.0",
     "model_name": "HTMLModel",
     "state": {
      "_dom_classes": [],
      "_model_module": "@jupyter-widgets/controls",
      "_model_module_version": "1.5.0",
      "_model_name": "HTMLModel",
      "_view_count": null,
      "_view_module": "@jupyter-widgets/controls",
      "_view_module_version": "1.5.0",
      "_view_name": "HTMLView",
      "description": "",
      "description_tooltip": null,
      "layout": "IPY_MODEL_f0d20bfa7f0b45358f747edac340206e",
      "placeholder": "​",
      "style": "IPY_MODEL_47571ddff12e4f909efed5c6309d2dab",
      "value": "Map: 100%"
     }
    },
    "7b81028c021940aaa0b200f512cebefc": {
     "model_module": "@jupyter-widgets/base",
     "model_module_version": "1.2.0",
     "model_name": "LayoutModel",
     "state": {
      "_model_module": "@jupyter-widgets/base",
      "_model_module_version": "1.2.0",
      "_model_name": "LayoutModel",
      "_view_count": null,
      "_view_module": "@jupyter-widgets/base",
      "_view_module_version": "1.2.0",
      "_view_name": "LayoutView",
      "align_content": null,
      "align_items": null,
      "align_self": null,
      "border": null,
      "bottom": null,
      "display": null,
      "flex": null,
      "flex_flow": null,
      "grid_area": null,
      "grid_auto_columns": null,
      "grid_auto_flow": null,
      "grid_auto_rows": null,
      "grid_column": null,
      "grid_gap": null,
      "grid_row": null,
      "grid_template_areas": null,
      "grid_template_columns": null,
      "grid_template_rows": null,
      "height": null,
      "justify_content": null,
      "justify_items": null,
      "left": null,
      "margin": null,
      "max_height": null,
      "max_width": null,
      "min_height": null,
      "min_width": null,
      "object_fit": null,
      "object_position": null,
      "order": null,
      "overflow": null,
      "overflow_x": null,
      "overflow_y": null,
      "padding": null,
      "right": null,
      "top": null,
      "visibility": null,
      "width": null
     }
    },
    "7c0102045e404b5984f835445b95c3b1": {
     "model_module": "@jupyter-widgets/controls",
     "model_module_version": "1.5.0",
     "model_name": "FloatProgressModel",
     "state": {
      "_dom_classes": [],
      "_model_module": "@jupyter-widgets/controls",
      "_model_module_version": "1.5.0",
      "_model_name": "FloatProgressModel",
      "_view_count": null,
      "_view_module": "@jupyter-widgets/controls",
      "_view_module_version": "1.5.0",
      "_view_name": "ProgressView",
      "bar_style": "success",
      "description": "",
      "description_tooltip": null,
      "layout": "IPY_MODEL_84ff4e3fb3fa41d3932651f23b9cdecc",
      "max": 700,
      "min": 0,
      "orientation": "horizontal",
      "style": "IPY_MODEL_2ffc89423843499a8e99f8856d4973dd",
      "value": 700
     }
    },
    "7d972ca22b8f4db1bd66c0f15af5c41d": {
     "model_module": "@jupyter-widgets/base",
     "model_module_version": "1.2.0",
     "model_name": "LayoutModel",
     "state": {
      "_model_module": "@jupyter-widgets/base",
      "_model_module_version": "1.2.0",
      "_model_name": "LayoutModel",
      "_view_count": null,
      "_view_module": "@jupyter-widgets/base",
      "_view_module_version": "1.2.0",
      "_view_name": "LayoutView",
      "align_content": null,
      "align_items": null,
      "align_self": null,
      "border": null,
      "bottom": null,
      "display": null,
      "flex": null,
      "flex_flow": null,
      "grid_area": null,
      "grid_auto_columns": null,
      "grid_auto_flow": null,
      "grid_auto_rows": null,
      "grid_column": null,
      "grid_gap": null,
      "grid_row": null,
      "grid_template_areas": null,
      "grid_template_columns": null,
      "grid_template_rows": null,
      "height": null,
      "justify_content": null,
      "justify_items": null,
      "left": null,
      "margin": null,
      "max_height": null,
      "max_width": null,
      "min_height": null,
      "min_width": null,
      "object_fit": null,
      "object_position": null,
      "order": null,
      "overflow": null,
      "overflow_x": null,
      "overflow_y": null,
      "padding": null,
      "right": null,
      "top": null,
      "visibility": null,
      "width": null
     }
    },
    "8139ab4fe1f1448d975c454a23c194a8": {
     "model_module": "@jupyter-widgets/base",
     "model_module_version": "1.2.0",
     "model_name": "LayoutModel",
     "state": {
      "_model_module": "@jupyter-widgets/base",
      "_model_module_version": "1.2.0",
      "_model_name": "LayoutModel",
      "_view_count": null,
      "_view_module": "@jupyter-widgets/base",
      "_view_module_version": "1.2.0",
      "_view_name": "LayoutView",
      "align_content": null,
      "align_items": null,
      "align_self": null,
      "border": null,
      "bottom": null,
      "display": null,
      "flex": null,
      "flex_flow": null,
      "grid_area": null,
      "grid_auto_columns": null,
      "grid_auto_flow": null,
      "grid_auto_rows": null,
      "grid_column": null,
      "grid_gap": null,
      "grid_row": null,
      "grid_template_areas": null,
      "grid_template_columns": null,
      "grid_template_rows": null,
      "height": null,
      "justify_content": null,
      "justify_items": null,
      "left": null,
      "margin": null,
      "max_height": null,
      "max_width": null,
      "min_height": null,
      "min_width": null,
      "object_fit": null,
      "object_position": null,
      "order": null,
      "overflow": null,
      "overflow_x": null,
      "overflow_y": null,
      "padding": null,
      "right": null,
      "top": null,
      "visibility": null,
      "width": null
     }
    },
    "81cee81cb4854d989b86b0045bc6a8d6": {
     "model_module": "@jupyter-widgets/base",
     "model_module_version": "1.2.0",
     "model_name": "LayoutModel",
     "state": {
      "_model_module": "@jupyter-widgets/base",
      "_model_module_version": "1.2.0",
      "_model_name": "LayoutModel",
      "_view_count": null,
      "_view_module": "@jupyter-widgets/base",
      "_view_module_version": "1.2.0",
      "_view_name": "LayoutView",
      "align_content": null,
      "align_items": null,
      "align_self": null,
      "border": null,
      "bottom": null,
      "display": null,
      "flex": null,
      "flex_flow": null,
      "grid_area": null,
      "grid_auto_columns": null,
      "grid_auto_flow": null,
      "grid_auto_rows": null,
      "grid_column": null,
      "grid_gap": null,
      "grid_row": null,
      "grid_template_areas": null,
      "grid_template_columns": null,
      "grid_template_rows": null,
      "height": null,
      "justify_content": null,
      "justify_items": null,
      "left": null,
      "margin": null,
      "max_height": null,
      "max_width": null,
      "min_height": null,
      "min_width": null,
      "object_fit": null,
      "object_position": null,
      "order": null,
      "overflow": null,
      "overflow_x": null,
      "overflow_y": null,
      "padding": null,
      "right": null,
      "top": null,
      "visibility": null,
      "width": null
     }
    },
    "84ff4e3fb3fa41d3932651f23b9cdecc": {
     "model_module": "@jupyter-widgets/base",
     "model_module_version": "1.2.0",
     "model_name": "LayoutModel",
     "state": {
      "_model_module": "@jupyter-widgets/base",
      "_model_module_version": "1.2.0",
      "_model_name": "LayoutModel",
      "_view_count": null,
      "_view_module": "@jupyter-widgets/base",
      "_view_module_version": "1.2.0",
      "_view_name": "LayoutView",
      "align_content": null,
      "align_items": null,
      "align_self": null,
      "border": null,
      "bottom": null,
      "display": null,
      "flex": null,
      "flex_flow": null,
      "grid_area": null,
      "grid_auto_columns": null,
      "grid_auto_flow": null,
      "grid_auto_rows": null,
      "grid_column": null,
      "grid_gap": null,
      "grid_row": null,
      "grid_template_areas": null,
      "grid_template_columns": null,
      "grid_template_rows": null,
      "height": null,
      "justify_content": null,
      "justify_items": null,
      "left": null,
      "margin": null,
      "max_height": null,
      "max_width": null,
      "min_height": null,
      "min_width": null,
      "object_fit": null,
      "object_position": null,
      "order": null,
      "overflow": null,
      "overflow_x": null,
      "overflow_y": null,
      "padding": null,
      "right": null,
      "top": null,
      "visibility": null,
      "width": null
     }
    },
    "88a0e113bd0646298bcec72d1d1c59e4": {
     "model_module": "@jupyter-widgets/controls",
     "model_module_version": "1.5.0",
     "model_name": "HTMLModel",
     "state": {
      "_dom_classes": [],
      "_model_module": "@jupyter-widgets/controls",
      "_model_module_version": "1.5.0",
      "_model_name": "HTMLModel",
      "_view_count": null,
      "_view_module": "@jupyter-widgets/controls",
      "_view_module_version": "1.5.0",
      "_view_name": "HTMLView",
      "description": "",
      "description_tooltip": null,
      "layout": "IPY_MODEL_04ee46a0320041b780f962830d76eda9",
      "placeholder": "​",
      "style": "IPY_MODEL_26021d35a543461d9f21251a4e80a442",
      "value": "vocab.json: 100%"
     }
    },
    "8ccb927b3be746fba4d15d43764f3e0b": {
     "model_module": "@jupyter-widgets/controls",
     "model_module_version": "1.5.0",
     "model_name": "ProgressStyleModel",
     "state": {
      "_model_module": "@jupyter-widgets/controls",
      "_model_module_version": "1.5.0",
      "_model_name": "ProgressStyleModel",
      "_view_count": null,
      "_view_module": "@jupyter-widgets/base",
      "_view_module_version": "1.2.0",
      "_view_name": "StyleView",
      "bar_color": null,
      "description_width": ""
     }
    },
    "98711ed6949e4a77a50e78b1e8868977": {
     "model_module": "@jupyter-widgets/controls",
     "model_module_version": "1.5.0",
     "model_name": "DescriptionStyleModel",
     "state": {
      "_model_module": "@jupyter-widgets/controls",
      "_model_module_version": "1.5.0",
      "_model_name": "DescriptionStyleModel",
      "_view_count": null,
      "_view_module": "@jupyter-widgets/base",
      "_view_module_version": "1.2.0",
      "_view_name": "StyleView",
      "description_width": ""
     }
    },
    "abee19e517624c86a1c562b696c5adc0": {
     "model_module": "@jupyter-widgets/controls",
     "model_module_version": "1.5.0",
     "model_name": "ProgressStyleModel",
     "state": {
      "_model_module": "@jupyter-widgets/controls",
      "_model_module_version": "1.5.0",
      "_model_name": "ProgressStyleModel",
      "_view_count": null,
      "_view_module": "@jupyter-widgets/base",
      "_view_module_version": "1.2.0",
      "_view_name": "StyleView",
      "bar_color": null,
      "description_width": ""
     }
    },
    "ac9957e47437475cb4c5f3eb4f881b71": {
     "model_module": "@jupyter-widgets/controls",
     "model_module_version": "1.5.0",
     "model_name": "ProgressStyleModel",
     "state": {
      "_model_module": "@jupyter-widgets/controls",
      "_model_module_version": "1.5.0",
      "_model_name": "ProgressStyleModel",
      "_view_count": null,
      "_view_module": "@jupyter-widgets/base",
      "_view_module_version": "1.2.0",
      "_view_name": "StyleView",
      "bar_color": null,
      "description_width": ""
     }
    },
    "ad5a55bfe5da4905bbd53d4339579fd7": {
     "model_module": "@jupyter-widgets/base",
     "model_module_version": "1.2.0",
     "model_name": "LayoutModel",
     "state": {
      "_model_module": "@jupyter-widgets/base",
      "_model_module_version": "1.2.0",
      "_model_name": "LayoutModel",
      "_view_count": null,
      "_view_module": "@jupyter-widgets/base",
      "_view_module_version": "1.2.0",
      "_view_name": "LayoutView",
      "align_content": null,
      "align_items": null,
      "align_self": null,
      "border": null,
      "bottom": null,
      "display": null,
      "flex": null,
      "flex_flow": null,
      "grid_area": null,
      "grid_auto_columns": null,
      "grid_auto_flow": null,
      "grid_auto_rows": null,
      "grid_column": null,
      "grid_gap": null,
      "grid_row": null,
      "grid_template_areas": null,
      "grid_template_columns": null,
      "grid_template_rows": null,
      "height": null,
      "justify_content": null,
      "justify_items": null,
      "left": null,
      "margin": null,
      "max_height": null,
      "max_width": null,
      "min_height": null,
      "min_width": null,
      "object_fit": null,
      "object_position": null,
      "order": null,
      "overflow": null,
      "overflow_x": null,
      "overflow_y": null,
      "padding": null,
      "right": null,
      "top": null,
      "visibility": null,
      "width": null
     }
    },
    "b00bd5dc27a0472da080aa3c4411c647": {
     "model_module": "@jupyter-widgets/base",
     "model_module_version": "1.2.0",
     "model_name": "LayoutModel",
     "state": {
      "_model_module": "@jupyter-widgets/base",
      "_model_module_version": "1.2.0",
      "_model_name": "LayoutModel",
      "_view_count": null,
      "_view_module": "@jupyter-widgets/base",
      "_view_module_version": "1.2.0",
      "_view_name": "LayoutView",
      "align_content": null,
      "align_items": null,
      "align_self": null,
      "border": null,
      "bottom": null,
      "display": null,
      "flex": null,
      "flex_flow": null,
      "grid_area": null,
      "grid_auto_columns": null,
      "grid_auto_flow": null,
      "grid_auto_rows": null,
      "grid_column": null,
      "grid_gap": null,
      "grid_row": null,
      "grid_template_areas": null,
      "grid_template_columns": null,
      "grid_template_rows": null,
      "height": null,
      "justify_content": null,
      "justify_items": null,
      "left": null,
      "margin": null,
      "max_height": null,
      "max_width": null,
      "min_height": null,
      "min_width": null,
      "object_fit": null,
      "object_position": null,
      "order": null,
      "overflow": null,
      "overflow_x": null,
      "overflow_y": null,
      "padding": null,
      "right": null,
      "top": null,
      "visibility": null,
      "width": null
     }
    },
    "b02ed2fb2f3046d1b34355e37b161a48": {
     "model_module": "@jupyter-widgets/controls",
     "model_module_version": "1.5.0",
     "model_name": "FloatProgressModel",
     "state": {
      "_dom_classes": [],
      "_model_module": "@jupyter-widgets/controls",
      "_model_module_version": "1.5.0",
      "_model_name": "FloatProgressModel",
      "_view_count": null,
      "_view_module": "@jupyter-widgets/controls",
      "_view_module_version": "1.5.0",
      "_view_name": "ProgressView",
      "bar_style": "success",
      "description": "",
      "description_tooltip": null,
      "layout": "IPY_MODEL_3777b33ded3d47209a015103f1397e4c",
      "max": 286,
      "min": 0,
      "orientation": "horizontal",
      "style": "IPY_MODEL_8ccb927b3be746fba4d15d43764f3e0b",
      "value": 286
     }
    },
    "b0968e16a21e49b08af5670e21e11c23": {
     "model_module": "@jupyter-widgets/controls",
     "model_module_version": "1.5.0",
     "model_name": "DescriptionStyleModel",
     "state": {
      "_model_module": "@jupyter-widgets/controls",
      "_model_module_version": "1.5.0",
      "_model_name": "DescriptionStyleModel",
      "_view_count": null,
      "_view_module": "@jupyter-widgets/base",
      "_view_module_version": "1.2.0",
      "_view_name": "StyleView",
      "description_width": ""
     }
    },
    "b3ebb5d1b5ec450eb8a16ad59afd2da2": {
     "model_module": "@jupyter-widgets/controls",
     "model_module_version": "1.5.0",
     "model_name": "ProgressStyleModel",
     "state": {
      "_model_module": "@jupyter-widgets/controls",
      "_model_module_version": "1.5.0",
      "_model_name": "ProgressStyleModel",
      "_view_count": null,
      "_view_module": "@jupyter-widgets/base",
      "_view_module_version": "1.2.0",
      "_view_name": "StyleView",
      "bar_color": null,
      "description_width": ""
     }
    },
    "b47eb17bee3f425cb9d94967cf01fd7a": {
     "model_module": "@jupyter-widgets/controls",
     "model_module_version": "1.5.0",
     "model_name": "DescriptionStyleModel",
     "state": {
      "_model_module": "@jupyter-widgets/controls",
      "_model_module_version": "1.5.0",
      "_model_name": "DescriptionStyleModel",
      "_view_count": null,
      "_view_module": "@jupyter-widgets/base",
      "_view_module_version": "1.2.0",
      "_view_name": "StyleView",
      "description_width": ""
     }
    },
    "b61e11b471524addb814d02bb63d9b59": {
     "model_module": "@jupyter-widgets/controls",
     "model_module_version": "1.5.0",
     "model_name": "DescriptionStyleModel",
     "state": {
      "_model_module": "@jupyter-widgets/controls",
      "_model_module_version": "1.5.0",
      "_model_name": "DescriptionStyleModel",
      "_view_count": null,
      "_view_module": "@jupyter-widgets/base",
      "_view_module_version": "1.2.0",
      "_view_name": "StyleView",
      "description_width": ""
     }
    },
    "be07c371e22b45f29bd471f532f99be7": {
     "model_module": "@jupyter-widgets/controls",
     "model_module_version": "1.5.0",
     "model_name": "HTMLModel",
     "state": {
      "_dom_classes": [],
      "_model_module": "@jupyter-widgets/controls",
      "_model_module_version": "1.5.0",
      "_model_name": "HTMLModel",
      "_view_count": null,
      "_view_module": "@jupyter-widgets/controls",
      "_view_module_version": "1.5.0",
      "_view_name": "HTMLView",
      "description": "",
      "description_tooltip": null,
      "layout": "IPY_MODEL_1c6539cd702b439192a5256155dc217b",
      "placeholder": "​",
      "style": "IPY_MODEL_98711ed6949e4a77a50e78b1e8868977",
      "value": "merges.txt: 100%"
     }
    },
    "c01e95dcb722437ab45b4d65814b7418": {
     "model_module": "@jupyter-widgets/controls",
     "model_module_version": "1.5.0",
     "model_name": "HTMLModel",
     "state": {
      "_dom_classes": [],
      "_model_module": "@jupyter-widgets/controls",
      "_model_module_version": "1.5.0",
      "_model_name": "HTMLModel",
      "_view_count": null,
      "_view_module": "@jupyter-widgets/controls",
      "_view_module_version": "1.5.0",
      "_view_name": "HTMLView",
      "description": "",
      "description_tooltip": null,
      "layout": "IPY_MODEL_d5ed0adc494b488ba77f3d9efd0ec993",
      "placeholder": "​",
      "style": "IPY_MODEL_4030652c9de24715b20e7039f4b50121",
      "value": "config.json: 100%"
     }
    },
    "c218e86aa39949638b906bf3479448ef": {
     "model_module": "@jupyter-widgets/base",
     "model_module_version": "1.2.0",
     "model_name": "LayoutModel",
     "state": {
      "_model_module": "@jupyter-widgets/base",
      "_model_module_version": "1.2.0",
      "_model_name": "LayoutModel",
      "_view_count": null,
      "_view_module": "@jupyter-widgets/base",
      "_view_module_version": "1.2.0",
      "_view_name": "LayoutView",
      "align_content": null,
      "align_items": null,
      "align_self": null,
      "border": null,
      "bottom": null,
      "display": null,
      "flex": null,
      "flex_flow": null,
      "grid_area": null,
      "grid_auto_columns": null,
      "grid_auto_flow": null,
      "grid_auto_rows": null,
      "grid_column": null,
      "grid_gap": null,
      "grid_row": null,
      "grid_template_areas": null,
      "grid_template_columns": null,
      "grid_template_rows": null,
      "height": null,
      "justify_content": null,
      "justify_items": null,
      "left": null,
      "margin": null,
      "max_height": null,
      "max_width": null,
      "min_height": null,
      "min_width": null,
      "object_fit": null,
      "object_position": null,
      "order": null,
      "overflow": null,
      "overflow_x": null,
      "overflow_y": null,
      "padding": null,
      "right": null,
      "top": null,
      "visibility": null,
      "width": null
     }
    },
    "c7d6d6009e064c0c904a7ac3752e94a5": {
     "model_module": "@jupyter-widgets/controls",
     "model_module_version": "1.5.0",
     "model_name": "ProgressStyleModel",
     "state": {
      "_model_module": "@jupyter-widgets/controls",
      "_model_module_version": "1.5.0",
      "_model_name": "ProgressStyleModel",
      "_view_count": null,
      "_view_module": "@jupyter-widgets/base",
      "_view_module_version": "1.2.0",
      "_view_name": "StyleView",
      "bar_color": null,
      "description_width": ""
     }
    },
    "cd0d6956fba841b08f58687cab9e9e08": {
     "model_module": "@jupyter-widgets/controls",
     "model_module_version": "1.5.0",
     "model_name": "DescriptionStyleModel",
     "state": {
      "_model_module": "@jupyter-widgets/controls",
      "_model_module_version": "1.5.0",
      "_model_name": "DescriptionStyleModel",
      "_view_count": null,
      "_view_module": "@jupyter-widgets/base",
      "_view_module_version": "1.2.0",
      "_view_name": "StyleView",
      "description_width": ""
     }
    },
    "cd79821f9e9649f78045cf8dbef02c4e": {
     "model_module": "@jupyter-widgets/controls",
     "model_module_version": "1.5.0",
     "model_name": "DescriptionStyleModel",
     "state": {
      "_model_module": "@jupyter-widgets/controls",
      "_model_module_version": "1.5.0",
      "_model_name": "DescriptionStyleModel",
      "_view_count": null,
      "_view_module": "@jupyter-widgets/base",
      "_view_module_version": "1.2.0",
      "_view_name": "StyleView",
      "description_width": ""
     }
    },
    "cf7f242b3abe448ca80b52ff16b9c891": {
     "model_module": "@jupyter-widgets/base",
     "model_module_version": "1.2.0",
     "model_name": "LayoutModel",
     "state": {
      "_model_module": "@jupyter-widgets/base",
      "_model_module_version": "1.2.0",
      "_model_name": "LayoutModel",
      "_view_count": null,
      "_view_module": "@jupyter-widgets/base",
      "_view_module_version": "1.2.0",
      "_view_name": "LayoutView",
      "align_content": null,
      "align_items": null,
      "align_self": null,
      "border": null,
      "bottom": null,
      "display": null,
      "flex": null,
      "flex_flow": null,
      "grid_area": null,
      "grid_auto_columns": null,
      "grid_auto_flow": null,
      "grid_auto_rows": null,
      "grid_column": null,
      "grid_gap": null,
      "grid_row": null,
      "grid_template_areas": null,
      "grid_template_columns": null,
      "grid_template_rows": null,
      "height": null,
      "justify_content": null,
      "justify_items": null,
      "left": null,
      "margin": null,
      "max_height": null,
      "max_width": null,
      "min_height": null,
      "min_width": null,
      "object_fit": null,
      "object_position": null,
      "order": null,
      "overflow": null,
      "overflow_x": null,
      "overflow_y": null,
      "padding": null,
      "right": null,
      "top": null,
      "visibility": null,
      "width": null
     }
    },
    "d2769be6dcd0465dbe7f88b7ef362316": {
     "model_module": "@jupyter-widgets/base",
     "model_module_version": "1.2.0",
     "model_name": "LayoutModel",
     "state": {
      "_model_module": "@jupyter-widgets/base",
      "_model_module_version": "1.2.0",
      "_model_name": "LayoutModel",
      "_view_count": null,
      "_view_module": "@jupyter-widgets/base",
      "_view_module_version": "1.2.0",
      "_view_name": "LayoutView",
      "align_content": null,
      "align_items": null,
      "align_self": null,
      "border": null,
      "bottom": null,
      "display": null,
      "flex": null,
      "flex_flow": null,
      "grid_area": null,
      "grid_auto_columns": null,
      "grid_auto_flow": null,
      "grid_auto_rows": null,
      "grid_column": null,
      "grid_gap": null,
      "grid_row": null,
      "grid_template_areas": null,
      "grid_template_columns": null,
      "grid_template_rows": null,
      "height": null,
      "justify_content": null,
      "justify_items": null,
      "left": null,
      "margin": null,
      "max_height": null,
      "max_width": null,
      "min_height": null,
      "min_width": null,
      "object_fit": null,
      "object_position": null,
      "order": null,
      "overflow": null,
      "overflow_x": null,
      "overflow_y": null,
      "padding": null,
      "right": null,
      "top": null,
      "visibility": null,
      "width": null
     }
    },
    "d5ed0adc494b488ba77f3d9efd0ec993": {
     "model_module": "@jupyter-widgets/base",
     "model_module_version": "1.2.0",
     "model_name": "LayoutModel",
     "state": {
      "_model_module": "@jupyter-widgets/base",
      "_model_module_version": "1.2.0",
      "_model_name": "LayoutModel",
      "_view_count": null,
      "_view_module": "@jupyter-widgets/base",
      "_view_module_version": "1.2.0",
      "_view_name": "LayoutView",
      "align_content": null,
      "align_items": null,
      "align_self": null,
      "border": null,
      "bottom": null,
      "display": null,
      "flex": null,
      "flex_flow": null,
      "grid_area": null,
      "grid_auto_columns": null,
      "grid_auto_flow": null,
      "grid_auto_rows": null,
      "grid_column": null,
      "grid_gap": null,
      "grid_row": null,
      "grid_template_areas": null,
      "grid_template_columns": null,
      "grid_template_rows": null,
      "height": null,
      "justify_content": null,
      "justify_items": null,
      "left": null,
      "margin": null,
      "max_height": null,
      "max_width": null,
      "min_height": null,
      "min_width": null,
      "object_fit": null,
      "object_position": null,
      "order": null,
      "overflow": null,
      "overflow_x": null,
      "overflow_y": null,
      "padding": null,
      "right": null,
      "top": null,
      "visibility": null,
      "width": null
     }
    },
    "ddfbf8c36fb04deeb94cfa59fc8cfdda": {
     "model_module": "@jupyter-widgets/base",
     "model_module_version": "1.2.0",
     "model_name": "LayoutModel",
     "state": {
      "_model_module": "@jupyter-widgets/base",
      "_model_module_version": "1.2.0",
      "_model_name": "LayoutModel",
      "_view_count": null,
      "_view_module": "@jupyter-widgets/base",
      "_view_module_version": "1.2.0",
      "_view_name": "LayoutView",
      "align_content": null,
      "align_items": null,
      "align_self": null,
      "border": null,
      "bottom": null,
      "display": null,
      "flex": null,
      "flex_flow": null,
      "grid_area": null,
      "grid_auto_columns": null,
      "grid_auto_flow": null,
      "grid_auto_rows": null,
      "grid_column": null,
      "grid_gap": null,
      "grid_row": null,
      "grid_template_areas": null,
      "grid_template_columns": null,
      "grid_template_rows": null,
      "height": null,
      "justify_content": null,
      "justify_items": null,
      "left": null,
      "margin": null,
      "max_height": null,
      "max_width": null,
      "min_height": null,
      "min_width": null,
      "object_fit": null,
      "object_position": null,
      "order": null,
      "overflow": null,
      "overflow_x": null,
      "overflow_y": null,
      "padding": null,
      "right": null,
      "top": null,
      "visibility": null,
      "width": null
     }
    },
    "dfe60d2809ad48b5a8729d22acf3ef86": {
     "model_module": "@jupyter-widgets/base",
     "model_module_version": "1.2.0",
     "model_name": "LayoutModel",
     "state": {
      "_model_module": "@jupyter-widgets/base",
      "_model_module_version": "1.2.0",
      "_model_name": "LayoutModel",
      "_view_count": null,
      "_view_module": "@jupyter-widgets/base",
      "_view_module_version": "1.2.0",
      "_view_name": "LayoutView",
      "align_content": null,
      "align_items": null,
      "align_self": null,
      "border": null,
      "bottom": null,
      "display": null,
      "flex": null,
      "flex_flow": null,
      "grid_area": null,
      "grid_auto_columns": null,
      "grid_auto_flow": null,
      "grid_auto_rows": null,
      "grid_column": null,
      "grid_gap": null,
      "grid_row": null,
      "grid_template_areas": null,
      "grid_template_columns": null,
      "grid_template_rows": null,
      "height": null,
      "justify_content": null,
      "justify_items": null,
      "left": null,
      "margin": null,
      "max_height": null,
      "max_width": null,
      "min_height": null,
      "min_width": null,
      "object_fit": null,
      "object_position": null,
      "order": null,
      "overflow": null,
      "overflow_x": null,
      "overflow_y": null,
      "padding": null,
      "right": null,
      "top": null,
      "visibility": null,
      "width": null
     }
    },
    "e3519d06d2414dae92c84ebc8465a3e4": {
     "model_module": "@jupyter-widgets/base",
     "model_module_version": "1.2.0",
     "model_name": "LayoutModel",
     "state": {
      "_model_module": "@jupyter-widgets/base",
      "_model_module_version": "1.2.0",
      "_model_name": "LayoutModel",
      "_view_count": null,
      "_view_module": "@jupyter-widgets/base",
      "_view_module_version": "1.2.0",
      "_view_name": "LayoutView",
      "align_content": null,
      "align_items": null,
      "align_self": null,
      "border": null,
      "bottom": null,
      "display": null,
      "flex": null,
      "flex_flow": null,
      "grid_area": null,
      "grid_auto_columns": null,
      "grid_auto_flow": null,
      "grid_auto_rows": null,
      "grid_column": null,
      "grid_gap": null,
      "grid_row": null,
      "grid_template_areas": null,
      "grid_template_columns": null,
      "grid_template_rows": null,
      "height": null,
      "justify_content": null,
      "justify_items": null,
      "left": null,
      "margin": null,
      "max_height": null,
      "max_width": null,
      "min_height": null,
      "min_width": null,
      "object_fit": null,
      "object_position": null,
      "order": null,
      "overflow": null,
      "overflow_x": null,
      "overflow_y": null,
      "padding": null,
      "right": null,
      "top": null,
      "visibility": null,
      "width": null
     }
    },
    "e437575f0de94048a9a7b23228345be9": {
     "model_module": "@jupyter-widgets/controls",
     "model_module_version": "1.5.0",
     "model_name": "HTMLModel",
     "state": {
      "_dom_classes": [],
      "_model_module": "@jupyter-widgets/controls",
      "_model_module_version": "1.5.0",
      "_model_name": "HTMLModel",
      "_view_count": null,
      "_view_module": "@jupyter-widgets/controls",
      "_view_module_version": "1.5.0",
      "_view_name": "HTMLView",
      "description": "",
      "description_tooltip": null,
      "layout": "IPY_MODEL_b00bd5dc27a0472da080aa3c4411c647",
      "placeholder": "​",
      "style": "IPY_MODEL_2f65a0a66db342b5ad768624af7121ca",
      "value": "special_tokens_map.json: 100%"
     }
    },
    "f0d20bfa7f0b45358f747edac340206e": {
     "model_module": "@jupyter-widgets/base",
     "model_module_version": "1.2.0",
     "model_name": "LayoutModel",
     "state": {
      "_model_module": "@jupyter-widgets/base",
      "_model_module_version": "1.2.0",
      "_model_name": "LayoutModel",
      "_view_count": null,
      "_view_module": "@jupyter-widgets/base",
      "_view_module_version": "1.2.0",
      "_view_name": "LayoutView",
      "align_content": null,
      "align_items": null,
      "align_self": null,
      "border": null,
      "bottom": null,
      "display": null,
      "flex": null,
      "flex_flow": null,
      "grid_area": null,
      "grid_auto_columns": null,
      "grid_auto_flow": null,
      "grid_auto_rows": null,
      "grid_column": null,
      "grid_gap": null,
      "grid_row": null,
      "grid_template_areas": null,
      "grid_template_columns": null,
      "grid_template_rows": null,
      "height": null,
      "justify_content": null,
      "justify_items": null,
      "left": null,
      "margin": null,
      "max_height": null,
      "max_width": null,
      "min_height": null,
      "min_width": null,
      "object_fit": null,
      "object_position": null,
      "order": null,
      "overflow": null,
      "overflow_x": null,
      "overflow_y": null,
      "padding": null,
      "right": null,
      "top": null,
      "visibility": null,
      "width": null
     }
    },
    "f20c4ac2403044ef9bd36e53f3c76790": {
     "model_module": "@jupyter-widgets/controls",
     "model_module_version": "1.5.0",
     "model_name": "HTMLModel",
     "state": {
      "_dom_classes": [],
      "_model_module": "@jupyter-widgets/controls",
      "_model_module_version": "1.5.0",
      "_model_name": "HTMLModel",
      "_view_count": null,
      "_view_module": "@jupyter-widgets/controls",
      "_view_module_version": "1.5.0",
      "_view_name": "HTMLView",
      "description": "",
      "description_tooltip": null,
      "layout": "IPY_MODEL_27e30795aac84f428a750f30964c5499",
      "placeholder": "​",
      "style": "IPY_MODEL_b0968e16a21e49b08af5670e21e11c23",
      "value": " 286/286 [00:00&lt;00:00, 4894.09 examples/s]"
     }
    },
    "f44eb28f8d9245f68b838ea068dcde7c": {
     "model_module": "@jupyter-widgets/base",
     "model_module_version": "1.2.0",
     "model_name": "LayoutModel",
     "state": {
      "_model_module": "@jupyter-widgets/base",
      "_model_module_version": "1.2.0",
      "_model_name": "LayoutModel",
      "_view_count": null,
      "_view_module": "@jupyter-widgets/base",
      "_view_module_version": "1.2.0",
      "_view_name": "LayoutView",
      "align_content": null,
      "align_items": null,
      "align_self": null,
      "border": null,
      "bottom": null,
      "display": null,
      "flex": null,
      "flex_flow": null,
      "grid_area": null,
      "grid_auto_columns": null,
      "grid_auto_flow": null,
      "grid_auto_rows": null,
      "grid_column": null,
      "grid_gap": null,
      "grid_row": null,
      "grid_template_areas": null,
      "grid_template_columns": null,
      "grid_template_rows": null,
      "height": null,
      "justify_content": null,
      "justify_items": null,
      "left": null,
      "margin": null,
      "max_height": null,
      "max_width": null,
      "min_height": null,
      "min_width": null,
      "object_fit": null,
      "object_position": null,
      "order": null,
      "overflow": null,
      "overflow_x": null,
      "overflow_y": null,
      "padding": null,
      "right": null,
      "top": null,
      "visibility": null,
      "width": null
     }
    },
    "f94cbdd078c24cc2a69cbdffc90eac15": {
     "model_module": "@jupyter-widgets/base",
     "model_module_version": "1.2.0",
     "model_name": "LayoutModel",
     "state": {
      "_model_module": "@jupyter-widgets/base",
      "_model_module_version": "1.2.0",
      "_model_name": "LayoutModel",
      "_view_count": null,
      "_view_module": "@jupyter-widgets/base",
      "_view_module_version": "1.2.0",
      "_view_name": "LayoutView",
      "align_content": null,
      "align_items": null,
      "align_self": null,
      "border": null,
      "bottom": null,
      "display": null,
      "flex": null,
      "flex_flow": null,
      "grid_area": null,
      "grid_auto_columns": null,
      "grid_auto_flow": null,
      "grid_auto_rows": null,
      "grid_column": null,
      "grid_gap": null,
      "grid_row": null,
      "grid_template_areas": null,
      "grid_template_columns": null,
      "grid_template_rows": null,
      "height": null,
      "justify_content": null,
      "justify_items": null,
      "left": null,
      "margin": null,
      "max_height": null,
      "max_width": null,
      "min_height": null,
      "min_width": null,
      "object_fit": null,
      "object_position": null,
      "order": null,
      "overflow": null,
      "overflow_x": null,
      "overflow_y": null,
      "padding": null,
      "right": null,
      "top": null,
      "visibility": null,
      "width": null
     }
    },
    "fbbc1d51ecc041fca58032acabb25518": {
     "model_module": "@jupyter-widgets/controls",
     "model_module_version": "1.5.0",
     "model_name": "HTMLModel",
     "state": {
      "_dom_classes": [],
      "_model_module": "@jupyter-widgets/controls",
      "_model_module_version": "1.5.0",
      "_model_name": "HTMLModel",
      "_view_count": null,
      "_view_module": "@jupyter-widgets/controls",
      "_view_module_version": "1.5.0",
      "_view_name": "HTMLView",
      "description": "",
      "description_tooltip": null,
      "layout": "IPY_MODEL_f44eb28f8d9245f68b838ea068dcde7c",
      "placeholder": "​",
      "style": "IPY_MODEL_b61e11b471524addb814d02bb63d9b59",
      "value": " 150/150 [00:00&lt;00:00, 6.64kB/s]"
     }
    }
   }
  }
 },
 "nbformat": 4,
 "nbformat_minor": 0
}
