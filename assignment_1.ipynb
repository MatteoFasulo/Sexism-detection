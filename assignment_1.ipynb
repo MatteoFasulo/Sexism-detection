{
 "cells": [
  {
   "cell_type": "markdown",
   "metadata": {
    "id": "qmIZOuDv-bQk"
   },
   "source": [
    "<a href=\"https://colab.research.google.com/github/MatteoFasulo/Sexism-detection/blob/main/assignment_1.ipynb\" target=\"_parent\"><img src=\"https://colab.research.google.com/assets/colab-badge.svg\" alt=\"Open In Colab\"/></a>"
   ]
  },
  {
   "cell_type": "markdown",
   "metadata": {
    "id": "J0ZCFmuHV1BX"
   },
   "source": [
    "# Sexism Detector - Assignment 1\n",
    "\n",
    "## Group:\n",
    "- Luca Babboni - luca.babboni2@studio.unibo.it  \n",
    "- Matteo Fasulo - matteo.fasulo@studio.unibo.it  \n",
    "- Maksim Omelchenko - maksim.omelchenko@studio.unibo.it  \n",
    "- Luca Tedeschini - luca.tedeschini3@studio.unibo.it  \n",
    "\n",
    "## Description:\n",
    "This notebook addresses Task 1 proposed in [EXIST 2023](https://clef2023.clef-initiative.eu/index.php?page=Pages/labs.html#EXIST) on sexism detection. The following work follows, step by step, the tasks specified in the provided notebook.\n"
   ]
  },
  {
   "cell_type": "markdown",
   "metadata": {
    "id": "9vYXSXHf-bQp"
   },
   "source": [
    "# Libraries\n",
    "\n",
    "Uncomment the following cell to install the required libraries in Google Colab."
   ]
  },
  {
   "cell_type": "code",
   "execution_count": 1,
   "metadata": {
    "id": "rT1NnYib-cZs"
   },
   "outputs": [],
   "source": [
    "#%%capture\n",
    "#%pip install requests nltk gensim datasets evaluate transformers"
   ]
  },
  {
   "cell_type": "code",
   "execution_count": 1,
   "metadata": {
    "id": "8HsAwNAc-bQp"
   },
   "outputs": [
    {
     "name": "stderr",
     "output_type": "stream",
     "text": [
      "/home/sbrodox/Desktop/githubrepos/Sexism-detection/env/lib/python3.10/site-packages/tqdm/auto.py:21: TqdmWarning: IProgress not found. Please update jupyter and ipywidgets. See https://ipywidgets.readthedocs.io/en/stable/user_install.html\n",
      "  from .autonotebook import tqdm as notebook_tqdm\n"
     ]
    }
   ],
   "source": [
    "import requests\n",
    "import gc\n",
    "import os\n",
    "from pathlib import Path\n",
    "import re\n",
    "import json\n",
    "from typing import OrderedDict\n",
    "import copy\n",
    "\n",
    "import unicodedata\n",
    "\n",
    "import numpy as np\n",
    "import pandas as pd\n",
    "\n",
    "from sklearn.utils.class_weight import compute_class_weight\n",
    "from sklearn.metrics import f1_score, accuracy_score, precision_score, recall_score, confusion_matrix, ConfusionMatrixDisplay, PrecisionRecallDisplay\n",
    "\n",
    "from tqdm import tqdm\n",
    "import matplotlib.pyplot as plt\n",
    "\n",
    "import nltk\n",
    "from nltk.stem import WordNetLemmatizer\n",
    "\n",
    "import gensim\n",
    "import gensim.downloader as gloader\n",
    "\n",
    "import torch\n",
    "\n",
    "from datasets import Dataset\n",
    "from transformers import AutoTokenizer\n",
    "from transformers import DataCollatorWithPadding\n",
    "from transformers import AutoModelForSequenceClassification\n",
    "from transformers import TrainingArguments\n",
    "from transformers import Trainer\n",
    "from transformers import XLMRobertaForSequenceClassification"
   ]
  },
  {
   "cell_type": "markdown",
   "metadata": {
    "id": "JTiUdEUXV1BZ"
   },
   "source": [
    "# Class Definition\n",
    "\n",
    "We decided to organize all the code within classes to keep the outputs well-organized and clean. \n",
    "\n",
    "Each method is documented with its respective docstring, and a high-level explanation of what we are doing will be written in markdown whenever we call the methods.\n",
    "\n",
    "<div class=\"alert alert-info\">\n",
    "<b> Note: </b>We hope that in this way the code will be more readable and understandable.\n",
    "</div>"
   ]
  },
  {
   "cell_type": "code",
   "execution_count": 2,
   "metadata": {
    "id": "AW1FGv-9V1Ba"
   },
   "outputs": [],
   "source": [
    "class SexismDetector:\n",
    "    def __init__(self):\n",
    "        URL_PATTERN_STR = r\"\"\"(?i)((?:https?:(?:/{1,3}|[a-z0-9%])|[a-z0-9.\\-]+[.](?:com|net|org|edu|gov|mil|aero|asia|biz|cat|coop|info\n",
    "                      |int|jobs|mobi|museum|name|post|pro|tel|travel|xxx|ac|ad|ae|af|ag|ai|al|am|an|ao|aq|ar|as|at|au|aw|ax|az|ba|\n",
    "                      bb|bd|be|bf|bg|bh|bi|bj|bm|bn|bo|br|bs|bt|bv|bw|by|bz|ca|cc|cd|cf|cg|ch|ci|ck|cl|cm|cn|co|cr|cs|cu|cv|cx|cy|\n",
    "                      cz|dd|de|dj|dk|dm|do|dz|ec|ee|eg|eh|er|es|et|eu|fi|fj|fk|fm|fo|fr|ga|gb|gd|ge|gf|gg|gh|gi|gl|gm|gn|gp|gq|gr|\n",
    "                      gs|gt|gu|gw|gy|hk|hm|hn|hr|ht|hu|id|ie|il|im|in|io|iq|ir|is|it|je|jm|jo|jp|ke|kg|kh|ki|km|kn|kp|kr|kw|ky|kz|\n",
    "                      la|lb|lc|li|lk|lr|ls|lt|lu|lv|ly|ma|mc|md|me|mg|mh|mk|ml|mm|mn|mo|mp|mq|mr|ms|mt|mu|mv|mw|mx|my|mz|na|nc|ne|\n",
    "                      nf|ng|ni|nl|no|np|nr|nu|nz|om|pa|pe|pf|pg|ph|pk|pl|pm|pn|pr|ps|pt|pw|py|qa|re|ro|rs|ru|rw|sa|sb|sc|sd|se|sg|\n",
    "                      sh|si|sj|Ja|sk|sl|sm|sn|so|sr|ss|st|su|sv|sx|sy|sz|tc|td|tf|tg|th|tj|tk|tl|tm|tn|to|tp|tr|tt|tv|tw|tz|ua|ug|\n",
    "                      uk|us|uy|uz|va|vc|ve|vg|vi|vn|vu|wf|ws|ye|yt|yu|za|zm|zw)/)(?:[^\\s()<>{}\\[\\]]+|\\([^\\s()]*?\\([^\\s()]+\\)[^\\s()]\n",
    "                      *?\\)|\\([^\\s]+?\\))+(?:\\([^\\s()]*?\\([^\\s()]+\\)[^\\s()]*?\\)|\\([^\\s]+?\\)|[^\\s`!()\\[\\]{};:'\\\".,<>?«»“”‘’])|(?:(?<!@)\n",
    "                      [a-z0-9]+(?:[.\\-][a-z0-9]+)*[.](?:com|net|org|edu|gov|mil|aero|asia|biz|cat|coop|info|int|jobs|mobi|museum|name\n",
    "                      |post|pro|tel|travel|xxx|ac|ad|ae|af|ag|ai|al|am|an|ao|aq|ar|as|at|au|aw|ax|az|ba|bb|bd|be|bf|bg|bh|bi|bj|bm|bn\n",
    "                      |bo|br|bs|bt|bv|bw|by|bz|ca|cc|cd|cf|cg|ch|ci|ck|cl|cm|cn|co|cr|cs|cu|cv|cx|cy|cz|dd|de|dj|dk|dm|do|dz|ec|ee|eg\n",
    "                      |eh|er|es|et|eu|fi|fj|fk|fm|fo|fr|ga|gb|gd|ge|gf|gg|gh|gi|gl|gm|gn|gp|gq|gr|gs|gt|gu|gw|gy|hk|hm|hn|hr|ht|hu|id\n",
    "                      |ie|il|im|in|io|iq|ir|is|it|je|jm|jo|jp|ke|kg|kh|ki|km|kn|kp|kr|kw|ky|kz|la|lb|lc|li|lk|lr|ls|lt|lu|lv|ly|ma|mc|\n",
    "                      md|me|mg|mh|mk|ml|mm|mn|mo|mp|mq|mr|ms|mt|mu|mv|mw|mx|my|mz|na|nc|ne|nf|ng|ni|nl|no|np|nr|nu|nz|om|pa|pe|pf|pg|\n",
    "                      ph|pk|pl|pm|pn|pr|ps|pt|pw|py|qa|re|ro|rs|ru|rw|sa|sb|sc|sd|se|sg|sh|si|sj|Ja|sk|sl|sm|sn|so|sr|ss|st|su|sv|sx|\n",
    "                      sy|sz|tc|td|tf|tg|th|tj|tk|tl|tm|tn|to|tp|tr|tt|tv|tw|tz|ua|ug|uk|us|uy|uz|va|vc|ve|vg|vi|vn|vu|wf|ws|ye|yt|yu|\n",
    "                      za|zm|zw)\\b/?(?!@)))\"\"\"\n",
    "        self.URL_PATTERN = re.compile(URL_PATTERN_STR, re.IGNORECASE)\n",
    "        self.HASHTAG_PATTERN = re.compile(r'#\\w*')\n",
    "        self.MENTION_PATTERN = re.compile(r'@\\w*')\n",
    "        self.EMOJIS_PATTERN = re.compile(u'([\\U00002600-\\U000027BF])|([\\U0001f300-\\U0001f64F])|([\\U0001f680-\\U0001f6FF])')\n",
    "        self.AND_PATTERN = re.compile(r'&amp;')\n",
    "        self.PUNCT_REPEAT_PATTERN = re.compile(r'([!?.]){2,}')\n",
    "        self.ELONG_PATTERN = re.compile(r'\\b(\\S*?)(.)\\2{2,}\\b')\n",
    "        self.WORD_PATTERN = re.compile(r'[^\\w<>\\s]')\n",
    "        self.SEED = 1337\n",
    "        self.DATA_FOLDER = Path('data')\n",
    "        self.MODEL_FOLDER = Path('models')\n",
    "        self.IMG_FOLDER = Path('images')\n",
    "        self.CSV_FOLDER = Path('csv')\n",
    "        self.columns_to_maintain = ['id_EXIST', 'lang', 'tweet', 'hard_label_task1']\n",
    "        self.UNK_TOKEN = '[UNK]'\n",
    "        self.PAD_TOKEN = '[PAD]'\n",
    "\n",
    "        if not self.CSV_FOLDER.exists():\n",
    "            self.CSV_FOLDER.mkdir(parents=True)\n",
    "            print(f\"Created folder {self.CSV_FOLDER}.\")\n",
    "\n",
    "    def download_corpus(self, url: str, filename: str) -> None:\n",
    "        \"\"\"\n",
    "        Downloads a text corpus from a given URL and saves it to a specified filename within the data folder.\n",
    "\n",
    "        Args:\n",
    "            url (str): The URL from which to download the corpus.\n",
    "            filename (str): The name of the file to save the downloaded corpus.\n",
    "\n",
    "        Raises:\n",
    "            requests.exceptions.HTTPError: If the HTTP request returned an unsuccessful status code.\n",
    "\n",
    "        Side Effects:\n",
    "            Creates the data folder if it does not exist.\n",
    "            Writes the downloaded corpus to the specified file.\n",
    "        \"\"\"\n",
    "        if not self.DATA_FOLDER.exists():\n",
    "            self.DATA_FOLDER.mkdir(parents=True)\n",
    "            print(f\"Created folder {self.DATA_FOLDER}.\")\n",
    "\n",
    "        response = requests.get(url)\n",
    "        response.raise_for_status()\n",
    "        with open(self.DATA_FOLDER / filename, 'w', encoding='utf-8') as f:\n",
    "            f.write(response.text)\n",
    "\n",
    "    def load_corpus(self, filename: str, *args, **kwargs) -> pd.DataFrame:\n",
    "        \"\"\"\n",
    "        Load a corpus from a JSON file.\n",
    "\n",
    "        Parameters:\n",
    "        filename (str): The name of the JSON file to load.\n",
    "        *args: Variable length argument list to pass to pandas read_json.\n",
    "        **kwargs: Arbitrary keyword arguments to pass to pandas read_json.\n",
    "\n",
    "        Returns:\n",
    "        DataFrame: A pandas DataFrame containing the loaded corpus.\n",
    "        \"\"\"\n",
    "        return pd.read_json(self.DATA_FOLDER / filename, *args, **kwargs)\n",
    "\n",
    "    @staticmethod\n",
    "    def majority_voting(votes: list[str]) -> str:\n",
    "        \"\"\"\n",
    "        Determines the majority vote from a list of votes.\n",
    "        Args:\n",
    "            votes (list[str]): A list of votes, where each vote is either \"YES\" or \"NO\".\n",
    "        Returns:\n",
    "            str: The result of the majority vote. Returns \"YES\" if there are more \"YES\" votes,\n",
    "                \"NO\" if there are more \"NO\" votes, and \"NEUTRAL\" in case of a tie.\n",
    "        \"\"\"\n",
    "        total_num_votes = len(votes)\n",
    "        yes_votes = votes.count(\"YES\")\n",
    "        no_votes = total_num_votes - yes_votes\n",
    "\n",
    "        if yes_votes > no_votes:\n",
    "            return \"YES\"\n",
    "        elif no_votes > yes_votes:\n",
    "            return \"NO\"\n",
    "        else:\n",
    "            return \"NEUTRAL\" # This will be the case when there is a tie (removed later)\n",
    "\n",
    "    def preprocess_text(self, text: str) -> str:\n",
    "        \"\"\"\n",
    "        Preprocesses the input text by removing or replacing specific patterns.\n",
    "\n",
    "        Args:\n",
    "            text (str): The input text to be preprocessed.\n",
    "\n",
    "        Returns:\n",
    "            str: The preprocessed text with URLs, mentions, hashtags, emojis,\n",
    "                 special characters removed, 'and' replaced, and extra spaces trimmed.\n",
    "        \"\"\"\n",
    "        # Convert URL to <URL> so that GloVe will have a vector for it\n",
    "        text = re.sub(self.URL_PATTERN, ' <URL>', text)\n",
    "        # Add spaces around slashes\n",
    "        text = re.sub(r\"/\", \" / \", text)\n",
    "        # Replace mentions with <USER>\n",
    "        text = re.sub(self.MENTION_PATTERN, ' <USER> ', text)\n",
    "        # Replace numbers with <NUMBER>\n",
    "        text = re.sub(r\"[-+]?[.\\d]*[\\d]+[:,.\\d]*\", \" <NUMBER> \", text)\n",
    "        # Replace hashtags with <HASHTAG>\n",
    "        text = re.sub(self.HASHTAG_PATTERN, ' <HASHTAG> ', text)\n",
    "        #text = self.AND_PATTERN.sub('and', text) # &amp; already in the Vocab of GloVe-twitter\n",
    "        # Replace multiple punctuation marks with <REPEAT>\n",
    "        text = re.sub(self.PUNCT_REPEAT_PATTERN, lambda match: f\" {match.group(1)} <REPEAT> \", text)\n",
    "        # Replace elongated words with <ELONG>\n",
    "        text = re.sub(self.ELONG_PATTERN, lambda match: f\" {match.group(1)}{match.group(2)} <ELONG> \", text)\n",
    "        #text = emoji.replace_emoji(text, replace='') # some emojis are in the vocab so we do not remove them, the others will be OOVs\n",
    "        text = text.strip()\n",
    "        # Get only words\n",
    "        text = re.sub(self.WORD_PATTERN, ' ', text)\n",
    "        text = text.strip()\n",
    "        # Convert stylized Unicode characters to plain text (removes bold text, etc.)\n",
    "        text = ''.join(c for c in unicodedata.normalize('NFKD', text) if not unicodedata.combining(c))\n",
    "        return text\n",
    "\n",
    "    def lemmatize_text(self, text: str) -> str:\n",
    "        \"\"\"\n",
    "        Lemmatizes the input text using the WordNet lemmatizer.\n",
    "\n",
    "        This method attempts to lemmatize each word in the input text. If the WordNet\n",
    "        data is not available, it will download the necessary data and retry.\n",
    "\n",
    "        Args:\n",
    "            text (str): The input text to be lemmatized.\n",
    "\n",
    "        Returns:\n",
    "            str: The lemmatized text.\n",
    "        \"\"\"\n",
    "        lemmatizer = WordNetLemmatizer()\n",
    "        downloaded = False\n",
    "        while not downloaded:\n",
    "            try:\n",
    "                lemmatizer.lemmatize(text)\n",
    "                downloaded = True\n",
    "            except LookupError:\n",
    "                print(\"Downloading WordNet...\")\n",
    "                nltk.download('wordnet')\n",
    "        return ' '.join([lemmatizer.lemmatize(word) for word in text.split()])\n",
    "\n",
    "    @staticmethod\n",
    "    def text_diff(original_text: str, preprocessed_text: str, random: bool = True) -> None:\n",
    "        \"\"\"\n",
    "        Displays a comparison between an original tweet and its preprocessed version.\n",
    "        Args:\n",
    "            original_text (str): The original text data containing tweets.\n",
    "            preprocessed_text (str): The preprocessed text data containing tweets.\n",
    "            random (bool, optional): If True, a random tweet is selected for comparison.\n",
    "                                     If False, the first tweet is selected. Defaults to True.\n",
    "        Returns:\n",
    "            None\n",
    "        \"\"\"\n",
    "        if random:\n",
    "            idx = np.random.randint(0, preprocessed_text.shape[0])\n",
    "        else:\n",
    "            idx = 0\n",
    "\n",
    "        print(f\"Original tweet:\\n{original_text['tweet'].iloc[idx]}\")\n",
    "        print(f\"Processed tweet:\\n{preprocessed_text['tweet'].iloc[idx]}\")\n",
    "\n",
    "    def load_glove(self, model_name: str = 'glove-wiki-gigaword', embedding_dim: int = 50) -> gensim.models.keyedvectors.KeyedVectors:\n",
    "        \"\"\"\n",
    "        Loads the GloVe model with the specified name and embedding dimension.\n",
    "        Args:\n",
    "            model_name (str): The name of the GloVe model to load. Default is 'glove-wiki-gigaword'.\n",
    "            embedding_dim (int): The dimension of the word embeddings. Default is 50.\n",
    "        Returns:\n",
    "            gensim.models.keyedvectors.KeyedVectors: The loaded GloVe model.\n",
    "        Raises:\n",
    "            Exception: If there is an error in downloading or loading the model.\n",
    "        Notes:\n",
    "            - If the model folder does not exist, it will be created.\n",
    "            - If the model is not already downloaded, it will be downloaded and saved to the specified path.\n",
    "            - If the model is already downloaded, it will be loaded from the specified path.\n",
    "        \"\"\"\n",
    "        self.EMBEDDING_DIM = embedding_dim\n",
    "\n",
    "        if not self.MODEL_FOLDER.exists():\n",
    "            self.MODEL_FOLDER.mkdir(parents=True)\n",
    "            print(f\"Created folder {self.MODEL_FOLDER}.\")\n",
    "\n",
    "        model_path = self.MODEL_FOLDER / f\"{model_name}-{embedding_dim}\"\n",
    "        if not model_path.exists():\n",
    "            print(f\"Downloading {model_name} model...\")\n",
    "            glove_model = gloader.load(f\"{model_name}-{embedding_dim}\")\n",
    "            print(f\"Model downloaded! Saving to {model_path}\")\n",
    "            glove_model.save(str(model_path))\n",
    "            print(f\"Model saved to {self.MODEL_FOLDER / f'{model_name}-{embedding_dim}'}\")\n",
    "        else:\n",
    "            glove_model = gensim.models.keyedvectors.KeyedVectors.load(str(model_path))\n",
    "        return glove_model\n",
    "\n",
    "    def get_vocab(self, data: pd.DataFrame) -> tuple[OrderedDict, OrderedDict]:\n",
    "        \"\"\"\n",
    "        Generates vocabulary mappings from a given dataset.\n",
    "        Args:\n",
    "            data (pd.DataFrame): A pandas DataFrame containing the dataset with a column 'tweet'.\n",
    "            word_listing (list, optional): A list of words to include in the vocabulary. If None, the vocabulary\n",
    "                                           will be built from the dataset. Defaults to None.\n",
    "        Returns:\n",
    "            tuple[OrderedDict, OrderedDict]: A tuple containing two OrderedDicts:\n",
    "                - idx_to_word: Mapping from index to word.\n",
    "                - word_to_idx: Mapping from word to index.\n",
    "        \"\"\"\n",
    "        idx_to_word = OrderedDict()\n",
    "        word_to_idx = OrderedDict()\n",
    "\n",
    "        curr_idx = 0\n",
    "        for sentence in data.tweet.values:\n",
    "            tokens = sentence.split()\n",
    "            for token in tokens:\n",
    "                if token not in word_to_idx:\n",
    "                    word_to_idx[token] = curr_idx\n",
    "                    idx_to_word[curr_idx] = token\n",
    "                    curr_idx += 1\n",
    "\n",
    "        word_listing = list(idx_to_word.values())\n",
    "        return idx_to_word, word_to_idx, word_listing\n",
    "\n",
    "    def co_occurrence_count(self, df: pd.DataFrame, idx_to_word, word_to_idx, window_size: int = 10) -> np.ndarray:\n",
    "\n",
    "        vocab_size = len(idx_to_word)\n",
    "        co_occurrence_matrix = np.zeros((vocab_size, vocab_size), dtype=np.float32)\n",
    "\n",
    "        for sentence in tqdm(df.tweet.values):\n",
    "            tokens = sentence.split()\n",
    "            for pos, token in enumerate(tokens):\n",
    "                start = max(0, pos - window_size)\n",
    "                end = min(pos + window_size + 1, len(tokens))\n",
    "\n",
    "                first_word_index = word_to_idx[token]\n",
    "\n",
    "                for pos2 in range(start, end):\n",
    "                    if pos2 != pos:\n",
    "                        second_token = tokens[pos2]\n",
    "                        second_word_index = word_to_idx[second_token]\n",
    "                        co_occurrence_matrix[first_word_index, second_word_index] += 1\n",
    "\n",
    "        return co_occurrence_matrix\n",
    "\n",
    "    def co_occurrence_dataframe(self, co_occurrence_matrix: np.ndarray, idx_to_word: OrderedDict) -> pd.DataFrame:\n",
    "        \"\"\"\n",
    "        Converts a co-occurrence matrix into a pandas DataFrame with word indices as row and column labels.\n",
    "        Args:\n",
    "            co_occurrence_matrix (np.ndarray): A co-occurrence matrix with word indices as row and column indices.\n",
    "            idx_to_word (OrderedDict): A mapping from word index to word.\n",
    "        Returns:\n",
    "            pd.DataFrame: A pandas DataFrame with word indices as row and column labels.\n",
    "        \"\"\"\n",
    "        return pd.DataFrame(co_occurrence_matrix, index=idx_to_word.values(), columns=idx_to_word.values())\n",
    "\n",
    "    def get_augmented_vocab(self, emb_model: gensim.models.keyedvectors.KeyedVectors, train_words: list, co_occurrence_df: pd.DataFrame, save: bool = False) -> gensim.models.keyedvectors.KeyedVectors:\n",
    "        \"\"\"\n",
    "        Augments the given embedding model with new tokens from the training words list. If a token is not found in the\n",
    "        embedding model, a random vector is generated for it. Optionally saves the updated vocabulary to a JSON file.\n",
    "        Args:\n",
    "            emb_model (gensim.models.keyedvectors.KeyedVectors): The embedding model to augment.\n",
    "            train_words (list): A list of words to add to the embedding model.\n",
    "            co_occurrence_df (pd.DataFrame): A DataFrame containing co-occurrence data for the training words.\n",
    "            save (bool, optional): If True, saves the updated vocabulary to a JSON file. Defaults to False.\n",
    "        Returns:\n",
    "            gensim.models.keyedvectors.KeyedVectors: The augmented embedding model.\n",
    "        \"\"\"\n",
    "        new_tokens = []\n",
    "        new_vectors = []\n",
    "\n",
    "        for token in train_words:\n",
    "            try:\n",
    "                embedding_vec = emb_model.get_vector(token)\n",
    "            except KeyError:\n",
    "                try:\n",
    "                    # Handle missing token in embedding model\n",
    "                    top_5_most_frequent = co_occurrence_df.loc[token].sort_values(ascending=False).index.tolist()[:5] # Get the top 5 most frequent co-occurring words\n",
    "\n",
    "                    # Filter words that are in the embedding model\n",
    "                    valid_words = [word for word in top_5_most_frequent if word in emb_model.key_to_index]\n",
    "\n",
    "                    if valid_words: # TODO: check that valid words as atleast 2 words otherwise mean won't be significant\n",
    "                        # Calculate the average vector for valid words\n",
    "                        embedding_vec = np.mean([emb_model.get_vector(word) for word in valid_words], axis=0)\n",
    "                    else:\n",
    "                        # Handle the case where no valid co-occurring words exist\n",
    "                        raise ValueError(f\"No valid co-occurring words found for token: {token}\")\n",
    "\n",
    "                except Exception as e:\n",
    "                    print(f\"Generating random vector for token '{token}': {e}\")\n",
    "                    embedding_vec = np.random.uniform(low=-0.05, high=0.05, size=self.EMBEDDING_DIM)\n",
    "\n",
    "            new_tokens.append(token)\n",
    "            new_vectors.append(embedding_vec)\n",
    "\n",
    "        emb_model.add_vectors(new_tokens, new_vectors)\n",
    "        # add the UNK token to the embedding model with the vector which is the average of all the vectors\n",
    "        emb_model.add_vectors([\"[UNK]\", \"[PAD]\"], [np.mean(emb_model.vectors, axis=0), np.zeros(self.EMBEDDING_DIM)])\n",
    "\n",
    "        if save:\n",
    "            vocab_path = self.DATA_FOLDER / 'vocab.json'\n",
    "            print(f\"Saving vocab to {vocab_path}\")\n",
    "            with vocab_path.open('w', encoding='utf-8') as f:\n",
    "                json.dump(emb_model.key_to_index, f, indent=4)\n",
    "            print(\"Vocab saved!\")\n",
    "\n",
    "        return emb_model\n",
    "\n",
    "    def get_oov(self, embedding_model: gensim.models.keyedvectors.KeyedVectors, word_listing: list) -> set:\n",
    "        \"\"\"\n",
    "        Returns a list of out-of-vocabulary (OOV) words from a given list of words.\n",
    "        Args:\n",
    "            embedding_model (gensim.models.keyedvectors.KeyedVectors): The word embedding model containing known words.\n",
    "            word_listing (list): A list of words to check against the embedding model.\n",
    "        Returns:\n",
    "            set: A set of out-of-vocabulary words.\n",
    "        \"\"\"\n",
    "        return set(word_listing).difference(set(embedding_model.key_to_index.keys()))\n",
    "\n",
    "    def get_oov_stats(self, embedding_model: gensim.models.keyedvectors.KeyedVectors, word_listing: list) -> None:\n",
    "        \"\"\"\n",
    "        Calculate and print the number and percentage of out-of-vocabulary (OOV) words.\n",
    "        Args:\n",
    "            embedding_model (gensim.models.keyedvectors.KeyedVectors): The word embedding model containing known words.\n",
    "            word_listing (list): A list of words to check against the embedding model.\n",
    "        Returns:\n",
    "            None\n",
    "        \"\"\"\n",
    "        OOV_token = self.get_oov(embedding_model, word_listing)\n",
    "        OOV_percentage = float(len(OOV_token)) * 100 / len(word_listing)\n",
    "\n",
    "        print(f\"Total OOV terms: {len(OOV_token)} ({OOV_percentage:.2f}%)\")\n",
    "\n",
    "    def get_class_weights(self, data: pd.DataFrame, label_column: str) -> np.ndarray:\n",
    "        \"\"\"\n",
    "        Computes class weights for a given dataset.\n",
    "        Args:\n",
    "            data (pd.DataFrame, optional): A pandas DataFrame containing the dataset. Defaults to None.\n",
    "        Returns:\n",
    "            np.ndarray: An array of class weights.\n",
    "        \"\"\"\n",
    "        class_weights = compute_class_weight('balanced', classes=np.unique(data[label_column]), y=data[label_column])\n",
    "        self.class_weights = torch.tensor(class_weights, dtype=torch.float32)\n",
    "        return self.class_weights\n",
    "\n",
    "    def get_padded_sequences(self, data: pd.Series, embedding_model: gensim.models.keyedvectors.KeyedVectors) -> torch.Tensor:\n",
    "        \"\"\"\n",
    "        Converts a pandas Series of text data into padded sequences of word indices using a given embedding model.\n",
    "\n",
    "        Args:\n",
    "            data (pd.Series): A pandas Series containing text data.\n",
    "            embedding_model (gensim.models.keyedvectors.KeyedVectors): A pre-trained word embedding model.\n",
    "\n",
    "        Returns:\n",
    "            torch.Tensor: A tensor containing padded sequences of word indices.\n",
    "        \"\"\"\n",
    "        tokenizer = nltk.tokenize.NLTKWordTokenizer()\n",
    "        unk_index = embedding_model.get_index(self.UNK_TOKEN)\n",
    "\n",
    "        sequences = [torch.tensor([embedding_model.get_index(word, default=unk_index) for word in tokenizer.tokenize(x)]) for x in data.values]\n",
    "\n",
    "        return torch.nn.utils.rnn.pad_sequence(sequences, padding_value=embedding_model.get_index(self.PAD_TOKEN), batch_first=True)\n",
    "\n",
    "    def get_dataloader(self, data: pd.DataFrame, embedding_model: gensim.models.keyedvectors.KeyedVectors, type: str, *args, **kwargs) -> torch.utils.data.DataLoader:\n",
    "        \"\"\"\n",
    "        Creates a DataLoader for the given dataset.\n",
    "\n",
    "        Args:\n",
    "            data (pd.DataFrame): DataFrame containing the data. Must have 'tweet' and 'label' columns.\n",
    "            embedding_model (gensim.models.keyedvectors.KeyedVectors): Pre-trained embedding model to convert tweets to vectors.\n",
    "            type (str): Type of dataset. Must be one of 'train', 'val', or 'test'.\n",
    "            *args: Variable length argument list for DataLoader.\n",
    "            **kwargs: Arbitrary keyword arguments for DataLoader.\n",
    "\n",
    "        Returns:\n",
    "            torch.utils.data.DataLoader: DataLoader for the given dataset.\n",
    "\n",
    "        Raises:\n",
    "            ValueError: If the type is not one of 'train', 'val', or 'test'.\n",
    "        \"\"\"\n",
    "        if type not in ['train', 'val', 'test']:\n",
    "            raise ValueError(\"Invalid type. Must be one of 'train', 'val', or 'test'.\")\n",
    "        padded_sequences = self.get_padded_sequences(data.tweet, embedding_model)\n",
    "        labels = torch.tensor(data.label.values)\n",
    "        dataset = TextDataset(padded_sequences, labels)\n",
    "        return torch.utils.data.DataLoader(dataset, *args, **kwargs)\n",
    "\n",
    "class TextDataset(torch.utils.data.Dataset):\n",
    "    \"\"\"\n",
    "    A custom dataset class for handling text sequences and their corresponding labels.\n",
    "\n",
    "    Args:\n",
    "        sequences (torch.Tensor): A tensor containing the text sequences.\n",
    "        labels (torch.Tensor): A tensor containing the labels for each text sequence.\n",
    "\n",
    "    Attributes:\n",
    "        sequences (torch.Tensor): Stores the text sequences.\n",
    "        labels (torch.Tensor): Stores the labels for each text sequence.\n",
    "\n",
    "    Methods:\n",
    "        __len__(): Returns the number of text sequences in the dataset.\n",
    "        __getitem__(idx): Returns the text sequence and label at the specified index.\n",
    "    \"\"\"\n",
    "    def __init__(self, sequences, labels):\n",
    "        self.sequences = sequences\n",
    "        self.labels = labels\n",
    "\n",
    "    def __len__(self):\n",
    "        return self.sequences.shape[0]\n",
    "\n",
    "    def __getitem__(self, idx):\n",
    "        return self.sequences[idx], self.labels[idx]"
   ]
  },
  {
   "cell_type": "markdown",
   "metadata": {
    "id": "9S8JHdj0-bQw"
   },
   "source": [
    "# Task 1: Corpus\n",
    "\n",
    "1. Download the data\n",
    "2. Load the JSON files and encode them as a DataFrame\n",
    "3. Generate hard labels for Task 1 with majority voting\n",
    "4. Filter the DataFrame for only english tweets\n",
    "5. Remove unwanted columns\n",
    "6. Encode the hard labels column as integers\n",
    "\n",
    "<div class=\"alert alert-info\">\n",
    "<b>Bonus</b>: explore also Spanish tweets leveraging multi-language models and assessing the performance of the model on the two languages in comparison to the English-only model.\n",
    "</div>"
   ]
  },
  {
   "cell_type": "markdown",
   "metadata": {
    "id": "97zOFFL7lMAg"
   },
   "source": [
    "By setting the following environment variable, CUDA should adopt some deterministic algorithms to ensure reproducibility. \n",
    "\n",
    "<div class=\"alert alert-info\">\n",
    "<b> Note: </b>We are not sure of whether this will work but <a href=\"https://pytorch.org/docs/stable/notes/randomness.html#:~:text=Furthermore%2C%20if%20you%20are%20using%20CUDA%20tensors%2C%20and%20your%20CUDA%20version%20is%2010.2%20or%20greater%2C%20you%20should%20set%20the%20environment%20variable%20CUBLAS_WORKSPACE_CONFIG%20according%20to%20CUDA%20documentation%3A%20https%3A//docs.nvidia.com/cuda/cublas/index.html%23results%2Dreproducibility\"> it was mentioned in the PyTorch documentation</a>.</div>"
   ]
  },
  {
   "cell_type": "code",
   "execution_count": 3,
   "metadata": {
    "id": "MO2DO1m5lMAg"
   },
   "outputs": [],
   "source": [
    "os.environ[\"CUBLAS_WORKSPACE_CONFIG\"] = \":4096:8\""
   ]
  },
  {
   "cell_type": "markdown",
   "metadata": {
    "id": "nALIh9GUC7tn"
   },
   "source": [
    "Fist of all, we need to instantiate the class which we will use to perform the task."
   ]
  },
  {
   "cell_type": "code",
   "execution_count": 4,
   "metadata": {
    "id": "UqqFtZd_V1Bc"
   },
   "outputs": [],
   "source": [
    "detector = SexismDetector()"
   ]
  },
  {
   "cell_type": "markdown",
   "metadata": {
    "id": "bBtjK_NyC7tn"
   },
   "source": [
    "We will the device to use for the computation of PyTorch models. If a GPU is available, we will use it, otherwise we will use the CPU."
   ]
  },
  {
   "cell_type": "code",
   "execution_count": 5,
   "metadata": {
    "colab": {
     "base_uri": "https://localhost:8080/"
    },
    "id": "rAxlYsxwKy_k",
    "outputId": "75ade416-bf00-40f1-f648-256fa2427cc3"
   },
   "outputs": [
    {
     "name": "stdout",
     "output_type": "stream",
     "text": [
      "Using device: cuda\n"
     ]
    }
   ],
   "source": [
    "device = torch.device(\"cuda\" if torch.cuda.is_available() else \"cpu\")\n",
    "print(f\"Using device: {device}\")"
   ]
  },
  {
   "cell_type": "markdown",
   "metadata": {
    "id": "wpL0rkABC7tp"
   },
   "source": [
    "### Constants\n",
    "\n",
    "The constants are defined in the following cell. We will use them to define the embedding dimension and batch size.\n",
    "\n",
    "We will also instantiate an empty dictionary which will store the predictions and labels of each model for both the validation and test sets. In this way at the end we will have a single data structure (also easily exportable to a file) that will contain all the information we need to evaluate the models.\n",
    "\n",
    "<br>\n",
    "<div class=\"alert alert-info\">\n",
    "<b>Note</b>: the dictionary will have the following structure:\n",
    "</div>\n",
    "\n",
    "```python\n",
    "{\n",
    "    \"model_name\": {\n",
    "        \"validation\": {\n",
    "            \"predictions\": [],\n",
    "            \"labels\": []\n",
    "        },\n",
    "        \"test\": {\n",
    "            \"predictions\": [],\n",
    "            \"labels\": []\n",
    "        }\n",
    "    }\n",
    "}\n",
    "```"
   ]
  },
  {
   "cell_type": "code",
   "execution_count": 6,
   "metadata": {
    "id": "R-EBKp3wKy_l"
   },
   "outputs": [],
   "source": [
    "# GloVe Embeddings\n",
    "EMBEDDING_DIM = 50\n",
    "\n",
    "# LSTMs\n",
    "BATCH_SIZE = 128 # good balance between speed and performance\n",
    "HIDDEN_DIM = 1024 # very costly on the GPU but gives better results on 2-layer LSTM\n",
    "EPOCHS = 60 # just a starting point, we will use early stopping\n",
    "LEARNING_RATE = 1e-4 # starting point for the learning rate search\n",
    "\n",
    "# Transformers (roBERTa)\n",
    "ROBERTA_BATCH_SIZE = 16\n",
    "ROBERTA_EPOCHS = 6\n",
    "ROBERTA_LEARNING_RATE = 5e-6\n",
    "\n",
    "# Set the seeds for reproducibility\n",
    "seeds = [1337, 42, 69]\n",
    "\n",
    "# Instantiate the predictions dict to store the predictions for each seed and model (LSTMs and Transformers)\n",
    "predictions_dict = {}"
   ]
  },
  {
   "cell_type": "markdown",
   "metadata": {},
   "source": [
    "here we also defined the three seeds which we will use to ensure the reproducibility of the results. \n",
    "\n",
    "<div class=\"alert alert-info\">\n",
    "<b> Note: </b>All the models will be trained on each of the three seeds and the final results will be the <b>majority voting</b> of the three models. We will discuss which is the best model and on what seed it was trained but the confusion matrices and the final results will be the majority voting of the three models.\n",
    "</div>"
   ]
  },
  {
   "cell_type": "markdown",
   "metadata": {
    "id": "2kB8zolx-bQx"
   },
   "source": [
    "### Download the data\n",
    "\n",
    "The data is downloaded from the repository of the course. \n",
    "\n",
    "<div class=\"alert alert-info\">\n",
    "<b> Note: </b>The `download_corpus` method is used to download the data from the repository and save it in the `data` folder under the root directory of the project.\n",
    "</div>"
   ]
  },
  {
   "cell_type": "code",
   "execution_count": 7,
   "metadata": {
    "colab": {
     "base_uri": "https://localhost:8080/"
    },
    "id": "zHCqDJCq-bQy",
    "outputId": "f23ae26e-0808-454e-d3c5-a5c4ce081e8d"
   },
   "outputs": [],
   "source": [
    "detector.download_corpus(url='https://raw.githubusercontent.com/nlp-unibo/nlp-course-material/refs/heads/main/2024-2025/Assignment%201/data/training.json', filename='training.json')\n",
    "detector.download_corpus(url='https://raw.githubusercontent.com/nlp-unibo/nlp-course-material/refs/heads/main/2024-2025/Assignment%201/data/test.json', filename='test.json')\n",
    "detector.download_corpus(url='https://raw.githubusercontent.com/nlp-unibo/nlp-course-material/refs/heads/main/2024-2025/Assignment%201/data/validation.json', filename='validation.json')"
   ]
  },
  {
   "cell_type": "markdown",
   "metadata": {
    "id": "OlbBn1uh-bQy"
   },
   "source": [
    "### Load the JSON files and encode them as a DataFrame\n",
    "\n",
    "Then we load the JSON files and encode them as a DataFrame. \n",
    "<div class=\"alert alert-info\">\n",
    "<b> Note: </b>The `load_corpus` method is used to load the data from the JSON files and encode them as a DataFrame."
   ]
  },
  {
   "cell_type": "code",
   "execution_count": 8,
   "metadata": {
    "id": "xffrWnDg-bQz"
   },
   "outputs": [],
   "source": [
    "train = detector.load_corpus('training.json', orient='index', encoding='utf-8')\n",
    "val = detector.load_corpus('validation.json', orient='index', encoding='utf-8')\n",
    "test = detector.load_corpus('test.json', orient='index', encoding='utf-8')"
   ]
  },
  {
   "cell_type": "markdown",
   "metadata": {
    "id": "KCeSw0jEC7tq"
   },
   "source": [
    "Make a copy of the test set to be used at the end to perform more in depth analysis about why the model is failing to classify the tweets. This will be useful at the end of the Notebook to understand the reasons behind the misclassification of the tweets."
   ]
  },
  {
   "cell_type": "code",
   "execution_count": 9,
   "metadata": {
    "id": "pcUMYS98C7tq"
   },
   "outputs": [],
   "source": [
    "test_copy = test.copy()"
   ]
  },
  {
   "cell_type": "markdown",
   "metadata": {
    "id": "D6hNHOg9V1Bf"
   },
   "source": [
    "### Data exploration\n",
    "\n",
    "We can briefly explore the dataset we are working with by inspecting the first few rows of the DataFrame and the shape of the dataset."
   ]
  },
  {
   "cell_type": "code",
   "execution_count": 10,
   "metadata": {
    "colab": {
     "base_uri": "https://localhost:8080/",
     "height": 467
    },
    "id": "R-Iddy7j-bQ0",
    "outputId": "ee44c0d6-8e89-4015-dbd6-6b99fc55fb1c"
   },
   "outputs": [
    {
     "data": {
      "text/html": [
       "<div>\n",
       "<style scoped>\n",
       "    .dataframe tbody tr th:only-of-type {\n",
       "        vertical-align: middle;\n",
       "    }\n",
       "\n",
       "    .dataframe tbody tr th {\n",
       "        vertical-align: top;\n",
       "    }\n",
       "\n",
       "    .dataframe thead th {\n",
       "        text-align: right;\n",
       "    }\n",
       "</style>\n",
       "<table border=\"1\" class=\"dataframe\">\n",
       "  <thead>\n",
       "    <tr style=\"text-align: right;\">\n",
       "      <th></th>\n",
       "      <th>id_EXIST</th>\n",
       "      <th>lang</th>\n",
       "      <th>tweet</th>\n",
       "      <th>number_annotators</th>\n",
       "      <th>annotators</th>\n",
       "      <th>gender_annotators</th>\n",
       "      <th>age_annotators</th>\n",
       "      <th>labels_task1</th>\n",
       "      <th>labels_task2</th>\n",
       "      <th>labels_task3</th>\n",
       "      <th>split</th>\n",
       "    </tr>\n",
       "  </thead>\n",
       "  <tbody>\n",
       "    <tr>\n",
       "      <th>100001</th>\n",
       "      <td>100001</td>\n",
       "      <td>es</td>\n",
       "      <td>@TheChiflis Ignora al otro, es un capullo.El p...</td>\n",
       "      <td>6</td>\n",
       "      <td>[Annotator_1, Annotator_2, Annotator_3, Annota...</td>\n",
       "      <td>[F, F, F, M, M, M]</td>\n",
       "      <td>[18-22, 23-45, 46+, 46+, 23-45, 18-22]</td>\n",
       "      <td>[YES, YES, NO, YES, YES, YES]</td>\n",
       "      <td>[REPORTED, JUDGEMENTAL, -, REPORTED, JUDGEMENT...</td>\n",
       "      <td>[[OBJECTIFICATION], [OBJECTIFICATION, SEXUAL-V...</td>\n",
       "      <td>TRAIN_ES</td>\n",
       "    </tr>\n",
       "    <tr>\n",
       "      <th>100002</th>\n",
       "      <td>100002</td>\n",
       "      <td>es</td>\n",
       "      <td>@ultimonomada_ Si comicsgate se parece en algo...</td>\n",
       "      <td>6</td>\n",
       "      <td>[Annotator_7, Annotator_8, Annotator_9, Annota...</td>\n",
       "      <td>[F, F, F, M, M, M]</td>\n",
       "      <td>[18-22, 23-45, 46+, 46+, 23-45, 18-22]</td>\n",
       "      <td>[NO, NO, NO, NO, YES, NO]</td>\n",
       "      <td>[-, -, -, -, DIRECT, -]</td>\n",
       "      <td>[[-], [-], [-], [-], [OBJECTIFICATION], [-]]</td>\n",
       "      <td>TRAIN_ES</td>\n",
       "    </tr>\n",
       "    <tr>\n",
       "      <th>100003</th>\n",
       "      <td>100003</td>\n",
       "      <td>es</td>\n",
       "      <td>@Steven2897 Lee sobre Gamergate, y como eso ha...</td>\n",
       "      <td>6</td>\n",
       "      <td>[Annotator_7, Annotator_8, Annotator_9, Annota...</td>\n",
       "      <td>[F, F, F, M, M, M]</td>\n",
       "      <td>[18-22, 23-45, 46+, 46+, 23-45, 18-22]</td>\n",
       "      <td>[NO, NO, NO, NO, NO, NO]</td>\n",
       "      <td>[-, -, -, -, -, -]</td>\n",
       "      <td>[[-], [-], [-], [-], [-], [-]]</td>\n",
       "      <td>TRAIN_ES</td>\n",
       "    </tr>\n",
       "    <tr>\n",
       "      <th>100004</th>\n",
       "      <td>100004</td>\n",
       "      <td>es</td>\n",
       "      <td>@Lunariita7 Un retraso social bastante lamenta...</td>\n",
       "      <td>6</td>\n",
       "      <td>[Annotator_13, Annotator_14, Annotator_15, Ann...</td>\n",
       "      <td>[F, F, F, M, M, M]</td>\n",
       "      <td>[18-22, 23-45, 46+, 46+, 23-45, 18-22]</td>\n",
       "      <td>[NO, NO, YES, NO, YES, YES]</td>\n",
       "      <td>[-, -, DIRECT, -, REPORTED, REPORTED]</td>\n",
       "      <td>[[-], [-], [IDEOLOGICAL-INEQUALITY], [-], [IDE...</td>\n",
       "      <td>TRAIN_ES</td>\n",
       "    </tr>\n",
       "    <tr>\n",
       "      <th>100005</th>\n",
       "      <td>100005</td>\n",
       "      <td>es</td>\n",
       "      <td>@novadragon21 @icep4ck @TvDannyZ Entonces como...</td>\n",
       "      <td>6</td>\n",
       "      <td>[Annotator_19, Annotator_20, Annotator_21, Ann...</td>\n",
       "      <td>[F, F, F, M, M, M]</td>\n",
       "      <td>[18-22, 23-45, 46+, 46+, 23-45, 18-22]</td>\n",
       "      <td>[YES, NO, YES, NO, YES, YES]</td>\n",
       "      <td>[REPORTED, -, JUDGEMENTAL, -, JUDGEMENTAL, DIR...</td>\n",
       "      <td>[[STEREOTYPING-DOMINANCE, OBJECTIFICATION], [-...</td>\n",
       "      <td>TRAIN_ES</td>\n",
       "    </tr>\n",
       "  </tbody>\n",
       "</table>\n",
       "</div>"
      ],
      "text/plain": [
       "        id_EXIST lang                                              tweet  \\\n",
       "100001    100001   es  @TheChiflis Ignora al otro, es un capullo.El p...   \n",
       "100002    100002   es  @ultimonomada_ Si comicsgate se parece en algo...   \n",
       "100003    100003   es  @Steven2897 Lee sobre Gamergate, y como eso ha...   \n",
       "100004    100004   es  @Lunariita7 Un retraso social bastante lamenta...   \n",
       "100005    100005   es  @novadragon21 @icep4ck @TvDannyZ Entonces como...   \n",
       "\n",
       "        number_annotators                                         annotators  \\\n",
       "100001                  6  [Annotator_1, Annotator_2, Annotator_3, Annota...   \n",
       "100002                  6  [Annotator_7, Annotator_8, Annotator_9, Annota...   \n",
       "100003                  6  [Annotator_7, Annotator_8, Annotator_9, Annota...   \n",
       "100004                  6  [Annotator_13, Annotator_14, Annotator_15, Ann...   \n",
       "100005                  6  [Annotator_19, Annotator_20, Annotator_21, Ann...   \n",
       "\n",
       "         gender_annotators                          age_annotators  \\\n",
       "100001  [F, F, F, M, M, M]  [18-22, 23-45, 46+, 46+, 23-45, 18-22]   \n",
       "100002  [F, F, F, M, M, M]  [18-22, 23-45, 46+, 46+, 23-45, 18-22]   \n",
       "100003  [F, F, F, M, M, M]  [18-22, 23-45, 46+, 46+, 23-45, 18-22]   \n",
       "100004  [F, F, F, M, M, M]  [18-22, 23-45, 46+, 46+, 23-45, 18-22]   \n",
       "100005  [F, F, F, M, M, M]  [18-22, 23-45, 46+, 46+, 23-45, 18-22]   \n",
       "\n",
       "                         labels_task1  \\\n",
       "100001  [YES, YES, NO, YES, YES, YES]   \n",
       "100002      [NO, NO, NO, NO, YES, NO]   \n",
       "100003       [NO, NO, NO, NO, NO, NO]   \n",
       "100004    [NO, NO, YES, NO, YES, YES]   \n",
       "100005   [YES, NO, YES, NO, YES, YES]   \n",
       "\n",
       "                                             labels_task2  \\\n",
       "100001  [REPORTED, JUDGEMENTAL, -, REPORTED, JUDGEMENT...   \n",
       "100002                            [-, -, -, -, DIRECT, -]   \n",
       "100003                                 [-, -, -, -, -, -]   \n",
       "100004              [-, -, DIRECT, -, REPORTED, REPORTED]   \n",
       "100005  [REPORTED, -, JUDGEMENTAL, -, JUDGEMENTAL, DIR...   \n",
       "\n",
       "                                             labels_task3     split  \n",
       "100001  [[OBJECTIFICATION], [OBJECTIFICATION, SEXUAL-V...  TRAIN_ES  \n",
       "100002       [[-], [-], [-], [-], [OBJECTIFICATION], [-]]  TRAIN_ES  \n",
       "100003                     [[-], [-], [-], [-], [-], [-]]  TRAIN_ES  \n",
       "100004  [[-], [-], [IDEOLOGICAL-INEQUALITY], [-], [IDE...  TRAIN_ES  \n",
       "100005  [[STEREOTYPING-DOMINANCE, OBJECTIFICATION], [-...  TRAIN_ES  "
      ]
     },
     "execution_count": 10,
     "metadata": {},
     "output_type": "execute_result"
    }
   ],
   "source": [
    "train.head()"
   ]
  },
  {
   "cell_type": "code",
   "execution_count": 11,
   "metadata": {
    "colab": {
     "base_uri": "https://localhost:8080/"
    },
    "id": "3PwyCeQc-bQ1",
    "outputId": "96888b69-1b77-460c-a993-4a15789ed812"
   },
   "outputs": [
    {
     "data": {
      "text/plain": [
       "((6920, 11), (726, 11), (312, 11))"
      ]
     },
     "execution_count": 11,
     "metadata": {},
     "output_type": "execute_result"
    }
   ],
   "source": [
    "train.shape, val.shape, test.shape"
   ]
  },
  {
   "cell_type": "markdown",
   "metadata": {
    "id": "4fISdCga-bQ1"
   },
   "source": [
    "### Generate hard labels for Task 1 with majority voting\n",
    "\n",
    "The hard labels for Task 1 are generated with majority voting. \n",
    "<div class=\"alert alert-info\">\n",
    "<b> Note: </b>The `majority_voting` method is used to generate the hard labels for <b>Task 1</b> with majority voting. In case of a tie, the label is set to `NEUTRAL` allowing for later filtering of the data."
   ]
  },
  {
   "cell_type": "code",
   "execution_count": 12,
   "metadata": {
    "id": "jVfdt1mf-bQ1"
   },
   "outputs": [],
   "source": [
    "train['hard_label_task1'] = train['labels_task1'].apply(detector.majority_voting)\n",
    "val['hard_label_task1'] = val['labels_task1'].apply(detector.majority_voting)\n",
    "test['hard_label_task1'] = test['labels_task1'].apply(detector.majority_voting)"
   ]
  },
  {
   "cell_type": "markdown",
   "metadata": {
    "id": "iNSfxEqA-bQ2"
   },
   "source": [
    "### Filter the DataFrame for only english tweets and remove neutral tweets\n",
    "\n",
    "Since the task requires to work only with English tweets, we filter the DataFrame. \n",
    "<div class=\"alert alert-info\">\n",
    "<b> Note: </b>Here we also remove all the rows with neutral labels (i.e. ties in the majority voting)."
   ]
  },
  {
   "cell_type": "code",
   "execution_count": 13,
   "metadata": {
    "id": "P3hE1ua_-bQ2"
   },
   "outputs": [],
   "source": [
    "train = train[(train['hard_label_task1'] != \"NEUTRAL\") & (train['lang'] == \"en\")]\n",
    "val = val[(val['hard_label_task1'] != \"NEUTRAL\") & (val['lang'] == \"en\")]\n",
    "test = test[(test['hard_label_task1'] != \"NEUTRAL\") & (test['lang'] == \"en\")]"
   ]
  },
  {
   "cell_type": "markdown",
   "metadata": {
    "id": "FMstO1WHV1Bg"
   },
   "source": [
    "As we can see we have less rows than before, since we removed all the rows with neutral labels and all the rows with tweets in languages different from English."
   ]
  },
  {
   "cell_type": "code",
   "execution_count": 14,
   "metadata": {
    "colab": {
     "base_uri": "https://localhost:8080/"
    },
    "id": "js6SiYSY-bQ2",
    "outputId": "51a465fb-c372-44da-e80e-1505f6c032e2"
   },
   "outputs": [
    {
     "data": {
      "text/plain": [
       "((2870, 12), (158, 12), (286, 12))"
      ]
     },
     "execution_count": 14,
     "metadata": {},
     "output_type": "execute_result"
    }
   ],
   "source": [
    "train.shape, val.shape, test.shape"
   ]
  },
  {
   "cell_type": "markdown",
   "metadata": {
    "id": "edgN4FWb-bQ2"
   },
   "source": [
    "### Remove unwanted columns\n",
    "\n",
    "After that, we remove the unwanted columns from the DataFrame to keep only the columns we need for the task (the text of the tweet and the hard labels)."
   ]
  },
  {
   "cell_type": "code",
   "execution_count": 15,
   "metadata": {
    "id": "lFUcf_Ii-bQ3"
   },
   "outputs": [],
   "source": [
    "train = train[detector.columns_to_maintain]\n",
    "val = val[detector.columns_to_maintain]\n",
    "test = test[detector.columns_to_maintain]"
   ]
  },
  {
   "cell_type": "code",
   "execution_count": 16,
   "metadata": {
    "colab": {
     "base_uri": "https://localhost:8080/",
     "height": 206
    },
    "id": "BEe_i8hJ-bQ3",
    "outputId": "300b8581-58be-4454-c045-5ae373ba12a7"
   },
   "outputs": [
    {
     "data": {
      "text/html": [
       "<div>\n",
       "<style scoped>\n",
       "    .dataframe tbody tr th:only-of-type {\n",
       "        vertical-align: middle;\n",
       "    }\n",
       "\n",
       "    .dataframe tbody tr th {\n",
       "        vertical-align: top;\n",
       "    }\n",
       "\n",
       "    .dataframe thead th {\n",
       "        text-align: right;\n",
       "    }\n",
       "</style>\n",
       "<table border=\"1\" class=\"dataframe\">\n",
       "  <thead>\n",
       "    <tr style=\"text-align: right;\">\n",
       "      <th></th>\n",
       "      <th>id_EXIST</th>\n",
       "      <th>lang</th>\n",
       "      <th>tweet</th>\n",
       "      <th>hard_label_task1</th>\n",
       "    </tr>\n",
       "  </thead>\n",
       "  <tbody>\n",
       "    <tr>\n",
       "      <th>200002</th>\n",
       "      <td>200002</td>\n",
       "      <td>en</td>\n",
       "      <td>Writing a uni essay in my local pub with a cof...</td>\n",
       "      <td>YES</td>\n",
       "    </tr>\n",
       "    <tr>\n",
       "      <th>200003</th>\n",
       "      <td>200003</td>\n",
       "      <td>en</td>\n",
       "      <td>@UniversalORL it is 2021 not 1921. I dont appr...</td>\n",
       "      <td>YES</td>\n",
       "    </tr>\n",
       "    <tr>\n",
       "      <th>200006</th>\n",
       "      <td>200006</td>\n",
       "      <td>en</td>\n",
       "      <td>According to a customer I have plenty of time ...</td>\n",
       "      <td>YES</td>\n",
       "    </tr>\n",
       "    <tr>\n",
       "      <th>200007</th>\n",
       "      <td>200007</td>\n",
       "      <td>en</td>\n",
       "      <td>So only 'blokes' drink beer? Sorry, but if you...</td>\n",
       "      <td>YES</td>\n",
       "    </tr>\n",
       "    <tr>\n",
       "      <th>200008</th>\n",
       "      <td>200008</td>\n",
       "      <td>en</td>\n",
       "      <td>New to the shelves this week - looking forward...</td>\n",
       "      <td>NO</td>\n",
       "    </tr>\n",
       "  </tbody>\n",
       "</table>\n",
       "</div>"
      ],
      "text/plain": [
       "        id_EXIST lang                                              tweet  \\\n",
       "200002    200002   en  Writing a uni essay in my local pub with a cof...   \n",
       "200003    200003   en  @UniversalORL it is 2021 not 1921. I dont appr...   \n",
       "200006    200006   en  According to a customer I have plenty of time ...   \n",
       "200007    200007   en  So only 'blokes' drink beer? Sorry, but if you...   \n",
       "200008    200008   en  New to the shelves this week - looking forward...   \n",
       "\n",
       "       hard_label_task1  \n",
       "200002              YES  \n",
       "200003              YES  \n",
       "200006              YES  \n",
       "200007              YES  \n",
       "200008               NO  "
      ]
     },
     "execution_count": 16,
     "metadata": {},
     "output_type": "execute_result"
    }
   ],
   "source": [
    "train.head()"
   ]
  },
  {
   "cell_type": "markdown",
   "metadata": {
    "id": "C1vO0qNe-bQ3"
   },
   "source": [
    "### Encode the hard labels column as integers\n",
    "\n",
    "Finally, we encode the hard labels column as integers. \n",
    "<div class=\"alert alert-info\">\n",
    "<b> Note: </b>This is done to have the labels in a format that can be used by the model."
   ]
  },
  {
   "cell_type": "code",
   "execution_count": 17,
   "metadata": {
    "id": "_vKw9ugP-bQ3"
   },
   "outputs": [],
   "source": [
    "train['hard_label_task1'] = train['hard_label_task1'].apply(lambda x: 1 if x == \"YES\" else 0)\n",
    "val['hard_label_task1'] = val['hard_label_task1'].apply(lambda x: 1 if x == \"YES\" else 0)\n",
    "test['hard_label_task1'] = test['hard_label_task1'].apply(lambda x: 1 if x == \"YES\" else 0)"
   ]
  },
  {
   "cell_type": "markdown",
   "metadata": {
    "id": "zwVjFiqMC7ts"
   },
   "source": [
    "### Rename the target column to label"
   ]
  },
  {
   "cell_type": "code",
   "execution_count": 18,
   "metadata": {
    "id": "sNAkCmHTC7ts"
   },
   "outputs": [],
   "source": [
    "train.rename(columns={'hard_label_task1': 'label'}, inplace=True)\n",
    "val.rename(columns={'hard_label_task1': 'label'}, inplace=True)\n",
    "test.rename(columns={'hard_label_task1': 'label'}, inplace=True)"
   ]
  },
  {
   "cell_type": "markdown",
   "metadata": {
    "id": "Mqc2QQAUV1Bh"
   },
   "source": [
    "### Data distribution\n",
    "\n",
    "The distribution of the labels is shown. As we can see, there are more non-sexist tweets than sexist tweets, with a ratio of $60:40$. \n",
    "\n",
    "<div class=\"alert alert-info\">\n",
    "<b> Note: </b>This is important to note, as we will address this imbalance to improve the model's performance by introducing class weights in the loss function.\n",
    "</div>\n"
   ]
  },
  {
   "cell_type": "code",
   "execution_count": 19,
   "metadata": {
    "colab": {
     "base_uri": "https://localhost:8080/",
     "height": 487
    },
    "id": "QYpFYiwx-bQ4",
    "outputId": "f993c758-3a45-4f7b-e6aa-d155aa53481f"
   },
   "outputs": [
    {
     "data": {
      "image/png": "[encoded data removed]",
      "text/plain": [
       "<Figure size 640x480 with 1 Axes>"
      ]
     },
     "metadata": {},
     "output_type": "display_data"
    }
   ],
   "source": [
    "train.label.value_counts(normalize=True).plot(kind='bar', title='Target variable distribution in training set', color=['green', 'red'], alpha=0.7).set_xticklabels(['Not Sexist', 'Sexist'], rotation=0)\n",
    "plt.grid()\n",
    "plt.tight_layout()\n",
    "plt.show()"
   ]
  },
  {
   "cell_type": "markdown",
   "metadata": {
    "id": "s7KaCBdwV1Bh"
   },
   "source": [
    "# Task 2: Data Cleaning\n",
    "\n",
    ">1. Remove emojis\n",
    ">2. Remove hashtags (e.g. #metoo)\n",
    ">3. Remove mentions (e.g. @user)\n",
    ">4. Remove URLs\n",
    ">5. Remove special characters and symbols\n",
    ">6. Remove specific quote characters (e.g. curly quotes)\n",
    ">7. Perform lemmatization\n",
    "\n",
    ">**Bonus**: use other preprocessing strategies exploring techniques tailored specifically for tweets or methods that are common in social media text processing."
   ]
  },
  {
   "cell_type": "markdown",
   "metadata": {
    "id": "VWSXfVj5V1Bk"
   },
   "source": [
    "We slightly changed the order of the preprocessing to align more with the order followed by the GloVe preprocessing script tailored for tweets from Standford ([source](https://nlp.stanford.edu/projects/glove/preprocess-twitter.rb)). This ensures that our preprocessing pipeline matches the one used to create the GloVe dataset, hopefully improving performances:  \n",
    "1. Remove URLs  \n",
    "2. Remove mentions  \n",
    "3. Remove hashtags  \n",
    "4. Remove special characters  \n",
    "5. Remove specific quote characters  \n",
    "6. Perform lemmatization  \n",
    "\n",
    "We chose not to remove emojis, since the GloVe dataset we are using contains some emojis, and we did not want to lose that information. \n",
    "\n",
    "<div class=\"alert alert-info\">\n",
    "<b> Note: </b>The unknown emojis will be treated as normal out-of-vocabulary (OOV) tokens while the known emojis will be treated as normal words with their own embeddings.\n",
    "</div>"
   ]
  },
  {
   "cell_type": "markdown",
   "metadata": {
    "id": "mg-c4tLdV1Bk"
   },
   "source": [
    "To make comparisons later between original text and preprocessed text, we save a copy of the original dataset so we can print the preprocessed text next to the original one"
   ]
  },
  {
   "cell_type": "code",
   "execution_count": 20,
   "metadata": {
    "id": "vyKl2917-bQ4"
   },
   "outputs": [],
   "source": [
    "original_train = train.copy()"
   ]
  },
  {
   "cell_type": "markdown",
   "metadata": {
    "id": "RVsy1hN5C7tw"
   },
   "source": [
    "Then we can apply all the preprocessing steps to the text as described above (in that order)."
   ]
  },
  {
   "cell_type": "code",
   "execution_count": 21,
   "metadata": {
    "id": "xtI27hJo-bQ4"
   },
   "outputs": [],
   "source": [
    "train['tweet'] = train['tweet'].apply(detector.preprocess_text)\n",
    "val['tweet'] = val['tweet'].apply(detector.preprocess_text)\n",
    "test['tweet'] = test['tweet'].apply(detector.preprocess_text)"
   ]
  },
  {
   "cell_type": "markdown",
   "metadata": {
    "id": "yFOqFd6i-bQ6"
   },
   "source": [
    "### Perform lemmatization\n",
    "\n",
    "The lemmatization is performed using the `nltk` library. \n",
    "\n",
    "<div class=\"alert alert-info\">\n",
    "<b> Note: </b> The `lemmatize` method is used to perform the lemmatization of the text. The lemmatization is performed on the cleaned text.\n",
    "</div>"
   ]
  },
  {
   "cell_type": "code",
   "execution_count": 22,
   "metadata": {
    "colab": {
     "base_uri": "https://localhost:8080/"
    },
    "id": "lu1toksv-bQ6",
    "outputId": "e8773d64-b159-45a9-8ef7-4c10b77bdbbf"
   },
   "outputs": [],
   "source": [
    "train['tweet'] = train['tweet'].apply(detector.lemmatize_text)\n",
    "val['tweet'] = val['tweet'].apply(detector.lemmatize_text)\n",
    "test['tweet'] = test['tweet'].apply(detector.lemmatize_text)"
   ]
  },
  {
   "cell_type": "markdown",
   "metadata": {
    "id": "8R-fL1sl-bQ7"
   },
   "source": [
    "### Cast text to lowercase\n",
    "\n",
    "The text is casted to lowercase to ensure that the model does not learn to distinguish between words based on the case of the letters (uncased)."
   ]
  },
  {
   "cell_type": "code",
   "execution_count": 23,
   "metadata": {
    "id": "Ku484oN9-bQ7"
   },
   "outputs": [],
   "source": [
    "train['tweet'] = train['tweet'].str.lower()\n",
    "val['tweet'] = val['tweet'].str.lower()\n",
    "test['tweet'] = test['tweet'].str.lower()"
   ]
  },
  {
   "cell_type": "markdown",
   "metadata": {
    "id": "dFbPle-9-bQ8"
   },
   "source": [
    "### Original and cleaned text\n",
    "\n",
    "We can also inspect the difference between the original and cleaned text to see the effect of the preprocessing steps. As we can see the preprocessing steps have removed all the unwanted elements from the text and now the text is clean and ready to be used by the model.\n",
    "\n",
    "<div class=\"alert alert-info\">\n",
    "<b>Note:</b> we substituted URL, mentions, and hashtags with the special tokens defined for GloVe. In this way, the model will have more information about the text and will not lose the information about the presence of URLs, mentions, and hashtags (which could be important for the classification of the text).\n",
    "</div>"
   ]
  },
  {
   "cell_type": "code",
   "execution_count": 24,
   "metadata": {
    "colab": {
     "base_uri": "https://localhost:8080/"
    },
    "id": "TURQi4uE-bQ8",
    "outputId": "552168d3-3098-46d4-99e5-3b05658f6b49"
   },
   "outputs": [
    {
     "name": "stdout",
     "output_type": "stream",
     "text": [
      "Original tweet:\n",
      "\"protect women/children\" in conservative jargon = controlling every aspect about women/children by the patriarchy.\"I'm doing it for the good of you\" no thanks, would you kindly fuck off\n",
      "Processed tweet:\n",
      "protect woman child in conservative jargon controlling every aspect about woman child by the patriarchy i m doing it for the good of you no thanks would you kindly fuck off\n"
     ]
    }
   ],
   "source": [
    "detector.text_diff(preprocessed_text=train, original_text=original_train, random=True)"
   ]
  },
  {
   "cell_type": "markdown",
   "metadata": {
    "id": "qyGaX0joV1Bm"
   },
   "source": [
    "# Task 3: Text Encoding\n",
    "\n",
    ">* Embed words using GloVe embeddings.\n",
    "\n",
    "### Embed words using GloVe embeddings\n",
    "\n",
    "The pretrained GloVe embeddings are used to embed the words in the text. First, we download the GloVe embeddings using the `gensim` library. We choose an embedding dimension of $50$. The specific model we use is `glove-twitter-50`, which is trained on Twitter data. Our intuition is that this model will perform better on tweets than other models trained on different data due to the fact that the language used in tweets differs from that in other types of text. By leveraging the specific language used in tweets, we aim to improve the model's performance and also reduce the number of out-of-vocabulary words (a common issue when using pretrained embeddings).\n",
    "\n",
    "---\n",
    "\n",
    "The vocabulary of the `glove-twitter-50` model is very large and contains many words. However, we are only using a subset of the words in the vocabulary, as we are focusing on the words used in the tweets. Additionally, since we are not interested in backpropagating the gradients to the embeddings, the magnitude of the embedding will not cause computational issues."
   ]
  },
  {
   "cell_type": "code",
   "execution_count": 25,
   "metadata": {
    "colab": {
     "base_uri": "https://localhost:8080/"
    },
    "id": "vEGg4Jvp-bQ-",
    "outputId": "7567a20f-fb22-4c49-f59d-fe876d4ec55c"
   },
   "outputs": [
    {
     "name": "stdout",
     "output_type": "stream",
     "text": [
      "Vocabulary size: 1193514\n"
     ]
    }
   ],
   "source": [
    "emb_model = detector.load_glove(model_name='glove-twitter', embedding_dim=EMBEDDING_DIM)\n",
    "print(f\"Vocabulary size: {len(emb_model.key_to_index)}\")"
   ]
  },
  {
   "cell_type": "markdown",
   "metadata": {
    "id": "NqZKhpifV1Bm"
   },
   "source": [
    "We can now extract the two ordered dictionaries (`train_idx_to_word`, `train_word_to_idx`) as well as the set of words appearing in the training set."
   ]
  },
  {
   "cell_type": "code",
   "execution_count": 26,
   "metadata": {
    "id": "JJEQVEKJLcKF"
   },
   "outputs": [],
   "source": [
    "train_idx_to_word, train_word_to_idx, train_word_listing = detector.get_vocab(train)"
   ]
  },
  {
   "cell_type": "markdown",
   "metadata": {
    "id": "H7UJcrLfV1Bm"
   },
   "source": [
    "We can inspect how many words in the training set are not in the GloVe vocabulary.\n",
    "\n",
    "This can be conveniente to assess the coverage of the GloVe embeddings on the training set. From our analysis we can see that the coverage using the GloVe embeddings model `glove-twitter` is better with respect to the model `glove-wiki-gigaword` which is trained on Wikipedia data. The actual difference is not so big (around 1%) but it can be important to have a good coverage of the embeddings on the training set. \n",
    "\n",
    "<div class=\"alert alert-warning\">\n",
    "<b>Moreover</b>, such statistics do not take into account any possible difference in the quality of the embeddings which can be important to have a good performance of the model. The 1% difference might not be so important but the spatial location of the words in the embedding space can be important to have a good performance of the model.\n",
    "</div>"
   ]
  },
  {
   "cell_type": "code",
   "execution_count": 27,
   "metadata": {
    "colab": {
     "base_uri": "https://localhost:8080/"
    },
    "id": "jJ3bEuo3Ky_0",
    "outputId": "81405101-f258-4807-8f74-3978898f4de0"
   },
   "outputs": [
    {
     "name": "stdout",
     "output_type": "stream",
     "text": [
      "Total OOV terms: 768 (7.80%)\n"
     ]
    }
   ],
   "source": [
    "detector.get_oov_stats(emb_model, train_word_listing)"
   ]
  },
  {
   "cell_type": "markdown",
   "metadata": {
    "id": "fZ7K7C6kV1Bn"
   },
   "source": [
    "We can also inspect what are these OOV words to have an idea of the words that are not in the GloVe vocabulary."
   ]
  },
  {
   "cell_type": "code",
   "execution_count": 28,
   "metadata": {
    "colab": {
     "base_uri": "https://localhost:8080/"
    },
    "id": "iXGncwVDKy_1",
    "outputId": "d1f505e9-43f4-4d41-b4f4-74ce16249753"
   },
   "outputs": [
    {
     "data": {
      "text/plain": [
       "['sirmed',\n",
       " 'sandworms',\n",
       " 'hideousness',\n",
       " 'namjoons',\n",
       " 'indue',\n",
       " 'yalcın',\n",
       " 'recondition',\n",
       " 'gcfems',\n",
       " 'transgenderism',\n",
       " 'insularity']"
      ]
     },
     "execution_count": 28,
     "metadata": {},
     "output_type": "execute_result"
    }
   ],
   "source": [
    "list(detector.get_oov(emb_model, train_word_listing))[:10]"
   ]
  },
  {
   "cell_type": "markdown",
   "metadata": {
    "id": "AtYHDT7TV1Bn"
   },
   "source": [
    "As we can see the words that are not in the GloVe vocabulary are mostly slang words that are not so common in the English language. Also, this list contains words written wrongly (typos). The model will not be able to learn the embeddings for these words and will have to rely on the embeddings of similar words which can affect the performance of the model.\n",
    "\n",
    "---"
   ]
  },
  {
   "cell_type": "markdown",
   "metadata": {
    "id": "WmxSi4SnV1Bn"
   },
   "source": [
    "Now, to deal with these OOV tokens, we initially considered assigning a random vector to them. However, this might not be the best approach, as the model would learn to distinguish between the OOV tokens and the other tokens based on the embeddings. This is undesirable because the OOV tokens are not inherently different from the other tokens in the vocabulary.\n",
    "\n",
    "A more effective approach would be to extract the co-occurrence matrix from the training set and use it to generate embeddings for the OOV tokens. By defining a window size, we can extract the co-occurrence matrix and then use it to generate the embeddings for the OOV tokens. Whenever an OOV token is encountered, we can define its embedding vector as the average of the embeddings of the most frequent words that co-occur with the OOV token. This way, the embeddings for the OOV tokens will be similar to those of the words that frequently co-occur with them. The similarity is derived from the co-occurrence matrix and the average of the embedding vectors. Our intuition is that this approach will provide better embeddings for the OOV tokens and improve the model's performance since we will locate the embedding in the same space as the other words that frequently co-occur with the OOV tokens (thus in the same context/usage from a linguistic point of view).\n",
    "\n",
    "This is the approach we will use to generate the embeddings for the OOV tokens. We will set the window size to 10 to extract the co-occurrence matrix and generate the embeddings for the OOV tokens.\n"
   ]
  },
  {
   "cell_type": "code",
   "execution_count": 30,
   "metadata": {},
   "outputs": [
    {
     "name": "stderr",
     "output_type": "stream",
     "text": [
      "[nltk_data] Downloading package stopwords to\n",
      "[nltk_data]     /home/sbrodox/nltk_data...\n",
      "[nltk_data]   Unzipping corpora/stopwords.zip.\n"
     ]
    },
    {
     "data": {
      "text/plain": [
       "True"
      ]
     },
     "execution_count": 30,
     "metadata": {},
     "output_type": "execute_result"
    }
   ],
   "source": [
    "from nltk.corpus import stopwords\n",
    "nltk.download(\"stopwords\")"
   ]
  },
  {
   "cell_type": "code",
   "execution_count": 39,
   "metadata": {},
   "outputs": [],
   "source": [
    "def remove_stopwords(text):\n",
    "    filtered_tokens = [word for word in text.split(\" \") if word.lower() not in stopwords.words(\"english\")]\n",
    "    return \" \".join(filtered_tokens)"
   ]
  },
  {
   "cell_type": "code",
   "execution_count": 40,
   "metadata": {},
   "outputs": [],
   "source": [
    "train_nostowords = train.copy()"
   ]
  },
  {
   "cell_type": "code",
   "execution_count": 41,
   "metadata": {},
   "outputs": [],
   "source": [
    "train_nostowords[\"tweet\"] = train[\"tweet\"].apply(remove_stopwords)"
   ]
  },
  {
   "cell_type": "code",
   "execution_count": 43,
   "metadata": {},
   "outputs": [],
   "source": [
    "train_idx_to_word_nostop, train_word_to_idx_nostop, train_word_listing_nostop = detector.get_vocab(train_nostowords)"
   ]
  },
  {
   "cell_type": "code",
   "execution_count": 47,
   "metadata": {
    "colab": {
     "base_uri": "https://localhost:8080/",
     "height": 253
    },
    "id": "YGnlKq42Ky_2",
    "outputId": "d0d172f6-c982-4b7a-f0bf-115f0163f711"
   },
   "outputs": [
    {
     "name": "stderr",
     "output_type": "stream",
     "text": [
      "100%|██████████| 2870/2870 [00:00<00:00, 3221.09it/s]\n"
     ]
    },
    {
     "data": {
      "text/html": [
       "<div>\n",
       "<style scoped>\n",
       "    .dataframe tbody tr th:only-of-type {\n",
       "        vertical-align: middle;\n",
       "    }\n",
       "\n",
       "    .dataframe tbody tr th {\n",
       "        vertical-align: top;\n",
       "    }\n",
       "\n",
       "    .dataframe thead th {\n",
       "        text-align: right;\n",
       "    }\n",
       "</style>\n",
       "<table border=\"1\" class=\"dataframe\">\n",
       "  <thead>\n",
       "    <tr style=\"text-align: right;\">\n",
       "      <th></th>\n",
       "      <th>writing</th>\n",
       "      <th>uni</th>\n",
       "      <th>essay</th>\n",
       "      <th>local</th>\n",
       "      <th>pub</th>\n",
       "      <th>coffee</th>\n",
       "      <th>random</th>\n",
       "      <th>old</th>\n",
       "      <th>man</th>\n",
       "      <th>keep</th>\n",
       "      <th>...</th>\n",
       "      <th>armor</th>\n",
       "      <th>dragoon</th>\n",
       "      <th>estinen</th>\n",
       "      <th>nike</th>\n",
       "      <th>coochie</th>\n",
       "      <th>mutuals</th>\n",
       "      <th>owns</th>\n",
       "      <th>grabs</th>\n",
       "      <th>lh</th>\n",
       "      <th>mandy</th>\n",
       "    </tr>\n",
       "  </thead>\n",
       "  <tbody>\n",
       "    <tr>\n",
       "      <th>writing</th>\n",
       "      <td>2.0</td>\n",
       "      <td>1.0</td>\n",
       "      <td>2.0</td>\n",
       "      <td>1.0</td>\n",
       "      <td>1.0</td>\n",
       "      <td>1.0</td>\n",
       "      <td>1.0</td>\n",
       "      <td>1.0</td>\n",
       "      <td>3.0</td>\n",
       "      <td>2.0</td>\n",
       "      <td>...</td>\n",
       "      <td>0.0</td>\n",
       "      <td>0.0</td>\n",
       "      <td>0.0</td>\n",
       "      <td>0.0</td>\n",
       "      <td>0.0</td>\n",
       "      <td>0.0</td>\n",
       "      <td>0.0</td>\n",
       "      <td>0.0</td>\n",
       "      <td>0.0</td>\n",
       "      <td>0.0</td>\n",
       "    </tr>\n",
       "    <tr>\n",
       "      <th>uni</th>\n",
       "      <td>1.0</td>\n",
       "      <td>0.0</td>\n",
       "      <td>1.0</td>\n",
       "      <td>1.0</td>\n",
       "      <td>1.0</td>\n",
       "      <td>1.0</td>\n",
       "      <td>1.0</td>\n",
       "      <td>1.0</td>\n",
       "      <td>1.0</td>\n",
       "      <td>1.0</td>\n",
       "      <td>...</td>\n",
       "      <td>0.0</td>\n",
       "      <td>0.0</td>\n",
       "      <td>0.0</td>\n",
       "      <td>0.0</td>\n",
       "      <td>0.0</td>\n",
       "      <td>0.0</td>\n",
       "      <td>0.0</td>\n",
       "      <td>0.0</td>\n",
       "      <td>0.0</td>\n",
       "      <td>0.0</td>\n",
       "    </tr>\n",
       "    <tr>\n",
       "      <th>essay</th>\n",
       "      <td>2.0</td>\n",
       "      <td>1.0</td>\n",
       "      <td>0.0</td>\n",
       "      <td>1.0</td>\n",
       "      <td>1.0</td>\n",
       "      <td>1.0</td>\n",
       "      <td>1.0</td>\n",
       "      <td>1.0</td>\n",
       "      <td>1.0</td>\n",
       "      <td>1.0</td>\n",
       "      <td>...</td>\n",
       "      <td>0.0</td>\n",
       "      <td>0.0</td>\n",
       "      <td>0.0</td>\n",
       "      <td>0.0</td>\n",
       "      <td>0.0</td>\n",
       "      <td>0.0</td>\n",
       "      <td>0.0</td>\n",
       "      <td>0.0</td>\n",
       "      <td>0.0</td>\n",
       "      <td>0.0</td>\n",
       "    </tr>\n",
       "    <tr>\n",
       "      <th>local</th>\n",
       "      <td>1.0</td>\n",
       "      <td>1.0</td>\n",
       "      <td>1.0</td>\n",
       "      <td>0.0</td>\n",
       "      <td>1.0</td>\n",
       "      <td>1.0</td>\n",
       "      <td>1.0</td>\n",
       "      <td>1.0</td>\n",
       "      <td>1.0</td>\n",
       "      <td>1.0</td>\n",
       "      <td>...</td>\n",
       "      <td>0.0</td>\n",
       "      <td>0.0</td>\n",
       "      <td>0.0</td>\n",
       "      <td>0.0</td>\n",
       "      <td>0.0</td>\n",
       "      <td>0.0</td>\n",
       "      <td>0.0</td>\n",
       "      <td>0.0</td>\n",
       "      <td>0.0</td>\n",
       "      <td>0.0</td>\n",
       "    </tr>\n",
       "    <tr>\n",
       "      <th>pub</th>\n",
       "      <td>1.0</td>\n",
       "      <td>1.0</td>\n",
       "      <td>1.0</td>\n",
       "      <td>1.0</td>\n",
       "      <td>0.0</td>\n",
       "      <td>1.0</td>\n",
       "      <td>1.0</td>\n",
       "      <td>1.0</td>\n",
       "      <td>1.0</td>\n",
       "      <td>1.0</td>\n",
       "      <td>...</td>\n",
       "      <td>0.0</td>\n",
       "      <td>0.0</td>\n",
       "      <td>0.0</td>\n",
       "      <td>0.0</td>\n",
       "      <td>0.0</td>\n",
       "      <td>0.0</td>\n",
       "      <td>0.0</td>\n",
       "      <td>0.0</td>\n",
       "      <td>0.0</td>\n",
       "      <td>0.0</td>\n",
       "    </tr>\n",
       "  </tbody>\n",
       "</table>\n",
       "<p>5 rows × 9693 columns</p>\n",
       "</div>"
      ],
      "text/plain": [
       "         writing  uni  essay  local  pub  coffee  random  old  man  keep  ...  \\\n",
       "writing      2.0  1.0    2.0    1.0  1.0     1.0     1.0  1.0  3.0   2.0  ...   \n",
       "uni          1.0  0.0    1.0    1.0  1.0     1.0     1.0  1.0  1.0   1.0  ...   \n",
       "essay        2.0  1.0    0.0    1.0  1.0     1.0     1.0  1.0  1.0   1.0  ...   \n",
       "local        1.0  1.0    1.0    0.0  1.0     1.0     1.0  1.0  1.0   1.0  ...   \n",
       "pub          1.0  1.0    1.0    1.0  0.0     1.0     1.0  1.0  1.0   1.0  ...   \n",
       "\n",
       "         armor  dragoon  estinen  nike  coochie  mutuals  owns  grabs   lh  \\\n",
       "writing    0.0      0.0      0.0   0.0      0.0      0.0   0.0    0.0  0.0   \n",
       "uni        0.0      0.0      0.0   0.0      0.0      0.0   0.0    0.0  0.0   \n",
       "essay      0.0      0.0      0.0   0.0      0.0      0.0   0.0    0.0  0.0   \n",
       "local      0.0      0.0      0.0   0.0      0.0      0.0   0.0    0.0  0.0   \n",
       "pub        0.0      0.0      0.0   0.0      0.0      0.0   0.0    0.0  0.0   \n",
       "\n",
       "         mandy  \n",
       "writing    0.0  \n",
       "uni        0.0  \n",
       "essay      0.0  \n",
       "local      0.0  \n",
       "pub        0.0  \n",
       "\n",
       "[5 rows x 9693 columns]"
      ]
     },
     "execution_count": 47,
     "metadata": {},
     "output_type": "execute_result"
    }
   ],
   "source": [
    "co_occurrence_matrix = detector.co_occurrence_count(train_nostowords, train_idx_to_word_nostop, train_word_to_idx_nostop, window_size=10)\n",
    "co_occurrence_df = detector.co_occurrence_dataframe(co_occurrence_matrix, train_idx_to_word_nostop)\n",
    "co_occurrence_df.head()"
   ]
  },
  {
   "cell_type": "markdown",
   "metadata": {
    "id": "JBh5xZruKy_2"
   },
   "source": [
    "After computing the co-occurrence matrix we decided to combine the training set vocabulary with the GloVe vocabulary and generate the embedding vectors for the words in the training set that do not appear in the GloVe vocabulary. This is done to have a better coverage of the embeddings on the training set and to have a better performance of the model. The embeddings for the OOV tokens are generated using the co-occurrence matrix and the average of the embeddings of the most frequent words that co-occur with the OOV tokens."
   ]
  },
  {
   "cell_type": "code",
   "execution_count": 48,
   "metadata": {
    "colab": {
     "base_uri": "https://localhost:8080/"
    },
    "id": "fnNshkRb-bRF",
    "outputId": "7c0b5ec8-3e69-4d61-a3d5-91a7edf0092a"
   },
   "outputs": [
    {
     "name": "stdout",
     "output_type": "stream",
     "text": [
      "Saving vocab to data/vocab.json\n",
      "Vocab saved!\n"
     ]
    }
   ],
   "source": [
    "emb_model_augmented = detector.get_augmented_vocab(emb_model, train_words=train_word_listing, co_occurrence_df=co_occurrence_df, save=True)"
   ]
  },
  {
   "cell_type": "markdown",
   "metadata": {
    "id": "_3dA58j6V1Bo"
   },
   "source": [
    "Now we can just get all the vectors from the augmented GloVe and use them as embedding matrix for the model."
   ]
  },
  {
   "cell_type": "code",
   "execution_count": 49,
   "metadata": {
    "colab": {
     "base_uri": "https://localhost:8080/"
    },
    "id": "ryp3ICueC7t3",
    "outputId": "9e3fb56c-0c89-45d8-ebc8-85ee472aa1ef"
   },
   "outputs": [
    {
     "name": "stdout",
     "output_type": "stream",
     "text": [
      "Embedding matrix of 1194284 words, each of 50 dimensions\n"
     ]
    }
   ],
   "source": [
    "embedding_matrix = emb_model_augmented.vectors\n",
    "print(f\"Embedding matrix of {embedding_matrix.shape[0]} words, each of {embedding_matrix.shape[1]} dimensions\")"
   ]
  },
  {
   "cell_type": "markdown",
   "metadata": {
    "id": "6rTjQO9fV1Bo"
   },
   "source": [
    "Before moving on the model definition we will first compute the class weights to deal with the class imbalance in the dataset. The class weights are computed using the `compute_class_weight` method from the `sklearn` library. The class weights are used to weight the loss function in order to give more importance to the minority class. This is important to have a better performance of the model and to deal with the class imbalance in the dataset. In this way the model will be aware of the class imbalance thus leading to a better f1 score."
   ]
  },
  {
   "cell_type": "code",
   "execution_count": 50,
   "metadata": {
    "id": "dIBs106EV1Bo"
   },
   "outputs": [
    {
     "data": {
      "text/plain": [
       "tensor([0.8280, 1.2621])"
      ]
     },
     "execution_count": 50,
     "metadata": {},
     "output_type": "execute_result"
    }
   ],
   "source": [
    "class_weights_tensor = detector.get_class_weights(train, 'label')\n",
    "\n",
    "class_weights_tensor"
   ]
  },
  {
   "cell_type": "markdown",
   "metadata": {
    "id": "z9_f7D-RV1Bp"
   },
   "source": [
    "# Task 4: Model definition\n",
    "\n",
    "> * Baseline: Implement a Bidirectional LSTM with a Dense layer on top.\n",
    "> * Model 1: add an additional LSTM layer to the baseline model."
   ]
  },
  {
   "cell_type": "markdown",
   "metadata": {
    "id": "rXgsxWmcV1Bp"
   },
   "source": [
    "### Baseline: Implement a Bidirectional LSTM with a Dense layer on top\n",
    "\n",
    "The baseline model is implemented using a Bidirectional LSTM with a Dense layer on top. The model is defined using the `torch.nn` module. The model consists of an embedding layer, a Bidirectional LSTM layer, and a Dense layer. We added a dropout layer to prevent overfitting just before the Dense layer.\n",
    "\n",
    "The Embedding layer is called with the `from_pretrained` method to initialize the weights of the embedding layer with the GloVe embeddings. Such layer is then frozen to prevent the gradients from being backpropagated to the embeddings. This is done to keep the embeddings fixed and use them as features for the model. Experimentally we found that freezing the embeddings provides better results than fine-tuning them both from a computational point of view and from a performance point of view.\n",
    "\n",
    "Moreover since the output of the LSTM layer is a sequence of hidden states, we need to extract the hidden state at the last time step to pass it to the Dense layer. This can be done in several ways:\n",
    "- Extract the hidden state at the last time step using the hidden state of the LSTM layer.\n",
    "- Use some pooling technique to extract a fixed-size representation of the sequence of hidden states regardless of the sequence length.\n",
    "- Other techniques like concatenating the last hidden state of the forward and backward LSTMs.\n",
    "\n",
    "<div class=\"alert alert-warning\">\n",
    "<b>We choose</b> to use the pooling technique to extract a fixed-size representation of the sequence of hidden states. In this case we used the average pooling with the intuition that the average of the hidden states can provide a global information about the sequence of hidden states. Experimentally we found that the average pooling provides better results than the concat-based approach as well as taking just the last hidden state of the LSTM.\n",
    "<div>"
   ]
  },
  {
   "cell_type": "code",
   "execution_count": 51,
   "metadata": {
    "id": "QZCO79JTKy_4"
   },
   "outputs": [],
   "source": [
    "class BaselineModel(torch.nn.Module):\n",
    "    def __init__(self, embedding_model, detector, hidden_dim, output_dim: int = 1, lstm_layers: int = 1, dropout: float = 0.3):\n",
    "        super().__init__()\n",
    "\n",
    "        self.hidden_dim = hidden_dim\n",
    "        self.lstm_layers = lstm_layers\n",
    "        self.hidden_dim = hidden_dim\n",
    "\n",
    "        self.word_embeddings = torch.nn.Embedding.from_pretrained(\n",
    "            embeddings=torch.from_numpy(embedding_model.vectors),\n",
    "            freeze=True,\n",
    "            padding_idx=embedding_model.get_index(detector.PAD_TOKEN)\n",
    "        )\n",
    "        self.lstm = torch.nn.LSTM(input_size=embedding_model.vector_size, hidden_size=hidden_dim, bidirectional=True, num_layers=lstm_layers, batch_first=True)\n",
    "        self.fc = torch.nn.Linear(in_features=2 * hidden_dim, out_features=output_dim)\n",
    "        self.dropout = torch.nn.Dropout(dropout)\n",
    "\n",
    "    def forward(self, inputs):\n",
    "        out = self.word_embeddings(inputs)\n",
    "        out, (h_n, c_n) = self.lstm(out)\n",
    "        out = torch.mean(out, dim=1)\n",
    "        out = self.dropout(out)\n",
    "        out = self.fc(out)\n",
    "        return out"
   ]
  },
  {
   "cell_type": "markdown",
   "metadata": {
    "id": "tkkswiSwV1Bp"
   },
   "source": [
    "# Task 5: Training and Evaluation\n",
    "\n",
    "> * Train **all** models on the train set.\n",
    "> * Evaluate **all** models on the validation set.\n",
    "> * Compute metrics on the validation set.\n",
    "> * Pick **at least** three seeds for robust estimation.\n",
    "> * Pick the **best** performing model according to the observed validation set performance.\n",
    "> * Evaluate your models using macro F1-score."
   ]
  },
  {
   "cell_type": "markdown",
   "metadata": {
    "id": "pldHiL8hV1Bp"
   },
   "source": [
    "Here there's the definition of the wrapper class, that will be used to instantiate all the networks required. \n",
    "\n",
    "<div class=\"alert alert-info\">\n",
    "<b> Note: </b>All the models will be trained on training data and evaluated on the validation data. We added also an evaluation on the test set just to have a better understanding of the model's performance. F1 macro score will be the metric used to evaluate the models.\n",
    "</div>"
   ]
  },
  {
   "cell_type": "code",
   "execution_count": 55,
   "metadata": {
    "id": "_A1PspeUV1Bp"
   },
   "outputs": [],
   "source": [
    "class LSTM_network():\n",
    "    def __init__(self, name: str, seed: int, detector: SexismDetector, embedding_model: gensim.models.keyedvectors.KeyedVectors, hidden_dim: int = 128, output_dim: int = 2, lstm_layers: int = 1, dropout: float = 0.5):\n",
    "        self.name = name\n",
    "\n",
    "        self.seed = seed\n",
    "        self.__set_seed(seed)\n",
    "\n",
    "        self.device = torch.device(\"cuda\" if torch.cuda.is_available() else \"cpu\")\n",
    "        self.network = BaselineModel(embedding_model, detector, hidden_dim, output_dim, lstm_layers, dropout)\n",
    "        self.network.to(device)\n",
    "        self.detector = detector\n",
    "        self.embedding_model = embedding_model\n",
    "        self.history = None\n",
    "        self.trained = False\n",
    "        self.predictions = None\n",
    "        self.labels = None\n",
    "        # Clear the cache and perform garbage collection on initialization\n",
    "        self.clear_cache()\n",
    "\n",
    "    def __set_seed(self, seed):\n",
    "        \"\"\"\n",
    "        Set the random seed for reproducibility.\n",
    "\n",
    "        This method sets the seed for CUDA operations and NumPy to ensure that\n",
    "        the results are reproducible. It also sets the CUBLAS workspace configuration\n",
    "        to ensure deterministic results.\n",
    "\n",
    "        Args:\n",
    "            seed (int): The seed value to set for random number generation.\n",
    "        \"\"\"\n",
    "        torch.cuda.manual_seed(seed)\n",
    "        np.random.seed(seed)\n",
    "\n",
    "    def clear_cache(self):\n",
    "        \"\"\"\n",
    "        Clears the cache for CUDA and performs garbage collection.\n",
    "\n",
    "        This method uses PyTorch's `torch.cuda.empty_cache()` to release all unoccupied cached memory\n",
    "        currently held by the CUDA memory allocator, making that memory available for other GPU applications.\n",
    "        It also calls Python's garbage collector to free up any unreferenced memory in the system.\n",
    "\n",
    "        Note:\n",
    "            This method should be used with caution as it can affect the performance of your application\n",
    "            by causing memory fragmentation.\n",
    "        \"\"\"\n",
    "        with torch.no_grad():\n",
    "            torch.cuda.empty_cache()\n",
    "\n",
    "        gc.collect()\n",
    "\n",
    "    def train(self, training_set: pd.DataFrame, validation_set: pd.DataFrame, test_set: pd.DataFrame, epochs: int, batch_size: int, lr: float, weight_decay: float, verbose=True):\n",
    "        # Get the train and validation dataloader\n",
    "        train_dloader = self.detector.get_dataloader(data=training_set,\n",
    "                                                    embedding_model=self.embedding_model,\n",
    "                                                    type=\"train\",\n",
    "                                                    batch_size=batch_size,\n",
    "                                                    shuffle=True)\n",
    "\n",
    "        val_dloader = self.detector.get_dataloader(data=validation_set,\n",
    "                                                embedding_model=self.embedding_model,\n",
    "                                                type=\"val\",\n",
    "                                                batch_size=validation_set.shape[0],\n",
    "                                                shuffle=False)\n",
    "        \n",
    "        test_dloader = self.detector.get_dataloader(data=test_set,\n",
    "                                                embedding_model=self.embedding_model,\n",
    "                                                type=\"test\",\n",
    "                                                batch_size=test_set.shape[0],\n",
    "                                                shuffle=False)\n",
    "\n",
    "\n",
    "        # Initialize the history\n",
    "        history = pd.DataFrame(columns=['model', 'epoch', 'train_loss', 'val_loss', 'train_acc', 'val_acc', 'learning_rate'])\n",
    "\n",
    "        class_weights_tensor = self.detector.class_weights\n",
    "        criterion = torch.nn.CrossEntropyLoss(\n",
    "            weight=class_weights_tensor.to(device),\n",
    "            ignore_index=self.embedding_model.get_index(self.detector.PAD_TOKEN)\n",
    "        )\n",
    "\n",
    "        optimizer = torch.optim.AdamW(self.network.parameters(), lr=lr, weight_decay=weight_decay)\n",
    "        scheduler = torch.optim.lr_scheduler.ReduceLROnPlateau(optimizer, mode='min', factor=0.5, patience=10)\n",
    "\n",
    "        # Train if the model is not already saved\n",
    "        if not Path.exists(detector.MODEL_FOLDER / f'{self.name}.pth'):\n",
    "            # Initialize parameters for Early stopping\n",
    "            best_val_loss = np.inf\n",
    "            best_model = None\n",
    "            best_model_epoch = 0\n",
    "            best_f1_score = 0\n",
    "\n",
    "            # Train the model\n",
    "            for epoch in range(epochs):\n",
    "                train_correct = 0\n",
    "                train_total = 0\n",
    "                grad_loss_vec = []\n",
    "\n",
    "                # Training phase\n",
    "                self.network.train()\n",
    "                for batch in train_dloader:\n",
    "                    sentences, labels = batch\n",
    "                    sentences, labels = sentences.to(device), labels.to(device)\n",
    "\n",
    "                    optimizer.zero_grad()\n",
    "                    output = self.network(sentences)\n",
    "                    loss = criterion(output, labels)\n",
    "                    loss.backward()\n",
    "                    optimizer.step()\n",
    "\n",
    "                    predicted = torch.argmax(output, dim=1)\n",
    "                    train_total += labels.size(0)\n",
    "                    train_correct += (predicted == labels).sum().item()\n",
    "\n",
    "                    # Save the gradients for the current batch\n",
    "                    grad_loss_vec.append(loss.item())\n",
    "\n",
    "                # Validation phase\n",
    "                self.network.eval()\n",
    "                final_val_loss = 0\n",
    "                val_correct = 0\n",
    "                val_total = 0\n",
    "                val_predicted_arr = []\n",
    "                val_labels_arr = []\n",
    "\n",
    "                with torch.no_grad():\n",
    "                    for batch in val_dloader:\n",
    "                        sentence, labels = batch\n",
    "                        sentence, labels = sentence.to(device), labels.to(device)\n",
    "\n",
    "                        output = self.network(sentence)\n",
    "                        val_loss = criterion(output, labels)\n",
    "                        final_val_loss += val_loss.item()\n",
    "\n",
    "                        predicted = torch.argmax(output, dim=1)\n",
    "                        val_total += labels.size(0)\n",
    "                        val_correct += (predicted == labels).sum().item()\n",
    "\n",
    "                        val_predicted_arr.append(predicted)\n",
    "                        val_labels_arr.append(labels)\n",
    "\n",
    "                val_predicted_arr = torch.cat(val_predicted_arr, dim=0).cpu().numpy()\n",
    "                val_labels_arr = torch.cat(val_labels_arr, dim=0).cpu().numpy()\n",
    "\n",
    "                f1 = f1_score(val_labels_arr, val_predicted_arr, average='macro')\n",
    "\n",
    "                # Step the scheduler\n",
    "                scheduler.step(final_val_loss)\n",
    "\n",
    "                if final_val_loss < best_val_loss:\n",
    "                    best_val_loss = final_val_loss\n",
    "                    best_model = copy.deepcopy(self.network.state_dict())\n",
    "                    best_model_epoch = epoch\n",
    "                    best_f1_score = f1\n",
    "\n",
    "                # Compute the mean loss for the epoch across all batches\n",
    "                loss_value = np.mean(grad_loss_vec)\n",
    "\n",
    "                if verbose:\n",
    "                    print(f\"Epoch {epoch + 1}/{epochs}\\tLoss: {loss_value:.4f}\\tAcc: {train_correct / train_total:.4f}\\t\"\n",
    "                        f\"Val Loss: {final_val_loss:.4f}\\tVal Acc: {val_correct / val_total:.4f}\\tmacro_f1: {f1:.4f}\\t\"\n",
    "                        f\"lr: {scheduler.get_last_lr()[0]:.7f}\")\n",
    "\n",
    "                history.loc[len(history)] = [self.name, epoch + 1, loss_value, final_val_loss, train_correct / train_total, val_correct / val_total, scheduler.get_last_lr()[0]]\n",
    "\n",
    "            # Restore the best model\n",
    "            self.network.load_state_dict(best_model)\n",
    "            print(f\"Best model found at epoch {best_model_epoch + 1} with validation loss: {best_val_loss:.4f} and f1 score: {best_f1_score:.4f}\")\n",
    "\n",
    "            # Compute metrics on validation set with the best model\n",
    "            self.network.eval()\n",
    "            val_predicted_arr = []\n",
    "            val_labels_arr = []\n",
    "\n",
    "            with torch.no_grad():\n",
    "                for batch in val_dloader:\n",
    "                    sentence, labels = batch\n",
    "                    sentence, labels = sentence.to(device), labels.to(device)\n",
    "\n",
    "                    output = self.network(sentence)\n",
    "                    predicted = torch.argmax(output, dim=1)\n",
    "                    val_predicted_arr.append(predicted)\n",
    "                    val_labels_arr.append(labels)\n",
    "\n",
    "            val_predicted_arr = torch.cat(val_predicted_arr, dim=0).cpu().numpy()\n",
    "            val_labels_arr = torch.cat(val_labels_arr, dim=0).cpu().numpy()\n",
    "\n",
    "            val_final_accuracy = accuracy_score(val_labels_arr, val_predicted_arr)\n",
    "            val_final_f1 = f1_score(val_labels_arr, val_predicted_arr, average='macro')\n",
    "\n",
    "            print(f\"Validation set metrics on best model:\\n\"\n",
    "                f\"Accuracy: {val_final_accuracy:.4f}\\tF1: {val_final_f1:.4f}\")\n",
    "\n",
    "            # Save the predictions on validation set\n",
    "            self.val_predictions = val_predicted_arr\n",
    "            self.val_labels = val_labels_arr\n",
    "\n",
    "            # Save the metrics on the validation set\n",
    "            self.val_accuracy = val_final_accuracy\n",
    "            self.val_f1 = val_final_f1\n",
    "\n",
    "            # Compute metrics on the test set with the best model\n",
    "            self.network.eval()\n",
    "            test_predicted_arr = []\n",
    "            test_labels_arr = []\n",
    "\n",
    "            with torch.no_grad():\n",
    "                for batch in test_dloader:\n",
    "                    sentence, labels = batch\n",
    "                    sentence, labels = sentence.to(device), labels.to(device)\n",
    "\n",
    "                    output = self.network(sentence)\n",
    "                    predicted = torch.argmax(output, dim=1)\n",
    "                    test_predicted_arr.append(predicted)\n",
    "                    test_labels_arr.append(labels)\n",
    "\n",
    "            test_predicted_arr = torch.cat(test_predicted_arr, dim=0).cpu().numpy()\n",
    "            test_labels_arr = torch.cat(test_labels_arr, dim=0).cpu().numpy()\n",
    "\n",
    "            test_final_accuracy = accuracy_score(test_labels_arr, test_predicted_arr)\n",
    "            test_final_f1 = f1_score(test_labels_arr, test_predicted_arr, average='macro')\n",
    "\n",
    "            print(f\"Test set metrics on best model:\\n\"\n",
    "                f\"Accuracy: {test_final_accuracy:.4f}\\tF1: {test_final_f1:.4f}\")\n",
    "\n",
    "            # Save the predictions on test set\n",
    "            self.test_predictions = test_predicted_arr\n",
    "            self.test_labels = test_labels_arr\n",
    "\n",
    "            # Save the metrics on the test set\n",
    "            self.test_accuracy = test_final_accuracy\n",
    "            self.test_f1 = test_final_f1\n",
    "\n",
    "            # Save the best model\n",
    "            torch.save(self.network.state_dict(), detector.MODEL_FOLDER / f'{self.name}.pth')\n",
    "\n",
    "            # Save the history and set the model as trained\n",
    "            self.history = history\n",
    "            self.trained = True\n",
    "\n",
    "            # Dump the history to a CSV file for later analysis\n",
    "            history.to_csv(detector.CSV_FOLDER / f'{self.name}_history.csv', index=False)\n",
    "\n",
    "            return history\n",
    "\n",
    "        # Otherwise, load the model and return the history\n",
    "        else:\n",
    "            # Load the model\n",
    "            self.network.load_state_dict(torch.load(detector.MODEL_FOLDER / f'{self.name}.pth', weights_only=True))\n",
    "\n",
    "            # Compute metrics on validation set with the best model\n",
    "            self.network.eval()\n",
    "            val_predicted_arr = []\n",
    "            val_labels_arr = []\n",
    "\n",
    "            with torch.no_grad():\n",
    "                for batch in val_dloader:\n",
    "                    sentence, labels = batch\n",
    "                    sentence, labels = sentence.to(device), labels.to(device)\n",
    "\n",
    "                    output = self.network(sentence)\n",
    "                    predicted = torch.argmax(output, dim=1)\n",
    "                    val_predicted_arr.append(predicted)\n",
    "                    val_labels_arr.append(labels)\n",
    "\n",
    "            val_predicted_arr = torch.cat(val_predicted_arr, dim=0).cpu().numpy()\n",
    "            val_labels_arr = torch.cat(val_labels_arr, dim=0).cpu().numpy()\n",
    "\n",
    "            val_final_accuracy = accuracy_score(val_labels_arr, val_predicted_arr)\n",
    "            val_final_f1 = f1_score(val_labels_arr, val_predicted_arr, average='macro')\n",
    "\n",
    "            print(f\"Validation set metrics on best model:\\n\"\n",
    "                f\"Accuracy: {val_final_accuracy:.4f}\\tF1: {val_final_f1:.4f}\")\n",
    "\n",
    "            # Save the predictions on validation set\n",
    "            self.val_predictions = val_predicted_arr\n",
    "            self.val_labels = val_labels_arr\n",
    "\n",
    "            # Save the metrics on the validation set\n",
    "            self.val_accuracy = val_final_accuracy\n",
    "            self.val_f1 = val_final_f1\n",
    "\n",
    "            # Compute metrics on the test set with the best model\n",
    "            self.network.eval()\n",
    "            test_predicted_arr = []\n",
    "            test_labels_arr = []\n",
    "\n",
    "            with torch.no_grad():\n",
    "                for batch in test_dloader:\n",
    "                    sentence, labels = batch\n",
    "                    sentence, labels = sentence.to(device), labels.to(device)\n",
    "\n",
    "                    output = self.network(sentence)\n",
    "                    predicted = torch.argmax(output, dim=1)\n",
    "                    test_predicted_arr.append(predicted)\n",
    "                    test_labels_arr.append(labels)\n",
    "\n",
    "            test_predicted_arr = torch.cat(test_predicted_arr, dim=0).cpu().numpy()\n",
    "            test_labels_arr = torch.cat(test_labels_arr, dim=0).cpu().numpy()\n",
    "\n",
    "            test_final_accuracy = accuracy_score(test_labels_arr, test_predicted_arr)\n",
    "            test_final_f1 = f1_score(test_labels_arr, test_predicted_arr, average='macro')\n",
    "\n",
    "            print(f\"Test set metrics on best model:\\n\"\n",
    "                f\"Accuracy: {test_final_accuracy:.4f}\\tF1: {test_final_f1:.4f}\")\n",
    "\n",
    "            # Save the predictions on test set\n",
    "            self.test_predictions = test_predicted_arr\n",
    "            self.test_labels = test_labels_arr\n",
    "\n",
    "            # Save the metrics on the test set\n",
    "            self.test_accuracy = test_final_accuracy\n",
    "            self.test_f1 = test_final_f1\n",
    "\n",
    "            # Load back the history and set the model as not trained\n",
    "            self.history = pd.read_csv(detector.CSV_FOLDER / f'{self.name}_history.csv')\n",
    "            self.trained = False\n",
    "\n",
    "            return history\n",
    "\n",
    "    def plot_history(self):\n",
    "        if not self.trained:\n",
    "            print(\"Model has not been trained. Showing the history of the last training session.\\n\")\n",
    "            \n",
    "        _, axes = plt.subplots(1, 3, figsize=(18, 5))\n",
    "        baseline_model_name = self.history['model'] == self.name\n",
    "        best_epoch = self.history[baseline_model_name]['val_loss'].idxmin()\n",
    "\n",
    "        # Plot the history of the model\n",
    "        ax = self.history[baseline_model_name].plot(x='epoch', y=['train_loss', 'val_loss'], title='Loss', ax=axes[0])\n",
    "        # Highlight the best epoch in the plot and show it with a red dot on the graph + legend\n",
    "        ax.scatter(best_epoch+1, self.history[baseline_model_name]['val_loss'].iloc[best_epoch], c='red', label='Best Epoch')\n",
    "        # Annotations for the best epoch\n",
    "        axes[0].annotate(f'Best Epoch: {best_epoch+1}', (best_epoch+1, self.history[baseline_model_name]['val_loss'].iloc[best_epoch]), textcoords=\"offset points\", xytext=(0,10), ha='center', fontsize=10)\n",
    "\n",
    "        # Plot the accuracy and learning rate\n",
    "        ax = self.history[baseline_model_name].plot(x='epoch', y=['train_acc', 'val_acc'], title='Accuracy', ax=axes[1])\n",
    "        self.history[baseline_model_name].plot(x='epoch', y='learning_rate', title='Learning Rate', ax=axes[2], logy=True)\n",
    "\n",
    "        # Save the image inside the images folder\n",
    "        if not detector.IMG_FOLDER.exists():\n",
    "            detector.IMG_FOLDER.mkdir(parents=True)\n",
    "            print(f\"Created folder {detector.IMG_FOLDER}.\")\n",
    "        plt.savefig(detector.IMG_FOLDER / f'{self.name}_history.svg', format='svg')\n",
    "\n",
    "        plt.tight_layout()\n",
    "        plt.show()"
   ]
  },
  {
   "cell_type": "markdown",
   "metadata": {
    "id": "cBXBJcKKKy_5"
   },
   "source": [
    "# LSTMs"
   ]
  },
  {
   "cell_type": "markdown",
   "metadata": {
    "id": "nXN0uP7IV1Bq"
   },
   "source": [
    "The idea here is to run three times the baseline model with different seeds and then average the performance over the seeds with the standard deviation. This is done to have a robust estimation of the performance of the model and to have a better idea of the performance of the model.\n",
    "\n",
    "We will iterate over each seed, train the model (or load it back if already trained) and evaluate it on the validation set + the test set. We will then store the results in a dictionary which we will use later with the transformer models.\n",
    "\n",
    "We also saved the history of the training to plot the loss and accuracy over the epochs in a CSV file.\n",
    "\n",
    "The graphs of the loss and accuracy over the epochs are plotted below."
   ]
  },
  {
   "cell_type": "code",
   "execution_count": 56,
   "metadata": {
    "id": "worvz009V1Bq"
   },
   "outputs": [],
   "source": [
    "# Accumulate the results of each seed\n",
    "lstm_results_df = pd.DataFrame(columns=['name', 'val_accuracy', 'val_f1', 'test_accuracy', 'test_f1', 'layers'])"
   ]
  },
  {
   "cell_type": "code",
   "execution_count": null,
   "metadata": {
    "colab": {
     "base_uri": "https://localhost:8080/",
     "height": 1000
    },
    "id": "zHBjjniWV1Bq",
    "outputId": "23183c3d-5cbb-4c74-828d-57b26b3a9845"
   },
   "outputs": [
    {
     "name": "stdout",
     "output_type": "stream",
     "text": [
      "Training baseline model with seed 1337\n",
      "Epoch 1/60\tLoss: 0.6916\tAcc: 0.4526\tVal Loss: 0.6855\tVal Acc: 0.6582\tmacro_f1: 0.6502\tlr: 0.0001000\n",
      "Epoch 2/60\tLoss: 0.6858\tAcc: 0.6111\tVal Loss: 0.6300\tVal Acc: 0.5823\tmacro_f1: 0.5755\tlr: 0.0001000\n",
      "Epoch 3/60\tLoss: 0.6618\tAcc: 0.6268\tVal Loss: 0.5868\tVal Acc: 0.7025\tmacro_f1: 0.6787\tlr: 0.0001000\n",
      "Epoch 4/60\tLoss: 0.6395\tAcc: 0.6770\tVal Loss: 0.5665\tVal Acc: 0.7089\tmacro_f1: 0.7066\tlr: 0.0001000\n",
      "Epoch 5/60\tLoss: 0.6104\tAcc: 0.6976\tVal Loss: 0.5926\tVal Acc: 0.6899\tmacro_f1: 0.6805\tlr: 0.0001000\n",
      "Epoch 6/60\tLoss: 0.5913\tAcc: 0.6965\tVal Loss: 0.5898\tVal Acc: 0.7215\tmacro_f1: 0.7044\tlr: 0.0001000\n",
      "Epoch 7/60\tLoss: 0.5869\tAcc: 0.7070\tVal Loss: 0.5419\tVal Acc: 0.7468\tmacro_f1: 0.7442\tlr: 0.0001000\n",
      "Epoch 8/60\tLoss: 0.5543\tAcc: 0.7240\tVal Loss: 0.5385\tVal Acc: 0.7468\tmacro_f1: 0.7360\tlr: 0.0001000\n",
      "Epoch 9/60\tLoss: 0.5464\tAcc: 0.7453\tVal Loss: 0.5317\tVal Acc: 0.7468\tmacro_f1: 0.7386\tlr: 0.0001000\n",
      "Epoch 10/60\tLoss: 0.5416\tAcc: 0.7425\tVal Loss: 0.5200\tVal Acc: 0.7405\tmacro_f1: 0.7327\tlr: 0.0001000\n",
      "Epoch 11/60\tLoss: 0.5603\tAcc: 0.7202\tVal Loss: 0.5598\tVal Acc: 0.7405\tmacro_f1: 0.7255\tlr: 0.0001000\n",
      "Epoch 12/60\tLoss: 0.5506\tAcc: 0.7359\tVal Loss: 0.5389\tVal Acc: 0.7532\tmacro_f1: 0.7433\tlr: 0.0001000\n",
      "Epoch 13/60\tLoss: 0.5497\tAcc: 0.7286\tVal Loss: 0.5235\tVal Acc: 0.7595\tmacro_f1: 0.7517\tlr: 0.0001000\n",
      "Epoch 14/60\tLoss: 0.5448\tAcc: 0.7481\tVal Loss: 0.5177\tVal Acc: 0.7468\tmacro_f1: 0.7418\tlr: 0.0001000\n",
      "Epoch 15/60\tLoss: 0.5374\tAcc: 0.7523\tVal Loss: 0.5193\tVal Acc: 0.7532\tmacro_f1: 0.7487\tlr: 0.0001000\n",
      "Epoch 16/60\tLoss: 0.5378\tAcc: 0.7418\tVal Loss: 0.5324\tVal Acc: 0.7532\tmacro_f1: 0.7404\tlr: 0.0001000\n",
      "Epoch 17/60\tLoss: 0.5379\tAcc: 0.7481\tVal Loss: 0.5335\tVal Acc: 0.7468\tmacro_f1: 0.7345\tlr: 0.0001000\n",
      "Epoch 18/60\tLoss: 0.5344\tAcc: 0.7484\tVal Loss: 0.5195\tVal Acc: 0.7658\tmacro_f1: 0.7577\tlr: 0.0001000\n",
      "Epoch 19/60\tLoss: 0.5281\tAcc: 0.7530\tVal Loss: 0.5394\tVal Acc: 0.7468\tmacro_f1: 0.7345\tlr: 0.0001000\n",
      "Epoch 20/60\tLoss: 0.5540\tAcc: 0.7199\tVal Loss: 0.5149\tVal Acc: 0.7658\tmacro_f1: 0.7608\tlr: 0.0001000\n",
      "Epoch 21/60\tLoss: 0.5498\tAcc: 0.7387\tVal Loss: 0.5472\tVal Acc: 0.7532\tmacro_f1: 0.7371\tlr: 0.0001000\n",
      "Epoch 22/60\tLoss: 0.5350\tAcc: 0.7537\tVal Loss: 0.4962\tVal Acc: 0.7722\tmacro_f1: 0.7703\tlr: 0.0001000\n",
      "Epoch 23/60\tLoss: 0.5276\tAcc: 0.7467\tVal Loss: 0.5056\tVal Acc: 0.7658\tmacro_f1: 0.7616\tlr: 0.0001000\n",
      "Epoch 24/60\tLoss: 0.5341\tAcc: 0.7463\tVal Loss: 0.5260\tVal Acc: 0.7595\tmacro_f1: 0.7517\tlr: 0.0001000\n",
      "Epoch 25/60\tLoss: 0.5251\tAcc: 0.7484\tVal Loss: 0.5325\tVal Acc: 0.7595\tmacro_f1: 0.7463\tlr: 0.0001000\n",
      "Epoch 26/60\tLoss: 0.5280\tAcc: 0.7460\tVal Loss: 0.5152\tVal Acc: 0.7595\tmacro_f1: 0.7547\tlr: 0.0001000\n",
      "Epoch 27/60\tLoss: 0.5237\tAcc: 0.7509\tVal Loss: 0.4988\tVal Acc: 0.7722\tmacro_f1: 0.7698\tlr: 0.0001000\n",
      "Epoch 28/60\tLoss: 0.5185\tAcc: 0.7509\tVal Loss: 0.5202\tVal Acc: 0.7595\tmacro_f1: 0.7528\tlr: 0.0001000\n",
      "Epoch 29/60\tLoss: 0.5221\tAcc: 0.7498\tVal Loss: 0.5105\tVal Acc: 0.7595\tmacro_f1: 0.7528\tlr: 0.0001000\n",
      "Epoch 30/60\tLoss: 0.5234\tAcc: 0.7557\tVal Loss: 0.5114\tVal Acc: 0.7658\tmacro_f1: 0.7564\tlr: 0.0001000\n",
      "Epoch 31/60\tLoss: 0.5313\tAcc: 0.7551\tVal Loss: 0.5068\tVal Acc: 0.7722\tmacro_f1: 0.7668\tlr: 0.0001000\n",
      "Epoch 32/60\tLoss: 0.5157\tAcc: 0.7617\tVal Loss: 0.5397\tVal Acc: 0.7722\tmacro_f1: 0.7582\tlr: 0.0001000\n",
      "Epoch 33/60\tLoss: 0.5429\tAcc: 0.7453\tVal Loss: 0.5056\tVal Acc: 0.7722\tmacro_f1: 0.7676\tlr: 0.0000500\n",
      "Epoch 34/60\tLoss: 0.5200\tAcc: 0.7481\tVal Loss: 0.5064\tVal Acc: 0.7595\tmacro_f1: 0.7563\tlr: 0.0000500\n",
      "Epoch 35/60\tLoss: 0.5095\tAcc: 0.7634\tVal Loss: 0.5058\tVal Acc: 0.7785\tmacro_f1: 0.7737\tlr: 0.0000500\n",
      "Epoch 36/60\tLoss: 0.5119\tAcc: 0.7620\tVal Loss: 0.5035\tVal Acc: 0.7785\tmacro_f1: 0.7759\tlr: 0.0000500\n",
      "Epoch 37/60\tLoss: 0.5102\tAcc: 0.7613\tVal Loss: 0.5164\tVal Acc: 0.7595\tmacro_f1: 0.7505\tlr: 0.0000500\n",
      "Epoch 38/60\tLoss: 0.5021\tAcc: 0.7679\tVal Loss: 0.5205\tVal Acc: 0.7468\tmacro_f1: 0.7418\tlr: 0.0000500\n",
      "Epoch 39/60\tLoss: 0.5008\tAcc: 0.7662\tVal Loss: 0.5202\tVal Acc: 0.7595\tmacro_f1: 0.7478\tlr: 0.0000500\n",
      "Epoch 40/60\tLoss: 0.4967\tAcc: 0.7704\tVal Loss: 0.5108\tVal Acc: 0.7785\tmacro_f1: 0.7708\tlr: 0.0000500\n",
      "Epoch 41/60\tLoss: 0.5164\tAcc: 0.7683\tVal Loss: 0.4996\tVal Acc: 0.7785\tmacro_f1: 0.7745\tlr: 0.0000500\n",
      "Epoch 42/60\tLoss: 0.4976\tAcc: 0.7707\tVal Loss: 0.5112\tVal Acc: 0.7532\tmacro_f1: 0.7457\tlr: 0.0000500\n",
      "Epoch 43/60\tLoss: 0.5037\tAcc: 0.7697\tVal Loss: 0.4988\tVal Acc: 0.7848\tmacro_f1: 0.7813\tlr: 0.0000500\n",
      "Epoch 44/60\tLoss: 0.5004\tAcc: 0.7683\tVal Loss: 0.5246\tVal Acc: 0.7658\tmacro_f1: 0.7537\tlr: 0.0000250\n",
      "Epoch 45/60\tLoss: 0.4895\tAcc: 0.7780\tVal Loss: 0.5181\tVal Acc: 0.7658\tmacro_f1: 0.7551\tlr: 0.0000250\n",
      "Epoch 46/60\tLoss: 0.4890\tAcc: 0.7777\tVal Loss: 0.5080\tVal Acc: 0.7595\tmacro_f1: 0.7505\tlr: 0.0000250\n",
      "Epoch 47/60\tLoss: 0.4922\tAcc: 0.7760\tVal Loss: 0.5091\tVal Acc: 0.7658\tmacro_f1: 0.7564\tlr: 0.0000250\n",
      "Epoch 48/60\tLoss: 0.4869\tAcc: 0.7784\tVal Loss: 0.5065\tVal Acc: 0.7785\tmacro_f1: 0.7708\tlr: 0.0000250\n",
      "Epoch 49/60\tLoss: 0.4845\tAcc: 0.7794\tVal Loss: 0.5081\tVal Acc: 0.7658\tmacro_f1: 0.7564\tlr: 0.0000250\n",
      "Epoch 50/60\tLoss: 0.4864\tAcc: 0.7784\tVal Loss: 0.5059\tVal Acc: 0.7658\tmacro_f1: 0.7577\tlr: 0.0000250\n",
      "Epoch 51/60\tLoss: 0.4806\tAcc: 0.7808\tVal Loss: 0.5053\tVal Acc: 0.7785\tmacro_f1: 0.7728\tlr: 0.0000250\n",
      "Epoch 52/60\tLoss: 0.4844\tAcc: 0.7801\tVal Loss: 0.5030\tVal Acc: 0.7785\tmacro_f1: 0.7718\tlr: 0.0000250\n",
      "Epoch 53/60\tLoss: 0.4864\tAcc: 0.7822\tVal Loss: 0.5187\tVal Acc: 0.7658\tmacro_f1: 0.7537\tlr: 0.0000250\n",
      "Epoch 54/60\tLoss: 0.4897\tAcc: 0.7746\tVal Loss: 0.5123\tVal Acc: 0.7848\tmacro_f1: 0.7806\tlr: 0.0000250\n",
      "Epoch 55/60\tLoss: 0.4930\tAcc: 0.7767\tVal Loss: 0.5118\tVal Acc: 0.7911\tmacro_f1: 0.7828\tlr: 0.0000125\n",
      "Epoch 56/60\tLoss: 0.4843\tAcc: 0.7784\tVal Loss: 0.5259\tVal Acc: 0.7658\tmacro_f1: 0.7551\tlr: 0.0000125\n",
      "Epoch 57/60\tLoss: 0.4837\tAcc: 0.7836\tVal Loss: 0.5130\tVal Acc: 0.7785\tmacro_f1: 0.7684\tlr: 0.0000125\n",
      "Epoch 58/60\tLoss: 0.4813\tAcc: 0.7843\tVal Loss: 0.5097\tVal Acc: 0.7658\tmacro_f1: 0.7564\tlr: 0.0000125\n",
      "Epoch 59/60\tLoss: 0.4803\tAcc: 0.7847\tVal Loss: 0.4953\tVal Acc: 0.7722\tmacro_f1: 0.7668\tlr: 0.0000125\n",
      "Epoch 60/60\tLoss: 0.4808\tAcc: 0.7822\tVal Loss: 0.5123\tVal Acc: 0.7785\tmacro_f1: 0.7708\tlr: 0.0000125\n",
      "Best model found at epoch 59 with validation loss: 0.4953 and f1 score: 0.7668\n",
      "Validation set metrics on best model:\n",
      "Accuracy: 0.7722\tF1: 0.7668\n",
      "Test set metrics on best model:\n",
      "Accuracy: 0.6713\tF1: 0.6705\n"
     ]
    },
    {
     "data": {
      "image/png": "[encoded data removed]",
      "text/plain": [
       "<Figure size 1800x500 with 3 Axes>"
      ]
     },
     "metadata": {},
     "output_type": "display_data"
    },
    {
     "name": "stdout",
     "output_type": "stream",
     "text": [
      "Training model with two LSTM layers with seed 1337\n",
      "Epoch 1/60\tLoss: 0.6923\tAcc: 0.5282\tVal Loss: 0.6848\tVal Acc: 0.6392\tmacro_f1: 0.6074\tlr: 0.0001000\n",
      "Epoch 2/60\tLoss: 0.6781\tAcc: 0.5774\tVal Loss: 0.6345\tVal Acc: 0.6835\tmacro_f1: 0.6116\tlr: 0.0001000\n",
      "Epoch 3/60\tLoss: 0.6560\tAcc: 0.6554\tVal Loss: 0.6210\tVal Acc: 0.7152\tmacro_f1: 0.6726\tlr: 0.0001000\n",
      "Epoch 4/60\tLoss: 0.6026\tAcc: 0.7031\tVal Loss: 0.5221\tVal Acc: 0.7468\tmacro_f1: 0.7374\tlr: 0.0001000\n",
      "Epoch 5/60\tLoss: 0.5984\tAcc: 0.7024\tVal Loss: 0.5679\tVal Acc: 0.6582\tmacro_f1: 0.6562\tlr: 0.0001000\n",
      "Epoch 6/60\tLoss: 0.5770\tAcc: 0.7146\tVal Loss: 0.5150\tVal Acc: 0.7278\tmacro_f1: 0.7260\tlr: 0.0001000\n",
      "Epoch 7/60\tLoss: 0.5787\tAcc: 0.7111\tVal Loss: 0.4973\tVal Acc: 0.7658\tmacro_f1: 0.7608\tlr: 0.0001000\n",
      "Epoch 8/60\tLoss: 0.5537\tAcc: 0.7366\tVal Loss: 0.5155\tVal Acc: 0.7911\tmacro_f1: 0.7790\tlr: 0.0001000\n",
      "Epoch 9/60\tLoss: 0.5507\tAcc: 0.7289\tVal Loss: 0.5000\tVal Acc: 0.7405\tmacro_f1: 0.7397\tlr: 0.0001000\n",
      "Epoch 10/60\tLoss: 0.5371\tAcc: 0.7474\tVal Loss: 0.4950\tVal Acc: 0.7848\tmacro_f1: 0.7744\tlr: 0.0001000\n",
      "Epoch 11/60\tLoss: 0.5285\tAcc: 0.7571\tVal Loss: 0.5175\tVal Acc: 0.7911\tmacro_f1: 0.7776\tlr: 0.0001000\n",
      "Epoch 12/60\tLoss: 0.5323\tAcc: 0.7366\tVal Loss: 0.4649\tVal Acc: 0.8228\tmacro_f1: 0.8152\tlr: 0.0001000\n",
      "Epoch 13/60\tLoss: 0.5191\tAcc: 0.7564\tVal Loss: 0.4973\tVal Acc: 0.7722\tmacro_f1: 0.7582\tlr: 0.0001000\n",
      "Epoch 14/60\tLoss: 0.5280\tAcc: 0.7470\tVal Loss: 0.5464\tVal Acc: 0.7658\tmacro_f1: 0.7471\tlr: 0.0001000\n",
      "Epoch 15/60\tLoss: 0.5219\tAcc: 0.7561\tVal Loss: 0.4664\tVal Acc: 0.7722\tmacro_f1: 0.7698\tlr: 0.0001000\n",
      "Epoch 16/60\tLoss: 0.5004\tAcc: 0.7627\tVal Loss: 0.4788\tVal Acc: 0.7848\tmacro_f1: 0.7788\tlr: 0.0001000\n",
      "Epoch 17/60\tLoss: 0.5076\tAcc: 0.7617\tVal Loss: 0.4818\tVal Acc: 0.7468\tmacro_f1: 0.7467\tlr: 0.0001000\n",
      "Epoch 18/60\tLoss: 0.4980\tAcc: 0.7652\tVal Loss: 0.4885\tVal Acc: 0.7848\tmacro_f1: 0.7788\tlr: 0.0001000\n",
      "Epoch 19/60\tLoss: 0.4906\tAcc: 0.7742\tVal Loss: 0.5273\tVal Acc: 0.7848\tmacro_f1: 0.7744\tlr: 0.0001000\n",
      "Epoch 20/60\tLoss: 0.5066\tAcc: 0.7557\tVal Loss: 0.4910\tVal Acc: 0.7722\tmacro_f1: 0.7684\tlr: 0.0001000\n",
      "Epoch 21/60\tLoss: 0.4961\tAcc: 0.7749\tVal Loss: 0.4828\tVal Acc: 0.7848\tmacro_f1: 0.7778\tlr: 0.0001000\n",
      "Epoch 22/60\tLoss: 0.4881\tAcc: 0.7725\tVal Loss: 0.4989\tVal Acc: 0.7722\tmacro_f1: 0.7648\tlr: 0.0001000\n",
      "Epoch 23/60\tLoss: 0.4755\tAcc: 0.7826\tVal Loss: 0.4853\tVal Acc: 0.7722\tmacro_f1: 0.7692\tlr: 0.0000500\n",
      "Epoch 24/60\tLoss: 0.4675\tAcc: 0.7920\tVal Loss: 0.4942\tVal Acc: 0.7595\tmacro_f1: 0.7570\tlr: 0.0000500\n",
      "Epoch 25/60\tLoss: 0.4642\tAcc: 0.7889\tVal Loss: 0.5132\tVal Acc: 0.7785\tmacro_f1: 0.7737\tlr: 0.0000500\n",
      "Epoch 26/60\tLoss: 0.4624\tAcc: 0.7885\tVal Loss: 0.4941\tVal Acc: 0.7722\tmacro_f1: 0.7684\tlr: 0.0000500\n",
      "Epoch 27/60\tLoss: 0.4604\tAcc: 0.7927\tVal Loss: 0.5070\tVal Acc: 0.7342\tmacro_f1: 0.7335\tlr: 0.0000500\n",
      "Epoch 28/60\tLoss: 0.4628\tAcc: 0.7885\tVal Loss: 0.5022\tVal Acc: 0.7785\tmacro_f1: 0.7752\tlr: 0.0000500\n",
      "Epoch 29/60\tLoss: 0.4602\tAcc: 0.7871\tVal Loss: 0.4887\tVal Acc: 0.7785\tmacro_f1: 0.7745\tlr: 0.0000500\n",
      "Epoch 30/60\tLoss: 0.4512\tAcc: 0.7955\tVal Loss: 0.5367\tVal Acc: 0.7595\tmacro_f1: 0.7556\tlr: 0.0000500\n",
      "Epoch 31/60\tLoss: 0.4447\tAcc: 0.8003\tVal Loss: 0.5793\tVal Acc: 0.7785\tmacro_f1: 0.7684\tlr: 0.0000500\n",
      "Epoch 32/60\tLoss: 0.4423\tAcc: 0.8021\tVal Loss: 0.4963\tVal Acc: 0.7595\tmacro_f1: 0.7547\tlr: 0.0000500\n",
      "Epoch 33/60\tLoss: 0.4429\tAcc: 0.8035\tVal Loss: 0.5434\tVal Acc: 0.7532\tmacro_f1: 0.7468\tlr: 0.0000500\n",
      "Epoch 34/60\tLoss: 0.4440\tAcc: 0.8003\tVal Loss: 0.5555\tVal Acc: 0.7848\tmacro_f1: 0.7756\tlr: 0.0000250\n",
      "Epoch 35/60\tLoss: 0.4400\tAcc: 0.8101\tVal Loss: 0.5703\tVal Acc: 0.7532\tmacro_f1: 0.7468\tlr: 0.0000250\n",
      "Epoch 36/60\tLoss: 0.4288\tAcc: 0.8087\tVal Loss: 0.5598\tVal Acc: 0.7405\tmacro_f1: 0.7349\tlr: 0.0000250\n",
      "Epoch 37/60\tLoss: 0.4284\tAcc: 0.8101\tVal Loss: 0.5446\tVal Acc: 0.7595\tmacro_f1: 0.7556\tlr: 0.0000250\n",
      "Epoch 38/60\tLoss: 0.4256\tAcc: 0.8146\tVal Loss: 0.6160\tVal Acc: 0.7468\tmacro_f1: 0.7398\tlr: 0.0000250\n",
      "Epoch 39/60\tLoss: 0.4326\tAcc: 0.8108\tVal Loss: 0.5286\tVal Acc: 0.7595\tmacro_f1: 0.7556\tlr: 0.0000250\n",
      "Epoch 40/60\tLoss: 0.4248\tAcc: 0.8164\tVal Loss: 0.5992\tVal Acc: 0.7342\tmacro_f1: 0.7268\tlr: 0.0000250\n",
      "Epoch 41/60\tLoss: 0.4211\tAcc: 0.8174\tVal Loss: 0.5433\tVal Acc: 0.7405\tmacro_f1: 0.7400\tlr: 0.0000250\n",
      "Epoch 42/60\tLoss: 0.4372\tAcc: 0.8049\tVal Loss: 0.5227\tVal Acc: 0.7468\tmacro_f1: 0.7435\tlr: 0.0000250\n",
      "Epoch 43/60\tLoss: 0.4260\tAcc: 0.8136\tVal Loss: 0.5421\tVal Acc: 0.7468\tmacro_f1: 0.7435\tlr: 0.0000250\n",
      "Epoch 44/60\tLoss: 0.4297\tAcc: 0.8136\tVal Loss: 0.5662\tVal Acc: 0.7342\tmacro_f1: 0.7279\tlr: 0.0000250\n",
      "Epoch 45/60\tLoss: 0.4161\tAcc: 0.8195\tVal Loss: 0.5847\tVal Acc: 0.7342\tmacro_f1: 0.7289\tlr: 0.0000125\n",
      "Epoch 46/60\tLoss: 0.4183\tAcc: 0.8185\tVal Loss: 0.5885\tVal Acc: 0.7468\tmacro_f1: 0.7398\tlr: 0.0000125\n",
      "Epoch 47/60\tLoss: 0.4059\tAcc: 0.8223\tVal Loss: 0.5762\tVal Acc: 0.7468\tmacro_f1: 0.7427\tlr: 0.0000125\n",
      "Epoch 48/60\tLoss: 0.4234\tAcc: 0.8122\tVal Loss: 0.5729\tVal Acc: 0.7532\tmacro_f1: 0.7446\tlr: 0.0000125\n",
      "Epoch 49/60\tLoss: 0.4233\tAcc: 0.8171\tVal Loss: 0.5790\tVal Acc: 0.7595\tmacro_f1: 0.7505\tlr: 0.0000125\n",
      "Epoch 50/60\tLoss: 0.4189\tAcc: 0.8181\tVal Loss: 0.5776\tVal Acc: 0.7468\tmacro_f1: 0.7398\tlr: 0.0000125\n",
      "Epoch 51/60\tLoss: 0.4105\tAcc: 0.8230\tVal Loss: 0.6033\tVal Acc: 0.7468\tmacro_f1: 0.7386\tlr: 0.0000125\n",
      "Epoch 52/60\tLoss: 0.4051\tAcc: 0.8206\tVal Loss: 0.5716\tVal Acc: 0.7532\tmacro_f1: 0.7487\tlr: 0.0000125\n",
      "Epoch 53/60\tLoss: 0.4113\tAcc: 0.8220\tVal Loss: 0.5689\tVal Acc: 0.7405\tmacro_f1: 0.7338\tlr: 0.0000125\n",
      "Epoch 54/60\tLoss: 0.4053\tAcc: 0.8254\tVal Loss: 0.6032\tVal Acc: 0.7342\tmacro_f1: 0.7268\tlr: 0.0000125\n",
      "Epoch 55/60\tLoss: 0.4039\tAcc: 0.8258\tVal Loss: 0.6016\tVal Acc: 0.7405\tmacro_f1: 0.7349\tlr: 0.0000125\n",
      "Epoch 56/60\tLoss: 0.3982\tAcc: 0.8289\tVal Loss: 0.6072\tVal Acc: 0.7468\tmacro_f1: 0.7418\tlr: 0.0000063\n",
      "Epoch 57/60\tLoss: 0.3964\tAcc: 0.8265\tVal Loss: 0.6153\tVal Acc: 0.7342\tmacro_f1: 0.7279\tlr: 0.0000063\n",
      "Epoch 58/60\tLoss: 0.3974\tAcc: 0.8282\tVal Loss: 0.5979\tVal Acc: 0.7532\tmacro_f1: 0.7487\tlr: 0.0000063\n",
      "Epoch 59/60\tLoss: 0.3942\tAcc: 0.8289\tVal Loss: 0.6075\tVal Acc: 0.7405\tmacro_f1: 0.7338\tlr: 0.0000063\n",
      "Epoch 60/60\tLoss: 0.3972\tAcc: 0.8272\tVal Loss: 0.5888\tVal Acc: 0.7532\tmacro_f1: 0.7487\tlr: 0.0000063\n",
      "Best model found at epoch 12 with validation loss: 0.4649 and f1 score: 0.8152\n",
      "Validation set metrics on best model:\n",
      "Accuracy: 0.8228\tF1: 0.8152\n",
      "Test set metrics on best model:\n",
      "Accuracy: 0.6888\tF1: 0.6888\n"
     ]
    },
    {
     "data": {
      "image/png": "[encoded data removed]",
      "text/plain": [
       "<Figure size 1800x500 with 3 Axes>"
      ]
     },
     "metadata": {},
     "output_type": "display_data"
    },
    {
     "name": "stdout",
     "output_type": "stream",
     "text": [
      "Training baseline model with seed 42\n",
      "Epoch 1/60\tLoss: 0.6927\tAcc: 0.5098\tVal Loss: 0.6865\tVal Acc: 0.5506\tmacro_f1: 0.5246\tlr: 0.0001000\n",
      "Epoch 2/60\tLoss: 0.6881\tAcc: 0.5199\tVal Loss: 0.6702\tVal Acc: 0.6772\tmacro_f1: 0.6660\tlr: 0.0001000\n",
      "Epoch 3/60\tLoss: 0.6657\tAcc: 0.6233\tVal Loss: 0.6580\tVal Acc: 0.6582\tmacro_f1: 0.5911\tlr: 0.0001000\n",
      "Epoch 4/60\tLoss: 0.6558\tAcc: 0.6638\tVal Loss: 0.6752\tVal Acc: 0.6392\tmacro_f1: 0.5190\tlr: 0.0001000\n",
      "Epoch 5/60\tLoss: 0.6485\tAcc: 0.6868\tVal Loss: 0.5925\tVal Acc: 0.7215\tmacro_f1: 0.7111\tlr: 0.0001000\n",
      "Epoch 6/60\tLoss: 0.6269\tAcc: 0.6826\tVal Loss: 0.5849\tVal Acc: 0.7152\tmacro_f1: 0.7005\tlr: 0.0001000\n",
      "Epoch 7/60\tLoss: 0.6398\tAcc: 0.6826\tVal Loss: 0.6540\tVal Acc: 0.6646\tmacro_f1: 0.5910\tlr: 0.0001000\n",
      "Epoch 8/60\tLoss: 0.6431\tAcc: 0.6679\tVal Loss: 0.5703\tVal Acc: 0.7468\tmacro_f1: 0.7398\tlr: 0.0001000\n",
      "Epoch 9/60\tLoss: 0.6242\tAcc: 0.6909\tVal Loss: 0.5556\tVal Acc: 0.7025\tmacro_f1: 0.7016\tlr: 0.0001000\n",
      "Epoch 10/60\tLoss: 0.6166\tAcc: 0.6794\tVal Loss: 0.5700\tVal Acc: 0.7278\tmacro_f1: 0.7082\tlr: 0.0001000\n",
      "Epoch 11/60\tLoss: 0.6017\tAcc: 0.6934\tVal Loss: 0.5439\tVal Acc: 0.7405\tmacro_f1: 0.7255\tlr: 0.0001000\n",
      "Epoch 12/60\tLoss: 0.5831\tAcc: 0.7268\tVal Loss: 0.5636\tVal Acc: 0.7278\tmacro_f1: 0.7270\tlr: 0.0001000\n",
      "Epoch 13/60\tLoss: 0.5779\tAcc: 0.7226\tVal Loss: 0.5452\tVal Acc: 0.7342\tmacro_f1: 0.7256\tlr: 0.0001000\n",
      "Epoch 14/60\tLoss: 0.5618\tAcc: 0.7268\tVal Loss: 0.5391\tVal Acc: 0.7532\tmacro_f1: 0.7457\tlr: 0.0001000\n",
      "Epoch 15/60\tLoss: 0.5521\tAcc: 0.7348\tVal Loss: 0.5583\tVal Acc: 0.7532\tmacro_f1: 0.7404\tlr: 0.0001000\n",
      "Epoch 16/60\tLoss: 0.5499\tAcc: 0.7317\tVal Loss: 0.5443\tVal Acc: 0.7405\tmacro_f1: 0.7197\tlr: 0.0001000\n",
      "Epoch 17/60\tLoss: 0.5612\tAcc: 0.7390\tVal Loss: 0.5254\tVal Acc: 0.7785\tmacro_f1: 0.7696\tlr: 0.0001000\n",
      "Epoch 18/60\tLoss: 0.5487\tAcc: 0.7314\tVal Loss: 0.5093\tVal Acc: 0.7532\tmacro_f1: 0.7495\tlr: 0.0001000\n",
      "Epoch 19/60\tLoss: 0.5536\tAcc: 0.7366\tVal Loss: 0.5700\tVal Acc: 0.7278\tmacro_f1: 0.7038\tlr: 0.0001000\n",
      "Epoch 20/60\tLoss: 0.5405\tAcc: 0.7314\tVal Loss: 0.5108\tVal Acc: 0.7595\tmacro_f1: 0.7547\tlr: 0.0001000\n",
      "Epoch 21/60\tLoss: 0.5268\tAcc: 0.7467\tVal Loss: 0.5038\tVal Acc: 0.7658\tmacro_f1: 0.7608\tlr: 0.0001000\n",
      "Epoch 22/60\tLoss: 0.5362\tAcc: 0.7408\tVal Loss: 0.5293\tVal Acc: 0.7595\tmacro_f1: 0.7563\tlr: 0.0001000\n",
      "Epoch 23/60\tLoss: 0.5394\tAcc: 0.7404\tVal Loss: 0.5188\tVal Acc: 0.7658\tmacro_f1: 0.7551\tlr: 0.0001000\n",
      "Epoch 24/60\tLoss: 0.5373\tAcc: 0.7481\tVal Loss: 0.4945\tVal Acc: 0.7595\tmacro_f1: 0.7563\tlr: 0.0001000\n",
      "Epoch 25/60\tLoss: 0.5426\tAcc: 0.7502\tVal Loss: 0.4990\tVal Acc: 0.7785\tmacro_f1: 0.7737\tlr: 0.0001000\n",
      "Epoch 26/60\tLoss: 0.5356\tAcc: 0.7491\tVal Loss: 0.5514\tVal Acc: 0.7468\tmacro_f1: 0.7295\tlr: 0.0001000\n",
      "Epoch 27/60\tLoss: 0.5243\tAcc: 0.7505\tVal Loss: 0.5269\tVal Acc: 0.7532\tmacro_f1: 0.7419\tlr: 0.0001000\n",
      "Epoch 28/60\tLoss: 0.5216\tAcc: 0.7554\tVal Loss: 0.5105\tVal Acc: 0.7911\tmacro_f1: 0.7858\tlr: 0.0001000\n",
      "Epoch 29/60\tLoss: 0.5219\tAcc: 0.7596\tVal Loss: 0.4990\tVal Acc: 0.7848\tmacro_f1: 0.7778\tlr: 0.0001000\n",
      "Epoch 30/60\tLoss: 0.5127\tAcc: 0.7544\tVal Loss: 0.5404\tVal Acc: 0.7658\tmacro_f1: 0.7537\tlr: 0.0001000\n",
      "Epoch 31/60\tLoss: 0.5230\tAcc: 0.7582\tVal Loss: 0.5407\tVal Acc: 0.7532\tmacro_f1: 0.7457\tlr: 0.0001000\n",
      "Epoch 32/60\tLoss: 0.5351\tAcc: 0.7523\tVal Loss: 0.5317\tVal Acc: 0.7848\tmacro_f1: 0.7768\tlr: 0.0001000\n",
      "Epoch 33/60\tLoss: 0.5315\tAcc: 0.7554\tVal Loss: 0.5006\tVal Acc: 0.7722\tmacro_f1: 0.7703\tlr: 0.0001000\n",
      "Epoch 34/60\tLoss: 0.5332\tAcc: 0.7488\tVal Loss: 0.5058\tVal Acc: 0.7785\tmacro_f1: 0.7728\tlr: 0.0001000\n",
      "Epoch 35/60\tLoss: 0.5198\tAcc: 0.7627\tVal Loss: 0.4944\tVal Acc: 0.7848\tmacro_f1: 0.7768\tlr: 0.0001000\n"
     ]
    }
   ],
   "source": [
    "for seed in seeds:\n",
    "    # Baseline model\n",
    "    print(f\"Training baseline model with seed {seed}\")\n",
    "    lstm = LSTM_network(f\"baseline_{seed}\",\n",
    "                        seed,\n",
    "                        detector,\n",
    "                        emb_model_augmented,\n",
    "                        hidden_dim=HIDDEN_DIM,\n",
    "                        output_dim=2,\n",
    "                        lstm_layers=1,\n",
    "                        dropout=0.4)\n",
    "\n",
    "    history = lstm.train(train, val, test, EPOCHS, BATCH_SIZE, LEARNING_RATE, weight_decay=1e-5, verbose=True)\n",
    "\n",
    "    # Save the predictions and labels inside the dict\n",
    "    predictions_dict[lstm.name] = {'val': {}, 'test': {}}\n",
    "    predictions_dict[lstm.name]['val'] = {'predictions': lstm.val_predictions, 'labels': lstm.val_labels}\n",
    "    predictions_dict[lstm.name]['test'] = {'predictions': lstm.test_predictions, 'labels': lstm.test_labels}\n",
    "\n",
    "    lstm.plot_history()\n",
    "\n",
    "    lstm_results_df.loc[len(lstm_results_df)] = [lstm.name, lstm.val_accuracy, lstm.val_f1, lstm.test_accuracy, lstm.test_f1,  lstm.network.lstm_layers]\n",
    "\n",
    "    # Clean up the cache and perform garbage collection\n",
    "    with torch.no_grad():\n",
    "        torch.cuda.empty_cache()\n",
    "\n",
    "    gc.collect()\n",
    "\n",
    "    # Model with two LSTM layers\n",
    "    print(f\"Training model with two LSTM layers with seed {seed}\")\n",
    "    lstm_2_layers = LSTM_network(f\"2_layers_{seed}\",\n",
    "                                 seed,\n",
    "                                 detector,\n",
    "                                 emb_model_augmented,\n",
    "                                 hidden_dim=HIDDEN_DIM,\n",
    "                                 output_dim=2,\n",
    "                                 lstm_layers=2,\n",
    "                                 dropout=0.4)\n",
    "\n",
    "    history = lstm_2_layers.train(train, val, test, EPOCHS, BATCH_SIZE, LEARNING_RATE, weight_decay=1e-5, verbose=True)\n",
    "\n",
    "    # Save the predictions and labels inside the dict\n",
    "    predictions_dict[lstm_2_layers.name] = {'val': {}, 'test': {}}\n",
    "    predictions_dict[lstm_2_layers.name]['val'] = {'predictions': lstm_2_layers.val_predictions, 'labels': lstm_2_layers.val_labels}\n",
    "    predictions_dict[lstm_2_layers.name]['test'] = {'predictions': lstm_2_layers.test_predictions, 'labels': lstm_2_layers.test_labels}\n",
    "\n",
    "    lstm_2_layers.plot_history()\n",
    "\n",
    "    lstm_results_df.loc[len(lstm_results_df)] = [lstm_2_layers.name, lstm_2_layers.val_accuracy, lstm_2_layers.val_f1, lstm_2_layers.test_accuracy, lstm_2_layers.test_f1,  lstm_2_layers.network.lstm_layers]\n",
    "\n",
    "    # Clean up the cache and perform garbage collection\n",
    "    with torch.no_grad():\n",
    "        torch.cuda.empty_cache()\n",
    "\n",
    "    gc.collect()"
   ]
  },
  {
   "cell_type": "markdown",
   "metadata": {},
   "source": [
    "The above charts show the loss and accuracy over the epochs for the three seeds and for both the 1 layer as well as the two layer LSTM models. Training and validation loss is shown in the first chart, while training and validation accuracy is shown in the second chart. Last chart accounts for the dynamic learning rate scheduler and thus shows when the learning rate was decreased due to the lack of improvement in the validation loss (plateau). Best epoch is also annotated in the charts (early stopping) and clearly shows that the model is not overfitting the training data.\n",
    "\n",
    "Talking about trends in these charts, we can see that 1 layer LSTM has a better convergence while the 2 layer LSTM has a better performance but starts to diverge after a certain number of epochs. This is due to the fact that the 2 layer LSTM has more parameters and is more complex than the 1 layer LSTM. The 2 layer LSTM is able to learn more complex patterns in the data but it is also more prone to overfitting even if we added a dropout layer. \n",
    "\n",
    "<div class=\"alert alert-info\">\n",
    "<b> Note: </b> There is no need to worry for such divergence since we are using early stopping and the model will stop training when the validation loss stops decreasing. At the end we are loading back the best model and we are evaluating it on the validation and test set.\n",
    "</div>"
   ]
  },
  {
   "cell_type": "markdown",
   "metadata": {
    "id": "sm9WV6qoV1Br"
   },
   "source": [
    "Now we can get the mean and the standard deviation of the performance of the model over the seeds. This is done to have a better idea of the performance of the model and to have a robust estimation of the performance of the model."
   ]
  },
  {
   "cell_type": "code",
   "execution_count": 38,
   "metadata": {
    "colab": {
     "base_uri": "https://localhost:8080/",
     "height": 238
    },
    "id": "Fjtmz4w8V1Br",
    "outputId": "64cf93fb-fef6-4db3-b623-cd3b7770d5a5"
   },
   "outputs": [
    {
     "data": {
      "text/html": [
       "<div>\n",
       "<style scoped>\n",
       "    .dataframe tbody tr th:only-of-type {\n",
       "        vertical-align: middle;\n",
       "    }\n",
       "\n",
       "    .dataframe tbody tr th {\n",
       "        vertical-align: top;\n",
       "    }\n",
       "\n",
       "    .dataframe thead th {\n",
       "        text-align: right;\n",
       "    }\n",
       "</style>\n",
       "<table border=\"1\" class=\"dataframe\">\n",
       "  <thead>\n",
       "    <tr style=\"text-align: right;\">\n",
       "      <th></th>\n",
       "      <th>name</th>\n",
       "      <th>val_accuracy</th>\n",
       "      <th>val_f1</th>\n",
       "      <th>test_accuracy</th>\n",
       "      <th>test_f1</th>\n",
       "      <th>layers</th>\n",
       "    </tr>\n",
       "  </thead>\n",
       "  <tbody>\n",
       "    <tr>\n",
       "      <th>0</th>\n",
       "      <td>baseline_1337</td>\n",
       "      <td>0.753165</td>\n",
       "      <td>0.750920</td>\n",
       "      <td>0.692308</td>\n",
       "      <td>0.691569</td>\n",
       "      <td>1</td>\n",
       "    </tr>\n",
       "    <tr>\n",
       "      <th>1</th>\n",
       "      <td>2_layers_1337</td>\n",
       "      <td>0.810127</td>\n",
       "      <td>0.803970</td>\n",
       "      <td>0.688811</td>\n",
       "      <td>0.688807</td>\n",
       "      <td>2</td>\n",
       "    </tr>\n",
       "    <tr>\n",
       "      <th>2</th>\n",
       "      <td>baseline_42</td>\n",
       "      <td>0.772152</td>\n",
       "      <td>0.766771</td>\n",
       "      <td>0.699301</td>\n",
       "      <td>0.699301</td>\n",
       "      <td>1</td>\n",
       "    </tr>\n",
       "    <tr>\n",
       "      <th>3</th>\n",
       "      <td>2_layers_42</td>\n",
       "      <td>0.816456</td>\n",
       "      <td>0.812482</td>\n",
       "      <td>0.664336</td>\n",
       "      <td>0.663282</td>\n",
       "      <td>2</td>\n",
       "    </tr>\n",
       "    <tr>\n",
       "      <th>4</th>\n",
       "      <td>baseline_69</td>\n",
       "      <td>0.778481</td>\n",
       "      <td>0.771818</td>\n",
       "      <td>0.671329</td>\n",
       "      <td>0.670749</td>\n",
       "      <td>1</td>\n",
       "    </tr>\n",
       "    <tr>\n",
       "      <th>5</th>\n",
       "      <td>2_layers_69</td>\n",
       "      <td>0.803797</td>\n",
       "      <td>0.799550</td>\n",
       "      <td>0.678322</td>\n",
       "      <td>0.678180</td>\n",
       "      <td>2</td>\n",
       "    </tr>\n",
       "  </tbody>\n",
       "</table>\n",
       "</div>"
      ],
      "text/plain": [
       "            name  val_accuracy    val_f1  test_accuracy   test_f1  layers\n",
       "0  baseline_1337      0.753165  0.750920       0.692308  0.691569       1\n",
       "1  2_layers_1337      0.810127  0.803970       0.688811  0.688807       2\n",
       "2    baseline_42      0.772152  0.766771       0.699301  0.699301       1\n",
       "3    2_layers_42      0.816456  0.812482       0.664336  0.663282       2\n",
       "4    baseline_69      0.778481  0.771818       0.671329  0.670749       1\n",
       "5    2_layers_69      0.803797  0.799550       0.678322  0.678180       2"
      ]
     },
     "execution_count": 38,
     "metadata": {},
     "output_type": "execute_result"
    }
   ],
   "source": [
    "lstm_results_df"
   ]
  },
  {
   "cell_type": "code",
   "execution_count": 39,
   "metadata": {
    "colab": {
     "base_uri": "https://localhost:8080/",
     "height": 129
    },
    "id": "2i-J7vftV1Br",
    "outputId": "516d9277-9b9b-4f66-e4f2-dee43c358c9d"
   },
   "outputs": [
    {
     "name": "stdout",
     "output_type": "stream",
     "text": [
      "Results for the baseline model:\n"
     ]
    },
    {
     "data": {
      "text/html": [
       "<div>\n",
       "<style scoped>\n",
       "    .dataframe tbody tr th:only-of-type {\n",
       "        vertical-align: middle;\n",
       "    }\n",
       "\n",
       "    .dataframe tbody tr th {\n",
       "        vertical-align: top;\n",
       "    }\n",
       "\n",
       "    .dataframe thead th {\n",
       "        text-align: right;\n",
       "    }\n",
       "</style>\n",
       "<table border=\"1\" class=\"dataframe\">\n",
       "  <thead>\n",
       "    <tr style=\"text-align: right;\">\n",
       "      <th></th>\n",
       "      <th>val_accuracy</th>\n",
       "      <th>val_f1</th>\n",
       "      <th>test_accuracy</th>\n",
       "      <th>test_f1</th>\n",
       "    </tr>\n",
       "  </thead>\n",
       "  <tbody>\n",
       "    <tr>\n",
       "      <th>mean</th>\n",
       "      <td>0.767932</td>\n",
       "      <td>0.763169</td>\n",
       "      <td>0.687646</td>\n",
       "      <td>0.687206</td>\n",
       "    </tr>\n",
       "    <tr>\n",
       "      <th>std</th>\n",
       "      <td>0.013175</td>\n",
       "      <td>0.010905</td>\n",
       "      <td>0.014557</td>\n",
       "      <td>0.014767</td>\n",
       "    </tr>\n",
       "  </tbody>\n",
       "</table>\n",
       "</div>"
      ],
      "text/plain": [
       "      val_accuracy    val_f1  test_accuracy   test_f1\n",
       "mean      0.767932  0.763169       0.687646  0.687206\n",
       "std       0.013175  0.010905       0.014557  0.014767"
      ]
     },
     "execution_count": 39,
     "metadata": {},
     "output_type": "execute_result"
    }
   ],
   "source": [
    "lstm_results_df_index = lstm_results_df.set_index('name')\n",
    "print('Results for the baseline model:')\n",
    "lstm_results_df_index[lstm_results_df_index['layers'] == 1].agg(['mean', 'std']).drop(columns='layers')"
   ]
  },
  {
   "cell_type": "code",
   "execution_count": 40,
   "metadata": {
    "colab": {
     "base_uri": "https://localhost:8080/",
     "height": 129
    },
    "id": "CXwWfKRaV1Br",
    "outputId": "004bba8c-7560-4da5-fc8e-33bd00585a1c"
   },
   "outputs": [
    {
     "name": "stdout",
     "output_type": "stream",
     "text": [
      "Results for the model with two LSTM layers:\n"
     ]
    },
    {
     "data": {
      "text/html": [
       "<div>\n",
       "<style scoped>\n",
       "    .dataframe tbody tr th:only-of-type {\n",
       "        vertical-align: middle;\n",
       "    }\n",
       "\n",
       "    .dataframe tbody tr th {\n",
       "        vertical-align: top;\n",
       "    }\n",
       "\n",
       "    .dataframe thead th {\n",
       "        text-align: right;\n",
       "    }\n",
       "</style>\n",
       "<table border=\"1\" class=\"dataframe\">\n",
       "  <thead>\n",
       "    <tr style=\"text-align: right;\">\n",
       "      <th></th>\n",
       "      <th>val_accuracy</th>\n",
       "      <th>val_f1</th>\n",
       "      <th>test_accuracy</th>\n",
       "      <th>test_f1</th>\n",
       "    </tr>\n",
       "  </thead>\n",
       "  <tbody>\n",
       "    <tr>\n",
       "      <th>mean</th>\n",
       "      <td>0.810127</td>\n",
       "      <td>0.805334</td>\n",
       "      <td>0.677156</td>\n",
       "      <td>0.676756</td>\n",
       "    </tr>\n",
       "    <tr>\n",
       "      <th>std</th>\n",
       "      <td>0.006329</td>\n",
       "      <td>0.006573</td>\n",
       "      <td>0.012279</td>\n",
       "      <td>0.012822</td>\n",
       "    </tr>\n",
       "  </tbody>\n",
       "</table>\n",
       "</div>"
      ],
      "text/plain": [
       "      val_accuracy    val_f1  test_accuracy   test_f1\n",
       "mean      0.810127  0.805334       0.677156  0.676756\n",
       "std       0.006329  0.006573       0.012279  0.012822"
      ]
     },
     "execution_count": 40,
     "metadata": {},
     "output_type": "execute_result"
    }
   ],
   "source": [
    "print('Results for the model with two LSTM layers:')\n",
    "lstm_results_df_index[lstm_results_df_index['layers'] == 2].agg(['mean', 'std']).drop(columns='layers')"
   ]
  },
  {
   "cell_type": "markdown",
   "metadata": {},
   "source": [
    "As we can see the 2-layer LSTM model has a better performance than the 1-layer LSTM model and the standard deviation is also lower for the validation set. This means that the 2-layer LSTM model is more stable and has a better performance than the 1-layer LSTM model."
   ]
  },
  {
   "cell_type": "markdown",
   "metadata": {},
   "source": [
    "We will then extract the best model according to the f1 macro score on the validation set as required by the task."
   ]
  },
  {
   "cell_type": "code",
   "execution_count": 41,
   "metadata": {
    "colab": {
     "base_uri": "https://localhost:8080/"
    },
    "id": "Lymh_aqRV1Bs",
    "outputId": "5e365eb2-8deb-43bf-8d10-202112094e16"
   },
   "outputs": [
    {
     "name": "stdout",
     "output_type": "stream",
     "text": [
      "Best model: 2_layers_42 with f1 score: 0.8125\n"
     ]
    }
   ],
   "source": [
    "# Model with best f1 score (macro)\n",
    "\n",
    "best_model_name = lstm_results_df_index['val_f1'].idxmax()\n",
    "print(f\"Best model: {best_model_name} with f1 score: {lstm_results_df_index.loc[best_model_name, 'val_f1']:.4f}\")"
   ]
  },
  {
   "cell_type": "markdown",
   "metadata": {
    "id": "_849c_EG-bRK"
   },
   "source": [
    "# Task 6: Transformers\n",
    "\n",
    "In this section we will use a transformer model to perform the classification task. We will use the `Twitter-RoBERTa-base-hate` (https://huggingface.co/cardiffnlp/twitter-roberta-base-hate) model from the Hugging Face library. This model is trained on Twitter data and is fine-tuned for hate speech detection. We will use this model to perform the classification task and evaluate its performance."
   ]
  },
  {
   "cell_type": "markdown",
   "metadata": {},
   "source": [
    "Before moving on to the model definition, we slightly modify the Trainer class to be able to put the class weights in the training loop so that the loss is weighted according to the class weights. This is important to deal with the class imbalance in the dataset and to have a better performance of the model.\n",
    "\n",
    "<div class=\"alert alert-info\">\n",
    "<b> Note: </b> we did not find any argument in the Trainer class to pass the class weights to the training loop so we had to inherit the Trainer class and modify the loss function part to be able to pass the class weights to the training loop.\n",
    "</div>"
   ]
  },
  {
   "cell_type": "code",
   "execution_count": 42,
   "metadata": {
    "id": "PLBZoQYbWSjU"
   },
   "outputs": [],
   "source": [
    "# Since we know that there is a slightly imbalance in the dataset labels, instead of using the default Trainer class of HuggingFace, we can write a custom class inheriting from the Trainer class and override the `compute_loss` method to compute the loss with the class weights computed from the dataset labels. In this way the loss function will take into account the imbalance in the dataset labels and will give more importance to the minority class. The impact of this change is that the F1 and accuracy scores will be more similar to each other since the model will be trained to give more importance to the minority class w.r.t. the majority class.\n",
    "\n",
    "# Taken from https://github.com/huggingface/transformers/blob/main/src/transformers/trainer.py#L3700 (with some minor changes removing useless parts)\n",
    "class CustomTrainer(Trainer):\n",
    "    def __init__(self, class_weights, device, *args, **kwargs):\n",
    "        super().__init__(*args, **kwargs)\n",
    "        # You pass the class weights when instantiating the Trainer\n",
    "        self.class_weights = class_weights\n",
    "        self.device = device\n",
    "\n",
    "    def compute_loss(self, model, inputs, return_outputs=False, num_items_in_batch=None):\n",
    "        if self.label_smoother is not None and \"labels\" in inputs:\n",
    "            labels = inputs.pop(\"labels\")\n",
    "        else:\n",
    "            labels = None\n",
    "        outputs = model(**inputs)\n",
    "        if self.args.past_index >= 0:\n",
    "            self._past = outputs[self.args.past_index]\n",
    "\n",
    "        if labels is not None:\n",
    "            loss = self.label_smoother(outputs, labels)\n",
    "        else:\n",
    "            # We extract the logits from the model outputs\n",
    "            logits = outputs.get('logits')\n",
    "            # We compute the loss manually passing the class weights to the loss function\n",
    "            criterion = torch.nn.CrossEntropyLoss(weight=self.class_weights.to(self.device)) # Modified to use the class weights\n",
    "            # We compute the loss using the modified criterion\n",
    "            loss = criterion(logits, inputs['labels'])\n",
    "\n",
    "        return (loss, outputs) if return_outputs else loss"
   ]
  },
  {
   "cell_type": "markdown",
   "metadata": {},
   "source": [
    "Then we extracted the train, val and test sets from the pandas dataframe and created the datasets.\n",
    "\n",
    "We specified the model card and the tokenizer to use for the model as well as the data collator to use for the model.\n",
    "\n",
    "Since we are using the cleaned data our preprocessing is minimal and we only need to tokenize the text and convert the labels to integers."
   ]
  },
  {
   "cell_type": "code",
   "execution_count": 43,
   "metadata": {
    "colab": {
     "base_uri": "https://localhost:8080/",
     "height": 113,
     "referenced_widgets": [
      "d16d783c5a974fad8c53672f8025e5db",
      "83d806dde2024e21b7eedc3e06d7ace7",
      "075954eb6698433ea3ff28f84c031cb3",
      "c3149bea92754bad8eb1f63a7de9a05b",
      "9d59491b329740c3b9bc458893c53909",
      "55e0e455726644c8a76e52c972c37a62",
      "d9b7740efd0f4a1a86a5beb08b850019",
      "bfe3e8ffd5b846e89640e0d526a88811",
      "5d81b3855ed345f3aa54e566c1a42354",
      "6ef062e99c2648ba9da2bccd76050dd1",
      "02d40d0867d04eafac27bd728008c862",
      "48aac34665234baab83bc78540b50c42",
      "7d3f145482ec47fca58df5ace1f2e6c6",
      "893605e6a5a840b89093905fe6121578",
      "e1d0065a79bb4cccb0fb86c03436c6b3",
      "35bffac2b4654b198cb5eac92ed6e9af",
      "33dc488dff5d4225845f3adc02523e47",
      "679a273cb0ff42bcaa04c2ee81d6e466",
      "fb83ccab31664a77b3bef17c5ab62768",
      "fe39cceb13b844778470a2bd332b131d",
      "8360bae8197247e386e54056c475dc84",
      "5b0fb6e9bae647e38c54262661d04749",
      "b330ebfcd2dd453baa46bdebc4b48c84",
      "9705ff889c2e4228998d509c6d6b3cc3",
      "0e2f1f938999473d9605db2573eef579",
      "193543f9f6fd4aadaaa0149891d1e8d2",
      "581b189ac418427fb7b6346a255c3cf3",
      "8b65db9770aa4b4c903766c12d8c2aa8",
      "8a291403e3cb488a8b07b6585b7672e8",
      "bae0f28f97ca4de096c5693c43f821f4",
      "2a488bf1e75e48a6843ab88496de3897",
      "3c6ee7a02b6c4332bd19cf1d24aa398d",
      "e015363a80e845679a234bed5cc64b55",
      "2dd321d527ba485c873edc041aa13ce3",
      "73e00b00271e418fa10e2e7d10d5632e",
      "d337a68b974f4633a2400948e86ad32b"
     ]
    },
    "id": "Q7rCMBLjYZ4w",
    "outputId": "1920e5f4-7a1b-4107-ce73-e691bdcbf2eb"
   },
   "outputs": [
    {
     "data": {
      "application/vnd.jupyter.widget-view+json": {
       "model_id": "5ade9a1712fc4e1bb17ec0f8928327f1",
       "version_major": 2,
       "version_minor": 0
      },
      "text/plain": [
       "Map:   0%|          | 0/2870 [00:00<?, ? examples/s]"
      ]
     },
     "metadata": {},
     "output_type": "display_data"
    },
    {
     "data": {
      "application/vnd.jupyter.widget-view+json": {
       "model_id": "b5ff9b45573a4ebf985f46ab36fb4009",
       "version_major": 2,
       "version_minor": 0
      },
      "text/plain": [
       "Map:   0%|          | 0/158 [00:00<?, ? examples/s]"
      ]
     },
     "metadata": {},
     "output_type": "display_data"
    },
    {
     "data": {
      "application/vnd.jupyter.widget-view+json": {
       "model_id": "049c026d212741c59916d4dccb2a475d",
       "version_major": 2,
       "version_minor": 0
      },
      "text/plain": [
       "Map:   0%|          | 0/286 [00:00<?, ? examples/s]"
      ]
     },
     "metadata": {},
     "output_type": "display_data"
    }
   ],
   "source": [
    "# Get the train, val and test datasets\n",
    "train_data = Dataset.from_pandas(train)\n",
    "val_data = Dataset.from_pandas(val)\n",
    "test_data = Dataset.from_pandas(test)\n",
    "\n",
    "# Define the model card\n",
    "model_card = 'cardiffnlp/twitter-roberta-base-hate'\n",
    "\n",
    "# Get the tokenizer\n",
    "tokenizer = AutoTokenizer.from_pretrained(model_card, use_Fast=False)\n",
    "\n",
    "def preprocess_text(texts):\n",
    "    return tokenizer(texts['tweet'])\n",
    "\n",
    "# Select the right column\n",
    "train_data = train_data.map(preprocess_text, batched=True)\n",
    "val_data = val_data.map(preprocess_text, batched=True)\n",
    "test_data = test_data.map(preprocess_text, batched=True)\n",
    "\n",
    "# Get the data collator\n",
    "data_collator = DataCollatorWithPadding(tokenizer=tokenizer)"
   ]
  },
  {
   "cell_type": "markdown",
   "metadata": {},
   "source": [
    "We also defined a function to compute the metrics for the model. This function computes the f1 macro score as well as the accuracy."
   ]
  },
  {
   "cell_type": "code",
   "execution_count": 44,
   "metadata": {
    "id": "WuBYi10XlMAz"
   },
   "outputs": [],
   "source": [
    "def compute_metrics(output_info):\n",
    "        \"\"\"\n",
    "        Compute various evaluation metrics for model predictions.\n",
    "\n",
    "        Args:\n",
    "            output_info (tuple): A tuple containing the model predictions and the true labels.\n",
    "                - predictions (np.ndarray): The predicted labels from the model.\n",
    "                - labels (np.ndarray): The true labels.\n",
    "\n",
    "        Returns:\n",
    "            dict: A dictionary containing the computed metrics:\n",
    "                - 'f1': The F1 score (macro average).\n",
    "                - 'accuracy': The accuracy score.\n",
    "                - 'precision': The precision score (macro average).\n",
    "                - 'recall': The recall score (macro average).\n",
    "        \"\"\"\n",
    "        predictions, labels = output_info\n",
    "        predictions = np.array(predictions)\n",
    "        labels = np.array(labels)\n",
    "        predictions = np.argmax(predictions, axis=-1)\n",
    "\n",
    "        f1 = f1_score(labels, predictions, average=\"macro\")\n",
    "        acc = accuracy_score(labels, predictions)\n",
    "\n",
    "        return {\"f1-score\" : f1, \"Accuracy\" : acc}"
   ]
  },
  {
   "cell_type": "markdown",
   "metadata": {},
   "source": [
    "Now we can define the model and the training loop for the model. \n",
    "\n",
    "We will train the model for 6 epochs and evaluate it on the validation and test set. We will also save the best model based on the f1 macro score on the test set.\n",
    "\n",
    "<div class=\"alert alert-info\">\n",
    "<b> Note: </b>To speedup the entire process we uploaded the model into Hugging Face repository and we will load it from there (if available) to avoid retraining the model every time we run the notebook. The training history is still available in the Hugging Face page of each of the models.\n",
    "</div>"
   ]
  },
  {
   "cell_type": "code",
   "execution_count": 45,
   "metadata": {
    "id": "2faoZk4OV1Bt"
   },
   "outputs": [],
   "source": [
    "def twitter_roberta_base(model_card: str, seed: int, class_weights: torch.Tensor, train_data: Dataset, val_data: Dataset, test_data: Dataset, data_collator, device: torch.device):\n",
    "\n",
    "    # Set the flag to False\n",
    "    already_fine_tuned = False\n",
    "\n",
    "    # Get model name\n",
    "    model_name = model_card.split('/')[-1]\n",
    "\n",
    "    # Clear the cache and perform garbage collection\n",
    "    with torch.no_grad():\n",
    "        torch.cuda.empty_cache()\n",
    "\n",
    "    gc.collect()\n",
    "\n",
    "    # Try to fetch the model from the HuggingFace Hub (if it exists)\n",
    "    try:\n",
    "        # Model already fine-tuned\n",
    "        model = AutoModelForSequenceClassification.from_pretrained(f'MatteoFasulo/{model_name}_{seed}', num_labels=2, id2label={0: 'NEG', 1: 'POS'}, label2id={'NEG': 0, 'POS': 1})\n",
    "        already_fine_tuned = True\n",
    "\n",
    "    except:\n",
    "        model = AutoModelForSequenceClassification.from_pretrained(model_card, num_labels=2, id2label={0: 'NEG', 1: 'POS'}, label2id={'NEG': 0, 'POS': 1})\n",
    "\n",
    "    # Get the training arguments\n",
    "    training_args = TrainingArguments(\n",
    "        output_dir=f'{model_name}_{seed}',                 # where to save model\n",
    "        learning_rate=ROBERTA_LEARNING_RATE,\n",
    "        per_device_train_batch_size=ROBERTA_BATCH_SIZE,         # accelerate defines distributed training\n",
    "        per_device_eval_batch_size=ROBERTA_BATCH_SIZE,\n",
    "        num_train_epochs=ROBERTA_EPOCHS,\n",
    "        weight_decay=1e-5,\n",
    "        eval_strategy=\"epoch\",           # when to report evaluation metrics/losses\n",
    "        save_strategy=\"epoch\",                 # when to save checkpoint\n",
    "        save_safetensors=True,           # save model with safe tensors\n",
    "        load_best_model_at_end=True,\n",
    "        report_to='none',                    # disabling wandb (default)\n",
    "        seed=seed,\n",
    "        data_seed=seed\n",
    "    )\n",
    "\n",
    "    # Get the trainer\n",
    "    trainer = CustomTrainer(\n",
    "                model=model,\n",
    "                args=training_args,\n",
    "                train_dataset=train_data,\n",
    "                eval_dataset=test_data,\n",
    "                data_collator=data_collator,\n",
    "                compute_metrics=compute_metrics,\n",
    "                class_weights=class_weights,\n",
    "                device=device,\n",
    "            )\n",
    "\n",
    "    if not already_fine_tuned:\n",
    "        # Train the model\n",
    "        trainer.train()\n",
    "\n",
    "    # Get the predictions for the validation set\n",
    "    val_predictions_info = trainer.predict(val_data)\n",
    "    val_predictions, val_labels = val_predictions_info.predictions, val_predictions_info.label_ids\n",
    "\n",
    "    # Transpose the predictions and get the argmax\n",
    "    val_predictions = np.argmax(val_predictions, axis=1)\n",
    "\n",
    "    # Get the predictions for the test set\n",
    "    test_predictions_info = trainer.predict(test_data)\n",
    "    test_predictions, test_labels = test_predictions_info.predictions, test_predictions_info.label_ids\n",
    "\n",
    "    # Transpose the predictions and get the argmax\n",
    "    test_predictions = np.argmax(test_predictions, axis=1)\n",
    "\n",
    "    # Update the predictions dict with the new predictions\n",
    "    predictions_dict[f'{model_name}_{seed}'] = {'val': {}, 'test': {}}\n",
    "    predictions_dict[f'{model_name}_{seed}']['val'] = {'predictions': val_predictions, 'labels': val_labels}\n",
    "    predictions_dict[f'{model_name}_{seed}']['test'] = {'predictions': test_predictions, 'labels': test_labels}\n",
    "\n",
    "    print(f\"Validation set metrics for model {model_name}_{seed}:\\n{val_predictions_info.metrics}\\n\")\n",
    "    print(f\"Test set metrics for model {model_name}_{seed}:\\n{test_predictions_info.metrics}\\n\")\n",
    "\n",
    "    if not already_fine_tuned:\n",
    "        # Push the model to HuggingFace Hub\n",
    "        trainer.push_to_hub()"
   ]
  },
  {
   "cell_type": "markdown",
   "metadata": {
    "id": "b_-7zWmXV1Bt"
   },
   "source": [
    "### Twitter roBERTa base hate model with seed 1337\n",
    "\n",
    "The first model we will train is the Twitter roBERTa base hate model with seed 1337. At the end of the training we will evaluate the model on the test set and compute the metrics for the model. In case this is the first time the model is trained, the model will be trained and saved in the Hugging Face repository. Otherwise, the model will be loaded from the Hugging Face repository and evaluated on the test set."
   ]
  },
  {
   "cell_type": "code",
   "execution_count": 46,
   "metadata": {
    "colab": {
     "base_uri": "https://localhost:8080/",
     "height": 571
    },
    "id": "rhElO07DYmEs",
    "outputId": "a73992c6-dae4-40a2-9b5b-b58ed3c0a99b"
   },
   "outputs": [
    {
     "data": {
      "text/html": [],
      "text/plain": [
       "<IPython.core.display.HTML object>"
      ]
     },
     "metadata": {},
     "output_type": "display_data"
    },
    {
     "data": {
      "text/html": [],
      "text/plain": [
       "<IPython.core.display.HTML object>"
      ]
     },
     "metadata": {},
     "output_type": "display_data"
    },
    {
     "name": "stdout",
     "output_type": "stream",
     "text": [
      "Validation set metrics for model twitter-roberta-base-hate_1337:\n",
      "{'test_loss': 0.4069879353046417, 'test_model_preparation_time': 0.0057, 'test_f1-score': 0.8949468085106382, 'test_Accuracy': 0.8987341772151899, 'test_runtime': 0.3653, 'test_samples_per_second': 432.55, 'test_steps_per_second': 27.377}\n",
      "\n",
      "Test set metrics for model twitter-roberta-base-hate_1337:\n",
      "{'test_loss': 0.3619557023048401, 'test_model_preparation_time': 0.0057, 'test_f1-score': 0.8521053927604039, 'test_Accuracy': 0.8531468531468531, 'test_runtime': 0.4484, 'test_samples_per_second': 637.866, 'test_steps_per_second': 40.145}\n",
      "\n"
     ]
    }
   ],
   "source": [
    "twitter_roberta_base(\n",
    "    model_card = model_card,\n",
    "    seed = 1337,\n",
    "    class_weights = class_weights_tensor,\n",
    "    train_data = train_data,\n",
    "    val_data= val_data,\n",
    "    test_data = test_data,\n",
    "    data_collator = data_collator,\n",
    "    device=device\n",
    ")"
   ]
  },
  {
   "cell_type": "markdown",
   "metadata": {},
   "source": [
    "the same applies to the other seeds"
   ]
  },
  {
   "cell_type": "markdown",
   "metadata": {
    "id": "ZU5nMGuobUwu"
   },
   "source": [
    "### Twitter roBERTa base hate model with seed 42"
   ]
  },
  {
   "cell_type": "code",
   "execution_count": 47,
   "metadata": {
    "id": "RWh7ysqsbPyb",
    "outputId": "f6416501-c3a0-482e-cf1d-f2ebb9ca7d27"
   },
   "outputs": [
    {
     "data": {
      "text/html": [],
      "text/plain": [
       "<IPython.core.display.HTML object>"
      ]
     },
     "metadata": {},
     "output_type": "display_data"
    },
    {
     "data": {
      "text/html": [],
      "text/plain": [
       "<IPython.core.display.HTML object>"
      ]
     },
     "metadata": {},
     "output_type": "display_data"
    },
    {
     "name": "stdout",
     "output_type": "stream",
     "text": [
      "Validation set metrics for model twitter-roberta-base-hate_42:\n",
      "{'test_loss': 0.384492427110672, 'test_model_preparation_time': 0.0057, 'test_f1-score': 0.8818151595744681, 'test_Accuracy': 0.8860759493670886, 'test_runtime': 0.2628, 'test_samples_per_second': 601.109, 'test_steps_per_second': 38.045}\n",
      "\n",
      "Test set metrics for model twitter-roberta-base-hate_42:\n",
      "{'test_loss': 0.3668936491012573, 'test_model_preparation_time': 0.0057, 'test_f1-score': 0.8311688311688312, 'test_Accuracy': 0.8321678321678322, 'test_runtime': 0.442, 'test_samples_per_second': 647.108, 'test_steps_per_second': 40.727}\n",
      "\n"
     ]
    }
   ],
   "source": [
    "twitter_roberta_base(\n",
    "    model_card = model_card,\n",
    "    seed = 42,\n",
    "    class_weights = class_weights_tensor,\n",
    "    train_data = train_data,\n",
    "    val_data= val_data,\n",
    "    test_data = test_data,\n",
    "    data_collator = data_collator,\n",
    "    device=device\n",
    ")"
   ]
  },
  {
   "cell_type": "markdown",
   "metadata": {
    "id": "nfBko7wbbV8e"
   },
   "source": [
    "### Twitter roBERTa base hate model with seed 69"
   ]
  },
  {
   "cell_type": "code",
   "execution_count": 48,
   "metadata": {
    "colab": {
     "base_uri": "https://localhost:8080/",
     "height": 360,
     "referenced_widgets": [
      "9a10170fe57642989f8125359aeaf101",
      "3d0ba89e15964c428fb8bd72be557d33",
      "32f452a93c2f418e8bd0ead759a96550",
      "e69393fc38c242f3b1dc58be0095c5b8",
      "2909aba393124bb7885b3d40a4c668c1",
      "619c7c81da0141b39d65583386762047",
      "33629126ca424b9d84093f7e66206350",
      "e956d628e75249b39b7b801ead527388",
      "1d189704ed1b4e358835420caf344b52",
      "5295c26e4eef4d78bab14c501a711f1c",
      "574a5a0f6a5e4263ac3e0ab5da504173",
      "c8586b30e59e4a6684fb8536fbd00908",
      "069e704b4be74050af7644eb8bcdd368",
      "a0471c21ddbc4dc1bda369075c6520dc",
      "5e583effa29e448eb3986751c74079ab",
      "3228b1f888024be0b06aeda84b8502b0",
      "4c556ff080b547ea92df2590886ff7de",
      "bcddc48b44e84607834230f50cfc3300",
      "9c69dbd359cc48249d4bfc0a5b157a8a",
      "ca163663e94f4a64a6e46b0ba4d39209",
      "53fd188602e64f79ba5739c004b6d4a5",
      "82b7888ced5a43cfa31d373b909b25ab",
      "d01e275effee4d97ae46fbcc254d8a4e",
      "d22d776e09f34312b8886760a714cbd4",
      "8720a0d02edc4659900d762ae49d08c2",
      "96333ba152b24f02957084cf131f1237",
      "afc54e5939f64a6699447488058892c7",
      "d2bfdb108ddf4cd88cd12acd59f46957",
      "1c1d648d78434dc9ae4c604afc86abe8",
      "8745282fc0034fd2833eb514e44e00f8",
      "33cf4549d4b449c8b094774d212e453d",
      "6686346a90094ac9a608656a35ba768f",
      "304ae7e02a9b4bc9bb99a6dae5113b8f"
     ]
    },
    "id": "FUIAP8DDbYho",
    "outputId": "6354710c-fa45-4fa7-fc84-3b149416ab11"
   },
   "outputs": [
    {
     "data": {
      "text/html": [],
      "text/plain": [
       "<IPython.core.display.HTML object>"
      ]
     },
     "metadata": {},
     "output_type": "display_data"
    },
    {
     "data": {
      "text/html": [],
      "text/plain": [
       "<IPython.core.display.HTML object>"
      ]
     },
     "metadata": {},
     "output_type": "display_data"
    },
    {
     "name": "stdout",
     "output_type": "stream",
     "text": [
      "Validation set metrics for model twitter-roberta-base-hate_69:\n",
      "{'test_loss': 0.38436391949653625, 'test_model_preparation_time': 0.0058, 'test_f1-score': 0.8686835106382979, 'test_Accuracy': 0.8734177215189873, 'test_runtime': 0.2644, 'test_samples_per_second': 597.549, 'test_steps_per_second': 37.82}\n",
      "\n",
      "Test set metrics for model twitter-roberta-base-hate_69:\n",
      "{'test_loss': 0.3647672235965729, 'test_model_preparation_time': 0.0058, 'test_f1-score': 0.8345946078974246, 'test_Accuracy': 0.8356643356643356, 'test_runtime': 0.4427, 'test_samples_per_second': 646.081, 'test_steps_per_second': 40.662}\n",
      "\n"
     ]
    }
   ],
   "source": [
    "twitter_roberta_base(\n",
    "    model_card = model_card,\n",
    "    seed = 69,\n",
    "    class_weights = class_weights_tensor,\n",
    "    train_data = train_data,\n",
    "    val_data= val_data,\n",
    "    test_data = test_data,\n",
    "    data_collator = data_collator,\n",
    "    device=device\n",
    ")"
   ]
  },
  {
   "cell_type": "markdown",
   "metadata": {
    "id": "qoCoBkHN-bRK"
   },
   "source": [
    "# Task 7: Error Analysis\n",
    "\n",
    "In this section we will perform an error analysis of the models. We will analyze the errors made by the models and try to understand why the models are making these errors.\n",
    "\n",
    "We defined a class to perform the error analysis of the models. The class contains methods to perform the error analysis of the models and to plot the results of the error analysis. The class implements a method to aggregate all the predictions of the models (across seeds) and to compute the metrics for the aggregated predictions. The class also implements a method to plot the confusion matrix of the aggregated predictions.\n",
    "\n",
    "The method to aggreagate the predictions is quite straightforward. We just take the majority vote of the predictions of the models (across seeds) and use it as the final prediction. This is done to have a better estimation of the performance of the model and to have a better idea of the performance of the model."
   ]
  },
  {
   "cell_type": "code",
   "execution_count": 53,
   "metadata": {
    "id": "lD_5dNvWV1Bv"
   },
   "outputs": [],
   "source": [
    "class Metrics:\n",
    "    def __init__(self, predictions_dict: dict):\n",
    "        self.predictions_dict = predictions_dict\n",
    "        self.models = list(predictions_dict.keys())\n",
    "        self.ensembled_dict = {}\n",
    "\n",
    "    def majority_voting(self):\n",
    "        \"\"\"\n",
    "        Apply majority voting to the given predictions.\n",
    "\n",
    "        Args:\n",
    "            predictions (np.ndarray): The predictions to be aggregated.\n",
    "\n",
    "        Returns:\n",
    "            np.ndarray: The aggregated predictions based on majority voting.\n",
    "        \"\"\"\n",
    "        baseline_models = [model for model in self.models if model.startswith('baseline')]\n",
    "        two_lstms = [model for model in self.models if model.startswith('2_layers')]\n",
    "        roberta_models = [model for model in self.models if model.startswith('twitter')]\n",
    "        xlm_models = [model for model in self.models if model.startswith('xlm')]\n",
    "\n",
    "        threshold = len(baseline_models) // 2 + 1\n",
    "\n",
    "        # Stack vertically the predictions of the models\n",
    "        try:\n",
    "            # Get the predictions for the validation set\n",
    "            baseline_val_predictions = np.vstack([self.predictions_dict[model]['val']['predictions'] for model in baseline_models])\n",
    "            # Initialize the dictionary for the ensembled predictions\n",
    "            self.ensembled_dict['baseline'] = {'val': {}, 'test': {}}\n",
    "            # Sum the predictions for each class\n",
    "            val_colsum = np.sum(baseline_val_predictions, axis=0)\n",
    "            # Apply majority voting\n",
    "            val_majority_voting = (val_colsum >= threshold).astype(int)\n",
    "            # Save the ensembled predictions\n",
    "            self.ensembled_dict['baseline']['val'] = {'predictions': val_majority_voting, 'labels': self.predictions_dict[baseline_models[0]]['val']['labels']}\n",
    "            # Get the predictions for the test set\n",
    "            baseline_test_predictions = np.vstack([self.predictions_dict[model]['test']['predictions'] for model in baseline_models])\n",
    "            # Sum the predictions for each class\n",
    "            test_colsum = np.sum(baseline_test_predictions, axis=0)\n",
    "            # Apply majority voting\n",
    "            test_majority_voting = (test_colsum >= threshold).astype(int)\n",
    "            # Save the ensembled predictions\n",
    "            self.ensembled_dict['baseline']['test'] = {'predictions': test_majority_voting, 'labels': self.predictions_dict[baseline_models[0]]['test']['labels']}\n",
    "        except ValueError: # Models not trained\n",
    "            pass\n",
    "\n",
    "        try:\n",
    "            two_lstm_val_predictions = np.vstack([self.predictions_dict[model]['val']['predictions'] for model in two_lstms])\n",
    "            self.ensembled_dict['2_layers'] = {'val': {}, 'test': {}}\n",
    "            val_colsum = np.sum(two_lstm_val_predictions, axis=0)\n",
    "            val_majority_voting = (val_colsum >= threshold).astype(int)\n",
    "            self.ensembled_dict['2_layers']['val'] = {'predictions': val_majority_voting, 'labels': self.predictions_dict[two_lstms[0]]['val']['labels']}\n",
    "            two_lstm_test_predictions = np.vstack([self.predictions_dict[model]['test']['predictions'] for model in two_lstms])\n",
    "            test_colsum = np.sum(two_lstm_test_predictions, axis=0)\n",
    "            test_majority_voting = (test_colsum >= threshold).astype(int)\n",
    "            self.ensembled_dict['2_layers']['test'] = {'predictions': test_majority_voting, 'labels': self.predictions_dict[two_lstms[0]]['test']['labels']}\n",
    "        except ValueError: # Models not trained\n",
    "            pass\n",
    "\n",
    "        try:\n",
    "            roberta_val_predictions = np.vstack([self.predictions_dict[model]['val']['predictions'] for model in roberta_models])\n",
    "            self.ensembled_dict['twitter'] = {'val': {}, 'test': {}}\n",
    "            val_colsum = np.sum(roberta_val_predictions, axis=0)\n",
    "            val_majority_voting = (val_colsum >= threshold).astype(int)\n",
    "            self.ensembled_dict['twitter']['val'] = {'predictions': val_majority_voting, 'labels': self.predictions_dict[roberta_models[0]]['val']['labels']}\n",
    "            roberta_test_predictions = np.vstack([self.predictions_dict[model]['test']['predictions'] for model in roberta_models])\n",
    "            test_colsum = np.sum(roberta_test_predictions, axis=0)\n",
    "            test_majority_voting = (test_colsum >= threshold).astype(int)\n",
    "            self.ensembled_dict['twitter']['test'] = {'predictions': test_majority_voting, 'labels': self.predictions_dict[roberta_models[0]]['test']['labels']}\n",
    "        except ValueError: # Models not trained\n",
    "            pass\n",
    "\n",
    "        try:\n",
    "            xlm_val_predictions = np.vstack([self.predictions_dict[model]['val']['predictions'] for model in xlm_models])\n",
    "            self.ensembled_dict['xlm'] = {'val': {}, 'test': {}}\n",
    "            val_colsum = np.sum(xlm_val_predictions, axis=0)\n",
    "            val_majority_voting = (val_colsum >= threshold).astype(int)\n",
    "            self.ensembled_dict['xlm']['val'] = {'predictions': val_majority_voting, 'labels': self.predictions_dict[xlm_models[0]]['val']['labels']}\n",
    "            xlm_test_predictions = np.vstack([self.predictions_dict[model]['test']['predictions'] for model in xlm_models])\n",
    "            test_colsum = np.sum(xlm_test_predictions, axis=0)\n",
    "            test_majority_voting = (test_colsum >= threshold).astype(int)\n",
    "            self.ensembled_dict['xlm']['test'] = {'predictions': test_majority_voting, 'labels': self.predictions_dict[xlm_models[0]]['test']['labels']}\n",
    "        except ValueError: # Models not trained\n",
    "            pass\n",
    "\n",
    "\n",
    "    def get_confusion_matrix(self, predictions: np.ndarray, labels: np.ndarray, title: str, ax=None):\n",
    "        \"\"\"\n",
    "        Generates and displays a confusion matrix for the given predictions and labels.\n",
    "\n",
    "        Args:\n",
    "            predictions (numpy.ndarray): The predicted probabilities or logits for each class.\n",
    "            labels (numpy.ndarray): The true labels for the data.\n",
    "\n",
    "        Returns:\n",
    "            None: This function displays the confusion matrix plot and does not return any value.\n",
    "        \"\"\"\n",
    "        cm = confusion_matrix(y_true=labels, y_pred=predictions)\n",
    "        display = ConfusionMatrixDisplay(confusion_matrix=cm, display_labels=['Non-sexist', 'Sexist']).plot(cmap='viridis', ax=ax)\n",
    "        _ = display.ax_.set_title(title)\n",
    "        plt.savefig(detector.IMG_FOLDER / f'{title}.svg', format='svg')\n",
    "\n",
    "    def get_precision_recall(self, predictions: np.ndarray, labels: np.ndarray, model_name: str, plot_title: str, ax=None):\n",
    "        \"\"\"\n",
    "        Calculate and display the precision-recall curve for the given predictions and labels.\n",
    "\n",
    "        Args:\n",
    "            predictions (np.ndarray): The predicted probabilities or logits from the model.\n",
    "            labels (np.ndarray): The true labels for the data.\n",
    "\n",
    "        Returns:\n",
    "            None: This function displays the precision-recall curve using matplotlib.\n",
    "        \"\"\"\n",
    "        display = PrecisionRecallDisplay.from_predictions(y_true=labels, y_pred=predictions, name=model_name, plot_chance_level=True, ax=ax)\n",
    "        _ = display.ax_.set_title(plot_title)\n",
    "        plt.savefig(detector.IMG_FOLDER / f'{plot_title}.svg', format='svg')\n",
    "\n",
    "    def get_f1_score(self, predictions: np.ndarray, labels: np.ndarray):\n",
    "        \"\"\"\n",
    "        Calculate the F1 score for the given predictions and labels.\n",
    "\n",
    "        Args:\n",
    "            predictions (np.ndarray): The predicted probabilities or logits from the model.\n",
    "            labels (np.ndarray): The true labels for the data.\n",
    "\n",
    "        Returns:\n",
    "            float: The F1 score for the model predictions.\n",
    "        \"\"\"\n",
    "        return f1_score(y_true=labels, y_pred=predictions, average='macro')\n",
    "\n",
    "    def contains_OOV(self, text: str, tokenizer: AutoTokenizer):\n",
    "        \"\"\"\n",
    "        Return the out-of-vocabulary (OOV) words in a given text.\n",
    "        \"\"\"\n",
    "        vocab_words = list(tokenizer.vocab.keys())\n",
    "        return set(word for word in text.split() if word not in vocab_words)\n",
    "\n",
    "    def review_errors(self, preprocessed_data, predictions, labels, tokenizer: AutoTokenizer, verbose: bool = False):\n",
    "        \"\"\"\n",
    "        Analyzes and reviews errors in model predictions.\n",
    "\n",
    "        Args:\n",
    "            original_data (pd.DataFrame): The original dataset containing the true labels.\n",
    "            preprocessed_data (pd.DataFrame): The preprocessed dataset used for predictions.\n",
    "            predictions (np.ndarray): The model's predictions.\n",
    "            labels (np.ndarray): The true labels.\n",
    "            verbose (bool, optional): If True, prints detailed information about each error. Defaults to False.\n",
    "\n",
    "        Returns:\n",
    "            list: A list of tweet IDs where the model made incorrect predictions.\n",
    "\n",
    "        Prints:\n",
    "            - The total number of errors found.\n",
    "            - Detailed information about each error if verbose is True.\n",
    "            - The number and percentage of errors due to Out-Of-Vocabulary (OOV) words.\n",
    "        \"\"\"\n",
    "        # Store the missclassified samples\n",
    "        errors = []\n",
    "        for i, (pred, label) in enumerate(zip(predictions, labels)):\n",
    "            if pred != label: # If the prediction is incorrect\n",
    "                errors.append(i) # Store the index of the error\n",
    "\n",
    "        # Store the number of errors due to OOV words\n",
    "        errors_due_to_OOV = 0\n",
    "        # Store the ID of the wrong predictions\n",
    "        wrong_predictions = []\n",
    "        # Iterate over the errors\n",
    "        for i in errors:\n",
    "            # Get the tweet text\n",
    "            tweet_text = preprocessed_data['tweet'][i]\n",
    "            # Get the tweet ID of the error\n",
    "            exist_id = preprocessed_data['id_EXIST'][i]\n",
    "            # Append the ID to the wrong predictions list\n",
    "            wrong_predictions.append(exist_id)\n",
    "            # Check if the tweet contains OOV words\n",
    "            oov_found = self.contains_OOV(tweet_text, tokenizer)\n",
    "            # Remove from the set of OOV words the special tokens\n",
    "            oov_found = [word for word in oov_found if not word.startswith('<') and not word.endswith('>')]\n",
    "            if len(oov_found) > 0:\n",
    "                errors_due_to_OOV += 1\n",
    "            if verbose:\n",
    "                print(f\"\"\"\n",
    "                Contains OOV: {oov_found if len(oov_found) > 0 else 'No'}\n",
    "                Tweet: {tweet_text}\n",
    "                Predicted: {predictions[i]}\n",
    "                True Label: {labels[i]}\n",
    "                \"\"\")\n",
    "        print(f\"Errors due to OOV: {errors_due_to_OOV}, {errors_due_to_OOV / len(errors) * 100:.2f}%\\n\")\n",
    "        return wrong_predictions"
   ]
  },
  {
   "cell_type": "markdown",
   "metadata": {},
   "source": [
    "We will make subplots each with the confusion matrix of the aggregated models as well as the precision-recall curve of the aggregated models.\n",
    "\n",
    "To have better insights on the errors made by the model we will also print the tweets that are misclassified by the model. In this way we can see if the missclassified tweet contains any OOV words or if the model is making the error for some other reason."
   ]
  },
  {
   "cell_type": "code",
   "execution_count": 54,
   "metadata": {
    "colab": {
     "base_uri": "https://localhost:8080/",
     "height": 1000
    },
    "id": "CKvnjj5rV1Bv",
    "outputId": "71e475df-7327-42d4-ddb9-3333bf5a57a1"
   },
   "outputs": [],
   "source": [
    "metrics = Metrics(predictions_dict=predictions_dict)\n",
    "\n",
    "# Get the ensemble predictions\n",
    "metrics.majority_voting()"
   ]
  },
  {
   "cell_type": "markdown",
   "metadata": {},
   "source": [
    "### Metrics of the ensembled models"
   ]
  },
  {
   "cell_type": "code",
   "execution_count": 55,
   "metadata": {},
   "outputs": [
    {
     "name": "stdout",
     "output_type": "stream",
     "text": [
      "F1 for the validation set of ensembled models: {'baseline': 0.7805555555555556, '2_layers': 0.8117424709314269, 'twitter': 0.8818151595744681}\n",
      "Accuracy for the validation set of ensembled models: {'baseline': 0.7848101265822784, '2_layers': 0.8164556962025317, 'twitter': 0.8860759493670886}\n"
     ]
    }
   ],
   "source": [
    "# Calculate the F1 score for each of the ensembled models\n",
    "f1_scores_ensembled = {model_name: metrics.get_f1_score(metrics.ensembled_dict[model_name]['val']['predictions'], metrics.ensembled_dict[model_name]['val']['labels']) for model_name in metrics.ensembled_dict.keys()}\n",
    "accuracy_ensembled = {model_name: accuracy_score(metrics.ensembled_dict[model_name]['val']['labels'], metrics.ensembled_dict[model_name]['val']['predictions']) for model_name in metrics.ensembled_dict.keys()}\n",
    "print(f\"F1 for the validation set of ensembled models: {f1_scores_ensembled}\")\n",
    "print(f\"Accuracy for the validation set of ensembled models: {accuracy_ensembled}\")"
   ]
  },
  {
   "cell_type": "code",
   "execution_count": 56,
   "metadata": {},
   "outputs": [
    {
     "name": "stdout",
     "output_type": "stream",
     "text": [
      "F1 for the test set of ensembled models: {'baseline': 0.6990652376058337, '2_layers': 0.6747257585207469, 'twitter': 0.8414458365672469}\n",
      "Accuracy for the test set of ensembled models: {'baseline': 0.6993006993006993, '2_layers': 0.6748251748251748, 'twitter': 0.8426573426573427}\n"
     ]
    }
   ],
   "source": [
    "# Calculate the F1 score for each of the ensembled models\n",
    "f1_scores_ensembled = {model_name: metrics.get_f1_score(metrics.ensembled_dict[model_name]['test']['predictions'], metrics.ensembled_dict[model_name]['test']['labels']) for model_name in metrics.ensembled_dict.keys()}\n",
    "accuracy_ensembled = {model_name: accuracy_score(metrics.ensembled_dict[model_name]['test']['labels'], metrics.ensembled_dict[model_name]['test']['predictions']) for model_name in metrics.ensembled_dict.keys()}\n",
    "print(f\"F1 for the test set of ensembled models: {f1_scores_ensembled}\")\n",
    "print(f\"Accuracy for the test set of ensembled models: {accuracy_ensembled}\")"
   ]
  },
  {
   "cell_type": "markdown",
   "metadata": {},
   "source": [
    "### Validation Set"
   ]
  },
  {
   "cell_type": "code",
   "execution_count": 57,
   "metadata": {},
   "outputs": [
    {
     "data": {
      "image/png": "[encoded data removed]",
      "text/plain": [
       "<Figure size 2000x600 with 6 Axes>"
      ]
     },
     "metadata": {},
     "output_type": "display_data"
    }
   ],
   "source": [
    "fig, ax = plt.subplots(1, 3, figsize=(20, 6), sharey=True)\n",
    "\n",
    "# Plot the confusion matrix for each of the models Cardiff Twitter RoBERTa Base on the validation set\n",
    "for i, model_name in enumerate(list(metrics.ensembled_dict.keys())):\n",
    "    predictions = metrics.ensembled_dict[model_name]['val']['predictions']\n",
    "    labels = metrics.ensembled_dict[model_name]['val']['labels']\n",
    "    metrics.get_confusion_matrix(predictions, labels, title=f\"Validation set - {model_name}\", ax=ax[i])"
   ]
  },
  {
   "cell_type": "markdown",
   "metadata": {},
   "source": [
    "From the confusion matrix we can see that:\n",
    "- the baseline LSTM model missclassifies equally both the sexist and non-sexist tweets\n",
    "- the two layer LSTM model has a better performance than the baseline model but still missclassifies some tweets. In this case the model fails more on detecting real sexist tweets annotating them as non-sexist (bottom left corner of the confusion matrix)\n",
    "- the transformer model has a better performance than the LSTM models but shows the same pattern of the two layer LSTM model. It missclassifies more sexist tweets than non-sexist tweets."
   ]
  },
  {
   "cell_type": "code",
   "execution_count": 58,
   "metadata": {},
   "outputs": [
    {
     "data": {
      "image/png": "[encoded data removed]",
      "text/plain": [
       "<Figure size 2000x600 with 3 Axes>"
      ]
     },
     "metadata": {},
     "output_type": "display_data"
    }
   ],
   "source": [
    "fig, ax = plt.subplots(1, 3, figsize=(20, 6), sharey=True)\n",
    "\n",
    "# Plot the precision-recall curve for each of the models Cardiff Twitter RoBERTa Base\n",
    "for i, model_name in enumerate(list(metrics.ensembled_dict.keys())):\n",
    "    predictions = metrics.ensembled_dict[model_name]['val']['predictions']\n",
    "    labels = metrics.ensembled_dict[model_name]['val']['labels']\n",
    "    metrics.get_precision_recall(predictions, labels, model_name, f\"Precision-Recall Curve - Validation set - {model_name}\", ax=ax[i])"
   ]
  },
  {
   "cell_type": "markdown",
   "metadata": {},
   "source": [
    "* the baseline model, the Precision-Recall curve shows moderate performance (AP = 0.67).\n",
    "* the two layer LSTM model, the Precision-Recall curve shows improvement (AP = 0.71). The confusion matrix reveals a tendency to misclassify sexist tweets as non-sexist, indicating a bias towards false negatives.\n",
    "* the transformer model, the Precision-Recall curve shows the best performance (AP = 0.82). Despite its superior performance, the confusion matrix indicates it still struggles more with identifying sexist tweets, similar to the two-layer LSTM model.\n",
    "\n",
    "The Transformer model is the most effective overall, but all models have a tendency to misclassify sexist tweets as non-sexist. Improving the detection of sexist tweets could involve further model tuning or incorporating additional features to address this bias."
   ]
  },
  {
   "cell_type": "markdown",
   "metadata": {},
   "source": [
    "### Test set"
   ]
  },
  {
   "cell_type": "code",
   "execution_count": 59,
   "metadata": {},
   "outputs": [
    {
     "data": {
      "image/png": "[encoded data removed]",
      "text/plain": [
       "<Figure size 2000x600 with 6 Axes>"
      ]
     },
     "metadata": {},
     "output_type": "display_data"
    }
   ],
   "source": [
    "fig, ax = plt.subplots(1, 3, figsize=(20, 6), sharey=True)\n",
    "\n",
    "# Plot the confusion matrix for each of the models Cardiff Twitter RoBERTa Base on the test set\n",
    "for i, model_name in enumerate(list(metrics.ensembled_dict.keys())):\n",
    "    predictions = metrics.ensembled_dict[model_name]['test']['predictions']\n",
    "    labels = metrics.ensembled_dict[model_name]['test']['labels']\n",
    "    metrics.get_confusion_matrix(predictions, labels, title=f\"Test set - {model_name}\", ax=ax[i])"
   ]
  },
  {
   "cell_type": "code",
   "execution_count": 60,
   "metadata": {},
   "outputs": [
    {
     "data": {
      "image/png": "[encoded data removed]",
      "text/plain": [
       "<Figure size 2000x600 with 3 Axes>"
      ]
     },
     "metadata": {},
     "output_type": "display_data"
    }
   ],
   "source": [
    "fig, ax = plt.subplots(1, 3, figsize=(20, 6), sharey=True)\n",
    "\n",
    "# Plot the precision-recall curve for each of the models Cardiff Twitter RoBERTa Base\n",
    "for i, model_name in enumerate(list(metrics.ensembled_dict.keys())):\n",
    "    predictions = metrics.ensembled_dict[model_name]['test']['predictions']\n",
    "    labels = metrics.ensembled_dict[model_name]['test']['labels']\n",
    "    metrics.get_precision_recall(predictions, labels, model_name, f\"Precision-Recall Curve - Test set - {model_name}\", ax=ax[i])"
   ]
  },
  {
   "cell_type": "code",
   "execution_count": 61,
   "metadata": {},
   "outputs": [
    {
     "data": {
      "text/plain": [
       "((2870, 4), (158, 4), (286, 4))"
      ]
     },
     "execution_count": 61,
     "metadata": {},
     "output_type": "execute_result"
    }
   ],
   "source": [
    "train.shape, val.shape, test.shape"
   ]
  },
  {
   "cell_type": "code",
   "execution_count": 62,
   "metadata": {},
   "outputs": [
    {
     "data": {
      "text/plain": [
       "(label\n",
       " 0    0.603833\n",
       " 1    0.396167\n",
       " Name: proportion, dtype: float64,\n",
       " label\n",
       " 0    0.56962\n",
       " 1    0.43038\n",
       " Name: proportion, dtype: float64,\n",
       " label\n",
       " 0    0.559441\n",
       " 1    0.440559\n",
       " Name: proportion, dtype: float64)"
      ]
     },
     "execution_count": 62,
     "metadata": {},
     "output_type": "execute_result"
    }
   ],
   "source": [
    "train.label.value_counts(normalize=True), val.label.value_counts(normalize=True), test.label.value_counts(normalize=True) "
   ]
  },
  {
   "cell_type": "markdown",
   "metadata": {},
   "source": [
    "The analysis of the confusion matrices and Precision-Recall curves for the test set reveals several insights. \n",
    "* The baseline LSTM model struggles with false positives, misclassifying many non-sexist tweets as sexist, and achieves a moderate average precision of 0.59.\n",
    "* The two-layer LSTM model shows a similar pattern, with slightly worse performance, indicated by an average precision of 0.57. \n",
    "* Both models have difficulty generalizing to the test set, likely due to its larger size and complexity.\n",
    "\n",
    "* The transformer model performs better overall, with an average precision of 0.75, but still misclassifies some non-sexist tweets. This suggests that while it is more effective than the LSTM models, there is still room for improvement, particularly in handling class imbalances.\n",
    "\n",
    "<div class=\"alert alert-info\">\n",
    "<b> Note: </b>The drop in performance from the validation to the test set for all models indicates challenges in generalization. This could be addressed by data augmentation, balancing techniques, or further model tuning. Enhancing feature representation might also help capture the nuances between classes, especially for non-sexist tweets. It can also be due to the fact that the test set incorporates a wider range of tweets, making it more challenging for the models to generalize effectively.\n",
    "</div>"
   ]
  },
  {
   "cell_type": "markdown",
   "metadata": {},
   "source": [
    "### Misclassified tweets (test set)\n",
    "\n",
    "The analysis of the misclassified tweets revealed that the majority of the misclassifications were due to the presence of OOV words. The models struggled to classify tweets containing slang, misspelled words, or uncommon terms, leading to misclassifications. This suggests that improving the handling of OOV words could enhance the models' performance.\n",
    "\n",
    "In order to detect if the model is failing to classify the tweets because of the presence of OOV words we will print the misclassified tweets and see if they contain any OOV words. We also removed the special tokens as to be sure that the OOV words are not the special tokens but rather real OOV words."
   ]
  },
  {
   "cell_type": "code",
   "execution_count": 63,
   "metadata": {},
   "outputs": [
    {
     "name": "stdout",
     "output_type": "stream",
     "text": [
      "Errors for model baseline\n",
      "Errors due to OOV: 86, 100.00%\n",
      "\n",
      "Errors for model 2_layers\n",
      "Errors due to OOV: 93, 100.00%\n",
      "\n",
      "Errors for model twitter\n",
      "Errors due to OOV: 44, 97.78%\n",
      "\n"
     ]
    }
   ],
   "source": [
    "wrong_ids_models = []\n",
    "\n",
    "for model_name in metrics.ensembled_dict.keys():\n",
    "    print(f\"Errors for model {model_name}\")\n",
    "    wrong_tweet_ids = metrics.review_errors(preprocessed_data=test_data, predictions=metrics.ensembled_dict[model_name]['test']['predictions'], labels=metrics.ensembled_dict[model_name]['test']['labels'], tokenizer=tokenizer, verbose=False)\n",
    "    wrong_ids_models.append(wrong_tweet_ids)"
   ]
  },
  {
   "cell_type": "markdown",
   "metadata": {},
   "source": [
    "### Sexism category analysis (baseline LSTM model)"
   ]
  },
  {
   "cell_type": "markdown",
   "metadata": {},
   "source": [
    "Now given the results of the models we can perform an error analysis to understand the reasons why the models are failing to classify the tweets. We will use the ID of the misclassified tweets to retrieve the original example before the preprocessing and see if the model is failing to classify the tweets because of any specific reason."
   ]
  },
  {
   "cell_type": "code",
   "execution_count": 64,
   "metadata": {},
   "outputs": [
    {
     "data": {
      "text/html": [
       "<div>\n",
       "<style scoped>\n",
       "    .dataframe tbody tr th:only-of-type {\n",
       "        vertical-align: middle;\n",
       "    }\n",
       "\n",
       "    .dataframe tbody tr th {\n",
       "        vertical-align: top;\n",
       "    }\n",
       "\n",
       "    .dataframe thead th {\n",
       "        text-align: right;\n",
       "    }\n",
       "</style>\n",
       "<table border=\"1\" class=\"dataframe\">\n",
       "  <thead>\n",
       "    <tr style=\"text-align: right;\">\n",
       "      <th></th>\n",
       "      <th>id_EXIST</th>\n",
       "      <th>lang</th>\n",
       "      <th>tweet</th>\n",
       "      <th>number_annotators</th>\n",
       "      <th>annotators</th>\n",
       "      <th>gender_annotators</th>\n",
       "      <th>age_annotators</th>\n",
       "      <th>labels_task1</th>\n",
       "      <th>labels_task2</th>\n",
       "      <th>labels_task3</th>\n",
       "      <th>split</th>\n",
       "    </tr>\n",
       "  </thead>\n",
       "  <tbody>\n",
       "    <tr>\n",
       "      <th>400180</th>\n",
       "      <td>400180</td>\n",
       "      <td>en</td>\n",
       "      <td>@KNasFanFic 🥺💖 same, though!!! the angst just ...</td>\n",
       "      <td>6</td>\n",
       "      <td>[Annotator_795, Annotator_796, Annotator_797, ...</td>\n",
       "      <td>[F, F, F, M, M, M]</td>\n",
       "      <td>[18-22, 23-45, 46+, 18-22, 23-45, 46+]</td>\n",
       "      <td>[NO, NO, NO, NO, NO, NO]</td>\n",
       "      <td>[-, -, -, -, -, -]</td>\n",
       "      <td>[[-], [-], [-], [-], [-], [-]]</td>\n",
       "      <td>DEV_EN</td>\n",
       "    </tr>\n",
       "    <tr>\n",
       "      <th>400185</th>\n",
       "      <td>400185</td>\n",
       "      <td>en</td>\n",
       "      <td>“I mean I do, but… wouldn’t it be fun to get g...</td>\n",
       "      <td>6</td>\n",
       "      <td>[Annotator_785, Annotator_786, Annotator_787, ...</td>\n",
       "      <td>[F, F, F, M, M, M]</td>\n",
       "      <td>[18-22, 23-45, 46+, 18-22, 23-45, 46+]</td>\n",
       "      <td>[NO, NO, NO, NO, YES, YES]</td>\n",
       "      <td>[-, -, -, -, DIRECT, DIRECT]</td>\n",
       "      <td>[[-], [-], [-], [-], [SEXUAL-VIOLENCE], [OBJEC...</td>\n",
       "      <td>DEV_EN</td>\n",
       "    </tr>\n",
       "    <tr>\n",
       "      <th>400187</th>\n",
       "      <td>400187</td>\n",
       "      <td>en</td>\n",
       "      <td>@LogicalFallac18 @LBC Sex* as in 'gender' hara...</td>\n",
       "      <td>6</td>\n",
       "      <td>[Annotator_791, Annotator_122, Annotator_396, ...</td>\n",
       "      <td>[F, F, F, M, M, M]</td>\n",
       "      <td>[18-22, 23-45, 46+, 18-22, 23-45, 46+]</td>\n",
       "      <td>[NO, YES, NO, NO, NO, NO]</td>\n",
       "      <td>[-, REPORTED, -, -, -, -]</td>\n",
       "      <td>[[-], [IDEOLOGICAL-INEQUALITY, SEXUAL-VIOLENCE...</td>\n",
       "      <td>DEV_EN</td>\n",
       "    </tr>\n",
       "    <tr>\n",
       "      <th>400192</th>\n",
       "      <td>400192</td>\n",
       "      <td>en</td>\n",
       "      <td>\"𝐄𝐧𝐠𝐥𝐢𝐬𝐡 𝟏𝟎: Gender, Gender Identity, &amp;amp; Se...</td>\n",
       "      <td>6</td>\n",
       "      <td>[Annotator_795, Annotator_796, Annotator_797, ...</td>\n",
       "      <td>[F, F, F, M, M, M]</td>\n",
       "      <td>[18-22, 23-45, 46+, 18-22, 23-45, 46+]</td>\n",
       "      <td>[NO, YES, NO, NO, YES, NO]</td>\n",
       "      <td>[-, JUDGEMENTAL, -, -, REPORTED, -]</td>\n",
       "      <td>[[-], [IDEOLOGICAL-INEQUALITY], [-], [-], [IDE...</td>\n",
       "      <td>DEV_EN</td>\n",
       "    </tr>\n",
       "    <tr>\n",
       "      <th>400194</th>\n",
       "      <td>400194</td>\n",
       "      <td>en</td>\n",
       "      <td>\"The violent antifeminism of a far-right movem...</td>\n",
       "      <td>6</td>\n",
       "      <td>[Annotator_780, Annotator_781, Annotator_782, ...</td>\n",
       "      <td>[F, F, F, M, M, M]</td>\n",
       "      <td>[18-22, 23-45, 46+, 18-22, 23-45, 46+]</td>\n",
       "      <td>[YES, YES, YES, YES, YES, NO]</td>\n",
       "      <td>[REPORTED, REPORTED, REPORTED, DIRECT, REPORTE...</td>\n",
       "      <td>[[IDEOLOGICAL-INEQUALITY, STEREOTYPING-DOMINAN...</td>\n",
       "      <td>DEV_EN</td>\n",
       "    </tr>\n",
       "  </tbody>\n",
       "</table>\n",
       "</div>"
      ],
      "text/plain": [
       "        id_EXIST lang                                              tweet  \\\n",
       "400180    400180   en  @KNasFanFic 🥺💖 same, though!!! the angst just ...   \n",
       "400185    400185   en  “I mean I do, but… wouldn’t it be fun to get g...   \n",
       "400187    400187   en  @LogicalFallac18 @LBC Sex* as in 'gender' hara...   \n",
       "400192    400192   en  \"𝐄𝐧𝐠𝐥𝐢𝐬𝐡 𝟏𝟎: Gender, Gender Identity, &amp; Se...   \n",
       "400194    400194   en  \"The violent antifeminism of a far-right movem...   \n",
       "\n",
       "        number_annotators                                         annotators  \\\n",
       "400180                  6  [Annotator_795, Annotator_796, Annotator_797, ...   \n",
       "400185                  6  [Annotator_785, Annotator_786, Annotator_787, ...   \n",
       "400187                  6  [Annotator_791, Annotator_122, Annotator_396, ...   \n",
       "400192                  6  [Annotator_795, Annotator_796, Annotator_797, ...   \n",
       "400194                  6  [Annotator_780, Annotator_781, Annotator_782, ...   \n",
       "\n",
       "         gender_annotators                          age_annotators  \\\n",
       "400180  [F, F, F, M, M, M]  [18-22, 23-45, 46+, 18-22, 23-45, 46+]   \n",
       "400185  [F, F, F, M, M, M]  [18-22, 23-45, 46+, 18-22, 23-45, 46+]   \n",
       "400187  [F, F, F, M, M, M]  [18-22, 23-45, 46+, 18-22, 23-45, 46+]   \n",
       "400192  [F, F, F, M, M, M]  [18-22, 23-45, 46+, 18-22, 23-45, 46+]   \n",
       "400194  [F, F, F, M, M, M]  [18-22, 23-45, 46+, 18-22, 23-45, 46+]   \n",
       "\n",
       "                         labels_task1  \\\n",
       "400180       [NO, NO, NO, NO, NO, NO]   \n",
       "400185     [NO, NO, NO, NO, YES, YES]   \n",
       "400187      [NO, YES, NO, NO, NO, NO]   \n",
       "400192     [NO, YES, NO, NO, YES, NO]   \n",
       "400194  [YES, YES, YES, YES, YES, NO]   \n",
       "\n",
       "                                             labels_task2  \\\n",
       "400180                                 [-, -, -, -, -, -]   \n",
       "400185                       [-, -, -, -, DIRECT, DIRECT]   \n",
       "400187                          [-, REPORTED, -, -, -, -]   \n",
       "400192                [-, JUDGEMENTAL, -, -, REPORTED, -]   \n",
       "400194  [REPORTED, REPORTED, REPORTED, DIRECT, REPORTE...   \n",
       "\n",
       "                                             labels_task3   split  \n",
       "400180                     [[-], [-], [-], [-], [-], [-]]  DEV_EN  \n",
       "400185  [[-], [-], [-], [-], [SEXUAL-VIOLENCE], [OBJEC...  DEV_EN  \n",
       "400187  [[-], [IDEOLOGICAL-INEQUALITY, SEXUAL-VIOLENCE...  DEV_EN  \n",
       "400192  [[-], [IDEOLOGICAL-INEQUALITY], [-], [-], [IDE...  DEV_EN  \n",
       "400194  [[IDEOLOGICAL-INEQUALITY, STEREOTYPING-DOMINAN...  DEV_EN  "
      ]
     },
     "execution_count": 64,
     "metadata": {},
     "output_type": "execute_result"
    }
   ],
   "source": [
    "error_df = test_copy[test_copy['id_EXIST'].isin(wrong_ids_models[0])]\n",
    "error_df.head()"
   ]
  },
  {
   "cell_type": "markdown",
   "metadata": {},
   "source": [
    "We can extract the label of task 3 to understand if the model is failing to classify some specific category of sexism or if it is failing to classify all the categories of sexism.\n",
    "\n",
    "The first explode is done to have the list of sexism categories in the dataframe. Since there are combinations of sexism categories in the same tweet, we need to explode the list of categories another time to have the single categories in the dataframe.\n",
    "\n",
    "In this way we can understand if the model is failing to classify some specific category of sexism and in case which category it is failing to classify."
   ]
  },
  {
   "cell_type": "code",
   "execution_count": 65,
   "metadata": {},
   "outputs": [
    {
     "data": {
      "image/png": "[encoded data removed]",
      "text/plain": [
       "<Figure size 640x480 with 1 Axes>"
      ]
     },
     "metadata": {},
     "output_type": "display_data"
    }
   ],
   "source": [
    "error_df['labels_task3'].explode().explode().value_counts(normalize=True, ascending=True).plot(kind='barh', title='Task 3 label in error set', alpha=0.7).set_xticklabels\n",
    "plt.grid()\n",
    "plt.savefig(detector.IMG_FOLDER / 'task3_error_set.svg', format='svg')\n",
    "plt.show()"
   ]
  },
  {
   "cell_type": "markdown",
   "metadata": {},
   "source": [
    "<div class=\"alert alert-info\">\n",
    "<b> Note: </b>From the analysis of the misclassified tweets, we can see that the baseline LSTM model detects very good the sexual violence in the tweets. All other categories are more or less equally misclassified by the models.\n",
    "</div>"
   ]
  },
  {
   "cell_type": "markdown",
   "metadata": {},
   "source": [
    "### Sexism category analysis (2 layer LSTM model)"
   ]
  },
  {
   "cell_type": "code",
   "execution_count": 66,
   "metadata": {},
   "outputs": [
    {
     "data": {
      "text/html": [
       "<div>\n",
       "<style scoped>\n",
       "    .dataframe tbody tr th:only-of-type {\n",
       "        vertical-align: middle;\n",
       "    }\n",
       "\n",
       "    .dataframe tbody tr th {\n",
       "        vertical-align: top;\n",
       "    }\n",
       "\n",
       "    .dataframe thead th {\n",
       "        text-align: right;\n",
       "    }\n",
       "</style>\n",
       "<table border=\"1\" class=\"dataframe\">\n",
       "  <thead>\n",
       "    <tr style=\"text-align: right;\">\n",
       "      <th></th>\n",
       "      <th>id_EXIST</th>\n",
       "      <th>lang</th>\n",
       "      <th>tweet</th>\n",
       "      <th>number_annotators</th>\n",
       "      <th>annotators</th>\n",
       "      <th>gender_annotators</th>\n",
       "      <th>age_annotators</th>\n",
       "      <th>labels_task1</th>\n",
       "      <th>labels_task2</th>\n",
       "      <th>labels_task3</th>\n",
       "      <th>split</th>\n",
       "    </tr>\n",
       "  </thead>\n",
       "  <tbody>\n",
       "    <tr>\n",
       "      <th>400180</th>\n",
       "      <td>400180</td>\n",
       "      <td>en</td>\n",
       "      <td>@KNasFanFic 🥺💖 same, though!!! the angst just ...</td>\n",
       "      <td>6</td>\n",
       "      <td>[Annotator_795, Annotator_796, Annotator_797, ...</td>\n",
       "      <td>[F, F, F, M, M, M]</td>\n",
       "      <td>[18-22, 23-45, 46+, 18-22, 23-45, 46+]</td>\n",
       "      <td>[NO, NO, NO, NO, NO, NO]</td>\n",
       "      <td>[-, -, -, -, -, -]</td>\n",
       "      <td>[[-], [-], [-], [-], [-], [-]]</td>\n",
       "      <td>DEV_EN</td>\n",
       "    </tr>\n",
       "    <tr>\n",
       "      <th>400184</th>\n",
       "      <td>400184</td>\n",
       "      <td>en</td>\n",
       "      <td>Suika gets gangbanged to death https://t.co/vn...</td>\n",
       "      <td>6</td>\n",
       "      <td>[Annotator_780, Annotator_781, Annotator_782, ...</td>\n",
       "      <td>[F, F, F, M, M, M]</td>\n",
       "      <td>[18-22, 23-45, 46+, 18-22, 23-45, 46+]</td>\n",
       "      <td>[YES, YES, YES, YES, YES, YES]</td>\n",
       "      <td>[DIRECT, REPORTED, REPORTED, DIRECT, DIRECT, R...</td>\n",
       "      <td>[[STEREOTYPING-DOMINANCE, OBJECTIFICATION, SEX...</td>\n",
       "      <td>DEV_EN</td>\n",
       "    </tr>\n",
       "    <tr>\n",
       "      <th>400185</th>\n",
       "      <td>400185</td>\n",
       "      <td>en</td>\n",
       "      <td>“I mean I do, but… wouldn’t it be fun to get g...</td>\n",
       "      <td>6</td>\n",
       "      <td>[Annotator_785, Annotator_786, Annotator_787, ...</td>\n",
       "      <td>[F, F, F, M, M, M]</td>\n",
       "      <td>[18-22, 23-45, 46+, 18-22, 23-45, 46+]</td>\n",
       "      <td>[NO, NO, NO, NO, YES, YES]</td>\n",
       "      <td>[-, -, -, -, DIRECT, DIRECT]</td>\n",
       "      <td>[[-], [-], [-], [-], [SEXUAL-VIOLENCE], [OBJEC...</td>\n",
       "      <td>DEV_EN</td>\n",
       "    </tr>\n",
       "    <tr>\n",
       "      <th>400187</th>\n",
       "      <td>400187</td>\n",
       "      <td>en</td>\n",
       "      <td>@LogicalFallac18 @LBC Sex* as in 'gender' hara...</td>\n",
       "      <td>6</td>\n",
       "      <td>[Annotator_791, Annotator_122, Annotator_396, ...</td>\n",
       "      <td>[F, F, F, M, M, M]</td>\n",
       "      <td>[18-22, 23-45, 46+, 18-22, 23-45, 46+]</td>\n",
       "      <td>[NO, YES, NO, NO, NO, NO]</td>\n",
       "      <td>[-, REPORTED, -, -, -, -]</td>\n",
       "      <td>[[-], [IDEOLOGICAL-INEQUALITY, SEXUAL-VIOLENCE...</td>\n",
       "      <td>DEV_EN</td>\n",
       "    </tr>\n",
       "    <tr>\n",
       "      <th>400192</th>\n",
       "      <td>400192</td>\n",
       "      <td>en</td>\n",
       "      <td>\"𝐄𝐧𝐠𝐥𝐢𝐬𝐡 𝟏𝟎: Gender, Gender Identity, &amp;amp; Se...</td>\n",
       "      <td>6</td>\n",
       "      <td>[Annotator_795, Annotator_796, Annotator_797, ...</td>\n",
       "      <td>[F, F, F, M, M, M]</td>\n",
       "      <td>[18-22, 23-45, 46+, 18-22, 23-45, 46+]</td>\n",
       "      <td>[NO, YES, NO, NO, YES, NO]</td>\n",
       "      <td>[-, JUDGEMENTAL, -, -, REPORTED, -]</td>\n",
       "      <td>[[-], [IDEOLOGICAL-INEQUALITY], [-], [-], [IDE...</td>\n",
       "      <td>DEV_EN</td>\n",
       "    </tr>\n",
       "  </tbody>\n",
       "</table>\n",
       "</div>"
      ],
      "text/plain": [
       "        id_EXIST lang                                              tweet  \\\n",
       "400180    400180   en  @KNasFanFic 🥺💖 same, though!!! the angst just ...   \n",
       "400184    400184   en  Suika gets gangbanged to death https://t.co/vn...   \n",
       "400185    400185   en  “I mean I do, but… wouldn’t it be fun to get g...   \n",
       "400187    400187   en  @LogicalFallac18 @LBC Sex* as in 'gender' hara...   \n",
       "400192    400192   en  \"𝐄𝐧𝐠𝐥𝐢𝐬𝐡 𝟏𝟎: Gender, Gender Identity, &amp; Se...   \n",
       "\n",
       "        number_annotators                                         annotators  \\\n",
       "400180                  6  [Annotator_795, Annotator_796, Annotator_797, ...   \n",
       "400184                  6  [Annotator_780, Annotator_781, Annotator_782, ...   \n",
       "400185                  6  [Annotator_785, Annotator_786, Annotator_787, ...   \n",
       "400187                  6  [Annotator_791, Annotator_122, Annotator_396, ...   \n",
       "400192                  6  [Annotator_795, Annotator_796, Annotator_797, ...   \n",
       "\n",
       "         gender_annotators                          age_annotators  \\\n",
       "400180  [F, F, F, M, M, M]  [18-22, 23-45, 46+, 18-22, 23-45, 46+]   \n",
       "400184  [F, F, F, M, M, M]  [18-22, 23-45, 46+, 18-22, 23-45, 46+]   \n",
       "400185  [F, F, F, M, M, M]  [18-22, 23-45, 46+, 18-22, 23-45, 46+]   \n",
       "400187  [F, F, F, M, M, M]  [18-22, 23-45, 46+, 18-22, 23-45, 46+]   \n",
       "400192  [F, F, F, M, M, M]  [18-22, 23-45, 46+, 18-22, 23-45, 46+]   \n",
       "\n",
       "                          labels_task1  \\\n",
       "400180        [NO, NO, NO, NO, NO, NO]   \n",
       "400184  [YES, YES, YES, YES, YES, YES]   \n",
       "400185      [NO, NO, NO, NO, YES, YES]   \n",
       "400187       [NO, YES, NO, NO, NO, NO]   \n",
       "400192      [NO, YES, NO, NO, YES, NO]   \n",
       "\n",
       "                                             labels_task2  \\\n",
       "400180                                 [-, -, -, -, -, -]   \n",
       "400184  [DIRECT, REPORTED, REPORTED, DIRECT, DIRECT, R...   \n",
       "400185                       [-, -, -, -, DIRECT, DIRECT]   \n",
       "400187                          [-, REPORTED, -, -, -, -]   \n",
       "400192                [-, JUDGEMENTAL, -, -, REPORTED, -]   \n",
       "\n",
       "                                             labels_task3   split  \n",
       "400180                     [[-], [-], [-], [-], [-], [-]]  DEV_EN  \n",
       "400184  [[STEREOTYPING-DOMINANCE, OBJECTIFICATION, SEX...  DEV_EN  \n",
       "400185  [[-], [-], [-], [-], [SEXUAL-VIOLENCE], [OBJEC...  DEV_EN  \n",
       "400187  [[-], [IDEOLOGICAL-INEQUALITY, SEXUAL-VIOLENCE...  DEV_EN  \n",
       "400192  [[-], [IDEOLOGICAL-INEQUALITY], [-], [-], [IDE...  DEV_EN  "
      ]
     },
     "execution_count": 66,
     "metadata": {},
     "output_type": "execute_result"
    }
   ],
   "source": [
    "error_df = test_copy[test_copy['id_EXIST'].isin(wrong_ids_models[1])]\n",
    "error_df.head()"
   ]
  },
  {
   "cell_type": "code",
   "execution_count": 67,
   "metadata": {},
   "outputs": [
    {
     "data": {
      "image/png": "[encoded data removed]",
      "text/plain": [
       "<Figure size 640x480 with 1 Axes>"
      ]
     },
     "metadata": {},
     "output_type": "display_data"
    }
   ],
   "source": [
    "error_df['labels_task3'].explode().explode().value_counts(normalize=True, ascending=True).plot(kind='barh', title='Task 3 label in error set', alpha=0.7).set_xticklabels\n",
    "plt.grid()\n",
    "plt.savefig(detector.IMG_FOLDER / 'task3_error_set.svg', format='svg')\n",
    "plt.show()"
   ]
  },
  {
   "cell_type": "markdown",
   "metadata": {},
   "source": [
    "<div class=\"alert alert-info\">\n",
    "<b> Note: </b>The same applies to the two layer LSTM model. The model detects very well the sexual violence in the tweets (less number of misclassified tweets) with the other categories being more or less equally misclassified by the model. Differences with the baseline model are not so big, categories are just in a different order in the barplot.\n",
    "</div>"
   ]
  },
  {
   "cell_type": "markdown",
   "metadata": {},
   "source": [
    "### Sexism category analysis (transformer model)"
   ]
  },
  {
   "cell_type": "code",
   "execution_count": 68,
   "metadata": {},
   "outputs": [
    {
     "data": {
      "text/html": [
       "<div>\n",
       "<style scoped>\n",
       "    .dataframe tbody tr th:only-of-type {\n",
       "        vertical-align: middle;\n",
       "    }\n",
       "\n",
       "    .dataframe tbody tr th {\n",
       "        vertical-align: top;\n",
       "    }\n",
       "\n",
       "    .dataframe thead th {\n",
       "        text-align: right;\n",
       "    }\n",
       "</style>\n",
       "<table border=\"1\" class=\"dataframe\">\n",
       "  <thead>\n",
       "    <tr style=\"text-align: right;\">\n",
       "      <th></th>\n",
       "      <th>id_EXIST</th>\n",
       "      <th>lang</th>\n",
       "      <th>tweet</th>\n",
       "      <th>number_annotators</th>\n",
       "      <th>annotators</th>\n",
       "      <th>gender_annotators</th>\n",
       "      <th>age_annotators</th>\n",
       "      <th>labels_task1</th>\n",
       "      <th>labels_task2</th>\n",
       "      <th>labels_task3</th>\n",
       "      <th>split</th>\n",
       "    </tr>\n",
       "  </thead>\n",
       "  <tbody>\n",
       "    <tr>\n",
       "      <th>400185</th>\n",
       "      <td>400185</td>\n",
       "      <td>en</td>\n",
       "      <td>“I mean I do, but… wouldn’t it be fun to get g...</td>\n",
       "      <td>6</td>\n",
       "      <td>[Annotator_785, Annotator_786, Annotator_787, ...</td>\n",
       "      <td>[F, F, F, M, M, M]</td>\n",
       "      <td>[18-22, 23-45, 46+, 18-22, 23-45, 46+]</td>\n",
       "      <td>[NO, NO, NO, NO, YES, YES]</td>\n",
       "      <td>[-, -, -, -, DIRECT, DIRECT]</td>\n",
       "      <td>[[-], [-], [-], [-], [SEXUAL-VIOLENCE], [OBJEC...</td>\n",
       "      <td>DEV_EN</td>\n",
       "    </tr>\n",
       "    <tr>\n",
       "      <th>400187</th>\n",
       "      <td>400187</td>\n",
       "      <td>en</td>\n",
       "      <td>@LogicalFallac18 @LBC Sex* as in 'gender' hara...</td>\n",
       "      <td>6</td>\n",
       "      <td>[Annotator_791, Annotator_122, Annotator_396, ...</td>\n",
       "      <td>[F, F, F, M, M, M]</td>\n",
       "      <td>[18-22, 23-45, 46+, 18-22, 23-45, 46+]</td>\n",
       "      <td>[NO, YES, NO, NO, NO, NO]</td>\n",
       "      <td>[-, REPORTED, -, -, -, -]</td>\n",
       "      <td>[[-], [IDEOLOGICAL-INEQUALITY, SEXUAL-VIOLENCE...</td>\n",
       "      <td>DEV_EN</td>\n",
       "    </tr>\n",
       "    <tr>\n",
       "      <th>400189</th>\n",
       "      <td>400189</td>\n",
       "      <td>en</td>\n",
       "      <td>Appreciate being included along with @wphillip...</td>\n",
       "      <td>6</td>\n",
       "      <td>[Annotator_776, Annotator_777, Annotator_195, ...</td>\n",
       "      <td>[F, F, F, M, M, M]</td>\n",
       "      <td>[18-22, 23-45, 46+, 18-22, 23-45, 46+]</td>\n",
       "      <td>[NO, NO, YES, YES, NO, NO]</td>\n",
       "      <td>[-, -, REPORTED, REPORTED, -, -]</td>\n",
       "      <td>[[-], [-], [OBJECTIFICATION], [STEREOTYPING-DO...</td>\n",
       "      <td>DEV_EN</td>\n",
       "    </tr>\n",
       "    <tr>\n",
       "      <th>400199</th>\n",
       "      <td>400199</td>\n",
       "      <td>en</td>\n",
       "      <td>@EyemotionFandom How did we reach a point wher...</td>\n",
       "      <td>6</td>\n",
       "      <td>[Annotator_780, Annotator_781, Annotator_782, ...</td>\n",
       "      <td>[F, F, F, M, M, M]</td>\n",
       "      <td>[18-22, 23-45, 46+, 18-22, 23-45, 46+]</td>\n",
       "      <td>[YES, YES, NO, NO, NO, NO]</td>\n",
       "      <td>[DIRECT, DIRECT, -, -, -, -]</td>\n",
       "      <td>[[IDEOLOGICAL-INEQUALITY, OBJECTIFICATION], [S...</td>\n",
       "      <td>DEV_EN</td>\n",
       "    </tr>\n",
       "    <tr>\n",
       "      <th>400202</th>\n",
       "      <td>400202</td>\n",
       "      <td>en</td>\n",
       "      <td>@Catoishere @HatClub @RahnniFitteds That gold ...</td>\n",
       "      <td>6</td>\n",
       "      <td>[Annotator_785, Annotator_786, Annotator_787, ...</td>\n",
       "      <td>[F, F, F, M, M, M]</td>\n",
       "      <td>[18-22, 23-45, 46+, 18-22, 23-45, 46+]</td>\n",
       "      <td>[NO, YES, YES, NO, YES, YES]</td>\n",
       "      <td>[-, DIRECT, DIRECT, -, DIRECT, REPORTED]</td>\n",
       "      <td>[[-], [STEREOTYPING-DOMINANCE, MISOGYNY-NON-SE...</td>\n",
       "      <td>DEV_EN</td>\n",
       "    </tr>\n",
       "  </tbody>\n",
       "</table>\n",
       "</div>"
      ],
      "text/plain": [
       "        id_EXIST lang                                              tweet  \\\n",
       "400185    400185   en  “I mean I do, but… wouldn’t it be fun to get g...   \n",
       "400187    400187   en  @LogicalFallac18 @LBC Sex* as in 'gender' hara...   \n",
       "400189    400189   en  Appreciate being included along with @wphillip...   \n",
       "400199    400199   en  @EyemotionFandom How did we reach a point wher...   \n",
       "400202    400202   en  @Catoishere @HatClub @RahnniFitteds That gold ...   \n",
       "\n",
       "        number_annotators                                         annotators  \\\n",
       "400185                  6  [Annotator_785, Annotator_786, Annotator_787, ...   \n",
       "400187                  6  [Annotator_791, Annotator_122, Annotator_396, ...   \n",
       "400189                  6  [Annotator_776, Annotator_777, Annotator_195, ...   \n",
       "400199                  6  [Annotator_780, Annotator_781, Annotator_782, ...   \n",
       "400202                  6  [Annotator_785, Annotator_786, Annotator_787, ...   \n",
       "\n",
       "         gender_annotators                          age_annotators  \\\n",
       "400185  [F, F, F, M, M, M]  [18-22, 23-45, 46+, 18-22, 23-45, 46+]   \n",
       "400187  [F, F, F, M, M, M]  [18-22, 23-45, 46+, 18-22, 23-45, 46+]   \n",
       "400189  [F, F, F, M, M, M]  [18-22, 23-45, 46+, 18-22, 23-45, 46+]   \n",
       "400199  [F, F, F, M, M, M]  [18-22, 23-45, 46+, 18-22, 23-45, 46+]   \n",
       "400202  [F, F, F, M, M, M]  [18-22, 23-45, 46+, 18-22, 23-45, 46+]   \n",
       "\n",
       "                        labels_task1  \\\n",
       "400185    [NO, NO, NO, NO, YES, YES]   \n",
       "400187     [NO, YES, NO, NO, NO, NO]   \n",
       "400189    [NO, NO, YES, YES, NO, NO]   \n",
       "400199    [YES, YES, NO, NO, NO, NO]   \n",
       "400202  [NO, YES, YES, NO, YES, YES]   \n",
       "\n",
       "                                    labels_task2  \\\n",
       "400185              [-, -, -, -, DIRECT, DIRECT]   \n",
       "400187                 [-, REPORTED, -, -, -, -]   \n",
       "400189          [-, -, REPORTED, REPORTED, -, -]   \n",
       "400199              [DIRECT, DIRECT, -, -, -, -]   \n",
       "400202  [-, DIRECT, DIRECT, -, DIRECT, REPORTED]   \n",
       "\n",
       "                                             labels_task3   split  \n",
       "400185  [[-], [-], [-], [-], [SEXUAL-VIOLENCE], [OBJEC...  DEV_EN  \n",
       "400187  [[-], [IDEOLOGICAL-INEQUALITY, SEXUAL-VIOLENCE...  DEV_EN  \n",
       "400189  [[-], [-], [OBJECTIFICATION], [STEREOTYPING-DO...  DEV_EN  \n",
       "400199  [[IDEOLOGICAL-INEQUALITY, OBJECTIFICATION], [S...  DEV_EN  \n",
       "400202  [[-], [STEREOTYPING-DOMINANCE, MISOGYNY-NON-SE...  DEV_EN  "
      ]
     },
     "execution_count": 68,
     "metadata": {},
     "output_type": "execute_result"
    }
   ],
   "source": [
    "error_df = test_copy[test_copy['id_EXIST'].isin(wrong_ids_models[2])]\n",
    "error_df.head()"
   ]
  },
  {
   "cell_type": "code",
   "execution_count": 69,
   "metadata": {},
   "outputs": [
    {
     "data": {
      "image/png": "[encoded data removed]",
      "text/plain": [
       "<Figure size 640x480 with 1 Axes>"
      ]
     },
     "metadata": {},
     "output_type": "display_data"
    }
   ],
   "source": [
    "error_df['labels_task3'].explode().explode().value_counts(normalize=True, ascending=True).plot(kind='barh', title='Task 3 label in error set', alpha=0.7).set_xticklabels\n",
    "plt.grid()\n",
    "plt.savefig(detector.IMG_FOLDER / 'task3_error_set.svg', format='svg')\n",
    "plt.show()"
   ]
  },
  {
   "cell_type": "markdown",
   "metadata": {},
   "source": [
    "From the analysis above we can see that the model is failing to classify mainly tweets that do not fall into any category of sexism. The second most common category of sexism that the model is failing to classify is the category of `objectification` followed by the category of `stereotyping`. Moreover, the least common category of sexism that the model is failing to classify is the category of `misogyny` and `non-sexual-violence`. \n",
    "\n",
    "<div class=\"alert alert-warning\">\n",
    "<b>This is important</b> to note since the model has learned to classify the tweets that fall into the category of `misogyny` and `non-sexual-violence` better than the other categories of sexism. The misogyny and non-sexual-violence categories are the categories which contains the most implicit sexist language and the model is able to detect them better than the other categories of sexism.\n",
    "</div>"
   ]
  },
  {
   "cell_type": "markdown",
   "metadata": {
    "id": "Aql29_OZV1Bw"
   },
   "source": [
    "# Appendix\n",
    "\n",
    "Here we will add some additional information computation that we did not include in the main part of the notebook."
   ]
  },
  {
   "cell_type": "markdown",
   "metadata": {
    "id": "8WaruW8ElMA2"
   },
   "source": [
    "### Multilingual Model (Spanish and English tweets)\n",
    "\n",
    "We experimented with the multilinguality of the dataset by training the model on both Spanish and English tweets. We used the same preprocessing pipeline as for the English tweets, but we used a transformer model trained on multilingual data. The model we used is `xlm-roberta-base` which is trained on multilingual data. We trained the model on both the English and Spanish tweets and evaluated it on the same test set of the English only model. The results are shown below.\n",
    "\n",
    "For the sake of simplicity we will just evaluate the numerical performance of the model rather than doing all the error analysis and the confusion matrix.\n",
    "\n",
    "The training procedure is the same as the one used for the English tweets. We will train the model for 6 epochs and evaluate it on both the validation and test set."
   ]
  },
  {
   "cell_type": "code",
   "execution_count": 70,
   "metadata": {
    "id": "BczCGlMvlMA2"
   },
   "outputs": [],
   "source": [
    "detector = SexismDetector()"
   ]
  },
  {
   "cell_type": "code",
   "execution_count": 71,
   "metadata": {
    "id": "_OnYoZIBlMA2"
   },
   "outputs": [],
   "source": [
    "detector.download_corpus(url='https://raw.githubusercontent.com/nlp-unibo/nlp-course-material/refs/heads/main/2024-2025/Assignment%201/data/training.json', filename='training.json')\n",
    "detector.download_corpus(url='https://raw.githubusercontent.com/nlp-unibo/nlp-course-material/refs/heads/main/2024-2025/Assignment%201/data/test.json', filename='test.json')\n",
    "detector.download_corpus(url='https://raw.githubusercontent.com/nlp-unibo/nlp-course-material/refs/heads/main/2024-2025/Assignment%201/data/validation.json', filename='validation.json')"
   ]
  },
  {
   "cell_type": "code",
   "execution_count": 72,
   "metadata": {
    "id": "rmC74KO3lMA2"
   },
   "outputs": [],
   "source": [
    "train = detector.load_corpus('training.json', orient='index', encoding='utf-8')\n",
    "val = detector.load_corpus('validation.json', orient='index', encoding='utf-8')\n",
    "test = detector.load_corpus('test.json', orient='index', encoding='utf-8')"
   ]
  },
  {
   "cell_type": "code",
   "execution_count": 73,
   "metadata": {
    "id": "CYcrQN6klMA3"
   },
   "outputs": [],
   "source": [
    "train['hard_label_task1'] = train['labels_task1'].apply(detector.majority_voting)\n",
    "val['hard_label_task1'] = val['labels_task1'].apply(detector.majority_voting)\n",
    "test['hard_label_task1'] = test['labels_task1'].apply(detector.majority_voting)"
   ]
  },
  {
   "cell_type": "code",
   "execution_count": 74,
   "metadata": {
    "id": "XVT1QX4blMA3"
   },
   "outputs": [],
   "source": [
    "train = train[(train['hard_label_task1'] != \"NEUTRAL\")]\n",
    "val = val[(val['hard_label_task1'] != \"NEUTRAL\")]\n",
    "test = test[(test['hard_label_task1'] != \"NEUTRAL\")]"
   ]
  },
  {
   "cell_type": "code",
   "execution_count": 75,
   "metadata": {
    "id": "PV0PC2AWlMA3",
    "outputId": "a22e43eb-fc62-433e-8ea8-c1d66c15a3ad"
   },
   "outputs": [
    {
     "data": {
      "text/plain": [
       "((6064, 12), (648, 12), (286, 12))"
      ]
     },
     "execution_count": 75,
     "metadata": {},
     "output_type": "execute_result"
    }
   ],
   "source": [
    "train.shape, val.shape, test.shape"
   ]
  },
  {
   "cell_type": "code",
   "execution_count": 76,
   "metadata": {},
   "outputs": [
    {
     "data": {
      "text/plain": [
       "lang\n",
       "en    286\n",
       "Name: count, dtype: int64"
      ]
     },
     "execution_count": 76,
     "metadata": {},
     "output_type": "execute_result"
    }
   ],
   "source": [
    "test_data.to_pandas().lang.value_counts()"
   ]
  },
  {
   "cell_type": "code",
   "execution_count": 77,
   "metadata": {
    "id": "o_hccXC0lMA3"
   },
   "outputs": [],
   "source": [
    "train = train[detector.columns_to_maintain]\n",
    "val = val[detector.columns_to_maintain]\n",
    "test = test[detector.columns_to_maintain]"
   ]
  },
  {
   "cell_type": "code",
   "execution_count": 78,
   "metadata": {
    "id": "M_0qVx5qlMA3"
   },
   "outputs": [],
   "source": [
    "train['hard_label_task1'] = train['hard_label_task1'].apply(lambda x: 1 if x == \"YES\" else 0)\n",
    "val['hard_label_task1'] = val['hard_label_task1'].apply(lambda x: 1 if x == \"YES\" else 0)\n",
    "test['hard_label_task1'] = test['hard_label_task1'].apply(lambda x: 1 if x == \"YES\" else 0)"
   ]
  },
  {
   "cell_type": "code",
   "execution_count": 79,
   "metadata": {
    "id": "UU0bNQLTlMA4"
   },
   "outputs": [],
   "source": [
    "train.rename(columns={'hard_label_task1': 'label'}, inplace=True)\n",
    "val.rename(columns={'hard_label_task1': 'label'}, inplace=True)\n",
    "test.rename(columns={'hard_label_task1': 'label'}, inplace=True)"
   ]
  },
  {
   "cell_type": "markdown",
   "metadata": {},
   "source": [
    "The distribution of the labels is shown. As we can see, the unbalanced distribution of the labels is maintained in the Spanish tweets as well but less pronounced than in the English tweets."
   ]
  },
  {
   "cell_type": "code",
   "execution_count": 80,
   "metadata": {
    "id": "y4GSsuGqlMA4",
    "outputId": "d444091a-245e-4a6c-93f8-ee2e1acb118d"
   },
   "outputs": [
    {
     "data": {
      "image/png": "[encoded data removed]",
      "text/plain": [
       "<Figure size 640x480 with 1 Axes>"
      ]
     },
     "metadata": {},
     "output_type": "display_data"
    }
   ],
   "source": [
    "train.label.value_counts(normalize=True).plot(kind='bar', title='Target variable distribution in training set', color=['green', 'red'], alpha=0.7).set_xticklabels(['Not Sexist', 'Sexist'], rotation=0)\n",
    "plt.grid()\n",
    "plt.tight_layout()\n",
    "plt.show()"
   ]
  },
  {
   "cell_type": "markdown",
   "metadata": {},
   "source": [
    "Using both Spanish and English tweets, the label distribution is more balanced (approximately 55:45) compared to the English-only dataset. This could affect the model's performance, as it has more examples of each class to learn from.\n",
    "\n",
    "We still decided to include the class weight technique to deal with the class imbalance in the dataset."
   ]
  },
  {
   "cell_type": "code",
   "execution_count": 81,
   "metadata": {
    "id": "MJ9mqPo5lMA4"
   },
   "outputs": [
    {
     "data": {
      "text/plain": [
       "tensor([0.9005, 1.1242])"
      ]
     },
     "execution_count": 81,
     "metadata": {},
     "output_type": "execute_result"
    }
   ],
   "source": [
    "class_weights_tensor_multi = detector.get_class_weights(train, 'label')\n",
    "class_weights_tensor_multi"
   ]
  },
  {
   "cell_type": "code",
   "execution_count": 82,
   "metadata": {
    "id": "qPRRxCDUlMA4"
   },
   "outputs": [],
   "source": [
    "train['tweet'] = train['tweet'].apply(detector.preprocess_text)\n",
    "val['tweet'] = val['tweet'].apply(detector.preprocess_text)\n",
    "test['tweet'] = test['tweet'].apply(detector.preprocess_text)"
   ]
  },
  {
   "cell_type": "code",
   "execution_count": 83,
   "metadata": {
    "id": "P8nKHDEolMA5"
   },
   "outputs": [],
   "source": [
    "train['tweet'] = train['tweet'].apply(detector.lemmatize_text)\n",
    "val['tweet'] = val['tweet'].apply(detector.lemmatize_text)\n",
    "test['tweet'] = test['tweet'].apply(detector.lemmatize_text)"
   ]
  },
  {
   "cell_type": "code",
   "execution_count": 84,
   "metadata": {
    "id": "FyHl_bFclMA5"
   },
   "outputs": [],
   "source": [
    "train['tweet'] = train['tweet'].str.lower()\n",
    "val['tweet'] = val['tweet'].str.lower()\n",
    "test['tweet'] = test['tweet'].str.lower()"
   ]
  },
  {
   "cell_type": "code",
   "execution_count": 85,
   "metadata": {
    "id": "CY3FUsf_lMA5",
    "outputId": "e8531da5-666c-4c96-fc35-40ab9b7c7028"
   },
   "outputs": [
    {
     "data": {
      "text/html": [
       "<div>\n",
       "<style scoped>\n",
       "    .dataframe tbody tr th:only-of-type {\n",
       "        vertical-align: middle;\n",
       "    }\n",
       "\n",
       "    .dataframe tbody tr th {\n",
       "        vertical-align: top;\n",
       "    }\n",
       "\n",
       "    .dataframe thead th {\n",
       "        text-align: right;\n",
       "    }\n",
       "</style>\n",
       "<table border=\"1\" class=\"dataframe\">\n",
       "  <thead>\n",
       "    <tr style=\"text-align: right;\">\n",
       "      <th></th>\n",
       "      <th>id_EXIST</th>\n",
       "      <th>lang</th>\n",
       "      <th>tweet</th>\n",
       "      <th>label</th>\n",
       "    </tr>\n",
       "  </thead>\n",
       "  <tbody>\n",
       "    <tr>\n",
       "      <th>100001</th>\n",
       "      <td>100001</td>\n",
       "      <td>es</td>\n",
       "      <td>&lt;user&gt; ignora al otro e un capullo el problema...</td>\n",
       "      <td>1</td>\n",
       "    </tr>\n",
       "    <tr>\n",
       "      <th>100002</th>\n",
       "      <td>100002</td>\n",
       "      <td>es</td>\n",
       "      <td>&lt;user&gt; si comicsgate se parece en algo a gamer...</td>\n",
       "      <td>0</td>\n",
       "    </tr>\n",
       "    <tr>\n",
       "      <th>100003</th>\n",
       "      <td>100003</td>\n",
       "      <td>es</td>\n",
       "      <td>&lt;user&gt; lee sobre gamergate y como eso ha cambi...</td>\n",
       "      <td>0</td>\n",
       "    </tr>\n",
       "    <tr>\n",
       "      <th>100005</th>\n",
       "      <td>100005</td>\n",
       "      <td>es</td>\n",
       "      <td>&lt;user&gt; &lt;user&gt; &lt;user&gt; entonces como asi e el me...</td>\n",
       "      <td>1</td>\n",
       "    </tr>\n",
       "    <tr>\n",
       "      <th>100006</th>\n",
       "      <td>100006</td>\n",
       "      <td>es</td>\n",
       "      <td>&lt;user&gt; aaah si andrew dobson el que se dedico ...</td>\n",
       "      <td>0</td>\n",
       "    </tr>\n",
       "  </tbody>\n",
       "</table>\n",
       "</div>"
      ],
      "text/plain": [
       "        id_EXIST lang                                              tweet  \\\n",
       "100001    100001   es  <user> ignora al otro e un capullo el problema...   \n",
       "100002    100002   es  <user> si comicsgate se parece en algo a gamer...   \n",
       "100003    100003   es  <user> lee sobre gamergate y como eso ha cambi...   \n",
       "100005    100005   es  <user> <user> <user> entonces como asi e el me...   \n",
       "100006    100006   es  <user> aaah si andrew dobson el que se dedico ...   \n",
       "\n",
       "        label  \n",
       "100001      1  \n",
       "100002      0  \n",
       "100003      0  \n",
       "100005      1  \n",
       "100006      0  "
      ]
     },
     "execution_count": 85,
     "metadata": {},
     "output_type": "execute_result"
    }
   ],
   "source": [
    "train.head()"
   ]
  },
  {
   "cell_type": "code",
   "execution_count": 86,
   "metadata": {
    "id": "aO42GdXUlMA5"
   },
   "outputs": [],
   "source": [
    "# Since we know that there is a slightly imbalance in the dataset labels, instead of using the default Trainer class of HuggingFace, we can write a custom class inheriting from the Trainer class and override the `compute_loss` method to compute the loss with the class weights computed from the dataset labels. In this way the loss function will take into account the imbalance in the dataset labels and will give more importance to the minority class. The impact of this change is that the F1 and accuracy scores will be more similar to each other since the model will be trained to give more importance to the minority class w.r.t. the majority class.\n",
    "\n",
    "# Taken from https://github.com/huggingface/transformers/blob/main/src/transformers/trainer.py#L3700 (with some minor changes removing useless parts)\n",
    "class CustomTrainer(Trainer):\n",
    "    def __init__(self, class_weights, device, *args, **kwargs):\n",
    "        super().__init__(*args, **kwargs)\n",
    "        # You pass the class weights when instantiating the Trainer\n",
    "        self.class_weights = class_weights\n",
    "        self.device = device\n",
    "\n",
    "    def compute_loss(self, model, inputs, return_outputs=False, num_items_in_batch=None):\n",
    "        if self.label_smoother is not None and \"labels\" in inputs:\n",
    "            labels = inputs.pop(\"labels\")\n",
    "        else:\n",
    "            labels = None\n",
    "        outputs = model(**inputs)\n",
    "        # Save past state if it exists\n",
    "        # TODO: this needs to be fixed and made cleaner later.\n",
    "        if self.args.past_index >= 0:\n",
    "            self._past = outputs[self.args.past_index]\n",
    "\n",
    "        if labels is not None:\n",
    "            loss = self.label_smoother(outputs, labels)\n",
    "        else:\n",
    "            # We don't use .loss here since the model may return tuples instead of ModelOutput.\n",
    "\n",
    "            # Do not\n",
    "            # loss = outputs[\"loss\"] if isinstance(outputs, dict) else outputs[0]\n",
    "            logits = outputs.get('logits')\n",
    "            criterion = torch.nn.CrossEntropyLoss(weight=self.class_weights.to(self.device))\n",
    "            loss = criterion(logits, inputs['labels'])\n",
    "\n",
    "        return (loss, outputs) if return_outputs else loss"
   ]
  },
  {
   "cell_type": "code",
   "execution_count": 87,
   "metadata": {
    "id": "TysejeiclMA6"
   },
   "outputs": [],
   "source": [
    "def compute_metrics(output_info):\n",
    "        \"\"\"\n",
    "        Compute various evaluation metrics for model predictions.\n",
    "\n",
    "        Args:\n",
    "            output_info (tuple): A tuple containing the model predictions and the true labels.\n",
    "                - predictions (np.ndarray): The predicted labels from the model.\n",
    "                - labels (np.ndarray): The true labels.\n",
    "\n",
    "        Returns:\n",
    "            dict: A dictionary containing the computed metrics:\n",
    "                - 'f1': The F1 score (macro average).\n",
    "                - 'accuracy': The accuracy score.\n",
    "                - 'precision': The precision score (macro average).\n",
    "                - 'recall': The recall score (macro average).\n",
    "        \"\"\"\n",
    "        #acc_metric = evaluate.load('accuracy')\n",
    "        #f1_metric = evaluate.load('f1')\n",
    "        #precision_metric = evaluate.load(\"precision\")\n",
    "        #recall_metric = evaluate.load(\"recall\")\n",
    "\n",
    "        predictions, labels = output_info\n",
    "        #LINE REMOVED\n",
    "        predictions = np.array(predictions)\n",
    "        labels = np.array(labels)\n",
    "        predictions = np.argmax(predictions, axis=-1)\n",
    "\n",
    "\n",
    "\n",
    "        #f1 = f1_metric.compute(predictions=predictions, references=labels, average='macro')\n",
    "        #acc = acc_metric.compute(predictions=predictions, references=labels)\n",
    "        #precision = precision_metric.compute(predictions=predictions, references=labels, average='macro')\n",
    "        #recall = recall_metric.compute(predictions=predictions, references=labels, average='macro')\n",
    "\n",
    "        f1 = f1_score(labels, predictions, average=\"macro\")\n",
    "        acc = accuracy_score(labels, predictions)\n",
    "        prec = precision_score(labels, predictions, average=\"macro\")\n",
    "        rec = recall_score(labels,predictions, average=\"macro\")\n",
    "\n",
    "        return {\"f1-score\" : f1, \"Accuracy\" : acc, \"Precision\":prec, \"Recall\":rec}"
   ]
  },
  {
   "cell_type": "code",
   "execution_count": 88,
   "metadata": {
    "colab": {
     "referenced_widgets": [
      "8480f0639b194aad80cd5e8fa098f6d1",
      "6cb5e2add18549f1b6042264766eead7",
      "8588686e6eba47168ef9df122be33879"
     ]
    },
    "id": "Gaq4EloGlMA6",
    "outputId": "db9dbeb4-8964-406a-ced1-a11495b45ba5"
   },
   "outputs": [
    {
     "data": {
      "application/vnd.jupyter.widget-view+json": {
       "model_id": "c8ab6132ed0a41a0af6493b8e54c965b",
       "version_major": 2,
       "version_minor": 0
      },
      "text/plain": [
       "Map:   0%|          | 0/6064 [00:00<?, ? examples/s]"
      ]
     },
     "metadata": {},
     "output_type": "display_data"
    },
    {
     "data": {
      "application/vnd.jupyter.widget-view+json": {
       "model_id": "6bef19b1f8c94eca989447bae6a5140d",
       "version_major": 2,
       "version_minor": 0
      },
      "text/plain": [
       "Map:   0%|          | 0/648 [00:00<?, ? examples/s]"
      ]
     },
     "metadata": {},
     "output_type": "display_data"
    },
    {
     "data": {
      "application/vnd.jupyter.widget-view+json": {
       "model_id": "80695a6e35dd4285a53e21c1e18c83b6",
       "version_major": 2,
       "version_minor": 0
      },
      "text/plain": [
       "Map:   0%|          | 0/286 [00:00<?, ? examples/s]"
      ]
     },
     "metadata": {},
     "output_type": "display_data"
    }
   ],
   "source": [
    "# Get the train, val and test datasets\n",
    "train_data = Dataset.from_pandas(train)\n",
    "val_data = Dataset.from_pandas(val)\n",
    "test_data = Dataset.from_pandas(test)\n",
    "\n",
    "# Define the model card\n",
    "model_card = \"xlm-roberta-base\"\n",
    "\n",
    "# Get the tokenizer\n",
    "tokenizer = AutoTokenizer.from_pretrained(model_card, use_Fast=False)\n",
    "\n",
    "def preprocess_text(texts):\n",
    "    return tokenizer(texts['tweet'])\n",
    "\n",
    "# Select the right column\n",
    "train_data = train_data.map(preprocess_text, batched=True)\n",
    "val_data = val_data.map(preprocess_text, batched=True)\n",
    "test_data = test_data.map(preprocess_text, batched=True)\n",
    "\n",
    "# Get the data collator\n",
    "data_collator = DataCollatorWithPadding(tokenizer=tokenizer)"
   ]
  },
  {
   "cell_type": "code",
   "execution_count": 89,
   "metadata": {
    "id": "LoSm7X2xlMA7"
   },
   "outputs": [],
   "source": [
    "def twitter_roberta_base(model_card: str, seed: int, class_weights: torch.Tensor, train_data: Dataset, val_data: Dataset, test_data: Dataset, data_collator, device: torch.device):\n",
    "\n",
    "    # Set the flag to False\n",
    "    already_fine_tuned = False\n",
    "\n",
    "    # Get model name\n",
    "    model_name = model_card.split('/')[-1]\n",
    "\n",
    "    # Clear the cache and perform garbage collection\n",
    "    with torch.no_grad():\n",
    "        torch.cuda.empty_cache()\n",
    "\n",
    "    gc.collect()\n",
    "\n",
    "    # Try to fetch the model from the HuggingFace Hub (if it exists)\n",
    "    try:\n",
    "        # Model already fine-tuned\n",
    "        model = XLMRobertaForSequenceClassification.from_pretrained(f'MatteoFasulo/{model_name}_{seed}', num_labels=2, id2label={0: 'NEG', 1: 'POS'}, label2id={'NEG': 0, 'POS': 1})\n",
    "        already_fine_tuned = True\n",
    "\n",
    "    except:\n",
    "        model = XLMRobertaForSequenceClassification.from_pretrained(model_card, num_labels=2, id2label={0: 'NEG', 1: 'POS'}, label2id={'NEG': 0, 'POS': 1})\n",
    "\n",
    "    # Get the training arguments\n",
    "    training_args = TrainingArguments(\n",
    "        output_dir=f'{model_name}_{seed}',                 # where to save model\n",
    "        learning_rate=ROBERTA_LEARNING_RATE,\n",
    "        per_device_train_batch_size=ROBERTA_BATCH_SIZE,         # accelerate defines distributed training\n",
    "        per_device_eval_batch_size=ROBERTA_BATCH_SIZE,\n",
    "        num_train_epochs=ROBERTA_EPOCHS,\n",
    "        weight_decay=1e-5,\n",
    "        eval_strategy=\"epoch\",           # when to report evaluation metrics/losses\n",
    "        save_strategy=\"epoch\",                 # when to save checkpoint\n",
    "        save_safetensors=True,           # save model with safe tensors\n",
    "        torch_empty_cache_steps=379,\n",
    "        load_best_model_at_end=True,\n",
    "        report_to='none',                    # disabling wandb (default)\n",
    "        seed=seed,\n",
    "        data_seed=seed\n",
    "    )\n",
    "\n",
    "    # Get the trainer\n",
    "    trainer = CustomTrainer(\n",
    "                model=model,\n",
    "                args=training_args,\n",
    "                train_dataset=train_data,\n",
    "                eval_dataset=test_data,\n",
    "                data_collator=data_collator,\n",
    "                compute_metrics=compute_metrics,\n",
    "                class_weights=class_weights,\n",
    "                device=device,\n",
    "            )\n",
    "\n",
    "    if not already_fine_tuned:\n",
    "        # Train the model\n",
    "        trainer.train()\n",
    "\n",
    "    # Get the predictions for the validation set\n",
    "    val_predictions_info = trainer.predict(val_data)\n",
    "    val_predictions, val_labels = val_predictions_info.predictions, val_predictions_info.label_ids\n",
    "\n",
    "    # Transpose the predictions and get the argmax\n",
    "    val_predictions = np.argmax(val_predictions, axis=1)\n",
    "\n",
    "    # Get the predictions for the test set\n",
    "    test_predictions_info = trainer.predict(test_data)\n",
    "    test_predictions, test_labels = test_predictions_info.predictions, test_predictions_info.label_ids\n",
    "\n",
    "    # Transpose the predictions and get the argmax\n",
    "    test_predictions = np.argmax(test_predictions, axis=1)\n",
    "\n",
    "    # Update the predictions dict with the new predictions\n",
    "    predictions_dict[f'{model_name}_{seed}'] = {'val': {}, 'test': {}}\n",
    "    predictions_dict[f'{model_name}_{seed}']['val'] = {'predictions': val_predictions, 'labels': val_labels}\n",
    "    predictions_dict[f'{model_name}_{seed}']['test'] = {'predictions': test_predictions, 'labels': test_labels}\n",
    "\n",
    "    print(f\"Validation set metrics for model {model_name}_{seed}:\\n{val_predictions_info.metrics}\\n\")\n",
    "    print(f\"Test set metrics for model {model_name}_{seed}:\\n{test_predictions_info.metrics}\\n\")\n",
    "\n",
    "    if not already_fine_tuned:\n",
    "        # Push the model to HuggingFace Hub\n",
    "        trainer.push_to_hub()"
   ]
  },
  {
   "cell_type": "code",
   "execution_count": 90,
   "metadata": {
    "id": "Z2WEfaDIlMA7",
    "outputId": "1f9c1bf8-2c93-4c51-8024-9d2dc77dfe83"
   },
   "outputs": [
    {
     "data": {
      "text/html": [],
      "text/plain": [
       "<IPython.core.display.HTML object>"
      ]
     },
     "metadata": {},
     "output_type": "display_data"
    },
    {
     "data": {
      "text/html": [],
      "text/plain": [
       "<IPython.core.display.HTML object>"
      ]
     },
     "metadata": {},
     "output_type": "display_data"
    },
    {
     "name": "stdout",
     "output_type": "stream",
     "text": [
      "Validation set metrics for model xlm-roberta-base_1337:\n",
      "{'test_loss': 0.35835689306259155, 'test_model_preparation_time': 0.0057, 'test_f1-score': 0.8502997292077004, 'test_Accuracy': 0.8503086419753086, 'test_Precision': 0.8503086419753086, 'test_Recall': 0.8503920877361817, 'test_runtime': 1.0472, 'test_samples_per_second': 618.818, 'test_steps_per_second': 39.154}\n",
      "\n",
      "Test set metrics for model xlm-roberta-base_1337:\n",
      "{'test_loss': 0.41384434700012207, 'test_model_preparation_time': 0.0057, 'test_f1-score': 0.824134199134199, 'test_Accuracy': 0.8251748251748252, 'test_Precision': 0.8234919702311007, 'test_Recall': 0.8277281746031746, 'test_runtime': 0.4556, 'test_samples_per_second': 627.744, 'test_steps_per_second': 39.508}\n",
      "\n"
     ]
    }
   ],
   "source": [
    "twitter_roberta_base(\n",
    "    model_card = model_card,\n",
    "    seed = 1337,\n",
    "    class_weights = class_weights_tensor_multi,\n",
    "    train_data = train_data,\n",
    "    val_data= val_data,\n",
    "    test_data = test_data,\n",
    "    data_collator = data_collator,\n",
    "    device=device\n",
    ")"
   ]
  },
  {
   "cell_type": "code",
   "execution_count": 91,
   "metadata": {},
   "outputs": [
    {
     "data": {
      "text/html": [],
      "text/plain": [
       "<IPython.core.display.HTML object>"
      ]
     },
     "metadata": {},
     "output_type": "display_data"
    },
    {
     "data": {
      "text/html": [],
      "text/plain": [
       "<IPython.core.display.HTML object>"
      ]
     },
     "metadata": {},
     "output_type": "display_data"
    },
    {
     "name": "stdout",
     "output_type": "stream",
     "text": [
      "Validation set metrics for model xlm-roberta-base_42:\n",
      "{'test_loss': 0.352009654045105, 'test_model_preparation_time': 0.0057, 'test_f1-score': 0.8687568355814801, 'test_Accuracy': 0.8688271604938271, 'test_Precision': 0.8689404630229987, 'test_Recall': 0.8686768110832674, 'test_runtime': 1.0472, 'test_samples_per_second': 618.802, 'test_steps_per_second': 39.153}\n",
      "\n",
      "Test set metrics for model xlm-roberta-base_42:\n",
      "{'test_loss': 0.45670345425605774, 'test_model_preparation_time': 0.0057, 'test_f1-score': 0.8105960264900662, 'test_Accuracy': 0.8111888111888111, 'test_Precision': 0.8116197183098591, 'test_Recall': 0.8160714285714286, 'test_runtime': 0.454, 'test_samples_per_second': 629.937, 'test_steps_per_second': 39.646}\n",
      "\n"
     ]
    }
   ],
   "source": [
    "twitter_roberta_base(\n",
    "    model_card = model_card,\n",
    "    seed = 42,\n",
    "    class_weights = class_weights_tensor_multi,\n",
    "    train_data = train_data,\n",
    "    val_data= val_data,\n",
    "    test_data = test_data,\n",
    "    data_collator = data_collator,\n",
    "    device=device\n",
    ")"
   ]
  },
  {
   "cell_type": "code",
   "execution_count": 92,
   "metadata": {},
   "outputs": [
    {
     "data": {
      "text/html": [],
      "text/plain": [
       "<IPython.core.display.HTML object>"
      ]
     },
     "metadata": {},
     "output_type": "display_data"
    },
    {
     "data": {
      "text/html": [],
      "text/plain": [
       "<IPython.core.display.HTML object>"
      ]
     },
     "metadata": {},
     "output_type": "display_data"
    },
    {
     "name": "stdout",
     "output_type": "stream",
     "text": [
      "Validation set metrics for model xlm-roberta-base_69:\n",
      "{'test_loss': 0.4418230950832367, 'test_model_preparation_time': 0.0057, 'test_f1-score': 0.8472218583815786, 'test_Accuracy': 0.8472222222222222, 'test_Precision': 0.8473704268292683, 'test_Recall': 0.8474002153385867, 'test_runtime': 1.0356, 'test_samples_per_second': 625.697, 'test_steps_per_second': 39.589}\n",
      "\n",
      "Test set metrics for model xlm-roberta-base_69:\n",
      "{'test_loss': 0.47489017248153687, 'test_model_preparation_time': 0.0057, 'test_f1-score': 0.8448717948717949, 'test_Accuracy': 0.8461538461538461, 'test_Precision': 0.8437745483110761, 'test_Recall': 0.8473214285714286, 'test_runtime': 0.4537, 'test_samples_per_second': 630.397, 'test_steps_per_second': 39.675}\n",
      "\n"
     ]
    }
   ],
   "source": [
    "twitter_roberta_base(\n",
    "    model_card = model_card,\n",
    "    seed = 69,\n",
    "    class_weights = class_weights_tensor_multi,\n",
    "    train_data = train_data,\n",
    "    val_data= val_data,\n",
    "    test_data = test_data,\n",
    "    data_collator = data_collator,\n",
    "    device=device\n",
    ")"
   ]
  },
  {
   "cell_type": "code",
   "execution_count": 93,
   "metadata": {},
   "outputs": [],
   "source": [
    "metrics = Metrics(predictions_dict=predictions_dict)\n",
    "\n",
    "# Get the ensemble predictions\n",
    "metrics.majority_voting()"
   ]
  },
  {
   "cell_type": "markdown",
   "metadata": {},
   "source": [
    "Here we will evaluate the f1 macro score of the XLM RoBERTa model on the validation set.\n",
    "\n",
    "The test set contains only English tweets and not even a single Spanish tweet."
   ]
  },
  {
   "cell_type": "code",
   "execution_count": 94,
   "metadata": {},
   "outputs": [
    {
     "name": "stdout",
     "output_type": "stream",
     "text": [
      "F1 for the validation set of ensembled models: {'baseline': 0.7805555555555556, '2_layers': 0.8117424709314269, 'twitter': 0.8818151595744681, 'xlm': 0.8626382917912137}\n",
      "Accuracy for the validation set of ensembled models: {'baseline': 0.7848101265822784, '2_layers': 0.8164556962025317, 'twitter': 0.8860759493670886, 'xlm': 0.8626543209876543}\n"
     ]
    }
   ],
   "source": [
    "# Calculate the F1 score for each of the ensembled models\n",
    "f1_scores_ensembled = {model_name: metrics.get_f1_score(metrics.ensembled_dict[model_name]['val']['predictions'], metrics.ensembled_dict[model_name]['val']['labels']) for model_name in metrics.ensembled_dict.keys()}\n",
    "accuracy_ensembled = {model_name: accuracy_score(metrics.ensembled_dict[model_name]['val']['labels'], metrics.ensembled_dict[model_name]['val']['predictions']) for model_name in metrics.ensembled_dict.keys()}\n",
    "print(f\"F1 for the validation set of ensembled models: {f1_scores_ensembled}\")\n",
    "print(f\"Accuracy for the validation set of ensembled models: {accuracy_ensembled}\")"
   ]
  },
  {
   "cell_type": "markdown",
   "metadata": {},
   "source": [
    "From the output metrics we can see that the model achives an f1 macro score of 0.85 on the validation set which includes both English and Spanish tweets. This is a good performance of the model and it shows that the model is able to generalize well on both English and Spanish tweets."
   ]
  },
  {
   "cell_type": "code",
   "execution_count": 95,
   "metadata": {},
   "outputs": [
    {
     "name": "stdout",
     "output_type": "stream",
     "text": [
      "F1 for the test set of ensembled models: {'baseline': 0.6990652376058337, '2_layers': 0.6747257585207469, 'twitter': 0.8414458365672469, 'xlm': 0.831343063541206}\n",
      "Accuracy for the test set of ensembled models: {'baseline': 0.6993006993006993, '2_layers': 0.6748251748251748, 'twitter': 0.8426573426573427, 'xlm': 0.8321678321678322}\n"
     ]
    }
   ],
   "source": [
    "# Calculate the F1 score for each of the ensembled models\n",
    "f1_scores_ensembled = {model_name: metrics.get_f1_score(metrics.ensembled_dict[model_name]['test']['predictions'], metrics.ensembled_dict[model_name]['test']['labels']) for model_name in metrics.ensembled_dict.keys()}\n",
    "accuracy_ensembled = {model_name: accuracy_score(metrics.ensembled_dict[model_name]['test']['labels'], metrics.ensembled_dict[model_name]['test']['predictions']) for model_name in metrics.ensembled_dict.keys()}\n",
    "print(f\"F1 for the test set of ensembled models: {f1_scores_ensembled}\")\n",
    "print(f\"Accuracy for the test set of ensembled models: {accuracy_ensembled}\")"
   ]
  },
  {
   "cell_type": "markdown",
   "metadata": {},
   "source": [
    "Talking about the performance over the test set (which has only English tweets), the model has a good performance achieving a f1 macro score of 0.82 so just slightly worse than the transformer model trained on English tweets only. This is a good result since this model is not originally fine-tuned on the hate speech detection task (neither on the sexism detection task) and it is trained on multilingual data."
   ]
  },
  {
   "cell_type": "markdown",
   "metadata": {},
   "source": [
    "---"
   ]
  },
  {
   "cell_type": "markdown",
   "metadata": {},
   "source": [
    "### Dashboard\n",
    "\n",
    "We have also developed a Dashboard to visualize the results of the models and experiment using both the english-only as well as the multilingual model. The Dashboard is developed using the `gradio` library and is available directly on the Hugging Face space at the following link: https://huggingface.co/spaces/MatteoFasulo/Sexism-Detection-Dashboard"
   ]
  }
 ],
 "metadata": {
  "accelerator": "GPU",
  "colab": {
   "gpuType": "T4",
   "provenance": []
  },
  "kernelspec": {
   "display_name": "env",
   "language": "python",
   "name": "python3"
  },
  "language_info": {
   "codemirror_mode": {
    "name": "ipython",
    "version": 3
   },
   "file_extension": ".py",
   "mimetype": "text/x-python",
   "name": "python",
   "nbconvert_exporter": "python",
   "pygments_lexer": "ipython3",
   "version": "3.10.12"
  },
  "widgets": {
   "application/vnd.jupyter.widget-state+json": {
    "02d40d0867d04eafac27bd728008c862": {
     "model_module": "@jupyter-widgets/controls",
     "model_module_version": "1.5.0",
     "model_name": "DescriptionStyleModel",
     "state": {
      "_model_module": "@jupyter-widgets/controls",
      "_model_module_version": "1.5.0",
      "_model_name": "DescriptionStyleModel",
      "_view_count": null,
      "_view_module": "@jupyter-widgets/base",
      "_view_module_version": "1.2.0",
      "_view_name": "StyleView",
      "description_width": ""
     }
    },
    "069e704b4be74050af7644eb8bcdd368": {
     "model_module": "@jupyter-widgets/controls",
     "model_module_version": "1.5.0",
     "model_name": "HTMLModel",
     "state": {
      "_dom_classes": [],
      "_model_module": "@jupyter-widgets/controls",
      "_model_module_version": "1.5.0",
      "_model_name": "HTMLModel",
      "_view_count": null,
      "_view_module": "@jupyter-widgets/controls",
      "_view_module_version": "1.5.0",
      "_view_name": "HTMLView",
      "description": "",
      "description_tooltip": null,
      "layout": "IPY_MODEL_4c556ff080b547ea92df2590886ff7de",
      "placeholder": "​",
      "style": "IPY_MODEL_bcddc48b44e84607834230f50cfc3300",
      "value": "Map: 100%"
     }
    },
    "075954eb6698433ea3ff28f84c031cb3": {
     "model_module": "@jupyter-widgets/controls",
     "model_module_version": "1.5.0",
     "model_name": "FloatProgressModel",
     "state": {
      "_dom_classes": [],
      "_model_module": "@jupyter-widgets/controls",
      "_model_module_version": "1.5.0",
      "_model_name": "FloatProgressModel",
      "_view_count": null,
      "_view_module": "@jupyter-widgets/controls",
      "_view_module_version": "1.5.0",
      "_view_name": "ProgressView",
      "bar_style": "success",
      "description": "",
      "description_tooltip": null,
      "layout": "IPY_MODEL_bfe3e8ffd5b846e89640e0d526a88811",
      "max": 2870,
      "min": 0,
      "orientation": "horizontal",
      "style": "IPY_MODEL_5d81b3855ed345f3aa54e566c1a42354",
      "value": 2870
     }
    },
    "0e2f1f938999473d9605db2573eef579": {
     "model_module": "@jupyter-widgets/controls",
     "model_module_version": "1.5.0",
     "model_name": "FloatProgressModel",
     "state": {
      "_dom_classes": [],
      "_model_module": "@jupyter-widgets/controls",
      "_model_module_version": "1.5.0",
      "_model_name": "FloatProgressModel",
      "_view_count": null,
      "_view_module": "@jupyter-widgets/controls",
      "_view_module_version": "1.5.0",
      "_view_name": "ProgressView",
      "bar_style": "success",
      "description": "",
      "description_tooltip": null,
      "layout": "IPY_MODEL_bae0f28f97ca4de096c5693c43f821f4",
      "max": 286,
      "min": 0,
      "orientation": "horizontal",
      "style": "IPY_MODEL_2a488bf1e75e48a6843ab88496de3897",
      "value": 286
     }
    },
    "193543f9f6fd4aadaaa0149891d1e8d2": {
     "model_module": "@jupyter-widgets/controls",
     "model_module_version": "1.5.0",
     "model_name": "HTMLModel",
     "state": {
      "_dom_classes": [],
      "_model_module": "@jupyter-widgets/controls",
      "_model_module_version": "1.5.0",
      "_model_name": "HTMLModel",
      "_view_count": null,
      "_view_module": "@jupyter-widgets/controls",
      "_view_module_version": "1.5.0",
      "_view_name": "HTMLView",
      "description": "",
      "description_tooltip": null,
      "layout": "IPY_MODEL_3c6ee7a02b6c4332bd19cf1d24aa398d",
      "placeholder": "​",
      "style": "IPY_MODEL_e015363a80e845679a234bed5cc64b55",
      "value": " 286/286 [00:00&lt;00:00, 4532.79 examples/s]"
     }
    },
    "1c1d648d78434dc9ae4c604afc86abe8": {
     "model_module": "@jupyter-widgets/controls",
     "model_module_version": "1.5.0",
     "model_name": "DescriptionStyleModel",
     "state": {
      "_model_module": "@jupyter-widgets/controls",
      "_model_module_version": "1.5.0",
      "_model_name": "DescriptionStyleModel",
      "_view_count": null,
      "_view_module": "@jupyter-widgets/base",
      "_view_module_version": "1.2.0",
      "_view_name": "StyleView",
      "description_width": ""
     }
    },
    "1d189704ed1b4e358835420caf344b52": {
     "model_module": "@jupyter-widgets/controls",
     "model_module_version": "1.5.0",
     "model_name": "ProgressStyleModel",
     "state": {
      "_model_module": "@jupyter-widgets/controls",
      "_model_module_version": "1.5.0",
      "_model_name": "ProgressStyleModel",
      "_view_count": null,
      "_view_module": "@jupyter-widgets/base",
      "_view_module_version": "1.2.0",
      "_view_name": "StyleView",
      "bar_color": null,
      "description_width": ""
     }
    },
    "2909aba393124bb7885b3d40a4c668c1": {
     "model_module": "@jupyter-widgets/base",
     "model_module_version": "1.2.0",
     "model_name": "LayoutModel",
     "state": {
      "_model_module": "@jupyter-widgets/base",
      "_model_module_version": "1.2.0",
      "_model_name": "LayoutModel",
      "_view_count": null,
      "_view_module": "@jupyter-widgets/base",
      "_view_module_version": "1.2.0",
      "_view_name": "LayoutView",
      "align_content": null,
      "align_items": null,
      "align_self": null,
      "border": null,
      "bottom": null,
      "display": null,
      "flex": null,
      "flex_flow": null,
      "grid_area": null,
      "grid_auto_columns": null,
      "grid_auto_flow": null,
      "grid_auto_rows": null,
      "grid_column": null,
      "grid_gap": null,
      "grid_row": null,
      "grid_template_areas": null,
      "grid_template_columns": null,
      "grid_template_rows": null,
      "height": null,
      "justify_content": null,
      "justify_items": null,
      "left": null,
      "margin": null,
      "max_height": null,
      "max_width": null,
      "min_height": null,
      "min_width": null,
      "object_fit": null,
      "object_position": null,
      "order": null,
      "overflow": null,
      "overflow_x": null,
      "overflow_y": null,
      "padding": null,
      "right": null,
      "top": null,
      "visibility": null,
      "width": null
     }
    },
    "2a488bf1e75e48a6843ab88496de3897": {
     "model_module": "@jupyter-widgets/controls",
     "model_module_version": "1.5.0",
     "model_name": "ProgressStyleModel",
     "state": {
      "_model_module": "@jupyter-widgets/controls",
      "_model_module_version": "1.5.0",
      "_model_name": "ProgressStyleModel",
      "_view_count": null,
      "_view_module": "@jupyter-widgets/base",
      "_view_module_version": "1.2.0",
      "_view_name": "StyleView",
      "bar_color": null,
      "description_width": ""
     }
    },
    "304ae7e02a9b4bc9bb99a6dae5113b8f": {
     "model_module": "@jupyter-widgets/controls",
     "model_module_version": "1.5.0",
     "model_name": "DescriptionStyleModel",
     "state": {
      "_model_module": "@jupyter-widgets/controls",
      "_model_module_version": "1.5.0",
      "_model_name": "DescriptionStyleModel",
      "_view_count": null,
      "_view_module": "@jupyter-widgets/base",
      "_view_module_version": "1.2.0",
      "_view_name": "StyleView",
      "description_width": ""
     }
    },
    "3228b1f888024be0b06aeda84b8502b0": {
     "model_module": "@jupyter-widgets/base",
     "model_module_version": "1.2.0",
     "model_name": "LayoutModel",
     "state": {
      "_model_module": "@jupyter-widgets/base",
      "_model_module_version": "1.2.0",
      "_model_name": "LayoutModel",
      "_view_count": null,
      "_view_module": "@jupyter-widgets/base",
      "_view_module_version": "1.2.0",
      "_view_name": "LayoutView",
      "align_content": null,
      "align_items": null,
      "align_self": null,
      "border": null,
      "bottom": null,
      "display": null,
      "flex": null,
      "flex_flow": null,
      "grid_area": null,
      "grid_auto_columns": null,
      "grid_auto_flow": null,
      "grid_auto_rows": null,
      "grid_column": null,
      "grid_gap": null,
      "grid_row": null,
      "grid_template_areas": null,
      "grid_template_columns": null,
      "grid_template_rows": null,
      "height": null,
      "justify_content": null,
      "justify_items": null,
      "left": null,
      "margin": null,
      "max_height": null,
      "max_width": null,
      "min_height": null,
      "min_width": null,
      "object_fit": null,
      "object_position": null,
      "order": null,
      "overflow": null,
      "overflow_x": null,
      "overflow_y": null,
      "padding": null,
      "right": null,
      "top": null,
      "visibility": null,
      "width": null
     }
    },
    "32f452a93c2f418e8bd0ead759a96550": {
     "model_module": "@jupyter-widgets/controls",
     "model_module_version": "1.5.0",
     "model_name": "FloatProgressModel",
     "state": {
      "_dom_classes": [],
      "_model_module": "@jupyter-widgets/controls",
      "_model_module_version": "1.5.0",
      "_model_name": "FloatProgressModel",
      "_view_count": null,
      "_view_module": "@jupyter-widgets/controls",
      "_view_module_version": "1.5.0",
      "_view_name": "ProgressView",
      "bar_style": "success",
      "description": "",
      "description_tooltip": null,
      "layout": "IPY_MODEL_e956d628e75249b39b7b801ead527388",
      "max": 2870,
      "min": 0,
      "orientation": "horizontal",
      "style": "IPY_MODEL_1d189704ed1b4e358835420caf344b52",
      "value": 2870
     }
    },
    "33629126ca424b9d84093f7e66206350": {
     "model_module": "@jupyter-widgets/controls",
     "model_module_version": "1.5.0",
     "model_name": "DescriptionStyleModel",
     "state": {
      "_model_module": "@jupyter-widgets/controls",
      "_model_module_version": "1.5.0",
      "_model_name": "DescriptionStyleModel",
      "_view_count": null,
      "_view_module": "@jupyter-widgets/base",
      "_view_module_version": "1.2.0",
      "_view_name": "StyleView",
      "description_width": ""
     }
    },
    "33cf4549d4b449c8b094774d212e453d": {
     "model_module": "@jupyter-widgets/controls",
     "model_module_version": "1.5.0",
     "model_name": "ProgressStyleModel",
     "state": {
      "_model_module": "@jupyter-widgets/controls",
      "_model_module_version": "1.5.0",
      "_model_name": "ProgressStyleModel",
      "_view_count": null,
      "_view_module": "@jupyter-widgets/base",
      "_view_module_version": "1.2.0",
      "_view_name": "StyleView",
      "bar_color": null,
      "description_width": ""
     }
    },
    "33dc488dff5d4225845f3adc02523e47": {
     "model_module": "@jupyter-widgets/base",
     "model_module_version": "1.2.0",
     "model_name": "LayoutModel",
     "state": {
      "_model_module": "@jupyter-widgets/base",
      "_model_module_version": "1.2.0",
      "_model_name": "LayoutModel",
      "_view_count": null,
      "_view_module": "@jupyter-widgets/base",
      "_view_module_version": "1.2.0",
      "_view_name": "LayoutView",
      "align_content": null,
      "align_items": null,
      "align_self": null,
      "border": null,
      "bottom": null,
      "display": null,
      "flex": null,
      "flex_flow": null,
      "grid_area": null,
      "grid_auto_columns": null,
      "grid_auto_flow": null,
      "grid_auto_rows": null,
      "grid_column": null,
      "grid_gap": null,
      "grid_row": null,
      "grid_template_areas": null,
      "grid_template_columns": null,
      "grid_template_rows": null,
      "height": null,
      "justify_content": null,
      "justify_items": null,
      "left": null,
      "margin": null,
      "max_height": null,
      "max_width": null,
      "min_height": null,
      "min_width": null,
      "object_fit": null,
      "object_position": null,
      "order": null,
      "overflow": null,
      "overflow_x": null,
      "overflow_y": null,
      "padding": null,
      "right": null,
      "top": null,
      "visibility": null,
      "width": null
     }
    },
    "35bffac2b4654b198cb5eac92ed6e9af": {
     "model_module": "@jupyter-widgets/base",
     "model_module_version": "1.2.0",
     "model_name": "LayoutModel",
     "state": {
      "_model_module": "@jupyter-widgets/base",
      "_model_module_version": "1.2.0",
      "_model_name": "LayoutModel",
      "_view_count": null,
      "_view_module": "@jupyter-widgets/base",
      "_view_module_version": "1.2.0",
      "_view_name": "LayoutView",
      "align_content": null,
      "align_items": null,
      "align_self": null,
      "border": null,
      "bottom": null,
      "display": null,
      "flex": null,
      "flex_flow": null,
      "grid_area": null,
      "grid_auto_columns": null,
      "grid_auto_flow": null,
      "grid_auto_rows": null,
      "grid_column": null,
      "grid_gap": null,
      "grid_row": null,
      "grid_template_areas": null,
      "grid_template_columns": null,
      "grid_template_rows": null,
      "height": null,
      "justify_content": null,
      "justify_items": null,
      "left": null,
      "margin": null,
      "max_height": null,
      "max_width": null,
      "min_height": null,
      "min_width": null,
      "object_fit": null,
      "object_position": null,
      "order": null,
      "overflow": null,
      "overflow_x": null,
      "overflow_y": null,
      "padding": null,
      "right": null,
      "top": null,
      "visibility": null,
      "width": null
     }
    },
    "3c6ee7a02b6c4332bd19cf1d24aa398d": {
     "model_module": "@jupyter-widgets/base",
     "model_module_version": "1.2.0",
     "model_name": "LayoutModel",
     "state": {
      "_model_module": "@jupyter-widgets/base",
      "_model_module_version": "1.2.0",
      "_model_name": "LayoutModel",
      "_view_count": null,
      "_view_module": "@jupyter-widgets/base",
      "_view_module_version": "1.2.0",
      "_view_name": "LayoutView",
      "align_content": null,
      "align_items": null,
      "align_self": null,
      "border": null,
      "bottom": null,
      "display": null,
      "flex": null,
      "flex_flow": null,
      "grid_area": null,
      "grid_auto_columns": null,
      "grid_auto_flow": null,
      "grid_auto_rows": null,
      "grid_column": null,
      "grid_gap": null,
      "grid_row": null,
      "grid_template_areas": null,
      "grid_template_columns": null,
      "grid_template_rows": null,
      "height": null,
      "justify_content": null,
      "justify_items": null,
      "left": null,
      "margin": null,
      "max_height": null,
      "max_width": null,
      "min_height": null,
      "min_width": null,
      "object_fit": null,
      "object_position": null,
      "order": null,
      "overflow": null,
      "overflow_x": null,
      "overflow_y": null,
      "padding": null,
      "right": null,
      "top": null,
      "visibility": null,
      "width": null
     }
    },
    "3d0ba89e15964c428fb8bd72be557d33": {
     "model_module": "@jupyter-widgets/controls",
     "model_module_version": "1.5.0",
     "model_name": "HTMLModel",
     "state": {
      "_dom_classes": [],
      "_model_module": "@jupyter-widgets/controls",
      "_model_module_version": "1.5.0",
      "_model_name": "HTMLModel",
      "_view_count": null,
      "_view_module": "@jupyter-widgets/controls",
      "_view_module_version": "1.5.0",
      "_view_name": "HTMLView",
      "description": "",
      "description_tooltip": null,
      "layout": "IPY_MODEL_619c7c81da0141b39d65583386762047",
      "placeholder": "​",
      "style": "IPY_MODEL_33629126ca424b9d84093f7e66206350",
      "value": "Map: 100%"
     }
    },
    "48aac34665234baab83bc78540b50c42": {
     "model_module": "@jupyter-widgets/controls",
     "model_module_version": "1.5.0",
     "model_name": "HBoxModel",
     "state": {
      "_dom_classes": [],
      "_model_module": "@jupyter-widgets/controls",
      "_model_module_version": "1.5.0",
      "_model_name": "HBoxModel",
      "_view_count": null,
      "_view_module": "@jupyter-widgets/controls",
      "_view_module_version": "1.5.0",
      "_view_name": "HBoxView",
      "box_style": "",
      "children": [
       "IPY_MODEL_7d3f145482ec47fca58df5ace1f2e6c6",
       "IPY_MODEL_893605e6a5a840b89093905fe6121578",
       "IPY_MODEL_e1d0065a79bb4cccb0fb86c03436c6b3"
      ],
      "layout": "IPY_MODEL_35bffac2b4654b198cb5eac92ed6e9af"
     }
    },
    "4c556ff080b547ea92df2590886ff7de": {
     "model_module": "@jupyter-widgets/base",
     "model_module_version": "1.2.0",
     "model_name": "LayoutModel",
     "state": {
      "_model_module": "@jupyter-widgets/base",
      "_model_module_version": "1.2.0",
      "_model_name": "LayoutModel",
      "_view_count": null,
      "_view_module": "@jupyter-widgets/base",
      "_view_module_version": "1.2.0",
      "_view_name": "LayoutView",
      "align_content": null,
      "align_items": null,
      "align_self": null,
      "border": null,
      "bottom": null,
      "display": null,
      "flex": null,
      "flex_flow": null,
      "grid_area": null,
      "grid_auto_columns": null,
      "grid_auto_flow": null,
      "grid_auto_rows": null,
      "grid_column": null,
      "grid_gap": null,
      "grid_row": null,
      "grid_template_areas": null,
      "grid_template_columns": null,
      "grid_template_rows": null,
      "height": null,
      "justify_content": null,
      "justify_items": null,
      "left": null,
      "margin": null,
      "max_height": null,
      "max_width": null,
      "min_height": null,
      "min_width": null,
      "object_fit": null,
      "object_position": null,
      "order": null,
      "overflow": null,
      "overflow_x": null,
      "overflow_y": null,
      "padding": null,
      "right": null,
      "top": null,
      "visibility": null,
      "width": null
     }
    },
    "5295c26e4eef4d78bab14c501a711f1c": {
     "model_module": "@jupyter-widgets/base",
     "model_module_version": "1.2.0",
     "model_name": "LayoutModel",
     "state": {
      "_model_module": "@jupyter-widgets/base",
      "_model_module_version": "1.2.0",
      "_model_name": "LayoutModel",
      "_view_count": null,
      "_view_module": "@jupyter-widgets/base",
      "_view_module_version": "1.2.0",
      "_view_name": "LayoutView",
      "align_content": null,
      "align_items": null,
      "align_self": null,
      "border": null,
      "bottom": null,
      "display": null,
      "flex": null,
      "flex_flow": null,
      "grid_area": null,
      "grid_auto_columns": null,
      "grid_auto_flow": null,
      "grid_auto_rows": null,
      "grid_column": null,
      "grid_gap": null,
      "grid_row": null,
      "grid_template_areas": null,
      "grid_template_columns": null,
      "grid_template_rows": null,
      "height": null,
      "justify_content": null,
      "justify_items": null,
      "left": null,
      "margin": null,
      "max_height": null,
      "max_width": null,
      "min_height": null,
      "min_width": null,
      "object_fit": null,
      "object_position": null,
      "order": null,
      "overflow": null,
      "overflow_x": null,
      "overflow_y": null,
      "padding": null,
      "right": null,
      "top": null,
      "visibility": null,
      "width": null
     }
    },
    "53fd188602e64f79ba5739c004b6d4a5": {
     "model_module": "@jupyter-widgets/base",
     "model_module_version": "1.2.0",
     "model_name": "LayoutModel",
     "state": {
      "_model_module": "@jupyter-widgets/base",
      "_model_module_version": "1.2.0",
      "_model_name": "LayoutModel",
      "_view_count": null,
      "_view_module": "@jupyter-widgets/base",
      "_view_module_version": "1.2.0",
      "_view_name": "LayoutView",
      "align_content": null,
      "align_items": null,
      "align_self": null,
      "border": null,
      "bottom": null,
      "display": null,
      "flex": null,
      "flex_flow": null,
      "grid_area": null,
      "grid_auto_columns": null,
      "grid_auto_flow": null,
      "grid_auto_rows": null,
      "grid_column": null,
      "grid_gap": null,
      "grid_row": null,
      "grid_template_areas": null,
      "grid_template_columns": null,
      "grid_template_rows": null,
      "height": null,
      "justify_content": null,
      "justify_items": null,
      "left": null,
      "margin": null,
      "max_height": null,
      "max_width": null,
      "min_height": null,
      "min_width": null,
      "object_fit": null,
      "object_position": null,
      "order": null,
      "overflow": null,
      "overflow_x": null,
      "overflow_y": null,
      "padding": null,
      "right": null,
      "top": null,
      "visibility": null,
      "width": null
     }
    },
    "55e0e455726644c8a76e52c972c37a62": {
     "model_module": "@jupyter-widgets/base",
     "model_module_version": "1.2.0",
     "model_name": "LayoutModel",
     "state": {
      "_model_module": "@jupyter-widgets/base",
      "_model_module_version": "1.2.0",
      "_model_name": "LayoutModel",
      "_view_count": null,
      "_view_module": "@jupyter-widgets/base",
      "_view_module_version": "1.2.0",
      "_view_name": "LayoutView",
      "align_content": null,
      "align_items": null,
      "align_self": null,
      "border": null,
      "bottom": null,
      "display": null,
      "flex": null,
      "flex_flow": null,
      "grid_area": null,
      "grid_auto_columns": null,
      "grid_auto_flow": null,
      "grid_auto_rows": null,
      "grid_column": null,
      "grid_gap": null,
      "grid_row": null,
      "grid_template_areas": null,
      "grid_template_columns": null,
      "grid_template_rows": null,
      "height": null,
      "justify_content": null,
      "justify_items": null,
      "left": null,
      "margin": null,
      "max_height": null,
      "max_width": null,
      "min_height": null,
      "min_width": null,
      "object_fit": null,
      "object_position": null,
      "order": null,
      "overflow": null,
      "overflow_x": null,
      "overflow_y": null,
      "padding": null,
      "right": null,
      "top": null,
      "visibility": null,
      "width": null
     }
    },
    "574a5a0f6a5e4263ac3e0ab5da504173": {
     "model_module": "@jupyter-widgets/controls",
     "model_module_version": "1.5.0",
     "model_name": "DescriptionStyleModel",
     "state": {
      "_model_module": "@jupyter-widgets/controls",
      "_model_module_version": "1.5.0",
      "_model_name": "DescriptionStyleModel",
      "_view_count": null,
      "_view_module": "@jupyter-widgets/base",
      "_view_module_version": "1.2.0",
      "_view_name": "StyleView",
      "description_width": ""
     }
    },
    "581b189ac418427fb7b6346a255c3cf3": {
     "model_module": "@jupyter-widgets/base",
     "model_module_version": "1.2.0",
     "model_name": "LayoutModel",
     "state": {
      "_model_module": "@jupyter-widgets/base",
      "_model_module_version": "1.2.0",
      "_model_name": "LayoutModel",
      "_view_count": null,
      "_view_module": "@jupyter-widgets/base",
      "_view_module_version": "1.2.0",
      "_view_name": "LayoutView",
      "align_content": null,
      "align_items": null,
      "align_self": null,
      "border": null,
      "bottom": null,
      "display": null,
      "flex": null,
      "flex_flow": null,
      "grid_area": null,
      "grid_auto_columns": null,
      "grid_auto_flow": null,
      "grid_auto_rows": null,
      "grid_column": null,
      "grid_gap": null,
      "grid_row": null,
      "grid_template_areas": null,
      "grid_template_columns": null,
      "grid_template_rows": null,
      "height": null,
      "justify_content": null,
      "justify_items": null,
      "left": null,
      "margin": null,
      "max_height": null,
      "max_width": null,
      "min_height": null,
      "min_width": null,
      "object_fit": null,
      "object_position": null,
      "order": null,
      "overflow": null,
      "overflow_x": null,
      "overflow_y": null,
      "padding": null,
      "right": null,
      "top": null,
      "visibility": null,
      "width": null
     }
    },
    "5b0fb6e9bae647e38c54262661d04749": {
     "model_module": "@jupyter-widgets/controls",
     "model_module_version": "1.5.0",
     "model_name": "DescriptionStyleModel",
     "state": {
      "_model_module": "@jupyter-widgets/controls",
      "_model_module_version": "1.5.0",
      "_model_name": "DescriptionStyleModel",
      "_view_count": null,
      "_view_module": "@jupyter-widgets/base",
      "_view_module_version": "1.2.0",
      "_view_name": "StyleView",
      "description_width": ""
     }
    },
    "5d81b3855ed345f3aa54e566c1a42354": {
     "model_module": "@jupyter-widgets/controls",
     "model_module_version": "1.5.0",
     "model_name": "ProgressStyleModel",
     "state": {
      "_model_module": "@jupyter-widgets/controls",
      "_model_module_version": "1.5.0",
      "_model_name": "ProgressStyleModel",
      "_view_count": null,
      "_view_module": "@jupyter-widgets/base",
      "_view_module_version": "1.2.0",
      "_view_name": "StyleView",
      "bar_color": null,
      "description_width": ""
     }
    },
    "5e583effa29e448eb3986751c74079ab": {
     "model_module": "@jupyter-widgets/controls",
     "model_module_version": "1.5.0",
     "model_name": "HTMLModel",
     "state": {
      "_dom_classes": [],
      "_model_module": "@jupyter-widgets/controls",
      "_model_module_version": "1.5.0",
      "_model_name": "HTMLModel",
      "_view_count": null,
      "_view_module": "@jupyter-widgets/controls",
      "_view_module_version": "1.5.0",
      "_view_name": "HTMLView",
      "description": "",
      "description_tooltip": null,
      "layout": "IPY_MODEL_53fd188602e64f79ba5739c004b6d4a5",
      "placeholder": "​",
      "style": "IPY_MODEL_82b7888ced5a43cfa31d373b909b25ab",
      "value": " 158/158 [00:00&lt;00:00, 2946.30 examples/s]"
     }
    },
    "619c7c81da0141b39d65583386762047": {
     "model_module": "@jupyter-widgets/base",
     "model_module_version": "1.2.0",
     "model_name": "LayoutModel",
     "state": {
      "_model_module": "@jupyter-widgets/base",
      "_model_module_version": "1.2.0",
      "_model_name": "LayoutModel",
      "_view_count": null,
      "_view_module": "@jupyter-widgets/base",
      "_view_module_version": "1.2.0",
      "_view_name": "LayoutView",
      "align_content": null,
      "align_items": null,
      "align_self": null,
      "border": null,
      "bottom": null,
      "display": null,
      "flex": null,
      "flex_flow": null,
      "grid_area": null,
      "grid_auto_columns": null,
      "grid_auto_flow": null,
      "grid_auto_rows": null,
      "grid_column": null,
      "grid_gap": null,
      "grid_row": null,
      "grid_template_areas": null,
      "grid_template_columns": null,
      "grid_template_rows": null,
      "height": null,
      "justify_content": null,
      "justify_items": null,
      "left": null,
      "margin": null,
      "max_height": null,
      "max_width": null,
      "min_height": null,
      "min_width": null,
      "object_fit": null,
      "object_position": null,
      "order": null,
      "overflow": null,
      "overflow_x": null,
      "overflow_y": null,
      "padding": null,
      "right": null,
      "top": null,
      "visibility": null,
      "width": null
     }
    },
    "6686346a90094ac9a608656a35ba768f": {
     "model_module": "@jupyter-widgets/base",
     "model_module_version": "1.2.0",
     "model_name": "LayoutModel",
     "state": {
      "_model_module": "@jupyter-widgets/base",
      "_model_module_version": "1.2.0",
      "_model_name": "LayoutModel",
      "_view_count": null,
      "_view_module": "@jupyter-widgets/base",
      "_view_module_version": "1.2.0",
      "_view_name": "LayoutView",
      "align_content": null,
      "align_items": null,
      "align_self": null,
      "border": null,
      "bottom": null,
      "display": null,
      "flex": null,
      "flex_flow": null,
      "grid_area": null,
      "grid_auto_columns": null,
      "grid_auto_flow": null,
      "grid_auto_rows": null,
      "grid_column": null,
      "grid_gap": null,
      "grid_row": null,
      "grid_template_areas": null,
      "grid_template_columns": null,
      "grid_template_rows": null,
      "height": null,
      "justify_content": null,
      "justify_items": null,
      "left": null,
      "margin": null,
      "max_height": null,
      "max_width": null,
      "min_height": null,
      "min_width": null,
      "object_fit": null,
      "object_position": null,
      "order": null,
      "overflow": null,
      "overflow_x": null,
      "overflow_y": null,
      "padding": null,
      "right": null,
      "top": null,
      "visibility": null,
      "width": null
     }
    },
    "679a273cb0ff42bcaa04c2ee81d6e466": {
     "model_module": "@jupyter-widgets/controls",
     "model_module_version": "1.5.0",
     "model_name": "DescriptionStyleModel",
     "state": {
      "_model_module": "@jupyter-widgets/controls",
      "_model_module_version": "1.5.0",
      "_model_name": "DescriptionStyleModel",
      "_view_count": null,
      "_view_module": "@jupyter-widgets/base",
      "_view_module_version": "1.2.0",
      "_view_name": "StyleView",
      "description_width": ""
     }
    },
    "6ef062e99c2648ba9da2bccd76050dd1": {
     "model_module": "@jupyter-widgets/base",
     "model_module_version": "1.2.0",
     "model_name": "LayoutModel",
     "state": {
      "_model_module": "@jupyter-widgets/base",
      "_model_module_version": "1.2.0",
      "_model_name": "LayoutModel",
      "_view_count": null,
      "_view_module": "@jupyter-widgets/base",
      "_view_module_version": "1.2.0",
      "_view_name": "LayoutView",
      "align_content": null,
      "align_items": null,
      "align_self": null,
      "border": null,
      "bottom": null,
      "display": null,
      "flex": null,
      "flex_flow": null,
      "grid_area": null,
      "grid_auto_columns": null,
      "grid_auto_flow": null,
      "grid_auto_rows": null,
      "grid_column": null,
      "grid_gap": null,
      "grid_row": null,
      "grid_template_areas": null,
      "grid_template_columns": null,
      "grid_template_rows": null,
      "height": null,
      "justify_content": null,
      "justify_items": null,
      "left": null,
      "margin": null,
      "max_height": null,
      "max_width": null,
      "min_height": null,
      "min_width": null,
      "object_fit": null,
      "object_position": null,
      "order": null,
      "overflow": null,
      "overflow_x": null,
      "overflow_y": null,
      "padding": null,
      "right": null,
      "top": null,
      "visibility": null,
      "width": null
     }
    },
    "7d3f145482ec47fca58df5ace1f2e6c6": {
     "model_module": "@jupyter-widgets/controls",
     "model_module_version": "1.5.0",
     "model_name": "HTMLModel",
     "state": {
      "_dom_classes": [],
      "_model_module": "@jupyter-widgets/controls",
      "_model_module_version": "1.5.0",
      "_model_name": "HTMLModel",
      "_view_count": null,
      "_view_module": "@jupyter-widgets/controls",
      "_view_module_version": "1.5.0",
      "_view_name": "HTMLView",
      "description": "",
      "description_tooltip": null,
      "layout": "IPY_MODEL_33dc488dff5d4225845f3adc02523e47",
      "placeholder": "​",
      "style": "IPY_MODEL_679a273cb0ff42bcaa04c2ee81d6e466",
      "value": "Map: 100%"
     }
    },
    "82b7888ced5a43cfa31d373b909b25ab": {
     "model_module": "@jupyter-widgets/controls",
     "model_module_version": "1.5.0",
     "model_name": "DescriptionStyleModel",
     "state": {
      "_model_module": "@jupyter-widgets/controls",
      "_model_module_version": "1.5.0",
      "_model_name": "DescriptionStyleModel",
      "_view_count": null,
      "_view_module": "@jupyter-widgets/base",
      "_view_module_version": "1.2.0",
      "_view_name": "StyleView",
      "description_width": ""
     }
    },
    "8360bae8197247e386e54056c475dc84": {
     "model_module": "@jupyter-widgets/base",
     "model_module_version": "1.2.0",
     "model_name": "LayoutModel",
     "state": {
      "_model_module": "@jupyter-widgets/base",
      "_model_module_version": "1.2.0",
      "_model_name": "LayoutModel",
      "_view_count": null,
      "_view_module": "@jupyter-widgets/base",
      "_view_module_version": "1.2.0",
      "_view_name": "LayoutView",
      "align_content": null,
      "align_items": null,
      "align_self": null,
      "border": null,
      "bottom": null,
      "display": null,
      "flex": null,
      "flex_flow": null,
      "grid_area": null,
      "grid_auto_columns": null,
      "grid_auto_flow": null,
      "grid_auto_rows": null,
      "grid_column": null,
      "grid_gap": null,
      "grid_row": null,
      "grid_template_areas": null,
      "grid_template_columns": null,
      "grid_template_rows": null,
      "height": null,
      "justify_content": null,
      "justify_items": null,
      "left": null,
      "margin": null,
      "max_height": null,
      "max_width": null,
      "min_height": null,
      "min_width": null,
      "object_fit": null,
      "object_position": null,
      "order": null,
      "overflow": null,
      "overflow_x": null,
      "overflow_y": null,
      "padding": null,
      "right": null,
      "top": null,
      "visibility": null,
      "width": null
     }
    },
    "83d806dde2024e21b7eedc3e06d7ace7": {
     "model_module": "@jupyter-widgets/controls",
     "model_module_version": "1.5.0",
     "model_name": "HTMLModel",
     "state": {
      "_dom_classes": [],
      "_model_module": "@jupyter-widgets/controls",
      "_model_module_version": "1.5.0",
      "_model_name": "HTMLModel",
      "_view_count": null,
      "_view_module": "@jupyter-widgets/controls",
      "_view_module_version": "1.5.0",
      "_view_name": "HTMLView",
      "description": "",
      "description_tooltip": null,
      "layout": "IPY_MODEL_55e0e455726644c8a76e52c972c37a62",
      "placeholder": "​",
      "style": "IPY_MODEL_d9b7740efd0f4a1a86a5beb08b850019",
      "value": "Map: 100%"
     }
    },
    "8720a0d02edc4659900d762ae49d08c2": {
     "model_module": "@jupyter-widgets/controls",
     "model_module_version": "1.5.0",
     "model_name": "FloatProgressModel",
     "state": {
      "_dom_classes": [],
      "_model_module": "@jupyter-widgets/controls",
      "_model_module_version": "1.5.0",
      "_model_name": "FloatProgressModel",
      "_view_count": null,
      "_view_module": "@jupyter-widgets/controls",
      "_view_module_version": "1.5.0",
      "_view_name": "ProgressView",
      "bar_style": "success",
      "description": "",
      "description_tooltip": null,
      "layout": "IPY_MODEL_8745282fc0034fd2833eb514e44e00f8",
      "max": 286,
      "min": 0,
      "orientation": "horizontal",
      "style": "IPY_MODEL_33cf4549d4b449c8b094774d212e453d",
      "value": 286
     }
    },
    "8745282fc0034fd2833eb514e44e00f8": {
     "model_module": "@jupyter-widgets/base",
     "model_module_version": "1.2.0",
     "model_name": "LayoutModel",
     "state": {
      "_model_module": "@jupyter-widgets/base",
      "_model_module_version": "1.2.0",
      "_model_name": "LayoutModel",
      "_view_count": null,
      "_view_module": "@jupyter-widgets/base",
      "_view_module_version": "1.2.0",
      "_view_name": "LayoutView",
      "align_content": null,
      "align_items": null,
      "align_self": null,
      "border": null,
      "bottom": null,
      "display": null,
      "flex": null,
      "flex_flow": null,
      "grid_area": null,
      "grid_auto_columns": null,
      "grid_auto_flow": null,
      "grid_auto_rows": null,
      "grid_column": null,
      "grid_gap": null,
      "grid_row": null,
      "grid_template_areas": null,
      "grid_template_columns": null,
      "grid_template_rows": null,
      "height": null,
      "justify_content": null,
      "justify_items": null,
      "left": null,
      "margin": null,
      "max_height": null,
      "max_width": null,
      "min_height": null,
      "min_width": null,
      "object_fit": null,
      "object_position": null,
      "order": null,
      "overflow": null,
      "overflow_x": null,
      "overflow_y": null,
      "padding": null,
      "right": null,
      "top": null,
      "visibility": null,
      "width": null
     }
    },
    "893605e6a5a840b89093905fe6121578": {
     "model_module": "@jupyter-widgets/controls",
     "model_module_version": "1.5.0",
     "model_name": "FloatProgressModel",
     "state": {
      "_dom_classes": [],
      "_model_module": "@jupyter-widgets/controls",
      "_model_module_version": "1.5.0",
      "_model_name": "FloatProgressModel",
      "_view_count": null,
      "_view_module": "@jupyter-widgets/controls",
      "_view_module_version": "1.5.0",
      "_view_name": "ProgressView",
      "bar_style": "success",
      "description": "",
      "description_tooltip": null,
      "layout": "IPY_MODEL_fb83ccab31664a77b3bef17c5ab62768",
      "max": 158,
      "min": 0,
      "orientation": "horizontal",
      "style": "IPY_MODEL_fe39cceb13b844778470a2bd332b131d",
      "value": 158
     }
    },
    "8a291403e3cb488a8b07b6585b7672e8": {
     "model_module": "@jupyter-widgets/controls",
     "model_module_version": "1.5.0",
     "model_name": "DescriptionStyleModel",
     "state": {
      "_model_module": "@jupyter-widgets/controls",
      "_model_module_version": "1.5.0",
      "_model_name": "DescriptionStyleModel",
      "_view_count": null,
      "_view_module": "@jupyter-widgets/base",
      "_view_module_version": "1.2.0",
      "_view_name": "StyleView",
      "description_width": ""
     }
    },
    "8b65db9770aa4b4c903766c12d8c2aa8": {
     "model_module": "@jupyter-widgets/base",
     "model_module_version": "1.2.0",
     "model_name": "LayoutModel",
     "state": {
      "_model_module": "@jupyter-widgets/base",
      "_model_module_version": "1.2.0",
      "_model_name": "LayoutModel",
      "_view_count": null,
      "_view_module": "@jupyter-widgets/base",
      "_view_module_version": "1.2.0",
      "_view_name": "LayoutView",
      "align_content": null,
      "align_items": null,
      "align_self": null,
      "border": null,
      "bottom": null,
      "display": null,
      "flex": null,
      "flex_flow": null,
      "grid_area": null,
      "grid_auto_columns": null,
      "grid_auto_flow": null,
      "grid_auto_rows": null,
      "grid_column": null,
      "grid_gap": null,
      "grid_row": null,
      "grid_template_areas": null,
      "grid_template_columns": null,
      "grid_template_rows": null,
      "height": null,
      "justify_content": null,
      "justify_items": null,
      "left": null,
      "margin": null,
      "max_height": null,
      "max_width": null,
      "min_height": null,
      "min_width": null,
      "object_fit": null,
      "object_position": null,
      "order": null,
      "overflow": null,
      "overflow_x": null,
      "overflow_y": null,
      "padding": null,
      "right": null,
      "top": null,
      "visibility": null,
      "width": null
     }
    },
    "96333ba152b24f02957084cf131f1237": {
     "model_module": "@jupyter-widgets/controls",
     "model_module_version": "1.5.0",
     "model_name": "HTMLModel",
     "state": {
      "_dom_classes": [],
      "_model_module": "@jupyter-widgets/controls",
      "_model_module_version": "1.5.0",
      "_model_name": "HTMLModel",
      "_view_count": null,
      "_view_module": "@jupyter-widgets/controls",
      "_view_module_version": "1.5.0",
      "_view_name": "HTMLView",
      "description": "",
      "description_tooltip": null,
      "layout": "IPY_MODEL_6686346a90094ac9a608656a35ba768f",
      "placeholder": "​",
      "style": "IPY_MODEL_304ae7e02a9b4bc9bb99a6dae5113b8f",
      "value": " 286/286 [00:00&lt;00:00, 4363.36 examples/s]"
     }
    },
    "9705ff889c2e4228998d509c6d6b3cc3": {
     "model_module": "@jupyter-widgets/controls",
     "model_module_version": "1.5.0",
     "model_name": "HTMLModel",
     "state": {
      "_dom_classes": [],
      "_model_module": "@jupyter-widgets/controls",
      "_model_module_version": "1.5.0",
      "_model_name": "HTMLModel",
      "_view_count": null,
      "_view_module": "@jupyter-widgets/controls",
      "_view_module_version": "1.5.0",
      "_view_name": "HTMLView",
      "description": "",
      "description_tooltip": null,
      "layout": "IPY_MODEL_8b65db9770aa4b4c903766c12d8c2aa8",
      "placeholder": "​",
      "style": "IPY_MODEL_8a291403e3cb488a8b07b6585b7672e8",
      "value": "Map: 100%"
     }
    },
    "9a10170fe57642989f8125359aeaf101": {
     "model_module": "@jupyter-widgets/controls",
     "model_module_version": "1.5.0",
     "model_name": "HBoxModel",
     "state": {
      "_dom_classes": [],
      "_model_module": "@jupyter-widgets/controls",
      "_model_module_version": "1.5.0",
      "_model_name": "HBoxModel",
      "_view_count": null,
      "_view_module": "@jupyter-widgets/controls",
      "_view_module_version": "1.5.0",
      "_view_name": "HBoxView",
      "box_style": "",
      "children": [
       "IPY_MODEL_3d0ba89e15964c428fb8bd72be557d33",
       "IPY_MODEL_32f452a93c2f418e8bd0ead759a96550",
       "IPY_MODEL_e69393fc38c242f3b1dc58be0095c5b8"
      ],
      "layout": "IPY_MODEL_2909aba393124bb7885b3d40a4c668c1"
     }
    },
    "9c69dbd359cc48249d4bfc0a5b157a8a": {
     "model_module": "@jupyter-widgets/base",
     "model_module_version": "1.2.0",
     "model_name": "LayoutModel",
     "state": {
      "_model_module": "@jupyter-widgets/base",
      "_model_module_version": "1.2.0",
      "_model_name": "LayoutModel",
      "_view_count": null,
      "_view_module": "@jupyter-widgets/base",
      "_view_module_version": "1.2.0",
      "_view_name": "LayoutView",
      "align_content": null,
      "align_items": null,
      "align_self": null,
      "border": null,
      "bottom": null,
      "display": null,
      "flex": null,
      "flex_flow": null,
      "grid_area": null,
      "grid_auto_columns": null,
      "grid_auto_flow": null,
      "grid_auto_rows": null,
      "grid_column": null,
      "grid_gap": null,
      "grid_row": null,
      "grid_template_areas": null,
      "grid_template_columns": null,
      "grid_template_rows": null,
      "height": null,
      "justify_content": null,
      "justify_items": null,
      "left": null,
      "margin": null,
      "max_height": null,
      "max_width": null,
      "min_height": null,
      "min_width": null,
      "object_fit": null,
      "object_position": null,
      "order": null,
      "overflow": null,
      "overflow_x": null,
      "overflow_y": null,
      "padding": null,
      "right": null,
      "top": null,
      "visibility": null,
      "width": null
     }
    },
    "9d59491b329740c3b9bc458893c53909": {
     "model_module": "@jupyter-widgets/base",
     "model_module_version": "1.2.0",
     "model_name": "LayoutModel",
     "state": {
      "_model_module": "@jupyter-widgets/base",
      "_model_module_version": "1.2.0",
      "_model_name": "LayoutModel",
      "_view_count": null,
      "_view_module": "@jupyter-widgets/base",
      "_view_module_version": "1.2.0",
      "_view_name": "LayoutView",
      "align_content": null,
      "align_items": null,
      "align_self": null,
      "border": null,
      "bottom": null,
      "display": null,
      "flex": null,
      "flex_flow": null,
      "grid_area": null,
      "grid_auto_columns": null,
      "grid_auto_flow": null,
      "grid_auto_rows": null,
      "grid_column": null,
      "grid_gap": null,
      "grid_row": null,
      "grid_template_areas": null,
      "grid_template_columns": null,
      "grid_template_rows": null,
      "height": null,
      "justify_content": null,
      "justify_items": null,
      "left": null,
      "margin": null,
      "max_height": null,
      "max_width": null,
      "min_height": null,
      "min_width": null,
      "object_fit": null,
      "object_position": null,
      "order": null,
      "overflow": null,
      "overflow_x": null,
      "overflow_y": null,
      "padding": null,
      "right": null,
      "top": null,
      "visibility": null,
      "width": null
     }
    },
    "a0471c21ddbc4dc1bda369075c6520dc": {
     "model_module": "@jupyter-widgets/controls",
     "model_module_version": "1.5.0",
     "model_name": "FloatProgressModel",
     "state": {
      "_dom_classes": [],
      "_model_module": "@jupyter-widgets/controls",
      "_model_module_version": "1.5.0",
      "_model_name": "FloatProgressModel",
      "_view_count": null,
      "_view_module": "@jupyter-widgets/controls",
      "_view_module_version": "1.5.0",
      "_view_name": "ProgressView",
      "bar_style": "success",
      "description": "",
      "description_tooltip": null,
      "layout": "IPY_MODEL_9c69dbd359cc48249d4bfc0a5b157a8a",
      "max": 158,
      "min": 0,
      "orientation": "horizontal",
      "style": "IPY_MODEL_ca163663e94f4a64a6e46b0ba4d39209",
      "value": 158
     }
    },
    "afc54e5939f64a6699447488058892c7": {
     "model_module": "@jupyter-widgets/base",
     "model_module_version": "1.2.0",
     "model_name": "LayoutModel",
     "state": {
      "_model_module": "@jupyter-widgets/base",
      "_model_module_version": "1.2.0",
      "_model_name": "LayoutModel",
      "_view_count": null,
      "_view_module": "@jupyter-widgets/base",
      "_view_module_version": "1.2.0",
      "_view_name": "LayoutView",
      "align_content": null,
      "align_items": null,
      "align_self": null,
      "border": null,
      "bottom": null,
      "display": null,
      "flex": null,
      "flex_flow": null,
      "grid_area": null,
      "grid_auto_columns": null,
      "grid_auto_flow": null,
      "grid_auto_rows": null,
      "grid_column": null,
      "grid_gap": null,
      "grid_row": null,
      "grid_template_areas": null,
      "grid_template_columns": null,
      "grid_template_rows": null,
      "height": null,
      "justify_content": null,
      "justify_items": null,
      "left": null,
      "margin": null,
      "max_height": null,
      "max_width": null,
      "min_height": null,
      "min_width": null,
      "object_fit": null,
      "object_position": null,
      "order": null,
      "overflow": null,
      "overflow_x": null,
      "overflow_y": null,
      "padding": null,
      "right": null,
      "top": null,
      "visibility": null,
      "width": null
     }
    },
    "b330ebfcd2dd453baa46bdebc4b48c84": {
     "model_module": "@jupyter-widgets/controls",
     "model_module_version": "1.5.0",
     "model_name": "HBoxModel",
     "state": {
      "_dom_classes": [],
      "_model_module": "@jupyter-widgets/controls",
      "_model_module_version": "1.5.0",
      "_model_name": "HBoxModel",
      "_view_count": null,
      "_view_module": "@jupyter-widgets/controls",
      "_view_module_version": "1.5.0",
      "_view_name": "HBoxView",
      "box_style": "",
      "children": [
       "IPY_MODEL_9705ff889c2e4228998d509c6d6b3cc3",
       "IPY_MODEL_0e2f1f938999473d9605db2573eef579",
       "IPY_MODEL_193543f9f6fd4aadaaa0149891d1e8d2"
      ],
      "layout": "IPY_MODEL_581b189ac418427fb7b6346a255c3cf3"
     }
    },
    "bae0f28f97ca4de096c5693c43f821f4": {
     "model_module": "@jupyter-widgets/base",
     "model_module_version": "1.2.0",
     "model_name": "LayoutModel",
     "state": {
      "_model_module": "@jupyter-widgets/base",
      "_model_module_version": "1.2.0",
      "_model_name": "LayoutModel",
      "_view_count": null,
      "_view_module": "@jupyter-widgets/base",
      "_view_module_version": "1.2.0",
      "_view_name": "LayoutView",
      "align_content": null,
      "align_items": null,
      "align_self": null,
      "border": null,
      "bottom": null,
      "display": null,
      "flex": null,
      "flex_flow": null,
      "grid_area": null,
      "grid_auto_columns": null,
      "grid_auto_flow": null,
      "grid_auto_rows": null,
      "grid_column": null,
      "grid_gap": null,
      "grid_row": null,
      "grid_template_areas": null,
      "grid_template_columns": null,
      "grid_template_rows": null,
      "height": null,
      "justify_content": null,
      "justify_items": null,
      "left": null,
      "margin": null,
      "max_height": null,
      "max_width": null,
      "min_height": null,
      "min_width": null,
      "object_fit": null,
      "object_position": null,
      "order": null,
      "overflow": null,
      "overflow_x": null,
      "overflow_y": null,
      "padding": null,
      "right": null,
      "top": null,
      "visibility": null,
      "width": null
     }
    },
    "bcddc48b44e84607834230f50cfc3300": {
     "model_module": "@jupyter-widgets/controls",
     "model_module_version": "1.5.0",
     "model_name": "DescriptionStyleModel",
     "state": {
      "_model_module": "@jupyter-widgets/controls",
      "_model_module_version": "1.5.0",
      "_model_name": "DescriptionStyleModel",
      "_view_count": null,
      "_view_module": "@jupyter-widgets/base",
      "_view_module_version": "1.2.0",
      "_view_name": "StyleView",
      "description_width": ""
     }
    },
    "bfe3e8ffd5b846e89640e0d526a88811": {
     "model_module": "@jupyter-widgets/base",
     "model_module_version": "1.2.0",
     "model_name": "LayoutModel",
     "state": {
      "_model_module": "@jupyter-widgets/base",
      "_model_module_version": "1.2.0",
      "_model_name": "LayoutModel",
      "_view_count": null,
      "_view_module": "@jupyter-widgets/base",
      "_view_module_version": "1.2.0",
      "_view_name": "LayoutView",
      "align_content": null,
      "align_items": null,
      "align_self": null,
      "border": null,
      "bottom": null,
      "display": null,
      "flex": null,
      "flex_flow": null,
      "grid_area": null,
      "grid_auto_columns": null,
      "grid_auto_flow": null,
      "grid_auto_rows": null,
      "grid_column": null,
      "grid_gap": null,
      "grid_row": null,
      "grid_template_areas": null,
      "grid_template_columns": null,
      "grid_template_rows": null,
      "height": null,
      "justify_content": null,
      "justify_items": null,
      "left": null,
      "margin": null,
      "max_height": null,
      "max_width": null,
      "min_height": null,
      "min_width": null,
      "object_fit": null,
      "object_position": null,
      "order": null,
      "overflow": null,
      "overflow_x": null,
      "overflow_y": null,
      "padding": null,
      "right": null,
      "top": null,
      "visibility": null,
      "width": null
     }
    },
    "c3149bea92754bad8eb1f63a7de9a05b": {
     "model_module": "@jupyter-widgets/controls",
     "model_module_version": "1.5.0",
     "model_name": "HTMLModel",
     "state": {
      "_dom_classes": [],
      "_model_module": "@jupyter-widgets/controls",
      "_model_module_version": "1.5.0",
      "_model_name": "HTMLModel",
      "_view_count": null,
      "_view_module": "@jupyter-widgets/controls",
      "_view_module_version": "1.5.0",
      "_view_name": "HTMLView",
      "description": "",
      "description_tooltip": null,
      "layout": "IPY_MODEL_6ef062e99c2648ba9da2bccd76050dd1",
      "placeholder": "​",
      "style": "IPY_MODEL_02d40d0867d04eafac27bd728008c862",
      "value": " 2870/2870 [00:00&lt;00:00, 6570.57 examples/s]"
     }
    },
    "c8586b30e59e4a6684fb8536fbd00908": {
     "model_module": "@jupyter-widgets/controls",
     "model_module_version": "1.5.0",
     "model_name": "HBoxModel",
     "state": {
      "_dom_classes": [],
      "_model_module": "@jupyter-widgets/controls",
      "_model_module_version": "1.5.0",
      "_model_name": "HBoxModel",
      "_view_count": null,
      "_view_module": "@jupyter-widgets/controls",
      "_view_module_version": "1.5.0",
      "_view_name": "HBoxView",
      "box_style": "",
      "children": [
       "IPY_MODEL_069e704b4be74050af7644eb8bcdd368",
       "IPY_MODEL_a0471c21ddbc4dc1bda369075c6520dc",
       "IPY_MODEL_5e583effa29e448eb3986751c74079ab"
      ],
      "layout": "IPY_MODEL_3228b1f888024be0b06aeda84b8502b0"
     }
    },
    "ca163663e94f4a64a6e46b0ba4d39209": {
     "model_module": "@jupyter-widgets/controls",
     "model_module_version": "1.5.0",
     "model_name": "ProgressStyleModel",
     "state": {
      "_model_module": "@jupyter-widgets/controls",
      "_model_module_version": "1.5.0",
      "_model_name": "ProgressStyleModel",
      "_view_count": null,
      "_view_module": "@jupyter-widgets/base",
      "_view_module_version": "1.2.0",
      "_view_name": "StyleView",
      "bar_color": null,
      "description_width": ""
     }
    },
    "d01e275effee4d97ae46fbcc254d8a4e": {
     "model_module": "@jupyter-widgets/controls",
     "model_module_version": "1.5.0",
     "model_name": "HBoxModel",
     "state": {
      "_dom_classes": [],
      "_model_module": "@jupyter-widgets/controls",
      "_model_module_version": "1.5.0",
      "_model_name": "HBoxModel",
      "_view_count": null,
      "_view_module": "@jupyter-widgets/controls",
      "_view_module_version": "1.5.0",
      "_view_name": "HBoxView",
      "box_style": "",
      "children": [
       "IPY_MODEL_d22d776e09f34312b8886760a714cbd4",
       "IPY_MODEL_8720a0d02edc4659900d762ae49d08c2",
       "IPY_MODEL_96333ba152b24f02957084cf131f1237"
      ],
      "layout": "IPY_MODEL_afc54e5939f64a6699447488058892c7"
     }
    },
    "d16d783c5a974fad8c53672f8025e5db": {
     "model_module": "@jupyter-widgets/controls",
     "model_module_version": "1.5.0",
     "model_name": "HBoxModel",
     "state": {
      "_dom_classes": [],
      "_model_module": "@jupyter-widgets/controls",
      "_model_module_version": "1.5.0",
      "_model_name": "HBoxModel",
      "_view_count": null,
      "_view_module": "@jupyter-widgets/controls",
      "_view_module_version": "1.5.0",
      "_view_name": "HBoxView",
      "box_style": "",
      "children": [
       "IPY_MODEL_83d806dde2024e21b7eedc3e06d7ace7",
       "IPY_MODEL_075954eb6698433ea3ff28f84c031cb3",
       "IPY_MODEL_c3149bea92754bad8eb1f63a7de9a05b"
      ],
      "layout": "IPY_MODEL_9d59491b329740c3b9bc458893c53909"
     }
    },
    "d22d776e09f34312b8886760a714cbd4": {
     "model_module": "@jupyter-widgets/controls",
     "model_module_version": "1.5.0",
     "model_name": "HTMLModel",
     "state": {
      "_dom_classes": [],
      "_model_module": "@jupyter-widgets/controls",
      "_model_module_version": "1.5.0",
      "_model_name": "HTMLModel",
      "_view_count": null,
      "_view_module": "@jupyter-widgets/controls",
      "_view_module_version": "1.5.0",
      "_view_name": "HTMLView",
      "description": "",
      "description_tooltip": null,
      "layout": "IPY_MODEL_d2bfdb108ddf4cd88cd12acd59f46957",
      "placeholder": "​",
      "style": "IPY_MODEL_1c1d648d78434dc9ae4c604afc86abe8",
      "value": "Map: 100%"
     }
    },
    "d2bfdb108ddf4cd88cd12acd59f46957": {
     "model_module": "@jupyter-widgets/base",
     "model_module_version": "1.2.0",
     "model_name": "LayoutModel",
     "state": {
      "_model_module": "@jupyter-widgets/base",
      "_model_module_version": "1.2.0",
      "_model_name": "LayoutModel",
      "_view_count": null,
      "_view_module": "@jupyter-widgets/base",
      "_view_module_version": "1.2.0",
      "_view_name": "LayoutView",
      "align_content": null,
      "align_items": null,
      "align_self": null,
      "border": null,
      "bottom": null,
      "display": null,
      "flex": null,
      "flex_flow": null,
      "grid_area": null,
      "grid_auto_columns": null,
      "grid_auto_flow": null,
      "grid_auto_rows": null,
      "grid_column": null,
      "grid_gap": null,
      "grid_row": null,
      "grid_template_areas": null,
      "grid_template_columns": null,
      "grid_template_rows": null,
      "height": null,
      "justify_content": null,
      "justify_items": null,
      "left": null,
      "margin": null,
      "max_height": null,
      "max_width": null,
      "min_height": null,
      "min_width": null,
      "object_fit": null,
      "object_position": null,
      "order": null,
      "overflow": null,
      "overflow_x": null,
      "overflow_y": null,
      "padding": null,
      "right": null,
      "top": null,
      "visibility": null,
      "width": null
     }
    },
    "d9b7740efd0f4a1a86a5beb08b850019": {
     "model_module": "@jupyter-widgets/controls",
     "model_module_version": "1.5.0",
     "model_name": "DescriptionStyleModel",
     "state": {
      "_model_module": "@jupyter-widgets/controls",
      "_model_module_version": "1.5.0",
      "_model_name": "DescriptionStyleModel",
      "_view_count": null,
      "_view_module": "@jupyter-widgets/base",
      "_view_module_version": "1.2.0",
      "_view_name": "StyleView",
      "description_width": ""
     }
    },
    "e015363a80e845679a234bed5cc64b55": {
     "model_module": "@jupyter-widgets/controls",
     "model_module_version": "1.5.0",
     "model_name": "DescriptionStyleModel",
     "state": {
      "_model_module": "@jupyter-widgets/controls",
      "_model_module_version": "1.5.0",
      "_model_name": "DescriptionStyleModel",
      "_view_count": null,
      "_view_module": "@jupyter-widgets/base",
      "_view_module_version": "1.2.0",
      "_view_name": "StyleView",
      "description_width": ""
     }
    },
    "e1d0065a79bb4cccb0fb86c03436c6b3": {
     "model_module": "@jupyter-widgets/controls",
     "model_module_version": "1.5.0",
     "model_name": "HTMLModel",
     "state": {
      "_dom_classes": [],
      "_model_module": "@jupyter-widgets/controls",
      "_model_module_version": "1.5.0",
      "_model_name": "HTMLModel",
      "_view_count": null,
      "_view_module": "@jupyter-widgets/controls",
      "_view_module_version": "1.5.0",
      "_view_name": "HTMLView",
      "description": "",
      "description_tooltip": null,
      "layout": "IPY_MODEL_8360bae8197247e386e54056c475dc84",
      "placeholder": "​",
      "style": "IPY_MODEL_5b0fb6e9bae647e38c54262661d04749",
      "value": " 158/158 [00:00&lt;00:00, 3130.52 examples/s]"
     }
    },
    "e69393fc38c242f3b1dc58be0095c5b8": {
     "model_module": "@jupyter-widgets/controls",
     "model_module_version": "1.5.0",
     "model_name": "HTMLModel",
     "state": {
      "_dom_classes": [],
      "_model_module": "@jupyter-widgets/controls",
      "_model_module_version": "1.5.0",
      "_model_name": "HTMLModel",
      "_view_count": null,
      "_view_module": "@jupyter-widgets/controls",
      "_view_module_version": "1.5.0",
      "_view_name": "HTMLView",
      "description": "",
      "description_tooltip": null,
      "layout": "IPY_MODEL_5295c26e4eef4d78bab14c501a711f1c",
      "placeholder": "​",
      "style": "IPY_MODEL_574a5a0f6a5e4263ac3e0ab5da504173",
      "value": " 2870/2870 [00:00&lt;00:00, 7471.67 examples/s]"
     }
    },
    "e956d628e75249b39b7b801ead527388": {
     "model_module": "@jupyter-widgets/base",
     "model_module_version": "1.2.0",
     "model_name": "LayoutModel",
     "state": {
      "_model_module": "@jupyter-widgets/base",
      "_model_module_version": "1.2.0",
      "_model_name": "LayoutModel",
      "_view_count": null,
      "_view_module": "@jupyter-widgets/base",
      "_view_module_version": "1.2.0",
      "_view_name": "LayoutView",
      "align_content": null,
      "align_items": null,
      "align_self": null,
      "border": null,
      "bottom": null,
      "display": null,
      "flex": null,
      "flex_flow": null,
      "grid_area": null,
      "grid_auto_columns": null,
      "grid_auto_flow": null,
      "grid_auto_rows": null,
      "grid_column": null,
      "grid_gap": null,
      "grid_row": null,
      "grid_template_areas": null,
      "grid_template_columns": null,
      "grid_template_rows": null,
      "height": null,
      "justify_content": null,
      "justify_items": null,
      "left": null,
      "margin": null,
      "max_height": null,
      "max_width": null,
      "min_height": null,
      "min_width": null,
      "object_fit": null,
      "object_position": null,
      "order": null,
      "overflow": null,
      "overflow_x": null,
      "overflow_y": null,
      "padding": null,
      "right": null,
      "top": null,
      "visibility": null,
      "width": null
     }
    },
    "fb83ccab31664a77b3bef17c5ab62768": {
     "model_module": "@jupyter-widgets/base",
     "model_module_version": "1.2.0",
     "model_name": "LayoutModel",
     "state": {
      "_model_module": "@jupyter-widgets/base",
      "_model_module_version": "1.2.0",
      "_model_name": "LayoutModel",
      "_view_count": null,
      "_view_module": "@jupyter-widgets/base",
      "_view_module_version": "1.2.0",
      "_view_name": "LayoutView",
      "align_content": null,
      "align_items": null,
      "align_self": null,
      "border": null,
      "bottom": null,
      "display": null,
      "flex": null,
      "flex_flow": null,
      "grid_area": null,
      "grid_auto_columns": null,
      "grid_auto_flow": null,
      "grid_auto_rows": null,
      "grid_column": null,
      "grid_gap": null,
      "grid_row": null,
      "grid_template_areas": null,
      "grid_template_columns": null,
      "grid_template_rows": null,
      "height": null,
      "justify_content": null,
      "justify_items": null,
      "left": null,
      "margin": null,
      "max_height": null,
      "max_width": null,
      "min_height": null,
      "min_width": null,
      "object_fit": null,
      "object_position": null,
      "order": null,
      "overflow": null,
      "overflow_x": null,
      "overflow_y": null,
      "padding": null,
      "right": null,
      "top": null,
      "visibility": null,
      "width": null
     }
    },
    "fe39cceb13b844778470a2bd332b131d": {
     "model_module": "@jupyter-widgets/controls",
     "model_module_version": "1.5.0",
     "model_name": "ProgressStyleModel",
     "state": {
      "_model_module": "@jupyter-widgets/controls",
      "_model_module_version": "1.5.0",
      "_model_name": "ProgressStyleModel",
      "_view_count": null,
      "_view_module": "@jupyter-widgets/base",
      "_view_module_version": "1.2.0",
      "_view_name": "StyleView",
      "bar_color": null,
      "description_width": ""
     }
    }
   }
  }
 },
 "nbformat": 4,
 "nbformat_minor": 0
}
