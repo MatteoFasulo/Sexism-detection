{
  "cells": [
    {
      "cell_type": "markdown",
      "metadata": {
        "id": "qmIZOuDv-bQk"
      },
      "source": [
        "<a href=\"https://colab.research.google.com/github/MatteoFasulo/Sexism-detection/blob/main/assignment_1.ipynb\" target=\"_parent\"><img src=\"https://colab.research.google.com/assets/colab-badge.svg\" alt=\"Open In Colab\"/></a>"
      ]
    },
    {
      "cell_type": "markdown",
      "metadata": {
        "id": "J0ZCFmuHV1BX"
      },
      "source": [
        "# Sexism Detector - Assignment 1\n",
        "\n",
        "## Group:\n",
        "- Luca Babboni - luca.babboni2@studio.unibo.it  \n",
        "- Matteo Fasulo - matteo.fasulo@studio.unibo.it  \n",
        "- Maksim Omelchenko - maksim.omelchenko@studio.unibo.it  \n",
        "- Luca Tedeschini - luca.tedeschini3@studio.unibo.it  \n",
        "\n",
        "## Description:\n",
        "This notebook addresses Task 1 proposed in [EXIST 2023](https://clef2023.clef-initiative.eu/index.php?page=Pages/labs.html#EXIST) on sexism detection. The following work follows, step by step, the tasks specified in the provided notebook.\n"
      ]
    },
    {
      "cell_type": "markdown",
      "metadata": {
        "id": "9vYXSXHf-bQp"
      },
      "source": [
        "# Libraries\n",
        "\n",
        "Uncomment the following cell to install the required libraries in Google Colab."
      ]
    },
    {
      "cell_type": "code",
      "execution_count": 1,
      "metadata": {
        "id": "rT1NnYib-cZs"
      },
      "outputs": [],
      "source": [
        "#%%capture\n",
        "#%pip install requests nltk gensim datasets evaluate transformers"
      ]
    },
    {
      "cell_type": "code",
      "execution_count": 37,
      "metadata": {
        "id": "8HsAwNAc-bQp"
      },
      "outputs": [],
      "source": [
        "import requests\n",
        "import gc\n",
        "import os\n",
        "from pathlib import Path\n",
        "import re\n",
        "import json\n",
        "from typing import OrderedDict\n",
        "import copy\n",
        "\n",
        "import unicodedata\n",
        "\n",
        "import numpy as np\n",
        "import pandas as pd\n",
        "\n",
        "from sklearn.utils.class_weight import compute_class_weight\n",
        "from sklearn.metrics import f1_score, accuracy_score, precision_score, recall_score, confusion_matrix, ConfusionMatrixDisplay, PrecisionRecallDisplay\n",
        "\n",
        "from tqdm import tqdm\n",
        "import matplotlib.pyplot as plt\n",
        "\n",
        "import nltk\n",
        "from nltk.stem import WordNetLemmatizer\n",
        "\n",
        "import gensim\n",
        "import gensim.downloader as gloader\n",
        "\n",
        "import torch\n",
        "\n",
        "from datasets import Dataset\n",
        "from transformers import AutoTokenizer\n",
        "from transformers import DataCollatorWithPadding\n",
        "from transformers import AutoModelForSequenceClassification\n",
        "from transformers import TrainingArguments\n",
        "from transformers import Trainer"
      ]
    },
    {
      "cell_type": "markdown",
      "metadata": {
        "id": "JTiUdEUXV1BZ"
      },
      "source": [
        "# Class Definition\n",
        "\n",
        "We decided to organize all the code within classes to keep the outputs well-organized and clean. Each method is documented with its respective docstring, and a high-level explanation of what we are doing will be written in markdown whenever we call the methods.\n"
      ]
    },
    {
      "cell_type": "code",
      "execution_count": 3,
      "metadata": {
        "id": "AW1FGv-9V1Ba"
      },
      "outputs": [],
      "source": [
        "class SexismDetector:\n",
        "    def __init__(self):\n",
        "        URL_PATTERN_STR = r\"\"\"(?i)((?:https?:(?:/{1,3}|[a-z0-9%])|[a-z0-9.\\-]+[.](?:com|net|org|edu|gov|mil|aero|asia|biz|cat|coop|info\n",
        "                      |int|jobs|mobi|museum|name|post|pro|tel|travel|xxx|ac|ad|ae|af|ag|ai|al|am|an|ao|aq|ar|as|at|au|aw|ax|az|ba|\n",
        "                      bb|bd|be|bf|bg|bh|bi|bj|bm|bn|bo|br|bs|bt|bv|bw|by|bz|ca|cc|cd|cf|cg|ch|ci|ck|cl|cm|cn|co|cr|cs|cu|cv|cx|cy|\n",
        "                      cz|dd|de|dj|dk|dm|do|dz|ec|ee|eg|eh|er|es|et|eu|fi|fj|fk|fm|fo|fr|ga|gb|gd|ge|gf|gg|gh|gi|gl|gm|gn|gp|gq|gr|\n",
        "                      gs|gt|gu|gw|gy|hk|hm|hn|hr|ht|hu|id|ie|il|im|in|io|iq|ir|is|it|je|jm|jo|jp|ke|kg|kh|ki|km|kn|kp|kr|kw|ky|kz|\n",
        "                      la|lb|lc|li|lk|lr|ls|lt|lu|lv|ly|ma|mc|md|me|mg|mh|mk|ml|mm|mn|mo|mp|mq|mr|ms|mt|mu|mv|mw|mx|my|mz|na|nc|ne|\n",
        "                      nf|ng|ni|nl|no|np|nr|nu|nz|om|pa|pe|pf|pg|ph|pk|pl|pm|pn|pr|ps|pt|pw|py|qa|re|ro|rs|ru|rw|sa|sb|sc|sd|se|sg|\n",
        "                      sh|si|sj|Ja|sk|sl|sm|sn|so|sr|ss|st|su|sv|sx|sy|sz|tc|td|tf|tg|th|tj|tk|tl|tm|tn|to|tp|tr|tt|tv|tw|tz|ua|ug|\n",
        "                      uk|us|uy|uz|va|vc|ve|vg|vi|vn|vu|wf|ws|ye|yt|yu|za|zm|zw)/)(?:[^\\s()<>{}\\[\\]]+|\\([^\\s()]*?\\([^\\s()]+\\)[^\\s()]\n",
        "                      *?\\)|\\([^\\s]+?\\))+(?:\\([^\\s()]*?\\([^\\s()]+\\)[^\\s()]*?\\)|\\([^\\s]+?\\)|[^\\s`!()\\[\\]{};:'\\\".,<>?«»“”‘’])|(?:(?<!@)\n",
        "                      [a-z0-9]+(?:[.\\-][a-z0-9]+)*[.](?:com|net|org|edu|gov|mil|aero|asia|biz|cat|coop|info|int|jobs|mobi|museum|name\n",
        "                      |post|pro|tel|travel|xxx|ac|ad|ae|af|ag|ai|al|am|an|ao|aq|ar|as|at|au|aw|ax|az|ba|bb|bd|be|bf|bg|bh|bi|bj|bm|bn\n",
        "                      |bo|br|bs|bt|bv|bw|by|bz|ca|cc|cd|cf|cg|ch|ci|ck|cl|cm|cn|co|cr|cs|cu|cv|cx|cy|cz|dd|de|dj|dk|dm|do|dz|ec|ee|eg\n",
        "                      |eh|er|es|et|eu|fi|fj|fk|fm|fo|fr|ga|gb|gd|ge|gf|gg|gh|gi|gl|gm|gn|gp|gq|gr|gs|gt|gu|gw|gy|hk|hm|hn|hr|ht|hu|id\n",
        "                      |ie|il|im|in|io|iq|ir|is|it|je|jm|jo|jp|ke|kg|kh|ki|km|kn|kp|kr|kw|ky|kz|la|lb|lc|li|lk|lr|ls|lt|lu|lv|ly|ma|mc|\n",
        "                      md|me|mg|mh|mk|ml|mm|mn|mo|mp|mq|mr|ms|mt|mu|mv|mw|mx|my|mz|na|nc|ne|nf|ng|ni|nl|no|np|nr|nu|nz|om|pa|pe|pf|pg|\n",
        "                      ph|pk|pl|pm|pn|pr|ps|pt|pw|py|qa|re|ro|rs|ru|rw|sa|sb|sc|sd|se|sg|sh|si|sj|Ja|sk|sl|sm|sn|so|sr|ss|st|su|sv|sx|\n",
        "                      sy|sz|tc|td|tf|tg|th|tj|tk|tl|tm|tn|to|tp|tr|tt|tv|tw|tz|ua|ug|uk|us|uy|uz|va|vc|ve|vg|vi|vn|vu|wf|ws|ye|yt|yu|\n",
        "                      za|zm|zw)\\b/?(?!@)))\"\"\"\n",
        "        self.URL_PATTERN = re.compile(URL_PATTERN_STR, re.IGNORECASE)\n",
        "        self.HASHTAG_PATTERN = re.compile(r'#\\w*')\n",
        "        self.MENTION_PATTERN = re.compile(r'@\\w*')\n",
        "        self.EMOJIS_PATTERN = re.compile(u'([\\U00002600-\\U000027BF])|([\\U0001f300-\\U0001f64F])|([\\U0001f680-\\U0001f6FF])')\n",
        "        self.AND_PATTERN = re.compile(r'&amp;')\n",
        "        self.PUNCT_REPEAT_PATTERN = re.compile(r'([!?.]){2,}')\n",
        "        self.ELONG_PATTERN = re.compile(r'\\b(\\S*?)(.)\\2{2,}\\b')\n",
        "        self.WORD_PATTERN = re.compile(r'[^\\w<>\\s]')\n",
        "        self.SEED = 1337\n",
        "        self.DATA_FOLDER = Path('data')\n",
        "        self.MODEL_FOLDER = Path('models')\n",
        "        self.IMG_FOLDER = Path('images')\n",
        "        self.columns_to_maintain = ['id_EXIST', 'lang', 'tweet', 'hard_label_task1']\n",
        "        self.UNK_TOKEN = '[UNK]'\n",
        "        self.PAD_TOKEN = '[PAD]'\n",
        "\n",
        "    def download_corpus(self, url: str, filename: str) -> None:\n",
        "        \"\"\"\n",
        "        Downloads a text corpus from a given URL and saves it to a specified filename within the data folder.\n",
        "\n",
        "        Args:\n",
        "            url (str): The URL from which to download the corpus.\n",
        "            filename (str): The name of the file to save the downloaded corpus.\n",
        "\n",
        "        Raises:\n",
        "            requests.exceptions.HTTPError: If the HTTP request returned an unsuccessful status code.\n",
        "\n",
        "        Side Effects:\n",
        "            Creates the data folder if it does not exist.\n",
        "            Writes the downloaded corpus to the specified file.\n",
        "        \"\"\"\n",
        "        if not self.DATA_FOLDER.exists():\n",
        "            self.DATA_FOLDER.mkdir(parents=True)\n",
        "            print(f\"Created folder {self.DATA_FOLDER}.\")\n",
        "\n",
        "        response = requests.get(url)\n",
        "        response.raise_for_status()\n",
        "        with open(self.DATA_FOLDER / filename, 'w', encoding='utf-8') as f:\n",
        "            f.write(response.text)\n",
        "\n",
        "    def load_corpus(self, filename: str, *args, **kwargs) -> pd.DataFrame:\n",
        "        \"\"\"\n",
        "        Load a corpus from a JSON file.\n",
        "\n",
        "        Parameters:\n",
        "        filename (str): The name of the JSON file to load.\n",
        "        *args: Variable length argument list to pass to pandas read_json.\n",
        "        **kwargs: Arbitrary keyword arguments to pass to pandas read_json.\n",
        "\n",
        "        Returns:\n",
        "        DataFrame: A pandas DataFrame containing the loaded corpus.\n",
        "        \"\"\"\n",
        "        return pd.read_json(self.DATA_FOLDER / filename, *args, **kwargs)\n",
        "\n",
        "    @staticmethod\n",
        "    def majority_voting(votes: list[str]) -> str:\n",
        "        \"\"\"\n",
        "        Determines the majority vote from a list of votes.\n",
        "        Args:\n",
        "            votes (list[str]): A list of votes, where each vote is either \"YES\" or \"NO\".\n",
        "        Returns:\n",
        "            str: The result of the majority vote. Returns \"YES\" if there are more \"YES\" votes,\n",
        "                \"NO\" if there are more \"NO\" votes, and \"NEUTRAL\" in case of a tie.\n",
        "        \"\"\"\n",
        "        total_num_votes = len(votes)\n",
        "        yes_votes = votes.count(\"YES\")\n",
        "        no_votes = total_num_votes - yes_votes\n",
        "\n",
        "        if yes_votes > no_votes:\n",
        "            return \"YES\"\n",
        "        elif no_votes > yes_votes:\n",
        "            return \"NO\"\n",
        "        else:\n",
        "            return \"NEUTRAL\" # This will be the case when there is a tie (removed later)\n",
        "\n",
        "    def preprocess_text(self, text: str) -> str:\n",
        "        \"\"\"\n",
        "        Preprocesses the input text by removing or replacing specific patterns.\n",
        "\n",
        "        Args:\n",
        "            text (str): The input text to be preprocessed.\n",
        "\n",
        "        Returns:\n",
        "            str: The preprocessed text with URLs, mentions, hashtags, emojis,\n",
        "                 special characters removed, 'and' replaced, and extra spaces trimmed.\n",
        "        \"\"\"\n",
        "        # Convert URL to <URL> so that GloVe will have a vector for it\n",
        "        text = re.sub(self.URL_PATTERN, ' <URL>', text)\n",
        "        # Add spaces around slashes\n",
        "        text = re.sub(r\"/\", \" / \", text)\n",
        "        # Replace mentions with <USER>\n",
        "        text = re.sub(self.MENTION_PATTERN, ' <USER> ', text)\n",
        "        # Replace numbers with <NUMBER>\n",
        "        text = re.sub(r\"[-+]?[.\\d]*[\\d]+[:,.\\d]*\", \" <NUMBER> \", text)\n",
        "        # Replace hashtags with <HASHTAG>\n",
        "        text = re.sub(self.HASHTAG_PATTERN, ' <HASHTAG> ', text)\n",
        "        #text = self.AND_PATTERN.sub('and', text) # &amp; already in the Vocab of GloVe-twitter\n",
        "        # Replace multiple punctuation marks with <REPEAT>\n",
        "        text = re.sub(self.PUNCT_REPEAT_PATTERN, lambda match: f\" {match.group(1)} <REPEAT> \", text)\n",
        "        # Replace elongated words with <ELONG>\n",
        "        text = re.sub(self.ELONG_PATTERN, lambda match: f\" {match.group(1)}{match.group(2)} <ELONG> \", text)\n",
        "        #text = emoji.replace_emoji(text, replace='') # some emojis are in the vocab so we do not remove them, the others will be OOVs\n",
        "        text = text.strip()\n",
        "        # Get only words\n",
        "        text = re.sub(self.WORD_PATTERN, ' ', text)\n",
        "        text = text.strip()\n",
        "        # Convert stylized Unicode characters to plain text (removes bold text, etc.)\n",
        "        text = ''.join(c for c in unicodedata.normalize('NFKD', text) if not unicodedata.combining(c))\n",
        "        return text\n",
        "\n",
        "    def lemmatize_text(self, text: str) -> str:\n",
        "        \"\"\"\n",
        "        Lemmatizes the input text using the WordNet lemmatizer.\n",
        "\n",
        "        This method attempts to lemmatize each word in the input text. If the WordNet\n",
        "        data is not available, it will download the necessary data and retry.\n",
        "\n",
        "        Args:\n",
        "            text (str): The input text to be lemmatized.\n",
        "\n",
        "        Returns:\n",
        "            str: The lemmatized text.\n",
        "        \"\"\"\n",
        "        lemmatizer = WordNetLemmatizer()\n",
        "        downloaded = False\n",
        "        while not downloaded:\n",
        "            try:\n",
        "                lemmatizer.lemmatize(text)\n",
        "                downloaded = True\n",
        "            except LookupError:\n",
        "                print(\"Downloading WordNet...\")\n",
        "                nltk.download('wordnet')\n",
        "        return ' '.join([lemmatizer.lemmatize(word) for word in text.split()])\n",
        "\n",
        "    @staticmethod\n",
        "    def text_diff(original_text: str, preprocessed_text: str, random: bool = True) -> None:\n",
        "        \"\"\"\n",
        "        Displays a comparison between an original tweet and its preprocessed version.\n",
        "        Args:\n",
        "            original_text (str): The original text data containing tweets.\n",
        "            preprocessed_text (str): The preprocessed text data containing tweets.\n",
        "            random (bool, optional): If True, a random tweet is selected for comparison.\n",
        "                                     If False, the first tweet is selected. Defaults to True.\n",
        "        Returns:\n",
        "            None\n",
        "        \"\"\"\n",
        "        if random:\n",
        "            idx = np.random.randint(0, preprocessed_text.shape[0])\n",
        "        else:\n",
        "            idx = 0\n",
        "\n",
        "        print(f\"Original tweet:\\n{original_text['tweet'].iloc[idx]}\")\n",
        "        print(f\"Processed tweet:\\n{preprocessed_text['tweet'].iloc[idx]}\")\n",
        "\n",
        "    def load_glove(self, model_name: str = 'glove-wiki-gigaword', embedding_dim: int = 50) -> gensim.models.keyedvectors.KeyedVectors:\n",
        "        \"\"\"\n",
        "        Loads the GloVe model with the specified name and embedding dimension.\n",
        "        Args:\n",
        "            model_name (str): The name of the GloVe model to load. Default is 'glove-wiki-gigaword'.\n",
        "            embedding_dim (int): The dimension of the word embeddings. Default is 50.\n",
        "        Returns:\n",
        "            gensim.models.keyedvectors.KeyedVectors: The loaded GloVe model.\n",
        "        Raises:\n",
        "            Exception: If there is an error in downloading or loading the model.\n",
        "        Notes:\n",
        "            - If the model folder does not exist, it will be created.\n",
        "            - If the model is not already downloaded, it will be downloaded and saved to the specified path.\n",
        "            - If the model is already downloaded, it will be loaded from the specified path.\n",
        "        \"\"\"\n",
        "        self.EMBEDDING_DIM = embedding_dim\n",
        "\n",
        "        if not self.MODEL_FOLDER.exists():\n",
        "            self.MODEL_FOLDER.mkdir(parents=True)\n",
        "            print(f\"Created folder {self.MODEL_FOLDER}.\")\n",
        "\n",
        "        model_path = self.MODEL_FOLDER / f\"{model_name}-{embedding_dim}\"\n",
        "        if not model_path.exists():\n",
        "            print(f\"Downloading {model_name} model...\")\n",
        "            glove_model = gloader.load(f\"{model_name}-{embedding_dim}\")\n",
        "            print(f\"Model downloaded! Saving to {model_path}\")\n",
        "            glove_model.save(str(model_path))\n",
        "            print(f\"Model saved to {self.MODEL_FOLDER / f'{model_name}-{embedding_dim}'}\")\n",
        "        else:\n",
        "            glove_model = gensim.models.keyedvectors.KeyedVectors.load(str(model_path))\n",
        "        return glove_model\n",
        "\n",
        "    def get_vocab(self, data: pd.DataFrame) -> tuple[OrderedDict, OrderedDict]:\n",
        "        \"\"\"\n",
        "        Generates vocabulary mappings from a given dataset.\n",
        "        Args:\n",
        "            data (pd.DataFrame): A pandas DataFrame containing the dataset with a column 'tweet'.\n",
        "            word_listing (list, optional): A list of words to include in the vocabulary. If None, the vocabulary\n",
        "                                           will be built from the dataset. Defaults to None.\n",
        "        Returns:\n",
        "            tuple[OrderedDict, OrderedDict]: A tuple containing two OrderedDicts:\n",
        "                - idx_to_word: Mapping from index to word.\n",
        "                - word_to_idx: Mapping from word to index.\n",
        "        \"\"\"\n",
        "        idx_to_word = OrderedDict()\n",
        "        word_to_idx = OrderedDict()\n",
        "\n",
        "        curr_idx = 0\n",
        "        for sentence in data.tweet.values:\n",
        "            tokens = sentence.split()\n",
        "            for token in tokens:\n",
        "                if token not in word_to_idx:\n",
        "                    word_to_idx[token] = curr_idx\n",
        "                    idx_to_word[curr_idx] = token\n",
        "                    curr_idx += 1\n",
        "\n",
        "        word_listing = list(idx_to_word.values())\n",
        "        return idx_to_word, word_to_idx, word_listing\n",
        "\n",
        "    def co_occurrence_count(self, df: pd.DataFrame, idx_to_word, word_to_idx, window_size: int = 10) -> np.ndarray:\n",
        "\n",
        "        vocab_size = len(idx_to_word)\n",
        "        co_occurrence_matrix = np.zeros((vocab_size, vocab_size), dtype=np.float32)\n",
        "\n",
        "        for sentence in tqdm(df.tweet.values):\n",
        "            tokens = sentence.split()\n",
        "            for pos, token in enumerate(tokens):\n",
        "                start = max(0, pos - window_size)\n",
        "                end = min(pos + window_size + 1, len(tokens))\n",
        "\n",
        "                first_word_index = word_to_idx[token]\n",
        "\n",
        "                for pos2 in range(start, end):\n",
        "                    if pos2 != pos:\n",
        "                        second_token = tokens[pos2]\n",
        "                        second_word_index = word_to_idx[second_token]\n",
        "                        co_occurrence_matrix[first_word_index, second_word_index] += 1\n",
        "\n",
        "        return co_occurrence_matrix\n",
        "\n",
        "    def co_occurrence_dataframe(self, co_occurrence_matrix: np.ndarray, idx_to_word: OrderedDict) -> pd.DataFrame:\n",
        "        \"\"\"\n",
        "        Converts a co-occurrence matrix into a pandas DataFrame with word indices as row and column labels.\n",
        "        Args:\n",
        "            co_occurrence_matrix (np.ndarray): A co-occurrence matrix with word indices as row and column indices.\n",
        "            idx_to_word (OrderedDict): A mapping from word index to word.\n",
        "        Returns:\n",
        "            pd.DataFrame: A pandas DataFrame with word indices as row and column labels.\n",
        "        \"\"\"\n",
        "        return pd.DataFrame(co_occurrence_matrix, index=idx_to_word.values(), columns=idx_to_word.values())\n",
        "\n",
        "    def get_augmented_vocab(self, emb_model: gensim.models.keyedvectors.KeyedVectors, train_words: list, co_occurrence_df: pd.DataFrame, save: bool = False) -> gensim.models.keyedvectors.KeyedVectors:\n",
        "        \"\"\"\n",
        "        Augments the given embedding model with new tokens from the training words list. If a token is not found in the\n",
        "        embedding model, a random vector is generated for it. Optionally saves the updated vocabulary to a JSON file.\n",
        "        Args:\n",
        "            emb_model (gensim.models.keyedvectors.KeyedVectors): The embedding model to augment.\n",
        "            train_words (list): A list of words to add to the embedding model.\n",
        "            co_occurrence_df (pd.DataFrame): A DataFrame containing co-occurrence data for the training words.\n",
        "            save (bool, optional): If True, saves the updated vocabulary to a JSON file. Defaults to False.\n",
        "        Returns:\n",
        "            gensim.models.keyedvectors.KeyedVectors: The augmented embedding model.\n",
        "        \"\"\"\n",
        "        new_tokens = []\n",
        "        new_vectors = []\n",
        "\n",
        "        for token in train_words:\n",
        "            try:\n",
        "                embedding_vec = emb_model.get_vector(token)\n",
        "            except KeyError:\n",
        "                try:\n",
        "                    # Handle missing token in embedding model\n",
        "                    top_5_most_frequent = co_occurrence_df.loc[token].sort_values(ascending=False).index.tolist()[:5] # Get the top 5 most frequent co-occurring words\n",
        "\n",
        "                    # Filter words that are in the embedding model\n",
        "                    valid_words = [word for word in top_5_most_frequent if word in emb_model.key_to_index]\n",
        "\n",
        "                    if valid_words: # TODO: check that valid words as atleast 2 words otherwise mean won't be significant\n",
        "                        # Calculate the average vector for valid words\n",
        "                        embedding_vec = np.mean([emb_model.get_vector(word) for word in valid_words], axis=0)\n",
        "                    else:\n",
        "                        # Handle the case where no valid co-occurring words exist\n",
        "                        raise ValueError(f\"No valid co-occurring words found for token: {token}\")\n",
        "\n",
        "                except Exception as e:\n",
        "                    print(f\"Generating random vector for token '{token}': {e}\")\n",
        "                    embedding_vec = np.random.uniform(low=-0.05, high=0.05, size=self.EMBEDDING_DIM)\n",
        "\n",
        "            new_tokens.append(token)\n",
        "            new_vectors.append(embedding_vec)\n",
        "\n",
        "        emb_model.add_vectors(new_tokens, new_vectors)\n",
        "        # add the UNK token to the embedding model with the vector which is the average of all the vectors\n",
        "        emb_model.add_vectors([\"[UNK]\", \"[PAD]\"], [np.mean(emb_model.vectors, axis=0), np.zeros(self.EMBEDDING_DIM)])\n",
        "\n",
        "        if save:\n",
        "            vocab_path = self.DATA_FOLDER / 'vocab.json'\n",
        "            print(f\"Saving vocab to {vocab_path}\")\n",
        "            with vocab_path.open('w', encoding='utf-8') as f:\n",
        "                json.dump(emb_model.key_to_index, f, indent=4)\n",
        "            print(\"Vocab saved!\")\n",
        "\n",
        "        return emb_model\n",
        "\n",
        "    def get_oov(self, embedding_model: gensim.models.keyedvectors.KeyedVectors, word_listing: list) -> set:\n",
        "        \"\"\"\n",
        "        Returns a list of out-of-vocabulary (OOV) words from a given list of words.\n",
        "        Args:\n",
        "            embedding_model (gensim.models.keyedvectors.KeyedVectors): The word embedding model containing known words.\n",
        "            word_listing (list): A list of words to check against the embedding model.\n",
        "        Returns:\n",
        "            set: A set of out-of-vocabulary words.\n",
        "        \"\"\"\n",
        "        return set(word_listing).difference(set(embedding_model.key_to_index.keys()))\n",
        "\n",
        "    def get_oov_stats(self, embedding_model: gensim.models.keyedvectors.KeyedVectors, word_listing: list) -> None:\n",
        "        \"\"\"\n",
        "        Calculate and print the number and percentage of out-of-vocabulary (OOV) words.\n",
        "        Args:\n",
        "            embedding_model (gensim.models.keyedvectors.KeyedVectors): The word embedding model containing known words.\n",
        "            word_listing (list): A list of words to check against the embedding model.\n",
        "        Returns:\n",
        "            None\n",
        "        \"\"\"\n",
        "        OOV_token = self.get_oov(embedding_model, word_listing)\n",
        "        OOV_percentage = float(len(OOV_token)) * 100 / len(word_listing)\n",
        "\n",
        "        print(f\"Total OOV terms: {len(OOV_token)} ({OOV_percentage:.2f}%)\")\n",
        "\n",
        "    def get_class_weights(self, data: pd.DataFrame, label_column: str) -> np.ndarray:\n",
        "        \"\"\"\n",
        "        Computes class weights for a given dataset.\n",
        "        Args:\n",
        "            data (pd.DataFrame, optional): A pandas DataFrame containing the dataset. Defaults to None.\n",
        "        Returns:\n",
        "            np.ndarray: An array of class weights.\n",
        "        \"\"\"\n",
        "        class_weights = compute_class_weight('balanced', classes=np.unique(data[label_column]), y=data[label_column])\n",
        "        self.class_weights = torch.tensor(class_weights, dtype=torch.float32)\n",
        "        return self.class_weights\n",
        "\n",
        "    def get_padded_sequences(self, data: pd.Series, embedding_model: gensim.models.keyedvectors.KeyedVectors) -> torch.Tensor:\n",
        "        \"\"\"\n",
        "        Converts a pandas Series of text data into padded sequences of word indices using a given embedding model.\n",
        "\n",
        "        Args:\n",
        "            data (pd.Series): A pandas Series containing text data.\n",
        "            embedding_model (gensim.models.keyedvectors.KeyedVectors): A pre-trained word embedding model.\n",
        "\n",
        "        Returns:\n",
        "            torch.Tensor: A tensor containing padded sequences of word indices.\n",
        "        \"\"\"\n",
        "        tokenizer = nltk.tokenize.NLTKWordTokenizer()\n",
        "        unk_index = embedding_model.get_index(self.UNK_TOKEN)\n",
        "\n",
        "        sequences = [torch.tensor([embedding_model.get_index(word, default=unk_index) for word in tokenizer.tokenize(x)]) for x in data.values]\n",
        "\n",
        "        return torch.nn.utils.rnn.pad_sequence(sequences, padding_value=embedding_model.get_index(self.PAD_TOKEN), batch_first=True)\n",
        "\n",
        "    def get_dataloader(self, data: pd.DataFrame, embedding_model: gensim.models.keyedvectors.KeyedVectors, type: str, *args, **kwargs) -> torch.utils.data.DataLoader:\n",
        "        \"\"\"\n",
        "        Creates a DataLoader for the given dataset.\n",
        "\n",
        "        Args:\n",
        "            data (pd.DataFrame): DataFrame containing the data. Must have 'tweet' and 'label' columns.\n",
        "            embedding_model (gensim.models.keyedvectors.KeyedVectors): Pre-trained embedding model to convert tweets to vectors.\n",
        "            type (str): Type of dataset. Must be one of 'train', 'val', or 'test'.\n",
        "            *args: Variable length argument list for DataLoader.\n",
        "            **kwargs: Arbitrary keyword arguments for DataLoader.\n",
        "\n",
        "        Returns:\n",
        "            torch.utils.data.DataLoader: DataLoader for the given dataset.\n",
        "\n",
        "        Raises:\n",
        "            ValueError: If the type is not one of 'train', 'val', or 'test'.\n",
        "        \"\"\"\n",
        "        if type not in ['train', 'val', 'test']:\n",
        "            raise ValueError(\"Invalid type. Must be one of 'train', 'val', or 'test'.\")\n",
        "        padded_sequences = self.get_padded_sequences(data.tweet, embedding_model)\n",
        "        labels = torch.tensor(data.label.values)\n",
        "        dataset = TextDataset(padded_sequences, labels)\n",
        "        return torch.utils.data.DataLoader(dataset, *args, **kwargs)\n",
        "\n",
        "class TextDataset(torch.utils.data.Dataset):\n",
        "    \"\"\"\n",
        "    A custom dataset class for handling text sequences and their corresponding labels.\n",
        "\n",
        "    Args:\n",
        "        sequences (torch.Tensor): A tensor containing the text sequences.\n",
        "        labels (torch.Tensor): A tensor containing the labels for each text sequence.\n",
        "\n",
        "    Attributes:\n",
        "        sequences (torch.Tensor): Stores the text sequences.\n",
        "        labels (torch.Tensor): Stores the labels for each text sequence.\n",
        "\n",
        "    Methods:\n",
        "        __len__(): Returns the number of text sequences in the dataset.\n",
        "        __getitem__(idx): Returns the text sequence and label at the specified index.\n",
        "    \"\"\"\n",
        "    def __init__(self, sequences, labels):\n",
        "        self.sequences = sequences\n",
        "        self.labels = labels\n",
        "\n",
        "    def __len__(self):\n",
        "        return self.sequences.shape[0]\n",
        "\n",
        "    def __getitem__(self, idx):\n",
        "        return self.sequences[idx], self.labels[idx]"
      ]
    },
    {
      "cell_type": "markdown",
      "metadata": {
        "id": "9S8JHdj0-bQw"
      },
      "source": [
        "# Task 1: Corpus\n",
        "\n",
        "1. Download the data\n",
        "2. Load the JSON files and encode them as a DataFrame\n",
        "3. Generate hard labels for Task 1 with majority voting\n",
        "4. Filter the DataFrame for only english tweets\n",
        "5. Remove unwanted columns\n",
        "6. Encode the hard labels column as integers\n",
        "\n",
        ">**Bonus**: explore also Spanish tweets leveraging multi-language models and assessing the performance of the model on the two languages in comparison to the English-only model."
      ]
    },
    {
      "cell_type": "markdown",
      "metadata": {},
      "source": [
        "Deterministic PyTorch behavior for reproducibility."
      ]
    },
    {
      "cell_type": "code",
      "execution_count": 4,
      "metadata": {},
      "outputs": [],
      "source": [
        "os.environ[\"CUBLAS_WORKSPACE_CONFIG\"] = \":4096:8\""
      ]
    },
    {
      "cell_type": "markdown",
      "metadata": {
        "id": "nALIh9GUC7tn"
      },
      "source": [
        "Fist of all, we need to instantiate the class which we will use to perform the task."
      ]
    },
    {
      "cell_type": "code",
      "execution_count": 5,
      "metadata": {
        "id": "UqqFtZd_V1Bc"
      },
      "outputs": [],
      "source": [
        "detector = SexismDetector()"
      ]
    },
    {
      "cell_type": "markdown",
      "metadata": {
        "id": "bBtjK_NyC7tn"
      },
      "source": [
        "Let's define the device to use for the computation of PyTorch"
      ]
    },
    {
      "cell_type": "code",
      "execution_count": 6,
      "metadata": {
        "colab": {
          "base_uri": "https://localhost:8080/"
        },
        "id": "rAxlYsxwKy_k",
        "outputId": "7d513f1f-c43a-494d-8de2-0dd352e1806e"
      },
      "outputs": [
        {
          "name": "stdout",
          "output_type": "stream",
          "text": [
            "Using device: cuda\n"
          ]
        }
      ],
      "source": [
        "device = torch.device(\"cuda\" if torch.cuda.is_available() else \"cpu\")\n",
        "print(f\"Using device: {device}\")"
      ]
    },
    {
      "cell_type": "markdown",
      "metadata": {
        "id": "wpL0rkABC7tp"
      },
      "source": [
        "### Constants\n",
        "\n",
        "The constants are defined in the following cell. We will use them to define the embedding dimension and batch size."
      ]
    },
    {
      "cell_type": "code",
      "execution_count": 7,
      "metadata": {
        "id": "R-EBKp3wKy_l"
      },
      "outputs": [],
      "source": [
        "# GloVe Embeddings\n",
        "EMBEDDING_DIM = 50\n",
        "\n",
        "# LSTMs\n",
        "BATCH_SIZE = 128\n",
        "HIDDEN_DIM = 1024\n",
        "EPOCHS = 60\n",
        "LEARNING_RATE = 1e-4\n",
        "\n",
        "# Transformers (roBERTa)\n",
        "ROBERTA_BATCH_SIZE = 16\n",
        "ROBERTA_EPOCHS = 6\n",
        "ROBERTA_LEARNING_RATE = 5e-6\n",
        "\n",
        "# Set the seeds for reproducibility\n",
        "seeds = [1337, 42, 69]\n",
        "\n",
        "# Instantiate the predictions dict to store the predictions for each seed and model (LSTMs and Transformers)\n",
        "predictions_dict = {}"
      ]
    },
    {
      "cell_type": "markdown",
      "metadata": {
        "id": "2kB8zolx-bQx"
      },
      "source": [
        "### Download the data\n",
        "\n",
        "The data is downloaded from the repository of the course. The `download_corpus` method is used to download the data from the repository and save it in the `data` folder under the root directory of the project."
      ]
    },
    {
      "cell_type": "code",
      "execution_count": 8,
      "metadata": {
        "colab": {
          "base_uri": "https://localhost:8080/"
        },
        "id": "zHCqDJCq-bQy",
        "outputId": "462567e2-22ba-4acb-971e-395eacad5763"
      },
      "outputs": [],
      "source": [
        "detector.download_corpus(url='https://raw.githubusercontent.com/nlp-unibo/nlp-course-material/refs/heads/main/2024-2025/Assignment%201/data/training.json', filename='training.json')\n",
        "detector.download_corpus(url='https://raw.githubusercontent.com/nlp-unibo/nlp-course-material/refs/heads/main/2024-2025/Assignment%201/data/test.json', filename='test.json')\n",
        "detector.download_corpus(url='https://raw.githubusercontent.com/nlp-unibo/nlp-course-material/refs/heads/main/2024-2025/Assignment%201/data/validation.json', filename='validation.json')"
      ]
    },
    {
      "cell_type": "markdown",
      "metadata": {
        "id": "OlbBn1uh-bQy"
      },
      "source": [
        "### Load the JSON files and encode them as a DataFrame\n",
        "\n",
        "Then we load the JSON files and encode them as a DataFrame. The `load_corpus` method is used to load the data from the JSON files and encode them as a DataFrame."
      ]
    },
    {
      "cell_type": "code",
      "execution_count": 9,
      "metadata": {
        "id": "xffrWnDg-bQz"
      },
      "outputs": [],
      "source": [
        "train = detector.load_corpus('training.json', orient='index', encoding='utf-8')\n",
        "val = detector.load_corpus('validation.json', orient='index', encoding='utf-8')\n",
        "test = detector.load_corpus('test.json', orient='index', encoding='utf-8')"
      ]
    },
    {
      "cell_type": "markdown",
      "metadata": {
        "id": "KCeSw0jEC7tq"
      },
      "source": [
        "Make a copy of the test set to be used at the end to perform more in depth analysis about why the model is failing to classify the tweets."
      ]
    },
    {
      "cell_type": "code",
      "execution_count": 10,
      "metadata": {
        "id": "pcUMYS98C7tq"
      },
      "outputs": [],
      "source": [
        "test_copy = test.copy()"
      ]
    },
    {
      "cell_type": "markdown",
      "metadata": {
        "id": "D6hNHOg9V1Bf"
      },
      "source": [
        "### Data exploration\n",
        "\n",
        "We can briefly explore the dataset we are working with"
      ]
    },
    {
      "cell_type": "code",
      "execution_count": 11,
      "metadata": {
        "colab": {
          "base_uri": "https://localhost:8080/",
          "height": 328
        },
        "id": "R-Iddy7j-bQ0",
        "outputId": "87844546-cf75-458a-eb56-dcdebb1ffc13"
      },
      "outputs": [
        {
          "data": {
            "text/html": [
              "<div>\n",
              "<style scoped>\n",
              "    .dataframe tbody tr th:only-of-type {\n",
              "        vertical-align: middle;\n",
              "    }\n",
              "\n",
              "    .dataframe tbody tr th {\n",
              "        vertical-align: top;\n",
              "    }\n",
              "\n",
              "    .dataframe thead th {\n",
              "        text-align: right;\n",
              "    }\n",
              "</style>\n",
              "<table border=\"1\" class=\"dataframe\">\n",
              "  <thead>\n",
              "    <tr style=\"text-align: right;\">\n",
              "      <th></th>\n",
              "      <th>id_EXIST</th>\n",
              "      <th>lang</th>\n",
              "      <th>tweet</th>\n",
              "      <th>number_annotators</th>\n",
              "      <th>annotators</th>\n",
              "      <th>gender_annotators</th>\n",
              "      <th>age_annotators</th>\n",
              "      <th>labels_task1</th>\n",
              "      <th>labels_task2</th>\n",
              "      <th>labels_task3</th>\n",
              "      <th>split</th>\n",
              "    </tr>\n",
              "  </thead>\n",
              "  <tbody>\n",
              "    <tr>\n",
              "      <th>100001</th>\n",
              "      <td>100001</td>\n",
              "      <td>es</td>\n",
              "      <td>@TheChiflis Ignora al otro, es un capullo.El p...</td>\n",
              "      <td>6</td>\n",
              "      <td>[Annotator_1, Annotator_2, Annotator_3, Annota...</td>\n",
              "      <td>[F, F, F, M, M, M]</td>\n",
              "      <td>[18-22, 23-45, 46+, 46+, 23-45, 18-22]</td>\n",
              "      <td>[YES, YES, NO, YES, YES, YES]</td>\n",
              "      <td>[REPORTED, JUDGEMENTAL, -, REPORTED, JUDGEMENT...</td>\n",
              "      <td>[[OBJECTIFICATION], [OBJECTIFICATION, SEXUAL-V...</td>\n",
              "      <td>TRAIN_ES</td>\n",
              "    </tr>\n",
              "    <tr>\n",
              "      <th>100002</th>\n",
              "      <td>100002</td>\n",
              "      <td>es</td>\n",
              "      <td>@ultimonomada_ Si comicsgate se parece en algo...</td>\n",
              "      <td>6</td>\n",
              "      <td>[Annotator_7, Annotator_8, Annotator_9, Annota...</td>\n",
              "      <td>[F, F, F, M, M, M]</td>\n",
              "      <td>[18-22, 23-45, 46+, 46+, 23-45, 18-22]</td>\n",
              "      <td>[NO, NO, NO, NO, YES, NO]</td>\n",
              "      <td>[-, -, -, -, DIRECT, -]</td>\n",
              "      <td>[[-], [-], [-], [-], [OBJECTIFICATION], [-]]</td>\n",
              "      <td>TRAIN_ES</td>\n",
              "    </tr>\n",
              "    <tr>\n",
              "      <th>100003</th>\n",
              "      <td>100003</td>\n",
              "      <td>es</td>\n",
              "      <td>@Steven2897 Lee sobre Gamergate, y como eso ha...</td>\n",
              "      <td>6</td>\n",
              "      <td>[Annotator_7, Annotator_8, Annotator_9, Annota...</td>\n",
              "      <td>[F, F, F, M, M, M]</td>\n",
              "      <td>[18-22, 23-45, 46+, 46+, 23-45, 18-22]</td>\n",
              "      <td>[NO, NO, NO, NO, NO, NO]</td>\n",
              "      <td>[-, -, -, -, -, -]</td>\n",
              "      <td>[[-], [-], [-], [-], [-], [-]]</td>\n",
              "      <td>TRAIN_ES</td>\n",
              "    </tr>\n",
              "    <tr>\n",
              "      <th>100004</th>\n",
              "      <td>100004</td>\n",
              "      <td>es</td>\n",
              "      <td>@Lunariita7 Un retraso social bastante lamenta...</td>\n",
              "      <td>6</td>\n",
              "      <td>[Annotator_13, Annotator_14, Annotator_15, Ann...</td>\n",
              "      <td>[F, F, F, M, M, M]</td>\n",
              "      <td>[18-22, 23-45, 46+, 46+, 23-45, 18-22]</td>\n",
              "      <td>[NO, NO, YES, NO, YES, YES]</td>\n",
              "      <td>[-, -, DIRECT, -, REPORTED, REPORTED]</td>\n",
              "      <td>[[-], [-], [IDEOLOGICAL-INEQUALITY], [-], [IDE...</td>\n",
              "      <td>TRAIN_ES</td>\n",
              "    </tr>\n",
              "    <tr>\n",
              "      <th>100005</th>\n",
              "      <td>100005</td>\n",
              "      <td>es</td>\n",
              "      <td>@novadragon21 @icep4ck @TvDannyZ Entonces como...</td>\n",
              "      <td>6</td>\n",
              "      <td>[Annotator_19, Annotator_20, Annotator_21, Ann...</td>\n",
              "      <td>[F, F, F, M, M, M]</td>\n",
              "      <td>[18-22, 23-45, 46+, 46+, 23-45, 18-22]</td>\n",
              "      <td>[YES, NO, YES, NO, YES, YES]</td>\n",
              "      <td>[REPORTED, -, JUDGEMENTAL, -, JUDGEMENTAL, DIR...</td>\n",
              "      <td>[[STEREOTYPING-DOMINANCE, OBJECTIFICATION], [-...</td>\n",
              "      <td>TRAIN_ES</td>\n",
              "    </tr>\n",
              "  </tbody>\n",
              "</table>\n",
              "</div>"
            ],
            "text/plain": [
              "        id_EXIST lang                                              tweet  \\\n",
              "100001    100001   es  @TheChiflis Ignora al otro, es un capullo.El p...   \n",
              "100002    100002   es  @ultimonomada_ Si comicsgate se parece en algo...   \n",
              "100003    100003   es  @Steven2897 Lee sobre Gamergate, y como eso ha...   \n",
              "100004    100004   es  @Lunariita7 Un retraso social bastante lamenta...   \n",
              "100005    100005   es  @novadragon21 @icep4ck @TvDannyZ Entonces como...   \n",
              "\n",
              "        number_annotators                                         annotators  \\\n",
              "100001                  6  [Annotator_1, Annotator_2, Annotator_3, Annota...   \n",
              "100002                  6  [Annotator_7, Annotator_8, Annotator_9, Annota...   \n",
              "100003                  6  [Annotator_7, Annotator_8, Annotator_9, Annota...   \n",
              "100004                  6  [Annotator_13, Annotator_14, Annotator_15, Ann...   \n",
              "100005                  6  [Annotator_19, Annotator_20, Annotator_21, Ann...   \n",
              "\n",
              "         gender_annotators                          age_annotators  \\\n",
              "100001  [F, F, F, M, M, M]  [18-22, 23-45, 46+, 46+, 23-45, 18-22]   \n",
              "100002  [F, F, F, M, M, M]  [18-22, 23-45, 46+, 46+, 23-45, 18-22]   \n",
              "100003  [F, F, F, M, M, M]  [18-22, 23-45, 46+, 46+, 23-45, 18-22]   \n",
              "100004  [F, F, F, M, M, M]  [18-22, 23-45, 46+, 46+, 23-45, 18-22]   \n",
              "100005  [F, F, F, M, M, M]  [18-22, 23-45, 46+, 46+, 23-45, 18-22]   \n",
              "\n",
              "                         labels_task1  \\\n",
              "100001  [YES, YES, NO, YES, YES, YES]   \n",
              "100002      [NO, NO, NO, NO, YES, NO]   \n",
              "100003       [NO, NO, NO, NO, NO, NO]   \n",
              "100004    [NO, NO, YES, NO, YES, YES]   \n",
              "100005   [YES, NO, YES, NO, YES, YES]   \n",
              "\n",
              "                                             labels_task2  \\\n",
              "100001  [REPORTED, JUDGEMENTAL, -, REPORTED, JUDGEMENT...   \n",
              "100002                            [-, -, -, -, DIRECT, -]   \n",
              "100003                                 [-, -, -, -, -, -]   \n",
              "100004              [-, -, DIRECT, -, REPORTED, REPORTED]   \n",
              "100005  [REPORTED, -, JUDGEMENTAL, -, JUDGEMENTAL, DIR...   \n",
              "\n",
              "                                             labels_task3     split  \n",
              "100001  [[OBJECTIFICATION], [OBJECTIFICATION, SEXUAL-V...  TRAIN_ES  \n",
              "100002       [[-], [-], [-], [-], [OBJECTIFICATION], [-]]  TRAIN_ES  \n",
              "100003                     [[-], [-], [-], [-], [-], [-]]  TRAIN_ES  \n",
              "100004  [[-], [-], [IDEOLOGICAL-INEQUALITY], [-], [IDE...  TRAIN_ES  \n",
              "100005  [[STEREOTYPING-DOMINANCE, OBJECTIFICATION], [-...  TRAIN_ES  "
            ]
          },
          "execution_count": 11,
          "metadata": {},
          "output_type": "execute_result"
        }
      ],
      "source": [
        "train.head()"
      ]
    },
    {
      "cell_type": "code",
      "execution_count": 12,
      "metadata": {
        "colab": {
          "base_uri": "https://localhost:8080/"
        },
        "id": "3PwyCeQc-bQ1",
        "outputId": "263703f8-0684-47ec-a005-366f17055622"
      },
      "outputs": [
        {
          "data": {
            "text/plain": [
              "((6920, 11), (726, 11), (312, 11))"
            ]
          },
          "execution_count": 12,
          "metadata": {},
          "output_type": "execute_result"
        }
      ],
      "source": [
        "train.shape, val.shape, test.shape"
      ]
    },
    {
      "cell_type": "markdown",
      "metadata": {
        "id": "4fISdCga-bQ1"
      },
      "source": [
        "### Generate hard labels for Task 1 with majority voting\n",
        "\n",
        "The hard labels for Task 1 are generated with majority voting. The `majority_voting` method is used to generate the hard labels for Task 1 with majority voting. In case of a tie, the label is set to `NEUTRAL` allowing for later filtering of the data."
      ]
    },
    {
      "cell_type": "code",
      "execution_count": 13,
      "metadata": {
        "id": "jVfdt1mf-bQ1"
      },
      "outputs": [],
      "source": [
        "train['hard_label_task1'] = train['labels_task1'].apply(detector.majority_voting)\n",
        "val['hard_label_task1'] = val['labels_task1'].apply(detector.majority_voting)\n",
        "test['hard_label_task1'] = test['labels_task1'].apply(detector.majority_voting)"
      ]
    },
    {
      "cell_type": "markdown",
      "metadata": {
        "id": "iNSfxEqA-bQ2"
      },
      "source": [
        "### Filter the DataFrame for only english tweets and remove neutral tweets\n",
        "\n",
        "Since the task requires to work only with English tweets, we filter the DataFrame. Here we also removed all the rows with neutral labels (ties in the majority voting)."
      ]
    },
    {
      "cell_type": "code",
      "execution_count": 14,
      "metadata": {
        "id": "P3hE1ua_-bQ2"
      },
      "outputs": [],
      "source": [
        "train = train[(train['hard_label_task1'] != \"NEUTRAL\") & (train['lang'] == \"en\")]\n",
        "val = val[(val['hard_label_task1'] != \"NEUTRAL\") & (val['lang'] == \"en\")]\n",
        "test = test[(test['hard_label_task1'] != \"NEUTRAL\") & (test['lang'] == \"en\")]"
      ]
    },
    {
      "cell_type": "markdown",
      "metadata": {
        "id": "FMstO1WHV1Bg"
      },
      "source": [
        "As we can see we have less rows than before, since we removed all the rows with neutral labels and all the rows with tweets in languages different from English."
      ]
    },
    {
      "cell_type": "code",
      "execution_count": 15,
      "metadata": {
        "colab": {
          "base_uri": "https://localhost:8080/"
        },
        "id": "js6SiYSY-bQ2",
        "outputId": "c5c23bb4-fb0e-43ba-993f-57cd63b4a6f8"
      },
      "outputs": [
        {
          "data": {
            "text/plain": [
              "((2870, 12), (158, 12), (286, 12))"
            ]
          },
          "execution_count": 15,
          "metadata": {},
          "output_type": "execute_result"
        }
      ],
      "source": [
        "train.shape, val.shape, test.shape"
      ]
    },
    {
      "cell_type": "markdown",
      "metadata": {
        "id": "edgN4FWb-bQ2"
      },
      "source": [
        "### Remove unwanted columns\n",
        "\n",
        "After that, we remove the unwanted columns from the DataFrame to keep only the columns we need for the task (the text of the tweet and the hard labels)."
      ]
    },
    {
      "cell_type": "code",
      "execution_count": 16,
      "metadata": {
        "id": "lFUcf_Ii-bQ3"
      },
      "outputs": [],
      "source": [
        "train = train[detector.columns_to_maintain]\n",
        "val = val[detector.columns_to_maintain]\n",
        "test = test[detector.columns_to_maintain]"
      ]
    },
    {
      "cell_type": "code",
      "execution_count": 17,
      "metadata": {
        "colab": {
          "base_uri": "https://localhost:8080/",
          "height": 206
        },
        "id": "BEe_i8hJ-bQ3",
        "outputId": "849a92a9-4331-4fa0-f8e0-069c8778eddc"
      },
      "outputs": [
        {
          "data": {
            "text/html": [
              "<div>\n",
              "<style scoped>\n",
              "    .dataframe tbody tr th:only-of-type {\n",
              "        vertical-align: middle;\n",
              "    }\n",
              "\n",
              "    .dataframe tbody tr th {\n",
              "        vertical-align: top;\n",
              "    }\n",
              "\n",
              "    .dataframe thead th {\n",
              "        text-align: right;\n",
              "    }\n",
              "</style>\n",
              "<table border=\"1\" class=\"dataframe\">\n",
              "  <thead>\n",
              "    <tr style=\"text-align: right;\">\n",
              "      <th></th>\n",
              "      <th>id_EXIST</th>\n",
              "      <th>lang</th>\n",
              "      <th>tweet</th>\n",
              "      <th>hard_label_task1</th>\n",
              "    </tr>\n",
              "  </thead>\n",
              "  <tbody>\n",
              "    <tr>\n",
              "      <th>200002</th>\n",
              "      <td>200002</td>\n",
              "      <td>en</td>\n",
              "      <td>Writing a uni essay in my local pub with a cof...</td>\n",
              "      <td>YES</td>\n",
              "    </tr>\n",
              "    <tr>\n",
              "      <th>200003</th>\n",
              "      <td>200003</td>\n",
              "      <td>en</td>\n",
              "      <td>@UniversalORL it is 2021 not 1921. I dont appr...</td>\n",
              "      <td>YES</td>\n",
              "    </tr>\n",
              "    <tr>\n",
              "      <th>200006</th>\n",
              "      <td>200006</td>\n",
              "      <td>en</td>\n",
              "      <td>According to a customer I have plenty of time ...</td>\n",
              "      <td>YES</td>\n",
              "    </tr>\n",
              "    <tr>\n",
              "      <th>200007</th>\n",
              "      <td>200007</td>\n",
              "      <td>en</td>\n",
              "      <td>So only 'blokes' drink beer? Sorry, but if you...</td>\n",
              "      <td>YES</td>\n",
              "    </tr>\n",
              "    <tr>\n",
              "      <th>200008</th>\n",
              "      <td>200008</td>\n",
              "      <td>en</td>\n",
              "      <td>New to the shelves this week - looking forward...</td>\n",
              "      <td>NO</td>\n",
              "    </tr>\n",
              "  </tbody>\n",
              "</table>\n",
              "</div>"
            ],
            "text/plain": [
              "        id_EXIST lang                                              tweet  \\\n",
              "200002    200002   en  Writing a uni essay in my local pub with a cof...   \n",
              "200003    200003   en  @UniversalORL it is 2021 not 1921. I dont appr...   \n",
              "200006    200006   en  According to a customer I have plenty of time ...   \n",
              "200007    200007   en  So only 'blokes' drink beer? Sorry, but if you...   \n",
              "200008    200008   en  New to the shelves this week - looking forward...   \n",
              "\n",
              "       hard_label_task1  \n",
              "200002              YES  \n",
              "200003              YES  \n",
              "200006              YES  \n",
              "200007              YES  \n",
              "200008               NO  "
            ]
          },
          "execution_count": 17,
          "metadata": {},
          "output_type": "execute_result"
        }
      ],
      "source": [
        "train.head()"
      ]
    },
    {
      "cell_type": "markdown",
      "metadata": {
        "id": "C1vO0qNe-bQ3"
      },
      "source": [
        "### Encode the hard labels column as integers\n",
        "\n",
        "Finally, we encode the hard labels column as integers. This is done to have the labels in a format that can be used by the model."
      ]
    },
    {
      "cell_type": "code",
      "execution_count": 18,
      "metadata": {
        "id": "_vKw9ugP-bQ3"
      },
      "outputs": [],
      "source": [
        "train['hard_label_task1'] = train['hard_label_task1'].apply(lambda x: 1 if x == \"YES\" else 0)\n",
        "val['hard_label_task1'] = val['hard_label_task1'].apply(lambda x: 1 if x == \"YES\" else 0)\n",
        "test['hard_label_task1'] = test['hard_label_task1'].apply(lambda x: 1 if x == \"YES\" else 0)"
      ]
    },
    {
      "cell_type": "markdown",
      "metadata": {
        "id": "zwVjFiqMC7ts"
      },
      "source": [
        "### Rename the target column to label"
      ]
    },
    {
      "cell_type": "code",
      "execution_count": 19,
      "metadata": {
        "id": "sNAkCmHTC7ts"
      },
      "outputs": [],
      "source": [
        "train.rename(columns={'hard_label_task1': 'label'}, inplace=True)\n",
        "val.rename(columns={'hard_label_task1': 'label'}, inplace=True)\n",
        "test.rename(columns={'hard_label_task1': 'label'}, inplace=True)"
      ]
    },
    {
      "cell_type": "markdown",
      "metadata": {
        "id": "Mqc2QQAUV1Bh"
      },
      "source": [
        "### Data distribution\n",
        "\n",
        "The distribution of the labels is shown. As we can see, there are more non-sexist tweets than sexist tweets, with a ratio of 60:40. This is important to note, as we will address this imbalance to improve the model's performance.\n"
      ]
    },
    {
      "cell_type": "code",
      "execution_count": 20,
      "metadata": {
        "colab": {
          "base_uri": "https://localhost:8080/",
          "height": 487
        },
        "id": "QYpFYiwx-bQ4",
        "outputId": "b7a3055d-4398-4d1a-ba75-c727a5ec4c89"
      },
      "outputs": [
        {
          "data": {
            "image/png": "[encoded data removed]",
            "text/plain": [
              "<Figure size 640x480 with 1 Axes>"
            ]
          },
          "metadata": {},
          "output_type": "display_data"
        }
      ],
      "source": [
        "train.label.value_counts(normalize=True).plot(kind='bar', title='Target variable distribution in training set', color=['green', 'red'], alpha=0.7).set_xticklabels(['Not Sexist', 'Sexist'], rotation=0)\n",
        "plt.grid()\n",
        "plt.tight_layout()\n",
        "plt.show()"
      ]
    },
    {
      "cell_type": "markdown",
      "metadata": {
        "id": "s7KaCBdwV1Bh"
      },
      "source": [
        "# Task 2: Data Cleaning\n",
        "\n",
        ">1. Remove emojis\n",
        ">2. Remove hashtags (e.g. #metoo)\n",
        ">3. Remove mentions (e.g. @user)\n",
        ">4. Remove URLs\n",
        ">5. Remove special characters and symbols\n",
        ">6. Remove specific quote characters (e.g. curly quotes)\n",
        ">7. Perform lemmatization\n",
        "\n",
        ">**Bonus**: use other preprocessing strategies exploring techniques tailored specifically for tweets or methods that are common in social media text processing."
      ]
    },
    {
      "cell_type": "markdown",
      "metadata": {
        "id": "VWSXfVj5V1Bk"
      },
      "source": [
        "We slightly changed the order of the preprocessing to align more with the order followed by the GloVe preprocessing script tailored for tweets from Standford ([source](https://nlp.stanford.edu/projects/glove/preprocess-twitter.rb)). This ensures that our preprocessing pipeline matches the one used to create the GloVe dataset, hopefully improving performances:  \n",
        "1. Remove URLs  \n",
        "2. Remove mentions  \n",
        "3. Remove hashtags  \n",
        "4. Remove special characters  \n",
        "5. Remove specific quote characters  \n",
        "6. Perform lemmatization  \n",
        "\n",
        "We chose not to remove emojis, since the GloVe dataset we are using contains some emojis, and we did not want to lose that information. The unknown emojis will be treated as normal out-of-vocabulary (OOV) tokens while the known emojis will be treated as normal words with their own embeddings."
      ]
    },
    {
      "cell_type": "markdown",
      "metadata": {
        "id": "mg-c4tLdV1Bk"
      },
      "source": [
        "To make comparisons later, we save a copy of the original dataset so we can print the preprocessed text next to the original one"
      ]
    },
    {
      "cell_type": "code",
      "execution_count": 21,
      "metadata": {
        "id": "vyKl2917-bQ4"
      },
      "outputs": [],
      "source": [
        "original_train = train.copy()"
      ]
    },
    {
      "cell_type": "markdown",
      "metadata": {
        "id": "RVsy1hN5C7tw"
      },
      "source": [
        "Then we can apply all the preprocessing steps to the text as described above (in that order)."
      ]
    },
    {
      "cell_type": "code",
      "execution_count": 22,
      "metadata": {
        "id": "xtI27hJo-bQ4"
      },
      "outputs": [],
      "source": [
        "train['tweet'] = train['tweet'].apply(detector.preprocess_text)\n",
        "val['tweet'] = val['tweet'].apply(detector.preprocess_text)\n",
        "test['tweet'] = test['tweet'].apply(detector.preprocess_text)"
      ]
    },
    {
      "cell_type": "markdown",
      "metadata": {
        "id": "yFOqFd6i-bQ6"
      },
      "source": [
        "### Perform lemmatization\n",
        "\n",
        "The lemmatization is performed using the `nltk` library. The `lemmatize` method is used to perform the lemmatization of the text. The lemmatization is performed on the cleaned text and takes a bit since it has to process all the words in the text."
      ]
    },
    {
      "cell_type": "code",
      "execution_count": 23,
      "metadata": {
        "colab": {
          "base_uri": "https://localhost:8080/"
        },
        "id": "lu1toksv-bQ6",
        "outputId": "8536d05f-5393-4cd5-d9ac-7d64fd49f0bb"
      },
      "outputs": [],
      "source": [
        "train['tweet'] = train['tweet'].apply(detector.lemmatize_text)\n",
        "val['tweet'] = val['tweet'].apply(detector.lemmatize_text)\n",
        "test['tweet'] = test['tweet'].apply(detector.lemmatize_text)"
      ]
    },
    {
      "cell_type": "markdown",
      "metadata": {
        "id": "8R-fL1sl-bQ7"
      },
      "source": [
        "### Cast text to lowercase\n",
        "\n",
        "The text is cast to lowercase to ensure that the model does not learn to distinguish between words based on the case of the letters (uncased)."
      ]
    },
    {
      "cell_type": "code",
      "execution_count": 24,
      "metadata": {
        "id": "Ku484oN9-bQ7"
      },
      "outputs": [],
      "source": [
        "train['tweet'] = train['tweet'].str.lower()\n",
        "val['tweet'] = val['tweet'].str.lower()\n",
        "test['tweet'] = test['tweet'].str.lower()"
      ]
    },
    {
      "cell_type": "markdown",
      "metadata": {
        "id": "dFbPle-9-bQ8"
      },
      "source": [
        "### Original and cleaned text\n",
        "\n",
        "We can also inspect the difference between the original and cleaned text to see the effect of the preprocessing steps. As we can see the preprocessing steps have removed all the unwanted elements from the text and now the text is clean and ready to be used by the model."
      ]
    },
    {
      "cell_type": "code",
      "execution_count": 25,
      "metadata": {
        "colab": {
          "base_uri": "https://localhost:8080/"
        },
        "id": "TURQi4uE-bQ8",
        "outputId": "4f046eec-0c0c-477a-f0da-fad6f001512d"
      },
      "outputs": [
        {
          "name": "stdout",
          "output_type": "stream",
          "text": [
            "Original tweet:\n",
            "Call me sexist all you want but no Nation ever succeeds with a woman as the Head. It's just the way it is. They final nail is already in the coffin. https://t.co/ZEEKHu90N6\n",
            "Processed tweet:\n",
            "call me sexist all you want but no nation ever succeeds with a woman a the head it s just the way it is they final nail is already in the coffin <url>\n"
          ]
        }
      ],
      "source": [
        "detector.text_diff(preprocessed_text=train, original_text=original_train, random=True)"
      ]
    },
    {
      "cell_type": "markdown",
      "metadata": {
        "id": "qyGaX0joV1Bm"
      },
      "source": [
        "# Task 3: Text Encoding\n",
        "\n",
        ">* Embed words using GloVe embeddings.\n",
        "\n",
        "### Embed words using GloVe embeddings\n",
        "\n",
        "The pretrained GloVe embeddings are used to embed the words in the text. First, we download the GloVe embeddings using the `gensim` library. We choose an embedding dimension of $50$. The specific model we use is `glove-twitter-50`, which is trained on Twitter data. Our intuition is that this model will perform better on tweets than other models trained on different data due to the fact that the language used in tweets differs from that in other types of text. By leveraging the specific language used in tweets, we aim to improve the model's performance and also reduce the number of out-of-vocabulary words (a common issue when using pretrained embeddings).\n",
        "\n",
        "---\n",
        "\n",
        "The vocabulary of the `glove-twitter-50` model is very large and contains many words. However, we are only using a subset of the words in the vocabulary, as we are focusing on the words used in the tweets. Additionally, since we are not interested in backpropagating the gradients to the embeddings, the magnitude of the embedding will not cause computational issues."
      ]
    },
    {
      "cell_type": "code",
      "execution_count": 26,
      "metadata": {
        "colab": {
          "base_uri": "https://localhost:8080/"
        },
        "id": "vEGg4Jvp-bQ-",
        "outputId": "e074b5af-01f7-4a1e-a484-49a198a9971f"
      },
      "outputs": [
        {
          "name": "stdout",
          "output_type": "stream",
          "text": [
            "Vocabulary size: 1193514\n"
          ]
        }
      ],
      "source": [
        "emb_model = detector.load_glove(model_name='glove-twitter', embedding_dim=EMBEDDING_DIM)\n",
        "print(f\"Vocabulary size: {len(emb_model.key_to_index)}\")"
      ]
    },
    {
      "cell_type": "markdown",
      "metadata": {
        "id": "NqZKhpifV1Bm"
      },
      "source": [
        "We can now extract the two ordered dictionaries (`train_idx_to_word`, `train_word_to_idx`) as well as the set of words appearing in the training set."
      ]
    },
    {
      "cell_type": "code",
      "execution_count": 27,
      "metadata": {
        "id": "JJEQVEKJLcKF"
      },
      "outputs": [],
      "source": [
        "train_idx_to_word, train_word_to_idx, train_word_listing = detector.get_vocab(train)"
      ]
    },
    {
      "cell_type": "markdown",
      "metadata": {
        "id": "H7UJcrLfV1Bm"
      },
      "source": [
        "We can inspect how many words in the training set are not in the GloVe vocabulary.\n",
        "\n",
        "This can be conveniente to assess the coverage of the GloVe embeddings on the training set. From our analysis we can see that the coverage using the GloVe embeddings model `glove-twitter-100` is better with respect to the model `glove-wiki-gigaword-100` which is trained on Wikipedia data. The actual difference is not so big (around 1%) but it can be important to have a good coverage of the embeddings on the training set. Moreover, such statistics do not take into account any possible difference in the quality of the embeddings which can be important to have a good performance of the model. The 1% difference might not be so important but the position of the words in the embeddings can be important to have a good performance of the model."
      ]
    },
    {
      "cell_type": "code",
      "execution_count": 28,
      "metadata": {
        "colab": {
          "base_uri": "https://localhost:8080/"
        },
        "id": "jJ3bEuo3Ky_0",
        "outputId": "800d0c31-69a6-4490-d09f-2af67b72e6e7"
      },
      "outputs": [
        {
          "name": "stdout",
          "output_type": "stream",
          "text": [
            "Total OOV terms: 768 (7.80%)\n"
          ]
        }
      ],
      "source": [
        "detector.get_oov_stats(emb_model, train_word_listing)"
      ]
    },
    {
      "cell_type": "markdown",
      "metadata": {
        "id": "fZ7K7C6kV1Bn"
      },
      "source": [
        "We can also inspect what are these OOV words to have an idea of the words that are not in the GloVe vocabulary."
      ]
    },
    {
      "cell_type": "code",
      "execution_count": 29,
      "metadata": {
        "colab": {
          "base_uri": "https://localhost:8080/"
        },
        "id": "iXGncwVDKy_1",
        "outputId": "6051c241-9327-4c23-91c4-440c816a47ca"
      },
      "outputs": [
        {
          "data": {
            "text/plain": [
              "['inseparability',\n",
              " 'lastwithout',\n",
              " 'emplaced',\n",
              " 'dudebros',\n",
              " 'amadour',\n",
              " 'allegationsjudge',\n",
              " 'chappaquiddick',\n",
              " 'patrilocal',\n",
              " 'no_tall_men',\n",
              " 'cumdump']"
            ]
          },
          "execution_count": 29,
          "metadata": {},
          "output_type": "execute_result"
        }
      ],
      "source": [
        "list(detector.get_oov(emb_model, train_word_listing))[:10]"
      ]
    },
    {
      "cell_type": "markdown",
      "metadata": {
        "id": "AtYHDT7TV1Bn"
      },
      "source": [
        "As we can see the words that are not in the GloVe vocabulary are mostly slang words that are not so common in the English language. Also, this list contains words written wrongly (typos). The model will not be able to learn the embeddings for these words and will have to rely on the embeddings of similar words which can affect the performance of the model.\n",
        "\n",
        "---"
      ]
    },
    {
      "cell_type": "markdown",
      "metadata": {
        "id": "WmxSi4SnV1Bn"
      },
      "source": [
        "Now, to deal with these OOV tokens, we initially considered assigning a random vector to them. However, this might not be the best approach, as the model would learn to distinguish between the OOV tokens and the other tokens based on the embeddings. This is undesirable because the OOV tokens are not inherently different from the other tokens in the vocabulary.\n",
        "\n",
        "A more effective approach would be to extract the co-occurrence matrix from the training set and use it to generate embeddings for the OOV tokens. By defining a window size, we can extract the co-occurrence matrix and then use it to generate the embeddings for the OOV tokens. Whenever an OOV token is encountered, we can define its embedding vector as the average of the embeddings of the most frequent words that co-occur with the OOV token. This way, the embeddings for the OOV tokens will be similar to those of the words that frequently co-occur with them. The similarity is derived from the co-occurrence matrix and the average of the embedding vectors.\n",
        "\n",
        "This is the approach we will use to generate the embeddings for the OOV tokens. We will set the window size to 10 to extract the co-occurrence matrix and generate the embeddings for the OOV tokens.\n"
      ]
    },
    {
      "cell_type": "code",
      "execution_count": 30,
      "metadata": {
        "colab": {
          "base_uri": "https://localhost:8080/",
          "height": 253
        },
        "id": "YGnlKq42Ky_2",
        "outputId": "ffbec38c-8d16-4038-eadf-9c0b74eacddc"
      },
      "outputs": [
        {
          "name": "stderr",
          "output_type": "stream",
          "text": [
            "100%|██████████| 2870/2870 [00:07<00:00, 403.06it/s]\n"
          ]
        },
        {
          "data": {
            "text/html": [
              "<div>\n",
              "<style scoped>\n",
              "    .dataframe tbody tr th:only-of-type {\n",
              "        vertical-align: middle;\n",
              "    }\n",
              "\n",
              "    .dataframe tbody tr th {\n",
              "        vertical-align: top;\n",
              "    }\n",
              "\n",
              "    .dataframe thead th {\n",
              "        text-align: right;\n",
              "    }\n",
              "</style>\n",
              "<table border=\"1\" class=\"dataframe\">\n",
              "  <thead>\n",
              "    <tr style=\"text-align: right;\">\n",
              "      <th></th>\n",
              "      <th>writing</th>\n",
              "      <th>a</th>\n",
              "      <th>uni</th>\n",
              "      <th>essay</th>\n",
              "      <th>in</th>\n",
              "      <th>my</th>\n",
              "      <th>local</th>\n",
              "      <th>pub</th>\n",
              "      <th>with</th>\n",
              "      <th>coffee</th>\n",
              "      <th>...</th>\n",
              "      <th>armor</th>\n",
              "      <th>dragoon</th>\n",
              "      <th>estinen</th>\n",
              "      <th>nike</th>\n",
              "      <th>coochie</th>\n",
              "      <th>mutuals</th>\n",
              "      <th>owns</th>\n",
              "      <th>grabs</th>\n",
              "      <th>lh</th>\n",
              "      <th>mandy</th>\n",
              "    </tr>\n",
              "  </thead>\n",
              "  <tbody>\n",
              "    <tr>\n",
              "      <th>writing</th>\n",
              "      <td>2.0</td>\n",
              "      <td>14.0</td>\n",
              "      <td>1.0</td>\n",
              "      <td>2.0</td>\n",
              "      <td>5.0</td>\n",
              "      <td>3.0</td>\n",
              "      <td>1.0</td>\n",
              "      <td>1.0</td>\n",
              "      <td>3.0</td>\n",
              "      <td>1.0</td>\n",
              "      <td>...</td>\n",
              "      <td>0.0</td>\n",
              "      <td>0.0</td>\n",
              "      <td>0.0</td>\n",
              "      <td>0.0</td>\n",
              "      <td>0.0</td>\n",
              "      <td>0.0</td>\n",
              "      <td>0.0</td>\n",
              "      <td>0.0</td>\n",
              "      <td>0.0</td>\n",
              "      <td>0.0</td>\n",
              "    </tr>\n",
              "    <tr>\n",
              "      <th>a</th>\n",
              "      <td>14.0</td>\n",
              "      <td>1278.0</td>\n",
              "      <td>2.0</td>\n",
              "      <td>2.0</td>\n",
              "      <td>421.0</td>\n",
              "      <td>139.0</td>\n",
              "      <td>3.0</td>\n",
              "      <td>2.0</td>\n",
              "      <td>223.0</td>\n",
              "      <td>5.0</td>\n",
              "      <td>...</td>\n",
              "      <td>1.0</td>\n",
              "      <td>0.0</td>\n",
              "      <td>1.0</td>\n",
              "      <td>1.0</td>\n",
              "      <td>1.0</td>\n",
              "      <td>1.0</td>\n",
              "      <td>0.0</td>\n",
              "      <td>0.0</td>\n",
              "      <td>1.0</td>\n",
              "      <td>2.0</td>\n",
              "    </tr>\n",
              "    <tr>\n",
              "      <th>uni</th>\n",
              "      <td>1.0</td>\n",
              "      <td>2.0</td>\n",
              "      <td>0.0</td>\n",
              "      <td>1.0</td>\n",
              "      <td>1.0</td>\n",
              "      <td>1.0</td>\n",
              "      <td>1.0</td>\n",
              "      <td>1.0</td>\n",
              "      <td>1.0</td>\n",
              "      <td>1.0</td>\n",
              "      <td>...</td>\n",
              "      <td>0.0</td>\n",
              "      <td>0.0</td>\n",
              "      <td>0.0</td>\n",
              "      <td>0.0</td>\n",
              "      <td>0.0</td>\n",
              "      <td>0.0</td>\n",
              "      <td>0.0</td>\n",
              "      <td>0.0</td>\n",
              "      <td>0.0</td>\n",
              "      <td>0.0</td>\n",
              "    </tr>\n",
              "    <tr>\n",
              "      <th>essay</th>\n",
              "      <td>2.0</td>\n",
              "      <td>2.0</td>\n",
              "      <td>1.0</td>\n",
              "      <td>0.0</td>\n",
              "      <td>2.0</td>\n",
              "      <td>2.0</td>\n",
              "      <td>1.0</td>\n",
              "      <td>1.0</td>\n",
              "      <td>1.0</td>\n",
              "      <td>1.0</td>\n",
              "      <td>...</td>\n",
              "      <td>0.0</td>\n",
              "      <td>0.0</td>\n",
              "      <td>0.0</td>\n",
              "      <td>0.0</td>\n",
              "      <td>0.0</td>\n",
              "      <td>0.0</td>\n",
              "      <td>0.0</td>\n",
              "      <td>0.0</td>\n",
              "      <td>0.0</td>\n",
              "      <td>0.0</td>\n",
              "    </tr>\n",
              "    <tr>\n",
              "      <th>in</th>\n",
              "      <td>5.0</td>\n",
              "      <td>421.0</td>\n",
              "      <td>1.0</td>\n",
              "      <td>2.0</td>\n",
              "      <td>166.0</td>\n",
              "      <td>92.0</td>\n",
              "      <td>3.0</td>\n",
              "      <td>1.0</td>\n",
              "      <td>92.0</td>\n",
              "      <td>4.0</td>\n",
              "      <td>...</td>\n",
              "      <td>0.0</td>\n",
              "      <td>0.0</td>\n",
              "      <td>0.0</td>\n",
              "      <td>0.0</td>\n",
              "      <td>0.0</td>\n",
              "      <td>0.0</td>\n",
              "      <td>0.0</td>\n",
              "      <td>0.0</td>\n",
              "      <td>0.0</td>\n",
              "      <td>0.0</td>\n",
              "    </tr>\n",
              "  </tbody>\n",
              "</table>\n",
              "<p>5 rows × 9840 columns</p>\n",
              "</div>"
            ],
            "text/plain": [
              "         writing       a  uni  essay     in     my  local  pub   with  coffee  \\\n",
              "writing      2.0    14.0  1.0    2.0    5.0    3.0    1.0  1.0    3.0     1.0   \n",
              "a           14.0  1278.0  2.0    2.0  421.0  139.0    3.0  2.0  223.0     5.0   \n",
              "uni          1.0     2.0  0.0    1.0    1.0    1.0    1.0  1.0    1.0     1.0   \n",
              "essay        2.0     2.0  1.0    0.0    2.0    2.0    1.0  1.0    1.0     1.0   \n",
              "in           5.0   421.0  1.0    2.0  166.0   92.0    3.0  1.0   92.0     4.0   \n",
              "\n",
              "         ...  armor  dragoon  estinen  nike  coochie  mutuals  owns  grabs  \\\n",
              "writing  ...    0.0      0.0      0.0   0.0      0.0      0.0   0.0    0.0   \n",
              "a        ...    1.0      0.0      1.0   1.0      1.0      1.0   0.0    0.0   \n",
              "uni      ...    0.0      0.0      0.0   0.0      0.0      0.0   0.0    0.0   \n",
              "essay    ...    0.0      0.0      0.0   0.0      0.0      0.0   0.0    0.0   \n",
              "in       ...    0.0      0.0      0.0   0.0      0.0      0.0   0.0    0.0   \n",
              "\n",
              "          lh  mandy  \n",
              "writing  0.0    0.0  \n",
              "a        1.0    2.0  \n",
              "uni      0.0    0.0  \n",
              "essay    0.0    0.0  \n",
              "in       0.0    0.0  \n",
              "\n",
              "[5 rows x 9840 columns]"
            ]
          },
          "execution_count": 30,
          "metadata": {},
          "output_type": "execute_result"
        }
      ],
      "source": [
        "co_occurrence_matrix = detector.co_occurrence_count(train, train_idx_to_word, train_word_to_idx, window_size=10)\n",
        "co_occurrence_df = detector.co_occurrence_dataframe(co_occurrence_matrix, train_idx_to_word)\n",
        "co_occurrence_df.head()"
      ]
    },
    {
      "cell_type": "markdown",
      "metadata": {
        "id": "JBh5xZruKy_2"
      },
      "source": [
        "After computing the co-occurrence matrix we decided to combine the training set vocabulary with the GloVe vocabulary and generate the embedding vectors for the words in the training set that do not appear in the GloVe vocabulary. This is done to have a better coverage of the embeddings on the training set and to have a better performance of the model. The embeddings for the OOV tokens are generated using the co-occurrence matrix and the average of the embeddings of the most frequent words that co-occur with the OOV tokens."
      ]
    },
    {
      "cell_type": "code",
      "execution_count": 31,
      "metadata": {
        "colab": {
          "base_uri": "https://localhost:8080/"
        },
        "id": "fnNshkRb-bRF",
        "outputId": "49e3d0ab-21cf-4710-ac09-4f84afd47c71"
      },
      "outputs": [
        {
          "name": "stdout",
          "output_type": "stream",
          "text": [
            "Saving vocab to data/vocab.json\n",
            "Vocab saved!\n"
          ]
        }
      ],
      "source": [
        "emb_model_augmented = detector.get_augmented_vocab(emb_model, train_words=train_word_listing, co_occurrence_df=co_occurrence_df, save=True)"
      ]
    },
    {
      "cell_type": "markdown",
      "metadata": {
        "id": "_3dA58j6V1Bo"
      },
      "source": [
        "Now we can just get all the vectors from the augmented GloVe and use them as embedding matrix for the model."
      ]
    },
    {
      "cell_type": "code",
      "execution_count": 32,
      "metadata": {
        "colab": {
          "base_uri": "https://localhost:8080/"
        },
        "id": "ryp3ICueC7t3",
        "outputId": "8dbea4f4-cf68-4e94-de04-3a916f315898"
      },
      "outputs": [
        {
          "name": "stdout",
          "output_type": "stream",
          "text": [
            "Embedding matrix of 1194284 words, each of 50 dimensions\n"
          ]
        }
      ],
      "source": [
        "embedding_matrix = emb_model_augmented.vectors\n",
        "print(f\"Embedding matrix of {embedding_matrix.shape[0]} words, each of {embedding_matrix.shape[1]} dimensions\")"
      ]
    },
    {
      "cell_type": "markdown",
      "metadata": {
        "id": "6rTjQO9fV1Bo"
      },
      "source": [
        "Before moving on the model definition we will first compute the class weights to deal with the class imbalance in the dataset. The class weights are computed using the `compute_class_weight` method from the `sklearn` library. The class weights are used to weight the loss function in order to give more importance to the minority class. This is important to have a better performance of the model and to deal with the class imbalance in the dataset. In this way the model will be aware of the class imbalance thus leading to a better f1 score."
      ]
    },
    {
      "cell_type": "code",
      "execution_count": 33,
      "metadata": {
        "id": "dIBs106EV1Bo"
      },
      "outputs": [],
      "source": [
        "class_weights_tensor = detector.get_class_weights(train, 'label')"
      ]
    },
    {
      "cell_type": "markdown",
      "metadata": {
        "id": "z9_f7D-RV1Bp"
      },
      "source": [
        "# Task 4: Model definition\n",
        "\n",
        "> * Baseline: Implement a Bidirectional LSTM with a Dense layer on top.\n",
        "> * Model 1: add an additional LSTM layer to the baseline model."
      ]
    },
    {
      "cell_type": "markdown",
      "metadata": {
        "id": "rXgsxWmcV1Bp"
      },
      "source": [
        "### Baseline: Implement a Bidirectional LSTM with a Dense layer on top\n",
        "As before, we chose to create a class that contains the structure of the network itself and a wrapper class to instantiate networks given different input parameters. This allows us to write cleaner code, in particular during the analysis"
      ]
    },
    {
      "cell_type": "code",
      "execution_count": 34,
      "metadata": {
        "id": "QZCO79JTKy_4"
      },
      "outputs": [],
      "source": [
        "class BaselineModel(torch.nn.Module):\n",
        "    def __init__(self, embedding_model, detector, hidden_dim, output_dim: int = 1, lstm_layers: int = 1, dropout: float = 0.3):\n",
        "        super().__init__()\n",
        "\n",
        "        self.hidden_dim = hidden_dim\n",
        "        self.lstm_layers = lstm_layers\n",
        "        self.hidden_dim = hidden_dim\n",
        "\n",
        "        self.word_embeddings = torch.nn.Embedding.from_pretrained(\n",
        "            embeddings=torch.from_numpy(embedding_model.vectors),\n",
        "            freeze=True,\n",
        "            padding_idx=embedding_model.get_index(detector.PAD_TOKEN)\n",
        "        )\n",
        "        self.lstm = torch.nn.LSTM(input_size=embedding_model.vector_size, hidden_size=hidden_dim, bidirectional=True, num_layers=lstm_layers, batch_first=True)\n",
        "        self.fc = torch.nn.Linear(in_features=2 * hidden_dim, out_features=output_dim)\n",
        "        self.dropout = torch.nn.Dropout(dropout)\n",
        "\n",
        "    def forward(self, inputs):\n",
        "        out = self.word_embeddings(inputs)\n",
        "        out, _ = self.lstm(out)\n",
        "        out = self.dropout(out)\n",
        "        out = torch.mean(out, dim=1)  # Average pooling over the seq len\n",
        "        out = self.fc(out)\n",
        "        return out"
      ]
    },
    {
      "cell_type": "markdown",
      "metadata": {
        "id": "tkkswiSwV1Bp"
      },
      "source": [
        "# Task 5: Training and Evaluation\n",
        "\n",
        "> * Train **all** models on the train set.\n",
        "> * Evaluate **all** models on the validation set.\n",
        "> * Compute metrics on the validation set.\n",
        "> * Pick **at least** three seeds for robust estimation.\n",
        "> * Pick the **best** performing model according to the observed validation set performance.\n",
        "> * Evaluate your models using macro F1-score."
      ]
    },
    {
      "cell_type": "markdown",
      "metadata": {
        "id": "pldHiL8hV1Bp"
      },
      "source": [
        "Here there's the definition of the wrapper class, that will be used to instantiate all the networks required"
      ]
    },
    {
      "cell_type": "code",
      "execution_count": 53,
      "metadata": {
        "id": "_A1PspeUV1Bp"
      },
      "outputs": [],
      "source": [
        "class LSTM_network():\n",
        "    def __init__(self, name: str, seed: int, detector: SexismDetector, embedding_model: gensim.models.keyedvectors.KeyedVectors, hidden_dim: int = 128, output_dim: int = 2, lstm_layers: int = 1, dropout: float = 0.5):\n",
        "        self.name = name\n",
        "\n",
        "        self.seed = seed\n",
        "        self.__set_seed(seed)\n",
        "\n",
        "        self.device = torch.device(\"cuda\" if torch.cuda.is_available() else \"cpu\")\n",
        "        self.network = BaselineModel(embedding_model, detector, hidden_dim, output_dim, lstm_layers, dropout)\n",
        "        self.network.to(device)\n",
        "        self.detector = detector\n",
        "        self.embedding_model = embedding_model\n",
        "        self.history = None\n",
        "        self.trained = False\n",
        "        self.predictions = None\n",
        "        self.labels = None\n",
        "        # Clear the cache and perform garbage collection on initialization\n",
        "        self.clear_cache()\n",
        "\n",
        "    def __set_seed(self, seed):\n",
        "        \"\"\"\n",
        "        Set the random seed for reproducibility.\n",
        "\n",
        "        This method sets the seed for CUDA operations and NumPy to ensure that\n",
        "        the results are reproducible. It also sets the CUBLAS workspace configuration\n",
        "        to ensure deterministic results.\n",
        "\n",
        "        Args:\n",
        "            seed (int): The seed value to set for random number generation.\n",
        "        \"\"\"\n",
        "        torch.cuda.manual_seed(seed)\n",
        "        np.random.seed(seed)\n",
        "\n",
        "    def clear_cache(self):\n",
        "        \"\"\"\n",
        "        Clears the cache for CUDA and performs garbage collection.\n",
        "\n",
        "        This method uses PyTorch's `torch.cuda.empty_cache()` to release all unoccupied cached memory\n",
        "        currently held by the CUDA memory allocator, making that memory available for other GPU applications.\n",
        "        It also calls Python's garbage collector to free up any unreferenced memory in the system.\n",
        "\n",
        "        Note:\n",
        "            This method should be used with caution as it can affect the performance of your application\n",
        "            by causing memory fragmentation.\n",
        "        \"\"\"\n",
        "        with torch.no_grad():\n",
        "            torch.cuda.empty_cache()\n",
        "\n",
        "        gc.collect()\n",
        "\n",
        "    def train(self, training_set: pd.DataFrame, validation_set: pd.DataFrame, epochs: int, batch_size: int, lr: float, weight_decay: float, verbose=True):\n",
        "        # Get the train and validation dataloader\n",
        "        train_dloader = self.detector.get_dataloader(data=training_set,\n",
        "                                                    embedding_model=self.embedding_model,\n",
        "                                                    type=\"train\",\n",
        "                                                    batch_size=batch_size,\n",
        "                                                    shuffle=True)\n",
        "\n",
        "        val_dloader = self.detector.get_dataloader(data=validation_set,\n",
        "                                                embedding_model=self.embedding_model,\n",
        "                                                type=\"val\",\n",
        "                                                batch_size=validation_set.shape[0],\n",
        "                                                shuffle=False)\n",
        "\n",
        "        # Initialize the history\n",
        "        history = pd.DataFrame(columns=['model', 'epoch', 'train_loss', 'val_loss', 'train_acc', 'val_acc', 'learning_rate'])\n",
        "\n",
        "        class_weights_tensor = self.detector.class_weights\n",
        "        criterion = torch.nn.CrossEntropyLoss(\n",
        "            weight=class_weights_tensor.to(device),\n",
        "            ignore_index=self.embedding_model.get_index(self.detector.PAD_TOKEN)\n",
        "        )\n",
        "\n",
        "        optimizer = torch.optim.AdamW(self.network.parameters(), lr=lr, weight_decay=weight_decay)\n",
        "        scheduler = torch.optim.lr_scheduler.ReduceLROnPlateau(optimizer, mode='min', factor=0.5, patience=10)\n",
        "\n",
        "        # Train if the model is not already saved\n",
        "        if not Path.exists(detector.MODEL_FOLDER / f'{self.name}.pth'):\n",
        "            # Initialize parameters for Early stopping\n",
        "            best_val_loss = np.inf\n",
        "            best_model = None\n",
        "            best_model_epoch = 0\n",
        "            best_f1_score = 0\n",
        "\n",
        "            # Train the model\n",
        "            for epoch in range(epochs):\n",
        "                train_correct = 0\n",
        "                train_total = 0\n",
        "                grad_loss_vec = []\n",
        "\n",
        "                # Training phase\n",
        "                self.network.train()\n",
        "                for batch in train_dloader:\n",
        "                    sentences, labels = batch\n",
        "                    sentences, labels = sentences.to(device), labels.to(device)\n",
        "\n",
        "                    optimizer.zero_grad()\n",
        "                    output = self.network(sentences)\n",
        "                    loss = criterion(output, labels)\n",
        "                    loss.backward()\n",
        "                    optimizer.step()\n",
        "\n",
        "                    predicted = torch.argmax(output, dim=1)\n",
        "                    train_total += labels.size(0)\n",
        "                    train_correct += (predicted == labels).sum().item()\n",
        "\n",
        "                    # Save the gradients for the current batch\n",
        "                    grad_loss_vec.append(loss.item())\n",
        "\n",
        "                # Validation phase\n",
        "                self.network.eval()\n",
        "                final_val_loss = 0\n",
        "                val_correct = 0\n",
        "                val_total = 0\n",
        "                predicted_arr = []\n",
        "                labels_arr = []\n",
        "\n",
        "                with torch.no_grad():\n",
        "                    for batch in val_dloader:\n",
        "                        sentence, labels = batch\n",
        "                        sentence, labels = sentence.to(device), labels.to(device)\n",
        "\n",
        "                        output = self.network(sentence)\n",
        "                        val_loss = criterion(output, labels)\n",
        "                        final_val_loss += val_loss.item()\n",
        "\n",
        "                        predicted = torch.argmax(output, dim=1)\n",
        "                        val_total += labels.size(0)\n",
        "                        val_correct += (predicted == labels).sum().item()\n",
        "\n",
        "                        predicted_arr.append(predicted)\n",
        "                        labels_arr.append(labels)\n",
        "\n",
        "                predicted_arr = torch.cat(predicted_arr, dim=0).cpu().numpy()\n",
        "                labels_arr = torch.cat(labels_arr, dim=0).cpu().numpy()\n",
        "\n",
        "                f1 = f1_score(labels_arr, predicted_arr, average='macro')\n",
        "\n",
        "                scheduler.step(final_val_loss)\n",
        "\n",
        "                if final_val_loss < best_val_loss:\n",
        "                    best_val_loss = final_val_loss\n",
        "                    best_model = copy.deepcopy(self.network.state_dict())\n",
        "                    best_model_epoch = epoch\n",
        "                    best_f1_score = f1\n",
        "\n",
        "                # Compute the mean loss for the epoch across all batches\n",
        "                loss_value = np.mean(grad_loss_vec)\n",
        "\n",
        "                if verbose:\n",
        "                    print(f\"Epoch {epoch + 1}/{epochs}\\tLoss: {loss_value:.4f}\\tAcc: {train_correct / train_total:.4f}\\t\"\n",
        "                        f\"Val Loss: {final_val_loss:.4f}\\tVal Acc: {val_correct / val_total:.4f}\\tmacro_f1: {f1:.4f}\\t\"\n",
        "                        f\"lr: {scheduler.get_last_lr()[0]:.7f}\")\n",
        "\n",
        "                history.loc[len(history)] = [self.name, epoch + 1, loss_value, final_val_loss, train_correct / train_total, val_correct / val_total, scheduler.get_last_lr()[0]]\n",
        "\n",
        "            # Restore the best model\n",
        "            self.network.load_state_dict(best_model)\n",
        "            print(f\"Best model found at epoch {best_model_epoch + 1} with validation loss: {best_val_loss:.4f} and f1 score: {best_f1_score:.4f}\")\n",
        "\n",
        "            # Compute metrics on validation set with the best model\n",
        "            self.network.eval()\n",
        "            predicted_arr = []\n",
        "            labels_arr = []\n",
        "\n",
        "            with torch.no_grad():\n",
        "                for batch in val_dloader:\n",
        "                    sentence, labels = batch\n",
        "                    sentence, labels = sentence.to(device), labels.to(device)\n",
        "\n",
        "                    output = self.network(sentence)\n",
        "                    predicted = torch.argmax(output, dim=1)\n",
        "                    predicted_arr.append(predicted)\n",
        "                    labels_arr.append(labels)\n",
        "\n",
        "            predicted_arr = torch.cat(predicted_arr, dim=0).cpu().numpy()\n",
        "            labels_arr = torch.cat(labels_arr, dim=0).cpu().numpy()\n",
        "\n",
        "            final_accuracy = accuracy_score(labels_arr, predicted_arr)\n",
        "            final_precision = precision_score(labels_arr, predicted_arr, average='macro')\n",
        "            final_recall = recall_score(labels_arr, predicted_arr, average='macro')\n",
        "            final_f1 = f1_score(labels_arr, predicted_arr, average='macro')\n",
        "\n",
        "            print(f\"Final metrics after loading the best model:\\n\"\n",
        "                f\"Accuracy: {final_accuracy:.4f}, Precision: {final_precision:.4f}, Recall: {final_recall:.4f}, F1: {final_f1:.4f}\")\n",
        "\n",
        "            # Save the best model\n",
        "            torch.save(self.network.state_dict(), detector.MODEL_FOLDER / f'{self.name}.pth')\n",
        "            self.history = history\n",
        "            self.trained = True\n",
        "            self.predictions = predicted_arr\n",
        "            self.labels = labels_arr\n",
        "\n",
        "            return history, final_accuracy, final_precision, final_recall, final_f1\n",
        "\n",
        "        # Otherwise, load the model and return the history\n",
        "        else:\n",
        "            # Load the model\n",
        "            self.network.load_state_dict(torch.load(detector.MODEL_FOLDER / f'{self.name}.pth', weights_only=True))\n",
        "            # Compute the metrics on the validation set\n",
        "            self.network.eval()\n",
        "            predicted_arr = []\n",
        "            labels_arr = []\n",
        "\n",
        "            with torch.no_grad():\n",
        "                for batch in val_dloader:\n",
        "                    sentence, labels = batch\n",
        "                    sentence, labels = sentence.to(device), labels.to(device)\n",
        "\n",
        "                    output = self.network(sentence)\n",
        "                    predicted = torch.argmax(output, dim=1)\n",
        "                    predicted_arr.append(predicted)\n",
        "                    labels_arr.append(labels)\n",
        "\n",
        "            predicted_arr = torch.cat(predicted_arr, dim=0).cpu().numpy()\n",
        "            labels_arr = torch.cat(labels_arr, dim=0).cpu().numpy()\n",
        "\n",
        "            final_accuracy = accuracy_score(labels_arr, predicted_arr)\n",
        "            final_precision = precision_score(labels_arr, predicted_arr, average='macro')\n",
        "            final_recall = recall_score(labels_arr, predicted_arr, average='macro')\n",
        "            final_f1 = f1_score(labels_arr, predicted_arr, average='macro')\n",
        "\n",
        "            print(f\"Final metrics after loading the best model:\\n\"\n",
        "                f\"Accuracy: {final_accuracy:.4f}, Precision: {final_precision:.4f}, Recall: {final_recall:.4f}, F1: {final_f1:.4f}\")\n",
        "\n",
        "            self.trained = False\n",
        "            self.predictions = predicted_arr\n",
        "            self.labels = labels_arr\n",
        "\n",
        "            return None, final_accuracy, final_precision, final_recall, final_f1\n",
        "\n",
        "    def plot_history(self):\n",
        "        if self.trained:\n",
        "            _, axes = plt.subplots(1, 3, figsize=(18, 5))\n",
        "            baseline_model_name = self.history['model'] == self.name\n",
        "            self.history[baseline_model_name].plot(x='epoch', y=['train_loss', 'val_loss'], title='Loss', ax=axes[0])\n",
        "            self.history[baseline_model_name].plot(x='epoch', y=['train_acc', 'val_acc'], title='Accuracy', ax=axes[1])\n",
        "            self.history[baseline_model_name].plot(x='epoch', y='learning_rate', title='Learning Rate', ax=axes[2], logy=True)\n",
        "\n",
        "            # Save the image inside the images folder\n",
        "            if not detector.IMG_FOLDER.exists():\n",
        "                detector.IMG_FOLDER.mkdir(parents=True)\n",
        "                print(f\"Created folder {detector.IMG_FOLDER}.\")\n",
        "            plt.savefig(detector.IMG_FOLDER / f'{self.name}_history.svg', format='svg')\n",
        "\n",
        "            plt.tight_layout()\n",
        "            plt.show()\n",
        "        else:\n",
        "            print(\"Model has not been trained yet. Please train the model to plot the history.\\n\")"
      ]
    },
    {
      "cell_type": "markdown",
      "metadata": {
        "id": "cBXBJcKKKy_5"
      },
      "source": [
        "# LSTMs"
      ]
    },
    {
      "cell_type": "markdown",
      "metadata": {
        "id": "nXN0uP7IV1Bq"
      },
      "source": [
        "The idea here is to run three times the baseline model with different seeds and then average the performance over the seeds with the standard deviation. This is done to have a robust estimation of the performance of the model and to have a better idea of the performance of the model."
      ]
    },
    {
      "cell_type": "code",
      "execution_count": 54,
      "metadata": {
        "id": "worvz009V1Bq"
      },
      "outputs": [],
      "source": [
        "# Accumulate the results of each seed\n",
        "lstm_results_df = pd.DataFrame(columns=['name', 'accuracy', 'precision', 'recall', 'f1', 'layers'])"
      ]
    },
    {
      "cell_type": "code",
      "execution_count": 55,
      "metadata": {
        "id": "zHBjjniWV1Bq",
        "outputId": "0f7a8467-5ee8-4919-c871-563a8ba841db"
      },
      "outputs": [
        {
          "name": "stdout",
          "output_type": "stream",
          "text": [
            "Training baseline model with seed 1337\n",
            "Final metrics after loading the best model:\n",
            "Accuracy: 0.7911, Precision: 0.7878, Recall: 0.7843, F1: 0.7858\n",
            "Model has not been trained yet. Please train the model to plot the history.\n",
            "Training model with two LSTM layers with seed 1337\n",
            "Final metrics after loading the best model:\n",
            "Accuracy: 0.8038, Precision: 0.8001, Recall: 0.7990, F1: 0.7995\n",
            "Model has not been trained yet. Please train the model to plot the history.\n",
            "Training baseline model with seed 42\n",
            "Final metrics after loading the best model:\n",
            "Accuracy: 0.7785, Precision: 0.7742, Recall: 0.7732, F1: 0.7737\n",
            "Model has not been trained yet. Please train the model to plot the history.\n",
            "Training model with two LSTM layers with seed 42\n",
            "Final metrics after loading the best model:\n",
            "Accuracy: 0.7848, Precision: 0.7808, Recall: 0.7842, F1: 0.7820\n",
            "Model has not been trained yet. Please train the model to plot the history.\n",
            "Training baseline model with seed 69\n",
            "Final metrics after loading the best model:\n",
            "Accuracy: 0.7975, Precision: 0.7933, Recall: 0.7953, F1: 0.7942\n",
            "Model has not been trained yet. Please train the model to plot the history.\n",
            "Training model with two LSTM layers with seed 69\n",
            "Final metrics after loading the best model:\n",
            "Accuracy: 0.8101, Precision: 0.8070, Recall: 0.8046, F1: 0.8056\n",
            "Model has not been trained yet. Please train the model to plot the history.\n"
          ]
        }
      ],
      "source": [
        "for seed in seeds:\n",
        "    # Baseline model\n",
        "    print(f\"Training baseline model with seed {seed}\")\n",
        "    lstm = LSTM_network(f\"baseline_{seed}\",\n",
        "                        seed,\n",
        "                        detector,\n",
        "                        emb_model_augmented,\n",
        "                        hidden_dim=HIDDEN_DIM,\n",
        "                        output_dim=2,\n",
        "                        lstm_layers=1,\n",
        "                        dropout=0.4)\n",
        "\n",
        "    history, accuracy, precision, recall, f1 = lstm.train(train, val, EPOCHS, BATCH_SIZE, LEARNING_RATE, weight_decay=1e-5, verbose=False)\n",
        "\n",
        "    # Save the predictions and labels inside the dict\n",
        "    predictions_dict[lstm.name] = {'predictions': lstm.predictions, 'labels': lstm.labels}\n",
        "\n",
        "    lstm.plot_history()\n",
        "\n",
        "    lstm_results_df.loc[len(lstm_results_df)] = [lstm.name, accuracy, precision, recall, f1, lstm.network.lstm_layers]\n",
        "\n",
        "    # Clean up the cache and perform garbage collection\n",
        "    with torch.no_grad():\n",
        "        torch.cuda.empty_cache()\n",
        "    \n",
        "    gc.collect()\n",
        "\n",
        "    # Model with two LSTM layers\n",
        "    print(f\"Training model with two LSTM layers with seed {seed}\")\n",
        "    lstm_2_layers = LSTM_network(f\"2_layers_{seed}\",\n",
        "                                 seed,\n",
        "                                 detector,\n",
        "                                 emb_model_augmented,\n",
        "                                 hidden_dim=HIDDEN_DIM,\n",
        "                                 output_dim=2,\n",
        "                                 lstm_layers=2,\n",
        "                                 dropout=0.4)\n",
        "\n",
        "    history, accuracy, precision, recall, f1 = lstm_2_layers.train(train, val, EPOCHS, BATCH_SIZE, LEARNING_RATE, weight_decay=1e-5, verbose=False)\n",
        "\n",
        "    # Save the predictions and labels inside the dict\n",
        "    predictions_dict[lstm_2_layers.name] = {'predictions': lstm_2_layers.predictions, 'labels': lstm_2_layers.labels}\n",
        "\n",
        "    lstm_2_layers.plot_history()\n",
        "\n",
        "    lstm_results_df.loc[len(lstm_results_df)] = [lstm_2_layers.name, accuracy, precision, recall, f1, lstm_2_layers.network.lstm_layers]\n",
        "\n",
        "    # Clean up the cache and perform garbage collection\n",
        "    with torch.no_grad():\n",
        "        torch.cuda.empty_cache()\n",
        "    \n",
        "    gc.collect()"
      ]
    },
    {
      "cell_type": "markdown",
      "metadata": {
        "id": "sm9WV6qoV1Br"
      },
      "source": [
        "Now we can get the mean and the standard deviation of the performance of the model over the seeds. This is done to have a better idea of the performance of the model and to have a robust estimation of the performance of the model."
      ]
    },
    {
      "cell_type": "code",
      "execution_count": 56,
      "metadata": {
        "id": "Fjtmz4w8V1Br",
        "outputId": "37727e4d-67d4-4813-ffd9-d25f05e45ed3"
      },
      "outputs": [
        {
          "data": {
            "text/html": [
              "<div>\n",
              "<style scoped>\n",
              "    .dataframe tbody tr th:only-of-type {\n",
              "        vertical-align: middle;\n",
              "    }\n",
              "\n",
              "    .dataframe tbody tr th {\n",
              "        vertical-align: top;\n",
              "    }\n",
              "\n",
              "    .dataframe thead th {\n",
              "        text-align: right;\n",
              "    }\n",
              "</style>\n",
              "<table border=\"1\" class=\"dataframe\">\n",
              "  <thead>\n",
              "    <tr style=\"text-align: right;\">\n",
              "      <th></th>\n",
              "      <th>name</th>\n",
              "      <th>accuracy</th>\n",
              "      <th>precision</th>\n",
              "      <th>recall</th>\n",
              "      <th>f1</th>\n",
              "      <th>layers</th>\n",
              "    </tr>\n",
              "  </thead>\n",
              "  <tbody>\n",
              "    <tr>\n",
              "      <th>0</th>\n",
              "      <td>baseline_1337</td>\n",
              "      <td>0.791139</td>\n",
              "      <td>0.787841</td>\n",
              "      <td>0.784314</td>\n",
              "      <td>0.785776</td>\n",
              "      <td>1</td>\n",
              "    </tr>\n",
              "    <tr>\n",
              "      <th>1</th>\n",
              "      <td>2_layers_1337</td>\n",
              "      <td>0.803797</td>\n",
              "      <td>0.800148</td>\n",
              "      <td>0.799020</td>\n",
              "      <td>0.799550</td>\n",
              "      <td>2</td>\n",
              "    </tr>\n",
              "    <tr>\n",
              "      <th>2</th>\n",
              "      <td>baseline_42</td>\n",
              "      <td>0.778481</td>\n",
              "      <td>0.774233</td>\n",
              "      <td>0.773203</td>\n",
              "      <td>0.773685</td>\n",
              "      <td>1</td>\n",
              "    </tr>\n",
              "    <tr>\n",
              "      <th>3</th>\n",
              "      <td>2_layers_42</td>\n",
              "      <td>0.784810</td>\n",
              "      <td>0.780846</td>\n",
              "      <td>0.784150</td>\n",
              "      <td>0.781981</td>\n",
              "      <td>2</td>\n",
              "    </tr>\n",
              "    <tr>\n",
              "      <th>4</th>\n",
              "      <td>baseline_69</td>\n",
              "      <td>0.797468</td>\n",
              "      <td>0.793344</td>\n",
              "      <td>0.795261</td>\n",
              "      <td>0.794170</td>\n",
              "      <td>1</td>\n",
              "    </tr>\n",
              "    <tr>\n",
              "      <th>5</th>\n",
              "      <td>2_layers_69</td>\n",
              "      <td>0.810127</td>\n",
              "      <td>0.806983</td>\n",
              "      <td>0.804575</td>\n",
              "      <td>0.805642</td>\n",
              "      <td>2</td>\n",
              "    </tr>\n",
              "  </tbody>\n",
              "</table>\n",
              "</div>"
            ],
            "text/plain": [
              "            name  accuracy  precision    recall        f1  layers\n",
              "0  baseline_1337  0.791139   0.787841  0.784314  0.785776       1\n",
              "1  2_layers_1337  0.803797   0.800148  0.799020  0.799550       2\n",
              "2    baseline_42  0.778481   0.774233  0.773203  0.773685       1\n",
              "3    2_layers_42  0.784810   0.780846  0.784150  0.781981       2\n",
              "4    baseline_69  0.797468   0.793344  0.795261  0.794170       1\n",
              "5    2_layers_69  0.810127   0.806983  0.804575  0.805642       2"
            ]
          },
          "execution_count": 56,
          "metadata": {},
          "output_type": "execute_result"
        }
      ],
      "source": [
        "lstm_results_df"
      ]
    },
    {
      "cell_type": "code",
      "execution_count": 57,
      "metadata": {
        "id": "2i-J7vftV1Br",
        "outputId": "8396f931-d2e7-413c-b835-807e32fa16a6"
      },
      "outputs": [
        {
          "name": "stdout",
          "output_type": "stream",
          "text": [
            "Results for the baseline model:\n"
          ]
        },
        {
          "data": {
            "text/html": [
              "<div>\n",
              "<style scoped>\n",
              "    .dataframe tbody tr th:only-of-type {\n",
              "        vertical-align: middle;\n",
              "    }\n",
              "\n",
              "    .dataframe tbody tr th {\n",
              "        vertical-align: top;\n",
              "    }\n",
              "\n",
              "    .dataframe thead th {\n",
              "        text-align: right;\n",
              "    }\n",
              "</style>\n",
              "<table border=\"1\" class=\"dataframe\">\n",
              "  <thead>\n",
              "    <tr style=\"text-align: right;\">\n",
              "      <th></th>\n",
              "      <th>accuracy</th>\n",
              "      <th>precision</th>\n",
              "      <th>recall</th>\n",
              "      <th>f1</th>\n",
              "    </tr>\n",
              "  </thead>\n",
              "  <tbody>\n",
              "    <tr>\n",
              "      <th>mean</th>\n",
              "      <td>0.789030</td>\n",
              "      <td>0.785140</td>\n",
              "      <td>0.784259</td>\n",
              "      <td>0.784544</td>\n",
              "    </tr>\n",
              "    <tr>\n",
              "      <th>std</th>\n",
              "      <td>0.009668</td>\n",
              "      <td>0.009838</td>\n",
              "      <td>0.011030</td>\n",
              "      <td>0.010298</td>\n",
              "    </tr>\n",
              "  </tbody>\n",
              "</table>\n",
              "</div>"
            ],
            "text/plain": [
              "      accuracy  precision    recall        f1\n",
              "mean  0.789030   0.785140  0.784259  0.784544\n",
              "std   0.009668   0.009838  0.011030  0.010298"
            ]
          },
          "execution_count": 57,
          "metadata": {},
          "output_type": "execute_result"
        }
      ],
      "source": [
        "lstm_results_df_index = lstm_results_df.set_index('name')\n",
        "print('Results for the baseline model:')\n",
        "lstm_results_df_index[lstm_results_df_index['layers'] == 1].agg(['mean', 'std']).drop(columns='layers')"
      ]
    },
    {
      "cell_type": "code",
      "execution_count": 58,
      "metadata": {
        "id": "CXwWfKRaV1Br",
        "outputId": "e0e92f0a-420e-4cb8-e43d-e89d82d00155"
      },
      "outputs": [
        {
          "name": "stdout",
          "output_type": "stream",
          "text": [
            "Results for the model with two LSTM layers:\n"
          ]
        },
        {
          "data": {
            "text/html": [
              "<div>\n",
              "<style scoped>\n",
              "    .dataframe tbody tr th:only-of-type {\n",
              "        vertical-align: middle;\n",
              "    }\n",
              "\n",
              "    .dataframe tbody tr th {\n",
              "        vertical-align: top;\n",
              "    }\n",
              "\n",
              "    .dataframe thead th {\n",
              "        text-align: right;\n",
              "    }\n",
              "</style>\n",
              "<table border=\"1\" class=\"dataframe\">\n",
              "  <thead>\n",
              "    <tr style=\"text-align: right;\">\n",
              "      <th></th>\n",
              "      <th>accuracy</th>\n",
              "      <th>precision</th>\n",
              "      <th>recall</th>\n",
              "      <th>f1</th>\n",
              "    </tr>\n",
              "  </thead>\n",
              "  <tbody>\n",
              "    <tr>\n",
              "      <th>mean</th>\n",
              "      <td>0.799578</td>\n",
              "      <td>0.795992</td>\n",
              "      <td>0.795915</td>\n",
              "      <td>0.795724</td>\n",
              "    </tr>\n",
              "    <tr>\n",
              "      <th>std</th>\n",
              "      <td>0.013175</td>\n",
              "      <td>0.013555</td>\n",
              "      <td>0.010560</td>\n",
              "      <td>0.012286</td>\n",
              "    </tr>\n",
              "  </tbody>\n",
              "</table>\n",
              "</div>"
            ],
            "text/plain": [
              "      accuracy  precision    recall        f1\n",
              "mean  0.799578   0.795992  0.795915  0.795724\n",
              "std   0.013175   0.013555  0.010560  0.012286"
            ]
          },
          "execution_count": 58,
          "metadata": {},
          "output_type": "execute_result"
        }
      ],
      "source": [
        "print('Results for the model with two LSTM layers:')\n",
        "lstm_results_df_index[lstm_results_df_index['layers'] == 2].agg(['mean', 'std']).drop(columns='layers')"
      ]
    },
    {
      "cell_type": "markdown",
      "metadata": {
        "id": "rsxsKo5NV1Bs"
      },
      "source": [
        "Now pick the best performing model according to the observed validation set performance"
      ]
    },
    {
      "cell_type": "code",
      "execution_count": 59,
      "metadata": {
        "id": "Lymh_aqRV1Bs",
        "outputId": "84f7f681-cffe-4acc-8730-0525a9c67b9b"
      },
      "outputs": [
        {
          "name": "stdout",
          "output_type": "stream",
          "text": [
            "Best model: 2_layers_69 with f1 score: 0.8056\n"
          ]
        }
      ],
      "source": [
        "# Model with  best f1 score (macro)\n",
        "\n",
        "best_model_name = lstm_results_df_index['f1'].idxmax()\n",
        "print(f\"Best model: {best_model_name} with f1 score: {lstm_results_df_index.loc[best_model_name, 'f1']:.4f}\")"
      ]
    },
    {
      "cell_type": "markdown",
      "metadata": {
        "id": "_849c_EG-bRK"
      },
      "source": [
        "# Task 6: Transformers\n",
        "\n",
        "https://huggingface.co/cardiffnlp/twitter-roberta-base-hate"
      ]
    },
    {
      "cell_type": "code",
      "execution_count": 60,
      "metadata": {
        "id": "PLBZoQYbWSjU"
      },
      "outputs": [],
      "source": [
        "# Since we know that there is a slightly imbalance in the dataset labels, instead of using the default Trainer class of HuggingFace, we can write a custom class inheriting from the Trainer class and override the `compute_loss` method to compute the loss with the class weights computed from the dataset labels. In this way the loss function will take into account the imbalance in the dataset labels and will give more importance to the minority class. The impact of this change is that the F1 and accuracy scores will be more similar to each other since the model will be trained to give more importance to the minority class w.r.t. the majority class.\n",
        "\n",
        "# Taken from https://github.com/huggingface/transformers/blob/main/src/transformers/trainer.py#L3700 (with some minor changes removing useless parts)\n",
        "class CustomTrainer(Trainer):\n",
        "    def __init__(self, class_weights, device, *args, **kwargs):\n",
        "        super().__init__(*args, **kwargs)\n",
        "        # You pass the class weights when instantiating the Trainer\n",
        "        self.class_weights = class_weights\n",
        "        self.device = device\n",
        "\n",
        "    def compute_loss(self, model, inputs, return_outputs=False, num_items_in_batch=None):\n",
        "        if self.label_smoother is not None and \"labels\" in inputs:\n",
        "            labels = inputs.pop(\"labels\")\n",
        "        else:\n",
        "            labels = None\n",
        "        outputs = model(**inputs)\n",
        "        # Save past state if it exists\n",
        "        # TODO: this needs to be fixed and made cleaner later.\n",
        "        if self.args.past_index >= 0:\n",
        "            self._past = outputs[self.args.past_index]\n",
        "\n",
        "        if labels is not None:\n",
        "            loss = self.label_smoother(outputs, labels)\n",
        "        else:\n",
        "            # We don't use .loss here since the model may return tuples instead of ModelOutput.\n",
        "\n",
        "            # Do not\n",
        "            # loss = outputs[\"loss\"] if isinstance(outputs, dict) else outputs[0]\n",
        "            logits = outputs.get('logits')\n",
        "            criterion = torch.nn.CrossEntropyLoss(weight=self.class_weights.to(self.device))\n",
        "            loss = criterion(logits, inputs['labels'])\n",
        "\n",
        "        return (loss, outputs) if return_outputs else loss"
      ]
    },
    {
      "cell_type": "code",
      "execution_count": 35,
      "metadata": {
        "colab": {
          "base_uri": "https://localhost:8080/",
          "height": 113,
          "referenced_widgets": [
            "d16d783c5a974fad8c53672f8025e5db",
            "83d806dde2024e21b7eedc3e06d7ace7",
            "075954eb6698433ea3ff28f84c031cb3",
            "c3149bea92754bad8eb1f63a7de9a05b",
            "9d59491b329740c3b9bc458893c53909",
            "55e0e455726644c8a76e52c972c37a62",
            "d9b7740efd0f4a1a86a5beb08b850019",
            "bfe3e8ffd5b846e89640e0d526a88811",
            "5d81b3855ed345f3aa54e566c1a42354",
            "6ef062e99c2648ba9da2bccd76050dd1",
            "02d40d0867d04eafac27bd728008c862",
            "48aac34665234baab83bc78540b50c42",
            "7d3f145482ec47fca58df5ace1f2e6c6",
            "893605e6a5a840b89093905fe6121578",
            "e1d0065a79bb4cccb0fb86c03436c6b3",
            "35bffac2b4654b198cb5eac92ed6e9af",
            "33dc488dff5d4225845f3adc02523e47",
            "679a273cb0ff42bcaa04c2ee81d6e466",
            "fb83ccab31664a77b3bef17c5ab62768",
            "fe39cceb13b844778470a2bd332b131d",
            "8360bae8197247e386e54056c475dc84",
            "5b0fb6e9bae647e38c54262661d04749",
            "b330ebfcd2dd453baa46bdebc4b48c84",
            "9705ff889c2e4228998d509c6d6b3cc3",
            "0e2f1f938999473d9605db2573eef579",
            "193543f9f6fd4aadaaa0149891d1e8d2",
            "581b189ac418427fb7b6346a255c3cf3",
            "8b65db9770aa4b4c903766c12d8c2aa8",
            "8a291403e3cb488a8b07b6585b7672e8",
            "bae0f28f97ca4de096c5693c43f821f4",
            "2a488bf1e75e48a6843ab88496de3897",
            "3c6ee7a02b6c4332bd19cf1d24aa398d",
            "e015363a80e845679a234bed5cc64b55"
          ]
        },
        "id": "Q7rCMBLjYZ4w",
        "outputId": "1920e5f4-7a1b-4107-ce73-e691bdcbf2eb"
      },
      "outputs": [
        {
          "data": {
            "application/vnd.jupyter.widget-view+json": {
              "model_id": "2dd321d527ba485c873edc041aa13ce3",
              "version_major": 2,
              "version_minor": 0
            },
            "text/plain": [
              "Map:   0%|          | 0/2870 [00:00<?, ? examples/s]"
            ]
          },
          "metadata": {},
          "output_type": "display_data"
        },
        {
          "data": {
            "application/vnd.jupyter.widget-view+json": {
              "model_id": "73e00b00271e418fa10e2e7d10d5632e",
              "version_major": 2,
              "version_minor": 0
            },
            "text/plain": [
              "Map:   0%|          | 0/158 [00:00<?, ? examples/s]"
            ]
          },
          "metadata": {},
          "output_type": "display_data"
        },
        {
          "data": {
            "application/vnd.jupyter.widget-view+json": {
              "model_id": "d337a68b974f4633a2400948e86ad32b",
              "version_major": 2,
              "version_minor": 0
            },
            "text/plain": [
              "Map:   0%|          | 0/286 [00:00<?, ? examples/s]"
            ]
          },
          "metadata": {},
          "output_type": "display_data"
        }
      ],
      "source": [
        "# Get the train, val and test datasets\n",
        "train_data = Dataset.from_pandas(train)\n",
        "val_data = Dataset.from_pandas(val)\n",
        "test_data = Dataset.from_pandas(test)\n",
        "\n",
        "# Define the model card\n",
        "model_card = 'cardiffnlp/twitter-roberta-base-hate'\n",
        "\n",
        "# Get the tokenizer\n",
        "tokenizer = AutoTokenizer.from_pretrained(model_card, use_Fast=False)\n",
        "\n",
        "def preprocess_text(texts):\n",
        "    return tokenizer(texts['tweet'])\n",
        "\n",
        "# Select the right column\n",
        "train_data = train_data.map(preprocess_text, batched=True)\n",
        "val_data = val_data.map(preprocess_text, batched=True)\n",
        "test_data = test_data.map(preprocess_text, batched=True)\n",
        "\n",
        "# Get the data collator\n",
        "data_collator = DataCollatorWithPadding(tokenizer=tokenizer)"
      ]
    },
    {
      "cell_type": "code",
      "execution_count": 61,
      "metadata": {},
      "outputs": [],
      "source": [
        "def compute_metrics(output_info):\n",
        "        \"\"\"\n",
        "        Compute various evaluation metrics for model predictions.\n",
        "\n",
        "        Args:\n",
        "            output_info (tuple): A tuple containing the model predictions and the true labels.\n",
        "                - predictions (np.ndarray): The predicted labels from the model.\n",
        "                - labels (np.ndarray): The true labels.\n",
        "\n",
        "        Returns:\n",
        "            dict: A dictionary containing the computed metrics:\n",
        "                - 'f1': The F1 score (macro average).\n",
        "                - 'accuracy': The accuracy score.\n",
        "                - 'precision': The precision score (macro average).\n",
        "                - 'recall': The recall score (macro average).\n",
        "        \"\"\"\n",
        "        #acc_metric = evaluate.load('accuracy')\n",
        "        #f1_metric = evaluate.load('f1')\n",
        "        #precision_metric = evaluate.load(\"precision\")\n",
        "        #recall_metric = evaluate.load(\"recall\")\n",
        "\n",
        "        predictions, labels = output_info\n",
        "        #LINE REMOVED\n",
        "        predictions = np.array(predictions)\n",
        "        labels = np.array(labels)\n",
        "        predictions = np.argmax(predictions, axis=-1)\n",
        "\n",
        "\n",
        "\n",
        "        #f1 = f1_metric.compute(predictions=predictions, references=labels, average='macro')\n",
        "        #acc = acc_metric.compute(predictions=predictions, references=labels)\n",
        "        #precision = precision_metric.compute(predictions=predictions, references=labels, average='macro')\n",
        "        #recall = recall_metric.compute(predictions=predictions, references=labels, average='macro')\n",
        "\n",
        "        f1 = f1_score(labels, predictions, average=\"macro\")\n",
        "        acc = accuracy_score(labels, predictions)\n",
        "        prec = precision_score(labels, predictions, average=\"macro\")\n",
        "        rec = recall_score(labels,predictions, average=\"macro\")\n",
        "\n",
        "        return {\"f1-score\" : f1, \"Accuracy\" : acc, \"Precision\":prec, \"Recall\":rec}"
      ]
    },
    {
      "cell_type": "code",
      "execution_count": 37,
      "metadata": {
        "id": "2faoZk4OV1Bt"
      },
      "outputs": [],
      "source": [
        "def twitter_roberta_base(model_card: str, seed: int, class_weights: torch.Tensor, train_data: Dataset, test_data: Dataset, data_collator, device: torch.device):\n",
        "\n",
        "    # Clear the cache and perform garbage collection\n",
        "    with torch.no_grad():\n",
        "        torch.cuda.empty_cache()\n",
        "    \n",
        "    gc.collect()\n",
        "\n",
        "    # Load the Model\n",
        "    model = AutoModelForSequenceClassification.from_pretrained(model_card, num_labels=2, id2label={0: 'NEG', 1: 'POS'}, label2id={'NEG': 0, 'POS': 1})\n",
        "\n",
        "    # Get the training arguments\n",
        "    training_args = TrainingArguments(\n",
        "        output_dir=\"models\",                 # where to save model\n",
        "        learning_rate=ROBERTA_LEARNING_RATE,\n",
        "        per_device_train_batch_size=ROBERTA_BATCH_SIZE,         # accelerate defines distributed training\n",
        "        per_device_eval_batch_size=ROBERTA_BATCH_SIZE,\n",
        "        num_train_epochs=ROBERTA_EPOCHS,\n",
        "        weight_decay=1e-5,\n",
        "        eval_strategy=\"epoch\",           # when to report evaluation metrics/losses\n",
        "        save_strategy=\"epoch\",                 # when to save checkpoint\n",
        "        load_best_model_at_end=True,\n",
        "        report_to='none',                    # disabling wandb (default)\n",
        "        seed=seed,\n",
        "        data_seed=seed\n",
        "    )\n",
        "\n",
        "    # Get the trainer\n",
        "    trainer = CustomTrainer(\n",
        "                model=model,\n",
        "                args=training_args,\n",
        "                train_dataset=train_data,\n",
        "                eval_dataset=test_data,\n",
        "                data_collator=data_collator,\n",
        "                compute_metrics=compute_metrics,\n",
        "                class_weights=class_weights,\n",
        "                device=device,\n",
        "            )\n",
        "\n",
        "    # Train the model\n",
        "    trainer.train()\n",
        "\n",
        "    # Get the predictions\n",
        "    predictions_info = trainer.predict(test_data)\n",
        "    predictions, labels = predictions_info.predictions, predictions_info.label_ids\n",
        "\n",
        "    # Update the predictions dict with the new predictions\n",
        "    model_name = model_card.split('/')[-1]\n",
        "    predictions_dict[f'{model_name}_{seed}'] = {'predictions': np.argmax(predictions, axis=-1), 'labels': labels}"
      ]
    },
    {
      "cell_type": "markdown",
      "metadata": {
        "id": "b_-7zWmXV1Bt"
      },
      "source": [
        "### Twitter roBERTa base hate model with seed 1337"
      ]
    },
    {
      "cell_type": "code",
      "execution_count": 38,
      "metadata": {
        "colab": {
          "base_uri": "https://localhost:8080/",
          "height": 571
        },
        "id": "rhElO07DYmEs",
        "outputId": "a73992c6-dae4-40a2-9b5b-b58ed3c0a99b"
      },
      "outputs": [
        {
          "name": "stderr",
          "output_type": "stream",
          "text": [
            "huggingface/tokenizers: The current process just got forked, after parallelism has already been used. Disabling parallelism to avoid deadlocks...\n",
            "To disable this warning, you can either:\n",
            "\t- Avoid using `tokenizers` before the fork if possible\n",
            "\t- Explicitly set the environment variable TOKENIZERS_PARALLELISM=(true | false)\n"
          ]
        },
        {
          "data": {
            "text/html": [
              "\n",
              "    <div>\n",
              "      \n",
              "      <progress value='1080' max='1080' style='width:300px; height:20px; vertical-align: middle;'></progress>\n",
              "      [1080/1080 02:26, Epoch 6/6]\n",
              "    </div>\n",
              "    <table border=\"1\" class=\"dataframe\">\n",
              "  <thead>\n",
              " <tr style=\"text-align: left;\">\n",
              "      <th>Epoch</th>\n",
              "      <th>Training Loss</th>\n",
              "      <th>Validation Loss</th>\n",
              "      <th>F1-score</th>\n",
              "      <th>Accuracy</th>\n",
              "      <th>Precision</th>\n",
              "      <th>Recall</th>\n",
              "    </tr>\n",
              "  </thead>\n",
              "  <tbody>\n",
              "    <tr>\n",
              "      <td>1</td>\n",
              "      <td>No log</td>\n",
              "      <td>0.380966</td>\n",
              "      <td>0.835421</td>\n",
              "      <td>0.835664</td>\n",
              "      <td>0.838755</td>\n",
              "      <td>0.843006</td>\n",
              "    </tr>\n",
              "    <tr>\n",
              "      <td>2</td>\n",
              "      <td>No log</td>\n",
              "      <td>0.369629</td>\n",
              "      <td>0.833447</td>\n",
              "      <td>0.835664</td>\n",
              "      <td>0.833185</td>\n",
              "      <td>0.833730</td>\n",
              "    </tr>\n",
              "    <tr>\n",
              "      <td>3</td>\n",
              "      <td>0.366700</td>\n",
              "      <td>0.364914</td>\n",
              "      <td>0.852105</td>\n",
              "      <td>0.853147</td>\n",
              "      <td>0.851078</td>\n",
              "      <td>0.855258</td>\n",
              "    </tr>\n",
              "    <tr>\n",
              "      <td>4</td>\n",
              "      <td>0.366700</td>\n",
              "      <td>0.392800</td>\n",
              "      <td>0.833447</td>\n",
              "      <td>0.835664</td>\n",
              "      <td>0.833185</td>\n",
              "      <td>0.833730</td>\n",
              "    </tr>\n",
              "    <tr>\n",
              "      <td>5</td>\n",
              "      <td>0.366700</td>\n",
              "      <td>0.398038</td>\n",
              "      <td>0.830301</td>\n",
              "      <td>0.832168</td>\n",
              "      <td>0.829487</td>\n",
              "      <td>0.831448</td>\n",
              "    </tr>\n",
              "    <tr>\n",
              "      <td>6</td>\n",
              "      <td>0.240900</td>\n",
              "      <td>0.391633</td>\n",
              "      <td>0.848672</td>\n",
              "      <td>0.849650</td>\n",
              "      <td>0.847769</td>\n",
              "      <td>0.852133</td>\n",
              "    </tr>\n",
              "  </tbody>\n",
              "</table><p>"
            ],
            "text/plain": [
              "<IPython.core.display.HTML object>"
            ]
          },
          "metadata": {},
          "output_type": "display_data"
        },
        {
          "data": {
            "text/html": [],
            "text/plain": [
              "<IPython.core.display.HTML object>"
            ]
          },
          "metadata": {},
          "output_type": "display_data"
        }
      ],
      "source": [
        "twitter_roberta_base(\n",
        "    model_card = model_card,\n",
        "    seed = 1337,\n",
        "    class_weights = class_weights_tensor,\n",
        "    train_data = train_data,\n",
        "    test_data = test_data,\n",
        "    data_collator = data_collator,\n",
        "    device=device\n",
        ")"
      ]
    },
    {
      "cell_type": "markdown",
      "metadata": {
        "id": "ZU5nMGuobUwu"
      },
      "source": [
        "### Twitter roBERTa base hate model with seed 42"
      ]
    },
    {
      "cell_type": "code",
      "execution_count": 39,
      "metadata": {
        "id": "RWh7ysqsbPyb"
      },
      "outputs": [
        {
          "name": "stderr",
          "output_type": "stream",
          "text": [
            "huggingface/tokenizers: The current process just got forked, after parallelism has already been used. Disabling parallelism to avoid deadlocks...\n",
            "To disable this warning, you can either:\n",
            "\t- Avoid using `tokenizers` before the fork if possible\n",
            "\t- Explicitly set the environment variable TOKENIZERS_PARALLELISM=(true | false)\n"
          ]
        },
        {
          "data": {
            "text/html": [
              "\n",
              "    <div>\n",
              "      \n",
              "      <progress value='1080' max='1080' style='width:300px; height:20px; vertical-align: middle;'></progress>\n",
              "      [1080/1080 02:29, Epoch 6/6]\n",
              "    </div>\n",
              "    <table border=\"1\" class=\"dataframe\">\n",
              "  <thead>\n",
              " <tr style=\"text-align: left;\">\n",
              "      <th>Epoch</th>\n",
              "      <th>Training Loss</th>\n",
              "      <th>Validation Loss</th>\n",
              "      <th>F1-score</th>\n",
              "      <th>Accuracy</th>\n",
              "      <th>Precision</th>\n",
              "      <th>Recall</th>\n",
              "    </tr>\n",
              "  </thead>\n",
              "  <tbody>\n",
              "    <tr>\n",
              "      <td>1</td>\n",
              "      <td>No log</td>\n",
              "      <td>0.387024</td>\n",
              "      <td>0.824316</td>\n",
              "      <td>0.825175</td>\n",
              "      <td>0.824070</td>\n",
              "      <td>0.828571</td>\n",
              "    </tr>\n",
              "    <tr>\n",
              "      <td>2</td>\n",
              "      <td>No log</td>\n",
              "      <td>0.369870</td>\n",
              "      <td>0.831169</td>\n",
              "      <td>0.832168</td>\n",
              "      <td>0.830494</td>\n",
              "      <td>0.834821</td>\n",
              "    </tr>\n",
              "    <tr>\n",
              "      <td>3</td>\n",
              "      <td>0.360500</td>\n",
              "      <td>0.385478</td>\n",
              "      <td>0.824626</td>\n",
              "      <td>0.825175</td>\n",
              "      <td>0.825606</td>\n",
              "      <td>0.830258</td>\n",
              "    </tr>\n",
              "    <tr>\n",
              "      <td>4</td>\n",
              "      <td>0.360500</td>\n",
              "      <td>0.398067</td>\n",
              "      <td>0.841023</td>\n",
              "      <td>0.842657</td>\n",
              "      <td>0.840064</td>\n",
              "      <td>0.842510</td>\n",
              "    </tr>\n",
              "    <tr>\n",
              "      <td>5</td>\n",
              "      <td>0.360500</td>\n",
              "      <td>0.409910</td>\n",
              "      <td>0.840787</td>\n",
              "      <td>0.842657</td>\n",
              "      <td>0.840098</td>\n",
              "      <td>0.841667</td>\n",
              "    </tr>\n",
              "    <tr>\n",
              "      <td>6</td>\n",
              "      <td>0.244600</td>\n",
              "      <td>0.409407</td>\n",
              "      <td>0.844665</td>\n",
              "      <td>0.846154</td>\n",
              "      <td>0.843615</td>\n",
              "      <td>0.846478</td>\n",
              "    </tr>\n",
              "  </tbody>\n",
              "</table><p>"
            ],
            "text/plain": [
              "<IPython.core.display.HTML object>"
            ]
          },
          "metadata": {},
          "output_type": "display_data"
        },
        {
          "data": {
            "text/html": [],
            "text/plain": [
              "<IPython.core.display.HTML object>"
            ]
          },
          "metadata": {},
          "output_type": "display_data"
        }
      ],
      "source": [
        "twitter_roberta_base(\n",
        "    model_card = model_card,\n",
        "    seed = 42,\n",
        "    class_weights = class_weights_tensor,\n",
        "    train_data = train_data,\n",
        "    test_data = test_data,\n",
        "    data_collator = data_collator,\n",
        "    device=device\n",
        ")"
      ]
    },
    {
      "cell_type": "markdown",
      "metadata": {
        "id": "nfBko7wbbV8e"
      },
      "source": [
        "### Twitter roBERTa base hate model with seed 69"
      ]
    },
    {
      "cell_type": "code",
      "execution_count": 40,
      "metadata": {
        "colab": {
          "base_uri": "https://localhost:8080/",
          "height": 360,
          "referenced_widgets": [
            "9a10170fe57642989f8125359aeaf101",
            "3d0ba89e15964c428fb8bd72be557d33",
            "32f452a93c2f418e8bd0ead759a96550",
            "e69393fc38c242f3b1dc58be0095c5b8",
            "2909aba393124bb7885b3d40a4c668c1",
            "619c7c81da0141b39d65583386762047",
            "33629126ca424b9d84093f7e66206350",
            "e956d628e75249b39b7b801ead527388",
            "1d189704ed1b4e358835420caf344b52",
            "5295c26e4eef4d78bab14c501a711f1c",
            "574a5a0f6a5e4263ac3e0ab5da504173",
            "c8586b30e59e4a6684fb8536fbd00908",
            "069e704b4be74050af7644eb8bcdd368",
            "a0471c21ddbc4dc1bda369075c6520dc",
            "5e583effa29e448eb3986751c74079ab",
            "3228b1f888024be0b06aeda84b8502b0",
            "4c556ff080b547ea92df2590886ff7de",
            "bcddc48b44e84607834230f50cfc3300",
            "9c69dbd359cc48249d4bfc0a5b157a8a",
            "ca163663e94f4a64a6e46b0ba4d39209",
            "53fd188602e64f79ba5739c004b6d4a5",
            "82b7888ced5a43cfa31d373b909b25ab",
            "d01e275effee4d97ae46fbcc254d8a4e",
            "d22d776e09f34312b8886760a714cbd4",
            "8720a0d02edc4659900d762ae49d08c2",
            "96333ba152b24f02957084cf131f1237",
            "afc54e5939f64a6699447488058892c7",
            "d2bfdb108ddf4cd88cd12acd59f46957",
            "1c1d648d78434dc9ae4c604afc86abe8",
            "8745282fc0034fd2833eb514e44e00f8",
            "33cf4549d4b449c8b094774d212e453d",
            "6686346a90094ac9a608656a35ba768f",
            "304ae7e02a9b4bc9bb99a6dae5113b8f"
          ]
        },
        "id": "FUIAP8DDbYho",
        "outputId": "6354710c-fa45-4fa7-fc84-3b149416ab11"
      },
      "outputs": [
        {
          "name": "stderr",
          "output_type": "stream",
          "text": [
            "huggingface/tokenizers: The current process just got forked, after parallelism has already been used. Disabling parallelism to avoid deadlocks...\n",
            "To disable this warning, you can either:\n",
            "\t- Avoid using `tokenizers` before the fork if possible\n",
            "\t- Explicitly set the environment variable TOKENIZERS_PARALLELISM=(true | false)\n"
          ]
        },
        {
          "data": {
            "text/html": [
              "\n",
              "    <div>\n",
              "      \n",
              "      <progress value='1080' max='1080' style='width:300px; height:20px; vertical-align: middle;'></progress>\n",
              "      [1080/1080 02:38, Epoch 6/6]\n",
              "    </div>\n",
              "    <table border=\"1\" class=\"dataframe\">\n",
              "  <thead>\n",
              " <tr style=\"text-align: left;\">\n",
              "      <th>Epoch</th>\n",
              "      <th>Training Loss</th>\n",
              "      <th>Validation Loss</th>\n",
              "      <th>F1-score</th>\n",
              "      <th>Accuracy</th>\n",
              "      <th>Precision</th>\n",
              "      <th>Recall</th>\n",
              "    </tr>\n",
              "  </thead>\n",
              "  <tbody>\n",
              "    <tr>\n",
              "      <td>1</td>\n",
              "      <td>No log</td>\n",
              "      <td>0.381668</td>\n",
              "      <td>0.819826</td>\n",
              "      <td>0.821678</td>\n",
              "      <td>0.818936</td>\n",
              "      <td>0.821230</td>\n",
              "    </tr>\n",
              "    <tr>\n",
              "      <td>2</td>\n",
              "      <td>No log</td>\n",
              "      <td>0.367113</td>\n",
              "      <td>0.834595</td>\n",
              "      <td>0.835664</td>\n",
              "      <td>0.833758</td>\n",
              "      <td>0.837946</td>\n",
              "    </tr>\n",
              "    <tr>\n",
              "      <td>3</td>\n",
              "      <td>0.362200</td>\n",
              "      <td>0.383995</td>\n",
              "      <td>0.852888</td>\n",
              "      <td>0.853147</td>\n",
              "      <td>0.855660</td>\n",
              "      <td>0.860317</td>\n",
              "    </tr>\n",
              "    <tr>\n",
              "      <td>4</td>\n",
              "      <td>0.362200</td>\n",
              "      <td>0.378498</td>\n",
              "      <td>0.840787</td>\n",
              "      <td>0.842657</td>\n",
              "      <td>0.840098</td>\n",
              "      <td>0.841667</td>\n",
              "    </tr>\n",
              "    <tr>\n",
              "      <td>5</td>\n",
              "      <td>0.362200</td>\n",
              "      <td>0.379355</td>\n",
              "      <td>0.855354</td>\n",
              "      <td>0.856643</td>\n",
              "      <td>0.854219</td>\n",
              "      <td>0.857540</td>\n",
              "    </tr>\n",
              "    <tr>\n",
              "      <td>6</td>\n",
              "      <td>0.243600</td>\n",
              "      <td>0.386732</td>\n",
              "      <td>0.851923</td>\n",
              "      <td>0.853147</td>\n",
              "      <td>0.850795</td>\n",
              "      <td>0.854415</td>\n",
              "    </tr>\n",
              "  </tbody>\n",
              "</table><p>"
            ],
            "text/plain": [
              "<IPython.core.display.HTML object>"
            ]
          },
          "metadata": {},
          "output_type": "display_data"
        },
        {
          "data": {
            "text/html": [],
            "text/plain": [
              "<IPython.core.display.HTML object>"
            ]
          },
          "metadata": {},
          "output_type": "display_data"
        }
      ],
      "source": [
        "twitter_roberta_base(\n",
        "    model_card = model_card,\n",
        "    seed = 69,\n",
        "    class_weights = class_weights_tensor,\n",
        "    train_data = train_data,\n",
        "    test_data = test_data,\n",
        "    data_collator = data_collator,\n",
        "    device=device\n",
        ")"
      ]
    },
    {
      "cell_type": "markdown",
      "metadata": {
        "id": "qoCoBkHN-bRK"
      },
      "source": [
        "# Task 7: Error Analysis\n",
        "\n",
        "After evaluating the model, perform a brief error analysis:\n",
        "\n",
        " - Review the results and identify common errors.\n",
        "\n",
        " - Summarize your findings regarding the errors and their impact on performance (e.g. but not limited to Out-of-Vocabulary (OOV) words, data imbalance, and performance differences between the custom model and the transformer...)\n",
        " - Suggest possible solutions to address the identified errors."
      ]
    },
    {
      "cell_type": "code",
      "execution_count": 60,
      "metadata": {
        "id": "lD_5dNvWV1Bv"
      },
      "outputs": [],
      "source": [
        "class Metrics:\n",
        "    def __init__(self, predictions_dict: dict):\n",
        "        self.predictions_dict = predictions_dict\n",
        "        self.models = list(predictions_dict.keys())\n",
        "        self.ensembled_dict = {}\n",
        "\n",
        "    def majority_voting(self):\n",
        "        \"\"\"\n",
        "        Apply majority voting to the given predictions.\n",
        "\n",
        "        Args:\n",
        "            predictions (np.ndarray): The predictions to be aggregated.\n",
        "\n",
        "        Returns:\n",
        "            np.ndarray: The aggregated predictions based on majority voting.\n",
        "        \"\"\"\n",
        "        baseline_models = [model for model in self.models if model.startswith('baseline')]\n",
        "        two_lstms = [model for model in self.models if model.startswith('2_layers')]\n",
        "        roberta_models = [model for model in self.models if model.startswith('twitter')]\n",
        "\n",
        "        threshold = len(baseline_models) // 2 + 1\n",
        "\n",
        "        # Stack vertically the predictions of the models\n",
        "        try:\n",
        "            baseline_predictions = np.vstack([self.predictions_dict[model]['predictions'] for model in baseline_models])\n",
        "            colsum = np.sum(baseline_predictions, axis=0)\n",
        "            majority_voting = (colsum >= threshold).astype(int)\n",
        "            self.ensembled_dict['baseline'] = {'predictions': majority_voting, 'labels': self.predictions_dict[baseline_models[0]]['labels']}\n",
        "        except ValueError: # Models not trained\n",
        "            pass\n",
        "\n",
        "        try:\n",
        "            two_lstm_predictions = np.vstack([self.predictions_dict[model]['predictions'] for model in two_lstms])\n",
        "            colsum = np.sum(two_lstm_predictions, axis=0)\n",
        "            majority_voting = (colsum >= threshold).astype(int)\n",
        "            self.ensembled_dict['2_layers'] = {'predictions': majority_voting, 'labels': self.predictions_dict[two_lstms[0]]['labels']}\n",
        "        except ValueError: # Models not trained\n",
        "            pass\n",
        "\n",
        "        try:\n",
        "            roberta_predictions = np.vstack([self.predictions_dict[model]['predictions'] for model in roberta_models])\n",
        "            colsum = np.sum(roberta_predictions, axis=0)\n",
        "            majority_voting = (colsum >= threshold).astype(int)\n",
        "            self.ensembled_dict['twitter'] = {'predictions': majority_voting, 'labels': self.predictions_dict[roberta_models[0]]['labels']}\n",
        "        except ValueError: # Models not trained\n",
        "            pass\n",
        "\n",
        "\n",
        "    def get_confusion_matrix(self, predictions: np.ndarray, labels: np.ndarray, title: str, ax=None):\n",
        "        \"\"\"\n",
        "        Generates and displays a confusion matrix for the given predictions and labels.\n",
        "\n",
        "        Args:\n",
        "            predictions (numpy.ndarray): The predicted probabilities or logits for each class.\n",
        "            labels (numpy.ndarray): The true labels for the data.\n",
        "\n",
        "        Returns:\n",
        "            None: This function displays the confusion matrix plot and does not return any value.\n",
        "        \"\"\"\n",
        "        cm = confusion_matrix(y_true=labels, y_pred=predictions)\n",
        "        display = ConfusionMatrixDisplay(confusion_matrix=cm, display_labels=['Non-sexist', 'Sexist']).plot(cmap='viridis', ax=ax)\n",
        "        _ = display.ax_.set_title(title)\n",
        "\n",
        "    def get_precision_recall(self, predictions: np.ndarray, labels: np.ndarray, model_name: str, plot_title: str, ax=None):\n",
        "        \"\"\"\n",
        "        Calculate and display the precision-recall curve for the given predictions and labels.\n",
        "\n",
        "        Args:\n",
        "            predictions (np.ndarray): The predicted probabilities or logits from the model.\n",
        "            labels (np.ndarray): The true labels for the data.\n",
        "\n",
        "        Returns:\n",
        "            None: This function displays the precision-recall curve using matplotlib.\n",
        "        \"\"\"\n",
        "        display = PrecisionRecallDisplay.from_predictions(y_true=labels, y_pred=predictions, name=model_name, plot_chance_level=True, ax=ax)\n",
        "        _ = display.ax_.set_title(plot_title)\n",
        "\n",
        "    def get_f1_score(self, predictions: np.ndarray, labels: np.ndarray):\n",
        "        \"\"\"\n",
        "        Calculate the F1 score for the given predictions and labels.\n",
        "\n",
        "        Args:\n",
        "            predictions (np.ndarray): The predicted probabilities or logits from the model.\n",
        "            labels (np.ndarray): The true labels for the data.\n",
        "\n",
        "        Returns:\n",
        "            float: The F1 score for the model predictions.\n",
        "        \"\"\"\n",
        "        return f1_score(y_true=labels, y_pred=predictions, average='macro')\n",
        "\n",
        "    def contains_OOV(self, text: str, tokenizer: AutoTokenizer):\n",
        "        \"\"\"\n",
        "        Return the out-of-vocabulary (OOV) words in a given text.\n",
        "        \"\"\"\n",
        "        vocab_words = list(tokenizer.vocab.keys())\n",
        "        return set(word for word in text.split() if word not in vocab_words)\n",
        "\n",
        "    def review_errors(self, preprocessed_data, predictions, labels, tokenizer: AutoTokenizer, verbose: bool = False):\n",
        "        \"\"\"\n",
        "        Analyzes and reviews errors in model predictions.\n",
        "\n",
        "        Args:\n",
        "            original_data (pd.DataFrame): The original dataset containing the true labels.\n",
        "            preprocessed_data (pd.DataFrame): The preprocessed dataset used for predictions.\n",
        "            predictions (np.ndarray): The model's predictions.\n",
        "            labels (np.ndarray): The true labels.\n",
        "            verbose (bool, optional): If True, prints detailed information about each error. Defaults to False.\n",
        "\n",
        "        Returns:\n",
        "            list: A list of tweet IDs where the model made incorrect predictions.\n",
        "\n",
        "        Prints:\n",
        "            - The total number of errors found.\n",
        "            - Detailed information about each error if verbose is True.\n",
        "            - The number and percentage of errors due to Out-Of-Vocabulary (OOV) words.\n",
        "        \"\"\"\n",
        "        errors = []\n",
        "        for i, (pred, label) in enumerate(zip(predictions, labels)):\n",
        "            if pred != label:\n",
        "                errors.append(i)\n",
        "\n",
        "        print(f\"Found {len(errors)} errors out of {len(labels)} samples.\")\n",
        "\n",
        "        errors_due_to_OOV = 0\n",
        "        for i in errors:\n",
        "            tweet_text = preprocessed_data['tweet'][i]\n",
        "            oov_found = self.contains_OOV(tweet_text, tokenizer)\n",
        "            if len(oov_found) > 0:\n",
        "                errors_due_to_OOV += 1\n",
        "            if verbose:\n",
        "                print(f\"\"\"\n",
        "                Contains OOV: {oov_found if len(oov_found) > 0 else 'No'}\n",
        "                Tweet: {tweet_text}\n",
        "                Predicted: {predictions[i]}\n",
        "                True Label: {labels[i]}\n",
        "                \"\"\")\n",
        "        print(f\"Errors due to OOV: {errors_due_to_OOV}, {errors_due_to_OOV / len(errors) * 100:.2f}%\")"
      ]
    },
    {
      "cell_type": "code",
      "execution_count": 61,
      "metadata": {
        "colab": {
          "base_uri": "https://localhost:8080/",
          "height": 1000
        },
        "id": "CKvnjj5rV1Bv",
        "outputId": "71e475df-7327-42d4-ddb9-3333bf5a57a1"
      },
      "outputs": [
        {
          "name": "stdout",
          "output_type": "stream",
          "text": [
            "F1 scores for the ensembled models: {'baseline': 0.7934640522875817, '2_layers': 0.8117424709314269}, Accuracy: {'baseline': 0.7974683544303798, '2_layers': 0.8164556962025317}\n"
          ]
        },
        {
          "ename": "NameError",
          "evalue": "name 'test_data' is not defined",
          "output_type": "error",
          "traceback": [
            "\u001b[0;31m---------------------------------------------------------------------------\u001b[0m",
            "\u001b[0;31mNameError\u001b[0m                                 Traceback (most recent call last)",
            "Cell \u001b[0;32mIn[61], line 28\u001b[0m\n\u001b[1;32m     25\u001b[0m \u001b[38;5;28mprint\u001b[39m(\u001b[38;5;124mf\u001b[39m\u001b[38;5;124m\"\u001b[39m\u001b[38;5;124mF1 scores for the ensembled models: \u001b[39m\u001b[38;5;132;01m{\u001b[39;00mf1_scores_ensembled\u001b[38;5;132;01m}\u001b[39;00m\u001b[38;5;124m, Accuracy: \u001b[39m\u001b[38;5;132;01m{\u001b[39;00maccuracy_ensembled\u001b[38;5;132;01m}\u001b[39;00m\u001b[38;5;124m\"\u001b[39m)\n\u001b[1;32m     27\u001b[0m \u001b[38;5;28;01mfor\u001b[39;00m model_name \u001b[38;5;129;01min\u001b[39;00m metrics\u001b[38;5;241m.\u001b[39mensembled_dict\u001b[38;5;241m.\u001b[39mkeys():\n\u001b[0;32m---> 28\u001b[0m     wrong_tweet_ids \u001b[38;5;241m=\u001b[39m metrics\u001b[38;5;241m.\u001b[39mreview_errors(preprocessed_data\u001b[38;5;241m=\u001b[39m\u001b[43mtest_data\u001b[49m, predictions\u001b[38;5;241m=\u001b[39mmetrics\u001b[38;5;241m.\u001b[39mensembled_dict[model_name][\u001b[38;5;124m'\u001b[39m\u001b[38;5;124mpredictions\u001b[39m\u001b[38;5;124m'\u001b[39m], labels\u001b[38;5;241m=\u001b[39mmetrics\u001b[38;5;241m.\u001b[39mensembled_dict[model_name][\u001b[38;5;124m'\u001b[39m\u001b[38;5;124mlabels\u001b[39m\u001b[38;5;124m'\u001b[39m], tokenizer\u001b[38;5;241m=\u001b[39mtokenizer, verbose\u001b[38;5;241m=\u001b[39m\u001b[38;5;28;01mTrue\u001b[39;00m)\n",
            "\u001b[0;31mNameError\u001b[0m: name 'test_data' is not defined"
          ]
        },
        {
          "data": {
            "image/png": "[encoded data removed]",
            "text/plain": [
              "<Figure size 2000x600 with 5 Axes>"
            ]
          },
          "metadata": {},
          "output_type": "display_data"
        },
        {
          "data": {
            "image/png": "[encoded data removed]",
            "text/plain": [
              "<Figure size 2000x600 with 3 Axes>"
            ]
          },
          "metadata": {},
          "output_type": "display_data"
        }
      ],
      "source": [
        "metrics = Metrics(predictions_dict=predictions_dict)\n",
        "\n",
        "# Get the ensemble predictions\n",
        "metrics.majority_voting()\n",
        "\n",
        "fig, ax = plt.subplots(1, 3, figsize=(20, 6), sharey=True)\n",
        "\n",
        "# Plot the confusion matrix for each of the models Cardiff Twitter RoBERTa Base\n",
        "for i, model_name in enumerate(list(metrics.ensembled_dict.keys())):\n",
        "    predictions = metrics.ensembled_dict[model_name]['predictions']\n",
        "    labels = metrics.ensembled_dict[model_name]['labels']\n",
        "    metrics.get_confusion_matrix(predictions, labels, title=f\"Confusion Matrix - {model_name}\", ax=ax[i])\n",
        "\n",
        "fig, ax = plt.subplots(1, 3, figsize=(20, 6), sharey=True)\n",
        "\n",
        "# Plot the precision-recall curve for each of the models Cardiff Twitter RoBERTa Base\n",
        "for i, model_name in enumerate(list(metrics.ensembled_dict.keys())):\n",
        "    predictions = metrics.ensembled_dict[model_name]['predictions']\n",
        "    labels = metrics.ensembled_dict[model_name]['labels']\n",
        "    metrics.get_precision_recall(predictions, labels, model_name, f\"Precision-Recall Curve - {model_name}\", ax=ax[i])\n",
        "\n",
        "# Calculate the F1 score for each of the ensembled models\n",
        "f1_scores_ensembled = {model_name: metrics.get_f1_score(metrics.ensembled_dict[model_name]['predictions'], metrics.ensembled_dict[model_name]['labels']) for model_name in metrics.ensembled_dict.keys()}\n",
        "accuracy_ensembled = {model_name: accuracy_score(metrics.ensembled_dict[model_name]['labels'], metrics.ensembled_dict[model_name]['predictions']) for model_name in metrics.ensembled_dict.keys()}\n",
        "print(f\"F1 scores for the ensembled models: {f1_scores_ensembled}, Accuracy: {accuracy_ensembled}\")\n",
        "\n",
        "for model_name in metrics.ensembled_dict.keys():\n",
        "    wrong_tweet_ids = metrics.review_errors(preprocessed_data=test_data, predictions=metrics.ensembled_dict[model_name]['predictions'], labels=metrics.ensembled_dict[model_name]['labels'], tokenizer=tokenizer, verbose=True)"
      ]
    },
    {
      "cell_type": "markdown",
      "metadata": {
        "id": "eCcWEEjtC7t_"
      },
      "source": [
        "Common errrors spotted so far:\n",
        "\n",
        "* Most of the errors are due to the fact that the model is not able to distinguish between the sexist and non-sexist tweets.\n",
        "    * The predicted score is the opposite of the true score. This is a common error in classification tasks and can be due to the fact that the model is not able to learn the features that distinguish between the two classes.\n",
        "    * All the missclassified tweets contain, at least, one word which is not in the vocabulary of the roBERTa. This for sure has an impact in the performance of the model since the model is not able to learn the embeddings for these words and loses information about the tweets. Indeed these OOVs are special tokens of the GloVe embeddings and are not present in the roBERTa vocabulary. This is a common problem when using pretrained embeddings. Moreover, this version of roBERTa has just a few special tokens as visible from the [map on huggingface](https://huggingface.co/cardiffnlp/twitter-roberta-base-hate/blob/main/special_tokens_map.json).\n",
        "    * A model which includes the special tokens for user mentions, url, elongations, etc. might perform better on this task since it will be able to learn the embeddings for these tokens and have better performances."
      ]
    },
    {
      "cell_type": "markdown",
      "metadata": {
        "id": "lCNhVqZ9-bRL"
      },
      "source": [
        "# Task 8: Report\n",
        "\n",
        "Wrap up your experiment in a short report (up to 2 pages).\n",
        "\n",
        "* Use the NLP course report template.\n",
        "* Summarize each task in the report following the provided template.\n",
        "\n",
        "The report is not a copy-paste of graphs, tables, and command outputs.\n",
        "\n",
        "* Summarize classification performance in Table format.\n",
        "* **Do not** report command outputs or screenshots.\n",
        "* Report learning curves in Figure format.\n",
        "* The error analysis section should summarize your findings."
      ]
    },
    {
      "cell_type": "markdown",
      "metadata": {
        "id": "Aql29_OZV1Bw"
      },
      "source": [
        "# Appendix"
      ]
    },
    {
      "cell_type": "markdown",
      "metadata": {
        "id": "8VxQjYsZV1Bw"
      },
      "source": [
        "## Custom Input\n",
        "\n",
        "Here you can try the model to see how it works with custom input. It works pretty well detecting plain sexism, but it struggles with certain phrases containing subtle sexism.\n",
        "\n",
        "These are still good results, considering the dimension of the dataset used, which is quite small\n"
      ]
    },
    {
      "cell_type": "code",
      "execution_count": null,
      "metadata": {
        "id": "i2JS4e0HV1Bw"
      },
      "outputs": [],
      "source": [
        "def sexism_detector(phrase):\n",
        "    phrase = detector.preprocess_text(phrase)\n",
        "    phrase = detector.lemmatize_text(phrase)\n",
        "    phrase = phrase.lower()\n",
        "\n",
        "    tokens = roberta.tokenizer(\n",
        "        phrase,\n",
        "        truncation=True,\n",
        "        padding=True,\n",
        "        max_length=512,\n",
        "        return_tensors=\"pt\"\n",
        "    )\n",
        "\n",
        "    phrase_dataset = Dataset.from_dict({\n",
        "    \"input_ids\": tokens[\"input_ids\"],\n",
        "    \"attention_mask\": tokens[\"attention_mask\"],\n",
        "    })\n",
        "\n",
        "    pred = trainer.predict(phrase_dataset)\n",
        "\n",
        "    return \"Not sexist!\" if np.argmax(pred.predictions, axis=-1) == 0 else \"Sexist!\"\n"
      ]
    },
    {
      "cell_type": "code",
      "execution_count": null,
      "metadata": {
        "id": "CHnTVfR9V1Bw"
      },
      "outputs": [],
      "source": [
        "phrase = input(\"Insert your phrase: \")\n",
        "print(sexism_detector(phrase))"
      ]
    },
    {
      "cell_type": "markdown",
      "metadata": {},
      "source": [
        "## Multilingual Model (Spanish and English tweets)"
      ]
    },
    {
      "cell_type": "code",
      "execution_count": 28,
      "metadata": {},
      "outputs": [],
      "source": [
        "detector = SexismDetector()"
      ]
    },
    {
      "cell_type": "code",
      "execution_count": 29,
      "metadata": {},
      "outputs": [],
      "source": [
        "detector.download_corpus(url='https://raw.githubusercontent.com/nlp-unibo/nlp-course-material/refs/heads/main/2024-2025/Assignment%201/data/training.json', filename='training.json')\n",
        "detector.download_corpus(url='https://raw.githubusercontent.com/nlp-unibo/nlp-course-material/refs/heads/main/2024-2025/Assignment%201/data/test.json', filename='test.json')\n",
        "detector.download_corpus(url='https://raw.githubusercontent.com/nlp-unibo/nlp-course-material/refs/heads/main/2024-2025/Assignment%201/data/validation.json', filename='validation.json')"
      ]
    },
    {
      "cell_type": "code",
      "execution_count": 30,
      "metadata": {},
      "outputs": [],
      "source": [
        "train = detector.load_corpus('training.json', orient='index', encoding='utf-8')\n",
        "val = detector.load_corpus('validation.json', orient='index', encoding='utf-8')\n",
        "test = detector.load_corpus('test.json', orient='index', encoding='utf-8')"
      ]
    },
    {
      "cell_type": "code",
      "execution_count": 31,
      "metadata": {},
      "outputs": [],
      "source": [
        "train['hard_label_task1'] = train['labels_task1'].apply(detector.majority_voting)\n",
        "val['hard_label_task1'] = val['labels_task1'].apply(detector.majority_voting)\n",
        "test['hard_label_task1'] = test['labels_task1'].apply(detector.majority_voting)"
      ]
    },
    {
      "cell_type": "code",
      "execution_count": 32,
      "metadata": {},
      "outputs": [],
      "source": [
        "train = train[(train['hard_label_task1'] != \"NEUTRAL\")]\n",
        "val = val[(val['hard_label_task1'] != \"NEUTRAL\")]\n",
        "test = test[(test['hard_label_task1'] != \"NEUTRAL\")]"
      ]
    },
    {
      "cell_type": "code",
      "execution_count": 33,
      "metadata": {},
      "outputs": [
        {
          "data": {
            "text/plain": [
              "((6064, 12), (648, 12), (286, 12))"
            ]
          },
          "execution_count": 33,
          "metadata": {},
          "output_type": "execute_result"
        }
      ],
      "source": [
        "train.shape, val.shape, test.shape"
      ]
    },
    {
      "cell_type": "code",
      "execution_count": 34,
      "metadata": {},
      "outputs": [],
      "source": [
        "train = train[detector.columns_to_maintain]\n",
        "val = val[detector.columns_to_maintain]\n",
        "test = test[detector.columns_to_maintain]"
      ]
    },
    {
      "cell_type": "code",
      "execution_count": 35,
      "metadata": {},
      "outputs": [],
      "source": [
        "train['hard_label_task1'] = train['hard_label_task1'].apply(lambda x: 1 if x == \"YES\" else 0)\n",
        "val['hard_label_task1'] = val['hard_label_task1'].apply(lambda x: 1 if x == \"YES\" else 0)\n",
        "test['hard_label_task1'] = test['hard_label_task1'].apply(lambda x: 1 if x == \"YES\" else 0)"
      ]
    },
    {
      "cell_type": "code",
      "execution_count": 36,
      "metadata": {},
      "outputs": [],
      "source": [
        "train.rename(columns={'hard_label_task1': 'label'}, inplace=True)\n",
        "val.rename(columns={'hard_label_task1': 'label'}, inplace=True)\n",
        "test.rename(columns={'hard_label_task1': 'label'}, inplace=True)"
      ]
    },
    {
      "cell_type": "code",
      "execution_count": 37,
      "metadata": {},
      "outputs": [
        {
          "data": {
            "image/png": "[encoded data removed]",
            "text/plain": [
              "<Figure size 640x480 with 1 Axes>"
            ]
          },
          "metadata": {},
          "output_type": "display_data"
        }
      ],
      "source": [
        "train.label.value_counts(normalize=True).plot(kind='bar', title='Target variable distribution in training set', color=['green', 'red'], alpha=0.7).set_xticklabels(['Not Sexist', 'Sexist'], rotation=0)\n",
        "plt.grid()\n",
        "plt.tight_layout()\n",
        "plt.show()"
      ]
    },
    {
      "cell_type": "code",
      "execution_count": 38,
      "metadata": {},
      "outputs": [],
      "source": [
        "class_weights_tensor_multi = detector.get_class_weights(train, 'label')"
      ]
    },
    {
      "cell_type": "code",
      "execution_count": 39,
      "metadata": {},
      "outputs": [],
      "source": [
        "train['tweet'] = train['tweet'].apply(detector.preprocess_text)\n",
        "val['tweet'] = val['tweet'].apply(detector.preprocess_text)\n",
        "test['tweet'] = test['tweet'].apply(detector.preprocess_text)"
      ]
    },
    {
      "cell_type": "code",
      "execution_count": 40,
      "metadata": {},
      "outputs": [],
      "source": [
        "train['tweet'] = train['tweet'].apply(detector.lemmatize_text)\n",
        "val['tweet'] = val['tweet'].apply(detector.lemmatize_text)\n",
        "test['tweet'] = test['tweet'].apply(detector.lemmatize_text)"
      ]
    },
    {
      "cell_type": "code",
      "execution_count": 41,
      "metadata": {},
      "outputs": [],
      "source": [
        "train['tweet'] = train['tweet'].str.lower()\n",
        "val['tweet'] = val['tweet'].str.lower()\n",
        "test['tweet'] = test['tweet'].str.lower()"
      ]
    },
    {
      "cell_type": "code",
      "execution_count": 42,
      "metadata": {},
      "outputs": [
        {
          "data": {
            "text/html": [
              "<div>\n",
              "<style scoped>\n",
              "    .dataframe tbody tr th:only-of-type {\n",
              "        vertical-align: middle;\n",
              "    }\n",
              "\n",
              "    .dataframe tbody tr th {\n",
              "        vertical-align: top;\n",
              "    }\n",
              "\n",
              "    .dataframe thead th {\n",
              "        text-align: right;\n",
              "    }\n",
              "</style>\n",
              "<table border=\"1\" class=\"dataframe\">\n",
              "  <thead>\n",
              "    <tr style=\"text-align: right;\">\n",
              "      <th></th>\n",
              "      <th>id_EXIST</th>\n",
              "      <th>lang</th>\n",
              "      <th>tweet</th>\n",
              "      <th>label</th>\n",
              "    </tr>\n",
              "  </thead>\n",
              "  <tbody>\n",
              "    <tr>\n",
              "      <th>100001</th>\n",
              "      <td>100001</td>\n",
              "      <td>es</td>\n",
              "      <td>&lt;user&gt; ignora al otro e un capullo el problema...</td>\n",
              "      <td>1</td>\n",
              "    </tr>\n",
              "    <tr>\n",
              "      <th>100002</th>\n",
              "      <td>100002</td>\n",
              "      <td>es</td>\n",
              "      <td>&lt;user&gt; si comicsgate se parece en algo a gamer...</td>\n",
              "      <td>0</td>\n",
              "    </tr>\n",
              "    <tr>\n",
              "      <th>100003</th>\n",
              "      <td>100003</td>\n",
              "      <td>es</td>\n",
              "      <td>&lt;user&gt; lee sobre gamergate y como eso ha cambi...</td>\n",
              "      <td>0</td>\n",
              "    </tr>\n",
              "    <tr>\n",
              "      <th>100005</th>\n",
              "      <td>100005</td>\n",
              "      <td>es</td>\n",
              "      <td>&lt;user&gt; &lt;user&gt; &lt;user&gt; entonces como asi e el me...</td>\n",
              "      <td>1</td>\n",
              "    </tr>\n",
              "    <tr>\n",
              "      <th>100006</th>\n",
              "      <td>100006</td>\n",
              "      <td>es</td>\n",
              "      <td>&lt;user&gt; aaah si andrew dobson el que se dedico ...</td>\n",
              "      <td>0</td>\n",
              "    </tr>\n",
              "  </tbody>\n",
              "</table>\n",
              "</div>"
            ],
            "text/plain": [
              "        id_EXIST lang                                              tweet  \\\n",
              "100001    100001   es  <user> ignora al otro e un capullo el problema...   \n",
              "100002    100002   es  <user> si comicsgate se parece en algo a gamer...   \n",
              "100003    100003   es  <user> lee sobre gamergate y como eso ha cambi...   \n",
              "100005    100005   es  <user> <user> <user> entonces como asi e el me...   \n",
              "100006    100006   es  <user> aaah si andrew dobson el que se dedico ...   \n",
              "\n",
              "        label  \n",
              "100001      1  \n",
              "100002      0  \n",
              "100003      0  \n",
              "100005      1  \n",
              "100006      0  "
            ]
          },
          "execution_count": 42,
          "metadata": {},
          "output_type": "execute_result"
        }
      ],
      "source": [
        "train.head()"
      ]
    },
    {
      "cell_type": "code",
      "execution_count": 43,
      "metadata": {},
      "outputs": [],
      "source": [
        "# Since we know that there is a slightly imbalance in the dataset labels, instead of using the default Trainer class of HuggingFace, we can write a custom class inheriting from the Trainer class and override the `compute_loss` method to compute the loss with the class weights computed from the dataset labels. In this way the loss function will take into account the imbalance in the dataset labels and will give more importance to the minority class. The impact of this change is that the F1 and accuracy scores will be more similar to each other since the model will be trained to give more importance to the minority class w.r.t. the majority class.\n",
        "\n",
        "# Taken from https://github.com/huggingface/transformers/blob/main/src/transformers/trainer.py#L3700 (with some minor changes removing useless parts)\n",
        "class CustomTrainer(Trainer):\n",
        "    def __init__(self, class_weights, device, *args, **kwargs):\n",
        "        super().__init__(*args, **kwargs)\n",
        "        # You pass the class weights when instantiating the Trainer\n",
        "        self.class_weights = class_weights\n",
        "        self.device = device\n",
        "\n",
        "    def compute_loss(self, model, inputs, return_outputs=False, num_items_in_batch=None):\n",
        "        if self.label_smoother is not None and \"labels\" in inputs:\n",
        "            labels = inputs.pop(\"labels\")\n",
        "        else:\n",
        "            labels = None\n",
        "        outputs = model(**inputs)\n",
        "        # Save past state if it exists\n",
        "        # TODO: this needs to be fixed and made cleaner later.\n",
        "        if self.args.past_index >= 0:\n",
        "            self._past = outputs[self.args.past_index]\n",
        "\n",
        "        if labels is not None:\n",
        "            loss = self.label_smoother(outputs, labels)\n",
        "        else:\n",
        "            # We don't use .loss here since the model may return tuples instead of ModelOutput.\n",
        "\n",
        "            # Do not\n",
        "            # loss = outputs[\"loss\"] if isinstance(outputs, dict) else outputs[0]\n",
        "            logits = outputs.get('logits')\n",
        "            criterion = torch.nn.CrossEntropyLoss(weight=self.class_weights.to(self.device))\n",
        "            loss = criterion(logits, inputs['labels'])\n",
        "\n",
        "        return (loss, outputs) if return_outputs else loss"
      ]
    },
    {
      "cell_type": "code",
      "execution_count": 44,
      "metadata": {},
      "outputs": [],
      "source": [
        "def compute_metrics(output_info):\n",
        "        \"\"\"\n",
        "        Compute various evaluation metrics for model predictions.\n",
        "\n",
        "        Args:\n",
        "            output_info (tuple): A tuple containing the model predictions and the true labels.\n",
        "                - predictions (np.ndarray): The predicted labels from the model.\n",
        "                - labels (np.ndarray): The true labels.\n",
        "\n",
        "        Returns:\n",
        "            dict: A dictionary containing the computed metrics:\n",
        "                - 'f1': The F1 score (macro average).\n",
        "                - 'accuracy': The accuracy score.\n",
        "                - 'precision': The precision score (macro average).\n",
        "                - 'recall': The recall score (macro average).\n",
        "        \"\"\"\n",
        "        #acc_metric = evaluate.load('accuracy')\n",
        "        #f1_metric = evaluate.load('f1')\n",
        "        #precision_metric = evaluate.load(\"precision\")\n",
        "        #recall_metric = evaluate.load(\"recall\")\n",
        "\n",
        "        predictions, labels = output_info\n",
        "        #LINE REMOVED\n",
        "        predictions = np.array(predictions)\n",
        "        labels = np.array(labels)\n",
        "        predictions = np.argmax(predictions, axis=-1)\n",
        "\n",
        "\n",
        "\n",
        "        #f1 = f1_metric.compute(predictions=predictions, references=labels, average='macro')\n",
        "        #acc = acc_metric.compute(predictions=predictions, references=labels)\n",
        "        #precision = precision_metric.compute(predictions=predictions, references=labels, average='macro')\n",
        "        #recall = recall_metric.compute(predictions=predictions, references=labels, average='macro')\n",
        "\n",
        "        f1 = f1_score(labels, predictions, average=\"macro\")\n",
        "        acc = accuracy_score(labels, predictions)\n",
        "        prec = precision_score(labels, predictions, average=\"macro\")\n",
        "        rec = recall_score(labels,predictions, average=\"macro\")\n",
        "\n",
        "        return {\"f1-score\" : f1, \"Accuracy\" : acc, \"Precision\":prec, \"Recall\":rec}"
      ]
    },
    {
      "cell_type": "code",
      "execution_count": 45,
      "metadata": {},
      "outputs": [
        {
          "data": {
            "application/vnd.jupyter.widget-view+json": {
              "model_id": "8480f0639b194aad80cd5e8fa098f6d1",
              "version_major": 2,
              "version_minor": 0
            },
            "text/plain": [
              "Map:   0%|          | 0/6064 [00:00<?, ? examples/s]"
            ]
          },
          "metadata": {},
          "output_type": "display_data"
        },
        {
          "data": {
            "application/vnd.jupyter.widget-view+json": {
              "model_id": "6cb5e2add18549f1b6042264766eead7",
              "version_major": 2,
              "version_minor": 0
            },
            "text/plain": [
              "Map:   0%|          | 0/648 [00:00<?, ? examples/s]"
            ]
          },
          "metadata": {},
          "output_type": "display_data"
        },
        {
          "data": {
            "application/vnd.jupyter.widget-view+json": {
              "model_id": "8588686e6eba47168ef9df122be33879",
              "version_major": 2,
              "version_minor": 0
            },
            "text/plain": [
              "Map:   0%|          | 0/286 [00:00<?, ? examples/s]"
            ]
          },
          "metadata": {},
          "output_type": "display_data"
        }
      ],
      "source": [
        "# Get the train, val and test datasets\n",
        "train_data = Dataset.from_pandas(train)\n",
        "val_data = Dataset.from_pandas(val)\n",
        "test_data = Dataset.from_pandas(test)\n",
        "\n",
        "# Define the model card\n",
        "model_card = \"xlm-roberta-base\"\n",
        "\n",
        "# Get the tokenizer\n",
        "tokenizer = AutoTokenizer.from_pretrained(model_card, use_Fast=False)\n",
        "\n",
        "def preprocess_text(texts):\n",
        "    return tokenizer(texts['tweet'])\n",
        "\n",
        "# Select the right column\n",
        "train_data = train_data.map(preprocess_text, batched=True)\n",
        "val_data = val_data.map(preprocess_text, batched=True)\n",
        "test_data = test_data.map(preprocess_text, batched=True)\n",
        "\n",
        "# Get the data collator\n",
        "data_collator = DataCollatorWithPadding(tokenizer=tokenizer)"
      ]
    },
    {
      "cell_type": "code",
      "execution_count": 46,
      "metadata": {},
      "outputs": [],
      "source": [
        "from transformers import XLMRobertaForSequenceClassification"
      ]
    },
    {
      "cell_type": "code",
      "execution_count": 47,
      "metadata": {},
      "outputs": [],
      "source": [
        "def twitter_roberta_base(model_card: str, seed: int, class_weights: torch.Tensor, train_data: Dataset, test_data: Dataset, data_collator, device: torch.device):\n",
        "\n",
        "    # Clear the cache and perform garbage collection\n",
        "    with torch.no_grad():\n",
        "        torch.cuda.empty_cache()\n",
        "    \n",
        "    gc.collect()\n",
        "\n",
        "    # Load the Model\n",
        "    model = XLMRobertaForSequenceClassification.from_pretrained(model_card, num_labels=2, id2label={0: 'NEG', 1: 'POS'}, label2id={'NEG': 0, 'POS': 1})\n",
        "\n",
        "    # Get the training arguments\n",
        "    training_args = TrainingArguments(\n",
        "        output_dir=\"models\",                 # where to save model\n",
        "        learning_rate=1e-5,\n",
        "        per_device_train_batch_size=16,         # accelerate defines distributed training\n",
        "        per_device_eval_batch_size=16,\n",
        "        num_train_epochs=5,\n",
        "        weight_decay=1e-5,\n",
        "        eval_strategy=\"epoch\",           # when to report evaluation metrics/losses\n",
        "        save_strategy=\"epoch\",                 # when to save checkpoint\n",
        "        load_best_model_at_end=True,\n",
        "        report_to='none',                    # disabling wandb (default)\n",
        "        seed=seed,\n",
        "        data_seed=seed,\n",
        "        push_to_hub=True,\n",
        "    )\n",
        "\n",
        "    # Get the trainer\n",
        "    trainer = CustomTrainer(\n",
        "                model=model,\n",
        "                args=training_args,\n",
        "                train_dataset=train_data,\n",
        "                eval_dataset=test_data,\n",
        "                data_collator=data_collator,\n",
        "                compute_metrics=compute_metrics,\n",
        "                class_weights=class_weights,\n",
        "                device=device,\n",
        "            )\n",
        "\n",
        "    # Train the model\n",
        "    trainer.train()\n",
        "\n",
        "    # Get the predictions\n",
        "    predictions_info = trainer.predict(test_data)\n",
        "    predictions, labels = predictions_info.predictions, predictions_info.label_ids\n",
        "\n",
        "    # Update the predictions dict with the new predictions\n",
        "    model_name = model_card.split('/')[-1]\n",
        "    predictions_dict[f'{model_name}_{seed}'] = {'predictions': np.argmax(predictions, axis=-1), 'labels': labels}"
      ]
    },
    {
      "cell_type": "code",
      "execution_count": null,
      "metadata": {},
      "outputs": [
        {
          "name": "stderr",
          "output_type": "stream",
          "text": [
            "Some weights of XLMRobertaForSequenceClassification were not initialized from the model checkpoint at xlm-roberta-base and are newly initialized: ['classifier.dense.bias', 'classifier.dense.weight', 'classifier.out_proj.bias', 'classifier.out_proj.weight']\n",
            "You should probably TRAIN this model on a down-stream task to be able to use it for predictions and inference.\n"
          ]
        },
        {
          "data": {
            "text/html": [
              "\n",
              "    <div>\n",
              "      \n",
              "      <progress value='1896' max='1895' style='width:300px; height:20px; vertical-align: middle;'></progress>\n",
              "      [1895/1895 04:32, Epoch 5/5]\n",
              "    </div>\n",
              "    <table border=\"1\" class=\"dataframe\">\n",
              "  <thead>\n",
              " <tr style=\"text-align: left;\">\n",
              "      <th>Epoch</th>\n",
              "      <th>Training Loss</th>\n",
              "      <th>Validation Loss</th>\n",
              "      <th>F1-score</th>\n",
              "      <th>Accuracy</th>\n",
              "      <th>Precision</th>\n",
              "      <th>Recall</th>\n",
              "    </tr>\n",
              "  </thead>\n",
              "  <tbody>\n",
              "    <tr>\n",
              "      <td>1</td>\n",
              "      <td>No log</td>\n",
              "      <td>0.441987</td>\n",
              "      <td>0.786648</td>\n",
              "      <td>0.786713</td>\n",
              "      <td>0.793770</td>\n",
              "      <td>0.795883</td>\n",
              "    </tr>\n",
              "    <tr>\n",
              "      <td>2</td>\n",
              "      <td>0.506900</td>\n",
              "      <td>0.420974</td>\n",
              "      <td>0.834187</td>\n",
              "      <td>0.835664</td>\n",
              "      <td>0.833137</td>\n",
              "      <td>0.836260</td>\n",
              "    </tr>\n",
              "    <tr>\n",
              "      <td>3</td>\n",
              "      <td>0.372100</td>\n",
              "      <td>0.456997</td>\n",
              "      <td>0.823935</td>\n",
              "      <td>0.825175</td>\n",
              "      <td>0.823039</td>\n",
              "      <td>0.826885</td>\n",
              "    </tr>\n",
              "    <tr>\n",
              "      <td>4</td>\n",
              "      <td>0.290900</td>\n",
              "      <td>0.534678</td>\n",
              "      <td>0.823230</td>\n",
              "      <td>0.825175</td>\n",
              "      <td>0.822436</td>\n",
              "      <td>0.824355</td>\n",
              "    </tr>\n",
              "    <tr>\n",
              "      <td>5</td>\n",
              "      <td>0.290900</td>\n",
              "      <td>0.545099</td>\n",
              "      <td>0.813019</td>\n",
              "      <td>0.814685</td>\n",
              "      <td>0.812055</td>\n",
              "      <td>0.814980</td>\n",
              "    </tr>\n",
              "  </tbody>\n",
              "</table><p>"
            ],
            "text/plain": [
              "<IPython.core.display.HTML object>"
            ]
          },
          "metadata": {},
          "output_type": "display_data"
        }
      ],
      "source": [
        "twitter_roberta_base(\n",
        "    model_card = model_card,\n",
        "    seed = 1337,\n",
        "    class_weights = class_weights_tensor_multi,\n",
        "    train_data = train_data,\n",
        "    test_data = test_data,\n",
        "    data_collator = data_collator,\n",
        "    device=device\n",
        ")"
      ]
    }
  ],
  "metadata": {
    "accelerator": "GPU",
    "colab": {
      "gpuType": "T4",
      "provenance": []
    },
    "kernelspec": {
      "display_name": ".venv",
      "language": "python",
      "name": "python3"
    },
    "language_info": {
      "codemirror_mode": {
        "name": "ipython",
        "version": 3
      },
      "file_extension": ".py",
      "mimetype": "text/x-python",
      "name": "python",
      "nbconvert_exporter": "python",
      "pygments_lexer": "ipython3",
      "version": "3.12.3"
    },
    "widgets": {
      "application/vnd.jupyter.widget-state+json": {
        "02d40d0867d04eafac27bd728008c862": {
          "model_module": "@jupyter-widgets/controls",
          "model_module_version": "1.5.0",
          "model_name": "DescriptionStyleModel",
          "state": {
            "_model_module": "@jupyter-widgets/controls",
            "_model_module_version": "1.5.0",
            "_model_name": "DescriptionStyleModel",
            "_view_count": null,
            "_view_module": "@jupyter-widgets/base",
            "_view_module_version": "1.2.0",
            "_view_name": "StyleView",
            "description_width": ""
          }
        },
        "069e704b4be74050af7644eb8bcdd368": {
          "model_module": "@jupyter-widgets/controls",
          "model_module_version": "1.5.0",
          "model_name": "HTMLModel",
          "state": {
            "_dom_classes": [],
            "_model_module": "@jupyter-widgets/controls",
            "_model_module_version": "1.5.0",
            "_model_name": "HTMLModel",
            "_view_count": null,
            "_view_module": "@jupyter-widgets/controls",
            "_view_module_version": "1.5.0",
            "_view_name": "HTMLView",
            "description": "",
            "description_tooltip": null,
            "layout": "IPY_MODEL_4c556ff080b547ea92df2590886ff7de",
            "placeholder": "​",
            "style": "IPY_MODEL_bcddc48b44e84607834230f50cfc3300",
            "value": "Map: 100%"
          }
        },
        "075954eb6698433ea3ff28f84c031cb3": {
          "model_module": "@jupyter-widgets/controls",
          "model_module_version": "1.5.0",
          "model_name": "FloatProgressModel",
          "state": {
            "_dom_classes": [],
            "_model_module": "@jupyter-widgets/controls",
            "_model_module_version": "1.5.0",
            "_model_name": "FloatProgressModel",
            "_view_count": null,
            "_view_module": "@jupyter-widgets/controls",
            "_view_module_version": "1.5.0",
            "_view_name": "ProgressView",
            "bar_style": "success",
            "description": "",
            "description_tooltip": null,
            "layout": "IPY_MODEL_bfe3e8ffd5b846e89640e0d526a88811",
            "max": 2870,
            "min": 0,
            "orientation": "horizontal",
            "style": "IPY_MODEL_5d81b3855ed345f3aa54e566c1a42354",
            "value": 2870
          }
        },
        "0e2f1f938999473d9605db2573eef579": {
          "model_module": "@jupyter-widgets/controls",
          "model_module_version": "1.5.0",
          "model_name": "FloatProgressModel",
          "state": {
            "_dom_classes": [],
            "_model_module": "@jupyter-widgets/controls",
            "_model_module_version": "1.5.0",
            "_model_name": "FloatProgressModel",
            "_view_count": null,
            "_view_module": "@jupyter-widgets/controls",
            "_view_module_version": "1.5.0",
            "_view_name": "ProgressView",
            "bar_style": "success",
            "description": "",
            "description_tooltip": null,
            "layout": "IPY_MODEL_bae0f28f97ca4de096c5693c43f821f4",
            "max": 286,
            "min": 0,
            "orientation": "horizontal",
            "style": "IPY_MODEL_2a488bf1e75e48a6843ab88496de3897",
            "value": 286
          }
        },
        "193543f9f6fd4aadaaa0149891d1e8d2": {
          "model_module": "@jupyter-widgets/controls",
          "model_module_version": "1.5.0",
          "model_name": "HTMLModel",
          "state": {
            "_dom_classes": [],
            "_model_module": "@jupyter-widgets/controls",
            "_model_module_version": "1.5.0",
            "_model_name": "HTMLModel",
            "_view_count": null,
            "_view_module": "@jupyter-widgets/controls",
            "_view_module_version": "1.5.0",
            "_view_name": "HTMLView",
            "description": "",
            "description_tooltip": null,
            "layout": "IPY_MODEL_3c6ee7a02b6c4332bd19cf1d24aa398d",
            "placeholder": "​",
            "style": "IPY_MODEL_e015363a80e845679a234bed5cc64b55",
            "value": " 286/286 [00:00&lt;00:00, 4532.79 examples/s]"
          }
        },
        "1c1d648d78434dc9ae4c604afc86abe8": {
          "model_module": "@jupyter-widgets/controls",
          "model_module_version": "1.5.0",
          "model_name": "DescriptionStyleModel",
          "state": {
            "_model_module": "@jupyter-widgets/controls",
            "_model_module_version": "1.5.0",
            "_model_name": "DescriptionStyleModel",
            "_view_count": null,
            "_view_module": "@jupyter-widgets/base",
            "_view_module_version": "1.2.0",
            "_view_name": "StyleView",
            "description_width": ""
          }
        },
        "1d189704ed1b4e358835420caf344b52": {
          "model_module": "@jupyter-widgets/controls",
          "model_module_version": "1.5.0",
          "model_name": "ProgressStyleModel",
          "state": {
            "_model_module": "@jupyter-widgets/controls",
            "_model_module_version": "1.5.0",
            "_model_name": "ProgressStyleModel",
            "_view_count": null,
            "_view_module": "@jupyter-widgets/base",
            "_view_module_version": "1.2.0",
            "_view_name": "StyleView",
            "bar_color": null,
            "description_width": ""
          }
        },
        "2909aba393124bb7885b3d40a4c668c1": {
          "model_module": "@jupyter-widgets/base",
          "model_module_version": "1.2.0",
          "model_name": "LayoutModel",
          "state": {
            "_model_module": "@jupyter-widgets/base",
            "_model_module_version": "1.2.0",
            "_model_name": "LayoutModel",
            "_view_count": null,
            "_view_module": "@jupyter-widgets/base",
            "_view_module_version": "1.2.0",
            "_view_name": "LayoutView",
            "align_content": null,
            "align_items": null,
            "align_self": null,
            "border": null,
            "bottom": null,
            "display": null,
            "flex": null,
            "flex_flow": null,
            "grid_area": null,
            "grid_auto_columns": null,
            "grid_auto_flow": null,
            "grid_auto_rows": null,
            "grid_column": null,
            "grid_gap": null,
            "grid_row": null,
            "grid_template_areas": null,
            "grid_template_columns": null,
            "grid_template_rows": null,
            "height": null,
            "justify_content": null,
            "justify_items": null,
            "left": null,
            "margin": null,
            "max_height": null,
            "max_width": null,
            "min_height": null,
            "min_width": null,
            "object_fit": null,
            "object_position": null,
            "order": null,
            "overflow": null,
            "overflow_x": null,
            "overflow_y": null,
            "padding": null,
            "right": null,
            "top": null,
            "visibility": null,
            "width": null
          }
        },
        "2a488bf1e75e48a6843ab88496de3897": {
          "model_module": "@jupyter-widgets/controls",
          "model_module_version": "1.5.0",
          "model_name": "ProgressStyleModel",
          "state": {
            "_model_module": "@jupyter-widgets/controls",
            "_model_module_version": "1.5.0",
            "_model_name": "ProgressStyleModel",
            "_view_count": null,
            "_view_module": "@jupyter-widgets/base",
            "_view_module_version": "1.2.0",
            "_view_name": "StyleView",
            "bar_color": null,
            "description_width": ""
          }
        },
        "304ae7e02a9b4bc9bb99a6dae5113b8f": {
          "model_module": "@jupyter-widgets/controls",
          "model_module_version": "1.5.0",
          "model_name": "DescriptionStyleModel",
          "state": {
            "_model_module": "@jupyter-widgets/controls",
            "_model_module_version": "1.5.0",
            "_model_name": "DescriptionStyleModel",
            "_view_count": null,
            "_view_module": "@jupyter-widgets/base",
            "_view_module_version": "1.2.0",
            "_view_name": "StyleView",
            "description_width": ""
          }
        },
        "3228b1f888024be0b06aeda84b8502b0": {
          "model_module": "@jupyter-widgets/base",
          "model_module_version": "1.2.0",
          "model_name": "LayoutModel",
          "state": {
            "_model_module": "@jupyter-widgets/base",
            "_model_module_version": "1.2.0",
            "_model_name": "LayoutModel",
            "_view_count": null,
            "_view_module": "@jupyter-widgets/base",
            "_view_module_version": "1.2.0",
            "_view_name": "LayoutView",
            "align_content": null,
            "align_items": null,
            "align_self": null,
            "border": null,
            "bottom": null,
            "display": null,
            "flex": null,
            "flex_flow": null,
            "grid_area": null,
            "grid_auto_columns": null,
            "grid_auto_flow": null,
            "grid_auto_rows": null,
            "grid_column": null,
            "grid_gap": null,
            "grid_row": null,
            "grid_template_areas": null,
            "grid_template_columns": null,
            "grid_template_rows": null,
            "height": null,
            "justify_content": null,
            "justify_items": null,
            "left": null,
            "margin": null,
            "max_height": null,
            "max_width": null,
            "min_height": null,
            "min_width": null,
            "object_fit": null,
            "object_position": null,
            "order": null,
            "overflow": null,
            "overflow_x": null,
            "overflow_y": null,
            "padding": null,
            "right": null,
            "top": null,
            "visibility": null,
            "width": null
          }
        },
        "32f452a93c2f418e8bd0ead759a96550": {
          "model_module": "@jupyter-widgets/controls",
          "model_module_version": "1.5.0",
          "model_name": "FloatProgressModel",
          "state": {
            "_dom_classes": [],
            "_model_module": "@jupyter-widgets/controls",
            "_model_module_version": "1.5.0",
            "_model_name": "FloatProgressModel",
            "_view_count": null,
            "_view_module": "@jupyter-widgets/controls",
            "_view_module_version": "1.5.0",
            "_view_name": "ProgressView",
            "bar_style": "success",
            "description": "",
            "description_tooltip": null,
            "layout": "IPY_MODEL_e956d628e75249b39b7b801ead527388",
            "max": 2870,
            "min": 0,
            "orientation": "horizontal",
            "style": "IPY_MODEL_1d189704ed1b4e358835420caf344b52",
            "value": 2870
          }
        },
        "33629126ca424b9d84093f7e66206350": {
          "model_module": "@jupyter-widgets/controls",
          "model_module_version": "1.5.0",
          "model_name": "DescriptionStyleModel",
          "state": {
            "_model_module": "@jupyter-widgets/controls",
            "_model_module_version": "1.5.0",
            "_model_name": "DescriptionStyleModel",
            "_view_count": null,
            "_view_module": "@jupyter-widgets/base",
            "_view_module_version": "1.2.0",
            "_view_name": "StyleView",
            "description_width": ""
          }
        },
        "33cf4549d4b449c8b094774d212e453d": {
          "model_module": "@jupyter-widgets/controls",
          "model_module_version": "1.5.0",
          "model_name": "ProgressStyleModel",
          "state": {
            "_model_module": "@jupyter-widgets/controls",
            "_model_module_version": "1.5.0",
            "_model_name": "ProgressStyleModel",
            "_view_count": null,
            "_view_module": "@jupyter-widgets/base",
            "_view_module_version": "1.2.0",
            "_view_name": "StyleView",
            "bar_color": null,
            "description_width": ""
          }
        },
        "33dc488dff5d4225845f3adc02523e47": {
          "model_module": "@jupyter-widgets/base",
          "model_module_version": "1.2.0",
          "model_name": "LayoutModel",
          "state": {
            "_model_module": "@jupyter-widgets/base",
            "_model_module_version": "1.2.0",
            "_model_name": "LayoutModel",
            "_view_count": null,
            "_view_module": "@jupyter-widgets/base",
            "_view_module_version": "1.2.0",
            "_view_name": "LayoutView",
            "align_content": null,
            "align_items": null,
            "align_self": null,
            "border": null,
            "bottom": null,
            "display": null,
            "flex": null,
            "flex_flow": null,
            "grid_area": null,
            "grid_auto_columns": null,
            "grid_auto_flow": null,
            "grid_auto_rows": null,
            "grid_column": null,
            "grid_gap": null,
            "grid_row": null,
            "grid_template_areas": null,
            "grid_template_columns": null,
            "grid_template_rows": null,
            "height": null,
            "justify_content": null,
            "justify_items": null,
            "left": null,
            "margin": null,
            "max_height": null,
            "max_width": null,
            "min_height": null,
            "min_width": null,
            "object_fit": null,
            "object_position": null,
            "order": null,
            "overflow": null,
            "overflow_x": null,
            "overflow_y": null,
            "padding": null,
            "right": null,
            "top": null,
            "visibility": null,
            "width": null
          }
        },
        "35bffac2b4654b198cb5eac92ed6e9af": {
          "model_module": "@jupyter-widgets/base",
          "model_module_version": "1.2.0",
          "model_name": "LayoutModel",
          "state": {
            "_model_module": "@jupyter-widgets/base",
            "_model_module_version": "1.2.0",
            "_model_name": "LayoutModel",
            "_view_count": null,
            "_view_module": "@jupyter-widgets/base",
            "_view_module_version": "1.2.0",
            "_view_name": "LayoutView",
            "align_content": null,
            "align_items": null,
            "align_self": null,
            "border": null,
            "bottom": null,
            "display": null,
            "flex": null,
            "flex_flow": null,
            "grid_area": null,
            "grid_auto_columns": null,
            "grid_auto_flow": null,
            "grid_auto_rows": null,
            "grid_column": null,
            "grid_gap": null,
            "grid_row": null,
            "grid_template_areas": null,
            "grid_template_columns": null,
            "grid_template_rows": null,
            "height": null,
            "justify_content": null,
            "justify_items": null,
            "left": null,
            "margin": null,
            "max_height": null,
            "max_width": null,
            "min_height": null,
            "min_width": null,
            "object_fit": null,
            "object_position": null,
            "order": null,
            "overflow": null,
            "overflow_x": null,
            "overflow_y": null,
            "padding": null,
            "right": null,
            "top": null,
            "visibility": null,
            "width": null
          }
        },
        "3c6ee7a02b6c4332bd19cf1d24aa398d": {
          "model_module": "@jupyter-widgets/base",
          "model_module_version": "1.2.0",
          "model_name": "LayoutModel",
          "state": {
            "_model_module": "@jupyter-widgets/base",
            "_model_module_version": "1.2.0",
            "_model_name": "LayoutModel",
            "_view_count": null,
            "_view_module": "@jupyter-widgets/base",
            "_view_module_version": "1.2.0",
            "_view_name": "LayoutView",
            "align_content": null,
            "align_items": null,
            "align_self": null,
            "border": null,
            "bottom": null,
            "display": null,
            "flex": null,
            "flex_flow": null,
            "grid_area": null,
            "grid_auto_columns": null,
            "grid_auto_flow": null,
            "grid_auto_rows": null,
            "grid_column": null,
            "grid_gap": null,
            "grid_row": null,
            "grid_template_areas": null,
            "grid_template_columns": null,
            "grid_template_rows": null,
            "height": null,
            "justify_content": null,
            "justify_items": null,
            "left": null,
            "margin": null,
            "max_height": null,
            "max_width": null,
            "min_height": null,
            "min_width": null,
            "object_fit": null,
            "object_position": null,
            "order": null,
            "overflow": null,
            "overflow_x": null,
            "overflow_y": null,
            "padding": null,
            "right": null,
            "top": null,
            "visibility": null,
            "width": null
          }
        },
        "3d0ba89e15964c428fb8bd72be557d33": {
          "model_module": "@jupyter-widgets/controls",
          "model_module_version": "1.5.0",
          "model_name": "HTMLModel",
          "state": {
            "_dom_classes": [],
            "_model_module": "@jupyter-widgets/controls",
            "_model_module_version": "1.5.0",
            "_model_name": "HTMLModel",
            "_view_count": null,
            "_view_module": "@jupyter-widgets/controls",
            "_view_module_version": "1.5.0",
            "_view_name": "HTMLView",
            "description": "",
            "description_tooltip": null,
            "layout": "IPY_MODEL_619c7c81da0141b39d65583386762047",
            "placeholder": "​",
            "style": "IPY_MODEL_33629126ca424b9d84093f7e66206350",
            "value": "Map: 100%"
          }
        },
        "48aac34665234baab83bc78540b50c42": {
          "model_module": "@jupyter-widgets/controls",
          "model_module_version": "1.5.0",
          "model_name": "HBoxModel",
          "state": {
            "_dom_classes": [],
            "_model_module": "@jupyter-widgets/controls",
            "_model_module_version": "1.5.0",
            "_model_name": "HBoxModel",
            "_view_count": null,
            "_view_module": "@jupyter-widgets/controls",
            "_view_module_version": "1.5.0",
            "_view_name": "HBoxView",
            "box_style": "",
            "children": [
              "IPY_MODEL_7d3f145482ec47fca58df5ace1f2e6c6",
              "IPY_MODEL_893605e6a5a840b89093905fe6121578",
              "IPY_MODEL_e1d0065a79bb4cccb0fb86c03436c6b3"
            ],
            "layout": "IPY_MODEL_35bffac2b4654b198cb5eac92ed6e9af"
          }
        },
        "4c556ff080b547ea92df2590886ff7de": {
          "model_module": "@jupyter-widgets/base",
          "model_module_version": "1.2.0",
          "model_name": "LayoutModel",
          "state": {
            "_model_module": "@jupyter-widgets/base",
            "_model_module_version": "1.2.0",
            "_model_name": "LayoutModel",
            "_view_count": null,
            "_view_module": "@jupyter-widgets/base",
            "_view_module_version": "1.2.0",
            "_view_name": "LayoutView",
            "align_content": null,
            "align_items": null,
            "align_self": null,
            "border": null,
            "bottom": null,
            "display": null,
            "flex": null,
            "flex_flow": null,
            "grid_area": null,
            "grid_auto_columns": null,
            "grid_auto_flow": null,
            "grid_auto_rows": null,
            "grid_column": null,
            "grid_gap": null,
            "grid_row": null,
            "grid_template_areas": null,
            "grid_template_columns": null,
            "grid_template_rows": null,
            "height": null,
            "justify_content": null,
            "justify_items": null,
            "left": null,
            "margin": null,
            "max_height": null,
            "max_width": null,
            "min_height": null,
            "min_width": null,
            "object_fit": null,
            "object_position": null,
            "order": null,
            "overflow": null,
            "overflow_x": null,
            "overflow_y": null,
            "padding": null,
            "right": null,
            "top": null,
            "visibility": null,
            "width": null
          }
        },
        "5295c26e4eef4d78bab14c501a711f1c": {
          "model_module": "@jupyter-widgets/base",
          "model_module_version": "1.2.0",
          "model_name": "LayoutModel",
          "state": {
            "_model_module": "@jupyter-widgets/base",
            "_model_module_version": "1.2.0",
            "_model_name": "LayoutModel",
            "_view_count": null,
            "_view_module": "@jupyter-widgets/base",
            "_view_module_version": "1.2.0",
            "_view_name": "LayoutView",
            "align_content": null,
            "align_items": null,
            "align_self": null,
            "border": null,
            "bottom": null,
            "display": null,
            "flex": null,
            "flex_flow": null,
            "grid_area": null,
            "grid_auto_columns": null,
            "grid_auto_flow": null,
            "grid_auto_rows": null,
            "grid_column": null,
            "grid_gap": null,
            "grid_row": null,
            "grid_template_areas": null,
            "grid_template_columns": null,
            "grid_template_rows": null,
            "height": null,
            "justify_content": null,
            "justify_items": null,
            "left": null,
            "margin": null,
            "max_height": null,
            "max_width": null,
            "min_height": null,
            "min_width": null,
            "object_fit": null,
            "object_position": null,
            "order": null,
            "overflow": null,
            "overflow_x": null,
            "overflow_y": null,
            "padding": null,
            "right": null,
            "top": null,
            "visibility": null,
            "width": null
          }
        },
        "53fd188602e64f79ba5739c004b6d4a5": {
          "model_module": "@jupyter-widgets/base",
          "model_module_version": "1.2.0",
          "model_name": "LayoutModel",
          "state": {
            "_model_module": "@jupyter-widgets/base",
            "_model_module_version": "1.2.0",
            "_model_name": "LayoutModel",
            "_view_count": null,
            "_view_module": "@jupyter-widgets/base",
            "_view_module_version": "1.2.0",
            "_view_name": "LayoutView",
            "align_content": null,
            "align_items": null,
            "align_self": null,
            "border": null,
            "bottom": null,
            "display": null,
            "flex": null,
            "flex_flow": null,
            "grid_area": null,
            "grid_auto_columns": null,
            "grid_auto_flow": null,
            "grid_auto_rows": null,
            "grid_column": null,
            "grid_gap": null,
            "grid_row": null,
            "grid_template_areas": null,
            "grid_template_columns": null,
            "grid_template_rows": null,
            "height": null,
            "justify_content": null,
            "justify_items": null,
            "left": null,
            "margin": null,
            "max_height": null,
            "max_width": null,
            "min_height": null,
            "min_width": null,
            "object_fit": null,
            "object_position": null,
            "order": null,
            "overflow": null,
            "overflow_x": null,
            "overflow_y": null,
            "padding": null,
            "right": null,
            "top": null,
            "visibility": null,
            "width": null
          }
        },
        "55e0e455726644c8a76e52c972c37a62": {
          "model_module": "@jupyter-widgets/base",
          "model_module_version": "1.2.0",
          "model_name": "LayoutModel",
          "state": {
            "_model_module": "@jupyter-widgets/base",
            "_model_module_version": "1.2.0",
            "_model_name": "LayoutModel",
            "_view_count": null,
            "_view_module": "@jupyter-widgets/base",
            "_view_module_version": "1.2.0",
            "_view_name": "LayoutView",
            "align_content": null,
            "align_items": null,
            "align_self": null,
            "border": null,
            "bottom": null,
            "display": null,
            "flex": null,
            "flex_flow": null,
            "grid_area": null,
            "grid_auto_columns": null,
            "grid_auto_flow": null,
            "grid_auto_rows": null,
            "grid_column": null,
            "grid_gap": null,
            "grid_row": null,
            "grid_template_areas": null,
            "grid_template_columns": null,
            "grid_template_rows": null,
            "height": null,
            "justify_content": null,
            "justify_items": null,
            "left": null,
            "margin": null,
            "max_height": null,
            "max_width": null,
            "min_height": null,
            "min_width": null,
            "object_fit": null,
            "object_position": null,
            "order": null,
            "overflow": null,
            "overflow_x": null,
            "overflow_y": null,
            "padding": null,
            "right": null,
            "top": null,
            "visibility": null,
            "width": null
          }
        },
        "574a5a0f6a5e4263ac3e0ab5da504173": {
          "model_module": "@jupyter-widgets/controls",
          "model_module_version": "1.5.0",
          "model_name": "DescriptionStyleModel",
          "state": {
            "_model_module": "@jupyter-widgets/controls",
            "_model_module_version": "1.5.0",
            "_model_name": "DescriptionStyleModel",
            "_view_count": null,
            "_view_module": "@jupyter-widgets/base",
            "_view_module_version": "1.2.0",
            "_view_name": "StyleView",
            "description_width": ""
          }
        },
        "581b189ac418427fb7b6346a255c3cf3": {
          "model_module": "@jupyter-widgets/base",
          "model_module_version": "1.2.0",
          "model_name": "LayoutModel",
          "state": {
            "_model_module": "@jupyter-widgets/base",
            "_model_module_version": "1.2.0",
            "_model_name": "LayoutModel",
            "_view_count": null,
            "_view_module": "@jupyter-widgets/base",
            "_view_module_version": "1.2.0",
            "_view_name": "LayoutView",
            "align_content": null,
            "align_items": null,
            "align_self": null,
            "border": null,
            "bottom": null,
            "display": null,
            "flex": null,
            "flex_flow": null,
            "grid_area": null,
            "grid_auto_columns": null,
            "grid_auto_flow": null,
            "grid_auto_rows": null,
            "grid_column": null,
            "grid_gap": null,
            "grid_row": null,
            "grid_template_areas": null,
            "grid_template_columns": null,
            "grid_template_rows": null,
            "height": null,
            "justify_content": null,
            "justify_items": null,
            "left": null,
            "margin": null,
            "max_height": null,
            "max_width": null,
            "min_height": null,
            "min_width": null,
            "object_fit": null,
            "object_position": null,
            "order": null,
            "overflow": null,
            "overflow_x": null,
            "overflow_y": null,
            "padding": null,
            "right": null,
            "top": null,
            "visibility": null,
            "width": null
          }
        },
        "5b0fb6e9bae647e38c54262661d04749": {
          "model_module": "@jupyter-widgets/controls",
          "model_module_version": "1.5.0",
          "model_name": "DescriptionStyleModel",
          "state": {
            "_model_module": "@jupyter-widgets/controls",
            "_model_module_version": "1.5.0",
            "_model_name": "DescriptionStyleModel",
            "_view_count": null,
            "_view_module": "@jupyter-widgets/base",
            "_view_module_version": "1.2.0",
            "_view_name": "StyleView",
            "description_width": ""
          }
        },
        "5d81b3855ed345f3aa54e566c1a42354": {
          "model_module": "@jupyter-widgets/controls",
          "model_module_version": "1.5.0",
          "model_name": "ProgressStyleModel",
          "state": {
            "_model_module": "@jupyter-widgets/controls",
            "_model_module_version": "1.5.0",
            "_model_name": "ProgressStyleModel",
            "_view_count": null,
            "_view_module": "@jupyter-widgets/base",
            "_view_module_version": "1.2.0",
            "_view_name": "StyleView",
            "bar_color": null,
            "description_width": ""
          }
        },
        "5e583effa29e448eb3986751c74079ab": {
          "model_module": "@jupyter-widgets/controls",
          "model_module_version": "1.5.0",
          "model_name": "HTMLModel",
          "state": {
            "_dom_classes": [],
            "_model_module": "@jupyter-widgets/controls",
            "_model_module_version": "1.5.0",
            "_model_name": "HTMLModel",
            "_view_count": null,
            "_view_module": "@jupyter-widgets/controls",
            "_view_module_version": "1.5.0",
            "_view_name": "HTMLView",
            "description": "",
            "description_tooltip": null,
            "layout": "IPY_MODEL_53fd188602e64f79ba5739c004b6d4a5",
            "placeholder": "​",
            "style": "IPY_MODEL_82b7888ced5a43cfa31d373b909b25ab",
            "value": " 158/158 [00:00&lt;00:00, 2946.30 examples/s]"
          }
        },
        "619c7c81da0141b39d65583386762047": {
          "model_module": "@jupyter-widgets/base",
          "model_module_version": "1.2.0",
          "model_name": "LayoutModel",
          "state": {
            "_model_module": "@jupyter-widgets/base",
            "_model_module_version": "1.2.0",
            "_model_name": "LayoutModel",
            "_view_count": null,
            "_view_module": "@jupyter-widgets/base",
            "_view_module_version": "1.2.0",
            "_view_name": "LayoutView",
            "align_content": null,
            "align_items": null,
            "align_self": null,
            "border": null,
            "bottom": null,
            "display": null,
            "flex": null,
            "flex_flow": null,
            "grid_area": null,
            "grid_auto_columns": null,
            "grid_auto_flow": null,
            "grid_auto_rows": null,
            "grid_column": null,
            "grid_gap": null,
            "grid_row": null,
            "grid_template_areas": null,
            "grid_template_columns": null,
            "grid_template_rows": null,
            "height": null,
            "justify_content": null,
            "justify_items": null,
            "left": null,
            "margin": null,
            "max_height": null,
            "max_width": null,
            "min_height": null,
            "min_width": null,
            "object_fit": null,
            "object_position": null,
            "order": null,
            "overflow": null,
            "overflow_x": null,
            "overflow_y": null,
            "padding": null,
            "right": null,
            "top": null,
            "visibility": null,
            "width": null
          }
        },
        "6686346a90094ac9a608656a35ba768f": {
          "model_module": "@jupyter-widgets/base",
          "model_module_version": "1.2.0",
          "model_name": "LayoutModel",
          "state": {
            "_model_module": "@jupyter-widgets/base",
            "_model_module_version": "1.2.0",
            "_model_name": "LayoutModel",
            "_view_count": null,
            "_view_module": "@jupyter-widgets/base",
            "_view_module_version": "1.2.0",
            "_view_name": "LayoutView",
            "align_content": null,
            "align_items": null,
            "align_self": null,
            "border": null,
            "bottom": null,
            "display": null,
            "flex": null,
            "flex_flow": null,
            "grid_area": null,
            "grid_auto_columns": null,
            "grid_auto_flow": null,
            "grid_auto_rows": null,
            "grid_column": null,
            "grid_gap": null,
            "grid_row": null,
            "grid_template_areas": null,
            "grid_template_columns": null,
            "grid_template_rows": null,
            "height": null,
            "justify_content": null,
            "justify_items": null,
            "left": null,
            "margin": null,
            "max_height": null,
            "max_width": null,
            "min_height": null,
            "min_width": null,
            "object_fit": null,
            "object_position": null,
            "order": null,
            "overflow": null,
            "overflow_x": null,
            "overflow_y": null,
            "padding": null,
            "right": null,
            "top": null,
            "visibility": null,
            "width": null
          }
        },
        "679a273cb0ff42bcaa04c2ee81d6e466": {
          "model_module": "@jupyter-widgets/controls",
          "model_module_version": "1.5.0",
          "model_name": "DescriptionStyleModel",
          "state": {
            "_model_module": "@jupyter-widgets/controls",
            "_model_module_version": "1.5.0",
            "_model_name": "DescriptionStyleModel",
            "_view_count": null,
            "_view_module": "@jupyter-widgets/base",
            "_view_module_version": "1.2.0",
            "_view_name": "StyleView",
            "description_width": ""
          }
        },
        "6ef062e99c2648ba9da2bccd76050dd1": {
          "model_module": "@jupyter-widgets/base",
          "model_module_version": "1.2.0",
          "model_name": "LayoutModel",
          "state": {
            "_model_module": "@jupyter-widgets/base",
            "_model_module_version": "1.2.0",
            "_model_name": "LayoutModel",
            "_view_count": null,
            "_view_module": "@jupyter-widgets/base",
            "_view_module_version": "1.2.0",
            "_view_name": "LayoutView",
            "align_content": null,
            "align_items": null,
            "align_self": null,
            "border": null,
            "bottom": null,
            "display": null,
            "flex": null,
            "flex_flow": null,
            "grid_area": null,
            "grid_auto_columns": null,
            "grid_auto_flow": null,
            "grid_auto_rows": null,
            "grid_column": null,
            "grid_gap": null,
            "grid_row": null,
            "grid_template_areas": null,
            "grid_template_columns": null,
            "grid_template_rows": null,
            "height": null,
            "justify_content": null,
            "justify_items": null,
            "left": null,
            "margin": null,
            "max_height": null,
            "max_width": null,
            "min_height": null,
            "min_width": null,
            "object_fit": null,
            "object_position": null,
            "order": null,
            "overflow": null,
            "overflow_x": null,
            "overflow_y": null,
            "padding": null,
            "right": null,
            "top": null,
            "visibility": null,
            "width": null
          }
        },
        "7d3f145482ec47fca58df5ace1f2e6c6": {
          "model_module": "@jupyter-widgets/controls",
          "model_module_version": "1.5.0",
          "model_name": "HTMLModel",
          "state": {
            "_dom_classes": [],
            "_model_module": "@jupyter-widgets/controls",
            "_model_module_version": "1.5.0",
            "_model_name": "HTMLModel",
            "_view_count": null,
            "_view_module": "@jupyter-widgets/controls",
            "_view_module_version": "1.5.0",
            "_view_name": "HTMLView",
            "description": "",
            "description_tooltip": null,
            "layout": "IPY_MODEL_33dc488dff5d4225845f3adc02523e47",
            "placeholder": "​",
            "style": "IPY_MODEL_679a273cb0ff42bcaa04c2ee81d6e466",
            "value": "Map: 100%"
          }
        },
        "82b7888ced5a43cfa31d373b909b25ab": {
          "model_module": "@jupyter-widgets/controls",
          "model_module_version": "1.5.0",
          "model_name": "DescriptionStyleModel",
          "state": {
            "_model_module": "@jupyter-widgets/controls",
            "_model_module_version": "1.5.0",
            "_model_name": "DescriptionStyleModel",
            "_view_count": null,
            "_view_module": "@jupyter-widgets/base",
            "_view_module_version": "1.2.0",
            "_view_name": "StyleView",
            "description_width": ""
          }
        },
        "8360bae8197247e386e54056c475dc84": {
          "model_module": "@jupyter-widgets/base",
          "model_module_version": "1.2.0",
          "model_name": "LayoutModel",
          "state": {
            "_model_module": "@jupyter-widgets/base",
            "_model_module_version": "1.2.0",
            "_model_name": "LayoutModel",
            "_view_count": null,
            "_view_module": "@jupyter-widgets/base",
            "_view_module_version": "1.2.0",
            "_view_name": "LayoutView",
            "align_content": null,
            "align_items": null,
            "align_self": null,
            "border": null,
            "bottom": null,
            "display": null,
            "flex": null,
            "flex_flow": null,
            "grid_area": null,
            "grid_auto_columns": null,
            "grid_auto_flow": null,
            "grid_auto_rows": null,
            "grid_column": null,
            "grid_gap": null,
            "grid_row": null,
            "grid_template_areas": null,
            "grid_template_columns": null,
            "grid_template_rows": null,
            "height": null,
            "justify_content": null,
            "justify_items": null,
            "left": null,
            "margin": null,
            "max_height": null,
            "max_width": null,
            "min_height": null,
            "min_width": null,
            "object_fit": null,
            "object_position": null,
            "order": null,
            "overflow": null,
            "overflow_x": null,
            "overflow_y": null,
            "padding": null,
            "right": null,
            "top": null,
            "visibility": null,
            "width": null
          }
        },
        "83d806dde2024e21b7eedc3e06d7ace7": {
          "model_module": "@jupyter-widgets/controls",
          "model_module_version": "1.5.0",
          "model_name": "HTMLModel",
          "state": {
            "_dom_classes": [],
            "_model_module": "@jupyter-widgets/controls",
            "_model_module_version": "1.5.0",
            "_model_name": "HTMLModel",
            "_view_count": null,
            "_view_module": "@jupyter-widgets/controls",
            "_view_module_version": "1.5.0",
            "_view_name": "HTMLView",
            "description": "",
            "description_tooltip": null,
            "layout": "IPY_MODEL_55e0e455726644c8a76e52c972c37a62",
            "placeholder": "​",
            "style": "IPY_MODEL_d9b7740efd0f4a1a86a5beb08b850019",
            "value": "Map: 100%"
          }
        },
        "8720a0d02edc4659900d762ae49d08c2": {
          "model_module": "@jupyter-widgets/controls",
          "model_module_version": "1.5.0",
          "model_name": "FloatProgressModel",
          "state": {
            "_dom_classes": [],
            "_model_module": "@jupyter-widgets/controls",
            "_model_module_version": "1.5.0",
            "_model_name": "FloatProgressModel",
            "_view_count": null,
            "_view_module": "@jupyter-widgets/controls",
            "_view_module_version": "1.5.0",
            "_view_name": "ProgressView",
            "bar_style": "success",
            "description": "",
            "description_tooltip": null,
            "layout": "IPY_MODEL_8745282fc0034fd2833eb514e44e00f8",
            "max": 286,
            "min": 0,
            "orientation": "horizontal",
            "style": "IPY_MODEL_33cf4549d4b449c8b094774d212e453d",
            "value": 286
          }
        },
        "8745282fc0034fd2833eb514e44e00f8": {
          "model_module": "@jupyter-widgets/base",
          "model_module_version": "1.2.0",
          "model_name": "LayoutModel",
          "state": {
            "_model_module": "@jupyter-widgets/base",
            "_model_module_version": "1.2.0",
            "_model_name": "LayoutModel",
            "_view_count": null,
            "_view_module": "@jupyter-widgets/base",
            "_view_module_version": "1.2.0",
            "_view_name": "LayoutView",
            "align_content": null,
            "align_items": null,
            "align_self": null,
            "border": null,
            "bottom": null,
            "display": null,
            "flex": null,
            "flex_flow": null,
            "grid_area": null,
            "grid_auto_columns": null,
            "grid_auto_flow": null,
            "grid_auto_rows": null,
            "grid_column": null,
            "grid_gap": null,
            "grid_row": null,
            "grid_template_areas": null,
            "grid_template_columns": null,
            "grid_template_rows": null,
            "height": null,
            "justify_content": null,
            "justify_items": null,
            "left": null,
            "margin": null,
            "max_height": null,
            "max_width": null,
            "min_height": null,
            "min_width": null,
            "object_fit": null,
            "object_position": null,
            "order": null,
            "overflow": null,
            "overflow_x": null,
            "overflow_y": null,
            "padding": null,
            "right": null,
            "top": null,
            "visibility": null,
            "width": null
          }
        },
        "893605e6a5a840b89093905fe6121578": {
          "model_module": "@jupyter-widgets/controls",
          "model_module_version": "1.5.0",
          "model_name": "FloatProgressModel",
          "state": {
            "_dom_classes": [],
            "_model_module": "@jupyter-widgets/controls",
            "_model_module_version": "1.5.0",
            "_model_name": "FloatProgressModel",
            "_view_count": null,
            "_view_module": "@jupyter-widgets/controls",
            "_view_module_version": "1.5.0",
            "_view_name": "ProgressView",
            "bar_style": "success",
            "description": "",
            "description_tooltip": null,
            "layout": "IPY_MODEL_fb83ccab31664a77b3bef17c5ab62768",
            "max": 158,
            "min": 0,
            "orientation": "horizontal",
            "style": "IPY_MODEL_fe39cceb13b844778470a2bd332b131d",
            "value": 158
          }
        },
        "8a291403e3cb488a8b07b6585b7672e8": {
          "model_module": "@jupyter-widgets/controls",
          "model_module_version": "1.5.0",
          "model_name": "DescriptionStyleModel",
          "state": {
            "_model_module": "@jupyter-widgets/controls",
            "_model_module_version": "1.5.0",
            "_model_name": "DescriptionStyleModel",
            "_view_count": null,
            "_view_module": "@jupyter-widgets/base",
            "_view_module_version": "1.2.0",
            "_view_name": "StyleView",
            "description_width": ""
          }
        },
        "8b65db9770aa4b4c903766c12d8c2aa8": {
          "model_module": "@jupyter-widgets/base",
          "model_module_version": "1.2.0",
          "model_name": "LayoutModel",
          "state": {
            "_model_module": "@jupyter-widgets/base",
            "_model_module_version": "1.2.0",
            "_model_name": "LayoutModel",
            "_view_count": null,
            "_view_module": "@jupyter-widgets/base",
            "_view_module_version": "1.2.0",
            "_view_name": "LayoutView",
            "align_content": null,
            "align_items": null,
            "align_self": null,
            "border": null,
            "bottom": null,
            "display": null,
            "flex": null,
            "flex_flow": null,
            "grid_area": null,
            "grid_auto_columns": null,
            "grid_auto_flow": null,
            "grid_auto_rows": null,
            "grid_column": null,
            "grid_gap": null,
            "grid_row": null,
            "grid_template_areas": null,
            "grid_template_columns": null,
            "grid_template_rows": null,
            "height": null,
            "justify_content": null,
            "justify_items": null,
            "left": null,
            "margin": null,
            "max_height": null,
            "max_width": null,
            "min_height": null,
            "min_width": null,
            "object_fit": null,
            "object_position": null,
            "order": null,
            "overflow": null,
            "overflow_x": null,
            "overflow_y": null,
            "padding": null,
            "right": null,
            "top": null,
            "visibility": null,
            "width": null
          }
        },
        "96333ba152b24f02957084cf131f1237": {
          "model_module": "@jupyter-widgets/controls",
          "model_module_version": "1.5.0",
          "model_name": "HTMLModel",
          "state": {
            "_dom_classes": [],
            "_model_module": "@jupyter-widgets/controls",
            "_model_module_version": "1.5.0",
            "_model_name": "HTMLModel",
            "_view_count": null,
            "_view_module": "@jupyter-widgets/controls",
            "_view_module_version": "1.5.0",
            "_view_name": "HTMLView",
            "description": "",
            "description_tooltip": null,
            "layout": "IPY_MODEL_6686346a90094ac9a608656a35ba768f",
            "placeholder": "​",
            "style": "IPY_MODEL_304ae7e02a9b4bc9bb99a6dae5113b8f",
            "value": " 286/286 [00:00&lt;00:00, 4363.36 examples/s]"
          }
        },
        "9705ff889c2e4228998d509c6d6b3cc3": {
          "model_module": "@jupyter-widgets/controls",
          "model_module_version": "1.5.0",
          "model_name": "HTMLModel",
          "state": {
            "_dom_classes": [],
            "_model_module": "@jupyter-widgets/controls",
            "_model_module_version": "1.5.0",
            "_model_name": "HTMLModel",
            "_view_count": null,
            "_view_module": "@jupyter-widgets/controls",
            "_view_module_version": "1.5.0",
            "_view_name": "HTMLView",
            "description": "",
            "description_tooltip": null,
            "layout": "IPY_MODEL_8b65db9770aa4b4c903766c12d8c2aa8",
            "placeholder": "​",
            "style": "IPY_MODEL_8a291403e3cb488a8b07b6585b7672e8",
            "value": "Map: 100%"
          }
        },
        "9a10170fe57642989f8125359aeaf101": {
          "model_module": "@jupyter-widgets/controls",
          "model_module_version": "1.5.0",
          "model_name": "HBoxModel",
          "state": {
            "_dom_classes": [],
            "_model_module": "@jupyter-widgets/controls",
            "_model_module_version": "1.5.0",
            "_model_name": "HBoxModel",
            "_view_count": null,
            "_view_module": "@jupyter-widgets/controls",
            "_view_module_version": "1.5.0",
            "_view_name": "HBoxView",
            "box_style": "",
            "children": [
              "IPY_MODEL_3d0ba89e15964c428fb8bd72be557d33",
              "IPY_MODEL_32f452a93c2f418e8bd0ead759a96550",
              "IPY_MODEL_e69393fc38c242f3b1dc58be0095c5b8"
            ],
            "layout": "IPY_MODEL_2909aba393124bb7885b3d40a4c668c1"
          }
        },
        "9c69dbd359cc48249d4bfc0a5b157a8a": {
          "model_module": "@jupyter-widgets/base",
          "model_module_version": "1.2.0",
          "model_name": "LayoutModel",
          "state": {
            "_model_module": "@jupyter-widgets/base",
            "_model_module_version": "1.2.0",
            "_model_name": "LayoutModel",
            "_view_count": null,
            "_view_module": "@jupyter-widgets/base",
            "_view_module_version": "1.2.0",
            "_view_name": "LayoutView",
            "align_content": null,
            "align_items": null,
            "align_self": null,
            "border": null,
            "bottom": null,
            "display": null,
            "flex": null,
            "flex_flow": null,
            "grid_area": null,
            "grid_auto_columns": null,
            "grid_auto_flow": null,
            "grid_auto_rows": null,
            "grid_column": null,
            "grid_gap": null,
            "grid_row": null,
            "grid_template_areas": null,
            "grid_template_columns": null,
            "grid_template_rows": null,
            "height": null,
            "justify_content": null,
            "justify_items": null,
            "left": null,
            "margin": null,
            "max_height": null,
            "max_width": null,
            "min_height": null,
            "min_width": null,
            "object_fit": null,
            "object_position": null,
            "order": null,
            "overflow": null,
            "overflow_x": null,
            "overflow_y": null,
            "padding": null,
            "right": null,
            "top": null,
            "visibility": null,
            "width": null
          }
        },
        "9d59491b329740c3b9bc458893c53909": {
          "model_module": "@jupyter-widgets/base",
          "model_module_version": "1.2.0",
          "model_name": "LayoutModel",
          "state": {
            "_model_module": "@jupyter-widgets/base",
            "_model_module_version": "1.2.0",
            "_model_name": "LayoutModel",
            "_view_count": null,
            "_view_module": "@jupyter-widgets/base",
            "_view_module_version": "1.2.0",
            "_view_name": "LayoutView",
            "align_content": null,
            "align_items": null,
            "align_self": null,
            "border": null,
            "bottom": null,
            "display": null,
            "flex": null,
            "flex_flow": null,
            "grid_area": null,
            "grid_auto_columns": null,
            "grid_auto_flow": null,
            "grid_auto_rows": null,
            "grid_column": null,
            "grid_gap": null,
            "grid_row": null,
            "grid_template_areas": null,
            "grid_template_columns": null,
            "grid_template_rows": null,
            "height": null,
            "justify_content": null,
            "justify_items": null,
            "left": null,
            "margin": null,
            "max_height": null,
            "max_width": null,
            "min_height": null,
            "min_width": null,
            "object_fit": null,
            "object_position": null,
            "order": null,
            "overflow": null,
            "overflow_x": null,
            "overflow_y": null,
            "padding": null,
            "right": null,
            "top": null,
            "visibility": null,
            "width": null
          }
        },
        "a0471c21ddbc4dc1bda369075c6520dc": {
          "model_module": "@jupyter-widgets/controls",
          "model_module_version": "1.5.0",
          "model_name": "FloatProgressModel",
          "state": {
            "_dom_classes": [],
            "_model_module": "@jupyter-widgets/controls",
            "_model_module_version": "1.5.0",
            "_model_name": "FloatProgressModel",
            "_view_count": null,
            "_view_module": "@jupyter-widgets/controls",
            "_view_module_version": "1.5.0",
            "_view_name": "ProgressView",
            "bar_style": "success",
            "description": "",
            "description_tooltip": null,
            "layout": "IPY_MODEL_9c69dbd359cc48249d4bfc0a5b157a8a",
            "max": 158,
            "min": 0,
            "orientation": "horizontal",
            "style": "IPY_MODEL_ca163663e94f4a64a6e46b0ba4d39209",
            "value": 158
          }
        },
        "afc54e5939f64a6699447488058892c7": {
          "model_module": "@jupyter-widgets/base",
          "model_module_version": "1.2.0",
          "model_name": "LayoutModel",
          "state": {
            "_model_module": "@jupyter-widgets/base",
            "_model_module_version": "1.2.0",
            "_model_name": "LayoutModel",
            "_view_count": null,
            "_view_module": "@jupyter-widgets/base",
            "_view_module_version": "1.2.0",
            "_view_name": "LayoutView",
            "align_content": null,
            "align_items": null,
            "align_self": null,
            "border": null,
            "bottom": null,
            "display": null,
            "flex": null,
            "flex_flow": null,
            "grid_area": null,
            "grid_auto_columns": null,
            "grid_auto_flow": null,
            "grid_auto_rows": null,
            "grid_column": null,
            "grid_gap": null,
            "grid_row": null,
            "grid_template_areas": null,
            "grid_template_columns": null,
            "grid_template_rows": null,
            "height": null,
            "justify_content": null,
            "justify_items": null,
            "left": null,
            "margin": null,
            "max_height": null,
            "max_width": null,
            "min_height": null,
            "min_width": null,
            "object_fit": null,
            "object_position": null,
            "order": null,
            "overflow": null,
            "overflow_x": null,
            "overflow_y": null,
            "padding": null,
            "right": null,
            "top": null,
            "visibility": null,
            "width": null
          }
        },
        "b330ebfcd2dd453baa46bdebc4b48c84": {
          "model_module": "@jupyter-widgets/controls",
          "model_module_version": "1.5.0",
          "model_name": "HBoxModel",
          "state": {
            "_dom_classes": [],
            "_model_module": "@jupyter-widgets/controls",
            "_model_module_version": "1.5.0",
            "_model_name": "HBoxModel",
            "_view_count": null,
            "_view_module": "@jupyter-widgets/controls",
            "_view_module_version": "1.5.0",
            "_view_name": "HBoxView",
            "box_style": "",
            "children": [
              "IPY_MODEL_9705ff889c2e4228998d509c6d6b3cc3",
              "IPY_MODEL_0e2f1f938999473d9605db2573eef579",
              "IPY_MODEL_193543f9f6fd4aadaaa0149891d1e8d2"
            ],
            "layout": "IPY_MODEL_581b189ac418427fb7b6346a255c3cf3"
          }
        },
        "bae0f28f97ca4de096c5693c43f821f4": {
          "model_module": "@jupyter-widgets/base",
          "model_module_version": "1.2.0",
          "model_name": "LayoutModel",
          "state": {
            "_model_module": "@jupyter-widgets/base",
            "_model_module_version": "1.2.0",
            "_model_name": "LayoutModel",
            "_view_count": null,
            "_view_module": "@jupyter-widgets/base",
            "_view_module_version": "1.2.0",
            "_view_name": "LayoutView",
            "align_content": null,
            "align_items": null,
            "align_self": null,
            "border": null,
            "bottom": null,
            "display": null,
            "flex": null,
            "flex_flow": null,
            "grid_area": null,
            "grid_auto_columns": null,
            "grid_auto_flow": null,
            "grid_auto_rows": null,
            "grid_column": null,
            "grid_gap": null,
            "grid_row": null,
            "grid_template_areas": null,
            "grid_template_columns": null,
            "grid_template_rows": null,
            "height": null,
            "justify_content": null,
            "justify_items": null,
            "left": null,
            "margin": null,
            "max_height": null,
            "max_width": null,
            "min_height": null,
            "min_width": null,
            "object_fit": null,
            "object_position": null,
            "order": null,
            "overflow": null,
            "overflow_x": null,
            "overflow_y": null,
            "padding": null,
            "right": null,
            "top": null,
            "visibility": null,
            "width": null
          }
        },
        "bcddc48b44e84607834230f50cfc3300": {
          "model_module": "@jupyter-widgets/controls",
          "model_module_version": "1.5.0",
          "model_name": "DescriptionStyleModel",
          "state": {
            "_model_module": "@jupyter-widgets/controls",
            "_model_module_version": "1.5.0",
            "_model_name": "DescriptionStyleModel",
            "_view_count": null,
            "_view_module": "@jupyter-widgets/base",
            "_view_module_version": "1.2.0",
            "_view_name": "StyleView",
            "description_width": ""
          }
        },
        "bfe3e8ffd5b846e89640e0d526a88811": {
          "model_module": "@jupyter-widgets/base",
          "model_module_version": "1.2.0",
          "model_name": "LayoutModel",
          "state": {
            "_model_module": "@jupyter-widgets/base",
            "_model_module_version": "1.2.0",
            "_model_name": "LayoutModel",
            "_view_count": null,
            "_view_module": "@jupyter-widgets/base",
            "_view_module_version": "1.2.0",
            "_view_name": "LayoutView",
            "align_content": null,
            "align_items": null,
            "align_self": null,
            "border": null,
            "bottom": null,
            "display": null,
            "flex": null,
            "flex_flow": null,
            "grid_area": null,
            "grid_auto_columns": null,
            "grid_auto_flow": null,
            "grid_auto_rows": null,
            "grid_column": null,
            "grid_gap": null,
            "grid_row": null,
            "grid_template_areas": null,
            "grid_template_columns": null,
            "grid_template_rows": null,
            "height": null,
            "justify_content": null,
            "justify_items": null,
            "left": null,
            "margin": null,
            "max_height": null,
            "max_width": null,
            "min_height": null,
            "min_width": null,
            "object_fit": null,
            "object_position": null,
            "order": null,
            "overflow": null,
            "overflow_x": null,
            "overflow_y": null,
            "padding": null,
            "right": null,
            "top": null,
            "visibility": null,
            "width": null
          }
        },
        "c3149bea92754bad8eb1f63a7de9a05b": {
          "model_module": "@jupyter-widgets/controls",
          "model_module_version": "1.5.0",
          "model_name": "HTMLModel",
          "state": {
            "_dom_classes": [],
            "_model_module": "@jupyter-widgets/controls",
            "_model_module_version": "1.5.0",
            "_model_name": "HTMLModel",
            "_view_count": null,
            "_view_module": "@jupyter-widgets/controls",
            "_view_module_version": "1.5.0",
            "_view_name": "HTMLView",
            "description": "",
            "description_tooltip": null,
            "layout": "IPY_MODEL_6ef062e99c2648ba9da2bccd76050dd1",
            "placeholder": "​",
            "style": "IPY_MODEL_02d40d0867d04eafac27bd728008c862",
            "value": " 2870/2870 [00:00&lt;00:00, 6570.57 examples/s]"
          }
        },
        "c8586b30e59e4a6684fb8536fbd00908": {
          "model_module": "@jupyter-widgets/controls",
          "model_module_version": "1.5.0",
          "model_name": "HBoxModel",
          "state": {
            "_dom_classes": [],
            "_model_module": "@jupyter-widgets/controls",
            "_model_module_version": "1.5.0",
            "_model_name": "HBoxModel",
            "_view_count": null,
            "_view_module": "@jupyter-widgets/controls",
            "_view_module_version": "1.5.0",
            "_view_name": "HBoxView",
            "box_style": "",
            "children": [
              "IPY_MODEL_069e704b4be74050af7644eb8bcdd368",
              "IPY_MODEL_a0471c21ddbc4dc1bda369075c6520dc",
              "IPY_MODEL_5e583effa29e448eb3986751c74079ab"
            ],
            "layout": "IPY_MODEL_3228b1f888024be0b06aeda84b8502b0"
          }
        },
        "ca163663e94f4a64a6e46b0ba4d39209": {
          "model_module": "@jupyter-widgets/controls",
          "model_module_version": "1.5.0",
          "model_name": "ProgressStyleModel",
          "state": {
            "_model_module": "@jupyter-widgets/controls",
            "_model_module_version": "1.5.0",
            "_model_name": "ProgressStyleModel",
            "_view_count": null,
            "_view_module": "@jupyter-widgets/base",
            "_view_module_version": "1.2.0",
            "_view_name": "StyleView",
            "bar_color": null,
            "description_width": ""
          }
        },
        "d01e275effee4d97ae46fbcc254d8a4e": {
          "model_module": "@jupyter-widgets/controls",
          "model_module_version": "1.5.0",
          "model_name": "HBoxModel",
          "state": {
            "_dom_classes": [],
            "_model_module": "@jupyter-widgets/controls",
            "_model_module_version": "1.5.0",
            "_model_name": "HBoxModel",
            "_view_count": null,
            "_view_module": "@jupyter-widgets/controls",
            "_view_module_version": "1.5.0",
            "_view_name": "HBoxView",
            "box_style": "",
            "children": [
              "IPY_MODEL_d22d776e09f34312b8886760a714cbd4",
              "IPY_MODEL_8720a0d02edc4659900d762ae49d08c2",
              "IPY_MODEL_96333ba152b24f02957084cf131f1237"
            ],
            "layout": "IPY_MODEL_afc54e5939f64a6699447488058892c7"
          }
        },
        "d16d783c5a974fad8c53672f8025e5db": {
          "model_module": "@jupyter-widgets/controls",
          "model_module_version": "1.5.0",
          "model_name": "HBoxModel",
          "state": {
            "_dom_classes": [],
            "_model_module": "@jupyter-widgets/controls",
            "_model_module_version": "1.5.0",
            "_model_name": "HBoxModel",
            "_view_count": null,
            "_view_module": "@jupyter-widgets/controls",
            "_view_module_version": "1.5.0",
            "_view_name": "HBoxView",
            "box_style": "",
            "children": [
              "IPY_MODEL_83d806dde2024e21b7eedc3e06d7ace7",
              "IPY_MODEL_075954eb6698433ea3ff28f84c031cb3",
              "IPY_MODEL_c3149bea92754bad8eb1f63a7de9a05b"
            ],
            "layout": "IPY_MODEL_9d59491b329740c3b9bc458893c53909"
          }
        },
        "d22d776e09f34312b8886760a714cbd4": {
          "model_module": "@jupyter-widgets/controls",
          "model_module_version": "1.5.0",
          "model_name": "HTMLModel",
          "state": {
            "_dom_classes": [],
            "_model_module": "@jupyter-widgets/controls",
            "_model_module_version": "1.5.0",
            "_model_name": "HTMLModel",
            "_view_count": null,
            "_view_module": "@jupyter-widgets/controls",
            "_view_module_version": "1.5.0",
            "_view_name": "HTMLView",
            "description": "",
            "description_tooltip": null,
            "layout": "IPY_MODEL_d2bfdb108ddf4cd88cd12acd59f46957",
            "placeholder": "​",
            "style": "IPY_MODEL_1c1d648d78434dc9ae4c604afc86abe8",
            "value": "Map: 100%"
          }
        },
        "d2bfdb108ddf4cd88cd12acd59f46957": {
          "model_module": "@jupyter-widgets/base",
          "model_module_version": "1.2.0",
          "model_name": "LayoutModel",
          "state": {
            "_model_module": "@jupyter-widgets/base",
            "_model_module_version": "1.2.0",
            "_model_name": "LayoutModel",
            "_view_count": null,
            "_view_module": "@jupyter-widgets/base",
            "_view_module_version": "1.2.0",
            "_view_name": "LayoutView",
            "align_content": null,
            "align_items": null,
            "align_self": null,
            "border": null,
            "bottom": null,
            "display": null,
            "flex": null,
            "flex_flow": null,
            "grid_area": null,
            "grid_auto_columns": null,
            "grid_auto_flow": null,
            "grid_auto_rows": null,
            "grid_column": null,
            "grid_gap": null,
            "grid_row": null,
            "grid_template_areas": null,
            "grid_template_columns": null,
            "grid_template_rows": null,
            "height": null,
            "justify_content": null,
            "justify_items": null,
            "left": null,
            "margin": null,
            "max_height": null,
            "max_width": null,
            "min_height": null,
            "min_width": null,
            "object_fit": null,
            "object_position": null,
            "order": null,
            "overflow": null,
            "overflow_x": null,
            "overflow_y": null,
            "padding": null,
            "right": null,
            "top": null,
            "visibility": null,
            "width": null
          }
        },
        "d9b7740efd0f4a1a86a5beb08b850019": {
          "model_module": "@jupyter-widgets/controls",
          "model_module_version": "1.5.0",
          "model_name": "DescriptionStyleModel",
          "state": {
            "_model_module": "@jupyter-widgets/controls",
            "_model_module_version": "1.5.0",
            "_model_name": "DescriptionStyleModel",
            "_view_count": null,
            "_view_module": "@jupyter-widgets/base",
            "_view_module_version": "1.2.0",
            "_view_name": "StyleView",
            "description_width": ""
          }
        },
        "e015363a80e845679a234bed5cc64b55": {
          "model_module": "@jupyter-widgets/controls",
          "model_module_version": "1.5.0",
          "model_name": "DescriptionStyleModel",
          "state": {
            "_model_module": "@jupyter-widgets/controls",
            "_model_module_version": "1.5.0",
            "_model_name": "DescriptionStyleModel",
            "_view_count": null,
            "_view_module": "@jupyter-widgets/base",
            "_view_module_version": "1.2.0",
            "_view_name": "StyleView",
            "description_width": ""
          }
        },
        "e1d0065a79bb4cccb0fb86c03436c6b3": {
          "model_module": "@jupyter-widgets/controls",
          "model_module_version": "1.5.0",
          "model_name": "HTMLModel",
          "state": {
            "_dom_classes": [],
            "_model_module": "@jupyter-widgets/controls",
            "_model_module_version": "1.5.0",
            "_model_name": "HTMLModel",
            "_view_count": null,
            "_view_module": "@jupyter-widgets/controls",
            "_view_module_version": "1.5.0",
            "_view_name": "HTMLView",
            "description": "",
            "description_tooltip": null,
            "layout": "IPY_MODEL_8360bae8197247e386e54056c475dc84",
            "placeholder": "​",
            "style": "IPY_MODEL_5b0fb6e9bae647e38c54262661d04749",
            "value": " 158/158 [00:00&lt;00:00, 3130.52 examples/s]"
          }
        },
        "e69393fc38c242f3b1dc58be0095c5b8": {
          "model_module": "@jupyter-widgets/controls",
          "model_module_version": "1.5.0",
          "model_name": "HTMLModel",
          "state": {
            "_dom_classes": [],
            "_model_module": "@jupyter-widgets/controls",
            "_model_module_version": "1.5.0",
            "_model_name": "HTMLModel",
            "_view_count": null,
            "_view_module": "@jupyter-widgets/controls",
            "_view_module_version": "1.5.0",
            "_view_name": "HTMLView",
            "description": "",
            "description_tooltip": null,
            "layout": "IPY_MODEL_5295c26e4eef4d78bab14c501a711f1c",
            "placeholder": "​",
            "style": "IPY_MODEL_574a5a0f6a5e4263ac3e0ab5da504173",
            "value": " 2870/2870 [00:00&lt;00:00, 7471.67 examples/s]"
          }
        },
        "e956d628e75249b39b7b801ead527388": {
          "model_module": "@jupyter-widgets/base",
          "model_module_version": "1.2.0",
          "model_name": "LayoutModel",
          "state": {
            "_model_module": "@jupyter-widgets/base",
            "_model_module_version": "1.2.0",
            "_model_name": "LayoutModel",
            "_view_count": null,
            "_view_module": "@jupyter-widgets/base",
            "_view_module_version": "1.2.0",
            "_view_name": "LayoutView",
            "align_content": null,
            "align_items": null,
            "align_self": null,
            "border": null,
            "bottom": null,
            "display": null,
            "flex": null,
            "flex_flow": null,
            "grid_area": null,
            "grid_auto_columns": null,
            "grid_auto_flow": null,
            "grid_auto_rows": null,
            "grid_column": null,
            "grid_gap": null,
            "grid_row": null,
            "grid_template_areas": null,
            "grid_template_columns": null,
            "grid_template_rows": null,
            "height": null,
            "justify_content": null,
            "justify_items": null,
            "left": null,
            "margin": null,
            "max_height": null,
            "max_width": null,
            "min_height": null,
            "min_width": null,
            "object_fit": null,
            "object_position": null,
            "order": null,
            "overflow": null,
            "overflow_x": null,
            "overflow_y": null,
            "padding": null,
            "right": null,
            "top": null,
            "visibility": null,
            "width": null
          }
        },
        "fb83ccab31664a77b3bef17c5ab62768": {
          "model_module": "@jupyter-widgets/base",
          "model_module_version": "1.2.0",
          "model_name": "LayoutModel",
          "state": {
            "_model_module": "@jupyter-widgets/base",
            "_model_module_version": "1.2.0",
            "_model_name": "LayoutModel",
            "_view_count": null,
            "_view_module": "@jupyter-widgets/base",
            "_view_module_version": "1.2.0",
            "_view_name": "LayoutView",
            "align_content": null,
            "align_items": null,
            "align_self": null,
            "border": null,
            "bottom": null,
            "display": null,
            "flex": null,
            "flex_flow": null,
            "grid_area": null,
            "grid_auto_columns": null,
            "grid_auto_flow": null,
            "grid_auto_rows": null,
            "grid_column": null,
            "grid_gap": null,
            "grid_row": null,
            "grid_template_areas": null,
            "grid_template_columns": null,
            "grid_template_rows": null,
            "height": null,
            "justify_content": null,
            "justify_items": null,
            "left": null,
            "margin": null,
            "max_height": null,
            "max_width": null,
            "min_height": null,
            "min_width": null,
            "object_fit": null,
            "object_position": null,
            "order": null,
            "overflow": null,
            "overflow_x": null,
            "overflow_y": null,
            "padding": null,
            "right": null,
            "top": null,
            "visibility": null,
            "width": null
          }
        },
        "fe39cceb13b844778470a2bd332b131d": {
          "model_module": "@jupyter-widgets/controls",
          "model_module_version": "1.5.0",
          "model_name": "ProgressStyleModel",
          "state": {
            "_model_module": "@jupyter-widgets/controls",
            "_model_module_version": "1.5.0",
            "_model_name": "ProgressStyleModel",
            "_view_count": null,
            "_view_module": "@jupyter-widgets/base",
            "_view_module_version": "1.2.0",
            "_view_name": "StyleView",
            "bar_color": null,
            "description_width": ""
          }
        }
      }
    }
  },
  "nbformat": 4,
  "nbformat_minor": 0
}
