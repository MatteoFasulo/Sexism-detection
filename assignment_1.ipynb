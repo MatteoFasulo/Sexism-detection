{
 "cells": [
  {
   "cell_type": "markdown",
   "metadata": {
    "id": "qmIZOuDv-bQk"
   },
   "source": [
    "<a href=\"https://colab.research.google.com/github/MatteoFasulo/Sexism-detection/blob/main/assignment_1.ipynb\" target=\"_parent\"><img src=\"https://colab.research.google.com/assets/colab-badge.svg\" alt=\"Open In Colab\"/></a>"
   ]
  },
  {
   "cell_type": "markdown",
   "metadata": {
    "id": "9vYXSXHf-bQp"
   },
   "source": [
    "# Libraries"
   ]
  },
  {
   "cell_type": "code",
   "execution_count": 6,
   "metadata": {
    "id": "rT1NnYib-cZs"
   },
   "outputs": [],
   "source": [
    "#%%capture\n",
    "#%pip install requests nltk gensim datasets evaluate transformers"
   ]
  },
  {
   "cell_type": "code",
   "execution_count": null,
   "metadata": {
    "id": "8HsAwNAc-bQp"
   },
   "outputs": [],
   "source": [
    "import gc\n",
    "import os\n",
    "import requests\n",
    "from pathlib import Path\n",
    "import re\n",
    "import json\n",
    "from typing import OrderedDict\n",
    "import copy\n",
    "\n",
    "\n",
    "import unicodedata\n",
    "\n",
    "import numpy as np\n",
    "import pandas as pd\n",
    "\n",
    "from sklearn.utils.class_weight import compute_class_weight\n",
    "from sklearn.metrics import f1_score\n",
    "\n",
    "from tqdm import tqdm\n",
    "import matplotlib.pyplot as plt\n",
    "\n",
    "import nltk\n",
    "from nltk.stem import WordNetLemmatizer\n",
    "\n",
    "import gensim\n",
    "import gensim.downloader as gloader\n",
    "\n",
    "import torch\n",
    "\n",
    "from datasets import Dataset\n",
    "from transformers import AutoTokenizer\n",
    "from transformers import DataCollatorWithPadding\n",
    "from transformers import AutoModelForSequenceClassification\n",
    "from transformers import TrainingArguments\n",
    "from transformers import Trainer\n",
    "import evaluate\n",
    "\n",
    "\n",
    "from detector import SexismDetector"
   ]
  },
  {
   "cell_type": "code",
   "execution_count": 8,
   "metadata": {},
   "outputs": [
    {
     "name": "stdout",
     "output_type": "stream",
     "text": [
      "The autoreload extension is already loaded. To reload it, use:\n",
      "  %reload_ext autoreload\n"
     ]
    }
   ],
   "source": [
    "%load_ext autoreload\n",
    "\n",
    "%autoreload 2"
   ]
  },
  {
   "cell_type": "markdown",
   "metadata": {
    "id": "o4MUwVBe-bQt"
   },
   "source": [
    "# Class definition"
   ]
  },
  {
   "cell_type": "markdown",
   "metadata": {
    "id": "9S8JHdj0-bQw"
   },
   "source": [
    "# Task 1: Corpus\n",
    "\n",
    "1. Download the data\n",
    "2. Load the JSON files and encode them as a DataFrame\n",
    "3. Generate hard labels for Task 1 with majority voting\n",
    "4. Filter the DataFrame for only english tweets\n",
    "5. Remove unwanted columns\n",
    "6. Encode the hard labels column as integers\n",
    "\n",
    ">**Bonus**: explore also Spanish tweets leveraging multi-language models and assessing the performance of the model on the two languages in comparison to the English-only model."
   ]
  },
  {
   "cell_type": "markdown",
   "metadata": {
    "id": "nALIh9GUC7tn"
   },
   "source": [
    "Fist of all, we need to instantiate the class which we will use to perform the task."
   ]
  },
  {
   "cell_type": "code",
   "execution_count": 9,
   "metadata": {
    "id": "UX6zDKbU-bQx"
   },
   "outputs": [],
   "source": [
    "detector = SexismDetector()"
   ]
  },
  {
   "cell_type": "markdown",
   "metadata": {
    "id": "bBtjK_NyC7tn"
   },
   "source": [
    "Let's define the device to use for the computation of PyTorch"
   ]
  },
  {
   "cell_type": "code",
   "execution_count": 10,
   "metadata": {
    "colab": {
     "base_uri": "https://localhost:8080/"
    },
    "id": "rAxlYsxwKy_k",
    "outputId": "b715651b-2d67-4d51-e0b9-d4656859101a"
   },
   "outputs": [
    {
     "name": "stdout",
     "output_type": "stream",
     "text": [
      "Using device: cuda\n"
     ]
    }
   ],
   "source": [
    "device = torch.device(\"cuda\" if torch.cuda.is_available() else \"cpu\")\n",
    "print(f\"Using device: {device}\")"
   ]
  },
  {
   "cell_type": "markdown",
   "metadata": {
    "id": "7QOBgb8HC7to"
   },
   "source": [
    "### Reproducibility\n",
    "\n",
    "The environment variable as well as the seed are set to ensure reproducibility of the results."
   ]
  },
  {
   "cell_type": "code",
   "execution_count": 11,
   "metadata": {
    "id": "-vI1-CPdKy_l"
   },
   "outputs": [],
   "source": [
    "os.environ[\"CUBLAS_WORKSPACE_CONFIG\"] = \":4096:8\"\n",
    "torch.cuda.manual_seed(detector.SEED)\n",
    "np.random.seed(detector.SEED)"
   ]
  },
  {
   "cell_type": "markdown",
   "metadata": {
    "id": "wpL0rkABC7tp"
   },
   "source": [
    "### Constants\n",
    "\n",
    "The constants are defined in the following cell. We will use them to define the embedding dimension and batch size."
   ]
  },
  {
   "cell_type": "code",
   "execution_count": 12,
   "metadata": {
    "id": "R-EBKp3wKy_l"
   },
   "outputs": [],
   "source": [
    "EMBEDDING_DIM = 50\n",
    "BATCH_SIZE = 64\n",
    "HIDDEN_DIM = 128\n",
    "EPOCHS = 50\n",
    "LEARNING_RATE = 1e-4"
   ]
  },
  {
   "cell_type": "markdown",
   "metadata": {
    "id": "2kB8zolx-bQx"
   },
   "source": [
    "### Download the data\n",
    "\n",
    "The data is downloaded from the repository of the course. The `download_corpus` method is used to download the data from the repository and save it in the `data` folder under the root directory of the project."
   ]
  },
  {
   "cell_type": "code",
   "execution_count": 13,
   "metadata": {
    "id": "zHCqDJCq-bQy"
   },
   "outputs": [],
   "source": [
    "detector.download_corpus(url='https://raw.githubusercontent.com/nlp-unibo/nlp-course-material/refs/heads/main/2024-2025/Assignment%201/data/training.json', filename='training.json')\n",
    "detector.download_corpus(url='https://raw.githubusercontent.com/nlp-unibo/nlp-course-material/refs/heads/main/2024-2025/Assignment%201/data/test.json', filename='test.json')\n",
    "detector.download_corpus(url='https://raw.githubusercontent.com/nlp-unibo/nlp-course-material/refs/heads/main/2024-2025/Assignment%201/data/validation.json', filename='validation.json')"
   ]
  },
  {
   "cell_type": "markdown",
   "metadata": {
    "id": "OlbBn1uh-bQy"
   },
   "source": [
    "### Load the JSON files and encode them as a DataFrame\n",
    "\n",
    "Then we load the JSON files and encode them as a DataFrame. The `load_corpus` method is used to load the data from the JSON files and encode them as a DataFrame."
   ]
  },
  {
   "cell_type": "code",
   "execution_count": 14,
   "metadata": {
    "id": "xffrWnDg-bQz"
   },
   "outputs": [],
   "source": [
    "train = detector.load_corpus('training.json', orient='index', encoding='utf-8')\n",
    "val = detector.load_corpus('validation.json', orient='index', encoding='utf-8')\n",
    "test = detector.load_corpus('test.json', orient='index', encoding='utf-8')"
   ]
  },
  {
   "cell_type": "markdown",
   "metadata": {
    "id": "KCeSw0jEC7tq"
   },
   "source": [
    "Make a copy of the test set to be used at the end to perform more in depth analysis about why the model is failing to classify the tweets."
   ]
  },
  {
   "cell_type": "code",
   "execution_count": 15,
   "metadata": {
    "id": "pcUMYS98C7tq"
   },
   "outputs": [],
   "source": [
    "test_copy = test.copy()"
   ]
  },
  {
   "cell_type": "markdown",
   "metadata": {
    "id": "RCaULr10C7tq"
   },
   "source": [
    "We can also inspect the first rows of the DataFrame to have an idea of the data we are working with."
   ]
  },
  {
   "cell_type": "code",
   "execution_count": 16,
   "metadata": {
    "colab": {
     "base_uri": "https://localhost:8080/",
     "height": 328
    },
    "id": "R-Iddy7j-bQ0",
    "outputId": "23afaa3d-753d-4ba7-dbc7-14d82d3ebbd1"
   },
   "outputs": [
    {
     "data": {
      "text/html": [
       "<div>\n",
       "<style scoped>\n",
       "    .dataframe tbody tr th:only-of-type {\n",
       "        vertical-align: middle;\n",
       "    }\n",
       "\n",
       "    .dataframe tbody tr th {\n",
       "        vertical-align: top;\n",
       "    }\n",
       "\n",
       "    .dataframe thead th {\n",
       "        text-align: right;\n",
       "    }\n",
       "</style>\n",
       "<table border=\"1\" class=\"dataframe\">\n",
       "  <thead>\n",
       "    <tr style=\"text-align: right;\">\n",
       "      <th></th>\n",
       "      <th>id_EXIST</th>\n",
       "      <th>lang</th>\n",
       "      <th>tweet</th>\n",
       "      <th>number_annotators</th>\n",
       "      <th>annotators</th>\n",
       "      <th>gender_annotators</th>\n",
       "      <th>age_annotators</th>\n",
       "      <th>labels_task1</th>\n",
       "      <th>labels_task2</th>\n",
       "      <th>labels_task3</th>\n",
       "      <th>split</th>\n",
       "    </tr>\n",
       "  </thead>\n",
       "  <tbody>\n",
       "    <tr>\n",
       "      <th>100001</th>\n",
       "      <td>100001</td>\n",
       "      <td>es</td>\n",
       "      <td>@TheChiflis Ignora al otro, es un capullo.El p...</td>\n",
       "      <td>6</td>\n",
       "      <td>[Annotator_1, Annotator_2, Annotator_3, Annota...</td>\n",
       "      <td>[F, F, F, M, M, M]</td>\n",
       "      <td>[18-22, 23-45, 46+, 46+, 23-45, 18-22]</td>\n",
       "      <td>[YES, YES, NO, YES, YES, YES]</td>\n",
       "      <td>[REPORTED, JUDGEMENTAL, -, REPORTED, JUDGEMENT...</td>\n",
       "      <td>[[OBJECTIFICATION], [OBJECTIFICATION, SEXUAL-V...</td>\n",
       "      <td>TRAIN_ES</td>\n",
       "    </tr>\n",
       "    <tr>\n",
       "      <th>100002</th>\n",
       "      <td>100002</td>\n",
       "      <td>es</td>\n",
       "      <td>@ultimonomada_ Si comicsgate se parece en algo...</td>\n",
       "      <td>6</td>\n",
       "      <td>[Annotator_7, Annotator_8, Annotator_9, Annota...</td>\n",
       "      <td>[F, F, F, M, M, M]</td>\n",
       "      <td>[18-22, 23-45, 46+, 46+, 23-45, 18-22]</td>\n",
       "      <td>[NO, NO, NO, NO, YES, NO]</td>\n",
       "      <td>[-, -, -, -, DIRECT, -]</td>\n",
       "      <td>[[-], [-], [-], [-], [OBJECTIFICATION], [-]]</td>\n",
       "      <td>TRAIN_ES</td>\n",
       "    </tr>\n",
       "    <tr>\n",
       "      <th>100003</th>\n",
       "      <td>100003</td>\n",
       "      <td>es</td>\n",
       "      <td>@Steven2897 Lee sobre Gamergate, y como eso ha...</td>\n",
       "      <td>6</td>\n",
       "      <td>[Annotator_7, Annotator_8, Annotator_9, Annota...</td>\n",
       "      <td>[F, F, F, M, M, M]</td>\n",
       "      <td>[18-22, 23-45, 46+, 46+, 23-45, 18-22]</td>\n",
       "      <td>[NO, NO, NO, NO, NO, NO]</td>\n",
       "      <td>[-, -, -, -, -, -]</td>\n",
       "      <td>[[-], [-], [-], [-], [-], [-]]</td>\n",
       "      <td>TRAIN_ES</td>\n",
       "    </tr>\n",
       "    <tr>\n",
       "      <th>100004</th>\n",
       "      <td>100004</td>\n",
       "      <td>es</td>\n",
       "      <td>@Lunariita7 Un retraso social bastante lamenta...</td>\n",
       "      <td>6</td>\n",
       "      <td>[Annotator_13, Annotator_14, Annotator_15, Ann...</td>\n",
       "      <td>[F, F, F, M, M, M]</td>\n",
       "      <td>[18-22, 23-45, 46+, 46+, 23-45, 18-22]</td>\n",
       "      <td>[NO, NO, YES, NO, YES, YES]</td>\n",
       "      <td>[-, -, DIRECT, -, REPORTED, REPORTED]</td>\n",
       "      <td>[[-], [-], [IDEOLOGICAL-INEQUALITY], [-], [IDE...</td>\n",
       "      <td>TRAIN_ES</td>\n",
       "    </tr>\n",
       "    <tr>\n",
       "      <th>100005</th>\n",
       "      <td>100005</td>\n",
       "      <td>es</td>\n",
       "      <td>@novadragon21 @icep4ck @TvDannyZ Entonces como...</td>\n",
       "      <td>6</td>\n",
       "      <td>[Annotator_19, Annotator_20, Annotator_21, Ann...</td>\n",
       "      <td>[F, F, F, M, M, M]</td>\n",
       "      <td>[18-22, 23-45, 46+, 46+, 23-45, 18-22]</td>\n",
       "      <td>[YES, NO, YES, NO, YES, YES]</td>\n",
       "      <td>[REPORTED, -, JUDGEMENTAL, -, JUDGEMENTAL, DIR...</td>\n",
       "      <td>[[STEREOTYPING-DOMINANCE, OBJECTIFICATION], [-...</td>\n",
       "      <td>TRAIN_ES</td>\n",
       "    </tr>\n",
       "  </tbody>\n",
       "</table>\n",
       "</div>"
      ],
      "text/plain": [
       "        id_EXIST lang                                              tweet  \\\n",
       "100001    100001   es  @TheChiflis Ignora al otro, es un capullo.El p...   \n",
       "100002    100002   es  @ultimonomada_ Si comicsgate se parece en algo...   \n",
       "100003    100003   es  @Steven2897 Lee sobre Gamergate, y como eso ha...   \n",
       "100004    100004   es  @Lunariita7 Un retraso social bastante lamenta...   \n",
       "100005    100005   es  @novadragon21 @icep4ck @TvDannyZ Entonces como...   \n",
       "\n",
       "        number_annotators                                         annotators  \\\n",
       "100001                  6  [Annotator_1, Annotator_2, Annotator_3, Annota...   \n",
       "100002                  6  [Annotator_7, Annotator_8, Annotator_9, Annota...   \n",
       "100003                  6  [Annotator_7, Annotator_8, Annotator_9, Annota...   \n",
       "100004                  6  [Annotator_13, Annotator_14, Annotator_15, Ann...   \n",
       "100005                  6  [Annotator_19, Annotator_20, Annotator_21, Ann...   \n",
       "\n",
       "         gender_annotators                          age_annotators  \\\n",
       "100001  [F, F, F, M, M, M]  [18-22, 23-45, 46+, 46+, 23-45, 18-22]   \n",
       "100002  [F, F, F, M, M, M]  [18-22, 23-45, 46+, 46+, 23-45, 18-22]   \n",
       "100003  [F, F, F, M, M, M]  [18-22, 23-45, 46+, 46+, 23-45, 18-22]   \n",
       "100004  [F, F, F, M, M, M]  [18-22, 23-45, 46+, 46+, 23-45, 18-22]   \n",
       "100005  [F, F, F, M, M, M]  [18-22, 23-45, 46+, 46+, 23-45, 18-22]   \n",
       "\n",
       "                         labels_task1  \\\n",
       "100001  [YES, YES, NO, YES, YES, YES]   \n",
       "100002      [NO, NO, NO, NO, YES, NO]   \n",
       "100003       [NO, NO, NO, NO, NO, NO]   \n",
       "100004    [NO, NO, YES, NO, YES, YES]   \n",
       "100005   [YES, NO, YES, NO, YES, YES]   \n",
       "\n",
       "                                             labels_task2  \\\n",
       "100001  [REPORTED, JUDGEMENTAL, -, REPORTED, JUDGEMENT...   \n",
       "100002                            [-, -, -, -, DIRECT, -]   \n",
       "100003                                 [-, -, -, -, -, -]   \n",
       "100004              [-, -, DIRECT, -, REPORTED, REPORTED]   \n",
       "100005  [REPORTED, -, JUDGEMENTAL, -, JUDGEMENTAL, DIR...   \n",
       "\n",
       "                                             labels_task3     split  \n",
       "100001  [[OBJECTIFICATION], [OBJECTIFICATION, SEXUAL-V...  TRAIN_ES  \n",
       "100002       [[-], [-], [-], [-], [OBJECTIFICATION], [-]]  TRAIN_ES  \n",
       "100003                     [[-], [-], [-], [-], [-], [-]]  TRAIN_ES  \n",
       "100004  [[-], [-], [IDEOLOGICAL-INEQUALITY], [-], [IDE...  TRAIN_ES  \n",
       "100005  [[STEREOTYPING-DOMINANCE, OBJECTIFICATION], [-...  TRAIN_ES  "
      ]
     },
     "execution_count": 16,
     "metadata": {},
     "output_type": "execute_result"
    }
   ],
   "source": [
    "train.head()"
   ]
  },
  {
   "cell_type": "markdown",
   "metadata": {
    "id": "qRJbTkHAC7tq"
   },
   "source": [
    "And of course we can also inspect the shape of the DataFrame to know how many rows and columns we have."
   ]
  },
  {
   "cell_type": "code",
   "execution_count": 17,
   "metadata": {
    "colab": {
     "base_uri": "https://localhost:8080/"
    },
    "id": "3PwyCeQc-bQ1",
    "outputId": "a978a03e-6378-4a2a-ca0a-552249437fcc"
   },
   "outputs": [
    {
     "data": {
      "text/plain": [
       "((6920, 11), (726, 11), (312, 11))"
      ]
     },
     "execution_count": 17,
     "metadata": {},
     "output_type": "execute_result"
    }
   ],
   "source": [
    "train.shape, val.shape, test.shape"
   ]
  },
  {
   "cell_type": "markdown",
   "metadata": {
    "id": "4fISdCga-bQ1"
   },
   "source": [
    "### Generate hard labels for Task 1 with majority voting\n",
    "\n",
    "The hard labels for Task 1 are generated with majority voting. The `majority_voting` method is used to generate the hard labels for Task 1 with majority voting. In case of a tie, the label is set to `NEUTRAL` allowing for later filtering of the data."
   ]
  },
  {
   "cell_type": "code",
   "execution_count": 18,
   "metadata": {
    "id": "jVfdt1mf-bQ1"
   },
   "outputs": [],
   "source": [
    "train['hard_label_task1'] = train['labels_task1'].apply(detector.majority_voting)\n",
    "val['hard_label_task1'] = val['labels_task1'].apply(detector.majority_voting)\n",
    "test['hard_label_task1'] = test['labels_task1'].apply(detector.majority_voting)"
   ]
  },
  {
   "cell_type": "markdown",
   "metadata": {
    "id": "iNSfxEqA-bQ2"
   },
   "source": [
    "### Filter the DataFrame for only english tweets and remove unclear tweets\n",
    "\n",
    "Since the task requires to work only with English tweets, we filter the DataFrame for only English tweets. This can be easily done using basic pandas functionalities. Here we also removed all the rows with unclear labels (ties in the majority voting)."
   ]
  },
  {
   "cell_type": "code",
   "execution_count": 19,
   "metadata": {
    "id": "P3hE1ua_-bQ2"
   },
   "outputs": [],
   "source": [
    "train = train[(train['hard_label_task1'] != \"NEUTRAL\") & (train['lang'] == \"en\")]\n",
    "val = val[(val['hard_label_task1'] != \"NEUTRAL\") & (val['lang'] == \"en\")]\n",
    "test = test[(test['hard_label_task1'] != \"NEUTRAL\") & (test['lang'] == \"en\")]"
   ]
  },
  {
   "cell_type": "markdown",
   "metadata": {
    "id": "42sKF2b9C7tr"
   },
   "source": [
    "As we can see we have less rows than before, since we removed all the rows with unclear labels and all the rows with tweets in languages different from English."
   ]
  },
  {
   "cell_type": "code",
   "execution_count": 20,
   "metadata": {
    "colab": {
     "base_uri": "https://localhost:8080/"
    },
    "id": "js6SiYSY-bQ2",
    "outputId": "38658cc5-ef20-4877-e1d0-b51748987d4f"
   },
   "outputs": [
    {
     "data": {
      "text/plain": [
       "((2870, 12), (158, 12), (286, 12))"
      ]
     },
     "execution_count": 20,
     "metadata": {},
     "output_type": "execute_result"
    }
   ],
   "source": [
    "train.shape, val.shape, test.shape"
   ]
  },
  {
   "cell_type": "markdown",
   "metadata": {
    "id": "edgN4FWb-bQ2"
   },
   "source": [
    "### Remove unwanted columns\n",
    "\n",
    "After that, we remove the unwanted columns from the DataFrame to keep only the columns we need for the task (the text of the tweet and the hard labels)."
   ]
  },
  {
   "cell_type": "code",
   "execution_count": 21,
   "metadata": {
    "id": "lFUcf_Ii-bQ3"
   },
   "outputs": [],
   "source": [
    "train = train[detector.columns_to_maintain]\n",
    "val = val[detector.columns_to_maintain]\n",
    "test = test[detector.columns_to_maintain]"
   ]
  },
  {
   "cell_type": "code",
   "execution_count": 22,
   "metadata": {
    "colab": {
     "base_uri": "https://localhost:8080/",
     "height": 206
    },
    "id": "BEe_i8hJ-bQ3",
    "outputId": "db879a80-8db4-4a41-d075-2466c21860cb"
   },
   "outputs": [
    {
     "data": {
      "text/html": [
       "<div>\n",
       "<style scoped>\n",
       "    .dataframe tbody tr th:only-of-type {\n",
       "        vertical-align: middle;\n",
       "    }\n",
       "\n",
       "    .dataframe tbody tr th {\n",
       "        vertical-align: top;\n",
       "    }\n",
       "\n",
       "    .dataframe thead th {\n",
       "        text-align: right;\n",
       "    }\n",
       "</style>\n",
       "<table border=\"1\" class=\"dataframe\">\n",
       "  <thead>\n",
       "    <tr style=\"text-align: right;\">\n",
       "      <th></th>\n",
       "      <th>id_EXIST</th>\n",
       "      <th>lang</th>\n",
       "      <th>tweet</th>\n",
       "      <th>hard_label_task1</th>\n",
       "    </tr>\n",
       "  </thead>\n",
       "  <tbody>\n",
       "    <tr>\n",
       "      <th>200002</th>\n",
       "      <td>200002</td>\n",
       "      <td>en</td>\n",
       "      <td>Writing a uni essay in my local pub with a cof...</td>\n",
       "      <td>YES</td>\n",
       "    </tr>\n",
       "    <tr>\n",
       "      <th>200003</th>\n",
       "      <td>200003</td>\n",
       "      <td>en</td>\n",
       "      <td>@UniversalORL it is 2021 not 1921. I dont appr...</td>\n",
       "      <td>YES</td>\n",
       "    </tr>\n",
       "    <tr>\n",
       "      <th>200006</th>\n",
       "      <td>200006</td>\n",
       "      <td>en</td>\n",
       "      <td>According to a customer I have plenty of time ...</td>\n",
       "      <td>YES</td>\n",
       "    </tr>\n",
       "    <tr>\n",
       "      <th>200007</th>\n",
       "      <td>200007</td>\n",
       "      <td>en</td>\n",
       "      <td>So only 'blokes' drink beer? Sorry, but if you...</td>\n",
       "      <td>YES</td>\n",
       "    </tr>\n",
       "    <tr>\n",
       "      <th>200008</th>\n",
       "      <td>200008</td>\n",
       "      <td>en</td>\n",
       "      <td>New to the shelves this week - looking forward...</td>\n",
       "      <td>NO</td>\n",
       "    </tr>\n",
       "  </tbody>\n",
       "</table>\n",
       "</div>"
      ],
      "text/plain": [
       "        id_EXIST lang                                              tweet  \\\n",
       "200002    200002   en  Writing a uni essay in my local pub with a cof...   \n",
       "200003    200003   en  @UniversalORL it is 2021 not 1921. I dont appr...   \n",
       "200006    200006   en  According to a customer I have plenty of time ...   \n",
       "200007    200007   en  So only 'blokes' drink beer? Sorry, but if you...   \n",
       "200008    200008   en  New to the shelves this week - looking forward...   \n",
       "\n",
       "       hard_label_task1  \n",
       "200002              YES  \n",
       "200003              YES  \n",
       "200006              YES  \n",
       "200007              YES  \n",
       "200008               NO  "
      ]
     },
     "execution_count": 22,
     "metadata": {},
     "output_type": "execute_result"
    }
   ],
   "source": [
    "train.head()"
   ]
  },
  {
   "cell_type": "markdown",
   "metadata": {
    "id": "C1vO0qNe-bQ3"
   },
   "source": [
    "### Encode the hard labels column as integers\n",
    "\n",
    "Finally, we encode the hard labels column as integers. This is done to have the labels in a format that can be used by the model."
   ]
  },
  {
   "cell_type": "code",
   "execution_count": 23,
   "metadata": {
    "id": "_vKw9ugP-bQ3"
   },
   "outputs": [],
   "source": [
    "train['hard_label_task1'] = train['hard_label_task1'].apply(lambda x: 1 if x == \"YES\" else 0)\n",
    "val['hard_label_task1'] = val['hard_label_task1'].apply(lambda x: 1 if x == \"YES\" else 0)\n",
    "test['hard_label_task1'] = test['hard_label_task1'].apply(lambda x: 1 if x == \"YES\" else 0)"
   ]
  },
  {
   "cell_type": "markdown",
   "metadata": {
    "id": "zwVjFiqMC7ts"
   },
   "source": [
    "### Rename the target column to label"
   ]
  },
  {
   "cell_type": "code",
   "execution_count": 24,
   "metadata": {
    "id": "sNAkCmHTC7ts"
   },
   "outputs": [],
   "source": [
    "train.rename(columns={'hard_label_task1': 'label'}, inplace=True)\n",
    "val.rename(columns={'hard_label_task1': 'label'}, inplace=True)\n",
    "test.rename(columns={'hard_label_task1': 'label'}, inplace=True)"
   ]
  },
  {
   "cell_type": "markdown",
   "metadata": {
    "id": "hBxMCgPYC7ts"
   },
   "source": [
    "The distribution of the labels is also shown to have an idea of the distribution of the labels in the dataset. As we can see there are more non-sexist tweets than sexist tweets in a ratio of 60:40. This is important to know since it can affect the performance of the model."
   ]
  },
  {
   "cell_type": "code",
   "execution_count": 25,
   "metadata": {
    "colab": {
     "base_uri": "https://localhost:8080/",
     "height": 467
    },
    "id": "QYpFYiwx-bQ4",
    "outputId": "c47b2494-db53-4d6c-b03c-3b43590a207b"
   },
   "outputs": [
    {
     "data": {
      "image/png": "[encoded data removed]",
      "text/plain": [
       "<Figure size 640x480 with 1 Axes>"
      ]
     },
     "metadata": {},
     "output_type": "display_data"
    }
   ],
   "source": [
    "train.label.value_counts(normalize=True).plot(kind='bar', title='Train', color=['green', 'red'], alpha=0.7)\n",
    "plt.show()"
   ]
  },
  {
   "cell_type": "markdown",
   "metadata": {
    "id": "D_qchDt7-bQ4"
   },
   "source": [
    "# Task 2: Data Cleaning\n",
    "\n",
    "1. Remove emojis\n",
    "2. Remove hashtags (e.g. #metoo)\n",
    "3. Remove mentions (e.g. @user)\n",
    "4. Remove URLs\n",
    "5. Remove special characters and symbols\n",
    "6. Remove specific quote characters (e.g. curly quotes)\n",
    "7. Perform lemmatization\n",
    "\n",
    ">**Bonus**: use other preprocessing strategies exploring techniques tailored specifically for tweets or methods that are common in social media text processing."
   ]
  },
  {
   "cell_type": "markdown",
   "metadata": {
    "id": "CPZ_A3ek-bQ4"
   },
   "source": [
    "The way to go (priority order) is the following:\n",
    "1. Remove URLs\n",
    "2. Remove mentions\n",
    "3. Remove hashtags\n",
    "4. Remove emojis\n",
    "5. Remove special characters\n",
    "6. Remove specific quote characters\n",
    "7. Perform lemmatization"
   ]
  },
  {
   "cell_type": "markdown",
   "metadata": {
    "id": "TacxYDItC7tw"
   },
   "source": [
    "We will take a copy of the original text to compare the original text with the cleaned text."
   ]
  },
  {
   "cell_type": "code",
   "execution_count": 26,
   "metadata": {
    "id": "vyKl2917-bQ4"
   },
   "outputs": [],
   "source": [
    "original_train = train.copy()"
   ]
  },
  {
   "cell_type": "markdown",
   "metadata": {
    "id": "RVsy1hN5C7tw"
   },
   "source": [
    "Then we can apply all the preprocessing steps to the text as described above (in that order)."
   ]
  },
  {
   "cell_type": "code",
   "execution_count": 27,
   "metadata": {
    "id": "xtI27hJo-bQ4"
   },
   "outputs": [],
   "source": [
    "train['tweet'] = train['tweet'].apply(detector.preprocess_text)\n",
    "val['tweet'] = val['tweet'].apply(detector.preprocess_text)\n",
    "test['tweet'] = test['tweet'].apply(detector.preprocess_text)"
   ]
  },
  {
   "cell_type": "markdown",
   "metadata": {
    "id": "yFOqFd6i-bQ6"
   },
   "source": [
    "### Perform lemmatization\n",
    "\n",
    "The lemmatization is performed using the `nltk` library. The `lemmatize` method is used to perform the lemmatization of the text. The lemmatization is performed on the cleaned text and takes a bit since it has to process all the words in the text."
   ]
  },
  {
   "cell_type": "code",
   "execution_count": 28,
   "metadata": {
    "id": "lu1toksv-bQ6"
   },
   "outputs": [],
   "source": [
    "train['tweet'] = train['tweet'].apply(detector.lemmatize_text)\n",
    "val['tweet'] = val['tweet'].apply(detector.lemmatize_text)\n",
    "test['tweet'] = test['tweet'].apply(detector.lemmatize_text)"
   ]
  },
  {
   "cell_type": "markdown",
   "metadata": {
    "id": "8R-fL1sl-bQ7"
   },
   "source": [
    "### Cast text to lowercase\n",
    "\n",
    "The text is cast to lowercase to ensure that the model does not learn to distinguish between words based on the case of the letters (uncased)."
   ]
  },
  {
   "cell_type": "code",
   "execution_count": 29,
   "metadata": {
    "id": "Ku484oN9-bQ7"
   },
   "outputs": [],
   "source": [
    "train['tweet'] = train['tweet'].str.lower()\n",
    "val['tweet'] = val['tweet'].str.lower()\n",
    "test['tweet'] = test['tweet'].str.lower()"
   ]
  },
  {
   "cell_type": "markdown",
   "metadata": {
    "id": "dFbPle-9-bQ8"
   },
   "source": [
    "### Show the difference between the original and cleaned text\n",
    "\n",
    "We can also inspect the difference between the original and cleaned text to see the effect of the preprocessing steps. As we can see the preprocessing steps have removed all the unwanted elements from the text and now the text is clean and ready to be used by the model."
   ]
  },
  {
   "cell_type": "code",
   "execution_count": 30,
   "metadata": {
    "colab": {
     "base_uri": "https://localhost:8080/"
    },
    "id": "TURQi4uE-bQ8",
    "outputId": "494fdea6-f2e5-462b-e07e-97ccdfb1b882"
   },
   "outputs": [
    {
     "name": "stdout",
     "output_type": "stream",
     "text": [
      "Original tweet:\n",
      "@YouFugazi He was abusive.  He was the problem.  Porsha's got issues but she didn't deserve mental and physical abuse or to grieve the loss of her child alone.\n",
      "Processed tweet:\n",
      "<user> he wa abusive he wa the problem porsha s got issue but she didn t deserve mental and physical abuse or to grieve the loss of her child alone\n"
     ]
    }
   ],
   "source": [
    "detector.text_diff(preprocessed_text=train, original_text=original_train, random=True)"
   ]
  },
  {
   "cell_type": "markdown",
   "metadata": {
    "id": "50Cj7hDE-bQ9"
   },
   "source": [
    "# Task 3: Text Encoding\n",
    "\n",
    "* Embed words using GloVe embeddings."
   ]
  },
  {
   "cell_type": "markdown",
   "metadata": {
    "id": "e3m8P2pe-bQ-"
   },
   "source": [
    "### Embed words using GloVe embeddings\n",
    "\n",
    "The pretrained GloVe embeddings are used to embed the words in the text. First we download the GloVe embeddings using the `gensim` library. We choose as embedding dimension 100 since it is a common choice for embeddings [CITE SOME SOURCE HERE]. The specific model is the `glove-twitter-100` which is trained on Twitter data. Our intuition is that this model will perform better on tweets than other models trained on different data due to the fact that the language used in tweets is different from the language used in other types of text. In this way we can leverage the specific language used in tweets to improve the performance of the model and also reduce the number of out-of-vocabulary words (which is a common problem when using pretrained embeddings).\n",
    "\n",
    "The vocabulary of the `glove-twitter-100` model is very large and contains many words but we are just using a subset of the words in the vocabulary. This is because we are using the words in the tweets and not all the words in the vocabulary are used in the tweets. At the end even if the vocabulary is large we are using only a small subset of the words in the vocabulary. Moreover, we are not interested in backpropagating the gradients to the embeddings so we can use the embeddings as they are without any problem on the computational side."
   ]
  },
  {
   "cell_type": "code",
   "execution_count": 31,
   "metadata": {
    "colab": {
     "base_uri": "https://localhost:8080/"
    },
    "id": "vEGg4Jvp-bQ-",
    "outputId": "93ecba5e-dee2-4bf3-e2cb-2491c7df1167"
   },
   "outputs": [
    {
     "name": "stdout",
     "output_type": "stream",
     "text": [
      "Vocabulary size: 1193514\n"
     ]
    }
   ],
   "source": [
    "emb_model = detector.load_glove(model_name='glove-twitter', embedding_dim=EMBEDDING_DIM)\n",
    "print(f\"Vocabulary size: {len(emb_model.key_to_index)}\")"
   ]
  },
  {
   "cell_type": "markdown",
   "metadata": {
    "id": "uhw6t0-hKy_0"
   },
   "source": [
    "Get the training vocabulary and generate the list of words appearing in the training set. We can extract the two ordered dictionaries (train_idx_to_word, train_word_to_idx) as well as the list of words appearing in the training set."
   ]
  },
  {
   "cell_type": "code",
   "execution_count": 32,
   "metadata": {
    "id": "JJEQVEKJLcKF"
   },
   "outputs": [],
   "source": [
    "train_idx_to_word, train_word_to_idx, train_word_listing = detector.get_vocab(train)"
   ]
  },
  {
   "cell_type": "markdown",
   "metadata": {
    "id": "KpCHzEq5Ky_0"
   },
   "source": [
    "We can inspect how many words in the training set are not in the GloVe vocabulary. This can be conveniente to assess the coverage of the GloVe embeddings on the training set. From our analysis we can see that the coverage using the GloVe embeddings model `glove-twitter-100` is better with respect to the model `glove-wiki-gigaword-100` which is trained on Wikipedia data. The actual difference is not so big (around 1%) but it can be important to have a good coverage of the embeddings on the training set. Moreover, such statistics do not take into account any possible difference in the quality of the embeddings which can be important to have a good performance of the model. The 1% difference might not be so important but the position of the words in the embeddings can be important to have a good performance of the model."
   ]
  },
  {
   "cell_type": "code",
   "execution_count": 33,
   "metadata": {
    "colab": {
     "base_uri": "https://localhost:8080/"
    },
    "id": "jJ3bEuo3Ky_0",
    "outputId": "b56ca55e-12fe-4ce9-cec2-f73c55b034fc"
   },
   "outputs": [
    {
     "name": "stdout",
     "output_type": "stream",
     "text": [
      "Total OOV terms: 768 (7.80%)\n"
     ]
    }
   ],
   "source": [
    "detector.get_oov_stats(emb_model, train_word_listing)"
   ]
  },
  {
   "cell_type": "markdown",
   "metadata": {
    "id": "KbFJl09CKy_1"
   },
   "source": [
    "We can also inspect what are these OOV words to have an idea of the words that are not in the GloVe vocabulary. As we can see the words that are not in the GloVe vocabulary are mostly rare words that are not so common in the English language or Twitter memes/slang. This is important to know since it can affect the performance of the model. The model will not be able to learn the embeddings for these words and will have to rely on the embeddings of similar words which can affect the performance of the model."
   ]
  },
  {
   "cell_type": "code",
   "execution_count": 34,
   "metadata": {
    "colab": {
     "base_uri": "https://localhost:8080/"
    },
    "id": "iXGncwVDKy_1",
    "outputId": "fb90d89e-6759-4269-e5cc-f52a1ab25795"
   },
   "outputs": [
    {
     "data": {
      "text/plain": [
       "['outskirt',\n",
       " 'nyjc',\n",
       " 'legutko',\n",
       " 'disseminated',\n",
       " 'exegetical',\n",
       " 'sexualizing',\n",
       " 'etcnb',\n",
       " 'underpins',\n",
       " 'intersexuality',\n",
       " 'youuuall']"
      ]
     },
     "execution_count": 34,
     "metadata": {},
     "output_type": "execute_result"
    }
   ],
   "source": [
    "list(detector.get_oov(emb_model, train_word_listing))[:10]"
   ]
  },
  {
   "cell_type": "markdown",
   "metadata": {
    "id": "MKlEtYznC7t2"
   },
   "source": [
    "Now, in order to deal with these OOV token we first thought of assigning a random vector to them. However, such choice might not be the best since the model will learn to distinguish between the OOV tokens and the other tokens based on the embeddings. This is not what we want since the OOV tokens are not different from the other tokens in the vocabulary.\n",
    "\n",
    "A smarter approach would be to extract the co-occurrence matrix from the training set and use it to generate the embeddings for the OOV tokens. Given a window size, we can extract the co-occurrence matrix and then use it to generate the embeddings for the OOV tokens. Whenever we encounter an OOV token we can define as embedding vector the average of the embeddings of the most frequent words that co-occur with the OOV token. This way we can generate the embeddings for the OOV tokens and have a better performance of the model since such OOV tokens will have embeddings that are similar to the embeddings of the words that co-occur with them (the similarity is indeed based on the co-occurrence matrix and on the average of the embedding vectors).\n",
    "\n",
    "The latter is the approach we will use to generate the embeddings for the OOV tokens. We will use a window size of 10 to extract the co-occurrence matrix and generate the embeddings for the OOV tokens."
   ]
  },
  {
   "cell_type": "code",
   "execution_count": 35,
   "metadata": {
    "colab": {
     "base_uri": "https://localhost:8080/",
     "height": 253
    },
    "id": "YGnlKq42Ky_2",
    "outputId": "8819fccf-c5ac-45e5-e5ca-22aae7cfd173"
   },
   "outputs": [
    {
     "name": "stderr",
     "output_type": "stream",
     "text": [
      "  0%|          | 0/2870 [00:00<?, ?it/s]"
     ]
    },
    {
     "name": "stderr",
     "output_type": "stream",
     "text": [
      "100%|██████████| 2870/2870 [00:06<00:00, 432.38it/s]\n"
     ]
    },
    {
     "data": {
      "text/html": [
       "<div>\n",
       "<style scoped>\n",
       "    .dataframe tbody tr th:only-of-type {\n",
       "        vertical-align: middle;\n",
       "    }\n",
       "\n",
       "    .dataframe tbody tr th {\n",
       "        vertical-align: top;\n",
       "    }\n",
       "\n",
       "    .dataframe thead th {\n",
       "        text-align: right;\n",
       "    }\n",
       "</style>\n",
       "<table border=\"1\" class=\"dataframe\">\n",
       "  <thead>\n",
       "    <tr style=\"text-align: right;\">\n",
       "      <th></th>\n",
       "      <th>writing</th>\n",
       "      <th>a</th>\n",
       "      <th>uni</th>\n",
       "      <th>essay</th>\n",
       "      <th>in</th>\n",
       "      <th>my</th>\n",
       "      <th>local</th>\n",
       "      <th>pub</th>\n",
       "      <th>with</th>\n",
       "      <th>coffee</th>\n",
       "      <th>...</th>\n",
       "      <th>armor</th>\n",
       "      <th>dragoon</th>\n",
       "      <th>estinen</th>\n",
       "      <th>nike</th>\n",
       "      <th>coochie</th>\n",
       "      <th>mutuals</th>\n",
       "      <th>owns</th>\n",
       "      <th>grabs</th>\n",
       "      <th>lh</th>\n",
       "      <th>mandy</th>\n",
       "    </tr>\n",
       "  </thead>\n",
       "  <tbody>\n",
       "    <tr>\n",
       "      <th>writing</th>\n",
       "      <td>2.0</td>\n",
       "      <td>14.0</td>\n",
       "      <td>1.0</td>\n",
       "      <td>2.0</td>\n",
       "      <td>5.0</td>\n",
       "      <td>3.0</td>\n",
       "      <td>1.0</td>\n",
       "      <td>1.0</td>\n",
       "      <td>3.0</td>\n",
       "      <td>1.0</td>\n",
       "      <td>...</td>\n",
       "      <td>0.0</td>\n",
       "      <td>0.0</td>\n",
       "      <td>0.0</td>\n",
       "      <td>0.0</td>\n",
       "      <td>0.0</td>\n",
       "      <td>0.0</td>\n",
       "      <td>0.0</td>\n",
       "      <td>0.0</td>\n",
       "      <td>0.0</td>\n",
       "      <td>0.0</td>\n",
       "    </tr>\n",
       "    <tr>\n",
       "      <th>a</th>\n",
       "      <td>14.0</td>\n",
       "      <td>1278.0</td>\n",
       "      <td>2.0</td>\n",
       "      <td>2.0</td>\n",
       "      <td>421.0</td>\n",
       "      <td>139.0</td>\n",
       "      <td>3.0</td>\n",
       "      <td>2.0</td>\n",
       "      <td>223.0</td>\n",
       "      <td>5.0</td>\n",
       "      <td>...</td>\n",
       "      <td>1.0</td>\n",
       "      <td>0.0</td>\n",
       "      <td>1.0</td>\n",
       "      <td>1.0</td>\n",
       "      <td>1.0</td>\n",
       "      <td>1.0</td>\n",
       "      <td>0.0</td>\n",
       "      <td>0.0</td>\n",
       "      <td>1.0</td>\n",
       "      <td>2.0</td>\n",
       "    </tr>\n",
       "    <tr>\n",
       "      <th>uni</th>\n",
       "      <td>1.0</td>\n",
       "      <td>2.0</td>\n",
       "      <td>0.0</td>\n",
       "      <td>1.0</td>\n",
       "      <td>1.0</td>\n",
       "      <td>1.0</td>\n",
       "      <td>1.0</td>\n",
       "      <td>1.0</td>\n",
       "      <td>1.0</td>\n",
       "      <td>1.0</td>\n",
       "      <td>...</td>\n",
       "      <td>0.0</td>\n",
       "      <td>0.0</td>\n",
       "      <td>0.0</td>\n",
       "      <td>0.0</td>\n",
       "      <td>0.0</td>\n",
       "      <td>0.0</td>\n",
       "      <td>0.0</td>\n",
       "      <td>0.0</td>\n",
       "      <td>0.0</td>\n",
       "      <td>0.0</td>\n",
       "    </tr>\n",
       "    <tr>\n",
       "      <th>essay</th>\n",
       "      <td>2.0</td>\n",
       "      <td>2.0</td>\n",
       "      <td>1.0</td>\n",
       "      <td>0.0</td>\n",
       "      <td>2.0</td>\n",
       "      <td>2.0</td>\n",
       "      <td>1.0</td>\n",
       "      <td>1.0</td>\n",
       "      <td>1.0</td>\n",
       "      <td>1.0</td>\n",
       "      <td>...</td>\n",
       "      <td>0.0</td>\n",
       "      <td>0.0</td>\n",
       "      <td>0.0</td>\n",
       "      <td>0.0</td>\n",
       "      <td>0.0</td>\n",
       "      <td>0.0</td>\n",
       "      <td>0.0</td>\n",
       "      <td>0.0</td>\n",
       "      <td>0.0</td>\n",
       "      <td>0.0</td>\n",
       "    </tr>\n",
       "    <tr>\n",
       "      <th>in</th>\n",
       "      <td>5.0</td>\n",
       "      <td>421.0</td>\n",
       "      <td>1.0</td>\n",
       "      <td>2.0</td>\n",
       "      <td>166.0</td>\n",
       "      <td>92.0</td>\n",
       "      <td>3.0</td>\n",
       "      <td>1.0</td>\n",
       "      <td>92.0</td>\n",
       "      <td>4.0</td>\n",
       "      <td>...</td>\n",
       "      <td>0.0</td>\n",
       "      <td>0.0</td>\n",
       "      <td>0.0</td>\n",
       "      <td>0.0</td>\n",
       "      <td>0.0</td>\n",
       "      <td>0.0</td>\n",
       "      <td>0.0</td>\n",
       "      <td>0.0</td>\n",
       "      <td>0.0</td>\n",
       "      <td>0.0</td>\n",
       "    </tr>\n",
       "  </tbody>\n",
       "</table>\n",
       "<p>5 rows × 9840 columns</p>\n",
       "</div>"
      ],
      "text/plain": [
       "         writing       a  uni  essay     in     my  local  pub   with  coffee  \\\n",
       "writing      2.0    14.0  1.0    2.0    5.0    3.0    1.0  1.0    3.0     1.0   \n",
       "a           14.0  1278.0  2.0    2.0  421.0  139.0    3.0  2.0  223.0     5.0   \n",
       "uni          1.0     2.0  0.0    1.0    1.0    1.0    1.0  1.0    1.0     1.0   \n",
       "essay        2.0     2.0  1.0    0.0    2.0    2.0    1.0  1.0    1.0     1.0   \n",
       "in           5.0   421.0  1.0    2.0  166.0   92.0    3.0  1.0   92.0     4.0   \n",
       "\n",
       "         ...  armor  dragoon  estinen  nike  coochie  mutuals  owns  grabs  \\\n",
       "writing  ...    0.0      0.0      0.0   0.0      0.0      0.0   0.0    0.0   \n",
       "a        ...    1.0      0.0      1.0   1.0      1.0      1.0   0.0    0.0   \n",
       "uni      ...    0.0      0.0      0.0   0.0      0.0      0.0   0.0    0.0   \n",
       "essay    ...    0.0      0.0      0.0   0.0      0.0      0.0   0.0    0.0   \n",
       "in       ...    0.0      0.0      0.0   0.0      0.0      0.0   0.0    0.0   \n",
       "\n",
       "          lh  mandy  \n",
       "writing  0.0    0.0  \n",
       "a        1.0    2.0  \n",
       "uni      0.0    0.0  \n",
       "essay    0.0    0.0  \n",
       "in       0.0    0.0  \n",
       "\n",
       "[5 rows x 9840 columns]"
      ]
     },
     "execution_count": 35,
     "metadata": {},
     "output_type": "execute_result"
    }
   ],
   "source": [
    "co_occurrence_matrix = detector.co_occurrence_count(train, train_idx_to_word, train_word_to_idx, window_size=10)\n",
    "co_occurrence_df = detector.co_occurrence_dataframe(co_occurrence_matrix, train_idx_to_word)\n",
    "co_occurrence_df.head()"
   ]
  },
  {
   "cell_type": "markdown",
   "metadata": {
    "id": "JBh5xZruKy_2"
   },
   "source": [
    "After computing the co-occurrence matrix we decided to combine the training set vocabulary with the GloVe vocabulary and generate the embedding vectors for the words in the training set that do not appear in the GloVe vocabulary. This is done to have a better coverage of the embeddings on the training set and to have a better performance of the model. The embeddings for the OOV tokens are generated using the co-occurrence matrix and the average of the embeddings of the most frequent words that co-occur with the OOV tokens."
   ]
  },
  {
   "cell_type": "code",
   "execution_count": 36,
   "metadata": {
    "colab": {
     "base_uri": "https://localhost:8080/"
    },
    "id": "fnNshkRb-bRF",
    "outputId": "3eab06b7-94c1-4b63-910e-898f67858b29"
   },
   "outputs": [
    {
     "name": "stdout",
     "output_type": "stream",
     "text": [
      "Saving vocab to data/vocab.json\n",
      "Vocab saved!\n"
     ]
    }
   ],
   "source": [
    "emb_model_augmented = detector.get_augmented_vocab(emb_model, train_words=train_word_listing, co_occurrence_df=co_occurrence_df, save=True)"
   ]
  },
  {
   "cell_type": "markdown",
   "metadata": {},
   "source": [
    "Now we can just get all the vectors from the augmented GloVe and use them as embedding matrix for the model."
   ]
  },
  {
   "cell_type": "code",
   "execution_count": 37,
   "metadata": {
    "colab": {
     "base_uri": "https://localhost:8080/"
    },
    "id": "ryp3ICueC7t3",
    "outputId": "567a87d3-1782-4929-9b61-16b5c73912a9"
   },
   "outputs": [
    {
     "name": "stdout",
     "output_type": "stream",
     "text": [
      "Embedding matrix of 1194284 words, each of 50 dimensions\n"
     ]
    }
   ],
   "source": [
    "embedding_matrix = emb_model_augmented.vectors\n",
    "print(f\"Embedding matrix of {embedding_matrix.shape[0]} words, each of {embedding_matrix.shape[1]} dimensions\")"
   ]
  },
  {
   "cell_type": "markdown",
   "metadata": {
    "id": "0UUVw8lx-bRG"
   },
   "source": [
    "# Task 4: Model definition\n",
    "\n",
    "* Baseline: Implement a Bidirectional LSTM with a Dense layer on top.\n",
    "* Model 1: add an additional LSTM layer to the baseline model."
   ]
  },
  {
   "cell_type": "markdown",
   "metadata": {
    "id": "xpU6TmVd-bRG"
   },
   "source": [
    "### Baseline: Implement a Bidirectional LSTM with a Dense layer on top"
   ]
  },
  {
   "cell_type": "code",
   "execution_count": null,
   "metadata": {
    "id": "QZCO79JTKy_4"
   },
   "outputs": [],
   "source": [
    "class BaselineModel(torch.nn.Module):\n",
    "    def __init__(self, embedding_model, detector, hidden_dim, output_dim: int = 1, lstm_layers: int = 1, dropout: float = 0.3):\n",
    "        super().__init__()\n",
    "\n",
    "        self.hidden_dim = hidden_dim\n",
    "        self.lstm_layers = lstm_layers\n",
    "        self.hidden_dim = hidden_dim\n",
    "\n",
    "        self.word_embeddings = torch.nn.Embedding.from_pretrained(\n",
    "            embeddings=torch.from_numpy(embedding_model.vectors),\n",
    "            freeze=True,\n",
    "            padding_idx=embedding_model.get_index(detector.PAD_TOKEN)\n",
    "        )\n",
    "        self.lstm = torch.nn.LSTM(input_size=embedding_model.vector_size, hidden_size=hidden_dim, bidirectional=True, num_layers=lstm_layers, batch_first=True)\n",
    "        self.fc = torch.nn.Linear(in_features=2 * hidden_dim, out_features=output_dim)\n",
    "        self.dropout = torch.nn.Dropout(dropout)\n",
    "\n",
    "    def forward(self, inputs):\n",
    "        out = self.word_embeddings(inputs)\n",
    "        out, _ = self.lstm(out)\n",
    "        out = self.dropout(out)\n",
    "        out = torch.mean(out, dim=1)  # Average pooling over the seq len\n",
    "        out = self.fc(out)\n",
    "        return out"
   ]
  },
  {
   "cell_type": "markdown",
   "metadata": {
    "id": "xLeJwOVBKy_4"
   },
   "source": [
    "# Task 5: Training and Evaluation\n",
    "\n",
    "* Train **all** models on the train set.\n",
    "* Evaluate **all** models on the validation set.\n",
    "* Compute metrics on the validation set.\n",
    "* Pick **at least** three seeds for robust estimation.\n",
    "* Pick the **best** performing model according to the observed validation set performance.\n",
    "* Evaluate your models using macro F1-score."
   ]
  },
  {
   "cell_type": "code",
   "execution_count": null,
   "metadata": {},
   "outputs": [],
   "source": [
    "class LSTM_network():\n",
    "    def __init__(self, name, seed: int, detector : SexismDetector, device, embedding_model, embedding_model_aug, hidden_dim, output_dim, lstm_layers, dropout):\n",
    "        self.name = name\n",
    "\n",
    "        self.seed = seed\n",
    "        self.__set_seed(seed)\n",
    "\n",
    "        self.device = device\n",
    "        self.network = BaselineModel(embedding_model, detector, hidden_dim, output_dim, lstm_layers, dropout)\n",
    "        self.network.to(device)\n",
    "        self.detector = detector\n",
    "        self.__embedding_model_aug = embedding_model_aug\n",
    "        self.history = None\n",
    "\n",
    "        self.trained = False\n",
    "\n",
    "    def __set_seed(self, seed):\n",
    "        os.environ[\"CUBLAS_WORKSPACE_CONFIG\"] = \":4096:8\"\n",
    "        torch.cuda.manual_seed(seed)\n",
    "        np.random.seed(seed)\n",
    "\n",
    "    def plot_history(self):\n",
    "        if self.trained:\n",
    "            fig, axes = plt.subplots(1, 3, figsize=(18, 5))\n",
    "            baseline_model_name = self.history['model'] == self.name\n",
    "            self.history[baseline_model_name].plot(x='epoch', y=['train_loss', 'val_loss'], title='Loss', ax=axes[0])\n",
    "            self.history[baseline_model_name].plot(x='epoch', y=['train_acc', 'val_acc'], title='Accuracy', ax=axes[1])\n",
    "            self.history[baseline_model_name].plot(x='epoch', y='learning_rate', title='Learning Rate', ax=axes[2], logy=True)\n",
    "\n",
    "            plt.tight_layout()\n",
    "            plt.show()\n",
    "        else:\n",
    "            raise Exception(\"You need to train the model first!\")\n",
    "\n",
    "    def train(self, train, val, epochs, batch_size, lr, verbose=True):\n",
    "        # Preparation\n",
    "        train_dloader = self.detector.get_dataloader(data=train,\n",
    "                                                     embedding_model=self.__embedding_model_aug,\n",
    "                                                     type=\"train\",\n",
    "                                                     batch_size=batch_size,\n",
    "                                                     shuffle=True)\n",
    "\n",
    "        val_dloader = self.detector.get_dataloader(data=val,\n",
    "                                                     embedding_model=self.__embedding_model_aug,\n",
    "                                                     type=\"val\",\n",
    "                                                     batch_size=batch_size,\n",
    "                                                     shuffle=True)\n",
    "                                            \n",
    "\n",
    "        history = pd.DataFrame(columns=['model', 'epoch', 'train_loss', 'val_loss', 'train_acc', 'val_acc', 'learning_rate'])\n",
    "        \n",
    "        #Queste cose le ho messe qua se no c'era l'init che era con 10000 parametri\n",
    "        #Tra cui il test,train e val set, che secondo me stanno meglio quando chiami il train\n",
    "\n",
    "        class_weights = compute_class_weight(class_weight='balanced', classes=np.unique(train['label']), y=train['label'])\n",
    "        class_weights_tensor = torch.tensor(class_weights, dtype=torch.float32)\n",
    "        loss_function = torch.nn.CrossEntropyLoss(\n",
    "            weight=class_weights_tensor.to(device), \n",
    "            ignore_index=self.__embedding_model_aug.get_index(self.detector.PAD_TOKEN)\n",
    "        )\n",
    "\n",
    "        optimizer = torch.optim.AdamW(self.network.parameters(), lr=lr, weight_decay=1e-5)\n",
    "        scheduler = torch.optim.lr_scheduler.ReduceLROnPlateau(optimizer, mode='min', factor=0.1, patience=10)\n",
    "\n",
    "        # Training loop\n",
    "\n",
    "        # Initialize parameters of Early stopping\n",
    "        best_val_loss = np.inf\n",
    "        best_model = None\n",
    "        best_model_epoch = 0\n",
    "        best_f1_score = 0\n",
    "\n",
    "\n",
    "        # Train the model\n",
    "        for epoch in range(epochs):\n",
    "            # Initialize the training variables for each epoch\n",
    "            train_correct = 0\n",
    "            train_total = 0\n",
    "\n",
    "            # Set the model to training mode\n",
    "            self.network.train()\n",
    "            # Iterate over the training data in batches\n",
    "            for batch in train_dloader:\n",
    "                # Get the inputs and labels\n",
    "                sentences, labels = batch\n",
    "                # Move the inputs and labels to the device (GPU)\n",
    "                sentences = sentences.to(device)\n",
    "                labels = labels.to(device)  # Labels should be integers for CrossEntropyLoss\n",
    "\n",
    "                # Zero grad the optimizer\n",
    "                optimizer.zero_grad()\n",
    "\n",
    "                # Forward pass\n",
    "                output = self.network(sentences)\n",
    "\n",
    "                # Compute the loss\n",
    "                loss = loss_function(output, labels)\n",
    "\n",
    "                # Backward pass\n",
    "                loss.backward()\n",
    "\n",
    "                # Adjust learning weights\n",
    "                optimizer.step()\n",
    "\n",
    "                # Compute the accuracy\n",
    "                predicted = torch.argmax(output, dim=1)\n",
    "                train_total += labels.size(0)\n",
    "                train_correct += (predicted == labels).sum().item()\n",
    "\n",
    "            # Validation phase\n",
    "            self.network.eval()\n",
    "            final_val_loss = 0\n",
    "            val_correct = 0\n",
    "            val_total = 0\n",
    "\n",
    "            predicted_arr = []\n",
    "            labels_arr = []\n",
    "\n",
    "            with torch.no_grad():\n",
    "                for batch in val_dloader:\n",
    "                    sentence, labels = batch\n",
    "                    sentence = sentence.to(device)\n",
    "                    labels = labels.to(device)\n",
    "\n",
    "                    output = self.network(sentence)\n",
    "                    val_loss = loss_function(output, labels)\n",
    "\n",
    "                    final_val_loss += val_loss.item()\n",
    "\n",
    "                    # Apply sigmoid to logits before thresholding\n",
    "                    predicted = torch.argmax(output, dim=1)\n",
    "\n",
    "                    val_total += labels.size(0)\n",
    "                    val_correct += (predicted == labels).sum().item()\n",
    "\n",
    "                    # Store predictions and true labels\n",
    "                    predicted_arr.append(predicted)\n",
    "                    labels_arr.append(labels)\n",
    "\n",
    "            # Concatenate tensors\n",
    "            predicted_arr = torch.cat(predicted_arr, dim=0).cpu().numpy()\n",
    "            labels_arr = torch.cat(labels_arr, dim=0).cpu().numpy()\n",
    "\n",
    "            # Compute the macro F1 score\n",
    "            f1 = f1_score(y_true=labels_arr, y_pred=predicted_arr, average='macro')\n",
    "\n",
    "            # Update the learning rate\n",
    "            scheduler.step(final_val_loss)\n",
    "\n",
    "            # Early stopping\n",
    "            if final_val_loss < best_val_loss:\n",
    "                best_val_loss = final_val_loss\n",
    "                best_model = copy.deepcopy(self.network.state_dict())\n",
    "                best_model_epoch = epoch\n",
    "                best_f1_score = f1\n",
    "\n",
    "            if verbose:\n",
    "                print(f\"Epoch {epoch + 1}/{epochs}\\tLoss: {loss.item():.4f}\\tAcc: {train_correct / train_total:.4f}\\tVal Loss: {final_val_loss:.4f}\\tVal Acc: {val_correct / val_total:.4f}\\tmacro_f1: {f1:.4f}\\tlr: {scheduler.get_last_lr()[0]:.7f}\")\n",
    "\n",
    "            # Save the history\n",
    "            history.loc[len(history)] = [self.name, epoch + 1, loss.item(), final_val_loss, train_correct / train_total, val_correct / val_total, scheduler.get_last_lr()[0]]\n",
    "\n",
    "        # Restore the best model\n",
    "        self.network.load_state_dict(best_model)\n",
    "        print(f\"Best model found at epoch {best_model_epoch + 1} with validation loss: {best_val_loss:.4f} and f1 sore: {best_f1_score:.4f}\")\n",
    "\n",
    "        # Save the best model\n",
    "        torch.save(self.network.state_dict(), detector.MODEL_FOLDER / f'{self.name}.pth')\n",
    "\n",
    "        #Save the history\n",
    "        self.history = history\n",
    "        self.trained = True\n",
    "\n",
    "        #Return the history\n",
    "        return history\n",
    "\n",
    "    def test(self, test, batch_size):\n",
    "        if not self.trained:\n",
    "            print(\"WARNING: network is not trained yet!\")\n",
    "\n",
    "        test_dloader = self.detector.get_dataloader(data=test,\n",
    "                                                     embedding_model=self.__embedding_model_aug,\n",
    "                                                     type=\"test\",\n",
    "                                                     batch_size=batch_size,\n",
    "                                                     shuffle=True)\n",
    "        #TODO: create test code\n",
    "        pass"
   ]
  },
  {
   "cell_type": "markdown",
   "metadata": {
    "id": "cBXBJcKKKy_5"
   },
   "source": [
    "# Baseline Model"
   ]
  },
  {
   "cell_type": "code",
   "execution_count": null,
   "metadata": {},
   "outputs": [],
   "source": [
    "net1 = LSTM_network(\"first\",\n",
    "                    1337,\n",
    "                    detector,\n",
    "                    device,\n",
    "                    emb_model, \n",
    "                    emb_model_augmented, \n",
    "                    hidden_dim=HIDDEN_DIM, \n",
    "                    output_dim=2, \n",
    "                    lstm_layers=1, \n",
    "                    dropout=0.4)"
   ]
  },
  {
   "cell_type": "code",
   "execution_count": null,
   "metadata": {},
   "outputs": [],
   "source": [
    "hist = net1.train(train, val, EPOCHS, BATCH_SIZE, LEARNING_RATE, True)"
   ]
  },
  {
   "cell_type": "code",
   "execution_count": null,
   "metadata": {},
   "outputs": [],
   "source": [
    "net1.plot_history()"
   ]
  },
  {
   "cell_type": "code",
   "execution_count": null,
   "metadata": {},
   "outputs": [],
   "source": [
    "with torch.no_grad():\n",
    "    torch.cuda.empty_cache()\n",
    "\n",
    "gc.collect()"
   ]
  },
  {
   "cell_type": "code",
   "execution_count": null,
   "metadata": {
    "colab": {
     "base_uri": "https://localhost:8080/"
    },
    "id": "RDczJU7uC7t6",
    "outputId": "9634aff7-5d98-476b-ff02-1223ece72bb8"
   },
   "outputs": [
    {
     "data": {
      "text/plain": [
       "28367"
      ]
     },
     "execution_count": 198,
     "metadata": {},
     "output_type": "execute_result"
    }
   ],
   "source": [
    "with torch.no_grad():\n",
    "    torch.cuda.empty_cache()\n",
    "\n",
    "gc.collect()"
   ]
  },
  {
   "cell_type": "markdown",
   "metadata": {
    "id": "nS5EXPDeKy_7"
   },
   "source": [
    "# Model 1"
   ]
  },
  {
   "cell_type": "code",
   "execution_count": null,
   "metadata": {
    "colab": {
     "base_uri": "https://localhost:8080/"
    },
    "id": "aRw48-ZsKy_8",
    "outputId": "0dbbc8dd-3910-497d-dafc-3d951d02edef"
   },
   "outputs": [
    {
     "data": {
      "text/plain": [
       "BaselineModel(\n",
       "  (word_embeddings): Embedding(1194284, 50, padding_idx=1194283)\n",
       "  (lstm): LSTM(50, 128, num_layers=2, batch_first=True, bidirectional=True)\n",
       "  (fc): Linear(in_features=256, out_features=2, bias=True)\n",
       "  (dropout): Dropout(p=0.3, inplace=False)\n",
       ")"
      ]
     },
     "execution_count": 199,
     "metadata": {},
     "output_type": "execute_result"
    }
   ],
   "source": [
    "model1 = BaselineModel(emb_model_augmented, hidden_dim=HIDDEN_DIM, lstm_layers=2, output_dim=2)\n",
    "model1.to(device)"
   ]
  },
  {
   "cell_type": "code",
   "execution_count": null,
   "metadata": {
    "id": "vXpnXKlpKy_8"
   },
   "outputs": [],
   "source": [
    "loss_function = torch.nn.CrossEntropyLoss(weight=class_weights_tensor, ignore_index=emb_model_augmented.get_index(detector.PAD_TOKEN))\n",
    "optimizer = torch.optim.AdamW(model1.parameters(), lr=LEARNING_RATE, weight_decay=1e-5)\n",
    "scheduler = torch.optim.lr_scheduler.ReduceLROnPlateau(optimizer, mode='min', factor=0.1, patience=10)"
   ]
  },
  {
   "cell_type": "code",
   "execution_count": null,
   "metadata": {
    "colab": {
     "base_uri": "https://localhost:8080/"
    },
    "id": "nju7RDDEKy_8",
    "outputId": "3b28395f-66fd-4568-97ff-c931de1c631c"
   },
   "outputs": [
    {
     "name": "stdout",
     "output_type": "stream",
     "text": [
      "Epoch 1/50\tLoss: 0.6936\tAcc: 0.4003\tVal Loss: 1.3828\tVal Acc: 0.5633\tmacro_f1: 0.5633\tlr: 0.0001000\n",
      "Epoch 2/50\tLoss: 0.6897\tAcc: 0.6153\tVal Loss: 1.3787\tVal Acc: 0.6582\tmacro_f1: 0.5622\tlr: 0.0001000\n",
      "Epoch 3/50\tLoss: 0.6925\tAcc: 0.6279\tVal Loss: 1.3686\tVal Acc: 0.6962\tmacro_f1: 0.6707\tlr: 0.0001000\n",
      "Epoch 4/50\tLoss: 0.6806\tAcc: 0.6003\tVal Loss: 1.3487\tVal Acc: 0.6203\tmacro_f1: 0.6202\tlr: 0.0001000\n",
      "Epoch 5/50\tLoss: 0.6519\tAcc: 0.5997\tVal Loss: 1.2628\tVal Acc: 0.6709\tmacro_f1: 0.6655\tlr: 0.0001000\n",
      "Epoch 6/50\tLoss: 0.6682\tAcc: 0.6460\tVal Loss: 1.1554\tVal Acc: 0.7089\tmacro_f1: 0.6994\tlr: 0.0001000\n",
      "Epoch 7/50\tLoss: 0.5722\tAcc: 0.6791\tVal Loss: 1.2318\tVal Acc: 0.7342\tmacro_f1: 0.7096\tlr: 0.0001000\n",
      "Epoch 8/50\tLoss: 0.6766\tAcc: 0.7101\tVal Loss: 1.1764\tVal Acc: 0.7405\tmacro_f1: 0.7381\tlr: 0.0001000\n",
      "Epoch 9/50\tLoss: 0.6910\tAcc: 0.7129\tVal Loss: 1.1684\tVal Acc: 0.7215\tmacro_f1: 0.6932\tlr: 0.0001000\n",
      "Epoch 10/50\tLoss: 0.4926\tAcc: 0.7303\tVal Loss: 1.0468\tVal Acc: 0.6962\tmacro_f1: 0.6958\tlr: 0.0001000\n",
      "Epoch 11/50\tLoss: 0.5919\tAcc: 0.7317\tVal Loss: 1.1683\tVal Acc: 0.7848\tmacro_f1: 0.7778\tlr: 0.0001000\n",
      "Epoch 12/50\tLoss: 0.5763\tAcc: 0.7369\tVal Loss: 1.0153\tVal Acc: 0.7468\tmacro_f1: 0.7435\tlr: 0.0001000\n",
      "Epoch 13/50\tLoss: 0.6276\tAcc: 0.7352\tVal Loss: 0.9674\tVal Acc: 0.7785\tmacro_f1: 0.7728\tlr: 0.0001000\n",
      "Epoch 14/50\tLoss: 0.6358\tAcc: 0.7376\tVal Loss: 1.0575\tVal Acc: 0.7848\tmacro_f1: 0.7778\tlr: 0.0001000\n",
      "Epoch 15/50\tLoss: 0.4911\tAcc: 0.7474\tVal Loss: 1.1032\tVal Acc: 0.7911\tmacro_f1: 0.7849\tlr: 0.0001000\n",
      "Epoch 16/50\tLoss: 0.5508\tAcc: 0.7523\tVal Loss: 0.9482\tVal Acc: 0.7468\tmacro_f1: 0.7442\tlr: 0.0001000\n",
      "Epoch 17/50\tLoss: 0.4496\tAcc: 0.7376\tVal Loss: 0.9896\tVal Acc: 0.7785\tmacro_f1: 0.7696\tlr: 0.0001000\n",
      "Epoch 18/50\tLoss: 0.4891\tAcc: 0.7453\tVal Loss: 0.9194\tVal Acc: 0.7342\tmacro_f1: 0.7335\tlr: 0.0001000\n",
      "Epoch 19/50\tLoss: 0.4945\tAcc: 0.7502\tVal Loss: 1.0299\tVal Acc: 0.7848\tmacro_f1: 0.7788\tlr: 0.0001000\n",
      "Epoch 20/50\tLoss: 0.5509\tAcc: 0.7540\tVal Loss: 1.0665\tVal Acc: 0.7658\tmacro_f1: 0.7624\tlr: 0.0001000\n",
      "Epoch 21/50\tLoss: 0.5152\tAcc: 0.7533\tVal Loss: 0.9994\tVal Acc: 0.7595\tmacro_f1: 0.7556\tlr: 0.0001000\n",
      "Epoch 22/50\tLoss: 0.5598\tAcc: 0.7564\tVal Loss: 0.9084\tVal Acc: 0.7722\tmacro_f1: 0.7658\tlr: 0.0001000\n",
      "Epoch 23/50\tLoss: 0.5187\tAcc: 0.7554\tVal Loss: 1.0102\tVal Acc: 0.7658\tmacro_f1: 0.7624\tlr: 0.0001000\n",
      "Epoch 24/50\tLoss: 0.4622\tAcc: 0.7617\tVal Loss: 1.0322\tVal Acc: 0.7785\tmacro_f1: 0.7745\tlr: 0.0001000\n",
      "Epoch 25/50\tLoss: 0.4996\tAcc: 0.7638\tVal Loss: 0.8377\tVal Acc: 0.7785\tmacro_f1: 0.7745\tlr: 0.0001000\n",
      "Epoch 26/50\tLoss: 0.5641\tAcc: 0.7624\tVal Loss: 0.8724\tVal Acc: 0.7532\tmacro_f1: 0.7524\tlr: 0.0001000\n",
      "Epoch 27/50\tLoss: 0.3771\tAcc: 0.7554\tVal Loss: 0.9566\tVal Acc: 0.7658\tmacro_f1: 0.7637\tlr: 0.0001000\n",
      "Epoch 28/50\tLoss: 0.6632\tAcc: 0.7599\tVal Loss: 1.1762\tVal Acc: 0.7722\tmacro_f1: 0.7698\tlr: 0.0001000\n",
      "Epoch 29/50\tLoss: 0.4863\tAcc: 0.7589\tVal Loss: 0.9192\tVal Acc: 0.7722\tmacro_f1: 0.7703\tlr: 0.0001000\n",
      "Epoch 30/50\tLoss: 0.4317\tAcc: 0.7676\tVal Loss: 0.9702\tVal Acc: 0.7722\tmacro_f1: 0.7708\tlr: 0.0001000\n",
      "Epoch 31/50\tLoss: 0.6856\tAcc: 0.7582\tVal Loss: 1.1049\tVal Acc: 0.7785\tmacro_f1: 0.7737\tlr: 0.0001000\n",
      "Epoch 32/50\tLoss: 0.4403\tAcc: 0.7652\tVal Loss: 0.8982\tVal Acc: 0.7785\tmacro_f1: 0.7759\tlr: 0.0001000\n",
      "Epoch 33/50\tLoss: 0.6221\tAcc: 0.7686\tVal Loss: 0.9336\tVal Acc: 0.7722\tmacro_f1: 0.7703\tlr: 0.0001000\n",
      "Epoch 34/50\tLoss: 0.5195\tAcc: 0.7697\tVal Loss: 1.1890\tVal Acc: 0.7468\tmacro_f1: 0.7462\tlr: 0.0001000\n",
      "Epoch 35/50\tLoss: 0.3812\tAcc: 0.7589\tVal Loss: 0.9996\tVal Acc: 0.7722\tmacro_f1: 0.7668\tlr: 0.0001000\n",
      "Epoch 36/50\tLoss: 0.4247\tAcc: 0.7725\tVal Loss: 1.0654\tVal Acc: 0.7722\tmacro_f1: 0.7676\tlr: 0.0000100\n",
      "Epoch 37/50\tLoss: 0.4459\tAcc: 0.7746\tVal Loss: 1.1939\tVal Acc: 0.7658\tmacro_f1: 0.7631\tlr: 0.0000100\n",
      "Epoch 38/50\tLoss: 0.5098\tAcc: 0.7749\tVal Loss: 1.1060\tVal Acc: 0.7722\tmacro_f1: 0.7692\tlr: 0.0000100\n",
      "Epoch 39/50\tLoss: 0.5215\tAcc: 0.7777\tVal Loss: 0.8983\tVal Acc: 0.7658\tmacro_f1: 0.7631\tlr: 0.0000100\n",
      "Epoch 40/50\tLoss: 0.4345\tAcc: 0.7774\tVal Loss: 0.9912\tVal Acc: 0.7722\tmacro_f1: 0.7692\tlr: 0.0000100\n",
      "Epoch 41/50\tLoss: 0.3622\tAcc: 0.7791\tVal Loss: 1.1950\tVal Acc: 0.7722\tmacro_f1: 0.7692\tlr: 0.0000100\n",
      "Epoch 42/50\tLoss: 0.6281\tAcc: 0.7787\tVal Loss: 0.9688\tVal Acc: 0.7722\tmacro_f1: 0.7692\tlr: 0.0000100\n",
      "Epoch 43/50\tLoss: 0.4645\tAcc: 0.7767\tVal Loss: 1.1019\tVal Acc: 0.7722\tmacro_f1: 0.7692\tlr: 0.0000100\n",
      "Epoch 44/50\tLoss: 0.4049\tAcc: 0.7787\tVal Loss: 0.8850\tVal Acc: 0.7785\tmacro_f1: 0.7752\tlr: 0.0000100\n",
      "Epoch 45/50\tLoss: 0.5089\tAcc: 0.7760\tVal Loss: 0.8934\tVal Acc: 0.7785\tmacro_f1: 0.7752\tlr: 0.0000100\n",
      "Epoch 46/50\tLoss: 0.4929\tAcc: 0.7746\tVal Loss: 1.0392\tVal Acc: 0.7722\tmacro_f1: 0.7684\tlr: 0.0000100\n",
      "Epoch 47/50\tLoss: 0.4391\tAcc: 0.7753\tVal Loss: 1.1007\tVal Acc: 0.7785\tmacro_f1: 0.7745\tlr: 0.0000010\n",
      "Epoch 48/50\tLoss: 0.5381\tAcc: 0.7801\tVal Loss: 0.9636\tVal Acc: 0.7722\tmacro_f1: 0.7684\tlr: 0.0000010\n",
      "Epoch 49/50\tLoss: 0.4716\tAcc: 0.7812\tVal Loss: 0.9032\tVal Acc: 0.7785\tmacro_f1: 0.7752\tlr: 0.0000010\n",
      "Epoch 50/50\tLoss: 0.4605\tAcc: 0.7787\tVal Loss: 0.9477\tVal Acc: 0.7785\tmacro_f1: 0.7752\tlr: 0.0000010\n",
      "Best model found at epoch 25 with validation loss: 0.8377 and f1 sore: 0.7745\n"
     ]
    }
   ],
   "source": [
    "history_model1 = train_model(model1, train_dloader, val_dloader, loss_function, optimizer, scheduler, num_epochs=EPOCHS, name='model1', verbose=True)"
   ]
  },
  {
   "cell_type": "code",
   "execution_count": null,
   "metadata": {
    "colab": {
     "base_uri": "https://localhost:8080/",
     "height": 507
    },
    "id": "WrHRmdGdKy_8",
    "outputId": "0d6ccbc6-094c-43f9-9cbf-68cdb2d51752"
   },
   "outputs": [
    {
     "data": {
      "image/png": "[encoded data removed]",
      "text/plain": [
       "<Figure size 1800x500 with 3 Axes>"
      ]
     },
     "metadata": {},
     "output_type": "display_data"
    }
   ],
   "source": [
    "fig, axes = plt.subplots(1, 3, figsize=(18, 5))\n",
    "\n",
    "baseline_model_name = history['model'] == 'model1'\n",
    "\n",
    "history[baseline_model_name].plot(x='epoch', y=['train_loss', 'val_loss'], title='Loss', ax=axes[0])\n",
    "history[baseline_model_name].plot(x='epoch', y=['train_acc', 'val_acc'], title='Accuracy', ax=axes[1])\n",
    "history[baseline_model_name].plot(x='epoch', y='learning_rate', title='Learning Rate', ax=axes[2], logy=True)\n",
    "\n",
    "plt.tight_layout()\n",
    "plt.show()"
   ]
  },
  {
   "cell_type": "code",
   "execution_count": 529,
   "metadata": {
    "colab": {
     "base_uri": "https://localhost:8080/"
    },
    "id": "ZvbJU5ZeC7t7",
    "outputId": "1ac1e65e-5718-40a4-b142-ef0d32326af3"
   },
   "outputs": [
    {
     "data": {
      "text/plain": [
       "64"
      ]
     },
     "execution_count": 529,
     "metadata": {},
     "output_type": "execute_result"
    }
   ],
   "source": [
    "with torch.no_grad():\n",
    "    torch.cuda.empty_cache()\n",
    "\n",
    "gc.collect()"
   ]
  },
  {
   "cell_type": "markdown",
   "metadata": {
    "id": "_849c_EG-bRK"
   },
   "source": [
    "# Task 6: Transformers\n",
    "\n",
    "https://huggingface.co/cardiffnlp/twitter-roberta-base-hate"
   ]
  },
  {
   "cell_type": "markdown",
   "metadata": {
    "id": "eAAOAuYAKy_9"
   },
   "source": [
    "1. **Load the Tokenizer and Model**\n",
    "\n",
    "2. **Preprocess the Dataset**:\n",
    "   You will need to preprocess your dataset to prepare it for input into the model. Tokenize your text data using the appropriate tokenizer and ensure it is formatted correctly.\n",
    "\n",
    "   **Note**: You have to use the plain text of the dataset and not the version that you tokenized before, as you need to tokenize the cleaned text obtained after the initial cleaning process.\n",
    "\n",
    "3. **Train the Model**:\n",
    "   Use the `Trainer` to train the model on your training data.\n",
    "\n",
    "4. **Evaluate the Model on the Test Set** using F1-macro."
   ]
  },
  {
   "cell_type": "code",
   "execution_count": 41,
   "metadata": {},
   "outputs": [],
   "source": [
    "from roberta import roBERTa"
   ]
  },
  {
   "cell_type": "markdown",
   "metadata": {},
   "source": [
    "Instantiate the class with seed and class weights to ensure reproducibility of the results."
   ]
  },
  {
   "cell_type": "code",
   "execution_count": 43,
   "metadata": {},
   "outputs": [],
   "source": [
    "model_card = 'cardiffnlp/twitter-roberta-base-hate'\n",
    "transformer = roBERTa(model_card, class_weights=class_weights_tensor, seed=1337)"
   ]
  },
  {
   "cell_type": "markdown",
   "metadata": {},
   "source": [
    "In case of previous runs, we can clear the cache to free up memory as well as call the garbage collector to free up memory."
   ]
  },
  {
   "cell_type": "code",
   "execution_count": 44,
   "metadata": {
    "colab": {
     "base_uri": "https://localhost:8080/"
    },
    "id": "bn7tGuv7C7t7",
    "outputId": "63d9a218-94cd-4b02-8c0f-76c9ddc5bf2a"
   },
   "outputs": [],
   "source": [
    "transformer.clear_cache()"
   ]
  },
  {
   "cell_type": "code",
   "execution_count": 45,
   "metadata": {
    "id": "wmyoK7ToKy_9"
   },
   "outputs": [],
   "source": [
    "tokenizer = transformer.get_tokenizer()"
   ]
  },
  {
   "cell_type": "code",
   "execution_count": 46,
   "metadata": {
    "id": "Xm9q59AUKy_-"
   },
   "outputs": [],
   "source": [
    "train_data = transformer.get_dataset(train)\n",
    "val_data = transformer.get_dataset(val)\n",
    "test_data = transformer.get_dataset(test)"
   ]
  },
  {
   "cell_type": "code",
   "execution_count": 48,
   "metadata": {
    "colab": {
     "base_uri": "https://localhost:8080/",
     "height": 130,
     "referenced_widgets": [
      "ad2fdbff9bb94a428d4d9bba26a9227a",
      "f3f07832d759492fbbbb8b122358421d",
      "d9f8ee15420a4fab9b2e458344c0393b",
      "3ac29ea09e5c4f8db9657e56a1d12a6c",
      "4312146943be4263a594c15a0df095a1",
      "e314abf17ead42158468f5d0847f25cd",
      "392b67ddfb28405997e480da9608c65f",
      "a678740f297846a9ba51343ef9acccb7",
      "a501948a177942118b9b9f0bdfdd92b6",
      "a360ce1b71c74c569d5d16b818e15d10",
      "ed24a4a107564712b5239f68fe8b807f",
      "14d960b7685f4c24af674b53167820c0",
      "14022f99a32c4f5eb2a60adde2157e2c",
      "e7ec1d78fc9349e780b4c67aef084c81",
      "76e3d0f5fad6467d8ecde4d8d2b28a73",
      "99ae46da3b984572a92a4031f36ec845",
      "d160fc03521b429e9c6a2f71978f5697",
      "0fd8d961f74940998a6dcadd9ca11020",
      "010af9ad50c342aa8ffd390913656783",
      "37f6e3a55fae4e89b226d65799c056ae",
      "dfb7f13e3f104a0292e083a58fa39623",
      "a0740bcd833f480cb5b80b66176ee355",
      "4c6bc25ec6fe43449db337905e28f7a8",
      "41913e5ec0fd471fb19467573ed0c4c8",
      "baec7636b03b400284fc84d2dd0f059f",
      "67a557cd7c8141a3a3e004703bc853df",
      "d17b118594574bdcae63d547485ee16b",
      "6164ba82b8ab4195bf77e0db1c3d4e54",
      "d92a05827a4f4617a01a029eebdb2e4b",
      "9b749ee0bea046a0bd2569f95dd3629e",
      "78395c4346574282b7b3e7dfaca0f4ee",
      "8df32711e7c340ccbf3d92d65f981421",
      "dcaa7a024ddb4c19b25b6ad837e8f278"
     ]
    },
    "id": "9iUuHtPkKy_-",
    "outputId": "4343d55e-6735-4572-8e98-dbee19645da9"
   },
   "outputs": [
    {
     "data": {
      "application/vnd.jupyter.widget-view+json": {
       "model_id": "8f0a187474c743d58a72f1bfd3aa83d0",
       "version_major": 2,
       "version_minor": 0
      },
      "text/plain": [
       "Map:   0%|          | 0/2870 [00:00<?, ? examples/s]"
      ]
     },
     "metadata": {},
     "output_type": "display_data"
    },
    {
     "data": {
      "application/vnd.jupyter.widget-view+json": {
       "model_id": "d31f658d7f7c4cc6a5423f49b74c4dd5",
       "version_major": 2,
       "version_minor": 0
      },
      "text/plain": [
       "Map:   0%|          | 0/158 [00:00<?, ? examples/s]"
      ]
     },
     "metadata": {},
     "output_type": "display_data"
    },
    {
     "data": {
      "application/vnd.jupyter.widget-view+json": {
       "model_id": "bfde7bbe1a394672bc0d764f23b89af8",
       "version_major": 2,
       "version_minor": 0
      },
      "text/plain": [
       "Map:   0%|          | 0/286 [00:00<?, ? examples/s]"
      ]
     },
     "metadata": {},
     "output_type": "display_data"
    }
   ],
   "source": [
    "train_data = train_data.map(transformer.preprocess_text, batched=True)\n",
    "val_data = val_data.map(transformer.preprocess_text, batched=True)\n",
    "test_data = test_data.map(transformer.preprocess_text, batched=True)"
   ]
  },
  {
   "cell_type": "code",
   "execution_count": 49,
   "metadata": {
    "colab": {
     "base_uri": "https://localhost:8080/"
    },
    "id": "ul9uJW1NKy__",
    "outputId": "eeed6c9e-68bc-4c28-cf0f-88ab8f928f01"
   },
   "outputs": [
    {
     "name": "stdout",
     "output_type": "stream",
     "text": [
      "Dataset({\n",
      "    features: ['id_EXIST', 'lang', 'tweet', 'label', '__index_level_0__', 'input_ids', 'attention_mask'],\n",
      "    num_rows: 2870\n",
      "})\n",
      "Dataset({\n",
      "    features: ['id_EXIST', 'lang', 'tweet', 'label', '__index_level_0__', 'input_ids', 'attention_mask'],\n",
      "    num_rows: 286\n",
      "})\n"
     ]
    }
   ],
   "source": [
    "print(train_data)\n",
    "print(test_data)"
   ]
  },
  {
   "cell_type": "code",
   "execution_count": 51,
   "metadata": {
    "colab": {
     "base_uri": "https://localhost:8080/"
    },
    "id": "A9KE0IjCKy__",
    "outputId": "abac0cbc-10e4-4209-d8b0-fb4bbd7c5273"
   },
   "outputs": [
    {
     "name": "stdout",
     "output_type": "stream",
     "text": [
      "Original: writing a uni essay in my local pub with a coffee random old man keep asking me drunk question when i m trying to concentrate amp end with good luck but you ll just end up getting married and not use it anyway <hashtag> is alive and well\n",
      "Encoded: [0, 13293, 10, 542, 118, 14700, 11, 127, 400, 8881, 19, 10, 3895, 9624, 793, 313, 489, 1996, 162, 10789, 864, 77, 939, 475, 667, 7, 14410, 28127, 253, 19, 205, 6620, 53, 47, 19385, 95, 253, 62, 562, 2997, 8, 45, 304, 24, 6992, 28696, 25903, 10058, 15698, 16, 4299, 8, 157, 2]\n",
      "Decoded: <s>writing a uni essay in my local pub with a coffee random old man keep asking me drunk question when i m trying to concentrate amp end with good luck but you ll just end up getting married and not use it anyway <hashtag> is alive and well</s>\n"
     ]
    }
   ],
   "source": [
    "transformer.show_encoded_text(data=train_data, idx=0)"
   ]
  },
  {
   "cell_type": "code",
   "execution_count": 53,
   "metadata": {
    "id": "UirlsPDnKy__"
   },
   "outputs": [
    {
     "name": "stderr",
     "output_type": "stream",
     "text": [
      "huggingface/tokenizers: The current process just got forked, after parallelism has already been used. Disabling parallelism to avoid deadlocks...\n",
      "To disable this warning, you can either:\n",
      "\t- Avoid using `tokenizers` before the fork if possible\n",
      "\t- Explicitly set the environment variable TOKENIZERS_PARALLELISM=(true | false)\n"
     ]
    }
   ],
   "source": [
    "model = transformer.get_model(num_labels=2, id2label={0: 'NEG', 1: 'POS'}, label2id={'NEG': 0, 'POS': 1})"
   ]
  },
  {
   "cell_type": "code",
   "execution_count": 54,
   "metadata": {},
   "outputs": [],
   "source": [
    "data_collator = transformer.get_data_collator()"
   ]
  },
  {
   "cell_type": "code",
   "execution_count": 55,
   "metadata": {
    "colab": {
     "base_uri": "https://localhost:8080/"
    },
    "id": "CL2HAsspKzAA",
    "outputId": "5c7d15ce-e7ef-4d40-da95-8d594ac1e932"
   },
   "outputs": [
    {
     "name": "stdout",
     "output_type": "stream",
     "text": [
      "RobertaForSequenceClassification(\n",
      "  (roberta): RobertaModel(\n",
      "    (embeddings): RobertaEmbeddings(\n",
      "      (word_embeddings): Embedding(50265, 768, padding_idx=1)\n",
      "      (position_embeddings): Embedding(514, 768, padding_idx=1)\n",
      "      (token_type_embeddings): Embedding(1, 768)\n",
      "      (LayerNorm): LayerNorm((768,), eps=1e-05, elementwise_affine=True)\n",
      "      (dropout): Dropout(p=0.1, inplace=False)\n",
      "    )\n",
      "    (encoder): RobertaEncoder(\n",
      "      (layer): ModuleList(\n",
      "        (0-11): 12 x RobertaLayer(\n",
      "          (attention): RobertaAttention(\n",
      "            (self): RobertaSdpaSelfAttention(\n",
      "              (query): Linear(in_features=768, out_features=768, bias=True)\n",
      "              (key): Linear(in_features=768, out_features=768, bias=True)\n",
      "              (value): Linear(in_features=768, out_features=768, bias=True)\n",
      "              (dropout): Dropout(p=0.1, inplace=False)\n",
      "            )\n",
      "            (output): RobertaSelfOutput(\n",
      "              (dense): Linear(in_features=768, out_features=768, bias=True)\n",
      "              (LayerNorm): LayerNorm((768,), eps=1e-05, elementwise_affine=True)\n",
      "              (dropout): Dropout(p=0.1, inplace=False)\n",
      "            )\n",
      "          )\n",
      "          (intermediate): RobertaIntermediate(\n",
      "            (dense): Linear(in_features=768, out_features=3072, bias=True)\n",
      "            (intermediate_act_fn): GELUActivation()\n",
      "          )\n",
      "          (output): RobertaOutput(\n",
      "            (dense): Linear(in_features=3072, out_features=768, bias=True)\n",
      "            (LayerNorm): LayerNorm((768,), eps=1e-05, elementwise_affine=True)\n",
      "            (dropout): Dropout(p=0.1, inplace=False)\n",
      "          )\n",
      "        )\n",
      "      )\n",
      "    )\n",
      "  )\n",
      "  (classifier): RobertaClassificationHead(\n",
      "    (dense): Linear(in_features=768, out_features=768, bias=True)\n",
      "    (dropout): Dropout(p=0.1, inplace=False)\n",
      "    (out_proj): Linear(in_features=768, out_features=2, bias=True)\n",
      "  )\n",
      ")\n"
     ]
    }
   ],
   "source": [
    "print(model)"
   ]
  },
  {
   "cell_type": "code",
   "execution_count": 56,
   "metadata": {
    "id": "SsahfUD4KzAA"
   },
   "outputs": [],
   "source": [
    "training_args = transformer.get_training_args(\n",
    "    output_dir=\"models\",                 # where to save model\n",
    "    learning_rate=5e-6,\n",
    "    per_device_train_batch_size=BATCH_SIZE,         # accelerate defines distributed training\n",
    "    per_device_eval_batch_size=BATCH_SIZE,\n",
    "    num_train_epochs=10,\n",
    "    weight_decay=1e-5,\n",
    "    eval_strategy=\"epoch\",           # when to report evaluation metrics/losses\n",
    "    save_strategy=\"epoch\",                 # when to save checkpoint\n",
    "    load_best_model_at_end=True,\n",
    "    report_to='none',                    # disabling wandb (default)\n",
    "    seed=transformer.seed,\n",
    "    data_seed=transformer.seed\n",
    ")"
   ]
  },
  {
   "cell_type": "code",
   "execution_count": 57,
   "metadata": {
    "colab": {
     "base_uri": "https://localhost:8080/",
     "height": 391
    },
    "id": "FthvNMvOKzAA",
    "outputId": "c95c28ec-d486-4725-e168-b1150a28f391"
   },
   "outputs": [],
   "source": [
    "trainer = transformer.get_trainer(model, training_args, train_data, test_data, data_collator)"
   ]
  },
  {
   "cell_type": "code",
   "execution_count": 58,
   "metadata": {
    "id": "3jGdDKRJKzAA"
   },
   "outputs": [
    {
     "data": {
      "text/html": [
       "\n",
       "    <div>\n",
       "      \n",
       "      <progress value='450' max='450' style='width:300px; height:20px; vertical-align: middle;'></progress>\n",
       "      [450/450 04:17, Epoch 10/10]\n",
       "    </div>\n",
       "    <table border=\"1\" class=\"dataframe\">\n",
       "  <thead>\n",
       " <tr style=\"text-align: left;\">\n",
       "      <th>Epoch</th>\n",
       "      <th>Training Loss</th>\n",
       "      <th>Validation Loss</th>\n",
       "      <th>F1</th>\n",
       "      <th>Accuracy</th>\n",
       "      <th>Precision</th>\n",
       "      <th>Recall</th>\n",
       "    </tr>\n",
       "  </thead>\n",
       "  <tbody>\n",
       "    <tr>\n",
       "      <td>1</td>\n",
       "      <td>No log</td>\n",
       "      <td>0.404476</td>\n",
       "      <td>0.811152</td>\n",
       "      <td>0.811189</td>\n",
       "      <td>0.819231</td>\n",
       "      <td>0.821131</td>\n",
       "    </tr>\n",
       "    <tr>\n",
       "      <td>2</td>\n",
       "      <td>No log</td>\n",
       "      <td>0.377718</td>\n",
       "      <td>0.816892</td>\n",
       "      <td>0.818182</td>\n",
       "      <td>0.816029</td>\n",
       "      <td>0.819792</td>\n",
       "    </tr>\n",
       "    <tr>\n",
       "      <td>3</td>\n",
       "      <td>No log</td>\n",
       "      <td>0.366528</td>\n",
       "      <td>0.838203</td>\n",
       "      <td>0.839161</td>\n",
       "      <td>0.837495</td>\n",
       "      <td>0.841915</td>\n",
       "    </tr>\n",
       "    <tr>\n",
       "      <td>4</td>\n",
       "      <td>No log</td>\n",
       "      <td>0.366163</td>\n",
       "      <td>0.848088</td>\n",
       "      <td>0.849650</td>\n",
       "      <td>0.847107</td>\n",
       "      <td>0.849603</td>\n",
       "    </tr>\n",
       "    <tr>\n",
       "      <td>5</td>\n",
       "      <td>No log</td>\n",
       "      <td>0.366967</td>\n",
       "      <td>0.837821</td>\n",
       "      <td>0.839161</td>\n",
       "      <td>0.836754</td>\n",
       "      <td>0.840228</td>\n",
       "    </tr>\n",
       "    <tr>\n",
       "      <td>6</td>\n",
       "      <td>No log</td>\n",
       "      <td>0.358695</td>\n",
       "      <td>0.845238</td>\n",
       "      <td>0.846154</td>\n",
       "      <td>0.844497</td>\n",
       "      <td>0.849008</td>\n",
       "    </tr>\n",
       "    <tr>\n",
       "      <td>7</td>\n",
       "      <td>No log</td>\n",
       "      <td>0.363466</td>\n",
       "      <td>0.851923</td>\n",
       "      <td>0.853147</td>\n",
       "      <td>0.850795</td>\n",
       "      <td>0.854415</td>\n",
       "    </tr>\n",
       "    <tr>\n",
       "      <td>8</td>\n",
       "      <td>No log</td>\n",
       "      <td>0.361547</td>\n",
       "      <td>0.848493</td>\n",
       "      <td>0.849650</td>\n",
       "      <td>0.847412</td>\n",
       "      <td>0.851290</td>\n",
       "    </tr>\n",
       "    <tr>\n",
       "      <td>9</td>\n",
       "      <td>No log</td>\n",
       "      <td>0.365027</td>\n",
       "      <td>0.848298</td>\n",
       "      <td>0.849650</td>\n",
       "      <td>0.847192</td>\n",
       "      <td>0.850446</td>\n",
       "    </tr>\n",
       "    <tr>\n",
       "      <td>10</td>\n",
       "      <td>No log</td>\n",
       "      <td>0.364799</td>\n",
       "      <td>0.848298</td>\n",
       "      <td>0.849650</td>\n",
       "      <td>0.847192</td>\n",
       "      <td>0.850446</td>\n",
       "    </tr>\n",
       "  </tbody>\n",
       "</table><p>"
      ],
      "text/plain": [
       "<IPython.core.display.HTML object>"
      ]
     },
     "metadata": {},
     "output_type": "display_data"
    },
    {
     "data": {
      "text/plain": [
       "TrainOutput(global_step=450, training_loss=0.30338853624131945, metrics={'train_runtime': 258.1659, 'train_samples_per_second': 111.169, 'train_steps_per_second': 1.743, 'total_flos': 1400785786518120.0, 'train_loss': 0.30338853624131945, 'epoch': 10.0})"
      ]
     },
     "execution_count": 58,
     "metadata": {},
     "output_type": "execute_result"
    }
   ],
   "source": [
    "trainer.train()"
   ]
  },
  {
   "cell_type": "code",
   "execution_count": 63,
   "metadata": {
    "id": "ZcGc6SmaC7t-",
    "outputId": "4a2ee065-6c33-471d-fc9a-53e4cea5b184"
   },
   "outputs": [
    {
     "data": {
      "text/html": [],
      "text/plain": [
       "<IPython.core.display.HTML object>"
      ]
     },
     "metadata": {},
     "output_type": "display_data"
    }
   ],
   "source": [
    "test_predictions, test_labels = transformer.get_predictions(trainer, test_data)"
   ]
  },
  {
   "cell_type": "code",
   "execution_count": 64,
   "metadata": {
    "id": "B2SzjtFbC7t-",
    "outputId": "51f3a0d9-e0e3-4494-9839-575e12013f8f"
   },
   "outputs": [
    {
     "name": "stdout",
     "output_type": "stream",
     "text": [
      "{'f1': 0.8452380952380952, 'accuracy': 0.8461538461538461, 'precision': 0.8444966705836271, 'recall': 0.8490079365079365}\n"
     ]
    }
   ],
   "source": [
    "test_metrics = transformer.compute_metrics([test_predictions, test_labels])\n",
    "print(test_metrics)"
   ]
  },
  {
   "cell_type": "markdown",
   "metadata": {
    "id": "qoCoBkHN-bRK"
   },
   "source": [
    "# Task 7: Error Analysis\n",
    "\n",
    "After evaluating the model, perform a brief error analysis:\n",
    "\n",
    " - Review the results and identify common errors.\n",
    "\n",
    " - Summarize your findings regarding the errors and their impact on performance (e.g. but not limited to Out-of-Vocabulary (OOV) words, data imbalance, and performance differences between the custom model and the transformer...)\n",
    " - Suggest possible solutions to address the identified errors."
   ]
  },
  {
   "cell_type": "markdown",
   "metadata": {},
   "source": [
    "Confusion Matrix"
   ]
  },
  {
   "cell_type": "code",
   "execution_count": 65,
   "metadata": {},
   "outputs": [
    {
     "data": {
      "image/png": "[encoded data removed]",
      "text/plain": [
       "<Figure size 640x480 with 2 Axes>"
      ]
     },
     "metadata": {},
     "output_type": "display_data"
    }
   ],
   "source": [
    "transformer.get_confusion_matrix(test_predictions, test_labels)"
   ]
  },
  {
   "cell_type": "markdown",
   "metadata": {},
   "source": [
    "Precision-Recall Curve"
   ]
  },
  {
   "cell_type": "code",
   "execution_count": 66,
   "metadata": {},
   "outputs": [
    {
     "data": {
      "image/png": "[encoded data removed]",
      "text/plain": [
       "<Figure size 640x480 with 1 Axes>"
      ]
     },
     "metadata": {},
     "output_type": "display_data"
    }
   ],
   "source": [
    "transformer.get_precision_recall(predictions=test_predictions, labels=test_labels)"
   ]
  },
  {
   "cell_type": "markdown",
   "metadata": {},
   "source": [
    "Analysis on misclassified tweets, percentage of OOV words, original labels, etc."
   ]
  },
  {
   "cell_type": "code",
   "execution_count": 597,
   "metadata": {
    "id": "1eu5fi73C7t-",
    "outputId": "e85b8875-3bd9-49d6-aad1-898bae003fcb"
   },
   "outputs": [
    {
     "data": {
      "text/html": [
       "<div>\n",
       "<style scoped>\n",
       "    .dataframe tbody tr th:only-of-type {\n",
       "        vertical-align: middle;\n",
       "    }\n",
       "\n",
       "    .dataframe tbody tr th {\n",
       "        vertical-align: top;\n",
       "    }\n",
       "\n",
       "    .dataframe thead th {\n",
       "        text-align: right;\n",
       "    }\n",
       "</style>\n",
       "<table border=\"1\" class=\"dataframe\">\n",
       "  <thead>\n",
       "    <tr style=\"text-align: right;\">\n",
       "      <th></th>\n",
       "      <th>id_EXIST</th>\n",
       "      <th>lang</th>\n",
       "      <th>tweet</th>\n",
       "      <th>number_annotators</th>\n",
       "      <th>annotators</th>\n",
       "      <th>gender_annotators</th>\n",
       "      <th>age_annotators</th>\n",
       "      <th>labels_task1</th>\n",
       "      <th>labels_task2</th>\n",
       "      <th>labels_task3</th>\n",
       "      <th>split</th>\n",
       "    </tr>\n",
       "  </thead>\n",
       "  <tbody>\n",
       "    <tr>\n",
       "      <th>400178</th>\n",
       "      <td>400178</td>\n",
       "      <td>en</td>\n",
       "      <td>1st day at the pool on a beautiful Sunday in N...</td>\n",
       "      <td>6</td>\n",
       "      <td>[Annotator_764, Annotator_765, Annotator_766, ...</td>\n",
       "      <td>[F, F, F, M, M, M]</td>\n",
       "      <td>[18-22, 23-45, 46+, 18-22, 23-45, 46+]</td>\n",
       "      <td>[NO, NO, NO, NO, NO, NO]</td>\n",
       "      <td>[-, -, -, -, -, -]</td>\n",
       "      <td>[[-], [-], [-], [-], [-], [-]]</td>\n",
       "      <td>DEV_EN</td>\n",
       "    </tr>\n",
       "    <tr>\n",
       "      <th>400179</th>\n",
       "      <td>400179</td>\n",
       "      <td>en</td>\n",
       "      <td>“I like your outfit too except when i dress up...</td>\n",
       "      <td>6</td>\n",
       "      <td>[Annotator_805, Annotator_426, Annotator_806, ...</td>\n",
       "      <td>[F, F, F, M, M, M]</td>\n",
       "      <td>[18-22, 23-45, 46+, 18-22, 23-45, 46+]</td>\n",
       "      <td>[YES, YES, YES, YES, YES, NO]</td>\n",
       "      <td>[JUDGEMENTAL, DIRECT, REPORTED, DIRECT, REPORT...</td>\n",
       "      <td>[[OBJECTIFICATION], [OBJECTIFICATION, MISOGYNY...</td>\n",
       "      <td>DEV_EN</td>\n",
       "    </tr>\n",
       "    <tr>\n",
       "      <th>400180</th>\n",
       "      <td>400180</td>\n",
       "      <td>en</td>\n",
       "      <td>@KNasFanFic 🥺💖 same, though!!! the angst just ...</td>\n",
       "      <td>6</td>\n",
       "      <td>[Annotator_795, Annotator_796, Annotator_797, ...</td>\n",
       "      <td>[F, F, F, M, M, M]</td>\n",
       "      <td>[18-22, 23-45, 46+, 18-22, 23-45, 46+]</td>\n",
       "      <td>[NO, NO, NO, NO, NO, NO]</td>\n",
       "      <td>[-, -, -, -, -, -]</td>\n",
       "      <td>[[-], [-], [-], [-], [-], [-]]</td>\n",
       "      <td>DEV_EN</td>\n",
       "    </tr>\n",
       "    <tr>\n",
       "      <th>400181</th>\n",
       "      <td>400181</td>\n",
       "      <td>en</td>\n",
       "      <td>@themaxburns @GOP Fuck that cunt. Tried to vot...</td>\n",
       "      <td>6</td>\n",
       "      <td>[Annotator_795, Annotator_796, Annotator_797, ...</td>\n",
       "      <td>[F, F, F, M, M, M]</td>\n",
       "      <td>[18-22, 23-45, 46+, 18-22, 23-45, 46+]</td>\n",
       "      <td>[NO, YES, YES, YES, YES, YES]</td>\n",
       "      <td>[-, DIRECT, JUDGEMENTAL, DIRECT, DIRECT, DIRECT]</td>\n",
       "      <td>[[-], [IDEOLOGICAL-INEQUALITY, MISOGYNY-NON-SE...</td>\n",
       "      <td>DEV_EN</td>\n",
       "    </tr>\n",
       "    <tr>\n",
       "      <th>400182</th>\n",
       "      <td>400182</td>\n",
       "      <td>en</td>\n",
       "      <td>@ultshunnie u gotta say some shit like “i’ll f...</td>\n",
       "      <td>6</td>\n",
       "      <td>[Annotator_770, Annotator_771, Annotator_772, ...</td>\n",
       "      <td>[F, F, F, M, M, M]</td>\n",
       "      <td>[18-22, 23-45, 46+, 18-22, 23-45, 46+]</td>\n",
       "      <td>[YES, YES, YES, YES, YES, YES]</td>\n",
       "      <td>[DIRECT, REPORTED, DIRECT, DIRECT, JUDGEMENTAL...</td>\n",
       "      <td>[[OBJECTIFICATION, SEXUAL-VIOLENCE], [SEXUAL-V...</td>\n",
       "      <td>DEV_EN</td>\n",
       "    </tr>\n",
       "  </tbody>\n",
       "</table>\n",
       "</div>"
      ],
      "text/plain": [
       "        id_EXIST lang                                              tweet  \\\n",
       "400178    400178   en  1st day at the pool on a beautiful Sunday in N...   \n",
       "400179    400179   en  “I like your outfit too except when i dress up...   \n",
       "400180    400180   en  @KNasFanFic 🥺💖 same, though!!! the angst just ...   \n",
       "400181    400181   en  @themaxburns @GOP Fuck that cunt. Tried to vot...   \n",
       "400182    400182   en  @ultshunnie u gotta say some shit like “i’ll f...   \n",
       "\n",
       "        number_annotators                                         annotators  \\\n",
       "400178                  6  [Annotator_764, Annotator_765, Annotator_766, ...   \n",
       "400179                  6  [Annotator_805, Annotator_426, Annotator_806, ...   \n",
       "400180                  6  [Annotator_795, Annotator_796, Annotator_797, ...   \n",
       "400181                  6  [Annotator_795, Annotator_796, Annotator_797, ...   \n",
       "400182                  6  [Annotator_770, Annotator_771, Annotator_772, ...   \n",
       "\n",
       "         gender_annotators                          age_annotators  \\\n",
       "400178  [F, F, F, M, M, M]  [18-22, 23-45, 46+, 18-22, 23-45, 46+]   \n",
       "400179  [F, F, F, M, M, M]  [18-22, 23-45, 46+, 18-22, 23-45, 46+]   \n",
       "400180  [F, F, F, M, M, M]  [18-22, 23-45, 46+, 18-22, 23-45, 46+]   \n",
       "400181  [F, F, F, M, M, M]  [18-22, 23-45, 46+, 18-22, 23-45, 46+]   \n",
       "400182  [F, F, F, M, M, M]  [18-22, 23-45, 46+, 18-22, 23-45, 46+]   \n",
       "\n",
       "                          labels_task1  \\\n",
       "400178        [NO, NO, NO, NO, NO, NO]   \n",
       "400179   [YES, YES, YES, YES, YES, NO]   \n",
       "400180        [NO, NO, NO, NO, NO, NO]   \n",
       "400181   [NO, YES, YES, YES, YES, YES]   \n",
       "400182  [YES, YES, YES, YES, YES, YES]   \n",
       "\n",
       "                                             labels_task2  \\\n",
       "400178                                 [-, -, -, -, -, -]   \n",
       "400179  [JUDGEMENTAL, DIRECT, REPORTED, DIRECT, REPORT...   \n",
       "400180                                 [-, -, -, -, -, -]   \n",
       "400181   [-, DIRECT, JUDGEMENTAL, DIRECT, DIRECT, DIRECT]   \n",
       "400182  [DIRECT, REPORTED, DIRECT, DIRECT, JUDGEMENTAL...   \n",
       "\n",
       "                                             labels_task3   split  \n",
       "400178                     [[-], [-], [-], [-], [-], [-]]  DEV_EN  \n",
       "400179  [[OBJECTIFICATION], [OBJECTIFICATION, MISOGYNY...  DEV_EN  \n",
       "400180                     [[-], [-], [-], [-], [-], [-]]  DEV_EN  \n",
       "400181  [[-], [IDEOLOGICAL-INEQUALITY, MISOGYNY-NON-SE...  DEV_EN  \n",
       "400182  [[OBJECTIFICATION, SEXUAL-VIOLENCE], [SEXUAL-V...  DEV_EN  "
      ]
     },
     "execution_count": 597,
     "metadata": {},
     "output_type": "execute_result"
    }
   ],
   "source": [
    "test_copy.head()"
   ]
  },
  {
   "cell_type": "code",
   "execution_count": 73,
   "metadata": {
    "id": "Z8zDRXiNC7t_",
    "outputId": "467c905d-624d-4688-82ed-caf452322a17"
   },
   "outputs": [
    {
     "name": "stdout",
     "output_type": "stream",
     "text": [
      "Found 44 errors out of 286 samples.\n",
      "\n",
      "                Contains OOV: {'gangbanged', 'wouldn', '<url>'}\n",
      "                Tweet: i mean i do but wouldn t it be fun to get gangbanged together <url>\n",
      "                Predicted: [-0.69483227  0.46991426]\n",
      "                True Label: 0\n",
      "                Raw Labels: ['NO', 'NO', 'NO', 'NO', 'YES', 'YES']\n",
      "\n",
      "                \n",
      "\n",
      "                Contains OOV: {'harassment', 'inferring', '<user>'}\n",
      "                Tweet: <user> <user> sex a in gender harassment is what they are inferring\n",
      "                Predicted: [-0.4800261   0.44028035]\n",
      "                True Label: 0\n",
      "                Raw Labels: ['NO', 'YES', 'NO', 'NO', 'NO', 'NO']\n",
      "\n",
      "                \n",
      "\n",
      "                Contains OOV: {'uvalde', '<user>', 'included', 'regrettably', '<url>', 'appreciate', 'harassment', 'unshocking', 'cyber', 'gunman'}\n",
      "                Tweet: appreciate being included along with <user> on the uvalde gunman s history of cyber gender harassment regrettably unshocking <user> <url>\n",
      "                Predicted: [-0.9295229  0.942116 ]\n",
      "                True Label: 0\n",
      "                Raw Labels: ['NO', 'NO', 'YES', 'YES', 'NO', 'NO']\n",
      "\n",
      "                \n",
      "\n",
      "                Contains OOV: {'brave', 'lyricism', 'yoongis', 'deliver', '<user>', 'blonks', 'audacity', 'bts', '<repeat>'}\n",
      "                Tweet: <user> how did we reach a point where blonks are having the audacity to talk about yoongis rap do y all see who you stan are y all ok <repeat> your girl can t write can t deliver can t come close to bts s lyricism tf are y all getting brave for <repeat> fashion deal <repeat>\n",
      "                Predicted: [-1.1917329  1.1413128]\n",
      "                True Label: 0\n",
      "                Raw Labels: ['YES', 'YES', 'NO', 'NO', 'NO', 'NO']\n",
      "\n",
      "                \n",
      "\n",
      "                Contains OOV: {'elite', 'pinwork', '<user>', 'lisa', 'digger', 'revealing', 'mona'}\n",
      "                Tweet: <user> <user> <user> that gold digger is nice but the picture and set up for them are elite pinwork is like the revealing of the mona lisa always a work of art\n",
      "                Predicted: [ 1.2343392 -1.3103489]\n",
      "                True Label: 1\n",
      "                Raw Labels: ['NO', 'YES', 'YES', 'NO', 'YES', 'YES']\n",
      "\n",
      "                \n",
      "\n",
      "                Contains OOV: {'fiancee', 'expose', '<user>', '<number>', 'digger', '<url>', 'tries', 'backfires', '<repeat>'}\n",
      "                Tweet: he tries to expose this gold digger but it backfires <number> day fiancee b <repeat> <url> via <user>\n",
      "                Predicted: [-0.3807358  0.2956594]\n",
      "                True Label: 0\n",
      "                Raw Labels: ['NO', 'NO', 'NO', 'NO', 'YES', 'YES']\n",
      "\n",
      "                \n",
      "\n",
      "                Contains OOV: {'testicle', '<user>'}\n",
      "                Tweet: <user> well let me ask for the guy do you ever just grab your testicle because you can\n",
      "                Predicted: [-0.9600011  0.7940491]\n",
      "                True Label: 0\n",
      "                Raw Labels: ['NO', 'NO', 'NO', 'NO', 'NO', 'YES']\n",
      "\n",
      "                \n",
      "\n",
      "                Contains OOV: {'douche', 'nozzle', 'harass', 'moses', '<user>', 'badassary', '<url>', 'inquisitor', 'dear', 'badass', 'talented'}\n",
      "                Tweet: dear <user> fan can we not harass talented actor of color stop being racist douche nozzle this is why we can t have nice thing moses is a badass inquisitor and y all can t handle her badassary <url>\n",
      "                Predicted: [ 0.1540606  -0.08367006]\n",
      "                True Label: 1\n",
      "                Raw Labels: ['YES', 'YES', 'YES', 'YES', 'NO', 'NO']\n",
      "\n",
      "                \n",
      "\n",
      "                Contains OOV: {'gayest', 'ponytail', 'saying', 'herstory', 'came', '<number>', '<repeat>', '<url>', 'blonde'}\n",
      "                Tweet: stop saying i said this cu she ha short hair some of her gayest look came from <number> <number> blonde ponytail era <repeat> know ur herstory <url>\n",
      "                Predicted: [ 0.10916674 -0.28764713]\n",
      "                True Label: 1\n",
      "                Raw Labels: ['YES', 'YES', 'YES', 'YES', 'YES', 'NO']\n",
      "\n",
      "                \n",
      "\n",
      "                Contains OOV: {'intended', '<user>'}\n",
      "                Tweet: <user> <user> <user> not a much a they harm kill woman and child by a long shot pun intended\n",
      "                Predicted: [-0.02404275 -0.16884756]\n",
      "                True Label: 1\n",
      "                Raw Labels: ['YES', 'YES', 'YES', 'YES', 'YES', 'YES']\n",
      "\n",
      "                \n",
      "\n",
      "                Contains OOV: {'yup', '<url>', '<user>'}\n",
      "                Tweet: <user> <user> <user> yup i hate when men rape and kill woman <url>\n",
      "                Predicted: [-2.12689    2.0682747]\n",
      "                True Label: 0\n",
      "                Raw Labels: ['YES', 'NO', 'NO', 'YES', 'NO', 'NO']\n",
      "\n",
      "                \n",
      "\n",
      "                Contains OOV: {'calls', 'parliament', '<url>', 'porn', 'laddish', 'shame'}\n",
      "                Tweet: calls to clean up parliament s laddish culture after mp s porn shame <url> via <url>\n",
      "                Predicted: [ 0.2442186  -0.42392248]\n",
      "                True Label: 1\n",
      "                Raw Labels: ['NO', 'YES', 'YES', 'YES', 'YES', 'NO']\n",
      "\n",
      "                \n",
      "\n",
      "                Contains OOV: {'beautiful', 'yourself', 'anyone', 'dear', 'ladies', 'shame', 'confident', '<repeat>'}\n",
      "                Tweet: ladies don t let anyone body shame you in any way <repeat> you are fat so what <repeat> you are beautiful my dear <repeat> be confident in yourself <repeat> peace\n",
      "                Predicted: [-0.53151673  0.5077672 ]\n",
      "                True Label: 0\n",
      "                Raw Labels: ['YES', 'YES', 'NO', 'NO', 'NO', 'NO']\n",
      "\n",
      "                \n",
      "\n",
      "                Contains OOV: {'greatest', 'trick', '<url>', 'ladies'}\n",
      "                Tweet: stop don t lie to these people ladies don t let this man trick you out of the greatest organ of your life cause what <url>\n",
      "                Predicted: [-1.8292819  1.7897501]\n",
      "                True Label: 0\n",
      "                Raw Labels: ['NO', 'YES', 'NO', 'NO', 'YES', 'NO']\n",
      "\n",
      "                \n",
      "\n",
      "                Contains OOV: {'louisiana', 'opportunistic', '<url>', 'yokel', 'addition', 'ladies', 'sued', 'miscarriage', 'murder'}\n",
      "                Tweet: ladies don t have a miscarriage in louisiana if you do in addition to probably having your friend and family sued by some opportunistic yokel you ll be charged with murder <url>\n",
      "                Predicted: [-2.1407247  2.053614 ]\n",
      "                True Label: 0\n",
      "                Raw Labels: ['YES', 'YES', 'NO', 'NO', 'NO', 'NO']\n",
      "\n",
      "                \n",
      "\n",
      "                Contains OOV: {'<url>', 'aerosmith', 'dude', 'lady', 'looks'}\n",
      "                Tweet: dude looks like a lady aerosmith <url>\n",
      "                Predicted: [ 0.6469058 -0.5774265]\n",
      "                True Label: 1\n",
      "                Raw Labels: ['YES', 'YES', 'NO', 'YES', 'NO', 'YES']\n",
      "\n",
      "                \n",
      "\n",
      "                Contains OOV: {'drawer', 'mansplaining', 'partner'}\n",
      "                Tweet: mansplaining the concept of a pee drawer to my partner who want me\n",
      "                Predicted: [ 0.197422   -0.33160868]\n",
      "                True Label: 1\n",
      "                Raw Labels: ['YES', 'YES', 'YES', 'NO', 'YES', 'YES']\n",
      "\n",
      "                \n",
      "\n",
      "                Contains OOV: {'masturbate', 'forever', '<url>', 'penis'}\n",
      "                Tweet: stay on penis masturbate the penis forever <url>\n",
      "                Predicted: [-1.0240799   0.88464093]\n",
      "                True Label: 0\n",
      "                Raw Labels: ['YES', 'NO', 'NO', 'NO', 'NO', 'NO']\n",
      "\n",
      "                \n",
      "\n",
      "                Contains OOV: {'<user>'}\n",
      "                Tweet: <user> <user> <user> i don t need a man to tell me what to stand up for thank you\n",
      "                Predicted: [ 0.28340718 -0.3786655 ]\n",
      "                True Label: 1\n",
      "                Raw Labels: ['YES', 'YES', 'NO', 'YES', 'YES', 'NO']\n",
      "\n",
      "                \n",
      "\n",
      "                Contains OOV: {'doe', '<user>', 'nurse', 'cocaine', 'tries', 'totally', 'basically'}\n",
      "                Tweet: <user> <user> on the audio from when his finger wa cut off even the people that were there said she did it she say she s totally against cocaine but doe cocaine tries to say the nurse is basically lying in her note about her doing drug everyone is lying but her\n",
      "                Predicted: [-0.00476664  0.17947423]\n",
      "                True Label: 0\n",
      "                Raw Labels: ['NO', 'NO', 'YES', 'NO', 'NO', 'NO']\n",
      "\n",
      "                \n",
      "\n",
      "                Contains OOV: {'america', 'decision', 'whatsoever', 'interpretation', 'distorted', 'diverse', 'pluralistic', 'healthcare', 'furthermore', 'christianity', 'patriarchal'}\n",
      "                Tweet: as a diverse and pluralistic country america s law should not be based on a distorted and patriarchal interpretation of christianity furthermore the government should have no role whatsoever in a woman s private healthcare decision\n",
      "                Predicted: [-0.03681407  0.07725822]\n",
      "                True Label: 0\n",
      "                Raw Labels: ['NO', 'YES', 'NO', 'NO', 'NO', 'NO']\n",
      "\n",
      "                \n",
      "\n",
      "                Contains OOV: {'tho', 'doe', 'believe', '<user>', 'hatred', 'fails', 'patriarchy', 'fucking', 'society', 'misogyny'}\n",
      "                Tweet: <user> notice something else tho almost every single one is a man that s such a fucking problem that this is how some men believe they should let out their anger and hatred this society need to do better it doe not even benefit the men patriarchy misogyny fails everyone\n",
      "                Predicted: [-1.0333905  1.0191693]\n",
      "                True Label: 0\n",
      "                Raw Labels: ['NO', 'YES', 'NO', 'YES', 'NO', 'NO']\n",
      "\n",
      "                \n",
      "\n",
      "                Contains OOV: {'diseased', 'sad', '<user>', 'teaxass', 'penis', 'spreading', 'faster', 'idiot', 'envy'}\n",
      "                Tweet: <user> it s in the teaxass code book of penis envy idiot that it s gun over everything sad thing is it s spreading and the more we try to stop it the faster it spread like the diseased idiot that support it\n",
      "                Predicted: [-0.6361581   0.46666932]\n",
      "                True Label: 0\n",
      "                Raw Labels: ['NO', 'NO', 'NO', 'NO', 'NO', 'NO']\n",
      "\n",
      "                \n",
      "\n",
      "                Contains OOV: {'phallocentrism', 'missed', 'become', '<user>'}\n",
      "                Tweet: <user> have i missed something or ha phallocentrism become the latest cult\n",
      "                Predicted: [ 1.0805446 -1.1576986]\n",
      "                True Label: 1\n",
      "                Raw Labels: ['NO', 'YES', 'YES', 'NO', 'YES', 'YES']\n",
      "\n",
      "                \n",
      "\n",
      "                Contains OOV: {'cyborg', 'translates', 'dogma', 'struggle', 'perfectly', 'phallogocentrism'}\n",
      "                Tweet: cyborg politics is the struggle for language and the struggle against perfect communication against the one code that translates all meaning perfectly the central dogma of phallogocentrism\n",
      "                Predicted: [ 2.1850615 -2.0298812]\n",
      "                True Label: 1\n",
      "                Raw Labels: ['YES', 'YES', 'YES', 'YES', 'NO', 'YES']\n",
      "\n",
      "                \n",
      "\n",
      "                Contains OOV: {'<user>', '<number>', 'incest', 'montha', 'religion', 'sharia', 'islam'}\n",
      "                Tweet: <user> <user> <user> <user> sharia law in the religion of islam allows abortion before the <number> th montha for rape incest mental physical health or life of mother is at risk after the <number> th month abortion allowed only to save the life of the mother\n",
      "                Predicted: [-0.88427365  0.5868368 ]\n",
      "                True Label: 0\n",
      "                Raw Labels: ['NO', 'YES', 'NO', 'NO', 'NO', 'NO']\n",
      "\n",
      "                \n",
      "\n",
      "                Contains OOV: {'<user>', 'harassment', 'bald', '<url>'}\n",
      "                Tweet: calling a man bald is sexual harassment <url> via <user>\n",
      "                Predicted: [-0.6667911   0.59825104]\n",
      "                True Label: 0\n",
      "                Raw Labels: ['YES', 'NO', 'NO', 'NO', 'NO', 'NO']\n",
      "\n",
      "                \n",
      "\n",
      "                Contains OOV: {'strategy', 'commission', 'prevent', 'experience', '<number>', '<url>', 'providing', 'harassment', 'occur', '<hashtag>', 'incident'}\n",
      "                Tweet: according to the human rights commission <number> in <number> people experience sexual harassment at work we have created an online course providing strategy to prevent and respond should incident occur start your course at <url> <hashtag> <url>\n",
      "                Predicted: [ 1.049238   -0.93467724]\n",
      "                True Label: 1\n",
      "                Raw Labels: ['YES', 'YES', 'NO', 'YES', 'NO', 'YES']\n",
      "\n",
      "                \n",
      "\n",
      "                Contains OOV: {'woke', 'experience', '<user>', 'solely', 'chosen', 'orientation', 'religion', 'progressive', 'saying'}\n",
      "                Tweet: <user> i don t care what gender race religion sexual orientation a person is a long a they are qualified for that position that being said is she qualified based on experience education or wa she chosen solely because she is black and gay to please progressive woke just saying\n",
      "                Predicted: [ 0.19177833 -0.11458272]\n",
      "                True Label: 1\n",
      "                Raw Labels: ['YES', 'YES', 'YES', 'NO', 'YES', 'YES']\n",
      "\n",
      "                \n",
      "\n",
      "                Contains OOV: {'slap', 'yea', '<user>', 'unfortunate'}\n",
      "                Tweet: <user> yea back when i didn t even have one to slap unfortunate\n",
      "                Predicted: [ 1.5058196 -1.5372918]\n",
      "                True Label: 1\n",
      "                Raw Labels: ['YES', 'NO', 'NO', 'YES', 'YES', 'YES']\n",
      "\n",
      "                \n",
      "\n",
      "                Contains OOV: {'salad', 'trench', 'nigga', '<number>', 'outta', 'slap', 'cuz', 'hope', 'survives', 'broke'}\n",
      "                Tweet: wen i m rich i hope the broke nigga in me survives cuz i ain t ever paying <number> buck for a salad i hope the trench slap that shit outta my hand\n",
      "                Predicted: [-0.23284799 -0.00421468]\n",
      "                True Label: 0\n",
      "                Raw Labels: ['NO', 'NO', 'NO', 'NO', 'NO', 'NO']\n",
      "\n",
      "                \n",
      "\n",
      "                Contains OOV: {'knew', 'tit', '<user>'}\n",
      "                Tweet: <user> never knew you all share tit how did we stop being pal again yeah\n",
      "                Predicted: [ 1.1975179 -1.3391706]\n",
      "                True Label: 1\n",
      "                Raw Labels: ['NO', 'YES', 'YES', 'YES', 'YES', 'NO']\n",
      "\n",
      "                \n",
      "\n",
      "                Contains OOV: {'boobieeees', '<elong>', '<url>', 'bounceey', '<hashtag>'}\n",
      "                Tweet: bounceey <elong> boobieeees <elong> <hashtag> <hashtag> <hashtag> <hashtag> <hashtag> <url>\n",
      "                Predicted: [ 0.07439062 -0.4408582 ]\n",
      "                True Label: 1\n",
      "                Raw Labels: ['YES', 'YES', 'YES', 'YES', 'YES', 'YES']\n",
      "\n",
      "                \n",
      "\n",
      "                Contains OOV: {'<repeat>', 'understand', '<user>'}\n",
      "                Tweet: <user> oh so now u can t understand woman s word <repeat>\n",
      "                Predicted: [-1.7762872  1.9263874]\n",
      "                True Label: 0\n",
      "                Raw Labels: ['NO', 'NO', 'NO', 'YES', 'NO', 'YES']\n",
      "\n",
      "                \n",
      "\n",
      "                Contains OOV: {'fainted', 'came', 'skirt', 'legally', '<url>', 'nurse', 'wearing'}\n",
      "                Tweet: fainted wearing a very short skirt and no one could legally touch me so i just had my as out until the nurse came <url>\n",
      "                Predicted: [ 0.20857063 -0.13862209]\n",
      "                True Label: 1\n",
      "                Raw Labels: ['YES', 'YES', 'NO', 'YES', 'YES', 'NO']\n",
      "\n",
      "                \n",
      "\n",
      "                Contains OOV: {'skirt', 'kneehighs'}\n",
      "                Tweet: the question is do i wear the very short skirt that literally show my as with kneehighs or opt out for a short\n",
      "                Predicted: [-0.4242215   0.44425565]\n",
      "                True Label: 0\n",
      "                Raw Labels: ['NO', 'NO', 'YES', 'NO', 'YES', 'NO']\n",
      "\n",
      "                \n",
      "\n",
      "                Contains OOV: {'<user>', 'pregnant', 'meme', 'trooper', 'pulled', '<repeat>', 'oklahoma'}\n",
      "                Tweet: <user> my new favorite meme is the pregnant woman driving in the oklahoma hov lane telling the state trooper who pulled her over that she is driving with another person <repeat>\n",
      "                Predicted: [-1.4836543  1.3447188]\n",
      "                True Label: 0\n",
      "                Raw Labels: ['NO', 'YES', 'NO', 'NO', 'NO', 'YES']\n",
      "\n",
      "                \n",
      "\n",
      "                Contains OOV: {'ukraine', '<user>', '<number>', 'overthrow', '<url>', 'directly', 'crap', 'department', 'fakest', 'isw', 'victoria', 'nuland'}\n",
      "                Tweet: <user> <user> isw published the fakest crap of any of the map they are just a front for the us state department they are fake news victoria nuland is the woman directly involved in the armed overthrow of the ukraine government in <number> <url>\n",
      "                Predicted: [-0.01346832  0.02895043]\n",
      "                True Label: 0\n",
      "                Raw Labels: ['NO', 'YES', 'NO', 'NO', 'NO', 'NO']\n",
      "\n",
      "                \n",
      "\n",
      "                Contains OOV: {'biological', 'weems', 'womanism', 'hudson', 'strictly', 'further', 'identifies', '<url>', 'difference', 'feminism'}\n",
      "                Tweet: feminism vs womanism hudson weems identifies further difference between womanism and feminism being womanism is family oriented and focus on race class and gender while feminism is female oriented and strictly focus on biological sex related issue woman face <url>\n",
      "                Predicted: [-1.1268613  1.143273 ]\n",
      "                True Label: 0\n",
      "                Raw Labels: ['YES', 'NO', 'NO', 'NO', 'NO', 'NO']\n",
      "\n",
      "                \n",
      "\n",
      "                Contains OOV: {'anyway', '<user>', 'sending'}\n",
      "                Tweet: <user> yeah woman are getting just a bad i ve noticed it anyway i m sorry people are sending you stuff like that it can be so gross\n",
      "                Predicted: [-2.0913336  2.1535723]\n",
      "                True Label: 0\n",
      "                Raw Labels: ['NO', 'NO', 'NO', 'NO', 'NO', 'YES']\n",
      "\n",
      "                \n",
      "\n",
      "                Contains OOV: {'afford', 'ligation', 'longer', '<user>', '<number>', 'recovery', 'vasectomy', 'tubal', 'childbirth', 'surgery', 'clinic', 'following'}\n",
      "                Tweet: <user> <user> <user> <user> a vasectomy is a simple surgery done in an office hospital or clinic <number> hour later recovery is pretty much complete tubal ligation recovery take <number> <number> week longer if it s done following a c section or childbirth many woman can t afford to take <number> <number> week off work\n",
      "                Predicted: [-0.94486076  0.96645075]\n",
      "                True Label: 0\n",
      "                Raw Labels: ['YES', 'YES', 'NO', 'NO', 'NO', 'NO']\n",
      "\n",
      "                \n",
      "\n",
      "                Contains OOV: {'witches', 'unite', '<user>', 'trouble'}\n",
      "                Tweet: <user> <user> <user> wow trouble making witches unite\n",
      "                Predicted: [-0.6223498  0.8433084]\n",
      "                True Label: 0\n",
      "                Raw Labels: ['NO', 'NO', 'NO', 'NO', 'NO', 'NO']\n",
      "\n",
      "                \n",
      "\n",
      "                Contains OOV: {'screenshot', 'cunt', '<url>', 'wont'}\n",
      "                Tweet: uh they re allowed to calling this out make you look like a cunt fortunately i ll block you so fast you wont get your screenshot <url>\n",
      "                Predicted: [-1.5238445  1.6733332]\n",
      "                True Label: 0\n",
      "                Raw Labels: ['NO', 'NO', 'YES', 'NO', 'YES', 'NO']\n",
      "\n",
      "                \n",
      "\n",
      "                Contains OOV: {'shouldn', '<user>', 'mock', 'shallow', 'cunt'}\n",
      "                Tweet: <user> <user> <user> i don t know what you re on about my point wa that you shouldn t mock other people s look because it s very shallow and make you look like a cunt thanks for your input though\n",
      "                Predicted: [-0.80373585  0.8942277 ]\n",
      "                True Label: 0\n",
      "                Raw Labels: ['YES', 'NO', 'NO', 'YES', 'NO', 'NO']\n",
      "\n",
      "                \n",
      "Errors due to OOV: 44, 100.00%\n"
     ]
    }
   ],
   "source": [
    "wrong_tweet_ids = transformer.review_errors(test_copy, test_data, test_predictions, test_labels, verbose=True)"
   ]
  },
  {
   "cell_type": "markdown",
   "metadata": {
    "id": "eCcWEEjtC7t_"
   },
   "source": [
    "Common errrors spotted so far:\n",
    "\n",
    "* Most of the errors are due to the fact that the model is not able to distinguish between the sexist and non-sexist tweets.\n",
    "    * The predicted score is the opposite of the true score. This is a common error in classification tasks and can be due to the fact that the model is not able to learn the features that distinguish between the two classes.\n",
    "    * All the missclassified tweets contain, at least, one word which is not in the vocabulary of the roBERTa. This for sure has an impact in the performance of the model since the model is not able to learn the embeddings for these words and loses information about the tweets. Indeed these OOVs are special tokens of the GloVe embeddings and are not present in the roBERTa vocabulary. This is a common problem when using pretrained embeddings. Moreover, this version of roBERTa has just a few special tokens as visible from the [map on huggingface](https://huggingface.co/cardiffnlp/twitter-roberta-base-hate/blob/main/special_tokens_map.json).\n",
    "    * A model which includes the special tokens for user mentions, url, elongations, etc. might perform better on this task since it will be able to learn the embeddings for these tokens and have better performances."
   ]
  },
  {
   "cell_type": "markdown",
   "metadata": {
    "id": "d3G2ZV4fC7t_"
   },
   "source": [
    "Get the slice of the test dataset where the model is failing to classify the tweets (wrong predictions). This can be useful to understand why the model is failing to classify the tweets and to have an idea of the features that the model is not able to learn."
   ]
  },
  {
   "cell_type": "code",
   "execution_count": 569,
   "metadata": {
    "id": "lFef9Oo5C7t_",
    "outputId": "35af0699-a976-4ce9-f8c8-c4533bfad02f"
   },
   "outputs": [
    {
     "data": {
      "text/plain": [
       "array(['“I mean I do, but… wouldn’t it be fun to get gangbanged together~?” https://t.co/lNRZ9z53VL',\n",
       "       \"@LogicalFallac18 @LBC Sex* as in 'gender' harassment is what they are inferring.\",\n",
       "       'Appreciate being included along with @wphillips49 on the Uvalde gunman’s history of cyber gender harassment. Regrettably unshocking. @UVALaw https://t.co/gg1UwHYdIf',\n",
       "       \"@EyemotionFandom How did we reach a point where blonks are having the audacity to talk about yoongis rap do y'all see who you Stan ? Are y'all ok ?? Your girls can't write can't deliver can't come close to bts's lyricism tf are y'all getting brave for ?? Fashion deals ??\",\n",
       "       '@Catoishere @HatClub @RahnniFitteds That gold digger is nice but the picture and set up for them are elite. Pinwork is like the revealing of the Mona Lisa. Always a work of art.',\n",
       "       'He Tries To Expose This Gold Digger BUT IT BACKFIRES. | 90 Day Fiancée B... https://t.co/pz91AbJ0WS via @YouTube',\n",
       "       '@MatrixPirate12 Well let me ask for the guys… do you ever just grab your testicles because you can?',\n",
       "       \"Dear @starwars fans Can we not harass talented actors of color? Stop being racist douche nozzles. This is why we can't have nice things. Moses is a badass inquisitor and y'all can't handle her badassary. https://t.co/bczGdn6evx\",\n",
       "       'stop saying i said this cus she has short hair! some of her gayest looks came from 2017/18 blonde ponytail era!!!!!! know ur herstory https://t.co/YJYVzJVP0L',\n",
       "       '@DaddyBrianMC @roadhouse2100 @stlcty03 Not as much as they harm/kill women and children, by a long shot (pun intended)',\n",
       "       '@BoopBepp @Helloth07860784 @Bronwen85 Yup I hate when men rape and kill women. https://t.co/MyfVPu6THd',\n",
       "       \"Calls to clean up Parliament's laddish culture after MP's porn shame https://t.co/3AC2ArWrjF via https://t.co/LiNou8Ixhu\",\n",
       "       \"Ladies,don't let anyone body shame you in any way...you are fat so what..you are beautiful my dear...be confident in yourself...peace\",\n",
       "       'Stop ✋🏾 Don’t lie to these people. Ladies, don’t let this man trick you out of the greatest organs of your life 🙄 cause  what? https://t.co/secSDVvFKz',\n",
       "       \"Ladies, don't have a miscarriage in Louisiana! If you do, in addition to probably having your friends and family sued by some opportunistic yokel, you'll be charged with murder.  https://t.co/6JtnjUCkLC\",\n",
       "       '\"Dude Looks Like A Lady\" 💫🎶Aerosmith🎶🎸⚡️💫https://t.co/41OxpV6YWm',\n",
       "       'Mansplaining the concept of a pee drawer to my partner (who want me)',\n",
       "       'stay on Penis masturbate the Penis forever https://t.co/lOtwLsVr12',\n",
       "       '@jcollie @thevivafrei @ewarren I don’t need a man to tell me what to stand up for, thank you.',\n",
       "       '@SeanMc46114355 @piscesflowers On the audio from when his finger was cut off ! Even the  people that were there said she did it. She says she’s totally against cocaine but does cocaine. Tries to say the nurse is basically lying in her notes about her doing drugs. Everyone is lying but her!',\n",
       "       \"@ShelleyKingsto3 @CNP_MacFarlane @CanadianinAB It's objectification &amp; dehumanizing. I saw someone take time out of their day to make a strong political point about Horwath 🙄(sarcasm) -- he Tweeted about how her photo looked like it had lots of photoshop. Such pathetic clowns.\",\n",
       "       '@tuckednuts Notice something else tho…Almost every single one, is a man. That’s such a fucking problem that this is how some men believe they should let out their angers and hatred. This society needs to do better, it does not even benefit the men. Patriarchy/misogyny fails everyone',\n",
       "       '@BetteMidler It’s in the TEAxASS code book of penis envy idiots that it’s guns over everything. Sad thing is it’s spreading and the more we try to stop it, the faster it spreads like the diseased idiots that support it.',\n",
       "       '@Mistywoman1 Have I missed something, or has phallocentrism become the latest cult?',\n",
       "       \"Fuck's sake is it possible to have a furry space that's not explicitly content-restricted and doesn't immediately become yet another showcase for size-queen phallocentrism?\",\n",
       "       'Cyborg politics is the struggle for language and the struggle against perfect communication, against the one code that translates all meaning perfectly, the central dogma of phallogocentrism',\n",
       "       '@AquariusElayne @MissMaryMcInOR @DarbysCastle @EileenM60933733 Sharia law in the religion of Islam allows abortion before the 5th montha for Rape, Incest, Mental/Physical health, or Life of Mother is at risk. After the 5th Month, abortion allowed only to save the life of the Mother.',\n",
       "       '\"Calling A Man Bald Is Sexual Harassment\" https://t.co/MiSGkB89bs via @YouTube',\n",
       "       'According to the Human Rights Commission, 1 in 3 people experience sexual harassment at work. We have created an online course  providing strategies to prevent and respond should incidents occur. Start your course at: https://t.co/yC40T3cJao #guardianpst https://t.co/oTwKxFqxQN',\n",
       "       '@townhallcom I don’t care what gender, race, religion,sexual orientation a person is as long as they are qualified for that position. That being said, is she qualified based on experience/education or was she chosen solely because she is black and gay to please progressives/woke. Just saying.',\n",
       "       '@djxmenez yea back when i didn’t even have one to slap, unfortunate !',\n",
       "       \"Wen I'm rich I hope the broke nigga in me survives cuz I ain't ever paying 54 bucks for a salad. I hope the trenches slap that shit outta my hand.\",\n",
       "       '@TheNon_Nun Never knew you all share tits, how did we stop being pals again yeah ?🌚',\n",
       "       'BOUNCEEYYYY BOOBIEEEESSSSSS #hookup #BOUNCEY #boobs #boobie #tits https://t.co/lUAuZkT5w3',\n",
       "       '@UberFacts Today’s women eye makeup. And those nails too.',\n",
       "       \"@maria56_lamb I packed my hubbies case when we were going to a wedding in england, told him to pop his underpants in.  Gets to England, he puts his kilt outfit on and everyone discovered what a true scot doesn't wear under his kilt.  If I don't do it, it doesn't get done.  Men!\",\n",
       "       '@bhargavtata0 oh so now u can’t understand women’s words??????',\n",
       "       'fainted wearing a Very short skirt and no one could legally touch me so i just had my ass out until the nurse came 😭 https://t.co/qwi7fyO98B',\n",
       "       'the question is do i wear the very short skirt that literally shows my ass with kneehighs or opt out for a short 🤔',\n",
       "       '@CheriJacobus My new favorite meme is the pregnant woman driving in the Oklahoma HOV lane telling the state trooper who pulled her over that she is driving with another person..',\n",
       "       'Feminism VS Womanism\"Hudson-Weems identifies further differences between womanism and feminism being; womanism is \"family-oriented\" and focuses on race, class, and gender, while feminism is \"female-oriented\" and strictly focuses on biological sex related issues women face.\" https://t.co/D5p9VCPTmn',\n",
       "       \"@CrossrdsCMG Yeah, women are getting just as bad. I've noticed it anyway, I'm sorry people are sending you stuff like that, it can be so gross!\",\n",
       "       'Yo I swear  sagittarius men and women are the funniest 😭😭😭😭😂😂😂😂😂😂😭😭😭😭😭',\n",
       "       \"@joelaltonmoore @KMisGrand @TheMrBarramundi @ZipPulse A vasectomy is a simple surgery done in an office, hospital, or clinic. 24 hours later recovery is pretty much complete!Tubal ligation recovery takes 1-3 weeks, longer if it's done following a C-section or childbirth. Many women can't afford to take 1-3 weeks off work!\",\n",
       "       '@KimFawcett11 @FrenchFem @Wild_Womyn WOW! Trouble Making Witches Unite!',\n",
       "       \"Uh, they're allowed to? calling this out makes you look like a cunt. Fortunately, I'll block you so fast you wont get your screenshot. https://t.co/iyWul5BoN6\",\n",
       "       \"@JetCelestial @polgara28951124 @CharlotteEmmaUK I don't know what you're on about? My point was that you shouldn't mock other people's looks, because it's very shallow and makes you look like a cunt. Thanks for your input though 👍\"],\n",
       "      dtype=object)"
      ]
     },
     "execution_count": 569,
     "metadata": {},
     "output_type": "execute_result"
    }
   ],
   "source": [
    "test_copy[test_copy['id_EXIST'].isin(wrong_tweet_ids)].tweet.values"
   ]
  },
  {
   "cell_type": "markdown",
   "metadata": {
    "id": "lCNhVqZ9-bRL"
   },
   "source": [
    "# Task 8: Report\n",
    "\n",
    "Wrap up your experiment in a short report (up to 2 pages).\n",
    "\n",
    "* Use the NLP course report template.\n",
    "* Summarize each task in the report following the provided template.\n",
    "\n",
    "The report is not a copy-paste of graphs, tables, and command outputs.\n",
    "\n",
    "* Summarize classification performance in Table format.\n",
    "* **Do not** report command outputs or screenshots.\n",
    "* Report learning curves in Figure format.\n",
    "* The error analysis section should summarize your findings."
   ]
  }
 ],
 "metadata": {
  "accelerator": "GPU",
  "colab": {
   "gpuType": "T4",
   "provenance": []
  },
  "kernelspec": {
   "display_name": ".venv",
   "language": "python",
   "name": "python3"
  },
  "language_info": {
   "codemirror_mode": {
    "name": "ipython",
    "version": 3
   },
   "file_extension": ".py",
   "mimetype": "text/x-python",
   "name": "python",
   "nbconvert_exporter": "python",
   "pygments_lexer": "ipython3",
   "version": "3.12.3"
  },
  "widgets": {
   "application/vnd.jupyter.widget-state+json": {
    "010af9ad50c342aa8ffd390913656783": {
     "model_module": "@jupyter-widgets/base",
     "model_module_version": "1.2.0",
     "model_name": "LayoutModel",
     "state": {
      "_model_module": "@jupyter-widgets/base",
      "_model_module_version": "1.2.0",
      "_model_name": "LayoutModel",
      "_view_count": null,
      "_view_module": "@jupyter-widgets/base",
      "_view_module_version": "1.2.0",
      "_view_name": "LayoutView",
      "align_content": null,
      "align_items": null,
      "align_self": null,
      "border": null,
      "bottom": null,
      "display": null,
      "flex": null,
      "flex_flow": null,
      "grid_area": null,
      "grid_auto_columns": null,
      "grid_auto_flow": null,
      "grid_auto_rows": null,
      "grid_column": null,
      "grid_gap": null,
      "grid_row": null,
      "grid_template_areas": null,
      "grid_template_columns": null,
      "grid_template_rows": null,
      "height": null,
      "justify_content": null,
      "justify_items": null,
      "left": null,
      "margin": null,
      "max_height": null,
      "max_width": null,
      "min_height": null,
      "min_width": null,
      "object_fit": null,
      "object_position": null,
      "order": null,
      "overflow": null,
      "overflow_x": null,
      "overflow_y": null,
      "padding": null,
      "right": null,
      "top": null,
      "visibility": null,
      "width": null
     }
    },
    "0fd8d961f74940998a6dcadd9ca11020": {
     "model_module": "@jupyter-widgets/controls",
     "model_module_version": "1.5.0",
     "model_name": "DescriptionStyleModel",
     "state": {
      "_model_module": "@jupyter-widgets/controls",
      "_model_module_version": "1.5.0",
      "_model_name": "DescriptionStyleModel",
      "_view_count": null,
      "_view_module": "@jupyter-widgets/base",
      "_view_module_version": "1.2.0",
      "_view_name": "StyleView",
      "description_width": ""
     }
    },
    "14022f99a32c4f5eb2a60adde2157e2c": {
     "model_module": "@jupyter-widgets/controls",
     "model_module_version": "1.5.0",
     "model_name": "HTMLModel",
     "state": {
      "_dom_classes": [],
      "_model_module": "@jupyter-widgets/controls",
      "_model_module_version": "1.5.0",
      "_model_name": "HTMLModel",
      "_view_count": null,
      "_view_module": "@jupyter-widgets/controls",
      "_view_module_version": "1.5.0",
      "_view_name": "HTMLView",
      "description": "",
      "description_tooltip": null,
      "layout": "IPY_MODEL_d160fc03521b429e9c6a2f71978f5697",
      "placeholder": "​",
      "style": "IPY_MODEL_0fd8d961f74940998a6dcadd9ca11020",
      "value": "Map: 100%"
     }
    },
    "14d960b7685f4c24af674b53167820c0": {
     "model_module": "@jupyter-widgets/controls",
     "model_module_version": "1.5.0",
     "model_name": "HBoxModel",
     "state": {
      "_dom_classes": [],
      "_model_module": "@jupyter-widgets/controls",
      "_model_module_version": "1.5.0",
      "_model_name": "HBoxModel",
      "_view_count": null,
      "_view_module": "@jupyter-widgets/controls",
      "_view_module_version": "1.5.0",
      "_view_name": "HBoxView",
      "box_style": "",
      "children": [
       "IPY_MODEL_14022f99a32c4f5eb2a60adde2157e2c",
       "IPY_MODEL_e7ec1d78fc9349e780b4c67aef084c81",
       "IPY_MODEL_76e3d0f5fad6467d8ecde4d8d2b28a73"
      ],
      "layout": "IPY_MODEL_99ae46da3b984572a92a4031f36ec845"
     }
    },
    "37f6e3a55fae4e89b226d65799c056ae": {
     "model_module": "@jupyter-widgets/controls",
     "model_module_version": "1.5.0",
     "model_name": "ProgressStyleModel",
     "state": {
      "_model_module": "@jupyter-widgets/controls",
      "_model_module_version": "1.5.0",
      "_model_name": "ProgressStyleModel",
      "_view_count": null,
      "_view_module": "@jupyter-widgets/base",
      "_view_module_version": "1.2.0",
      "_view_name": "StyleView",
      "bar_color": null,
      "description_width": ""
     }
    },
    "392b67ddfb28405997e480da9608c65f": {
     "model_module": "@jupyter-widgets/controls",
     "model_module_version": "1.5.0",
     "model_name": "DescriptionStyleModel",
     "state": {
      "_model_module": "@jupyter-widgets/controls",
      "_model_module_version": "1.5.0",
      "_model_name": "DescriptionStyleModel",
      "_view_count": null,
      "_view_module": "@jupyter-widgets/base",
      "_view_module_version": "1.2.0",
      "_view_name": "StyleView",
      "description_width": ""
     }
    },
    "3ac29ea09e5c4f8db9657e56a1d12a6c": {
     "model_module": "@jupyter-widgets/controls",
     "model_module_version": "1.5.0",
     "model_name": "HTMLModel",
     "state": {
      "_dom_classes": [],
      "_model_module": "@jupyter-widgets/controls",
      "_model_module_version": "1.5.0",
      "_model_name": "HTMLModel",
      "_view_count": null,
      "_view_module": "@jupyter-widgets/controls",
      "_view_module_version": "1.5.0",
      "_view_name": "HTMLView",
      "description": "",
      "description_tooltip": null,
      "layout": "IPY_MODEL_a360ce1b71c74c569d5d16b818e15d10",
      "placeholder": "​",
      "style": "IPY_MODEL_ed24a4a107564712b5239f68fe8b807f",
      "value": " 2870/2870 [00:00&lt;00:00, 7893.55 examples/s]"
     }
    },
    "41913e5ec0fd471fb19467573ed0c4c8": {
     "model_module": "@jupyter-widgets/controls",
     "model_module_version": "1.5.0",
     "model_name": "HTMLModel",
     "state": {
      "_dom_classes": [],
      "_model_module": "@jupyter-widgets/controls",
      "_model_module_version": "1.5.0",
      "_model_name": "HTMLModel",
      "_view_count": null,
      "_view_module": "@jupyter-widgets/controls",
      "_view_module_version": "1.5.0",
      "_view_name": "HTMLView",
      "description": "",
      "description_tooltip": null,
      "layout": "IPY_MODEL_6164ba82b8ab4195bf77e0db1c3d4e54",
      "placeholder": "​",
      "style": "IPY_MODEL_d92a05827a4f4617a01a029eebdb2e4b",
      "value": "Map: 100%"
     }
    },
    "4312146943be4263a594c15a0df095a1": {
     "model_module": "@jupyter-widgets/base",
     "model_module_version": "1.2.0",
     "model_name": "LayoutModel",
     "state": {
      "_model_module": "@jupyter-widgets/base",
      "_model_module_version": "1.2.0",
      "_model_name": "LayoutModel",
      "_view_count": null,
      "_view_module": "@jupyter-widgets/base",
      "_view_module_version": "1.2.0",
      "_view_name": "LayoutView",
      "align_content": null,
      "align_items": null,
      "align_self": null,
      "border": null,
      "bottom": null,
      "display": null,
      "flex": null,
      "flex_flow": null,
      "grid_area": null,
      "grid_auto_columns": null,
      "grid_auto_flow": null,
      "grid_auto_rows": null,
      "grid_column": null,
      "grid_gap": null,
      "grid_row": null,
      "grid_template_areas": null,
      "grid_template_columns": null,
      "grid_template_rows": null,
      "height": null,
      "justify_content": null,
      "justify_items": null,
      "left": null,
      "margin": null,
      "max_height": null,
      "max_width": null,
      "min_height": null,
      "min_width": null,
      "object_fit": null,
      "object_position": null,
      "order": null,
      "overflow": null,
      "overflow_x": null,
      "overflow_y": null,
      "padding": null,
      "right": null,
      "top": null,
      "visibility": null,
      "width": null
     }
    },
    "4c6bc25ec6fe43449db337905e28f7a8": {
     "model_module": "@jupyter-widgets/controls",
     "model_module_version": "1.5.0",
     "model_name": "HBoxModel",
     "state": {
      "_dom_classes": [],
      "_model_module": "@jupyter-widgets/controls",
      "_model_module_version": "1.5.0",
      "_model_name": "HBoxModel",
      "_view_count": null,
      "_view_module": "@jupyter-widgets/controls",
      "_view_module_version": "1.5.0",
      "_view_name": "HBoxView",
      "box_style": "",
      "children": [
       "IPY_MODEL_41913e5ec0fd471fb19467573ed0c4c8",
       "IPY_MODEL_baec7636b03b400284fc84d2dd0f059f",
       "IPY_MODEL_67a557cd7c8141a3a3e004703bc853df"
      ],
      "layout": "IPY_MODEL_d17b118594574bdcae63d547485ee16b"
     }
    },
    "6164ba82b8ab4195bf77e0db1c3d4e54": {
     "model_module": "@jupyter-widgets/base",
     "model_module_version": "1.2.0",
     "model_name": "LayoutModel",
     "state": {
      "_model_module": "@jupyter-widgets/base",
      "_model_module_version": "1.2.0",
      "_model_name": "LayoutModel",
      "_view_count": null,
      "_view_module": "@jupyter-widgets/base",
      "_view_module_version": "1.2.0",
      "_view_name": "LayoutView",
      "align_content": null,
      "align_items": null,
      "align_self": null,
      "border": null,
      "bottom": null,
      "display": null,
      "flex": null,
      "flex_flow": null,
      "grid_area": null,
      "grid_auto_columns": null,
      "grid_auto_flow": null,
      "grid_auto_rows": null,
      "grid_column": null,
      "grid_gap": null,
      "grid_row": null,
      "grid_template_areas": null,
      "grid_template_columns": null,
      "grid_template_rows": null,
      "height": null,
      "justify_content": null,
      "justify_items": null,
      "left": null,
      "margin": null,
      "max_height": null,
      "max_width": null,
      "min_height": null,
      "min_width": null,
      "object_fit": null,
      "object_position": null,
      "order": null,
      "overflow": null,
      "overflow_x": null,
      "overflow_y": null,
      "padding": null,
      "right": null,
      "top": null,
      "visibility": null,
      "width": null
     }
    },
    "67a557cd7c8141a3a3e004703bc853df": {
     "model_module": "@jupyter-widgets/controls",
     "model_module_version": "1.5.0",
     "model_name": "HTMLModel",
     "state": {
      "_dom_classes": [],
      "_model_module": "@jupyter-widgets/controls",
      "_model_module_version": "1.5.0",
      "_model_name": "HTMLModel",
      "_view_count": null,
      "_view_module": "@jupyter-widgets/controls",
      "_view_module_version": "1.5.0",
      "_view_name": "HTMLView",
      "description": "",
      "description_tooltip": null,
      "layout": "IPY_MODEL_8df32711e7c340ccbf3d92d65f981421",
      "placeholder": "​",
      "style": "IPY_MODEL_dcaa7a024ddb4c19b25b6ad837e8f278",
      "value": " 286/286 [00:00&lt;00:00, 3590.67 examples/s]"
     }
    },
    "76e3d0f5fad6467d8ecde4d8d2b28a73": {
     "model_module": "@jupyter-widgets/controls",
     "model_module_version": "1.5.0",
     "model_name": "HTMLModel",
     "state": {
      "_dom_classes": [],
      "_model_module": "@jupyter-widgets/controls",
      "_model_module_version": "1.5.0",
      "_model_name": "HTMLModel",
      "_view_count": null,
      "_view_module": "@jupyter-widgets/controls",
      "_view_module_version": "1.5.0",
      "_view_name": "HTMLView",
      "description": "",
      "description_tooltip": null,
      "layout": "IPY_MODEL_dfb7f13e3f104a0292e083a58fa39623",
      "placeholder": "​",
      "style": "IPY_MODEL_a0740bcd833f480cb5b80b66176ee355",
      "value": " 158/158 [00:00&lt;00:00, 2286.69 examples/s]"
     }
    },
    "78395c4346574282b7b3e7dfaca0f4ee": {
     "model_module": "@jupyter-widgets/controls",
     "model_module_version": "1.5.0",
     "model_name": "ProgressStyleModel",
     "state": {
      "_model_module": "@jupyter-widgets/controls",
      "_model_module_version": "1.5.0",
      "_model_name": "ProgressStyleModel",
      "_view_count": null,
      "_view_module": "@jupyter-widgets/base",
      "_view_module_version": "1.2.0",
      "_view_name": "StyleView",
      "bar_color": null,
      "description_width": ""
     }
    },
    "8df32711e7c340ccbf3d92d65f981421": {
     "model_module": "@jupyter-widgets/base",
     "model_module_version": "1.2.0",
     "model_name": "LayoutModel",
     "state": {
      "_model_module": "@jupyter-widgets/base",
      "_model_module_version": "1.2.0",
      "_model_name": "LayoutModel",
      "_view_count": null,
      "_view_module": "@jupyter-widgets/base",
      "_view_module_version": "1.2.0",
      "_view_name": "LayoutView",
      "align_content": null,
      "align_items": null,
      "align_self": null,
      "border": null,
      "bottom": null,
      "display": null,
      "flex": null,
      "flex_flow": null,
      "grid_area": null,
      "grid_auto_columns": null,
      "grid_auto_flow": null,
      "grid_auto_rows": null,
      "grid_column": null,
      "grid_gap": null,
      "grid_row": null,
      "grid_template_areas": null,
      "grid_template_columns": null,
      "grid_template_rows": null,
      "height": null,
      "justify_content": null,
      "justify_items": null,
      "left": null,
      "margin": null,
      "max_height": null,
      "max_width": null,
      "min_height": null,
      "min_width": null,
      "object_fit": null,
      "object_position": null,
      "order": null,
      "overflow": null,
      "overflow_x": null,
      "overflow_y": null,
      "padding": null,
      "right": null,
      "top": null,
      "visibility": null,
      "width": null
     }
    },
    "99ae46da3b984572a92a4031f36ec845": {
     "model_module": "@jupyter-widgets/base",
     "model_module_version": "1.2.0",
     "model_name": "LayoutModel",
     "state": {
      "_model_module": "@jupyter-widgets/base",
      "_model_module_version": "1.2.0",
      "_model_name": "LayoutModel",
      "_view_count": null,
      "_view_module": "@jupyter-widgets/base",
      "_view_module_version": "1.2.0",
      "_view_name": "LayoutView",
      "align_content": null,
      "align_items": null,
      "align_self": null,
      "border": null,
      "bottom": null,
      "display": null,
      "flex": null,
      "flex_flow": null,
      "grid_area": null,
      "grid_auto_columns": null,
      "grid_auto_flow": null,
      "grid_auto_rows": null,
      "grid_column": null,
      "grid_gap": null,
      "grid_row": null,
      "grid_template_areas": null,
      "grid_template_columns": null,
      "grid_template_rows": null,
      "height": null,
      "justify_content": null,
      "justify_items": null,
      "left": null,
      "margin": null,
      "max_height": null,
      "max_width": null,
      "min_height": null,
      "min_width": null,
      "object_fit": null,
      "object_position": null,
      "order": null,
      "overflow": null,
      "overflow_x": null,
      "overflow_y": null,
      "padding": null,
      "right": null,
      "top": null,
      "visibility": null,
      "width": null
     }
    },
    "9b749ee0bea046a0bd2569f95dd3629e": {
     "model_module": "@jupyter-widgets/base",
     "model_module_version": "1.2.0",
     "model_name": "LayoutModel",
     "state": {
      "_model_module": "@jupyter-widgets/base",
      "_model_module_version": "1.2.0",
      "_model_name": "LayoutModel",
      "_view_count": null,
      "_view_module": "@jupyter-widgets/base",
      "_view_module_version": "1.2.0",
      "_view_name": "LayoutView",
      "align_content": null,
      "align_items": null,
      "align_self": null,
      "border": null,
      "bottom": null,
      "display": null,
      "flex": null,
      "flex_flow": null,
      "grid_area": null,
      "grid_auto_columns": null,
      "grid_auto_flow": null,
      "grid_auto_rows": null,
      "grid_column": null,
      "grid_gap": null,
      "grid_row": null,
      "grid_template_areas": null,
      "grid_template_columns": null,
      "grid_template_rows": null,
      "height": null,
      "justify_content": null,
      "justify_items": null,
      "left": null,
      "margin": null,
      "max_height": null,
      "max_width": null,
      "min_height": null,
      "min_width": null,
      "object_fit": null,
      "object_position": null,
      "order": null,
      "overflow": null,
      "overflow_x": null,
      "overflow_y": null,
      "padding": null,
      "right": null,
      "top": null,
      "visibility": null,
      "width": null
     }
    },
    "a0740bcd833f480cb5b80b66176ee355": {
     "model_module": "@jupyter-widgets/controls",
     "model_module_version": "1.5.0",
     "model_name": "DescriptionStyleModel",
     "state": {
      "_model_module": "@jupyter-widgets/controls",
      "_model_module_version": "1.5.0",
      "_model_name": "DescriptionStyleModel",
      "_view_count": null,
      "_view_module": "@jupyter-widgets/base",
      "_view_module_version": "1.2.0",
      "_view_name": "StyleView",
      "description_width": ""
     }
    },
    "a360ce1b71c74c569d5d16b818e15d10": {
     "model_module": "@jupyter-widgets/base",
     "model_module_version": "1.2.0",
     "model_name": "LayoutModel",
     "state": {
      "_model_module": "@jupyter-widgets/base",
      "_model_module_version": "1.2.0",
      "_model_name": "LayoutModel",
      "_view_count": null,
      "_view_module": "@jupyter-widgets/base",
      "_view_module_version": "1.2.0",
      "_view_name": "LayoutView",
      "align_content": null,
      "align_items": null,
      "align_self": null,
      "border": null,
      "bottom": null,
      "display": null,
      "flex": null,
      "flex_flow": null,
      "grid_area": null,
      "grid_auto_columns": null,
      "grid_auto_flow": null,
      "grid_auto_rows": null,
      "grid_column": null,
      "grid_gap": null,
      "grid_row": null,
      "grid_template_areas": null,
      "grid_template_columns": null,
      "grid_template_rows": null,
      "height": null,
      "justify_content": null,
      "justify_items": null,
      "left": null,
      "margin": null,
      "max_height": null,
      "max_width": null,
      "min_height": null,
      "min_width": null,
      "object_fit": null,
      "object_position": null,
      "order": null,
      "overflow": null,
      "overflow_x": null,
      "overflow_y": null,
      "padding": null,
      "right": null,
      "top": null,
      "visibility": null,
      "width": null
     }
    },
    "a501948a177942118b9b9f0bdfdd92b6": {
     "model_module": "@jupyter-widgets/controls",
     "model_module_version": "1.5.0",
     "model_name": "ProgressStyleModel",
     "state": {
      "_model_module": "@jupyter-widgets/controls",
      "_model_module_version": "1.5.0",
      "_model_name": "ProgressStyleModel",
      "_view_count": null,
      "_view_module": "@jupyter-widgets/base",
      "_view_module_version": "1.2.0",
      "_view_name": "StyleView",
      "bar_color": null,
      "description_width": ""
     }
    },
    "a678740f297846a9ba51343ef9acccb7": {
     "model_module": "@jupyter-widgets/base",
     "model_module_version": "1.2.0",
     "model_name": "LayoutModel",
     "state": {
      "_model_module": "@jupyter-widgets/base",
      "_model_module_version": "1.2.0",
      "_model_name": "LayoutModel",
      "_view_count": null,
      "_view_module": "@jupyter-widgets/base",
      "_view_module_version": "1.2.0",
      "_view_name": "LayoutView",
      "align_content": null,
      "align_items": null,
      "align_self": null,
      "border": null,
      "bottom": null,
      "display": null,
      "flex": null,
      "flex_flow": null,
      "grid_area": null,
      "grid_auto_columns": null,
      "grid_auto_flow": null,
      "grid_auto_rows": null,
      "grid_column": null,
      "grid_gap": null,
      "grid_row": null,
      "grid_template_areas": null,
      "grid_template_columns": null,
      "grid_template_rows": null,
      "height": null,
      "justify_content": null,
      "justify_items": null,
      "left": null,
      "margin": null,
      "max_height": null,
      "max_width": null,
      "min_height": null,
      "min_width": null,
      "object_fit": null,
      "object_position": null,
      "order": null,
      "overflow": null,
      "overflow_x": null,
      "overflow_y": null,
      "padding": null,
      "right": null,
      "top": null,
      "visibility": null,
      "width": null
     }
    },
    "ad2fdbff9bb94a428d4d9bba26a9227a": {
     "model_module": "@jupyter-widgets/controls",
     "model_module_version": "1.5.0",
     "model_name": "HBoxModel",
     "state": {
      "_dom_classes": [],
      "_model_module": "@jupyter-widgets/controls",
      "_model_module_version": "1.5.0",
      "_model_name": "HBoxModel",
      "_view_count": null,
      "_view_module": "@jupyter-widgets/controls",
      "_view_module_version": "1.5.0",
      "_view_name": "HBoxView",
      "box_style": "",
      "children": [
       "IPY_MODEL_f3f07832d759492fbbbb8b122358421d",
       "IPY_MODEL_d9f8ee15420a4fab9b2e458344c0393b",
       "IPY_MODEL_3ac29ea09e5c4f8db9657e56a1d12a6c"
      ],
      "layout": "IPY_MODEL_4312146943be4263a594c15a0df095a1"
     }
    },
    "baec7636b03b400284fc84d2dd0f059f": {
     "model_module": "@jupyter-widgets/controls",
     "model_module_version": "1.5.0",
     "model_name": "FloatProgressModel",
     "state": {
      "_dom_classes": [],
      "_model_module": "@jupyter-widgets/controls",
      "_model_module_version": "1.5.0",
      "_model_name": "FloatProgressModel",
      "_view_count": null,
      "_view_module": "@jupyter-widgets/controls",
      "_view_module_version": "1.5.0",
      "_view_name": "ProgressView",
      "bar_style": "success",
      "description": "",
      "description_tooltip": null,
      "layout": "IPY_MODEL_9b749ee0bea046a0bd2569f95dd3629e",
      "max": 286,
      "min": 0,
      "orientation": "horizontal",
      "style": "IPY_MODEL_78395c4346574282b7b3e7dfaca0f4ee",
      "value": 286
     }
    },
    "d160fc03521b429e9c6a2f71978f5697": {
     "model_module": "@jupyter-widgets/base",
     "model_module_version": "1.2.0",
     "model_name": "LayoutModel",
     "state": {
      "_model_module": "@jupyter-widgets/base",
      "_model_module_version": "1.2.0",
      "_model_name": "LayoutModel",
      "_view_count": null,
      "_view_module": "@jupyter-widgets/base",
      "_view_module_version": "1.2.0",
      "_view_name": "LayoutView",
      "align_content": null,
      "align_items": null,
      "align_self": null,
      "border": null,
      "bottom": null,
      "display": null,
      "flex": null,
      "flex_flow": null,
      "grid_area": null,
      "grid_auto_columns": null,
      "grid_auto_flow": null,
      "grid_auto_rows": null,
      "grid_column": null,
      "grid_gap": null,
      "grid_row": null,
      "grid_template_areas": null,
      "grid_template_columns": null,
      "grid_template_rows": null,
      "height": null,
      "justify_content": null,
      "justify_items": null,
      "left": null,
      "margin": null,
      "max_height": null,
      "max_width": null,
      "min_height": null,
      "min_width": null,
      "object_fit": null,
      "object_position": null,
      "order": null,
      "overflow": null,
      "overflow_x": null,
      "overflow_y": null,
      "padding": null,
      "right": null,
      "top": null,
      "visibility": null,
      "width": null
     }
    },
    "d17b118594574bdcae63d547485ee16b": {
     "model_module": "@jupyter-widgets/base",
     "model_module_version": "1.2.0",
     "model_name": "LayoutModel",
     "state": {
      "_model_module": "@jupyter-widgets/base",
      "_model_module_version": "1.2.0",
      "_model_name": "LayoutModel",
      "_view_count": null,
      "_view_module": "@jupyter-widgets/base",
      "_view_module_version": "1.2.0",
      "_view_name": "LayoutView",
      "align_content": null,
      "align_items": null,
      "align_self": null,
      "border": null,
      "bottom": null,
      "display": null,
      "flex": null,
      "flex_flow": null,
      "grid_area": null,
      "grid_auto_columns": null,
      "grid_auto_flow": null,
      "grid_auto_rows": null,
      "grid_column": null,
      "grid_gap": null,
      "grid_row": null,
      "grid_template_areas": null,
      "grid_template_columns": null,
      "grid_template_rows": null,
      "height": null,
      "justify_content": null,
      "justify_items": null,
      "left": null,
      "margin": null,
      "max_height": null,
      "max_width": null,
      "min_height": null,
      "min_width": null,
      "object_fit": null,
      "object_position": null,
      "order": null,
      "overflow": null,
      "overflow_x": null,
      "overflow_y": null,
      "padding": null,
      "right": null,
      "top": null,
      "visibility": null,
      "width": null
     }
    },
    "d92a05827a4f4617a01a029eebdb2e4b": {
     "model_module": "@jupyter-widgets/controls",
     "model_module_version": "1.5.0",
     "model_name": "DescriptionStyleModel",
     "state": {
      "_model_module": "@jupyter-widgets/controls",
      "_model_module_version": "1.5.0",
      "_model_name": "DescriptionStyleModel",
      "_view_count": null,
      "_view_module": "@jupyter-widgets/base",
      "_view_module_version": "1.2.0",
      "_view_name": "StyleView",
      "description_width": ""
     }
    },
    "d9f8ee15420a4fab9b2e458344c0393b": {
     "model_module": "@jupyter-widgets/controls",
     "model_module_version": "1.5.0",
     "model_name": "FloatProgressModel",
     "state": {
      "_dom_classes": [],
      "_model_module": "@jupyter-widgets/controls",
      "_model_module_version": "1.5.0",
      "_model_name": "FloatProgressModel",
      "_view_count": null,
      "_view_module": "@jupyter-widgets/controls",
      "_view_module_version": "1.5.0",
      "_view_name": "ProgressView",
      "bar_style": "success",
      "description": "",
      "description_tooltip": null,
      "layout": "IPY_MODEL_a678740f297846a9ba51343ef9acccb7",
      "max": 2870,
      "min": 0,
      "orientation": "horizontal",
      "style": "IPY_MODEL_a501948a177942118b9b9f0bdfdd92b6",
      "value": 2870
     }
    },
    "dcaa7a024ddb4c19b25b6ad837e8f278": {
     "model_module": "@jupyter-widgets/controls",
     "model_module_version": "1.5.0",
     "model_name": "DescriptionStyleModel",
     "state": {
      "_model_module": "@jupyter-widgets/controls",
      "_model_module_version": "1.5.0",
      "_model_name": "DescriptionStyleModel",
      "_view_count": null,
      "_view_module": "@jupyter-widgets/base",
      "_view_module_version": "1.2.0",
      "_view_name": "StyleView",
      "description_width": ""
     }
    },
    "dfb7f13e3f104a0292e083a58fa39623": {
     "model_module": "@jupyter-widgets/base",
     "model_module_version": "1.2.0",
     "model_name": "LayoutModel",
     "state": {
      "_model_module": "@jupyter-widgets/base",
      "_model_module_version": "1.2.0",
      "_model_name": "LayoutModel",
      "_view_count": null,
      "_view_module": "@jupyter-widgets/base",
      "_view_module_version": "1.2.0",
      "_view_name": "LayoutView",
      "align_content": null,
      "align_items": null,
      "align_self": null,
      "border": null,
      "bottom": null,
      "display": null,
      "flex": null,
      "flex_flow": null,
      "grid_area": null,
      "grid_auto_columns": null,
      "grid_auto_flow": null,
      "grid_auto_rows": null,
      "grid_column": null,
      "grid_gap": null,
      "grid_row": null,
      "grid_template_areas": null,
      "grid_template_columns": null,
      "grid_template_rows": null,
      "height": null,
      "justify_content": null,
      "justify_items": null,
      "left": null,
      "margin": null,
      "max_height": null,
      "max_width": null,
      "min_height": null,
      "min_width": null,
      "object_fit": null,
      "object_position": null,
      "order": null,
      "overflow": null,
      "overflow_x": null,
      "overflow_y": null,
      "padding": null,
      "right": null,
      "top": null,
      "visibility": null,
      "width": null
     }
    },
    "e314abf17ead42158468f5d0847f25cd": {
     "model_module": "@jupyter-widgets/base",
     "model_module_version": "1.2.0",
     "model_name": "LayoutModel",
     "state": {
      "_model_module": "@jupyter-widgets/base",
      "_model_module_version": "1.2.0",
      "_model_name": "LayoutModel",
      "_view_count": null,
      "_view_module": "@jupyter-widgets/base",
      "_view_module_version": "1.2.0",
      "_view_name": "LayoutView",
      "align_content": null,
      "align_items": null,
      "align_self": null,
      "border": null,
      "bottom": null,
      "display": null,
      "flex": null,
      "flex_flow": null,
      "grid_area": null,
      "grid_auto_columns": null,
      "grid_auto_flow": null,
      "grid_auto_rows": null,
      "grid_column": null,
      "grid_gap": null,
      "grid_row": null,
      "grid_template_areas": null,
      "grid_template_columns": null,
      "grid_template_rows": null,
      "height": null,
      "justify_content": null,
      "justify_items": null,
      "left": null,
      "margin": null,
      "max_height": null,
      "max_width": null,
      "min_height": null,
      "min_width": null,
      "object_fit": null,
      "object_position": null,
      "order": null,
      "overflow": null,
      "overflow_x": null,
      "overflow_y": null,
      "padding": null,
      "right": null,
      "top": null,
      "visibility": null,
      "width": null
     }
    },
    "e7ec1d78fc9349e780b4c67aef084c81": {
     "model_module": "@jupyter-widgets/controls",
     "model_module_version": "1.5.0",
     "model_name": "FloatProgressModel",
     "state": {
      "_dom_classes": [],
      "_model_module": "@jupyter-widgets/controls",
      "_model_module_version": "1.5.0",
      "_model_name": "FloatProgressModel",
      "_view_count": null,
      "_view_module": "@jupyter-widgets/controls",
      "_view_module_version": "1.5.0",
      "_view_name": "ProgressView",
      "bar_style": "success",
      "description": "",
      "description_tooltip": null,
      "layout": "IPY_MODEL_010af9ad50c342aa8ffd390913656783",
      "max": 158,
      "min": 0,
      "orientation": "horizontal",
      "style": "IPY_MODEL_37f6e3a55fae4e89b226d65799c056ae",
      "value": 158
     }
    },
    "ed24a4a107564712b5239f68fe8b807f": {
     "model_module": "@jupyter-widgets/controls",
     "model_module_version": "1.5.0",
     "model_name": "DescriptionStyleModel",
     "state": {
      "_model_module": "@jupyter-widgets/controls",
      "_model_module_version": "1.5.0",
      "_model_name": "DescriptionStyleModel",
      "_view_count": null,
      "_view_module": "@jupyter-widgets/base",
      "_view_module_version": "1.2.0",
      "_view_name": "StyleView",
      "description_width": ""
     }
    },
    "f3f07832d759492fbbbb8b122358421d": {
     "model_module": "@jupyter-widgets/controls",
     "model_module_version": "1.5.0",
     "model_name": "HTMLModel",
     "state": {
      "_dom_classes": [],
      "_model_module": "@jupyter-widgets/controls",
      "_model_module_version": "1.5.0",
      "_model_name": "HTMLModel",
      "_view_count": null,
      "_view_module": "@jupyter-widgets/controls",
      "_view_module_version": "1.5.0",
      "_view_name": "HTMLView",
      "description": "",
      "description_tooltip": null,
      "layout": "IPY_MODEL_e314abf17ead42158468f5d0847f25cd",
      "placeholder": "​",
      "style": "IPY_MODEL_392b67ddfb28405997e480da9608c65f",
      "value": "Map: 100%"
     }
    }
   }
  }
 },
 "nbformat": 4,
 "nbformat_minor": 0
}
