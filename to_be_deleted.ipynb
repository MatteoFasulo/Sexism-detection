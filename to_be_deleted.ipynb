{
 "cells": [
  {
   "cell_type": "code",
   "execution_count": 1,
   "metadata": {},
   "outputs": [],
   "source": [
    "import pandas as pd\n",
    "from ast import literal_eval"
   ]
  },
  {
   "cell_type": "code",
   "execution_count": 2,
   "metadata": {},
   "outputs": [],
   "source": [
    "df = pd.read_csv('csv/test_predictions.csv', encoding='utf-8', converters={\"labels_task3\": literal_eval})"
   ]
  },
  {
   "cell_type": "code",
   "execution_count": 3,
   "metadata": {},
   "outputs": [],
   "source": [
    "test = df[\n",
    "    (df['baseline_predictions'] == df['2_layers_predictions']) & # LSTM agree\n",
    "    (df['baseline_predictions'] == df['twitter_predictions']) & # LSTM agree with transformer\n",
    "    (df['hard_label_task1'] != df['twitter_predictions'])] # but they are all wrong"
   ]
  },
  {
   "cell_type": "code",
   "execution_count": 4,
   "metadata": {},
   "outputs": [
    {
     "data": {
      "text/plain": [
       "<Axes: ylabel='labels_task3'>"
      ]
     },
     "execution_count": 4,
     "metadata": {},
     "output_type": "execute_result"
    },
    {
     "data": {
      "image/png": "[encoded data removed]",
      "text/plain": [
       "<Figure size 640x480 with 1 Axes>"
      ]
     },
     "metadata": {},
     "output_type": "display_data"
    }
   ],
   "source": [
    "test['labels_task3'].explode().explode().value_counts(normalize=True, ascending=True).iloc[:-1].plot(kind='barh')"
   ]
  },
  {
   "cell_type": "code",
   "execution_count": null,
   "metadata": {},
   "outputs": [
    {
     "name": "stdout",
     "output_type": "stream",
     "text": [
      "True: ['YES', 'NO', 'NO', 'YES', 'NO', 'NO']\n",
      "Predicted: 1\n",
      "Tweet: @BoopBepp @Helloth07860784 @Bronwen85 Yup I hate when men rape and kill women. https://t.co/MyfVPu6THd\n",
      "Categories: [['OBJECTIFICATION', 'SEXUAL-VIOLENCE'], ['-'], ['-'], ['SEXUAL-VIOLENCE'], ['-'], ['-']]\n",
      "\n"
     ]
    }
   ],
   "source": [
    "print(f\"\"\"True: {test.iloc[3]['labels_task1']}\n",
    "Predicted: {test.iloc[3]['twitter_predictions']}\n",
    "Tweet: {test.iloc[3]['tweet']}\n",
    "Categories: {test.iloc[3]['labels_task3']}\n",
    "\"\"\")"
   ]
  },
  {
   "cell_type": "code",
   "execution_count": 13,
   "metadata": {},
   "outputs": [
    {
     "name": "stdout",
     "output_type": "stream",
     "text": [
      "True: ['NO', 'NO', 'YES', 'YES', 'NO', 'NO']\n",
      "Predicted: 1\n",
      "Tweet: @UberFacts Today’s women eye makeup. And those nails too.\n",
      "Categories: [['-'], ['-'], ['OBJECTIFICATION'], ['MISOGYNY-NON-SEXUAL-VIOLENCE'], ['-'], ['-']]\n",
      "\n"
     ]
    }
   ],
   "source": [
    "print(f\"\"\"True: {test.iloc[20]['labels_task1']}\n",
    "Predicted: {test.iloc[20]['twitter_predictions']}\n",
    "Tweet: {test.iloc[20]['tweet']}\n",
    "Categories: {test.iloc[20]['labels_task3']}\n",
    "\"\"\")"
   ]
  },
  {
   "cell_type": "code",
   "execution_count": 16,
   "metadata": {},
   "outputs": [
    {
     "name": "stdout",
     "output_type": "stream",
     "text": [
      "True: ['NO', 'YES', 'NO', 'NO', 'NO', 'NO']\n",
      "Predicted: 1\n",
      "Tweet: @LogicalFallac18 @LBC Sex* as in 'gender' harassment is what they are inferring.\n",
      "Categories: [['-'], ['IDEOLOGICAL-INEQUALITY', 'SEXUAL-VIOLENCE'], ['-'], ['-'], ['-'], ['-']]\n",
      "\n",
      "----------\n",
      "\n",
      "True: ['NO', 'NO', 'NO', 'NO', 'YES', 'YES']\n",
      "Predicted: 1\n",
      "Tweet: He Tries To Expose This Gold Digger BUT IT BACKFIRES. | 90 Day Fiancée B... https://t.co/pz91AbJ0WS via @YouTube\n",
      "Categories: [['-'], ['-'], ['-'], ['-'], ['OBJECTIFICATION', 'MISOGYNY-NON-SEXUAL-VIOLENCE'], ['IDEOLOGICAL-INEQUALITY']]\n",
      "\n",
      "----------\n",
      "\n",
      "True: ['NO', 'NO', 'NO', 'NO', 'NO', 'YES']\n",
      "Predicted: 1\n",
      "Tweet: @MatrixPirate12 Well let me ask for the guys… do you ever just grab your testicles because you can?\n",
      "Categories: [['-'], ['-'], ['-'], ['-'], ['-'], ['STEREOTYPING-DOMINANCE']]\n",
      "\n",
      "----------\n",
      "\n",
      "True: ['YES', 'NO', 'NO', 'YES', 'NO', 'NO']\n",
      "Predicted: 1\n",
      "Tweet: @BoopBepp @Helloth07860784 @Bronwen85 Yup I hate when men rape and kill women. https://t.co/MyfVPu6THd\n",
      "Categories: [['OBJECTIFICATION', 'SEXUAL-VIOLENCE'], ['-'], ['-'], ['SEXUAL-VIOLENCE'], ['-'], ['-']]\n",
      "\n",
      "----------\n",
      "\n",
      "True: ['YES', 'YES', 'NO', 'NO', 'NO', 'NO']\n",
      "Predicted: 1\n",
      "Tweet: Ladies,don't let anyone body shame you in any way...you are fat so what..you are beautiful my dear...be confident in yourself...peace\n",
      "Categories: [['OBJECTIFICATION'], ['OBJECTIFICATION'], ['-'], ['-'], ['-'], ['-']]\n",
      "\n",
      "----------\n",
      "\n",
      "True: ['NO', 'YES', 'NO', 'NO', 'YES', 'NO']\n",
      "Predicted: 1\n",
      "Tweet: Stop ✋🏾 Don’t lie to these people. Ladies, don’t let this man trick you out of the greatest organs of your life 🙄 cause  what? https://t.co/secSDVvFKz\n",
      "Categories: [['-'], ['STEREOTYPING-DOMINANCE', 'MISOGYNY-NON-SEXUAL-VIOLENCE'], ['-'], ['-'], ['OBJECTIFICATION'], ['-']]\n",
      "\n",
      "----------\n",
      "\n",
      "True: ['YES', 'YES', 'NO', 'NO', 'NO', 'NO']\n",
      "Predicted: 1\n",
      "Tweet: Ladies, don't have a miscarriage in Louisiana! If you do, in addition to probably having your friends and family sued by some opportunistic yokel, you'll be charged with murder.  https://t.co/6JtnjUCkLC\n",
      "Categories: [['MISOGYNY-NON-SEXUAL-VIOLENCE'], ['MISOGYNY-NON-SEXUAL-VIOLENCE'], ['-'], ['-'], ['-'], ['-']]\n",
      "\n",
      "----------\n",
      "\n",
      "True: ['YES', 'YES', 'YES', 'NO', 'YES', 'YES']\n",
      "Predicted: 0\n",
      "Tweet: Mansplaining the concept of a pee drawer to my partner (who want me)\n",
      "Categories: [['IDEOLOGICAL-INEQUALITY'], ['STEREOTYPING-DOMINANCE'], ['OBJECTIFICATION'], ['-'], ['SEXUAL-VIOLENCE'], ['STEREOTYPING-DOMINANCE']]\n",
      "\n",
      "----------\n",
      "\n",
      "True: ['YES', 'YES', 'NO', 'YES', 'YES', 'YES']\n",
      "Predicted: 0\n",
      "Tweet: Going weak rn... PLAYING THE GUITAR?!?!?! MANSPREADING!?!??!?! I AM ON MY KNEES https://t.co/yKABMDXGmg\n",
      "Categories: [['STEREOTYPING-DOMINANCE'], ['OBJECTIFICATION'], ['-'], ['IDEOLOGICAL-INEQUALITY'], ['SEXUAL-VIOLENCE'], ['OBJECTIFICATION']]\n",
      "\n",
      "----------\n",
      "\n",
      "True: ['YES', 'NO', 'NO', 'NO', 'NO', 'NO']\n",
      "Predicted: 1\n",
      "Tweet: stay on Penis masturbate the Penis forever https://t.co/lOtwLsVr12\n",
      "Categories: [['IDEOLOGICAL-INEQUALITY', 'STEREOTYPING-DOMINANCE', 'OBJECTIFICATION'], ['-'], ['-'], ['-'], ['-'], ['-']]\n",
      "\n",
      "----------\n",
      "\n",
      "True: ['NO', 'NO', 'YES', 'NO', 'NO', 'NO']\n",
      "Predicted: 1\n",
      "Tweet: @SeanMc46114355 @piscesflowers On the audio from when his finger was cut off ! Even the  people that were there said she did it. She says she’s totally against cocaine but does cocaine. Tries to say the nurse is basically lying in her notes about her doing drugs. Everyone is lying but her!\n",
      "Categories: [['-'], ['-'], ['IDEOLOGICAL-INEQUALITY'], ['-'], ['-'], ['-']]\n",
      "\n",
      "----------\n",
      "\n",
      "True: ['YES', 'YES', 'YES', 'YES', 'YES', 'NO']\n",
      "Predicted: 0\n",
      "Tweet: @ShelleyKingsto3 @CNP_MacFarlane @CanadianinAB It's objectification &amp; dehumanizing. I saw someone take time out of their day to make a strong political point about Horwath 🙄(sarcasm) -- he Tweeted about how her photo looked like it had lots of photoshop. Such pathetic clowns.\n",
      "Categories: [['STEREOTYPING-DOMINANCE'], ['OBJECTIFICATION', 'MISOGYNY-NON-SEXUAL-VIOLENCE'], ['MISOGYNY-NON-SEXUAL-VIOLENCE'], ['OBJECTIFICATION'], ['OBJECTIFICATION'], ['-']]\n",
      "\n",
      "----------\n",
      "\n",
      "True: ['NO', 'YES', 'NO', 'YES', 'NO', 'NO']\n",
      "Predicted: 1\n",
      "Tweet: @tuckednuts Notice something else tho…Almost every single one, is a man. That’s such a fucking problem that this is how some men believe they should let out their angers and hatred. This society needs to do better, it does not even benefit the men. Patriarchy/misogyny fails everyone\n",
      "Categories: [['-'], ['STEREOTYPING-DOMINANCE'], ['-'], ['IDEOLOGICAL-INEQUALITY'], ['-'], ['-']]\n",
      "\n",
      "----------\n",
      "\n",
      "True: ['NO', 'YES', 'YES', 'NO', 'YES', 'YES']\n",
      "Predicted: 0\n",
      "Tweet: @Mistywoman1 Have I missed something, or has phallocentrism become the latest cult?\n",
      "Categories: [['-'], ['IDEOLOGICAL-INEQUALITY'], ['MISOGYNY-NON-SEXUAL-VIOLENCE'], ['-'], ['IDEOLOGICAL-INEQUALITY'], ['SEXUAL-VIOLENCE']]\n",
      "\n",
      "----------\n",
      "\n",
      "True: ['YES', 'YES', 'YES', 'YES', 'YES', 'YES']\n",
      "Predicted: 0\n",
      "Tweet: Fuck's sake is it possible to have a furry space that's not explicitly content-restricted and doesn't immediately become yet another showcase for size-queen phallocentrism?\n",
      "Categories: [['IDEOLOGICAL-INEQUALITY', 'STEREOTYPING-DOMINANCE'], ['STEREOTYPING-DOMINANCE'], ['STEREOTYPING-DOMINANCE', 'OBJECTIFICATION'], ['OBJECTIFICATION'], ['IDEOLOGICAL-INEQUALITY', 'OBJECTIFICATION'], ['IDEOLOGICAL-INEQUALITY', 'SEXUAL-VIOLENCE']]\n",
      "\n",
      "----------\n",
      "\n",
      "True: ['YES', 'YES', 'YES', 'YES', 'NO', 'YES']\n",
      "Predicted: 0\n",
      "Tweet: Cyborg politics is the struggle for language and the struggle against perfect communication, against the one code that translates all meaning perfectly, the central dogma of phallogocentrism\n",
      "Categories: [['IDEOLOGICAL-INEQUALITY', 'STEREOTYPING-DOMINANCE', 'MISOGYNY-NON-SEXUAL-VIOLENCE'], ['IDEOLOGICAL-INEQUALITY', 'STEREOTYPING-DOMINANCE'], ['STEREOTYPING-DOMINANCE', 'OBJECTIFICATION'], ['IDEOLOGICAL-INEQUALITY'], ['-'], ['IDEOLOGICAL-INEQUALITY', 'STEREOTYPING-DOMINANCE']]\n",
      "\n",
      "----------\n",
      "\n",
      "True: ['YES', 'NO', 'NO', 'NO', 'NO', 'NO']\n",
      "Predicted: 1\n",
      "Tweet: \"Calling A Man Bald Is Sexual Harassment\" https://t.co/MiSGkB89bs via @YouTube\n",
      "Categories: [['IDEOLOGICAL-INEQUALITY'], ['-'], ['-'], ['-'], ['-'], ['-']]\n",
      "\n",
      "----------\n",
      "\n",
      "True: ['YES', 'YES', 'NO', 'YES', 'NO', 'YES']\n",
      "Predicted: 0\n",
      "Tweet: According to the Human Rights Commission, 1 in 3 people experience sexual harassment at work. We have created an online course  providing strategies to prevent and respond should incidents occur. Start your course at: https://t.co/yC40T3cJao #guardianpst https://t.co/oTwKxFqxQN\n",
      "Categories: [['IDEOLOGICAL-INEQUALITY'], ['SEXUAL-VIOLENCE'], ['-'], ['SEXUAL-VIOLENCE'], ['-'], ['SEXUAL-VIOLENCE']]\n",
      "\n",
      "----------\n",
      "\n",
      "True: ['NO', 'NO', 'NO', 'NO', 'NO', 'NO']\n",
      "Predicted: 1\n",
      "Tweet: Wen I'm rich I hope the broke nigga in me survives cuz I ain't ever paying 54 bucks for a salad. I hope the trenches slap that shit outta my hand.\n",
      "Categories: [['-'], ['-'], ['-'], ['-'], ['-'], ['-']]\n",
      "\n",
      "----------\n",
      "\n",
      "True: ['YES', 'YES', 'YES', 'YES', 'YES', 'YES']\n",
      "Predicted: 0\n",
      "Tweet: BOUNCEEYYYY BOOBIEEEESSSSSS #hookup #BOUNCEY #boobs #boobie #tits https://t.co/lUAuZkT5w3\n",
      "Categories: [['OBJECTIFICATION', 'SEXUAL-VIOLENCE'], ['SEXUAL-VIOLENCE'], ['SEXUAL-VIOLENCE'], ['OBJECTIFICATION'], ['OBJECTIFICATION', 'SEXUAL-VIOLENCE'], ['SEXUAL-VIOLENCE']]\n",
      "\n",
      "----------\n",
      "\n",
      "True: ['NO', 'NO', 'YES', 'YES', 'NO', 'NO']\n",
      "Predicted: 1\n",
      "Tweet: @UberFacts Today’s women eye makeup. And those nails too.\n",
      "Categories: [['-'], ['-'], ['OBJECTIFICATION'], ['MISOGYNY-NON-SEXUAL-VIOLENCE'], ['-'], ['-']]\n",
      "\n",
      "----------\n",
      "\n",
      "True: ['NO', 'NO', 'NO', 'YES', 'NO', 'YES']\n",
      "Predicted: 1\n",
      "Tweet: @bhargavtata0 oh so now u can’t understand women’s words??????\n",
      "Categories: [['-'], ['-'], ['-'], ['STEREOTYPING-DOMINANCE'], ['-'], ['STEREOTYPING-DOMINANCE']]\n",
      "\n",
      "----------\n",
      "\n",
      "True: ['NO', 'NO', 'YES', 'NO', 'YES', 'NO']\n",
      "Predicted: 1\n",
      "Tweet: the question is do i wear the very short skirt that literally shows my ass with kneehighs or opt out for a short 🤔\n",
      "Categories: [['-'], ['-'], ['IDEOLOGICAL-INEQUALITY', 'OBJECTIFICATION'], ['-'], ['OBJECTIFICATION'], ['-']]\n",
      "\n",
      "----------\n",
      "\n",
      "True: ['NO', 'YES', 'NO', 'NO', 'NO', 'YES']\n",
      "Predicted: 1\n",
      "Tweet: @CheriJacobus My new favorite meme is the pregnant woman driving in the Oklahoma HOV lane telling the state trooper who pulled her over that she is driving with another person..\n",
      "Categories: [['-'], ['OBJECTIFICATION'], ['-'], ['-'], ['-'], ['STEREOTYPING-DOMINANCE']]\n",
      "\n",
      "----------\n",
      "\n",
      "True: ['YES', 'NO', 'NO', 'NO', 'NO', 'NO']\n",
      "Predicted: 1\n",
      "Tweet: Feminism VS Womanism\"Hudson-Weems identifies further differences between womanism and feminism being; womanism is \"family-oriented\" and focuses on race, class, and gender, while feminism is \"female-oriented\" and strictly focuses on biological sex related issues women face.\" https://t.co/D5p9VCPTmn\n",
      "Categories: [['IDEOLOGICAL-INEQUALITY', 'STEREOTYPING-DOMINANCE'], ['-'], ['-'], ['-'], ['-'], ['-']]\n",
      "\n",
      "----------\n",
      "\n",
      "True: ['NO', 'NO', 'NO', 'NO', 'NO', 'YES']\n",
      "Predicted: 1\n",
      "Tweet: @CrossrdsCMG Yeah, women are getting just as bad. I've noticed it anyway, I'm sorry people are sending you stuff like that, it can be so gross!\n",
      "Categories: [['-'], ['-'], ['-'], ['-'], ['-'], ['STEREOTYPING-DOMINANCE', 'OBJECTIFICATION']]\n",
      "\n",
      "----------\n",
      "\n",
      "True: ['NO', 'NO', 'YES', 'NO', 'YES', 'NO']\n",
      "Predicted: 1\n",
      "Tweet: Uh, they're allowed to? calling this out makes you look like a cunt. Fortunately, I'll block you so fast you wont get your screenshot. https://t.co/iyWul5BoN6\n",
      "Categories: [['-'], ['-'], ['MISOGYNY-NON-SEXUAL-VIOLENCE'], ['-'], ['IDEOLOGICAL-INEQUALITY', 'OBJECTIFICATION'], ['-']]\n",
      "\n",
      "----------\n",
      "\n"
     ]
    }
   ],
   "source": [
    "for i in range(len(test)):\n",
    "    print(f\"\"\"True: {test.iloc[i]['labels_task1']}\n",
    "Predicted: {test.iloc[i]['twitter_predictions']}\n",
    "Tweet: {test.iloc[i]['tweet']}\n",
    "Categories: {test.iloc[i]['labels_task3']}\n",
    "\"\"\")\n",
    "    print(\"----------\\n\")"
   ]
  },
  {
   "cell_type": "code",
   "execution_count": null,
   "metadata": {},
   "outputs": [],
   "source": [
    "test = df[\n",
    "    (df['baseline_predictions'] == df['2_layers_predictions']) & # LSTM agree\n",
    "    (df['baseline_predictions'] == df['twitter_predictions']) & # LSTM agree with transformer\n",
    "    (df['hard_label_task1'] != df['twitter_predictions'])] # but they are all wrong"
   ]
  }
 ],
 "metadata": {
  "kernelspec": {
   "display_name": "env",
   "language": "python",
   "name": "python3"
  },
  "language_info": {
   "codemirror_mode": {
    "name": "ipython",
    "version": 3
   },
   "file_extension": ".py",
   "mimetype": "text/x-python",
   "name": "python",
   "nbconvert_exporter": "python",
   "pygments_lexer": "ipython3",
   "version": "3.10.12"
  }
 },
 "nbformat": 4,
 "nbformat_minor": 2
}
