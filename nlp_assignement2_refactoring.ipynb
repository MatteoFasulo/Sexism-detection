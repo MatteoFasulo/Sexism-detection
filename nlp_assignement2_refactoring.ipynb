{
  "cells": [
    {
      "cell_type": "markdown",
      "metadata": {
        "id": "view-in-github"
      },
      "source": [
        "<a href=\"https://colab.research.google.com/github/MatteoFasulo/Sexism-detection/blob/assignment2/Assignment_2_refactoring.ipynb\" target=\"_parent\"><img src=\"https://colab.research.google.com/assets/colab-badge.svg\" alt=\"Open In Colab\"/></a>"
      ]
    },
    {
      "cell_type": "markdown",
      "metadata": {
        "id": "-WeCeITXoxLf"
      },
      "source": [
        "# Assignment 2\n",
        "\n",
        "\n",
        "**Keywords**: Sexism Detection, Multi-class Classification, LLMs, Prompting\n",
        "\n",
        "\n",
        "## Group\n",
        "\n",
        "* Luca Babboni - luca.babboni2@studio.unibo.it\n",
        "* Matteo Fasulo - matteo.fasulo@studio.unibo.it\n",
        "* Maksim Omelchenko - maksim.omelchenko@studio.unibo.it\n",
        "* Luca Tedeschini - luca.tedeschini3@studio.unibo.it\n",
        "\n"
      ]
    },
    {
      "cell_type": "markdown",
      "metadata": {
        "id": "Ck47wFhrLJnc"
      },
      "source": [
        "## Description\n",
        "\n",
        "This notebook addresses [EDOS Task A](https://github.com/rewire-online/edos) on sexism detection.\n"
      ]
    },
    {
      "cell_type": "markdown",
      "metadata": {
        "id": "5mtjp0cGLJnc"
      },
      "source": [
        "## Problem definition\n",
        "\n",
        "Given an input text sentence, the task is to label the sentence as sexist or not sexist (binary classification).\n",
        "\n",
        "### Examples:\n",
        "\n",
        "**Text**: *``Schedule a date with her, then don't show up. Then text her \"GOTCHA B___H\".''*\n",
        "\n",
        "**Label**: Sexist\n",
        "\n",
        "**Text**: *``That’s completely ridiculous a woman flashing her boobs is not sexual assault in the slightest.''*\n",
        "\n",
        "**Label**: Not sexist\n",
        "\n"
      ]
    },
    {
      "cell_type": "markdown",
      "metadata": {
        "id": "3dqwRZx-QNGX"
      },
      "source": [
        "## Approach\n",
        "\n",
        "We will tackle the binary classification task with LLMs.\n",
        "\n",
        "In particular, we'll consider zero-/few-shot prompting approaches to assess the capability of some popular open-source LLMs on this task."
      ]
    },
    {
      "cell_type": "markdown",
      "metadata": {
        "id": "PS3igwXpQcAY"
      },
      "source": [
        "## Preliminaries\n",
        "\n",
        "We are going to download LLMs from [Huggingface](https://huggingface.co/).\n",
        "\n",
        "Many of these open-source LLMs require you to accept their \"Community License Agreement\" to download them.\n",
        "\n",
        "In summary:\n",
        "\n",
        "- If not already, create an account of Huggingface (~2 mins)\n",
        "- Check a LLM model card page (e.g., [Mistral v3](https://huggingface.co/mistralai/Mistral-7B-Instruct-v0.3)) and accept its \"Community License Agreement\".\n",
        "- Go to your account -> Settings -> Access Tokens -> Create new token -> \"Repositories permissions\" -> add the LLM model card you want to use.\n",
        "- Save the token (we'll need it later)"
      ]
    },
    {
      "cell_type": "markdown",
      "metadata": {
        "id": "U-X8hewlmS9v"
      },
      "source": [
        "### Libraries\n",
        "In order to excecute the code we are gonna install and import the necessary libraries.\n",
        "First of all we are gonna install the last version of bitsandbytes in order to been able to use the quantization."
      ]
    },
    {
      "cell_type": "code",
      "execution_count": 1,
      "metadata": {
        "id": "GZ1vH4IZmS9w"
      },
      "outputs": [],
      "source": [
        "%%capture\n",
        "%pip install -U bitsandbytes"
      ]
    },
    {
      "cell_type": "markdown",
      "metadata": {
        "id": "au5cCyPHmS9x"
      },
      "source": [
        "Then we need to reload the notebook kernel"
      ]
    },
    {
      "cell_type": "code",
      "execution_count": null,
      "metadata": {
        "id": "jr_Zow9jmS9x"
      },
      "outputs": [],
      "source": [
        "import os\n",
        "os.kill(os.getpid(), 9)"
      ]
    },
    {
      "cell_type": "code",
      "source": [
        "import IPython\n",
        "app = IPython.Application.instance()\n",
        "app.kernel.do_shutdown(True)  # Restart the kernel"
      ],
      "metadata": {
        "colab": {
          "base_uri": "https://localhost:8080/"
        },
        "id": "HggHpANhnjAQ",
        "outputId": "ed412363-f870-4f31-f9d3-6f2c0049aa2c"
      },
      "execution_count": null,
      "outputs": [
        {
          "output_type": "execute_result",
          "data": {
            "text/plain": [
              "{'status': 'ok', 'restart': True}"
            ]
          },
          "metadata": {},
          "execution_count": 12
        }
      ]
    },
    {
      "cell_type": "markdown",
      "metadata": {
        "id": "XnZYE__amS9y"
      },
      "source": [
        "Finally we are able to import the required libraries"
      ]
    },
    {
      "cell_type": "code",
      "execution_count": 1,
      "metadata": {
        "id": "mDcr2AG-mS9y"
      },
      "outputs": [],
      "source": [
        "import pandas as pd\n",
        "from pathlib import Path\n",
        "import requests\n",
        "import os\n",
        "import re\n",
        "import random\n",
        "from copy import deepcopy\n",
        "from tqdm import tqdm\n",
        "import numpy as np\n",
        "from sklearn.metrics import confusion_matrix\n",
        "import torch\n",
        "from transformers import AutoModelForCausalLM, AutoTokenizer, BitsAndBytesConfig"
      ]
    },
    {
      "cell_type": "markdown",
      "metadata": {
        "id": "xqEsPH_JSxw6"
      },
      "source": [
        "### Huggingface Login\n",
        "\n",
        "Once we have created an account and an access token, we need to login to Huggingface via code.\n",
        "\n",
        "- Type your token and press Enter\n",
        "- You can say No to Github linking"
      ]
    },
    {
      "cell_type": "code",
      "execution_count": 2,
      "metadata": {
        "colab": {
          "base_uri": "https://localhost:8080/"
        },
        "id": "_uWEUjs0THxP",
        "outputId": "97142e55-5295-44f4-b3e9-e94aaf6ee001"
      },
      "outputs": [
        {
          "output_type": "stream",
          "name": "stdout",
          "text": [
            "\n",
            "    _|    _|  _|    _|    _|_|_|    _|_|_|  _|_|_|  _|      _|    _|_|_|      _|_|_|_|    _|_|      _|_|_|  _|_|_|_|\n",
            "    _|    _|  _|    _|  _|        _|          _|    _|_|    _|  _|            _|        _|    _|  _|        _|\n",
            "    _|_|_|_|  _|    _|  _|  _|_|  _|  _|_|    _|    _|  _|  _|  _|  _|_|      _|_|_|    _|_|_|_|  _|        _|_|_|\n",
            "    _|    _|  _|    _|  _|    _|  _|    _|    _|    _|    _|_|  _|    _|      _|        _|    _|  _|        _|\n",
            "    _|    _|    _|_|      _|_|_|    _|_|_|  _|_|_|  _|      _|    _|_|_|      _|        _|    _|    _|_|_|  _|_|_|_|\n",
            "\n",
            "    To log in, `huggingface_hub` requires a token generated from https://huggingface.co/settings/tokens .\n",
            "Enter your token (input will not be visible): \n",
            "Add token as git credential? (Y/n) n\n",
            "Token is valid (permission: read).\n",
            "The token `Deleteme` has been saved to /root/.cache/huggingface/stored_tokens\n",
            "Your token has been saved to /root/.cache/huggingface/token\n",
            "Login successful.\n",
            "The current active token is: `Deleteme`\n"
          ]
        }
      ],
      "source": [
        "!huggingface-cli loginn"
      ]
    },
    {
      "cell_type": "markdown",
      "metadata": {
        "id": "MLxSrY-4e_0J"
      },
      "source": [
        "After login, you can download all models associated with your access token in addition to those that are not protected by an access token."
      ]
    },
    {
      "cell_type": "markdown",
      "metadata": {
        "id": "pEYMBnAQLJnc"
      },
      "source": [
        "### Data Loading\n",
        "\n",
        "Since we are only interested in prompting, we do not require a train dataset.\n",
        "\n",
        "We have preparared a small test set version of EDOS in our dedicated [Github repository](https://github.com/lt-nlp-lab-unibo/nlp-course-material).\n",
        "\n",
        "Check the ``Assignment 2/data`` folder.\n",
        "It contains:\n",
        "\n",
        "- ``a2_test.csv`` → a small test set of 300 samples.\n",
        "- ``demonstrations.csv`` -> a batch of 1000 samples for few-shot prompting.\n",
        "\n",
        "Both datasets contain a balanced number of sexist and not sexist samples.\n"
      ]
    },
    {
      "cell_type": "markdown",
      "metadata": {
        "id": "B5XyOcFGLJnd"
      },
      "source": [
        "### Instructions\n",
        "\n",
        "We require you to:\n",
        "\n",
        "* **Download** the ``A2/data`` folder.\n",
        "* **Encode** ``a2_test.csv`` into a ``pandas.DataFrame`` object."
      ]
    },
    {
      "cell_type": "code",
      "execution_count": 3,
      "metadata": {
        "id": "A3EWWaUiV_-a"
      },
      "outputs": [],
      "source": [
        "def download_corpus(url: str, filename: str) -> None:\n",
        "    \"\"\"\n",
        "    Downloads a text corpus from a given URL and saves it to a specified filename within the data folder if not exist\n",
        "\n",
        "    Args:\n",
        "        url (str): The URL from which to download the corpus.\n",
        "        filename (str): The name of the file to save the downloaded corpus.\n",
        "\n",
        "    Raises:\n",
        "        requests.exceptions.HTTPError: If the HTTP request returned an unsuccessful status code.\n",
        "\n",
        "    Side Effects:\n",
        "        Creates the data folder if it does not exist.\n",
        "        Writes the downloaded corpus to the specified file.\n",
        "    \"\"\"\n",
        "    data_folder = Path(\"./data\")\n",
        "    if not data_folder.exists():\n",
        "      data_folder.mkdir(parents=True)\n",
        "      print(f\"Created folder {data_folder}.\")\n",
        "\n",
        "    if not (data_folder / filename).exists():\n",
        "      response = requests.get(url)\n",
        "      response.raise_for_status()\n",
        "      with open(data_folder / filename, 'w', encoding='utf-8') as f:\n",
        "        f.write(response.text)\n",
        "      print(f\"Created file {data_folder / filename}.\")\n",
        "    else:\n",
        "      print(f\"File {data_folder / filename} already exists.\")"
      ]
    },
    {
      "cell_type": "code",
      "execution_count": 4,
      "metadata": {
        "id": "Fn09xmj8WCdR"
      },
      "outputs": [],
      "source": [
        "path_test = 'https://raw.githubusercontent.com/nlp-unibo/nlp-course-material/refs/heads/main/2024-2025/Assignment%202/data/a2_test.csv'\n",
        "path_demonstrations = 'https://raw.githubusercontent.com/nlp-unibo/nlp-course-material/refs/heads/main/2024-2025/Assignment%202/data/demonstrations.csv'"
      ]
    },
    {
      "cell_type": "code",
      "execution_count": 5,
      "metadata": {
        "colab": {
          "base_uri": "https://localhost:8080/"
        },
        "id": "vlJz89U4WEQt",
        "outputId": "6f7aeeeb-db3e-4e1b-acc3-41cc06e99271"
      },
      "outputs": [
        {
          "output_type": "stream",
          "name": "stdout",
          "text": [
            "Created folder data.\n",
            "Created file data/a2_test.csv.\n",
            "Created file data/demonstrations.csv.\n"
          ]
        }
      ],
      "source": [
        "download_corpus(path_test, 'a2_test.csv')\n",
        "download_corpus(path_demonstrations, 'demonstrations.csv')"
      ]
    },
    {
      "cell_type": "code",
      "execution_count": 6,
      "metadata": {
        "colab": {
          "base_uri": "https://localhost:8080/",
          "height": 206
        },
        "id": "WDDxbr-CWKwu",
        "outputId": "3dd5e039-be4c-4ca6-8bf8-3cd134aa0ecf"
      },
      "outputs": [
        {
          "output_type": "execute_result",
          "data": {
            "text/plain": [
              "                  rewire_id  \\\n",
              "0  sexism2022_english-17133   \n",
              "1  sexism2022_english-14197   \n",
              "2   sexism2022_english-3018   \n",
              "3   sexism2022_english-5301   \n",
              "4  sexism2022_english-17796   \n",
              "\n",
              "                                                text label_sexist  \n",
              "0  The boys must be gaming because there goes the...   not sexist  \n",
              "1  Look at those eyes. Either someone unexpectedl...       sexist  \n",
              "2                  Old man mogs everyone in this sub   not sexist  \n",
              "3  Excellent, I was just looking at another post ...   not sexist  \n",
              "4  So you run back to daddy whenever you need hel...       sexist  "
            ],
            "text/html": [
              "\n",
              "  <div id=\"df-729561b3-7295-400f-805d-fd68f133b167\" class=\"colab-df-container\">\n",
              "    <div>\n",
              "<style scoped>\n",
              "    .dataframe tbody tr th:only-of-type {\n",
              "        vertical-align: middle;\n",
              "    }\n",
              "\n",
              "    .dataframe tbody tr th {\n",
              "        vertical-align: top;\n",
              "    }\n",
              "\n",
              "    .dataframe thead th {\n",
              "        text-align: right;\n",
              "    }\n",
              "</style>\n",
              "<table border=\"1\" class=\"dataframe\">\n",
              "  <thead>\n",
              "    <tr style=\"text-align: right;\">\n",
              "      <th></th>\n",
              "      <th>rewire_id</th>\n",
              "      <th>text</th>\n",
              "      <th>label_sexist</th>\n",
              "    </tr>\n",
              "  </thead>\n",
              "  <tbody>\n",
              "    <tr>\n",
              "      <th>0</th>\n",
              "      <td>sexism2022_english-17133</td>\n",
              "      <td>The boys must be gaming because there goes the...</td>\n",
              "      <td>not sexist</td>\n",
              "    </tr>\n",
              "    <tr>\n",
              "      <th>1</th>\n",
              "      <td>sexism2022_english-14197</td>\n",
              "      <td>Look at those eyes. Either someone unexpectedl...</td>\n",
              "      <td>sexist</td>\n",
              "    </tr>\n",
              "    <tr>\n",
              "      <th>2</th>\n",
              "      <td>sexism2022_english-3018</td>\n",
              "      <td>Old man mogs everyone in this sub</td>\n",
              "      <td>not sexist</td>\n",
              "    </tr>\n",
              "    <tr>\n",
              "      <th>3</th>\n",
              "      <td>sexism2022_english-5301</td>\n",
              "      <td>Excellent, I was just looking at another post ...</td>\n",
              "      <td>not sexist</td>\n",
              "    </tr>\n",
              "    <tr>\n",
              "      <th>4</th>\n",
              "      <td>sexism2022_english-17796</td>\n",
              "      <td>So you run back to daddy whenever you need hel...</td>\n",
              "      <td>sexist</td>\n",
              "    </tr>\n",
              "  </tbody>\n",
              "</table>\n",
              "</div>\n",
              "    <div class=\"colab-df-buttons\">\n",
              "\n",
              "  <div class=\"colab-df-container\">\n",
              "    <button class=\"colab-df-convert\" onclick=\"convertToInteractive('df-729561b3-7295-400f-805d-fd68f133b167')\"\n",
              "            title=\"Convert this dataframe to an interactive table.\"\n",
              "            style=\"display:none;\">\n",
              "\n",
              "  <svg xmlns=\"http://www.w3.org/2000/svg\" height=\"24px\" viewBox=\"0 -960 960 960\">\n",
              "    <path d=\"M120-120v-720h720v720H120Zm60-500h600v-160H180v160Zm220 220h160v-160H400v160Zm0 220h160v-160H400v160ZM180-400h160v-160H180v160Zm440 0h160v-160H620v160ZM180-180h160v-160H180v160Zm440 0h160v-160H620v160Z\"/>\n",
              "  </svg>\n",
              "    </button>\n",
              "\n",
              "  <style>\n",
              "    .colab-df-container {\n",
              "      display:flex;\n",
              "      gap: 12px;\n",
              "    }\n",
              "\n",
              "    .colab-df-convert {\n",
              "      background-color: #E8F0FE;\n",
              "      border: none;\n",
              "      border-radius: 50%;\n",
              "      cursor: pointer;\n",
              "      display: none;\n",
              "      fill: #1967D2;\n",
              "      height: 32px;\n",
              "      padding: 0 0 0 0;\n",
              "      width: 32px;\n",
              "    }\n",
              "\n",
              "    .colab-df-convert:hover {\n",
              "      background-color: #E2EBFA;\n",
              "      box-shadow: 0px 1px 2px rgba(60, 64, 67, 0.3), 0px 1px 3px 1px rgba(60, 64, 67, 0.15);\n",
              "      fill: #174EA6;\n",
              "    }\n",
              "\n",
              "    .colab-df-buttons div {\n",
              "      margin-bottom: 4px;\n",
              "    }\n",
              "\n",
              "    [theme=dark] .colab-df-convert {\n",
              "      background-color: #3B4455;\n",
              "      fill: #D2E3FC;\n",
              "    }\n",
              "\n",
              "    [theme=dark] .colab-df-convert:hover {\n",
              "      background-color: #434B5C;\n",
              "      box-shadow: 0px 1px 3px 1px rgba(0, 0, 0, 0.15);\n",
              "      filter: drop-shadow(0px 1px 2px rgba(0, 0, 0, 0.3));\n",
              "      fill: #FFFFFF;\n",
              "    }\n",
              "  </style>\n",
              "\n",
              "    <script>\n",
              "      const buttonEl =\n",
              "        document.querySelector('#df-729561b3-7295-400f-805d-fd68f133b167 button.colab-df-convert');\n",
              "      buttonEl.style.display =\n",
              "        google.colab.kernel.accessAllowed ? 'block' : 'none';\n",
              "\n",
              "      async function convertToInteractive(key) {\n",
              "        const element = document.querySelector('#df-729561b3-7295-400f-805d-fd68f133b167');\n",
              "        const dataTable =\n",
              "          await google.colab.kernel.invokeFunction('convertToInteractive',\n",
              "                                                    [key], {});\n",
              "        if (!dataTable) return;\n",
              "\n",
              "        const docLinkHtml = 'Like what you see? Visit the ' +\n",
              "          '<a target=\"_blank\" href=https://colab.research.google.com/notebooks/data_table.ipynb>data table notebook</a>'\n",
              "          + ' to learn more about interactive tables.';\n",
              "        element.innerHTML = '';\n",
              "        dataTable['output_type'] = 'display_data';\n",
              "        await google.colab.output.renderOutput(dataTable, element);\n",
              "        const docLink = document.createElement('div');\n",
              "        docLink.innerHTML = docLinkHtml;\n",
              "        element.appendChild(docLink);\n",
              "      }\n",
              "    </script>\n",
              "  </div>\n",
              "\n",
              "\n",
              "<div id=\"df-189341bd-bf5e-4e92-8f61-21f10b95673b\">\n",
              "  <button class=\"colab-df-quickchart\" onclick=\"quickchart('df-189341bd-bf5e-4e92-8f61-21f10b95673b')\"\n",
              "            title=\"Suggest charts\"\n",
              "            style=\"display:none;\">\n",
              "\n",
              "<svg xmlns=\"http://www.w3.org/2000/svg\" height=\"24px\"viewBox=\"0 0 24 24\"\n",
              "     width=\"24px\">\n",
              "    <g>\n",
              "        <path d=\"M19 3H5c-1.1 0-2 .9-2 2v14c0 1.1.9 2 2 2h14c1.1 0 2-.9 2-2V5c0-1.1-.9-2-2-2zM9 17H7v-7h2v7zm4 0h-2V7h2v10zm4 0h-2v-4h2v4z\"/>\n",
              "    </g>\n",
              "</svg>\n",
              "  </button>\n",
              "\n",
              "<style>\n",
              "  .colab-df-quickchart {\n",
              "      --bg-color: #E8F0FE;\n",
              "      --fill-color: #1967D2;\n",
              "      --hover-bg-color: #E2EBFA;\n",
              "      --hover-fill-color: #174EA6;\n",
              "      --disabled-fill-color: #AAA;\n",
              "      --disabled-bg-color: #DDD;\n",
              "  }\n",
              "\n",
              "  [theme=dark] .colab-df-quickchart {\n",
              "      --bg-color: #3B4455;\n",
              "      --fill-color: #D2E3FC;\n",
              "      --hover-bg-color: #434B5C;\n",
              "      --hover-fill-color: #FFFFFF;\n",
              "      --disabled-bg-color: #3B4455;\n",
              "      --disabled-fill-color: #666;\n",
              "  }\n",
              "\n",
              "  .colab-df-quickchart {\n",
              "    background-color: var(--bg-color);\n",
              "    border: none;\n",
              "    border-radius: 50%;\n",
              "    cursor: pointer;\n",
              "    display: none;\n",
              "    fill: var(--fill-color);\n",
              "    height: 32px;\n",
              "    padding: 0;\n",
              "    width: 32px;\n",
              "  }\n",
              "\n",
              "  .colab-df-quickchart:hover {\n",
              "    background-color: var(--hover-bg-color);\n",
              "    box-shadow: 0 1px 2px rgba(60, 64, 67, 0.3), 0 1px 3px 1px rgba(60, 64, 67, 0.15);\n",
              "    fill: var(--button-hover-fill-color);\n",
              "  }\n",
              "\n",
              "  .colab-df-quickchart-complete:disabled,\n",
              "  .colab-df-quickchart-complete:disabled:hover {\n",
              "    background-color: var(--disabled-bg-color);\n",
              "    fill: var(--disabled-fill-color);\n",
              "    box-shadow: none;\n",
              "  }\n",
              "\n",
              "  .colab-df-spinner {\n",
              "    border: 2px solid var(--fill-color);\n",
              "    border-color: transparent;\n",
              "    border-bottom-color: var(--fill-color);\n",
              "    animation:\n",
              "      spin 1s steps(1) infinite;\n",
              "  }\n",
              "\n",
              "  @keyframes spin {\n",
              "    0% {\n",
              "      border-color: transparent;\n",
              "      border-bottom-color: var(--fill-color);\n",
              "      border-left-color: var(--fill-color);\n",
              "    }\n",
              "    20% {\n",
              "      border-color: transparent;\n",
              "      border-left-color: var(--fill-color);\n",
              "      border-top-color: var(--fill-color);\n",
              "    }\n",
              "    30% {\n",
              "      border-color: transparent;\n",
              "      border-left-color: var(--fill-color);\n",
              "      border-top-color: var(--fill-color);\n",
              "      border-right-color: var(--fill-color);\n",
              "    }\n",
              "    40% {\n",
              "      border-color: transparent;\n",
              "      border-right-color: var(--fill-color);\n",
              "      border-top-color: var(--fill-color);\n",
              "    }\n",
              "    60% {\n",
              "      border-color: transparent;\n",
              "      border-right-color: var(--fill-color);\n",
              "    }\n",
              "    80% {\n",
              "      border-color: transparent;\n",
              "      border-right-color: var(--fill-color);\n",
              "      border-bottom-color: var(--fill-color);\n",
              "    }\n",
              "    90% {\n",
              "      border-color: transparent;\n",
              "      border-bottom-color: var(--fill-color);\n",
              "    }\n",
              "  }\n",
              "</style>\n",
              "\n",
              "  <script>\n",
              "    async function quickchart(key) {\n",
              "      const quickchartButtonEl =\n",
              "        document.querySelector('#' + key + ' button');\n",
              "      quickchartButtonEl.disabled = true;  // To prevent multiple clicks.\n",
              "      quickchartButtonEl.classList.add('colab-df-spinner');\n",
              "      try {\n",
              "        const charts = await google.colab.kernel.invokeFunction(\n",
              "            'suggestCharts', [key], {});\n",
              "      } catch (error) {\n",
              "        console.error('Error during call to suggestCharts:', error);\n",
              "      }\n",
              "      quickchartButtonEl.classList.remove('colab-df-spinner');\n",
              "      quickchartButtonEl.classList.add('colab-df-quickchart-complete');\n",
              "    }\n",
              "    (() => {\n",
              "      let quickchartButtonEl =\n",
              "        document.querySelector('#df-189341bd-bf5e-4e92-8f61-21f10b95673b button');\n",
              "      quickchartButtonEl.style.display =\n",
              "        google.colab.kernel.accessAllowed ? 'block' : 'none';\n",
              "    })();\n",
              "  </script>\n",
              "</div>\n",
              "\n",
              "    </div>\n",
              "  </div>\n"
            ],
            "application/vnd.google.colaboratory.intrinsic+json": {
              "type": "dataframe",
              "variable_name": "df",
              "summary": "{\n  \"name\": \"df\",\n  \"rows\": 300,\n  \"fields\": [\n    {\n      \"column\": \"rewire_id\",\n      \"properties\": {\n        \"dtype\": \"string\",\n        \"num_unique_values\": 300,\n        \"samples\": [\n          \"sexism2022_english-7642\",\n          \"sexism2022_english-15192\",\n          \"sexism2022_english-18390\"\n        ],\n        \"semantic_type\": \"\",\n        \"description\": \"\"\n      }\n    },\n    {\n      \"column\": \"text\",\n      \"properties\": {\n        \"dtype\": \"string\",\n        \"num_unique_values\": 300,\n        \"samples\": [\n          \"what do you think about that ? Should i pay her ? Pay whatever she's minimally entitled to legally but kick her ass to the curb.\",\n          \"and whats new about this. a woman can be total garbage, but as long as she is fuckable she gets something.\",\n          \"Full on crotch grab from Biden. Even the baby's mom isn't holding him that way.\"\n        ],\n        \"semantic_type\": \"\",\n        \"description\": \"\"\n      }\n    },\n    {\n      \"column\": \"label_sexist\",\n      \"properties\": {\n        \"dtype\": \"category\",\n        \"num_unique_values\": 2,\n        \"samples\": [\n          \"sexist\",\n          \"not sexist\"\n        ],\n        \"semantic_type\": \"\",\n        \"description\": \"\"\n      }\n    }\n  ]\n}"
            }
          },
          "metadata": {},
          "execution_count": 6
        }
      ],
      "source": [
        "df = pd.read_csv('./data/a2_test.csv', encoding='utf-8')\n",
        "df.head()"
      ]
    },
    {
      "cell_type": "markdown",
      "metadata": {
        "id": "_cXaP301XYFo"
      },
      "source": [
        "# Mistral V3 instruct in 8bit\n",
        "As first model we are gonna analyze the performance of Mistral V3"
      ]
    },
    {
      "cell_type": "markdown",
      "metadata": {
        "id": "HJp08l4yLJnd"
      },
      "source": [
        "## Task 1 - Model setup\n",
        "\n",
        "Once the test data has been loaded, we have to setup the model pipeline for inference.\n",
        "\n",
        "In particular, we have to:\n",
        "- Load the model weights from Huggingface\n",
        "- Quantize the model to fit into a single-GPU limited hardware\n"
      ]
    },
    {
      "cell_type": "code",
      "execution_count": 7,
      "metadata": {
        "id": "mYXuFuCkUxOU"
      },
      "outputs": [],
      "source": [
        "def load_model(model_card):\n",
        "    \"\"\"\n",
        "    Loads a pre-trained model and its tokenizer with 8-bit quantization.\n",
        "\n",
        "    Args:\n",
        "        model_card (str): The identifier of the pre-trained model to load.\n",
        "\n",
        "    Returns:\n",
        "        tuple: A tuple containing the quantized model and the tokenizer.\n",
        "            - model_8bit (transformers.PreTrainedModel): The quantized model loaded in 8-bit precision.\n",
        "            - tokenizer (transformers.PreTrainedTokenizer): The tokenizer associated with the model.\n",
        "    \"\"\"\n",
        "    quantization_config = BitsAndBytesConfig(load_in_8bit=True)\n",
        "    tokenizer = AutoTokenizer.from_pretrained(model_card)\n",
        "    model_8bit = AutoModelForCausalLM.from_pretrained(model_card, quantization_config=quantization_config)\n",
        "    model_8bit.eval()\n",
        "    return model_8bit, tokenizer"
      ]
    },
    {
      "cell_type": "code",
      "execution_count": 8,
      "metadata": {
        "colab": {
          "base_uri": "https://localhost:8080/",
          "height": 560,
          "referenced_widgets": [
            "91a9abc3c9544d63a0d04b10a9004e23",
            "cd138abe95524a4eaeca82de7255adac",
            "a91088e0f7ff4bbbb1d64aa9be8b1542",
            "49d280338c654854b1124447ac1337d8",
            "cb647d971b5c4829892525f9fa4a32a2",
            "455c398af6444c90bbf70ff2ca0b730b",
            "988638088e0341eebd06aa14d2c96b36",
            "c5a3caae5d2c431888186589609b2afa",
            "26d113db21944863a4d23bb802967c61",
            "814cf5c9f9194d1693c1760a44d7fa38",
            "b3f7ef91871643fb84cfbc145ee01c8f",
            "d3456ed861fe4c649539ad3e57693cee",
            "c2a9e7d4ee574a10b32279b1628c3e49",
            "6f4b360bb90d40f199c72b36be51b3ed",
            "b703a2d1c20c431ebef599269c9df644",
            "11855a7738d2468082a5b31ae1e9f750",
            "0d28f81cf57049d7920c0c4dd32c7a2e",
            "26654a16a2a34beeba4b5829c793b35c",
            "2475ec29d97e49279619ff13b8f4b2d0",
            "b021f1aa04374245942897b1abe72b59",
            "08ef238830d44112b52bfcf490b0229a",
            "8968a698489a40d49b9f8037d9bdabb6",
            "463cf138d42c414f921dfcc157a860ff",
            "a8faeb415512489883bf3facd38c6b78",
            "9715905b59854002bf165a77bac1fb97",
            "0b476eb0b3434b2f9438426a2af7e6c7",
            "e7fea2db28f5429eb36f12135bac0398",
            "89797b5cfa104dd1a90e4f00b99dba7e",
            "d3997b2dcbba454893b8c569012923cd",
            "b9e2395fe5ee4642b338a25a911b800f",
            "2d0d4b51f10a403f96ed6bc67508aca2",
            "e876f2595b1245ed87830846f2f99780",
            "18fac560a53440a0b1d41aabd2465d23",
            "49e6586ebe2f4f6786bdc5dcf1948456",
            "7c193c1207bb4b6dae289c1f2dab2ba3",
            "0aea0b480ffb472ca2e15a14b6ab3ee8",
            "a419bcf1111445e4b1ff88898c834d6c",
            "f21f13d15e4f4dbfa12425fb8f6de3b6",
            "6969df20ff134c3395b70f45090289b3",
            "edb46a13e0224bfab5e55508d078367b",
            "063ce66187a24d69b0fc4c11a4ef94e3",
            "ee70eccde9ee48c5b036aa5a2e961e84",
            "c3c31a4fb8dd4e28a71f5172d474e511",
            "9bab20b6f1d34fe388e9e575f070bdad",
            "32d61ad5fbe045fab1eb0099a76d1d97",
            "30e6203225374d29a88a8710cb856917",
            "d3a153e48d3c4c368d92d9a1b7831290",
            "899cafaa5d69468c8eb3ee6bf8514e47",
            "1181fe10fb0e432ebfe1bc582e8b41f4",
            "5fee32491b464f65b5799694819b4377",
            "aa07b5687516468ca996ea59abce2021",
            "0268d44d84bd49eebc0c24274bef034a",
            "1d917d526bd34e17b0b8d086ef28386e",
            "ff9ccb452bca4950bb4f5e039c4f01f5",
            "48529e9d87f445919780fbbfa434edcf",
            "dbecf0d3dce744c781b763924a7d5f73",
            "7099ca8311854026a8eb136adf4ce587",
            "11bdb1e647034704bcf023595b62881c",
            "09fe37fd348647218943d68fc91854e1",
            "3afc3f9c2da74d4787506e271a204fad",
            "7273635d5fd54081b7f4e4e26fa5cb76",
            "32f3fc0e8e9142e79c3f74519d583afa",
            "8cb1babb0ea64ac0b86ac8859fe9f5b2",
            "ea465641bc1c4c62830b9f01420bab37",
            "37b41e2700ea411cbc43434cf57252d1",
            "4e727878bf5041f0b98351dd30c50ed1",
            "896f7c20b83f43c389e18427b9297a8a",
            "6cb9a1e36de74ece8494a7692e829d52",
            "597a36e89aa14a018aa64e8f8f50575d",
            "040913c4e33540ea83df7c0a7c98e40b",
            "7f5abf42313546cc89d41b5fa2937a7f",
            "e99dd234e7ab4f049b202500db751d4a",
            "07ea2ee4ac3243d6a44980199020f8f7",
            "1e58a7621d0b487980088789810dfdc6",
            "07d970b478da4872b6e030d209fc4ad2",
            "690a2ec934044949ae001adba701f8bd",
            "713ebc8416264ee7822091c6d673e772",
            "54a45d7a2acd4c2b999d9402278a6d45",
            "be6fa215454f4194ab251891a5ed9faf",
            "69027cd7d66b4234af22e9c1698d3053",
            "b8756946f21f4010880fbb5b3ef00572",
            "afa1ce526d87454ba194abe0a5a249c3",
            "50d42dce66034fafba64e2aa212d165f",
            "65c8116d180043b6ac6bb02633d19232",
            "2db4fd5db2a64694a67c1ba0a5ef3ad7",
            "af340c1934e747379afe7bc8c3809eb0",
            "a7a9793299f641498d35cef93017914b",
            "f04cef1eeb1548059e61dde0bdecfc5c",
            "3587cf53701d4466b292f8e57943978e",
            "88fe816c3ded4222ae2e1dbe02d27256",
            "0c63cd5e3a6e4ec2b01ca764bbf33b8d",
            "08f1af985d68493a865c6ec36babcc96",
            "50681c92f99d475081ede4311dd0835d",
            "4f5b5d84c3df446ca2173290fec2f1fd",
            "82033599fe2540f58cd70c6e4a46e185",
            "f6cd177048674704a57b3355ba9805e3",
            "75f9abc0c7b84d99b12c287000f66fd5",
            "5a688ac425864dd491b22ecd96ae0550",
            "42a58601203d429eb61f2b5ddcc4ec77",
            "a8982104bb7c42608824659a0b1827f5",
            "11b61a32020d4f1da421f05aff1ba66b",
            "fe5c42488e1d42719a35e0921e1b11ff",
            "67c125a4898d494780cd0b1ea91627c3",
            "d387e35203874633a13e918af21f243d",
            "42800ceecda948118098b581a59f5f59",
            "1a2d16b42f874f64b023b276e1ca79ae",
            "b2af7d1e2f3148518dba37f12af678d9",
            "7aaa53623710450fa648faf9e666c33b",
            "68dfc590057f431abf022ca7dad424ee",
            "0a47beb47de546a09a2be067881e454c",
            "21d2fe1657034c06b69c470e26ae3d51",
            "8003f24805ff4031855978f40707e46f",
            "f8760153eac9464780e448b9651a8113",
            "c6eafb9b38c74d64a43f55ecbe16b1b8",
            "aceca93ccd914d6eb59c60854066bd72",
            "122c703cbf9a4786ace435612f80f762",
            "8944413424e24927aead6a978e85ff59",
            "46887134d46d494aad1ec95a229ad152",
            "c3d7b234b120412c8dac10a0186210b4",
            "73c0d161ce6d4cd18b9cb76c547d4a55",
            "f36b4ee0ecb0452493863e8e285614a8",
            "0ac3623a2acf47ffb74b7973b8502a78",
            "031f798b134c4ff8a179ad90a51dd0fd",
            "d4909cb2f80345089d4e0a8f3980dac4",
            "e9f549b1e9694699b9d6540dae18a531",
            "0ad6f018e35d4d1fbea0dc51b040b49a",
            "9d11749202444eb2aee0fcd0e46c9611",
            "985bfc829224468b8fce93295c098fae",
            "e4c271ff879d4ac68c9b8a3955ce2217",
            "620d1a8e4d32436f99966cf044a8c727",
            "c7c126fcaf8d42488444463c717b11b1",
            "69b7c9b0761f441f9766fac7b17ee88f"
          ]
        },
        "id": "U6G3bdIXW-c1",
        "outputId": "c5ea6020-3704-4684-f69a-2203a750865d"
      },
      "outputs": [
        {
          "output_type": "stream",
          "name": "stderr",
          "text": [
            "/usr/local/lib/python3.10/dist-packages/huggingface_hub/utils/_auth.py:94: UserWarning: \n",
            "The secret `HF_TOKEN` does not exist in your Colab secrets.\n",
            "To authenticate with the Hugging Face Hub, create a token in your settings tab (https://huggingface.co/settings/tokens), set it as secret in your Google Colab and restart your session.\n",
            "You will be able to reuse this secret in all of your notebooks.\n",
            "Please note that authentication is recommended but still optional to access public models or datasets.\n",
            "  warnings.warn(\n"
          ]
        },
        {
          "output_type": "display_data",
          "data": {
            "text/plain": [
              "tokenizer_config.json:   0%|          | 0.00/141k [00:00<?, ?B/s]"
            ],
            "application/vnd.jupyter.widget-view+json": {
              "version_major": 2,
              "version_minor": 0,
              "model_id": "91a9abc3c9544d63a0d04b10a9004e23"
            }
          },
          "metadata": {}
        },
        {
          "output_type": "display_data",
          "data": {
            "text/plain": [
              "tokenizer.model:   0%|          | 0.00/587k [00:00<?, ?B/s]"
            ],
            "application/vnd.jupyter.widget-view+json": {
              "version_major": 2,
              "version_minor": 0,
              "model_id": "d3456ed861fe4c649539ad3e57693cee"
            }
          },
          "metadata": {}
        },
        {
          "output_type": "display_data",
          "data": {
            "text/plain": [
              "tokenizer.json:   0%|          | 0.00/1.96M [00:00<?, ?B/s]"
            ],
            "application/vnd.jupyter.widget-view+json": {
              "version_major": 2,
              "version_minor": 0,
              "model_id": "463cf138d42c414f921dfcc157a860ff"
            }
          },
          "metadata": {}
        },
        {
          "output_type": "display_data",
          "data": {
            "text/plain": [
              "special_tokens_map.json:   0%|          | 0.00/414 [00:00<?, ?B/s]"
            ],
            "application/vnd.jupyter.widget-view+json": {
              "version_major": 2,
              "version_minor": 0,
              "model_id": "49e6586ebe2f4f6786bdc5dcf1948456"
            }
          },
          "metadata": {}
        },
        {
          "output_type": "display_data",
          "data": {
            "text/plain": [
              "config.json:   0%|          | 0.00/601 [00:00<?, ?B/s]"
            ],
            "application/vnd.jupyter.widget-view+json": {
              "version_major": 2,
              "version_minor": 0,
              "model_id": "32d61ad5fbe045fab1eb0099a76d1d97"
            }
          },
          "metadata": {}
        },
        {
          "output_type": "stream",
          "name": "stderr",
          "text": [
            "`low_cpu_mem_usage` was None, now default to True since model is quantized.\n"
          ]
        },
        {
          "output_type": "display_data",
          "data": {
            "text/plain": [
              "model.safetensors.index.json:   0%|          | 0.00/23.9k [00:00<?, ?B/s]"
            ],
            "application/vnd.jupyter.widget-view+json": {
              "version_major": 2,
              "version_minor": 0,
              "model_id": "dbecf0d3dce744c781b763924a7d5f73"
            }
          },
          "metadata": {}
        },
        {
          "output_type": "display_data",
          "data": {
            "text/plain": [
              "Downloading shards:   0%|          | 0/3 [00:00<?, ?it/s]"
            ],
            "application/vnd.jupyter.widget-view+json": {
              "version_major": 2,
              "version_minor": 0,
              "model_id": "896f7c20b83f43c389e18427b9297a8a"
            }
          },
          "metadata": {}
        },
        {
          "output_type": "display_data",
          "data": {
            "text/plain": [
              "model-00001-of-00003.safetensors:   0%|          | 0.00/4.95G [00:00<?, ?B/s]"
            ],
            "application/vnd.jupyter.widget-view+json": {
              "version_major": 2,
              "version_minor": 0,
              "model_id": "54a45d7a2acd4c2b999d9402278a6d45"
            }
          },
          "metadata": {}
        },
        {
          "output_type": "display_data",
          "data": {
            "text/plain": [
              "model-00002-of-00003.safetensors:   0%|          | 0.00/5.00G [00:00<?, ?B/s]"
            ],
            "application/vnd.jupyter.widget-view+json": {
              "version_major": 2,
              "version_minor": 0,
              "model_id": "3587cf53701d4466b292f8e57943978e"
            }
          },
          "metadata": {}
        },
        {
          "output_type": "display_data",
          "data": {
            "text/plain": [
              "model-00003-of-00003.safetensors:   0%|          | 0.00/4.55G [00:00<?, ?B/s]"
            ],
            "application/vnd.jupyter.widget-view+json": {
              "version_major": 2,
              "version_minor": 0,
              "model_id": "a8982104bb7c42608824659a0b1827f5"
            }
          },
          "metadata": {}
        },
        {
          "output_type": "display_data",
          "data": {
            "text/plain": [
              "Loading checkpoint shards:   0%|          | 0/3 [00:00<?, ?it/s]"
            ],
            "application/vnd.jupyter.widget-view+json": {
              "version_major": 2,
              "version_minor": 0,
              "model_id": "21d2fe1657034c06b69c470e26ae3d51"
            }
          },
          "metadata": {}
        },
        {
          "output_type": "display_data",
          "data": {
            "text/plain": [
              "generation_config.json:   0%|          | 0.00/116 [00:00<?, ?B/s]"
            ],
            "application/vnd.jupyter.widget-view+json": {
              "version_major": 2,
              "version_minor": 0,
              "model_id": "0ac3623a2acf47ffb74b7973b8502a78"
            }
          },
          "metadata": {}
        },
        {
          "output_type": "stream",
          "name": "stdout",
          "text": [
            "Model loaded on cuda:0\n"
          ]
        }
      ],
      "source": [
        "model_card = 'mistralai/Mistral-7B-Instruct-v0.3'\n",
        "model_8bit, tokenizer = load_model(model_card)\n",
        "\n",
        "device = model_8bit.device\n",
        "print(f'Model loaded on {device}')"
      ]
    },
    {
      "cell_type": "markdown",
      "metadata": {
        "id": "TzNNzb1VLJnd"
      },
      "source": [
        "## Task 2 - Prompt setup\n",
        "\n",
        "Prompting requires an input pre-processing phase where we convert each input example into a specific instruction prompt.\n"
      ]
    },
    {
      "cell_type": "markdown",
      "metadata": {
        "id": "9GaBtKXomY_m"
      },
      "source": [
        "### Prompt Template\n",
        "\n",
        "Use the following prompt template to process input texts."
      ]
    },
    {
      "cell_type": "code",
      "execution_count": 9,
      "metadata": {
        "id": "7e8P-Kk8me6q"
      },
      "outputs": [],
      "source": [
        "prompt = [\n",
        "    {\n",
        "        'role': 'system',\n",
        "        'content': 'You are an annotator for sexism detection.'\n",
        "    },\n",
        "    {\n",
        "        'role': 'user',\n",
        "        'content': \"\"\"Your task is to classify input text as containing sexism or not. Respond only YES or NO.\n",
        "\n",
        "        TEXT:\n",
        "        {text}\n",
        "\n",
        "        ANSWER:\n",
        "        \"\"\"\n",
        "    }\n",
        "]"
      ]
    },
    {
      "cell_type": "markdown",
      "metadata": {
        "id": "VHeoEN7MLJnd"
      },
      "source": [
        "### Instructions\n",
        "\n",
        "In order to get Task 2 points, we require you to:\n",
        "\n",
        "* Write the ``prepare_prompts`` function"
      ]
    },
    {
      "cell_type": "code",
      "execution_count": 10,
      "metadata": {
        "id": "PUjRVMtMm9CE"
      },
      "outputs": [],
      "source": [
        "def prepare_prompts(texts, prompt_template, tokenizer, device):\n",
        "  \"\"\"\n",
        "    This function format input text samples into instructions prompts.\n",
        "\n",
        "    Inputs:\n",
        "      texts: input texts to classify via prompting\n",
        "      prompt_template: the prompt template provided in this assignment\n",
        "      tokenizer: the transformers Tokenizer object instance associated with the chosen model card\n",
        "\n",
        "    Outputs:\n",
        "      input texts to classify in the form of instruction prompts\n",
        "  \"\"\"\n",
        "  prompts = []\n",
        "  for text in texts:\n",
        "    prompt_with_text = deepcopy(prompt_template)\n",
        "    # add text\n",
        "    prompt_with_text[1]['content'] = prompt_with_text[1]['content'].replace('{text}', text)\n",
        "\n",
        "    prompts.append(tokenizer.apply_chat_template(prompt_with_text, tokenize=True,\n",
        "                                                 add_generation_prompt=True,\n",
        "                                                 return_dict=True,\n",
        "                                                 return_tensors=\"pt\").to(device))\n",
        "\n",
        "  return prompts"
      ]
    },
    {
      "cell_type": "code",
      "execution_count": 11,
      "metadata": {
        "colab": {
          "base_uri": "https://localhost:8080/"
        },
        "id": "c_aGPnEimS92",
        "outputId": "7b1ec2b4-9698-4dd8-ccae-7128e2172f25"
      },
      "outputs": [
        {
          "output_type": "stream",
          "name": "stdout",
          "text": [
            "Prompt example: \n",
            "\n",
            "You are an annotator for sexism detection.\n",
            "\n",
            "Your task is to classify input text as containing sexism or not. Respond only YES or NO.\n",
            "\n",
            "        TEXT:\n",
            "        The boys must be gaming because there goes the wifi.\n",
            "\n",
            "        ANSWER:\n",
            "        \n"
          ]
        }
      ],
      "source": [
        "prompts = prepare_prompts(df['text'], prompt, tokenizer, device=device)\n",
        "\n",
        "print(\"Prompt example: \\n\")\n",
        "print(tokenizer.decode(prompts[0].input_ids[0], skip_special_tokens=True))"
      ]
    },
    {
      "cell_type": "markdown",
      "metadata": {
        "id": "lgBhkBwuLJnd"
      },
      "source": [
        "## Task 3 - Inference\n",
        "\n",
        "We are now ready to define the inference loop where we prompt the model with each pre-processed sample."
      ]
    },
    {
      "cell_type": "markdown",
      "metadata": {
        "id": "7WsrQSvcLJnd"
      },
      "source": [
        "### Instructions\n",
        "\n",
        "In order to get Task 3 points, we require you to:\n",
        "\n",
        "* Write a ``generate_responses`` function as the one reported below.\n",
        "* Write a ``process_response`` function as the one reported below."
      ]
    },
    {
      "cell_type": "code",
      "execution_count": 12,
      "metadata": {
        "id": "bG3CDXNlyD5k"
      },
      "outputs": [],
      "source": [
        "def generate_responses(model, prompt_examples):\n",
        "  \"\"\"\n",
        "    This function implements the inference loop for a LLM model.\n",
        "    Given a set of examples, the model is tasked to generate a response.\n",
        "\n",
        "    Inputs:\n",
        "      model: LLM model instance for prompting\n",
        "      prompt_examples: pre-processed text samples\n",
        "\n",
        "    Outputs:\n",
        "      generated responses\n",
        "  \"\"\"\n",
        "  answers = []\n",
        "  for prompt in tqdm(prompt_examples):\n",
        "    response = model.generate(**prompt, max_new_tokens=1000, pad_token_id=tokenizer.eos_token_id)\n",
        "    answers.append(response)\n",
        "  return answers"
      ]
    },
    {
      "cell_type": "code",
      "execution_count": 13,
      "metadata": {
        "id": "uiCoMrutyXTU"
      },
      "outputs": [],
      "source": [
        "def process_response(response):\n",
        "  \"\"\"\n",
        "    This function takes a textual response generated by the LLM\n",
        "    and processes it to map the response to a binary label.\n",
        "\n",
        "    Inputs:\n",
        "      response: generated response from LLM\n",
        "\n",
        "    Outputs:\n",
        "      parsed binary response: return 1 if YES and 0 if NO\n",
        "  \"\"\"\n",
        "  response = tokenizer.decode(response[0])\n",
        "  if 'YES' in response.split('ANSWER')[-1]:\n",
        "    return 1\n",
        "  else:\n",
        "    return 0"
      ]
    },
    {
      "cell_type": "code",
      "execution_count": 14,
      "metadata": {
        "id": "gx-6h5Q8sykv"
      },
      "outputs": [],
      "source": [
        "def get_generated_response(response):\n",
        "  \"\"\"\n",
        "    This function takes a textual response generated by the LLM\n",
        "    and processes it to extract only the text generated by the LLM.\n",
        "\n",
        "    Inputs:\n",
        "      response: generated response from LLM\n",
        "\n",
        "    Outputs:\n",
        "      LLM generated text: string\n",
        "  \"\"\"\n",
        "  response = tokenizer.decode(response[0])\n",
        "  response = response.split('[/INST]')[-1]\n",
        "  cleaned_string = re.sub(r'</s>', '', response).strip()\n",
        "  return cleaned_string"
      ]
    },
    {
      "cell_type": "code",
      "execution_count": 15,
      "metadata": {
        "colab": {
          "base_uri": "https://localhost:8080/"
        },
        "id": "Q6PWskXKmS93",
        "outputId": "81afe651-7c4f-4f17-bf2f-9b5e004094bb"
      },
      "outputs": [
        {
          "output_type": "stream",
          "name": "stderr",
          "text": [
            "100%|██████████| 300/300 [03:55<00:00,  1.27it/s]\n"
          ]
        }
      ],
      "source": [
        "answers = generate_responses(model_8bit, prompts)"
      ]
    },
    {
      "cell_type": "code",
      "execution_count": 16,
      "metadata": {
        "id": "wopoW3-rmS93"
      },
      "outputs": [],
      "source": [
        "batch_predictions = [process_response(item) for item in answers]\n",
        "generated_answers = [get_generated_response(item) for item in answers]"
      ]
    },
    {
      "cell_type": "code",
      "execution_count": 17,
      "metadata": {
        "id": "C56bN3DSpzoh"
      },
      "outputs": [],
      "source": [
        "original_labels = [1 if label == 'sexist' else 0 for label in df['label_sexist']]"
      ]
    },
    {
      "cell_type": "code",
      "execution_count": 18,
      "metadata": {
        "id": "KHDrhy10pY8p"
      },
      "outputs": [],
      "source": [
        "models_predictions = pd.DataFrame({\n",
        "    'text': df['text'],\n",
        "    'original_labels': original_labels,\n",
        "    'mistralv3_zero_shot_labels': batch_predictions,\n",
        "    'mistralv3_zero_shot_answers': generated_answers\n",
        "})"
      ]
    },
    {
      "cell_type": "markdown",
      "metadata": {
        "id": "KyZ8WU09zz-a"
      },
      "source": [
        "## Task 4 - Metrics\n",
        "\n",
        "In order to evaluate selected LLMs, we need to compute performance metrics.\n",
        "\n",
        "In particular, we are interested in computing **accuracy** since the provided data is balanced with respect to classification classes.\n",
        "\n",
        "Moreover, we want to compute the ratio of failed responses generated by models.\n",
        "\n",
        "That is, how frequent the LLM fails to follow instructions and provides incorrect responses that do not address the classification task.\n",
        "\n",
        "We denote this metric as **fail-ratio**.\n",
        "\n",
        "In summary, we parse generated responses as follows:\n",
        "- 1 if the model says YES\n",
        "- 0 if the model says NO\n",
        "- 0 if the model does not answer in either way"
      ]
    },
    {
      "cell_type": "markdown",
      "metadata": {
        "id": "y6lu64o80iX4"
      },
      "source": [
        "### Instructions\n",
        "\n",
        "In order to get Task 4 points, we require you to:\n",
        "\n",
        "* Write a ``compute_metrics`` function as the one reported below.\n",
        "* Compute metrics for the two selected LLMs."
      ]
    },
    {
      "cell_type": "code",
      "execution_count": 19,
      "metadata": {
        "id": "9Fmcw_9v0k9D"
      },
      "outputs": [],
      "source": [
        "def compute_metrics(responses, y_true):\n",
        "  \"\"\"\n",
        "    This function takes predicted and ground-truth labels and compute metrics.\n",
        "    In particular, this function compute accuracy and fail-ratio metrics.\n",
        "    This function internally invokes `process_response` to compute metrics.\n",
        "\n",
        "    Inputs:\n",
        "      responses: generated LLM responses\n",
        "      y_true: ground-truth binary labels\n",
        "\n",
        "    Outputs:\n",
        "      dictionary containing desired metrics\n",
        "  \"\"\"\n",
        "  y_pred = [process_response(response) for response in responses]\n",
        "  accuracy = (np.array(y_pred) == np.array(y_true)).mean()\n",
        "  fail_ratio = (np.array(y_pred) != np.array(y_true)).mean()\n",
        "  return {'accuracy': accuracy, 'fail_ratio': fail_ratio}"
      ]
    },
    {
      "cell_type": "code",
      "execution_count": 20,
      "metadata": {
        "id": "rrIxiMwXryA0"
      },
      "outputs": [],
      "source": [
        "mistal_base_metrics = compute_metrics(answers, original_labels)"
      ]
    },
    {
      "cell_type": "code",
      "execution_count": 21,
      "metadata": {
        "colab": {
          "base_uri": "https://localhost:8080/"
        },
        "id": "Q1c_5q7cr2dz",
        "outputId": "10b59257-f3e0-4f13-f208-606ec2efd5d4"
      },
      "outputs": [
        {
          "output_type": "stream",
          "name": "stdout",
          "text": [
            "accuracy: 0.61\n",
            "fail_ratio: 0.39\n"
          ]
        }
      ],
      "source": [
        "for key, value in mistal_base_metrics.items():\n",
        "  print(f'{key}: {value:.2f}')"
      ]
    },
    {
      "cell_type": "code",
      "execution_count": 22,
      "metadata": {
        "id": "RDTwjbnfzes0"
      },
      "outputs": [],
      "source": [
        "#create the new dataset for storing the metrics\n",
        "model_metrics = pd.DataFrame(columns=['model', 'accuracy', 'fail_ratio'])\n",
        "#add the computed metrics to the metric dataset\n",
        "model_metrics.loc[len(model_metrics)] = {'model': 'Mistral v3 zero shot', 'accuracy': mistal_base_metrics['accuracy'], 'fail_ratio': mistal_base_metrics['fail_ratio']}"
      ]
    },
    {
      "cell_type": "markdown",
      "metadata": {
        "id": "nHyvV4QD2vZS"
      },
      "source": [
        "## Task 5 - Few-shot Inference\n",
        "\n",
        "So far, we have tested models in a zero-shot fashion: we provide the input text to classify and instruct the model to generate a response.\n",
        "\n",
        "We are now interested in performing few-shot prompting to see the impact of providing demonstration examples.\n",
        "\n",
        "To do so, we slightly change the prompt template as follows."
      ]
    },
    {
      "cell_type": "code",
      "execution_count": 23,
      "metadata": {
        "id": "pEqsOHz63ReW"
      },
      "outputs": [],
      "source": [
        "prompt_few_shot = [\n",
        "    {\n",
        "        'role': 'system',\n",
        "        'content': 'You are an annotator for sexism detection.'\n",
        "    },\n",
        "    {\n",
        "        'role': 'user',\n",
        "        'content': \"\"\"Your task is to classify input text as containing sexism or not. Respond only YES or NO.\n",
        "\n",
        "        EXAMPLES:\n",
        "        {examples}\n",
        "\n",
        "        TEXT:\n",
        "        {text}\n",
        "\n",
        "        ANSWER:\n",
        "        \"\"\"\n",
        "    }\n",
        "]"
      ]
    },
    {
      "cell_type": "markdown",
      "metadata": {
        "id": "_SnaxuwN3ySF"
      },
      "source": [
        "The new prompt template reports some demonstration examples to instruct the model.\n",
        "\n",
        "Generally, we provide an equal number of demonstrations per class as shown in the example below.\n",
        "\n",
        "```\n",
        "prompt = [\n",
        "    {\n",
        "        'role': 'system',\n",
        "        'content': 'You are an annotator for sexism detection.'\n",
        "    },\n",
        "    {\n",
        "        'role': 'user',\n",
        "        'content': \"\"\"Your task is to classify input text as containing sexism or not. Respond only YES or NO.\n",
        "\n",
        "        EXAMPLES:\n",
        "        TEXT: **example 1**\n",
        "        ANSWER: YES\n",
        "        TEXT: **example 2**\n",
        "        ANSWER: NO\n",
        "\n",
        "        TEXT:\n",
        "        {text}\n",
        "\n",
        "        ANSWER:\n",
        "        \"\"\"\n",
        "    }\n",
        "]\n",
        "```  "
      ]
    },
    {
      "cell_type": "markdown",
      "metadata": {
        "id": "OE0XnaVr3CZz"
      },
      "source": [
        "## Instructions\n",
        "\n",
        "In order to get Task 5 points, we require you to:\n",
        "\n",
        "- Load ``demonstrations.csv`` and encode it into a ``pandas.DataFrame`` object.\n",
        "- Define a ``build_few_shot_demonstrations`` function as the one reported below.\n",
        "- Perform few-shot inference as in Task 3.\n",
        "- Compute metrics as in Task 4."
      ]
    },
    {
      "cell_type": "code",
      "execution_count": 24,
      "metadata": {
        "colab": {
          "base_uri": "https://localhost:8080/",
          "height": 206
        },
        "id": "6bbJtxNst2FF",
        "outputId": "6890946b-7705-4ac2-d95d-fc0c002ce409"
      },
      "outputs": [
        {
          "output_type": "execute_result",
          "data": {
            "text/plain": [
              "                  rewire_id  \\\n",
              "0  sexism2022_english-10348   \n",
              "1   sexism2022_english-7950   \n",
              "2   sexism2022_english-7742   \n",
              "3  sexism2022_english-16170   \n",
              "4   sexism2022_english-9857   \n",
              "\n",
              "                                                text label_sexist  \n",
              "0  I would never have my kid go to a daycare with...   not sexist  \n",
              "1           Democrat women are so butt fucking ugly.       sexist  \n",
              "2  If you really wanted to twist the knife you’d ...   not sexist  \n",
              "3  Those women are pro-rape. They didn’t care abo...       sexist  \n",
              "4  Married a bitch... Is it the standard scenario...       sexist  "
            ],
            "text/html": [
              "\n",
              "  <div id=\"df-ea341255-41ff-4055-a8ff-31c883c3a999\" class=\"colab-df-container\">\n",
              "    <div>\n",
              "<style scoped>\n",
              "    .dataframe tbody tr th:only-of-type {\n",
              "        vertical-align: middle;\n",
              "    }\n",
              "\n",
              "    .dataframe tbody tr th {\n",
              "        vertical-align: top;\n",
              "    }\n",
              "\n",
              "    .dataframe thead th {\n",
              "        text-align: right;\n",
              "    }\n",
              "</style>\n",
              "<table border=\"1\" class=\"dataframe\">\n",
              "  <thead>\n",
              "    <tr style=\"text-align: right;\">\n",
              "      <th></th>\n",
              "      <th>rewire_id</th>\n",
              "      <th>text</th>\n",
              "      <th>label_sexist</th>\n",
              "    </tr>\n",
              "  </thead>\n",
              "  <tbody>\n",
              "    <tr>\n",
              "      <th>0</th>\n",
              "      <td>sexism2022_english-10348</td>\n",
              "      <td>I would never have my kid go to a daycare with...</td>\n",
              "      <td>not sexist</td>\n",
              "    </tr>\n",
              "    <tr>\n",
              "      <th>1</th>\n",
              "      <td>sexism2022_english-7950</td>\n",
              "      <td>Democrat women are so butt fucking ugly.</td>\n",
              "      <td>sexist</td>\n",
              "    </tr>\n",
              "    <tr>\n",
              "      <th>2</th>\n",
              "      <td>sexism2022_english-7742</td>\n",
              "      <td>If you really wanted to twist the knife you’d ...</td>\n",
              "      <td>not sexist</td>\n",
              "    </tr>\n",
              "    <tr>\n",
              "      <th>3</th>\n",
              "      <td>sexism2022_english-16170</td>\n",
              "      <td>Those women are pro-rape. They didn’t care abo...</td>\n",
              "      <td>sexist</td>\n",
              "    </tr>\n",
              "    <tr>\n",
              "      <th>4</th>\n",
              "      <td>sexism2022_english-9857</td>\n",
              "      <td>Married a bitch... Is it the standard scenario...</td>\n",
              "      <td>sexist</td>\n",
              "    </tr>\n",
              "  </tbody>\n",
              "</table>\n",
              "</div>\n",
              "    <div class=\"colab-df-buttons\">\n",
              "\n",
              "  <div class=\"colab-df-container\">\n",
              "    <button class=\"colab-df-convert\" onclick=\"convertToInteractive('df-ea341255-41ff-4055-a8ff-31c883c3a999')\"\n",
              "            title=\"Convert this dataframe to an interactive table.\"\n",
              "            style=\"display:none;\">\n",
              "\n",
              "  <svg xmlns=\"http://www.w3.org/2000/svg\" height=\"24px\" viewBox=\"0 -960 960 960\">\n",
              "    <path d=\"M120-120v-720h720v720H120Zm60-500h600v-160H180v160Zm220 220h160v-160H400v160Zm0 220h160v-160H400v160ZM180-400h160v-160H180v160Zm440 0h160v-160H620v160ZM180-180h160v-160H180v160Zm440 0h160v-160H620v160Z\"/>\n",
              "  </svg>\n",
              "    </button>\n",
              "\n",
              "  <style>\n",
              "    .colab-df-container {\n",
              "      display:flex;\n",
              "      gap: 12px;\n",
              "    }\n",
              "\n",
              "    .colab-df-convert {\n",
              "      background-color: #E8F0FE;\n",
              "      border: none;\n",
              "      border-radius: 50%;\n",
              "      cursor: pointer;\n",
              "      display: none;\n",
              "      fill: #1967D2;\n",
              "      height: 32px;\n",
              "      padding: 0 0 0 0;\n",
              "      width: 32px;\n",
              "    }\n",
              "\n",
              "    .colab-df-convert:hover {\n",
              "      background-color: #E2EBFA;\n",
              "      box-shadow: 0px 1px 2px rgba(60, 64, 67, 0.3), 0px 1px 3px 1px rgba(60, 64, 67, 0.15);\n",
              "      fill: #174EA6;\n",
              "    }\n",
              "\n",
              "    .colab-df-buttons div {\n",
              "      margin-bottom: 4px;\n",
              "    }\n",
              "\n",
              "    [theme=dark] .colab-df-convert {\n",
              "      background-color: #3B4455;\n",
              "      fill: #D2E3FC;\n",
              "    }\n",
              "\n",
              "    [theme=dark] .colab-df-convert:hover {\n",
              "      background-color: #434B5C;\n",
              "      box-shadow: 0px 1px 3px 1px rgba(0, 0, 0, 0.15);\n",
              "      filter: drop-shadow(0px 1px 2px rgba(0, 0, 0, 0.3));\n",
              "      fill: #FFFFFF;\n",
              "    }\n",
              "  </style>\n",
              "\n",
              "    <script>\n",
              "      const buttonEl =\n",
              "        document.querySelector('#df-ea341255-41ff-4055-a8ff-31c883c3a999 button.colab-df-convert');\n",
              "      buttonEl.style.display =\n",
              "        google.colab.kernel.accessAllowed ? 'block' : 'none';\n",
              "\n",
              "      async function convertToInteractive(key) {\n",
              "        const element = document.querySelector('#df-ea341255-41ff-4055-a8ff-31c883c3a999');\n",
              "        const dataTable =\n",
              "          await google.colab.kernel.invokeFunction('convertToInteractive',\n",
              "                                                    [key], {});\n",
              "        if (!dataTable) return;\n",
              "\n",
              "        const docLinkHtml = 'Like what you see? Visit the ' +\n",
              "          '<a target=\"_blank\" href=https://colab.research.google.com/notebooks/data_table.ipynb>data table notebook</a>'\n",
              "          + ' to learn more about interactive tables.';\n",
              "        element.innerHTML = '';\n",
              "        dataTable['output_type'] = 'display_data';\n",
              "        await google.colab.output.renderOutput(dataTable, element);\n",
              "        const docLink = document.createElement('div');\n",
              "        docLink.innerHTML = docLinkHtml;\n",
              "        element.appendChild(docLink);\n",
              "      }\n",
              "    </script>\n",
              "  </div>\n",
              "\n",
              "\n",
              "<div id=\"df-c21cfe23-5582-40e7-90c1-a27e8a5d9962\">\n",
              "  <button class=\"colab-df-quickchart\" onclick=\"quickchart('df-c21cfe23-5582-40e7-90c1-a27e8a5d9962')\"\n",
              "            title=\"Suggest charts\"\n",
              "            style=\"display:none;\">\n",
              "\n",
              "<svg xmlns=\"http://www.w3.org/2000/svg\" height=\"24px\"viewBox=\"0 0 24 24\"\n",
              "     width=\"24px\">\n",
              "    <g>\n",
              "        <path d=\"M19 3H5c-1.1 0-2 .9-2 2v14c0 1.1.9 2 2 2h14c1.1 0 2-.9 2-2V5c0-1.1-.9-2-2-2zM9 17H7v-7h2v7zm4 0h-2V7h2v10zm4 0h-2v-4h2v4z\"/>\n",
              "    </g>\n",
              "</svg>\n",
              "  </button>\n",
              "\n",
              "<style>\n",
              "  .colab-df-quickchart {\n",
              "      --bg-color: #E8F0FE;\n",
              "      --fill-color: #1967D2;\n",
              "      --hover-bg-color: #E2EBFA;\n",
              "      --hover-fill-color: #174EA6;\n",
              "      --disabled-fill-color: #AAA;\n",
              "      --disabled-bg-color: #DDD;\n",
              "  }\n",
              "\n",
              "  [theme=dark] .colab-df-quickchart {\n",
              "      --bg-color: #3B4455;\n",
              "      --fill-color: #D2E3FC;\n",
              "      --hover-bg-color: #434B5C;\n",
              "      --hover-fill-color: #FFFFFF;\n",
              "      --disabled-bg-color: #3B4455;\n",
              "      --disabled-fill-color: #666;\n",
              "  }\n",
              "\n",
              "  .colab-df-quickchart {\n",
              "    background-color: var(--bg-color);\n",
              "    border: none;\n",
              "    border-radius: 50%;\n",
              "    cursor: pointer;\n",
              "    display: none;\n",
              "    fill: var(--fill-color);\n",
              "    height: 32px;\n",
              "    padding: 0;\n",
              "    width: 32px;\n",
              "  }\n",
              "\n",
              "  .colab-df-quickchart:hover {\n",
              "    background-color: var(--hover-bg-color);\n",
              "    box-shadow: 0 1px 2px rgba(60, 64, 67, 0.3), 0 1px 3px 1px rgba(60, 64, 67, 0.15);\n",
              "    fill: var(--button-hover-fill-color);\n",
              "  }\n",
              "\n",
              "  .colab-df-quickchart-complete:disabled,\n",
              "  .colab-df-quickchart-complete:disabled:hover {\n",
              "    background-color: var(--disabled-bg-color);\n",
              "    fill: var(--disabled-fill-color);\n",
              "    box-shadow: none;\n",
              "  }\n",
              "\n",
              "  .colab-df-spinner {\n",
              "    border: 2px solid var(--fill-color);\n",
              "    border-color: transparent;\n",
              "    border-bottom-color: var(--fill-color);\n",
              "    animation:\n",
              "      spin 1s steps(1) infinite;\n",
              "  }\n",
              "\n",
              "  @keyframes spin {\n",
              "    0% {\n",
              "      border-color: transparent;\n",
              "      border-bottom-color: var(--fill-color);\n",
              "      border-left-color: var(--fill-color);\n",
              "    }\n",
              "    20% {\n",
              "      border-color: transparent;\n",
              "      border-left-color: var(--fill-color);\n",
              "      border-top-color: var(--fill-color);\n",
              "    }\n",
              "    30% {\n",
              "      border-color: transparent;\n",
              "      border-left-color: var(--fill-color);\n",
              "      border-top-color: var(--fill-color);\n",
              "      border-right-color: var(--fill-color);\n",
              "    }\n",
              "    40% {\n",
              "      border-color: transparent;\n",
              "      border-right-color: var(--fill-color);\n",
              "      border-top-color: var(--fill-color);\n",
              "    }\n",
              "    60% {\n",
              "      border-color: transparent;\n",
              "      border-right-color: var(--fill-color);\n",
              "    }\n",
              "    80% {\n",
              "      border-color: transparent;\n",
              "      border-right-color: var(--fill-color);\n",
              "      border-bottom-color: var(--fill-color);\n",
              "    }\n",
              "    90% {\n",
              "      border-color: transparent;\n",
              "      border-bottom-color: var(--fill-color);\n",
              "    }\n",
              "  }\n",
              "</style>\n",
              "\n",
              "  <script>\n",
              "    async function quickchart(key) {\n",
              "      const quickchartButtonEl =\n",
              "        document.querySelector('#' + key + ' button');\n",
              "      quickchartButtonEl.disabled = true;  // To prevent multiple clicks.\n",
              "      quickchartButtonEl.classList.add('colab-df-spinner');\n",
              "      try {\n",
              "        const charts = await google.colab.kernel.invokeFunction(\n",
              "            'suggestCharts', [key], {});\n",
              "      } catch (error) {\n",
              "        console.error('Error during call to suggestCharts:', error);\n",
              "      }\n",
              "      quickchartButtonEl.classList.remove('colab-df-spinner');\n",
              "      quickchartButtonEl.classList.add('colab-df-quickchart-complete');\n",
              "    }\n",
              "    (() => {\n",
              "      let quickchartButtonEl =\n",
              "        document.querySelector('#df-c21cfe23-5582-40e7-90c1-a27e8a5d9962 button');\n",
              "      quickchartButtonEl.style.display =\n",
              "        google.colab.kernel.accessAllowed ? 'block' : 'none';\n",
              "    })();\n",
              "  </script>\n",
              "</div>\n",
              "\n",
              "    </div>\n",
              "  </div>\n"
            ],
            "application/vnd.google.colaboratory.intrinsic+json": {
              "type": "dataframe",
              "variable_name": "demonstrations",
              "summary": "{\n  \"name\": \"demonstrations\",\n  \"rows\": 1000,\n  \"fields\": [\n    {\n      \"column\": \"rewire_id\",\n      \"properties\": {\n        \"dtype\": \"string\",\n        \"num_unique_values\": 1000,\n        \"samples\": [\n          \"sexism2022_english-1375\",\n          \"sexism2022_english-278\",\n          \"sexism2022_english-7964\"\n        ],\n        \"semantic_type\": \"\",\n        \"description\": \"\"\n      }\n    },\n    {\n      \"column\": \"text\",\n      \"properties\": {\n        \"dtype\": \"string\",\n        \"num_unique_values\": 1000,\n        \"samples\": [\n          \"untouched Not after 6 years, especially not if she went to college\",\n          \"I understand. We will purge hidden eurofag scum from Holy City of Miami, burn down their illegal particle accelerator labs stretching underneath the capital!\",\n          \"A Mississippi state senator hits the DC women protesters with a serious burn.\"\n        ],\n        \"semantic_type\": \"\",\n        \"description\": \"\"\n      }\n    },\n    {\n      \"column\": \"label_sexist\",\n      \"properties\": {\n        \"dtype\": \"category\",\n        \"num_unique_values\": 2,\n        \"samples\": [\n          \"sexist\",\n          \"not sexist\"\n        ],\n        \"semantic_type\": \"\",\n        \"description\": \"\"\n      }\n    }\n  ]\n}"
            }
          },
          "metadata": {},
          "execution_count": 24
        }
      ],
      "source": [
        "demonstrations = pd.read_csv('./data/demonstrations.csv')\n",
        "demonstrations.head()"
      ]
    },
    {
      "cell_type": "code",
      "execution_count": 25,
      "metadata": {
        "id": "6oyxypUG3ltH"
      },
      "outputs": [],
      "source": [
        "def build_few_shot_demonstrations(demonstrations, num_per_class=2, random_state=42):\n",
        "  \"\"\"\n",
        "    Inputs:\n",
        "      demonstrations: the pandas.DataFrame object wrapping demonstrations.csv\n",
        "      num_per_class: number of demonstrations per class\n",
        "\n",
        "    Outputs:\n",
        "      a list of textual demonstrations to inject into the prompt template.\n",
        "  \"\"\"\n",
        "  yes_samples = demonstrations[demonstrations['label_sexist'] == 'sexist'].sample(num_per_class, random_state=random_state)\n",
        "  no_samples = demonstrations[demonstrations['label_sexist'] == 'not sexist'].sample(num_per_class, random_state=random_state)\n",
        "\n",
        "  few_shot_demonstrations = list(pd.concat([yes_samples['text'], no_samples['text']]))\n",
        "\n",
        "  return few_shot_demonstrations"
      ]
    },
    {
      "cell_type": "code",
      "execution_count": 26,
      "metadata": {
        "colab": {
          "base_uri": "https://localhost:8080/"
        },
        "id": "uK1krdxZuANq",
        "outputId": "4432e6ff-a973-4940-9d83-94ec8fd385a1"
      },
      "outputs": [
        {
          "output_type": "execute_result",
          "data": {
            "text/plain": [
              "['nothing irks a left wing feminist worse than seeing a beautiful virtuous woman who is conservative they HATE her H-A-T-E so they try to suppress her next it will be illegal to be born beautiful they\\'ll call it \"Hate Birth\"',\n",
              " 'Get #TRIGGERED, Hillaryfags, femme-fags, and feminazis: [URL] #MAGA #TRUMP #ELECTION2016 [URL]',\n",
              " \"Can't see much of her but she's hotter than any vagina-hat wearer in the Women's March\",\n",
              " \"DOES BLACK HAMILTON STAR DRUNK-RAPE WHITE WOMEN? If you name-check the VP-Elect of the United States in a one-sided insulting harangue, it'd be wise to delete the tweets that suggest you rape drunk white girls: #BoycottHamilton [URL]\"]"
            ]
          },
          "metadata": {},
          "execution_count": 26
        }
      ],
      "source": [
        "build_few_shot_demonstrations(demonstrations, num_per_class=2)"
      ]
    },
    {
      "cell_type": "code",
      "execution_count": 27,
      "metadata": {
        "id": "b5YuWhWouTDg"
      },
      "outputs": [],
      "source": [
        "def prepare_prompts_few_shot(texts, demonstrations, prompt_template, tokenizer, device):\n",
        "  \"\"\"\n",
        "    This function format input text samples into instructions prompts.\n",
        "\n",
        "    Inputs:\n",
        "      texts: input texts to classify via prompting\n",
        "      prompt_template: the prompt template provided in this assignment\n",
        "      tokenizer: the transformers Tokenizer object instance associated with the chosen model card\n",
        "\n",
        "    Outputs:\n",
        "      input texts to classify in the form of instruction prompts\n",
        "  \"\"\"\n",
        "  prompts = []\n",
        "  for text in texts:\n",
        "    prompt_with_text = deepcopy(prompt_template)\n",
        "    demonstration = ''\n",
        "    for i, d in enumerate(demonstrations):\n",
        "      if i < len(demonstrations) // 2:\n",
        "        demonstration += '\\tTEXT: ' + d + '\\n\\tANSWER: YES\\n'\n",
        "      else:\n",
        "        demonstration += '\\tTEXT: ' + d + '\\n\\tANSWER: NO\\n'\n",
        "\n",
        "    # remove extra \\t\n",
        "    demonstration = demonstration[1:]\n",
        "    prompt_with_text[1]['content'] = prompt_with_text[1]['content'].replace('{examples}', demonstration)\n",
        "\n",
        "    prompt_with_text[1]['content'] = prompt_with_text[1]['content'].replace('{text}', text)\n",
        "    prompts.append(tokenizer.apply_chat_template(prompt_with_text, tokenize=True, add_generation_prompt=True,\n",
        "              return_dict=True,\n",
        "              return_tensors=\"pt\").to(device))\n",
        "\n",
        "  return prompts"
      ]
    },
    {
      "cell_type": "markdown",
      "metadata": {
        "id": "Gv5E7-ah4QUB"
      },
      "source": [
        "### 2-shot learning"
      ]
    },
    {
      "cell_type": "code",
      "execution_count": 28,
      "metadata": {
        "id": "3bezsAu24Tao"
      },
      "outputs": [],
      "source": [
        "prompts_few_shot = prepare_prompts_few_shot(df['text'], build_few_shot_demonstrations(demonstrations, num_per_class=1), prompt_few_shot, tokenizer, device=device)"
      ]
    },
    {
      "cell_type": "code",
      "execution_count": 29,
      "metadata": {
        "colab": {
          "base_uri": "https://localhost:8080/"
        },
        "id": "8hPToIdm4WKP",
        "outputId": "7a18131f-5437-4a53-b022-7c5f3e2cad63"
      },
      "outputs": [
        {
          "output_type": "stream",
          "name": "stdout",
          "text": [
            "<s>[INST] You are an annotator for sexism detection.\n",
            "\n",
            "Your task is to classify input text as containing sexism or not. Respond only YES or NO.\n",
            "\n",
            "        EXAMPLES:\n",
            "        TEXT: nothing irks a left wing feminist worse than seeing a beautiful virtuous woman who is conservative they HATE her H-A-T-E so they try to suppress her next it will be illegal to be born beautiful they'll call it \"Hate Birth\"\n",
            "\tANSWER: YES\n",
            "\tTEXT: Can't see much of her but she's hotter than any vagina-hat wearer in the Women's March\n",
            "\tANSWER: NO\n",
            "\n",
            "\n",
            "        TEXT:\n",
            "        The boys must be gaming because there goes the wifi.\n",
            "\n",
            "        ANSWER:\n",
            "        [/INST]\n"
          ]
        }
      ],
      "source": [
        "print(tokenizer.decode(prompts_few_shot[0].input_ids[0]))"
      ]
    },
    {
      "cell_type": "code",
      "execution_count": 30,
      "metadata": {
        "colab": {
          "base_uri": "https://localhost:8080/"
        },
        "id": "68XC-mNO4Xzr",
        "outputId": "b299ec3a-577d-4231-df7f-13b1e8d67acc"
      },
      "outputs": [
        {
          "output_type": "stream",
          "name": "stderr",
          "text": [
            "100%|██████████| 300/300 [12:17<00:00,  2.46s/it]\n"
          ]
        }
      ],
      "source": [
        "answers = generate_responses(model_8bit, prompts_few_shot)"
      ]
    },
    {
      "cell_type": "code",
      "execution_count": 31,
      "metadata": {
        "id": "qrNt7vSg4c4L"
      },
      "outputs": [],
      "source": [
        "batch_predictions = [process_response(item) for item in answers]\n",
        "generated_answers = [get_generated_response(item) for item in answers]\n",
        "models_predictions['mistralv3_2_shot_labels'] = batch_predictions\n",
        "models_predictions['mistralv3_2_shot_answers'] = generated_answers"
      ]
    },
    {
      "cell_type": "code",
      "execution_count": 32,
      "metadata": {
        "colab": {
          "base_uri": "https://localhost:8080/"
        },
        "id": "I-PQpsrw4hNI",
        "outputId": "495fd140-e938-45dd-9cef-45ea646799e4"
      },
      "outputs": [
        {
          "output_type": "stream",
          "name": "stdout",
          "text": [
            "accuracy: 0.69\n",
            "fail_ratio: 0.31\n"
          ]
        }
      ],
      "source": [
        "#compute the metrics\n",
        "mistalv3_2_shot_metrics = compute_metrics(answers, original_labels)\n",
        "\n",
        "#add the metric to the dataset\n",
        "model_metrics.loc[len(model_metrics)] = {'model': 'Mistral v3 2 shot', 'accuracy': mistalv3_2_shot_metrics['accuracy'], 'fail_ratio': mistalv3_2_shot_metrics['fail_ratio']}\n",
        "\n",
        "#print the metrics\n",
        "for key, value in mistalv3_2_shot_metrics.items():\n",
        "  print(f'{key}: {value:.2f}')\n"
      ]
    },
    {
      "cell_type": "markdown",
      "metadata": {
        "id": "zSDUqAWDuVQ-"
      },
      "source": [
        "### 4-shot leaning"
      ]
    },
    {
      "cell_type": "code",
      "execution_count": 33,
      "metadata": {
        "id": "9RX9riA6u3kW"
      },
      "outputs": [],
      "source": [
        "prompts_few_shot = prepare_prompts_few_shot(df['text'], build_few_shot_demonstrations(demonstrations, num_per_class=2), prompt_few_shot, tokenizer, device=device)"
      ]
    },
    {
      "cell_type": "code",
      "execution_count": 34,
      "metadata": {
        "colab": {
          "base_uri": "https://localhost:8080/"
        },
        "id": "YaKx8kinvY3S",
        "outputId": "2eb37836-6874-4622-c7ad-20729adf717b"
      },
      "outputs": [
        {
          "output_type": "stream",
          "name": "stdout",
          "text": [
            "<s>[INST] You are an annotator for sexism detection.\n",
            "\n",
            "Your task is to classify input text as containing sexism or not. Respond only YES or NO.\n",
            "\n",
            "        EXAMPLES:\n",
            "        TEXT: nothing irks a left wing feminist worse than seeing a beautiful virtuous woman who is conservative they HATE her H-A-T-E so they try to suppress her next it will be illegal to be born beautiful they'll call it \"Hate Birth\"\n",
            "\tANSWER: YES\n",
            "\tTEXT: Get #TRIGGERED, Hillaryfags, femme-fags, and feminazis: [URL] #MAGA #TRUMP #ELECTION2016 [URL]\n",
            "\tANSWER: YES\n",
            "\tTEXT: Can't see much of her but she's hotter than any vagina-hat wearer in the Women's March\n",
            "\tANSWER: NO\n",
            "\tTEXT: DOES BLACK HAMILTON STAR DRUNK-RAPE WHITE WOMEN? If you name-check the VP-Elect of the United States in a one-sided insulting harangue, it'd be wise to delete the tweets that suggest you rape drunk white girls: #BoycottHamilton [URL]\n",
            "\tANSWER: NO\n",
            "\n",
            "\n",
            "        TEXT:\n",
            "        The boys must be gaming because there goes the wifi.\n",
            "\n",
            "        ANSWER:\n",
            "        [/INST]\n"
          ]
        }
      ],
      "source": [
        "print(tokenizer.decode(prompts_few_shot[0].input_ids[0]))"
      ]
    },
    {
      "cell_type": "code",
      "execution_count": 35,
      "metadata": {
        "colab": {
          "base_uri": "https://localhost:8080/"
        },
        "id": "2yr6VsBDwT8H",
        "outputId": "73819349-ec95-4ffe-e526-e733dda1d957"
      },
      "outputs": [
        {
          "output_type": "stream",
          "name": "stderr",
          "text": [
            "100%|██████████| 300/300 [07:44<00:00,  1.55s/it]\n"
          ]
        }
      ],
      "source": [
        "answers = generate_responses(model_8bit, prompts_few_shot)"
      ]
    },
    {
      "cell_type": "code",
      "execution_count": 36,
      "metadata": {
        "id": "_DT4tBF2w0nn"
      },
      "outputs": [],
      "source": [
        "batch_predictions = [process_response(item) for item in answers]\n",
        "generated_answers = [get_generated_response(item) for item in answers]\n",
        "models_predictions['mistralv3_4_shot_labels'] = batch_predictions\n",
        "models_predictions['mistralv3_4_shot_answers'] = generated_answers"
      ]
    },
    {
      "cell_type": "code",
      "execution_count": 37,
      "metadata": {
        "colab": {
          "base_uri": "https://localhost:8080/"
        },
        "id": "JKFryTDD3ECP",
        "outputId": "c18dac71-26e9-45b1-fcb8-4d38aba07b39"
      },
      "outputs": [
        {
          "output_type": "stream",
          "name": "stdout",
          "text": [
            "accuracy: 0.69\n",
            "fail_ratio: 0.31\n"
          ]
        }
      ],
      "source": [
        "#compute the metrics\n",
        "mistalv3_4_shot_metrics = compute_metrics(answers, original_labels)\n",
        "\n",
        "#add the metric to the dataset\n",
        "model_metrics.loc[len(model_metrics)] = {'model': 'Mistral v3 4 shot', 'accuracy': mistalv3_4_shot_metrics['accuracy'], 'fail_ratio': mistalv3_4_shot_metrics['fail_ratio']}\n",
        "\n",
        "#print the metrics\n",
        "for key, value in mistalv3_4_shot_metrics.items():\n",
        "  print(f'{key}: {value:.2f}')\n"
      ]
    },
    {
      "cell_type": "markdown",
      "metadata": {
        "id": "Q3vNuk3GuadK"
      },
      "source": [
        "### 8-shot leaning"
      ]
    },
    {
      "cell_type": "code",
      "execution_count": 38,
      "metadata": {
        "id": "ChUH3qt2uUcs"
      },
      "outputs": [],
      "source": [
        "prompts_few_shot = prepare_prompts_few_shot(df['text'], build_few_shot_demonstrations(demonstrations, num_per_class=4), prompt, tokenizer, device=device)"
      ]
    },
    {
      "cell_type": "code",
      "execution_count": 39,
      "metadata": {
        "colab": {
          "base_uri": "https://localhost:8080/"
        },
        "id": "1fDD8Ye-5Bta",
        "outputId": "abbd596a-6814-4aed-9dc2-9cf55e653bca"
      },
      "outputs": [
        {
          "output_type": "stream",
          "name": "stdout",
          "text": [
            "<s>[INST] You are an annotator for sexism detection.\n",
            "\n",
            "Your task is to classify input text as containing sexism or not. Respond only YES or NO.\n",
            "\n",
            "        TEXT:\n",
            "        The boys must be gaming because there goes the wifi.\n",
            "\n",
            "        ANSWER:\n",
            "        [/INST]\n"
          ]
        }
      ],
      "source": [
        "print(tokenizer.decode(prompts_few_shot[0].input_ids[0]))"
      ]
    },
    {
      "cell_type": "code",
      "execution_count": 40,
      "metadata": {
        "colab": {
          "base_uri": "https://localhost:8080/"
        },
        "id": "HrNb7wUOxe0P",
        "outputId": "9696aa6c-2577-4b23-87c6-208cea8911d2"
      },
      "outputs": [
        {
          "output_type": "stream",
          "name": "stderr",
          "text": [
            "100%|██████████| 300/300 [03:55<00:00,  1.27it/s]\n"
          ]
        }
      ],
      "source": [
        "answers = generate_responses(model_8bit, prompts_few_shot)"
      ]
    },
    {
      "cell_type": "code",
      "execution_count": 41,
      "metadata": {
        "id": "ab--sadwxgbK",
        "colab": {
          "base_uri": "https://localhost:8080/"
        },
        "outputId": "2ba04bd7-369a-482d-a2ad-2886edc08892"
      },
      "outputs": [
        {
          "output_type": "stream",
          "name": "stdout",
          "text": [
            "accuracy: 0.61\n",
            "fail_ratio: 0.39\n"
          ]
        }
      ],
      "source": [
        "#compute the metrics\n",
        "mistalv3_8_shot_metrics = compute_metrics(answers, original_labels)\n",
        "\n",
        "#add the metric to the dataset\n",
        "model_metrics.loc[len(model_metrics)] = {'model': 'Mistral v3 8 shot', 'accuracy': mistalv3_8_shot_metrics['accuracy'], 'fail_ratio': mistalv3_8_shot_metrics['fail_ratio']}\n",
        "\n",
        "#print the metrics\n",
        "for key, value in mistalv3_8_shot_metrics.items():\n",
        "  print(f'{key}: {value:.2f}')"
      ]
    },
    {
      "cell_type": "code",
      "execution_count": 42,
      "metadata": {
        "id": "i0FHL9Nnxi6b"
      },
      "outputs": [],
      "source": [
        "batch_predictions = [process_response(item) for item in answers]\n",
        "generated_answers = [get_generated_response(item) for item in answers]\n",
        "\n",
        "models_predictions['mistralv3_8_shot_labels'] = batch_predictions\n",
        "models_predictions['mistralv3_8_shot_answers'] = generated_answers"
      ]
    },
    {
      "cell_type": "code",
      "execution_count": 43,
      "metadata": {
        "id": "ClIt4V0JEF-H",
        "colab": {
          "base_uri": "https://localhost:8080/",
          "height": 175
        },
        "outputId": "bb1d6586-5913-45e9-8265-91289552f710"
      },
      "outputs": [
        {
          "output_type": "execute_result",
          "data": {
            "text/plain": [
              "                  model  accuracy  fail_ratio\n",
              "0  Mistral v3 zero shot  0.613333    0.386667\n",
              "1     Mistral v3 2 shot  0.693333    0.306667\n",
              "2     Mistral v3 4 shot  0.690000    0.310000\n",
              "3     Mistral v3 8 shot  0.613333    0.386667"
            ],
            "text/html": [
              "\n",
              "  <div id=\"df-47add1ee-10f2-4664-b2e1-80d8f27e77a1\" class=\"colab-df-container\">\n",
              "    <div>\n",
              "<style scoped>\n",
              "    .dataframe tbody tr th:only-of-type {\n",
              "        vertical-align: middle;\n",
              "    }\n",
              "\n",
              "    .dataframe tbody tr th {\n",
              "        vertical-align: top;\n",
              "    }\n",
              "\n",
              "    .dataframe thead th {\n",
              "        text-align: right;\n",
              "    }\n",
              "</style>\n",
              "<table border=\"1\" class=\"dataframe\">\n",
              "  <thead>\n",
              "    <tr style=\"text-align: right;\">\n",
              "      <th></th>\n",
              "      <th>model</th>\n",
              "      <th>accuracy</th>\n",
              "      <th>fail_ratio</th>\n",
              "    </tr>\n",
              "  </thead>\n",
              "  <tbody>\n",
              "    <tr>\n",
              "      <th>0</th>\n",
              "      <td>Mistral v3 zero shot</td>\n",
              "      <td>0.613333</td>\n",
              "      <td>0.386667</td>\n",
              "    </tr>\n",
              "    <tr>\n",
              "      <th>1</th>\n",
              "      <td>Mistral v3 2 shot</td>\n",
              "      <td>0.693333</td>\n",
              "      <td>0.306667</td>\n",
              "    </tr>\n",
              "    <tr>\n",
              "      <th>2</th>\n",
              "      <td>Mistral v3 4 shot</td>\n",
              "      <td>0.690000</td>\n",
              "      <td>0.310000</td>\n",
              "    </tr>\n",
              "    <tr>\n",
              "      <th>3</th>\n",
              "      <td>Mistral v3 8 shot</td>\n",
              "      <td>0.613333</td>\n",
              "      <td>0.386667</td>\n",
              "    </tr>\n",
              "  </tbody>\n",
              "</table>\n",
              "</div>\n",
              "    <div class=\"colab-df-buttons\">\n",
              "\n",
              "  <div class=\"colab-df-container\">\n",
              "    <button class=\"colab-df-convert\" onclick=\"convertToInteractive('df-47add1ee-10f2-4664-b2e1-80d8f27e77a1')\"\n",
              "            title=\"Convert this dataframe to an interactive table.\"\n",
              "            style=\"display:none;\">\n",
              "\n",
              "  <svg xmlns=\"http://www.w3.org/2000/svg\" height=\"24px\" viewBox=\"0 -960 960 960\">\n",
              "    <path d=\"M120-120v-720h720v720H120Zm60-500h600v-160H180v160Zm220 220h160v-160H400v160Zm0 220h160v-160H400v160ZM180-400h160v-160H180v160Zm440 0h160v-160H620v160ZM180-180h160v-160H180v160Zm440 0h160v-160H620v160Z\"/>\n",
              "  </svg>\n",
              "    </button>\n",
              "\n",
              "  <style>\n",
              "    .colab-df-container {\n",
              "      display:flex;\n",
              "      gap: 12px;\n",
              "    }\n",
              "\n",
              "    .colab-df-convert {\n",
              "      background-color: #E8F0FE;\n",
              "      border: none;\n",
              "      border-radius: 50%;\n",
              "      cursor: pointer;\n",
              "      display: none;\n",
              "      fill: #1967D2;\n",
              "      height: 32px;\n",
              "      padding: 0 0 0 0;\n",
              "      width: 32px;\n",
              "    }\n",
              "\n",
              "    .colab-df-convert:hover {\n",
              "      background-color: #E2EBFA;\n",
              "      box-shadow: 0px 1px 2px rgba(60, 64, 67, 0.3), 0px 1px 3px 1px rgba(60, 64, 67, 0.15);\n",
              "      fill: #174EA6;\n",
              "    }\n",
              "\n",
              "    .colab-df-buttons div {\n",
              "      margin-bottom: 4px;\n",
              "    }\n",
              "\n",
              "    [theme=dark] .colab-df-convert {\n",
              "      background-color: #3B4455;\n",
              "      fill: #D2E3FC;\n",
              "    }\n",
              "\n",
              "    [theme=dark] .colab-df-convert:hover {\n",
              "      background-color: #434B5C;\n",
              "      box-shadow: 0px 1px 3px 1px rgba(0, 0, 0, 0.15);\n",
              "      filter: drop-shadow(0px 1px 2px rgba(0, 0, 0, 0.3));\n",
              "      fill: #FFFFFF;\n",
              "    }\n",
              "  </style>\n",
              "\n",
              "    <script>\n",
              "      const buttonEl =\n",
              "        document.querySelector('#df-47add1ee-10f2-4664-b2e1-80d8f27e77a1 button.colab-df-convert');\n",
              "      buttonEl.style.display =\n",
              "        google.colab.kernel.accessAllowed ? 'block' : 'none';\n",
              "\n",
              "      async function convertToInteractive(key) {\n",
              "        const element = document.querySelector('#df-47add1ee-10f2-4664-b2e1-80d8f27e77a1');\n",
              "        const dataTable =\n",
              "          await google.colab.kernel.invokeFunction('convertToInteractive',\n",
              "                                                    [key], {});\n",
              "        if (!dataTable) return;\n",
              "\n",
              "        const docLinkHtml = 'Like what you see? Visit the ' +\n",
              "          '<a target=\"_blank\" href=https://colab.research.google.com/notebooks/data_table.ipynb>data table notebook</a>'\n",
              "          + ' to learn more about interactive tables.';\n",
              "        element.innerHTML = '';\n",
              "        dataTable['output_type'] = 'display_data';\n",
              "        await google.colab.output.renderOutput(dataTable, element);\n",
              "        const docLink = document.createElement('div');\n",
              "        docLink.innerHTML = docLinkHtml;\n",
              "        element.appendChild(docLink);\n",
              "      }\n",
              "    </script>\n",
              "  </div>\n",
              "\n",
              "\n",
              "<div id=\"df-514df6bf-b48d-4cd2-88b6-c46ca94862cb\">\n",
              "  <button class=\"colab-df-quickchart\" onclick=\"quickchart('df-514df6bf-b48d-4cd2-88b6-c46ca94862cb')\"\n",
              "            title=\"Suggest charts\"\n",
              "            style=\"display:none;\">\n",
              "\n",
              "<svg xmlns=\"http://www.w3.org/2000/svg\" height=\"24px\"viewBox=\"0 0 24 24\"\n",
              "     width=\"24px\">\n",
              "    <g>\n",
              "        <path d=\"M19 3H5c-1.1 0-2 .9-2 2v14c0 1.1.9 2 2 2h14c1.1 0 2-.9 2-2V5c0-1.1-.9-2-2-2zM9 17H7v-7h2v7zm4 0h-2V7h2v10zm4 0h-2v-4h2v4z\"/>\n",
              "    </g>\n",
              "</svg>\n",
              "  </button>\n",
              "\n",
              "<style>\n",
              "  .colab-df-quickchart {\n",
              "      --bg-color: #E8F0FE;\n",
              "      --fill-color: #1967D2;\n",
              "      --hover-bg-color: #E2EBFA;\n",
              "      --hover-fill-color: #174EA6;\n",
              "      --disabled-fill-color: #AAA;\n",
              "      --disabled-bg-color: #DDD;\n",
              "  }\n",
              "\n",
              "  [theme=dark] .colab-df-quickchart {\n",
              "      --bg-color: #3B4455;\n",
              "      --fill-color: #D2E3FC;\n",
              "      --hover-bg-color: #434B5C;\n",
              "      --hover-fill-color: #FFFFFF;\n",
              "      --disabled-bg-color: #3B4455;\n",
              "      --disabled-fill-color: #666;\n",
              "  }\n",
              "\n",
              "  .colab-df-quickchart {\n",
              "    background-color: var(--bg-color);\n",
              "    border: none;\n",
              "    border-radius: 50%;\n",
              "    cursor: pointer;\n",
              "    display: none;\n",
              "    fill: var(--fill-color);\n",
              "    height: 32px;\n",
              "    padding: 0;\n",
              "    width: 32px;\n",
              "  }\n",
              "\n",
              "  .colab-df-quickchart:hover {\n",
              "    background-color: var(--hover-bg-color);\n",
              "    box-shadow: 0 1px 2px rgba(60, 64, 67, 0.3), 0 1px 3px 1px rgba(60, 64, 67, 0.15);\n",
              "    fill: var(--button-hover-fill-color);\n",
              "  }\n",
              "\n",
              "  .colab-df-quickchart-complete:disabled,\n",
              "  .colab-df-quickchart-complete:disabled:hover {\n",
              "    background-color: var(--disabled-bg-color);\n",
              "    fill: var(--disabled-fill-color);\n",
              "    box-shadow: none;\n",
              "  }\n",
              "\n",
              "  .colab-df-spinner {\n",
              "    border: 2px solid var(--fill-color);\n",
              "    border-color: transparent;\n",
              "    border-bottom-color: var(--fill-color);\n",
              "    animation:\n",
              "      spin 1s steps(1) infinite;\n",
              "  }\n",
              "\n",
              "  @keyframes spin {\n",
              "    0% {\n",
              "      border-color: transparent;\n",
              "      border-bottom-color: var(--fill-color);\n",
              "      border-left-color: var(--fill-color);\n",
              "    }\n",
              "    20% {\n",
              "      border-color: transparent;\n",
              "      border-left-color: var(--fill-color);\n",
              "      border-top-color: var(--fill-color);\n",
              "    }\n",
              "    30% {\n",
              "      border-color: transparent;\n",
              "      border-left-color: var(--fill-color);\n",
              "      border-top-color: var(--fill-color);\n",
              "      border-right-color: var(--fill-color);\n",
              "    }\n",
              "    40% {\n",
              "      border-color: transparent;\n",
              "      border-right-color: var(--fill-color);\n",
              "      border-top-color: var(--fill-color);\n",
              "    }\n",
              "    60% {\n",
              "      border-color: transparent;\n",
              "      border-right-color: var(--fill-color);\n",
              "    }\n",
              "    80% {\n",
              "      border-color: transparent;\n",
              "      border-right-color: var(--fill-color);\n",
              "      border-bottom-color: var(--fill-color);\n",
              "    }\n",
              "    90% {\n",
              "      border-color: transparent;\n",
              "      border-bottom-color: var(--fill-color);\n",
              "    }\n",
              "  }\n",
              "</style>\n",
              "\n",
              "  <script>\n",
              "    async function quickchart(key) {\n",
              "      const quickchartButtonEl =\n",
              "        document.querySelector('#' + key + ' button');\n",
              "      quickchartButtonEl.disabled = true;  // To prevent multiple clicks.\n",
              "      quickchartButtonEl.classList.add('colab-df-spinner');\n",
              "      try {\n",
              "        const charts = await google.colab.kernel.invokeFunction(\n",
              "            'suggestCharts', [key], {});\n",
              "      } catch (error) {\n",
              "        console.error('Error during call to suggestCharts:', error);\n",
              "      }\n",
              "      quickchartButtonEl.classList.remove('colab-df-spinner');\n",
              "      quickchartButtonEl.classList.add('colab-df-quickchart-complete');\n",
              "    }\n",
              "    (() => {\n",
              "      let quickchartButtonEl =\n",
              "        document.querySelector('#df-514df6bf-b48d-4cd2-88b6-c46ca94862cb button');\n",
              "      quickchartButtonEl.style.display =\n",
              "        google.colab.kernel.accessAllowed ? 'block' : 'none';\n",
              "    })();\n",
              "  </script>\n",
              "</div>\n",
              "\n",
              "  <div id=\"id_62872a25-7772-4178-9203-2bb6da0cb822\">\n",
              "    <style>\n",
              "      .colab-df-generate {\n",
              "        background-color: #E8F0FE;\n",
              "        border: none;\n",
              "        border-radius: 50%;\n",
              "        cursor: pointer;\n",
              "        display: none;\n",
              "        fill: #1967D2;\n",
              "        height: 32px;\n",
              "        padding: 0 0 0 0;\n",
              "        width: 32px;\n",
              "      }\n",
              "\n",
              "      .colab-df-generate:hover {\n",
              "        background-color: #E2EBFA;\n",
              "        box-shadow: 0px 1px 2px rgba(60, 64, 67, 0.3), 0px 1px 3px 1px rgba(60, 64, 67, 0.15);\n",
              "        fill: #174EA6;\n",
              "      }\n",
              "\n",
              "      [theme=dark] .colab-df-generate {\n",
              "        background-color: #3B4455;\n",
              "        fill: #D2E3FC;\n",
              "      }\n",
              "\n",
              "      [theme=dark] .colab-df-generate:hover {\n",
              "        background-color: #434B5C;\n",
              "        box-shadow: 0px 1px 3px 1px rgba(0, 0, 0, 0.15);\n",
              "        filter: drop-shadow(0px 1px 2px rgba(0, 0, 0, 0.3));\n",
              "        fill: #FFFFFF;\n",
              "      }\n",
              "    </style>\n",
              "    <button class=\"colab-df-generate\" onclick=\"generateWithVariable('model_metrics')\"\n",
              "            title=\"Generate code using this dataframe.\"\n",
              "            style=\"display:none;\">\n",
              "\n",
              "  <svg xmlns=\"http://www.w3.org/2000/svg\" height=\"24px\"viewBox=\"0 0 24 24\"\n",
              "       width=\"24px\">\n",
              "    <path d=\"M7,19H8.4L18.45,9,17,7.55,7,17.6ZM5,21V16.75L18.45,3.32a2,2,0,0,1,2.83,0l1.4,1.43a1.91,1.91,0,0,1,.58,1.4,1.91,1.91,0,0,1-.58,1.4L9.25,21ZM18.45,9,17,7.55Zm-12,3A5.31,5.31,0,0,0,4.9,8.1,5.31,5.31,0,0,0,1,6.5,5.31,5.31,0,0,0,4.9,4.9,5.31,5.31,0,0,0,6.5,1,5.31,5.31,0,0,0,8.1,4.9,5.31,5.31,0,0,0,12,6.5,5.46,5.46,0,0,0,6.5,12Z\"/>\n",
              "  </svg>\n",
              "    </button>\n",
              "    <script>\n",
              "      (() => {\n",
              "      const buttonEl =\n",
              "        document.querySelector('#id_62872a25-7772-4178-9203-2bb6da0cb822 button.colab-df-generate');\n",
              "      buttonEl.style.display =\n",
              "        google.colab.kernel.accessAllowed ? 'block' : 'none';\n",
              "\n",
              "      buttonEl.onclick = () => {\n",
              "        google.colab.notebook.generateWithVariable('model_metrics');\n",
              "      }\n",
              "      })();\n",
              "    </script>\n",
              "  </div>\n",
              "\n",
              "    </div>\n",
              "  </div>\n"
            ],
            "application/vnd.google.colaboratory.intrinsic+json": {
              "type": "dataframe",
              "variable_name": "model_metrics",
              "summary": "{\n  \"name\": \"model_metrics\",\n  \"rows\": 4,\n  \"fields\": [\n    {\n      \"column\": \"model\",\n      \"properties\": {\n        \"dtype\": \"string\",\n        \"num_unique_values\": 4,\n        \"samples\": [\n          \"Mistral v3 2 shot\",\n          \"Mistral v3 8 shot\",\n          \"Mistral v3 zero shot\"\n        ],\n        \"semantic_type\": \"\",\n        \"description\": \"\"\n      }\n    },\n    {\n      \"column\": \"accuracy\",\n      \"properties\": {\n        \"dtype\": \"number\",\n        \"std\": 0.045246239868327445,\n        \"min\": 0.6133333333333333,\n        \"max\": 0.6933333333333334,\n        \"num_unique_values\": 3,\n        \"samples\": [\n          0.6133333333333333,\n          0.6933333333333334,\n          0.69\n        ],\n        \"semantic_type\": \"\",\n        \"description\": \"\"\n      }\n    },\n    {\n      \"column\": \"fail_ratio\",\n      \"properties\": {\n        \"dtype\": \"number\",\n        \"std\": 0.045246239868327424,\n        \"min\": 0.30666666666666664,\n        \"max\": 0.38666666666666666,\n        \"num_unique_values\": 3,\n        \"samples\": [\n          0.38666666666666666,\n          0.30666666666666664,\n          0.31\n        ],\n        \"semantic_type\": \"\",\n        \"description\": \"\"\n      }\n    }\n  ]\n}"
            }
          },
          "metadata": {},
          "execution_count": 43
        }
      ],
      "source": [
        "model_metrics"
      ]
    },
    {
      "cell_type": "markdown",
      "source": [
        "### Cherry picked few shot inference"
      ],
      "metadata": {
        "id": "eAURpN5_oEsV"
      }
    },
    {
      "cell_type": "code",
      "source": [
        "manually_checked_examples = {\n",
        "    \"sexist\" : [7, 10, 23, 37],\n",
        "    \"not_sexist\" : [14, 15, 24, 32]\n",
        "}"
      ],
      "metadata": {
        "id": "h2OxB3Ubp6fE"
      },
      "execution_count": 44,
      "outputs": []
    },
    {
      "cell_type": "code",
      "source": [
        "for key, values in manually_checked_examples.items():\n",
        "  print(f\"Examples for {key}\")\n",
        "  for value in values:\n",
        "    print(\"[\", demonstrations.iloc[value]['label_sexist'], \"] \", demonstrations.iloc[value]['text'])\n",
        "  print()"
      ],
      "metadata": {
        "colab": {
          "base_uri": "https://localhost:8080/"
        },
        "id": "ixDvXG0NIT-5",
        "outputId": "1fced3cf-aa51-42f7-a0ce-448e98e529ca"
      },
      "execution_count": 45,
      "outputs": [
        {
          "output_type": "stream",
          "name": "stdout",
          "text": [
            "Examples for sexist\n",
            "[ sexist ]  Don't bother arguing with women. They don't care about the truth, only feelings.\n",
            "[ sexist ]  the stupid bitch thinks she's edgy and a 'bad ass'. these hoes are so fucking lame. bet the dumb bitch got 20,000 likes and simps saying retarded shit in her comments.\n",
            "[ sexist ]  The worthless bitch May her time is almost over ,there's a new man on the block motto Britain first British people first his name Jacob Rees Mogg now known as JRM to the people\n",
            "[ sexist ]  It’s different if you’re a woman. Spreading your legs just gives you sex\n",
            "\n",
            "Examples for not_sexist\n",
            "[ not sexist ]  Not all interactions with women have to result in dating, sex, or relationships. Just sharing a brief moment of subtle desire with a woman can be a sensual experience.\n",
            "[ not sexist ]  \"The stories of sexual harassment of women that Hollywood won't be telling.\" [URL]\n",
            "[ not sexist ]  That's the story, but I'm willing to bet that he just doesn't want to be part of all the mess that the royal family is involved with. I mean they did kill his mother after all.\n",
            "[ not sexist ]  hahahahahahah sad!! and ya i just noticed i already was following her.\n",
            "\n"
          ]
        }
      ]
    },
    {
      "cell_type": "code",
      "source": [
        "def build_few_shot_demonstrations_with_choosen_comments(manually_choosen_examples_ids, demonstrations, num_per_class=2):\n",
        "  \"\"\"\n",
        "    Inputs:\n",
        "      manually_choosen_examples_ids: the dictionary that contains the manually labeled examples ids\n",
        "      num_per_class: number of demonstrations per class. num_per_class <= 4 or it will throw an error. This is due to the fact that only 8 examples were manually labelled.\n",
        "\n",
        "    Outputs:\n",
        "      a list of textual demonstrations to inject into the prompt template.\n",
        "  \"\"\"\n",
        "\n",
        "  if num_per_class > 4:\n",
        "    raise ValueError(\"num_per_class must be less than or equal to 4\")\n",
        "\n",
        "  sexist_ids = manually_choosen_examples_ids['sexist'][:num_per_class]\n",
        "  not_sexist_ids = manually_choosen_examples_ids['not_sexist'][:num_per_class]\n",
        "\n",
        "  yes_samples = demonstrations.iloc[sexist_ids]\n",
        "  no_samples = demonstrations.iloc[not_sexist_ids]\n",
        "\n",
        "  few_shot_demonstrations = list(pd.concat([yes_samples['text'], no_samples['text']]))\n",
        "\n",
        "  return few_shot_demonstrations"
      ],
      "metadata": {
        "id": "Km7NFkLCsSl7"
      },
      "execution_count": 46,
      "outputs": []
    },
    {
      "cell_type": "code",
      "source": [
        "build_few_shot_demonstrations_with_choosen_comments(manually_checked_examples, demonstrations, num_per_class=2)"
      ],
      "metadata": {
        "colab": {
          "base_uri": "https://localhost:8080/"
        },
        "id": "1BV4fxKEwirh",
        "outputId": "1dbab7be-a065-48bc-cffc-dc536b4062af"
      },
      "execution_count": 47,
      "outputs": [
        {
          "output_type": "execute_result",
          "data": {
            "text/plain": [
              "[\"Don't bother arguing with women. They don't care about the truth, only feelings.\",\n",
              " \"the stupid bitch thinks she's edgy and a 'bad ass'. these hoes are so fucking lame. bet the dumb bitch got 20,000 likes and simps saying retarded shit in her comments.\",\n",
              " 'Not all interactions with women have to result in dating, sex, or relationships. Just sharing a brief moment of subtle desire with a woman can be a sensual experience.',\n",
              " '\"The stories of sexual harassment of women that Hollywood won\\'t be telling.\" [URL]']"
            ]
          },
          "metadata": {},
          "execution_count": 47
        }
      ]
    },
    {
      "cell_type": "markdown",
      "source": [
        "### 2 shot manually annotated"
      ],
      "metadata": {
        "id": "S-l_ksVXLMDE"
      }
    },
    {
      "cell_type": "code",
      "source": [
        "dem = build_few_shot_demonstrations_with_choosen_comments(manually_checked_examples, demonstrations, num_per_class=1)\n",
        "prompts_2_shot = prepare_prompts_few_shot(df['text'], dem, prompt_few_shot, tokenizer, device=device)"
      ],
      "metadata": {
        "id": "rkc4vAlXv_gw"
      },
      "execution_count": 48,
      "outputs": []
    },
    {
      "cell_type": "code",
      "source": [
        "print(tokenizer.decode(prompts_2_shot[0].input_ids[0]))"
      ],
      "metadata": {
        "colab": {
          "base_uri": "https://localhost:8080/"
        },
        "id": "jP_dBRnpxf1V",
        "outputId": "6700c307-7443-4eaf-f1e9-0371bc4c1fc0"
      },
      "execution_count": 49,
      "outputs": [
        {
          "output_type": "stream",
          "name": "stdout",
          "text": [
            "<s>[INST] You are an annotator for sexism detection.\n",
            "\n",
            "Your task is to classify input text as containing sexism or not. Respond only YES or NO.\n",
            "\n",
            "        EXAMPLES:\n",
            "        TEXT: Don't bother arguing with women. They don't care about the truth, only feelings.\n",
            "\tANSWER: YES\n",
            "\tTEXT: Not all interactions with women have to result in dating, sex, or relationships. Just sharing a brief moment of subtle desire with a woman can be a sensual experience.\n",
            "\tANSWER: NO\n",
            "\n",
            "\n",
            "        TEXT:\n",
            "        The boys must be gaming because there goes the wifi.\n",
            "\n",
            "        ANSWER:\n",
            "        [/INST]\n"
          ]
        }
      ]
    },
    {
      "cell_type": "code",
      "source": [
        "answers = generate_responses(model_8bit, prompts_2_shot)"
      ],
      "metadata": {
        "colab": {
          "base_uri": "https://localhost:8080/"
        },
        "id": "vlDMxA8mxq5k",
        "outputId": "d9864e3a-35ae-4d02-fb64-5ea7ae69a6c6"
      },
      "execution_count": 50,
      "outputs": [
        {
          "output_type": "stream",
          "name": "stderr",
          "text": [
            "100%|██████████| 300/300 [11:44<00:00,  2.35s/it]\n"
          ]
        }
      ]
    },
    {
      "cell_type": "code",
      "source": [
        "#compute the metrics\n",
        "mistalv3_2_shot_ma_metrics = compute_metrics(answers, original_labels)\n",
        "\n",
        "model_metrics.loc[len(model_metrics)] = {'model': 'Mistral v3 2 shot ma', 'accuracy': mistalv3_2_shot_ma_metrics['accuracy'], 'fail_ratio': mistalv3_2_shot_ma_metrics['fail_ratio']}\n",
        "\n",
        "#print the metrics\n",
        "for key, value in mistalv3_2_shot_ma_metrics.items():\n",
        "  print(f'{key}: {value:.2f}')"
      ],
      "metadata": {
        "colab": {
          "base_uri": "https://localhost:8080/"
        },
        "id": "Znt59oXHx114",
        "outputId": "718994dd-5347-4e55-a44d-6a90cae19607"
      },
      "execution_count": 52,
      "outputs": [
        {
          "output_type": "stream",
          "name": "stdout",
          "text": [
            "accuracy: 0.64\n",
            "fail_ratio: 0.36\n"
          ]
        }
      ]
    },
    {
      "cell_type": "code",
      "source": [
        "batch_predictions = [process_response(item) for item in answers]\n",
        "generated_answers = [get_generated_response(item) for item in answers]\n",
        "\n",
        "models_predictions['mistralv3_2_shot_ma_labels'] = batch_predictions\n",
        "models_predictions['mistralv3_2_shot_ma_answers'] = generated_answers"
      ],
      "metadata": {
        "id": "f8kvTKTVLSgt"
      },
      "execution_count": 53,
      "outputs": []
    },
    {
      "cell_type": "markdown",
      "source": [
        "### 4 shot manually annnotated"
      ],
      "metadata": {
        "id": "928N3aykLPNJ"
      }
    },
    {
      "cell_type": "code",
      "source": [
        "dem = build_few_shot_demonstrations_with_choosen_comments(manually_checked_examples, demonstrations, num_per_class=2)\n",
        "prompts_4_shot = prepare_prompts_few_shot(df['text'], dem, prompt_few_shot, tokenizer, device=device)"
      ],
      "metadata": {
        "id": "hlVkL_ic3D14"
      },
      "execution_count": 54,
      "outputs": []
    },
    {
      "cell_type": "code",
      "source": [
        "print(tokenizer.decode(prompts_4_shot[0].input_ids[0]))"
      ],
      "metadata": {
        "colab": {
          "base_uri": "https://localhost:8080/"
        },
        "id": "ZHyXDWU23NEf",
        "outputId": "1ec772aa-43ca-4a98-e61e-6279c0fef0f5"
      },
      "execution_count": 55,
      "outputs": [
        {
          "output_type": "stream",
          "name": "stdout",
          "text": [
            "<s>[INST] You are an annotator for sexism detection.\n",
            "\n",
            "Your task is to classify input text as containing sexism or not. Respond only YES or NO.\n",
            "\n",
            "        EXAMPLES:\n",
            "        TEXT: Don't bother arguing with women. They don't care about the truth, only feelings.\n",
            "\tANSWER: YES\n",
            "\tTEXT: the stupid bitch thinks she's edgy and a 'bad ass'. these hoes are so fucking lame. bet the dumb bitch got 20,000 likes and simps saying retarded shit in her comments.\n",
            "\tANSWER: YES\n",
            "\tTEXT: Not all interactions with women have to result in dating, sex, or relationships. Just sharing a brief moment of subtle desire with a woman can be a sensual experience.\n",
            "\tANSWER: NO\n",
            "\tTEXT: \"The stories of sexual harassment of women that Hollywood won't be telling.\" [URL]\n",
            "\tANSWER: NO\n",
            "\n",
            "\n",
            "        TEXT:\n",
            "        The boys must be gaming because there goes the wifi.\n",
            "\n",
            "        ANSWER:\n",
            "        [/INST]\n"
          ]
        }
      ]
    },
    {
      "cell_type": "code",
      "source": [
        "answers = generate_responses(model_8bit, prompts_4_shot)"
      ],
      "metadata": {
        "colab": {
          "base_uri": "https://localhost:8080/"
        },
        "id": "V88zB4kJ3QoG",
        "outputId": "2c9778cb-8be0-4a34-e0bd-a88e5db7af08"
      },
      "execution_count": 56,
      "outputs": [
        {
          "output_type": "stream",
          "name": "stderr",
          "text": [
            "100%|██████████| 300/300 [09:56<00:00,  1.99s/it]\n"
          ]
        }
      ]
    },
    {
      "cell_type": "code",
      "source": [
        "#compute the metrics\n",
        "mistalv3_4_shot_ma_metrics = compute_metrics(answers, original_labels)\n",
        "\n",
        "model_metrics.loc[len(model_metrics)] = {'model': 'Mistral v3 4 shot ma', 'accuracy': mistalv3_4_shot_ma_metrics['accuracy'], 'fail_ratio': mistalv3_4_shot_ma_metrics['fail_ratio']}\n",
        "\n",
        "#print the metrics\n",
        "for key, value in mistalv3_4_shot_ma_metrics.items():\n",
        "  print(f'{key}: {value:.2f}')"
      ],
      "metadata": {
        "colab": {
          "base_uri": "https://localhost:8080/"
        },
        "id": "QGn5YR7a3Twk",
        "outputId": "f2257756-4981-4a83-901f-daa2b7c4e6fc"
      },
      "execution_count": 57,
      "outputs": [
        {
          "output_type": "stream",
          "name": "stdout",
          "text": [
            "accuracy: 0.67\n",
            "fail_ratio: 0.33\n"
          ]
        }
      ]
    },
    {
      "cell_type": "code",
      "source": [
        "batch_predictions = [process_response(item) for item in answers]\n",
        "generated_answers = [get_generated_response(item) for item in answers]\n",
        "\n",
        "models_predictions['mistralv3_4_shot_ma_labels'] = batch_predictions\n",
        "models_predictions['mistralv3_4_shot_ma_answers'] = generated_answers"
      ],
      "metadata": {
        "id": "TBH2L2NIL0nn"
      },
      "execution_count": 58,
      "outputs": []
    },
    {
      "cell_type": "markdown",
      "source": [
        "### 8 shot manually annotated"
      ],
      "metadata": {
        "id": "U42p8NPWL0EO"
      }
    },
    {
      "cell_type": "code",
      "source": [
        "dem = build_few_shot_demonstrations_with_choosen_comments(manually_checked_examples, demonstrations, num_per_class=4)\n",
        "prompts_8_shot = prepare_prompts_few_shot(df['text'], dem, prompt_few_shot, tokenizer, device=device)"
      ],
      "metadata": {
        "id": "kgvxsyQ83XAy"
      },
      "execution_count": 59,
      "outputs": []
    },
    {
      "cell_type": "code",
      "source": [
        "print(tokenizer.decode(prompts_8_shot[0].input_ids[0]))"
      ],
      "metadata": {
        "colab": {
          "base_uri": "https://localhost:8080/"
        },
        "id": "2t5zfx7y3c6M",
        "outputId": "44dda27c-944d-4b65-853c-74a3c27a3d61"
      },
      "execution_count": 60,
      "outputs": [
        {
          "output_type": "stream",
          "name": "stdout",
          "text": [
            "<s>[INST] You are an annotator for sexism detection.\n",
            "\n",
            "Your task is to classify input text as containing sexism or not. Respond only YES or NO.\n",
            "\n",
            "        EXAMPLES:\n",
            "        TEXT: Don't bother arguing with women. They don't care about the truth, only feelings.\n",
            "\tANSWER: YES\n",
            "\tTEXT: the stupid bitch thinks she's edgy and a 'bad ass'. these hoes are so fucking lame. bet the dumb bitch got 20,000 likes and simps saying retarded shit in her comments.\n",
            "\tANSWER: YES\n",
            "\tTEXT: The worthless bitch May her time is almost over ,there's a new man on the block motto Britain first British people first his name Jacob Rees Mogg now known as JRM to the people\n",
            "\tANSWER: YES\n",
            "\tTEXT: It’s different if you’re a woman. Spreading your legs just gives you sex\n",
            "\tANSWER: YES\n",
            "\tTEXT: Not all interactions with women have to result in dating, sex, or relationships. Just sharing a brief moment of subtle desire with a woman can be a sensual experience.\n",
            "\tANSWER: NO\n",
            "\tTEXT: \"The stories of sexual harassment of women that Hollywood won't be telling.\" [URL]\n",
            "\tANSWER: NO\n",
            "\tTEXT: That's the story, but I'm willing to bet that he just doesn't want to be part of all the mess that the royal family is involved with. I mean they did kill his mother after all.\n",
            "\tANSWER: NO\n",
            "\tTEXT: hahahahahahah sad!! and ya i just noticed i already was following her.\n",
            "\tANSWER: NO\n",
            "\n",
            "\n",
            "        TEXT:\n",
            "        The boys must be gaming because there goes the wifi.\n",
            "\n",
            "        ANSWER:\n",
            "        [/INST]\n"
          ]
        }
      ]
    },
    {
      "cell_type": "code",
      "source": [
        "answers = generate_responses(model_8bit, prompts_8_shot)"
      ],
      "metadata": {
        "colab": {
          "base_uri": "https://localhost:8080/"
        },
        "id": "B7omIrUA3dvR",
        "outputId": "868d43e9-8393-4357-cf3c-12edde503bc5"
      },
      "execution_count": 61,
      "outputs": [
        {
          "output_type": "stream",
          "name": "stderr",
          "text": [
            "100%|██████████| 300/300 [08:13<00:00,  1.64s/it]\n"
          ]
        }
      ]
    },
    {
      "cell_type": "code",
      "source": [
        "#compute the metrics\n",
        "mistalv3_8_shot_ma_metrics = compute_metrics(answers, original_labels)\n",
        "\n",
        "model_metrics.loc[len(model_metrics)] = {'model': 'Mistral v3 8 shot ma', 'accuracy': mistalv3_8_shot_ma_metrics['accuracy'], 'fail_ratio': mistalv3_8_shot_ma_metrics['fail_ratio']}\n",
        "\n",
        "#print the metrics\n",
        "for key, value in mistalv3_8_shot_ma_metrics.items():\n",
        "  print(f'{key}: {value:.2f}')"
      ],
      "metadata": {
        "colab": {
          "base_uri": "https://localhost:8080/"
        },
        "id": "-i_ES1sH9P3S",
        "outputId": "f349f35b-9383-4ddf-c9a5-c1f99fa0d243"
      },
      "execution_count": 62,
      "outputs": [
        {
          "output_type": "stream",
          "name": "stdout",
          "text": [
            "accuracy: 0.72\n",
            "fail_ratio: 0.28\n"
          ]
        }
      ]
    },
    {
      "cell_type": "code",
      "source": [
        "batch_predictions = [process_response(item) for item in answers]\n",
        "generated_answers = [get_generated_response(item) for item in answers]\n",
        "\n",
        "models_predictions['mistralv3_8_shot_ma_labels'] = batch_predictions\n",
        "models_predictions['mistralv3_8_shot_ma_answers'] = generated_answers"
      ],
      "metadata": {
        "id": "RwStp-o0MLX_"
      },
      "execution_count": 63,
      "outputs": []
    },
    {
      "cell_type": "markdown",
      "metadata": {
        "id": "mk4fkuU63rud"
      },
      "source": [
        "# Llama 2 8B"
      ]
    },
    {
      "cell_type": "markdown",
      "metadata": {
        "id": "3sBEW4Bt4XZc"
      },
      "source": [
        "## Task 1 - Model setup"
      ]
    },
    {
      "cell_type": "code",
      "execution_count": 66,
      "metadata": {
        "colab": {
          "base_uri": "https://localhost:8080/",
          "height": 141
        },
        "id": "Lkf7FHBC_fo4",
        "outputId": "9dba9c9b-3703-4ca8-f2dc-002fbc4ef2e2"
      },
      "outputs": [
        {
          "output_type": "error",
          "ename": "NameError",
          "evalue": "name 'model_8bit' is not defined",
          "traceback": [
            "\u001b[0;31m---------------------------------------------------------------------------\u001b[0m",
            "\u001b[0;31mNameError\u001b[0m                                 Traceback (most recent call last)",
            "\u001b[0;32m<ipython-input-66-bfe84c9c2bb4>\u001b[0m in \u001b[0;36m<cell line: 1>\u001b[0;34m()\u001b[0m\n\u001b[0;32m----> 1\u001b[0;31m \u001b[0;32mdel\u001b[0m \u001b[0mmodel_8bit\u001b[0m\u001b[0;34m\u001b[0m\u001b[0;34m\u001b[0m\u001b[0m\n\u001b[0m",
            "\u001b[0;31mNameError\u001b[0m: name 'model_8bit' is not defined"
          ]
        }
      ],
      "source": [
        "del model_8bit"
      ]
    },
    {
      "cell_type": "code",
      "execution_count": 67,
      "metadata": {
        "colab": {
          "base_uri": "https://localhost:8080/"
        },
        "id": "-eO1_XJW8UVy",
        "outputId": "f10019f6-4dcc-4b68-9542-f2d15b880cf0"
      },
      "outputs": [
        {
          "output_type": "execute_result",
          "data": {
            "text/plain": [
              "8"
            ]
          },
          "metadata": {},
          "execution_count": 67
        }
      ],
      "source": [
        "import gc\n",
        "\n",
        "torch.cuda.empty_cache()\n",
        "\n",
        "with torch.no_grad():\n",
        "  torch.cuda.empty_cache()\n",
        "\n",
        "gc.collect()"
      ]
    },
    {
      "cell_type": "code",
      "execution_count": 68,
      "metadata": {
        "colab": {
          "base_uri": "https://localhost:8080/",
          "height": 436,
          "referenced_widgets": [
            "ebf6902c40074da1994f9c166f8877a1",
            "78ade07ff74e474eb2a88b4f440d1d4d",
            "f8a3ae6331a44e80bf3d1b743bce7b58",
            "39bde194f5d04b59bfba8b55ec8de91f",
            "50a671e745bf4074816a4a0bdf3820d9",
            "81c264b856e94550bd393802611e76e3",
            "f84c1c67af794fafab18a0389ffeabdf",
            "0ca973f9ed474595889b1104590cb860",
            "1aa120bd0371403fa00574fa28a8b5dc",
            "5820c7bc866947d694c5412dac1b4225",
            "0abe377e81e64112857ae97962af6f14",
            "4d9a8ac717cc475694e4a468d02d91e6",
            "e491d824f74a45dd92c2ddebf3c22c62",
            "0f71506216b240518f9c2aec898ce853",
            "ab8a0181e59d4a19a772583b14235372",
            "6a067b53aaec4e52a42d262745b51d26",
            "e5a830d9297f4e93af152f7f575d56bc",
            "7894dfb3fa4e4d479e863f330d978e56",
            "2bb15f267cea4c31876b473b3681d62b",
            "882d2c02683a453ba98cd82f90b8a137",
            "b8460a4790244046b3763d8560deb407",
            "1aa62e1f0c204e12a4401a0231b19388",
            "70b82525f1de4a239b87cb140f380d82",
            "6a9df6a2d2e342f9abfedc98471d6ce2",
            "fbcecdfa532f4e83ba31113faf41cb81",
            "3c759247942a47c9b783484a04c02607",
            "ed5a33fd1fcc47b9a5c58d9504617c6f",
            "8ab00c14e05a4cd1837e37b61b68c12d",
            "6a7e0b6c5deb4946b0626346b92dee9a",
            "7254e62f0b464ae3a2315c9e166a3927",
            "f8bbf0a67b7e46f785e5b04f8aa4bfa4",
            "2f1509b114a74df4b8c191edb05e227d",
            "7bb039c0d554451ebebf2ad0ed3b21e0",
            "e29de16c4fd641a2ad2e05c16179326d",
            "0a3509d69c664ff4ae0d8013987c4a07",
            "254dfbf13b8e4f508ab494f2be168073",
            "d58b99b168c54026ab612b0049ad4aaa",
            "21c2dbc436794df19a7450a3f4dac06d",
            "5146978131f4471e98966f212aa1f5fc",
            "7eecb2712b1b4cc08c699916756b6b67",
            "8c8e9e99ec1b490d89419cc13d7d379c",
            "c6c7691520b046d9a530cff5e7104737",
            "ca341bc6d0a247be97630e1e9c062c80",
            "84759d49bf2b484b90f2e53be5d4a7b5",
            "da8d12772c3646ecb999dd8d53609064",
            "ba83105489ca48148970d62a993e4431",
            "9962b91fdbba4e7483797ee698b25abb",
            "91aacbdf688343ada1a73402c368024c",
            "0a5fc5cf5e0b4ddf937c727cf1a7dd43",
            "b73c8e7b08d644d3acc45ef56e934208",
            "cda7b5d79aee42edb9952d4401328463",
            "a3f155ed06464f45997c0d4ab259a106",
            "e335b0357adb45ee974a28fa2940ae9e",
            "468a8970fe8d42ab863ad1a5c8438eff",
            "82ea8d2d637846bcb4e02e5f6601ef22",
            "9dcac7619ef84c21a1857c2cd7bfefee",
            "0c1af9579f7d4347b9ca9bcdc9190f03",
            "3c672dd0062742bb8fc9a26c31419643",
            "41eb66ca133c46479edb9915b37c535d",
            "96ecdcd986d0488184ac755e0fbef096",
            "6a969de88f7e4d9398d232fb38839ec6",
            "901c5a92d8104ae5bae058c5a61bf14c",
            "020dbaccc2d3458cad2dd13ecbf2aa96",
            "c728a04c433a4c4d8250f3a7e4a6bb2f",
            "92511c787afa4d35a361d86788299c55",
            "34943a25ae554de6993aec82546ae519",
            "c1b0686d822e4f2598e3527007b362c0",
            "9e6a137a0d2341e5bc5a6da1dd9731cd",
            "dd36cc7ed67341db9ac2fd5efdffb645",
            "e16a32cf457d4ba2a53cc6d0d114ebf7",
            "6f05a2c3462b4a42b8ca4670fd05dcef",
            "beee5bbb4a4e4bfebfe35dcc485bfc0e",
            "ea8c6097856a4d949010ecdd7282f317",
            "53ff8d4304e24435a91ffdbfbe3e432a",
            "7a5ce79617cc47448a67b34c4c834731",
            "19673645449846cea045df3e2d2dbc99",
            "ebe41b47ee804afb996d5d024fe017ef",
            "e4db9875e3644e4eadc9bff1dcd5e3a0",
            "0276133d99a54041919fcf8b3ef25590",
            "80089086ec4c423aba67add67ade7d74",
            "ff78f5c62bc443a29b32deffcd11b278",
            "92e557223640419da670adb335a29988",
            "d8fff3466b5c41a8889881a0d757c940",
            "1068442943b84bc6bf81dcd5ee8d66bb",
            "563903c3a20e4fddae1db40ba775e892",
            "78042ca4c54745ddbbedf0c9ecad7e77",
            "ad11ebd9b80f48738a49003a4b6096d4",
            "8aa2e40f03ae4971adbaf16df9e999f8",
            "ab2c335bedc34a6ea6193ea0abb3b254",
            "0cd656b93ee74fea83ab5dd54aef618e",
            "16e537e39f2747239c6239b7d59308b2",
            "bd54bcff41c149ef9312cfbae046037a",
            "8b88e2ae7b7341f0b3d60936e8ffdfe4",
            "717f0f2e9e774c2bba969683f957d5ef",
            "f3fbfc5ed1a9410db8912296cbd8b53c",
            "dc3c0f38fe6143e49e8c4cda579d691f",
            "8327ca414e6543eb9f4e49d2aae2eb7b",
            "ff00677c85fc41fb90212a4ff9625231",
            "928549ad98ca4f5aaae9afee593353b6",
            "448d7962e5ef42deb9e27e46e9f0b9dd",
            "c4efc563a586475293c2e7fa4b67a0ab",
            "d2637ef8e93e45ad9d4ec62a3000e825",
            "d21b7220913443e9944f81acd44299f0",
            "0a30f76ba06f4c00978103190322e35d",
            "336fdde4445b485cb02114503d99fed9",
            "3327bdac9e6948da86c8d9c8cfcbe98d",
            "cf5fc5b42f7241ecb886fc0efff3b00f",
            "2bf84177f8f44f569a94fdabd0402020",
            "6ffacf92a5434d2eb306d9a1c87a421e",
            "e81b3d1797b44452bb22cb913fb7a59f",
            "5904334db0ae49988d5bae080970115d",
            "90cb59c026ef4ac9bd9a0bd0adfee65e",
            "7809be3a8c6e4f5491f17415ab8f1827",
            "279aaf92aad243a09a50bc9ebc8555ed",
            "757650485337470cb613854d680c89f1",
            "300e7276d3a64b6db4dbe6485a2ad049",
            "014131e615484ed3b2844ebccf585458",
            "59f4695fe7a2432ab3ce00c25a7bc5af",
            "7fe8b4e572714818911189f7544e8700",
            "38d760c609e84f9d97868283fe9d7861",
            "a669b1c945484038a4ab91afcb655985",
            "8875c6ad78504a52938e6167929dc1f5",
            "aa41c527636f4ea5a2bb75abddb890d8",
            "f175367e06344ee4bfb8a11a507b1544",
            "9a6d07ea0a714e98b2964e692142ce8d",
            "389c3e8e26964fc1a63c1f1e9fd2cfcb",
            "971e9811470b4037900841c22b40b914",
            "4a219af54de341a98e5e083483465082",
            "ed173b012c1c47c380668270027107d4",
            "3d7ec5d8dc52423ca0e22a0af27c4f9b",
            "ec87902ed3f84dcca7d5819305b06b51",
            "6926e4eebcae4e47811e8758f547d071"
          ]
        },
        "id": "JxLvpCzs31tB",
        "outputId": "bb57af33-71b3-4f89-8de7-b1f129f7107e"
      },
      "outputs": [
        {
          "output_type": "display_data",
          "data": {
            "text/plain": [
              "tokenizer_config.json:   0%|          | 0.00/55.4k [00:00<?, ?B/s]"
            ],
            "application/vnd.jupyter.widget-view+json": {
              "version_major": 2,
              "version_minor": 0,
              "model_id": "ebf6902c40074da1994f9c166f8877a1"
            }
          },
          "metadata": {}
        },
        {
          "output_type": "display_data",
          "data": {
            "text/plain": [
              "tokenizer.json:   0%|          | 0.00/9.09M [00:00<?, ?B/s]"
            ],
            "application/vnd.jupyter.widget-view+json": {
              "version_major": 2,
              "version_minor": 0,
              "model_id": "4d9a8ac717cc475694e4a468d02d91e6"
            }
          },
          "metadata": {}
        },
        {
          "output_type": "display_data",
          "data": {
            "text/plain": [
              "special_tokens_map.json:   0%|          | 0.00/296 [00:00<?, ?B/s]"
            ],
            "application/vnd.jupyter.widget-view+json": {
              "version_major": 2,
              "version_minor": 0,
              "model_id": "70b82525f1de4a239b87cb140f380d82"
            }
          },
          "metadata": {}
        },
        {
          "output_type": "display_data",
          "data": {
            "text/plain": [
              "config.json:   0%|          | 0.00/855 [00:00<?, ?B/s]"
            ],
            "application/vnd.jupyter.widget-view+json": {
              "version_major": 2,
              "version_minor": 0,
              "model_id": "e29de16c4fd641a2ad2e05c16179326d"
            }
          },
          "metadata": {}
        },
        {
          "output_type": "stream",
          "name": "stderr",
          "text": [
            "`low_cpu_mem_usage` was None, now default to True since model is quantized.\n"
          ]
        },
        {
          "output_type": "display_data",
          "data": {
            "text/plain": [
              "model.safetensors.index.json:   0%|          | 0.00/23.9k [00:00<?, ?B/s]"
            ],
            "application/vnd.jupyter.widget-view+json": {
              "version_major": 2,
              "version_minor": 0,
              "model_id": "da8d12772c3646ecb999dd8d53609064"
            }
          },
          "metadata": {}
        },
        {
          "output_type": "display_data",
          "data": {
            "text/plain": [
              "Downloading shards:   0%|          | 0/4 [00:00<?, ?it/s]"
            ],
            "application/vnd.jupyter.widget-view+json": {
              "version_major": 2,
              "version_minor": 0,
              "model_id": "9dcac7619ef84c21a1857c2cd7bfefee"
            }
          },
          "metadata": {}
        },
        {
          "output_type": "display_data",
          "data": {
            "text/plain": [
              "model-00001-of-00004.safetensors:   0%|          | 0.00/4.98G [00:00<?, ?B/s]"
            ],
            "application/vnd.jupyter.widget-view+json": {
              "version_major": 2,
              "version_minor": 0,
              "model_id": "c1b0686d822e4f2598e3527007b362c0"
            }
          },
          "metadata": {}
        },
        {
          "output_type": "display_data",
          "data": {
            "text/plain": [
              "model-00002-of-00004.safetensors:   0%|          | 0.00/5.00G [00:00<?, ?B/s]"
            ],
            "application/vnd.jupyter.widget-view+json": {
              "version_major": 2,
              "version_minor": 0,
              "model_id": "e4db9875e3644e4eadc9bff1dcd5e3a0"
            }
          },
          "metadata": {}
        },
        {
          "output_type": "display_data",
          "data": {
            "text/plain": [
              "model-00003-of-00004.safetensors:   0%|          | 0.00/4.92G [00:00<?, ?B/s]"
            ],
            "application/vnd.jupyter.widget-view+json": {
              "version_major": 2,
              "version_minor": 0,
              "model_id": "ab2c335bedc34a6ea6193ea0abb3b254"
            }
          },
          "metadata": {}
        },
        {
          "output_type": "display_data",
          "data": {
            "text/plain": [
              "model-00004-of-00004.safetensors:   0%|          | 0.00/1.17G [00:00<?, ?B/s]"
            ],
            "application/vnd.jupyter.widget-view+json": {
              "version_major": 2,
              "version_minor": 0,
              "model_id": "448d7962e5ef42deb9e27e46e9f0b9dd"
            }
          },
          "metadata": {}
        },
        {
          "output_type": "display_data",
          "data": {
            "text/plain": [
              "Loading checkpoint shards:   0%|          | 0/4 [00:00<?, ?it/s]"
            ],
            "application/vnd.jupyter.widget-view+json": {
              "version_major": 2,
              "version_minor": 0,
              "model_id": "5904334db0ae49988d5bae080970115d"
            }
          },
          "metadata": {}
        },
        {
          "output_type": "display_data",
          "data": {
            "text/plain": [
              "generation_config.json:   0%|          | 0.00/184 [00:00<?, ?B/s]"
            ],
            "application/vnd.jupyter.widget-view+json": {
              "version_major": 2,
              "version_minor": 0,
              "model_id": "8875c6ad78504a52938e6167929dc1f5"
            }
          },
          "metadata": {}
        },
        {
          "output_type": "stream",
          "name": "stdout",
          "text": [
            "Model loaded on cuda:0\n"
          ]
        }
      ],
      "source": [
        "model_card = 'meta-llama/Meta-Llama-3.1-8B-Instruct'\n",
        "model_8bit, tokenizer = load_model(model_card)\n",
        "\n",
        "device = model_8bit.device\n",
        "print(f'Model loaded on {device}')"
      ]
    },
    {
      "cell_type": "markdown",
      "metadata": {
        "id": "iScyBUeZ4Sa_"
      },
      "source": [
        "## Task 2 - Prompt setup"
      ]
    },
    {
      "cell_type": "code",
      "execution_count": 69,
      "metadata": {
        "colab": {
          "base_uri": "https://localhost:8080/"
        },
        "id": "HFjp7Bre4SAN",
        "outputId": "3eca832a-bfe0-4d65-f6dc-ed70854a8a23"
      },
      "outputs": [
        {
          "output_type": "stream",
          "name": "stdout",
          "text": [
            "Prompt example: \n",
            "\n",
            "system\n",
            "\n",
            "Cutting Knowledge Date: December 2023\n",
            "Today Date: 26 Jul 2024\n",
            "\n",
            "You are an annotator for sexism detection.user\n",
            "\n",
            "Your task is to classify input text as containing sexism or not. Respond only YES or NO.\n",
            "\n",
            "        TEXT:\n",
            "        The boys must be gaming because there goes the wifi.\n",
            "\n",
            "        ANSWER:assistant\n",
            "\n",
            "\n"
          ]
        }
      ],
      "source": [
        "prompts = prepare_prompts(df['text'], prompt, tokenizer, device=device)\n",
        "\n",
        "print(\"Prompt example: \\n\")\n",
        "print(tokenizer.decode(prompts[0].input_ids[0], skip_special_tokens=True))"
      ]
    },
    {
      "cell_type": "markdown",
      "metadata": {
        "id": "B14-Hife4ffk"
      },
      "source": [
        "## Task 3 - Inference\n"
      ]
    },
    {
      "cell_type": "code",
      "execution_count": 70,
      "metadata": {
        "id": "W_YXwBmeDy7l"
      },
      "outputs": [],
      "source": [
        "def get_generated_response(response):\n",
        "  \"\"\"\n",
        "    This function takes a textual response generated by the LLM\n",
        "    and processes it to extract only the text generated by the LLM.\n",
        "\n",
        "    Inputs:\n",
        "      response: generated response from LLM\n",
        "\n",
        "    Outputs:\n",
        "      LLM generated text: string\n",
        "  \"\"\"\n",
        "  response = tokenizer.decode(response[0])\n",
        "  response = response.split('<|end_header_id|>')[-1]\n",
        "  response = re.sub(r'</s>', '', response).strip()\n",
        "  response = re.sub(r'<\\|eot_id\\|>', '', response).strip()\n",
        "  return response"
      ]
    },
    {
      "cell_type": "code",
      "execution_count": 71,
      "metadata": {
        "colab": {
          "base_uri": "https://localhost:8080/"
        },
        "id": "kZ8WN74e4ega",
        "outputId": "fbe66944-62a9-4206-b0e0-018bc8d85392"
      },
      "outputs": [
        {
          "output_type": "stream",
          "name": "stderr",
          "text": [
            "100%|██████████| 300/300 [02:09<00:00,  2.32it/s]\n"
          ]
        }
      ],
      "source": [
        "answers = generate_responses(model_8bit, prompts)"
      ]
    },
    {
      "cell_type": "code",
      "execution_count": 72,
      "metadata": {
        "id": "i6qZ3dok4nLs"
      },
      "outputs": [],
      "source": [
        "batch_predictions = [process_response(item) for item in answers]\n",
        "generated_answers = [get_generated_response(item) for item in answers]"
      ]
    },
    {
      "cell_type": "code",
      "execution_count": 73,
      "metadata": {
        "id": "8pxVobfF4oM5"
      },
      "outputs": [],
      "source": [
        "models_predictions['llama3_zero_shot_labels'] = batch_predictions\n",
        "models_predictions['llama3_zero_shot_answers'] = generated_answers"
      ]
    },
    {
      "cell_type": "markdown",
      "metadata": {
        "id": "iyy6Cb9a7iFi"
      },
      "source": [
        "## Task 4 - Metrics"
      ]
    },
    {
      "cell_type": "code",
      "execution_count": 74,
      "metadata": {
        "colab": {
          "base_uri": "https://localhost:8080/"
        },
        "id": "lVVeIDjI77WC",
        "outputId": "e2caff6d-2440-40c8-d0ba-de2856c4698b"
      },
      "outputs": [
        {
          "output_type": "stream",
          "name": "stdout",
          "text": [
            "accuracy: 0.65\n",
            "fail_ratio: 0.35\n"
          ]
        }
      ],
      "source": [
        "#compute the metrics\n",
        "llama3_base_metrics = compute_metrics(answers, original_labels)\n",
        "\n",
        "#add the metric to the dataset\n",
        "model_metrics.loc[len(model_metrics)] = {'model': 'Llama3 zero shot', 'accuracy': llama3_base_metrics['accuracy'], 'fail_ratio': llama3_base_metrics['fail_ratio']}\n",
        "\n",
        "#print the metrics\n",
        "for key, value in llama3_base_metrics.items():\n",
        "  print(f'{key}: {value:.2f}')"
      ]
    },
    {
      "cell_type": "markdown",
      "metadata": {
        "id": "p6AQAD-S8xUr"
      },
      "source": [
        "## Task 5 - Few-shot Inference"
      ]
    },
    {
      "cell_type": "markdown",
      "metadata": {
        "id": "pSSUZfqA5dZ5"
      },
      "source": [
        "### 2-shot learning"
      ]
    },
    {
      "cell_type": "code",
      "execution_count": 75,
      "metadata": {
        "id": "ZnczoK9P5cfU"
      },
      "outputs": [],
      "source": [
        "prompts_few_shot = prepare_prompts_few_shot(df['text'], build_few_shot_demonstrations(demonstrations, num_per_class=1), prompt_few_shot, tokenizer, device=device)"
      ]
    },
    {
      "cell_type": "code",
      "execution_count": 76,
      "metadata": {
        "colab": {
          "base_uri": "https://localhost:8080/"
        },
        "id": "hkJZEMne5hZR",
        "outputId": "6fab2a0b-28b3-4410-8b27-d58daab2a58d"
      },
      "outputs": [
        {
          "output_type": "stream",
          "name": "stdout",
          "text": [
            "<|begin_of_text|><|start_header_id|>system<|end_header_id|>\n",
            "\n",
            "Cutting Knowledge Date: December 2023\n",
            "Today Date: 26 Jul 2024\n",
            "\n",
            "You are an annotator for sexism detection.<|eot_id|><|start_header_id|>user<|end_header_id|>\n",
            "\n",
            "Your task is to classify input text as containing sexism or not. Respond only YES or NO.\n",
            "\n",
            "        EXAMPLES:\n",
            "        TEXT: nothing irks a left wing feminist worse than seeing a beautiful virtuous woman who is conservative they HATE her H-A-T-E so they try to suppress her next it will be illegal to be born beautiful they'll call it \"Hate Birth\"\n",
            "\tANSWER: YES\n",
            "\tTEXT: Can't see much of her but she's hotter than any vagina-hat wearer in the Women's March\n",
            "\tANSWER: NO\n",
            "\n",
            "\n",
            "        TEXT:\n",
            "        The boys must be gaming because there goes the wifi.\n",
            "\n",
            "        ANSWER:<|eot_id|><|start_header_id|>assistant<|end_header_id|>\n",
            "\n",
            "\n"
          ]
        }
      ],
      "source": [
        "print(tokenizer.decode(prompts_few_shot[0].input_ids[0]))"
      ]
    },
    {
      "cell_type": "code",
      "execution_count": 77,
      "metadata": {
        "colab": {
          "base_uri": "https://localhost:8080/"
        },
        "id": "gv54e_Vj5inE",
        "outputId": "aa048db0-35ee-4162-c544-2f6f5a5be036"
      },
      "outputs": [
        {
          "output_type": "stream",
          "name": "stderr",
          "text": [
            "100%|██████████| 300/300 [02:14<00:00,  2.24it/s]\n"
          ]
        }
      ],
      "source": [
        "answers = generate_responses(model_8bit, prompts_few_shot)"
      ]
    },
    {
      "cell_type": "code",
      "execution_count": 78,
      "metadata": {
        "id": "l_nlq0mU6ck5"
      },
      "outputs": [],
      "source": [
        "batch_predictions = [process_response(item) for item in answers]\n",
        "generated_answers = [get_generated_response(item) for item in answers]\n",
        "\n",
        "models_predictions['llama3_2_shot_labels'] = batch_predictions\n",
        "models_predictions['llama3_2_shot_answers'] = generated_answers"
      ]
    },
    {
      "cell_type": "code",
      "execution_count": 79,
      "metadata": {
        "colab": {
          "base_uri": "https://localhost:8080/"
        },
        "id": "2ZEOlAmA6wQw",
        "outputId": "915138a5-ad92-4363-c4e8-8b329a78bd93"
      },
      "outputs": [
        {
          "output_type": "stream",
          "name": "stdout",
          "text": [
            "accuracy: 0.67\n",
            "fail_ratio: 0.33\n"
          ]
        }
      ],
      "source": [
        "#compute metrics\n",
        "llama3_2_shot_metrics = compute_metrics(answers, original_labels)\n",
        "\n",
        "#add the metric to the dataset\n",
        "model_metrics.loc[len(model_metrics)] = {'model': 'Llama3 2 shot', 'accuracy': llama3_2_shot_metrics['accuracy'], 'fail_ratio': llama3_2_shot_metrics['fail_ratio']}\n",
        "\n",
        "#print the metrics\n",
        "for key, value in llama3_2_shot_metrics.items():\n",
        "  print(f'{key}: {value:.2f}')"
      ]
    },
    {
      "cell_type": "markdown",
      "metadata": {
        "id": "9cTQNJHK84PF"
      },
      "source": [
        "### 4-shot leaning"
      ]
    },
    {
      "cell_type": "code",
      "execution_count": 80,
      "metadata": {
        "id": "HnVClc6U8wTn"
      },
      "outputs": [],
      "source": [
        "prompts_few_shot = prepare_prompts_few_shot(df['text'], build_few_shot_demonstrations(demonstrations, num_per_class=2), prompt_few_shot, tokenizer, device=device)"
      ]
    },
    {
      "cell_type": "code",
      "execution_count": 81,
      "metadata": {
        "colab": {
          "base_uri": "https://localhost:8080/"
        },
        "id": "S0TJh2sC5ZF9",
        "outputId": "9bf22b0b-62a7-4d0a-cc70-ce8d8feb2f4b"
      },
      "outputs": [
        {
          "output_type": "stream",
          "name": "stdout",
          "text": [
            "<|begin_of_text|><|start_header_id|>system<|end_header_id|>\n",
            "\n",
            "Cutting Knowledge Date: December 2023\n",
            "Today Date: 26 Jul 2024\n",
            "\n",
            "You are an annotator for sexism detection.<|eot_id|><|start_header_id|>user<|end_header_id|>\n",
            "\n",
            "Your task is to classify input text as containing sexism or not. Respond only YES or NO.\n",
            "\n",
            "        EXAMPLES:\n",
            "        TEXT: nothing irks a left wing feminist worse than seeing a beautiful virtuous woman who is conservative they HATE her H-A-T-E so they try to suppress her next it will be illegal to be born beautiful they'll call it \"Hate Birth\"\n",
            "\tANSWER: YES\n",
            "\tTEXT: Get #TRIGGERED, Hillaryfags, femme-fags, and feminazis: [URL] #MAGA #TRUMP #ELECTION2016 [URL]\n",
            "\tANSWER: YES\n",
            "\tTEXT: Can't see much of her but she's hotter than any vagina-hat wearer in the Women's March\n",
            "\tANSWER: NO\n",
            "\tTEXT: DOES BLACK HAMILTON STAR DRUNK-RAPE WHITE WOMEN? If you name-check the VP-Elect of the United States in a one-sided insulting harangue, it'd be wise to delete the tweets that suggest you rape drunk white girls: #BoycottHamilton [URL]\n",
            "\tANSWER: NO\n",
            "\n",
            "\n",
            "        TEXT:\n",
            "        The boys must be gaming because there goes the wifi.\n",
            "\n",
            "        ANSWER:<|eot_id|><|start_header_id|>assistant<|end_header_id|>\n",
            "\n",
            "\n"
          ]
        }
      ],
      "source": [
        "print(tokenizer.decode(prompts_few_shot[0].input_ids[0]))"
      ]
    },
    {
      "cell_type": "code",
      "execution_count": 82,
      "metadata": {
        "colab": {
          "base_uri": "https://localhost:8080/"
        },
        "id": "Ju_hng3_9BQJ",
        "outputId": "dd43030c-06dc-4e32-be16-08bd613ac089"
      },
      "outputs": [
        {
          "output_type": "stream",
          "name": "stderr",
          "text": [
            "100%|██████████| 300/300 [02:02<00:00,  2.45it/s]\n"
          ]
        }
      ],
      "source": [
        "answers = generate_responses(model_8bit, prompts_few_shot)"
      ]
    },
    {
      "cell_type": "code",
      "execution_count": 83,
      "metadata": {
        "id": "t1HKRXTO9N4W"
      },
      "outputs": [],
      "source": [
        "batch_predictions = [process_response(item) for item in answers]\n",
        "generated_answers = [get_generated_response(item) for item in answers]\n",
        "\n",
        "models_predictions['llama3_4_shot_labels'] = batch_predictions\n",
        "models_predictions['llama3_4_shot_answers'] = generated_answers"
      ]
    },
    {
      "cell_type": "code",
      "execution_count": 84,
      "metadata": {
        "colab": {
          "base_uri": "https://localhost:8080/"
        },
        "id": "wcBhjqEmAbyJ",
        "outputId": "049cc60c-21a3-477f-a389-46a7cf2fd8c6"
      },
      "outputs": [
        {
          "output_type": "stream",
          "name": "stdout",
          "text": [
            "accuracy: 0.69\n",
            "fail_ratio: 0.31\n"
          ]
        }
      ],
      "source": [
        "#compute metrics\n",
        "llama3_4_shot_metrics = compute_metrics(answers, original_labels)\n",
        "\n",
        "#add the metric to the dataset\n",
        "model_metrics.loc[len(model_metrics)] = {'model': 'llama3 4 shot', 'accuracy': llama3_4_shot_metrics['accuracy'], 'fail_ratio': llama3_4_shot_metrics['fail_ratio']}\n",
        "\n",
        "#print the metrics\n",
        "for key, value in llama3_4_shot_metrics.items():\n",
        "  print(f'{key}: {value:.2f}')"
      ]
    },
    {
      "cell_type": "markdown",
      "metadata": {
        "id": "7uaGQ3vL9UqQ"
      },
      "source": [
        "### 8-shot leaning"
      ]
    },
    {
      "cell_type": "code",
      "execution_count": 85,
      "metadata": {
        "id": "7zG6LSBm9UL3"
      },
      "outputs": [],
      "source": [
        "prompts_few_shot = prepare_prompts_few_shot(df['text'], build_few_shot_demonstrations(demonstrations, num_per_class=4), prompt, tokenizer, device=device)"
      ]
    },
    {
      "cell_type": "code",
      "execution_count": 86,
      "metadata": {
        "colab": {
          "base_uri": "https://localhost:8080/"
        },
        "id": "cHvF4EfyFO4M",
        "outputId": "472efbb1-ffe4-47a6-f275-fd41b04e1d99"
      },
      "outputs": [
        {
          "output_type": "stream",
          "name": "stdout",
          "text": [
            "<|begin_of_text|><|start_header_id|>system<|end_header_id|>\n",
            "\n",
            "Cutting Knowledge Date: December 2023\n",
            "Today Date: 26 Jul 2024\n",
            "\n",
            "You are an annotator for sexism detection.<|eot_id|><|start_header_id|>user<|end_header_id|>\n",
            "\n",
            "Your task is to classify input text as containing sexism or not. Respond only YES or NO.\n",
            "\n",
            "        TEXT:\n",
            "        The boys must be gaming because there goes the wifi.\n",
            "\n",
            "        ANSWER:<|eot_id|><|start_header_id|>assistant<|end_header_id|>\n",
            "\n",
            "\n"
          ]
        }
      ],
      "source": [
        "print(tokenizer.decode(prompts_few_shot[0].input_ids[0]))"
      ]
    },
    {
      "cell_type": "code",
      "execution_count": 87,
      "metadata": {
        "colab": {
          "base_uri": "https://localhost:8080/"
        },
        "id": "VR42AHOn9YGV",
        "outputId": "33bc9934-adcd-4892-f8f8-24818e337983"
      },
      "outputs": [
        {
          "output_type": "stream",
          "name": "stderr",
          "text": [
            "100%|██████████| 300/300 [01:34<00:00,  3.17it/s]\n"
          ]
        }
      ],
      "source": [
        "answers = generate_responses(model_8bit, prompts_few_shot)"
      ]
    },
    {
      "cell_type": "code",
      "execution_count": 88,
      "metadata": {
        "id": "Xco3lncXBgSb"
      },
      "outputs": [],
      "source": [
        "batch_predictions = [process_response(item) for item in answers]\n",
        "generated_answers = [get_generated_response(item) for item in answers]\n",
        "\n",
        "models_predictions['llama3_8_shot_labels'] = batch_predictions\n",
        "models_predictions['llama3_8_shot_answers'] = generated_answers"
      ]
    },
    {
      "cell_type": "code",
      "execution_count": 89,
      "metadata": {
        "colab": {
          "base_uri": "https://localhost:8080/"
        },
        "id": "tAlUXz2x9aPi",
        "outputId": "77ab9769-9867-44ee-f9f5-254def2357cb"
      },
      "outputs": [
        {
          "output_type": "stream",
          "name": "stdout",
          "text": [
            "accuracy: 0.62\n",
            "fail_ratio: 0.38\n"
          ]
        }
      ],
      "source": [
        "#compute metrics\n",
        "llama3_8_shot_metrics = compute_metrics(answers, original_labels)\n",
        "\n",
        "#add the metric to the dataset\n",
        "model_metrics.loc[len(model_metrics)] = {'model': 'Llama3 8 shot', 'accuracy': llama3_8_shot_metrics['accuracy'], 'fail_ratio': llama3_8_shot_metrics['fail_ratio']}\n",
        "\n",
        "for key, value in llama3_8_shot_metrics.items():\n",
        "  print(f'{key}: {value:.2f}')"
      ]
    },
    {
      "cell_type": "markdown",
      "source": [
        "## Cherry picked examples"
      ],
      "metadata": {
        "id": "ckkc8Dox9hiW"
      }
    },
    {
      "cell_type": "markdown",
      "source": [
        "### 2 shot manually annotated"
      ],
      "metadata": {
        "id": "5-bpIPdhU9Cu"
      }
    },
    {
      "cell_type": "code",
      "source": [
        "dem = build_few_shot_demonstrations_with_choosen_comments(manually_checked_examples, demonstrations, num_per_class=1)\n",
        "prompts_2_shot = prepare_prompts_few_shot(df['text'], dem, prompt_few_shot, tokenizer, device=device)\n",
        "\n",
        "print(tokenizer.decode(prompts_2_shot[0].input_ids[0]))"
      ],
      "metadata": {
        "colab": {
          "base_uri": "https://localhost:8080/"
        },
        "id": "aBd2Xetz9gTq",
        "outputId": "57711312-3928-42bf-963a-afff5cdfd658"
      },
      "execution_count": 90,
      "outputs": [
        {
          "output_type": "stream",
          "name": "stdout",
          "text": [
            "<|begin_of_text|><|start_header_id|>system<|end_header_id|>\n",
            "\n",
            "Cutting Knowledge Date: December 2023\n",
            "Today Date: 26 Jul 2024\n",
            "\n",
            "You are an annotator for sexism detection.<|eot_id|><|start_header_id|>user<|end_header_id|>\n",
            "\n",
            "Your task is to classify input text as containing sexism or not. Respond only YES or NO.\n",
            "\n",
            "        EXAMPLES:\n",
            "        TEXT: Don't bother arguing with women. They don't care about the truth, only feelings.\n",
            "\tANSWER: YES\n",
            "\tTEXT: Not all interactions with women have to result in dating, sex, or relationships. Just sharing a brief moment of subtle desire with a woman can be a sensual experience.\n",
            "\tANSWER: NO\n",
            "\n",
            "\n",
            "        TEXT:\n",
            "        The boys must be gaming because there goes the wifi.\n",
            "\n",
            "        ANSWER:<|eot_id|><|start_header_id|>assistant<|end_header_id|>\n",
            "\n",
            "\n"
          ]
        }
      ]
    },
    {
      "cell_type": "code",
      "source": [
        "answers = generate_responses(model_8bit, prompts_2_shot)"
      ],
      "metadata": {
        "colab": {
          "base_uri": "https://localhost:8080/"
        },
        "id": "wdroOt8Q95BS",
        "outputId": "acacaa63-adea-4d5e-a9be-71509b594d08"
      },
      "execution_count": 91,
      "outputs": [
        {
          "output_type": "stream",
          "name": "stderr",
          "text": [
            "100%|██████████| 300/300 [01:43<00:00,  2.91it/s]\n"
          ]
        }
      ]
    },
    {
      "cell_type": "code",
      "source": [
        "#compute the metrics\n",
        "llama3_2_shot_ma_metrics = compute_metrics(answers, original_labels)\n",
        "\n",
        "#print the metrics\n",
        "for key, value in llama3_2_shot_ma_metrics.items():\n",
        "  print(f'{key}: {value:.2f}')"
      ],
      "metadata": {
        "colab": {
          "base_uri": "https://localhost:8080/"
        },
        "id": "mXYlUsSq9_tc",
        "outputId": "33dfa288-0354-493a-edde-0e47567581bf"
      },
      "execution_count": 92,
      "outputs": [
        {
          "output_type": "stream",
          "name": "stdout",
          "text": [
            "accuracy: 0.66\n",
            "fail_ratio: 0.34\n"
          ]
        }
      ]
    },
    {
      "cell_type": "code",
      "source": [
        "batch_predictions = [process_response(item) for item in answers]\n",
        "generated_answers = [get_generated_response(item) for item in answers]\n",
        "\n",
        "models_predictions['llama3_2_shot_ma_labels'] = batch_predictions\n",
        "models_predictions['llama3_2_shot_ma_answers'] = generated_answers"
      ],
      "metadata": {
        "id": "ODKDBCzsVzBR"
      },
      "execution_count": 94,
      "outputs": []
    },
    {
      "cell_type": "code",
      "source": [
        "#compute the metrics\n",
        "llama3_2_shot_ma_metrics = compute_metrics(answers, original_labels)\n",
        "\n",
        "\n",
        "model_metrics.loc[len(model_metrics)] = {'model': 'Llama3 2 shot ma', 'accuracy': llama3_2_shot_ma_metrics['accuracy'], 'fail_ratio': llama3_2_shot_ma_metrics['fail_ratio']}\n",
        "\n",
        "#print the metrics\n",
        "for key, value in llama3_2_shot_ma_metrics.items():\n",
        "  print(f'{key}: {value:.2f}')"
      ],
      "metadata": {
        "colab": {
          "base_uri": "https://localhost:8080/"
        },
        "id": "iAnN5Ps8VbZ3",
        "outputId": "242b481a-1687-455a-9e2b-1ce2bde05ea5"
      },
      "execution_count": 93,
      "outputs": [
        {
          "output_type": "stream",
          "name": "stdout",
          "text": [
            "accuracy: 0.66\n",
            "fail_ratio: 0.34\n"
          ]
        }
      ]
    },
    {
      "cell_type": "markdown",
      "source": [
        "### 4 shot manually annotated"
      ],
      "metadata": {
        "id": "rMfyudXHVqNp"
      }
    },
    {
      "cell_type": "code",
      "source": [
        "dem = build_few_shot_demonstrations_with_choosen_comments(manually_checked_examples, demonstrations, num_per_class=2)\n",
        "prompts_4_shot = prepare_prompts_few_shot(df['text'], dem, prompt_few_shot, tokenizer, device=device)\n",
        "\n",
        "print(tokenizer.decode(prompts_4_shot[0].input_ids[0]))"
      ],
      "metadata": {
        "colab": {
          "base_uri": "https://localhost:8080/"
        },
        "id": "5dH3hmLR-Bw3",
        "outputId": "142f42f8-e1ef-43f6-d612-7491380033e6"
      },
      "execution_count": 95,
      "outputs": [
        {
          "output_type": "stream",
          "name": "stdout",
          "text": [
            "<|begin_of_text|><|start_header_id|>system<|end_header_id|>\n",
            "\n",
            "Cutting Knowledge Date: December 2023\n",
            "Today Date: 26 Jul 2024\n",
            "\n",
            "You are an annotator for sexism detection.<|eot_id|><|start_header_id|>user<|end_header_id|>\n",
            "\n",
            "Your task is to classify input text as containing sexism or not. Respond only YES or NO.\n",
            "\n",
            "        EXAMPLES:\n",
            "        TEXT: Don't bother arguing with women. They don't care about the truth, only feelings.\n",
            "\tANSWER: YES\n",
            "\tTEXT: the stupid bitch thinks she's edgy and a 'bad ass'. these hoes are so fucking lame. bet the dumb bitch got 20,000 likes and simps saying retarded shit in her comments.\n",
            "\tANSWER: YES\n",
            "\tTEXT: Not all interactions with women have to result in dating, sex, or relationships. Just sharing a brief moment of subtle desire with a woman can be a sensual experience.\n",
            "\tANSWER: NO\n",
            "\tTEXT: \"The stories of sexual harassment of women that Hollywood won't be telling.\" [URL]\n",
            "\tANSWER: NO\n",
            "\n",
            "\n",
            "        TEXT:\n",
            "        The boys must be gaming because there goes the wifi.\n",
            "\n",
            "        ANSWER:<|eot_id|><|start_header_id|>assistant<|end_header_id|>\n",
            "\n",
            "\n"
          ]
        }
      ]
    },
    {
      "cell_type": "code",
      "source": [
        "answers = generate_responses(model_8bit, prompts_4_shot)"
      ],
      "metadata": {
        "colab": {
          "base_uri": "https://localhost:8080/"
        },
        "id": "32fJp5dO-F3T",
        "outputId": "8848f68d-ad4f-4b0c-8f09-8f3b02cd6884"
      },
      "execution_count": 96,
      "outputs": [
        {
          "output_type": "stream",
          "name": "stderr",
          "text": [
            "100%|██████████| 300/300 [01:51<00:00,  2.69it/s]\n"
          ]
        }
      ]
    },
    {
      "cell_type": "code",
      "source": [
        "batch_predictions = [process_response(item) for item in answers]\n",
        "generated_answers = [get_generated_response(item) for item in answers]\n",
        "\n",
        "models_predictions['llama3_4_shot_ma_labels'] = batch_predictions\n",
        "models_predictions['llama3_4_shot_ma_answers'] = generated_answers"
      ],
      "metadata": {
        "id": "uQ2RJd8LWjt5"
      },
      "execution_count": 97,
      "outputs": []
    },
    {
      "cell_type": "code",
      "source": [
        "#compute the metrics\n",
        "llama3_4_shot_ma_metrics = compute_metrics(answers, original_labels)\n",
        "\n",
        "model_metrics.loc[len(model_metrics)] = {'model': 'Llama3 4 shot ma', 'accuracy': llama3_4_shot_ma_metrics['accuracy'], 'fail_ratio': llama3_4_shot_ma_metrics['fail_ratio']}\n",
        "\n",
        "#print the metrics\n",
        "for key, value in llama3_4_shot_ma_metrics.items():\n",
        "  print(f'{key}: {value:.2f}')"
      ],
      "metadata": {
        "colab": {
          "base_uri": "https://localhost:8080/"
        },
        "id": "TNsCWZov-JEO",
        "outputId": "b33a8372-0c97-4167-964a-b7546576f19b"
      },
      "execution_count": 98,
      "outputs": [
        {
          "output_type": "stream",
          "name": "stdout",
          "text": [
            "accuracy: 0.66\n",
            "fail_ratio: 0.34\n"
          ]
        }
      ]
    },
    {
      "cell_type": "markdown",
      "source": [
        "### 8 shot manually annotated"
      ],
      "metadata": {
        "id": "ebU-gjSDWo5I"
      }
    },
    {
      "cell_type": "code",
      "source": [
        "dem = build_few_shot_demonstrations_with_choosen_comments(manually_checked_examples, demonstrations, num_per_class=4)\n",
        "prompts_8_shot = prepare_prompts_few_shot(df['text'], dem, prompt_few_shot, tokenizer, device=device)\n",
        "\n",
        "print(tokenizer.decode(prompts_8_shot[0].input_ids[0]))"
      ],
      "metadata": {
        "colab": {
          "base_uri": "https://localhost:8080/"
        },
        "id": "QFL7Wh1t-Luj",
        "outputId": "0657af4d-695f-44f4-c4f1-8ba43f65c30b"
      },
      "execution_count": 99,
      "outputs": [
        {
          "output_type": "stream",
          "name": "stdout",
          "text": [
            "<|begin_of_text|><|start_header_id|>system<|end_header_id|>\n",
            "\n",
            "Cutting Knowledge Date: December 2023\n",
            "Today Date: 26 Jul 2024\n",
            "\n",
            "You are an annotator for sexism detection.<|eot_id|><|start_header_id|>user<|end_header_id|>\n",
            "\n",
            "Your task is to classify input text as containing sexism or not. Respond only YES or NO.\n",
            "\n",
            "        EXAMPLES:\n",
            "        TEXT: Don't bother arguing with women. They don't care about the truth, only feelings.\n",
            "\tANSWER: YES\n",
            "\tTEXT: the stupid bitch thinks she's edgy and a 'bad ass'. these hoes are so fucking lame. bet the dumb bitch got 20,000 likes and simps saying retarded shit in her comments.\n",
            "\tANSWER: YES\n",
            "\tTEXT: The worthless bitch May her time is almost over,there's a new man on the block motto Britain first British people first his name Jacob Rees Mogg now known as JRM to the people\n",
            "\tANSWER: YES\n",
            "\tTEXT: It’s different if you’re a woman. Spreading your legs just gives you sex\n",
            "\tANSWER: YES\n",
            "\tTEXT: Not all interactions with women have to result in dating, sex, or relationships. Just sharing a brief moment of subtle desire with a woman can be a sensual experience.\n",
            "\tANSWER: NO\n",
            "\tTEXT: \"The stories of sexual harassment of women that Hollywood won't be telling.\" [URL]\n",
            "\tANSWER: NO\n",
            "\tTEXT: That's the story, but I'm willing to bet that he just doesn't want to be part of all the mess that the royal family is involved with. I mean they did kill his mother after all.\n",
            "\tANSWER: NO\n",
            "\tTEXT: hahahahahahah sad!! and ya i just noticed i already was following her.\n",
            "\tANSWER: NO\n",
            "\n",
            "\n",
            "        TEXT:\n",
            "        The boys must be gaming because there goes the wifi.\n",
            "\n",
            "        ANSWER:<|eot_id|><|start_header_id|>assistant<|end_header_id|>\n",
            "\n",
            "\n"
          ]
        }
      ]
    },
    {
      "cell_type": "code",
      "source": [
        "answers = generate_responses(model_8bit, prompts_8_shot)"
      ],
      "metadata": {
        "colab": {
          "base_uri": "https://localhost:8080/"
        },
        "id": "owNwxGGt-Ooy",
        "outputId": "7ffc7354-e8a7-460e-9f13-1815de20487e"
      },
      "execution_count": 100,
      "outputs": [
        {
          "output_type": "stream",
          "name": "stderr",
          "text": [
            "100%|██████████| 300/300 [02:22<00:00,  2.11it/s]\n"
          ]
        }
      ]
    },
    {
      "cell_type": "code",
      "source": [
        "batch_predictions = [process_response(item) for item in answers]\n",
        "generated_answers = [get_generated_response(item) for item in answers]\n",
        "\n",
        "models_predictions['llama3_8_shot_ma_labels'] = batch_predictions\n",
        "models_predictions['llama3_8_shot_ma_answers'] = generated_answers"
      ],
      "metadata": {
        "id": "m0KZ7CJqXKVo"
      },
      "execution_count": 101,
      "outputs": []
    },
    {
      "cell_type": "code",
      "source": [
        "#compute the metrics\n",
        "llama3_8_shot_ma_metrics = compute_metrics(answers, original_labels)\n",
        "\n",
        "model_metrics.loc[len(model_metrics)] = {'model': 'Llama3 8 shot ma', 'accuracy': llama3_8_shot_ma_metrics['accuracy'], 'fail_ratio': llama3_8_shot_ma_metrics['fail_ratio']}\n",
        "\n",
        "#print the metrics\n",
        "for key, value in llama3_8_shot_ma_metrics.items():\n",
        "  print(f'{key}: {value:.2f}')"
      ],
      "metadata": {
        "colab": {
          "base_uri": "https://localhost:8080/"
        },
        "id": "mh8RAsk0-U7i",
        "outputId": "c03ec811-fea0-4843-b607-a145f4fe1d16"
      },
      "execution_count": 111,
      "outputs": [
        {
          "output_type": "stream",
          "name": "stdout",
          "text": [
            "accuracy: 0.66\n",
            "fail_ratio: 0.34\n"
          ]
        }
      ]
    },
    {
      "cell_type": "markdown",
      "source": [
        "Export of the dataset"
      ],
      "metadata": {
        "id": "drhB9mzLaG90"
      }
    },
    {
      "cell_type": "code",
      "source": [
        "models_predictions.to_csv('models_predictions.csv', index=False)"
      ],
      "metadata": {
        "id": "nAm3C6zfaJxI"
      },
      "execution_count": 103,
      "outputs": []
    },
    {
      "cell_type": "code",
      "source": [
        "model_metrics.to_csv('model_metrics.csv', index=False)"
      ],
      "metadata": {
        "id": "lgb1w1LDaPId"
      },
      "execution_count": 115,
      "outputs": []
    },
    {
      "cell_type": "code",
      "source": [
        "model_metrics"
      ],
      "metadata": {
        "colab": {
          "base_uri": "https://localhost:8080/",
          "height": 488
        },
        "id": "XADc4dcwajte",
        "outputId": "7a6a6d9a-f1ec-4220-ddf6-3e7006112e6d"
      },
      "execution_count": 114,
      "outputs": [
        {
          "output_type": "execute_result",
          "data": {
            "text/plain": [
              "                   model  accuracy  fail_ratio\n",
              "0   Mistral v3 zero shot  0.613333    0.386667\n",
              "1      Mistral v3 2 shot  0.693333    0.306667\n",
              "2      Mistral v3 4 shot  0.690000    0.310000\n",
              "3      Mistral v3 8 shot  0.613333    0.386667\n",
              "5   Mistral v3 2 shot ma  0.640000    0.360000\n",
              "6   Mistral v3 4 shot ma  0.670000    0.330000\n",
              "7   Mistral v3 8 shot ma  0.720000    0.280000\n",
              "8       Llama3 zero shot  0.653333    0.346667\n",
              "9          Llama3 2 shot  0.670000    0.330000\n",
              "10         llama3 4 shot  0.690000    0.310000\n",
              "11         Llama3 8 shot  0.623333    0.376667\n",
              "12      Llama3 2 shot ma  0.656667    0.343333\n",
              "13      Llama3 4 shot ma  0.663333    0.336667\n",
              "14      Llama3 8 shot ma  0.660000    0.340000"
            ],
            "text/html": [
              "\n",
              "  <div id=\"df-e8a1ba37-bcde-45f2-ad32-fe4aa06fabd2\" class=\"colab-df-container\">\n",
              "    <div>\n",
              "<style scoped>\n",
              "    .dataframe tbody tr th:only-of-type {\n",
              "        vertical-align: middle;\n",
              "    }\n",
              "\n",
              "    .dataframe tbody tr th {\n",
              "        vertical-align: top;\n",
              "    }\n",
              "\n",
              "    .dataframe thead th {\n",
              "        text-align: right;\n",
              "    }\n",
              "</style>\n",
              "<table border=\"1\" class=\"dataframe\">\n",
              "  <thead>\n",
              "    <tr style=\"text-align: right;\">\n",
              "      <th></th>\n",
              "      <th>model</th>\n",
              "      <th>accuracy</th>\n",
              "      <th>fail_ratio</th>\n",
              "    </tr>\n",
              "  </thead>\n",
              "  <tbody>\n",
              "    <tr>\n",
              "      <th>0</th>\n",
              "      <td>Mistral v3 zero shot</td>\n",
              "      <td>0.613333</td>\n",
              "      <td>0.386667</td>\n",
              "    </tr>\n",
              "    <tr>\n",
              "      <th>1</th>\n",
              "      <td>Mistral v3 2 shot</td>\n",
              "      <td>0.693333</td>\n",
              "      <td>0.306667</td>\n",
              "    </tr>\n",
              "    <tr>\n",
              "      <th>2</th>\n",
              "      <td>Mistral v3 4 shot</td>\n",
              "      <td>0.690000</td>\n",
              "      <td>0.310000</td>\n",
              "    </tr>\n",
              "    <tr>\n",
              "      <th>3</th>\n",
              "      <td>Mistral v3 8 shot</td>\n",
              "      <td>0.613333</td>\n",
              "      <td>0.386667</td>\n",
              "    </tr>\n",
              "    <tr>\n",
              "      <th>5</th>\n",
              "      <td>Mistral v3 2 shot ma</td>\n",
              "      <td>0.640000</td>\n",
              "      <td>0.360000</td>\n",
              "    </tr>\n",
              "    <tr>\n",
              "      <th>6</th>\n",
              "      <td>Mistral v3 4 shot ma</td>\n",
              "      <td>0.670000</td>\n",
              "      <td>0.330000</td>\n",
              "    </tr>\n",
              "    <tr>\n",
              "      <th>7</th>\n",
              "      <td>Mistral v3 8 shot ma</td>\n",
              "      <td>0.720000</td>\n",
              "      <td>0.280000</td>\n",
              "    </tr>\n",
              "    <tr>\n",
              "      <th>8</th>\n",
              "      <td>Llama3 zero shot</td>\n",
              "      <td>0.653333</td>\n",
              "      <td>0.346667</td>\n",
              "    </tr>\n",
              "    <tr>\n",
              "      <th>9</th>\n",
              "      <td>Llama3 2 shot</td>\n",
              "      <td>0.670000</td>\n",
              "      <td>0.330000</td>\n",
              "    </tr>\n",
              "    <tr>\n",
              "      <th>10</th>\n",
              "      <td>llama3 4 shot</td>\n",
              "      <td>0.690000</td>\n",
              "      <td>0.310000</td>\n",
              "    </tr>\n",
              "    <tr>\n",
              "      <th>11</th>\n",
              "      <td>Llama3 8 shot</td>\n",
              "      <td>0.623333</td>\n",
              "      <td>0.376667</td>\n",
              "    </tr>\n",
              "    <tr>\n",
              "      <th>12</th>\n",
              "      <td>Llama3 2 shot ma</td>\n",
              "      <td>0.656667</td>\n",
              "      <td>0.343333</td>\n",
              "    </tr>\n",
              "    <tr>\n",
              "      <th>13</th>\n",
              "      <td>Llama3 4 shot ma</td>\n",
              "      <td>0.663333</td>\n",
              "      <td>0.336667</td>\n",
              "    </tr>\n",
              "    <tr>\n",
              "      <th>14</th>\n",
              "      <td>Llama3 8 shot ma</td>\n",
              "      <td>0.660000</td>\n",
              "      <td>0.340000</td>\n",
              "    </tr>\n",
              "  </tbody>\n",
              "</table>\n",
              "</div>\n",
              "    <div class=\"colab-df-buttons\">\n",
              "\n",
              "  <div class=\"colab-df-container\">\n",
              "    <button class=\"colab-df-convert\" onclick=\"convertToInteractive('df-e8a1ba37-bcde-45f2-ad32-fe4aa06fabd2')\"\n",
              "            title=\"Convert this dataframe to an interactive table.\"\n",
              "            style=\"display:none;\">\n",
              "\n",
              "  <svg xmlns=\"http://www.w3.org/2000/svg\" height=\"24px\" viewBox=\"0 -960 960 960\">\n",
              "    <path d=\"M120-120v-720h720v720H120Zm60-500h600v-160H180v160Zm220 220h160v-160H400v160Zm0 220h160v-160H400v160ZM180-400h160v-160H180v160Zm440 0h160v-160H620v160ZM180-180h160v-160H180v160Zm440 0h160v-160H620v160Z\"/>\n",
              "  </svg>\n",
              "    </button>\n",
              "\n",
              "  <style>\n",
              "    .colab-df-container {\n",
              "      display:flex;\n",
              "      gap: 12px;\n",
              "    }\n",
              "\n",
              "    .colab-df-convert {\n",
              "      background-color: #E8F0FE;\n",
              "      border: none;\n",
              "      border-radius: 50%;\n",
              "      cursor: pointer;\n",
              "      display: none;\n",
              "      fill: #1967D2;\n",
              "      height: 32px;\n",
              "      padding: 0 0 0 0;\n",
              "      width: 32px;\n",
              "    }\n",
              "\n",
              "    .colab-df-convert:hover {\n",
              "      background-color: #E2EBFA;\n",
              "      box-shadow: 0px 1px 2px rgba(60, 64, 67, 0.3), 0px 1px 3px 1px rgba(60, 64, 67, 0.15);\n",
              "      fill: #174EA6;\n",
              "    }\n",
              "\n",
              "    .colab-df-buttons div {\n",
              "      margin-bottom: 4px;\n",
              "    }\n",
              "\n",
              "    [theme=dark] .colab-df-convert {\n",
              "      background-color: #3B4455;\n",
              "      fill: #D2E3FC;\n",
              "    }\n",
              "\n",
              "    [theme=dark] .colab-df-convert:hover {\n",
              "      background-color: #434B5C;\n",
              "      box-shadow: 0px 1px 3px 1px rgba(0, 0, 0, 0.15);\n",
              "      filter: drop-shadow(0px 1px 2px rgba(0, 0, 0, 0.3));\n",
              "      fill: #FFFFFF;\n",
              "    }\n",
              "  </style>\n",
              "\n",
              "    <script>\n",
              "      const buttonEl =\n",
              "        document.querySelector('#df-e8a1ba37-bcde-45f2-ad32-fe4aa06fabd2 button.colab-df-convert');\n",
              "      buttonEl.style.display =\n",
              "        google.colab.kernel.accessAllowed ? 'block' : 'none';\n",
              "\n",
              "      async function convertToInteractive(key) {\n",
              "        const element = document.querySelector('#df-e8a1ba37-bcde-45f2-ad32-fe4aa06fabd2');\n",
              "        const dataTable =\n",
              "          await google.colab.kernel.invokeFunction('convertToInteractive',\n",
              "                                                    [key], {});\n",
              "        if (!dataTable) return;\n",
              "\n",
              "        const docLinkHtml = 'Like what you see? Visit the ' +\n",
              "          '<a target=\"_blank\" href=https://colab.research.google.com/notebooks/data_table.ipynb>data table notebook</a>'\n",
              "          + ' to learn more about interactive tables.';\n",
              "        element.innerHTML = '';\n",
              "        dataTable['output_type'] = 'display_data';\n",
              "        await google.colab.output.renderOutput(dataTable, element);\n",
              "        const docLink = document.createElement('div');\n",
              "        docLink.innerHTML = docLinkHtml;\n",
              "        element.appendChild(docLink);\n",
              "      }\n",
              "    </script>\n",
              "  </div>\n",
              "\n",
              "\n",
              "<div id=\"df-16b21d42-e532-4bf8-9fbb-032913284376\">\n",
              "  <button class=\"colab-df-quickchart\" onclick=\"quickchart('df-16b21d42-e532-4bf8-9fbb-032913284376')\"\n",
              "            title=\"Suggest charts\"\n",
              "            style=\"display:none;\">\n",
              "\n",
              "<svg xmlns=\"http://www.w3.org/2000/svg\" height=\"24px\"viewBox=\"0 0 24 24\"\n",
              "     width=\"24px\">\n",
              "    <g>\n",
              "        <path d=\"M19 3H5c-1.1 0-2 .9-2 2v14c0 1.1.9 2 2 2h14c1.1 0 2-.9 2-2V5c0-1.1-.9-2-2-2zM9 17H7v-7h2v7zm4 0h-2V7h2v10zm4 0h-2v-4h2v4z\"/>\n",
              "    </g>\n",
              "</svg>\n",
              "  </button>\n",
              "\n",
              "<style>\n",
              "  .colab-df-quickchart {\n",
              "      --bg-color: #E8F0FE;\n",
              "      --fill-color: #1967D2;\n",
              "      --hover-bg-color: #E2EBFA;\n",
              "      --hover-fill-color: #174EA6;\n",
              "      --disabled-fill-color: #AAA;\n",
              "      --disabled-bg-color: #DDD;\n",
              "  }\n",
              "\n",
              "  [theme=dark] .colab-df-quickchart {\n",
              "      --bg-color: #3B4455;\n",
              "      --fill-color: #D2E3FC;\n",
              "      --hover-bg-color: #434B5C;\n",
              "      --hover-fill-color: #FFFFFF;\n",
              "      --disabled-bg-color: #3B4455;\n",
              "      --disabled-fill-color: #666;\n",
              "  }\n",
              "\n",
              "  .colab-df-quickchart {\n",
              "    background-color: var(--bg-color);\n",
              "    border: none;\n",
              "    border-radius: 50%;\n",
              "    cursor: pointer;\n",
              "    display: none;\n",
              "    fill: var(--fill-color);\n",
              "    height: 32px;\n",
              "    padding: 0;\n",
              "    width: 32px;\n",
              "  }\n",
              "\n",
              "  .colab-df-quickchart:hover {\n",
              "    background-color: var(--hover-bg-color);\n",
              "    box-shadow: 0 1px 2px rgba(60, 64, 67, 0.3), 0 1px 3px 1px rgba(60, 64, 67, 0.15);\n",
              "    fill: var(--button-hover-fill-color);\n",
              "  }\n",
              "\n",
              "  .colab-df-quickchart-complete:disabled,\n",
              "  .colab-df-quickchart-complete:disabled:hover {\n",
              "    background-color: var(--disabled-bg-color);\n",
              "    fill: var(--disabled-fill-color);\n",
              "    box-shadow: none;\n",
              "  }\n",
              "\n",
              "  .colab-df-spinner {\n",
              "    border: 2px solid var(--fill-color);\n",
              "    border-color: transparent;\n",
              "    border-bottom-color: var(--fill-color);\n",
              "    animation:\n",
              "      spin 1s steps(1) infinite;\n",
              "  }\n",
              "\n",
              "  @keyframes spin {\n",
              "    0% {\n",
              "      border-color: transparent;\n",
              "      border-bottom-color: var(--fill-color);\n",
              "      border-left-color: var(--fill-color);\n",
              "    }\n",
              "    20% {\n",
              "      border-color: transparent;\n",
              "      border-left-color: var(--fill-color);\n",
              "      border-top-color: var(--fill-color);\n",
              "    }\n",
              "    30% {\n",
              "      border-color: transparent;\n",
              "      border-left-color: var(--fill-color);\n",
              "      border-top-color: var(--fill-color);\n",
              "      border-right-color: var(--fill-color);\n",
              "    }\n",
              "    40% {\n",
              "      border-color: transparent;\n",
              "      border-right-color: var(--fill-color);\n",
              "      border-top-color: var(--fill-color);\n",
              "    }\n",
              "    60% {\n",
              "      border-color: transparent;\n",
              "      border-right-color: var(--fill-color);\n",
              "    }\n",
              "    80% {\n",
              "      border-color: transparent;\n",
              "      border-right-color: var(--fill-color);\n",
              "      border-bottom-color: var(--fill-color);\n",
              "    }\n",
              "    90% {\n",
              "      border-color: transparent;\n",
              "      border-bottom-color: var(--fill-color);\n",
              "    }\n",
              "  }\n",
              "</style>\n",
              "\n",
              "  <script>\n",
              "    async function quickchart(key) {\n",
              "      const quickchartButtonEl =\n",
              "        document.querySelector('#' + key + ' button');\n",
              "      quickchartButtonEl.disabled = true;  // To prevent multiple clicks.\n",
              "      quickchartButtonEl.classList.add('colab-df-spinner');\n",
              "      try {\n",
              "        const charts = await google.colab.kernel.invokeFunction(\n",
              "            'suggestCharts', [key], {});\n",
              "      } catch (error) {\n",
              "        console.error('Error during call to suggestCharts:', error);\n",
              "      }\n",
              "      quickchartButtonEl.classList.remove('colab-df-spinner');\n",
              "      quickchartButtonEl.classList.add('colab-df-quickchart-complete');\n",
              "    }\n",
              "    (() => {\n",
              "      let quickchartButtonEl =\n",
              "        document.querySelector('#df-16b21d42-e532-4bf8-9fbb-032913284376 button');\n",
              "      quickchartButtonEl.style.display =\n",
              "        google.colab.kernel.accessAllowed ? 'block' : 'none';\n",
              "    })();\n",
              "  </script>\n",
              "</div>\n",
              "\n",
              "  <div id=\"id_53e9d83b-89fa-43c6-872c-10e34fce2aaf\">\n",
              "    <style>\n",
              "      .colab-df-generate {\n",
              "        background-color: #E8F0FE;\n",
              "        border: none;\n",
              "        border-radius: 50%;\n",
              "        cursor: pointer;\n",
              "        display: none;\n",
              "        fill: #1967D2;\n",
              "        height: 32px;\n",
              "        padding: 0 0 0 0;\n",
              "        width: 32px;\n",
              "      }\n",
              "\n",
              "      .colab-df-generate:hover {\n",
              "        background-color: #E2EBFA;\n",
              "        box-shadow: 0px 1px 2px rgba(60, 64, 67, 0.3), 0px 1px 3px 1px rgba(60, 64, 67, 0.15);\n",
              "        fill: #174EA6;\n",
              "      }\n",
              "\n",
              "      [theme=dark] .colab-df-generate {\n",
              "        background-color: #3B4455;\n",
              "        fill: #D2E3FC;\n",
              "      }\n",
              "\n",
              "      [theme=dark] .colab-df-generate:hover {\n",
              "        background-color: #434B5C;\n",
              "        box-shadow: 0px 1px 3px 1px rgba(0, 0, 0, 0.15);\n",
              "        filter: drop-shadow(0px 1px 2px rgba(0, 0, 0, 0.3));\n",
              "        fill: #FFFFFF;\n",
              "      }\n",
              "    </style>\n",
              "    <button class=\"colab-df-generate\" onclick=\"generateWithVariable('model_metrics')\"\n",
              "            title=\"Generate code using this dataframe.\"\n",
              "            style=\"display:none;\">\n",
              "\n",
              "  <svg xmlns=\"http://www.w3.org/2000/svg\" height=\"24px\"viewBox=\"0 0 24 24\"\n",
              "       width=\"24px\">\n",
              "    <path d=\"M7,19H8.4L18.45,9,17,7.55,7,17.6ZM5,21V16.75L18.45,3.32a2,2,0,0,1,2.83,0l1.4,1.43a1.91,1.91,0,0,1,.58,1.4,1.91,1.91,0,0,1-.58,1.4L9.25,21ZM18.45,9,17,7.55Zm-12,3A5.31,5.31,0,0,0,4.9,8.1,5.31,5.31,0,0,0,1,6.5,5.31,5.31,0,0,0,4.9,4.9,5.31,5.31,0,0,0,6.5,1,5.31,5.31,0,0,0,8.1,4.9,5.31,5.31,0,0,0,12,6.5,5.46,5.46,0,0,0,6.5,12Z\"/>\n",
              "  </svg>\n",
              "    </button>\n",
              "    <script>\n",
              "      (() => {\n",
              "      const buttonEl =\n",
              "        document.querySelector('#id_53e9d83b-89fa-43c6-872c-10e34fce2aaf button.colab-df-generate');\n",
              "      buttonEl.style.display =\n",
              "        google.colab.kernel.accessAllowed ? 'block' : 'none';\n",
              "\n",
              "      buttonEl.onclick = () => {\n",
              "        google.colab.notebook.generateWithVariable('model_metrics');\n",
              "      }\n",
              "      })();\n",
              "    </script>\n",
              "  </div>\n",
              "\n",
              "    </div>\n",
              "  </div>\n"
            ],
            "application/vnd.google.colaboratory.intrinsic+json": {
              "type": "dataframe",
              "variable_name": "model_metrics",
              "summary": "{\n  \"name\": \"model_metrics\",\n  \"rows\": 14,\n  \"fields\": [\n    {\n      \"column\": \"model\",\n      \"properties\": {\n        \"dtype\": \"string\",\n        \"num_unique_values\": 14,\n        \"samples\": [\n          \"llama3 4 shot\",\n          \"Llama3 2 shot ma\",\n          \"Mistral v3 zero shot\"\n        ],\n        \"semantic_type\": \"\",\n        \"description\": \"\"\n      }\n    },\n    {\n      \"column\": \"accuracy\",\n      \"properties\": {\n        \"dtype\": \"number\",\n        \"std\": 0.03144951572078717,\n        \"min\": 0.6133333333333333,\n        \"max\": 0.72,\n        \"num_unique_values\": 11,\n        \"samples\": [\n          0.72,\n          0.6133333333333333,\n          0.6633333333333333\n        ],\n        \"semantic_type\": \"\",\n        \"description\": \"\"\n      }\n    },\n    {\n      \"column\": \"fail_ratio\",\n      \"properties\": {\n        \"dtype\": \"number\",\n        \"std\": 0.031449515720787156,\n        \"min\": 0.28,\n        \"max\": 0.38666666666666666,\n        \"num_unique_values\": 11,\n        \"samples\": [\n          0.28,\n          0.38666666666666666,\n          0.33666666666666667\n        ],\n        \"semantic_type\": \"\",\n        \"description\": \"\"\n      }\n    }\n  ]\n}"
            }
          },
          "metadata": {},
          "execution_count": 114
        }
      ]
    },
    {
      "cell_type": "code",
      "source": [
        "models_predictions.columns"
      ],
      "metadata": {
        "colab": {
          "base_uri": "https://localhost:8080/"
        },
        "id": "YWVn7HGUbI_A",
        "outputId": "0d1c10a9-4b7b-4879-efd2-1417918bab4f"
      },
      "execution_count": 116,
      "outputs": [
        {
          "output_type": "execute_result",
          "data": {
            "text/plain": [
              "Index(['text', 'original_labels', 'mistralv3_zero_shot_labels',\n",
              "       'mistralv3_zero_shot_answers', 'mistralv3_2_shot_labels',\n",
              "       'mistralv3_2_shot_answers', 'mistralv3_4_shot_labels',\n",
              "       'mistralv3_4_shot_answers', 'mistralv3_8_shot_labels',\n",
              "       'mistralv3_8_shot_answers', 'mistralv3_2_shot_ma_labels',\n",
              "       'mistralv3_2_shot_ma_answers', 'mistralv3_4_shot_ma_labels',\n",
              "       'mistralv3_4_shot_ma_answers', 'mistralv3_8_shot_ma_labels',\n",
              "       'mistralv3_8_shot_ma_answers', 'llama3_zero_shot_labels',\n",
              "       'llama3_zero_shot_answers', 'llama3_2_shot_labels',\n",
              "       'llama3_2_shot_answers', 'llama3_4_shot_labels',\n",
              "       'llama3_4_shot_answers', 'llama3_8_shot_labels',\n",
              "       'llama3_8_shot_answers', 'llama3_2_shot_ma_labels',\n",
              "       'llama3_2_shot_ma_answers', 'llama3_4_shot_ma_labels',\n",
              "       'llama3_4_shot_ma_answers', 'llama3_8_shot_ma_labels',\n",
              "       'llama3_8_shot_ma_answers'],\n",
              "      dtype='object')"
            ]
          },
          "metadata": {},
          "execution_count": 116
        }
      ]
    },
    {
      "cell_type": "markdown",
      "metadata": {
        "id": "XHuT1a1GLJnd"
      },
      "source": [
        "# [Task 6 - 1.0 points] Error Analysis\n",
        "\n",
        "We are now interested in evaluating model responses and comparing their performance.\n",
        "\n",
        "This analysis helps us in understanding\n",
        "\n",
        "- Classification task performance gap: are the models good at this task?\n",
        "- Generation quality: which kind of responses do models generate?\n",
        "- Errors: which kind of mistakes do models do?"
      ]
    },
    {
      "cell_type": "markdown",
      "metadata": {
        "id": "7kjEAHD4LJne"
      },
      "source": [
        "### Instructions\n",
        "\n",
        "In order to get Task 6 points, we require you to:\n",
        "\n",
        "* Compare classification performance of selected LLMs in a Table.\n",
        "* Compute confusion matrices for selected LLMs.\n",
        "* Briefly summarize your observations on generated responses."
      ]
    },
    {
      "cell_type": "markdown",
      "metadata": {
        "id": "nq55NqJGkZA2"
      },
      "source": [
        "### Performance evaluation"
      ]
    },
    {
      "cell_type": "markdown",
      "metadata": {
        "id": "RX4l16sPldpk"
      },
      "source": [
        "In order to being able to analyze all the answer given by the LLMs without re running all the answer evaluation we saved all the data inside the `models_predictions.csv` dataset, that can be easily imported using pandas.\n",
        "\n",
        "\n",
        "We are gonna then proceed doing some evaluation of the model, and show what are the most common error and which model is the best performing one  "
      ]
    },
    {
      "cell_type": "code",
      "execution_count": null,
      "metadata": {
        "id": "JymTOYpTkiwE"
      },
      "outputs": [],
      "source": [
        "import pandas as pd\n",
        "import matplotlib.pyplot as plt\n",
        "import numpy\n",
        "from sklearn import metrics"
      ]
    },
    {
      "cell_type": "code",
      "execution_count": null,
      "metadata": {
        "id": "wCs-nUEkkc3w"
      },
      "outputs": [],
      "source": [
        "model_metrics = pd.read_csv('model_metrics.csv', index_col='model')"
      ]
    },
    {
      "cell_type": "code",
      "execution_count": null,
      "metadata": {
        "colab": {
          "base_uri": "https://localhost:8080/",
          "height": 363
        },
        "id": "JR-i3l97qJbw",
        "outputId": "37ce3c6f-a182-462c-b610-c01c89adeaa7"
      },
      "outputs": [
        {
          "data": {
            "application/vnd.google.colaboratory.intrinsic+json": {
              "summary": "{\n  \"name\": \"model_metrics_sorted\",\n  \"rows\": 9,\n  \"fields\": [\n    {\n      \"column\": \"model\",\n      \"properties\": {\n        \"dtype\": \"string\",\n        \"num_unique_values\": 8,\n        \"samples\": [\n          \"Mistral v3 4 shot\",\n          \"Mistral v3 zero shot\",\n          \"llama3 4 shot\"\n        ],\n        \"semantic_type\": \"\",\n        \"description\": \"\"\n      }\n    },\n    {\n      \"column\": \"accuracy\",\n      \"properties\": {\n        \"dtype\": \"number\",\n        \"std\": 0.026620330112690986,\n        \"min\": 0.6066666666666667,\n        \"max\": 0.6933333333333334,\n        \"num_unique_values\": 7,\n        \"samples\": [\n          0.6933333333333334,\n          0.6566666666666666,\n          0.6133333333333333\n        ],\n        \"semantic_type\": \"\",\n        \"description\": \"\"\n      }\n    },\n    {\n      \"column\": \"fail_ratio\",\n      \"properties\": {\n        \"dtype\": \"number\",\n        \"std\": 0.026620330112690976,\n        \"min\": 0.3066666666666666,\n        \"max\": 0.3933333333333333,\n        \"num_unique_values\": 7,\n        \"samples\": [\n          0.3066666666666666,\n          0.3433333333333333,\n          0.3866666666666666\n        ],\n        \"semantic_type\": \"\",\n        \"description\": \"\"\n      }\n    }\n  ]\n}",
              "type": "dataframe",
              "variable_name": "model_metrics_sorted"
            },
            "text/html": [
              "\n",
              "  <div id=\"df-100a4df6-ca12-47d9-9a1f-057f3a274d82\" class=\"colab-df-container\">\n",
              "    <div>\n",
              "<style scoped>\n",
              "    .dataframe tbody tr th:only-of-type {\n",
              "        vertical-align: middle;\n",
              "    }\n",
              "\n",
              "    .dataframe tbody tr th {\n",
              "        vertical-align: top;\n",
              "    }\n",
              "\n",
              "    .dataframe thead th {\n",
              "        text-align: right;\n",
              "    }\n",
              "</style>\n",
              "<table border=\"1\" class=\"dataframe\">\n",
              "  <thead>\n",
              "    <tr style=\"text-align: right;\">\n",
              "      <th></th>\n",
              "      <th>accuracy</th>\n",
              "      <th>fail_ratio</th>\n",
              "    </tr>\n",
              "    <tr>\n",
              "      <th>model</th>\n",
              "      <th></th>\n",
              "      <th></th>\n",
              "    </tr>\n",
              "  </thead>\n",
              "  <tbody>\n",
              "    <tr>\n",
              "      <th>llama3 4 shot</th>\n",
              "      <td>0.693333</td>\n",
              "      <td>0.306667</td>\n",
              "    </tr>\n",
              "    <tr>\n",
              "      <th>Mistral v3 4 shot</th>\n",
              "      <td>0.656667</td>\n",
              "      <td>0.343333</td>\n",
              "    </tr>\n",
              "    <tr>\n",
              "      <th>Llama3 zero shot</th>\n",
              "      <td>0.643333</td>\n",
              "      <td>0.356667</td>\n",
              "    </tr>\n",
              "    <tr>\n",
              "      <th>Llama3 zero shot</th>\n",
              "      <td>0.643333</td>\n",
              "      <td>0.356667</td>\n",
              "    </tr>\n",
              "    <tr>\n",
              "      <th>Llama3 8 shot</th>\n",
              "      <td>0.640000</td>\n",
              "      <td>0.360000</td>\n",
              "    </tr>\n",
              "    <tr>\n",
              "      <th>Llama3 2 shot</th>\n",
              "      <td>0.636667</td>\n",
              "      <td>0.363333</td>\n",
              "    </tr>\n",
              "    <tr>\n",
              "      <th>Mistral v3 zero shot</th>\n",
              "      <td>0.613333</td>\n",
              "      <td>0.386667</td>\n",
              "    </tr>\n",
              "    <tr>\n",
              "      <th>Mistral v3 8 shot</th>\n",
              "      <td>0.613333</td>\n",
              "      <td>0.386667</td>\n",
              "    </tr>\n",
              "    <tr>\n",
              "      <th>Mistral v3 2 shot</th>\n",
              "      <td>0.606667</td>\n",
              "      <td>0.393333</td>\n",
              "    </tr>\n",
              "  </tbody>\n",
              "</table>\n",
              "</div>\n",
              "    <div class=\"colab-df-buttons\">\n",
              "\n",
              "  <div class=\"colab-df-container\">\n",
              "    <button class=\"colab-df-convert\" onclick=\"convertToInteractive('df-100a4df6-ca12-47d9-9a1f-057f3a274d82')\"\n",
              "            title=\"Convert this dataframe to an interactive table.\"\n",
              "            style=\"display:none;\">\n",
              "\n",
              "  <svg xmlns=\"http://www.w3.org/2000/svg\" height=\"24px\" viewBox=\"0 -960 960 960\">\n",
              "    <path d=\"M120-120v-720h720v720H120Zm60-500h600v-160H180v160Zm220 220h160v-160H400v160Zm0 220h160v-160H400v160ZM180-400h160v-160H180v160Zm440 0h160v-160H620v160ZM180-180h160v-160H180v160Zm440 0h160v-160H620v160Z\"/>\n",
              "  </svg>\n",
              "    </button>\n",
              "\n",
              "  <style>\n",
              "    .colab-df-container {\n",
              "      display:flex;\n",
              "      gap: 12px;\n",
              "    }\n",
              "\n",
              "    .colab-df-convert {\n",
              "      background-color: #E8F0FE;\n",
              "      border: none;\n",
              "      border-radius: 50%;\n",
              "      cursor: pointer;\n",
              "      display: none;\n",
              "      fill: #1967D2;\n",
              "      height: 32px;\n",
              "      padding: 0 0 0 0;\n",
              "      width: 32px;\n",
              "    }\n",
              "\n",
              "    .colab-df-convert:hover {\n",
              "      background-color: #E2EBFA;\n",
              "      box-shadow: 0px 1px 2px rgba(60, 64, 67, 0.3), 0px 1px 3px 1px rgba(60, 64, 67, 0.15);\n",
              "      fill: #174EA6;\n",
              "    }\n",
              "\n",
              "    .colab-df-buttons div {\n",
              "      margin-bottom: 4px;\n",
              "    }\n",
              "\n",
              "    [theme=dark] .colab-df-convert {\n",
              "      background-color: #3B4455;\n",
              "      fill: #D2E3FC;\n",
              "    }\n",
              "\n",
              "    [theme=dark] .colab-df-convert:hover {\n",
              "      background-color: #434B5C;\n",
              "      box-shadow: 0px 1px 3px 1px rgba(0, 0, 0, 0.15);\n",
              "      filter: drop-shadow(0px 1px 2px rgba(0, 0, 0, 0.3));\n",
              "      fill: #FFFFFF;\n",
              "    }\n",
              "  </style>\n",
              "\n",
              "    <script>\n",
              "      const buttonEl =\n",
              "        document.querySelector('#df-100a4df6-ca12-47d9-9a1f-057f3a274d82 button.colab-df-convert');\n",
              "      buttonEl.style.display =\n",
              "        google.colab.kernel.accessAllowed ? 'block' : 'none';\n",
              "\n",
              "      async function convertToInteractive(key) {\n",
              "        const element = document.querySelector('#df-100a4df6-ca12-47d9-9a1f-057f3a274d82');\n",
              "        const dataTable =\n",
              "          await google.colab.kernel.invokeFunction('convertToInteractive',\n",
              "                                                    [key], {});\n",
              "        if (!dataTable) return;\n",
              "\n",
              "        const docLinkHtml = 'Like what you see? Visit the ' +\n",
              "          '<a target=\"_blank\" href=https://colab.research.google.com/notebooks/data_table.ipynb>data table notebook</a>'\n",
              "          + ' to learn more about interactive tables.';\n",
              "        element.innerHTML = '';\n",
              "        dataTable['output_type'] = 'display_data';\n",
              "        await google.colab.output.renderOutput(dataTable, element);\n",
              "        const docLink = document.createElement('div');\n",
              "        docLink.innerHTML = docLinkHtml;\n",
              "        element.appendChild(docLink);\n",
              "      }\n",
              "    </script>\n",
              "  </div>\n",
              "\n",
              "\n",
              "<div id=\"df-c3d1e47d-e771-44c6-958d-84205ca14606\">\n",
              "  <button class=\"colab-df-quickchart\" onclick=\"quickchart('df-c3d1e47d-e771-44c6-958d-84205ca14606')\"\n",
              "            title=\"Suggest charts\"\n",
              "            style=\"display:none;\">\n",
              "\n",
              "<svg xmlns=\"http://www.w3.org/2000/svg\" height=\"24px\"viewBox=\"0 0 24 24\"\n",
              "     width=\"24px\">\n",
              "    <g>\n",
              "        <path d=\"M19 3H5c-1.1 0-2 .9-2 2v14c0 1.1.9 2 2 2h14c1.1 0 2-.9 2-2V5c0-1.1-.9-2-2-2zM9 17H7v-7h2v7zm4 0h-2V7h2v10zm4 0h-2v-4h2v4z\"/>\n",
              "    </g>\n",
              "</svg>\n",
              "  </button>\n",
              "\n",
              "<style>\n",
              "  .colab-df-quickchart {\n",
              "      --bg-color: #E8F0FE;\n",
              "      --fill-color: #1967D2;\n",
              "      --hover-bg-color: #E2EBFA;\n",
              "      --hover-fill-color: #174EA6;\n",
              "      --disabled-fill-color: #AAA;\n",
              "      --disabled-bg-color: #DDD;\n",
              "  }\n",
              "\n",
              "  [theme=dark] .colab-df-quickchart {\n",
              "      --bg-color: #3B4455;\n",
              "      --fill-color: #D2E3FC;\n",
              "      --hover-bg-color: #434B5C;\n",
              "      --hover-fill-color: #FFFFFF;\n",
              "      --disabled-bg-color: #3B4455;\n",
              "      --disabled-fill-color: #666;\n",
              "  }\n",
              "\n",
              "  .colab-df-quickchart {\n",
              "    background-color: var(--bg-color);\n",
              "    border: none;\n",
              "    border-radius: 50%;\n",
              "    cursor: pointer;\n",
              "    display: none;\n",
              "    fill: var(--fill-color);\n",
              "    height: 32px;\n",
              "    padding: 0;\n",
              "    width: 32px;\n",
              "  }\n",
              "\n",
              "  .colab-df-quickchart:hover {\n",
              "    background-color: var(--hover-bg-color);\n",
              "    box-shadow: 0 1px 2px rgba(60, 64, 67, 0.3), 0 1px 3px 1px rgba(60, 64, 67, 0.15);\n",
              "    fill: var(--button-hover-fill-color);\n",
              "  }\n",
              "\n",
              "  .colab-df-quickchart-complete:disabled,\n",
              "  .colab-df-quickchart-complete:disabled:hover {\n",
              "    background-color: var(--disabled-bg-color);\n",
              "    fill: var(--disabled-fill-color);\n",
              "    box-shadow: none;\n",
              "  }\n",
              "\n",
              "  .colab-df-spinner {\n",
              "    border: 2px solid var(--fill-color);\n",
              "    border-color: transparent;\n",
              "    border-bottom-color: var(--fill-color);\n",
              "    animation:\n",
              "      spin 1s steps(1) infinite;\n",
              "  }\n",
              "\n",
              "  @keyframes spin {\n",
              "    0% {\n",
              "      border-color: transparent;\n",
              "      border-bottom-color: var(--fill-color);\n",
              "      border-left-color: var(--fill-color);\n",
              "    }\n",
              "    20% {\n",
              "      border-color: transparent;\n",
              "      border-left-color: var(--fill-color);\n",
              "      border-top-color: var(--fill-color);\n",
              "    }\n",
              "    30% {\n",
              "      border-color: transparent;\n",
              "      border-left-color: var(--fill-color);\n",
              "      border-top-color: var(--fill-color);\n",
              "      border-right-color: var(--fill-color);\n",
              "    }\n",
              "    40% {\n",
              "      border-color: transparent;\n",
              "      border-right-color: var(--fill-color);\n",
              "      border-top-color: var(--fill-color);\n",
              "    }\n",
              "    60% {\n",
              "      border-color: transparent;\n",
              "      border-right-color: var(--fill-color);\n",
              "    }\n",
              "    80% {\n",
              "      border-color: transparent;\n",
              "      border-right-color: var(--fill-color);\n",
              "      border-bottom-color: var(--fill-color);\n",
              "    }\n",
              "    90% {\n",
              "      border-color: transparent;\n",
              "      border-bottom-color: var(--fill-color);\n",
              "    }\n",
              "  }\n",
              "</style>\n",
              "\n",
              "  <script>\n",
              "    async function quickchart(key) {\n",
              "      const quickchartButtonEl =\n",
              "        document.querySelector('#' + key + ' button');\n",
              "      quickchartButtonEl.disabled = true;  // To prevent multiple clicks.\n",
              "      quickchartButtonEl.classList.add('colab-df-spinner');\n",
              "      try {\n",
              "        const charts = await google.colab.kernel.invokeFunction(\n",
              "            'suggestCharts', [key], {});\n",
              "      } catch (error) {\n",
              "        console.error('Error during call to suggestCharts:', error);\n",
              "      }\n",
              "      quickchartButtonEl.classList.remove('colab-df-spinner');\n",
              "      quickchartButtonEl.classList.add('colab-df-quickchart-complete');\n",
              "    }\n",
              "    (() => {\n",
              "      let quickchartButtonEl =\n",
              "        document.querySelector('#df-c3d1e47d-e771-44c6-958d-84205ca14606 button');\n",
              "      quickchartButtonEl.style.display =\n",
              "        google.colab.kernel.accessAllowed ? 'block' : 'none';\n",
              "    })();\n",
              "  </script>\n",
              "</div>\n",
              "\n",
              "  <div id=\"id_05bb41bb-ecdb-418e-bf34-49ed8e78e104\">\n",
              "    <style>\n",
              "      .colab-df-generate {\n",
              "        background-color: #E8F0FE;\n",
              "        border: none;\n",
              "        border-radius: 50%;\n",
              "        cursor: pointer;\n",
              "        display: none;\n",
              "        fill: #1967D2;\n",
              "        height: 32px;\n",
              "        padding: 0 0 0 0;\n",
              "        width: 32px;\n",
              "      }\n",
              "\n",
              "      .colab-df-generate:hover {\n",
              "        background-color: #E2EBFA;\n",
              "        box-shadow: 0px 1px 2px rgba(60, 64, 67, 0.3), 0px 1px 3px 1px rgba(60, 64, 67, 0.15);\n",
              "        fill: #174EA6;\n",
              "      }\n",
              "\n",
              "      [theme=dark] .colab-df-generate {\n",
              "        background-color: #3B4455;\n",
              "        fill: #D2E3FC;\n",
              "      }\n",
              "\n",
              "      [theme=dark] .colab-df-generate:hover {\n",
              "        background-color: #434B5C;\n",
              "        box-shadow: 0px 1px 3px 1px rgba(0, 0, 0, 0.15);\n",
              "        filter: drop-shadow(0px 1px 2px rgba(0, 0, 0, 0.3));\n",
              "        fill: #FFFFFF;\n",
              "      }\n",
              "    </style>\n",
              "    <button class=\"colab-df-generate\" onclick=\"generateWithVariable('model_metrics_sorted')\"\n",
              "            title=\"Generate code using this dataframe.\"\n",
              "            style=\"display:none;\">\n",
              "\n",
              "  <svg xmlns=\"http://www.w3.org/2000/svg\" height=\"24px\"viewBox=\"0 0 24 24\"\n",
              "       width=\"24px\">\n",
              "    <path d=\"M7,19H8.4L18.45,9,17,7.55,7,17.6ZM5,21V16.75L18.45,3.32a2,2,0,0,1,2.83,0l1.4,1.43a1.91,1.91,0,0,1,.58,1.4,1.91,1.91,0,0,1-.58,1.4L9.25,21ZM18.45,9,17,7.55Zm-12,3A5.31,5.31,0,0,0,4.9,8.1,5.31,5.31,0,0,0,1,6.5,5.31,5.31,0,0,0,4.9,4.9,5.31,5.31,0,0,0,6.5,1,5.31,5.31,0,0,0,8.1,4.9,5.31,5.31,0,0,0,12,6.5,5.46,5.46,0,0,0,6.5,12Z\"/>\n",
              "  </svg>\n",
              "    </button>\n",
              "    <script>\n",
              "      (() => {\n",
              "      const buttonEl =\n",
              "        document.querySelector('#id_05bb41bb-ecdb-418e-bf34-49ed8e78e104 button.colab-df-generate');\n",
              "      buttonEl.style.display =\n",
              "        google.colab.kernel.accessAllowed ? 'block' : 'none';\n",
              "\n",
              "      buttonEl.onclick = () => {\n",
              "        google.colab.notebook.generateWithVariable('model_metrics_sorted');\n",
              "      }\n",
              "      })();\n",
              "    </script>\n",
              "  </div>\n",
              "\n",
              "    </div>\n",
              "  </div>\n"
            ],
            "text/plain": [
              "                      accuracy  fail_ratio\n",
              "model                                     \n",
              "llama3 4 shot         0.693333    0.306667\n",
              "Mistral v3 4 shot     0.656667    0.343333\n",
              "Llama3 zero shot      0.643333    0.356667\n",
              "Llama3 zero shot      0.643333    0.356667\n",
              "Llama3 8 shot         0.640000    0.360000\n",
              "Llama3 2 shot         0.636667    0.363333\n",
              "Mistral v3 zero shot  0.613333    0.386667\n",
              "Mistral v3 8 shot     0.613333    0.386667\n",
              "Mistral v3 2 shot     0.606667    0.393333"
            ]
          },
          "execution_count": 4,
          "metadata": {},
          "output_type": "execute_result"
        }
      ],
      "source": [
        "#Sort the dataframe by accuracy in descending order\n",
        "model_metrics_sorted = model_metrics.sort_values('accuracy', ascending=False)\n",
        "\n",
        "# Display the sorted scores\n",
        "model_metrics_sorted"
      ]
    },
    {
      "cell_type": "markdown",
      "metadata": {
        "id": "hHbPEudylwqi"
      },
      "source": [
        "When comparing **Mistral v3 4-shot** with the **Mistral v3 zero shot** (base-model), there is a significant difference in performance. The Mistral model promped with a 4 shot technique scored an accuracy of 0.75, while the Mistral v3 model promped with a zero-shot technique scored 0.613. This substantial improvement can be attributed to the additional context provided by the four examples, which enhances the model's predictive accuracy. In contrast, the zero-shot model relies solely on its pre-trained knowledge without specific examples to guide its predictions, resulting in lower performance.\n",
        "\n",
        "However, increasing the number of examples in the prompt beyond a certain point can significantly decrease the model's performance. This decline can be due to several factors, such as context overload where the model struggles to process too much information, and the introduction of noise and variability from additional examples. These factors can overwhelm the model, reducing its ability to generalize and make accurate predictions.\n",
        "\n",
        "From this empiric expents we shown that  while some additional context is beneficial, too many examples can be detrimental to the model's performance.\n"
      ]
    },
    {
      "cell_type": "markdown",
      "metadata": {
        "id": "tygJ5C2HpX1J"
      },
      "source": [
        "### Error analysis"
      ]
    },
    {
      "cell_type": "code",
      "execution_count": null,
      "metadata": {
        "id": "Ym2OzqLTqWnU"
      },
      "outputs": [],
      "source": [
        "models_predictions = pd.read_csv('models_predictions.csv')"
      ]
    },
    {
      "cell_type": "markdown",
      "metadata": {
        "id": "R2Vo0OMa3dhx"
      },
      "source": [
        "Visualizing the confusion matrix is crucial because it provides detailed insights into the types of errors the model makes, such as false positives and false negatives. This allows for a more comprehensive evaluation of the model's performance beyond a single accuracy metric, highlighting areas for improvement. Additionally, it helps in understanding the model's behavior in different classes, which is essential for developing robust and reliable models."
      ]
    },
    {
      "cell_type": "code",
      "execution_count": null,
      "metadata": {
        "id": "WHbCXr2SrKeZ"
      },
      "outputs": [],
      "source": [
        "def print_models_confusion_matrixs(models_list, models_predictions):\n",
        "\n",
        "  fig, axes = plt.subplots(1, len(models_list), figsize=(30, 5))\n",
        "\n",
        "  actual = models_predictions['original_labels']\n",
        "\n",
        "  for i, model in enumerate(models_list):\n",
        "\n",
        "    predicted = models_predictions[model]\n",
        "    confusion_matrix = metrics.confusion_matrix(actual, predicted)\n",
        "    cm_display = metrics.ConfusionMatrixDisplay(confusion_matrix=confusion_matrix, display_labels=[\"not sexist\", \"sexist\"])\n",
        "\n",
        "    cm_display.plot(ax=axes[i])\n",
        "    axes[i].set_title(model)\n",
        "\n",
        "  plt.show()"
      ]
    },
    {
      "cell_type": "code",
      "execution_count": null,
      "metadata": {
        "colab": {
          "base_uri": "https://localhost:8080/",
          "height": 309
        },
        "id": "KJXmivjBwIjz",
        "outputId": "3ce9a105-a825-437f-918c-78232559e193"
      },
      "outputs": [
        {
          "data": {
            "image/png": "[encoded data removed]",
            "text/plain": [
              "<Figure size 3000x500 with 8 Axes>"
            ]
          },
          "metadata": {},
          "output_type": "display_data"
        }
      ],
      "source": [
        "mistral_models_labels = ['mistralv3_zero_shot_labels', 'mistralv3_2_shot_labels', 'mistralv3_4_shot_labels', 'mistralv3_8_shot_labels']\n",
        "print_models_confusion_matrixs(mistral_models_labels, models_predictions)"
      ]
    },
    {
      "cell_type": "code",
      "execution_count": null,
      "metadata": {
        "colab": {
          "base_uri": "https://localhost:8080/",
          "height": 309
        },
        "id": "1NfJNFfv2dMa",
        "outputId": "3ca59ae5-9db8-476b-e408-13d2d1f29afd"
      },
      "outputs": [
        {
          "data": {
            "image/png": "[encoded data removed]",
            "text/plain": [
              "<Figure size 3000x500 with 8 Axes>"
            ]
          },
          "metadata": {},
          "output_type": "display_data"
        }
      ],
      "source": [
        "llama_models_labels = ['llama3_zero_shot_labels', 'llama3_2_shot_labels', 'llama3_4_shot_labels', 'llama3_8_shot_labels']\n",
        "print_models_confusion_matrixs(llama_models_labels, models_predictions)"
      ]
    },
    {
      "cell_type": "markdown",
      "metadata": {
        "id": "zcGnr1J-Qory"
      },
      "source": [
        "In all the confusion matrix that concern the mistral model we see that only 2 phrases are uncorrectly classified as not sexist while labeled as sexist."
      ]
    },
    {
      "cell_type": "code",
      "execution_count": null,
      "metadata": {
        "id": "uJJ0fll1UV9q"
      },
      "outputs": [],
      "source": [
        "def print_misslabeled_tweets(model_name, model_list, misslabel_type=\"fp\", text_limit=10):\n",
        "  if misslabel_type == 'fp':\n",
        "    print(f\"Not sexist labeled tweet classified as sexist by {model_name}\")\n",
        "    flag = 0\n",
        "  elif misslabel_type == 'fn':\n",
        "    print(f\"Sexist labeled tweet classified as not sexist by {model_name}\")\n",
        "    flag = 1\n",
        "  else:\n",
        "    print(f\"ERROR, misslabel_type must be set to 'fp'or 'fn'\")\n",
        "    return\n",
        "\n",
        "  for model in model_list:\n",
        "    miss_labeled = models_predictions[models_predictions['original_labels'] != models_predictions[model]]\n",
        "    filtered_df = miss_labeled[miss_labeled['original_labels'] == flag]\n",
        "\n",
        "    print(f\"\\nAnalyzing {model}:\")\n",
        "    for i, (row_index, row) in enumerate(filtered_df.iterrows()):\n",
        "      print(f\"row {row_index}) {row['text']} \")\n",
        "      if i >= text_limit:\n",
        "        break"
      ]
    },
    {
      "cell_type": "markdown",
      "metadata": {
        "id": "bZIKbtOwWtPh"
      },
      "source": [
        "#### False Negative"
      ]
    },
    {
      "cell_type": "code",
      "execution_count": null,
      "metadata": {
        "colab": {
          "base_uri": "https://localhost:8080/"
        },
        "id": "RaHe3izlV93M",
        "outputId": "7e477bb1-6a58-41b0-9aed-ecba3e8cc8fc"
      },
      "outputs": [
        {
          "name": "stdout",
          "output_type": "stream",
          "text": [
            "Sexist labeled tweet classified as not sexist by Mistralv3\n",
            "\n",
            "Analyzing mistralv3_zero_shot_labels:\n",
            "row 8) That's female fantasy. I have a lot of experience in that field and nurses marry doctors all the time. Something statistics also support. \n",
            "row 140) Karma's a bitch! \n",
            "\n",
            "Analyzing mistralv3_2_shot_labels:\n",
            "row 140) Karma's a bitch! \n",
            "row 170) Half the human population counts as a 'minority' to you? Some women don't give a shit about pushing paper as an office drone for 50 years of their life. \n",
            "\n",
            "Analyzing mistralv3_4_shot_labels:\n",
            "row 140) Karma's a bitch! \n",
            "row 245) To female Bishops stop making fun of religion. \n",
            "\n",
            "Analyzing mistralv3_8_shot_labels:\n",
            "row 8) That's female fantasy. I have a lot of experience in that field and nurses marry doctors all the time. Something statistics also support. \n",
            "row 140) Karma's a bitch! \n"
          ]
        }
      ],
      "source": [
        "print_misslabeled_tweets('Mistralv3', mistral_models_labels, misslabel_type=\"fn\", text_limit=10)"
      ]
    },
    {
      "cell_type": "code",
      "execution_count": null,
      "metadata": {
        "colab": {
          "base_uri": "https://localhost:8080/"
        },
        "id": "lqrsu8GsRih5",
        "outputId": "aa4a0233-750e-4d1e-ded9-58462b2486ba"
      },
      "outputs": [
        {
          "name": "stdout",
          "output_type": "stream",
          "text": [
            "Sexist labeled tweet classified as not sexist by Llama3\n",
            "\n",
            "Analyzing llama3_zero_shot_labels:\n",
            "row 16) Giving women all your money is good personality. \n",
            "row 40) How do you make Lady Gaga scream? Bite her clit off. \n",
            "row 59) Greens, eh? The fateful question of the Occident is thus now whether young female university graduates can be continually served with yoga and Pilates courses even amidst the ruins looming on the horizon. \n",
            "row 142) What's the going timeframe onto getting on GAB nowadays??? I'm trying to recruit hardcore since twat is going crazy with censorship. \n",
            "row 220) what have you tried already? I like to point out that nobody blinks when a smaller man starts shit with a larger man and gets his ass beat, men and women are equal right? \n",
            "row 238) Not all Blacks are complete NIGGERS like this whore The Pure POS Nigger bitch gives others a bad name fucking cunt Should investigate where she worked and deaths \n",
            "row 245) To female Bishops stop making fun of religion. \n",
            "row 249) I know mine is higher with smart women than dumb women. Or rather, it's lower with dumb women because my lack of knowledge or interest in what (Insert celebrity) did comes across as patronizing. \n",
            "\n",
            "Analyzing llama3_2_shot_labels:\n",
            "row 8) That's female fantasy. I have a lot of experience in that field and nurses marry doctors all the time. Something statistics also support. \n",
            "row 59) Greens, eh? The fateful question of the Occident is thus now whether young female university graduates can be continually served with yoga and Pilates courses even amidst the ruins looming on the horizon. \n",
            "row 140) Karma's a bitch! \n",
            "row 249) I know mine is higher with smart women than dumb women. Or rather, it's lower with dumb women because my lack of knowledge or interest in what (Insert celebrity) did comes across as patronizing. \n",
            "\n",
            "Analyzing llama3_4_shot_labels:\n",
            "row 8) That's female fantasy. I have a lot of experience in that field and nurses marry doctors all the time. Something statistics also support. \n",
            "row 59) Greens, eh? The fateful question of the Occident is thus now whether young female university graduates can be continually served with yoga and Pilates courses even amidst the ruins looming on the horizon. \n",
            "row 140) Karma's a bitch! \n",
            "row 142) What's the going timeframe onto getting on GAB nowadays??? I'm trying to recruit hardcore since twat is going crazy with censorship. \n",
            "row 167) I'm getting older and I can't keep doing that grind to spin plates / seek out new pussy. I want to be with a woman long term, but want to learn how to avoid this issue from getting in the way. \n",
            "row 220) what have you tried already? I like to point out that nobody blinks when a smaller man starts shit with a larger man and gets his ass beat, men and women are equal right? \n",
            "row 245) To female Bishops stop making fun of religion. \n",
            "row 249) I know mine is higher with smart women than dumb women. Or rather, it's lower with dumb women because my lack of knowledge or interest in what (Insert celebrity) did comes across as patronizing. \n",
            "\n",
            "Analyzing llama3_8_shot_labels:\n",
            "row 8) That's female fantasy. I have a lot of experience in that field and nurses marry doctors all the time. Something statistics also support. \n",
            "row 16) Giving women all your money is good personality. \n",
            "row 40) How do you make Lady Gaga scream? Bite her clit off. \n",
            "row 59) Greens, eh? The fateful question of the Occident is thus now whether young female university graduates can be continually served with yoga and Pilates courses even amidst the ruins looming on the horizon. \n",
            "row 75) Well said. Single mothers would not get this point. \n",
            "row 142) What's the going timeframe onto getting on GAB nowadays??? I'm trying to recruit hardcore since twat is going crazy with censorship. \n",
            "row 220) what have you tried already? I like to point out that nobody blinks when a smaller man starts shit with a larger man and gets his ass beat, men and women are equal right? \n",
            "row 238) Not all Blacks are complete NIGGERS like this whore The Pure POS Nigger bitch gives others a bad name fucking cunt Should investigate where she worked and deaths \n",
            "row 245) To female Bishops stop making fun of religion. \n",
            "row 249) I know mine is higher with smart women than dumb women. Or rather, it's lower with dumb women because my lack of knowledge or interest in what (Insert celebrity) did comes across as patronizing. \n"
          ]
        }
      ],
      "source": [
        "print_misslabeled_tweets('Llama3', llama_models_labels, misslabel_type=\"fn\", text_limit=10)"
      ]
    },
    {
      "cell_type": "markdown",
      "metadata": {
        "id": "L4-zs-nJTbL2"
      },
      "source": [
        "#### False positive"
      ]
    },
    {
      "cell_type": "markdown",
      "metadata": {
        "id": "_lt0aVM2QeMA"
      },
      "source": [
        "It is clear that the 2 tweets that are"
      ]
    },
    {
      "cell_type": "code",
      "execution_count": null,
      "metadata": {
        "colab": {
          "base_uri": "https://localhost:8080/"
        },
        "id": "hoZWrCC2QdxN",
        "outputId": "86232056-7df3-4768-a793-d52cf7f12d22"
      },
      "outputs": [
        {
          "name": "stdout",
          "output_type": "stream",
          "text": [
            "Not sexist labeled tweet classified as sexist by Mistralv3\n",
            "\n",
            "Analyzing mistralv3_zero_shot_labels:\n",
            "row 0) The boys must be gaming because there goes the wifi. \n",
            "row 3) Excellent, I was just looking at another post where the female fvcked men to get grades, why support that, or even risk exposing ourselves to that type of fraudulent behavior. \n",
            "row 6) ‪Import the third world and become the third world. You won’t see feminists protesting about this. ‬ ‪[URL] \n",
            "row 10) The black African will soon be labeling her a racist. Race card coming soon \n",
            "row 15) I saw this from [USER] herself but I thought I would share [USER] 's video on it. Keep up the good work on #PizzaGate guys! This is real #News. Don't be afraid to #SpeakFreely. [URL] \n",
            "row 17) Na he's not flirting with her so she's reading him as gay. \n",
            "row 26) Good - the grid girls can finally get back into F1 \n",
            "row 27) #Italy: #Muslim #migrant gropes American student’s girlfriend, then #stabs the student twice: [URL] \n",
            "row 32) Before I decided to sack Twitter off entirely, I muted about 100 terms, things like Feminism, sexism, racism, Trump, Brexit. Massive fucking list. Made Twitter so much more fun. \n",
            "row 34) I'm his first ever girlfriend Incels do not get girlfriends ever \n",
            "row 38) Yes, let's all be LECTURED by a Jack-ass like this Jimbo Bono's Bud in Red #BoycottedOscars #BoycottHollywood \n",
            "\n",
            "Analyzing mistralv3_2_shot_labels:\n",
            "row 0) The boys must be gaming because there goes the wifi. \n",
            "row 3) Excellent, I was just looking at another post where the female fvcked men to get grades, why support that, or even risk exposing ourselves to that type of fraudulent behavior. \n",
            "row 6) ‪Import the third world and become the third world. You won’t see feminists protesting about this. ‬ ‪[URL] \n",
            "row 10) The black African will soon be labeling her a racist. Race card coming soon \n",
            "row 15) I saw this from [USER] herself but I thought I would share [USER] 's video on it. Keep up the good work on #PizzaGate guys! This is real #News. Don't be afraid to #SpeakFreely. [URL] \n",
            "row 17) Na he's not flirting with her so she's reading him as gay. \n",
            "row 24) Human sacrifice in the Bible psalm-1379-christian-bible-girl-baby-religion \n",
            "row 26) Good - the grid girls can finally get back into F1 \n",
            "row 27) #Italy: #Muslim #migrant gropes American student’s girlfriend, then #stabs the student twice: [URL] \n",
            "row 29) She had a strong legal team for that manipulated her testimony for that very reason. To construct a testimony that would protect her from the consequences of her actions. \n",
            "row 32) Before I decided to sack Twitter off entirely, I muted about 100 terms, things like Feminism, sexism, racism, Trump, Brexit. Massive fucking list. Made Twitter so much more fun. \n",
            "\n",
            "Analyzing mistralv3_4_shot_labels:\n",
            "row 0) The boys must be gaming because there goes the wifi. \n",
            "row 3) Excellent, I was just looking at another post where the female fvcked men to get grades, why support that, or even risk exposing ourselves to that type of fraudulent behavior. \n",
            "row 6) ‪Import the third world and become the third world. You won’t see feminists protesting about this. ‬ ‪[URL] \n",
            "row 10) The black African will soon be labeling her a racist. Race card coming soon \n",
            "row 17) Na he's not flirting with her so she's reading him as gay. \n",
            "row 26) Good - the grid girls can finally get back into F1 \n",
            "row 27) #Italy: #Muslim #migrant gropes American student’s girlfriend, then #stabs the student twice: [URL] \n",
            "row 32) Before I decided to sack Twitter off entirely, I muted about 100 terms, things like Feminism, sexism, racism, Trump, Brexit. Massive fucking list. Made Twitter so much more fun. \n",
            "row 34) I'm his first ever girlfriend Incels do not get girlfriends ever \n",
            "row 38) Yes, let's all be LECTURED by a Jack-ass like this Jimbo Bono's Bud in Red #BoycottedOscars #BoycottHollywood \n",
            "row 44) They are just so pissed off cuz no woman wants neither one of them and they know it. Both little fat round pigs who probably play tiddlywinks together! \n",
            "\n",
            "Analyzing mistralv3_8_shot_labels:\n",
            "row 0) The boys must be gaming because there goes the wifi. \n",
            "row 3) Excellent, I was just looking at another post where the female fvcked men to get grades, why support that, or even risk exposing ourselves to that type of fraudulent behavior. \n",
            "row 6) ‪Import the third world and become the third world. You won’t see feminists protesting about this. ‬ ‪[URL] \n",
            "row 10) The black African will soon be labeling her a racist. Race card coming soon \n",
            "row 15) I saw this from [USER] herself but I thought I would share [USER] 's video on it. Keep up the good work on #PizzaGate guys! This is real #News. Don't be afraid to #SpeakFreely. [URL] \n",
            "row 17) Na he's not flirting with her so she's reading him as gay. \n",
            "row 26) Good - the grid girls can finally get back into F1 \n",
            "row 27) #Italy: #Muslim #migrant gropes American student’s girlfriend, then #stabs the student twice: [URL] \n",
            "row 32) Before I decided to sack Twitter off entirely, I muted about 100 terms, things like Feminism, sexism, racism, Trump, Brexit. Massive fucking list. Made Twitter so much more fun. \n",
            "row 34) I'm his first ever girlfriend Incels do not get girlfriends ever \n",
            "row 38) Yes, let's all be LECTURED by a Jack-ass like this Jimbo Bono's Bud in Red #BoycottedOscars #BoycottHollywood \n"
          ]
        }
      ],
      "source": [
        "print_misslabeled_tweets('Mistralv3', mistral_models_labels, misslabel_type=\"fp\", text_limit=10)"
      ]
    },
    {
      "cell_type": "code",
      "execution_count": null,
      "metadata": {
        "colab": {
          "base_uri": "https://localhost:8080/"
        },
        "id": "syFNva4dW4GB",
        "outputId": "2cc268d8-a043-444a-afba-9bb1dc3d3a7c"
      },
      "outputs": [
        {
          "name": "stdout",
          "output_type": "stream",
          "text": [
            "Not sexist labeled tweet classified as sexist by Llama3\n",
            "\n",
            "Analyzing llama3_zero_shot_labels:\n",
            "row 2) Old man mogs everyone in this sub \n",
            "row 3) Excellent, I was just looking at another post where the female fvcked men to get grades, why support that, or even risk exposing ourselves to that type of fraudulent behavior. \n",
            "row 6) ‪Import the third world and become the third world. You won’t see feminists protesting about this. ‬ ‪[URL] \n",
            "row 7) Most women find a highly educated and well traveled man sexy. \n",
            "row 10) The black African will soon be labeling her a racist. Race card coming soon \n",
            "row 26) Good - the grid girls can finally get back into F1 \n",
            "row 27) #Italy: #Muslim #migrant gropes American student’s girlfriend, then #stabs the student twice: [URL] \n",
            "row 34) I'm his first ever girlfriend Incels do not get girlfriends ever \n",
            "row 38) Yes, let's all be LECTURED by a Jack-ass like this Jimbo Bono's Bud in Red #BoycottedOscars #BoycottHollywood \n",
            "row 39) Sick fucks....santanic people need to burn in hell!! \n",
            "row 44) They are just so pissed off cuz no woman wants neither one of them and they know it. Both little fat round pigs who probably play tiddlywinks together! \n",
            "\n",
            "Analyzing llama3_2_shot_labels:\n",
            "row 2) Old man mogs everyone in this sub \n",
            "row 3) Excellent, I was just looking at another post where the female fvcked men to get grades, why support that, or even risk exposing ourselves to that type of fraudulent behavior. \n",
            "row 6) ‪Import the third world and become the third world. You won’t see feminists protesting about this. ‬ ‪[URL] \n",
            "row 7) Most women find a highly educated and well traveled man sexy. \n",
            "row 10) The black African will soon be labeling her a racist. Race card coming soon \n",
            "row 17) Na he's not flirting with her so she's reading him as gay. \n",
            "row 23) I get the impression that incel never skipped a meal in his life. \n",
            "row 26) Good - the grid girls can finally get back into F1 \n",
            "row 27) #Italy: #Muslim #migrant gropes American student’s girlfriend, then #stabs the student twice: [URL] \n",
            "row 34) I'm his first ever girlfriend Incels do not get girlfriends ever \n",
            "row 38) Yes, let's all be LECTURED by a Jack-ass like this Jimbo Bono's Bud in Red #BoycottedOscars #BoycottHollywood \n",
            "\n",
            "Analyzing llama3_4_shot_labels:\n",
            "row 2) Old man mogs everyone in this sub \n",
            "row 3) Excellent, I was just looking at another post where the female fvcked men to get grades, why support that, or even risk exposing ourselves to that type of fraudulent behavior. \n",
            "row 6) ‪Import the third world and become the third world. You won’t see feminists protesting about this. ‬ ‪[URL] \n",
            "row 7) Most women find a highly educated and well traveled man sexy. \n",
            "row 10) The black African will soon be labeling her a racist. Race card coming soon \n",
            "row 17) Na he's not flirting with her so she's reading him as gay. \n",
            "row 26) Good - the grid girls can finally get back into F1 \n",
            "row 27) #Italy: #Muslim #migrant gropes American student’s girlfriend, then #stabs the student twice: [URL] \n",
            "row 32) Before I decided to sack Twitter off entirely, I muted about 100 terms, things like Feminism, sexism, racism, Trump, Brexit. Massive fucking list. Made Twitter so much more fun. \n",
            "row 34) I'm his first ever girlfriend Incels do not get girlfriends ever \n",
            "row 38) Yes, let's all be LECTURED by a Jack-ass like this Jimbo Bono's Bud in Red #BoycottedOscars #BoycottHollywood \n",
            "\n",
            "Analyzing llama3_8_shot_labels:\n",
            "row 3) Excellent, I was just looking at another post where the female fvcked men to get grades, why support that, or even risk exposing ourselves to that type of fraudulent behavior. \n",
            "row 6) ‪Import the third world and become the third world. You won’t see feminists protesting about this. ‬ ‪[URL] \n",
            "row 10) The black African will soon be labeling her a racist. Race card coming soon \n",
            "row 17) Na he's not flirting with her so she's reading him as gay. \n",
            "row 26) Good - the grid girls can finally get back into F1 \n",
            "row 27) #Italy: #Muslim #migrant gropes American student’s girlfriend, then #stabs the student twice: [URL] \n",
            "row 32) Before I decided to sack Twitter off entirely, I muted about 100 terms, things like Feminism, sexism, racism, Trump, Brexit. Massive fucking list. Made Twitter so much more fun. \n",
            "row 34) I'm his first ever girlfriend Incels do not get girlfriends ever \n",
            "row 38) Yes, let's all be LECTURED by a Jack-ass like this Jimbo Bono's Bud in Red #BoycottedOscars #BoycottHollywood \n",
            "row 39) Sick fucks....santanic people need to burn in hell!! \n",
            "row 44) They are just so pissed off cuz no woman wants neither one of them and they know it. Both little fat round pigs who probably play tiddlywinks together! \n"
          ]
        }
      ],
      "source": [
        "print_misslabeled_tweets('Llama3', llama_models_labels, misslabel_type=\"fp\", text_limit=10)"
      ]
    },
    {
      "cell_type": "markdown",
      "metadata": {
        "id": "8QWlVXJgLJne"
      },
      "source": [
        "# [Task 7 - 1.0 points] Report\n",
        "\n",
        "Wrap up your experiment in a short report (up to 2 pages)."
      ]
    },
    {
      "cell_type": "markdown",
      "metadata": {
        "id": "_fsdV99TLJne"
      },
      "source": [
        "### Instructions\n",
        "\n",
        "* Use the NLP course report template.\n",
        "* Summarize each task in the report following the provided template."
      ]
    },
    {
      "cell_type": "markdown",
      "metadata": {
        "id": "z-hUXYaLLJne"
      },
      "source": [
        "### Recommendations\n",
        "\n",
        "The report is not a copy-paste of graphs, tables, and command outputs.\n",
        "\n",
        "* Summarize classification performance in Table format.\n",
        "* **Do not** report command outputs or screenshots.\n",
        "* Report learning curves in Figure format.\n",
        "* The error analysis section should summarize your findings."
      ]
    },
    {
      "cell_type": "markdown",
      "metadata": {
        "id": "fURV8zfPLJne"
      },
      "source": [
        "# Submission\n",
        "\n",
        "* **Submit** your report in PDF format.\n",
        "* **Submit** your python notebook.\n",
        "* Make sure your notebook is **well organized**, with no temporary code, commented sections, tests, etc..."
      ]
    },
    {
      "cell_type": "markdown",
      "metadata": {
        "id": "zn1tUeYzLJne"
      },
      "source": [
        "# FAQ\n",
        "\n",
        "Please check this frequently asked questions before contacting us."
      ]
    },
    {
      "cell_type": "markdown",
      "metadata": {
        "id": "FYAOVGvKhtTQ"
      },
      "source": [
        "### Model cards\n",
        "\n",
        "You can pick any open-source model card you like.\n",
        "\n",
        "We recommend starting from those reported in this assignment."
      ]
    },
    {
      "cell_type": "markdown",
      "metadata": {
        "id": "PWG72N-LLJne"
      },
      "source": [
        "### Implementation\n",
        "\n",
        "Everything can be done via ``transformers`` APIs.\n",
        "\n",
        "However, you are free to test frameworks, such as [LangChain](https://www.langchain.com/), [LlamaIndex](https://www.llamaindex.ai/) [LitParrot](https://github.com/awesome-software/lit-parrot), provided that you correctly address task instructions."
      ]
    },
    {
      "cell_type": "markdown",
      "metadata": {
        "id": "9cplnq3dLJne"
      },
      "source": [
        "### Bonus Points\n",
        "\n",
        "0.5 bonus points are arbitrarily assigned based on significant contributions such as:\n",
        "\n",
        "- Outstanding error analysis\n",
        "- Masterclass code organization\n",
        "- Suitable extensions\n",
        "- Evaluate A1 dataset and perform comparison\n",
        "\n",
        "Note that bonus points are only assigned if all task points are attributed (i.e., 6/6)."
      ]
    },
    {
      "cell_type": "markdown",
      "metadata": {
        "id": "coy_pJ40LJne"
      },
      "source": [
        "### Prompt Template\n",
        "\n",
        "Do not change the provided prompt template.\n",
        "\n",
        "You are only allowed to change it in case of a possible extension."
      ]
    },
    {
      "cell_type": "markdown",
      "metadata": {
        "id": "aSiH0Xqj79wc"
      },
      "source": [
        "### Optimizations\n",
        "\n",
        "Any kind of code optimization (e.g., speedup model inference or reduce computational cost) is more than welcome!"
      ]
    },
    {
      "cell_type": "markdown",
      "metadata": {
        "id": "Jpr-LSK7LJnh"
      },
      "source": [
        "# The End"
      ]
    }
  ],
  "metadata": {
    "accelerator": "GPU",
    "celltoolbar": "Slideshow",
    "colab": {
      "gpuType": "T4",
      "provenance": []
    },
    "kaggle": {
      "accelerator": "gpu",
      "dataSources": [],
      "dockerImageVersionId": 30823,
      "isGpuEnabled": true,
      "isInternetEnabled": true,
      "language": "python",
      "sourceType": "notebook"
    },
    "kernelspec": {
      "display_name": "Python 3",
      "name": "python3"
    },
    "language_info": {
      "codemirror_mode": {
        "name": "ipython",
        "version": 3
      },
      "file_extension": ".py",
      "mimetype": "text/x-python",
      "name": "python",
      "nbconvert_exporter": "python",
      "pygments_lexer": "ipython3",
      "version": "3.10.12"
    },
    "widgets": {
      "application/vnd.jupyter.widget-state+json": {
        "91a9abc3c9544d63a0d04b10a9004e23": {
          "model_module": "@jupyter-widgets/controls",
          "model_name": "HBoxModel",
          "model_module_version": "1.5.0",
          "state": {
            "_dom_classes": [],
            "_model_module": "@jupyter-widgets/controls",
            "_model_module_version": "1.5.0",
            "_model_name": "HBoxModel",
            "_view_count": null,
            "_view_module": "@jupyter-widgets/controls",
            "_view_module_version": "1.5.0",
            "_view_name": "HBoxView",
            "box_style": "",
            "children": [
              "IPY_MODEL_cd138abe95524a4eaeca82de7255adac",
              "IPY_MODEL_a91088e0f7ff4bbbb1d64aa9be8b1542",
              "IPY_MODEL_49d280338c654854b1124447ac1337d8"
            ],
            "layout": "IPY_MODEL_cb647d971b5c4829892525f9fa4a32a2"
          }
        },
        "cd138abe95524a4eaeca82de7255adac": {
          "model_module": "@jupyter-widgets/controls",
          "model_name": "HTMLModel",
          "model_module_version": "1.5.0",
          "state": {
            "_dom_classes": [],
            "_model_module": "@jupyter-widgets/controls",
            "_model_module_version": "1.5.0",
            "_model_name": "HTMLModel",
            "_view_count": null,
            "_view_module": "@jupyter-widgets/controls",
            "_view_module_version": "1.5.0",
            "_view_name": "HTMLView",
            "description": "",
            "description_tooltip": null,
            "layout": "IPY_MODEL_455c398af6444c90bbf70ff2ca0b730b",
            "placeholder": "​",
            "style": "IPY_MODEL_988638088e0341eebd06aa14d2c96b36",
            "value": "tokenizer_config.json: 100%"
          }
        },
        "a91088e0f7ff4bbbb1d64aa9be8b1542": {
          "model_module": "@jupyter-widgets/controls",
          "model_name": "FloatProgressModel",
          "model_module_version": "1.5.0",
          "state": {
            "_dom_classes": [],
            "_model_module": "@jupyter-widgets/controls",
            "_model_module_version": "1.5.0",
            "_model_name": "FloatProgressModel",
            "_view_count": null,
            "_view_module": "@jupyter-widgets/controls",
            "_view_module_version": "1.5.0",
            "_view_name": "ProgressView",
            "bar_style": "success",
            "description": "",
            "description_tooltip": null,
            "layout": "IPY_MODEL_c5a3caae5d2c431888186589609b2afa",
            "max": 140874,
            "min": 0,
            "orientation": "horizontal",
            "style": "IPY_MODEL_26d113db21944863a4d23bb802967c61",
            "value": 140874
          }
        },
        "49d280338c654854b1124447ac1337d8": {
          "model_module": "@jupyter-widgets/controls",
          "model_name": "HTMLModel",
          "model_module_version": "1.5.0",
          "state": {
            "_dom_classes": [],
            "_model_module": "@jupyter-widgets/controls",
            "_model_module_version": "1.5.0",
            "_model_name": "HTMLModel",
            "_view_count": null,
            "_view_module": "@jupyter-widgets/controls",
            "_view_module_version": "1.5.0",
            "_view_name": "HTMLView",
            "description": "",
            "description_tooltip": null,
            "layout": "IPY_MODEL_814cf5c9f9194d1693c1760a44d7fa38",
            "placeholder": "​",
            "style": "IPY_MODEL_b3f7ef91871643fb84cfbc145ee01c8f",
            "value": " 141k/141k [00:00&lt;00:00, 4.93MB/s]"
          }
        },
        "cb647d971b5c4829892525f9fa4a32a2": {
          "model_module": "@jupyter-widgets/base",
          "model_name": "LayoutModel",
          "model_module_version": "1.2.0",
          "state": {
            "_model_module": "@jupyter-widgets/base",
            "_model_module_version": "1.2.0",
            "_model_name": "LayoutModel",
            "_view_count": null,
            "_view_module": "@jupyter-widgets/base",
            "_view_module_version": "1.2.0",
            "_view_name": "LayoutView",
            "align_content": null,
            "align_items": null,
            "align_self": null,
            "border": null,
            "bottom": null,
            "display": null,
            "flex": null,
            "flex_flow": null,
            "grid_area": null,
            "grid_auto_columns": null,
            "grid_auto_flow": null,
            "grid_auto_rows": null,
            "grid_column": null,
            "grid_gap": null,
            "grid_row": null,
            "grid_template_areas": null,
            "grid_template_columns": null,
            "grid_template_rows": null,
            "height": null,
            "justify_content": null,
            "justify_items": null,
            "left": null,
            "margin": null,
            "max_height": null,
            "max_width": null,
            "min_height": null,
            "min_width": null,
            "object_fit": null,
            "object_position": null,
            "order": null,
            "overflow": null,
            "overflow_x": null,
            "overflow_y": null,
            "padding": null,
            "right": null,
            "top": null,
            "visibility": null,
            "width": null
          }
        },
        "455c398af6444c90bbf70ff2ca0b730b": {
          "model_module": "@jupyter-widgets/base",
          "model_name": "LayoutModel",
          "model_module_version": "1.2.0",
          "state": {
            "_model_module": "@jupyter-widgets/base",
            "_model_module_version": "1.2.0",
            "_model_name": "LayoutModel",
            "_view_count": null,
            "_view_module": "@jupyter-widgets/base",
            "_view_module_version": "1.2.0",
            "_view_name": "LayoutView",
            "align_content": null,
            "align_items": null,
            "align_self": null,
            "border": null,
            "bottom": null,
            "display": null,
            "flex": null,
            "flex_flow": null,
            "grid_area": null,
            "grid_auto_columns": null,
            "grid_auto_flow": null,
            "grid_auto_rows": null,
            "grid_column": null,
            "grid_gap": null,
            "grid_row": null,
            "grid_template_areas": null,
            "grid_template_columns": null,
            "grid_template_rows": null,
            "height": null,
            "justify_content": null,
            "justify_items": null,
            "left": null,
            "margin": null,
            "max_height": null,
            "max_width": null,
            "min_height": null,
            "min_width": null,
            "object_fit": null,
            "object_position": null,
            "order": null,
            "overflow": null,
            "overflow_x": null,
            "overflow_y": null,
            "padding": null,
            "right": null,
            "top": null,
            "visibility": null,
            "width": null
          }
        },
        "988638088e0341eebd06aa14d2c96b36": {
          "model_module": "@jupyter-widgets/controls",
          "model_name": "DescriptionStyleModel",
          "model_module_version": "1.5.0",
          "state": {
            "_model_module": "@jupyter-widgets/controls",
            "_model_module_version": "1.5.0",
            "_model_name": "DescriptionStyleModel",
            "_view_count": null,
            "_view_module": "@jupyter-widgets/base",
            "_view_module_version": "1.2.0",
            "_view_name": "StyleView",
            "description_width": ""
          }
        },
        "c5a3caae5d2c431888186589609b2afa": {
          "model_module": "@jupyter-widgets/base",
          "model_name": "LayoutModel",
          "model_module_version": "1.2.0",
          "state": {
            "_model_module": "@jupyter-widgets/base",
            "_model_module_version": "1.2.0",
            "_model_name": "LayoutModel",
            "_view_count": null,
            "_view_module": "@jupyter-widgets/base",
            "_view_module_version": "1.2.0",
            "_view_name": "LayoutView",
            "align_content": null,
            "align_items": null,
            "align_self": null,
            "border": null,
            "bottom": null,
            "display": null,
            "flex": null,
            "flex_flow": null,
            "grid_area": null,
            "grid_auto_columns": null,
            "grid_auto_flow": null,
            "grid_auto_rows": null,
            "grid_column": null,
            "grid_gap": null,
            "grid_row": null,
            "grid_template_areas": null,
            "grid_template_columns": null,
            "grid_template_rows": null,
            "height": null,
            "justify_content": null,
            "justify_items": null,
            "left": null,
            "margin": null,
            "max_height": null,
            "max_width": null,
            "min_height": null,
            "min_width": null,
            "object_fit": null,
            "object_position": null,
            "order": null,
            "overflow": null,
            "overflow_x": null,
            "overflow_y": null,
            "padding": null,
            "right": null,
            "top": null,
            "visibility": null,
            "width": null
          }
        },
        "26d113db21944863a4d23bb802967c61": {
          "model_module": "@jupyter-widgets/controls",
          "model_name": "ProgressStyleModel",
          "model_module_version": "1.5.0",
          "state": {
            "_model_module": "@jupyter-widgets/controls",
            "_model_module_version": "1.5.0",
            "_model_name": "ProgressStyleModel",
            "_view_count": null,
            "_view_module": "@jupyter-widgets/base",
            "_view_module_version": "1.2.0",
            "_view_name": "StyleView",
            "bar_color": null,
            "description_width": ""
          }
        },
        "814cf5c9f9194d1693c1760a44d7fa38": {
          "model_module": "@jupyter-widgets/base",
          "model_name": "LayoutModel",
          "model_module_version": "1.2.0",
          "state": {
            "_model_module": "@jupyter-widgets/base",
            "_model_module_version": "1.2.0",
            "_model_name": "LayoutModel",
            "_view_count": null,
            "_view_module": "@jupyter-widgets/base",
            "_view_module_version": "1.2.0",
            "_view_name": "LayoutView",
            "align_content": null,
            "align_items": null,
            "align_self": null,
            "border": null,
            "bottom": null,
            "display": null,
            "flex": null,
            "flex_flow": null,
            "grid_area": null,
            "grid_auto_columns": null,
            "grid_auto_flow": null,
            "grid_auto_rows": null,
            "grid_column": null,
            "grid_gap": null,
            "grid_row": null,
            "grid_template_areas": null,
            "grid_template_columns": null,
            "grid_template_rows": null,
            "height": null,
            "justify_content": null,
            "justify_items": null,
            "left": null,
            "margin": null,
            "max_height": null,
            "max_width": null,
            "min_height": null,
            "min_width": null,
            "object_fit": null,
            "object_position": null,
            "order": null,
            "overflow": null,
            "overflow_x": null,
            "overflow_y": null,
            "padding": null,
            "right": null,
            "top": null,
            "visibility": null,
            "width": null
          }
        },
        "b3f7ef91871643fb84cfbc145ee01c8f": {
          "model_module": "@jupyter-widgets/controls",
          "model_name": "DescriptionStyleModel",
          "model_module_version": "1.5.0",
          "state": {
            "_model_module": "@jupyter-widgets/controls",
            "_model_module_version": "1.5.0",
            "_model_name": "DescriptionStyleModel",
            "_view_count": null,
            "_view_module": "@jupyter-widgets/base",
            "_view_module_version": "1.2.0",
            "_view_name": "StyleView",
            "description_width": ""
          }
        },
        "d3456ed861fe4c649539ad3e57693cee": {
          "model_module": "@jupyter-widgets/controls",
          "model_name": "HBoxModel",
          "model_module_version": "1.5.0",
          "state": {
            "_dom_classes": [],
            "_model_module": "@jupyter-widgets/controls",
            "_model_module_version": "1.5.0",
            "_model_name": "HBoxModel",
            "_view_count": null,
            "_view_module": "@jupyter-widgets/controls",
            "_view_module_version": "1.5.0",
            "_view_name": "HBoxView",
            "box_style": "",
            "children": [
              "IPY_MODEL_c2a9e7d4ee574a10b32279b1628c3e49",
              "IPY_MODEL_6f4b360bb90d40f199c72b36be51b3ed",
              "IPY_MODEL_b703a2d1c20c431ebef599269c9df644"
            ],
            "layout": "IPY_MODEL_11855a7738d2468082a5b31ae1e9f750"
          }
        },
        "c2a9e7d4ee574a10b32279b1628c3e49": {
          "model_module": "@jupyter-widgets/controls",
          "model_name": "HTMLModel",
          "model_module_version": "1.5.0",
          "state": {
            "_dom_classes": [],
            "_model_module": "@jupyter-widgets/controls",
            "_model_module_version": "1.5.0",
            "_model_name": "HTMLModel",
            "_view_count": null,
            "_view_module": "@jupyter-widgets/controls",
            "_view_module_version": "1.5.0",
            "_view_name": "HTMLView",
            "description": "",
            "description_tooltip": null,
            "layout": "IPY_MODEL_0d28f81cf57049d7920c0c4dd32c7a2e",
            "placeholder": "​",
            "style": "IPY_MODEL_26654a16a2a34beeba4b5829c793b35c",
            "value": "tokenizer.model: 100%"
          }
        },
        "6f4b360bb90d40f199c72b36be51b3ed": {
          "model_module": "@jupyter-widgets/controls",
          "model_name": "FloatProgressModel",
          "model_module_version": "1.5.0",
          "state": {
            "_dom_classes": [],
            "_model_module": "@jupyter-widgets/controls",
            "_model_module_version": "1.5.0",
            "_model_name": "FloatProgressModel",
            "_view_count": null,
            "_view_module": "@jupyter-widgets/controls",
            "_view_module_version": "1.5.0",
            "_view_name": "ProgressView",
            "bar_style": "success",
            "description": "",
            "description_tooltip": null,
            "layout": "IPY_MODEL_2475ec29d97e49279619ff13b8f4b2d0",
            "max": 587404,
            "min": 0,
            "orientation": "horizontal",
            "style": "IPY_MODEL_b021f1aa04374245942897b1abe72b59",
            "value": 587404
          }
        },
        "b703a2d1c20c431ebef599269c9df644": {
          "model_module": "@jupyter-widgets/controls",
          "model_name": "HTMLModel",
          "model_module_version": "1.5.0",
          "state": {
            "_dom_classes": [],
            "_model_module": "@jupyter-widgets/controls",
            "_model_module_version": "1.5.0",
            "_model_name": "HTMLModel",
            "_view_count": null,
            "_view_module": "@jupyter-widgets/controls",
            "_view_module_version": "1.5.0",
            "_view_name": "HTMLView",
            "description": "",
            "description_tooltip": null,
            "layout": "IPY_MODEL_08ef238830d44112b52bfcf490b0229a",
            "placeholder": "​",
            "style": "IPY_MODEL_8968a698489a40d49b9f8037d9bdabb6",
            "value": " 587k/587k [00:00&lt;00:00, 5.14MB/s]"
          }
        },
        "11855a7738d2468082a5b31ae1e9f750": {
          "model_module": "@jupyter-widgets/base",
          "model_name": "LayoutModel",
          "model_module_version": "1.2.0",
          "state": {
            "_model_module": "@jupyter-widgets/base",
            "_model_module_version": "1.2.0",
            "_model_name": "LayoutModel",
            "_view_count": null,
            "_view_module": "@jupyter-widgets/base",
            "_view_module_version": "1.2.0",
            "_view_name": "LayoutView",
            "align_content": null,
            "align_items": null,
            "align_self": null,
            "border": null,
            "bottom": null,
            "display": null,
            "flex": null,
            "flex_flow": null,
            "grid_area": null,
            "grid_auto_columns": null,
            "grid_auto_flow": null,
            "grid_auto_rows": null,
            "grid_column": null,
            "grid_gap": null,
            "grid_row": null,
            "grid_template_areas": null,
            "grid_template_columns": null,
            "grid_template_rows": null,
            "height": null,
            "justify_content": null,
            "justify_items": null,
            "left": null,
            "margin": null,
            "max_height": null,
            "max_width": null,
            "min_height": null,
            "min_width": null,
            "object_fit": null,
            "object_position": null,
            "order": null,
            "overflow": null,
            "overflow_x": null,
            "overflow_y": null,
            "padding": null,
            "right": null,
            "top": null,
            "visibility": null,
            "width": null
          }
        },
        "0d28f81cf57049d7920c0c4dd32c7a2e": {
          "model_module": "@jupyter-widgets/base",
          "model_name": "LayoutModel",
          "model_module_version": "1.2.0",
          "state": {
            "_model_module": "@jupyter-widgets/base",
            "_model_module_version": "1.2.0",
            "_model_name": "LayoutModel",
            "_view_count": null,
            "_view_module": "@jupyter-widgets/base",
            "_view_module_version": "1.2.0",
            "_view_name": "LayoutView",
            "align_content": null,
            "align_items": null,
            "align_self": null,
            "border": null,
            "bottom": null,
            "display": null,
            "flex": null,
            "flex_flow": null,
            "grid_area": null,
            "grid_auto_columns": null,
            "grid_auto_flow": null,
            "grid_auto_rows": null,
            "grid_column": null,
            "grid_gap": null,
            "grid_row": null,
            "grid_template_areas": null,
            "grid_template_columns": null,
            "grid_template_rows": null,
            "height": null,
            "justify_content": null,
            "justify_items": null,
            "left": null,
            "margin": null,
            "max_height": null,
            "max_width": null,
            "min_height": null,
            "min_width": null,
            "object_fit": null,
            "object_position": null,
            "order": null,
            "overflow": null,
            "overflow_x": null,
            "overflow_y": null,
            "padding": null,
            "right": null,
            "top": null,
            "visibility": null,
            "width": null
          }
        },
        "26654a16a2a34beeba4b5829c793b35c": {
          "model_module": "@jupyter-widgets/controls",
          "model_name": "DescriptionStyleModel",
          "model_module_version": "1.5.0",
          "state": {
            "_model_module": "@jupyter-widgets/controls",
            "_model_module_version": "1.5.0",
            "_model_name": "DescriptionStyleModel",
            "_view_count": null,
            "_view_module": "@jupyter-widgets/base",
            "_view_module_version": "1.2.0",
            "_view_name": "StyleView",
            "description_width": ""
          }
        },
        "2475ec29d97e49279619ff13b8f4b2d0": {
          "model_module": "@jupyter-widgets/base",
          "model_name": "LayoutModel",
          "model_module_version": "1.2.0",
          "state": {
            "_model_module": "@jupyter-widgets/base",
            "_model_module_version": "1.2.0",
            "_model_name": "LayoutModel",
            "_view_count": null,
            "_view_module": "@jupyter-widgets/base",
            "_view_module_version": "1.2.0",
            "_view_name": "LayoutView",
            "align_content": null,
            "align_items": null,
            "align_self": null,
            "border": null,
            "bottom": null,
            "display": null,
            "flex": null,
            "flex_flow": null,
            "grid_area": null,
            "grid_auto_columns": null,
            "grid_auto_flow": null,
            "grid_auto_rows": null,
            "grid_column": null,
            "grid_gap": null,
            "grid_row": null,
            "grid_template_areas": null,
            "grid_template_columns": null,
            "grid_template_rows": null,
            "height": null,
            "justify_content": null,
            "justify_items": null,
            "left": null,
            "margin": null,
            "max_height": null,
            "max_width": null,
            "min_height": null,
            "min_width": null,
            "object_fit": null,
            "object_position": null,
            "order": null,
            "overflow": null,
            "overflow_x": null,
            "overflow_y": null,
            "padding": null,
            "right": null,
            "top": null,
            "visibility": null,
            "width": null
          }
        },
        "b021f1aa04374245942897b1abe72b59": {
          "model_module": "@jupyter-widgets/controls",
          "model_name": "ProgressStyleModel",
          "model_module_version": "1.5.0",
          "state": {
            "_model_module": "@jupyter-widgets/controls",
            "_model_module_version": "1.5.0",
            "_model_name": "ProgressStyleModel",
            "_view_count": null,
            "_view_module": "@jupyter-widgets/base",
            "_view_module_version": "1.2.0",
            "_view_name": "StyleView",
            "bar_color": null,
            "description_width": ""
          }
        },
        "08ef238830d44112b52bfcf490b0229a": {
          "model_module": "@jupyter-widgets/base",
          "model_name": "LayoutModel",
          "model_module_version": "1.2.0",
          "state": {
            "_model_module": "@jupyter-widgets/base",
            "_model_module_version": "1.2.0",
            "_model_name": "LayoutModel",
            "_view_count": null,
            "_view_module": "@jupyter-widgets/base",
            "_view_module_version": "1.2.0",
            "_view_name": "LayoutView",
            "align_content": null,
            "align_items": null,
            "align_self": null,
            "border": null,
            "bottom": null,
            "display": null,
            "flex": null,
            "flex_flow": null,
            "grid_area": null,
            "grid_auto_columns": null,
            "grid_auto_flow": null,
            "grid_auto_rows": null,
            "grid_column": null,
            "grid_gap": null,
            "grid_row": null,
            "grid_template_areas": null,
            "grid_template_columns": null,
            "grid_template_rows": null,
            "height": null,
            "justify_content": null,
            "justify_items": null,
            "left": null,
            "margin": null,
            "max_height": null,
            "max_width": null,
            "min_height": null,
            "min_width": null,
            "object_fit": null,
            "object_position": null,
            "order": null,
            "overflow": null,
            "overflow_x": null,
            "overflow_y": null,
            "padding": null,
            "right": null,
            "top": null,
            "visibility": null,
            "width": null
          }
        },
        "8968a698489a40d49b9f8037d9bdabb6": {
          "model_module": "@jupyter-widgets/controls",
          "model_name": "DescriptionStyleModel",
          "model_module_version": "1.5.0",
          "state": {
            "_model_module": "@jupyter-widgets/controls",
            "_model_module_version": "1.5.0",
            "_model_name": "DescriptionStyleModel",
            "_view_count": null,
            "_view_module": "@jupyter-widgets/base",
            "_view_module_version": "1.2.0",
            "_view_name": "StyleView",
            "description_width": ""
          }
        },
        "463cf138d42c414f921dfcc157a860ff": {
          "model_module": "@jupyter-widgets/controls",
          "model_name": "HBoxModel",
          "model_module_version": "1.5.0",
          "state": {
            "_dom_classes": [],
            "_model_module": "@jupyter-widgets/controls",
            "_model_module_version": "1.5.0",
            "_model_name": "HBoxModel",
            "_view_count": null,
            "_view_module": "@jupyter-widgets/controls",
            "_view_module_version": "1.5.0",
            "_view_name": "HBoxView",
            "box_style": "",
            "children": [
              "IPY_MODEL_a8faeb415512489883bf3facd38c6b78",
              "IPY_MODEL_9715905b59854002bf165a77bac1fb97",
              "IPY_MODEL_0b476eb0b3434b2f9438426a2af7e6c7"
            ],
            "layout": "IPY_MODEL_e7fea2db28f5429eb36f12135bac0398"
          }
        },
        "a8faeb415512489883bf3facd38c6b78": {
          "model_module": "@jupyter-widgets/controls",
          "model_name": "HTMLModel",
          "model_module_version": "1.5.0",
          "state": {
            "_dom_classes": [],
            "_model_module": "@jupyter-widgets/controls",
            "_model_module_version": "1.5.0",
            "_model_name": "HTMLModel",
            "_view_count": null,
            "_view_module": "@jupyter-widgets/controls",
            "_view_module_version": "1.5.0",
            "_view_name": "HTMLView",
            "description": "",
            "description_tooltip": null,
            "layout": "IPY_MODEL_89797b5cfa104dd1a90e4f00b99dba7e",
            "placeholder": "​",
            "style": "IPY_MODEL_d3997b2dcbba454893b8c569012923cd",
            "value": "tokenizer.json: 100%"
          }
        },
        "9715905b59854002bf165a77bac1fb97": {
          "model_module": "@jupyter-widgets/controls",
          "model_name": "FloatProgressModel",
          "model_module_version": "1.5.0",
          "state": {
            "_dom_classes": [],
            "_model_module": "@jupyter-widgets/controls",
            "_model_module_version": "1.5.0",
            "_model_name": "FloatProgressModel",
            "_view_count": null,
            "_view_module": "@jupyter-widgets/controls",
            "_view_module_version": "1.5.0",
            "_view_name": "ProgressView",
            "bar_style": "success",
            "description": "",
            "description_tooltip": null,
            "layout": "IPY_MODEL_b9e2395fe5ee4642b338a25a911b800f",
            "max": 1961548,
            "min": 0,
            "orientation": "horizontal",
            "style": "IPY_MODEL_2d0d4b51f10a403f96ed6bc67508aca2",
            "value": 1961548
          }
        },
        "0b476eb0b3434b2f9438426a2af7e6c7": {
          "model_module": "@jupyter-widgets/controls",
          "model_name": "HTMLModel",
          "model_module_version": "1.5.0",
          "state": {
            "_dom_classes": [],
            "_model_module": "@jupyter-widgets/controls",
            "_model_module_version": "1.5.0",
            "_model_name": "HTMLModel",
            "_view_count": null,
            "_view_module": "@jupyter-widgets/controls",
            "_view_module_version": "1.5.0",
            "_view_name": "HTMLView",
            "description": "",
            "description_tooltip": null,
            "layout": "IPY_MODEL_e876f2595b1245ed87830846f2f99780",
            "placeholder": "​",
            "style": "IPY_MODEL_18fac560a53440a0b1d41aabd2465d23",
            "value": " 1.96M/1.96M [00:00&lt;00:00, 11.1MB/s]"
          }
        },
        "e7fea2db28f5429eb36f12135bac0398": {
          "model_module": "@jupyter-widgets/base",
          "model_name": "LayoutModel",
          "model_module_version": "1.2.0",
          "state": {
            "_model_module": "@jupyter-widgets/base",
            "_model_module_version": "1.2.0",
            "_model_name": "LayoutModel",
            "_view_count": null,
            "_view_module": "@jupyter-widgets/base",
            "_view_module_version": "1.2.0",
            "_view_name": "LayoutView",
            "align_content": null,
            "align_items": null,
            "align_self": null,
            "border": null,
            "bottom": null,
            "display": null,
            "flex": null,
            "flex_flow": null,
            "grid_area": null,
            "grid_auto_columns": null,
            "grid_auto_flow": null,
            "grid_auto_rows": null,
            "grid_column": null,
            "grid_gap": null,
            "grid_row": null,
            "grid_template_areas": null,
            "grid_template_columns": null,
            "grid_template_rows": null,
            "height": null,
            "justify_content": null,
            "justify_items": null,
            "left": null,
            "margin": null,
            "max_height": null,
            "max_width": null,
            "min_height": null,
            "min_width": null,
            "object_fit": null,
            "object_position": null,
            "order": null,
            "overflow": null,
            "overflow_x": null,
            "overflow_y": null,
            "padding": null,
            "right": null,
            "top": null,
            "visibility": null,
            "width": null
          }
        },
        "89797b5cfa104dd1a90e4f00b99dba7e": {
          "model_module": "@jupyter-widgets/base",
          "model_name": "LayoutModel",
          "model_module_version": "1.2.0",
          "state": {
            "_model_module": "@jupyter-widgets/base",
            "_model_module_version": "1.2.0",
            "_model_name": "LayoutModel",
            "_view_count": null,
            "_view_module": "@jupyter-widgets/base",
            "_view_module_version": "1.2.0",
            "_view_name": "LayoutView",
            "align_content": null,
            "align_items": null,
            "align_self": null,
            "border": null,
            "bottom": null,
            "display": null,
            "flex": null,
            "flex_flow": null,
            "grid_area": null,
            "grid_auto_columns": null,
            "grid_auto_flow": null,
            "grid_auto_rows": null,
            "grid_column": null,
            "grid_gap": null,
            "grid_row": null,
            "grid_template_areas": null,
            "grid_template_columns": null,
            "grid_template_rows": null,
            "height": null,
            "justify_content": null,
            "justify_items": null,
            "left": null,
            "margin": null,
            "max_height": null,
            "max_width": null,
            "min_height": null,
            "min_width": null,
            "object_fit": null,
            "object_position": null,
            "order": null,
            "overflow": null,
            "overflow_x": null,
            "overflow_y": null,
            "padding": null,
            "right": null,
            "top": null,
            "visibility": null,
            "width": null
          }
        },
        "d3997b2dcbba454893b8c569012923cd": {
          "model_module": "@jupyter-widgets/controls",
          "model_name": "DescriptionStyleModel",
          "model_module_version": "1.5.0",
          "state": {
            "_model_module": "@jupyter-widgets/controls",
            "_model_module_version": "1.5.0",
            "_model_name": "DescriptionStyleModel",
            "_view_count": null,
            "_view_module": "@jupyter-widgets/base",
            "_view_module_version": "1.2.0",
            "_view_name": "StyleView",
            "description_width": ""
          }
        },
        "b9e2395fe5ee4642b338a25a911b800f": {
          "model_module": "@jupyter-widgets/base",
          "model_name": "LayoutModel",
          "model_module_version": "1.2.0",
          "state": {
            "_model_module": "@jupyter-widgets/base",
            "_model_module_version": "1.2.0",
            "_model_name": "LayoutModel",
            "_view_count": null,
            "_view_module": "@jupyter-widgets/base",
            "_view_module_version": "1.2.0",
            "_view_name": "LayoutView",
            "align_content": null,
            "align_items": null,
            "align_self": null,
            "border": null,
            "bottom": null,
            "display": null,
            "flex": null,
            "flex_flow": null,
            "grid_area": null,
            "grid_auto_columns": null,
            "grid_auto_flow": null,
            "grid_auto_rows": null,
            "grid_column": null,
            "grid_gap": null,
            "grid_row": null,
            "grid_template_areas": null,
            "grid_template_columns": null,
            "grid_template_rows": null,
            "height": null,
            "justify_content": null,
            "justify_items": null,
            "left": null,
            "margin": null,
            "max_height": null,
            "max_width": null,
            "min_height": null,
            "min_width": null,
            "object_fit": null,
            "object_position": null,
            "order": null,
            "overflow": null,
            "overflow_x": null,
            "overflow_y": null,
            "padding": null,
            "right": null,
            "top": null,
            "visibility": null,
            "width": null
          }
        },
        "2d0d4b51f10a403f96ed6bc67508aca2": {
          "model_module": "@jupyter-widgets/controls",
          "model_name": "ProgressStyleModel",
          "model_module_version": "1.5.0",
          "state": {
            "_model_module": "@jupyter-widgets/controls",
            "_model_module_version": "1.5.0",
            "_model_name": "ProgressStyleModel",
            "_view_count": null,
            "_view_module": "@jupyter-widgets/base",
            "_view_module_version": "1.2.0",
            "_view_name": "StyleView",
            "bar_color": null,
            "description_width": ""
          }
        },
        "e876f2595b1245ed87830846f2f99780": {
          "model_module": "@jupyter-widgets/base",
          "model_name": "LayoutModel",
          "model_module_version": "1.2.0",
          "state": {
            "_model_module": "@jupyter-widgets/base",
            "_model_module_version": "1.2.0",
            "_model_name": "LayoutModel",
            "_view_count": null,
            "_view_module": "@jupyter-widgets/base",
            "_view_module_version": "1.2.0",
            "_view_name": "LayoutView",
            "align_content": null,
            "align_items": null,
            "align_self": null,
            "border": null,
            "bottom": null,
            "display": null,
            "flex": null,
            "flex_flow": null,
            "grid_area": null,
            "grid_auto_columns": null,
            "grid_auto_flow": null,
            "grid_auto_rows": null,
            "grid_column": null,
            "grid_gap": null,
            "grid_row": null,
            "grid_template_areas": null,
            "grid_template_columns": null,
            "grid_template_rows": null,
            "height": null,
            "justify_content": null,
            "justify_items": null,
            "left": null,
            "margin": null,
            "max_height": null,
            "max_width": null,
            "min_height": null,
            "min_width": null,
            "object_fit": null,
            "object_position": null,
            "order": null,
            "overflow": null,
            "overflow_x": null,
            "overflow_y": null,
            "padding": null,
            "right": null,
            "top": null,
            "visibility": null,
            "width": null
          }
        },
        "18fac560a53440a0b1d41aabd2465d23": {
          "model_module": "@jupyter-widgets/controls",
          "model_name": "DescriptionStyleModel",
          "model_module_version": "1.5.0",
          "state": {
            "_model_module": "@jupyter-widgets/controls",
            "_model_module_version": "1.5.0",
            "_model_name": "DescriptionStyleModel",
            "_view_count": null,
            "_view_module": "@jupyter-widgets/base",
            "_view_module_version": "1.2.0",
            "_view_name": "StyleView",
            "description_width": ""
          }
        },
        "49e6586ebe2f4f6786bdc5dcf1948456": {
          "model_module": "@jupyter-widgets/controls",
          "model_name": "HBoxModel",
          "model_module_version": "1.5.0",
          "state": {
            "_dom_classes": [],
            "_model_module": "@jupyter-widgets/controls",
            "_model_module_version": "1.5.0",
            "_model_name": "HBoxModel",
            "_view_count": null,
            "_view_module": "@jupyter-widgets/controls",
            "_view_module_version": "1.5.0",
            "_view_name": "HBoxView",
            "box_style": "",
            "children": [
              "IPY_MODEL_7c193c1207bb4b6dae289c1f2dab2ba3",
              "IPY_MODEL_0aea0b480ffb472ca2e15a14b6ab3ee8",
              "IPY_MODEL_a419bcf1111445e4b1ff88898c834d6c"
            ],
            "layout": "IPY_MODEL_f21f13d15e4f4dbfa12425fb8f6de3b6"
          }
        },
        "7c193c1207bb4b6dae289c1f2dab2ba3": {
          "model_module": "@jupyter-widgets/controls",
          "model_name": "HTMLModel",
          "model_module_version": "1.5.0",
          "state": {
            "_dom_classes": [],
            "_model_module": "@jupyter-widgets/controls",
            "_model_module_version": "1.5.0",
            "_model_name": "HTMLModel",
            "_view_count": null,
            "_view_module": "@jupyter-widgets/controls",
            "_view_module_version": "1.5.0",
            "_view_name": "HTMLView",
            "description": "",
            "description_tooltip": null,
            "layout": "IPY_MODEL_6969df20ff134c3395b70f45090289b3",
            "placeholder": "​",
            "style": "IPY_MODEL_edb46a13e0224bfab5e55508d078367b",
            "value": "special_tokens_map.json: 100%"
          }
        },
        "0aea0b480ffb472ca2e15a14b6ab3ee8": {
          "model_module": "@jupyter-widgets/controls",
          "model_name": "FloatProgressModel",
          "model_module_version": "1.5.0",
          "state": {
            "_dom_classes": [],
            "_model_module": "@jupyter-widgets/controls",
            "_model_module_version": "1.5.0",
            "_model_name": "FloatProgressModel",
            "_view_count": null,
            "_view_module": "@jupyter-widgets/controls",
            "_view_module_version": "1.5.0",
            "_view_name": "ProgressView",
            "bar_style": "success",
            "description": "",
            "description_tooltip": null,
            "layout": "IPY_MODEL_063ce66187a24d69b0fc4c11a4ef94e3",
            "max": 414,
            "min": 0,
            "orientation": "horizontal",
            "style": "IPY_MODEL_ee70eccde9ee48c5b036aa5a2e961e84",
            "value": 414
          }
        },
        "a419bcf1111445e4b1ff88898c834d6c": {
          "model_module": "@jupyter-widgets/controls",
          "model_name": "HTMLModel",
          "model_module_version": "1.5.0",
          "state": {
            "_dom_classes": [],
            "_model_module": "@jupyter-widgets/controls",
            "_model_module_version": "1.5.0",
            "_model_name": "HTMLModel",
            "_view_count": null,
            "_view_module": "@jupyter-widgets/controls",
            "_view_module_version": "1.5.0",
            "_view_name": "HTMLView",
            "description": "",
            "description_tooltip": null,
            "layout": "IPY_MODEL_c3c31a4fb8dd4e28a71f5172d474e511",
            "placeholder": "​",
            "style": "IPY_MODEL_9bab20b6f1d34fe388e9e575f070bdad",
            "value": " 414/414 [00:00&lt;00:00, 21.7kB/s]"
          }
        },
        "f21f13d15e4f4dbfa12425fb8f6de3b6": {
          "model_module": "@jupyter-widgets/base",
          "model_name": "LayoutModel",
          "model_module_version": "1.2.0",
          "state": {
            "_model_module": "@jupyter-widgets/base",
            "_model_module_version": "1.2.0",
            "_model_name": "LayoutModel",
            "_view_count": null,
            "_view_module": "@jupyter-widgets/base",
            "_view_module_version": "1.2.0",
            "_view_name": "LayoutView",
            "align_content": null,
            "align_items": null,
            "align_self": null,
            "border": null,
            "bottom": null,
            "display": null,
            "flex": null,
            "flex_flow": null,
            "grid_area": null,
            "grid_auto_columns": null,
            "grid_auto_flow": null,
            "grid_auto_rows": null,
            "grid_column": null,
            "grid_gap": null,
            "grid_row": null,
            "grid_template_areas": null,
            "grid_template_columns": null,
            "grid_template_rows": null,
            "height": null,
            "justify_content": null,
            "justify_items": null,
            "left": null,
            "margin": null,
            "max_height": null,
            "max_width": null,
            "min_height": null,
            "min_width": null,
            "object_fit": null,
            "object_position": null,
            "order": null,
            "overflow": null,
            "overflow_x": null,
            "overflow_y": null,
            "padding": null,
            "right": null,
            "top": null,
            "visibility": null,
            "width": null
          }
        },
        "6969df20ff134c3395b70f45090289b3": {
          "model_module": "@jupyter-widgets/base",
          "model_name": "LayoutModel",
          "model_module_version": "1.2.0",
          "state": {
            "_model_module": "@jupyter-widgets/base",
            "_model_module_version": "1.2.0",
            "_model_name": "LayoutModel",
            "_view_count": null,
            "_view_module": "@jupyter-widgets/base",
            "_view_module_version": "1.2.0",
            "_view_name": "LayoutView",
            "align_content": null,
            "align_items": null,
            "align_self": null,
            "border": null,
            "bottom": null,
            "display": null,
            "flex": null,
            "flex_flow": null,
            "grid_area": null,
            "grid_auto_columns": null,
            "grid_auto_flow": null,
            "grid_auto_rows": null,
            "grid_column": null,
            "grid_gap": null,
            "grid_row": null,
            "grid_template_areas": null,
            "grid_template_columns": null,
            "grid_template_rows": null,
            "height": null,
            "justify_content": null,
            "justify_items": null,
            "left": null,
            "margin": null,
            "max_height": null,
            "max_width": null,
            "min_height": null,
            "min_width": null,
            "object_fit": null,
            "object_position": null,
            "order": null,
            "overflow": null,
            "overflow_x": null,
            "overflow_y": null,
            "padding": null,
            "right": null,
            "top": null,
            "visibility": null,
            "width": null
          }
        },
        "edb46a13e0224bfab5e55508d078367b": {
          "model_module": "@jupyter-widgets/controls",
          "model_name": "DescriptionStyleModel",
          "model_module_version": "1.5.0",
          "state": {
            "_model_module": "@jupyter-widgets/controls",
            "_model_module_version": "1.5.0",
            "_model_name": "DescriptionStyleModel",
            "_view_count": null,
            "_view_module": "@jupyter-widgets/base",
            "_view_module_version": "1.2.0",
            "_view_name": "StyleView",
            "description_width": ""
          }
        },
        "063ce66187a24d69b0fc4c11a4ef94e3": {
          "model_module": "@jupyter-widgets/base",
          "model_name": "LayoutModel",
          "model_module_version": "1.2.0",
          "state": {
            "_model_module": "@jupyter-widgets/base",
            "_model_module_version": "1.2.0",
            "_model_name": "LayoutModel",
            "_view_count": null,
            "_view_module": "@jupyter-widgets/base",
            "_view_module_version": "1.2.0",
            "_view_name": "LayoutView",
            "align_content": null,
            "align_items": null,
            "align_self": null,
            "border": null,
            "bottom": null,
            "display": null,
            "flex": null,
            "flex_flow": null,
            "grid_area": null,
            "grid_auto_columns": null,
            "grid_auto_flow": null,
            "grid_auto_rows": null,
            "grid_column": null,
            "grid_gap": null,
            "grid_row": null,
            "grid_template_areas": null,
            "grid_template_columns": null,
            "grid_template_rows": null,
            "height": null,
            "justify_content": null,
            "justify_items": null,
            "left": null,
            "margin": null,
            "max_height": null,
            "max_width": null,
            "min_height": null,
            "min_width": null,
            "object_fit": null,
            "object_position": null,
            "order": null,
            "overflow": null,
            "overflow_x": null,
            "overflow_y": null,
            "padding": null,
            "right": null,
            "top": null,
            "visibility": null,
            "width": null
          }
        },
        "ee70eccde9ee48c5b036aa5a2e961e84": {
          "model_module": "@jupyter-widgets/controls",
          "model_name": "ProgressStyleModel",
          "model_module_version": "1.5.0",
          "state": {
            "_model_module": "@jupyter-widgets/controls",
            "_model_module_version": "1.5.0",
            "_model_name": "ProgressStyleModel",
            "_view_count": null,
            "_view_module": "@jupyter-widgets/base",
            "_view_module_version": "1.2.0",
            "_view_name": "StyleView",
            "bar_color": null,
            "description_width": ""
          }
        },
        "c3c31a4fb8dd4e28a71f5172d474e511": {
          "model_module": "@jupyter-widgets/base",
          "model_name": "LayoutModel",
          "model_module_version": "1.2.0",
          "state": {
            "_model_module": "@jupyter-widgets/base",
            "_model_module_version": "1.2.0",
            "_model_name": "LayoutModel",
            "_view_count": null,
            "_view_module": "@jupyter-widgets/base",
            "_view_module_version": "1.2.0",
            "_view_name": "LayoutView",
            "align_content": null,
            "align_items": null,
            "align_self": null,
            "border": null,
            "bottom": null,
            "display": null,
            "flex": null,
            "flex_flow": null,
            "grid_area": null,
            "grid_auto_columns": null,
            "grid_auto_flow": null,
            "grid_auto_rows": null,
            "grid_column": null,
            "grid_gap": null,
            "grid_row": null,
            "grid_template_areas": null,
            "grid_template_columns": null,
            "grid_template_rows": null,
            "height": null,
            "justify_content": null,
            "justify_items": null,
            "left": null,
            "margin": null,
            "max_height": null,
            "max_width": null,
            "min_height": null,
            "min_width": null,
            "object_fit": null,
            "object_position": null,
            "order": null,
            "overflow": null,
            "overflow_x": null,
            "overflow_y": null,
            "padding": null,
            "right": null,
            "top": null,
            "visibility": null,
            "width": null
          }
        },
        "9bab20b6f1d34fe388e9e575f070bdad": {
          "model_module": "@jupyter-widgets/controls",
          "model_name": "DescriptionStyleModel",
          "model_module_version": "1.5.0",
          "state": {
            "_model_module": "@jupyter-widgets/controls",
            "_model_module_version": "1.5.0",
            "_model_name": "DescriptionStyleModel",
            "_view_count": null,
            "_view_module": "@jupyter-widgets/base",
            "_view_module_version": "1.2.0",
            "_view_name": "StyleView",
            "description_width": ""
          }
        },
        "32d61ad5fbe045fab1eb0099a76d1d97": {
          "model_module": "@jupyter-widgets/controls",
          "model_name": "HBoxModel",
          "model_module_version": "1.5.0",
          "state": {
            "_dom_classes": [],
            "_model_module": "@jupyter-widgets/controls",
            "_model_module_version": "1.5.0",
            "_model_name": "HBoxModel",
            "_view_count": null,
            "_view_module": "@jupyter-widgets/controls",
            "_view_module_version": "1.5.0",
            "_view_name": "HBoxView",
            "box_style": "",
            "children": [
              "IPY_MODEL_30e6203225374d29a88a8710cb856917",
              "IPY_MODEL_d3a153e48d3c4c368d92d9a1b7831290",
              "IPY_MODEL_899cafaa5d69468c8eb3ee6bf8514e47"
            ],
            "layout": "IPY_MODEL_1181fe10fb0e432ebfe1bc582e8b41f4"
          }
        },
        "30e6203225374d29a88a8710cb856917": {
          "model_module": "@jupyter-widgets/controls",
          "model_name": "HTMLModel",
          "model_module_version": "1.5.0",
          "state": {
            "_dom_classes": [],
            "_model_module": "@jupyter-widgets/controls",
            "_model_module_version": "1.5.0",
            "_model_name": "HTMLModel",
            "_view_count": null,
            "_view_module": "@jupyter-widgets/controls",
            "_view_module_version": "1.5.0",
            "_view_name": "HTMLView",
            "description": "",
            "description_tooltip": null,
            "layout": "IPY_MODEL_5fee32491b464f65b5799694819b4377",
            "placeholder": "​",
            "style": "IPY_MODEL_aa07b5687516468ca996ea59abce2021",
            "value": "config.json: 100%"
          }
        },
        "d3a153e48d3c4c368d92d9a1b7831290": {
          "model_module": "@jupyter-widgets/controls",
          "model_name": "FloatProgressModel",
          "model_module_version": "1.5.0",
          "state": {
            "_dom_classes": [],
            "_model_module": "@jupyter-widgets/controls",
            "_model_module_version": "1.5.0",
            "_model_name": "FloatProgressModel",
            "_view_count": null,
            "_view_module": "@jupyter-widgets/controls",
            "_view_module_version": "1.5.0",
            "_view_name": "ProgressView",
            "bar_style": "success",
            "description": "",
            "description_tooltip": null,
            "layout": "IPY_MODEL_0268d44d84bd49eebc0c24274bef034a",
            "max": 601,
            "min": 0,
            "orientation": "horizontal",
            "style": "IPY_MODEL_1d917d526bd34e17b0b8d086ef28386e",
            "value": 601
          }
        },
        "899cafaa5d69468c8eb3ee6bf8514e47": {
          "model_module": "@jupyter-widgets/controls",
          "model_name": "HTMLModel",
          "model_module_version": "1.5.0",
          "state": {
            "_dom_classes": [],
            "_model_module": "@jupyter-widgets/controls",
            "_model_module_version": "1.5.0",
            "_model_name": "HTMLModel",
            "_view_count": null,
            "_view_module": "@jupyter-widgets/controls",
            "_view_module_version": "1.5.0",
            "_view_name": "HTMLView",
            "description": "",
            "description_tooltip": null,
            "layout": "IPY_MODEL_ff9ccb452bca4950bb4f5e039c4f01f5",
            "placeholder": "​",
            "style": "IPY_MODEL_48529e9d87f445919780fbbfa434edcf",
            "value": " 601/601 [00:00&lt;00:00, 25.6kB/s]"
          }
        },
        "1181fe10fb0e432ebfe1bc582e8b41f4": {
          "model_module": "@jupyter-widgets/base",
          "model_name": "LayoutModel",
          "model_module_version": "1.2.0",
          "state": {
            "_model_module": "@jupyter-widgets/base",
            "_model_module_version": "1.2.0",
            "_model_name": "LayoutModel",
            "_view_count": null,
            "_view_module": "@jupyter-widgets/base",
            "_view_module_version": "1.2.0",
            "_view_name": "LayoutView",
            "align_content": null,
            "align_items": null,
            "align_self": null,
            "border": null,
            "bottom": null,
            "display": null,
            "flex": null,
            "flex_flow": null,
            "grid_area": null,
            "grid_auto_columns": null,
            "grid_auto_flow": null,
            "grid_auto_rows": null,
            "grid_column": null,
            "grid_gap": null,
            "grid_row": null,
            "grid_template_areas": null,
            "grid_template_columns": null,
            "grid_template_rows": null,
            "height": null,
            "justify_content": null,
            "justify_items": null,
            "left": null,
            "margin": null,
            "max_height": null,
            "max_width": null,
            "min_height": null,
            "min_width": null,
            "object_fit": null,
            "object_position": null,
            "order": null,
            "overflow": null,
            "overflow_x": null,
            "overflow_y": null,
            "padding": null,
            "right": null,
            "top": null,
            "visibility": null,
            "width": null
          }
        },
        "5fee32491b464f65b5799694819b4377": {
          "model_module": "@jupyter-widgets/base",
          "model_name": "LayoutModel",
          "model_module_version": "1.2.0",
          "state": {
            "_model_module": "@jupyter-widgets/base",
            "_model_module_version": "1.2.0",
            "_model_name": "LayoutModel",
            "_view_count": null,
            "_view_module": "@jupyter-widgets/base",
            "_view_module_version": "1.2.0",
            "_view_name": "LayoutView",
            "align_content": null,
            "align_items": null,
            "align_self": null,
            "border": null,
            "bottom": null,
            "display": null,
            "flex": null,
            "flex_flow": null,
            "grid_area": null,
            "grid_auto_columns": null,
            "grid_auto_flow": null,
            "grid_auto_rows": null,
            "grid_column": null,
            "grid_gap": null,
            "grid_row": null,
            "grid_template_areas": null,
            "grid_template_columns": null,
            "grid_template_rows": null,
            "height": null,
            "justify_content": null,
            "justify_items": null,
            "left": null,
            "margin": null,
            "max_height": null,
            "max_width": null,
            "min_height": null,
            "min_width": null,
            "object_fit": null,
            "object_position": null,
            "order": null,
            "overflow": null,
            "overflow_x": null,
            "overflow_y": null,
            "padding": null,
            "right": null,
            "top": null,
            "visibility": null,
            "width": null
          }
        },
        "aa07b5687516468ca996ea59abce2021": {
          "model_module": "@jupyter-widgets/controls",
          "model_name": "DescriptionStyleModel",
          "model_module_version": "1.5.0",
          "state": {
            "_model_module": "@jupyter-widgets/controls",
            "_model_module_version": "1.5.0",
            "_model_name": "DescriptionStyleModel",
            "_view_count": null,
            "_view_module": "@jupyter-widgets/base",
            "_view_module_version": "1.2.0",
            "_view_name": "StyleView",
            "description_width": ""
          }
        },
        "0268d44d84bd49eebc0c24274bef034a": {
          "model_module": "@jupyter-widgets/base",
          "model_name": "LayoutModel",
          "model_module_version": "1.2.0",
          "state": {
            "_model_module": "@jupyter-widgets/base",
            "_model_module_version": "1.2.0",
            "_model_name": "LayoutModel",
            "_view_count": null,
            "_view_module": "@jupyter-widgets/base",
            "_view_module_version": "1.2.0",
            "_view_name": "LayoutView",
            "align_content": null,
            "align_items": null,
            "align_self": null,
            "border": null,
            "bottom": null,
            "display": null,
            "flex": null,
            "flex_flow": null,
            "grid_area": null,
            "grid_auto_columns": null,
            "grid_auto_flow": null,
            "grid_auto_rows": null,
            "grid_column": null,
            "grid_gap": null,
            "grid_row": null,
            "grid_template_areas": null,
            "grid_template_columns": null,
            "grid_template_rows": null,
            "height": null,
            "justify_content": null,
            "justify_items": null,
            "left": null,
            "margin": null,
            "max_height": null,
            "max_width": null,
            "min_height": null,
            "min_width": null,
            "object_fit": null,
            "object_position": null,
            "order": null,
            "overflow": null,
            "overflow_x": null,
            "overflow_y": null,
            "padding": null,
            "right": null,
            "top": null,
            "visibility": null,
            "width": null
          }
        },
        "1d917d526bd34e17b0b8d086ef28386e": {
          "model_module": "@jupyter-widgets/controls",
          "model_name": "ProgressStyleModel",
          "model_module_version": "1.5.0",
          "state": {
            "_model_module": "@jupyter-widgets/controls",
            "_model_module_version": "1.5.0",
            "_model_name": "ProgressStyleModel",
            "_view_count": null,
            "_view_module": "@jupyter-widgets/base",
            "_view_module_version": "1.2.0",
            "_view_name": "StyleView",
            "bar_color": null,
            "description_width": ""
          }
        },
        "ff9ccb452bca4950bb4f5e039c4f01f5": {
          "model_module": "@jupyter-widgets/base",
          "model_name": "LayoutModel",
          "model_module_version": "1.2.0",
          "state": {
            "_model_module": "@jupyter-widgets/base",
            "_model_module_version": "1.2.0",
            "_model_name": "LayoutModel",
            "_view_count": null,
            "_view_module": "@jupyter-widgets/base",
            "_view_module_version": "1.2.0",
            "_view_name": "LayoutView",
            "align_content": null,
            "align_items": null,
            "align_self": null,
            "border": null,
            "bottom": null,
            "display": null,
            "flex": null,
            "flex_flow": null,
            "grid_area": null,
            "grid_auto_columns": null,
            "grid_auto_flow": null,
            "grid_auto_rows": null,
            "grid_column": null,
            "grid_gap": null,
            "grid_row": null,
            "grid_template_areas": null,
            "grid_template_columns": null,
            "grid_template_rows": null,
            "height": null,
            "justify_content": null,
            "justify_items": null,
            "left": null,
            "margin": null,
            "max_height": null,
            "max_width": null,
            "min_height": null,
            "min_width": null,
            "object_fit": null,
            "object_position": null,
            "order": null,
            "overflow": null,
            "overflow_x": null,
            "overflow_y": null,
            "padding": null,
            "right": null,
            "top": null,
            "visibility": null,
            "width": null
          }
        },
        "48529e9d87f445919780fbbfa434edcf": {
          "model_module": "@jupyter-widgets/controls",
          "model_name": "DescriptionStyleModel",
          "model_module_version": "1.5.0",
          "state": {
            "_model_module": "@jupyter-widgets/controls",
            "_model_module_version": "1.5.0",
            "_model_name": "DescriptionStyleModel",
            "_view_count": null,
            "_view_module": "@jupyter-widgets/base",
            "_view_module_version": "1.2.0",
            "_view_name": "StyleView",
            "description_width": ""
          }
        },
        "dbecf0d3dce744c781b763924a7d5f73": {
          "model_module": "@jupyter-widgets/controls",
          "model_name": "HBoxModel",
          "model_module_version": "1.5.0",
          "state": {
            "_dom_classes": [],
            "_model_module": "@jupyter-widgets/controls",
            "_model_module_version": "1.5.0",
            "_model_name": "HBoxModel",
            "_view_count": null,
            "_view_module": "@jupyter-widgets/controls",
            "_view_module_version": "1.5.0",
            "_view_name": "HBoxView",
            "box_style": "",
            "children": [
              "IPY_MODEL_7099ca8311854026a8eb136adf4ce587",
              "IPY_MODEL_11bdb1e647034704bcf023595b62881c",
              "IPY_MODEL_09fe37fd348647218943d68fc91854e1"
            ],
            "layout": "IPY_MODEL_3afc3f9c2da74d4787506e271a204fad"
          }
        },
        "7099ca8311854026a8eb136adf4ce587": {
          "model_module": "@jupyter-widgets/controls",
          "model_name": "HTMLModel",
          "model_module_version": "1.5.0",
          "state": {
            "_dom_classes": [],
            "_model_module": "@jupyter-widgets/controls",
            "_model_module_version": "1.5.0",
            "_model_name": "HTMLModel",
            "_view_count": null,
            "_view_module": "@jupyter-widgets/controls",
            "_view_module_version": "1.5.0",
            "_view_name": "HTMLView",
            "description": "",
            "description_tooltip": null,
            "layout": "IPY_MODEL_7273635d5fd54081b7f4e4e26fa5cb76",
            "placeholder": "​",
            "style": "IPY_MODEL_32f3fc0e8e9142e79c3f74519d583afa",
            "value": "model.safetensors.index.json: 100%"
          }
        },
        "11bdb1e647034704bcf023595b62881c": {
          "model_module": "@jupyter-widgets/controls",
          "model_name": "FloatProgressModel",
          "model_module_version": "1.5.0",
          "state": {
            "_dom_classes": [],
            "_model_module": "@jupyter-widgets/controls",
            "_model_module_version": "1.5.0",
            "_model_name": "FloatProgressModel",
            "_view_count": null,
            "_view_module": "@jupyter-widgets/controls",
            "_view_module_version": "1.5.0",
            "_view_name": "ProgressView",
            "bar_style": "success",
            "description": "",
            "description_tooltip": null,
            "layout": "IPY_MODEL_8cb1babb0ea64ac0b86ac8859fe9f5b2",
            "max": 23950,
            "min": 0,
            "orientation": "horizontal",
            "style": "IPY_MODEL_ea465641bc1c4c62830b9f01420bab37",
            "value": 23950
          }
        },
        "09fe37fd348647218943d68fc91854e1": {
          "model_module": "@jupyter-widgets/controls",
          "model_name": "HTMLModel",
          "model_module_version": "1.5.0",
          "state": {
            "_dom_classes": [],
            "_model_module": "@jupyter-widgets/controls",
            "_model_module_version": "1.5.0",
            "_model_name": "HTMLModel",
            "_view_count": null,
            "_view_module": "@jupyter-widgets/controls",
            "_view_module_version": "1.5.0",
            "_view_name": "HTMLView",
            "description": "",
            "description_tooltip": null,
            "layout": "IPY_MODEL_37b41e2700ea411cbc43434cf57252d1",
            "placeholder": "​",
            "style": "IPY_MODEL_4e727878bf5041f0b98351dd30c50ed1",
            "value": " 23.9k/23.9k [00:00&lt;00:00, 1.50MB/s]"
          }
        },
        "3afc3f9c2da74d4787506e271a204fad": {
          "model_module": "@jupyter-widgets/base",
          "model_name": "LayoutModel",
          "model_module_version": "1.2.0",
          "state": {
            "_model_module": "@jupyter-widgets/base",
            "_model_module_version": "1.2.0",
            "_model_name": "LayoutModel",
            "_view_count": null,
            "_view_module": "@jupyter-widgets/base",
            "_view_module_version": "1.2.0",
            "_view_name": "LayoutView",
            "align_content": null,
            "align_items": null,
            "align_self": null,
            "border": null,
            "bottom": null,
            "display": null,
            "flex": null,
            "flex_flow": null,
            "grid_area": null,
            "grid_auto_columns": null,
            "grid_auto_flow": null,
            "grid_auto_rows": null,
            "grid_column": null,
            "grid_gap": null,
            "grid_row": null,
            "grid_template_areas": null,
            "grid_template_columns": null,
            "grid_template_rows": null,
            "height": null,
            "justify_content": null,
            "justify_items": null,
            "left": null,
            "margin": null,
            "max_height": null,
            "max_width": null,
            "min_height": null,
            "min_width": null,
            "object_fit": null,
            "object_position": null,
            "order": null,
            "overflow": null,
            "overflow_x": null,
            "overflow_y": null,
            "padding": null,
            "right": null,
            "top": null,
            "visibility": null,
            "width": null
          }
        },
        "7273635d5fd54081b7f4e4e26fa5cb76": {
          "model_module": "@jupyter-widgets/base",
          "model_name": "LayoutModel",
          "model_module_version": "1.2.0",
          "state": {
            "_model_module": "@jupyter-widgets/base",
            "_model_module_version": "1.2.0",
            "_model_name": "LayoutModel",
            "_view_count": null,
            "_view_module": "@jupyter-widgets/base",
            "_view_module_version": "1.2.0",
            "_view_name": "LayoutView",
            "align_content": null,
            "align_items": null,
            "align_self": null,
            "border": null,
            "bottom": null,
            "display": null,
            "flex": null,
            "flex_flow": null,
            "grid_area": null,
            "grid_auto_columns": null,
            "grid_auto_flow": null,
            "grid_auto_rows": null,
            "grid_column": null,
            "grid_gap": null,
            "grid_row": null,
            "grid_template_areas": null,
            "grid_template_columns": null,
            "grid_template_rows": null,
            "height": null,
            "justify_content": null,
            "justify_items": null,
            "left": null,
            "margin": null,
            "max_height": null,
            "max_width": null,
            "min_height": null,
            "min_width": null,
            "object_fit": null,
            "object_position": null,
            "order": null,
            "overflow": null,
            "overflow_x": null,
            "overflow_y": null,
            "padding": null,
            "right": null,
            "top": null,
            "visibility": null,
            "width": null
          }
        },
        "32f3fc0e8e9142e79c3f74519d583afa": {
          "model_module": "@jupyter-widgets/controls",
          "model_name": "DescriptionStyleModel",
          "model_module_version": "1.5.0",
          "state": {
            "_model_module": "@jupyter-widgets/controls",
            "_model_module_version": "1.5.0",
            "_model_name": "DescriptionStyleModel",
            "_view_count": null,
            "_view_module": "@jupyter-widgets/base",
            "_view_module_version": "1.2.0",
            "_view_name": "StyleView",
            "description_width": ""
          }
        },
        "8cb1babb0ea64ac0b86ac8859fe9f5b2": {
          "model_module": "@jupyter-widgets/base",
          "model_name": "LayoutModel",
          "model_module_version": "1.2.0",
          "state": {
            "_model_module": "@jupyter-widgets/base",
            "_model_module_version": "1.2.0",
            "_model_name": "LayoutModel",
            "_view_count": null,
            "_view_module": "@jupyter-widgets/base",
            "_view_module_version": "1.2.0",
            "_view_name": "LayoutView",
            "align_content": null,
            "align_items": null,
            "align_self": null,
            "border": null,
            "bottom": null,
            "display": null,
            "flex": null,
            "flex_flow": null,
            "grid_area": null,
            "grid_auto_columns": null,
            "grid_auto_flow": null,
            "grid_auto_rows": null,
            "grid_column": null,
            "grid_gap": null,
            "grid_row": null,
            "grid_template_areas": null,
            "grid_template_columns": null,
            "grid_template_rows": null,
            "height": null,
            "justify_content": null,
            "justify_items": null,
            "left": null,
            "margin": null,
            "max_height": null,
            "max_width": null,
            "min_height": null,
            "min_width": null,
            "object_fit": null,
            "object_position": null,
            "order": null,
            "overflow": null,
            "overflow_x": null,
            "overflow_y": null,
            "padding": null,
            "right": null,
            "top": null,
            "visibility": null,
            "width": null
          }
        },
        "ea465641bc1c4c62830b9f01420bab37": {
          "model_module": "@jupyter-widgets/controls",
          "model_name": "ProgressStyleModel",
          "model_module_version": "1.5.0",
          "state": {
            "_model_module": "@jupyter-widgets/controls",
            "_model_module_version": "1.5.0",
            "_model_name": "ProgressStyleModel",
            "_view_count": null,
            "_view_module": "@jupyter-widgets/base",
            "_view_module_version": "1.2.0",
            "_view_name": "StyleView",
            "bar_color": null,
            "description_width": ""
          }
        },
        "37b41e2700ea411cbc43434cf57252d1": {
          "model_module": "@jupyter-widgets/base",
          "model_name": "LayoutModel",
          "model_module_version": "1.2.0",
          "state": {
            "_model_module": "@jupyter-widgets/base",
            "_model_module_version": "1.2.0",
            "_model_name": "LayoutModel",
            "_view_count": null,
            "_view_module": "@jupyter-widgets/base",
            "_view_module_version": "1.2.0",
            "_view_name": "LayoutView",
            "align_content": null,
            "align_items": null,
            "align_self": null,
            "border": null,
            "bottom": null,
            "display": null,
            "flex": null,
            "flex_flow": null,
            "grid_area": null,
            "grid_auto_columns": null,
            "grid_auto_flow": null,
            "grid_auto_rows": null,
            "grid_column": null,
            "grid_gap": null,
            "grid_row": null,
            "grid_template_areas": null,
            "grid_template_columns": null,
            "grid_template_rows": null,
            "height": null,
            "justify_content": null,
            "justify_items": null,
            "left": null,
            "margin": null,
            "max_height": null,
            "max_width": null,
            "min_height": null,
            "min_width": null,
            "object_fit": null,
            "object_position": null,
            "order": null,
            "overflow": null,
            "overflow_x": null,
            "overflow_y": null,
            "padding": null,
            "right": null,
            "top": null,
            "visibility": null,
            "width": null
          }
        },
        "4e727878bf5041f0b98351dd30c50ed1": {
          "model_module": "@jupyter-widgets/controls",
          "model_name": "DescriptionStyleModel",
          "model_module_version": "1.5.0",
          "state": {
            "_model_module": "@jupyter-widgets/controls",
            "_model_module_version": "1.5.0",
            "_model_name": "DescriptionStyleModel",
            "_view_count": null,
            "_view_module": "@jupyter-widgets/base",
            "_view_module_version": "1.2.0",
            "_view_name": "StyleView",
            "description_width": ""
          }
        },
        "896f7c20b83f43c389e18427b9297a8a": {
          "model_module": "@jupyter-widgets/controls",
          "model_name": "HBoxModel",
          "model_module_version": "1.5.0",
          "state": {
            "_dom_classes": [],
            "_model_module": "@jupyter-widgets/controls",
            "_model_module_version": "1.5.0",
            "_model_name": "HBoxModel",
            "_view_count": null,
            "_view_module": "@jupyter-widgets/controls",
            "_view_module_version": "1.5.0",
            "_view_name": "HBoxView",
            "box_style": "",
            "children": [
              "IPY_MODEL_6cb9a1e36de74ece8494a7692e829d52",
              "IPY_MODEL_597a36e89aa14a018aa64e8f8f50575d",
              "IPY_MODEL_040913c4e33540ea83df7c0a7c98e40b"
            ],
            "layout": "IPY_MODEL_7f5abf42313546cc89d41b5fa2937a7f"
          }
        },
        "6cb9a1e36de74ece8494a7692e829d52": {
          "model_module": "@jupyter-widgets/controls",
          "model_name": "HTMLModel",
          "model_module_version": "1.5.0",
          "state": {
            "_dom_classes": [],
            "_model_module": "@jupyter-widgets/controls",
            "_model_module_version": "1.5.0",
            "_model_name": "HTMLModel",
            "_view_count": null,
            "_view_module": "@jupyter-widgets/controls",
            "_view_module_version": "1.5.0",
            "_view_name": "HTMLView",
            "description": "",
            "description_tooltip": null,
            "layout": "IPY_MODEL_e99dd234e7ab4f049b202500db751d4a",
            "placeholder": "​",
            "style": "IPY_MODEL_07ea2ee4ac3243d6a44980199020f8f7",
            "value": "Downloading shards: 100%"
          }
        },
        "597a36e89aa14a018aa64e8f8f50575d": {
          "model_module": "@jupyter-widgets/controls",
          "model_name": "FloatProgressModel",
          "model_module_version": "1.5.0",
          "state": {
            "_dom_classes": [],
            "_model_module": "@jupyter-widgets/controls",
            "_model_module_version": "1.5.0",
            "_model_name": "FloatProgressModel",
            "_view_count": null,
            "_view_module": "@jupyter-widgets/controls",
            "_view_module_version": "1.5.0",
            "_view_name": "ProgressView",
            "bar_style": "success",
            "description": "",
            "description_tooltip": null,
            "layout": "IPY_MODEL_1e58a7621d0b487980088789810dfdc6",
            "max": 3,
            "min": 0,
            "orientation": "horizontal",
            "style": "IPY_MODEL_07d970b478da4872b6e030d209fc4ad2",
            "value": 3
          }
        },
        "040913c4e33540ea83df7c0a7c98e40b": {
          "model_module": "@jupyter-widgets/controls",
          "model_name": "HTMLModel",
          "model_module_version": "1.5.0",
          "state": {
            "_dom_classes": [],
            "_model_module": "@jupyter-widgets/controls",
            "_model_module_version": "1.5.0",
            "_model_name": "HTMLModel",
            "_view_count": null,
            "_view_module": "@jupyter-widgets/controls",
            "_view_module_version": "1.5.0",
            "_view_name": "HTMLView",
            "description": "",
            "description_tooltip": null,
            "layout": "IPY_MODEL_690a2ec934044949ae001adba701f8bd",
            "placeholder": "​",
            "style": "IPY_MODEL_713ebc8416264ee7822091c6d673e772",
            "value": " 3/3 [05:45&lt;00:00, 113.87s/it]"
          }
        },
        "7f5abf42313546cc89d41b5fa2937a7f": {
          "model_module": "@jupyter-widgets/base",
          "model_name": "LayoutModel",
          "model_module_version": "1.2.0",
          "state": {
            "_model_module": "@jupyter-widgets/base",
            "_model_module_version": "1.2.0",
            "_model_name": "LayoutModel",
            "_view_count": null,
            "_view_module": "@jupyter-widgets/base",
            "_view_module_version": "1.2.0",
            "_view_name": "LayoutView",
            "align_content": null,
            "align_items": null,
            "align_self": null,
            "border": null,
            "bottom": null,
            "display": null,
            "flex": null,
            "flex_flow": null,
            "grid_area": null,
            "grid_auto_columns": null,
            "grid_auto_flow": null,
            "grid_auto_rows": null,
            "grid_column": null,
            "grid_gap": null,
            "grid_row": null,
            "grid_template_areas": null,
            "grid_template_columns": null,
            "grid_template_rows": null,
            "height": null,
            "justify_content": null,
            "justify_items": null,
            "left": null,
            "margin": null,
            "max_height": null,
            "max_width": null,
            "min_height": null,
            "min_width": null,
            "object_fit": null,
            "object_position": null,
            "order": null,
            "overflow": null,
            "overflow_x": null,
            "overflow_y": null,
            "padding": null,
            "right": null,
            "top": null,
            "visibility": null,
            "width": null
          }
        },
        "e99dd234e7ab4f049b202500db751d4a": {
          "model_module": "@jupyter-widgets/base",
          "model_name": "LayoutModel",
          "model_module_version": "1.2.0",
          "state": {
            "_model_module": "@jupyter-widgets/base",
            "_model_module_version": "1.2.0",
            "_model_name": "LayoutModel",
            "_view_count": null,
            "_view_module": "@jupyter-widgets/base",
            "_view_module_version": "1.2.0",
            "_view_name": "LayoutView",
            "align_content": null,
            "align_items": null,
            "align_self": null,
            "border": null,
            "bottom": null,
            "display": null,
            "flex": null,
            "flex_flow": null,
            "grid_area": null,
            "grid_auto_columns": null,
            "grid_auto_flow": null,
            "grid_auto_rows": null,
            "grid_column": null,
            "grid_gap": null,
            "grid_row": null,
            "grid_template_areas": null,
            "grid_template_columns": null,
            "grid_template_rows": null,
            "height": null,
            "justify_content": null,
            "justify_items": null,
            "left": null,
            "margin": null,
            "max_height": null,
            "max_width": null,
            "min_height": null,
            "min_width": null,
            "object_fit": null,
            "object_position": null,
            "order": null,
            "overflow": null,
            "overflow_x": null,
            "overflow_y": null,
            "padding": null,
            "right": null,
            "top": null,
            "visibility": null,
            "width": null
          }
        },
        "07ea2ee4ac3243d6a44980199020f8f7": {
          "model_module": "@jupyter-widgets/controls",
          "model_name": "DescriptionStyleModel",
          "model_module_version": "1.5.0",
          "state": {
            "_model_module": "@jupyter-widgets/controls",
            "_model_module_version": "1.5.0",
            "_model_name": "DescriptionStyleModel",
            "_view_count": null,
            "_view_module": "@jupyter-widgets/base",
            "_view_module_version": "1.2.0",
            "_view_name": "StyleView",
            "description_width": ""
          }
        },
        "1e58a7621d0b487980088789810dfdc6": {
          "model_module": "@jupyter-widgets/base",
          "model_name": "LayoutModel",
          "model_module_version": "1.2.0",
          "state": {
            "_model_module": "@jupyter-widgets/base",
            "_model_module_version": "1.2.0",
            "_model_name": "LayoutModel",
            "_view_count": null,
            "_view_module": "@jupyter-widgets/base",
            "_view_module_version": "1.2.0",
            "_view_name": "LayoutView",
            "align_content": null,
            "align_items": null,
            "align_self": null,
            "border": null,
            "bottom": null,
            "display": null,
            "flex": null,
            "flex_flow": null,
            "grid_area": null,
            "grid_auto_columns": null,
            "grid_auto_flow": null,
            "grid_auto_rows": null,
            "grid_column": null,
            "grid_gap": null,
            "grid_row": null,
            "grid_template_areas": null,
            "grid_template_columns": null,
            "grid_template_rows": null,
            "height": null,
            "justify_content": null,
            "justify_items": null,
            "left": null,
            "margin": null,
            "max_height": null,
            "max_width": null,
            "min_height": null,
            "min_width": null,
            "object_fit": null,
            "object_position": null,
            "order": null,
            "overflow": null,
            "overflow_x": null,
            "overflow_y": null,
            "padding": null,
            "right": null,
            "top": null,
            "visibility": null,
            "width": null
          }
        },
        "07d970b478da4872b6e030d209fc4ad2": {
          "model_module": "@jupyter-widgets/controls",
          "model_name": "ProgressStyleModel",
          "model_module_version": "1.5.0",
          "state": {
            "_model_module": "@jupyter-widgets/controls",
            "_model_module_version": "1.5.0",
            "_model_name": "ProgressStyleModel",
            "_view_count": null,
            "_view_module": "@jupyter-widgets/base",
            "_view_module_version": "1.2.0",
            "_view_name": "StyleView",
            "bar_color": null,
            "description_width": ""
          }
        },
        "690a2ec934044949ae001adba701f8bd": {
          "model_module": "@jupyter-widgets/base",
          "model_name": "LayoutModel",
          "model_module_version": "1.2.0",
          "state": {
            "_model_module": "@jupyter-widgets/base",
            "_model_module_version": "1.2.0",
            "_model_name": "LayoutModel",
            "_view_count": null,
            "_view_module": "@jupyter-widgets/base",
            "_view_module_version": "1.2.0",
            "_view_name": "LayoutView",
            "align_content": null,
            "align_items": null,
            "align_self": null,
            "border": null,
            "bottom": null,
            "display": null,
            "flex": null,
            "flex_flow": null,
            "grid_area": null,
            "grid_auto_columns": null,
            "grid_auto_flow": null,
            "grid_auto_rows": null,
            "grid_column": null,
            "grid_gap": null,
            "grid_row": null,
            "grid_template_areas": null,
            "grid_template_columns": null,
            "grid_template_rows": null,
            "height": null,
            "justify_content": null,
            "justify_items": null,
            "left": null,
            "margin": null,
            "max_height": null,
            "max_width": null,
            "min_height": null,
            "min_width": null,
            "object_fit": null,
            "object_position": null,
            "order": null,
            "overflow": null,
            "overflow_x": null,
            "overflow_y": null,
            "padding": null,
            "right": null,
            "top": null,
            "visibility": null,
            "width": null
          }
        },
        "713ebc8416264ee7822091c6d673e772": {
          "model_module": "@jupyter-widgets/controls",
          "model_name": "DescriptionStyleModel",
          "model_module_version": "1.5.0",
          "state": {
            "_model_module": "@jupyter-widgets/controls",
            "_model_module_version": "1.5.0",
            "_model_name": "DescriptionStyleModel",
            "_view_count": null,
            "_view_module": "@jupyter-widgets/base",
            "_view_module_version": "1.2.0",
            "_view_name": "StyleView",
            "description_width": ""
          }
        },
        "54a45d7a2acd4c2b999d9402278a6d45": {
          "model_module": "@jupyter-widgets/controls",
          "model_name": "HBoxModel",
          "model_module_version": "1.5.0",
          "state": {
            "_dom_classes": [],
            "_model_module": "@jupyter-widgets/controls",
            "_model_module_version": "1.5.0",
            "_model_name": "HBoxModel",
            "_view_count": null,
            "_view_module": "@jupyter-widgets/controls",
            "_view_module_version": "1.5.0",
            "_view_name": "HBoxView",
            "box_style": "",
            "children": [
              "IPY_MODEL_be6fa215454f4194ab251891a5ed9faf",
              "IPY_MODEL_69027cd7d66b4234af22e9c1698d3053",
              "IPY_MODEL_b8756946f21f4010880fbb5b3ef00572"
            ],
            "layout": "IPY_MODEL_afa1ce526d87454ba194abe0a5a249c3"
          }
        },
        "be6fa215454f4194ab251891a5ed9faf": {
          "model_module": "@jupyter-widgets/controls",
          "model_name": "HTMLModel",
          "model_module_version": "1.5.0",
          "state": {
            "_dom_classes": [],
            "_model_module": "@jupyter-widgets/controls",
            "_model_module_version": "1.5.0",
            "_model_name": "HTMLModel",
            "_view_count": null,
            "_view_module": "@jupyter-widgets/controls",
            "_view_module_version": "1.5.0",
            "_view_name": "HTMLView",
            "description": "",
            "description_tooltip": null,
            "layout": "IPY_MODEL_50d42dce66034fafba64e2aa212d165f",
            "placeholder": "​",
            "style": "IPY_MODEL_65c8116d180043b6ac6bb02633d19232",
            "value": "model-00001-of-00003.safetensors: 100%"
          }
        },
        "69027cd7d66b4234af22e9c1698d3053": {
          "model_module": "@jupyter-widgets/controls",
          "model_name": "FloatProgressModel",
          "model_module_version": "1.5.0",
          "state": {
            "_dom_classes": [],
            "_model_module": "@jupyter-widgets/controls",
            "_model_module_version": "1.5.0",
            "_model_name": "FloatProgressModel",
            "_view_count": null,
            "_view_module": "@jupyter-widgets/controls",
            "_view_module_version": "1.5.0",
            "_view_name": "ProgressView",
            "bar_style": "success",
            "description": "",
            "description_tooltip": null,
            "layout": "IPY_MODEL_2db4fd5db2a64694a67c1ba0a5ef3ad7",
            "max": 4949453792,
            "min": 0,
            "orientation": "horizontal",
            "style": "IPY_MODEL_af340c1934e747379afe7bc8c3809eb0",
            "value": 4949453792
          }
        },
        "b8756946f21f4010880fbb5b3ef00572": {
          "model_module": "@jupyter-widgets/controls",
          "model_name": "HTMLModel",
          "model_module_version": "1.5.0",
          "state": {
            "_dom_classes": [],
            "_model_module": "@jupyter-widgets/controls",
            "_model_module_version": "1.5.0",
            "_model_name": "HTMLModel",
            "_view_count": null,
            "_view_module": "@jupyter-widgets/controls",
            "_view_module_version": "1.5.0",
            "_view_name": "HTMLView",
            "description": "",
            "description_tooltip": null,
            "layout": "IPY_MODEL_a7a9793299f641498d35cef93017914b",
            "placeholder": "​",
            "style": "IPY_MODEL_f04cef1eeb1548059e61dde0bdecfc5c",
            "value": " 4.95G/4.95G [01:58&lt;00:00, 42.8MB/s]"
          }
        },
        "afa1ce526d87454ba194abe0a5a249c3": {
          "model_module": "@jupyter-widgets/base",
          "model_name": "LayoutModel",
          "model_module_version": "1.2.0",
          "state": {
            "_model_module": "@jupyter-widgets/base",
            "_model_module_version": "1.2.0",
            "_model_name": "LayoutModel",
            "_view_count": null,
            "_view_module": "@jupyter-widgets/base",
            "_view_module_version": "1.2.0",
            "_view_name": "LayoutView",
            "align_content": null,
            "align_items": null,
            "align_self": null,
            "border": null,
            "bottom": null,
            "display": null,
            "flex": null,
            "flex_flow": null,
            "grid_area": null,
            "grid_auto_columns": null,
            "grid_auto_flow": null,
            "grid_auto_rows": null,
            "grid_column": null,
            "grid_gap": null,
            "grid_row": null,
            "grid_template_areas": null,
            "grid_template_columns": null,
            "grid_template_rows": null,
            "height": null,
            "justify_content": null,
            "justify_items": null,
            "left": null,
            "margin": null,
            "max_height": null,
            "max_width": null,
            "min_height": null,
            "min_width": null,
            "object_fit": null,
            "object_position": null,
            "order": null,
            "overflow": null,
            "overflow_x": null,
            "overflow_y": null,
            "padding": null,
            "right": null,
            "top": null,
            "visibility": null,
            "width": null
          }
        },
        "50d42dce66034fafba64e2aa212d165f": {
          "model_module": "@jupyter-widgets/base",
          "model_name": "LayoutModel",
          "model_module_version": "1.2.0",
          "state": {
            "_model_module": "@jupyter-widgets/base",
            "_model_module_version": "1.2.0",
            "_model_name": "LayoutModel",
            "_view_count": null,
            "_view_module": "@jupyter-widgets/base",
            "_view_module_version": "1.2.0",
            "_view_name": "LayoutView",
            "align_content": null,
            "align_items": null,
            "align_self": null,
            "border": null,
            "bottom": null,
            "display": null,
            "flex": null,
            "flex_flow": null,
            "grid_area": null,
            "grid_auto_columns": null,
            "grid_auto_flow": null,
            "grid_auto_rows": null,
            "grid_column": null,
            "grid_gap": null,
            "grid_row": null,
            "grid_template_areas": null,
            "grid_template_columns": null,
            "grid_template_rows": null,
            "height": null,
            "justify_content": null,
            "justify_items": null,
            "left": null,
            "margin": null,
            "max_height": null,
            "max_width": null,
            "min_height": null,
            "min_width": null,
            "object_fit": null,
            "object_position": null,
            "order": null,
            "overflow": null,
            "overflow_x": null,
            "overflow_y": null,
            "padding": null,
            "right": null,
            "top": null,
            "visibility": null,
            "width": null
          }
        },
        "65c8116d180043b6ac6bb02633d19232": {
          "model_module": "@jupyter-widgets/controls",
          "model_name": "DescriptionStyleModel",
          "model_module_version": "1.5.0",
          "state": {
            "_model_module": "@jupyter-widgets/controls",
            "_model_module_version": "1.5.0",
            "_model_name": "DescriptionStyleModel",
            "_view_count": null,
            "_view_module": "@jupyter-widgets/base",
            "_view_module_version": "1.2.0",
            "_view_name": "StyleView",
            "description_width": ""
          }
        },
        "2db4fd5db2a64694a67c1ba0a5ef3ad7": {
          "model_module": "@jupyter-widgets/base",
          "model_name": "LayoutModel",
          "model_module_version": "1.2.0",
          "state": {
            "_model_module": "@jupyter-widgets/base",
            "_model_module_version": "1.2.0",
            "_model_name": "LayoutModel",
            "_view_count": null,
            "_view_module": "@jupyter-widgets/base",
            "_view_module_version": "1.2.0",
            "_view_name": "LayoutView",
            "align_content": null,
            "align_items": null,
            "align_self": null,
            "border": null,
            "bottom": null,
            "display": null,
            "flex": null,
            "flex_flow": null,
            "grid_area": null,
            "grid_auto_columns": null,
            "grid_auto_flow": null,
            "grid_auto_rows": null,
            "grid_column": null,
            "grid_gap": null,
            "grid_row": null,
            "grid_template_areas": null,
            "grid_template_columns": null,
            "grid_template_rows": null,
            "height": null,
            "justify_content": null,
            "justify_items": null,
            "left": null,
            "margin": null,
            "max_height": null,
            "max_width": null,
            "min_height": null,
            "min_width": null,
            "object_fit": null,
            "object_position": null,
            "order": null,
            "overflow": null,
            "overflow_x": null,
            "overflow_y": null,
            "padding": null,
            "right": null,
            "top": null,
            "visibility": null,
            "width": null
          }
        },
        "af340c1934e747379afe7bc8c3809eb0": {
          "model_module": "@jupyter-widgets/controls",
          "model_name": "ProgressStyleModel",
          "model_module_version": "1.5.0",
          "state": {
            "_model_module": "@jupyter-widgets/controls",
            "_model_module_version": "1.5.0",
            "_model_name": "ProgressStyleModel",
            "_view_count": null,
            "_view_module": "@jupyter-widgets/base",
            "_view_module_version": "1.2.0",
            "_view_name": "StyleView",
            "bar_color": null,
            "description_width": ""
          }
        },
        "a7a9793299f641498d35cef93017914b": {
          "model_module": "@jupyter-widgets/base",
          "model_name": "LayoutModel",
          "model_module_version": "1.2.0",
          "state": {
            "_model_module": "@jupyter-widgets/base",
            "_model_module_version": "1.2.0",
            "_model_name": "LayoutModel",
            "_view_count": null,
            "_view_module": "@jupyter-widgets/base",
            "_view_module_version": "1.2.0",
            "_view_name": "LayoutView",
            "align_content": null,
            "align_items": null,
            "align_self": null,
            "border": null,
            "bottom": null,
            "display": null,
            "flex": null,
            "flex_flow": null,
            "grid_area": null,
            "grid_auto_columns": null,
            "grid_auto_flow": null,
            "grid_auto_rows": null,
            "grid_column": null,
            "grid_gap": null,
            "grid_row": null,
            "grid_template_areas": null,
            "grid_template_columns": null,
            "grid_template_rows": null,
            "height": null,
            "justify_content": null,
            "justify_items": null,
            "left": null,
            "margin": null,
            "max_height": null,
            "max_width": null,
            "min_height": null,
            "min_width": null,
            "object_fit": null,
            "object_position": null,
            "order": null,
            "overflow": null,
            "overflow_x": null,
            "overflow_y": null,
            "padding": null,
            "right": null,
            "top": null,
            "visibility": null,
            "width": null
          }
        },
        "f04cef1eeb1548059e61dde0bdecfc5c": {
          "model_module": "@jupyter-widgets/controls",
          "model_name": "DescriptionStyleModel",
          "model_module_version": "1.5.0",
          "state": {
            "_model_module": "@jupyter-widgets/controls",
            "_model_module_version": "1.5.0",
            "_model_name": "DescriptionStyleModel",
            "_view_count": null,
            "_view_module": "@jupyter-widgets/base",
            "_view_module_version": "1.2.0",
            "_view_name": "StyleView",
            "description_width": ""
          }
        },
        "3587cf53701d4466b292f8e57943978e": {
          "model_module": "@jupyter-widgets/controls",
          "model_name": "HBoxModel",
          "model_module_version": "1.5.0",
          "state": {
            "_dom_classes": [],
            "_model_module": "@jupyter-widgets/controls",
            "_model_module_version": "1.5.0",
            "_model_name": "HBoxModel",
            "_view_count": null,
            "_view_module": "@jupyter-widgets/controls",
            "_view_module_version": "1.5.0",
            "_view_name": "HBoxView",
            "box_style": "",
            "children": [
              "IPY_MODEL_88fe816c3ded4222ae2e1dbe02d27256",
              "IPY_MODEL_0c63cd5e3a6e4ec2b01ca764bbf33b8d",
              "IPY_MODEL_08f1af985d68493a865c6ec36babcc96"
            ],
            "layout": "IPY_MODEL_50681c92f99d475081ede4311dd0835d"
          }
        },
        "88fe816c3ded4222ae2e1dbe02d27256": {
          "model_module": "@jupyter-widgets/controls",
          "model_name": "HTMLModel",
          "model_module_version": "1.5.0",
          "state": {
            "_dom_classes": [],
            "_model_module": "@jupyter-widgets/controls",
            "_model_module_version": "1.5.0",
            "_model_name": "HTMLModel",
            "_view_count": null,
            "_view_module": "@jupyter-widgets/controls",
            "_view_module_version": "1.5.0",
            "_view_name": "HTMLView",
            "description": "",
            "description_tooltip": null,
            "layout": "IPY_MODEL_4f5b5d84c3df446ca2173290fec2f1fd",
            "placeholder": "​",
            "style": "IPY_MODEL_82033599fe2540f58cd70c6e4a46e185",
            "value": "model-00002-of-00003.safetensors: 100%"
          }
        },
        "0c63cd5e3a6e4ec2b01ca764bbf33b8d": {
          "model_module": "@jupyter-widgets/controls",
          "model_name": "FloatProgressModel",
          "model_module_version": "1.5.0",
          "state": {
            "_dom_classes": [],
            "_model_module": "@jupyter-widgets/controls",
            "_model_module_version": "1.5.0",
            "_model_name": "FloatProgressModel",
            "_view_count": null,
            "_view_module": "@jupyter-widgets/controls",
            "_view_module_version": "1.5.0",
            "_view_name": "ProgressView",
            "bar_style": "success",
            "description": "",
            "description_tooltip": null,
            "layout": "IPY_MODEL_f6cd177048674704a57b3355ba9805e3",
            "max": 4999819336,
            "min": 0,
            "orientation": "horizontal",
            "style": "IPY_MODEL_75f9abc0c7b84d99b12c287000f66fd5",
            "value": 4999819336
          }
        },
        "08f1af985d68493a865c6ec36babcc96": {
          "model_module": "@jupyter-widgets/controls",
          "model_name": "HTMLModel",
          "model_module_version": "1.5.0",
          "state": {
            "_dom_classes": [],
            "_model_module": "@jupyter-widgets/controls",
            "_model_module_version": "1.5.0",
            "_model_name": "HTMLModel",
            "_view_count": null,
            "_view_module": "@jupyter-widgets/controls",
            "_view_module_version": "1.5.0",
            "_view_name": "HTMLView",
            "description": "",
            "description_tooltip": null,
            "layout": "IPY_MODEL_5a688ac425864dd491b22ecd96ae0550",
            "placeholder": "​",
            "style": "IPY_MODEL_42a58601203d429eb61f2b5ddcc4ec77",
            "value": " 5.00G/5.00G [01:58&lt;00:00, 42.0MB/s]"
          }
        },
        "50681c92f99d475081ede4311dd0835d": {
          "model_module": "@jupyter-widgets/base",
          "model_name": "LayoutModel",
          "model_module_version": "1.2.0",
          "state": {
            "_model_module": "@jupyter-widgets/base",
            "_model_module_version": "1.2.0",
            "_model_name": "LayoutModel",
            "_view_count": null,
            "_view_module": "@jupyter-widgets/base",
            "_view_module_version": "1.2.0",
            "_view_name": "LayoutView",
            "align_content": null,
            "align_items": null,
            "align_self": null,
            "border": null,
            "bottom": null,
            "display": null,
            "flex": null,
            "flex_flow": null,
            "grid_area": null,
            "grid_auto_columns": null,
            "grid_auto_flow": null,
            "grid_auto_rows": null,
            "grid_column": null,
            "grid_gap": null,
            "grid_row": null,
            "grid_template_areas": null,
            "grid_template_columns": null,
            "grid_template_rows": null,
            "height": null,
            "justify_content": null,
            "justify_items": null,
            "left": null,
            "margin": null,
            "max_height": null,
            "max_width": null,
            "min_height": null,
            "min_width": null,
            "object_fit": null,
            "object_position": null,
            "order": null,
            "overflow": null,
            "overflow_x": null,
            "overflow_y": null,
            "padding": null,
            "right": null,
            "top": null,
            "visibility": null,
            "width": null
          }
        },
        "4f5b5d84c3df446ca2173290fec2f1fd": {
          "model_module": "@jupyter-widgets/base",
          "model_name": "LayoutModel",
          "model_module_version": "1.2.0",
          "state": {
            "_model_module": "@jupyter-widgets/base",
            "_model_module_version": "1.2.0",
            "_model_name": "LayoutModel",
            "_view_count": null,
            "_view_module": "@jupyter-widgets/base",
            "_view_module_version": "1.2.0",
            "_view_name": "LayoutView",
            "align_content": null,
            "align_items": null,
            "align_self": null,
            "border": null,
            "bottom": null,
            "display": null,
            "flex": null,
            "flex_flow": null,
            "grid_area": null,
            "grid_auto_columns": null,
            "grid_auto_flow": null,
            "grid_auto_rows": null,
            "grid_column": null,
            "grid_gap": null,
            "grid_row": null,
            "grid_template_areas": null,
            "grid_template_columns": null,
            "grid_template_rows": null,
            "height": null,
            "justify_content": null,
            "justify_items": null,
            "left": null,
            "margin": null,
            "max_height": null,
            "max_width": null,
            "min_height": null,
            "min_width": null,
            "object_fit": null,
            "object_position": null,
            "order": null,
            "overflow": null,
            "overflow_x": null,
            "overflow_y": null,
            "padding": null,
            "right": null,
            "top": null,
            "visibility": null,
            "width": null
          }
        },
        "82033599fe2540f58cd70c6e4a46e185": {
          "model_module": "@jupyter-widgets/controls",
          "model_name": "DescriptionStyleModel",
          "model_module_version": "1.5.0",
          "state": {
            "_model_module": "@jupyter-widgets/controls",
            "_model_module_version": "1.5.0",
            "_model_name": "DescriptionStyleModel",
            "_view_count": null,
            "_view_module": "@jupyter-widgets/base",
            "_view_module_version": "1.2.0",
            "_view_name": "StyleView",
            "description_width": ""
          }
        },
        "f6cd177048674704a57b3355ba9805e3": {
          "model_module": "@jupyter-widgets/base",
          "model_name": "LayoutModel",
          "model_module_version": "1.2.0",
          "state": {
            "_model_module": "@jupyter-widgets/base",
            "_model_module_version": "1.2.0",
            "_model_name": "LayoutModel",
            "_view_count": null,
            "_view_module": "@jupyter-widgets/base",
            "_view_module_version": "1.2.0",
            "_view_name": "LayoutView",
            "align_content": null,
            "align_items": null,
            "align_self": null,
            "border": null,
            "bottom": null,
            "display": null,
            "flex": null,
            "flex_flow": null,
            "grid_area": null,
            "grid_auto_columns": null,
            "grid_auto_flow": null,
            "grid_auto_rows": null,
            "grid_column": null,
            "grid_gap": null,
            "grid_row": null,
            "grid_template_areas": null,
            "grid_template_columns": null,
            "grid_template_rows": null,
            "height": null,
            "justify_content": null,
            "justify_items": null,
            "left": null,
            "margin": null,
            "max_height": null,
            "max_width": null,
            "min_height": null,
            "min_width": null,
            "object_fit": null,
            "object_position": null,
            "order": null,
            "overflow": null,
            "overflow_x": null,
            "overflow_y": null,
            "padding": null,
            "right": null,
            "top": null,
            "visibility": null,
            "width": null
          }
        },
        "75f9abc0c7b84d99b12c287000f66fd5": {
          "model_module": "@jupyter-widgets/controls",
          "model_name": "ProgressStyleModel",
          "model_module_version": "1.5.0",
          "state": {
            "_model_module": "@jupyter-widgets/controls",
            "_model_module_version": "1.5.0",
            "_model_name": "ProgressStyleModel",
            "_view_count": null,
            "_view_module": "@jupyter-widgets/base",
            "_view_module_version": "1.2.0",
            "_view_name": "StyleView",
            "bar_color": null,
            "description_width": ""
          }
        },
        "5a688ac425864dd491b22ecd96ae0550": {
          "model_module": "@jupyter-widgets/base",
          "model_name": "LayoutModel",
          "model_module_version": "1.2.0",
          "state": {
            "_model_module": "@jupyter-widgets/base",
            "_model_module_version": "1.2.0",
            "_model_name": "LayoutModel",
            "_view_count": null,
            "_view_module": "@jupyter-widgets/base",
            "_view_module_version": "1.2.0",
            "_view_name": "LayoutView",
            "align_content": null,
            "align_items": null,
            "align_self": null,
            "border": null,
            "bottom": null,
            "display": null,
            "flex": null,
            "flex_flow": null,
            "grid_area": null,
            "grid_auto_columns": null,
            "grid_auto_flow": null,
            "grid_auto_rows": null,
            "grid_column": null,
            "grid_gap": null,
            "grid_row": null,
            "grid_template_areas": null,
            "grid_template_columns": null,
            "grid_template_rows": null,
            "height": null,
            "justify_content": null,
            "justify_items": null,
            "left": null,
            "margin": null,
            "max_height": null,
            "max_width": null,
            "min_height": null,
            "min_width": null,
            "object_fit": null,
            "object_position": null,
            "order": null,
            "overflow": null,
            "overflow_x": null,
            "overflow_y": null,
            "padding": null,
            "right": null,
            "top": null,
            "visibility": null,
            "width": null
          }
        },
        "42a58601203d429eb61f2b5ddcc4ec77": {
          "model_module": "@jupyter-widgets/controls",
          "model_name": "DescriptionStyleModel",
          "model_module_version": "1.5.0",
          "state": {
            "_model_module": "@jupyter-widgets/controls",
            "_model_module_version": "1.5.0",
            "_model_name": "DescriptionStyleModel",
            "_view_count": null,
            "_view_module": "@jupyter-widgets/base",
            "_view_module_version": "1.2.0",
            "_view_name": "StyleView",
            "description_width": ""
          }
        },
        "a8982104bb7c42608824659a0b1827f5": {
          "model_module": "@jupyter-widgets/controls",
          "model_name": "HBoxModel",
          "model_module_version": "1.5.0",
          "state": {
            "_dom_classes": [],
            "_model_module": "@jupyter-widgets/controls",
            "_model_module_version": "1.5.0",
            "_model_name": "HBoxModel",
            "_view_count": null,
            "_view_module": "@jupyter-widgets/controls",
            "_view_module_version": "1.5.0",
            "_view_name": "HBoxView",
            "box_style": "",
            "children": [
              "IPY_MODEL_11b61a32020d4f1da421f05aff1ba66b",
              "IPY_MODEL_fe5c42488e1d42719a35e0921e1b11ff",
              "IPY_MODEL_67c125a4898d494780cd0b1ea91627c3"
            ],
            "layout": "IPY_MODEL_d387e35203874633a13e918af21f243d"
          }
        },
        "11b61a32020d4f1da421f05aff1ba66b": {
          "model_module": "@jupyter-widgets/controls",
          "model_name": "HTMLModel",
          "model_module_version": "1.5.0",
          "state": {
            "_dom_classes": [],
            "_model_module": "@jupyter-widgets/controls",
            "_model_module_version": "1.5.0",
            "_model_name": "HTMLModel",
            "_view_count": null,
            "_view_module": "@jupyter-widgets/controls",
            "_view_module_version": "1.5.0",
            "_view_name": "HTMLView",
            "description": "",
            "description_tooltip": null,
            "layout": "IPY_MODEL_42800ceecda948118098b581a59f5f59",
            "placeholder": "​",
            "style": "IPY_MODEL_1a2d16b42f874f64b023b276e1ca79ae",
            "value": "model-00003-of-00003.safetensors: 100%"
          }
        },
        "fe5c42488e1d42719a35e0921e1b11ff": {
          "model_module": "@jupyter-widgets/controls",
          "model_name": "FloatProgressModel",
          "model_module_version": "1.5.0",
          "state": {
            "_dom_classes": [],
            "_model_module": "@jupyter-widgets/controls",
            "_model_module_version": "1.5.0",
            "_model_name": "FloatProgressModel",
            "_view_count": null,
            "_view_module": "@jupyter-widgets/controls",
            "_view_module_version": "1.5.0",
            "_view_name": "ProgressView",
            "bar_style": "success",
            "description": "",
            "description_tooltip": null,
            "layout": "IPY_MODEL_b2af7d1e2f3148518dba37f12af678d9",
            "max": 4546807800,
            "min": 0,
            "orientation": "horizontal",
            "style": "IPY_MODEL_7aaa53623710450fa648faf9e666c33b",
            "value": 4546807800
          }
        },
        "67c125a4898d494780cd0b1ea91627c3": {
          "model_module": "@jupyter-widgets/controls",
          "model_name": "HTMLModel",
          "model_module_version": "1.5.0",
          "state": {
            "_dom_classes": [],
            "_model_module": "@jupyter-widgets/controls",
            "_model_module_version": "1.5.0",
            "_model_name": "HTMLModel",
            "_view_count": null,
            "_view_module": "@jupyter-widgets/controls",
            "_view_module_version": "1.5.0",
            "_view_name": "HTMLView",
            "description": "",
            "description_tooltip": null,
            "layout": "IPY_MODEL_68dfc590057f431abf022ca7dad424ee",
            "placeholder": "​",
            "style": "IPY_MODEL_0a47beb47de546a09a2be067881e454c",
            "value": " 4.55G/4.55G [01:48&lt;00:00, 42.0MB/s]"
          }
        },
        "d387e35203874633a13e918af21f243d": {
          "model_module": "@jupyter-widgets/base",
          "model_name": "LayoutModel",
          "model_module_version": "1.2.0",
          "state": {
            "_model_module": "@jupyter-widgets/base",
            "_model_module_version": "1.2.0",
            "_model_name": "LayoutModel",
            "_view_count": null,
            "_view_module": "@jupyter-widgets/base",
            "_view_module_version": "1.2.0",
            "_view_name": "LayoutView",
            "align_content": null,
            "align_items": null,
            "align_self": null,
            "border": null,
            "bottom": null,
            "display": null,
            "flex": null,
            "flex_flow": null,
            "grid_area": null,
            "grid_auto_columns": null,
            "grid_auto_flow": null,
            "grid_auto_rows": null,
            "grid_column": null,
            "grid_gap": null,
            "grid_row": null,
            "grid_template_areas": null,
            "grid_template_columns": null,
            "grid_template_rows": null,
            "height": null,
            "justify_content": null,
            "justify_items": null,
            "left": null,
            "margin": null,
            "max_height": null,
            "max_width": null,
            "min_height": null,
            "min_width": null,
            "object_fit": null,
            "object_position": null,
            "order": null,
            "overflow": null,
            "overflow_x": null,
            "overflow_y": null,
            "padding": null,
            "right": null,
            "top": null,
            "visibility": null,
            "width": null
          }
        },
        "42800ceecda948118098b581a59f5f59": {
          "model_module": "@jupyter-widgets/base",
          "model_name": "LayoutModel",
          "model_module_version": "1.2.0",
          "state": {
            "_model_module": "@jupyter-widgets/base",
            "_model_module_version": "1.2.0",
            "_model_name": "LayoutModel",
            "_view_count": null,
            "_view_module": "@jupyter-widgets/base",
            "_view_module_version": "1.2.0",
            "_view_name": "LayoutView",
            "align_content": null,
            "align_items": null,
            "align_self": null,
            "border": null,
            "bottom": null,
            "display": null,
            "flex": null,
            "flex_flow": null,
            "grid_area": null,
            "grid_auto_columns": null,
            "grid_auto_flow": null,
            "grid_auto_rows": null,
            "grid_column": null,
            "grid_gap": null,
            "grid_row": null,
            "grid_template_areas": null,
            "grid_template_columns": null,
            "grid_template_rows": null,
            "height": null,
            "justify_content": null,
            "justify_items": null,
            "left": null,
            "margin": null,
            "max_height": null,
            "max_width": null,
            "min_height": null,
            "min_width": null,
            "object_fit": null,
            "object_position": null,
            "order": null,
            "overflow": null,
            "overflow_x": null,
            "overflow_y": null,
            "padding": null,
            "right": null,
            "top": null,
            "visibility": null,
            "width": null
          }
        },
        "1a2d16b42f874f64b023b276e1ca79ae": {
          "model_module": "@jupyter-widgets/controls",
          "model_name": "DescriptionStyleModel",
          "model_module_version": "1.5.0",
          "state": {
            "_model_module": "@jupyter-widgets/controls",
            "_model_module_version": "1.5.0",
            "_model_name": "DescriptionStyleModel",
            "_view_count": null,
            "_view_module": "@jupyter-widgets/base",
            "_view_module_version": "1.2.0",
            "_view_name": "StyleView",
            "description_width": ""
          }
        },
        "b2af7d1e2f3148518dba37f12af678d9": {
          "model_module": "@jupyter-widgets/base",
          "model_name": "LayoutModel",
          "model_module_version": "1.2.0",
          "state": {
            "_model_module": "@jupyter-widgets/base",
            "_model_module_version": "1.2.0",
            "_model_name": "LayoutModel",
            "_view_count": null,
            "_view_module": "@jupyter-widgets/base",
            "_view_module_version": "1.2.0",
            "_view_name": "LayoutView",
            "align_content": null,
            "align_items": null,
            "align_self": null,
            "border": null,
            "bottom": null,
            "display": null,
            "flex": null,
            "flex_flow": null,
            "grid_area": null,
            "grid_auto_columns": null,
            "grid_auto_flow": null,
            "grid_auto_rows": null,
            "grid_column": null,
            "grid_gap": null,
            "grid_row": null,
            "grid_template_areas": null,
            "grid_template_columns": null,
            "grid_template_rows": null,
            "height": null,
            "justify_content": null,
            "justify_items": null,
            "left": null,
            "margin": null,
            "max_height": null,
            "max_width": null,
            "min_height": null,
            "min_width": null,
            "object_fit": null,
            "object_position": null,
            "order": null,
            "overflow": null,
            "overflow_x": null,
            "overflow_y": null,
            "padding": null,
            "right": null,
            "top": null,
            "visibility": null,
            "width": null
          }
        },
        "7aaa53623710450fa648faf9e666c33b": {
          "model_module": "@jupyter-widgets/controls",
          "model_name": "ProgressStyleModel",
          "model_module_version": "1.5.0",
          "state": {
            "_model_module": "@jupyter-widgets/controls",
            "_model_module_version": "1.5.0",
            "_model_name": "ProgressStyleModel",
            "_view_count": null,
            "_view_module": "@jupyter-widgets/base",
            "_view_module_version": "1.2.0",
            "_view_name": "StyleView",
            "bar_color": null,
            "description_width": ""
          }
        },
        "68dfc590057f431abf022ca7dad424ee": {
          "model_module": "@jupyter-widgets/base",
          "model_name": "LayoutModel",
          "model_module_version": "1.2.0",
          "state": {
            "_model_module": "@jupyter-widgets/base",
            "_model_module_version": "1.2.0",
            "_model_name": "LayoutModel",
            "_view_count": null,
            "_view_module": "@jupyter-widgets/base",
            "_view_module_version": "1.2.0",
            "_view_name": "LayoutView",
            "align_content": null,
            "align_items": null,
            "align_self": null,
            "border": null,
            "bottom": null,
            "display": null,
            "flex": null,
            "flex_flow": null,
            "grid_area": null,
            "grid_auto_columns": null,
            "grid_auto_flow": null,
            "grid_auto_rows": null,
            "grid_column": null,
            "grid_gap": null,
            "grid_row": null,
            "grid_template_areas": null,
            "grid_template_columns": null,
            "grid_template_rows": null,
            "height": null,
            "justify_content": null,
            "justify_items": null,
            "left": null,
            "margin": null,
            "max_height": null,
            "max_width": null,
            "min_height": null,
            "min_width": null,
            "object_fit": null,
            "object_position": null,
            "order": null,
            "overflow": null,
            "overflow_x": null,
            "overflow_y": null,
            "padding": null,
            "right": null,
            "top": null,
            "visibility": null,
            "width": null
          }
        },
        "0a47beb47de546a09a2be067881e454c": {
          "model_module": "@jupyter-widgets/controls",
          "model_name": "DescriptionStyleModel",
          "model_module_version": "1.5.0",
          "state": {
            "_model_module": "@jupyter-widgets/controls",
            "_model_module_version": "1.5.0",
            "_model_name": "DescriptionStyleModel",
            "_view_count": null,
            "_view_module": "@jupyter-widgets/base",
            "_view_module_version": "1.2.0",
            "_view_name": "StyleView",
            "description_width": ""
          }
        },
        "21d2fe1657034c06b69c470e26ae3d51": {
          "model_module": "@jupyter-widgets/controls",
          "model_name": "HBoxModel",
          "model_module_version": "1.5.0",
          "state": {
            "_dom_classes": [],
            "_model_module": "@jupyter-widgets/controls",
            "_model_module_version": "1.5.0",
            "_model_name": "HBoxModel",
            "_view_count": null,
            "_view_module": "@jupyter-widgets/controls",
            "_view_module_version": "1.5.0",
            "_view_name": "HBoxView",
            "box_style": "",
            "children": [
              "IPY_MODEL_8003f24805ff4031855978f40707e46f",
              "IPY_MODEL_f8760153eac9464780e448b9651a8113",
              "IPY_MODEL_c6eafb9b38c74d64a43f55ecbe16b1b8"
            ],
            "layout": "IPY_MODEL_aceca93ccd914d6eb59c60854066bd72"
          }
        },
        "8003f24805ff4031855978f40707e46f": {
          "model_module": "@jupyter-widgets/controls",
          "model_name": "HTMLModel",
          "model_module_version": "1.5.0",
          "state": {
            "_dom_classes": [],
            "_model_module": "@jupyter-widgets/controls",
            "_model_module_version": "1.5.0",
            "_model_name": "HTMLModel",
            "_view_count": null,
            "_view_module": "@jupyter-widgets/controls",
            "_view_module_version": "1.5.0",
            "_view_name": "HTMLView",
            "description": "",
            "description_tooltip": null,
            "layout": "IPY_MODEL_122c703cbf9a4786ace435612f80f762",
            "placeholder": "​",
            "style": "IPY_MODEL_8944413424e24927aead6a978e85ff59",
            "value": "Loading checkpoint shards: 100%"
          }
        },
        "f8760153eac9464780e448b9651a8113": {
          "model_module": "@jupyter-widgets/controls",
          "model_name": "FloatProgressModel",
          "model_module_version": "1.5.0",
          "state": {
            "_dom_classes": [],
            "_model_module": "@jupyter-widgets/controls",
            "_model_module_version": "1.5.0",
            "_model_name": "FloatProgressModel",
            "_view_count": null,
            "_view_module": "@jupyter-widgets/controls",
            "_view_module_version": "1.5.0",
            "_view_name": "ProgressView",
            "bar_style": "success",
            "description": "",
            "description_tooltip": null,
            "layout": "IPY_MODEL_46887134d46d494aad1ec95a229ad152",
            "max": 3,
            "min": 0,
            "orientation": "horizontal",
            "style": "IPY_MODEL_c3d7b234b120412c8dac10a0186210b4",
            "value": 3
          }
        },
        "c6eafb9b38c74d64a43f55ecbe16b1b8": {
          "model_module": "@jupyter-widgets/controls",
          "model_name": "HTMLModel",
          "model_module_version": "1.5.0",
          "state": {
            "_dom_classes": [],
            "_model_module": "@jupyter-widgets/controls",
            "_model_module_version": "1.5.0",
            "_model_name": "HTMLModel",
            "_view_count": null,
            "_view_module": "@jupyter-widgets/controls",
            "_view_module_version": "1.5.0",
            "_view_name": "HTMLView",
            "description": "",
            "description_tooltip": null,
            "layout": "IPY_MODEL_73c0d161ce6d4cd18b9cb76c547d4a55",
            "placeholder": "​",
            "style": "IPY_MODEL_f36b4ee0ecb0452493863e8e285614a8",
            "value": " 3/3 [01:09&lt;00:00, 22.77s/it]"
          }
        },
        "aceca93ccd914d6eb59c60854066bd72": {
          "model_module": "@jupyter-widgets/base",
          "model_name": "LayoutModel",
          "model_module_version": "1.2.0",
          "state": {
            "_model_module": "@jupyter-widgets/base",
            "_model_module_version": "1.2.0",
            "_model_name": "LayoutModel",
            "_view_count": null,
            "_view_module": "@jupyter-widgets/base",
            "_view_module_version": "1.2.0",
            "_view_name": "LayoutView",
            "align_content": null,
            "align_items": null,
            "align_self": null,
            "border": null,
            "bottom": null,
            "display": null,
            "flex": null,
            "flex_flow": null,
            "grid_area": null,
            "grid_auto_columns": null,
            "grid_auto_flow": null,
            "grid_auto_rows": null,
            "grid_column": null,
            "grid_gap": null,
            "grid_row": null,
            "grid_template_areas": null,
            "grid_template_columns": null,
            "grid_template_rows": null,
            "height": null,
            "justify_content": null,
            "justify_items": null,
            "left": null,
            "margin": null,
            "max_height": null,
            "max_width": null,
            "min_height": null,
            "min_width": null,
            "object_fit": null,
            "object_position": null,
            "order": null,
            "overflow": null,
            "overflow_x": null,
            "overflow_y": null,
            "padding": null,
            "right": null,
            "top": null,
            "visibility": null,
            "width": null
          }
        },
        "122c703cbf9a4786ace435612f80f762": {
          "model_module": "@jupyter-widgets/base",
          "model_name": "LayoutModel",
          "model_module_version": "1.2.0",
          "state": {
            "_model_module": "@jupyter-widgets/base",
            "_model_module_version": "1.2.0",
            "_model_name": "LayoutModel",
            "_view_count": null,
            "_view_module": "@jupyter-widgets/base",
            "_view_module_version": "1.2.0",
            "_view_name": "LayoutView",
            "align_content": null,
            "align_items": null,
            "align_self": null,
            "border": null,
            "bottom": null,
            "display": null,
            "flex": null,
            "flex_flow": null,
            "grid_area": null,
            "grid_auto_columns": null,
            "grid_auto_flow": null,
            "grid_auto_rows": null,
            "grid_column": null,
            "grid_gap": null,
            "grid_row": null,
            "grid_template_areas": null,
            "grid_template_columns": null,
            "grid_template_rows": null,
            "height": null,
            "justify_content": null,
            "justify_items": null,
            "left": null,
            "margin": null,
            "max_height": null,
            "max_width": null,
            "min_height": null,
            "min_width": null,
            "object_fit": null,
            "object_position": null,
            "order": null,
            "overflow": null,
            "overflow_x": null,
            "overflow_y": null,
            "padding": null,
            "right": null,
            "top": null,
            "visibility": null,
            "width": null
          }
        },
        "8944413424e24927aead6a978e85ff59": {
          "model_module": "@jupyter-widgets/controls",
          "model_name": "DescriptionStyleModel",
          "model_module_version": "1.5.0",
          "state": {
            "_model_module": "@jupyter-widgets/controls",
            "_model_module_version": "1.5.0",
            "_model_name": "DescriptionStyleModel",
            "_view_count": null,
            "_view_module": "@jupyter-widgets/base",
            "_view_module_version": "1.2.0",
            "_view_name": "StyleView",
            "description_width": ""
          }
        },
        "46887134d46d494aad1ec95a229ad152": {
          "model_module": "@jupyter-widgets/base",
          "model_name": "LayoutModel",
          "model_module_version": "1.2.0",
          "state": {
            "_model_module": "@jupyter-widgets/base",
            "_model_module_version": "1.2.0",
            "_model_name": "LayoutModel",
            "_view_count": null,
            "_view_module": "@jupyter-widgets/base",
            "_view_module_version": "1.2.0",
            "_view_name": "LayoutView",
            "align_content": null,
            "align_items": null,
            "align_self": null,
            "border": null,
            "bottom": null,
            "display": null,
            "flex": null,
            "flex_flow": null,
            "grid_area": null,
            "grid_auto_columns": null,
            "grid_auto_flow": null,
            "grid_auto_rows": null,
            "grid_column": null,
            "grid_gap": null,
            "grid_row": null,
            "grid_template_areas": null,
            "grid_template_columns": null,
            "grid_template_rows": null,
            "height": null,
            "justify_content": null,
            "justify_items": null,
            "left": null,
            "margin": null,
            "max_height": null,
            "max_width": null,
            "min_height": null,
            "min_width": null,
            "object_fit": null,
            "object_position": null,
            "order": null,
            "overflow": null,
            "overflow_x": null,
            "overflow_y": null,
            "padding": null,
            "right": null,
            "top": null,
            "visibility": null,
            "width": null
          }
        },
        "c3d7b234b120412c8dac10a0186210b4": {
          "model_module": "@jupyter-widgets/controls",
          "model_name": "ProgressStyleModel",
          "model_module_version": "1.5.0",
          "state": {
            "_model_module": "@jupyter-widgets/controls",
            "_model_module_version": "1.5.0",
            "_model_name": "ProgressStyleModel",
            "_view_count": null,
            "_view_module": "@jupyter-widgets/base",
            "_view_module_version": "1.2.0",
            "_view_name": "StyleView",
            "bar_color": null,
            "description_width": ""
          }
        },
        "73c0d161ce6d4cd18b9cb76c547d4a55": {
          "model_module": "@jupyter-widgets/base",
          "model_name": "LayoutModel",
          "model_module_version": "1.2.0",
          "state": {
            "_model_module": "@jupyter-widgets/base",
            "_model_module_version": "1.2.0",
            "_model_name": "LayoutModel",
            "_view_count": null,
            "_view_module": "@jupyter-widgets/base",
            "_view_module_version": "1.2.0",
            "_view_name": "LayoutView",
            "align_content": null,
            "align_items": null,
            "align_self": null,
            "border": null,
            "bottom": null,
            "display": null,
            "flex": null,
            "flex_flow": null,
            "grid_area": null,
            "grid_auto_columns": null,
            "grid_auto_flow": null,
            "grid_auto_rows": null,
            "grid_column": null,
            "grid_gap": null,
            "grid_row": null,
            "grid_template_areas": null,
            "grid_template_columns": null,
            "grid_template_rows": null,
            "height": null,
            "justify_content": null,
            "justify_items": null,
            "left": null,
            "margin": null,
            "max_height": null,
            "max_width": null,
            "min_height": null,
            "min_width": null,
            "object_fit": null,
            "object_position": null,
            "order": null,
            "overflow": null,
            "overflow_x": null,
            "overflow_y": null,
            "padding": null,
            "right": null,
            "top": null,
            "visibility": null,
            "width": null
          }
        },
        "f36b4ee0ecb0452493863e8e285614a8": {
          "model_module": "@jupyter-widgets/controls",
          "model_name": "DescriptionStyleModel",
          "model_module_version": "1.5.0",
          "state": {
            "_model_module": "@jupyter-widgets/controls",
            "_model_module_version": "1.5.0",
            "_model_name": "DescriptionStyleModel",
            "_view_count": null,
            "_view_module": "@jupyter-widgets/base",
            "_view_module_version": "1.2.0",
            "_view_name": "StyleView",
            "description_width": ""
          }
        },
        "0ac3623a2acf47ffb74b7973b8502a78": {
          "model_module": "@jupyter-widgets/controls",
          "model_name": "HBoxModel",
          "model_module_version": "1.5.0",
          "state": {
            "_dom_classes": [],
            "_model_module": "@jupyter-widgets/controls",
            "_model_module_version": "1.5.0",
            "_model_name": "HBoxModel",
            "_view_count": null,
            "_view_module": "@jupyter-widgets/controls",
            "_view_module_version": "1.5.0",
            "_view_name": "HBoxView",
            "box_style": "",
            "children": [
              "IPY_MODEL_031f798b134c4ff8a179ad90a51dd0fd",
              "IPY_MODEL_d4909cb2f80345089d4e0a8f3980dac4",
              "IPY_MODEL_e9f549b1e9694699b9d6540dae18a531"
            ],
            "layout": "IPY_MODEL_0ad6f018e35d4d1fbea0dc51b040b49a"
          }
        },
        "031f798b134c4ff8a179ad90a51dd0fd": {
          "model_module": "@jupyter-widgets/controls",
          "model_name": "HTMLModel",
          "model_module_version": "1.5.0",
          "state": {
            "_dom_classes": [],
            "_model_module": "@jupyter-widgets/controls",
            "_model_module_version": "1.5.0",
            "_model_name": "HTMLModel",
            "_view_count": null,
            "_view_module": "@jupyter-widgets/controls",
            "_view_module_version": "1.5.0",
            "_view_name": "HTMLView",
            "description": "",
            "description_tooltip": null,
            "layout": "IPY_MODEL_9d11749202444eb2aee0fcd0e46c9611",
            "placeholder": "​",
            "style": "IPY_MODEL_985bfc829224468b8fce93295c098fae",
            "value": "generation_config.json: 100%"
          }
        },
        "d4909cb2f80345089d4e0a8f3980dac4": {
          "model_module": "@jupyter-widgets/controls",
          "model_name": "FloatProgressModel",
          "model_module_version": "1.5.0",
          "state": {
            "_dom_classes": [],
            "_model_module": "@jupyter-widgets/controls",
            "_model_module_version": "1.5.0",
            "_model_name": "FloatProgressModel",
            "_view_count": null,
            "_view_module": "@jupyter-widgets/controls",
            "_view_module_version": "1.5.0",
            "_view_name": "ProgressView",
            "bar_style": "success",
            "description": "",
            "description_tooltip": null,
            "layout": "IPY_MODEL_e4c271ff879d4ac68c9b8a3955ce2217",
            "max": 116,
            "min": 0,
            "orientation": "horizontal",
            "style": "IPY_MODEL_620d1a8e4d32436f99966cf044a8c727",
            "value": 116
          }
        },
        "e9f549b1e9694699b9d6540dae18a531": {
          "model_module": "@jupyter-widgets/controls",
          "model_name": "HTMLModel",
          "model_module_version": "1.5.0",
          "state": {
            "_dom_classes": [],
            "_model_module": "@jupyter-widgets/controls",
            "_model_module_version": "1.5.0",
            "_model_name": "HTMLModel",
            "_view_count": null,
            "_view_module": "@jupyter-widgets/controls",
            "_view_module_version": "1.5.0",
            "_view_name": "HTMLView",
            "description": "",
            "description_tooltip": null,
            "layout": "IPY_MODEL_c7c126fcaf8d42488444463c717b11b1",
            "placeholder": "​",
            "style": "IPY_MODEL_69b7c9b0761f441f9766fac7b17ee88f",
            "value": " 116/116 [00:00&lt;00:00, 6.01kB/s]"
          }
        },
        "0ad6f018e35d4d1fbea0dc51b040b49a": {
          "model_module": "@jupyter-widgets/base",
          "model_name": "LayoutModel",
          "model_module_version": "1.2.0",
          "state": {
            "_model_module": "@jupyter-widgets/base",
            "_model_module_version": "1.2.0",
            "_model_name": "LayoutModel",
            "_view_count": null,
            "_view_module": "@jupyter-widgets/base",
            "_view_module_version": "1.2.0",
            "_view_name": "LayoutView",
            "align_content": null,
            "align_items": null,
            "align_self": null,
            "border": null,
            "bottom": null,
            "display": null,
            "flex": null,
            "flex_flow": null,
            "grid_area": null,
            "grid_auto_columns": null,
            "grid_auto_flow": null,
            "grid_auto_rows": null,
            "grid_column": null,
            "grid_gap": null,
            "grid_row": null,
            "grid_template_areas": null,
            "grid_template_columns": null,
            "grid_template_rows": null,
            "height": null,
            "justify_content": null,
            "justify_items": null,
            "left": null,
            "margin": null,
            "max_height": null,
            "max_width": null,
            "min_height": null,
            "min_width": null,
            "object_fit": null,
            "object_position": null,
            "order": null,
            "overflow": null,
            "overflow_x": null,
            "overflow_y": null,
            "padding": null,
            "right": null,
            "top": null,
            "visibility": null,
            "width": null
          }
        },
        "9d11749202444eb2aee0fcd0e46c9611": {
          "model_module": "@jupyter-widgets/base",
          "model_name": "LayoutModel",
          "model_module_version": "1.2.0",
          "state": {
            "_model_module": "@jupyter-widgets/base",
            "_model_module_version": "1.2.0",
            "_model_name": "LayoutModel",
            "_view_count": null,
            "_view_module": "@jupyter-widgets/base",
            "_view_module_version": "1.2.0",
            "_view_name": "LayoutView",
            "align_content": null,
            "align_items": null,
            "align_self": null,
            "border": null,
            "bottom": null,
            "display": null,
            "flex": null,
            "flex_flow": null,
            "grid_area": null,
            "grid_auto_columns": null,
            "grid_auto_flow": null,
            "grid_auto_rows": null,
            "grid_column": null,
            "grid_gap": null,
            "grid_row": null,
            "grid_template_areas": null,
            "grid_template_columns": null,
            "grid_template_rows": null,
            "height": null,
            "justify_content": null,
            "justify_items": null,
            "left": null,
            "margin": null,
            "max_height": null,
            "max_width": null,
            "min_height": null,
            "min_width": null,
            "object_fit": null,
            "object_position": null,
            "order": null,
            "overflow": null,
            "overflow_x": null,
            "overflow_y": null,
            "padding": null,
            "right": null,
            "top": null,
            "visibility": null,
            "width": null
          }
        },
        "985bfc829224468b8fce93295c098fae": {
          "model_module": "@jupyter-widgets/controls",
          "model_name": "DescriptionStyleModel",
          "model_module_version": "1.5.0",
          "state": {
            "_model_module": "@jupyter-widgets/controls",
            "_model_module_version": "1.5.0",
            "_model_name": "DescriptionStyleModel",
            "_view_count": null,
            "_view_module": "@jupyter-widgets/base",
            "_view_module_version": "1.2.0",
            "_view_name": "StyleView",
            "description_width": ""
          }
        },
        "e4c271ff879d4ac68c9b8a3955ce2217": {
          "model_module": "@jupyter-widgets/base",
          "model_name": "LayoutModel",
          "model_module_version": "1.2.0",
          "state": {
            "_model_module": "@jupyter-widgets/base",
            "_model_module_version": "1.2.0",
            "_model_name": "LayoutModel",
            "_view_count": null,
            "_view_module": "@jupyter-widgets/base",
            "_view_module_version": "1.2.0",
            "_view_name": "LayoutView",
            "align_content": null,
            "align_items": null,
            "align_self": null,
            "border": null,
            "bottom": null,
            "display": null,
            "flex": null,
            "flex_flow": null,
            "grid_area": null,
            "grid_auto_columns": null,
            "grid_auto_flow": null,
            "grid_auto_rows": null,
            "grid_column": null,
            "grid_gap": null,
            "grid_row": null,
            "grid_template_areas": null,
            "grid_template_columns": null,
            "grid_template_rows": null,
            "height": null,
            "justify_content": null,
            "justify_items": null,
            "left": null,
            "margin": null,
            "max_height": null,
            "max_width": null,
            "min_height": null,
            "min_width": null,
            "object_fit": null,
            "object_position": null,
            "order": null,
            "overflow": null,
            "overflow_x": null,
            "overflow_y": null,
            "padding": null,
            "right": null,
            "top": null,
            "visibility": null,
            "width": null
          }
        },
        "620d1a8e4d32436f99966cf044a8c727": {
          "model_module": "@jupyter-widgets/controls",
          "model_name": "ProgressStyleModel",
          "model_module_version": "1.5.0",
          "state": {
            "_model_module": "@jupyter-widgets/controls",
            "_model_module_version": "1.5.0",
            "_model_name": "ProgressStyleModel",
            "_view_count": null,
            "_view_module": "@jupyter-widgets/base",
            "_view_module_version": "1.2.0",
            "_view_name": "StyleView",
            "bar_color": null,
            "description_width": ""
          }
        },
        "c7c126fcaf8d42488444463c717b11b1": {
          "model_module": "@jupyter-widgets/base",
          "model_name": "LayoutModel",
          "model_module_version": "1.2.0",
          "state": {
            "_model_module": "@jupyter-widgets/base",
            "_model_module_version": "1.2.0",
            "_model_name": "LayoutModel",
            "_view_count": null,
            "_view_module": "@jupyter-widgets/base",
            "_view_module_version": "1.2.0",
            "_view_name": "LayoutView",
            "align_content": null,
            "align_items": null,
            "align_self": null,
            "border": null,
            "bottom": null,
            "display": null,
            "flex": null,
            "flex_flow": null,
            "grid_area": null,
            "grid_auto_columns": null,
            "grid_auto_flow": null,
            "grid_auto_rows": null,
            "grid_column": null,
            "grid_gap": null,
            "grid_row": null,
            "grid_template_areas": null,
            "grid_template_columns": null,
            "grid_template_rows": null,
            "height": null,
            "justify_content": null,
            "justify_items": null,
            "left": null,
            "margin": null,
            "max_height": null,
            "max_width": null,
            "min_height": null,
            "min_width": null,
            "object_fit": null,
            "object_position": null,
            "order": null,
            "overflow": null,
            "overflow_x": null,
            "overflow_y": null,
            "padding": null,
            "right": null,
            "top": null,
            "visibility": null,
            "width": null
          }
        },
        "69b7c9b0761f441f9766fac7b17ee88f": {
          "model_module": "@jupyter-widgets/controls",
          "model_name": "DescriptionStyleModel",
          "model_module_version": "1.5.0",
          "state": {
            "_model_module": "@jupyter-widgets/controls",
            "_model_module_version": "1.5.0",
            "_model_name": "DescriptionStyleModel",
            "_view_count": null,
            "_view_module": "@jupyter-widgets/base",
            "_view_module_version": "1.2.0",
            "_view_name": "StyleView",
            "description_width": ""
          }
        },
        "ebf6902c40074da1994f9c166f8877a1": {
          "model_module": "@jupyter-widgets/controls",
          "model_name": "HBoxModel",
          "model_module_version": "1.5.0",
          "state": {
            "_dom_classes": [],
            "_model_module": "@jupyter-widgets/controls",
            "_model_module_version": "1.5.0",
            "_model_name": "HBoxModel",
            "_view_count": null,
            "_view_module": "@jupyter-widgets/controls",
            "_view_module_version": "1.5.0",
            "_view_name": "HBoxView",
            "box_style": "",
            "children": [
              "IPY_MODEL_78ade07ff74e474eb2a88b4f440d1d4d",
              "IPY_MODEL_f8a3ae6331a44e80bf3d1b743bce7b58",
              "IPY_MODEL_39bde194f5d04b59bfba8b55ec8de91f"
            ],
            "layout": "IPY_MODEL_50a671e745bf4074816a4a0bdf3820d9"
          }
        },
        "78ade07ff74e474eb2a88b4f440d1d4d": {
          "model_module": "@jupyter-widgets/controls",
          "model_name": "HTMLModel",
          "model_module_version": "1.5.0",
          "state": {
            "_dom_classes": [],
            "_model_module": "@jupyter-widgets/controls",
            "_model_module_version": "1.5.0",
            "_model_name": "HTMLModel",
            "_view_count": null,
            "_view_module": "@jupyter-widgets/controls",
            "_view_module_version": "1.5.0",
            "_view_name": "HTMLView",
            "description": "",
            "description_tooltip": null,
            "layout": "IPY_MODEL_81c264b856e94550bd393802611e76e3",
            "placeholder": "​",
            "style": "IPY_MODEL_f84c1c67af794fafab18a0389ffeabdf",
            "value": "tokenizer_config.json: 100%"
          }
        },
        "f8a3ae6331a44e80bf3d1b743bce7b58": {
          "model_module": "@jupyter-widgets/controls",
          "model_name": "FloatProgressModel",
          "model_module_version": "1.5.0",
          "state": {
            "_dom_classes": [],
            "_model_module": "@jupyter-widgets/controls",
            "_model_module_version": "1.5.0",
            "_model_name": "FloatProgressModel",
            "_view_count": null,
            "_view_module": "@jupyter-widgets/controls",
            "_view_module_version": "1.5.0",
            "_view_name": "ProgressView",
            "bar_style": "success",
            "description": "",
            "description_tooltip": null,
            "layout": "IPY_MODEL_0ca973f9ed474595889b1104590cb860",
            "max": 55351,
            "min": 0,
            "orientation": "horizontal",
            "style": "IPY_MODEL_1aa120bd0371403fa00574fa28a8b5dc",
            "value": 55351
          }
        },
        "39bde194f5d04b59bfba8b55ec8de91f": {
          "model_module": "@jupyter-widgets/controls",
          "model_name": "HTMLModel",
          "model_module_version": "1.5.0",
          "state": {
            "_dom_classes": [],
            "_model_module": "@jupyter-widgets/controls",
            "_model_module_version": "1.5.0",
            "_model_name": "HTMLModel",
            "_view_count": null,
            "_view_module": "@jupyter-widgets/controls",
            "_view_module_version": "1.5.0",
            "_view_name": "HTMLView",
            "description": "",
            "description_tooltip": null,
            "layout": "IPY_MODEL_5820c7bc866947d694c5412dac1b4225",
            "placeholder": "​",
            "style": "IPY_MODEL_0abe377e81e64112857ae97962af6f14",
            "value": " 55.4k/55.4k [00:00&lt;00:00, 2.32MB/s]"
          }
        },
        "50a671e745bf4074816a4a0bdf3820d9": {
          "model_module": "@jupyter-widgets/base",
          "model_name": "LayoutModel",
          "model_module_version": "1.2.0",
          "state": {
            "_model_module": "@jupyter-widgets/base",
            "_model_module_version": "1.2.0",
            "_model_name": "LayoutModel",
            "_view_count": null,
            "_view_module": "@jupyter-widgets/base",
            "_view_module_version": "1.2.0",
            "_view_name": "LayoutView",
            "align_content": null,
            "align_items": null,
            "align_self": null,
            "border": null,
            "bottom": null,
            "display": null,
            "flex": null,
            "flex_flow": null,
            "grid_area": null,
            "grid_auto_columns": null,
            "grid_auto_flow": null,
            "grid_auto_rows": null,
            "grid_column": null,
            "grid_gap": null,
            "grid_row": null,
            "grid_template_areas": null,
            "grid_template_columns": null,
            "grid_template_rows": null,
            "height": null,
            "justify_content": null,
            "justify_items": null,
            "left": null,
            "margin": null,
            "max_height": null,
            "max_width": null,
            "min_height": null,
            "min_width": null,
            "object_fit": null,
            "object_position": null,
            "order": null,
            "overflow": null,
            "overflow_x": null,
            "overflow_y": null,
            "padding": null,
            "right": null,
            "top": null,
            "visibility": null,
            "width": null
          }
        },
        "81c264b856e94550bd393802611e76e3": {
          "model_module": "@jupyter-widgets/base",
          "model_name": "LayoutModel",
          "model_module_version": "1.2.0",
          "state": {
            "_model_module": "@jupyter-widgets/base",
            "_model_module_version": "1.2.0",
            "_model_name": "LayoutModel",
            "_view_count": null,
            "_view_module": "@jupyter-widgets/base",
            "_view_module_version": "1.2.0",
            "_view_name": "LayoutView",
            "align_content": null,
            "align_items": null,
            "align_self": null,
            "border": null,
            "bottom": null,
            "display": null,
            "flex": null,
            "flex_flow": null,
            "grid_area": null,
            "grid_auto_columns": null,
            "grid_auto_flow": null,
            "grid_auto_rows": null,
            "grid_column": null,
            "grid_gap": null,
            "grid_row": null,
            "grid_template_areas": null,
            "grid_template_columns": null,
            "grid_template_rows": null,
            "height": null,
            "justify_content": null,
            "justify_items": null,
            "left": null,
            "margin": null,
            "max_height": null,
            "max_width": null,
            "min_height": null,
            "min_width": null,
            "object_fit": null,
            "object_position": null,
            "order": null,
            "overflow": null,
            "overflow_x": null,
            "overflow_y": null,
            "padding": null,
            "right": null,
            "top": null,
            "visibility": null,
            "width": null
          }
        },
        "f84c1c67af794fafab18a0389ffeabdf": {
          "model_module": "@jupyter-widgets/controls",
          "model_name": "DescriptionStyleModel",
          "model_module_version": "1.5.0",
          "state": {
            "_model_module": "@jupyter-widgets/controls",
            "_model_module_version": "1.5.0",
            "_model_name": "DescriptionStyleModel",
            "_view_count": null,
            "_view_module": "@jupyter-widgets/base",
            "_view_module_version": "1.2.0",
            "_view_name": "StyleView",
            "description_width": ""
          }
        },
        "0ca973f9ed474595889b1104590cb860": {
          "model_module": "@jupyter-widgets/base",
          "model_name": "LayoutModel",
          "model_module_version": "1.2.0",
          "state": {
            "_model_module": "@jupyter-widgets/base",
            "_model_module_version": "1.2.0",
            "_model_name": "LayoutModel",
            "_view_count": null,
            "_view_module": "@jupyter-widgets/base",
            "_view_module_version": "1.2.0",
            "_view_name": "LayoutView",
            "align_content": null,
            "align_items": null,
            "align_self": null,
            "border": null,
            "bottom": null,
            "display": null,
            "flex": null,
            "flex_flow": null,
            "grid_area": null,
            "grid_auto_columns": null,
            "grid_auto_flow": null,
            "grid_auto_rows": null,
            "grid_column": null,
            "grid_gap": null,
            "grid_row": null,
            "grid_template_areas": null,
            "grid_template_columns": null,
            "grid_template_rows": null,
            "height": null,
            "justify_content": null,
            "justify_items": null,
            "left": null,
            "margin": null,
            "max_height": null,
            "max_width": null,
            "min_height": null,
            "min_width": null,
            "object_fit": null,
            "object_position": null,
            "order": null,
            "overflow": null,
            "overflow_x": null,
            "overflow_y": null,
            "padding": null,
            "right": null,
            "top": null,
            "visibility": null,
            "width": null
          }
        },
        "1aa120bd0371403fa00574fa28a8b5dc": {
          "model_module": "@jupyter-widgets/controls",
          "model_name": "ProgressStyleModel",
          "model_module_version": "1.5.0",
          "state": {
            "_model_module": "@jupyter-widgets/controls",
            "_model_module_version": "1.5.0",
            "_model_name": "ProgressStyleModel",
            "_view_count": null,
            "_view_module": "@jupyter-widgets/base",
            "_view_module_version": "1.2.0",
            "_view_name": "StyleView",
            "bar_color": null,
            "description_width": ""
          }
        },
        "5820c7bc866947d694c5412dac1b4225": {
          "model_module": "@jupyter-widgets/base",
          "model_name": "LayoutModel",
          "model_module_version": "1.2.0",
          "state": {
            "_model_module": "@jupyter-widgets/base",
            "_model_module_version": "1.2.0",
            "_model_name": "LayoutModel",
            "_view_count": null,
            "_view_module": "@jupyter-widgets/base",
            "_view_module_version": "1.2.0",
            "_view_name": "LayoutView",
            "align_content": null,
            "align_items": null,
            "align_self": null,
            "border": null,
            "bottom": null,
            "display": null,
            "flex": null,
            "flex_flow": null,
            "grid_area": null,
            "grid_auto_columns": null,
            "grid_auto_flow": null,
            "grid_auto_rows": null,
            "grid_column": null,
            "grid_gap": null,
            "grid_row": null,
            "grid_template_areas": null,
            "grid_template_columns": null,
            "grid_template_rows": null,
            "height": null,
            "justify_content": null,
            "justify_items": null,
            "left": null,
            "margin": null,
            "max_height": null,
            "max_width": null,
            "min_height": null,
            "min_width": null,
            "object_fit": null,
            "object_position": null,
            "order": null,
            "overflow": null,
            "overflow_x": null,
            "overflow_y": null,
            "padding": null,
            "right": null,
            "top": null,
            "visibility": null,
            "width": null
          }
        },
        "0abe377e81e64112857ae97962af6f14": {
          "model_module": "@jupyter-widgets/controls",
          "model_name": "DescriptionStyleModel",
          "model_module_version": "1.5.0",
          "state": {
            "_model_module": "@jupyter-widgets/controls",
            "_model_module_version": "1.5.0",
            "_model_name": "DescriptionStyleModel",
            "_view_count": null,
            "_view_module": "@jupyter-widgets/base",
            "_view_module_version": "1.2.0",
            "_view_name": "StyleView",
            "description_width": ""
          }
        },
        "4d9a8ac717cc475694e4a468d02d91e6": {
          "model_module": "@jupyter-widgets/controls",
          "model_name": "HBoxModel",
          "model_module_version": "1.5.0",
          "state": {
            "_dom_classes": [],
            "_model_module": "@jupyter-widgets/controls",
            "_model_module_version": "1.5.0",
            "_model_name": "HBoxModel",
            "_view_count": null,
            "_view_module": "@jupyter-widgets/controls",
            "_view_module_version": "1.5.0",
            "_view_name": "HBoxView",
            "box_style": "",
            "children": [
              "IPY_MODEL_e491d824f74a45dd92c2ddebf3c22c62",
              "IPY_MODEL_0f71506216b240518f9c2aec898ce853",
              "IPY_MODEL_ab8a0181e59d4a19a772583b14235372"
            ],
            "layout": "IPY_MODEL_6a067b53aaec4e52a42d262745b51d26"
          }
        },
        "e491d824f74a45dd92c2ddebf3c22c62": {
          "model_module": "@jupyter-widgets/controls",
          "model_name": "HTMLModel",
          "model_module_version": "1.5.0",
          "state": {
            "_dom_classes": [],
            "_model_module": "@jupyter-widgets/controls",
            "_model_module_version": "1.5.0",
            "_model_name": "HTMLModel",
            "_view_count": null,
            "_view_module": "@jupyter-widgets/controls",
            "_view_module_version": "1.5.0",
            "_view_name": "HTMLView",
            "description": "",
            "description_tooltip": null,
            "layout": "IPY_MODEL_e5a830d9297f4e93af152f7f575d56bc",
            "placeholder": "​",
            "style": "IPY_MODEL_7894dfb3fa4e4d479e863f330d978e56",
            "value": "tokenizer.json: 100%"
          }
        },
        "0f71506216b240518f9c2aec898ce853": {
          "model_module": "@jupyter-widgets/controls",
          "model_name": "FloatProgressModel",
          "model_module_version": "1.5.0",
          "state": {
            "_dom_classes": [],
            "_model_module": "@jupyter-widgets/controls",
            "_model_module_version": "1.5.0",
            "_model_name": "FloatProgressModel",
            "_view_count": null,
            "_view_module": "@jupyter-widgets/controls",
            "_view_module_version": "1.5.0",
            "_view_name": "ProgressView",
            "bar_style": "success",
            "description": "",
            "description_tooltip": null,
            "layout": "IPY_MODEL_2bb15f267cea4c31876b473b3681d62b",
            "max": 9085657,
            "min": 0,
            "orientation": "horizontal",
            "style": "IPY_MODEL_882d2c02683a453ba98cd82f90b8a137",
            "value": 9085657
          }
        },
        "ab8a0181e59d4a19a772583b14235372": {
          "model_module": "@jupyter-widgets/controls",
          "model_name": "HTMLModel",
          "model_module_version": "1.5.0",
          "state": {
            "_dom_classes": [],
            "_model_module": "@jupyter-widgets/controls",
            "_model_module_version": "1.5.0",
            "_model_name": "HTMLModel",
            "_view_count": null,
            "_view_module": "@jupyter-widgets/controls",
            "_view_module_version": "1.5.0",
            "_view_name": "HTMLView",
            "description": "",
            "description_tooltip": null,
            "layout": "IPY_MODEL_b8460a4790244046b3763d8560deb407",
            "placeholder": "​",
            "style": "IPY_MODEL_1aa62e1f0c204e12a4401a0231b19388",
            "value": " 9.09M/9.09M [00:00&lt;00:00, 32.9MB/s]"
          }
        },
        "6a067b53aaec4e52a42d262745b51d26": {
          "model_module": "@jupyter-widgets/base",
          "model_name": "LayoutModel",
          "model_module_version": "1.2.0",
          "state": {
            "_model_module": "@jupyter-widgets/base",
            "_model_module_version": "1.2.0",
            "_model_name": "LayoutModel",
            "_view_count": null,
            "_view_module": "@jupyter-widgets/base",
            "_view_module_version": "1.2.0",
            "_view_name": "LayoutView",
            "align_content": null,
            "align_items": null,
            "align_self": null,
            "border": null,
            "bottom": null,
            "display": null,
            "flex": null,
            "flex_flow": null,
            "grid_area": null,
            "grid_auto_columns": null,
            "grid_auto_flow": null,
            "grid_auto_rows": null,
            "grid_column": null,
            "grid_gap": null,
            "grid_row": null,
            "grid_template_areas": null,
            "grid_template_columns": null,
            "grid_template_rows": null,
            "height": null,
            "justify_content": null,
            "justify_items": null,
            "left": null,
            "margin": null,
            "max_height": null,
            "max_width": null,
            "min_height": null,
            "min_width": null,
            "object_fit": null,
            "object_position": null,
            "order": null,
            "overflow": null,
            "overflow_x": null,
            "overflow_y": null,
            "padding": null,
            "right": null,
            "top": null,
            "visibility": null,
            "width": null
          }
        },
        "e5a830d9297f4e93af152f7f575d56bc": {
          "model_module": "@jupyter-widgets/base",
          "model_name": "LayoutModel",
          "model_module_version": "1.2.0",
          "state": {
            "_model_module": "@jupyter-widgets/base",
            "_model_module_version": "1.2.0",
            "_model_name": "LayoutModel",
            "_view_count": null,
            "_view_module": "@jupyter-widgets/base",
            "_view_module_version": "1.2.0",
            "_view_name": "LayoutView",
            "align_content": null,
            "align_items": null,
            "align_self": null,
            "border": null,
            "bottom": null,
            "display": null,
            "flex": null,
            "flex_flow": null,
            "grid_area": null,
            "grid_auto_columns": null,
            "grid_auto_flow": null,
            "grid_auto_rows": null,
            "grid_column": null,
            "grid_gap": null,
            "grid_row": null,
            "grid_template_areas": null,
            "grid_template_columns": null,
            "grid_template_rows": null,
            "height": null,
            "justify_content": null,
            "justify_items": null,
            "left": null,
            "margin": null,
            "max_height": null,
            "max_width": null,
            "min_height": null,
            "min_width": null,
            "object_fit": null,
            "object_position": null,
            "order": null,
            "overflow": null,
            "overflow_x": null,
            "overflow_y": null,
            "padding": null,
            "right": null,
            "top": null,
            "visibility": null,
            "width": null
          }
        },
        "7894dfb3fa4e4d479e863f330d978e56": {
          "model_module": "@jupyter-widgets/controls",
          "model_name": "DescriptionStyleModel",
          "model_module_version": "1.5.0",
          "state": {
            "_model_module": "@jupyter-widgets/controls",
            "_model_module_version": "1.5.0",
            "_model_name": "DescriptionStyleModel",
            "_view_count": null,
            "_view_module": "@jupyter-widgets/base",
            "_view_module_version": "1.2.0",
            "_view_name": "StyleView",
            "description_width": ""
          }
        },
        "2bb15f267cea4c31876b473b3681d62b": {
          "model_module": "@jupyter-widgets/base",
          "model_name": "LayoutModel",
          "model_module_version": "1.2.0",
          "state": {
            "_model_module": "@jupyter-widgets/base",
            "_model_module_version": "1.2.0",
            "_model_name": "LayoutModel",
            "_view_count": null,
            "_view_module": "@jupyter-widgets/base",
            "_view_module_version": "1.2.0",
            "_view_name": "LayoutView",
            "align_content": null,
            "align_items": null,
            "align_self": null,
            "border": null,
            "bottom": null,
            "display": null,
            "flex": null,
            "flex_flow": null,
            "grid_area": null,
            "grid_auto_columns": null,
            "grid_auto_flow": null,
            "grid_auto_rows": null,
            "grid_column": null,
            "grid_gap": null,
            "grid_row": null,
            "grid_template_areas": null,
            "grid_template_columns": null,
            "grid_template_rows": null,
            "height": null,
            "justify_content": null,
            "justify_items": null,
            "left": null,
            "margin": null,
            "max_height": null,
            "max_width": null,
            "min_height": null,
            "min_width": null,
            "object_fit": null,
            "object_position": null,
            "order": null,
            "overflow": null,
            "overflow_x": null,
            "overflow_y": null,
            "padding": null,
            "right": null,
            "top": null,
            "visibility": null,
            "width": null
          }
        },
        "882d2c02683a453ba98cd82f90b8a137": {
          "model_module": "@jupyter-widgets/controls",
          "model_name": "ProgressStyleModel",
          "model_module_version": "1.5.0",
          "state": {
            "_model_module": "@jupyter-widgets/controls",
            "_model_module_version": "1.5.0",
            "_model_name": "ProgressStyleModel",
            "_view_count": null,
            "_view_module": "@jupyter-widgets/base",
            "_view_module_version": "1.2.0",
            "_view_name": "StyleView",
            "bar_color": null,
            "description_width": ""
          }
        },
        "b8460a4790244046b3763d8560deb407": {
          "model_module": "@jupyter-widgets/base",
          "model_name": "LayoutModel",
          "model_module_version": "1.2.0",
          "state": {
            "_model_module": "@jupyter-widgets/base",
            "_model_module_version": "1.2.0",
            "_model_name": "LayoutModel",
            "_view_count": null,
            "_view_module": "@jupyter-widgets/base",
            "_view_module_version": "1.2.0",
            "_view_name": "LayoutView",
            "align_content": null,
            "align_items": null,
            "align_self": null,
            "border": null,
            "bottom": null,
            "display": null,
            "flex": null,
            "flex_flow": null,
            "grid_area": null,
            "grid_auto_columns": null,
            "grid_auto_flow": null,
            "grid_auto_rows": null,
            "grid_column": null,
            "grid_gap": null,
            "grid_row": null,
            "grid_template_areas": null,
            "grid_template_columns": null,
            "grid_template_rows": null,
            "height": null,
            "justify_content": null,
            "justify_items": null,
            "left": null,
            "margin": null,
            "max_height": null,
            "max_width": null,
            "min_height": null,
            "min_width": null,
            "object_fit": null,
            "object_position": null,
            "order": null,
            "overflow": null,
            "overflow_x": null,
            "overflow_y": null,
            "padding": null,
            "right": null,
            "top": null,
            "visibility": null,
            "width": null
          }
        },
        "1aa62e1f0c204e12a4401a0231b19388": {
          "model_module": "@jupyter-widgets/controls",
          "model_name": "DescriptionStyleModel",
          "model_module_version": "1.5.0",
          "state": {
            "_model_module": "@jupyter-widgets/controls",
            "_model_module_version": "1.5.0",
            "_model_name": "DescriptionStyleModel",
            "_view_count": null,
            "_view_module": "@jupyter-widgets/base",
            "_view_module_version": "1.2.0",
            "_view_name": "StyleView",
            "description_width": ""
          }
        },
        "70b82525f1de4a239b87cb140f380d82": {
          "model_module": "@jupyter-widgets/controls",
          "model_name": "HBoxModel",
          "model_module_version": "1.5.0",
          "state": {
            "_dom_classes": [],
            "_model_module": "@jupyter-widgets/controls",
            "_model_module_version": "1.5.0",
            "_model_name": "HBoxModel",
            "_view_count": null,
            "_view_module": "@jupyter-widgets/controls",
            "_view_module_version": "1.5.0",
            "_view_name": "HBoxView",
            "box_style": "",
            "children": [
              "IPY_MODEL_6a9df6a2d2e342f9abfedc98471d6ce2",
              "IPY_MODEL_fbcecdfa532f4e83ba31113faf41cb81",
              "IPY_MODEL_3c759247942a47c9b783484a04c02607"
            ],
            "layout": "IPY_MODEL_ed5a33fd1fcc47b9a5c58d9504617c6f"
          }
        },
        "6a9df6a2d2e342f9abfedc98471d6ce2": {
          "model_module": "@jupyter-widgets/controls",
          "model_name": "HTMLModel",
          "model_module_version": "1.5.0",
          "state": {
            "_dom_classes": [],
            "_model_module": "@jupyter-widgets/controls",
            "_model_module_version": "1.5.0",
            "_model_name": "HTMLModel",
            "_view_count": null,
            "_view_module": "@jupyter-widgets/controls",
            "_view_module_version": "1.5.0",
            "_view_name": "HTMLView",
            "description": "",
            "description_tooltip": null,
            "layout": "IPY_MODEL_8ab00c14e05a4cd1837e37b61b68c12d",
            "placeholder": "​",
            "style": "IPY_MODEL_6a7e0b6c5deb4946b0626346b92dee9a",
            "value": "special_tokens_map.json: 100%"
          }
        },
        "fbcecdfa532f4e83ba31113faf41cb81": {
          "model_module": "@jupyter-widgets/controls",
          "model_name": "FloatProgressModel",
          "model_module_version": "1.5.0",
          "state": {
            "_dom_classes": [],
            "_model_module": "@jupyter-widgets/controls",
            "_model_module_version": "1.5.0",
            "_model_name": "FloatProgressModel",
            "_view_count": null,
            "_view_module": "@jupyter-widgets/controls",
            "_view_module_version": "1.5.0",
            "_view_name": "ProgressView",
            "bar_style": "success",
            "description": "",
            "description_tooltip": null,
            "layout": "IPY_MODEL_7254e62f0b464ae3a2315c9e166a3927",
            "max": 296,
            "min": 0,
            "orientation": "horizontal",
            "style": "IPY_MODEL_f8bbf0a67b7e46f785e5b04f8aa4bfa4",
            "value": 296
          }
        },
        "3c759247942a47c9b783484a04c02607": {
          "model_module": "@jupyter-widgets/controls",
          "model_name": "HTMLModel",
          "model_module_version": "1.5.0",
          "state": {
            "_dom_classes": [],
            "_model_module": "@jupyter-widgets/controls",
            "_model_module_version": "1.5.0",
            "_model_name": "HTMLModel",
            "_view_count": null,
            "_view_module": "@jupyter-widgets/controls",
            "_view_module_version": "1.5.0",
            "_view_name": "HTMLView",
            "description": "",
            "description_tooltip": null,
            "layout": "IPY_MODEL_2f1509b114a74df4b8c191edb05e227d",
            "placeholder": "​",
            "style": "IPY_MODEL_7bb039c0d554451ebebf2ad0ed3b21e0",
            "value": " 296/296 [00:00&lt;00:00, 14.4kB/s]"
          }
        },
        "ed5a33fd1fcc47b9a5c58d9504617c6f": {
          "model_module": "@jupyter-widgets/base",
          "model_name": "LayoutModel",
          "model_module_version": "1.2.0",
          "state": {
            "_model_module": "@jupyter-widgets/base",
            "_model_module_version": "1.2.0",
            "_model_name": "LayoutModel",
            "_view_count": null,
            "_view_module": "@jupyter-widgets/base",
            "_view_module_version": "1.2.0",
            "_view_name": "LayoutView",
            "align_content": null,
            "align_items": null,
            "align_self": null,
            "border": null,
            "bottom": null,
            "display": null,
            "flex": null,
            "flex_flow": null,
            "grid_area": null,
            "grid_auto_columns": null,
            "grid_auto_flow": null,
            "grid_auto_rows": null,
            "grid_column": null,
            "grid_gap": null,
            "grid_row": null,
            "grid_template_areas": null,
            "grid_template_columns": null,
            "grid_template_rows": null,
            "height": null,
            "justify_content": null,
            "justify_items": null,
            "left": null,
            "margin": null,
            "max_height": null,
            "max_width": null,
            "min_height": null,
            "min_width": null,
            "object_fit": null,
            "object_position": null,
            "order": null,
            "overflow": null,
            "overflow_x": null,
            "overflow_y": null,
            "padding": null,
            "right": null,
            "top": null,
            "visibility": null,
            "width": null
          }
        },
        "8ab00c14e05a4cd1837e37b61b68c12d": {
          "model_module": "@jupyter-widgets/base",
          "model_name": "LayoutModel",
          "model_module_version": "1.2.0",
          "state": {
            "_model_module": "@jupyter-widgets/base",
            "_model_module_version": "1.2.0",
            "_model_name": "LayoutModel",
            "_view_count": null,
            "_view_module": "@jupyter-widgets/base",
            "_view_module_version": "1.2.0",
            "_view_name": "LayoutView",
            "align_content": null,
            "align_items": null,
            "align_self": null,
            "border": null,
            "bottom": null,
            "display": null,
            "flex": null,
            "flex_flow": null,
            "grid_area": null,
            "grid_auto_columns": null,
            "grid_auto_flow": null,
            "grid_auto_rows": null,
            "grid_column": null,
            "grid_gap": null,
            "grid_row": null,
            "grid_template_areas": null,
            "grid_template_columns": null,
            "grid_template_rows": null,
            "height": null,
            "justify_content": null,
            "justify_items": null,
            "left": null,
            "margin": null,
            "max_height": null,
            "max_width": null,
            "min_height": null,
            "min_width": null,
            "object_fit": null,
            "object_position": null,
            "order": null,
            "overflow": null,
            "overflow_x": null,
            "overflow_y": null,
            "padding": null,
            "right": null,
            "top": null,
            "visibility": null,
            "width": null
          }
        },
        "6a7e0b6c5deb4946b0626346b92dee9a": {
          "model_module": "@jupyter-widgets/controls",
          "model_name": "DescriptionStyleModel",
          "model_module_version": "1.5.0",
          "state": {
            "_model_module": "@jupyter-widgets/controls",
            "_model_module_version": "1.5.0",
            "_model_name": "DescriptionStyleModel",
            "_view_count": null,
            "_view_module": "@jupyter-widgets/base",
            "_view_module_version": "1.2.0",
            "_view_name": "StyleView",
            "description_width": ""
          }
        },
        "7254e62f0b464ae3a2315c9e166a3927": {
          "model_module": "@jupyter-widgets/base",
          "model_name": "LayoutModel",
          "model_module_version": "1.2.0",
          "state": {
            "_model_module": "@jupyter-widgets/base",
            "_model_module_version": "1.2.0",
            "_model_name": "LayoutModel",
            "_view_count": null,
            "_view_module": "@jupyter-widgets/base",
            "_view_module_version": "1.2.0",
            "_view_name": "LayoutView",
            "align_content": null,
            "align_items": null,
            "align_self": null,
            "border": null,
            "bottom": null,
            "display": null,
            "flex": null,
            "flex_flow": null,
            "grid_area": null,
            "grid_auto_columns": null,
            "grid_auto_flow": null,
            "grid_auto_rows": null,
            "grid_column": null,
            "grid_gap": null,
            "grid_row": null,
            "grid_template_areas": null,
            "grid_template_columns": null,
            "grid_template_rows": null,
            "height": null,
            "justify_content": null,
            "justify_items": null,
            "left": null,
            "margin": null,
            "max_height": null,
            "max_width": null,
            "min_height": null,
            "min_width": null,
            "object_fit": null,
            "object_position": null,
            "order": null,
            "overflow": null,
            "overflow_x": null,
            "overflow_y": null,
            "padding": null,
            "right": null,
            "top": null,
            "visibility": null,
            "width": null
          }
        },
        "f8bbf0a67b7e46f785e5b04f8aa4bfa4": {
          "model_module": "@jupyter-widgets/controls",
          "model_name": "ProgressStyleModel",
          "model_module_version": "1.5.0",
          "state": {
            "_model_module": "@jupyter-widgets/controls",
            "_model_module_version": "1.5.0",
            "_model_name": "ProgressStyleModel",
            "_view_count": null,
            "_view_module": "@jupyter-widgets/base",
            "_view_module_version": "1.2.0",
            "_view_name": "StyleView",
            "bar_color": null,
            "description_width": ""
          }
        },
        "2f1509b114a74df4b8c191edb05e227d": {
          "model_module": "@jupyter-widgets/base",
          "model_name": "LayoutModel",
          "model_module_version": "1.2.0",
          "state": {
            "_model_module": "@jupyter-widgets/base",
            "_model_module_version": "1.2.0",
            "_model_name": "LayoutModel",
            "_view_count": null,
            "_view_module": "@jupyter-widgets/base",
            "_view_module_version": "1.2.0",
            "_view_name": "LayoutView",
            "align_content": null,
            "align_items": null,
            "align_self": null,
            "border": null,
            "bottom": null,
            "display": null,
            "flex": null,
            "flex_flow": null,
            "grid_area": null,
            "grid_auto_columns": null,
            "grid_auto_flow": null,
            "grid_auto_rows": null,
            "grid_column": null,
            "grid_gap": null,
            "grid_row": null,
            "grid_template_areas": null,
            "grid_template_columns": null,
            "grid_template_rows": null,
            "height": null,
            "justify_content": null,
            "justify_items": null,
            "left": null,
            "margin": null,
            "max_height": null,
            "max_width": null,
            "min_height": null,
            "min_width": null,
            "object_fit": null,
            "object_position": null,
            "order": null,
            "overflow": null,
            "overflow_x": null,
            "overflow_y": null,
            "padding": null,
            "right": null,
            "top": null,
            "visibility": null,
            "width": null
          }
        },
        "7bb039c0d554451ebebf2ad0ed3b21e0": {
          "model_module": "@jupyter-widgets/controls",
          "model_name": "DescriptionStyleModel",
          "model_module_version": "1.5.0",
          "state": {
            "_model_module": "@jupyter-widgets/controls",
            "_model_module_version": "1.5.0",
            "_model_name": "DescriptionStyleModel",
            "_view_count": null,
            "_view_module": "@jupyter-widgets/base",
            "_view_module_version": "1.2.0",
            "_view_name": "StyleView",
            "description_width": ""
          }
        },
        "e29de16c4fd641a2ad2e05c16179326d": {
          "model_module": "@jupyter-widgets/controls",
          "model_name": "HBoxModel",
          "model_module_version": "1.5.0",
          "state": {
            "_dom_classes": [],
            "_model_module": "@jupyter-widgets/controls",
            "_model_module_version": "1.5.0",
            "_model_name": "HBoxModel",
            "_view_count": null,
            "_view_module": "@jupyter-widgets/controls",
            "_view_module_version": "1.5.0",
            "_view_name": "HBoxView",
            "box_style": "",
            "children": [
              "IPY_MODEL_0a3509d69c664ff4ae0d8013987c4a07",
              "IPY_MODEL_254dfbf13b8e4f508ab494f2be168073",
              "IPY_MODEL_d58b99b168c54026ab612b0049ad4aaa"
            ],
            "layout": "IPY_MODEL_21c2dbc436794df19a7450a3f4dac06d"
          }
        },
        "0a3509d69c664ff4ae0d8013987c4a07": {
          "model_module": "@jupyter-widgets/controls",
          "model_name": "HTMLModel",
          "model_module_version": "1.5.0",
          "state": {
            "_dom_classes": [],
            "_model_module": "@jupyter-widgets/controls",
            "_model_module_version": "1.5.0",
            "_model_name": "HTMLModel",
            "_view_count": null,
            "_view_module": "@jupyter-widgets/controls",
            "_view_module_version": "1.5.0",
            "_view_name": "HTMLView",
            "description": "",
            "description_tooltip": null,
            "layout": "IPY_MODEL_5146978131f4471e98966f212aa1f5fc",
            "placeholder": "​",
            "style": "IPY_MODEL_7eecb2712b1b4cc08c699916756b6b67",
            "value": "config.json: 100%"
          }
        },
        "254dfbf13b8e4f508ab494f2be168073": {
          "model_module": "@jupyter-widgets/controls",
          "model_name": "FloatProgressModel",
          "model_module_version": "1.5.0",
          "state": {
            "_dom_classes": [],
            "_model_module": "@jupyter-widgets/controls",
            "_model_module_version": "1.5.0",
            "_model_name": "FloatProgressModel",
            "_view_count": null,
            "_view_module": "@jupyter-widgets/controls",
            "_view_module_version": "1.5.0",
            "_view_name": "ProgressView",
            "bar_style": "success",
            "description": "",
            "description_tooltip": null,
            "layout": "IPY_MODEL_8c8e9e99ec1b490d89419cc13d7d379c",
            "max": 855,
            "min": 0,
            "orientation": "horizontal",
            "style": "IPY_MODEL_c6c7691520b046d9a530cff5e7104737",
            "value": 855
          }
        },
        "d58b99b168c54026ab612b0049ad4aaa": {
          "model_module": "@jupyter-widgets/controls",
          "model_name": "HTMLModel",
          "model_module_version": "1.5.0",
          "state": {
            "_dom_classes": [],
            "_model_module": "@jupyter-widgets/controls",
            "_model_module_version": "1.5.0",
            "_model_name": "HTMLModel",
            "_view_count": null,
            "_view_module": "@jupyter-widgets/controls",
            "_view_module_version": "1.5.0",
            "_view_name": "HTMLView",
            "description": "",
            "description_tooltip": null,
            "layout": "IPY_MODEL_ca341bc6d0a247be97630e1e9c062c80",
            "placeholder": "​",
            "style": "IPY_MODEL_84759d49bf2b484b90f2e53be5d4a7b5",
            "value": " 855/855 [00:00&lt;00:00, 60.1kB/s]"
          }
        },
        "21c2dbc436794df19a7450a3f4dac06d": {
          "model_module": "@jupyter-widgets/base",
          "model_name": "LayoutModel",
          "model_module_version": "1.2.0",
          "state": {
            "_model_module": "@jupyter-widgets/base",
            "_model_module_version": "1.2.0",
            "_model_name": "LayoutModel",
            "_view_count": null,
            "_view_module": "@jupyter-widgets/base",
            "_view_module_version": "1.2.0",
            "_view_name": "LayoutView",
            "align_content": null,
            "align_items": null,
            "align_self": null,
            "border": null,
            "bottom": null,
            "display": null,
            "flex": null,
            "flex_flow": null,
            "grid_area": null,
            "grid_auto_columns": null,
            "grid_auto_flow": null,
            "grid_auto_rows": null,
            "grid_column": null,
            "grid_gap": null,
            "grid_row": null,
            "grid_template_areas": null,
            "grid_template_columns": null,
            "grid_template_rows": null,
            "height": null,
            "justify_content": null,
            "justify_items": null,
            "left": null,
            "margin": null,
            "max_height": null,
            "max_width": null,
            "min_height": null,
            "min_width": null,
            "object_fit": null,
            "object_position": null,
            "order": null,
            "overflow": null,
            "overflow_x": null,
            "overflow_y": null,
            "padding": null,
            "right": null,
            "top": null,
            "visibility": null,
            "width": null
          }
        },
        "5146978131f4471e98966f212aa1f5fc": {
          "model_module": "@jupyter-widgets/base",
          "model_name": "LayoutModel",
          "model_module_version": "1.2.0",
          "state": {
            "_model_module": "@jupyter-widgets/base",
            "_model_module_version": "1.2.0",
            "_model_name": "LayoutModel",
            "_view_count": null,
            "_view_module": "@jupyter-widgets/base",
            "_view_module_version": "1.2.0",
            "_view_name": "LayoutView",
            "align_content": null,
            "align_items": null,
            "align_self": null,
            "border": null,
            "bottom": null,
            "display": null,
            "flex": null,
            "flex_flow": null,
            "grid_area": null,
            "grid_auto_columns": null,
            "grid_auto_flow": null,
            "grid_auto_rows": null,
            "grid_column": null,
            "grid_gap": null,
            "grid_row": null,
            "grid_template_areas": null,
            "grid_template_columns": null,
            "grid_template_rows": null,
            "height": null,
            "justify_content": null,
            "justify_items": null,
            "left": null,
            "margin": null,
            "max_height": null,
            "max_width": null,
            "min_height": null,
            "min_width": null,
            "object_fit": null,
            "object_position": null,
            "order": null,
            "overflow": null,
            "overflow_x": null,
            "overflow_y": null,
            "padding": null,
            "right": null,
            "top": null,
            "visibility": null,
            "width": null
          }
        },
        "7eecb2712b1b4cc08c699916756b6b67": {
          "model_module": "@jupyter-widgets/controls",
          "model_name": "DescriptionStyleModel",
          "model_module_version": "1.5.0",
          "state": {
            "_model_module": "@jupyter-widgets/controls",
            "_model_module_version": "1.5.0",
            "_model_name": "DescriptionStyleModel",
            "_view_count": null,
            "_view_module": "@jupyter-widgets/base",
            "_view_module_version": "1.2.0",
            "_view_name": "StyleView",
            "description_width": ""
          }
        },
        "8c8e9e99ec1b490d89419cc13d7d379c": {
          "model_module": "@jupyter-widgets/base",
          "model_name": "LayoutModel",
          "model_module_version": "1.2.0",
          "state": {
            "_model_module": "@jupyter-widgets/base",
            "_model_module_version": "1.2.0",
            "_model_name": "LayoutModel",
            "_view_count": null,
            "_view_module": "@jupyter-widgets/base",
            "_view_module_version": "1.2.0",
            "_view_name": "LayoutView",
            "align_content": null,
            "align_items": null,
            "align_self": null,
            "border": null,
            "bottom": null,
            "display": null,
            "flex": null,
            "flex_flow": null,
            "grid_area": null,
            "grid_auto_columns": null,
            "grid_auto_flow": null,
            "grid_auto_rows": null,
            "grid_column": null,
            "grid_gap": null,
            "grid_row": null,
            "grid_template_areas": null,
            "grid_template_columns": null,
            "grid_template_rows": null,
            "height": null,
            "justify_content": null,
            "justify_items": null,
            "left": null,
            "margin": null,
            "max_height": null,
            "max_width": null,
            "min_height": null,
            "min_width": null,
            "object_fit": null,
            "object_position": null,
            "order": null,
            "overflow": null,
            "overflow_x": null,
            "overflow_y": null,
            "padding": null,
            "right": null,
            "top": null,
            "visibility": null,
            "width": null
          }
        },
        "c6c7691520b046d9a530cff5e7104737": {
          "model_module": "@jupyter-widgets/controls",
          "model_name": "ProgressStyleModel",
          "model_module_version": "1.5.0",
          "state": {
            "_model_module": "@jupyter-widgets/controls",
            "_model_module_version": "1.5.0",
            "_model_name": "ProgressStyleModel",
            "_view_count": null,
            "_view_module": "@jupyter-widgets/base",
            "_view_module_version": "1.2.0",
            "_view_name": "StyleView",
            "bar_color": null,
            "description_width": ""
          }
        },
        "ca341bc6d0a247be97630e1e9c062c80": {
          "model_module": "@jupyter-widgets/base",
          "model_name": "LayoutModel",
          "model_module_version": "1.2.0",
          "state": {
            "_model_module": "@jupyter-widgets/base",
            "_model_module_version": "1.2.0",
            "_model_name": "LayoutModel",
            "_view_count": null,
            "_view_module": "@jupyter-widgets/base",
            "_view_module_version": "1.2.0",
            "_view_name": "LayoutView",
            "align_content": null,
            "align_items": null,
            "align_self": null,
            "border": null,
            "bottom": null,
            "display": null,
            "flex": null,
            "flex_flow": null,
            "grid_area": null,
            "grid_auto_columns": null,
            "grid_auto_flow": null,
            "grid_auto_rows": null,
            "grid_column": null,
            "grid_gap": null,
            "grid_row": null,
            "grid_template_areas": null,
            "grid_template_columns": null,
            "grid_template_rows": null,
            "height": null,
            "justify_content": null,
            "justify_items": null,
            "left": null,
            "margin": null,
            "max_height": null,
            "max_width": null,
            "min_height": null,
            "min_width": null,
            "object_fit": null,
            "object_position": null,
            "order": null,
            "overflow": null,
            "overflow_x": null,
            "overflow_y": null,
            "padding": null,
            "right": null,
            "top": null,
            "visibility": null,
            "width": null
          }
        },
        "84759d49bf2b484b90f2e53be5d4a7b5": {
          "model_module": "@jupyter-widgets/controls",
          "model_name": "DescriptionStyleModel",
          "model_module_version": "1.5.0",
          "state": {
            "_model_module": "@jupyter-widgets/controls",
            "_model_module_version": "1.5.0",
            "_model_name": "DescriptionStyleModel",
            "_view_count": null,
            "_view_module": "@jupyter-widgets/base",
            "_view_module_version": "1.2.0",
            "_view_name": "StyleView",
            "description_width": ""
          }
        },
        "da8d12772c3646ecb999dd8d53609064": {
          "model_module": "@jupyter-widgets/controls",
          "model_name": "HBoxModel",
          "model_module_version": "1.5.0",
          "state": {
            "_dom_classes": [],
            "_model_module": "@jupyter-widgets/controls",
            "_model_module_version": "1.5.0",
            "_model_name": "HBoxModel",
            "_view_count": null,
            "_view_module": "@jupyter-widgets/controls",
            "_view_module_version": "1.5.0",
            "_view_name": "HBoxView",
            "box_style": "",
            "children": [
              "IPY_MODEL_ba83105489ca48148970d62a993e4431",
              "IPY_MODEL_9962b91fdbba4e7483797ee698b25abb",
              "IPY_MODEL_91aacbdf688343ada1a73402c368024c"
            ],
            "layout": "IPY_MODEL_0a5fc5cf5e0b4ddf937c727cf1a7dd43"
          }
        },
        "ba83105489ca48148970d62a993e4431": {
          "model_module": "@jupyter-widgets/controls",
          "model_name": "HTMLModel",
          "model_module_version": "1.5.0",
          "state": {
            "_dom_classes": [],
            "_model_module": "@jupyter-widgets/controls",
            "_model_module_version": "1.5.0",
            "_model_name": "HTMLModel",
            "_view_count": null,
            "_view_module": "@jupyter-widgets/controls",
            "_view_module_version": "1.5.0",
            "_view_name": "HTMLView",
            "description": "",
            "description_tooltip": null,
            "layout": "IPY_MODEL_b73c8e7b08d644d3acc45ef56e934208",
            "placeholder": "​",
            "style": "IPY_MODEL_cda7b5d79aee42edb9952d4401328463",
            "value": "model.safetensors.index.json: 100%"
          }
        },
        "9962b91fdbba4e7483797ee698b25abb": {
          "model_module": "@jupyter-widgets/controls",
          "model_name": "FloatProgressModel",
          "model_module_version": "1.5.0",
          "state": {
            "_dom_classes": [],
            "_model_module": "@jupyter-widgets/controls",
            "_model_module_version": "1.5.0",
            "_model_name": "FloatProgressModel",
            "_view_count": null,
            "_view_module": "@jupyter-widgets/controls",
            "_view_module_version": "1.5.0",
            "_view_name": "ProgressView",
            "bar_style": "success",
            "description": "",
            "description_tooltip": null,
            "layout": "IPY_MODEL_a3f155ed06464f45997c0d4ab259a106",
            "max": 23950,
            "min": 0,
            "orientation": "horizontal",
            "style": "IPY_MODEL_e335b0357adb45ee974a28fa2940ae9e",
            "value": 23950
          }
        },
        "91aacbdf688343ada1a73402c368024c": {
          "model_module": "@jupyter-widgets/controls",
          "model_name": "HTMLModel",
          "model_module_version": "1.5.0",
          "state": {
            "_dom_classes": [],
            "_model_module": "@jupyter-widgets/controls",
            "_model_module_version": "1.5.0",
            "_model_name": "HTMLModel",
            "_view_count": null,
            "_view_module": "@jupyter-widgets/controls",
            "_view_module_version": "1.5.0",
            "_view_name": "HTMLView",
            "description": "",
            "description_tooltip": null,
            "layout": "IPY_MODEL_468a8970fe8d42ab863ad1a5c8438eff",
            "placeholder": "​",
            "style": "IPY_MODEL_82ea8d2d637846bcb4e02e5f6601ef22",
            "value": " 23.9k/23.9k [00:00&lt;00:00, 939kB/s]"
          }
        },
        "0a5fc5cf5e0b4ddf937c727cf1a7dd43": {
          "model_module": "@jupyter-widgets/base",
          "model_name": "LayoutModel",
          "model_module_version": "1.2.0",
          "state": {
            "_model_module": "@jupyter-widgets/base",
            "_model_module_version": "1.2.0",
            "_model_name": "LayoutModel",
            "_view_count": null,
            "_view_module": "@jupyter-widgets/base",
            "_view_module_version": "1.2.0",
            "_view_name": "LayoutView",
            "align_content": null,
            "align_items": null,
            "align_self": null,
            "border": null,
            "bottom": null,
            "display": null,
            "flex": null,
            "flex_flow": null,
            "grid_area": null,
            "grid_auto_columns": null,
            "grid_auto_flow": null,
            "grid_auto_rows": null,
            "grid_column": null,
            "grid_gap": null,
            "grid_row": null,
            "grid_template_areas": null,
            "grid_template_columns": null,
            "grid_template_rows": null,
            "height": null,
            "justify_content": null,
            "justify_items": null,
            "left": null,
            "margin": null,
            "max_height": null,
            "max_width": null,
            "min_height": null,
            "min_width": null,
            "object_fit": null,
            "object_position": null,
            "order": null,
            "overflow": null,
            "overflow_x": null,
            "overflow_y": null,
            "padding": null,
            "right": null,
            "top": null,
            "visibility": null,
            "width": null
          }
        },
        "b73c8e7b08d644d3acc45ef56e934208": {
          "model_module": "@jupyter-widgets/base",
          "model_name": "LayoutModel",
          "model_module_version": "1.2.0",
          "state": {
            "_model_module": "@jupyter-widgets/base",
            "_model_module_version": "1.2.0",
            "_model_name": "LayoutModel",
            "_view_count": null,
            "_view_module": "@jupyter-widgets/base",
            "_view_module_version": "1.2.0",
            "_view_name": "LayoutView",
            "align_content": null,
            "align_items": null,
            "align_self": null,
            "border": null,
            "bottom": null,
            "display": null,
            "flex": null,
            "flex_flow": null,
            "grid_area": null,
            "grid_auto_columns": null,
            "grid_auto_flow": null,
            "grid_auto_rows": null,
            "grid_column": null,
            "grid_gap": null,
            "grid_row": null,
            "grid_template_areas": null,
            "grid_template_columns": null,
            "grid_template_rows": null,
            "height": null,
            "justify_content": null,
            "justify_items": null,
            "left": null,
            "margin": null,
            "max_height": null,
            "max_width": null,
            "min_height": null,
            "min_width": null,
            "object_fit": null,
            "object_position": null,
            "order": null,
            "overflow": null,
            "overflow_x": null,
            "overflow_y": null,
            "padding": null,
            "right": null,
            "top": null,
            "visibility": null,
            "width": null
          }
        },
        "cda7b5d79aee42edb9952d4401328463": {
          "model_module": "@jupyter-widgets/controls",
          "model_name": "DescriptionStyleModel",
          "model_module_version": "1.5.0",
          "state": {
            "_model_module": "@jupyter-widgets/controls",
            "_model_module_version": "1.5.0",
            "_model_name": "DescriptionStyleModel",
            "_view_count": null,
            "_view_module": "@jupyter-widgets/base",
            "_view_module_version": "1.2.0",
            "_view_name": "StyleView",
            "description_width": ""
          }
        },
        "a3f155ed06464f45997c0d4ab259a106": {
          "model_module": "@jupyter-widgets/base",
          "model_name": "LayoutModel",
          "model_module_version": "1.2.0",
          "state": {
            "_model_module": "@jupyter-widgets/base",
            "_model_module_version": "1.2.0",
            "_model_name": "LayoutModel",
            "_view_count": null,
            "_view_module": "@jupyter-widgets/base",
            "_view_module_version": "1.2.0",
            "_view_name": "LayoutView",
            "align_content": null,
            "align_items": null,
            "align_self": null,
            "border": null,
            "bottom": null,
            "display": null,
            "flex": null,
            "flex_flow": null,
            "grid_area": null,
            "grid_auto_columns": null,
            "grid_auto_flow": null,
            "grid_auto_rows": null,
            "grid_column": null,
            "grid_gap": null,
            "grid_row": null,
            "grid_template_areas": null,
            "grid_template_columns": null,
            "grid_template_rows": null,
            "height": null,
            "justify_content": null,
            "justify_items": null,
            "left": null,
            "margin": null,
            "max_height": null,
            "max_width": null,
            "min_height": null,
            "min_width": null,
            "object_fit": null,
            "object_position": null,
            "order": null,
            "overflow": null,
            "overflow_x": null,
            "overflow_y": null,
            "padding": null,
            "right": null,
            "top": null,
            "visibility": null,
            "width": null
          }
        },
        "e335b0357adb45ee974a28fa2940ae9e": {
          "model_module": "@jupyter-widgets/controls",
          "model_name": "ProgressStyleModel",
          "model_module_version": "1.5.0",
          "state": {
            "_model_module": "@jupyter-widgets/controls",
            "_model_module_version": "1.5.0",
            "_model_name": "ProgressStyleModel",
            "_view_count": null,
            "_view_module": "@jupyter-widgets/base",
            "_view_module_version": "1.2.0",
            "_view_name": "StyleView",
            "bar_color": null,
            "description_width": ""
          }
        },
        "468a8970fe8d42ab863ad1a5c8438eff": {
          "model_module": "@jupyter-widgets/base",
          "model_name": "LayoutModel",
          "model_module_version": "1.2.0",
          "state": {
            "_model_module": "@jupyter-widgets/base",
            "_model_module_version": "1.2.0",
            "_model_name": "LayoutModel",
            "_view_count": null,
            "_view_module": "@jupyter-widgets/base",
            "_view_module_version": "1.2.0",
            "_view_name": "LayoutView",
            "align_content": null,
            "align_items": null,
            "align_self": null,
            "border": null,
            "bottom": null,
            "display": null,
            "flex": null,
            "flex_flow": null,
            "grid_area": null,
            "grid_auto_columns": null,
            "grid_auto_flow": null,
            "grid_auto_rows": null,
            "grid_column": null,
            "grid_gap": null,
            "grid_row": null,
            "grid_template_areas": null,
            "grid_template_columns": null,
            "grid_template_rows": null,
            "height": null,
            "justify_content": null,
            "justify_items": null,
            "left": null,
            "margin": null,
            "max_height": null,
            "max_width": null,
            "min_height": null,
            "min_width": null,
            "object_fit": null,
            "object_position": null,
            "order": null,
            "overflow": null,
            "overflow_x": null,
            "overflow_y": null,
            "padding": null,
            "right": null,
            "top": null,
            "visibility": null,
            "width": null
          }
        },
        "82ea8d2d637846bcb4e02e5f6601ef22": {
          "model_module": "@jupyter-widgets/controls",
          "model_name": "DescriptionStyleModel",
          "model_module_version": "1.5.0",
          "state": {
            "_model_module": "@jupyter-widgets/controls",
            "_model_module_version": "1.5.0",
            "_model_name": "DescriptionStyleModel",
            "_view_count": null,
            "_view_module": "@jupyter-widgets/base",
            "_view_module_version": "1.2.0",
            "_view_name": "StyleView",
            "description_width": ""
          }
        },
        "9dcac7619ef84c21a1857c2cd7bfefee": {
          "model_module": "@jupyter-widgets/controls",
          "model_name": "HBoxModel",
          "model_module_version": "1.5.0",
          "state": {
            "_dom_classes": [],
            "_model_module": "@jupyter-widgets/controls",
            "_model_module_version": "1.5.0",
            "_model_name": "HBoxModel",
            "_view_count": null,
            "_view_module": "@jupyter-widgets/controls",
            "_view_module_version": "1.5.0",
            "_view_name": "HBoxView",
            "box_style": "",
            "children": [
              "IPY_MODEL_0c1af9579f7d4347b9ca9bcdc9190f03",
              "IPY_MODEL_3c672dd0062742bb8fc9a26c31419643",
              "IPY_MODEL_41eb66ca133c46479edb9915b37c535d"
            ],
            "layout": "IPY_MODEL_96ecdcd986d0488184ac755e0fbef096"
          }
        },
        "0c1af9579f7d4347b9ca9bcdc9190f03": {
          "model_module": "@jupyter-widgets/controls",
          "model_name": "HTMLModel",
          "model_module_version": "1.5.0",
          "state": {
            "_dom_classes": [],
            "_model_module": "@jupyter-widgets/controls",
            "_model_module_version": "1.5.0",
            "_model_name": "HTMLModel",
            "_view_count": null,
            "_view_module": "@jupyter-widgets/controls",
            "_view_module_version": "1.5.0",
            "_view_name": "HTMLView",
            "description": "",
            "description_tooltip": null,
            "layout": "IPY_MODEL_6a969de88f7e4d9398d232fb38839ec6",
            "placeholder": "​",
            "style": "IPY_MODEL_901c5a92d8104ae5bae058c5a61bf14c",
            "value": "Downloading shards: 100%"
          }
        },
        "3c672dd0062742bb8fc9a26c31419643": {
          "model_module": "@jupyter-widgets/controls",
          "model_name": "FloatProgressModel",
          "model_module_version": "1.5.0",
          "state": {
            "_dom_classes": [],
            "_model_module": "@jupyter-widgets/controls",
            "_model_module_version": "1.5.0",
            "_model_name": "FloatProgressModel",
            "_view_count": null,
            "_view_module": "@jupyter-widgets/controls",
            "_view_module_version": "1.5.0",
            "_view_name": "ProgressView",
            "bar_style": "success",
            "description": "",
            "description_tooltip": null,
            "layout": "IPY_MODEL_020dbaccc2d3458cad2dd13ecbf2aa96",
            "max": 4,
            "min": 0,
            "orientation": "horizontal",
            "style": "IPY_MODEL_c728a04c433a4c4d8250f3a7e4a6bb2f",
            "value": 4
          }
        },
        "41eb66ca133c46479edb9915b37c535d": {
          "model_module": "@jupyter-widgets/controls",
          "model_name": "HTMLModel",
          "model_module_version": "1.5.0",
          "state": {
            "_dom_classes": [],
            "_model_module": "@jupyter-widgets/controls",
            "_model_module_version": "1.5.0",
            "_model_name": "HTMLModel",
            "_view_count": null,
            "_view_module": "@jupyter-widgets/controls",
            "_view_module_version": "1.5.0",
            "_view_name": "HTMLView",
            "description": "",
            "description_tooltip": null,
            "layout": "IPY_MODEL_92511c787afa4d35a361d86788299c55",
            "placeholder": "​",
            "style": "IPY_MODEL_34943a25ae554de6993aec82546ae519",
            "value": " 4/4 [06:22&lt;00:00, 82.37s/it]"
          }
        },
        "96ecdcd986d0488184ac755e0fbef096": {
          "model_module": "@jupyter-widgets/base",
          "model_name": "LayoutModel",
          "model_module_version": "1.2.0",
          "state": {
            "_model_module": "@jupyter-widgets/base",
            "_model_module_version": "1.2.0",
            "_model_name": "LayoutModel",
            "_view_count": null,
            "_view_module": "@jupyter-widgets/base",
            "_view_module_version": "1.2.0",
            "_view_name": "LayoutView",
            "align_content": null,
            "align_items": null,
            "align_self": null,
            "border": null,
            "bottom": null,
            "display": null,
            "flex": null,
            "flex_flow": null,
            "grid_area": null,
            "grid_auto_columns": null,
            "grid_auto_flow": null,
            "grid_auto_rows": null,
            "grid_column": null,
            "grid_gap": null,
            "grid_row": null,
            "grid_template_areas": null,
            "grid_template_columns": null,
            "grid_template_rows": null,
            "height": null,
            "justify_content": null,
            "justify_items": null,
            "left": null,
            "margin": null,
            "max_height": null,
            "max_width": null,
            "min_height": null,
            "min_width": null,
            "object_fit": null,
            "object_position": null,
            "order": null,
            "overflow": null,
            "overflow_x": null,
            "overflow_y": null,
            "padding": null,
            "right": null,
            "top": null,
            "visibility": null,
            "width": null
          }
        },
        "6a969de88f7e4d9398d232fb38839ec6": {
          "model_module": "@jupyter-widgets/base",
          "model_name": "LayoutModel",
          "model_module_version": "1.2.0",
          "state": {
            "_model_module": "@jupyter-widgets/base",
            "_model_module_version": "1.2.0",
            "_model_name": "LayoutModel",
            "_view_count": null,
            "_view_module": "@jupyter-widgets/base",
            "_view_module_version": "1.2.0",
            "_view_name": "LayoutView",
            "align_content": null,
            "align_items": null,
            "align_self": null,
            "border": null,
            "bottom": null,
            "display": null,
            "flex": null,
            "flex_flow": null,
            "grid_area": null,
            "grid_auto_columns": null,
            "grid_auto_flow": null,
            "grid_auto_rows": null,
            "grid_column": null,
            "grid_gap": null,
            "grid_row": null,
            "grid_template_areas": null,
            "grid_template_columns": null,
            "grid_template_rows": null,
            "height": null,
            "justify_content": null,
            "justify_items": null,
            "left": null,
            "margin": null,
            "max_height": null,
            "max_width": null,
            "min_height": null,
            "min_width": null,
            "object_fit": null,
            "object_position": null,
            "order": null,
            "overflow": null,
            "overflow_x": null,
            "overflow_y": null,
            "padding": null,
            "right": null,
            "top": null,
            "visibility": null,
            "width": null
          }
        },
        "901c5a92d8104ae5bae058c5a61bf14c": {
          "model_module": "@jupyter-widgets/controls",
          "model_name": "DescriptionStyleModel",
          "model_module_version": "1.5.0",
          "state": {
            "_model_module": "@jupyter-widgets/controls",
            "_model_module_version": "1.5.0",
            "_model_name": "DescriptionStyleModel",
            "_view_count": null,
            "_view_module": "@jupyter-widgets/base",
            "_view_module_version": "1.2.0",
            "_view_name": "StyleView",
            "description_width": ""
          }
        },
        "020dbaccc2d3458cad2dd13ecbf2aa96": {
          "model_module": "@jupyter-widgets/base",
          "model_name": "LayoutModel",
          "model_module_version": "1.2.0",
          "state": {
            "_model_module": "@jupyter-widgets/base",
            "_model_module_version": "1.2.0",
            "_model_name": "LayoutModel",
            "_view_count": null,
            "_view_module": "@jupyter-widgets/base",
            "_view_module_version": "1.2.0",
            "_view_name": "LayoutView",
            "align_content": null,
            "align_items": null,
            "align_self": null,
            "border": null,
            "bottom": null,
            "display": null,
            "flex": null,
            "flex_flow": null,
            "grid_area": null,
            "grid_auto_columns": null,
            "grid_auto_flow": null,
            "grid_auto_rows": null,
            "grid_column": null,
            "grid_gap": null,
            "grid_row": null,
            "grid_template_areas": null,
            "grid_template_columns": null,
            "grid_template_rows": null,
            "height": null,
            "justify_content": null,
            "justify_items": null,
            "left": null,
            "margin": null,
            "max_height": null,
            "max_width": null,
            "min_height": null,
            "min_width": null,
            "object_fit": null,
            "object_position": null,
            "order": null,
            "overflow": null,
            "overflow_x": null,
            "overflow_y": null,
            "padding": null,
            "right": null,
            "top": null,
            "visibility": null,
            "width": null
          }
        },
        "c728a04c433a4c4d8250f3a7e4a6bb2f": {
          "model_module": "@jupyter-widgets/controls",
          "model_name": "ProgressStyleModel",
          "model_module_version": "1.5.0",
          "state": {
            "_model_module": "@jupyter-widgets/controls",
            "_model_module_version": "1.5.0",
            "_model_name": "ProgressStyleModel",
            "_view_count": null,
            "_view_module": "@jupyter-widgets/base",
            "_view_module_version": "1.2.0",
            "_view_name": "StyleView",
            "bar_color": null,
            "description_width": ""
          }
        },
        "92511c787afa4d35a361d86788299c55": {
          "model_module": "@jupyter-widgets/base",
          "model_name": "LayoutModel",
          "model_module_version": "1.2.0",
          "state": {
            "_model_module": "@jupyter-widgets/base",
            "_model_module_version": "1.2.0",
            "_model_name": "LayoutModel",
            "_view_count": null,
            "_view_module": "@jupyter-widgets/base",
            "_view_module_version": "1.2.0",
            "_view_name": "LayoutView",
            "align_content": null,
            "align_items": null,
            "align_self": null,
            "border": null,
            "bottom": null,
            "display": null,
            "flex": null,
            "flex_flow": null,
            "grid_area": null,
            "grid_auto_columns": null,
            "grid_auto_flow": null,
            "grid_auto_rows": null,
            "grid_column": null,
            "grid_gap": null,
            "grid_row": null,
            "grid_template_areas": null,
            "grid_template_columns": null,
            "grid_template_rows": null,
            "height": null,
            "justify_content": null,
            "justify_items": null,
            "left": null,
            "margin": null,
            "max_height": null,
            "max_width": null,
            "min_height": null,
            "min_width": null,
            "object_fit": null,
            "object_position": null,
            "order": null,
            "overflow": null,
            "overflow_x": null,
            "overflow_y": null,
            "padding": null,
            "right": null,
            "top": null,
            "visibility": null,
            "width": null
          }
        },
        "34943a25ae554de6993aec82546ae519": {
          "model_module": "@jupyter-widgets/controls",
          "model_name": "DescriptionStyleModel",
          "model_module_version": "1.5.0",
          "state": {
            "_model_module": "@jupyter-widgets/controls",
            "_model_module_version": "1.5.0",
            "_model_name": "DescriptionStyleModel",
            "_view_count": null,
            "_view_module": "@jupyter-widgets/base",
            "_view_module_version": "1.2.0",
            "_view_name": "StyleView",
            "description_width": ""
          }
        },
        "c1b0686d822e4f2598e3527007b362c0": {
          "model_module": "@jupyter-widgets/controls",
          "model_name": "HBoxModel",
          "model_module_version": "1.5.0",
          "state": {
            "_dom_classes": [],
            "_model_module": "@jupyter-widgets/controls",
            "_model_module_version": "1.5.0",
            "_model_name": "HBoxModel",
            "_view_count": null,
            "_view_module": "@jupyter-widgets/controls",
            "_view_module_version": "1.5.0",
            "_view_name": "HBoxView",
            "box_style": "",
            "children": [
              "IPY_MODEL_9e6a137a0d2341e5bc5a6da1dd9731cd",
              "IPY_MODEL_dd36cc7ed67341db9ac2fd5efdffb645",
              "IPY_MODEL_e16a32cf457d4ba2a53cc6d0d114ebf7"
            ],
            "layout": "IPY_MODEL_6f05a2c3462b4a42b8ca4670fd05dcef"
          }
        },
        "9e6a137a0d2341e5bc5a6da1dd9731cd": {
          "model_module": "@jupyter-widgets/controls",
          "model_name": "HTMLModel",
          "model_module_version": "1.5.0",
          "state": {
            "_dom_classes": [],
            "_model_module": "@jupyter-widgets/controls",
            "_model_module_version": "1.5.0",
            "_model_name": "HTMLModel",
            "_view_count": null,
            "_view_module": "@jupyter-widgets/controls",
            "_view_module_version": "1.5.0",
            "_view_name": "HTMLView",
            "description": "",
            "description_tooltip": null,
            "layout": "IPY_MODEL_beee5bbb4a4e4bfebfe35dcc485bfc0e",
            "placeholder": "​",
            "style": "IPY_MODEL_ea8c6097856a4d949010ecdd7282f317",
            "value": "model-00001-of-00004.safetensors: 100%"
          }
        },
        "dd36cc7ed67341db9ac2fd5efdffb645": {
          "model_module": "@jupyter-widgets/controls",
          "model_name": "FloatProgressModel",
          "model_module_version": "1.5.0",
          "state": {
            "_dom_classes": [],
            "_model_module": "@jupyter-widgets/controls",
            "_model_module_version": "1.5.0",
            "_model_name": "FloatProgressModel",
            "_view_count": null,
            "_view_module": "@jupyter-widgets/controls",
            "_view_module_version": "1.5.0",
            "_view_name": "ProgressView",
            "bar_style": "success",
            "description": "",
            "description_tooltip": null,
            "layout": "IPY_MODEL_53ff8d4304e24435a91ffdbfbe3e432a",
            "max": 4976698672,
            "min": 0,
            "orientation": "horizontal",
            "style": "IPY_MODEL_7a5ce79617cc47448a67b34c4c834731",
            "value": 4976698672
          }
        },
        "e16a32cf457d4ba2a53cc6d0d114ebf7": {
          "model_module": "@jupyter-widgets/controls",
          "model_name": "HTMLModel",
          "model_module_version": "1.5.0",
          "state": {
            "_dom_classes": [],
            "_model_module": "@jupyter-widgets/controls",
            "_model_module_version": "1.5.0",
            "_model_name": "HTMLModel",
            "_view_count": null,
            "_view_module": "@jupyter-widgets/controls",
            "_view_module_version": "1.5.0",
            "_view_name": "HTMLView",
            "description": "",
            "description_tooltip": null,
            "layout": "IPY_MODEL_19673645449846cea045df3e2d2dbc99",
            "placeholder": "​",
            "style": "IPY_MODEL_ebe41b47ee804afb996d5d024fe017ef",
            "value": " 4.98G/4.98G [01:58&lt;00:00, 42.5MB/s]"
          }
        },
        "6f05a2c3462b4a42b8ca4670fd05dcef": {
          "model_module": "@jupyter-widgets/base",
          "model_name": "LayoutModel",
          "model_module_version": "1.2.0",
          "state": {
            "_model_module": "@jupyter-widgets/base",
            "_model_module_version": "1.2.0",
            "_model_name": "LayoutModel",
            "_view_count": null,
            "_view_module": "@jupyter-widgets/base",
            "_view_module_version": "1.2.0",
            "_view_name": "LayoutView",
            "align_content": null,
            "align_items": null,
            "align_self": null,
            "border": null,
            "bottom": null,
            "display": null,
            "flex": null,
            "flex_flow": null,
            "grid_area": null,
            "grid_auto_columns": null,
            "grid_auto_flow": null,
            "grid_auto_rows": null,
            "grid_column": null,
            "grid_gap": null,
            "grid_row": null,
            "grid_template_areas": null,
            "grid_template_columns": null,
            "grid_template_rows": null,
            "height": null,
            "justify_content": null,
            "justify_items": null,
            "left": null,
            "margin": null,
            "max_height": null,
            "max_width": null,
            "min_height": null,
            "min_width": null,
            "object_fit": null,
            "object_position": null,
            "order": null,
            "overflow": null,
            "overflow_x": null,
            "overflow_y": null,
            "padding": null,
            "right": null,
            "top": null,
            "visibility": null,
            "width": null
          }
        },
        "beee5bbb4a4e4bfebfe35dcc485bfc0e": {
          "model_module": "@jupyter-widgets/base",
          "model_name": "LayoutModel",
          "model_module_version": "1.2.0",
          "state": {
            "_model_module": "@jupyter-widgets/base",
            "_model_module_version": "1.2.0",
            "_model_name": "LayoutModel",
            "_view_count": null,
            "_view_module": "@jupyter-widgets/base",
            "_view_module_version": "1.2.0",
            "_view_name": "LayoutView",
            "align_content": null,
            "align_items": null,
            "align_self": null,
            "border": null,
            "bottom": null,
            "display": null,
            "flex": null,
            "flex_flow": null,
            "grid_area": null,
            "grid_auto_columns": null,
            "grid_auto_flow": null,
            "grid_auto_rows": null,
            "grid_column": null,
            "grid_gap": null,
            "grid_row": null,
            "grid_template_areas": null,
            "grid_template_columns": null,
            "grid_template_rows": null,
            "height": null,
            "justify_content": null,
            "justify_items": null,
            "left": null,
            "margin": null,
            "max_height": null,
            "max_width": null,
            "min_height": null,
            "min_width": null,
            "object_fit": null,
            "object_position": null,
            "order": null,
            "overflow": null,
            "overflow_x": null,
            "overflow_y": null,
            "padding": null,
            "right": null,
            "top": null,
            "visibility": null,
            "width": null
          }
        },
        "ea8c6097856a4d949010ecdd7282f317": {
          "model_module": "@jupyter-widgets/controls",
          "model_name": "DescriptionStyleModel",
          "model_module_version": "1.5.0",
          "state": {
            "_model_module": "@jupyter-widgets/controls",
            "_model_module_version": "1.5.0",
            "_model_name": "DescriptionStyleModel",
            "_view_count": null,
            "_view_module": "@jupyter-widgets/base",
            "_view_module_version": "1.2.0",
            "_view_name": "StyleView",
            "description_width": ""
          }
        },
        "53ff8d4304e24435a91ffdbfbe3e432a": {
          "model_module": "@jupyter-widgets/base",
          "model_name": "LayoutModel",
          "model_module_version": "1.2.0",
          "state": {
            "_model_module": "@jupyter-widgets/base",
            "_model_module_version": "1.2.0",
            "_model_name": "LayoutModel",
            "_view_count": null,
            "_view_module": "@jupyter-widgets/base",
            "_view_module_version": "1.2.0",
            "_view_name": "LayoutView",
            "align_content": null,
            "align_items": null,
            "align_self": null,
            "border": null,
            "bottom": null,
            "display": null,
            "flex": null,
            "flex_flow": null,
            "grid_area": null,
            "grid_auto_columns": null,
            "grid_auto_flow": null,
            "grid_auto_rows": null,
            "grid_column": null,
            "grid_gap": null,
            "grid_row": null,
            "grid_template_areas": null,
            "grid_template_columns": null,
            "grid_template_rows": null,
            "height": null,
            "justify_content": null,
            "justify_items": null,
            "left": null,
            "margin": null,
            "max_height": null,
            "max_width": null,
            "min_height": null,
            "min_width": null,
            "object_fit": null,
            "object_position": null,
            "order": null,
            "overflow": null,
            "overflow_x": null,
            "overflow_y": null,
            "padding": null,
            "right": null,
            "top": null,
            "visibility": null,
            "width": null
          }
        },
        "7a5ce79617cc47448a67b34c4c834731": {
          "model_module": "@jupyter-widgets/controls",
          "model_name": "ProgressStyleModel",
          "model_module_version": "1.5.0",
          "state": {
            "_model_module": "@jupyter-widgets/controls",
            "_model_module_version": "1.5.0",
            "_model_name": "ProgressStyleModel",
            "_view_count": null,
            "_view_module": "@jupyter-widgets/base",
            "_view_module_version": "1.2.0",
            "_view_name": "StyleView",
            "bar_color": null,
            "description_width": ""
          }
        },
        "19673645449846cea045df3e2d2dbc99": {
          "model_module": "@jupyter-widgets/base",
          "model_name": "LayoutModel",
          "model_module_version": "1.2.0",
          "state": {
            "_model_module": "@jupyter-widgets/base",
            "_model_module_version": "1.2.0",
            "_model_name": "LayoutModel",
            "_view_count": null,
            "_view_module": "@jupyter-widgets/base",
            "_view_module_version": "1.2.0",
            "_view_name": "LayoutView",
            "align_content": null,
            "align_items": null,
            "align_self": null,
            "border": null,
            "bottom": null,
            "display": null,
            "flex": null,
            "flex_flow": null,
            "grid_area": null,
            "grid_auto_columns": null,
            "grid_auto_flow": null,
            "grid_auto_rows": null,
            "grid_column": null,
            "grid_gap": null,
            "grid_row": null,
            "grid_template_areas": null,
            "grid_template_columns": null,
            "grid_template_rows": null,
            "height": null,
            "justify_content": null,
            "justify_items": null,
            "left": null,
            "margin": null,
            "max_height": null,
            "max_width": null,
            "min_height": null,
            "min_width": null,
            "object_fit": null,
            "object_position": null,
            "order": null,
            "overflow": null,
            "overflow_x": null,
            "overflow_y": null,
            "padding": null,
            "right": null,
            "top": null,
            "visibility": null,
            "width": null
          }
        },
        "ebe41b47ee804afb996d5d024fe017ef": {
          "model_module": "@jupyter-widgets/controls",
          "model_name": "DescriptionStyleModel",
          "model_module_version": "1.5.0",
          "state": {
            "_model_module": "@jupyter-widgets/controls",
            "_model_module_version": "1.5.0",
            "_model_name": "DescriptionStyleModel",
            "_view_count": null,
            "_view_module": "@jupyter-widgets/base",
            "_view_module_version": "1.2.0",
            "_view_name": "StyleView",
            "description_width": ""
          }
        },
        "e4db9875e3644e4eadc9bff1dcd5e3a0": {
          "model_module": "@jupyter-widgets/controls",
          "model_name": "HBoxModel",
          "model_module_version": "1.5.0",
          "state": {
            "_dom_classes": [],
            "_model_module": "@jupyter-widgets/controls",
            "_model_module_version": "1.5.0",
            "_model_name": "HBoxModel",
            "_view_count": null,
            "_view_module": "@jupyter-widgets/controls",
            "_view_module_version": "1.5.0",
            "_view_name": "HBoxView",
            "box_style": "",
            "children": [
              "IPY_MODEL_0276133d99a54041919fcf8b3ef25590",
              "IPY_MODEL_80089086ec4c423aba67add67ade7d74",
              "IPY_MODEL_ff78f5c62bc443a29b32deffcd11b278"
            ],
            "layout": "IPY_MODEL_92e557223640419da670adb335a29988"
          }
        },
        "0276133d99a54041919fcf8b3ef25590": {
          "model_module": "@jupyter-widgets/controls",
          "model_name": "HTMLModel",
          "model_module_version": "1.5.0",
          "state": {
            "_dom_classes": [],
            "_model_module": "@jupyter-widgets/controls",
            "_model_module_version": "1.5.0",
            "_model_name": "HTMLModel",
            "_view_count": null,
            "_view_module": "@jupyter-widgets/controls",
            "_view_module_version": "1.5.0",
            "_view_name": "HTMLView",
            "description": "",
            "description_tooltip": null,
            "layout": "IPY_MODEL_d8fff3466b5c41a8889881a0d757c940",
            "placeholder": "​",
            "style": "IPY_MODEL_1068442943b84bc6bf81dcd5ee8d66bb",
            "value": "model-00002-of-00004.safetensors: 100%"
          }
        },
        "80089086ec4c423aba67add67ade7d74": {
          "model_module": "@jupyter-widgets/controls",
          "model_name": "FloatProgressModel",
          "model_module_version": "1.5.0",
          "state": {
            "_dom_classes": [],
            "_model_module": "@jupyter-widgets/controls",
            "_model_module_version": "1.5.0",
            "_model_name": "FloatProgressModel",
            "_view_count": null,
            "_view_module": "@jupyter-widgets/controls",
            "_view_module_version": "1.5.0",
            "_view_name": "ProgressView",
            "bar_style": "success",
            "description": "",
            "description_tooltip": null,
            "layout": "IPY_MODEL_563903c3a20e4fddae1db40ba775e892",
            "max": 4999802720,
            "min": 0,
            "orientation": "horizontal",
            "style": "IPY_MODEL_78042ca4c54745ddbbedf0c9ecad7e77",
            "value": 4999802720
          }
        },
        "ff78f5c62bc443a29b32deffcd11b278": {
          "model_module": "@jupyter-widgets/controls",
          "model_name": "HTMLModel",
          "model_module_version": "1.5.0",
          "state": {
            "_dom_classes": [],
            "_model_module": "@jupyter-widgets/controls",
            "_model_module_version": "1.5.0",
            "_model_name": "HTMLModel",
            "_view_count": null,
            "_view_module": "@jupyter-widgets/controls",
            "_view_module_version": "1.5.0",
            "_view_name": "HTMLView",
            "description": "",
            "description_tooltip": null,
            "layout": "IPY_MODEL_ad11ebd9b80f48738a49003a4b6096d4",
            "placeholder": "​",
            "style": "IPY_MODEL_8aa2e40f03ae4971adbaf16df9e999f8",
            "value": " 5.00G/5.00G [01:58&lt;00:00, 42.2MB/s]"
          }
        },
        "92e557223640419da670adb335a29988": {
          "model_module": "@jupyter-widgets/base",
          "model_name": "LayoutModel",
          "model_module_version": "1.2.0",
          "state": {
            "_model_module": "@jupyter-widgets/base",
            "_model_module_version": "1.2.0",
            "_model_name": "LayoutModel",
            "_view_count": null,
            "_view_module": "@jupyter-widgets/base",
            "_view_module_version": "1.2.0",
            "_view_name": "LayoutView",
            "align_content": null,
            "align_items": null,
            "align_self": null,
            "border": null,
            "bottom": null,
            "display": null,
            "flex": null,
            "flex_flow": null,
            "grid_area": null,
            "grid_auto_columns": null,
            "grid_auto_flow": null,
            "grid_auto_rows": null,
            "grid_column": null,
            "grid_gap": null,
            "grid_row": null,
            "grid_template_areas": null,
            "grid_template_columns": null,
            "grid_template_rows": null,
            "height": null,
            "justify_content": null,
            "justify_items": null,
            "left": null,
            "margin": null,
            "max_height": null,
            "max_width": null,
            "min_height": null,
            "min_width": null,
            "object_fit": null,
            "object_position": null,
            "order": null,
            "overflow": null,
            "overflow_x": null,
            "overflow_y": null,
            "padding": null,
            "right": null,
            "top": null,
            "visibility": null,
            "width": null
          }
        },
        "d8fff3466b5c41a8889881a0d757c940": {
          "model_module": "@jupyter-widgets/base",
          "model_name": "LayoutModel",
          "model_module_version": "1.2.0",
          "state": {
            "_model_module": "@jupyter-widgets/base",
            "_model_module_version": "1.2.0",
            "_model_name": "LayoutModel",
            "_view_count": null,
            "_view_module": "@jupyter-widgets/base",
            "_view_module_version": "1.2.0",
            "_view_name": "LayoutView",
            "align_content": null,
            "align_items": null,
            "align_self": null,
            "border": null,
            "bottom": null,
            "display": null,
            "flex": null,
            "flex_flow": null,
            "grid_area": null,
            "grid_auto_columns": null,
            "grid_auto_flow": null,
            "grid_auto_rows": null,
            "grid_column": null,
            "grid_gap": null,
            "grid_row": null,
            "grid_template_areas": null,
            "grid_template_columns": null,
            "grid_template_rows": null,
            "height": null,
            "justify_content": null,
            "justify_items": null,
            "left": null,
            "margin": null,
            "max_height": null,
            "max_width": null,
            "min_height": null,
            "min_width": null,
            "object_fit": null,
            "object_position": null,
            "order": null,
            "overflow": null,
            "overflow_x": null,
            "overflow_y": null,
            "padding": null,
            "right": null,
            "top": null,
            "visibility": null,
            "width": null
          }
        },
        "1068442943b84bc6bf81dcd5ee8d66bb": {
          "model_module": "@jupyter-widgets/controls",
          "model_name": "DescriptionStyleModel",
          "model_module_version": "1.5.0",
          "state": {
            "_model_module": "@jupyter-widgets/controls",
            "_model_module_version": "1.5.0",
            "_model_name": "DescriptionStyleModel",
            "_view_count": null,
            "_view_module": "@jupyter-widgets/base",
            "_view_module_version": "1.2.0",
            "_view_name": "StyleView",
            "description_width": ""
          }
        },
        "563903c3a20e4fddae1db40ba775e892": {
          "model_module": "@jupyter-widgets/base",
          "model_name": "LayoutModel",
          "model_module_version": "1.2.0",
          "state": {
            "_model_module": "@jupyter-widgets/base",
            "_model_module_version": "1.2.0",
            "_model_name": "LayoutModel",
            "_view_count": null,
            "_view_module": "@jupyter-widgets/base",
            "_view_module_version": "1.2.0",
            "_view_name": "LayoutView",
            "align_content": null,
            "align_items": null,
            "align_self": null,
            "border": null,
            "bottom": null,
            "display": null,
            "flex": null,
            "flex_flow": null,
            "grid_area": null,
            "grid_auto_columns": null,
            "grid_auto_flow": null,
            "grid_auto_rows": null,
            "grid_column": null,
            "grid_gap": null,
            "grid_row": null,
            "grid_template_areas": null,
            "grid_template_columns": null,
            "grid_template_rows": null,
            "height": null,
            "justify_content": null,
            "justify_items": null,
            "left": null,
            "margin": null,
            "max_height": null,
            "max_width": null,
            "min_height": null,
            "min_width": null,
            "object_fit": null,
            "object_position": null,
            "order": null,
            "overflow": null,
            "overflow_x": null,
            "overflow_y": null,
            "padding": null,
            "right": null,
            "top": null,
            "visibility": null,
            "width": null
          }
        },
        "78042ca4c54745ddbbedf0c9ecad7e77": {
          "model_module": "@jupyter-widgets/controls",
          "model_name": "ProgressStyleModel",
          "model_module_version": "1.5.0",
          "state": {
            "_model_module": "@jupyter-widgets/controls",
            "_model_module_version": "1.5.0",
            "_model_name": "ProgressStyleModel",
            "_view_count": null,
            "_view_module": "@jupyter-widgets/base",
            "_view_module_version": "1.2.0",
            "_view_name": "StyleView",
            "bar_color": null,
            "description_width": ""
          }
        },
        "ad11ebd9b80f48738a49003a4b6096d4": {
          "model_module": "@jupyter-widgets/base",
          "model_name": "LayoutModel",
          "model_module_version": "1.2.0",
          "state": {
            "_model_module": "@jupyter-widgets/base",
            "_model_module_version": "1.2.0",
            "_model_name": "LayoutModel",
            "_view_count": null,
            "_view_module": "@jupyter-widgets/base",
            "_view_module_version": "1.2.0",
            "_view_name": "LayoutView",
            "align_content": null,
            "align_items": null,
            "align_self": null,
            "border": null,
            "bottom": null,
            "display": null,
            "flex": null,
            "flex_flow": null,
            "grid_area": null,
            "grid_auto_columns": null,
            "grid_auto_flow": null,
            "grid_auto_rows": null,
            "grid_column": null,
            "grid_gap": null,
            "grid_row": null,
            "grid_template_areas": null,
            "grid_template_columns": null,
            "grid_template_rows": null,
            "height": null,
            "justify_content": null,
            "justify_items": null,
            "left": null,
            "margin": null,
            "max_height": null,
            "max_width": null,
            "min_height": null,
            "min_width": null,
            "object_fit": null,
            "object_position": null,
            "order": null,
            "overflow": null,
            "overflow_x": null,
            "overflow_y": null,
            "padding": null,
            "right": null,
            "top": null,
            "visibility": null,
            "width": null
          }
        },
        "8aa2e40f03ae4971adbaf16df9e999f8": {
          "model_module": "@jupyter-widgets/controls",
          "model_name": "DescriptionStyleModel",
          "model_module_version": "1.5.0",
          "state": {
            "_model_module": "@jupyter-widgets/controls",
            "_model_module_version": "1.5.0",
            "_model_name": "DescriptionStyleModel",
            "_view_count": null,
            "_view_module": "@jupyter-widgets/base",
            "_view_module_version": "1.2.0",
            "_view_name": "StyleView",
            "description_width": ""
          }
        },
        "ab2c335bedc34a6ea6193ea0abb3b254": {
          "model_module": "@jupyter-widgets/controls",
          "model_name": "HBoxModel",
          "model_module_version": "1.5.0",
          "state": {
            "_dom_classes": [],
            "_model_module": "@jupyter-widgets/controls",
            "_model_module_version": "1.5.0",
            "_model_name": "HBoxModel",
            "_view_count": null,
            "_view_module": "@jupyter-widgets/controls",
            "_view_module_version": "1.5.0",
            "_view_name": "HBoxView",
            "box_style": "",
            "children": [
              "IPY_MODEL_0cd656b93ee74fea83ab5dd54aef618e",
              "IPY_MODEL_16e537e39f2747239c6239b7d59308b2",
              "IPY_MODEL_bd54bcff41c149ef9312cfbae046037a"
            ],
            "layout": "IPY_MODEL_8b88e2ae7b7341f0b3d60936e8ffdfe4"
          }
        },
        "0cd656b93ee74fea83ab5dd54aef618e": {
          "model_module": "@jupyter-widgets/controls",
          "model_name": "HTMLModel",
          "model_module_version": "1.5.0",
          "state": {
            "_dom_classes": [],
            "_model_module": "@jupyter-widgets/controls",
            "_model_module_version": "1.5.0",
            "_model_name": "HTMLModel",
            "_view_count": null,
            "_view_module": "@jupyter-widgets/controls",
            "_view_module_version": "1.5.0",
            "_view_name": "HTMLView",
            "description": "",
            "description_tooltip": null,
            "layout": "IPY_MODEL_717f0f2e9e774c2bba969683f957d5ef",
            "placeholder": "​",
            "style": "IPY_MODEL_f3fbfc5ed1a9410db8912296cbd8b53c",
            "value": "model-00003-of-00004.safetensors: 100%"
          }
        },
        "16e537e39f2747239c6239b7d59308b2": {
          "model_module": "@jupyter-widgets/controls",
          "model_name": "FloatProgressModel",
          "model_module_version": "1.5.0",
          "state": {
            "_dom_classes": [],
            "_model_module": "@jupyter-widgets/controls",
            "_model_module_version": "1.5.0",
            "_model_name": "FloatProgressModel",
            "_view_count": null,
            "_view_module": "@jupyter-widgets/controls",
            "_view_module_version": "1.5.0",
            "_view_name": "ProgressView",
            "bar_style": "success",
            "description": "",
            "description_tooltip": null,
            "layout": "IPY_MODEL_dc3c0f38fe6143e49e8c4cda579d691f",
            "max": 4915916176,
            "min": 0,
            "orientation": "horizontal",
            "style": "IPY_MODEL_8327ca414e6543eb9f4e49d2aae2eb7b",
            "value": 4915916176
          }
        },
        "bd54bcff41c149ef9312cfbae046037a": {
          "model_module": "@jupyter-widgets/controls",
          "model_name": "HTMLModel",
          "model_module_version": "1.5.0",
          "state": {
            "_dom_classes": [],
            "_model_module": "@jupyter-widgets/controls",
            "_model_module_version": "1.5.0",
            "_model_name": "HTMLModel",
            "_view_count": null,
            "_view_module": "@jupyter-widgets/controls",
            "_view_module_version": "1.5.0",
            "_view_name": "HTMLView",
            "description": "",
            "description_tooltip": null,
            "layout": "IPY_MODEL_ff00677c85fc41fb90212a4ff9625231",
            "placeholder": "​",
            "style": "IPY_MODEL_928549ad98ca4f5aaae9afee593353b6",
            "value": " 4.92G/4.92G [01:56&lt;00:00, 42.3MB/s]"
          }
        },
        "8b88e2ae7b7341f0b3d60936e8ffdfe4": {
          "model_module": "@jupyter-widgets/base",
          "model_name": "LayoutModel",
          "model_module_version": "1.2.0",
          "state": {
            "_model_module": "@jupyter-widgets/base",
            "_model_module_version": "1.2.0",
            "_model_name": "LayoutModel",
            "_view_count": null,
            "_view_module": "@jupyter-widgets/base",
            "_view_module_version": "1.2.0",
            "_view_name": "LayoutView",
            "align_content": null,
            "align_items": null,
            "align_self": null,
            "border": null,
            "bottom": null,
            "display": null,
            "flex": null,
            "flex_flow": null,
            "grid_area": null,
            "grid_auto_columns": null,
            "grid_auto_flow": null,
            "grid_auto_rows": null,
            "grid_column": null,
            "grid_gap": null,
            "grid_row": null,
            "grid_template_areas": null,
            "grid_template_columns": null,
            "grid_template_rows": null,
            "height": null,
            "justify_content": null,
            "justify_items": null,
            "left": null,
            "margin": null,
            "max_height": null,
            "max_width": null,
            "min_height": null,
            "min_width": null,
            "object_fit": null,
            "object_position": null,
            "order": null,
            "overflow": null,
            "overflow_x": null,
            "overflow_y": null,
            "padding": null,
            "right": null,
            "top": null,
            "visibility": null,
            "width": null
          }
        },
        "717f0f2e9e774c2bba969683f957d5ef": {
          "model_module": "@jupyter-widgets/base",
          "model_name": "LayoutModel",
          "model_module_version": "1.2.0",
          "state": {
            "_model_module": "@jupyter-widgets/base",
            "_model_module_version": "1.2.0",
            "_model_name": "LayoutModel",
            "_view_count": null,
            "_view_module": "@jupyter-widgets/base",
            "_view_module_version": "1.2.0",
            "_view_name": "LayoutView",
            "align_content": null,
            "align_items": null,
            "align_self": null,
            "border": null,
            "bottom": null,
            "display": null,
            "flex": null,
            "flex_flow": null,
            "grid_area": null,
            "grid_auto_columns": null,
            "grid_auto_flow": null,
            "grid_auto_rows": null,
            "grid_column": null,
            "grid_gap": null,
            "grid_row": null,
            "grid_template_areas": null,
            "grid_template_columns": null,
            "grid_template_rows": null,
            "height": null,
            "justify_content": null,
            "justify_items": null,
            "left": null,
            "margin": null,
            "max_height": null,
            "max_width": null,
            "min_height": null,
            "min_width": null,
            "object_fit": null,
            "object_position": null,
            "order": null,
            "overflow": null,
            "overflow_x": null,
            "overflow_y": null,
            "padding": null,
            "right": null,
            "top": null,
            "visibility": null,
            "width": null
          }
        },
        "f3fbfc5ed1a9410db8912296cbd8b53c": {
          "model_module": "@jupyter-widgets/controls",
          "model_name": "DescriptionStyleModel",
          "model_module_version": "1.5.0",
          "state": {
            "_model_module": "@jupyter-widgets/controls",
            "_model_module_version": "1.5.0",
            "_model_name": "DescriptionStyleModel",
            "_view_count": null,
            "_view_module": "@jupyter-widgets/base",
            "_view_module_version": "1.2.0",
            "_view_name": "StyleView",
            "description_width": ""
          }
        },
        "dc3c0f38fe6143e49e8c4cda579d691f": {
          "model_module": "@jupyter-widgets/base",
          "model_name": "LayoutModel",
          "model_module_version": "1.2.0",
          "state": {
            "_model_module": "@jupyter-widgets/base",
            "_model_module_version": "1.2.0",
            "_model_name": "LayoutModel",
            "_view_count": null,
            "_view_module": "@jupyter-widgets/base",
            "_view_module_version": "1.2.0",
            "_view_name": "LayoutView",
            "align_content": null,
            "align_items": null,
            "align_self": null,
            "border": null,
            "bottom": null,
            "display": null,
            "flex": null,
            "flex_flow": null,
            "grid_area": null,
            "grid_auto_columns": null,
            "grid_auto_flow": null,
            "grid_auto_rows": null,
            "grid_column": null,
            "grid_gap": null,
            "grid_row": null,
            "grid_template_areas": null,
            "grid_template_columns": null,
            "grid_template_rows": null,
            "height": null,
            "justify_content": null,
            "justify_items": null,
            "left": null,
            "margin": null,
            "max_height": null,
            "max_width": null,
            "min_height": null,
            "min_width": null,
            "object_fit": null,
            "object_position": null,
            "order": null,
            "overflow": null,
            "overflow_x": null,
            "overflow_y": null,
            "padding": null,
            "right": null,
            "top": null,
            "visibility": null,
            "width": null
          }
        },
        "8327ca414e6543eb9f4e49d2aae2eb7b": {
          "model_module": "@jupyter-widgets/controls",
          "model_name": "ProgressStyleModel",
          "model_module_version": "1.5.0",
          "state": {
            "_model_module": "@jupyter-widgets/controls",
            "_model_module_version": "1.5.0",
            "_model_name": "ProgressStyleModel",
            "_view_count": null,
            "_view_module": "@jupyter-widgets/base",
            "_view_module_version": "1.2.0",
            "_view_name": "StyleView",
            "bar_color": null,
            "description_width": ""
          }
        },
        "ff00677c85fc41fb90212a4ff9625231": {
          "model_module": "@jupyter-widgets/base",
          "model_name": "LayoutModel",
          "model_module_version": "1.2.0",
          "state": {
            "_model_module": "@jupyter-widgets/base",
            "_model_module_version": "1.2.0",
            "_model_name": "LayoutModel",
            "_view_count": null,
            "_view_module": "@jupyter-widgets/base",
            "_view_module_version": "1.2.0",
            "_view_name": "LayoutView",
            "align_content": null,
            "align_items": null,
            "align_self": null,
            "border": null,
            "bottom": null,
            "display": null,
            "flex": null,
            "flex_flow": null,
            "grid_area": null,
            "grid_auto_columns": null,
            "grid_auto_flow": null,
            "grid_auto_rows": null,
            "grid_column": null,
            "grid_gap": null,
            "grid_row": null,
            "grid_template_areas": null,
            "grid_template_columns": null,
            "grid_template_rows": null,
            "height": null,
            "justify_content": null,
            "justify_items": null,
            "left": null,
            "margin": null,
            "max_height": null,
            "max_width": null,
            "min_height": null,
            "min_width": null,
            "object_fit": null,
            "object_position": null,
            "order": null,
            "overflow": null,
            "overflow_x": null,
            "overflow_y": null,
            "padding": null,
            "right": null,
            "top": null,
            "visibility": null,
            "width": null
          }
        },
        "928549ad98ca4f5aaae9afee593353b6": {
          "model_module": "@jupyter-widgets/controls",
          "model_name": "DescriptionStyleModel",
          "model_module_version": "1.5.0",
          "state": {
            "_model_module": "@jupyter-widgets/controls",
            "_model_module_version": "1.5.0",
            "_model_name": "DescriptionStyleModel",
            "_view_count": null,
            "_view_module": "@jupyter-widgets/base",
            "_view_module_version": "1.2.0",
            "_view_name": "StyleView",
            "description_width": ""
          }
        },
        "448d7962e5ef42deb9e27e46e9f0b9dd": {
          "model_module": "@jupyter-widgets/controls",
          "model_name": "HBoxModel",
          "model_module_version": "1.5.0",
          "state": {
            "_dom_classes": [],
            "_model_module": "@jupyter-widgets/controls",
            "_model_module_version": "1.5.0",
            "_model_name": "HBoxModel",
            "_view_count": null,
            "_view_module": "@jupyter-widgets/controls",
            "_view_module_version": "1.5.0",
            "_view_name": "HBoxView",
            "box_style": "",
            "children": [
              "IPY_MODEL_c4efc563a586475293c2e7fa4b67a0ab",
              "IPY_MODEL_d2637ef8e93e45ad9d4ec62a3000e825",
              "IPY_MODEL_d21b7220913443e9944f81acd44299f0"
            ],
            "layout": "IPY_MODEL_0a30f76ba06f4c00978103190322e35d"
          }
        },
        "c4efc563a586475293c2e7fa4b67a0ab": {
          "model_module": "@jupyter-widgets/controls",
          "model_name": "HTMLModel",
          "model_module_version": "1.5.0",
          "state": {
            "_dom_classes": [],
            "_model_module": "@jupyter-widgets/controls",
            "_model_module_version": "1.5.0",
            "_model_name": "HTMLModel",
            "_view_count": null,
            "_view_module": "@jupyter-widgets/controls",
            "_view_module_version": "1.5.0",
            "_view_name": "HTMLView",
            "description": "",
            "description_tooltip": null,
            "layout": "IPY_MODEL_336fdde4445b485cb02114503d99fed9",
            "placeholder": "​",
            "style": "IPY_MODEL_3327bdac9e6948da86c8d9c8cfcbe98d",
            "value": "model-00004-of-00004.safetensors: 100%"
          }
        },
        "d2637ef8e93e45ad9d4ec62a3000e825": {
          "model_module": "@jupyter-widgets/controls",
          "model_name": "FloatProgressModel",
          "model_module_version": "1.5.0",
          "state": {
            "_dom_classes": [],
            "_model_module": "@jupyter-widgets/controls",
            "_model_module_version": "1.5.0",
            "_model_name": "FloatProgressModel",
            "_view_count": null,
            "_view_module": "@jupyter-widgets/controls",
            "_view_module_version": "1.5.0",
            "_view_name": "ProgressView",
            "bar_style": "success",
            "description": "",
            "description_tooltip": null,
            "layout": "IPY_MODEL_cf5fc5b42f7241ecb886fc0efff3b00f",
            "max": 1168138808,
            "min": 0,
            "orientation": "horizontal",
            "style": "IPY_MODEL_2bf84177f8f44f569a94fdabd0402020",
            "value": 1168138808
          }
        },
        "d21b7220913443e9944f81acd44299f0": {
          "model_module": "@jupyter-widgets/controls",
          "model_name": "HTMLModel",
          "model_module_version": "1.5.0",
          "state": {
            "_dom_classes": [],
            "_model_module": "@jupyter-widgets/controls",
            "_model_module_version": "1.5.0",
            "_model_name": "HTMLModel",
            "_view_count": null,
            "_view_module": "@jupyter-widgets/controls",
            "_view_module_version": "1.5.0",
            "_view_name": "HTMLView",
            "description": "",
            "description_tooltip": null,
            "layout": "IPY_MODEL_6ffacf92a5434d2eb306d9a1c87a421e",
            "placeholder": "​",
            "style": "IPY_MODEL_e81b3d1797b44452bb22cb913fb7a59f",
            "value": " 1.17G/1.17G [00:27&lt;00:00, 42.5MB/s]"
          }
        },
        "0a30f76ba06f4c00978103190322e35d": {
          "model_module": "@jupyter-widgets/base",
          "model_name": "LayoutModel",
          "model_module_version": "1.2.0",
          "state": {
            "_model_module": "@jupyter-widgets/base",
            "_model_module_version": "1.2.0",
            "_model_name": "LayoutModel",
            "_view_count": null,
            "_view_module": "@jupyter-widgets/base",
            "_view_module_version": "1.2.0",
            "_view_name": "LayoutView",
            "align_content": null,
            "align_items": null,
            "align_self": null,
            "border": null,
            "bottom": null,
            "display": null,
            "flex": null,
            "flex_flow": null,
            "grid_area": null,
            "grid_auto_columns": null,
            "grid_auto_flow": null,
            "grid_auto_rows": null,
            "grid_column": null,
            "grid_gap": null,
            "grid_row": null,
            "grid_template_areas": null,
            "grid_template_columns": null,
            "grid_template_rows": null,
            "height": null,
            "justify_content": null,
            "justify_items": null,
            "left": null,
            "margin": null,
            "max_height": null,
            "max_width": null,
            "min_height": null,
            "min_width": null,
            "object_fit": null,
            "object_position": null,
            "order": null,
            "overflow": null,
            "overflow_x": null,
            "overflow_y": null,
            "padding": null,
            "right": null,
            "top": null,
            "visibility": null,
            "width": null
          }
        },
        "336fdde4445b485cb02114503d99fed9": {
          "model_module": "@jupyter-widgets/base",
          "model_name": "LayoutModel",
          "model_module_version": "1.2.0",
          "state": {
            "_model_module": "@jupyter-widgets/base",
            "_model_module_version": "1.2.0",
            "_model_name": "LayoutModel",
            "_view_count": null,
            "_view_module": "@jupyter-widgets/base",
            "_view_module_version": "1.2.0",
            "_view_name": "LayoutView",
            "align_content": null,
            "align_items": null,
            "align_self": null,
            "border": null,
            "bottom": null,
            "display": null,
            "flex": null,
            "flex_flow": null,
            "grid_area": null,
            "grid_auto_columns": null,
            "grid_auto_flow": null,
            "grid_auto_rows": null,
            "grid_column": null,
            "grid_gap": null,
            "grid_row": null,
            "grid_template_areas": null,
            "grid_template_columns": null,
            "grid_template_rows": null,
            "height": null,
            "justify_content": null,
            "justify_items": null,
            "left": null,
            "margin": null,
            "max_height": null,
            "max_width": null,
            "min_height": null,
            "min_width": null,
            "object_fit": null,
            "object_position": null,
            "order": null,
            "overflow": null,
            "overflow_x": null,
            "overflow_y": null,
            "padding": null,
            "right": null,
            "top": null,
            "visibility": null,
            "width": null
          }
        },
        "3327bdac9e6948da86c8d9c8cfcbe98d": {
          "model_module": "@jupyter-widgets/controls",
          "model_name": "DescriptionStyleModel",
          "model_module_version": "1.5.0",
          "state": {
            "_model_module": "@jupyter-widgets/controls",
            "_model_module_version": "1.5.0",
            "_model_name": "DescriptionStyleModel",
            "_view_count": null,
            "_view_module": "@jupyter-widgets/base",
            "_view_module_version": "1.2.0",
            "_view_name": "StyleView",
            "description_width": ""
          }
        },
        "cf5fc5b42f7241ecb886fc0efff3b00f": {
          "model_module": "@jupyter-widgets/base",
          "model_name": "LayoutModel",
          "model_module_version": "1.2.0",
          "state": {
            "_model_module": "@jupyter-widgets/base",
            "_model_module_version": "1.2.0",
            "_model_name": "LayoutModel",
            "_view_count": null,
            "_view_module": "@jupyter-widgets/base",
            "_view_module_version": "1.2.0",
            "_view_name": "LayoutView",
            "align_content": null,
            "align_items": null,
            "align_self": null,
            "border": null,
            "bottom": null,
            "display": null,
            "flex": null,
            "flex_flow": null,
            "grid_area": null,
            "grid_auto_columns": null,
            "grid_auto_flow": null,
            "grid_auto_rows": null,
            "grid_column": null,
            "grid_gap": null,
            "grid_row": null,
            "grid_template_areas": null,
            "grid_template_columns": null,
            "grid_template_rows": null,
            "height": null,
            "justify_content": null,
            "justify_items": null,
            "left": null,
            "margin": null,
            "max_height": null,
            "max_width": null,
            "min_height": null,
            "min_width": null,
            "object_fit": null,
            "object_position": null,
            "order": null,
            "overflow": null,
            "overflow_x": null,
            "overflow_y": null,
            "padding": null,
            "right": null,
            "top": null,
            "visibility": null,
            "width": null
          }
        },
        "2bf84177f8f44f569a94fdabd0402020": {
          "model_module": "@jupyter-widgets/controls",
          "model_name": "ProgressStyleModel",
          "model_module_version": "1.5.0",
          "state": {
            "_model_module": "@jupyter-widgets/controls",
            "_model_module_version": "1.5.0",
            "_model_name": "ProgressStyleModel",
            "_view_count": null,
            "_view_module": "@jupyter-widgets/base",
            "_view_module_version": "1.2.0",
            "_view_name": "StyleView",
            "bar_color": null,
            "description_width": ""
          }
        },
        "6ffacf92a5434d2eb306d9a1c87a421e": {
          "model_module": "@jupyter-widgets/base",
          "model_name": "LayoutModel",
          "model_module_version": "1.2.0",
          "state": {
            "_model_module": "@jupyter-widgets/base",
            "_model_module_version": "1.2.0",
            "_model_name": "LayoutModel",
            "_view_count": null,
            "_view_module": "@jupyter-widgets/base",
            "_view_module_version": "1.2.0",
            "_view_name": "LayoutView",
            "align_content": null,
            "align_items": null,
            "align_self": null,
            "border": null,
            "bottom": null,
            "display": null,
            "flex": null,
            "flex_flow": null,
            "grid_area": null,
            "grid_auto_columns": null,
            "grid_auto_flow": null,
            "grid_auto_rows": null,
            "grid_column": null,
            "grid_gap": null,
            "grid_row": null,
            "grid_template_areas": null,
            "grid_template_columns": null,
            "grid_template_rows": null,
            "height": null,
            "justify_content": null,
            "justify_items": null,
            "left": null,
            "margin": null,
            "max_height": null,
            "max_width": null,
            "min_height": null,
            "min_width": null,
            "object_fit": null,
            "object_position": null,
            "order": null,
            "overflow": null,
            "overflow_x": null,
            "overflow_y": null,
            "padding": null,
            "right": null,
            "top": null,
            "visibility": null,
            "width": null
          }
        },
        "e81b3d1797b44452bb22cb913fb7a59f": {
          "model_module": "@jupyter-widgets/controls",
          "model_name": "DescriptionStyleModel",
          "model_module_version": "1.5.0",
          "state": {
            "_model_module": "@jupyter-widgets/controls",
            "_model_module_version": "1.5.0",
            "_model_name": "DescriptionStyleModel",
            "_view_count": null,
            "_view_module": "@jupyter-widgets/base",
            "_view_module_version": "1.2.0",
            "_view_name": "StyleView",
            "description_width": ""
          }
        },
        "5904334db0ae49988d5bae080970115d": {
          "model_module": "@jupyter-widgets/controls",
          "model_name": "HBoxModel",
          "model_module_version": "1.5.0",
          "state": {
            "_dom_classes": [],
            "_model_module": "@jupyter-widgets/controls",
            "_model_module_version": "1.5.0",
            "_model_name": "HBoxModel",
            "_view_count": null,
            "_view_module": "@jupyter-widgets/controls",
            "_view_module_version": "1.5.0",
            "_view_name": "HBoxView",
            "box_style": "",
            "children": [
              "IPY_MODEL_90cb59c026ef4ac9bd9a0bd0adfee65e",
              "IPY_MODEL_7809be3a8c6e4f5491f17415ab8f1827",
              "IPY_MODEL_279aaf92aad243a09a50bc9ebc8555ed"
            ],
            "layout": "IPY_MODEL_757650485337470cb613854d680c89f1"
          }
        },
        "90cb59c026ef4ac9bd9a0bd0adfee65e": {
          "model_module": "@jupyter-widgets/controls",
          "model_name": "HTMLModel",
          "model_module_version": "1.5.0",
          "state": {
            "_dom_classes": [],
            "_model_module": "@jupyter-widgets/controls",
            "_model_module_version": "1.5.0",
            "_model_name": "HTMLModel",
            "_view_count": null,
            "_view_module": "@jupyter-widgets/controls",
            "_view_module_version": "1.5.0",
            "_view_name": "HTMLView",
            "description": "",
            "description_tooltip": null,
            "layout": "IPY_MODEL_300e7276d3a64b6db4dbe6485a2ad049",
            "placeholder": "​",
            "style": "IPY_MODEL_014131e615484ed3b2844ebccf585458",
            "value": "Loading checkpoint shards: 100%"
          }
        },
        "7809be3a8c6e4f5491f17415ab8f1827": {
          "model_module": "@jupyter-widgets/controls",
          "model_name": "FloatProgressModel",
          "model_module_version": "1.5.0",
          "state": {
            "_dom_classes": [],
            "_model_module": "@jupyter-widgets/controls",
            "_model_module_version": "1.5.0",
            "_model_name": "FloatProgressModel",
            "_view_count": null,
            "_view_module": "@jupyter-widgets/controls",
            "_view_module_version": "1.5.0",
            "_view_name": "ProgressView",
            "bar_style": "success",
            "description": "",
            "description_tooltip": null,
            "layout": "IPY_MODEL_59f4695fe7a2432ab3ce00c25a7bc5af",
            "max": 4,
            "min": 0,
            "orientation": "horizontal",
            "style": "IPY_MODEL_7fe8b4e572714818911189f7544e8700",
            "value": 4
          }
        },
        "279aaf92aad243a09a50bc9ebc8555ed": {
          "model_module": "@jupyter-widgets/controls",
          "model_name": "HTMLModel",
          "model_module_version": "1.5.0",
          "state": {
            "_dom_classes": [],
            "_model_module": "@jupyter-widgets/controls",
            "_model_module_version": "1.5.0",
            "_model_name": "HTMLModel",
            "_view_count": null,
            "_view_module": "@jupyter-widgets/controls",
            "_view_module_version": "1.5.0",
            "_view_name": "HTMLView",
            "description": "",
            "description_tooltip": null,
            "layout": "IPY_MODEL_38d760c609e84f9d97868283fe9d7861",
            "placeholder": "​",
            "style": "IPY_MODEL_a669b1c945484038a4ab91afcb655985",
            "value": " 4/4 [01:23&lt;00:00, 18.56s/it]"
          }
        },
        "757650485337470cb613854d680c89f1": {
          "model_module": "@jupyter-widgets/base",
          "model_name": "LayoutModel",
          "model_module_version": "1.2.0",
          "state": {
            "_model_module": "@jupyter-widgets/base",
            "_model_module_version": "1.2.0",
            "_model_name": "LayoutModel",
            "_view_count": null,
            "_view_module": "@jupyter-widgets/base",
            "_view_module_version": "1.2.0",
            "_view_name": "LayoutView",
            "align_content": null,
            "align_items": null,
            "align_self": null,
            "border": null,
            "bottom": null,
            "display": null,
            "flex": null,
            "flex_flow": null,
            "grid_area": null,
            "grid_auto_columns": null,
            "grid_auto_flow": null,
            "grid_auto_rows": null,
            "grid_column": null,
            "grid_gap": null,
            "grid_row": null,
            "grid_template_areas": null,
            "grid_template_columns": null,
            "grid_template_rows": null,
            "height": null,
            "justify_content": null,
            "justify_items": null,
            "left": null,
            "margin": null,
            "max_height": null,
            "max_width": null,
            "min_height": null,
            "min_width": null,
            "object_fit": null,
            "object_position": null,
            "order": null,
            "overflow": null,
            "overflow_x": null,
            "overflow_y": null,
            "padding": null,
            "right": null,
            "top": null,
            "visibility": null,
            "width": null
          }
        },
        "300e7276d3a64b6db4dbe6485a2ad049": {
          "model_module": "@jupyter-widgets/base",
          "model_name": "LayoutModel",
          "model_module_version": "1.2.0",
          "state": {
            "_model_module": "@jupyter-widgets/base",
            "_model_module_version": "1.2.0",
            "_model_name": "LayoutModel",
            "_view_count": null,
            "_view_module": "@jupyter-widgets/base",
            "_view_module_version": "1.2.0",
            "_view_name": "LayoutView",
            "align_content": null,
            "align_items": null,
            "align_self": null,
            "border": null,
            "bottom": null,
            "display": null,
            "flex": null,
            "flex_flow": null,
            "grid_area": null,
            "grid_auto_columns": null,
            "grid_auto_flow": null,
            "grid_auto_rows": null,
            "grid_column": null,
            "grid_gap": null,
            "grid_row": null,
            "grid_template_areas": null,
            "grid_template_columns": null,
            "grid_template_rows": null,
            "height": null,
            "justify_content": null,
            "justify_items": null,
            "left": null,
            "margin": null,
            "max_height": null,
            "max_width": null,
            "min_height": null,
            "min_width": null,
            "object_fit": null,
            "object_position": null,
            "order": null,
            "overflow": null,
            "overflow_x": null,
            "overflow_y": null,
            "padding": null,
            "right": null,
            "top": null,
            "visibility": null,
            "width": null
          }
        },
        "014131e615484ed3b2844ebccf585458": {
          "model_module": "@jupyter-widgets/controls",
          "model_name": "DescriptionStyleModel",
          "model_module_version": "1.5.0",
          "state": {
            "_model_module": "@jupyter-widgets/controls",
            "_model_module_version": "1.5.0",
            "_model_name": "DescriptionStyleModel",
            "_view_count": null,
            "_view_module": "@jupyter-widgets/base",
            "_view_module_version": "1.2.0",
            "_view_name": "StyleView",
            "description_width": ""
          }
        },
        "59f4695fe7a2432ab3ce00c25a7bc5af": {
          "model_module": "@jupyter-widgets/base",
          "model_name": "LayoutModel",
          "model_module_version": "1.2.0",
          "state": {
            "_model_module": "@jupyter-widgets/base",
            "_model_module_version": "1.2.0",
            "_model_name": "LayoutModel",
            "_view_count": null,
            "_view_module": "@jupyter-widgets/base",
            "_view_module_version": "1.2.0",
            "_view_name": "LayoutView",
            "align_content": null,
            "align_items": null,
            "align_self": null,
            "border": null,
            "bottom": null,
            "display": null,
            "flex": null,
            "flex_flow": null,
            "grid_area": null,
            "grid_auto_columns": null,
            "grid_auto_flow": null,
            "grid_auto_rows": null,
            "grid_column": null,
            "grid_gap": null,
            "grid_row": null,
            "grid_template_areas": null,
            "grid_template_columns": null,
            "grid_template_rows": null,
            "height": null,
            "justify_content": null,
            "justify_items": null,
            "left": null,
            "margin": null,
            "max_height": null,
            "max_width": null,
            "min_height": null,
            "min_width": null,
            "object_fit": null,
            "object_position": null,
            "order": null,
            "overflow": null,
            "overflow_x": null,
            "overflow_y": null,
            "padding": null,
            "right": null,
            "top": null,
            "visibility": null,
            "width": null
          }
        },
        "7fe8b4e572714818911189f7544e8700": {
          "model_module": "@jupyter-widgets/controls",
          "model_name": "ProgressStyleModel",
          "model_module_version": "1.5.0",
          "state": {
            "_model_module": "@jupyter-widgets/controls",
            "_model_module_version": "1.5.0",
            "_model_name": "ProgressStyleModel",
            "_view_count": null,
            "_view_module": "@jupyter-widgets/base",
            "_view_module_version": "1.2.0",
            "_view_name": "StyleView",
            "bar_color": null,
            "description_width": ""
          }
        },
        "38d760c609e84f9d97868283fe9d7861": {
          "model_module": "@jupyter-widgets/base",
          "model_name": "LayoutModel",
          "model_module_version": "1.2.0",
          "state": {
            "_model_module": "@jupyter-widgets/base",
            "_model_module_version": "1.2.0",
            "_model_name": "LayoutModel",
            "_view_count": null,
            "_view_module": "@jupyter-widgets/base",
            "_view_module_version": "1.2.0",
            "_view_name": "LayoutView",
            "align_content": null,
            "align_items": null,
            "align_self": null,
            "border": null,
            "bottom": null,
            "display": null,
            "flex": null,
            "flex_flow": null,
            "grid_area": null,
            "grid_auto_columns": null,
            "grid_auto_flow": null,
            "grid_auto_rows": null,
            "grid_column": null,
            "grid_gap": null,
            "grid_row": null,
            "grid_template_areas": null,
            "grid_template_columns": null,
            "grid_template_rows": null,
            "height": null,
            "justify_content": null,
            "justify_items": null,
            "left": null,
            "margin": null,
            "max_height": null,
            "max_width": null,
            "min_height": null,
            "min_width": null,
            "object_fit": null,
            "object_position": null,
            "order": null,
            "overflow": null,
            "overflow_x": null,
            "overflow_y": null,
            "padding": null,
            "right": null,
            "top": null,
            "visibility": null,
            "width": null
          }
        },
        "a669b1c945484038a4ab91afcb655985": {
          "model_module": "@jupyter-widgets/controls",
          "model_name": "DescriptionStyleModel",
          "model_module_version": "1.5.0",
          "state": {
            "_model_module": "@jupyter-widgets/controls",
            "_model_module_version": "1.5.0",
            "_model_name": "DescriptionStyleModel",
            "_view_count": null,
            "_view_module": "@jupyter-widgets/base",
            "_view_module_version": "1.2.0",
            "_view_name": "StyleView",
            "description_width": ""
          }
        },
        "8875c6ad78504a52938e6167929dc1f5": {
          "model_module": "@jupyter-widgets/controls",
          "model_name": "HBoxModel",
          "model_module_version": "1.5.0",
          "state": {
            "_dom_classes": [],
            "_model_module": "@jupyter-widgets/controls",
            "_model_module_version": "1.5.0",
            "_model_name": "HBoxModel",
            "_view_count": null,
            "_view_module": "@jupyter-widgets/controls",
            "_view_module_version": "1.5.0",
            "_view_name": "HBoxView",
            "box_style": "",
            "children": [
              "IPY_MODEL_aa41c527636f4ea5a2bb75abddb890d8",
              "IPY_MODEL_f175367e06344ee4bfb8a11a507b1544",
              "IPY_MODEL_9a6d07ea0a714e98b2964e692142ce8d"
            ],
            "layout": "IPY_MODEL_389c3e8e26964fc1a63c1f1e9fd2cfcb"
          }
        },
        "aa41c527636f4ea5a2bb75abddb890d8": {
          "model_module": "@jupyter-widgets/controls",
          "model_name": "HTMLModel",
          "model_module_version": "1.5.0",
          "state": {
            "_dom_classes": [],
            "_model_module": "@jupyter-widgets/controls",
            "_model_module_version": "1.5.0",
            "_model_name": "HTMLModel",
            "_view_count": null,
            "_view_module": "@jupyter-widgets/controls",
            "_view_module_version": "1.5.0",
            "_view_name": "HTMLView",
            "description": "",
            "description_tooltip": null,
            "layout": "IPY_MODEL_971e9811470b4037900841c22b40b914",
            "placeholder": "​",
            "style": "IPY_MODEL_4a219af54de341a98e5e083483465082",
            "value": "generation_config.json: 100%"
          }
        },
        "f175367e06344ee4bfb8a11a507b1544": {
          "model_module": "@jupyter-widgets/controls",
          "model_name": "FloatProgressModel",
          "model_module_version": "1.5.0",
          "state": {
            "_dom_classes": [],
            "_model_module": "@jupyter-widgets/controls",
            "_model_module_version": "1.5.0",
            "_model_name": "FloatProgressModel",
            "_view_count": null,
            "_view_module": "@jupyter-widgets/controls",
            "_view_module_version": "1.5.0",
            "_view_name": "ProgressView",
            "bar_style": "success",
            "description": "",
            "description_tooltip": null,
            "layout": "IPY_MODEL_ed173b012c1c47c380668270027107d4",
            "max": 184,
            "min": 0,
            "orientation": "horizontal",
            "style": "IPY_MODEL_3d7ec5d8dc52423ca0e22a0af27c4f9b",
            "value": 184
          }
        },
        "9a6d07ea0a714e98b2964e692142ce8d": {
          "model_module": "@jupyter-widgets/controls",
          "model_name": "HTMLModel",
          "model_module_version": "1.5.0",
          "state": {
            "_dom_classes": [],
            "_model_module": "@jupyter-widgets/controls",
            "_model_module_version": "1.5.0",
            "_model_name": "HTMLModel",
            "_view_count": null,
            "_view_module": "@jupyter-widgets/controls",
            "_view_module_version": "1.5.0",
            "_view_name": "HTMLView",
            "description": "",
            "description_tooltip": null,
            "layout": "IPY_MODEL_ec87902ed3f84dcca7d5819305b06b51",
            "placeholder": "​",
            "style": "IPY_MODEL_6926e4eebcae4e47811e8758f547d071",
            "value": " 184/184 [00:00&lt;00:00, 4.45kB/s]"
          }
        },
        "389c3e8e26964fc1a63c1f1e9fd2cfcb": {
          "model_module": "@jupyter-widgets/base",
          "model_name": "LayoutModel",
          "model_module_version": "1.2.0",
          "state": {
            "_model_module": "@jupyter-widgets/base",
            "_model_module_version": "1.2.0",
            "_model_name": "LayoutModel",
            "_view_count": null,
            "_view_module": "@jupyter-widgets/base",
            "_view_module_version": "1.2.0",
            "_view_name": "LayoutView",
            "align_content": null,
            "align_items": null,
            "align_self": null,
            "border": null,
            "bottom": null,
            "display": null,
            "flex": null,
            "flex_flow": null,
            "grid_area": null,
            "grid_auto_columns": null,
            "grid_auto_flow": null,
            "grid_auto_rows": null,
            "grid_column": null,
            "grid_gap": null,
            "grid_row": null,
            "grid_template_areas": null,
            "grid_template_columns": null,
            "grid_template_rows": null,
            "height": null,
            "justify_content": null,
            "justify_items": null,
            "left": null,
            "margin": null,
            "max_height": null,
            "max_width": null,
            "min_height": null,
            "min_width": null,
            "object_fit": null,
            "object_position": null,
            "order": null,
            "overflow": null,
            "overflow_x": null,
            "overflow_y": null,
            "padding": null,
            "right": null,
            "top": null,
            "visibility": null,
            "width": null
          }
        },
        "971e9811470b4037900841c22b40b914": {
          "model_module": "@jupyter-widgets/base",
          "model_name": "LayoutModel",
          "model_module_version": "1.2.0",
          "state": {
            "_model_module": "@jupyter-widgets/base",
            "_model_module_version": "1.2.0",
            "_model_name": "LayoutModel",
            "_view_count": null,
            "_view_module": "@jupyter-widgets/base",
            "_view_module_version": "1.2.0",
            "_view_name": "LayoutView",
            "align_content": null,
            "align_items": null,
            "align_self": null,
            "border": null,
            "bottom": null,
            "display": null,
            "flex": null,
            "flex_flow": null,
            "grid_area": null,
            "grid_auto_columns": null,
            "grid_auto_flow": null,
            "grid_auto_rows": null,
            "grid_column": null,
            "grid_gap": null,
            "grid_row": null,
            "grid_template_areas": null,
            "grid_template_columns": null,
            "grid_template_rows": null,
            "height": null,
            "justify_content": null,
            "justify_items": null,
            "left": null,
            "margin": null,
            "max_height": null,
            "max_width": null,
            "min_height": null,
            "min_width": null,
            "object_fit": null,
            "object_position": null,
            "order": null,
            "overflow": null,
            "overflow_x": null,
            "overflow_y": null,
            "padding": null,
            "right": null,
            "top": null,
            "visibility": null,
            "width": null
          }
        },
        "4a219af54de341a98e5e083483465082": {
          "model_module": "@jupyter-widgets/controls",
          "model_name": "DescriptionStyleModel",
          "model_module_version": "1.5.0",
          "state": {
            "_model_module": "@jupyter-widgets/controls",
            "_model_module_version": "1.5.0",
            "_model_name": "DescriptionStyleModel",
            "_view_count": null,
            "_view_module": "@jupyter-widgets/base",
            "_view_module_version": "1.2.0",
            "_view_name": "StyleView",
            "description_width": ""
          }
        },
        "ed173b012c1c47c380668270027107d4": {
          "model_module": "@jupyter-widgets/base",
          "model_name": "LayoutModel",
          "model_module_version": "1.2.0",
          "state": {
            "_model_module": "@jupyter-widgets/base",
            "_model_module_version": "1.2.0",
            "_model_name": "LayoutModel",
            "_view_count": null,
            "_view_module": "@jupyter-widgets/base",
            "_view_module_version": "1.2.0",
            "_view_name": "LayoutView",
            "align_content": null,
            "align_items": null,
            "align_self": null,
            "border": null,
            "bottom": null,
            "display": null,
            "flex": null,
            "flex_flow": null,
            "grid_area": null,
            "grid_auto_columns": null,
            "grid_auto_flow": null,
            "grid_auto_rows": null,
            "grid_column": null,
            "grid_gap": null,
            "grid_row": null,
            "grid_template_areas": null,
            "grid_template_columns": null,
            "grid_template_rows": null,
            "height": null,
            "justify_content": null,
            "justify_items": null,
            "left": null,
            "margin": null,
            "max_height": null,
            "max_width": null,
            "min_height": null,
            "min_width": null,
            "object_fit": null,
            "object_position": null,
            "order": null,
            "overflow": null,
            "overflow_x": null,
            "overflow_y": null,
            "padding": null,
            "right": null,
            "top": null,
            "visibility": null,
            "width": null
          }
        },
        "3d7ec5d8dc52423ca0e22a0af27c4f9b": {
          "model_module": "@jupyter-widgets/controls",
          "model_name": "ProgressStyleModel",
          "model_module_version": "1.5.0",
          "state": {
            "_model_module": "@jupyter-widgets/controls",
            "_model_module_version": "1.5.0",
            "_model_name": "ProgressStyleModel",
            "_view_count": null,
            "_view_module": "@jupyter-widgets/base",
            "_view_module_version": "1.2.0",
            "_view_name": "StyleView",
            "bar_color": null,
            "description_width": ""
          }
        },
        "ec87902ed3f84dcca7d5819305b06b51": {
          "model_module": "@jupyter-widgets/base",
          "model_name": "LayoutModel",
          "model_module_version": "1.2.0",
          "state": {
            "_model_module": "@jupyter-widgets/base",
            "_model_module_version": "1.2.0",
            "_model_name": "LayoutModel",
            "_view_count": null,
            "_view_module": "@jupyter-widgets/base",
            "_view_module_version": "1.2.0",
            "_view_name": "LayoutView",
            "align_content": null,
            "align_items": null,
            "align_self": null,
            "border": null,
            "bottom": null,
            "display": null,
            "flex": null,
            "flex_flow": null,
            "grid_area": null,
            "grid_auto_columns": null,
            "grid_auto_flow": null,
            "grid_auto_rows": null,
            "grid_column": null,
            "grid_gap": null,
            "grid_row": null,
            "grid_template_areas": null,
            "grid_template_columns": null,
            "grid_template_rows": null,
            "height": null,
            "justify_content": null,
            "justify_items": null,
            "left": null,
            "margin": null,
            "max_height": null,
            "max_width": null,
            "min_height": null,
            "min_width": null,
            "object_fit": null,
            "object_position": null,
            "order": null,
            "overflow": null,
            "overflow_x": null,
            "overflow_y": null,
            "padding": null,
            "right": null,
            "top": null,
            "visibility": null,
            "width": null
          }
        },
        "6926e4eebcae4e47811e8758f547d071": {
          "model_module": "@jupyter-widgets/controls",
          "model_name": "DescriptionStyleModel",
          "model_module_version": "1.5.0",
          "state": {
            "_model_module": "@jupyter-widgets/controls",
            "_model_module_version": "1.5.0",
            "_model_name": "DescriptionStyleModel",
            "_view_count": null,
            "_view_module": "@jupyter-widgets/base",
            "_view_module_version": "1.2.0",
            "_view_name": "StyleView",
            "description_width": ""
          }
        }
      }
    }
  },
  "nbformat": 4,
  "nbformat_minor": 0
}