{
  "cells": [
    {
      "cell_type": "markdown",
      "metadata": {
        "id": "view-in-github",
        "colab_type": "text"
      },
      "source": [
        "<a href=\"https://colab.research.google.com/github/MatteoFasulo/NLP/blob/main/lab/tutorial-1/tutorial1-2324.ipynb\" target=\"_parent\"><img src=\"https://colab.research.google.com/assets/colab-badge.svg\" alt=\"Open In Colab\"/></a>"
      ]
    },
    {
      "cell_type": "markdown",
      "metadata": {
        "id": "rduSZj7b5eiP"
      },
      "source": [
        "# Tutorial 1\n",
        "\n",
        "**Credits**: Andrea Galassi, Federico Ruggeri, Eleonora Mancini, Paolo Torroni\n",
        "\n",
        "**Keywords**: Data loading, Feature Extraction, Machine Learning, Text Classification, Sentiment Analysis"
      ]
    },
    {
      "cell_type": "markdown",
      "metadata": {
        "id": "m3wzWLL-LiKd"
      },
      "source": [
        "# Contact\n",
        "\n",
        "For any doubt, question, issue or help, you can always contact us at the following email addresses:\n",
        "\n",
        "Teaching Assistants:\n",
        "\n",
        "* Federico Ruggeri -> federico.ruggeri6@unibo.it\n",
        "* Eleonora Mancini -> e.mancini@unibo.it\n",
        "\n",
        "Professor:\n",
        "\n",
        "* Paolo Torroni -> p.torroni@unibo.it"
      ]
    },
    {
      "cell_type": "markdown",
      "metadata": {
        "id": "9GeoSRqo1Um4"
      },
      "source": [
        "## Important\n",
        "\n",
        "**Make sure** to put all of us in cc when contacting us via mail!"
      ]
    },
    {
      "cell_type": "markdown",
      "metadata": {
        "id": "ppUcBtx91Um5"
      },
      "source": [
        "## PART I ($\\sim$25 mins)\n",
        "\n",
        "*   How to **download** a dataset.\n",
        "*   How to **inspect** a dataset."
      ]
    },
    {
      "cell_type": "markdown",
      "metadata": {
        "id": "YDcoT1zM1Um5"
      },
      "source": [
        "## PART II ($\\sim$25 mins)\n",
        "\n",
        "* How to perform basic **text pre-processing** to identify input features."
      ]
    },
    {
      "cell_type": "markdown",
      "metadata": {
        "id": "ZN4-5ee61Um6"
      },
      "source": [
        "## PART III ($\\sim$25 mins)\n",
        "\n",
        "*   How to **train a classifier** on identified input features for sentiment classification.\n",
        "*   How to **evaluate** model performance and **inspect** its predictions."
      ]
    },
    {
      "cell_type": "markdown",
      "metadata": {
        "id": "mmRMQurh1Um7"
      },
      "source": [
        "## Task\n",
        "\n",
        "We consider the task of **document classification**.\n",
        "\n",
        "Specifically, we consider document **sentiment analysis** on movie reviews."
      ]
    },
    {
      "cell_type": "markdown",
      "metadata": {
        "id": "c4-E45fvrp3Z"
      },
      "source": [
        "## Preliminaries\n",
        "\n",
        "First of all, we need to import some useful packages that we will use during this hands-on session."
      ]
    },
    {
      "cell_type": "code",
      "execution_count": 1,
      "metadata": {
        "id": "of3D92OeWV8_"
      },
      "outputs": [],
      "source": [
        "# file management\n",
        "import sys\n",
        "import shutil\n",
        "import urllib\n",
        "import tarfile\n",
        "from pathlib import Path\n",
        "\n",
        "# dataframe management\n",
        "import pandas as pd\n",
        "\n",
        "# data manipulation\n",
        "import numpy as np\n",
        "\n",
        "# for readability\n",
        "from typing import Iterable\n",
        "\n",
        "# viz\n",
        "from tqdm import tqdm"
      ]
    },
    {
      "cell_type": "code",
      "execution_count": 2,
      "metadata": {
        "id": "nrESWdxO1UnA",
        "outputId": "7321c03d-3713-41fa-c6b4-fc105884229c",
        "colab": {
          "base_uri": "https://localhost:8080/"
        }
      },
      "outputs": [
        {
          "output_type": "execute_result",
          "data": {
            "text/plain": [
              "{'width': 1024, 'height': 768, 'scroll': True}"
            ]
          },
          "metadata": {},
          "execution_count": 2
        }
      ],
      "source": [
        "from notebook.services.config import ConfigManager\n",
        "cm = ConfigManager()\n",
        "cm.update('livereveal', {\n",
        "        'width': 1024,\n",
        "        'height': 768,\n",
        "        'scroll': True,\n",
        "})"
      ]
    },
    {
      "cell_type": "markdown",
      "metadata": {
        "id": "ARCKuf1S5GKg"
      },
      "source": [
        "# 1. Downloading the dataset"
      ]
    },
    {
      "cell_type": "markdown",
      "metadata": {
        "id": "d--rS8W95i62"
      },
      "source": [
        "We download the IMDB movie reviews dataset."
      ]
    },
    {
      "cell_type": "code",
      "execution_count": 3,
      "metadata": {
        "id": "DuEzzWUK1UnD"
      },
      "outputs": [],
      "source": [
        "class DownloadProgressBar(tqdm):\n",
        "    def update_to(self, b=1, bsize=1, tsize=None):\n",
        "        if tsize is not None:\n",
        "            self.total = tsize\n",
        "        self.update(b * bsize - self.n)\n",
        "\n",
        "def download_url(download_path: Path, url: str):\n",
        "    with DownloadProgressBar(unit='B', unit_scale=True,\n",
        "                             miniters=1, desc=url.split('/')[-1]) as t:\n",
        "        urllib.request.urlretrieve(url, filename=download_path, reporthook=t.update_to)\n"
      ]
    },
    {
      "cell_type": "code",
      "execution_count": 4,
      "metadata": {
        "id": "F1sz3B3n1UnD"
      },
      "outputs": [],
      "source": [
        "def download_dataset(download_path: Path, url: str):\n",
        "    print(\"Downloading dataset...\")\n",
        "    download_url(url=url, download_path=download_path)\n",
        "    print(\"Download complete!\")\n",
        "\n",
        "def extract_dataset(download_path: Path, extract_path: Path):\n",
        "    print(\"Extracting dataset... (it may take a while...)\")\n",
        "    with tarfile.open(download_path) as loaded_tar:\n",
        "        loaded_tar.extractall(extract_path)\n",
        "    print(\"Extraction completed!\")"
      ]
    },
    {
      "cell_type": "code",
      "execution_count": 5,
      "metadata": {
        "id": "NSvqBcKJ7iTY",
        "scrolled": true,
        "outputId": "8e21fade-933a-4c11-b662-26d95c154168",
        "colab": {
          "base_uri": "https://localhost:8080/"
        }
      },
      "outputs": [
        {
          "output_type": "stream",
          "name": "stdout",
          "text": [
            "Current work directory: /content\n"
          ]
        }
      ],
      "source": [
        "url = \"http://ai.stanford.edu/~amaas/data/sentiment/aclImdb_v1.tar.gz\"\n",
        "dataset_name = \"aclImdb\"\n",
        "\n",
        "print(f\"Current work directory: {Path.cwd()}\")\n",
        "dataset_folder = Path.cwd().joinpath(\"Datasets\")\n"
      ]
    },
    {
      "cell_type": "code",
      "execution_count": 6,
      "metadata": {
        "id": "u4NKyG8T1UnE",
        "outputId": "043b713b-bbf8-4208-f639-453a3009ef25",
        "colab": {
          "base_uri": "https://localhost:8080/"
        }
      },
      "outputs": [
        {
          "output_type": "stream",
          "name": "stdout",
          "text": [
            "Downloading dataset...\n"
          ]
        },
        {
          "output_type": "stream",
          "name": "stderr",
          "text": [
            "aclImdb_v1.tar.gz: 84.1MB [00:05, 15.7MB/s]                            \n"
          ]
        },
        {
          "output_type": "stream",
          "name": "stdout",
          "text": [
            "Download complete!\n",
            "Extracting dataset... (it may take a while...)\n",
            "Extraction completed!\n"
          ]
        }
      ],
      "source": [
        "if not dataset_folder.exists():\n",
        "    dataset_folder.mkdir(parents=True)\n",
        "\n",
        "dataset_tar_path = dataset_folder.joinpath(\"Movies.tar.gz\")\n",
        "dataset_path = dataset_folder.joinpath(dataset_name)\n",
        "\n",
        "if not dataset_tar_path.exists():\n",
        "    download_dataset(dataset_tar_path, url)\n",
        "\n",
        "if not dataset_path.exists():\n",
        "    extract_dataset(dataset_tar_path, dataset_folder)"
      ]
    },
    {
      "cell_type": "markdown",
      "metadata": {
        "id": "I3f93BOW3ziB"
      },
      "source": [
        "Let's have a look at the files we have downloaded to understand the dataset structure."
      ]
    },
    {
      "cell_type": "code",
      "execution_count": 7,
      "metadata": {
        "colab": {
          "base_uri": "https://localhost:8080/"
        },
        "id": "MlC6O8M1ITgp",
        "outputId": "c0c996ce-23dd-4bbb-ff23-9c03d225ee1e"
      },
      "outputs": [
        {
          "output_type": "stream",
          "name": "stdout",
          "text": [
            "Bromwell High is a cartoon comedy. It ran at the same time as some other programs about school life, such as \"Teachers\". My 35 years in the teaching profession lead me to believe that Bromwell High's satire is much closer to reality than is \"Teachers\". The scramble to survive financially, the insightful students who can see right through their pathetic teachers' pomp, the pettiness of the whole situation, all remind me of the schools I knew and their students. When I saw the episode in which a student repeatedly tried to burn down the school, I immediately recalled ......... at .......... High. A classic line: INSPECTOR: I'm here to sack one of your teachers. STUDENT: Welcome to Bromwell High. I expect that many adults of my age think that Bromwell High is far fetched. What a pity that it isn't!\n"
          ]
        }
      ],
      "source": [
        "# an example\n",
        "file_path = dataset_folder.joinpath(dataset_name, 'train', 'pos', \"0_9.txt\")\n",
        "\n",
        "if file_path.is_file():\n",
        "    # open the file\n",
        "    with file_path.open(mode='r', encoding='utf-8') as text_file:\n",
        "        text = text_file.read()\n",
        "        print(text)"
      ]
    },
    {
      "cell_type": "markdown",
      "metadata": {
        "id": "-FexYdgu87Q3"
      },
      "source": [
        "## 1.1 Encode the dataset into a pandas.DataFrame\n",
        "\n",
        "We encode the loaded dataset into a dataframe to better access to its content."
      ]
    },
    {
      "cell_type": "code",
      "execution_count": 8,
      "metadata": {
        "id": "4u8aN92x9Aw1"
      },
      "outputs": [],
      "source": [
        "dataframe_rows = []\n",
        "\n",
        "for split in ['train', 'test']:\n",
        "    for sentiment in ['pos', 'neg']:\n",
        "        folder = dataset_folder.joinpath(dataset_name, split, sentiment)\n",
        "        for file_path in folder.glob('*.txt'):\n",
        "            with file_path.open(mode='r', encoding='utf-8') as text_file:\n",
        "                text = text_file.read()\n",
        "                score = file_path.stem.split(\"_\")[1]\n",
        "                score = int(score)\n",
        "                file_id = file_path.stem.split(\"_\")[0]\n",
        "\n",
        "                num_sentiment = 1 if sentiment == 'pos' else 0\n",
        "\n",
        "                dataframe_row = {\n",
        "                    \"file_id\": file_id,\n",
        "                    \"score\": score,\n",
        "                    \"sentiment\": num_sentiment,\n",
        "                    \"split\": split,\n",
        "                    \"text\": text\n",
        "                }\n",
        "\n",
        "                dataframe_rows.append(dataframe_row)"
      ]
    },
    {
      "cell_type": "code",
      "execution_count": 9,
      "metadata": {
        "id": "maCqSY4R1UnG"
      },
      "outputs": [],
      "source": [
        "folder = Path.cwd().joinpath(\"Datasets\", \"Dataframes\", dataset_name)\n",
        "if not folder.exists():\n",
        "    folder.mkdir(parents=True)\n",
        "\n",
        "# transform the list of rows in a proper dataframe\n",
        "df = pd.DataFrame(dataframe_rows)\n",
        "df = df[[\"file_id\",\n",
        "         \"score\",\n",
        "         \"sentiment\",\n",
        "         \"split\",\n",
        "         \"text\"]\n",
        "       ]\n",
        "df_path = folder.with_name(dataset_name + \".pkl\")\n",
        "df.to_pickle(df_path)"
      ]
    },
    {
      "cell_type": "markdown",
      "metadata": {
        "id": "N90TSajWZD2Z"
      },
      "source": [
        "## 1.2 Inspecting the dataset\n",
        "\n",
        "We first have a look at the dataframe structure."
      ]
    },
    {
      "cell_type": "code",
      "execution_count": 10,
      "metadata": {
        "colab": {
          "base_uri": "https://localhost:8080/"
        },
        "id": "GCs9IEO5F-Vt",
        "outputId": "c04cf18c-1f9e-484d-f627-73ca44546c90",
        "scrolled": true
      },
      "outputs": [
        {
          "output_type": "stream",
          "name": "stdout",
          "text": [
            "Dataframe structure:\n",
            "      file_id  score  sentiment  split  \\\n",
            "0       10568     10          1  train   \n",
            "1       11823      9          1  train   \n",
            "2        3215     10          1  train   \n",
            "3       10610      8          1  train   \n",
            "4        9586     10          1  train   \n",
            "...       ...    ...        ...    ...   \n",
            "49995    5637      2          0   test   \n",
            "49996    7825      1          0   test   \n",
            "49997    3305      4          0   test   \n",
            "49998   10212      4          0   test   \n",
            "49999     363      3          0   test   \n",
            "\n",
            "                                                    text  \n",
            "0      I loved this film, seen this evening on a movi...  \n",
            "1      I thoroughly enjoyed this true to form take on...  \n",
            "2      This was excellent. Touching, action-packed, a...  \n",
            "3      A sweet-natured young mountain man with a sad ...  \n",
            "4      The film really challenges your notions of ide...  \n",
            "...                                                  ...  \n",
            "49995  Whoever saddled this piece of drek with a titl...  \n",
            "49996  The trailer is so deceiving... I thought this ...  \n",
            "49997  Bad news for anyone wanting to film a full-len...  \n",
            "49998  Being a wrestling fan, movies about wrestling ...  \n",
            "49999  Planet Earth has suffered a terrible environme...  \n",
            "\n",
            "[50000 rows x 5 columns]\n",
            "\n",
            "Total rows 50000\n",
            "\n"
          ]
        }
      ],
      "source": [
        "print(\"Dataframe structure:\")\n",
        "print(df)\n",
        "print()\n",
        "\n",
        "print(\"Total rows %d\" % (len(df)))\n",
        "print()"
      ]
    },
    {
      "cell_type": "code",
      "execution_count": 11,
      "metadata": {
        "colab": {
          "base_uri": "https://localhost:8080/"
        },
        "id": "dEgevug_MxjR",
        "outputId": "15d124e3-5a23-48dd-a96d-1d70304753c6"
      },
      "outputs": [
        {
          "output_type": "stream",
          "name": "stdout",
          "text": [
            "Distribution of scores: \n",
            "score\n",
            "1     10122\n",
            "10     9731\n",
            "8      5859\n",
            "4      5331\n",
            "3      4961\n",
            "7      4803\n",
            "9      4607\n",
            "2      4586\n",
            "Name: count, dtype: int64\n",
            "\n",
            "Distribution of sentiment: \n",
            "sentiment\n",
            "1    25000\n",
            "0    25000\n",
            "Name: count, dtype: int64\n",
            "\n",
            "Distribution of splits: \n",
            "split\n",
            "train    25000\n",
            "test     25000\n",
            "Name: count, dtype: int64\n",
            "\n"
          ]
        }
      ],
      "source": [
        "print(\"Distribution of scores: \")\n",
        "print(df['score'].value_counts())\n",
        "print()\n",
        "\n",
        "print(\"Distribution of sentiment: \")\n",
        "print(df['sentiment'].value_counts())\n",
        "print()\n",
        "\n",
        "print(\"Distribution of splits: \")\n",
        "print(df['split'].value_counts())\n",
        "print()"
      ]
    },
    {
      "cell_type": "code",
      "execution_count": 12,
      "metadata": {
        "colab": {
          "base_uri": "https://localhost:8080/"
        },
        "id": "dZQddWKfMzBr",
        "outputId": "b6a94a75-606f-435d-9d5c-2748f927158b",
        "scrolled": true
      },
      "outputs": [
        {
          "output_type": "stream",
          "name": "stdout",
          "text": [
            "Distribution of sentiments in split: \n",
            "split  sentiment\n",
            "test   0            12500\n",
            "       1            12500\n",
            "train  0            12500\n",
            "       1            12500\n",
            "dtype: int64\n",
            "\n",
            "Distribution of scores in split: \n",
            "split  score\n",
            "test   1        5022\n",
            "       2        2302\n",
            "       3        2541\n",
            "       4        2635\n",
            "       7        2307\n",
            "       8        2850\n",
            "       9        2344\n",
            "       10       4999\n",
            "train  1        5100\n",
            "       2        2284\n",
            "       3        2420\n",
            "       4        2696\n",
            "       7        2496\n",
            "       8        3009\n",
            "       9        2263\n",
            "       10       4732\n",
            "dtype: int64\n",
            "\n",
            "Differences in score distribution in split: \n",
            "score  split\n",
            "1      test     5022\n",
            "       train    5100\n",
            "2      test     2302\n",
            "       train    2284\n",
            "3      test     2541\n",
            "       train    2420\n",
            "4      test     2635\n",
            "       train    2696\n",
            "7      test     2307\n",
            "       train    2496\n",
            "8      test     2850\n",
            "       train    3009\n",
            "9      test     2344\n",
            "       train    2263\n",
            "10     test     4999\n",
            "       train    4732\n",
            "dtype: int64\n",
            "\n"
          ]
        }
      ],
      "source": [
        "print(\"Distribution of sentiments in split: \")\n",
        "print(df.groupby(['split','sentiment']).size())\n",
        "print()\n",
        "\n",
        "print(\"Distribution of scores in split: \")\n",
        "print(df.groupby(['split','score']).size())\n",
        "print()\n",
        "\n",
        "print(\"Differences in score distribution in split: \")\n",
        "print(df.groupby(['score','split',]).size())\n",
        "print()"
      ]
    },
    {
      "cell_type": "code",
      "execution_count": 13,
      "metadata": {
        "colab": {
          "base_uri": "https://localhost:8080/"
        },
        "id": "Peg97aWQM0EC",
        "outputId": "6e73320c-3d74-485b-e1d0-3586abb08173"
      },
      "outputs": [
        {
          "output_type": "stream",
          "name": "stdout",
          "text": [
            "Differences among score classes in the splits: \n",
            "sentiment  score  split\n",
            "0          1      test     5022\n",
            "                  train    5100\n",
            "           2      test     2302\n",
            "                  train    2284\n",
            "           3      test     2541\n",
            "                  train    2420\n",
            "           4      test     2635\n",
            "                  train    2696\n",
            "1          7      test     2307\n",
            "                  train    2496\n",
            "           8      test     2850\n",
            "                  train    3009\n",
            "           9      test     2344\n",
            "                  train    2263\n",
            "           10     test     4999\n",
            "                  train    4732\n",
            "dtype: int64\n",
            "\n"
          ]
        }
      ],
      "source": [
        "print(\"Differences among score classes in the splits: \")\n",
        "print(df.groupby(['sentiment','score','split']).size())\n",
        "print()"
      ]
    },
    {
      "cell_type": "markdown",
      "metadata": {
        "id": "XBglaYxGN9oz"
      },
      "source": [
        "### 1.2.1 Visualization"
      ]
    },
    {
      "cell_type": "code",
      "execution_count": 14,
      "metadata": {
        "id": "2p0LmOUO1UnJ"
      },
      "outputs": [],
      "source": [
        "# Preliminaries\n",
        "import matplotlib.pyplot as plt"
      ]
    },
    {
      "cell_type": "markdown",
      "metadata": {
        "id": "4ievTY7s1UnJ"
      },
      "source": [
        "We first visualize sentiment class distribution."
      ]
    },
    {
      "cell_type": "code",
      "execution_count": 15,
      "metadata": {
        "id": "sZcX45rZ1UnK",
        "outputId": "94bcaca5-2c58-4004-9edb-fc7c045d78db",
        "colab": {
          "base_uri": "https://localhost:8080/",
          "height": 472
        }
      },
      "outputs": [
        {
          "output_type": "display_data",
          "data": {
            "text/plain": [
              "<Figure size 640x480 with 1 Axes>"
            ],
            "image/png": "[encoded data removed]"
          },
          "metadata": {}
        }
      ],
      "source": [
        "train_labels = df[df.split == 'train'].sentiment.values\n",
        "test_labels = df[df.split == 'test'].sentiment.values\n",
        "\n",
        "plt.hist([train_labels,test_labels], bins=2, label=['train','test'], color=[\"red\", \"blue\"], align=\"mid\")\n",
        "plt.legend(loc='upper center')\n",
        "plt.title('Class distribution')\n",
        "plt.xlabel('Sentiment')\n",
        "plt.ylabel('# Samples')\n",
        "plt.show()"
      ]
    },
    {
      "cell_type": "markdown",
      "metadata": {
        "id": "XcXzPZLD1UnK"
      },
      "source": [
        "Then we visualize sentiment scores."
      ]
    },
    {
      "cell_type": "code",
      "execution_count": 16,
      "metadata": {
        "colab": {
          "base_uri": "https://localhost:8080/",
          "height": 472
        },
        "id": "UMy0YgDBN8rl",
        "outputId": "954fcc9d-e572-42f6-83bd-85a8a27894e3"
      },
      "outputs": [
        {
          "output_type": "display_data",
          "data": {
            "text/plain": [
              "<Figure size 640x480 with 1 Axes>"
            ],
            "image/png": "[encoded data removed]"
          },
          "metadata": {}
        }
      ],
      "source": [
        "train_scores = df[df.split == 'train'].score.values\n",
        "test_scores = df[df.split == 'test'].score.values\n",
        "\n",
        "plt.xticks(range(1,11))\n",
        "plt.hist([train_scores,test_scores], bins=10, label=['train','test'], color=[\"red\", \"blue\"], align=\"mid\")\n",
        "plt.legend(loc='upper center')\n",
        "plt.title('Score distribution')\n",
        "plt.xlabel('Score')\n",
        "plt.ylabel('# Samples')\n",
        "\n",
        "plt.show()"
      ]
    },
    {
      "cell_type": "code",
      "execution_count": 17,
      "metadata": {
        "colab": {
          "base_uri": "https://localhost:8080/",
          "height": 927
        },
        "id": "gsniJ_VdV-A-",
        "outputId": "99ec8493-28dc-4bab-fc9a-f3ba85358466"
      },
      "outputs": [
        {
          "output_type": "display_data",
          "data": {
            "text/plain": [
              "<Figure size 640x480 with 1 Axes>"
            ],
            "image/png": "[encoded data removed]"
          },
          "metadata": {}
        },
        {
          "output_type": "display_data",
          "data": {
            "text/plain": [
              "<Figure size 640x480 with 1 Axes>"
            ],
            "image/png": "[encoded data removed]"
          },
          "metadata": {}
        }
      ],
      "source": [
        "plot1 = plt.figure(1)\n",
        "plt.hist(train_scores, 10, color=\"red\")\n",
        "plt.xlabel('Score')\n",
        "plt.ylabel('# Samples')\n",
        "plt.title(\"Train\")\n",
        "\n",
        "plot2 = plt.figure(2)\n",
        "plt.hist(test_scores, 10, color=\"blue\")\n",
        "plt.xlabel('Score')\n",
        "plt.ylabel('# Samples')\n",
        "plt.title(\"Test\")\n",
        "\n",
        "plt.show()"
      ]
    },
    {
      "cell_type": "markdown",
      "metadata": {
        "id": "5OaeC86o1UnL"
      },
      "source": [
        "Lastly, we check text length distribution."
      ]
    },
    {
      "cell_type": "code",
      "execution_count": 18,
      "metadata": {
        "id": "06RLn7eH1UnM",
        "outputId": "97963875-d7fb-4b3e-9ca5-1b7511a899b8",
        "colab": {
          "base_uri": "https://localhost:8080/"
        }
      },
      "outputs": [
        {
          "output_type": "stream",
          "name": "stderr",
          "text": [
            "[nltk_data] Downloading package punkt_tab to /root/nltk_data...\n",
            "[nltk_data]   Unzipping tokenizers/punkt_tab.zip.\n",
            "[nltk_data] Downloading package punkt to /root/nltk_data...\n",
            "[nltk_data]   Unzipping tokenizers/punkt.zip.\n",
            "100%|██████████| 25000/25000 [00:52<00:00, 473.17it/s]\n",
            "100%|██████████| 25000/25000 [00:53<00:00, 470.46it/s]\n"
          ]
        }
      ],
      "source": [
        "import nltk\n",
        "from nltk.tokenize import word_tokenize\n",
        "\n",
        "# necessary for being able to tokenize\n",
        "nltk.download('punkt_tab')\n",
        "nltk.download('punkt')\n",
        "\n",
        "train_texts = df[df.split == 'train'].text.values\n",
        "test_texts = df[df.split == 'test'].text.values\n",
        "\n",
        "train_lengths = [len(word_tokenize(text)) for text in tqdm(train_texts)]\n",
        "test_lengths = [len(word_tokenize(text)) for text in tqdm(test_texts)]"
      ]
    },
    {
      "cell_type": "code",
      "execution_count": 19,
      "metadata": {
        "id": "i4GziVFw1UnM",
        "outputId": "8a9fef4f-48f3-489a-cc27-7a504b9dd396",
        "colab": {
          "base_uri": "https://localhost:8080/",
          "height": 927
        }
      },
      "outputs": [
        {
          "output_type": "display_data",
          "data": {
            "text/plain": [
              "<Figure size 640x480 with 1 Axes>"
            ],
            "image/png": "[encoded data removed]"
          },
          "metadata": {}
        },
        {
          "output_type": "display_data",
          "data": {
            "text/plain": [
              "<Figure size 640x480 with 1 Axes>"
            ],
            "image/png": "[encoded data removed]"
          },
          "metadata": {}
        }
      ],
      "source": [
        "plot1 = plt.figure(1)\n",
        "plt.hist(train_lengths, color=\"red\")\n",
        "plt.xlabel('Word count')\n",
        "plt.ylabel('# Samples')\n",
        "plt.title(\"Train\")\n",
        "\n",
        "plot2 = plt.figure(2)\n",
        "plt.hist(test_lengths, 10, color=\"blue\")\n",
        "plt.xlabel('Word count')\n",
        "plt.ylabel('# Samples')\n",
        "plt.title(\"Test\")\n",
        "\n",
        "plt.show()"
      ]
    },
    {
      "cell_type": "markdown",
      "metadata": {
        "id": "-sMYZFEwLHBu"
      },
      "source": [
        "## 2. Feature Extraction\n",
        "\n",
        "We are now ready to address the sentiment analysis task.\n",
        "\n",
        "We consider the sentiment classification task for description purposes."
      ]
    },
    {
      "cell_type": "markdown",
      "metadata": {
        "id": "USjDahU71UnN"
      },
      "source": [
        "We first **determine** the inputs and outputs of our classifier.\n",
        "\n",
        "Then, we define **how to encode** the inputs and outputs for the classifier."
      ]
    },
    {
      "cell_type": "markdown",
      "metadata": {
        "id": "cNg7bGwV1UnN"
      },
      "source": [
        "### Inputs and Outputs\n",
        "\n",
        "<center>\n",
        "    <img src=\"https://github.com/MatteoFasulo/NLP/blob/main/lab/tutorial-1/images/inputs_outputs.png?raw=1\" alt=\"inputs and outputs\" />\n",
        "</center>"
      ]
    },
    {
      "cell_type": "markdown",
      "metadata": {
        "id": "ciGuHos31UnT"
      },
      "source": [
        "### Input features and Outputs\n",
        "\n",
        "We will encode input text into a numerical format: **bag-of-words**.\n",
        "\n",
        "<center>\n",
        "    <img src=\"https://github.com/MatteoFasulo/NLP/blob/main/lab/tutorial-1/images/inputs_outputs_features.png?raw=1\" alt=\"features and outputs\" />\n",
        "</center>"
      ]
    },
    {
      "cell_type": "markdown",
      "metadata": {
        "id": "Q1cWVeVV1UnU"
      },
      "source": [
        "Sentiment score prediction has the same schema where the *output label* is replaced by the sentiment score."
      ]
    },
    {
      "cell_type": "markdown",
      "metadata": {
        "id": "APy7Yb83H5Is"
      },
      "source": [
        "### 2.1 Bag-of-Words Encoding\n",
        "\n",
        "The [scikit-learn](https://scikit-learn.org/stable/) library offers *TfidfVectorizer*, a class that performs both tokenization and the creation of the Bag-of-Words (BoW) representation of a corpus.\n",
        "\n",
        "In particular, it computes tf-idf representation for each word token."
      ]
    },
    {
      "cell_type": "markdown",
      "metadata": {
        "id": "NlOE21Eu1UnU"
      },
      "source": [
        "#### Homework 📖\n",
        "\n",
        "The class has plenty of options: it can be used also to count n-grams, excluding stop-words, and cutting off most and/or less frequent terms."
      ]
    },
    {
      "cell_type": "code",
      "execution_count": 20,
      "metadata": {
        "colab": {
          "base_uri": "https://localhost:8080/"
        },
        "id": "ZsuUwTjqH72Q",
        "outputId": "52273354-9fef-4f65-ad1a-f59b8e81c398"
      },
      "outputs": [
        {
          "output_type": "stream",
          "name": "stdout",
          "text": [
            "Processing corpus\n",
            "\n",
            "Shape of the matrix: (data points, features)\n",
            "(25000, 74849)\n",
            "\n"
          ]
        }
      ],
      "source": [
        "from sklearn.feature_extraction.text import  TfidfVectorizer\n",
        "\n",
        "# select only the training sentences\n",
        "df_train = df.loc[df['split'] == \"train\"]\n",
        "\n",
        "train_texts = df_train.text.values\n",
        "\n",
        "print(\"Processing corpus\\n\")\n",
        "vectorizer =  TfidfVectorizer()\n",
        "\n",
        "# tokenization and creation of Bag of Words representation\n",
        "X_train = vectorizer.fit_transform(train_texts)\n",
        "\n",
        "print(\"Shape of the matrix: (data points, features)\")\n",
        "print(X_train.shape)\n",
        "print()\n",
        "\n",
        "# targets for the training set\n",
        "Y_train = df_train.sentiment.values"
      ]
    },
    {
      "cell_type": "markdown",
      "metadata": {
        "id": "PajnwZslUg-p"
      },
      "source": [
        "The vectorizer **fits** on the provided texts to create an internal vocabulary.\n",
        "\n",
        "The vocabulary is used to create the BoW representation.\n",
        "\n",
        "The vocabulary is a dictionary that associates to each word a corresponding column in the feature matrix."
      ]
    },
    {
      "cell_type": "markdown",
      "metadata": {
        "id": "cb8rxz1P1UnV"
      },
      "source": [
        "#### Homework 📖\n",
        "\n",
        "Do not try to print the whole vocabulary: it is quite large ;)\n",
        "\n",
        "Still, **it is very important** to have a look at detected tokens!"
      ]
    },
    {
      "cell_type": "markdown",
      "metadata": {
        "id": "aT9nbJGf1UnW"
      },
      "source": [
        "Let's check the size of the built vocabulary."
      ]
    },
    {
      "cell_type": "code",
      "execution_count": 21,
      "metadata": {
        "colab": {
          "base_uri": "https://localhost:8080/"
        },
        "id": "7fMTG5wqUfhL",
        "outputId": "c9335317-4f59-4814-cbe6-2fbed9e5c4d2"
      },
      "outputs": [
        {
          "output_type": "stream",
          "name": "stdout",
          "text": [
            "Size of vocabulary:\n",
            "74849\n",
            "<class 'dict'>\n"
          ]
        }
      ],
      "source": [
        "print(\"Size of vocabulary:\")\n",
        "print(len(vectorizer.vocabulary_))\n",
        "print(type(vectorizer.vocabulary_))"
      ]
    },
    {
      "cell_type": "markdown",
      "metadata": {
        "id": "g2KIWtBzMYef"
      },
      "source": [
        "Since the vocabulary is quite big, the BoW representation of input texts is a *sparse* matrix (see [scipy.sparse](https://docs.scipy.org/doc/scipy/reference/sparse.html) for more info).\n",
        "\n",
        "Simply put, a sparse matrix is represented as a dictionary of non-zero entries, where the keys are the matrix coordinates."
      ]
    },
    {
      "cell_type": "code",
      "execution_count": 22,
      "metadata": {
        "colab": {
          "base_uri": "https://localhost:8080/"
        },
        "id": "CfcEWJaeNLWc",
        "outputId": "11271679-bdc3-4ff6-d42a-9420c18bc666",
        "scrolled": true
      },
      "outputs": [
        {
          "output_type": "stream",
          "name": "stdout",
          "text": [
            "  (0, 39570)\t0.08981524459330097\n",
            "  (0, 66562)\t0.07407731886616593\n",
            "  (0, 24536)\t0.03558007163893649\n",
            "  (0, 58613)\t0.0571752865878115\n",
            "  (0, 22722)\t0.12909586739418225\n",
            "  (0, 46916)\t0.03289841457667991\n",
            "  (0, 44147)\t0.033477715876121826\n",
            "  (0, 66346)\t0.12486257940058938\n",
            "  (0, 7260)\t0.07153250379167272\n",
            "  (0, 58264)\t0.07794716419174902\n",
            "  (0, 66339)\t0.09060331491835447\n",
            "  (0, 4956)\t0.08154495524379886\n",
            "  (0, 37921)\t0.11894244668506647\n",
            "  (0, 47449)\t0.04169303612631925\n",
            "  (0, 39506)\t0.1142615604242145\n",
            "  (0, 4753)\t0.03725351393132023\n",
            "  (0, 61617)\t0.04385588331787369\n",
            "  (0, 71159)\t0.09249874725724394\n",
            "  (0, 34079)\t0.07307723244220515\n",
            "  (0, 66524)\t0.0700946842513096\n",
            "  (0, 3258)\t0.06968422142607786\n",
            "  (0, 23906)\t0.09953537638612603\n",
            "  (0, 47943)\t0.10933459120148016\n",
            "  (0, 72196)\t0.0967755425024944\n",
            "  (0, 43995)\t0.05267736850682174\n",
            "  :\t:\n",
            "  (24999, 58538)\t0.051664414159679255\n",
            "  (24999, 61017)\t0.0513255077520322\n",
            "  (24999, 59776)\t0.0543945679489953\n",
            "  (24999, 62601)\t0.05279330371166898\n",
            "  (24999, 62760)\t0.049452369747604905\n",
            "  (24999, 49724)\t0.05683544916983789\n",
            "  (24999, 33815)\t0.06377143359427632\n",
            "  (24999, 63520)\t0.06202575244053435\n",
            "  (24999, 55251)\t0.05550834062130848\n",
            "  (24999, 62453)\t0.05847745372025539\n",
            "  (24999, 46743)\t0.05947146129688716\n",
            "  (24999, 43901)\t0.046593955461131126\n",
            "  (24999, 61737)\t0.05366271236955033\n",
            "  (24999, 63261)\t0.045094350843872213\n",
            "  (24999, 31020)\t0.05895669224357126\n",
            "  (24999, 34266)\t0.06484219558136835\n",
            "  (24999, 61073)\t0.06002745423066327\n",
            "  (24999, 16941)\t0.057608045062374054\n",
            "  (24999, 32208)\t0.38905317348821006\n",
            "  (24999, 4553)\t0.06202575244053435\n",
            "  (24999, 17541)\t0.34828468466036705\n",
            "  (24999, 30959)\t0.07247338007290739\n",
            "  (24999, 1918)\t0.07247338007290739\n",
            "  (24999, 55778)\t0.2174201402187222\n",
            "  (24999, 35518)\t0.07247338007290739\n"
          ]
        }
      ],
      "source": [
        "print(X_train)"
      ]
    },
    {
      "cell_type": "markdown",
      "metadata": {
        "id": "kr38ssKTNMeQ"
      },
      "source": [
        "It is possible to get the dense representation of a feature matrix.\n",
        "\n",
        "**Keep in mind** that the matrix will occupy a lot of memory."
      ]
    },
    {
      "cell_type": "code",
      "execution_count": 23,
      "metadata": {
        "id": "gwHUzbyD1UnX",
        "outputId": "0e877f8b-85bf-4186-a17c-3b2e0b803ea7",
        "colab": {
          "base_uri": "https://localhost:8080/"
        }
      },
      "outputs": [
        {
          "output_type": "stream",
          "name": "stdout",
          "text": [
            "[[0. 0. 0. ... 0. 0. 0.]\n",
            " [0. 0. 0. ... 0. 0. 0.]\n",
            " [0. 0. 0. ... 0. 0. 0.]\n",
            " ...\n",
            " [0. 0. 0. ... 0. 0. 0.]\n",
            " [0. 0. 0. ... 0. 0. 0.]\n",
            " [0. 0. 0. ... 0. 0. 0.]]\n"
          ]
        }
      ],
      "source": [
        "print(X_train.toarray())"
      ]
    },
    {
      "cell_type": "markdown",
      "metadata": {
        "id": "T1-qfdVE1UnX"
      },
      "source": [
        "#### Homework 📖\n",
        "\n",
        "Try taking a subset of the matrix and inspect its dense representation."
      ]
    },
    {
      "cell_type": "markdown",
      "metadata": {
        "id": "evLd40iCWZ8q"
      },
      "source": [
        "We use our fitted Vectorizer to transform test texts as well.\n",
        "\n",
        "**Make sure** you invoke ``vectorizer.transform()`` and **not** ``vectorizer.fit_transform()``."
      ]
    },
    {
      "cell_type": "code",
      "execution_count": 24,
      "metadata": {
        "id": "jNz23Ep2Y3iB"
      },
      "outputs": [],
      "source": [
        "# select only the test sentences\n",
        "df_test = df.loc[df['split'] == \"test\"]\n",
        "test_texts = df_test.text.values\n",
        "\n",
        "X_test = vectorizer.transform(test_texts)\n",
        "Y_test = df_test.sentiment.values"
      ]
    },
    {
      "cell_type": "markdown",
      "metadata": {
        "id": "nkhGO5UhgiRF"
      },
      "source": [
        "**GOLDEN RULE: DO NOT EVER EVER EVER EVER MESS WITH THE TEST SET!!!!**"
      ]
    },
    {
      "cell_type": "markdown",
      "metadata": {
        "id": "CdEMeSsc1UnY"
      },
      "source": [
        "You **should never** add or remove rows/instances/data points from the test set.\n",
        "\n",
        "You **should never** alter the ground-truth labels."
      ]
    },
    {
      "cell_type": "markdown",
      "metadata": {
        "id": "9vgbC-kG1UnZ"
      },
      "source": [
        "You **can** process it to transform, add, or remove columns/features.\n",
        "\n",
        "You **can** modify the train set more freely."
      ]
    },
    {
      "cell_type": "markdown",
      "metadata": {
        "id": "BHT8pXYC1UnZ"
      },
      "source": [
        "\n",
        "But **keep your gross fingerprints** from the test set: it is untouchable, whatever its quality.\n",
        "\n",
        "<br/>\n",
        "\n",
        "<center>\n",
        "    <img src=\"https://media.tenor.com/rPtHkeV2tkYAAAAC/stay-away-coronavirus.gif\" alt=\"features and outputs\" />\n",
        "</center>"
      ]
    },
    {
      "cell_type": "markdown",
      "metadata": {
        "id": "jNgen8Km1UnZ"
      },
      "source": [
        "So far, we have encoded the text as it is.\n",
        "\n",
        "We can perform additional pre-processing to 'normalize' the provided text."
      ]
    },
    {
      "cell_type": "markdown",
      "metadata": {
        "id": "EQeTE9r8H2Ok"
      },
      "source": [
        "### 2.2 Stemming\n",
        "\n",
        "*''Stemming usually refers to a crude heuristic process that **chops off** the ends of words to reduce words to a common form.''*\n",
        "\n",
        "<div align='right'>\n",
        "(Introduction to Information Retrieval ~ C. D. Manning)\n",
        "</div>"
      ]
    },
    {
      "cell_type": "markdown",
      "metadata": {
        "id": "HztuNErI1UnZ"
      },
      "source": [
        "**Example**\n",
        "\n",
        "*programmer*, *programs*, *programming* $\\rightarrow$ *program*"
      ]
    },
    {
      "cell_type": "code",
      "execution_count": 25,
      "metadata": {
        "id": "BTikcP7e2Pby"
      },
      "outputs": [],
      "source": [
        "from nltk.stem import SnowballStemmer\n",
        "from nltk.tokenize import word_tokenize, sent_tokenize, WhitespaceTokenizer\n",
        "\n",
        "stemmer = SnowballStemmer(\"english\")\n",
        "tokenizer = WhitespaceTokenizer()"
      ]
    },
    {
      "cell_type": "code",
      "execution_count": 26,
      "metadata": {
        "colab": {
          "base_uri": "https://localhost:8080/"
        },
        "id": "i74KsprrFwPN",
        "outputId": "2e3eb11f-98de-49c5-b897-4784e476ba7a"
      },
      "outputs": [
        {
          "output_type": "stream",
          "name": "stderr",
          "text": [
            "100%|██████████| 25000/25000 [01:20<00:00, 311.57it/s]\n",
            "100%|██████████| 25000/25000 [01:17<00:00, 322.43it/s]\n"
          ]
        }
      ],
      "source": [
        "def stem_text(text: str):\n",
        "    words = [stemmer.stem(word) for word in tokenizer.tokenize(text)]\n",
        "    return \" \".join(words)\n",
        "\n",
        "st_train_texts = [stem_text(text) for text in tqdm(train_texts)]\n",
        "st_test_texts = [stem_text(text) for text in tqdm(test_texts)]"
      ]
    },
    {
      "cell_type": "code",
      "execution_count": 27,
      "metadata": {
        "id": "MP0g5er91Una",
        "outputId": "a022a808-19ed-41ef-dc35-d3ccced97dcb",
        "colab": {
          "base_uri": "https://localhost:8080/"
        }
      },
      "outputs": [
        {
          "output_type": "stream",
          "name": "stdout",
          "text": [
            "I loved this film, seen this evening on a movie theatre big screen! The audience laughed out loud at\n",
            "\n",
            "i love this film, seen this even on a movi theatr big screen! the audienc laugh out loud at some ver\n"
          ]
        }
      ],
      "source": [
        "print(train_texts[0][:100])\n",
        "print()\n",
        "print(st_train_texts[0][:100])"
      ]
    },
    {
      "cell_type": "markdown",
      "metadata": {
        "id": "RIz7a1vb1Unb"
      },
      "source": [
        "We encoded the pre-processed texts as before via the ``TfidfVectorizer``."
      ]
    },
    {
      "cell_type": "code",
      "execution_count": 28,
      "metadata": {
        "colab": {
          "base_uri": "https://localhost:8080/"
        },
        "id": "FPZNMU_5HwIt",
        "outputId": "e8384ce8-240b-427c-f280-3cd38f32ac75"
      },
      "outputs": [
        {
          "output_type": "stream",
          "name": "stdout",
          "text": [
            "Processing corpus\n",
            "\n",
            "Shape of the matrix: (data points, features)\n",
            "(25000, 70363)\n",
            "\n"
          ]
        }
      ],
      "source": [
        "print(\"Processing corpus\\n\")\n",
        "st_vectorizer =  TfidfVectorizer()\n",
        "st_X_train = st_vectorizer.fit_transform(st_train_texts)\n",
        "st_X_test = st_vectorizer.transform(st_test_texts)\n",
        "\n",
        "print(\"Shape of the matrix: (data points, features)\")\n",
        "print(st_X_train.shape)\n",
        "print()"
      ]
    },
    {
      "cell_type": "markdown",
      "metadata": {
        "id": "IHIRP1NcHxkG"
      },
      "source": [
        "### 2.3 Lemmatization\n",
        "\n",
        "*''Lemmatization usually refers to use a vocabulary and morphological analysis of words to return the base or dictionary form of a word, known as **lemma**''*\n",
        "\n",
        "<div align='right'>\n",
        "(Introduction to Information Retrieval ~ C. D. Manning)\n",
        "</div>"
      ]
    },
    {
      "cell_type": "markdown",
      "metadata": {
        "id": "Vcrjvvkg1Unb"
      },
      "source": [
        "**Example**\n",
        "\n",
        "*saw*, *seen*, *sees* $\\rightarrow$ *see*"
      ]
    },
    {
      "cell_type": "code",
      "execution_count": 29,
      "metadata": {
        "colab": {
          "base_uri": "https://localhost:8080/"
        },
        "id": "50o_-46D51Bc",
        "outputId": "835871e7-9f01-4088-ddaf-1bc6e4adf3b0"
      },
      "outputs": [
        {
          "output_type": "stream",
          "name": "stderr",
          "text": [
            "[nltk_data] Downloading package omw-1.4 to /root/nltk_data...\n",
            "[nltk_data] Downloading package wordnet to /root/nltk_data...\n",
            "[nltk_data] Downloading package averaged_perceptron_tagger to\n",
            "[nltk_data]     /root/nltk_data...\n",
            "[nltk_data]   Unzipping taggers/averaged_perceptron_tagger.zip.\n",
            "[nltk_data] Downloading package averaged_perceptron_tagger_eng to\n",
            "[nltk_data]     /root/nltk_data...\n",
            "[nltk_data]   Unzipping taggers/averaged_perceptron_tagger_eng.zip.\n"
          ]
        }
      ],
      "source": [
        "from nltk.stem import WordNetLemmatizer\n",
        "from nltk import pos_tag\n",
        "from nltk.corpus import wordnet\n",
        "\n",
        "nltk.download('omw-1.4')\n",
        "nltk.download('wordnet')\n",
        "nltk.download('averaged_perceptron_tagger')\n",
        "nltk.download('averaged_perceptron_tagger_eng')\n",
        "\n",
        "lemmatizer = WordNetLemmatizer()"
      ]
    },
    {
      "cell_type": "code",
      "execution_count": 30,
      "metadata": {
        "colab": {
          "base_uri": "https://localhost:8080/"
        },
        "id": "5dQmbDSXLICD",
        "outputId": "4fe20276-a896-4135-a66b-aae6f8181971"
      },
      "outputs": [
        {
          "output_type": "stream",
          "name": "stderr",
          "text": [
            "100%|██████████| 25000/25000 [06:00<00:00, 69.42it/s]\n",
            "100%|██████████| 25000/25000 [05:46<00:00, 72.24it/s]\n"
          ]
        }
      ],
      "source": [
        "def get_wordnet_key(pos_tag):\n",
        "    if pos_tag.startswith('J'):\n",
        "        return wordnet.ADJ\n",
        "    elif pos_tag.startswith('V'):\n",
        "        return wordnet.VERB\n",
        "    elif pos_tag.startswith('N'):\n",
        "        return wordnet.NOUN\n",
        "    elif pos_tag.startswith('R'):\n",
        "        return wordnet.ADV\n",
        "    else:\n",
        "        return 'n'\n",
        "\n",
        "def lem_text(text: str):\n",
        "    tokens = tokenizer.tokenize(text)\n",
        "    tagged = pos_tag(tokens)\n",
        "    words = [lemmatizer.lemmatize(word, get_wordnet_key(tag)) for word, tag in tagged]\n",
        "    return \" \".join(words)\n",
        "\n",
        "lem_train_texts = [lem_text(text) for text in tqdm(train_texts, leave=True, position=0)]\n",
        "lem_test_texts = [lem_text(text) for text in tqdm(test_texts, leave=True, position=0)]"
      ]
    },
    {
      "cell_type": "code",
      "execution_count": 31,
      "metadata": {
        "id": "OVakp_pX1Unc",
        "outputId": "6f9f73d1-bb8d-44dd-f9db-5021fc888ef6",
        "colab": {
          "base_uri": "https://localhost:8080/"
        }
      },
      "outputs": [
        {
          "output_type": "stream",
          "name": "stdout",
          "text": [
            "Spoilers - in as far as I describe characters and their relation to the plot.<br /><br />This is a q\n",
            "\n",
            "Spoilers - in as far a I describe character and their relation to the plot.<br /><br />This be a qua\n"
          ]
        }
      ],
      "source": [
        "print(train_texts[40][:100])\n",
        "print()\n",
        "print(lem_train_texts[40][:100])"
      ]
    },
    {
      "cell_type": "markdown",
      "metadata": {
        "id": "aXIR20VL1Und"
      },
      "source": [
        "We encoded the pre-processed texts as before via the ``TfidfVectorizer``."
      ]
    },
    {
      "cell_type": "code",
      "execution_count": 32,
      "metadata": {
        "colab": {
          "base_uri": "https://localhost:8080/"
        },
        "id": "BLRcJtAyGumx",
        "outputId": "bc11bf1c-f05a-410e-ff2a-3a231bec33fd"
      },
      "outputs": [
        {
          "output_type": "stream",
          "name": "stdout",
          "text": [
            "Processing corpus\n",
            "\n",
            "Shape of the matrix: (data points, features)\n",
            "(25000, 70643)\n",
            "\n"
          ]
        }
      ],
      "source": [
        "print(\"Processing corpus\\n\")\n",
        "lem_vectorizer =  TfidfVectorizer()\n",
        "lem_X_train = lem_vectorizer.fit_transform(lem_train_texts)\n",
        "lem_X_test = lem_vectorizer.transform(lem_test_texts)\n",
        "\n",
        "print(\"Shape of the matrix: (data points, features)\")\n",
        "print(lem_X_train.shape)\n",
        "print()"
      ]
    },
    {
      "cell_type": "markdown",
      "metadata": {
        "id": "Xe5NPH5Gb5FI"
      },
      "source": [
        "## 3. Training and Evaluating a Classifier\n",
        "\n",
        "We are now ready to try out some standard machine learning classifiers."
      ]
    },
    {
      "cell_type": "markdown",
      "metadata": {
        "id": "KlykGjVN1Und"
      },
      "source": [
        "**But** first, we introduce some baselines."
      ]
    },
    {
      "cell_type": "markdown",
      "metadata": {
        "id": "VpFYv1mD1Une"
      },
      "source": [
        "#### The importance of defining good baselines\n",
        "\n",
        "Good baselines are always needed to consistently evaluate employed models.\n",
        "\n",
        "When proposing a novel model, good baselines are recent state-of-the-art models.\n",
        "\n",
        "When proposing a benchmark, good baselines are general-purpose off-the-shelf models."
      ]
    },
    {
      "cell_type": "markdown",
      "metadata": {
        "id": "noDTCzKrLElj"
      },
      "source": [
        "### 3.1 Baselines\n",
        "\n",
        "The majority baseline always predicts the majority class.\n",
        "\n",
        "The random baseline makes uniform random predictions.\n",
        "\n",
        "Their performances will tell us how much difficult this task is."
      ]
    },
    {
      "cell_type": "code",
      "execution_count": 33,
      "metadata": {
        "id": "7H8brk7OMHbp"
      },
      "outputs": [],
      "source": [
        "from sklearn.dummy import DummyClassifier\n",
        "\n",
        "majority_classifier = DummyClassifier(strategy=\"prior\")\n",
        "uniform_classifier = DummyClassifier(strategy=\"uniform\")\n",
        "\n",
        "majority_classifier.fit(X_train, Y_train)\n",
        "uniform_classifier.fit(X_train, Y_train)\n",
        "\n",
        "Y_pred_train_maj = majority_classifier.predict(X_train)\n",
        "Y_pred_test_maj = majority_classifier.predict(X_test)\n",
        "Y_pred_train_uni = uniform_classifier.predict(X_train)\n",
        "Y_pred_test_uni = uniform_classifier.predict(X_test)"
      ]
    },
    {
      "cell_type": "markdown",
      "metadata": {
        "id": "rdFfait41Une"
      },
      "source": [
        "#### Homework 📖\n",
        "\n",
        "Try out a random baseline that samples predictions according to label distribution."
      ]
    },
    {
      "cell_type": "markdown",
      "metadata": {
        "id": "n21tGh8z1Unf"
      },
      "source": [
        "We now evaluate model predictions via some metrics."
      ]
    },
    {
      "cell_type": "code",
      "execution_count": 34,
      "metadata": {
        "id": "-uRJSSNzNv6x"
      },
      "outputs": [],
      "source": [
        "from sklearn.metrics import classification_report\n",
        "\n",
        "def evaluate_classification(y_true, y_pred):\n",
        "    report = classification_report(y_true, y_pred, target_names=['neg', 'pos'])\n",
        "    print(report)"
      ]
    },
    {
      "cell_type": "code",
      "execution_count": 35,
      "metadata": {
        "id": "LBYjbKfN1Unf",
        "outputId": "59ebbbc8-acbd-4f9d-92e8-44ea9723b25c",
        "colab": {
          "base_uri": "https://localhost:8080/"
        }
      },
      "outputs": [
        {
          "output_type": "stream",
          "name": "stdout",
          "text": [
            "              precision    recall  f1-score   support\n",
            "\n",
            "         neg       0.50      1.00      0.67     12500\n",
            "         pos       0.00      0.00      0.00     12500\n",
            "\n",
            "    accuracy                           0.50     25000\n",
            "   macro avg       0.25      0.50      0.33     25000\n",
            "weighted avg       0.25      0.50      0.33     25000\n",
            "\n",
            "              precision    recall  f1-score   support\n",
            "\n",
            "         neg       0.50      1.00      0.67     12500\n",
            "         pos       0.00      0.00      0.00     12500\n",
            "\n",
            "    accuracy                           0.50     25000\n",
            "   macro avg       0.25      0.50      0.33     25000\n",
            "weighted avg       0.25      0.50      0.33     25000\n",
            "\n"
          ]
        },
        {
          "output_type": "stream",
          "name": "stderr",
          "text": [
            "/usr/local/lib/python3.10/dist-packages/sklearn/metrics/_classification.py:1531: UndefinedMetricWarning: Precision is ill-defined and being set to 0.0 in labels with no predicted samples. Use `zero_division` parameter to control this behavior.\n",
            "  _warn_prf(average, modifier, f\"{metric.capitalize()} is\", len(result))\n",
            "/usr/local/lib/python3.10/dist-packages/sklearn/metrics/_classification.py:1531: UndefinedMetricWarning: Precision is ill-defined and being set to 0.0 in labels with no predicted samples. Use `zero_division` parameter to control this behavior.\n",
            "  _warn_prf(average, modifier, f\"{metric.capitalize()} is\", len(result))\n",
            "/usr/local/lib/python3.10/dist-packages/sklearn/metrics/_classification.py:1531: UndefinedMetricWarning: Precision is ill-defined and being set to 0.0 in labels with no predicted samples. Use `zero_division` parameter to control this behavior.\n",
            "  _warn_prf(average, modifier, f\"{metric.capitalize()} is\", len(result))\n",
            "/usr/local/lib/python3.10/dist-packages/sklearn/metrics/_classification.py:1531: UndefinedMetricWarning: Precision is ill-defined and being set to 0.0 in labels with no predicted samples. Use `zero_division` parameter to control this behavior.\n",
            "  _warn_prf(average, modifier, f\"{metric.capitalize()} is\", len(result))\n",
            "/usr/local/lib/python3.10/dist-packages/sklearn/metrics/_classification.py:1531: UndefinedMetricWarning: Precision is ill-defined and being set to 0.0 in labels with no predicted samples. Use `zero_division` parameter to control this behavior.\n",
            "  _warn_prf(average, modifier, f\"{metric.capitalize()} is\", len(result))\n",
            "/usr/local/lib/python3.10/dist-packages/sklearn/metrics/_classification.py:1531: UndefinedMetricWarning: Precision is ill-defined and being set to 0.0 in labels with no predicted samples. Use `zero_division` parameter to control this behavior.\n",
            "  _warn_prf(average, modifier, f\"{metric.capitalize()} is\", len(result))\n"
          ]
        }
      ],
      "source": [
        "evaluate_classification(y_true=Y_train, y_pred=Y_pred_train_maj)\n",
        "evaluate_classification(y_true=Y_test, y_pred=Y_pred_test_maj)"
      ]
    },
    {
      "cell_type": "code",
      "execution_count": 36,
      "metadata": {
        "id": "XsrdYqT01Ung",
        "outputId": "935c7c3d-bab1-46f5-b8e1-3c32b5683883",
        "colab": {
          "base_uri": "https://localhost:8080/"
        }
      },
      "outputs": [
        {
          "output_type": "stream",
          "name": "stdout",
          "text": [
            "              precision    recall  f1-score   support\n",
            "\n",
            "         neg       0.50      0.50      0.50     12500\n",
            "         pos       0.50      0.50      0.50     12500\n",
            "\n",
            "    accuracy                           0.50     25000\n",
            "   macro avg       0.50      0.50      0.50     25000\n",
            "weighted avg       0.50      0.50      0.50     25000\n",
            "\n",
            "              precision    recall  f1-score   support\n",
            "\n",
            "         neg       0.50      0.50      0.50     12500\n",
            "         pos       0.50      0.49      0.50     12500\n",
            "\n",
            "    accuracy                           0.50     25000\n",
            "   macro avg       0.50      0.50      0.50     25000\n",
            "weighted avg       0.50      0.50      0.50     25000\n",
            "\n"
          ]
        }
      ],
      "source": [
        "evaluate_classification(y_true=Y_train, y_pred=Y_pred_train_uni)\n",
        "evaluate_classification(y_true=Y_test, y_pred=Y_pred_test_uni)"
      ]
    },
    {
      "cell_type": "markdown",
      "metadata": {
        "id": "022pneV8hOnd"
      },
      "source": [
        "#### 3.1.1 The importance of model evaluation\n",
        "\n",
        "In most cases, accuracy is **not a very informative metric**.\n",
        "\n",
        "Precision, recall, and F1 are more informative\n",
        "\n",
        "F1 is generally a good indicator. In particular, macro F1 in case the test set in unbalanced.\n",
        "\n",
        "Whether precision or recall are more important depends on the specific application, if the priority is to avoid false positives or false negatives.\n",
        "\n",
        "Other metrics do exists (e.g., Area Under ROC Curve), always check the literature to find the most informative way to measure something!"
      ]
    },
    {
      "cell_type": "markdown",
      "metadata": {
        "id": "X_MZ91GaRyJP"
      },
      "source": [
        "#### Homework 📖\n",
        "\n",
        "Try sampling an unbalanced test set and run model evaluation.\n",
        "\n",
        "Do you see any differences in terms of metric values?"
      ]
    },
    {
      "cell_type": "code",
      "execution_count": 37,
      "metadata": {
        "colab": {
          "base_uri": "https://localhost:8080/",
          "height": 1000
        },
        "id": "PihvHXH3TBLV",
        "outputId": "3cbbad00-f1d6-4f18-9c70-5e678f2593dc"
      },
      "outputs": [
        {
          "output_type": "execute_result",
          "data": {
            "text/plain": [
              "<sklearn.metrics._plot.confusion_matrix.ConfusionMatrixDisplay at 0x7d6a8f8e2170>"
            ]
          },
          "metadata": {},
          "execution_count": 37
        },
        {
          "output_type": "display_data",
          "data": {
            "text/plain": [
              "<Figure size 640x480 with 1 Axes>"
            ],
            "image/png": "[encoded data removed]"
          },
          "metadata": {}
        },
        {
          "output_type": "display_data",
          "data": {
            "text/plain": [
              "<Figure size 640x480 with 2 Axes>"
            ],
            "image/png": "[encoded data removed]"
          },
          "metadata": {}
        },
        {
          "output_type": "display_data",
          "data": {
            "text/plain": [
              "<Figure size 640x480 with 2 Axes>"
            ],
            "image/png": "[encoded data removed]"
          },
          "metadata": {}
        }
      ],
      "source": [
        "# plot precision/recall curve and confusion matrix\n",
        "from sklearn.metrics import precision_recall_curve, PrecisionRecallDisplay, ConfusionMatrixDisplay, PrecisionRecallDisplay\n",
        "\n",
        "PrecisionRecallDisplay.from_estimator(majority_classifier, X_test, Y_test)\n",
        "ConfusionMatrixDisplay.from_estimator(majority_classifier, X_test, Y_test, normalize=None, cmap=plt.cm.Blues)\n",
        "ConfusionMatrixDisplay.from_estimator(majority_classifier, X_test, Y_test, normalize='all', cmap=plt.cm.Blues, values_format=\".2f\")"
      ]
    },
    {
      "cell_type": "markdown",
      "metadata": {
        "id": "NYB6E1qyVYtO"
      },
      "source": [
        "In most cases it is better to use the normalized version, especially with unbalanced distributions!"
      ]
    },
    {
      "cell_type": "markdown",
      "metadata": {
        "id": "N0HSskuMAwZv"
      },
      "source": [
        "Looking at confusion tables row-wise gives information about recall, looking column-wise gives information about precision.\n",
        "\n",
        "<center>\n",
        "    <img src=\"https://github.com/MatteoFasulo/NLP/blob/main/lab/tutorial-1/images/confusion_matrix.png?raw=1\" alt=\"confusion matrix\" />\n",
        "</center>\n",
        "\n",
        "<div align='right'>\n",
        "(wikipedia)\n",
        "</div>"
      ]
    },
    {
      "cell_type": "code",
      "execution_count": 38,
      "metadata": {
        "colab": {
          "base_uri": "https://localhost:8080/",
          "height": 1000
        },
        "id": "AAR8cXdWTNSI",
        "outputId": "3800be39-2b52-48e7-b20e-ee064cda3ea9",
        "scrolled": true
      },
      "outputs": [
        {
          "output_type": "execute_result",
          "data": {
            "text/plain": [
              "<sklearn.metrics._plot.confusion_matrix.ConfusionMatrixDisplay at 0x7d6a777340a0>"
            ]
          },
          "metadata": {},
          "execution_count": 38
        },
        {
          "output_type": "display_data",
          "data": {
            "text/plain": [
              "<Figure size 640x480 with 1 Axes>"
            ],
            "image/png": "[encoded data removed]"
          },
          "metadata": {}
        },
        {
          "output_type": "display_data",
          "data": {
            "text/plain": [
              "<Figure size 640x480 with 2 Axes>"
            ],
            "image/png": "[encoded data removed]"
          },
          "metadata": {}
        },
        {
          "output_type": "display_data",
          "data": {
            "text/plain": [
              "<Figure size 640x480 with 2 Axes>"
            ],
            "image/png": "[encoded data removed]"
          },
          "metadata": {}
        }
      ],
      "source": [
        "PrecisionRecallDisplay.from_estimator(uniform_classifier, X_test, Y_test)\n",
        "ConfusionMatrixDisplay.from_estimator(uniform_classifier, X_test, Y_test, normalize=None, cmap=plt.cm.Blues)\n",
        "ConfusionMatrixDisplay.from_estimator(uniform_classifier, X_test, Y_test, normalize='all', cmap=plt.cm.Blues, values_format=\".2f\")"
      ]
    },
    {
      "cell_type": "markdown",
      "metadata": {
        "id": "juwGDsNo1Unh"
      },
      "source": [
        "### 3.2 Bayes Classifier\n",
        "\n",
        "Let's try out our first classifier: A Naive Bayes Classifier (NB)."
      ]
    },
    {
      "cell_type": "code",
      "execution_count": 39,
      "metadata": {
        "id": "8q-A3XQF1Uni"
      },
      "outputs": [],
      "source": [
        "from sklearn.naive_bayes import MultinomialNB\n",
        "\n",
        "nb_classifier = MultinomialNB()\n",
        "\n",
        "nb_classifier.fit(X_train, Y_train)\n",
        "\n",
        "Y_pred_train_nb = nb_classifier.predict(X_train)\n",
        "Y_pred_test_nb = nb_classifier.predict(X_test)"
      ]
    },
    {
      "cell_type": "code",
      "execution_count": 40,
      "metadata": {
        "id": "KqLFBNAv1Uni",
        "outputId": "171aa35d-5177-4ce3-da18-b32f1c19ef3a",
        "colab": {
          "base_uri": "https://localhost:8080/"
        }
      },
      "outputs": [
        {
          "output_type": "stream",
          "name": "stdout",
          "text": [
            "              precision    recall  f1-score   support\n",
            "\n",
            "         neg       0.89      0.93      0.91     12500\n",
            "         pos       0.93      0.89      0.91     12500\n",
            "\n",
            "    accuracy                           0.91     25000\n",
            "   macro avg       0.91      0.91      0.91     25000\n",
            "weighted avg       0.91      0.91      0.91     25000\n",
            "\n",
            "              precision    recall  f1-score   support\n",
            "\n",
            "         neg       0.79      0.89      0.84     12500\n",
            "         pos       0.87      0.77      0.82     12500\n",
            "\n",
            "    accuracy                           0.83     25000\n",
            "   macro avg       0.83      0.83      0.83     25000\n",
            "weighted avg       0.83      0.83      0.83     25000\n",
            "\n"
          ]
        }
      ],
      "source": [
        "evaluate_classification(y_true=Y_train, y_pred=Y_pred_train_nb)\n",
        "evaluate_classification(y_true=Y_test, y_pred=Y_pred_test_nb)"
      ]
    },
    {
      "cell_type": "code",
      "execution_count": 41,
      "metadata": {
        "id": "WrgC_Kvx1Uni",
        "outputId": "333947dd-c2f9-4aa0-c53d-4b430deec5f2",
        "colab": {
          "base_uri": "https://localhost:8080/",
          "height": 1000
        }
      },
      "outputs": [
        {
          "output_type": "execute_result",
          "data": {
            "text/plain": [
              "<sklearn.metrics._plot.confusion_matrix.ConfusionMatrixDisplay at 0x7d6a77407bb0>"
            ]
          },
          "metadata": {},
          "execution_count": 41
        },
        {
          "output_type": "display_data",
          "data": {
            "text/plain": [
              "<Figure size 640x480 with 1 Axes>"
            ],
            "image/png": "[encoded data removed]"
          },
          "metadata": {}
        },
        {
          "output_type": "display_data",
          "data": {
            "text/plain": [
              "<Figure size 640x480 with 2 Axes>"
            ],
            "image/png": "[encoded data removed]"
          },
          "metadata": {}
        },
        {
          "output_type": "display_data",
          "data": {
            "text/plain": [
              "<Figure size 640x480 with 2 Axes>"
            ],
            "image/png": "[encoded data removed]"
          },
          "metadata": {}
        }
      ],
      "source": [
        "PrecisionRecallDisplay.from_estimator(nb_classifier, X_test, Y_test)\n",
        "ConfusionMatrixDisplay.from_estimator(nb_classifier, X_test, Y_test, cmap=plt.cm.Blues)\n",
        "ConfusionMatrixDisplay.from_estimator(nb_classifier, X_test, Y_test, normalize='all', cmap=plt.cm.Blues, values_format=\".2f\")"
      ]
    },
    {
      "cell_type": "markdown",
      "metadata": {
        "id": "xdb8GOD9LXa5"
      },
      "source": [
        "### 3.3 SVC Classifier\n",
        "\n",
        "We consider another classifier: a Support Vector Machine (SVM)."
      ]
    },
    {
      "cell_type": "code",
      "execution_count": 42,
      "metadata": {
        "id": "lTnd0-X2b3ke"
      },
      "outputs": [],
      "source": [
        "from sklearn.svm import LinearSVC\n",
        "\n",
        "svc_classifier = LinearSVC()\n",
        "\n",
        "svc_classifier.fit(X_train, Y_train)\n",
        "\n",
        "Y_pred_train_svc = svc_classifier.predict(X_train)\n",
        "Y_pred_test_svc = svc_classifier.predict(X_test)"
      ]
    },
    {
      "cell_type": "code",
      "execution_count": 43,
      "metadata": {
        "colab": {
          "base_uri": "https://localhost:8080/"
        },
        "id": "vG4oUWA0k3yS",
        "outputId": "cd8d71a4-445b-41fc-a9a2-74606533633c"
      },
      "outputs": [
        {
          "output_type": "stream",
          "name": "stdout",
          "text": [
            "              precision    recall  f1-score   support\n",
            "\n",
            "         neg       0.99      0.99      0.99     12500\n",
            "         pos       0.99      0.99      0.99     12500\n",
            "\n",
            "    accuracy                           0.99     25000\n",
            "   macro avg       0.99      0.99      0.99     25000\n",
            "weighted avg       0.99      0.99      0.99     25000\n",
            "\n",
            "              precision    recall  f1-score   support\n",
            "\n",
            "         neg       0.87      0.89      0.88     12500\n",
            "         pos       0.89      0.87      0.88     12500\n",
            "\n",
            "    accuracy                           0.88     25000\n",
            "   macro avg       0.88      0.88      0.88     25000\n",
            "weighted avg       0.88      0.88      0.88     25000\n",
            "\n"
          ]
        }
      ],
      "source": [
        "evaluate_classification(y_true=Y_train, y_pred=Y_pred_train_svc)\n",
        "evaluate_classification(y_true=Y_test, y_pred=Y_pred_test_svc)"
      ]
    },
    {
      "cell_type": "code",
      "execution_count": 44,
      "metadata": {
        "colab": {
          "base_uri": "https://localhost:8080/",
          "height": 1000
        },
        "id": "OgtGYwjncFpn",
        "outputId": "64012b96-ab62-40e7-bcad-0304788a6406",
        "scrolled": true
      },
      "outputs": [
        {
          "output_type": "execute_result",
          "data": {
            "text/plain": [
              "<sklearn.metrics._plot.confusion_matrix.ConfusionMatrixDisplay at 0x7d6a77316e00>"
            ]
          },
          "metadata": {},
          "execution_count": 44
        },
        {
          "output_type": "display_data",
          "data": {
            "text/plain": [
              "<Figure size 640x480 with 1 Axes>"
            ],
            "image/png": "[encoded data removed]"
          },
          "metadata": {}
        },
        {
          "output_type": "display_data",
          "data": {
            "text/plain": [
              "<Figure size 640x480 with 2 Axes>"
            ],
            "image/png": "[encoded data removed]"
          },
          "metadata": {}
        },
        {
          "output_type": "display_data",
          "data": {
            "text/plain": [
              "<Figure size 640x480 with 2 Axes>"
            ],
            "image/png": "[encoded data removed]"
          },
          "metadata": {}
        }
      ],
      "source": [
        "PrecisionRecallDisplay.from_estimator(svc_classifier, X_test, Y_test)\n",
        "ConfusionMatrixDisplay.from_estimator(svc_classifier, X_test, Y_test, cmap=plt.cm.Blues)\n",
        "ConfusionMatrixDisplay.from_estimator(svc_classifier, X_test, Y_test, normalize='all', cmap=plt.cm.Blues, values_format=\".2f\")"
      ]
    },
    {
      "cell_type": "markdown",
      "metadata": {
        "id": "TRLGlUAKSv0-"
      },
      "source": [
        "### 3.4 Error Analysis\n",
        "\n",
        "Let's try to understand what kind of errors are done by the model.\n",
        "\n",
        "We can look at specific cases of error."
      ]
    },
    {
      "cell_type": "code",
      "execution_count": 45,
      "metadata": {
        "id": "zBtBePtaTKlp"
      },
      "outputs": [],
      "source": [
        "# confidence of the model\n",
        "confidence = svc_classifier.decision_function(X_test)\n",
        "\n",
        "fp_i = []\n",
        "fn_i = []\n",
        "fp_v = []\n",
        "fn_v = []\n",
        "fp_c = []\n",
        "fn_c = []\n",
        "\n",
        "for index, value in enumerate(Y_test):\n",
        "    # false positives\n",
        "    if value==0 and Y_pred_test_svc[index]==1:\n",
        "        fp_i.append(index)\n",
        "        fp_v.append(value)\n",
        "        fp_c.append(confidence[index])\n",
        "    # false negatives\n",
        "    elif value==1 and Y_pred_test_svc[index]==0:\n",
        "        fn_i.append(index)\n",
        "        fn_v.append(value)\n",
        "        fn_c.append(confidence[index])"
      ]
    },
    {
      "cell_type": "markdown",
      "metadata": {
        "id": "Ey4zy1ltVRoE"
      },
      "source": [
        "Let's print some examples of FN and FP and the confidence in their classification"
      ]
    },
    {
      "cell_type": "code",
      "execution_count": 46,
      "metadata": {
        "colab": {
          "base_uri": "https://localhost:8080/"
        },
        "id": "dKNL64KsVUjF",
        "outputId": "d7b10d82-78eb-4345-a392-d383fa06d9b5"
      },
      "outputs": [
        {
          "output_type": "stream",
          "name": "stdout",
          "text": [
            "FN\n",
            "A gem of a British caper-comedy. Poor American schlub Pinky Green (Richard Jordan, playing another bad guy but this time an adorable one) gets out of a British jail and tries to go straight, but his maintenance man job in a bank is too attractive for his never-reformed criminal friends, headed up by a really nasty Ivan (David Niven in one of his last roles). Pinky resists, but the lure of all that money is just too much for him. Things unravel and reravel and it's all joyous to watch. Jordan must have played 20 bad guys in his career, but he never played the same one twice - this one is just too lovable to hate. Niven never played a slicker bad guy, oil all over. Two fine actors we've lost that I wish we had back.\n",
            "-0.22935342281378318\n",
            "\n",
            "As I have said before, I am NOT a fan of Tweety. He's just so aggravating I wish Sylvester would just eat him and get it over with.<br /><br />In this cartoon Sly is homeless once again and is back to feeding out of garbage cans. He spots a cruise ship leaving port nearby and decides to hop aboard when he spys Tweety is one of the passengers. <br /><br />The ship provides an adequate stage for the following hijinks and Sly desperately tries to catch the annoying bird and avoid seasickness. If only for once he's succeed by chewing and swallowing, thus finishing of the irritating Canary forever. But, as cartoons starring Tweety go, this one is quite good, but it's ALL thanks to that brilliant cat.\n",
            "-0.6898977418075295\n",
            "\n"
          ]
        }
      ],
      "source": [
        "print(\"FN\")\n",
        "\n",
        "for index in [0, 3]:\n",
        "    print(test_texts[fn_i[index]])\n",
        "    print(fn_c[index])\n",
        "    print()"
      ]
    },
    {
      "cell_type": "code",
      "execution_count": 47,
      "metadata": {
        "scrolled": true,
        "id": "22C-tjJv1Unl",
        "outputId": "5c94ce2b-6ccf-47ac-efe4-facfc493c873",
        "colab": {
          "base_uri": "https://localhost:8080/"
        }
      },
      "outputs": [
        {
          "output_type": "stream",
          "name": "stdout",
          "text": [
            "FP\n",
            "Although the acting was excellent, I spent the whole movie waiting for the nasty boy who caused so much grief to so many of the characters, get his final nemesis, and instead everyone else suffered except him and he gets the job of the husband whose wife's death he causes by running away from his friends, wins the girl he gave an overdose to and tried to rape. Even his friend gives money to his father, but the butterfly effect completely fails to return to its cause.<br /><br />This is a very dark film as each character that gets affected, suffers never ending depression. None of the normal avenues for relief seem to be effective and the only thing the authorities seem to do is give out quantities of stress pills.<br /><br />If this is normal behaviour in Finland now, I'm never going to go back just in case I am affected by such an amoral butterfly and end up as destroyed as the characters in this film were.\n",
            "0.09171404052622434\n",
            "\n",
            "Since I'm from Norway (one of the top ten (or so) richest countries in the world), it was much fun to watch how we use trucks from the 50ies and live in cottages from the medieval times. And since we have very strict laws when it comes to handguns, it was fun to see how much guns there actually were in Norway during the five minutes of the shooting there. Mr. Direct-to-video even managed to bring his silencer on short notice, so he must have powerful friends in the customs.<br /><br />Please do at least _some_ research before going to an \"exotic\" country, dudes -- you may hurt the feelings of old fans.<br /><br />Sverre -- old fan with hurt feelings.\n",
            "0.8838762629074549\n",
            "\n"
          ]
        }
      ],
      "source": [
        "print(\"FP\")\n",
        "\n",
        "for index in [0, 6]:\n",
        "    print(test_texts[fp_i[index]])\n",
        "    print(fp_c[index])\n",
        "    print()"
      ]
    },
    {
      "cell_type": "markdown",
      "metadata": {
        "id": "BPVAEPWVcuOB"
      },
      "source": [
        "We now check the sentences for which the classification error is bigger."
      ]
    },
    {
      "cell_type": "code",
      "execution_count": 48,
      "metadata": {
        "colab": {
          "base_uri": "https://localhost:8080/"
        },
        "id": "blgisqSqc45b",
        "outputId": "4ea74121-4ad4-43b2-f954-c1f5605d28ef"
      },
      "outputs": [
        {
          "output_type": "stream",
          "name": "stdout",
          "text": [
            "This movie was pure genius. John Waters is brilliant. It is hilarious and I am not sick of it even after seeing it about 20 times since I bought it a few months ago. The acting is great, although Ricki Lake could have been better. And Johnny Depp is magnificent. He is such a beautiful man and a very talented actor. And seeing most of Johnny's movies, this is probably my favorite. I give it 9.5/10. Rent it today!\n",
            "2.0703144600528205\n",
            "\n",
            "If you've ever heard the saying, \"the book is always better than the movie,\" Heart of Darkness is no exception to the rule. I believe that it was much easier for me to comprehend the details of the novel over the movie because I read the book aloud with my English class. We discussed each paragraph in great detail so I grasped the concept pretty quickly. I couldn't really understand the plot as well while watching the movie. This may be because there were no discussions held in class, but I suppose it is also because I couldn't paint my own pictures in my mind of the events of the novel. If you're the type of person who believes in that well-known saying, then leave watching the Heart of Darkness movie off your to-do list.\n",
            "-1.9518741895343417\n"
          ]
        }
      ],
      "source": [
        "max_fp = fp_c.index(max(fp_c))\n",
        "print(test_texts[fp_i[max_fp]])\n",
        "print(fp_c[max_fp])\n",
        "\n",
        "print()\n",
        "\n",
        "# for false negatives the confidence is negative\n",
        "max_fn = fn_c.index(min(fn_c))\n",
        "print(test_texts[fp_i[max_fn]])\n",
        "print(fn_c[max_fn])"
      ]
    },
    {
      "cell_type": "markdown",
      "metadata": {
        "id": "JYjVHNoo1Unl"
      },
      "source": [
        "Let's now consider the stemmed and lemmatized versions of our input features."
      ]
    },
    {
      "cell_type": "code",
      "execution_count": 49,
      "metadata": {
        "id": "8TaEJnBw1Unm"
      },
      "outputs": [],
      "source": [
        "svc_classifier_st = LinearSVC()\n",
        "\n",
        "svc_classifier_st.fit(st_X_train, Y_train)\n",
        "\n",
        "Y_pred_train_svc_st = svc_classifier_st.predict(st_X_train)\n",
        "Y_pred_test_svc_st = svc_classifier_st.predict(st_X_test)"
      ]
    },
    {
      "cell_type": "code",
      "execution_count": 50,
      "metadata": {
        "id": "pZqYGLzW1Unm",
        "outputId": "b33cf795-20b2-447b-9b92-b682d484b9b4",
        "colab": {
          "base_uri": "https://localhost:8080/"
        }
      },
      "outputs": [
        {
          "output_type": "stream",
          "name": "stdout",
          "text": [
            "              precision    recall  f1-score   support\n",
            "\n",
            "         neg       0.99      0.99      0.99     12500\n",
            "         pos       0.99      0.99      0.99     12500\n",
            "\n",
            "    accuracy                           0.99     25000\n",
            "   macro avg       0.99      0.99      0.99     25000\n",
            "weighted avg       0.99      0.99      0.99     25000\n",
            "\n",
            "              precision    recall  f1-score   support\n",
            "\n",
            "         neg       0.87      0.88      0.87     12500\n",
            "         pos       0.88      0.86      0.87     12500\n",
            "\n",
            "    accuracy                           0.87     25000\n",
            "   macro avg       0.87      0.87      0.87     25000\n",
            "weighted avg       0.87      0.87      0.87     25000\n",
            "\n"
          ]
        }
      ],
      "source": [
        "evaluate_classification(y_true=Y_train, y_pred=Y_pred_train_svc_st)\n",
        "evaluate_classification(y_true=Y_test, y_pred=Y_pred_test_svc_st)"
      ]
    },
    {
      "cell_type": "code",
      "execution_count": 51,
      "metadata": {
        "id": "UfsnWvaA1Unm"
      },
      "outputs": [],
      "source": [
        "svc_classifier_lem = LinearSVC()\n",
        "\n",
        "svc_classifier_lem.fit(lem_X_train, Y_train)\n",
        "\n",
        "Y_pred_train_svc_lem = svc_classifier_lem.predict(lem_X_train)\n",
        "Y_pred_test_svc_lem = svc_classifier_lem.predict(lem_X_test)"
      ]
    },
    {
      "cell_type": "code",
      "execution_count": 52,
      "metadata": {
        "id": "gfPRH4hC1Unm",
        "outputId": "a9055a4e-cd09-45cb-a8fd-dda54bbd2670",
        "colab": {
          "base_uri": "https://localhost:8080/"
        }
      },
      "outputs": [
        {
          "output_type": "stream",
          "name": "stdout",
          "text": [
            "              precision    recall  f1-score   support\n",
            "\n",
            "         neg       0.99      0.99      0.99     12500\n",
            "         pos       0.99      0.99      0.99     12500\n",
            "\n",
            "    accuracy                           0.99     25000\n",
            "   macro avg       0.99      0.99      0.99     25000\n",
            "weighted avg       0.99      0.99      0.99     25000\n",
            "\n",
            "              precision    recall  f1-score   support\n",
            "\n",
            "         neg       0.86      0.88      0.87     12500\n",
            "         pos       0.88      0.86      0.87     12500\n",
            "\n",
            "    accuracy                           0.87     25000\n",
            "   macro avg       0.87      0.87      0.87     25000\n",
            "weighted avg       0.87      0.87      0.87     25000\n",
            "\n"
          ]
        }
      ],
      "source": [
        "evaluate_classification(y_true=Y_train, y_pred=Y_pred_train_svc_lem)\n",
        "evaluate_classification(y_true=Y_test, y_pred=Y_pred_test_svc_lem)"
      ]
    },
    {
      "cell_type": "markdown",
      "metadata": {
        "id": "sjvHGopu1Unn"
      },
      "source": [
        "### 3.4.1 Comparisons\n",
        "\n",
        "Let's organize our results in a Table to better compare models."
      ]
    },
    {
      "cell_type": "markdown",
      "metadata": {
        "id": "EAVx5OAn1Unn"
      },
      "source": [
        "| Model       | F1-macro |\n",
        "| ---         | ---      |\n",
        "| Random      | .50      |\n",
        "| Majority    | .33      |\n",
        "| NB          |  .83     |\n",
        "| SVM         | **.88**      |\n",
        "| SVM w/ Stem | .87      |\n",
        "| SVM w/ Lem  | .87      |"
      ]
    },
    {
      "cell_type": "markdown",
      "metadata": {
        "id": "lHm3ijyo1Unn"
      },
      "source": [
        "#### Homework\n",
        "\n",
        "Try out the NB classifier with Stemmed and Lemmatized input features, respectively.\n",
        "\n",
        "What do you observe?"
      ]
    },
    {
      "cell_type": "markdown",
      "metadata": {
        "id": "UbzMCMfprp3m"
      },
      "source": [
        "# The End!"
      ]
    }
  ],
  "metadata": {
    "celltoolbar": "Slideshow",
    "colab": {
      "provenance": [],
      "include_colab_link": true
    },
    "kernelspec": {
      "display_name": "Python 3",
      "name": "python3"
    },
    "language_info": {
      "codemirror_mode": {
        "name": "ipython",
        "version": 3
      },
      "file_extension": ".py",
      "mimetype": "text/x-python",
      "name": "python",
      "nbconvert_exporter": "python",
      "pygments_lexer": "ipython3",
      "version": "3.12.3"
    }
  },
  "nbformat": 4,
  "nbformat_minor": 0
}