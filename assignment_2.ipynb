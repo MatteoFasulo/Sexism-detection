{
  "metadata": {
    "kernelspec": {
      "name": "python3",
      "display_name": "Python 3",
      "language": "python"
    },
    "language_info": {
      "name": "python",
      "version": "3.10.12",
      "mimetype": "text/x-python",
      "codemirror_mode": {
        "name": "ipython",
        "version": 3
      },
      "pygments_lexer": "ipython3",
      "nbconvert_exporter": "python",
      "file_extension": ".py"
    },
    "accelerator": "GPU",
    "celltoolbar": "Slideshow",
    "colab": {
      "gpuType": "T4",
      "provenance": []
    },
    "kaggle": {
      "accelerator": "nvidiaTeslaT4",
      "dataSources": [],
      "dockerImageVersionId": 30823,
      "isInternetEnabled": true,
      "language": "python",
      "sourceType": "notebook",
      "isGpuEnabled": true
    },
    "widgets": {
      "application/vnd.jupyter.widget-state+json": {
        "c1846a9dcb564594af39e1ec59c55b13": {
          "model_module": "@jupyter-widgets/controls",
          "model_name": "VBoxModel",
          "model_module_version": "1.5.0",
          "state": {
            "_dom_classes": [],
            "_model_module": "@jupyter-widgets/controls",
            "_model_module_version": "1.5.0",
            "_model_name": "VBoxModel",
            "_view_count": null,
            "_view_module": "@jupyter-widgets/controls",
            "_view_module_version": "1.5.0",
            "_view_name": "VBoxView",
            "box_style": "",
            "children": [],
            "layout": "IPY_MODEL_48ae5b8e2db14c719d1ce2df3c68c503"
          }
        },
        "9ce5dcc4380342ea8b86851216f5d28b": {
          "model_module": "@jupyter-widgets/controls",
          "model_name": "HTMLModel",
          "model_module_version": "1.5.0",
          "state": {
            "_dom_classes": [],
            "_model_module": "@jupyter-widgets/controls",
            "_model_module_version": "1.5.0",
            "_model_name": "HTMLModel",
            "_view_count": null,
            "_view_module": "@jupyter-widgets/controls",
            "_view_module_version": "1.5.0",
            "_view_name": "HTMLView",
            "description": "",
            "description_tooltip": null,
            "layout": "IPY_MODEL_cdb672ccb2cc43a0b92af7867bb9374a",
            "placeholder": "​",
            "style": "IPY_MODEL_f905c709308c4f538ddb13f65f5c54cb",
            "value": "<center> <img\nsrc=https://huggingface.co/front/assets/huggingface_logo-noborder.svg\nalt='Hugging Face'> <br> Copy a token from <a\nhref=\"https://huggingface.co/settings/tokens\" target=\"_blank\">your Hugging Face\ntokens page</a> and paste it below. <br> Immediately click login after copying\nyour token or it might be stored in plain text in this notebook file. </center>"
          }
        },
        "e3baddf68f814e8e966639db841c4853": {
          "model_module": "@jupyter-widgets/controls",
          "model_name": "PasswordModel",
          "model_module_version": "1.5.0",
          "state": {
            "_dom_classes": [],
            "_model_module": "@jupyter-widgets/controls",
            "_model_module_version": "1.5.0",
            "_model_name": "PasswordModel",
            "_view_count": null,
            "_view_module": "@jupyter-widgets/controls",
            "_view_module_version": "1.5.0",
            "_view_name": "PasswordView",
            "continuous_update": true,
            "description": "Token:",
            "description_tooltip": null,
            "disabled": false,
            "layout": "IPY_MODEL_fc154e11eed946a3b94e8e9d34e37763",
            "placeholder": "​",
            "style": "IPY_MODEL_ca1b458b63c2469087a48b9671817bcb",
            "value": ""
          }
        },
        "56f90dbf06e94da99646800855b93fdf": {
          "model_module": "@jupyter-widgets/controls",
          "model_name": "CheckboxModel",
          "model_module_version": "1.5.0",
          "state": {
            "_dom_classes": [],
            "_model_module": "@jupyter-widgets/controls",
            "_model_module_version": "1.5.0",
            "_model_name": "CheckboxModel",
            "_view_count": null,
            "_view_module": "@jupyter-widgets/controls",
            "_view_module_version": "1.5.0",
            "_view_name": "CheckboxView",
            "description": "Add token as git credential?",
            "description_tooltip": null,
            "disabled": false,
            "indent": true,
            "layout": "IPY_MODEL_29f2d35361a54f3c8ade9658fe393159",
            "style": "IPY_MODEL_1696b5d3810e49e3a6cc561a318f959c",
            "value": false
          }
        },
        "b1f8f2767ffd4277a3699eb5dd4768d2": {
          "model_module": "@jupyter-widgets/controls",
          "model_name": "ButtonModel",
          "model_module_version": "1.5.0",
          "state": {
            "_dom_classes": [],
            "_model_module": "@jupyter-widgets/controls",
            "_model_module_version": "1.5.0",
            "_model_name": "ButtonModel",
            "_view_count": null,
            "_view_module": "@jupyter-widgets/controls",
            "_view_module_version": "1.5.0",
            "_view_name": "ButtonView",
            "button_style": "",
            "description": "Login",
            "disabled": false,
            "icon": "",
            "layout": "IPY_MODEL_bedd9eea5c1144558a533a6ead9934eb",
            "style": "IPY_MODEL_e4be8f67411045418f54977f3aa26001",
            "tooltip": ""
          }
        },
        "799f3b1e67db4da79fd568ff08f93310": {
          "model_module": "@jupyter-widgets/controls",
          "model_name": "HTMLModel",
          "model_module_version": "1.5.0",
          "state": {
            "_dom_classes": [],
            "_model_module": "@jupyter-widgets/controls",
            "_model_module_version": "1.5.0",
            "_model_name": "HTMLModel",
            "_view_count": null,
            "_view_module": "@jupyter-widgets/controls",
            "_view_module_version": "1.5.0",
            "_view_name": "HTMLView",
            "description": "",
            "description_tooltip": null,
            "layout": "IPY_MODEL_573b22dabd8b48c69b2f33412ac12f82",
            "placeholder": "​",
            "style": "IPY_MODEL_dcbdaf0087974386bd528db17f0e47fb",
            "value": "\n<b>Pro Tip:</b> If you don't already have one, you can create a dedicated\n'notebooks' token with 'write' access, that you can then easily reuse for all\nnotebooks. </center>"
          }
        },
        "48ae5b8e2db14c719d1ce2df3c68c503": {
          "model_module": "@jupyter-widgets/base",
          "model_name": "LayoutModel",
          "model_module_version": "1.2.0",
          "state": {
            "_model_module": "@jupyter-widgets/base",
            "_model_module_version": "1.2.0",
            "_model_name": "LayoutModel",
            "_view_count": null,
            "_view_module": "@jupyter-widgets/base",
            "_view_module_version": "1.2.0",
            "_view_name": "LayoutView",
            "align_content": null,
            "align_items": "center",
            "align_self": null,
            "border": null,
            "bottom": null,
            "display": "flex",
            "flex": null,
            "flex_flow": "column",
            "grid_area": null,
            "grid_auto_columns": null,
            "grid_auto_flow": null,
            "grid_auto_rows": null,
            "grid_column": null,
            "grid_gap": null,
            "grid_row": null,
            "grid_template_areas": null,
            "grid_template_columns": null,
            "grid_template_rows": null,
            "height": null,
            "justify_content": null,
            "justify_items": null,
            "left": null,
            "margin": null,
            "max_height": null,
            "max_width": null,
            "min_height": null,
            "min_width": null,
            "object_fit": null,
            "object_position": null,
            "order": null,
            "overflow": null,
            "overflow_x": null,
            "overflow_y": null,
            "padding": null,
            "right": null,
            "top": null,
            "visibility": null,
            "width": "50%"
          }
        },
        "cdb672ccb2cc43a0b92af7867bb9374a": {
          "model_module": "@jupyter-widgets/base",
          "model_name": "LayoutModel",
          "model_module_version": "1.2.0",
          "state": {
            "_model_module": "@jupyter-widgets/base",
            "_model_module_version": "1.2.0",
            "_model_name": "LayoutModel",
            "_view_count": null,
            "_view_module": "@jupyter-widgets/base",
            "_view_module_version": "1.2.0",
            "_view_name": "LayoutView",
            "align_content": null,
            "align_items": null,
            "align_self": null,
            "border": null,
            "bottom": null,
            "display": null,
            "flex": null,
            "flex_flow": null,
            "grid_area": null,
            "grid_auto_columns": null,
            "grid_auto_flow": null,
            "grid_auto_rows": null,
            "grid_column": null,
            "grid_gap": null,
            "grid_row": null,
            "grid_template_areas": null,
            "grid_template_columns": null,
            "grid_template_rows": null,
            "height": null,
            "justify_content": null,
            "justify_items": null,
            "left": null,
            "margin": null,
            "max_height": null,
            "max_width": null,
            "min_height": null,
            "min_width": null,
            "object_fit": null,
            "object_position": null,
            "order": null,
            "overflow": null,
            "overflow_x": null,
            "overflow_y": null,
            "padding": null,
            "right": null,
            "top": null,
            "visibility": null,
            "width": null
          }
        },
        "f905c709308c4f538ddb13f65f5c54cb": {
          "model_module": "@jupyter-widgets/controls",
          "model_name": "DescriptionStyleModel",
          "model_module_version": "1.5.0",
          "state": {
            "_model_module": "@jupyter-widgets/controls",
            "_model_module_version": "1.5.0",
            "_model_name": "DescriptionStyleModel",
            "_view_count": null,
            "_view_module": "@jupyter-widgets/base",
            "_view_module_version": "1.2.0",
            "_view_name": "StyleView",
            "description_width": ""
          }
        },
        "fc154e11eed946a3b94e8e9d34e37763": {
          "model_module": "@jupyter-widgets/base",
          "model_name": "LayoutModel",
          "model_module_version": "1.2.0",
          "state": {
            "_model_module": "@jupyter-widgets/base",
            "_model_module_version": "1.2.0",
            "_model_name": "LayoutModel",
            "_view_count": null,
            "_view_module": "@jupyter-widgets/base",
            "_view_module_version": "1.2.0",
            "_view_name": "LayoutView",
            "align_content": null,
            "align_items": null,
            "align_self": null,
            "border": null,
            "bottom": null,
            "display": null,
            "flex": null,
            "flex_flow": null,
            "grid_area": null,
            "grid_auto_columns": null,
            "grid_auto_flow": null,
            "grid_auto_rows": null,
            "grid_column": null,
            "grid_gap": null,
            "grid_row": null,
            "grid_template_areas": null,
            "grid_template_columns": null,
            "grid_template_rows": null,
            "height": null,
            "justify_content": null,
            "justify_items": null,
            "left": null,
            "margin": null,
            "max_height": null,
            "max_width": null,
            "min_height": null,
            "min_width": null,
            "object_fit": null,
            "object_position": null,
            "order": null,
            "overflow": null,
            "overflow_x": null,
            "overflow_y": null,
            "padding": null,
            "right": null,
            "top": null,
            "visibility": null,
            "width": null
          }
        },
        "ca1b458b63c2469087a48b9671817bcb": {
          "model_module": "@jupyter-widgets/controls",
          "model_name": "DescriptionStyleModel",
          "model_module_version": "1.5.0",
          "state": {
            "_model_module": "@jupyter-widgets/controls",
            "_model_module_version": "1.5.0",
            "_model_name": "DescriptionStyleModel",
            "_view_count": null,
            "_view_module": "@jupyter-widgets/base",
            "_view_module_version": "1.2.0",
            "_view_name": "StyleView",
            "description_width": ""
          }
        },
        "29f2d35361a54f3c8ade9658fe393159": {
          "model_module": "@jupyter-widgets/base",
          "model_name": "LayoutModel",
          "model_module_version": "1.2.0",
          "state": {
            "_model_module": "@jupyter-widgets/base",
            "_model_module_version": "1.2.0",
            "_model_name": "LayoutModel",
            "_view_count": null,
            "_view_module": "@jupyter-widgets/base",
            "_view_module_version": "1.2.0",
            "_view_name": "LayoutView",
            "align_content": null,
            "align_items": null,
            "align_self": null,
            "border": null,
            "bottom": null,
            "display": null,
            "flex": null,
            "flex_flow": null,
            "grid_area": null,
            "grid_auto_columns": null,
            "grid_auto_flow": null,
            "grid_auto_rows": null,
            "grid_column": null,
            "grid_gap": null,
            "grid_row": null,
            "grid_template_areas": null,
            "grid_template_columns": null,
            "grid_template_rows": null,
            "height": null,
            "justify_content": null,
            "justify_items": null,
            "left": null,
            "margin": null,
            "max_height": null,
            "max_width": null,
            "min_height": null,
            "min_width": null,
            "object_fit": null,
            "object_position": null,
            "order": null,
            "overflow": null,
            "overflow_x": null,
            "overflow_y": null,
            "padding": null,
            "right": null,
            "top": null,
            "visibility": null,
            "width": null
          }
        },
        "1696b5d3810e49e3a6cc561a318f959c": {
          "model_module": "@jupyter-widgets/controls",
          "model_name": "DescriptionStyleModel",
          "model_module_version": "1.5.0",
          "state": {
            "_model_module": "@jupyter-widgets/controls",
            "_model_module_version": "1.5.0",
            "_model_name": "DescriptionStyleModel",
            "_view_count": null,
            "_view_module": "@jupyter-widgets/base",
            "_view_module_version": "1.2.0",
            "_view_name": "StyleView",
            "description_width": ""
          }
        },
        "bedd9eea5c1144558a533a6ead9934eb": {
          "model_module": "@jupyter-widgets/base",
          "model_name": "LayoutModel",
          "model_module_version": "1.2.0",
          "state": {
            "_model_module": "@jupyter-widgets/base",
            "_model_module_version": "1.2.0",
            "_model_name": "LayoutModel",
            "_view_count": null,
            "_view_module": "@jupyter-widgets/base",
            "_view_module_version": "1.2.0",
            "_view_name": "LayoutView",
            "align_content": null,
            "align_items": null,
            "align_self": null,
            "border": null,
            "bottom": null,
            "display": null,
            "flex": null,
            "flex_flow": null,
            "grid_area": null,
            "grid_auto_columns": null,
            "grid_auto_flow": null,
            "grid_auto_rows": null,
            "grid_column": null,
            "grid_gap": null,
            "grid_row": null,
            "grid_template_areas": null,
            "grid_template_columns": null,
            "grid_template_rows": null,
            "height": null,
            "justify_content": null,
            "justify_items": null,
            "left": null,
            "margin": null,
            "max_height": null,
            "max_width": null,
            "min_height": null,
            "min_width": null,
            "object_fit": null,
            "object_position": null,
            "order": null,
            "overflow": null,
            "overflow_x": null,
            "overflow_y": null,
            "padding": null,
            "right": null,
            "top": null,
            "visibility": null,
            "width": null
          }
        },
        "e4be8f67411045418f54977f3aa26001": {
          "model_module": "@jupyter-widgets/controls",
          "model_name": "ButtonStyleModel",
          "model_module_version": "1.5.0",
          "state": {
            "_model_module": "@jupyter-widgets/controls",
            "_model_module_version": "1.5.0",
            "_model_name": "ButtonStyleModel",
            "_view_count": null,
            "_view_module": "@jupyter-widgets/base",
            "_view_module_version": "1.2.0",
            "_view_name": "StyleView",
            "button_color": null,
            "font_weight": ""
          }
        },
        "573b22dabd8b48c69b2f33412ac12f82": {
          "model_module": "@jupyter-widgets/base",
          "model_name": "LayoutModel",
          "model_module_version": "1.2.0",
          "state": {
            "_model_module": "@jupyter-widgets/base",
            "_model_module_version": "1.2.0",
            "_model_name": "LayoutModel",
            "_view_count": null,
            "_view_module": "@jupyter-widgets/base",
            "_view_module_version": "1.2.0",
            "_view_name": "LayoutView",
            "align_content": null,
            "align_items": null,
            "align_self": null,
            "border": null,
            "bottom": null,
            "display": null,
            "flex": null,
            "flex_flow": null,
            "grid_area": null,
            "grid_auto_columns": null,
            "grid_auto_flow": null,
            "grid_auto_rows": null,
            "grid_column": null,
            "grid_gap": null,
            "grid_row": null,
            "grid_template_areas": null,
            "grid_template_columns": null,
            "grid_template_rows": null,
            "height": null,
            "justify_content": null,
            "justify_items": null,
            "left": null,
            "margin": null,
            "max_height": null,
            "max_width": null,
            "min_height": null,
            "min_width": null,
            "object_fit": null,
            "object_position": null,
            "order": null,
            "overflow": null,
            "overflow_x": null,
            "overflow_y": null,
            "padding": null,
            "right": null,
            "top": null,
            "visibility": null,
            "width": null
          }
        },
        "dcbdaf0087974386bd528db17f0e47fb": {
          "model_module": "@jupyter-widgets/controls",
          "model_name": "DescriptionStyleModel",
          "model_module_version": "1.5.0",
          "state": {
            "_model_module": "@jupyter-widgets/controls",
            "_model_module_version": "1.5.0",
            "_model_name": "DescriptionStyleModel",
            "_view_count": null,
            "_view_module": "@jupyter-widgets/base",
            "_view_module_version": "1.2.0",
            "_view_name": "StyleView",
            "description_width": ""
          }
        },
        "3d0d2d2f777042a080a1e51a12d97e58": {
          "model_module": "@jupyter-widgets/controls",
          "model_name": "LabelModel",
          "model_module_version": "1.5.0",
          "state": {
            "_dom_classes": [],
            "_model_module": "@jupyter-widgets/controls",
            "_model_module_version": "1.5.0",
            "_model_name": "LabelModel",
            "_view_count": null,
            "_view_module": "@jupyter-widgets/controls",
            "_view_module_version": "1.5.0",
            "_view_name": "LabelView",
            "description": "",
            "description_tooltip": null,
            "layout": "IPY_MODEL_ef89f853f3f54571ac81284dc8d91ee4",
            "placeholder": "​",
            "style": "IPY_MODEL_7c84e274297d47fcabad476c2bad98a5",
            "value": "Connecting..."
          }
        },
        "ef89f853f3f54571ac81284dc8d91ee4": {
          "model_module": "@jupyter-widgets/base",
          "model_name": "LayoutModel",
          "model_module_version": "1.2.0",
          "state": {
            "_model_module": "@jupyter-widgets/base",
            "_model_module_version": "1.2.0",
            "_model_name": "LayoutModel",
            "_view_count": null,
            "_view_module": "@jupyter-widgets/base",
            "_view_module_version": "1.2.0",
            "_view_name": "LayoutView",
            "align_content": null,
            "align_items": null,
            "align_self": null,
            "border": null,
            "bottom": null,
            "display": null,
            "flex": null,
            "flex_flow": null,
            "grid_area": null,
            "grid_auto_columns": null,
            "grid_auto_flow": null,
            "grid_auto_rows": null,
            "grid_column": null,
            "grid_gap": null,
            "grid_row": null,
            "grid_template_areas": null,
            "grid_template_columns": null,
            "grid_template_rows": null,
            "height": null,
            "justify_content": null,
            "justify_items": null,
            "left": null,
            "margin": null,
            "max_height": null,
            "max_width": null,
            "min_height": null,
            "min_width": null,
            "object_fit": null,
            "object_position": null,
            "order": null,
            "overflow": null,
            "overflow_x": null,
            "overflow_y": null,
            "padding": null,
            "right": null,
            "top": null,
            "visibility": null,
            "width": null
          }
        },
        "7c84e274297d47fcabad476c2bad98a5": {
          "model_module": "@jupyter-widgets/controls",
          "model_name": "DescriptionStyleModel",
          "model_module_version": "1.5.0",
          "state": {
            "_model_module": "@jupyter-widgets/controls",
            "_model_module_version": "1.5.0",
            "_model_name": "DescriptionStyleModel",
            "_view_count": null,
            "_view_module": "@jupyter-widgets/base",
            "_view_module_version": "1.2.0",
            "_view_name": "StyleView",
            "description_width": ""
          }
        },
        "e7e02bcdc58c4f3ab657899598039db2": {
          "model_module": "@jupyter-widgets/controls",
          "model_name": "HBoxModel",
          "model_module_version": "1.5.0",
          "state": {
            "_dom_classes": [],
            "_model_module": "@jupyter-widgets/controls",
            "_model_module_version": "1.5.0",
            "_model_name": "HBoxModel",
            "_view_count": null,
            "_view_module": "@jupyter-widgets/controls",
            "_view_module_version": "1.5.0",
            "_view_name": "HBoxView",
            "box_style": "",
            "children": [
              "IPY_MODEL_3e73fb6444fe4c37a84e8d8a3166d81f",
              "IPY_MODEL_707bbc12cdf34926a7d6c004a90fddb2",
              "IPY_MODEL_f249ae54f3b2494d9c42655c0865e43c"
            ],
            "layout": "IPY_MODEL_d14c60256ed349408bbea3fd8627099a"
          }
        },
        "3e73fb6444fe4c37a84e8d8a3166d81f": {
          "model_module": "@jupyter-widgets/controls",
          "model_name": "HTMLModel",
          "model_module_version": "1.5.0",
          "state": {
            "_dom_classes": [],
            "_model_module": "@jupyter-widgets/controls",
            "_model_module_version": "1.5.0",
            "_model_name": "HTMLModel",
            "_view_count": null,
            "_view_module": "@jupyter-widgets/controls",
            "_view_module_version": "1.5.0",
            "_view_name": "HTMLView",
            "description": "",
            "description_tooltip": null,
            "layout": "IPY_MODEL_9922cee19aea466e8d35ae2bb12c5704",
            "placeholder": "​",
            "style": "IPY_MODEL_b5d7268e12f24b52a9c78fb67aa91bb2",
            "value": "tokenizer_config.json: 100%"
          }
        },
        "707bbc12cdf34926a7d6c004a90fddb2": {
          "model_module": "@jupyter-widgets/controls",
          "model_name": "FloatProgressModel",
          "model_module_version": "1.5.0",
          "state": {
            "_dom_classes": [],
            "_model_module": "@jupyter-widgets/controls",
            "_model_module_version": "1.5.0",
            "_model_name": "FloatProgressModel",
            "_view_count": null,
            "_view_module": "@jupyter-widgets/controls",
            "_view_module_version": "1.5.0",
            "_view_name": "ProgressView",
            "bar_style": "success",
            "description": "",
            "description_tooltip": null,
            "layout": "IPY_MODEL_01a966d833764428beb9eb27ca9e66ac",
            "max": 140874,
            "min": 0,
            "orientation": "horizontal",
            "style": "IPY_MODEL_4749732f61bc4e9187ff9b73ed1ac326",
            "value": 140874
          }
        },
        "f249ae54f3b2494d9c42655c0865e43c": {
          "model_module": "@jupyter-widgets/controls",
          "model_name": "HTMLModel",
          "model_module_version": "1.5.0",
          "state": {
            "_dom_classes": [],
            "_model_module": "@jupyter-widgets/controls",
            "_model_module_version": "1.5.0",
            "_model_name": "HTMLModel",
            "_view_count": null,
            "_view_module": "@jupyter-widgets/controls",
            "_view_module_version": "1.5.0",
            "_view_name": "HTMLView",
            "description": "",
            "description_tooltip": null,
            "layout": "IPY_MODEL_b51abf5140b14f868360d1f369443205",
            "placeholder": "​",
            "style": "IPY_MODEL_53e5631f7fe840e5a8cb6b866128e289",
            "value": " 141k/141k [00:00&lt;00:00, 7.59MB/s]"
          }
        },
        "d14c60256ed349408bbea3fd8627099a": {
          "model_module": "@jupyter-widgets/base",
          "model_name": "LayoutModel",
          "model_module_version": "1.2.0",
          "state": {
            "_model_module": "@jupyter-widgets/base",
            "_model_module_version": "1.2.0",
            "_model_name": "LayoutModel",
            "_view_count": null,
            "_view_module": "@jupyter-widgets/base",
            "_view_module_version": "1.2.0",
            "_view_name": "LayoutView",
            "align_content": null,
            "align_items": null,
            "align_self": null,
            "border": null,
            "bottom": null,
            "display": null,
            "flex": null,
            "flex_flow": null,
            "grid_area": null,
            "grid_auto_columns": null,
            "grid_auto_flow": null,
            "grid_auto_rows": null,
            "grid_column": null,
            "grid_gap": null,
            "grid_row": null,
            "grid_template_areas": null,
            "grid_template_columns": null,
            "grid_template_rows": null,
            "height": null,
            "justify_content": null,
            "justify_items": null,
            "left": null,
            "margin": null,
            "max_height": null,
            "max_width": null,
            "min_height": null,
            "min_width": null,
            "object_fit": null,
            "object_position": null,
            "order": null,
            "overflow": null,
            "overflow_x": null,
            "overflow_y": null,
            "padding": null,
            "right": null,
            "top": null,
            "visibility": null,
            "width": null
          }
        },
        "9922cee19aea466e8d35ae2bb12c5704": {
          "model_module": "@jupyter-widgets/base",
          "model_name": "LayoutModel",
          "model_module_version": "1.2.0",
          "state": {
            "_model_module": "@jupyter-widgets/base",
            "_model_module_version": "1.2.0",
            "_model_name": "LayoutModel",
            "_view_count": null,
            "_view_module": "@jupyter-widgets/base",
            "_view_module_version": "1.2.0",
            "_view_name": "LayoutView",
            "align_content": null,
            "align_items": null,
            "align_self": null,
            "border": null,
            "bottom": null,
            "display": null,
            "flex": null,
            "flex_flow": null,
            "grid_area": null,
            "grid_auto_columns": null,
            "grid_auto_flow": null,
            "grid_auto_rows": null,
            "grid_column": null,
            "grid_gap": null,
            "grid_row": null,
            "grid_template_areas": null,
            "grid_template_columns": null,
            "grid_template_rows": null,
            "height": null,
            "justify_content": null,
            "justify_items": null,
            "left": null,
            "margin": null,
            "max_height": null,
            "max_width": null,
            "min_height": null,
            "min_width": null,
            "object_fit": null,
            "object_position": null,
            "order": null,
            "overflow": null,
            "overflow_x": null,
            "overflow_y": null,
            "padding": null,
            "right": null,
            "top": null,
            "visibility": null,
            "width": null
          }
        },
        "b5d7268e12f24b52a9c78fb67aa91bb2": {
          "model_module": "@jupyter-widgets/controls",
          "model_name": "DescriptionStyleModel",
          "model_module_version": "1.5.0",
          "state": {
            "_model_module": "@jupyter-widgets/controls",
            "_model_module_version": "1.5.0",
            "_model_name": "DescriptionStyleModel",
            "_view_count": null,
            "_view_module": "@jupyter-widgets/base",
            "_view_module_version": "1.2.0",
            "_view_name": "StyleView",
            "description_width": ""
          }
        },
        "01a966d833764428beb9eb27ca9e66ac": {
          "model_module": "@jupyter-widgets/base",
          "model_name": "LayoutModel",
          "model_module_version": "1.2.0",
          "state": {
            "_model_module": "@jupyter-widgets/base",
            "_model_module_version": "1.2.0",
            "_model_name": "LayoutModel",
            "_view_count": null,
            "_view_module": "@jupyter-widgets/base",
            "_view_module_version": "1.2.0",
            "_view_name": "LayoutView",
            "align_content": null,
            "align_items": null,
            "align_self": null,
            "border": null,
            "bottom": null,
            "display": null,
            "flex": null,
            "flex_flow": null,
            "grid_area": null,
            "grid_auto_columns": null,
            "grid_auto_flow": null,
            "grid_auto_rows": null,
            "grid_column": null,
            "grid_gap": null,
            "grid_row": null,
            "grid_template_areas": null,
            "grid_template_columns": null,
            "grid_template_rows": null,
            "height": null,
            "justify_content": null,
            "justify_items": null,
            "left": null,
            "margin": null,
            "max_height": null,
            "max_width": null,
            "min_height": null,
            "min_width": null,
            "object_fit": null,
            "object_position": null,
            "order": null,
            "overflow": null,
            "overflow_x": null,
            "overflow_y": null,
            "padding": null,
            "right": null,
            "top": null,
            "visibility": null,
            "width": null
          }
        },
        "4749732f61bc4e9187ff9b73ed1ac326": {
          "model_module": "@jupyter-widgets/controls",
          "model_name": "ProgressStyleModel",
          "model_module_version": "1.5.0",
          "state": {
            "_model_module": "@jupyter-widgets/controls",
            "_model_module_version": "1.5.0",
            "_model_name": "ProgressStyleModel",
            "_view_count": null,
            "_view_module": "@jupyter-widgets/base",
            "_view_module_version": "1.2.0",
            "_view_name": "StyleView",
            "bar_color": null,
            "description_width": ""
          }
        },
        "b51abf5140b14f868360d1f369443205": {
          "model_module": "@jupyter-widgets/base",
          "model_name": "LayoutModel",
          "model_module_version": "1.2.0",
          "state": {
            "_model_module": "@jupyter-widgets/base",
            "_model_module_version": "1.2.0",
            "_model_name": "LayoutModel",
            "_view_count": null,
            "_view_module": "@jupyter-widgets/base",
            "_view_module_version": "1.2.0",
            "_view_name": "LayoutView",
            "align_content": null,
            "align_items": null,
            "align_self": null,
            "border": null,
            "bottom": null,
            "display": null,
            "flex": null,
            "flex_flow": null,
            "grid_area": null,
            "grid_auto_columns": null,
            "grid_auto_flow": null,
            "grid_auto_rows": null,
            "grid_column": null,
            "grid_gap": null,
            "grid_row": null,
            "grid_template_areas": null,
            "grid_template_columns": null,
            "grid_template_rows": null,
            "height": null,
            "justify_content": null,
            "justify_items": null,
            "left": null,
            "margin": null,
            "max_height": null,
            "max_width": null,
            "min_height": null,
            "min_width": null,
            "object_fit": null,
            "object_position": null,
            "order": null,
            "overflow": null,
            "overflow_x": null,
            "overflow_y": null,
            "padding": null,
            "right": null,
            "top": null,
            "visibility": null,
            "width": null
          }
        },
        "53e5631f7fe840e5a8cb6b866128e289": {
          "model_module": "@jupyter-widgets/controls",
          "model_name": "DescriptionStyleModel",
          "model_module_version": "1.5.0",
          "state": {
            "_model_module": "@jupyter-widgets/controls",
            "_model_module_version": "1.5.0",
            "_model_name": "DescriptionStyleModel",
            "_view_count": null,
            "_view_module": "@jupyter-widgets/base",
            "_view_module_version": "1.2.0",
            "_view_name": "StyleView",
            "description_width": ""
          }
        },
        "bb8066b897c34a08a7e598f1ff415581": {
          "model_module": "@jupyter-widgets/controls",
          "model_name": "HBoxModel",
          "model_module_version": "1.5.0",
          "state": {
            "_dom_classes": [],
            "_model_module": "@jupyter-widgets/controls",
            "_model_module_version": "1.5.0",
            "_model_name": "HBoxModel",
            "_view_count": null,
            "_view_module": "@jupyter-widgets/controls",
            "_view_module_version": "1.5.0",
            "_view_name": "HBoxView",
            "box_style": "",
            "children": [
              "IPY_MODEL_33fe0340c8444e66baa57791e5b78b7c",
              "IPY_MODEL_6405bd33d63a4d01874ba4c9e0d80334",
              "IPY_MODEL_e55cbf7058034c77aa3732114a3062bc"
            ],
            "layout": "IPY_MODEL_4b576ac2b32b47569d1d2f657a1faddf"
          }
        },
        "33fe0340c8444e66baa57791e5b78b7c": {
          "model_module": "@jupyter-widgets/controls",
          "model_name": "HTMLModel",
          "model_module_version": "1.5.0",
          "state": {
            "_dom_classes": [],
            "_model_module": "@jupyter-widgets/controls",
            "_model_module_version": "1.5.0",
            "_model_name": "HTMLModel",
            "_view_count": null,
            "_view_module": "@jupyter-widgets/controls",
            "_view_module_version": "1.5.0",
            "_view_name": "HTMLView",
            "description": "",
            "description_tooltip": null,
            "layout": "IPY_MODEL_29011283fb684c92b1514af8ecfed00d",
            "placeholder": "​",
            "style": "IPY_MODEL_679dad99050f4752894873f340cb28ec",
            "value": "tokenizer.model: 100%"
          }
        },
        "6405bd33d63a4d01874ba4c9e0d80334": {
          "model_module": "@jupyter-widgets/controls",
          "model_name": "FloatProgressModel",
          "model_module_version": "1.5.0",
          "state": {
            "_dom_classes": [],
            "_model_module": "@jupyter-widgets/controls",
            "_model_module_version": "1.5.0",
            "_model_name": "FloatProgressModel",
            "_view_count": null,
            "_view_module": "@jupyter-widgets/controls",
            "_view_module_version": "1.5.0",
            "_view_name": "ProgressView",
            "bar_style": "success",
            "description": "",
            "description_tooltip": null,
            "layout": "IPY_MODEL_378cab34ebc84d19b5d1bc2a5b821b81",
            "max": 587404,
            "min": 0,
            "orientation": "horizontal",
            "style": "IPY_MODEL_0cdd166cdab34680bf4073de7ab66734",
            "value": 587404
          }
        },
        "e55cbf7058034c77aa3732114a3062bc": {
          "model_module": "@jupyter-widgets/controls",
          "model_name": "HTMLModel",
          "model_module_version": "1.5.0",
          "state": {
            "_dom_classes": [],
            "_model_module": "@jupyter-widgets/controls",
            "_model_module_version": "1.5.0",
            "_model_name": "HTMLModel",
            "_view_count": null,
            "_view_module": "@jupyter-widgets/controls",
            "_view_module_version": "1.5.0",
            "_view_name": "HTMLView",
            "description": "",
            "description_tooltip": null,
            "layout": "IPY_MODEL_58a5ddce0c2f4e15a0f5c96bd54bc582",
            "placeholder": "​",
            "style": "IPY_MODEL_ad18037f907c45c0b06d01c321ec9ac3",
            "value": " 587k/587k [00:00&lt;00:00, 19.2MB/s]"
          }
        },
        "4b576ac2b32b47569d1d2f657a1faddf": {
          "model_module": "@jupyter-widgets/base",
          "model_name": "LayoutModel",
          "model_module_version": "1.2.0",
          "state": {
            "_model_module": "@jupyter-widgets/base",
            "_model_module_version": "1.2.0",
            "_model_name": "LayoutModel",
            "_view_count": null,
            "_view_module": "@jupyter-widgets/base",
            "_view_module_version": "1.2.0",
            "_view_name": "LayoutView",
            "align_content": null,
            "align_items": null,
            "align_self": null,
            "border": null,
            "bottom": null,
            "display": null,
            "flex": null,
            "flex_flow": null,
            "grid_area": null,
            "grid_auto_columns": null,
            "grid_auto_flow": null,
            "grid_auto_rows": null,
            "grid_column": null,
            "grid_gap": null,
            "grid_row": null,
            "grid_template_areas": null,
            "grid_template_columns": null,
            "grid_template_rows": null,
            "height": null,
            "justify_content": null,
            "justify_items": null,
            "left": null,
            "margin": null,
            "max_height": null,
            "max_width": null,
            "min_height": null,
            "min_width": null,
            "object_fit": null,
            "object_position": null,
            "order": null,
            "overflow": null,
            "overflow_x": null,
            "overflow_y": null,
            "padding": null,
            "right": null,
            "top": null,
            "visibility": null,
            "width": null
          }
        },
        "29011283fb684c92b1514af8ecfed00d": {
          "model_module": "@jupyter-widgets/base",
          "model_name": "LayoutModel",
          "model_module_version": "1.2.0",
          "state": {
            "_model_module": "@jupyter-widgets/base",
            "_model_module_version": "1.2.0",
            "_model_name": "LayoutModel",
            "_view_count": null,
            "_view_module": "@jupyter-widgets/base",
            "_view_module_version": "1.2.0",
            "_view_name": "LayoutView",
            "align_content": null,
            "align_items": null,
            "align_self": null,
            "border": null,
            "bottom": null,
            "display": null,
            "flex": null,
            "flex_flow": null,
            "grid_area": null,
            "grid_auto_columns": null,
            "grid_auto_flow": null,
            "grid_auto_rows": null,
            "grid_column": null,
            "grid_gap": null,
            "grid_row": null,
            "grid_template_areas": null,
            "grid_template_columns": null,
            "grid_template_rows": null,
            "height": null,
            "justify_content": null,
            "justify_items": null,
            "left": null,
            "margin": null,
            "max_height": null,
            "max_width": null,
            "min_height": null,
            "min_width": null,
            "object_fit": null,
            "object_position": null,
            "order": null,
            "overflow": null,
            "overflow_x": null,
            "overflow_y": null,
            "padding": null,
            "right": null,
            "top": null,
            "visibility": null,
            "width": null
          }
        },
        "679dad99050f4752894873f340cb28ec": {
          "model_module": "@jupyter-widgets/controls",
          "model_name": "DescriptionStyleModel",
          "model_module_version": "1.5.0",
          "state": {
            "_model_module": "@jupyter-widgets/controls",
            "_model_module_version": "1.5.0",
            "_model_name": "DescriptionStyleModel",
            "_view_count": null,
            "_view_module": "@jupyter-widgets/base",
            "_view_module_version": "1.2.0",
            "_view_name": "StyleView",
            "description_width": ""
          }
        },
        "378cab34ebc84d19b5d1bc2a5b821b81": {
          "model_module": "@jupyter-widgets/base",
          "model_name": "LayoutModel",
          "model_module_version": "1.2.0",
          "state": {
            "_model_module": "@jupyter-widgets/base",
            "_model_module_version": "1.2.0",
            "_model_name": "LayoutModel",
            "_view_count": null,
            "_view_module": "@jupyter-widgets/base",
            "_view_module_version": "1.2.0",
            "_view_name": "LayoutView",
            "align_content": null,
            "align_items": null,
            "align_self": null,
            "border": null,
            "bottom": null,
            "display": null,
            "flex": null,
            "flex_flow": null,
            "grid_area": null,
            "grid_auto_columns": null,
            "grid_auto_flow": null,
            "grid_auto_rows": null,
            "grid_column": null,
            "grid_gap": null,
            "grid_row": null,
            "grid_template_areas": null,
            "grid_template_columns": null,
            "grid_template_rows": null,
            "height": null,
            "justify_content": null,
            "justify_items": null,
            "left": null,
            "margin": null,
            "max_height": null,
            "max_width": null,
            "min_height": null,
            "min_width": null,
            "object_fit": null,
            "object_position": null,
            "order": null,
            "overflow": null,
            "overflow_x": null,
            "overflow_y": null,
            "padding": null,
            "right": null,
            "top": null,
            "visibility": null,
            "width": null
          }
        },
        "0cdd166cdab34680bf4073de7ab66734": {
          "model_module": "@jupyter-widgets/controls",
          "model_name": "ProgressStyleModel",
          "model_module_version": "1.5.0",
          "state": {
            "_model_module": "@jupyter-widgets/controls",
            "_model_module_version": "1.5.0",
            "_model_name": "ProgressStyleModel",
            "_view_count": null,
            "_view_module": "@jupyter-widgets/base",
            "_view_module_version": "1.2.0",
            "_view_name": "StyleView",
            "bar_color": null,
            "description_width": ""
          }
        },
        "58a5ddce0c2f4e15a0f5c96bd54bc582": {
          "model_module": "@jupyter-widgets/base",
          "model_name": "LayoutModel",
          "model_module_version": "1.2.0",
          "state": {
            "_model_module": "@jupyter-widgets/base",
            "_model_module_version": "1.2.0",
            "_model_name": "LayoutModel",
            "_view_count": null,
            "_view_module": "@jupyter-widgets/base",
            "_view_module_version": "1.2.0",
            "_view_name": "LayoutView",
            "align_content": null,
            "align_items": null,
            "align_self": null,
            "border": null,
            "bottom": null,
            "display": null,
            "flex": null,
            "flex_flow": null,
            "grid_area": null,
            "grid_auto_columns": null,
            "grid_auto_flow": null,
            "grid_auto_rows": null,
            "grid_column": null,
            "grid_gap": null,
            "grid_row": null,
            "grid_template_areas": null,
            "grid_template_columns": null,
            "grid_template_rows": null,
            "height": null,
            "justify_content": null,
            "justify_items": null,
            "left": null,
            "margin": null,
            "max_height": null,
            "max_width": null,
            "min_height": null,
            "min_width": null,
            "object_fit": null,
            "object_position": null,
            "order": null,
            "overflow": null,
            "overflow_x": null,
            "overflow_y": null,
            "padding": null,
            "right": null,
            "top": null,
            "visibility": null,
            "width": null
          }
        },
        "ad18037f907c45c0b06d01c321ec9ac3": {
          "model_module": "@jupyter-widgets/controls",
          "model_name": "DescriptionStyleModel",
          "model_module_version": "1.5.0",
          "state": {
            "_model_module": "@jupyter-widgets/controls",
            "_model_module_version": "1.5.0",
            "_model_name": "DescriptionStyleModel",
            "_view_count": null,
            "_view_module": "@jupyter-widgets/base",
            "_view_module_version": "1.2.0",
            "_view_name": "StyleView",
            "description_width": ""
          }
        },
        "cfffe93c1c21468fae715a221ca621c6": {
          "model_module": "@jupyter-widgets/controls",
          "model_name": "HBoxModel",
          "model_module_version": "1.5.0",
          "state": {
            "_dom_classes": [],
            "_model_module": "@jupyter-widgets/controls",
            "_model_module_version": "1.5.0",
            "_model_name": "HBoxModel",
            "_view_count": null,
            "_view_module": "@jupyter-widgets/controls",
            "_view_module_version": "1.5.0",
            "_view_name": "HBoxView",
            "box_style": "",
            "children": [
              "IPY_MODEL_99c07023bc5e4fd4b3e9239a01c47ef8",
              "IPY_MODEL_fc786a345cf84842a3bf45a892fe0472",
              "IPY_MODEL_83919ed633074a41b10cb19b437a1cf6"
            ],
            "layout": "IPY_MODEL_03706daf585e4925b4b8ff3cdea8da4b"
          }
        },
        "99c07023bc5e4fd4b3e9239a01c47ef8": {
          "model_module": "@jupyter-widgets/controls",
          "model_name": "HTMLModel",
          "model_module_version": "1.5.0",
          "state": {
            "_dom_classes": [],
            "_model_module": "@jupyter-widgets/controls",
            "_model_module_version": "1.5.0",
            "_model_name": "HTMLModel",
            "_view_count": null,
            "_view_module": "@jupyter-widgets/controls",
            "_view_module_version": "1.5.0",
            "_view_name": "HTMLView",
            "description": "",
            "description_tooltip": null,
            "layout": "IPY_MODEL_070bc0be124b425383339e1e1e4345a3",
            "placeholder": "​",
            "style": "IPY_MODEL_c4e2938c32b447c4bd001bf08463cfc0",
            "value": "tokenizer.json: 100%"
          }
        },
        "fc786a345cf84842a3bf45a892fe0472": {
          "model_module": "@jupyter-widgets/controls",
          "model_name": "FloatProgressModel",
          "model_module_version": "1.5.0",
          "state": {
            "_dom_classes": [],
            "_model_module": "@jupyter-widgets/controls",
            "_model_module_version": "1.5.0",
            "_model_name": "FloatProgressModel",
            "_view_count": null,
            "_view_module": "@jupyter-widgets/controls",
            "_view_module_version": "1.5.0",
            "_view_name": "ProgressView",
            "bar_style": "success",
            "description": "",
            "description_tooltip": null,
            "layout": "IPY_MODEL_a6e94766f4444e1db218779be8d644d3",
            "max": 1961548,
            "min": 0,
            "orientation": "horizontal",
            "style": "IPY_MODEL_98e2609c40734c02844521ed7aa913da",
            "value": 1961548
          }
        },
        "83919ed633074a41b10cb19b437a1cf6": {
          "model_module": "@jupyter-widgets/controls",
          "model_name": "HTMLModel",
          "model_module_version": "1.5.0",
          "state": {
            "_dom_classes": [],
            "_model_module": "@jupyter-widgets/controls",
            "_model_module_version": "1.5.0",
            "_model_name": "HTMLModel",
            "_view_count": null,
            "_view_module": "@jupyter-widgets/controls",
            "_view_module_version": "1.5.0",
            "_view_name": "HTMLView",
            "description": "",
            "description_tooltip": null,
            "layout": "IPY_MODEL_8a4f975cd13841959d7f86954290e410",
            "placeholder": "​",
            "style": "IPY_MODEL_566f69e1aaad4befa54bde823530dd79",
            "value": " 1.96M/1.96M [00:00&lt;00:00, 4.46MB/s]"
          }
        },
        "03706daf585e4925b4b8ff3cdea8da4b": {
          "model_module": "@jupyter-widgets/base",
          "model_name": "LayoutModel",
          "model_module_version": "1.2.0",
          "state": {
            "_model_module": "@jupyter-widgets/base",
            "_model_module_version": "1.2.0",
            "_model_name": "LayoutModel",
            "_view_count": null,
            "_view_module": "@jupyter-widgets/base",
            "_view_module_version": "1.2.0",
            "_view_name": "LayoutView",
            "align_content": null,
            "align_items": null,
            "align_self": null,
            "border": null,
            "bottom": null,
            "display": null,
            "flex": null,
            "flex_flow": null,
            "grid_area": null,
            "grid_auto_columns": null,
            "grid_auto_flow": null,
            "grid_auto_rows": null,
            "grid_column": null,
            "grid_gap": null,
            "grid_row": null,
            "grid_template_areas": null,
            "grid_template_columns": null,
            "grid_template_rows": null,
            "height": null,
            "justify_content": null,
            "justify_items": null,
            "left": null,
            "margin": null,
            "max_height": null,
            "max_width": null,
            "min_height": null,
            "min_width": null,
            "object_fit": null,
            "object_position": null,
            "order": null,
            "overflow": null,
            "overflow_x": null,
            "overflow_y": null,
            "padding": null,
            "right": null,
            "top": null,
            "visibility": null,
            "width": null
          }
        },
        "070bc0be124b425383339e1e1e4345a3": {
          "model_module": "@jupyter-widgets/base",
          "model_name": "LayoutModel",
          "model_module_version": "1.2.0",
          "state": {
            "_model_module": "@jupyter-widgets/base",
            "_model_module_version": "1.2.0",
            "_model_name": "LayoutModel",
            "_view_count": null,
            "_view_module": "@jupyter-widgets/base",
            "_view_module_version": "1.2.0",
            "_view_name": "LayoutView",
            "align_content": null,
            "align_items": null,
            "align_self": null,
            "border": null,
            "bottom": null,
            "display": null,
            "flex": null,
            "flex_flow": null,
            "grid_area": null,
            "grid_auto_columns": null,
            "grid_auto_flow": null,
            "grid_auto_rows": null,
            "grid_column": null,
            "grid_gap": null,
            "grid_row": null,
            "grid_template_areas": null,
            "grid_template_columns": null,
            "grid_template_rows": null,
            "height": null,
            "justify_content": null,
            "justify_items": null,
            "left": null,
            "margin": null,
            "max_height": null,
            "max_width": null,
            "min_height": null,
            "min_width": null,
            "object_fit": null,
            "object_position": null,
            "order": null,
            "overflow": null,
            "overflow_x": null,
            "overflow_y": null,
            "padding": null,
            "right": null,
            "top": null,
            "visibility": null,
            "width": null
          }
        },
        "c4e2938c32b447c4bd001bf08463cfc0": {
          "model_module": "@jupyter-widgets/controls",
          "model_name": "DescriptionStyleModel",
          "model_module_version": "1.5.0",
          "state": {
            "_model_module": "@jupyter-widgets/controls",
            "_model_module_version": "1.5.0",
            "_model_name": "DescriptionStyleModel",
            "_view_count": null,
            "_view_module": "@jupyter-widgets/base",
            "_view_module_version": "1.2.0",
            "_view_name": "StyleView",
            "description_width": ""
          }
        },
        "a6e94766f4444e1db218779be8d644d3": {
          "model_module": "@jupyter-widgets/base",
          "model_name": "LayoutModel",
          "model_module_version": "1.2.0",
          "state": {
            "_model_module": "@jupyter-widgets/base",
            "_model_module_version": "1.2.0",
            "_model_name": "LayoutModel",
            "_view_count": null,
            "_view_module": "@jupyter-widgets/base",
            "_view_module_version": "1.2.0",
            "_view_name": "LayoutView",
            "align_content": null,
            "align_items": null,
            "align_self": null,
            "border": null,
            "bottom": null,
            "display": null,
            "flex": null,
            "flex_flow": null,
            "grid_area": null,
            "grid_auto_columns": null,
            "grid_auto_flow": null,
            "grid_auto_rows": null,
            "grid_column": null,
            "grid_gap": null,
            "grid_row": null,
            "grid_template_areas": null,
            "grid_template_columns": null,
            "grid_template_rows": null,
            "height": null,
            "justify_content": null,
            "justify_items": null,
            "left": null,
            "margin": null,
            "max_height": null,
            "max_width": null,
            "min_height": null,
            "min_width": null,
            "object_fit": null,
            "object_position": null,
            "order": null,
            "overflow": null,
            "overflow_x": null,
            "overflow_y": null,
            "padding": null,
            "right": null,
            "top": null,
            "visibility": null,
            "width": null
          }
        },
        "98e2609c40734c02844521ed7aa913da": {
          "model_module": "@jupyter-widgets/controls",
          "model_name": "ProgressStyleModel",
          "model_module_version": "1.5.0",
          "state": {
            "_model_module": "@jupyter-widgets/controls",
            "_model_module_version": "1.5.0",
            "_model_name": "ProgressStyleModel",
            "_view_count": null,
            "_view_module": "@jupyter-widgets/base",
            "_view_module_version": "1.2.0",
            "_view_name": "StyleView",
            "bar_color": null,
            "description_width": ""
          }
        },
        "8a4f975cd13841959d7f86954290e410": {
          "model_module": "@jupyter-widgets/base",
          "model_name": "LayoutModel",
          "model_module_version": "1.2.0",
          "state": {
            "_model_module": "@jupyter-widgets/base",
            "_model_module_version": "1.2.0",
            "_model_name": "LayoutModel",
            "_view_count": null,
            "_view_module": "@jupyter-widgets/base",
            "_view_module_version": "1.2.0",
            "_view_name": "LayoutView",
            "align_content": null,
            "align_items": null,
            "align_self": null,
            "border": null,
            "bottom": null,
            "display": null,
            "flex": null,
            "flex_flow": null,
            "grid_area": null,
            "grid_auto_columns": null,
            "grid_auto_flow": null,
            "grid_auto_rows": null,
            "grid_column": null,
            "grid_gap": null,
            "grid_row": null,
            "grid_template_areas": null,
            "grid_template_columns": null,
            "grid_template_rows": null,
            "height": null,
            "justify_content": null,
            "justify_items": null,
            "left": null,
            "margin": null,
            "max_height": null,
            "max_width": null,
            "min_height": null,
            "min_width": null,
            "object_fit": null,
            "object_position": null,
            "order": null,
            "overflow": null,
            "overflow_x": null,
            "overflow_y": null,
            "padding": null,
            "right": null,
            "top": null,
            "visibility": null,
            "width": null
          }
        },
        "566f69e1aaad4befa54bde823530dd79": {
          "model_module": "@jupyter-widgets/controls",
          "model_name": "DescriptionStyleModel",
          "model_module_version": "1.5.0",
          "state": {
            "_model_module": "@jupyter-widgets/controls",
            "_model_module_version": "1.5.0",
            "_model_name": "DescriptionStyleModel",
            "_view_count": null,
            "_view_module": "@jupyter-widgets/base",
            "_view_module_version": "1.2.0",
            "_view_name": "StyleView",
            "description_width": ""
          }
        },
        "45e5574034df4a78a02e011f27afaea7": {
          "model_module": "@jupyter-widgets/controls",
          "model_name": "HBoxModel",
          "model_module_version": "1.5.0",
          "state": {
            "_dom_classes": [],
            "_model_module": "@jupyter-widgets/controls",
            "_model_module_version": "1.5.0",
            "_model_name": "HBoxModel",
            "_view_count": null,
            "_view_module": "@jupyter-widgets/controls",
            "_view_module_version": "1.5.0",
            "_view_name": "HBoxView",
            "box_style": "",
            "children": [
              "IPY_MODEL_fbbca39e31e14a928d7dbaceb853094c",
              "IPY_MODEL_46a80def55984e998ec8d25942937e65",
              "IPY_MODEL_10e1689b054f4045a27262d695fa6970"
            ],
            "layout": "IPY_MODEL_4f00afd02d8e4f92b6c57fa4b07d4d5d"
          }
        },
        "fbbca39e31e14a928d7dbaceb853094c": {
          "model_module": "@jupyter-widgets/controls",
          "model_name": "HTMLModel",
          "model_module_version": "1.5.0",
          "state": {
            "_dom_classes": [],
            "_model_module": "@jupyter-widgets/controls",
            "_model_module_version": "1.5.0",
            "_model_name": "HTMLModel",
            "_view_count": null,
            "_view_module": "@jupyter-widgets/controls",
            "_view_module_version": "1.5.0",
            "_view_name": "HTMLView",
            "description": "",
            "description_tooltip": null,
            "layout": "IPY_MODEL_a13162d1ad2a4b08be7049ee1c769815",
            "placeholder": "​",
            "style": "IPY_MODEL_139343a7a50c4157b6ee591fe2989dc1",
            "value": "special_tokens_map.json: 100%"
          }
        },
        "46a80def55984e998ec8d25942937e65": {
          "model_module": "@jupyter-widgets/controls",
          "model_name": "FloatProgressModel",
          "model_module_version": "1.5.0",
          "state": {
            "_dom_classes": [],
            "_model_module": "@jupyter-widgets/controls",
            "_model_module_version": "1.5.0",
            "_model_name": "FloatProgressModel",
            "_view_count": null,
            "_view_module": "@jupyter-widgets/controls",
            "_view_module_version": "1.5.0",
            "_view_name": "ProgressView",
            "bar_style": "success",
            "description": "",
            "description_tooltip": null,
            "layout": "IPY_MODEL_6a085448595148e2852b6b29f6e33d74",
            "max": 414,
            "min": 0,
            "orientation": "horizontal",
            "style": "IPY_MODEL_2c101e3822164cb5819db2d5b8d53c28",
            "value": 414
          }
        },
        "10e1689b054f4045a27262d695fa6970": {
          "model_module": "@jupyter-widgets/controls",
          "model_name": "HTMLModel",
          "model_module_version": "1.5.0",
          "state": {
            "_dom_classes": [],
            "_model_module": "@jupyter-widgets/controls",
            "_model_module_version": "1.5.0",
            "_model_name": "HTMLModel",
            "_view_count": null,
            "_view_module": "@jupyter-widgets/controls",
            "_view_module_version": "1.5.0",
            "_view_name": "HTMLView",
            "description": "",
            "description_tooltip": null,
            "layout": "IPY_MODEL_f33bfb43e73b42e49f58ab212d5968af",
            "placeholder": "​",
            "style": "IPY_MODEL_1fd6d85a0f8f4be5936650333629c87d",
            "value": " 414/414 [00:00&lt;00:00, 29.3kB/s]"
          }
        },
        "4f00afd02d8e4f92b6c57fa4b07d4d5d": {
          "model_module": "@jupyter-widgets/base",
          "model_name": "LayoutModel",
          "model_module_version": "1.2.0",
          "state": {
            "_model_module": "@jupyter-widgets/base",
            "_model_module_version": "1.2.0",
            "_model_name": "LayoutModel",
            "_view_count": null,
            "_view_module": "@jupyter-widgets/base",
            "_view_module_version": "1.2.0",
            "_view_name": "LayoutView",
            "align_content": null,
            "align_items": null,
            "align_self": null,
            "border": null,
            "bottom": null,
            "display": null,
            "flex": null,
            "flex_flow": null,
            "grid_area": null,
            "grid_auto_columns": null,
            "grid_auto_flow": null,
            "grid_auto_rows": null,
            "grid_column": null,
            "grid_gap": null,
            "grid_row": null,
            "grid_template_areas": null,
            "grid_template_columns": null,
            "grid_template_rows": null,
            "height": null,
            "justify_content": null,
            "justify_items": null,
            "left": null,
            "margin": null,
            "max_height": null,
            "max_width": null,
            "min_height": null,
            "min_width": null,
            "object_fit": null,
            "object_position": null,
            "order": null,
            "overflow": null,
            "overflow_x": null,
            "overflow_y": null,
            "padding": null,
            "right": null,
            "top": null,
            "visibility": null,
            "width": null
          }
        },
        "a13162d1ad2a4b08be7049ee1c769815": {
          "model_module": "@jupyter-widgets/base",
          "model_name": "LayoutModel",
          "model_module_version": "1.2.0",
          "state": {
            "_model_module": "@jupyter-widgets/base",
            "_model_module_version": "1.2.0",
            "_model_name": "LayoutModel",
            "_view_count": null,
            "_view_module": "@jupyter-widgets/base",
            "_view_module_version": "1.2.0",
            "_view_name": "LayoutView",
            "align_content": null,
            "align_items": null,
            "align_self": null,
            "border": null,
            "bottom": null,
            "display": null,
            "flex": null,
            "flex_flow": null,
            "grid_area": null,
            "grid_auto_columns": null,
            "grid_auto_flow": null,
            "grid_auto_rows": null,
            "grid_column": null,
            "grid_gap": null,
            "grid_row": null,
            "grid_template_areas": null,
            "grid_template_columns": null,
            "grid_template_rows": null,
            "height": null,
            "justify_content": null,
            "justify_items": null,
            "left": null,
            "margin": null,
            "max_height": null,
            "max_width": null,
            "min_height": null,
            "min_width": null,
            "object_fit": null,
            "object_position": null,
            "order": null,
            "overflow": null,
            "overflow_x": null,
            "overflow_y": null,
            "padding": null,
            "right": null,
            "top": null,
            "visibility": null,
            "width": null
          }
        },
        "139343a7a50c4157b6ee591fe2989dc1": {
          "model_module": "@jupyter-widgets/controls",
          "model_name": "DescriptionStyleModel",
          "model_module_version": "1.5.0",
          "state": {
            "_model_module": "@jupyter-widgets/controls",
            "_model_module_version": "1.5.0",
            "_model_name": "DescriptionStyleModel",
            "_view_count": null,
            "_view_module": "@jupyter-widgets/base",
            "_view_module_version": "1.2.0",
            "_view_name": "StyleView",
            "description_width": ""
          }
        },
        "6a085448595148e2852b6b29f6e33d74": {
          "model_module": "@jupyter-widgets/base",
          "model_name": "LayoutModel",
          "model_module_version": "1.2.0",
          "state": {
            "_model_module": "@jupyter-widgets/base",
            "_model_module_version": "1.2.0",
            "_model_name": "LayoutModel",
            "_view_count": null,
            "_view_module": "@jupyter-widgets/base",
            "_view_module_version": "1.2.0",
            "_view_name": "LayoutView",
            "align_content": null,
            "align_items": null,
            "align_self": null,
            "border": null,
            "bottom": null,
            "display": null,
            "flex": null,
            "flex_flow": null,
            "grid_area": null,
            "grid_auto_columns": null,
            "grid_auto_flow": null,
            "grid_auto_rows": null,
            "grid_column": null,
            "grid_gap": null,
            "grid_row": null,
            "grid_template_areas": null,
            "grid_template_columns": null,
            "grid_template_rows": null,
            "height": null,
            "justify_content": null,
            "justify_items": null,
            "left": null,
            "margin": null,
            "max_height": null,
            "max_width": null,
            "min_height": null,
            "min_width": null,
            "object_fit": null,
            "object_position": null,
            "order": null,
            "overflow": null,
            "overflow_x": null,
            "overflow_y": null,
            "padding": null,
            "right": null,
            "top": null,
            "visibility": null,
            "width": null
          }
        },
        "2c101e3822164cb5819db2d5b8d53c28": {
          "model_module": "@jupyter-widgets/controls",
          "model_name": "ProgressStyleModel",
          "model_module_version": "1.5.0",
          "state": {
            "_model_module": "@jupyter-widgets/controls",
            "_model_module_version": "1.5.0",
            "_model_name": "ProgressStyleModel",
            "_view_count": null,
            "_view_module": "@jupyter-widgets/base",
            "_view_module_version": "1.2.0",
            "_view_name": "StyleView",
            "bar_color": null,
            "description_width": ""
          }
        },
        "f33bfb43e73b42e49f58ab212d5968af": {
          "model_module": "@jupyter-widgets/base",
          "model_name": "LayoutModel",
          "model_module_version": "1.2.0",
          "state": {
            "_model_module": "@jupyter-widgets/base",
            "_model_module_version": "1.2.0",
            "_model_name": "LayoutModel",
            "_view_count": null,
            "_view_module": "@jupyter-widgets/base",
            "_view_module_version": "1.2.0",
            "_view_name": "LayoutView",
            "align_content": null,
            "align_items": null,
            "align_self": null,
            "border": null,
            "bottom": null,
            "display": null,
            "flex": null,
            "flex_flow": null,
            "grid_area": null,
            "grid_auto_columns": null,
            "grid_auto_flow": null,
            "grid_auto_rows": null,
            "grid_column": null,
            "grid_gap": null,
            "grid_row": null,
            "grid_template_areas": null,
            "grid_template_columns": null,
            "grid_template_rows": null,
            "height": null,
            "justify_content": null,
            "justify_items": null,
            "left": null,
            "margin": null,
            "max_height": null,
            "max_width": null,
            "min_height": null,
            "min_width": null,
            "object_fit": null,
            "object_position": null,
            "order": null,
            "overflow": null,
            "overflow_x": null,
            "overflow_y": null,
            "padding": null,
            "right": null,
            "top": null,
            "visibility": null,
            "width": null
          }
        },
        "1fd6d85a0f8f4be5936650333629c87d": {
          "model_module": "@jupyter-widgets/controls",
          "model_name": "DescriptionStyleModel",
          "model_module_version": "1.5.0",
          "state": {
            "_model_module": "@jupyter-widgets/controls",
            "_model_module_version": "1.5.0",
            "_model_name": "DescriptionStyleModel",
            "_view_count": null,
            "_view_module": "@jupyter-widgets/base",
            "_view_module_version": "1.2.0",
            "_view_name": "StyleView",
            "description_width": ""
          }
        },
        "9082afc9336f45c09e8c9f558386dfb8": {
          "model_module": "@jupyter-widgets/controls",
          "model_name": "HBoxModel",
          "model_module_version": "1.5.0",
          "state": {
            "_dom_classes": [],
            "_model_module": "@jupyter-widgets/controls",
            "_model_module_version": "1.5.0",
            "_model_name": "HBoxModel",
            "_view_count": null,
            "_view_module": "@jupyter-widgets/controls",
            "_view_module_version": "1.5.0",
            "_view_name": "HBoxView",
            "box_style": "",
            "children": [
              "IPY_MODEL_326fbebbf7a04fc185ca8e60f8102f08",
              "IPY_MODEL_23d525aeaa9346758a9a6f30e3ac36c8",
              "IPY_MODEL_3ae253a883ea434b876678caba0e422f"
            ],
            "layout": "IPY_MODEL_7fbf7300e0b04706aa7e7174a7932e5d"
          }
        },
        "326fbebbf7a04fc185ca8e60f8102f08": {
          "model_module": "@jupyter-widgets/controls",
          "model_name": "HTMLModel",
          "model_module_version": "1.5.0",
          "state": {
            "_dom_classes": [],
            "_model_module": "@jupyter-widgets/controls",
            "_model_module_version": "1.5.0",
            "_model_name": "HTMLModel",
            "_view_count": null,
            "_view_module": "@jupyter-widgets/controls",
            "_view_module_version": "1.5.0",
            "_view_name": "HTMLView",
            "description": "",
            "description_tooltip": null,
            "layout": "IPY_MODEL_87326148b4e448e8833b7ef49160f5d6",
            "placeholder": "​",
            "style": "IPY_MODEL_7f097d11ba024ed78304aa75c9fec82e",
            "value": "config.json: 100%"
          }
        },
        "23d525aeaa9346758a9a6f30e3ac36c8": {
          "model_module": "@jupyter-widgets/controls",
          "model_name": "FloatProgressModel",
          "model_module_version": "1.5.0",
          "state": {
            "_dom_classes": [],
            "_model_module": "@jupyter-widgets/controls",
            "_model_module_version": "1.5.0",
            "_model_name": "FloatProgressModel",
            "_view_count": null,
            "_view_module": "@jupyter-widgets/controls",
            "_view_module_version": "1.5.0",
            "_view_name": "ProgressView",
            "bar_style": "success",
            "description": "",
            "description_tooltip": null,
            "layout": "IPY_MODEL_a4d09a4ddcfa404685b4262b46535e44",
            "max": 601,
            "min": 0,
            "orientation": "horizontal",
            "style": "IPY_MODEL_d2fbd239a5694809ade9f572317a9d5c",
            "value": 601
          }
        },
        "3ae253a883ea434b876678caba0e422f": {
          "model_module": "@jupyter-widgets/controls",
          "model_name": "HTMLModel",
          "model_module_version": "1.5.0",
          "state": {
            "_dom_classes": [],
            "_model_module": "@jupyter-widgets/controls",
            "_model_module_version": "1.5.0",
            "_model_name": "HTMLModel",
            "_view_count": null,
            "_view_module": "@jupyter-widgets/controls",
            "_view_module_version": "1.5.0",
            "_view_name": "HTMLView",
            "description": "",
            "description_tooltip": null,
            "layout": "IPY_MODEL_6e31371665be4ebba2a9a4fc6ad20988",
            "placeholder": "​",
            "style": "IPY_MODEL_13499f7313134e7ca62a532fedc63935",
            "value": " 601/601 [00:00&lt;00:00, 42.4kB/s]"
          }
        },
        "7fbf7300e0b04706aa7e7174a7932e5d": {
          "model_module": "@jupyter-widgets/base",
          "model_name": "LayoutModel",
          "model_module_version": "1.2.0",
          "state": {
            "_model_module": "@jupyter-widgets/base",
            "_model_module_version": "1.2.0",
            "_model_name": "LayoutModel",
            "_view_count": null,
            "_view_module": "@jupyter-widgets/base",
            "_view_module_version": "1.2.0",
            "_view_name": "LayoutView",
            "align_content": null,
            "align_items": null,
            "align_self": null,
            "border": null,
            "bottom": null,
            "display": null,
            "flex": null,
            "flex_flow": null,
            "grid_area": null,
            "grid_auto_columns": null,
            "grid_auto_flow": null,
            "grid_auto_rows": null,
            "grid_column": null,
            "grid_gap": null,
            "grid_row": null,
            "grid_template_areas": null,
            "grid_template_columns": null,
            "grid_template_rows": null,
            "height": null,
            "justify_content": null,
            "justify_items": null,
            "left": null,
            "margin": null,
            "max_height": null,
            "max_width": null,
            "min_height": null,
            "min_width": null,
            "object_fit": null,
            "object_position": null,
            "order": null,
            "overflow": null,
            "overflow_x": null,
            "overflow_y": null,
            "padding": null,
            "right": null,
            "top": null,
            "visibility": null,
            "width": null
          }
        },
        "87326148b4e448e8833b7ef49160f5d6": {
          "model_module": "@jupyter-widgets/base",
          "model_name": "LayoutModel",
          "model_module_version": "1.2.0",
          "state": {
            "_model_module": "@jupyter-widgets/base",
            "_model_module_version": "1.2.0",
            "_model_name": "LayoutModel",
            "_view_count": null,
            "_view_module": "@jupyter-widgets/base",
            "_view_module_version": "1.2.0",
            "_view_name": "LayoutView",
            "align_content": null,
            "align_items": null,
            "align_self": null,
            "border": null,
            "bottom": null,
            "display": null,
            "flex": null,
            "flex_flow": null,
            "grid_area": null,
            "grid_auto_columns": null,
            "grid_auto_flow": null,
            "grid_auto_rows": null,
            "grid_column": null,
            "grid_gap": null,
            "grid_row": null,
            "grid_template_areas": null,
            "grid_template_columns": null,
            "grid_template_rows": null,
            "height": null,
            "justify_content": null,
            "justify_items": null,
            "left": null,
            "margin": null,
            "max_height": null,
            "max_width": null,
            "min_height": null,
            "min_width": null,
            "object_fit": null,
            "object_position": null,
            "order": null,
            "overflow": null,
            "overflow_x": null,
            "overflow_y": null,
            "padding": null,
            "right": null,
            "top": null,
            "visibility": null,
            "width": null
          }
        },
        "7f097d11ba024ed78304aa75c9fec82e": {
          "model_module": "@jupyter-widgets/controls",
          "model_name": "DescriptionStyleModel",
          "model_module_version": "1.5.0",
          "state": {
            "_model_module": "@jupyter-widgets/controls",
            "_model_module_version": "1.5.0",
            "_model_name": "DescriptionStyleModel",
            "_view_count": null,
            "_view_module": "@jupyter-widgets/base",
            "_view_module_version": "1.2.0",
            "_view_name": "StyleView",
            "description_width": ""
          }
        },
        "a4d09a4ddcfa404685b4262b46535e44": {
          "model_module": "@jupyter-widgets/base",
          "model_name": "LayoutModel",
          "model_module_version": "1.2.0",
          "state": {
            "_model_module": "@jupyter-widgets/base",
            "_model_module_version": "1.2.0",
            "_model_name": "LayoutModel",
            "_view_count": null,
            "_view_module": "@jupyter-widgets/base",
            "_view_module_version": "1.2.0",
            "_view_name": "LayoutView",
            "align_content": null,
            "align_items": null,
            "align_self": null,
            "border": null,
            "bottom": null,
            "display": null,
            "flex": null,
            "flex_flow": null,
            "grid_area": null,
            "grid_auto_columns": null,
            "grid_auto_flow": null,
            "grid_auto_rows": null,
            "grid_column": null,
            "grid_gap": null,
            "grid_row": null,
            "grid_template_areas": null,
            "grid_template_columns": null,
            "grid_template_rows": null,
            "height": null,
            "justify_content": null,
            "justify_items": null,
            "left": null,
            "margin": null,
            "max_height": null,
            "max_width": null,
            "min_height": null,
            "min_width": null,
            "object_fit": null,
            "object_position": null,
            "order": null,
            "overflow": null,
            "overflow_x": null,
            "overflow_y": null,
            "padding": null,
            "right": null,
            "top": null,
            "visibility": null,
            "width": null
          }
        },
        "d2fbd239a5694809ade9f572317a9d5c": {
          "model_module": "@jupyter-widgets/controls",
          "model_name": "ProgressStyleModel",
          "model_module_version": "1.5.0",
          "state": {
            "_model_module": "@jupyter-widgets/controls",
            "_model_module_version": "1.5.0",
            "_model_name": "ProgressStyleModel",
            "_view_count": null,
            "_view_module": "@jupyter-widgets/base",
            "_view_module_version": "1.2.0",
            "_view_name": "StyleView",
            "bar_color": null,
            "description_width": ""
          }
        },
        "6e31371665be4ebba2a9a4fc6ad20988": {
          "model_module": "@jupyter-widgets/base",
          "model_name": "LayoutModel",
          "model_module_version": "1.2.0",
          "state": {
            "_model_module": "@jupyter-widgets/base",
            "_model_module_version": "1.2.0",
            "_model_name": "LayoutModel",
            "_view_count": null,
            "_view_module": "@jupyter-widgets/base",
            "_view_module_version": "1.2.0",
            "_view_name": "LayoutView",
            "align_content": null,
            "align_items": null,
            "align_self": null,
            "border": null,
            "bottom": null,
            "display": null,
            "flex": null,
            "flex_flow": null,
            "grid_area": null,
            "grid_auto_columns": null,
            "grid_auto_flow": null,
            "grid_auto_rows": null,
            "grid_column": null,
            "grid_gap": null,
            "grid_row": null,
            "grid_template_areas": null,
            "grid_template_columns": null,
            "grid_template_rows": null,
            "height": null,
            "justify_content": null,
            "justify_items": null,
            "left": null,
            "margin": null,
            "max_height": null,
            "max_width": null,
            "min_height": null,
            "min_width": null,
            "object_fit": null,
            "object_position": null,
            "order": null,
            "overflow": null,
            "overflow_x": null,
            "overflow_y": null,
            "padding": null,
            "right": null,
            "top": null,
            "visibility": null,
            "width": null
          }
        },
        "13499f7313134e7ca62a532fedc63935": {
          "model_module": "@jupyter-widgets/controls",
          "model_name": "DescriptionStyleModel",
          "model_module_version": "1.5.0",
          "state": {
            "_model_module": "@jupyter-widgets/controls",
            "_model_module_version": "1.5.0",
            "_model_name": "DescriptionStyleModel",
            "_view_count": null,
            "_view_module": "@jupyter-widgets/base",
            "_view_module_version": "1.2.0",
            "_view_name": "StyleView",
            "description_width": ""
          }
        },
        "2e3ec463febf4247a46713cc0e541dbc": {
          "model_module": "@jupyter-widgets/controls",
          "model_name": "HBoxModel",
          "model_module_version": "1.5.0",
          "state": {
            "_dom_classes": [],
            "_model_module": "@jupyter-widgets/controls",
            "_model_module_version": "1.5.0",
            "_model_name": "HBoxModel",
            "_view_count": null,
            "_view_module": "@jupyter-widgets/controls",
            "_view_module_version": "1.5.0",
            "_view_name": "HBoxView",
            "box_style": "",
            "children": [
              "IPY_MODEL_7c90816ffb284abb9e06338ef503a388",
              "IPY_MODEL_a3044c90edc1439c975d781db74d34ce",
              "IPY_MODEL_5924a914d5d4402b9d16abaa65d79122"
            ],
            "layout": "IPY_MODEL_4cd9b0a4a06948bb9061a8e13c4e2b36"
          }
        },
        "7c90816ffb284abb9e06338ef503a388": {
          "model_module": "@jupyter-widgets/controls",
          "model_name": "HTMLModel",
          "model_module_version": "1.5.0",
          "state": {
            "_dom_classes": [],
            "_model_module": "@jupyter-widgets/controls",
            "_model_module_version": "1.5.0",
            "_model_name": "HTMLModel",
            "_view_count": null,
            "_view_module": "@jupyter-widgets/controls",
            "_view_module_version": "1.5.0",
            "_view_name": "HTMLView",
            "description": "",
            "description_tooltip": null,
            "layout": "IPY_MODEL_9d361d076dd34acfbe8bbfd090557784",
            "placeholder": "​",
            "style": "IPY_MODEL_d6dc5923c5d1460aa5b7942d1dbe3b30",
            "value": "model.safetensors.index.json: 100%"
          }
        },
        "a3044c90edc1439c975d781db74d34ce": {
          "model_module": "@jupyter-widgets/controls",
          "model_name": "FloatProgressModel",
          "model_module_version": "1.5.0",
          "state": {
            "_dom_classes": [],
            "_model_module": "@jupyter-widgets/controls",
            "_model_module_version": "1.5.0",
            "_model_name": "FloatProgressModel",
            "_view_count": null,
            "_view_module": "@jupyter-widgets/controls",
            "_view_module_version": "1.5.0",
            "_view_name": "ProgressView",
            "bar_style": "success",
            "description": "",
            "description_tooltip": null,
            "layout": "IPY_MODEL_9645f62f81e54311bf28dca6e326fc85",
            "max": 23950,
            "min": 0,
            "orientation": "horizontal",
            "style": "IPY_MODEL_af134f8efc514910b31959193380477a",
            "value": 23950
          }
        },
        "5924a914d5d4402b9d16abaa65d79122": {
          "model_module": "@jupyter-widgets/controls",
          "model_name": "HTMLModel",
          "model_module_version": "1.5.0",
          "state": {
            "_dom_classes": [],
            "_model_module": "@jupyter-widgets/controls",
            "_model_module_version": "1.5.0",
            "_model_name": "HTMLModel",
            "_view_count": null,
            "_view_module": "@jupyter-widgets/controls",
            "_view_module_version": "1.5.0",
            "_view_name": "HTMLView",
            "description": "",
            "description_tooltip": null,
            "layout": "IPY_MODEL_67fe55893d3d42acb4a0834886779e8a",
            "placeholder": "​",
            "style": "IPY_MODEL_7cfb55d2c8e3461bb6ab3c506586d40f",
            "value": " 23.9k/23.9k [00:00&lt;00:00, 553kB/s]"
          }
        },
        "4cd9b0a4a06948bb9061a8e13c4e2b36": {
          "model_module": "@jupyter-widgets/base",
          "model_name": "LayoutModel",
          "model_module_version": "1.2.0",
          "state": {
            "_model_module": "@jupyter-widgets/base",
            "_model_module_version": "1.2.0",
            "_model_name": "LayoutModel",
            "_view_count": null,
            "_view_module": "@jupyter-widgets/base",
            "_view_module_version": "1.2.0",
            "_view_name": "LayoutView",
            "align_content": null,
            "align_items": null,
            "align_self": null,
            "border": null,
            "bottom": null,
            "display": null,
            "flex": null,
            "flex_flow": null,
            "grid_area": null,
            "grid_auto_columns": null,
            "grid_auto_flow": null,
            "grid_auto_rows": null,
            "grid_column": null,
            "grid_gap": null,
            "grid_row": null,
            "grid_template_areas": null,
            "grid_template_columns": null,
            "grid_template_rows": null,
            "height": null,
            "justify_content": null,
            "justify_items": null,
            "left": null,
            "margin": null,
            "max_height": null,
            "max_width": null,
            "min_height": null,
            "min_width": null,
            "object_fit": null,
            "object_position": null,
            "order": null,
            "overflow": null,
            "overflow_x": null,
            "overflow_y": null,
            "padding": null,
            "right": null,
            "top": null,
            "visibility": null,
            "width": null
          }
        },
        "9d361d076dd34acfbe8bbfd090557784": {
          "model_module": "@jupyter-widgets/base",
          "model_name": "LayoutModel",
          "model_module_version": "1.2.0",
          "state": {
            "_model_module": "@jupyter-widgets/base",
            "_model_module_version": "1.2.0",
            "_model_name": "LayoutModel",
            "_view_count": null,
            "_view_module": "@jupyter-widgets/base",
            "_view_module_version": "1.2.0",
            "_view_name": "LayoutView",
            "align_content": null,
            "align_items": null,
            "align_self": null,
            "border": null,
            "bottom": null,
            "display": null,
            "flex": null,
            "flex_flow": null,
            "grid_area": null,
            "grid_auto_columns": null,
            "grid_auto_flow": null,
            "grid_auto_rows": null,
            "grid_column": null,
            "grid_gap": null,
            "grid_row": null,
            "grid_template_areas": null,
            "grid_template_columns": null,
            "grid_template_rows": null,
            "height": null,
            "justify_content": null,
            "justify_items": null,
            "left": null,
            "margin": null,
            "max_height": null,
            "max_width": null,
            "min_height": null,
            "min_width": null,
            "object_fit": null,
            "object_position": null,
            "order": null,
            "overflow": null,
            "overflow_x": null,
            "overflow_y": null,
            "padding": null,
            "right": null,
            "top": null,
            "visibility": null,
            "width": null
          }
        },
        "d6dc5923c5d1460aa5b7942d1dbe3b30": {
          "model_module": "@jupyter-widgets/controls",
          "model_name": "DescriptionStyleModel",
          "model_module_version": "1.5.0",
          "state": {
            "_model_module": "@jupyter-widgets/controls",
            "_model_module_version": "1.5.0",
            "_model_name": "DescriptionStyleModel",
            "_view_count": null,
            "_view_module": "@jupyter-widgets/base",
            "_view_module_version": "1.2.0",
            "_view_name": "StyleView",
            "description_width": ""
          }
        },
        "9645f62f81e54311bf28dca6e326fc85": {
          "model_module": "@jupyter-widgets/base",
          "model_name": "LayoutModel",
          "model_module_version": "1.2.0",
          "state": {
            "_model_module": "@jupyter-widgets/base",
            "_model_module_version": "1.2.0",
            "_model_name": "LayoutModel",
            "_view_count": null,
            "_view_module": "@jupyter-widgets/base",
            "_view_module_version": "1.2.0",
            "_view_name": "LayoutView",
            "align_content": null,
            "align_items": null,
            "align_self": null,
            "border": null,
            "bottom": null,
            "display": null,
            "flex": null,
            "flex_flow": null,
            "grid_area": null,
            "grid_auto_columns": null,
            "grid_auto_flow": null,
            "grid_auto_rows": null,
            "grid_column": null,
            "grid_gap": null,
            "grid_row": null,
            "grid_template_areas": null,
            "grid_template_columns": null,
            "grid_template_rows": null,
            "height": null,
            "justify_content": null,
            "justify_items": null,
            "left": null,
            "margin": null,
            "max_height": null,
            "max_width": null,
            "min_height": null,
            "min_width": null,
            "object_fit": null,
            "object_position": null,
            "order": null,
            "overflow": null,
            "overflow_x": null,
            "overflow_y": null,
            "padding": null,
            "right": null,
            "top": null,
            "visibility": null,
            "width": null
          }
        },
        "af134f8efc514910b31959193380477a": {
          "model_module": "@jupyter-widgets/controls",
          "model_name": "ProgressStyleModel",
          "model_module_version": "1.5.0",
          "state": {
            "_model_module": "@jupyter-widgets/controls",
            "_model_module_version": "1.5.0",
            "_model_name": "ProgressStyleModel",
            "_view_count": null,
            "_view_module": "@jupyter-widgets/base",
            "_view_module_version": "1.2.0",
            "_view_name": "StyleView",
            "bar_color": null,
            "description_width": ""
          }
        },
        "67fe55893d3d42acb4a0834886779e8a": {
          "model_module": "@jupyter-widgets/base",
          "model_name": "LayoutModel",
          "model_module_version": "1.2.0",
          "state": {
            "_model_module": "@jupyter-widgets/base",
            "_model_module_version": "1.2.0",
            "_model_name": "LayoutModel",
            "_view_count": null,
            "_view_module": "@jupyter-widgets/base",
            "_view_module_version": "1.2.0",
            "_view_name": "LayoutView",
            "align_content": null,
            "align_items": null,
            "align_self": null,
            "border": null,
            "bottom": null,
            "display": null,
            "flex": null,
            "flex_flow": null,
            "grid_area": null,
            "grid_auto_columns": null,
            "grid_auto_flow": null,
            "grid_auto_rows": null,
            "grid_column": null,
            "grid_gap": null,
            "grid_row": null,
            "grid_template_areas": null,
            "grid_template_columns": null,
            "grid_template_rows": null,
            "height": null,
            "justify_content": null,
            "justify_items": null,
            "left": null,
            "margin": null,
            "max_height": null,
            "max_width": null,
            "min_height": null,
            "min_width": null,
            "object_fit": null,
            "object_position": null,
            "order": null,
            "overflow": null,
            "overflow_x": null,
            "overflow_y": null,
            "padding": null,
            "right": null,
            "top": null,
            "visibility": null,
            "width": null
          }
        },
        "7cfb55d2c8e3461bb6ab3c506586d40f": {
          "model_module": "@jupyter-widgets/controls",
          "model_name": "DescriptionStyleModel",
          "model_module_version": "1.5.0",
          "state": {
            "_model_module": "@jupyter-widgets/controls",
            "_model_module_version": "1.5.0",
            "_model_name": "DescriptionStyleModel",
            "_view_count": null,
            "_view_module": "@jupyter-widgets/base",
            "_view_module_version": "1.2.0",
            "_view_name": "StyleView",
            "description_width": ""
          }
        },
        "e6f316d2166f43ed8866674316a2f180": {
          "model_module": "@jupyter-widgets/controls",
          "model_name": "HBoxModel",
          "model_module_version": "1.5.0",
          "state": {
            "_dom_classes": [],
            "_model_module": "@jupyter-widgets/controls",
            "_model_module_version": "1.5.0",
            "_model_name": "HBoxModel",
            "_view_count": null,
            "_view_module": "@jupyter-widgets/controls",
            "_view_module_version": "1.5.0",
            "_view_name": "HBoxView",
            "box_style": "",
            "children": [
              "IPY_MODEL_136c81e4f9ac47dd9977393eb2bd3f48",
              "IPY_MODEL_02db4ca1d06240e3a8464de7583e50d0",
              "IPY_MODEL_fa88becfa81c426aaef4d213a8934c70"
            ],
            "layout": "IPY_MODEL_e52242c71523404bbba94c882f03f38e"
          }
        },
        "136c81e4f9ac47dd9977393eb2bd3f48": {
          "model_module": "@jupyter-widgets/controls",
          "model_name": "HTMLModel",
          "model_module_version": "1.5.0",
          "state": {
            "_dom_classes": [],
            "_model_module": "@jupyter-widgets/controls",
            "_model_module_version": "1.5.0",
            "_model_name": "HTMLModel",
            "_view_count": null,
            "_view_module": "@jupyter-widgets/controls",
            "_view_module_version": "1.5.0",
            "_view_name": "HTMLView",
            "description": "",
            "description_tooltip": null,
            "layout": "IPY_MODEL_ff1b1bed15ca4f19bdbe515c90315b0f",
            "placeholder": "​",
            "style": "IPY_MODEL_93545824c8d344e1ab999608079211b1",
            "value": "Downloading shards: 100%"
          }
        },
        "02db4ca1d06240e3a8464de7583e50d0": {
          "model_module": "@jupyter-widgets/controls",
          "model_name": "FloatProgressModel",
          "model_module_version": "1.5.0",
          "state": {
            "_dom_classes": [],
            "_model_module": "@jupyter-widgets/controls",
            "_model_module_version": "1.5.0",
            "_model_name": "FloatProgressModel",
            "_view_count": null,
            "_view_module": "@jupyter-widgets/controls",
            "_view_module_version": "1.5.0",
            "_view_name": "ProgressView",
            "bar_style": "success",
            "description": "",
            "description_tooltip": null,
            "layout": "IPY_MODEL_7d431770b8e742d097eacabaaf021612",
            "max": 3,
            "min": 0,
            "orientation": "horizontal",
            "style": "IPY_MODEL_74c1ad5ae6a646eab554f9df2e831f5d",
            "value": 3
          }
        },
        "fa88becfa81c426aaef4d213a8934c70": {
          "model_module": "@jupyter-widgets/controls",
          "model_name": "HTMLModel",
          "model_module_version": "1.5.0",
          "state": {
            "_dom_classes": [],
            "_model_module": "@jupyter-widgets/controls",
            "_model_module_version": "1.5.0",
            "_model_name": "HTMLModel",
            "_view_count": null,
            "_view_module": "@jupyter-widgets/controls",
            "_view_module_version": "1.5.0",
            "_view_name": "HTMLView",
            "description": "",
            "description_tooltip": null,
            "layout": "IPY_MODEL_f857c50ac5c844cc89cbecf7d34d3a30",
            "placeholder": "​",
            "style": "IPY_MODEL_38ef02aef23f465082823c1c3a55892d",
            "value": " 3/3 [05:46&lt;00:00, 114.21s/it]"
          }
        },
        "e52242c71523404bbba94c882f03f38e": {
          "model_module": "@jupyter-widgets/base",
          "model_name": "LayoutModel",
          "model_module_version": "1.2.0",
          "state": {
            "_model_module": "@jupyter-widgets/base",
            "_model_module_version": "1.2.0",
            "_model_name": "LayoutModel",
            "_view_count": null,
            "_view_module": "@jupyter-widgets/base",
            "_view_module_version": "1.2.0",
            "_view_name": "LayoutView",
            "align_content": null,
            "align_items": null,
            "align_self": null,
            "border": null,
            "bottom": null,
            "display": null,
            "flex": null,
            "flex_flow": null,
            "grid_area": null,
            "grid_auto_columns": null,
            "grid_auto_flow": null,
            "grid_auto_rows": null,
            "grid_column": null,
            "grid_gap": null,
            "grid_row": null,
            "grid_template_areas": null,
            "grid_template_columns": null,
            "grid_template_rows": null,
            "height": null,
            "justify_content": null,
            "justify_items": null,
            "left": null,
            "margin": null,
            "max_height": null,
            "max_width": null,
            "min_height": null,
            "min_width": null,
            "object_fit": null,
            "object_position": null,
            "order": null,
            "overflow": null,
            "overflow_x": null,
            "overflow_y": null,
            "padding": null,
            "right": null,
            "top": null,
            "visibility": null,
            "width": null
          }
        },
        "ff1b1bed15ca4f19bdbe515c90315b0f": {
          "model_module": "@jupyter-widgets/base",
          "model_name": "LayoutModel",
          "model_module_version": "1.2.0",
          "state": {
            "_model_module": "@jupyter-widgets/base",
            "_model_module_version": "1.2.0",
            "_model_name": "LayoutModel",
            "_view_count": null,
            "_view_module": "@jupyter-widgets/base",
            "_view_module_version": "1.2.0",
            "_view_name": "LayoutView",
            "align_content": null,
            "align_items": null,
            "align_self": null,
            "border": null,
            "bottom": null,
            "display": null,
            "flex": null,
            "flex_flow": null,
            "grid_area": null,
            "grid_auto_columns": null,
            "grid_auto_flow": null,
            "grid_auto_rows": null,
            "grid_column": null,
            "grid_gap": null,
            "grid_row": null,
            "grid_template_areas": null,
            "grid_template_columns": null,
            "grid_template_rows": null,
            "height": null,
            "justify_content": null,
            "justify_items": null,
            "left": null,
            "margin": null,
            "max_height": null,
            "max_width": null,
            "min_height": null,
            "min_width": null,
            "object_fit": null,
            "object_position": null,
            "order": null,
            "overflow": null,
            "overflow_x": null,
            "overflow_y": null,
            "padding": null,
            "right": null,
            "top": null,
            "visibility": null,
            "width": null
          }
        },
        "93545824c8d344e1ab999608079211b1": {
          "model_module": "@jupyter-widgets/controls",
          "model_name": "DescriptionStyleModel",
          "model_module_version": "1.5.0",
          "state": {
            "_model_module": "@jupyter-widgets/controls",
            "_model_module_version": "1.5.0",
            "_model_name": "DescriptionStyleModel",
            "_view_count": null,
            "_view_module": "@jupyter-widgets/base",
            "_view_module_version": "1.2.0",
            "_view_name": "StyleView",
            "description_width": ""
          }
        },
        "7d431770b8e742d097eacabaaf021612": {
          "model_module": "@jupyter-widgets/base",
          "model_name": "LayoutModel",
          "model_module_version": "1.2.0",
          "state": {
            "_model_module": "@jupyter-widgets/base",
            "_model_module_version": "1.2.0",
            "_model_name": "LayoutModel",
            "_view_count": null,
            "_view_module": "@jupyter-widgets/base",
            "_view_module_version": "1.2.0",
            "_view_name": "LayoutView",
            "align_content": null,
            "align_items": null,
            "align_self": null,
            "border": null,
            "bottom": null,
            "display": null,
            "flex": null,
            "flex_flow": null,
            "grid_area": null,
            "grid_auto_columns": null,
            "grid_auto_flow": null,
            "grid_auto_rows": null,
            "grid_column": null,
            "grid_gap": null,
            "grid_row": null,
            "grid_template_areas": null,
            "grid_template_columns": null,
            "grid_template_rows": null,
            "height": null,
            "justify_content": null,
            "justify_items": null,
            "left": null,
            "margin": null,
            "max_height": null,
            "max_width": null,
            "min_height": null,
            "min_width": null,
            "object_fit": null,
            "object_position": null,
            "order": null,
            "overflow": null,
            "overflow_x": null,
            "overflow_y": null,
            "padding": null,
            "right": null,
            "top": null,
            "visibility": null,
            "width": null
          }
        },
        "74c1ad5ae6a646eab554f9df2e831f5d": {
          "model_module": "@jupyter-widgets/controls",
          "model_name": "ProgressStyleModel",
          "model_module_version": "1.5.0",
          "state": {
            "_model_module": "@jupyter-widgets/controls",
            "_model_module_version": "1.5.0",
            "_model_name": "ProgressStyleModel",
            "_view_count": null,
            "_view_module": "@jupyter-widgets/base",
            "_view_module_version": "1.2.0",
            "_view_name": "StyleView",
            "bar_color": null,
            "description_width": ""
          }
        },
        "f857c50ac5c844cc89cbecf7d34d3a30": {
          "model_module": "@jupyter-widgets/base",
          "model_name": "LayoutModel",
          "model_module_version": "1.2.0",
          "state": {
            "_model_module": "@jupyter-widgets/base",
            "_model_module_version": "1.2.0",
            "_model_name": "LayoutModel",
            "_view_count": null,
            "_view_module": "@jupyter-widgets/base",
            "_view_module_version": "1.2.0",
            "_view_name": "LayoutView",
            "align_content": null,
            "align_items": null,
            "align_self": null,
            "border": null,
            "bottom": null,
            "display": null,
            "flex": null,
            "flex_flow": null,
            "grid_area": null,
            "grid_auto_columns": null,
            "grid_auto_flow": null,
            "grid_auto_rows": null,
            "grid_column": null,
            "grid_gap": null,
            "grid_row": null,
            "grid_template_areas": null,
            "grid_template_columns": null,
            "grid_template_rows": null,
            "height": null,
            "justify_content": null,
            "justify_items": null,
            "left": null,
            "margin": null,
            "max_height": null,
            "max_width": null,
            "min_height": null,
            "min_width": null,
            "object_fit": null,
            "object_position": null,
            "order": null,
            "overflow": null,
            "overflow_x": null,
            "overflow_y": null,
            "padding": null,
            "right": null,
            "top": null,
            "visibility": null,
            "width": null
          }
        },
        "38ef02aef23f465082823c1c3a55892d": {
          "model_module": "@jupyter-widgets/controls",
          "model_name": "DescriptionStyleModel",
          "model_module_version": "1.5.0",
          "state": {
            "_model_module": "@jupyter-widgets/controls",
            "_model_module_version": "1.5.0",
            "_model_name": "DescriptionStyleModel",
            "_view_count": null,
            "_view_module": "@jupyter-widgets/base",
            "_view_module_version": "1.2.0",
            "_view_name": "StyleView",
            "description_width": ""
          }
        },
        "1c2202f66d9f43718eb6f06fad444ed4": {
          "model_module": "@jupyter-widgets/controls",
          "model_name": "HBoxModel",
          "model_module_version": "1.5.0",
          "state": {
            "_dom_classes": [],
            "_model_module": "@jupyter-widgets/controls",
            "_model_module_version": "1.5.0",
            "_model_name": "HBoxModel",
            "_view_count": null,
            "_view_module": "@jupyter-widgets/controls",
            "_view_module_version": "1.5.0",
            "_view_name": "HBoxView",
            "box_style": "",
            "children": [
              "IPY_MODEL_793a7c6c811f437083fa8966506c59d6",
              "IPY_MODEL_a88fa8d92a7e4985a16056568751c96f",
              "IPY_MODEL_c17106b93e6d405bb59ab7501ca278cf"
            ],
            "layout": "IPY_MODEL_33ddabd699d24a5e8f1280da3b6c9ae0"
          }
        },
        "793a7c6c811f437083fa8966506c59d6": {
          "model_module": "@jupyter-widgets/controls",
          "model_name": "HTMLModel",
          "model_module_version": "1.5.0",
          "state": {
            "_dom_classes": [],
            "_model_module": "@jupyter-widgets/controls",
            "_model_module_version": "1.5.0",
            "_model_name": "HTMLModel",
            "_view_count": null,
            "_view_module": "@jupyter-widgets/controls",
            "_view_module_version": "1.5.0",
            "_view_name": "HTMLView",
            "description": "",
            "description_tooltip": null,
            "layout": "IPY_MODEL_5f0d7e2219394a65acd584d2da7be07c",
            "placeholder": "​",
            "style": "IPY_MODEL_40eaf3df6eeb4c27a00d05aa0b0cb8e9",
            "value": "model-00001-of-00003.safetensors: 100%"
          }
        },
        "a88fa8d92a7e4985a16056568751c96f": {
          "model_module": "@jupyter-widgets/controls",
          "model_name": "FloatProgressModel",
          "model_module_version": "1.5.0",
          "state": {
            "_dom_classes": [],
            "_model_module": "@jupyter-widgets/controls",
            "_model_module_version": "1.5.0",
            "_model_name": "FloatProgressModel",
            "_view_count": null,
            "_view_module": "@jupyter-widgets/controls",
            "_view_module_version": "1.5.0",
            "_view_name": "ProgressView",
            "bar_style": "success",
            "description": "",
            "description_tooltip": null,
            "layout": "IPY_MODEL_4af40d2cb18342378b31634d7b4f6c44",
            "max": 4949453792,
            "min": 0,
            "orientation": "horizontal",
            "style": "IPY_MODEL_d239d39e287e4e029456c429d4e4830b",
            "value": 4949453792
          }
        },
        "c17106b93e6d405bb59ab7501ca278cf": {
          "model_module": "@jupyter-widgets/controls",
          "model_name": "HTMLModel",
          "model_module_version": "1.5.0",
          "state": {
            "_dom_classes": [],
            "_model_module": "@jupyter-widgets/controls",
            "_model_module_version": "1.5.0",
            "_model_name": "HTMLModel",
            "_view_count": null,
            "_view_module": "@jupyter-widgets/controls",
            "_view_module_version": "1.5.0",
            "_view_name": "HTMLView",
            "description": "",
            "description_tooltip": null,
            "layout": "IPY_MODEL_c54ed8a8467642fc88b4761f17827eca",
            "placeholder": "​",
            "style": "IPY_MODEL_631af03304b7489d914cbf92179e3589",
            "value": " 4.95G/4.95G [01:57&lt;00:00, 41.2MB/s]"
          }
        },
        "33ddabd699d24a5e8f1280da3b6c9ae0": {
          "model_module": "@jupyter-widgets/base",
          "model_name": "LayoutModel",
          "model_module_version": "1.2.0",
          "state": {
            "_model_module": "@jupyter-widgets/base",
            "_model_module_version": "1.2.0",
            "_model_name": "LayoutModel",
            "_view_count": null,
            "_view_module": "@jupyter-widgets/base",
            "_view_module_version": "1.2.0",
            "_view_name": "LayoutView",
            "align_content": null,
            "align_items": null,
            "align_self": null,
            "border": null,
            "bottom": null,
            "display": null,
            "flex": null,
            "flex_flow": null,
            "grid_area": null,
            "grid_auto_columns": null,
            "grid_auto_flow": null,
            "grid_auto_rows": null,
            "grid_column": null,
            "grid_gap": null,
            "grid_row": null,
            "grid_template_areas": null,
            "grid_template_columns": null,
            "grid_template_rows": null,
            "height": null,
            "justify_content": null,
            "justify_items": null,
            "left": null,
            "margin": null,
            "max_height": null,
            "max_width": null,
            "min_height": null,
            "min_width": null,
            "object_fit": null,
            "object_position": null,
            "order": null,
            "overflow": null,
            "overflow_x": null,
            "overflow_y": null,
            "padding": null,
            "right": null,
            "top": null,
            "visibility": null,
            "width": null
          }
        },
        "5f0d7e2219394a65acd584d2da7be07c": {
          "model_module": "@jupyter-widgets/base",
          "model_name": "LayoutModel",
          "model_module_version": "1.2.0",
          "state": {
            "_model_module": "@jupyter-widgets/base",
            "_model_module_version": "1.2.0",
            "_model_name": "LayoutModel",
            "_view_count": null,
            "_view_module": "@jupyter-widgets/base",
            "_view_module_version": "1.2.0",
            "_view_name": "LayoutView",
            "align_content": null,
            "align_items": null,
            "align_self": null,
            "border": null,
            "bottom": null,
            "display": null,
            "flex": null,
            "flex_flow": null,
            "grid_area": null,
            "grid_auto_columns": null,
            "grid_auto_flow": null,
            "grid_auto_rows": null,
            "grid_column": null,
            "grid_gap": null,
            "grid_row": null,
            "grid_template_areas": null,
            "grid_template_columns": null,
            "grid_template_rows": null,
            "height": null,
            "justify_content": null,
            "justify_items": null,
            "left": null,
            "margin": null,
            "max_height": null,
            "max_width": null,
            "min_height": null,
            "min_width": null,
            "object_fit": null,
            "object_position": null,
            "order": null,
            "overflow": null,
            "overflow_x": null,
            "overflow_y": null,
            "padding": null,
            "right": null,
            "top": null,
            "visibility": null,
            "width": null
          }
        },
        "40eaf3df6eeb4c27a00d05aa0b0cb8e9": {
          "model_module": "@jupyter-widgets/controls",
          "model_name": "DescriptionStyleModel",
          "model_module_version": "1.5.0",
          "state": {
            "_model_module": "@jupyter-widgets/controls",
            "_model_module_version": "1.5.0",
            "_model_name": "DescriptionStyleModel",
            "_view_count": null,
            "_view_module": "@jupyter-widgets/base",
            "_view_module_version": "1.2.0",
            "_view_name": "StyleView",
            "description_width": ""
          }
        },
        "4af40d2cb18342378b31634d7b4f6c44": {
          "model_module": "@jupyter-widgets/base",
          "model_name": "LayoutModel",
          "model_module_version": "1.2.0",
          "state": {
            "_model_module": "@jupyter-widgets/base",
            "_model_module_version": "1.2.0",
            "_model_name": "LayoutModel",
            "_view_count": null,
            "_view_module": "@jupyter-widgets/base",
            "_view_module_version": "1.2.0",
            "_view_name": "LayoutView",
            "align_content": null,
            "align_items": null,
            "align_self": null,
            "border": null,
            "bottom": null,
            "display": null,
            "flex": null,
            "flex_flow": null,
            "grid_area": null,
            "grid_auto_columns": null,
            "grid_auto_flow": null,
            "grid_auto_rows": null,
            "grid_column": null,
            "grid_gap": null,
            "grid_row": null,
            "grid_template_areas": null,
            "grid_template_columns": null,
            "grid_template_rows": null,
            "height": null,
            "justify_content": null,
            "justify_items": null,
            "left": null,
            "margin": null,
            "max_height": null,
            "max_width": null,
            "min_height": null,
            "min_width": null,
            "object_fit": null,
            "object_position": null,
            "order": null,
            "overflow": null,
            "overflow_x": null,
            "overflow_y": null,
            "padding": null,
            "right": null,
            "top": null,
            "visibility": null,
            "width": null
          }
        },
        "d239d39e287e4e029456c429d4e4830b": {
          "model_module": "@jupyter-widgets/controls",
          "model_name": "ProgressStyleModel",
          "model_module_version": "1.5.0",
          "state": {
            "_model_module": "@jupyter-widgets/controls",
            "_model_module_version": "1.5.0",
            "_model_name": "ProgressStyleModel",
            "_view_count": null,
            "_view_module": "@jupyter-widgets/base",
            "_view_module_version": "1.2.0",
            "_view_name": "StyleView",
            "bar_color": null,
            "description_width": ""
          }
        },
        "c54ed8a8467642fc88b4761f17827eca": {
          "model_module": "@jupyter-widgets/base",
          "model_name": "LayoutModel",
          "model_module_version": "1.2.0",
          "state": {
            "_model_module": "@jupyter-widgets/base",
            "_model_module_version": "1.2.0",
            "_model_name": "LayoutModel",
            "_view_count": null,
            "_view_module": "@jupyter-widgets/base",
            "_view_module_version": "1.2.0",
            "_view_name": "LayoutView",
            "align_content": null,
            "align_items": null,
            "align_self": null,
            "border": null,
            "bottom": null,
            "display": null,
            "flex": null,
            "flex_flow": null,
            "grid_area": null,
            "grid_auto_columns": null,
            "grid_auto_flow": null,
            "grid_auto_rows": null,
            "grid_column": null,
            "grid_gap": null,
            "grid_row": null,
            "grid_template_areas": null,
            "grid_template_columns": null,
            "grid_template_rows": null,
            "height": null,
            "justify_content": null,
            "justify_items": null,
            "left": null,
            "margin": null,
            "max_height": null,
            "max_width": null,
            "min_height": null,
            "min_width": null,
            "object_fit": null,
            "object_position": null,
            "order": null,
            "overflow": null,
            "overflow_x": null,
            "overflow_y": null,
            "padding": null,
            "right": null,
            "top": null,
            "visibility": null,
            "width": null
          }
        },
        "631af03304b7489d914cbf92179e3589": {
          "model_module": "@jupyter-widgets/controls",
          "model_name": "DescriptionStyleModel",
          "model_module_version": "1.5.0",
          "state": {
            "_model_module": "@jupyter-widgets/controls",
            "_model_module_version": "1.5.0",
            "_model_name": "DescriptionStyleModel",
            "_view_count": null,
            "_view_module": "@jupyter-widgets/base",
            "_view_module_version": "1.2.0",
            "_view_name": "StyleView",
            "description_width": ""
          }
        },
        "eed0579f667a41d3bc42e025e3611f1f": {
          "model_module": "@jupyter-widgets/controls",
          "model_name": "HBoxModel",
          "model_module_version": "1.5.0",
          "state": {
            "_dom_classes": [],
            "_model_module": "@jupyter-widgets/controls",
            "_model_module_version": "1.5.0",
            "_model_name": "HBoxModel",
            "_view_count": null,
            "_view_module": "@jupyter-widgets/controls",
            "_view_module_version": "1.5.0",
            "_view_name": "HBoxView",
            "box_style": "",
            "children": [
              "IPY_MODEL_cc8ebb87f20d41c3aa2c6586300e26a4",
              "IPY_MODEL_d18296a6e2d241b6b6add26b66b4aed2",
              "IPY_MODEL_65e2b468d6d34adfbd3e8a766ae33a93"
            ],
            "layout": "IPY_MODEL_37b9d27c191c4b3da761602e76f8357c"
          }
        },
        "cc8ebb87f20d41c3aa2c6586300e26a4": {
          "model_module": "@jupyter-widgets/controls",
          "model_name": "HTMLModel",
          "model_module_version": "1.5.0",
          "state": {
            "_dom_classes": [],
            "_model_module": "@jupyter-widgets/controls",
            "_model_module_version": "1.5.0",
            "_model_name": "HTMLModel",
            "_view_count": null,
            "_view_module": "@jupyter-widgets/controls",
            "_view_module_version": "1.5.0",
            "_view_name": "HTMLView",
            "description": "",
            "description_tooltip": null,
            "layout": "IPY_MODEL_c38dbfc357204d7fb9d39b20d0a7f31b",
            "placeholder": "​",
            "style": "IPY_MODEL_ddf4597c344c496ea14b590c975fd5e5",
            "value": "model-00002-of-00003.safetensors: 100%"
          }
        },
        "d18296a6e2d241b6b6add26b66b4aed2": {
          "model_module": "@jupyter-widgets/controls",
          "model_name": "FloatProgressModel",
          "model_module_version": "1.5.0",
          "state": {
            "_dom_classes": [],
            "_model_module": "@jupyter-widgets/controls",
            "_model_module_version": "1.5.0",
            "_model_name": "FloatProgressModel",
            "_view_count": null,
            "_view_module": "@jupyter-widgets/controls",
            "_view_module_version": "1.5.0",
            "_view_name": "ProgressView",
            "bar_style": "success",
            "description": "",
            "description_tooltip": null,
            "layout": "IPY_MODEL_645cdf9d6e3c42efa529f422b9104e1b",
            "max": 4999819336,
            "min": 0,
            "orientation": "horizontal",
            "style": "IPY_MODEL_ec612d375113460b9672dbd4ee4232a8",
            "value": 4999819336
          }
        },
        "65e2b468d6d34adfbd3e8a766ae33a93": {
          "model_module": "@jupyter-widgets/controls",
          "model_name": "HTMLModel",
          "model_module_version": "1.5.0",
          "state": {
            "_dom_classes": [],
            "_model_module": "@jupyter-widgets/controls",
            "_model_module_version": "1.5.0",
            "_model_name": "HTMLModel",
            "_view_count": null,
            "_view_module": "@jupyter-widgets/controls",
            "_view_module_version": "1.5.0",
            "_view_name": "HTMLView",
            "description": "",
            "description_tooltip": null,
            "layout": "IPY_MODEL_ba3723bd7a61465082c5e855307fe864",
            "placeholder": "​",
            "style": "IPY_MODEL_2d00ddd632274ce287a9f496f8240a85",
            "value": " 5.00G/5.00G [01:58&lt;00:00, 42.2MB/s]"
          }
        },
        "37b9d27c191c4b3da761602e76f8357c": {
          "model_module": "@jupyter-widgets/base",
          "model_name": "LayoutModel",
          "model_module_version": "1.2.0",
          "state": {
            "_model_module": "@jupyter-widgets/base",
            "_model_module_version": "1.2.0",
            "_model_name": "LayoutModel",
            "_view_count": null,
            "_view_module": "@jupyter-widgets/base",
            "_view_module_version": "1.2.0",
            "_view_name": "LayoutView",
            "align_content": null,
            "align_items": null,
            "align_self": null,
            "border": null,
            "bottom": null,
            "display": null,
            "flex": null,
            "flex_flow": null,
            "grid_area": null,
            "grid_auto_columns": null,
            "grid_auto_flow": null,
            "grid_auto_rows": null,
            "grid_column": null,
            "grid_gap": null,
            "grid_row": null,
            "grid_template_areas": null,
            "grid_template_columns": null,
            "grid_template_rows": null,
            "height": null,
            "justify_content": null,
            "justify_items": null,
            "left": null,
            "margin": null,
            "max_height": null,
            "max_width": null,
            "min_height": null,
            "min_width": null,
            "object_fit": null,
            "object_position": null,
            "order": null,
            "overflow": null,
            "overflow_x": null,
            "overflow_y": null,
            "padding": null,
            "right": null,
            "top": null,
            "visibility": null,
            "width": null
          }
        },
        "c38dbfc357204d7fb9d39b20d0a7f31b": {
          "model_module": "@jupyter-widgets/base",
          "model_name": "LayoutModel",
          "model_module_version": "1.2.0",
          "state": {
            "_model_module": "@jupyter-widgets/base",
            "_model_module_version": "1.2.0",
            "_model_name": "LayoutModel",
            "_view_count": null,
            "_view_module": "@jupyter-widgets/base",
            "_view_module_version": "1.2.0",
            "_view_name": "LayoutView",
            "align_content": null,
            "align_items": null,
            "align_self": null,
            "border": null,
            "bottom": null,
            "display": null,
            "flex": null,
            "flex_flow": null,
            "grid_area": null,
            "grid_auto_columns": null,
            "grid_auto_flow": null,
            "grid_auto_rows": null,
            "grid_column": null,
            "grid_gap": null,
            "grid_row": null,
            "grid_template_areas": null,
            "grid_template_columns": null,
            "grid_template_rows": null,
            "height": null,
            "justify_content": null,
            "justify_items": null,
            "left": null,
            "margin": null,
            "max_height": null,
            "max_width": null,
            "min_height": null,
            "min_width": null,
            "object_fit": null,
            "object_position": null,
            "order": null,
            "overflow": null,
            "overflow_x": null,
            "overflow_y": null,
            "padding": null,
            "right": null,
            "top": null,
            "visibility": null,
            "width": null
          }
        },
        "ddf4597c344c496ea14b590c975fd5e5": {
          "model_module": "@jupyter-widgets/controls",
          "model_name": "DescriptionStyleModel",
          "model_module_version": "1.5.0",
          "state": {
            "_model_module": "@jupyter-widgets/controls",
            "_model_module_version": "1.5.0",
            "_model_name": "DescriptionStyleModel",
            "_view_count": null,
            "_view_module": "@jupyter-widgets/base",
            "_view_module_version": "1.2.0",
            "_view_name": "StyleView",
            "description_width": ""
          }
        },
        "645cdf9d6e3c42efa529f422b9104e1b": {
          "model_module": "@jupyter-widgets/base",
          "model_name": "LayoutModel",
          "model_module_version": "1.2.0",
          "state": {
            "_model_module": "@jupyter-widgets/base",
            "_model_module_version": "1.2.0",
            "_model_name": "LayoutModel",
            "_view_count": null,
            "_view_module": "@jupyter-widgets/base",
            "_view_module_version": "1.2.0",
            "_view_name": "LayoutView",
            "align_content": null,
            "align_items": null,
            "align_self": null,
            "border": null,
            "bottom": null,
            "display": null,
            "flex": null,
            "flex_flow": null,
            "grid_area": null,
            "grid_auto_columns": null,
            "grid_auto_flow": null,
            "grid_auto_rows": null,
            "grid_column": null,
            "grid_gap": null,
            "grid_row": null,
            "grid_template_areas": null,
            "grid_template_columns": null,
            "grid_template_rows": null,
            "height": null,
            "justify_content": null,
            "justify_items": null,
            "left": null,
            "margin": null,
            "max_height": null,
            "max_width": null,
            "min_height": null,
            "min_width": null,
            "object_fit": null,
            "object_position": null,
            "order": null,
            "overflow": null,
            "overflow_x": null,
            "overflow_y": null,
            "padding": null,
            "right": null,
            "top": null,
            "visibility": null,
            "width": null
          }
        },
        "ec612d375113460b9672dbd4ee4232a8": {
          "model_module": "@jupyter-widgets/controls",
          "model_name": "ProgressStyleModel",
          "model_module_version": "1.5.0",
          "state": {
            "_model_module": "@jupyter-widgets/controls",
            "_model_module_version": "1.5.0",
            "_model_name": "ProgressStyleModel",
            "_view_count": null,
            "_view_module": "@jupyter-widgets/base",
            "_view_module_version": "1.2.0",
            "_view_name": "StyleView",
            "bar_color": null,
            "description_width": ""
          }
        },
        "ba3723bd7a61465082c5e855307fe864": {
          "model_module": "@jupyter-widgets/base",
          "model_name": "LayoutModel",
          "model_module_version": "1.2.0",
          "state": {
            "_model_module": "@jupyter-widgets/base",
            "_model_module_version": "1.2.0",
            "_model_name": "LayoutModel",
            "_view_count": null,
            "_view_module": "@jupyter-widgets/base",
            "_view_module_version": "1.2.0",
            "_view_name": "LayoutView",
            "align_content": null,
            "align_items": null,
            "align_self": null,
            "border": null,
            "bottom": null,
            "display": null,
            "flex": null,
            "flex_flow": null,
            "grid_area": null,
            "grid_auto_columns": null,
            "grid_auto_flow": null,
            "grid_auto_rows": null,
            "grid_column": null,
            "grid_gap": null,
            "grid_row": null,
            "grid_template_areas": null,
            "grid_template_columns": null,
            "grid_template_rows": null,
            "height": null,
            "justify_content": null,
            "justify_items": null,
            "left": null,
            "margin": null,
            "max_height": null,
            "max_width": null,
            "min_height": null,
            "min_width": null,
            "object_fit": null,
            "object_position": null,
            "order": null,
            "overflow": null,
            "overflow_x": null,
            "overflow_y": null,
            "padding": null,
            "right": null,
            "top": null,
            "visibility": null,
            "width": null
          }
        },
        "2d00ddd632274ce287a9f496f8240a85": {
          "model_module": "@jupyter-widgets/controls",
          "model_name": "DescriptionStyleModel",
          "model_module_version": "1.5.0",
          "state": {
            "_model_module": "@jupyter-widgets/controls",
            "_model_module_version": "1.5.0",
            "_model_name": "DescriptionStyleModel",
            "_view_count": null,
            "_view_module": "@jupyter-widgets/base",
            "_view_module_version": "1.2.0",
            "_view_name": "StyleView",
            "description_width": ""
          }
        },
        "eb0bc66a21dd419e8128e8e5c6bd205d": {
          "model_module": "@jupyter-widgets/controls",
          "model_name": "HBoxModel",
          "model_module_version": "1.5.0",
          "state": {
            "_dom_classes": [],
            "_model_module": "@jupyter-widgets/controls",
            "_model_module_version": "1.5.0",
            "_model_name": "HBoxModel",
            "_view_count": null,
            "_view_module": "@jupyter-widgets/controls",
            "_view_module_version": "1.5.0",
            "_view_name": "HBoxView",
            "box_style": "",
            "children": [
              "IPY_MODEL_6cec09cbe65a4bac8d76a2419507d4c3",
              "IPY_MODEL_d8727efa45544e369527ad890a0fd0f2",
              "IPY_MODEL_a078a0446362449c912df1ca7d91e2a0"
            ],
            "layout": "IPY_MODEL_ab9e24119e514ba6b83b6a01774a08ae"
          }
        },
        "6cec09cbe65a4bac8d76a2419507d4c3": {
          "model_module": "@jupyter-widgets/controls",
          "model_name": "HTMLModel",
          "model_module_version": "1.5.0",
          "state": {
            "_dom_classes": [],
            "_model_module": "@jupyter-widgets/controls",
            "_model_module_version": "1.5.0",
            "_model_name": "HTMLModel",
            "_view_count": null,
            "_view_module": "@jupyter-widgets/controls",
            "_view_module_version": "1.5.0",
            "_view_name": "HTMLView",
            "description": "",
            "description_tooltip": null,
            "layout": "IPY_MODEL_f676cb45031c4a6b8763d83e161879a7",
            "placeholder": "​",
            "style": "IPY_MODEL_532e49cbb43e41d1a90aeea73dab64e4",
            "value": "model-00003-of-00003.safetensors: 100%"
          }
        },
        "d8727efa45544e369527ad890a0fd0f2": {
          "model_module": "@jupyter-widgets/controls",
          "model_name": "FloatProgressModel",
          "model_module_version": "1.5.0",
          "state": {
            "_dom_classes": [],
            "_model_module": "@jupyter-widgets/controls",
            "_model_module_version": "1.5.0",
            "_model_name": "FloatProgressModel",
            "_view_count": null,
            "_view_module": "@jupyter-widgets/controls",
            "_view_module_version": "1.5.0",
            "_view_name": "ProgressView",
            "bar_style": "success",
            "description": "",
            "description_tooltip": null,
            "layout": "IPY_MODEL_8acbc26eca184a8a8cee960c70b05ce7",
            "max": 4546807800,
            "min": 0,
            "orientation": "horizontal",
            "style": "IPY_MODEL_19549c07581f4278bf802be3babda7ea",
            "value": 4546807800
          }
        },
        "a078a0446362449c912df1ca7d91e2a0": {
          "model_module": "@jupyter-widgets/controls",
          "model_name": "HTMLModel",
          "model_module_version": "1.5.0",
          "state": {
            "_dom_classes": [],
            "_model_module": "@jupyter-widgets/controls",
            "_model_module_version": "1.5.0",
            "_model_name": "HTMLModel",
            "_view_count": null,
            "_view_module": "@jupyter-widgets/controls",
            "_view_module_version": "1.5.0",
            "_view_name": "HTMLView",
            "description": "",
            "description_tooltip": null,
            "layout": "IPY_MODEL_d2dcefc86aa94809a250702cf1d41dbc",
            "placeholder": "​",
            "style": "IPY_MODEL_014baa6da7184be38baccde7905ba1ae",
            "value": " 4.55G/4.55G [01:48&lt;00:00, 39.7MB/s]"
          }
        },
        "ab9e24119e514ba6b83b6a01774a08ae": {
          "model_module": "@jupyter-widgets/base",
          "model_name": "LayoutModel",
          "model_module_version": "1.2.0",
          "state": {
            "_model_module": "@jupyter-widgets/base",
            "_model_module_version": "1.2.0",
            "_model_name": "LayoutModel",
            "_view_count": null,
            "_view_module": "@jupyter-widgets/base",
            "_view_module_version": "1.2.0",
            "_view_name": "LayoutView",
            "align_content": null,
            "align_items": null,
            "align_self": null,
            "border": null,
            "bottom": null,
            "display": null,
            "flex": null,
            "flex_flow": null,
            "grid_area": null,
            "grid_auto_columns": null,
            "grid_auto_flow": null,
            "grid_auto_rows": null,
            "grid_column": null,
            "grid_gap": null,
            "grid_row": null,
            "grid_template_areas": null,
            "grid_template_columns": null,
            "grid_template_rows": null,
            "height": null,
            "justify_content": null,
            "justify_items": null,
            "left": null,
            "margin": null,
            "max_height": null,
            "max_width": null,
            "min_height": null,
            "min_width": null,
            "object_fit": null,
            "object_position": null,
            "order": null,
            "overflow": null,
            "overflow_x": null,
            "overflow_y": null,
            "padding": null,
            "right": null,
            "top": null,
            "visibility": null,
            "width": null
          }
        },
        "f676cb45031c4a6b8763d83e161879a7": {
          "model_module": "@jupyter-widgets/base",
          "model_name": "LayoutModel",
          "model_module_version": "1.2.0",
          "state": {
            "_model_module": "@jupyter-widgets/base",
            "_model_module_version": "1.2.0",
            "_model_name": "LayoutModel",
            "_view_count": null,
            "_view_module": "@jupyter-widgets/base",
            "_view_module_version": "1.2.0",
            "_view_name": "LayoutView",
            "align_content": null,
            "align_items": null,
            "align_self": null,
            "border": null,
            "bottom": null,
            "display": null,
            "flex": null,
            "flex_flow": null,
            "grid_area": null,
            "grid_auto_columns": null,
            "grid_auto_flow": null,
            "grid_auto_rows": null,
            "grid_column": null,
            "grid_gap": null,
            "grid_row": null,
            "grid_template_areas": null,
            "grid_template_columns": null,
            "grid_template_rows": null,
            "height": null,
            "justify_content": null,
            "justify_items": null,
            "left": null,
            "margin": null,
            "max_height": null,
            "max_width": null,
            "min_height": null,
            "min_width": null,
            "object_fit": null,
            "object_position": null,
            "order": null,
            "overflow": null,
            "overflow_x": null,
            "overflow_y": null,
            "padding": null,
            "right": null,
            "top": null,
            "visibility": null,
            "width": null
          }
        },
        "532e49cbb43e41d1a90aeea73dab64e4": {
          "model_module": "@jupyter-widgets/controls",
          "model_name": "DescriptionStyleModel",
          "model_module_version": "1.5.0",
          "state": {
            "_model_module": "@jupyter-widgets/controls",
            "_model_module_version": "1.5.0",
            "_model_name": "DescriptionStyleModel",
            "_view_count": null,
            "_view_module": "@jupyter-widgets/base",
            "_view_module_version": "1.2.0",
            "_view_name": "StyleView",
            "description_width": ""
          }
        },
        "8acbc26eca184a8a8cee960c70b05ce7": {
          "model_module": "@jupyter-widgets/base",
          "model_name": "LayoutModel",
          "model_module_version": "1.2.0",
          "state": {
            "_model_module": "@jupyter-widgets/base",
            "_model_module_version": "1.2.0",
            "_model_name": "LayoutModel",
            "_view_count": null,
            "_view_module": "@jupyter-widgets/base",
            "_view_module_version": "1.2.0",
            "_view_name": "LayoutView",
            "align_content": null,
            "align_items": null,
            "align_self": null,
            "border": null,
            "bottom": null,
            "display": null,
            "flex": null,
            "flex_flow": null,
            "grid_area": null,
            "grid_auto_columns": null,
            "grid_auto_flow": null,
            "grid_auto_rows": null,
            "grid_column": null,
            "grid_gap": null,
            "grid_row": null,
            "grid_template_areas": null,
            "grid_template_columns": null,
            "grid_template_rows": null,
            "height": null,
            "justify_content": null,
            "justify_items": null,
            "left": null,
            "margin": null,
            "max_height": null,
            "max_width": null,
            "min_height": null,
            "min_width": null,
            "object_fit": null,
            "object_position": null,
            "order": null,
            "overflow": null,
            "overflow_x": null,
            "overflow_y": null,
            "padding": null,
            "right": null,
            "top": null,
            "visibility": null,
            "width": null
          }
        },
        "19549c07581f4278bf802be3babda7ea": {
          "model_module": "@jupyter-widgets/controls",
          "model_name": "ProgressStyleModel",
          "model_module_version": "1.5.0",
          "state": {
            "_model_module": "@jupyter-widgets/controls",
            "_model_module_version": "1.5.0",
            "_model_name": "ProgressStyleModel",
            "_view_count": null,
            "_view_module": "@jupyter-widgets/base",
            "_view_module_version": "1.2.0",
            "_view_name": "StyleView",
            "bar_color": null,
            "description_width": ""
          }
        },
        "d2dcefc86aa94809a250702cf1d41dbc": {
          "model_module": "@jupyter-widgets/base",
          "model_name": "LayoutModel",
          "model_module_version": "1.2.0",
          "state": {
            "_model_module": "@jupyter-widgets/base",
            "_model_module_version": "1.2.0",
            "_model_name": "LayoutModel",
            "_view_count": null,
            "_view_module": "@jupyter-widgets/base",
            "_view_module_version": "1.2.0",
            "_view_name": "LayoutView",
            "align_content": null,
            "align_items": null,
            "align_self": null,
            "border": null,
            "bottom": null,
            "display": null,
            "flex": null,
            "flex_flow": null,
            "grid_area": null,
            "grid_auto_columns": null,
            "grid_auto_flow": null,
            "grid_auto_rows": null,
            "grid_column": null,
            "grid_gap": null,
            "grid_row": null,
            "grid_template_areas": null,
            "grid_template_columns": null,
            "grid_template_rows": null,
            "height": null,
            "justify_content": null,
            "justify_items": null,
            "left": null,
            "margin": null,
            "max_height": null,
            "max_width": null,
            "min_height": null,
            "min_width": null,
            "object_fit": null,
            "object_position": null,
            "order": null,
            "overflow": null,
            "overflow_x": null,
            "overflow_y": null,
            "padding": null,
            "right": null,
            "top": null,
            "visibility": null,
            "width": null
          }
        },
        "014baa6da7184be38baccde7905ba1ae": {
          "model_module": "@jupyter-widgets/controls",
          "model_name": "DescriptionStyleModel",
          "model_module_version": "1.5.0",
          "state": {
            "_model_module": "@jupyter-widgets/controls",
            "_model_module_version": "1.5.0",
            "_model_name": "DescriptionStyleModel",
            "_view_count": null,
            "_view_module": "@jupyter-widgets/base",
            "_view_module_version": "1.2.0",
            "_view_name": "StyleView",
            "description_width": ""
          }
        },
        "6fb1bfea101648abad6443367659b5c9": {
          "model_module": "@jupyter-widgets/controls",
          "model_name": "HBoxModel",
          "model_module_version": "1.5.0",
          "state": {
            "_dom_classes": [],
            "_model_module": "@jupyter-widgets/controls",
            "_model_module_version": "1.5.0",
            "_model_name": "HBoxModel",
            "_view_count": null,
            "_view_module": "@jupyter-widgets/controls",
            "_view_module_version": "1.5.0",
            "_view_name": "HBoxView",
            "box_style": "",
            "children": [
              "IPY_MODEL_fee44c9704f14a45a3c54b1b9f81c0d5",
              "IPY_MODEL_d0e9118f6a294629901d1f75fbc9379b",
              "IPY_MODEL_ad141eda52a94c5198d520de981a1882"
            ],
            "layout": "IPY_MODEL_41885048145548d5898ff07bc70a0c64"
          }
        },
        "fee44c9704f14a45a3c54b1b9f81c0d5": {
          "model_module": "@jupyter-widgets/controls",
          "model_name": "HTMLModel",
          "model_module_version": "1.5.0",
          "state": {
            "_dom_classes": [],
            "_model_module": "@jupyter-widgets/controls",
            "_model_module_version": "1.5.0",
            "_model_name": "HTMLModel",
            "_view_count": null,
            "_view_module": "@jupyter-widgets/controls",
            "_view_module_version": "1.5.0",
            "_view_name": "HTMLView",
            "description": "",
            "description_tooltip": null,
            "layout": "IPY_MODEL_f408f27d951c4135a8e89f5e4108174f",
            "placeholder": "​",
            "style": "IPY_MODEL_9e6c1b6464624743b97745a9f3384a38",
            "value": "Loading checkpoint shards: 100%"
          }
        },
        "d0e9118f6a294629901d1f75fbc9379b": {
          "model_module": "@jupyter-widgets/controls",
          "model_name": "FloatProgressModel",
          "model_module_version": "1.5.0",
          "state": {
            "_dom_classes": [],
            "_model_module": "@jupyter-widgets/controls",
            "_model_module_version": "1.5.0",
            "_model_name": "FloatProgressModel",
            "_view_count": null,
            "_view_module": "@jupyter-widgets/controls",
            "_view_module_version": "1.5.0",
            "_view_name": "ProgressView",
            "bar_style": "success",
            "description": "",
            "description_tooltip": null,
            "layout": "IPY_MODEL_f6e458302d9e43cdb49f6902669b3378",
            "max": 3,
            "min": 0,
            "orientation": "horizontal",
            "style": "IPY_MODEL_1da98c60074e47be8bf1878202f318d6",
            "value": 3
          }
        },
        "ad141eda52a94c5198d520de981a1882": {
          "model_module": "@jupyter-widgets/controls",
          "model_name": "HTMLModel",
          "model_module_version": "1.5.0",
          "state": {
            "_dom_classes": [],
            "_model_module": "@jupyter-widgets/controls",
            "_model_module_version": "1.5.0",
            "_model_name": "HTMLModel",
            "_view_count": null,
            "_view_module": "@jupyter-widgets/controls",
            "_view_module_version": "1.5.0",
            "_view_name": "HTMLView",
            "description": "",
            "description_tooltip": null,
            "layout": "IPY_MODEL_8f8611ce898b4440a7f5685c9a2110d0",
            "placeholder": "​",
            "style": "IPY_MODEL_ebabcafabaea4a7c9e78abf250ea888f",
            "value": " 3/3 [01:05&lt;00:00, 21.47s/it]"
          }
        },
        "41885048145548d5898ff07bc70a0c64": {
          "model_module": "@jupyter-widgets/base",
          "model_name": "LayoutModel",
          "model_module_version": "1.2.0",
          "state": {
            "_model_module": "@jupyter-widgets/base",
            "_model_module_version": "1.2.0",
            "_model_name": "LayoutModel",
            "_view_count": null,
            "_view_module": "@jupyter-widgets/base",
            "_view_module_version": "1.2.0",
            "_view_name": "LayoutView",
            "align_content": null,
            "align_items": null,
            "align_self": null,
            "border": null,
            "bottom": null,
            "display": null,
            "flex": null,
            "flex_flow": null,
            "grid_area": null,
            "grid_auto_columns": null,
            "grid_auto_flow": null,
            "grid_auto_rows": null,
            "grid_column": null,
            "grid_gap": null,
            "grid_row": null,
            "grid_template_areas": null,
            "grid_template_columns": null,
            "grid_template_rows": null,
            "height": null,
            "justify_content": null,
            "justify_items": null,
            "left": null,
            "margin": null,
            "max_height": null,
            "max_width": null,
            "min_height": null,
            "min_width": null,
            "object_fit": null,
            "object_position": null,
            "order": null,
            "overflow": null,
            "overflow_x": null,
            "overflow_y": null,
            "padding": null,
            "right": null,
            "top": null,
            "visibility": null,
            "width": null
          }
        },
        "f408f27d951c4135a8e89f5e4108174f": {
          "model_module": "@jupyter-widgets/base",
          "model_name": "LayoutModel",
          "model_module_version": "1.2.0",
          "state": {
            "_model_module": "@jupyter-widgets/base",
            "_model_module_version": "1.2.0",
            "_model_name": "LayoutModel",
            "_view_count": null,
            "_view_module": "@jupyter-widgets/base",
            "_view_module_version": "1.2.0",
            "_view_name": "LayoutView",
            "align_content": null,
            "align_items": null,
            "align_self": null,
            "border": null,
            "bottom": null,
            "display": null,
            "flex": null,
            "flex_flow": null,
            "grid_area": null,
            "grid_auto_columns": null,
            "grid_auto_flow": null,
            "grid_auto_rows": null,
            "grid_column": null,
            "grid_gap": null,
            "grid_row": null,
            "grid_template_areas": null,
            "grid_template_columns": null,
            "grid_template_rows": null,
            "height": null,
            "justify_content": null,
            "justify_items": null,
            "left": null,
            "margin": null,
            "max_height": null,
            "max_width": null,
            "min_height": null,
            "min_width": null,
            "object_fit": null,
            "object_position": null,
            "order": null,
            "overflow": null,
            "overflow_x": null,
            "overflow_y": null,
            "padding": null,
            "right": null,
            "top": null,
            "visibility": null,
            "width": null
          }
        },
        "9e6c1b6464624743b97745a9f3384a38": {
          "model_module": "@jupyter-widgets/controls",
          "model_name": "DescriptionStyleModel",
          "model_module_version": "1.5.0",
          "state": {
            "_model_module": "@jupyter-widgets/controls",
            "_model_module_version": "1.5.0",
            "_model_name": "DescriptionStyleModel",
            "_view_count": null,
            "_view_module": "@jupyter-widgets/base",
            "_view_module_version": "1.2.0",
            "_view_name": "StyleView",
            "description_width": ""
          }
        },
        "f6e458302d9e43cdb49f6902669b3378": {
          "model_module": "@jupyter-widgets/base",
          "model_name": "LayoutModel",
          "model_module_version": "1.2.0",
          "state": {
            "_model_module": "@jupyter-widgets/base",
            "_model_module_version": "1.2.0",
            "_model_name": "LayoutModel",
            "_view_count": null,
            "_view_module": "@jupyter-widgets/base",
            "_view_module_version": "1.2.0",
            "_view_name": "LayoutView",
            "align_content": null,
            "align_items": null,
            "align_self": null,
            "border": null,
            "bottom": null,
            "display": null,
            "flex": null,
            "flex_flow": null,
            "grid_area": null,
            "grid_auto_columns": null,
            "grid_auto_flow": null,
            "grid_auto_rows": null,
            "grid_column": null,
            "grid_gap": null,
            "grid_row": null,
            "grid_template_areas": null,
            "grid_template_columns": null,
            "grid_template_rows": null,
            "height": null,
            "justify_content": null,
            "justify_items": null,
            "left": null,
            "margin": null,
            "max_height": null,
            "max_width": null,
            "min_height": null,
            "min_width": null,
            "object_fit": null,
            "object_position": null,
            "order": null,
            "overflow": null,
            "overflow_x": null,
            "overflow_y": null,
            "padding": null,
            "right": null,
            "top": null,
            "visibility": null,
            "width": null
          }
        },
        "1da98c60074e47be8bf1878202f318d6": {
          "model_module": "@jupyter-widgets/controls",
          "model_name": "ProgressStyleModel",
          "model_module_version": "1.5.0",
          "state": {
            "_model_module": "@jupyter-widgets/controls",
            "_model_module_version": "1.5.0",
            "_model_name": "ProgressStyleModel",
            "_view_count": null,
            "_view_module": "@jupyter-widgets/base",
            "_view_module_version": "1.2.0",
            "_view_name": "StyleView",
            "bar_color": null,
            "description_width": ""
          }
        },
        "8f8611ce898b4440a7f5685c9a2110d0": {
          "model_module": "@jupyter-widgets/base",
          "model_name": "LayoutModel",
          "model_module_version": "1.2.0",
          "state": {
            "_model_module": "@jupyter-widgets/base",
            "_model_module_version": "1.2.0",
            "_model_name": "LayoutModel",
            "_view_count": null,
            "_view_module": "@jupyter-widgets/base",
            "_view_module_version": "1.2.0",
            "_view_name": "LayoutView",
            "align_content": null,
            "align_items": null,
            "align_self": null,
            "border": null,
            "bottom": null,
            "display": null,
            "flex": null,
            "flex_flow": null,
            "grid_area": null,
            "grid_auto_columns": null,
            "grid_auto_flow": null,
            "grid_auto_rows": null,
            "grid_column": null,
            "grid_gap": null,
            "grid_row": null,
            "grid_template_areas": null,
            "grid_template_columns": null,
            "grid_template_rows": null,
            "height": null,
            "justify_content": null,
            "justify_items": null,
            "left": null,
            "margin": null,
            "max_height": null,
            "max_width": null,
            "min_height": null,
            "min_width": null,
            "object_fit": null,
            "object_position": null,
            "order": null,
            "overflow": null,
            "overflow_x": null,
            "overflow_y": null,
            "padding": null,
            "right": null,
            "top": null,
            "visibility": null,
            "width": null
          }
        },
        "ebabcafabaea4a7c9e78abf250ea888f": {
          "model_module": "@jupyter-widgets/controls",
          "model_name": "DescriptionStyleModel",
          "model_module_version": "1.5.0",
          "state": {
            "_model_module": "@jupyter-widgets/controls",
            "_model_module_version": "1.5.0",
            "_model_name": "DescriptionStyleModel",
            "_view_count": null,
            "_view_module": "@jupyter-widgets/base",
            "_view_module_version": "1.2.0",
            "_view_name": "StyleView",
            "description_width": ""
          }
        },
        "95cc2f53b48143a19ee9535c429edcea": {
          "model_module": "@jupyter-widgets/controls",
          "model_name": "HBoxModel",
          "model_module_version": "1.5.0",
          "state": {
            "_dom_classes": [],
            "_model_module": "@jupyter-widgets/controls",
            "_model_module_version": "1.5.0",
            "_model_name": "HBoxModel",
            "_view_count": null,
            "_view_module": "@jupyter-widgets/controls",
            "_view_module_version": "1.5.0",
            "_view_name": "HBoxView",
            "box_style": "",
            "children": [
              "IPY_MODEL_906fec0adf4644d5b256c00ee7ff8ed9",
              "IPY_MODEL_5f18d58d903e4acbbb83cdfddfa39d0c",
              "IPY_MODEL_51360958ec1848449cc1e660696cc089"
            ],
            "layout": "IPY_MODEL_d11d471487d644afa77b8a3eabcc70a7"
          }
        },
        "906fec0adf4644d5b256c00ee7ff8ed9": {
          "model_module": "@jupyter-widgets/controls",
          "model_name": "HTMLModel",
          "model_module_version": "1.5.0",
          "state": {
            "_dom_classes": [],
            "_model_module": "@jupyter-widgets/controls",
            "_model_module_version": "1.5.0",
            "_model_name": "HTMLModel",
            "_view_count": null,
            "_view_module": "@jupyter-widgets/controls",
            "_view_module_version": "1.5.0",
            "_view_name": "HTMLView",
            "description": "",
            "description_tooltip": null,
            "layout": "IPY_MODEL_f797239b31ff47119dbc1478ffb8b1d6",
            "placeholder": "​",
            "style": "IPY_MODEL_8605f3de15c747e3b8a91418ecfad922",
            "value": "generation_config.json: 100%"
          }
        },
        "5f18d58d903e4acbbb83cdfddfa39d0c": {
          "model_module": "@jupyter-widgets/controls",
          "model_name": "FloatProgressModel",
          "model_module_version": "1.5.0",
          "state": {
            "_dom_classes": [],
            "_model_module": "@jupyter-widgets/controls",
            "_model_module_version": "1.5.0",
            "_model_name": "FloatProgressModel",
            "_view_count": null,
            "_view_module": "@jupyter-widgets/controls",
            "_view_module_version": "1.5.0",
            "_view_name": "ProgressView",
            "bar_style": "success",
            "description": "",
            "description_tooltip": null,
            "layout": "IPY_MODEL_ef5f43fe138643ebb7cf47ec0441b18d",
            "max": 116,
            "min": 0,
            "orientation": "horizontal",
            "style": "IPY_MODEL_aa29655c8e364403b93fc7843552d593",
            "value": 116
          }
        },
        "51360958ec1848449cc1e660696cc089": {
          "model_module": "@jupyter-widgets/controls",
          "model_name": "HTMLModel",
          "model_module_version": "1.5.0",
          "state": {
            "_dom_classes": [],
            "_model_module": "@jupyter-widgets/controls",
            "_model_module_version": "1.5.0",
            "_model_name": "HTMLModel",
            "_view_count": null,
            "_view_module": "@jupyter-widgets/controls",
            "_view_module_version": "1.5.0",
            "_view_name": "HTMLView",
            "description": "",
            "description_tooltip": null,
            "layout": "IPY_MODEL_7a6409687e9a4517befc6dd7f9090be3",
            "placeholder": "​",
            "style": "IPY_MODEL_4b71317122a44cff801f2124cd8182f4",
            "value": " 116/116 [00:00&lt;00:00, 6.92kB/s]"
          }
        },
        "d11d471487d644afa77b8a3eabcc70a7": {
          "model_module": "@jupyter-widgets/base",
          "model_name": "LayoutModel",
          "model_module_version": "1.2.0",
          "state": {
            "_model_module": "@jupyter-widgets/base",
            "_model_module_version": "1.2.0",
            "_model_name": "LayoutModel",
            "_view_count": null,
            "_view_module": "@jupyter-widgets/base",
            "_view_module_version": "1.2.0",
            "_view_name": "LayoutView",
            "align_content": null,
            "align_items": null,
            "align_self": null,
            "border": null,
            "bottom": null,
            "display": null,
            "flex": null,
            "flex_flow": null,
            "grid_area": null,
            "grid_auto_columns": null,
            "grid_auto_flow": null,
            "grid_auto_rows": null,
            "grid_column": null,
            "grid_gap": null,
            "grid_row": null,
            "grid_template_areas": null,
            "grid_template_columns": null,
            "grid_template_rows": null,
            "height": null,
            "justify_content": null,
            "justify_items": null,
            "left": null,
            "margin": null,
            "max_height": null,
            "max_width": null,
            "min_height": null,
            "min_width": null,
            "object_fit": null,
            "object_position": null,
            "order": null,
            "overflow": null,
            "overflow_x": null,
            "overflow_y": null,
            "padding": null,
            "right": null,
            "top": null,
            "visibility": null,
            "width": null
          }
        },
        "f797239b31ff47119dbc1478ffb8b1d6": {
          "model_module": "@jupyter-widgets/base",
          "model_name": "LayoutModel",
          "model_module_version": "1.2.0",
          "state": {
            "_model_module": "@jupyter-widgets/base",
            "_model_module_version": "1.2.0",
            "_model_name": "LayoutModel",
            "_view_count": null,
            "_view_module": "@jupyter-widgets/base",
            "_view_module_version": "1.2.0",
            "_view_name": "LayoutView",
            "align_content": null,
            "align_items": null,
            "align_self": null,
            "border": null,
            "bottom": null,
            "display": null,
            "flex": null,
            "flex_flow": null,
            "grid_area": null,
            "grid_auto_columns": null,
            "grid_auto_flow": null,
            "grid_auto_rows": null,
            "grid_column": null,
            "grid_gap": null,
            "grid_row": null,
            "grid_template_areas": null,
            "grid_template_columns": null,
            "grid_template_rows": null,
            "height": null,
            "justify_content": null,
            "justify_items": null,
            "left": null,
            "margin": null,
            "max_height": null,
            "max_width": null,
            "min_height": null,
            "min_width": null,
            "object_fit": null,
            "object_position": null,
            "order": null,
            "overflow": null,
            "overflow_x": null,
            "overflow_y": null,
            "padding": null,
            "right": null,
            "top": null,
            "visibility": null,
            "width": null
          }
        },
        "8605f3de15c747e3b8a91418ecfad922": {
          "model_module": "@jupyter-widgets/controls",
          "model_name": "DescriptionStyleModel",
          "model_module_version": "1.5.0",
          "state": {
            "_model_module": "@jupyter-widgets/controls",
            "_model_module_version": "1.5.0",
            "_model_name": "DescriptionStyleModel",
            "_view_count": null,
            "_view_module": "@jupyter-widgets/base",
            "_view_module_version": "1.2.0",
            "_view_name": "StyleView",
            "description_width": ""
          }
        },
        "ef5f43fe138643ebb7cf47ec0441b18d": {
          "model_module": "@jupyter-widgets/base",
          "model_name": "LayoutModel",
          "model_module_version": "1.2.0",
          "state": {
            "_model_module": "@jupyter-widgets/base",
            "_model_module_version": "1.2.0",
            "_model_name": "LayoutModel",
            "_view_count": null,
            "_view_module": "@jupyter-widgets/base",
            "_view_module_version": "1.2.0",
            "_view_name": "LayoutView",
            "align_content": null,
            "align_items": null,
            "align_self": null,
            "border": null,
            "bottom": null,
            "display": null,
            "flex": null,
            "flex_flow": null,
            "grid_area": null,
            "grid_auto_columns": null,
            "grid_auto_flow": null,
            "grid_auto_rows": null,
            "grid_column": null,
            "grid_gap": null,
            "grid_row": null,
            "grid_template_areas": null,
            "grid_template_columns": null,
            "grid_template_rows": null,
            "height": null,
            "justify_content": null,
            "justify_items": null,
            "left": null,
            "margin": null,
            "max_height": null,
            "max_width": null,
            "min_height": null,
            "min_width": null,
            "object_fit": null,
            "object_position": null,
            "order": null,
            "overflow": null,
            "overflow_x": null,
            "overflow_y": null,
            "padding": null,
            "right": null,
            "top": null,
            "visibility": null,
            "width": null
          }
        },
        "aa29655c8e364403b93fc7843552d593": {
          "model_module": "@jupyter-widgets/controls",
          "model_name": "ProgressStyleModel",
          "model_module_version": "1.5.0",
          "state": {
            "_model_module": "@jupyter-widgets/controls",
            "_model_module_version": "1.5.0",
            "_model_name": "ProgressStyleModel",
            "_view_count": null,
            "_view_module": "@jupyter-widgets/base",
            "_view_module_version": "1.2.0",
            "_view_name": "StyleView",
            "bar_color": null,
            "description_width": ""
          }
        },
        "7a6409687e9a4517befc6dd7f9090be3": {
          "model_module": "@jupyter-widgets/base",
          "model_name": "LayoutModel",
          "model_module_version": "1.2.0",
          "state": {
            "_model_module": "@jupyter-widgets/base",
            "_model_module_version": "1.2.0",
            "_model_name": "LayoutModel",
            "_view_count": null,
            "_view_module": "@jupyter-widgets/base",
            "_view_module_version": "1.2.0",
            "_view_name": "LayoutView",
            "align_content": null,
            "align_items": null,
            "align_self": null,
            "border": null,
            "bottom": null,
            "display": null,
            "flex": null,
            "flex_flow": null,
            "grid_area": null,
            "grid_auto_columns": null,
            "grid_auto_flow": null,
            "grid_auto_rows": null,
            "grid_column": null,
            "grid_gap": null,
            "grid_row": null,
            "grid_template_areas": null,
            "grid_template_columns": null,
            "grid_template_rows": null,
            "height": null,
            "justify_content": null,
            "justify_items": null,
            "left": null,
            "margin": null,
            "max_height": null,
            "max_width": null,
            "min_height": null,
            "min_width": null,
            "object_fit": null,
            "object_position": null,
            "order": null,
            "overflow": null,
            "overflow_x": null,
            "overflow_y": null,
            "padding": null,
            "right": null,
            "top": null,
            "visibility": null,
            "width": null
          }
        },
        "4b71317122a44cff801f2124cd8182f4": {
          "model_module": "@jupyter-widgets/controls",
          "model_name": "DescriptionStyleModel",
          "model_module_version": "1.5.0",
          "state": {
            "_model_module": "@jupyter-widgets/controls",
            "_model_module_version": "1.5.0",
            "_model_name": "DescriptionStyleModel",
            "_view_count": null,
            "_view_module": "@jupyter-widgets/base",
            "_view_module_version": "1.2.0",
            "_view_name": "StyleView",
            "description_width": ""
          }
        },
        "cc273064518d4a00b9124d5c1f46cb2a": {
          "model_module": "@jupyter-widgets/controls",
          "model_name": "HBoxModel",
          "model_module_version": "1.5.0",
          "state": {
            "_dom_classes": [],
            "_model_module": "@jupyter-widgets/controls",
            "_model_module_version": "1.5.0",
            "_model_name": "HBoxModel",
            "_view_count": null,
            "_view_module": "@jupyter-widgets/controls",
            "_view_module_version": "1.5.0",
            "_view_name": "HBoxView",
            "box_style": "",
            "children": [
              "IPY_MODEL_d5f0ba3e1b0846b6848ed9060d3f21d4",
              "IPY_MODEL_0cfd0ba75b3a41158dad72ee67f82e08",
              "IPY_MODEL_a46fcfcd0136402895074ecd171f7ff2"
            ],
            "layout": "IPY_MODEL_af23346b567f406481d1233a6d41fd37"
          }
        },
        "d5f0ba3e1b0846b6848ed9060d3f21d4": {
          "model_module": "@jupyter-widgets/controls",
          "model_name": "HTMLModel",
          "model_module_version": "1.5.0",
          "state": {
            "_dom_classes": [],
            "_model_module": "@jupyter-widgets/controls",
            "_model_module_version": "1.5.0",
            "_model_name": "HTMLModel",
            "_view_count": null,
            "_view_module": "@jupyter-widgets/controls",
            "_view_module_version": "1.5.0",
            "_view_name": "HTMLView",
            "description": "",
            "description_tooltip": null,
            "layout": "IPY_MODEL_0c92115bffe84ae69056998a6230e17a",
            "placeholder": "​",
            "style": "IPY_MODEL_23ba882e113846d08ab8477badade4b7",
            "value": "  0%"
          }
        },
        "0cfd0ba75b3a41158dad72ee67f82e08": {
          "model_module": "@jupyter-widgets/controls",
          "model_name": "FloatProgressModel",
          "model_module_version": "1.5.0",
          "state": {
            "_dom_classes": [],
            "_model_module": "@jupyter-widgets/controls",
            "_model_module_version": "1.5.0",
            "_model_name": "FloatProgressModel",
            "_view_count": null,
            "_view_module": "@jupyter-widgets/controls",
            "_view_module_version": "1.5.0",
            "_view_name": "ProgressView",
            "bar_style": "",
            "description": "",
            "description_tooltip": null,
            "layout": "IPY_MODEL_16b1452393ee435497e6cabf451f5e16",
            "max": 300,
            "min": 0,
            "orientation": "horizontal",
            "style": "IPY_MODEL_f086c3e01d764d0b80d4c72c186d345e",
            "value": 300
          }
        },
        "a46fcfcd0136402895074ecd171f7ff2": {
          "model_module": "@jupyter-widgets/controls",
          "model_name": "HTMLModel",
          "model_module_version": "1.5.0",
          "state": {
            "_dom_classes": [],
            "_model_module": "@jupyter-widgets/controls",
            "_model_module_version": "1.5.0",
            "_model_name": "HTMLModel",
            "_view_count": null,
            "_view_module": "@jupyter-widgets/controls",
            "_view_module_version": "1.5.0",
            "_view_name": "HTMLView",
            "description": "",
            "description_tooltip": null,
            "layout": "IPY_MODEL_3a6d00a0e8664b798bebc7e07eac63c4",
            "placeholder": "​",
            "style": "IPY_MODEL_e43c93543e8e40639a85a3cab07ebd41",
            "value": " 0/300 [00:00&lt;?, ?it/s]"
          }
        },
        "af23346b567f406481d1233a6d41fd37": {
          "model_module": "@jupyter-widgets/base",
          "model_name": "LayoutModel",
          "model_module_version": "1.2.0",
          "state": {
            "_model_module": "@jupyter-widgets/base",
            "_model_module_version": "1.2.0",
            "_model_name": "LayoutModel",
            "_view_count": null,
            "_view_module": "@jupyter-widgets/base",
            "_view_module_version": "1.2.0",
            "_view_name": "LayoutView",
            "align_content": null,
            "align_items": null,
            "align_self": null,
            "border": null,
            "bottom": null,
            "display": null,
            "flex": null,
            "flex_flow": null,
            "grid_area": null,
            "grid_auto_columns": null,
            "grid_auto_flow": null,
            "grid_auto_rows": null,
            "grid_column": null,
            "grid_gap": null,
            "grid_row": null,
            "grid_template_areas": null,
            "grid_template_columns": null,
            "grid_template_rows": null,
            "height": null,
            "justify_content": null,
            "justify_items": null,
            "left": null,
            "margin": null,
            "max_height": null,
            "max_width": null,
            "min_height": null,
            "min_width": null,
            "object_fit": null,
            "object_position": null,
            "order": null,
            "overflow": null,
            "overflow_x": null,
            "overflow_y": null,
            "padding": null,
            "right": null,
            "top": null,
            "visibility": "hidden",
            "width": null
          }
        },
        "0c92115bffe84ae69056998a6230e17a": {
          "model_module": "@jupyter-widgets/base",
          "model_name": "LayoutModel",
          "model_module_version": "1.2.0",
          "state": {
            "_model_module": "@jupyter-widgets/base",
            "_model_module_version": "1.2.0",
            "_model_name": "LayoutModel",
            "_view_count": null,
            "_view_module": "@jupyter-widgets/base",
            "_view_module_version": "1.2.0",
            "_view_name": "LayoutView",
            "align_content": null,
            "align_items": null,
            "align_self": null,
            "border": null,
            "bottom": null,
            "display": null,
            "flex": null,
            "flex_flow": null,
            "grid_area": null,
            "grid_auto_columns": null,
            "grid_auto_flow": null,
            "grid_auto_rows": null,
            "grid_column": null,
            "grid_gap": null,
            "grid_row": null,
            "grid_template_areas": null,
            "grid_template_columns": null,
            "grid_template_rows": null,
            "height": null,
            "justify_content": null,
            "justify_items": null,
            "left": null,
            "margin": null,
            "max_height": null,
            "max_width": null,
            "min_height": null,
            "min_width": null,
            "object_fit": null,
            "object_position": null,
            "order": null,
            "overflow": null,
            "overflow_x": null,
            "overflow_y": null,
            "padding": null,
            "right": null,
            "top": null,
            "visibility": null,
            "width": null
          }
        },
        "23ba882e113846d08ab8477badade4b7": {
          "model_module": "@jupyter-widgets/controls",
          "model_name": "DescriptionStyleModel",
          "model_module_version": "1.5.0",
          "state": {
            "_model_module": "@jupyter-widgets/controls",
            "_model_module_version": "1.5.0",
            "_model_name": "DescriptionStyleModel",
            "_view_count": null,
            "_view_module": "@jupyter-widgets/base",
            "_view_module_version": "1.2.0",
            "_view_name": "StyleView",
            "description_width": ""
          }
        },
        "16b1452393ee435497e6cabf451f5e16": {
          "model_module": "@jupyter-widgets/base",
          "model_name": "LayoutModel",
          "model_module_version": "1.2.0",
          "state": {
            "_model_module": "@jupyter-widgets/base",
            "_model_module_version": "1.2.0",
            "_model_name": "LayoutModel",
            "_view_count": null,
            "_view_module": "@jupyter-widgets/base",
            "_view_module_version": "1.2.0",
            "_view_name": "LayoutView",
            "align_content": null,
            "align_items": null,
            "align_self": null,
            "border": null,
            "bottom": null,
            "display": null,
            "flex": null,
            "flex_flow": null,
            "grid_area": null,
            "grid_auto_columns": null,
            "grid_auto_flow": null,
            "grid_auto_rows": null,
            "grid_column": null,
            "grid_gap": null,
            "grid_row": null,
            "grid_template_areas": null,
            "grid_template_columns": null,
            "grid_template_rows": null,
            "height": null,
            "justify_content": null,
            "justify_items": null,
            "left": null,
            "margin": null,
            "max_height": null,
            "max_width": null,
            "min_height": null,
            "min_width": null,
            "object_fit": null,
            "object_position": null,
            "order": null,
            "overflow": null,
            "overflow_x": null,
            "overflow_y": null,
            "padding": null,
            "right": null,
            "top": null,
            "visibility": null,
            "width": null
          }
        },
        "f086c3e01d764d0b80d4c72c186d345e": {
          "model_module": "@jupyter-widgets/controls",
          "model_name": "ProgressStyleModel",
          "model_module_version": "1.5.0",
          "state": {
            "_model_module": "@jupyter-widgets/controls",
            "_model_module_version": "1.5.0",
            "_model_name": "ProgressStyleModel",
            "_view_count": null,
            "_view_module": "@jupyter-widgets/base",
            "_view_module_version": "1.2.0",
            "_view_name": "StyleView",
            "bar_color": "blue",
            "description_width": ""
          }
        },
        "3a6d00a0e8664b798bebc7e07eac63c4": {
          "model_module": "@jupyter-widgets/base",
          "model_name": "LayoutModel",
          "model_module_version": "1.2.0",
          "state": {
            "_model_module": "@jupyter-widgets/base",
            "_model_module_version": "1.2.0",
            "_model_name": "LayoutModel",
            "_view_count": null,
            "_view_module": "@jupyter-widgets/base",
            "_view_module_version": "1.2.0",
            "_view_name": "LayoutView",
            "align_content": null,
            "align_items": null,
            "align_self": null,
            "border": null,
            "bottom": null,
            "display": null,
            "flex": null,
            "flex_flow": null,
            "grid_area": null,
            "grid_auto_columns": null,
            "grid_auto_flow": null,
            "grid_auto_rows": null,
            "grid_column": null,
            "grid_gap": null,
            "grid_row": null,
            "grid_template_areas": null,
            "grid_template_columns": null,
            "grid_template_rows": null,
            "height": null,
            "justify_content": null,
            "justify_items": null,
            "left": null,
            "margin": null,
            "max_height": null,
            "max_width": null,
            "min_height": null,
            "min_width": null,
            "object_fit": null,
            "object_position": null,
            "order": null,
            "overflow": null,
            "overflow_x": null,
            "overflow_y": null,
            "padding": null,
            "right": null,
            "top": null,
            "visibility": null,
            "width": null
          }
        },
        "e43c93543e8e40639a85a3cab07ebd41": {
          "model_module": "@jupyter-widgets/controls",
          "model_name": "DescriptionStyleModel",
          "model_module_version": "1.5.0",
          "state": {
            "_model_module": "@jupyter-widgets/controls",
            "_model_module_version": "1.5.0",
            "_model_name": "DescriptionStyleModel",
            "_view_count": null,
            "_view_module": "@jupyter-widgets/base",
            "_view_module_version": "1.2.0",
            "_view_name": "StyleView",
            "description_width": ""
          }
        }
      }
    }
  },
  "nbformat_minor": 0,
  "nbformat": 4,
  "cells": [
    {
      "cell_type": "markdown",
      "source": [
        "# Assignment 2\n",
        "\n",
        "\n",
        "**Keywords**: Sexism Detection, Multi-class Classification, LLMs, Prompting\n",
        "\n",
        "\n",
        "## Group\n",
        "\n",
        "* Luca Babboni - luca.babboni2@studio.unibo.it\n",
        "* Matteo Fasulo - matteo.fasulo@studio.unibo.it\n",
        "* Maksim Omelchenko - maksim.omelchenko@studio.unibo.it\n",
        "* Luca Tedeschini - luca.tedeschini3@studio.unibo.it\n",
        "\n"
      ],
      "metadata": {
        "id": "-WeCeITXoxLf"
      }
    },
    {
      "cell_type": "markdown",
      "source": [
        "## Description\n",
        "\n",
        "This notebook addresses [EDOS Task A](https://github.com/rewire-online/edos) on sexism detection.\n"
      ],
      "metadata": {
        "id": "Ck47wFhrLJnc"
      }
    },
    {
      "cell_type": "markdown",
      "source": [
        "## Problem definition\n",
        "\n",
        "Given an input text sentence, the task is to label the sentence as sexist or not sexist (binary classification).\n",
        "\n",
        "### Examples:\n",
        "\n",
        "**Text**: *``Schedule a date with her, then don't show up. Then text her \"GOTCHA B___H\".''*\n",
        "\n",
        "**Label**: Sexist\n",
        "\n",
        "**Text**: *``That’s completely ridiculous a woman flashing her boobs is not sexual assault in the slightest.''*\n",
        "\n",
        "**Label**: Not sexist\n",
        "\n"
      ],
      "metadata": {
        "id": "5mtjp0cGLJnc"
      }
    },
    {
      "cell_type": "markdown",
      "source": [
        "## Approach\n",
        "\n",
        "We will tackle the binary classification task with LLMs.\n",
        "\n",
        "In particular, we'll consider zero-/few-shot prompting approaches to assess the capability of some popular open-source LLMs on this task."
      ],
      "metadata": {
        "id": "3dqwRZx-QNGX"
      }
    },
    {
      "cell_type": "markdown",
      "source": [
        "## Preliminaries\n",
        "\n",
        "We are going to download LLMs from [Huggingface](https://huggingface.co/).\n",
        "\n",
        "Many of these open-source LLMs require you to accept their \"Community License Agreement\" to download them.\n",
        "\n",
        "In summary:\n",
        "\n",
        "- If not already, create an account of Huggingface (~2 mins)\n",
        "- Check a LLM model card page (e.g., [Mistral v3](https://huggingface.co/mistralai/Mistral-7B-Instruct-v0.3)) and accept its \"Community License Agreement\".\n",
        "- Go to your account -> Settings -> Access Tokens -> Create new token -> \"Repositories permissions\" -> add the LLM model card you want to use.\n",
        "- Save the token (we'll need it later)"
      ],
      "metadata": {
        "id": "PS3igwXpQcAY"
      }
    },
    {
      "cell_type": "markdown",
      "source": [
        "### Libraries\n",
        "In order to excecute the code we are gonna install and import the necessary libraries.\n",
        "First of all we are gonna install the last version of bitsandbytes in order to been able to use the quantization."
      ],
      "metadata": {
        "id": "U-X8hewlmS9v"
      }
    },
    {
      "cell_type": "code",
      "source": [
        "%%capture\n",
        "%pip install -U bitsandbytes"
      ],
      "metadata": {
        "id": "GZ1vH4IZmS9w",
        "trusted": true,
        "execution": {
          "iopub.status.busy": "2024-12-28T20:04:31.769394Z",
          "iopub.execute_input": "2024-12-28T20:04:31.769576Z",
          "iopub.status.idle": "2024-12-28T20:04:39.032775Z",
          "shell.execute_reply.started": "2024-12-28T20:04:31.769556Z",
          "shell.execute_reply": "2024-12-28T20:04:39.031660Z"
        }
      },
      "outputs": [],
      "execution_count": 1
    },
    {
      "cell_type": "markdown",
      "source": [
        "Then we need to reload the notebook kernel"
      ],
      "metadata": {
        "id": "au5cCyPHmS9x"
      }
    },
    {
      "cell_type": "code",
      "source": [
        "import os\n",
        "os.kill(os.getpid(), 9)"
      ],
      "metadata": {
        "id": "jr_Zow9jmS9x",
        "trusted": true,
        "execution": {
          "execution_failed": "2024-12-28T20:04:39.864Z"
        }
      },
      "outputs": [],
      "execution_count": null
    },
    {
      "cell_type": "code",
      "source": [
        "import IPython\n",
        "app = IPython.Application.instance()\n",
        "app.kernel.do_shutdown(True)  # Restart the kernel"
      ],
      "metadata": {
        "id": "HggHpANhnjAQ",
        "trusted": true,
        "execution": {
          "execution_failed": "2024-12-28T20:04:39.865Z"
        }
      },
      "outputs": [],
      "execution_count": null
    },
    {
      "cell_type": "markdown",
      "source": [
        "Finally we are able to import the required libraries"
      ],
      "metadata": {
        "id": "XnZYE__amS9y"
      }
    },
    {
      "cell_type": "code",
      "source": [
        "import os\n",
        "import requests\n",
        "import re\n",
        "import random\n",
        "import gc\n",
        "from pathlib import Path\n",
        "from copy import deepcopy\n",
        "\n",
        "import pandas as pd\n",
        "import numpy as np\n",
        "import matplotlib.pyplot as plt\n",
        "\n",
        "from tqdm import tqdm\n",
        "\n",
        "from sklearn.metrics import confusion_matrix, ConfusionMatrixDisplay\n",
        "\n",
        "import torch\n",
        "\n",
        "from transformers import AutoModelForCausalLM, AutoTokenizer, BitsAndBytesConfig"
      ],
      "metadata": {
        "id": "mDcr2AG-mS9y",
        "trusted": true,
        "execution": {
          "iopub.status.busy": "2024-12-28T20:04:44.890443Z",
          "iopub.execute_input": "2024-12-28T20:04:44.890748Z",
          "iopub.status.idle": "2024-12-28T20:04:50.069906Z",
          "shell.execute_reply.started": "2024-12-28T20:04:44.890719Z",
          "shell.execute_reply": "2024-12-28T20:04:50.069259Z"
        }
      },
      "outputs": [],
      "execution_count": 1
    },
    {
      "cell_type": "markdown",
      "source": [
        "### Huggingface Login\n",
        "\n",
        "Once we have created an account and an access token, we need to login to Huggingface via code.\n",
        "\n",
        "- Type your token and press Enter\n",
        "- You can say No to Github linking"
      ],
      "metadata": {
        "id": "xqEsPH_JSxw6"
      }
    },
    {
      "cell_type": "code",
      "source": [
        "%%capture\n",
        "!pip install huggingface_hub"
      ],
      "metadata": {
        "trusted": true,
        "execution": {
          "iopub.status.busy": "2024-12-28T20:04:50.070989Z",
          "iopub.execute_input": "2024-12-28T20:04:50.071334Z",
          "iopub.status.idle": "2024-12-28T20:04:53.195116Z",
          "shell.execute_reply.started": "2024-12-28T20:04:50.071301Z",
          "shell.execute_reply": "2024-12-28T20:04:53.193961Z"
        },
        "id": "ygOUabg5lfFG"
      },
      "outputs": [],
      "execution_count": 2
    },
    {
      "cell_type": "code",
      "source": [
        "import huggingface_hub\n",
        "\n",
        "huggingface_hub.notebook_login()"
      ],
      "metadata": {
        "colab": {
          "base_uri": "https://localhost:8080/",
          "height": 17,
          "referenced_widgets": [
            "c1846a9dcb564594af39e1ec59c55b13",
            "9ce5dcc4380342ea8b86851216f5d28b",
            "e3baddf68f814e8e966639db841c4853",
            "56f90dbf06e94da99646800855b93fdf",
            "b1f8f2767ffd4277a3699eb5dd4768d2",
            "799f3b1e67db4da79fd568ff08f93310",
            "48ae5b8e2db14c719d1ce2df3c68c503",
            "cdb672ccb2cc43a0b92af7867bb9374a",
            "f905c709308c4f538ddb13f65f5c54cb",
            "fc154e11eed946a3b94e8e9d34e37763",
            "ca1b458b63c2469087a48b9671817bcb",
            "29f2d35361a54f3c8ade9658fe393159",
            "1696b5d3810e49e3a6cc561a318f959c",
            "bedd9eea5c1144558a533a6ead9934eb",
            "e4be8f67411045418f54977f3aa26001",
            "573b22dabd8b48c69b2f33412ac12f82",
            "dcbdaf0087974386bd528db17f0e47fb",
            "3d0d2d2f777042a080a1e51a12d97e58",
            "ef89f853f3f54571ac81284dc8d91ee4",
            "7c84e274297d47fcabad476c2bad98a5"
          ]
        },
        "id": "_uWEUjs0THxP",
        "outputId": "f12aba7a-d9ba-4a95-a8b5-c580e878acd6",
        "trusted": true,
        "execution": {
          "iopub.status.busy": "2024-12-28T20:04:53.196791Z",
          "iopub.execute_input": "2024-12-28T20:04:53.197173Z",
          "iopub.status.idle": "2024-12-28T20:04:53.222328Z",
          "shell.execute_reply.started": "2024-12-28T20:04:53.197141Z",
          "shell.execute_reply": "2024-12-28T20:04:53.221422Z"
        }
      },
      "outputs": [
        {
          "output_type": "display_data",
          "data": {
            "text/plain": [
              "VBox(children=(HTML(value='<center> <img\\nsrc=https://huggingface.co/front/assets/huggingface_logo-noborder.sv…"
            ],
            "application/vnd.jupyter.widget-view+json": {
              "version_major": 2,
              "version_minor": 0,
              "model_id": "c1846a9dcb564594af39e1ec59c55b13"
            }
          },
          "metadata": {}
        }
      ],
      "execution_count": 3
    },
    {
      "cell_type": "markdown",
      "source": [
        "After login, you can download all models associated with your access token in addition to those that are not protected by an access token."
      ],
      "metadata": {
        "id": "MLxSrY-4e_0J"
      }
    },
    {
      "cell_type": "markdown",
      "source": [
        "### Data Loading\n",
        "\n",
        "Since we are only interested in prompting, we do not require a train dataset.\n",
        "\n",
        "We have preparared a small test set version of EDOS in our dedicated [Github repository](https://github.com/lt-nlp-lab-unibo/nlp-course-material).\n",
        "\n",
        "Check the ``Assignment 2/data`` folder.\n",
        "It contains:\n",
        "\n",
        "- ``a2_test.csv`` → a small test set of 300 samples.\n",
        "- ``demonstrations.csv`` -> a batch of 1000 samples for few-shot prompting.\n",
        "\n",
        "Both datasets contain a balanced number of sexist and not sexist samples.\n"
      ],
      "metadata": {
        "id": "pEYMBnAQLJnc"
      }
    },
    {
      "cell_type": "markdown",
      "source": [
        "### Instructions\n",
        "\n",
        "We require you to:\n",
        "\n",
        "* **Download** the ``A2/data`` folder.\n",
        "* **Encode** ``a2_test.csv`` into a ``pandas.DataFrame`` object."
      ],
      "metadata": {
        "id": "B5XyOcFGLJnd"
      }
    },
    {
      "cell_type": "code",
      "source": [
        "class SexismDetector:\n",
        "    def __init__(self):\n",
        "        self.seed = 42\n",
        "        self.device = torch.device(\"cuda\" if torch.cuda.is_available() else \"cpu\")\n",
        "        self.DATA_FOLDER = Path(\"data\")\n",
        "\n",
        "        # Create data folder if it doesn't exist\n",
        "        if not self.DATA_FOLDER.exists():\n",
        "            self.DATA_FOLDER.mkdir(parents=True)\n",
        "            print(f\"Created folder {self.DATA_FOLDER}.\")\n",
        "\n",
        "        self.clear_cache()\n",
        "\n",
        "    def clear_cache(self) -> None:\n",
        "        \"\"\"\n",
        "        Clears the GPU cache and performs garbage collection.\n",
        "        This method uses PyTorch's `torch.cuda.empty_cache()` to release all unoccupied cached memory\n",
        "        currently held by the caching allocator so that those can be used in other GPU applications.\n",
        "        It also calls Python's garbage collector to free up memory that is no longer in use.\n",
        "        Returns:\n",
        "            None\n",
        "        \"\"\"\n",
        "        torch.cuda.empty_cache()\n",
        "\n",
        "        with torch.no_grad():\n",
        "            torch.cuda.empty_cache()\n",
        "\n",
        "        gc.collect()\n",
        "\n",
        "    def download_corpus(self, url: str) -> pd.DataFrame:\n",
        "        \"\"\"\n",
        "        Downloads a corpus from the given URL and saves it as a CSV file in the data folder.\n",
        "        Args:\n",
        "            url (str): The URL of the corpus to download.\n",
        "        Returns:\n",
        "            pd.DataFrame: A DataFrame containing the contents of the downloaded CSV file.\n",
        "        Raises:\n",
        "            requests.exceptions.RequestException: If there is an issue with the HTTP request.\n",
        "        \"\"\"\n",
        "        filename = url.split(\"/\")[-1]\n",
        "        if not (self.DATA_FOLDER / filename).exists():\n",
        "            print(f\"Created folder {self.DATA_FOLDER}.\")\n",
        "\n",
        "        response = requests.get(url)\n",
        "        response.raise_for_status()\n",
        "        with open(self.DATA_FOLDER / filename, 'w', encoding='utf-8') as f:\n",
        "            f.write(response.text)\n",
        "\n",
        "        return pd.read_csv(self.DATA_FOLDER / filename, encoding='utf-8')\n",
        "\n",
        "    def load_model(self, model_card: str, with_4_bit: bool = True) -> tuple:\n",
        "        \"\"\"\n",
        "        Loads a pre-trained model and its tokenizer with optional 4-bit quantization.\n",
        "\n",
        "        Args:\n",
        "            model_card (str): The identifier of the pre-trained model to load.\n",
        "            with_4_bit (bool, optional): If True, loads the model with 4-bit quantization.\n",
        "                                         If False, loads the model with 8-bit quantization.\n",
        "                                         Defaults to True.\n",
        "\n",
        "        Returns:\n",
        "            tuple: A tuple containing the loaded model and tokenizer.\n",
        "        \"\"\"\n",
        "        # Clear cache\n",
        "        self.clear_cache()\n",
        "\n",
        "        # Setup the quantization config\n",
        "        quantization_config = BitsAndBytesConfig(load_in_8bit=True)\n",
        "        if with_4_bit:\n",
        "            quantization_config = BitsAndBytesConfig(\n",
        "                load_in_4bit=True,\n",
        "                bnb_4bit_quant_type=\"fp4\",\n",
        "                bnb_4bit_compute_dtype=torch.bfloat16\n",
        "            )\n",
        "        # Load tokenizer\n",
        "        tokenizer = AutoTokenizer.from_pretrained(model_card)\n",
        "        # Load the model\n",
        "        model = AutoModelForCausalLM.from_pretrained(model_card, quantization_config=quantization_config)\n",
        "        # Set the model to evaluation (inference) mode\n",
        "        model.eval()\n",
        "\n",
        "        return model, tokenizer\n",
        "\n",
        "    def prepare_prompts(self, texts: pd.Series, prompt_template: list, tokenizer: AutoTokenizer) -> list:\n",
        "        \"\"\"\n",
        "        Prepares prompts by applying a chat template to a series of input texts.\n",
        "\n",
        "        Args:\n",
        "            texts (pd.Series): A pandas Series containing the input texts.\n",
        "            prompt_template (list): A list representing the prompt template with placeholders.\n",
        "            tokenizer (AutoTokenizer): An instance of the AutoTokenizer used to tokenize the prompts.\n",
        "\n",
        "        Returns:\n",
        "            list: A list of tokenized prompts ready for generation.\n",
        "        \"\"\"\n",
        "        # Store the prompts\n",
        "        prompts = []\n",
        "        # Iterate over the input texts\n",
        "        for text in texts:\n",
        "\n",
        "            # Create a deepcopy of the prompt template\n",
        "            prompt_with_text = deepcopy(prompt_template)\n",
        "\n",
        "            # Replace the placeholder with the input text\n",
        "            prompt_with_text[1]['content'] = prompt_with_text[1]['content'].replace('{text}', text)\n",
        "\n",
        "            # Apply the chat template to the input text\n",
        "            full_prompt = tokenizer.apply_chat_template(\n",
        "                prompt_with_text,\n",
        "                tokenize=True,\n",
        "                add_generation_prompt=True,\n",
        "                return_dict=True,\n",
        "                return_tensors=\"pt\")\n",
        "            # Move the full prompt to the device\n",
        "            full_prompt = full_prompt.to(self.device)\n",
        "            # Append the full prompt to the list of prompts\n",
        "            prompts.append(full_prompt)\n",
        "\n",
        "        return prompts\n",
        "\n",
        "    def generate_responses(self, model: AutoModelForCausalLM, tokenizer: AutoTokenizer, prompt_examples: list, max_new_tokens: int = 1000) -> list:\n",
        "        \"\"\"\n",
        "        Generates responses for a list of prompt examples using a specified language model and tokenizer.\n",
        "\n",
        "        Args:\n",
        "            model (AutoModelForCausalLM): The language model to use for generating responses.\n",
        "            tokenizer (AutoTokenizer): The tokenizer associated with the language model.\n",
        "            prompt_examples (list): A list of prompt examples to generate responses for.\n",
        "            max_new_tokens (int, optional): The maximum number of new tokens to generate for each prompt. Defaults to 1000.\n",
        "\n",
        "        Returns:\n",
        "            list: A list of generated responses corresponding to each prompt example.\n",
        "        \"\"\"\n",
        "        answers = []\n",
        "        for prompt in tqdm(prompt_examples):\n",
        "            response = model.generate(**prompt, max_new_tokens=max_new_tokens, pad_token_id=tokenizer.eos_token_id)\n",
        "            answers.append(response)\n",
        "        return answers\n",
        "\n",
        "    def process_response(self, response: torch.Tensor, tokenizer: AutoTokenizer) -> int:\n",
        "        \"\"\"\n",
        "        Processes the response tensor and determines if it contains a positive indication.\n",
        "\n",
        "        Args:\n",
        "            response (torch.Tensor): The tensor containing the response from the model.\n",
        "            tokenizer (AutoTokenizer): The tokenizer used to decode the response tensor.\n",
        "\n",
        "        Returns:\n",
        "            int: Returns 1 if the decoded response contains 'YES' after 'ANSWER', otherwise returns 0.\n",
        "        \"\"\"\n",
        "        response_text = tokenizer.decode(response[0])\n",
        "        if 'YES' in response_text.split('ANSWER')[-1]:\n",
        "            return 1\n",
        "        else:\n",
        "            return 0\n",
        "\n",
        "    def get_generated_response(self, response: torch.Tensor, tokenizer: AutoTokenizer) -> str:\n",
        "        \"\"\"\n",
        "        Decodes a tensor response into a cleaned string.\n",
        "\n",
        "        Args:\n",
        "            response (torch.Tensor): The tensor containing the response to decode.\n",
        "            tokenizer (AutoTokenizer): The tokenizer used to decode the response.\n",
        "\n",
        "        Returns:\n",
        "            str: The cleaned and decoded response string.\n",
        "        \"\"\"\n",
        "        response_text = tokenizer.decode(response[0])\n",
        "        response_text = response_text.split('[/INST]')[-1]\n",
        "        cleaned_string = re.sub(r'</s>', '', response_text).strip()\n",
        "        return cleaned_string\n",
        "\n",
        "    def compute_metrics(self, responses: list, y_true: list, tokenizer: AutoTokenizer) -> dict:\n",
        "        \"\"\"\n",
        "        Compute the accuracy and fail ratio of the model's predictions.\n",
        "\n",
        "        Args:\n",
        "            responses (list): A list of responses generated by the model.\n",
        "            y_true (list): A list of true labels corresponding to the responses.\n",
        "\n",
        "        Returns:\n",
        "            dict: A dictionary containing the accuracy and fail ratio of the predictions.\n",
        "                - 'accuracy' (float): The proportion of correct predictions.\n",
        "                - 'fail_ratio' (float): The proportion of incorrect predictions.\n",
        "        \"\"\"\n",
        "        y_pred = [self.process_response(response=response, tokenizer=tokenizer) for response in responses]\n",
        "        accuracy = (np.array(y_pred) == np.array(y_true)).mean()\n",
        "        fail_ratio = (np.array(y_pred) != np.array(y_true)).mean()\n",
        "        return {'accuracy': accuracy, 'fail_ratio': fail_ratio}\n",
        "\n",
        "    def build_few_shot_demonstrations(self, demonstrations: pd.DataFrame, num_per_class: int = 2, custom_example_ids: dict = None) -> list:\n",
        "        \"\"\"\n",
        "        Build few-shot demonstrations for a classification task.\n",
        "\n",
        "        This method extracts a specified number of positive and negative samples from the provided DataFrame\n",
        "        and combines them into a list of few-shot demonstrations. The demonstrations are then shuffled.\n",
        "\n",
        "        Args:\n",
        "            demonstrations (pd.DataFrame): A DataFrame containing the text samples and their corresponding labels.\n",
        "                                           The DataFrame must have at least two columns: 'text' and 'label_sexist'.\n",
        "            num_per_class (int): The number of samples to extract for each class (positive and negative). If an integer\n",
        "                                 is provided, the same number of samples will be extracted for both classes. If a list\n",
        "                                 of two integers is provided, the first integer specifies the number of positive samples\n",
        "                                 and the second integer specifies the number of negative samples. Default is 2.\n",
        "            custom_example_ids (dict, optional): A dictionary of custom example IDs to include in the few-shot demonstrations. This will be used later to check specific examples manually or by passing top demonstration examples according to a ranking criterion. Defaults to None.\n",
        "\n",
        "        Returns:\n",
        "            list: A list of few-shot demonstrations, where each demonstration is a list containing the text and its label.\n",
        "                  The label is 1 for positive samples (sexist) and 0 for negative samples (not sexist).\n",
        "        \"\"\"\n",
        "        if isinstance(num_per_class, int):\n",
        "            num_per_class = [num_per_class, num_per_class]\n",
        "\n",
        "        if custom_example_ids is None:\n",
        "            # Extract a random sample of positive and negative demonstrations\n",
        "            yes_samples = demonstrations[demonstrations['label_sexist'] == 'sexist'].sample(num_per_class[0], random_state=self.seed)\n",
        "            no_samples = demonstrations[demonstrations['label_sexist'] == 'not sexist'].sample(num_per_class[1], random_state=self.seed)\n",
        "        else:\n",
        "            # Extract custom examples\n",
        "            sexist_ids = custom_example_ids['sexist'][:num_per_class[0]]\n",
        "            not_sexist_ids = custom_example_ids['not_sexist'][:num_per_class[1]]\n",
        "            # Filter the demonstrations based on the custom example IDs\n",
        "            yes_samples = demonstrations[demonstrations.index.isin(sexist_ids)]\n",
        "            no_samples = demonstrations[demonstrations.index.isin(not_sexist_ids)]\n",
        "\n",
        "        # Combine the samples into a list of few-shot demonstrations\n",
        "        few_shot_demonstrations = list(pd.concat([yes_samples['text'], no_samples['text']]))\n",
        "        few_shot_demonstrations = [[demonstration, label] for demonstration, label in zip(few_shot_demonstrations,\n",
        "                                                                                            [1] * num_per_class[0] + [0] * num_per_class[1])]\n",
        "        # Shuffle the few-shot demonstrations\n",
        "        random.shuffle(few_shot_demonstrations)\n",
        "\n",
        "        return few_shot_demonstrations\n",
        "\n",
        "    def prepare_prompts_few_shot(self, texts: pd.Series, demonstrations: list, prompt_template: list, tokenizer: AutoTokenizer) -> list:\n",
        "        \"\"\"\n",
        "        Prepares few-shot learning prompts for a given set of texts using a specified prompt template and tokenizer.\n",
        "\n",
        "        Args:\n",
        "            texts (pd.Series): A pandas Series containing the texts to be used for generating prompts.\n",
        "            demonstrations (list): A list of tuples where each tuple contains a tweet (str) and its corresponding label (int).\n",
        "            prompt_template (list): A list representing the prompt template to be used for generating prompts.\n",
        "            tokenizer (AutoTokenizer): An instance of the AutoTokenizer to be used for tokenizing the prompts.\n",
        "\n",
        "        Returns:\n",
        "            list: A list of tokenized prompts ready for few-shot learning.\n",
        "        \"\"\"\n",
        "        # Store the prompts\n",
        "        prompts = []\n",
        "        # Iterate over the input texts\n",
        "        for text in texts:\n",
        "            # Create a deepcopy of the prompt template\n",
        "            prompt_with_text = deepcopy(prompt_template)\n",
        "            demonstration = ''\n",
        "            for tweet, label in demonstrations:\n",
        "                if label == 1:\n",
        "                    demonstration += '\\tTEXT: ' + tweet + '\\n\\tANSWER: YES\\n' # positive\n",
        "                else:\n",
        "                    demonstration += '\\tTEXT: ' + tweet + '\\n\\tANSWER: NO\\n' # negative\n",
        "\n",
        "            # Remove the first tab character\n",
        "            demonstration = demonstration[1:]\n",
        "            # Replace the placeholders with the input text and few-shot demonstrations\n",
        "            prompt_with_text[1]['content'] = prompt_with_text[1]['content'].replace('{examples}', demonstration)\n",
        "            prompt_with_text[1]['content'] = prompt_with_text[1]['content'].replace('{text}', text)\n",
        "            # Apply the chat template to the input text\n",
        "            full_prompt = tokenizer.apply_chat_template(\n",
        "                prompt_with_text,\n",
        "                tokenize=True,\n",
        "                add_generation_prompt=True,\n",
        "                return_dict=True,\n",
        "                return_tensors=\"pt\")\n",
        "            # Move the full prompt to the device\n",
        "            full_prompt = full_prompt.to(self.device)\n",
        "            # Append the full prompt to the list of prompts\n",
        "            prompts.append(full_prompt)\n",
        "\n",
        "        return prompts\n",
        "\n",
        "    def few_shot_experiment(\n",
        "            self,\n",
        "            name: str,\n",
        "            model: AutoModelForCausalLM,\n",
        "            tokenizer: AutoTokenizer,\n",
        "            data: pd.DataFrame,\n",
        "            demonstrations: list,\n",
        "            prompt_template: list,\n",
        "            original_labels: list,\n",
        "            models_predictions: pd.DataFrame,\n",
        "            model_metrics: pd.DataFrame,\n",
        "            custom_example_ids: dict = None,\n",
        "            shots: int = 2,\n",
        "            store_model_predictions: bool = False\n",
        "        ) -> None:\n",
        "        \"\"\"\n",
        "        Conducts a few-shot learning experiment using a given model and tokenizer.\n",
        "\n",
        "        Args:\n",
        "            name (str): The name of the model being used.\n",
        "            model (AutoModelForCausalLM): The language model to be used for generating responses.\n",
        "            tokenizer (AutoTokenizer): The tokenizer associated with the language model.\n",
        "            data (pd.DataFrame): A DataFrame containing the input texts.\n",
        "            demonstrations (list): A list of demonstration examples for few-shot learning.\n",
        "            prompt_template (list): A list of prompt templates to be used for generating prompts.\n",
        "            original_labels (list): The original labels for the data.\n",
        "            models_predictions (pd.DataFrame): DataFrame to store the model's predictions.\n",
        "            model_metrics (pd.DataFrame): DataFrame to store the model's performance metrics.\n",
        "            custom_example_ids (dict, optional): A dictionary of custom example IDs to include in the few-shot demonstrations. This will be used later to check specific examples manually or by passing top demonstration examples according to a ranking criterion. Defaults to None.\n",
        "            shots (int, optional): The number of shots (examples per class) to use for few-shot learning. Defaults to 2.\n",
        "            store_model_predictions (bool, optional): Whether to store the model's predictions. Defaults to False.\n",
        "\n",
        "        Returns:\n",
        "            None\n",
        "        \"\"\"\n",
        "        # Build few-shot demonstrations\n",
        "        few_shot_demonstrations = self.build_few_shot_demonstrations(demonstrations, num_per_class=shots, custom_example_ids=custom_example_ids)\n",
        "        # Prepare few-shot prompts\n",
        "        prompts_few_shot = self.prepare_prompts_few_shot(texts=data['text'], demonstrations=few_shot_demonstrations, prompt_template=prompt_template, tokenizer=tokenizer)\n",
        "\n",
        "        # Print few-shot prompt example\n",
        "        print('Example of few-shot prompt')\n",
        "        print(tokenizer.decode(prompts_few_shot[0].input_ids[0]))\n",
        "        print('-' * 100)\n",
        "\n",
        "        # Inference\n",
        "        print('Inference:')\n",
        "        # Generate responses\n",
        "        answers = self.generate_responses(model=model, tokenizer=tokenizer, prompt_examples=prompts_few_shot)\n",
        "\n",
        "        # Store model predictions\n",
        "        if store_model_predictions:\n",
        "            batch_predictions = [self.process_response(response=item, tokenizer=tokenizer) for item in answers]\n",
        "            generated_answers = [self.get_generated_response(response=item, tokenizer=tokenizer) for item in answers]\n",
        "            models_predictions[f'{name}_labels'] = batch_predictions\n",
        "            models_predictions[f'{name}_answers'] = generated_answers\n",
        "\n",
        "        # Compute metrics\n",
        "        metrics = self.compute_metrics(responses=answers, y_true=original_labels, tokenizer=tokenizer)\n",
        "        print('\\n')\n",
        "\n",
        "        # Store model metrics\n",
        "        model_metrics.loc[len(model_metrics)] = {'model': name, 'accuracy': metrics['accuracy'], 'fail_ratio': metrics['fail_ratio']}\n",
        "\n",
        "        # Print model metrics\n",
        "        print(f'Model: {name}\\tMetrics: {metrics}')\n"
      ],
      "metadata": {
        "trusted": true,
        "execution": {
          "iopub.status.busy": "2024-12-28T20:04:58.872565Z",
          "iopub.execute_input": "2024-12-28T20:04:58.872886Z",
          "iopub.status.idle": "2024-12-28T20:04:58.896816Z",
          "shell.execute_reply.started": "2024-12-28T20:04:58.872857Z",
          "shell.execute_reply": "2024-12-28T20:04:58.896035Z"
        },
        "id": "cdIbuDKOlfFH"
      },
      "outputs": [],
      "execution_count": 4
    },
    {
      "cell_type": "markdown",
      "source": [
        "First we will define the class for the dataset and then we will load the data"
      ],
      "metadata": {
        "id": "Pg4BFphulfFI"
      }
    },
    {
      "cell_type": "code",
      "source": [
        "detector = SexismDetector()"
      ],
      "metadata": {
        "trusted": true,
        "execution": {
          "iopub.status.busy": "2024-12-28T20:05:04.679782Z",
          "iopub.execute_input": "2024-12-28T20:05:04.680173Z",
          "iopub.status.idle": "2024-12-28T20:05:04.902331Z",
          "shell.execute_reply.started": "2024-12-28T20:05:04.680130Z",
          "shell.execute_reply": "2024-12-28T20:05:04.901361Z"
        },
        "id": "jMD9BpkrlfFJ",
        "outputId": "f9880868-18a6-4508-938b-2fd15cc6386d",
        "colab": {
          "base_uri": "https://localhost:8080/"
        }
      },
      "outputs": [
        {
          "output_type": "stream",
          "name": "stdout",
          "text": [
            "Created folder data.\n"
          ]
        }
      ],
      "execution_count": 5
    },
    {
      "cell_type": "markdown",
      "source": [
        "Here we will load the test data given the URL of the file and encode it into a pandas DataFrame.\n",
        "\n",
        "The function will return the DataFrame as defined below.\n",
        "\n",
        "```python\n",
        "def download_corpus(self, url: str) -> pd.DataFrame:\n",
        "    \"\"\"\n",
        "    Downloads a corpus from the given URL and saves it as a CSV file in the data folder.\n",
        "    Args:\n",
        "        url (str): The URL of the corpus to download.\n",
        "    Returns:\n",
        "        pd.DataFrame: A DataFrame containing the contents of the downloaded CSV file.\n",
        "    Raises:\n",
        "        requests.exceptions.RequestException: If there is an issue with the HTTP request.\n",
        "    \"\"\"\n",
        "    filename = url.split(\"/\")[-1]\n",
        "    if not (self.DATA_FOLDER / filename).exists():\n",
        "        print(f\"Created folder {self.DATA_FOLDER}.\")\n",
        "\n",
        "    response = requests.get(url)\n",
        "    response.raise_for_status()\n",
        "    with open(self.DATA_FOLDER / filename, 'w', encoding='utf-8') as f:\n",
        "        f.write(response.text)\n",
        "    \n",
        "    return pd.read_csv(self.DATA_FOLDER / filename, encoding='utf-8')\n",
        "```\n",
        "\n",
        "> **Note**: The function is part of the class, but we decided to explicitly define it here for clarity."
      ],
      "metadata": {
        "id": "E1W2gaAWlfFJ"
      }
    },
    {
      "cell_type": "code",
      "source": [
        "path_test = 'https://raw.githubusercontent.com/nlp-unibo/nlp-course-material/refs/heads/main/2024-2025/Assignment%202/data/a2_test.csv'\n",
        "df = detector.download_corpus(url=path_test)"
      ],
      "metadata": {
        "colab": {
          "base_uri": "https://localhost:8080/"
        },
        "id": "vlJz89U4WEQt",
        "outputId": "c29b4d96-8c56-42c3-f5f1-8550d90b0123",
        "trusted": true,
        "execution": {
          "iopub.status.busy": "2024-12-28T20:05:06.237126Z",
          "iopub.execute_input": "2024-12-28T20:05:06.237444Z",
          "iopub.status.idle": "2024-12-28T20:05:06.284884Z",
          "shell.execute_reply.started": "2024-12-28T20:05:06.237415Z",
          "shell.execute_reply": "2024-12-28T20:05:06.284253Z"
        }
      },
      "outputs": [
        {
          "output_type": "stream",
          "name": "stdout",
          "text": [
            "Created folder data.\n"
          ]
        }
      ],
      "execution_count": 6
    },
    {
      "cell_type": "code",
      "source": [
        "df.head()"
      ],
      "metadata": {
        "colab": {
          "base_uri": "https://localhost:8080/",
          "height": 206
        },
        "id": "WDDxbr-CWKwu",
        "outputId": "e8e9ab9b-6396-43c8-8f96-91e3cea3529e",
        "trusted": true,
        "execution": {
          "iopub.status.busy": "2024-12-28T20:05:06.575959Z",
          "iopub.execute_input": "2024-12-28T20:05:06.576245Z",
          "iopub.status.idle": "2024-12-28T20:05:06.591566Z",
          "shell.execute_reply.started": "2024-12-28T20:05:06.576220Z",
          "shell.execute_reply": "2024-12-28T20:05:06.590812Z"
        }
      },
      "outputs": [
        {
          "output_type": "execute_result",
          "data": {
            "text/plain": [
              "                  rewire_id  \\\n",
              "0  sexism2022_english-17133   \n",
              "1  sexism2022_english-14197   \n",
              "2   sexism2022_english-3018   \n",
              "3   sexism2022_english-5301   \n",
              "4  sexism2022_english-17796   \n",
              "\n",
              "                                                text label_sexist  \n",
              "0  The boys must be gaming because there goes the...   not sexist  \n",
              "1  Look at those eyes. Either someone unexpectedl...       sexist  \n",
              "2                  Old man mogs everyone in this sub   not sexist  \n",
              "3  Excellent, I was just looking at another post ...   not sexist  \n",
              "4  So you run back to daddy whenever you need hel...       sexist  "
            ],
            "text/html": [
              "\n",
              "  <div id=\"df-ec503c4c-ae30-4e3b-8ec9-b9590d8bba51\" class=\"colab-df-container\">\n",
              "    <div>\n",
              "<style scoped>\n",
              "    .dataframe tbody tr th:only-of-type {\n",
              "        vertical-align: middle;\n",
              "    }\n",
              "\n",
              "    .dataframe tbody tr th {\n",
              "        vertical-align: top;\n",
              "    }\n",
              "\n",
              "    .dataframe thead th {\n",
              "        text-align: right;\n",
              "    }\n",
              "</style>\n",
              "<table border=\"1\" class=\"dataframe\">\n",
              "  <thead>\n",
              "    <tr style=\"text-align: right;\">\n",
              "      <th></th>\n",
              "      <th>rewire_id</th>\n",
              "      <th>text</th>\n",
              "      <th>label_sexist</th>\n",
              "    </tr>\n",
              "  </thead>\n",
              "  <tbody>\n",
              "    <tr>\n",
              "      <th>0</th>\n",
              "      <td>sexism2022_english-17133</td>\n",
              "      <td>The boys must be gaming because there goes the...</td>\n",
              "      <td>not sexist</td>\n",
              "    </tr>\n",
              "    <tr>\n",
              "      <th>1</th>\n",
              "      <td>sexism2022_english-14197</td>\n",
              "      <td>Look at those eyes. Either someone unexpectedl...</td>\n",
              "      <td>sexist</td>\n",
              "    </tr>\n",
              "    <tr>\n",
              "      <th>2</th>\n",
              "      <td>sexism2022_english-3018</td>\n",
              "      <td>Old man mogs everyone in this sub</td>\n",
              "      <td>not sexist</td>\n",
              "    </tr>\n",
              "    <tr>\n",
              "      <th>3</th>\n",
              "      <td>sexism2022_english-5301</td>\n",
              "      <td>Excellent, I was just looking at another post ...</td>\n",
              "      <td>not sexist</td>\n",
              "    </tr>\n",
              "    <tr>\n",
              "      <th>4</th>\n",
              "      <td>sexism2022_english-17796</td>\n",
              "      <td>So you run back to daddy whenever you need hel...</td>\n",
              "      <td>sexist</td>\n",
              "    </tr>\n",
              "  </tbody>\n",
              "</table>\n",
              "</div>\n",
              "    <div class=\"colab-df-buttons\">\n",
              "\n",
              "  <div class=\"colab-df-container\">\n",
              "    <button class=\"colab-df-convert\" onclick=\"convertToInteractive('df-ec503c4c-ae30-4e3b-8ec9-b9590d8bba51')\"\n",
              "            title=\"Convert this dataframe to an interactive table.\"\n",
              "            style=\"display:none;\">\n",
              "\n",
              "  <svg xmlns=\"http://www.w3.org/2000/svg\" height=\"24px\" viewBox=\"0 -960 960 960\">\n",
              "    <path d=\"M120-120v-720h720v720H120Zm60-500h600v-160H180v160Zm220 220h160v-160H400v160Zm0 220h160v-160H400v160ZM180-400h160v-160H180v160Zm440 0h160v-160H620v160ZM180-180h160v-160H180v160Zm440 0h160v-160H620v160Z\"/>\n",
              "  </svg>\n",
              "    </button>\n",
              "\n",
              "  <style>\n",
              "    .colab-df-container {\n",
              "      display:flex;\n",
              "      gap: 12px;\n",
              "    }\n",
              "\n",
              "    .colab-df-convert {\n",
              "      background-color: #E8F0FE;\n",
              "      border: none;\n",
              "      border-radius: 50%;\n",
              "      cursor: pointer;\n",
              "      display: none;\n",
              "      fill: #1967D2;\n",
              "      height: 32px;\n",
              "      padding: 0 0 0 0;\n",
              "      width: 32px;\n",
              "    }\n",
              "\n",
              "    .colab-df-convert:hover {\n",
              "      background-color: #E2EBFA;\n",
              "      box-shadow: 0px 1px 2px rgba(60, 64, 67, 0.3), 0px 1px 3px 1px rgba(60, 64, 67, 0.15);\n",
              "      fill: #174EA6;\n",
              "    }\n",
              "\n",
              "    .colab-df-buttons div {\n",
              "      margin-bottom: 4px;\n",
              "    }\n",
              "\n",
              "    [theme=dark] .colab-df-convert {\n",
              "      background-color: #3B4455;\n",
              "      fill: #D2E3FC;\n",
              "    }\n",
              "\n",
              "    [theme=dark] .colab-df-convert:hover {\n",
              "      background-color: #434B5C;\n",
              "      box-shadow: 0px 1px 3px 1px rgba(0, 0, 0, 0.15);\n",
              "      filter: drop-shadow(0px 1px 2px rgba(0, 0, 0, 0.3));\n",
              "      fill: #FFFFFF;\n",
              "    }\n",
              "  </style>\n",
              "\n",
              "    <script>\n",
              "      const buttonEl =\n",
              "        document.querySelector('#df-ec503c4c-ae30-4e3b-8ec9-b9590d8bba51 button.colab-df-convert');\n",
              "      buttonEl.style.display =\n",
              "        google.colab.kernel.accessAllowed ? 'block' : 'none';\n",
              "\n",
              "      async function convertToInteractive(key) {\n",
              "        const element = document.querySelector('#df-ec503c4c-ae30-4e3b-8ec9-b9590d8bba51');\n",
              "        const dataTable =\n",
              "          await google.colab.kernel.invokeFunction('convertToInteractive',\n",
              "                                                    [key], {});\n",
              "        if (!dataTable) return;\n",
              "\n",
              "        const docLinkHtml = 'Like what you see? Visit the ' +\n",
              "          '<a target=\"_blank\" href=https://colab.research.google.com/notebooks/data_table.ipynb>data table notebook</a>'\n",
              "          + ' to learn more about interactive tables.';\n",
              "        element.innerHTML = '';\n",
              "        dataTable['output_type'] = 'display_data';\n",
              "        await google.colab.output.renderOutput(dataTable, element);\n",
              "        const docLink = document.createElement('div');\n",
              "        docLink.innerHTML = docLinkHtml;\n",
              "        element.appendChild(docLink);\n",
              "      }\n",
              "    </script>\n",
              "  </div>\n",
              "\n",
              "\n",
              "<div id=\"df-8024a299-de54-4b67-aff8-d5d7d29cf360\">\n",
              "  <button class=\"colab-df-quickchart\" onclick=\"quickchart('df-8024a299-de54-4b67-aff8-d5d7d29cf360')\"\n",
              "            title=\"Suggest charts\"\n",
              "            style=\"display:none;\">\n",
              "\n",
              "<svg xmlns=\"http://www.w3.org/2000/svg\" height=\"24px\"viewBox=\"0 0 24 24\"\n",
              "     width=\"24px\">\n",
              "    <g>\n",
              "        <path d=\"M19 3H5c-1.1 0-2 .9-2 2v14c0 1.1.9 2 2 2h14c1.1 0 2-.9 2-2V5c0-1.1-.9-2-2-2zM9 17H7v-7h2v7zm4 0h-2V7h2v10zm4 0h-2v-4h2v4z\"/>\n",
              "    </g>\n",
              "</svg>\n",
              "  </button>\n",
              "\n",
              "<style>\n",
              "  .colab-df-quickchart {\n",
              "      --bg-color: #E8F0FE;\n",
              "      --fill-color: #1967D2;\n",
              "      --hover-bg-color: #E2EBFA;\n",
              "      --hover-fill-color: #174EA6;\n",
              "      --disabled-fill-color: #AAA;\n",
              "      --disabled-bg-color: #DDD;\n",
              "  }\n",
              "\n",
              "  [theme=dark] .colab-df-quickchart {\n",
              "      --bg-color: #3B4455;\n",
              "      --fill-color: #D2E3FC;\n",
              "      --hover-bg-color: #434B5C;\n",
              "      --hover-fill-color: #FFFFFF;\n",
              "      --disabled-bg-color: #3B4455;\n",
              "      --disabled-fill-color: #666;\n",
              "  }\n",
              "\n",
              "  .colab-df-quickchart {\n",
              "    background-color: var(--bg-color);\n",
              "    border: none;\n",
              "    border-radius: 50%;\n",
              "    cursor: pointer;\n",
              "    display: none;\n",
              "    fill: var(--fill-color);\n",
              "    height: 32px;\n",
              "    padding: 0;\n",
              "    width: 32px;\n",
              "  }\n",
              "\n",
              "  .colab-df-quickchart:hover {\n",
              "    background-color: var(--hover-bg-color);\n",
              "    box-shadow: 0 1px 2px rgba(60, 64, 67, 0.3), 0 1px 3px 1px rgba(60, 64, 67, 0.15);\n",
              "    fill: var(--button-hover-fill-color);\n",
              "  }\n",
              "\n",
              "  .colab-df-quickchart-complete:disabled,\n",
              "  .colab-df-quickchart-complete:disabled:hover {\n",
              "    background-color: var(--disabled-bg-color);\n",
              "    fill: var(--disabled-fill-color);\n",
              "    box-shadow: none;\n",
              "  }\n",
              "\n",
              "  .colab-df-spinner {\n",
              "    border: 2px solid var(--fill-color);\n",
              "    border-color: transparent;\n",
              "    border-bottom-color: var(--fill-color);\n",
              "    animation:\n",
              "      spin 1s steps(1) infinite;\n",
              "  }\n",
              "\n",
              "  @keyframes spin {\n",
              "    0% {\n",
              "      border-color: transparent;\n",
              "      border-bottom-color: var(--fill-color);\n",
              "      border-left-color: var(--fill-color);\n",
              "    }\n",
              "    20% {\n",
              "      border-color: transparent;\n",
              "      border-left-color: var(--fill-color);\n",
              "      border-top-color: var(--fill-color);\n",
              "    }\n",
              "    30% {\n",
              "      border-color: transparent;\n",
              "      border-left-color: var(--fill-color);\n",
              "      border-top-color: var(--fill-color);\n",
              "      border-right-color: var(--fill-color);\n",
              "    }\n",
              "    40% {\n",
              "      border-color: transparent;\n",
              "      border-right-color: var(--fill-color);\n",
              "      border-top-color: var(--fill-color);\n",
              "    }\n",
              "    60% {\n",
              "      border-color: transparent;\n",
              "      border-right-color: var(--fill-color);\n",
              "    }\n",
              "    80% {\n",
              "      border-color: transparent;\n",
              "      border-right-color: var(--fill-color);\n",
              "      border-bottom-color: var(--fill-color);\n",
              "    }\n",
              "    90% {\n",
              "      border-color: transparent;\n",
              "      border-bottom-color: var(--fill-color);\n",
              "    }\n",
              "  }\n",
              "</style>\n",
              "\n",
              "  <script>\n",
              "    async function quickchart(key) {\n",
              "      const quickchartButtonEl =\n",
              "        document.querySelector('#' + key + ' button');\n",
              "      quickchartButtonEl.disabled = true;  // To prevent multiple clicks.\n",
              "      quickchartButtonEl.classList.add('colab-df-spinner');\n",
              "      try {\n",
              "        const charts = await google.colab.kernel.invokeFunction(\n",
              "            'suggestCharts', [key], {});\n",
              "      } catch (error) {\n",
              "        console.error('Error during call to suggestCharts:', error);\n",
              "      }\n",
              "      quickchartButtonEl.classList.remove('colab-df-spinner');\n",
              "      quickchartButtonEl.classList.add('colab-df-quickchart-complete');\n",
              "    }\n",
              "    (() => {\n",
              "      let quickchartButtonEl =\n",
              "        document.querySelector('#df-8024a299-de54-4b67-aff8-d5d7d29cf360 button');\n",
              "      quickchartButtonEl.style.display =\n",
              "        google.colab.kernel.accessAllowed ? 'block' : 'none';\n",
              "    })();\n",
              "  </script>\n",
              "</div>\n",
              "\n",
              "    </div>\n",
              "  </div>\n"
            ],
            "application/vnd.google.colaboratory.intrinsic+json": {
              "type": "dataframe",
              "variable_name": "df",
              "summary": "{\n  \"name\": \"df\",\n  \"rows\": 300,\n  \"fields\": [\n    {\n      \"column\": \"rewire_id\",\n      \"properties\": {\n        \"dtype\": \"string\",\n        \"num_unique_values\": 300,\n        \"samples\": [\n          \"sexism2022_english-7642\",\n          \"sexism2022_english-15192\",\n          \"sexism2022_english-18390\"\n        ],\n        \"semantic_type\": \"\",\n        \"description\": \"\"\n      }\n    },\n    {\n      \"column\": \"text\",\n      \"properties\": {\n        \"dtype\": \"string\",\n        \"num_unique_values\": 300,\n        \"samples\": [\n          \"what do you think about that ? Should i pay her ? Pay whatever she's minimally entitled to legally but kick her ass to the curb.\",\n          \"and whats new about this. a woman can be total garbage, but as long as she is fuckable she gets something.\",\n          \"Full on crotch grab from Biden. Even the baby's mom isn't holding him that way.\"\n        ],\n        \"semantic_type\": \"\",\n        \"description\": \"\"\n      }\n    },\n    {\n      \"column\": \"label_sexist\",\n      \"properties\": {\n        \"dtype\": \"category\",\n        \"num_unique_values\": 2,\n        \"samples\": [\n          \"sexist\",\n          \"not sexist\"\n        ],\n        \"semantic_type\": \"\",\n        \"description\": \"\"\n      }\n    }\n  ]\n}"
            }
          },
          "metadata": {},
          "execution_count": 7
        }
      ],
      "execution_count": 7
    },
    {
      "cell_type": "markdown",
      "source": [
        "# Model 1 - Mistral V3 7B\n",
        "As first model we are gonna analyze the performance of Mistral V3"
      ],
      "metadata": {
        "id": "_cXaP301XYFo"
      }
    },
    {
      "cell_type": "markdown",
      "source": [
        "## Task 1 - Model setup\n",
        "\n",
        "Once the test data has been loaded, we have to setup the model pipeline for inference.\n",
        "\n",
        "In particular, we have to:\n",
        "- Load the model weights from Huggingface\n",
        "- Quantize the model to fit into a single-GPU limited hardware\n"
      ],
      "metadata": {
        "id": "HJp08l4yLJnd"
      }
    },
    {
      "cell_type": "markdown",
      "source": [
        "We defined a function which given the model card and the quantization type, loads the model and the tokenizer so that we can use them for the inference.\n",
        "\n",
        "The following function is used to load the model and the tokenizer.\n",
        "\n",
        "```python\n",
        "def load_model(self, model_card: str, with_4_bit: bool = True) -> tuple:\n",
        "    \"\"\"\n",
        "    Loads a pre-trained model and its tokenizer with optional 4-bit quantization.\n",
        "\n",
        "    Args:\n",
        "        model_card (str): The identifier of the pre-trained model to load.\n",
        "        with_4_bit (bool, optional): If True, loads the model with 4-bit quantization.\n",
        "                                        If False, loads the model with 8-bit quantization.\n",
        "                                        Defaults to True.\n",
        "\n",
        "    Returns:\n",
        "        tuple: A tuple containing the loaded model and tokenizer.\n",
        "    \"\"\"\n",
        "    # Clear cache\n",
        "    self.clear_cache()\n",
        "\n",
        "    # Setup the quantization config\n",
        "    if not with_4_bit:\n",
        "        quantization_config = BitsAndBytesConfig(\n",
        "            load_in_8bit=True\n",
        "        )\n",
        "    else:\n",
        "        quantization_config = BitsAndBytesConfig(\n",
        "            load_in_4bit=True,\n",
        "            bnb_4bit_use_double_quant=True,\n",
        "            bnb_4bit_quant_type=\"nf4\",\n",
        "            bnb_4bit_compute_dtype=torch.bfloat16\n",
        "        )\n",
        "    # Load tokenizer\n",
        "    tokenizer = AutoTokenizer.from_pretrained(model_card)\n",
        "    # Load the model\n",
        "    model = AutoModelForCausalLM.from_pretrained(model_card, quantization_config=quantization_config)\n",
        "    # Set the model to evaluation (inference) mode\n",
        "    model.eval()\n",
        "\n",
        "    return model, tokenizer\n",
        "```\n",
        "\n",
        ">**Note**: The default quantization is set to 4-bit to allow the model to fit into a single GPU (RTX 3080) with 10GB of memory."
      ],
      "metadata": {
        "id": "yKR7cV1zlfFL"
      }
    },
    {
      "cell_type": "markdown",
      "source": [
        "Now we can define the model card and load the model and the tokenizer"
      ],
      "metadata": {
        "id": "uH4pTdCwlfFL"
      }
    },
    {
      "cell_type": "code",
      "source": [
        "model_card = 'mistralai/Mistral-7B-Instruct-v0.3'\n",
        "model, tokenizer = detector.load_model(model_card, with_4_bit=False)\n",
        "\n",
        "device = model.device\n",
        "print(f'Model loaded on {device}')"
      ],
      "metadata": {
        "colab": {
          "base_uri": "https://localhost:8080/",
          "height": 540,
          "referenced_widgets": [
            "e7e02bcdc58c4f3ab657899598039db2",
            "3e73fb6444fe4c37a84e8d8a3166d81f",
            "707bbc12cdf34926a7d6c004a90fddb2",
            "f249ae54f3b2494d9c42655c0865e43c",
            "d14c60256ed349408bbea3fd8627099a",
            "9922cee19aea466e8d35ae2bb12c5704",
            "b5d7268e12f24b52a9c78fb67aa91bb2",
            "01a966d833764428beb9eb27ca9e66ac",
            "4749732f61bc4e9187ff9b73ed1ac326",
            "b51abf5140b14f868360d1f369443205",
            "53e5631f7fe840e5a8cb6b866128e289",
            "bb8066b897c34a08a7e598f1ff415581",
            "33fe0340c8444e66baa57791e5b78b7c",
            "6405bd33d63a4d01874ba4c9e0d80334",
            "e55cbf7058034c77aa3732114a3062bc",
            "4b576ac2b32b47569d1d2f657a1faddf",
            "29011283fb684c92b1514af8ecfed00d",
            "679dad99050f4752894873f340cb28ec",
            "378cab34ebc84d19b5d1bc2a5b821b81",
            "0cdd166cdab34680bf4073de7ab66734",
            "58a5ddce0c2f4e15a0f5c96bd54bc582",
            "ad18037f907c45c0b06d01c321ec9ac3",
            "cfffe93c1c21468fae715a221ca621c6",
            "99c07023bc5e4fd4b3e9239a01c47ef8",
            "fc786a345cf84842a3bf45a892fe0472",
            "83919ed633074a41b10cb19b437a1cf6",
            "03706daf585e4925b4b8ff3cdea8da4b",
            "070bc0be124b425383339e1e1e4345a3",
            "c4e2938c32b447c4bd001bf08463cfc0",
            "a6e94766f4444e1db218779be8d644d3",
            "98e2609c40734c02844521ed7aa913da",
            "8a4f975cd13841959d7f86954290e410",
            "566f69e1aaad4befa54bde823530dd79",
            "45e5574034df4a78a02e011f27afaea7",
            "fbbca39e31e14a928d7dbaceb853094c",
            "46a80def55984e998ec8d25942937e65",
            "10e1689b054f4045a27262d695fa6970",
            "4f00afd02d8e4f92b6c57fa4b07d4d5d",
            "a13162d1ad2a4b08be7049ee1c769815",
            "139343a7a50c4157b6ee591fe2989dc1",
            "6a085448595148e2852b6b29f6e33d74",
            "2c101e3822164cb5819db2d5b8d53c28",
            "f33bfb43e73b42e49f58ab212d5968af",
            "1fd6d85a0f8f4be5936650333629c87d",
            "9082afc9336f45c09e8c9f558386dfb8",
            "326fbebbf7a04fc185ca8e60f8102f08",
            "23d525aeaa9346758a9a6f30e3ac36c8",
            "3ae253a883ea434b876678caba0e422f",
            "7fbf7300e0b04706aa7e7174a7932e5d",
            "87326148b4e448e8833b7ef49160f5d6",
            "7f097d11ba024ed78304aa75c9fec82e",
            "a4d09a4ddcfa404685b4262b46535e44",
            "d2fbd239a5694809ade9f572317a9d5c",
            "6e31371665be4ebba2a9a4fc6ad20988",
            "13499f7313134e7ca62a532fedc63935",
            "2e3ec463febf4247a46713cc0e541dbc",
            "7c90816ffb284abb9e06338ef503a388",
            "a3044c90edc1439c975d781db74d34ce",
            "5924a914d5d4402b9d16abaa65d79122",
            "4cd9b0a4a06948bb9061a8e13c4e2b36",
            "9d361d076dd34acfbe8bbfd090557784",
            "d6dc5923c5d1460aa5b7942d1dbe3b30",
            "9645f62f81e54311bf28dca6e326fc85",
            "af134f8efc514910b31959193380477a",
            "67fe55893d3d42acb4a0834886779e8a",
            "7cfb55d2c8e3461bb6ab3c506586d40f",
            "e6f316d2166f43ed8866674316a2f180",
            "136c81e4f9ac47dd9977393eb2bd3f48",
            "02db4ca1d06240e3a8464de7583e50d0",
            "fa88becfa81c426aaef4d213a8934c70",
            "e52242c71523404bbba94c882f03f38e",
            "ff1b1bed15ca4f19bdbe515c90315b0f",
            "93545824c8d344e1ab999608079211b1",
            "7d431770b8e742d097eacabaaf021612",
            "74c1ad5ae6a646eab554f9df2e831f5d",
            "f857c50ac5c844cc89cbecf7d34d3a30",
            "38ef02aef23f465082823c1c3a55892d",
            "1c2202f66d9f43718eb6f06fad444ed4",
            "793a7c6c811f437083fa8966506c59d6",
            "a88fa8d92a7e4985a16056568751c96f",
            "c17106b93e6d405bb59ab7501ca278cf",
            "33ddabd699d24a5e8f1280da3b6c9ae0",
            "5f0d7e2219394a65acd584d2da7be07c",
            "40eaf3df6eeb4c27a00d05aa0b0cb8e9",
            "4af40d2cb18342378b31634d7b4f6c44",
            "d239d39e287e4e029456c429d4e4830b",
            "c54ed8a8467642fc88b4761f17827eca",
            "631af03304b7489d914cbf92179e3589",
            "eed0579f667a41d3bc42e025e3611f1f",
            "cc8ebb87f20d41c3aa2c6586300e26a4",
            "d18296a6e2d241b6b6add26b66b4aed2",
            "65e2b468d6d34adfbd3e8a766ae33a93",
            "37b9d27c191c4b3da761602e76f8357c",
            "c38dbfc357204d7fb9d39b20d0a7f31b",
            "ddf4597c344c496ea14b590c975fd5e5",
            "645cdf9d6e3c42efa529f422b9104e1b",
            "ec612d375113460b9672dbd4ee4232a8",
            "ba3723bd7a61465082c5e855307fe864",
            "2d00ddd632274ce287a9f496f8240a85",
            "eb0bc66a21dd419e8128e8e5c6bd205d",
            "6cec09cbe65a4bac8d76a2419507d4c3",
            "d8727efa45544e369527ad890a0fd0f2",
            "a078a0446362449c912df1ca7d91e2a0",
            "ab9e24119e514ba6b83b6a01774a08ae",
            "f676cb45031c4a6b8763d83e161879a7",
            "532e49cbb43e41d1a90aeea73dab64e4",
            "8acbc26eca184a8a8cee960c70b05ce7",
            "19549c07581f4278bf802be3babda7ea",
            "d2dcefc86aa94809a250702cf1d41dbc",
            "014baa6da7184be38baccde7905ba1ae",
            "6fb1bfea101648abad6443367659b5c9",
            "fee44c9704f14a45a3c54b1b9f81c0d5",
            "d0e9118f6a294629901d1f75fbc9379b",
            "ad141eda52a94c5198d520de981a1882",
            "41885048145548d5898ff07bc70a0c64",
            "f408f27d951c4135a8e89f5e4108174f",
            "9e6c1b6464624743b97745a9f3384a38",
            "f6e458302d9e43cdb49f6902669b3378",
            "1da98c60074e47be8bf1878202f318d6",
            "8f8611ce898b4440a7f5685c9a2110d0",
            "ebabcafabaea4a7c9e78abf250ea888f",
            "95cc2f53b48143a19ee9535c429edcea",
            "906fec0adf4644d5b256c00ee7ff8ed9",
            "5f18d58d903e4acbbb83cdfddfa39d0c",
            "51360958ec1848449cc1e660696cc089",
            "d11d471487d644afa77b8a3eabcc70a7",
            "f797239b31ff47119dbc1478ffb8b1d6",
            "8605f3de15c747e3b8a91418ecfad922",
            "ef5f43fe138643ebb7cf47ec0441b18d",
            "aa29655c8e364403b93fc7843552d593",
            "7a6409687e9a4517befc6dd7f9090be3",
            "4b71317122a44cff801f2124cd8182f4"
          ]
        },
        "id": "U6G3bdIXW-c1",
        "outputId": "444364d1-5584-4f60-b3dd-c092da097752",
        "trusted": true,
        "execution": {
          "iopub.status.busy": "2024-12-28T20:05:10.861019Z",
          "iopub.execute_input": "2024-12-28T20:05:10.861314Z",
          "iopub.status.idle": "2024-12-28T20:11:16.546642Z",
          "shell.execute_reply.started": "2024-12-28T20:05:10.861290Z",
          "shell.execute_reply": "2024-12-28T20:11:16.545966Z"
        }
      },
      "outputs": [
        {
          "output_type": "stream",
          "name": "stderr",
          "text": [
            "/usr/local/lib/python3.10/dist-packages/huggingface_hub/utils/_auth.py:94: UserWarning: \n",
            "The secret `HF_TOKEN` does not exist in your Colab secrets.\n",
            "To authenticate with the Hugging Face Hub, create a token in your settings tab (https://huggingface.co/settings/tokens), set it as secret in your Google Colab and restart your session.\n",
            "You will be able to reuse this secret in all of your notebooks.\n",
            "Please note that authentication is recommended but still optional to access public models or datasets.\n",
            "  warnings.warn(\n"
          ]
        },
        {
          "output_type": "display_data",
          "data": {
            "text/plain": [
              "tokenizer_config.json:   0%|          | 0.00/141k [00:00<?, ?B/s]"
            ],
            "application/vnd.jupyter.widget-view+json": {
              "version_major": 2,
              "version_minor": 0,
              "model_id": "e7e02bcdc58c4f3ab657899598039db2"
            }
          },
          "metadata": {}
        },
        {
          "output_type": "display_data",
          "data": {
            "text/plain": [
              "tokenizer.model:   0%|          | 0.00/587k [00:00<?, ?B/s]"
            ],
            "application/vnd.jupyter.widget-view+json": {
              "version_major": 2,
              "version_minor": 0,
              "model_id": "bb8066b897c34a08a7e598f1ff415581"
            }
          },
          "metadata": {}
        },
        {
          "output_type": "display_data",
          "data": {
            "text/plain": [
              "tokenizer.json:   0%|          | 0.00/1.96M [00:00<?, ?B/s]"
            ],
            "application/vnd.jupyter.widget-view+json": {
              "version_major": 2,
              "version_minor": 0,
              "model_id": "cfffe93c1c21468fae715a221ca621c6"
            }
          },
          "metadata": {}
        },
        {
          "output_type": "display_data",
          "data": {
            "text/plain": [
              "special_tokens_map.json:   0%|          | 0.00/414 [00:00<?, ?B/s]"
            ],
            "application/vnd.jupyter.widget-view+json": {
              "version_major": 2,
              "version_minor": 0,
              "model_id": "45e5574034df4a78a02e011f27afaea7"
            }
          },
          "metadata": {}
        },
        {
          "output_type": "display_data",
          "data": {
            "text/plain": [
              "config.json:   0%|          | 0.00/601 [00:00<?, ?B/s]"
            ],
            "application/vnd.jupyter.widget-view+json": {
              "version_major": 2,
              "version_minor": 0,
              "model_id": "9082afc9336f45c09e8c9f558386dfb8"
            }
          },
          "metadata": {}
        },
        {
          "output_type": "stream",
          "name": "stderr",
          "text": [
            "`low_cpu_mem_usage` was None, now default to True since model is quantized.\n"
          ]
        },
        {
          "output_type": "display_data",
          "data": {
            "text/plain": [
              "model.safetensors.index.json:   0%|          | 0.00/23.9k [00:00<?, ?B/s]"
            ],
            "application/vnd.jupyter.widget-view+json": {
              "version_major": 2,
              "version_minor": 0,
              "model_id": "2e3ec463febf4247a46713cc0e541dbc"
            }
          },
          "metadata": {}
        },
        {
          "output_type": "display_data",
          "data": {
            "text/plain": [
              "Downloading shards:   0%|          | 0/3 [00:00<?, ?it/s]"
            ],
            "application/vnd.jupyter.widget-view+json": {
              "version_major": 2,
              "version_minor": 0,
              "model_id": "e6f316d2166f43ed8866674316a2f180"
            }
          },
          "metadata": {}
        },
        {
          "output_type": "display_data",
          "data": {
            "text/plain": [
              "model-00001-of-00003.safetensors:   0%|          | 0.00/4.95G [00:00<?, ?B/s]"
            ],
            "application/vnd.jupyter.widget-view+json": {
              "version_major": 2,
              "version_minor": 0,
              "model_id": "1c2202f66d9f43718eb6f06fad444ed4"
            }
          },
          "metadata": {}
        },
        {
          "output_type": "display_data",
          "data": {
            "text/plain": [
              "model-00002-of-00003.safetensors:   0%|          | 0.00/5.00G [00:00<?, ?B/s]"
            ],
            "application/vnd.jupyter.widget-view+json": {
              "version_major": 2,
              "version_minor": 0,
              "model_id": "eed0579f667a41d3bc42e025e3611f1f"
            }
          },
          "metadata": {}
        },
        {
          "output_type": "display_data",
          "data": {
            "text/plain": [
              "model-00003-of-00003.safetensors:   0%|          | 0.00/4.55G [00:00<?, ?B/s]"
            ],
            "application/vnd.jupyter.widget-view+json": {
              "version_major": 2,
              "version_minor": 0,
              "model_id": "eb0bc66a21dd419e8128e8e5c6bd205d"
            }
          },
          "metadata": {}
        },
        {
          "output_type": "display_data",
          "data": {
            "text/plain": [
              "Loading checkpoint shards:   0%|          | 0/3 [00:00<?, ?it/s]"
            ],
            "application/vnd.jupyter.widget-view+json": {
              "version_major": 2,
              "version_minor": 0,
              "model_id": "6fb1bfea101648abad6443367659b5c9"
            }
          },
          "metadata": {}
        },
        {
          "output_type": "display_data",
          "data": {
            "text/plain": [
              "generation_config.json:   0%|          | 0.00/116 [00:00<?, ?B/s]"
            ],
            "application/vnd.jupyter.widget-view+json": {
              "version_major": 2,
              "version_minor": 0,
              "model_id": "95cc2f53b48143a19ee9535c429edcea"
            }
          },
          "metadata": {}
        },
        {
          "output_type": "stream",
          "name": "stdout",
          "text": [
            "Model loaded on cuda:0\n"
          ]
        }
      ],
      "execution_count": 8
    },
    {
      "cell_type": "markdown",
      "source": [
        "## Task 2 - Prompt setup\n",
        "\n",
        "Prompting requires an input pre-processing phase where we convert each input example into a specific instruction prompt.\n"
      ],
      "metadata": {
        "id": "TzNNzb1VLJnd"
      }
    },
    {
      "cell_type": "markdown",
      "source": [
        "**Prompt Template**\n",
        "\n",
        "Use the following prompt template to process input texts."
      ],
      "metadata": {
        "id": "9GaBtKXomY_m"
      }
    },
    {
      "cell_type": "code",
      "source": [
        "prompt = [\n",
        "    {\n",
        "        'role': 'system',\n",
        "        'content': 'You are an annotator for sexism detection.'\n",
        "    },\n",
        "    {\n",
        "        'role': 'user',\n",
        "        'content': \"\"\"Your task is to classify input text as containing sexism or not. Respond only YES or NO.\n",
        "\n",
        "        TEXT:\n",
        "        {text}\n",
        "\n",
        "        ANSWER:\n",
        "        \"\"\"\n",
        "    }\n",
        "]"
      ],
      "metadata": {
        "id": "7e8P-Kk8me6q",
        "trusted": true,
        "execution": {
          "iopub.status.busy": "2024-12-28T20:11:25.387105Z",
          "iopub.execute_input": "2024-12-28T20:11:25.387570Z",
          "iopub.status.idle": "2024-12-28T20:11:25.391509Z",
          "shell.execute_reply.started": "2024-12-28T20:11:25.387544Z",
          "shell.execute_reply": "2024-12-28T20:11:25.390506Z"
        }
      },
      "outputs": [],
      "execution_count": 9
    },
    {
      "cell_type": "markdown",
      "source": [
        "**Instructions**\n",
        "\n",
        "In order to get Task 2 points, we require you to:\n",
        "\n",
        "* Write the ``prepare_prompts`` function"
      ],
      "metadata": {
        "id": "VHeoEN7MLJnd"
      }
    },
    {
      "cell_type": "markdown",
      "source": [
        "The function should take a pandas Series of input texts and a prompt template as input and return a list of tokenized prompts ready for generation.\n",
        "\n",
        "The following function is our implementation of the prepare_prompts function\n",
        "\n",
        "```python\n",
        "def prepare_prompts(self, texts: pd.Series, prompt_template: list, tokenizer: AutoTokenizer) -> list:\n",
        "    \"\"\"\n",
        "    Prepares prompts by applying a chat template to a series of input texts.\n",
        "\n",
        "    Args:\n",
        "        texts (pd.Series): A pandas Series containing the input texts.\n",
        "        prompt_template (list): A list representing the prompt template with placeholders.\n",
        "        tokenizer (AutoTokenizer): An instance of the AutoTokenizer used to tokenize the prompts.\n",
        "\n",
        "    Returns:\n",
        "        list: A list of tokenized prompts ready for generation.\n",
        "    \"\"\"\n",
        "    # Store the prompts\n",
        "    prompts = []\n",
        "    # Iterate over the input texts\n",
        "    for text in texts:\n",
        "\n",
        "        # Create a deepcopy of the prompt template\n",
        "        prompt_with_text = deepcopy(prompt_template)\n",
        "\n",
        "        # Replace the placeholder with the input text\n",
        "        prompt_with_text[1]['content'] = prompt_with_text[1]['content'].replace('{text}', text)\n",
        "\n",
        "        # Apply the chat template to the input text\n",
        "        full_prompt = tokenizer.apply_chat_template(\n",
        "            prompt_with_text,\n",
        "            tokenize=True,\n",
        "            add_generation_prompt=True,\n",
        "            return_dict=True,\n",
        "            return_tensors=\"pt\")\n",
        "        # Move the full prompt to the device\n",
        "        full_prompt = full_prompt.to(self.device)\n",
        "        # Append the full prompt to the list of prompts\n",
        "        prompts.append(full_prompt)\n",
        "\n",
        "    return prompts\n",
        "```"
      ],
      "metadata": {
        "id": "6YIf7GxglfFN"
      }
    },
    {
      "cell_type": "markdown",
      "source": [
        "Now we can apply the function to the test dataset and print one of the prompts to check if it is correct"
      ],
      "metadata": {
        "id": "TiDAgicGlfFN"
      }
    },
    {
      "cell_type": "code",
      "source": [
        "prompts = detector.prepare_prompts(texts=df['text'], prompt_template=prompt, tokenizer=tokenizer)\n",
        "\n",
        "print(f\"Prompt example: \\n{tokenizer.decode(prompts[0].input_ids[0], skip_special_tokens=True)}\")"
      ],
      "metadata": {
        "colab": {
          "base_uri": "https://localhost:8080/"
        },
        "id": "c_aGPnEimS92",
        "outputId": "4cd90abb-8aa3-483d-83c9-f1d36de259cd",
        "trusted": true,
        "execution": {
          "iopub.status.busy": "2024-12-28T20:11:27.991517Z",
          "iopub.execute_input": "2024-12-28T20:11:27.991926Z",
          "iopub.status.idle": "2024-12-28T20:11:28.264547Z",
          "shell.execute_reply.started": "2024-12-28T20:11:27.991872Z",
          "shell.execute_reply": "2024-12-28T20:11:28.263744Z"
        }
      },
      "outputs": [
        {
          "output_type": "stream",
          "name": "stdout",
          "text": [
            "Prompt example: \n",
            "You are an annotator for sexism detection.\n",
            "\n",
            "Your task is to classify input text as containing sexism or not. Respond only YES or NO.\n",
            "\n",
            "        TEXT:\n",
            "        The boys must be gaming because there goes the wifi.\n",
            "\n",
            "        ANSWER:\n",
            "        \n"
          ]
        }
      ],
      "execution_count": 10
    },
    {
      "cell_type": "markdown",
      "source": [
        "## Task 3 - Inference\n",
        "\n",
        "We are now ready to define the inference loop where we prompt the model with each pre-processed sample."
      ],
      "metadata": {
        "id": "lgBhkBwuLJnd"
      }
    },
    {
      "cell_type": "markdown",
      "source": [
        "**Instructions**\n",
        "\n",
        "In order to get Task 3 points, we require you to:\n",
        "\n",
        "* Write a ``generate_responses`` function as the one reported below.\n",
        "* Write a ``process_response`` function as the one reported below."
      ],
      "metadata": {
        "id": "7WsrQSvcLJnd"
      }
    },
    {
      "cell_type": "markdown",
      "source": [
        "First we will define the generate_responses function which given the model, the tokenizer, the prompt examples and the maximum number of tokens to generate, generates the responses for each prompt example.\n",
        "\n",
        "In particular, we will use the following function to generate the responses\n",
        "\n",
        "```python\n",
        "def generate_responses(self, model: AutoModelForCausalLM, tokenizer: AutoTokenizer, prompt_examples: list, max_new_tokens: int = 1000) -> list:\n",
        "    \"\"\"\n",
        "    Generates responses for a list of prompt examples using a specified language model and tokenizer.\n",
        "\n",
        "    Args:\n",
        "        model (AutoModelForCausalLM): The language model to use for generating responses.\n",
        "        tokenizer (AutoTokenizer): The tokenizer associated with the language model.\n",
        "        prompt_examples (list): A list of prompt examples to generate responses for.\n",
        "        max_new_tokens (int, optional): The maximum number of new tokens to generate for each prompt. Defaults to 1000.\n",
        "\n",
        "    Returns:\n",
        "        list: A list of generated responses corresponding to each prompt example.\n",
        "    \"\"\"\n",
        "    answers = []\n",
        "    for prompt in tqdm(prompt_examples):\n",
        "        response = model.generate(**prompt, max_new_tokens=1000, pad_token_id=tokenizer.eos_token_id)\n",
        "        answers.append(response)\n",
        "    return answers\n",
        "```"
      ],
      "metadata": {
        "id": "CyxUadMGlfFN"
      }
    },
    {
      "cell_type": "markdown",
      "source": [
        "We will also define a function to process the response and determine if it contains a positive indication. The function takes the response tensor and the tokenizer as input and returns 1 if the decoded response contains 'YES' after 'ANSWER', otherwise returns 0.\n",
        "\n",
        "```python\n",
        "def process_response(self, response: torch.Tensor, tokenizer: AutoTokenizer) -> int:\n",
        "    \"\"\"\n",
        "    Processes the response tensor and determines if it contains a positive indication.\n",
        "\n",
        "    Args:\n",
        "        response (torch.Tensor): The tensor containing the response from the model.\n",
        "        tokenizer (AutoTokenizer): The tokenizer used to decode the response tensor.\n",
        "\n",
        "    Returns:\n",
        "        int: Returns 1 if the decoded response contains 'YES' after 'ANSWER', otherwise returns 0.\n",
        "    \"\"\"\n",
        "    response_text = tokenizer.decode(response[0])\n",
        "    if 'YES' in response_text.split('ANSWER')[-1]:\n",
        "        return 1\n",
        "    else:\n",
        "        return 0\n",
        "```"
      ],
      "metadata": {
        "id": "gPY75_sylfFO"
      }
    },
    {
      "cell_type": "markdown",
      "source": [
        "Now we can generate all the responses for the test dataset and process them to get the predictions"
      ],
      "metadata": {
        "id": "nrWtGBgblfFO"
      }
    },
    {
      "cell_type": "code",
      "source": [
        "answers = detector.generate_responses(model=model, tokenizer=tokenizer, prompt_examples=prompts)"
      ],
      "metadata": {
        "colab": {
          "base_uri": "https://localhost:8080/"
        },
        "id": "Q6PWskXKmS93",
        "outputId": "756c55b8-cfc4-400b-b084-5db0df5cc31f",
        "trusted": true,
        "execution": {
          "iopub.status.busy": "2024-12-28T20:11:31.753279Z",
          "iopub.execute_input": "2024-12-28T20:11:31.753737Z",
          "iopub.status.idle": "2024-12-28T20:15:38.261558Z",
          "shell.execute_reply.started": "2024-12-28T20:11:31.753712Z",
          "shell.execute_reply": "2024-12-28T20:15:38.260805Z"
        }
      },
      "outputs": [
        {
          "output_type": "stream",
          "name": "stderr",
          "text": [
            "100%|██████████| 300/300 [04:08<00:00,  1.21it/s]\n"
          ]
        }
      ],
      "execution_count": 11
    },
    {
      "cell_type": "markdown",
      "source": [
        "The predictions will be computed in a list-comprehension fashion, same applies for the generation of the answers"
      ],
      "metadata": {
        "id": "F_NwPb8OlfFP"
      }
    },
    {
      "cell_type": "code",
      "source": [
        "batch_predictions = [detector.process_response(response=item, tokenizer=tokenizer) for item in answers]\n",
        "generated_answers = [detector.get_generated_response(response=item, tokenizer=tokenizer) for item in answers]"
      ],
      "metadata": {
        "id": "wopoW3-rmS93",
        "trusted": true,
        "execution": {
          "iopub.status.busy": "2024-12-28T20:16:46.115451Z",
          "iopub.execute_input": "2024-12-28T20:16:46.116147Z",
          "iopub.status.idle": "2024-12-28T20:16:46.190909Z",
          "shell.execute_reply.started": "2024-12-28T20:16:46.116110Z",
          "shell.execute_reply": "2024-12-28T20:16:46.190288Z"
        }
      },
      "outputs": [],
      "execution_count": 12
    },
    {
      "cell_type": "markdown",
      "source": [
        "We will also recover the original labels of the test dataset to compute the accuracy of the model later"
      ],
      "metadata": {
        "id": "4u_hs9EglfFP"
      }
    },
    {
      "cell_type": "code",
      "source": [
        "original_labels = [1 if label == 'sexist' else 0 for label in df['label_sexist']]"
      ],
      "metadata": {
        "id": "C56bN3DSpzoh",
        "trusted": true,
        "execution": {
          "iopub.status.busy": "2024-12-28T20:16:48.238175Z",
          "iopub.execute_input": "2024-12-28T20:16:48.238467Z",
          "iopub.status.idle": "2024-12-28T20:16:48.242817Z",
          "shell.execute_reply.started": "2024-12-28T20:16:48.238443Z",
          "shell.execute_reply": "2024-12-28T20:16:48.241894Z"
        }
      },
      "outputs": [],
      "execution_count": 13
    },
    {
      "cell_type": "code",
      "source": [
        "models_predictions = pd.DataFrame({\n",
        "    'text': df['text'],\n",
        "    'original_labels': original_labels,\n",
        "    'mistralv3_zero_shot_labels': batch_predictions,\n",
        "    'mistralv3_zero_shot_answers': generated_answers\n",
        "})"
      ],
      "metadata": {
        "id": "KHDrhy10pY8p",
        "trusted": true,
        "execution": {
          "iopub.status.busy": "2024-12-28T20:16:49.052834Z",
          "iopub.execute_input": "2024-12-28T20:16:49.053150Z",
          "iopub.status.idle": "2024-12-28T20:16:49.067734Z",
          "shell.execute_reply.started": "2024-12-28T20:16:49.053125Z",
          "shell.execute_reply": "2024-12-28T20:16:49.067008Z"
        }
      },
      "outputs": [],
      "execution_count": 14
    },
    {
      "cell_type": "code",
      "source": [
        "models_predictions.head()"
      ],
      "metadata": {
        "colab": {
          "base_uri": "https://localhost:8080/",
          "height": 206
        },
        "id": "rQUxJZULbGto",
        "outputId": "4bcce9c5-007e-4948-bafc-bcc35522315c",
        "trusted": true,
        "execution": {
          "iopub.status.busy": "2024-12-28T20:16:50.039706Z",
          "iopub.execute_input": "2024-12-28T20:16:50.040007Z",
          "iopub.status.idle": "2024-12-28T20:16:50.048461Z",
          "shell.execute_reply.started": "2024-12-28T20:16:50.039983Z",
          "shell.execute_reply": "2024-12-28T20:16:50.047662Z"
        }
      },
      "outputs": [
        {
          "output_type": "execute_result",
          "data": {
            "text/plain": [
              "                                                text  original_labels  \\\n",
              "0  The boys must be gaming because there goes the...                0   \n",
              "1  Look at those eyes. Either someone unexpectedl...                1   \n",
              "2                  Old man mogs everyone in this sub                0   \n",
              "3  Excellent, I was just looking at another post ...                0   \n",
              "4  So you run back to daddy whenever you need hel...                1   \n",
              "\n",
              "   mistralv3_zero_shot_labels mistralv3_zero_shot_answers  \n",
              "0                           1                         YES  \n",
              "1                           1                         YES  \n",
              "2                           0                          NO  \n",
              "3                           1                         YES  \n",
              "4                           1                         YES  "
            ],
            "text/html": [
              "\n",
              "  <div id=\"df-1b5566ff-f64e-4c6c-ad0a-6039971e1598\" class=\"colab-df-container\">\n",
              "    <div>\n",
              "<style scoped>\n",
              "    .dataframe tbody tr th:only-of-type {\n",
              "        vertical-align: middle;\n",
              "    }\n",
              "\n",
              "    .dataframe tbody tr th {\n",
              "        vertical-align: top;\n",
              "    }\n",
              "\n",
              "    .dataframe thead th {\n",
              "        text-align: right;\n",
              "    }\n",
              "</style>\n",
              "<table border=\"1\" class=\"dataframe\">\n",
              "  <thead>\n",
              "    <tr style=\"text-align: right;\">\n",
              "      <th></th>\n",
              "      <th>text</th>\n",
              "      <th>original_labels</th>\n",
              "      <th>mistralv3_zero_shot_labels</th>\n",
              "      <th>mistralv3_zero_shot_answers</th>\n",
              "    </tr>\n",
              "  </thead>\n",
              "  <tbody>\n",
              "    <tr>\n",
              "      <th>0</th>\n",
              "      <td>The boys must be gaming because there goes the...</td>\n",
              "      <td>0</td>\n",
              "      <td>1</td>\n",
              "      <td>YES</td>\n",
              "    </tr>\n",
              "    <tr>\n",
              "      <th>1</th>\n",
              "      <td>Look at those eyes. Either someone unexpectedl...</td>\n",
              "      <td>1</td>\n",
              "      <td>1</td>\n",
              "      <td>YES</td>\n",
              "    </tr>\n",
              "    <tr>\n",
              "      <th>2</th>\n",
              "      <td>Old man mogs everyone in this sub</td>\n",
              "      <td>0</td>\n",
              "      <td>0</td>\n",
              "      <td>NO</td>\n",
              "    </tr>\n",
              "    <tr>\n",
              "      <th>3</th>\n",
              "      <td>Excellent, I was just looking at another post ...</td>\n",
              "      <td>0</td>\n",
              "      <td>1</td>\n",
              "      <td>YES</td>\n",
              "    </tr>\n",
              "    <tr>\n",
              "      <th>4</th>\n",
              "      <td>So you run back to daddy whenever you need hel...</td>\n",
              "      <td>1</td>\n",
              "      <td>1</td>\n",
              "      <td>YES</td>\n",
              "    </tr>\n",
              "  </tbody>\n",
              "</table>\n",
              "</div>\n",
              "    <div class=\"colab-df-buttons\">\n",
              "\n",
              "  <div class=\"colab-df-container\">\n",
              "    <button class=\"colab-df-convert\" onclick=\"convertToInteractive('df-1b5566ff-f64e-4c6c-ad0a-6039971e1598')\"\n",
              "            title=\"Convert this dataframe to an interactive table.\"\n",
              "            style=\"display:none;\">\n",
              "\n",
              "  <svg xmlns=\"http://www.w3.org/2000/svg\" height=\"24px\" viewBox=\"0 -960 960 960\">\n",
              "    <path d=\"M120-120v-720h720v720H120Zm60-500h600v-160H180v160Zm220 220h160v-160H400v160Zm0 220h160v-160H400v160ZM180-400h160v-160H180v160Zm440 0h160v-160H620v160ZM180-180h160v-160H180v160Zm440 0h160v-160H620v160Z\"/>\n",
              "  </svg>\n",
              "    </button>\n",
              "\n",
              "  <style>\n",
              "    .colab-df-container {\n",
              "      display:flex;\n",
              "      gap: 12px;\n",
              "    }\n",
              "\n",
              "    .colab-df-convert {\n",
              "      background-color: #E8F0FE;\n",
              "      border: none;\n",
              "      border-radius: 50%;\n",
              "      cursor: pointer;\n",
              "      display: none;\n",
              "      fill: #1967D2;\n",
              "      height: 32px;\n",
              "      padding: 0 0 0 0;\n",
              "      width: 32px;\n",
              "    }\n",
              "\n",
              "    .colab-df-convert:hover {\n",
              "      background-color: #E2EBFA;\n",
              "      box-shadow: 0px 1px 2px rgba(60, 64, 67, 0.3), 0px 1px 3px 1px rgba(60, 64, 67, 0.15);\n",
              "      fill: #174EA6;\n",
              "    }\n",
              "\n",
              "    .colab-df-buttons div {\n",
              "      margin-bottom: 4px;\n",
              "    }\n",
              "\n",
              "    [theme=dark] .colab-df-convert {\n",
              "      background-color: #3B4455;\n",
              "      fill: #D2E3FC;\n",
              "    }\n",
              "\n",
              "    [theme=dark] .colab-df-convert:hover {\n",
              "      background-color: #434B5C;\n",
              "      box-shadow: 0px 1px 3px 1px rgba(0, 0, 0, 0.15);\n",
              "      filter: drop-shadow(0px 1px 2px rgba(0, 0, 0, 0.3));\n",
              "      fill: #FFFFFF;\n",
              "    }\n",
              "  </style>\n",
              "\n",
              "    <script>\n",
              "      const buttonEl =\n",
              "        document.querySelector('#df-1b5566ff-f64e-4c6c-ad0a-6039971e1598 button.colab-df-convert');\n",
              "      buttonEl.style.display =\n",
              "        google.colab.kernel.accessAllowed ? 'block' : 'none';\n",
              "\n",
              "      async function convertToInteractive(key) {\n",
              "        const element = document.querySelector('#df-1b5566ff-f64e-4c6c-ad0a-6039971e1598');\n",
              "        const dataTable =\n",
              "          await google.colab.kernel.invokeFunction('convertToInteractive',\n",
              "                                                    [key], {});\n",
              "        if (!dataTable) return;\n",
              "\n",
              "        const docLinkHtml = 'Like what you see? Visit the ' +\n",
              "          '<a target=\"_blank\" href=https://colab.research.google.com/notebooks/data_table.ipynb>data table notebook</a>'\n",
              "          + ' to learn more about interactive tables.';\n",
              "        element.innerHTML = '';\n",
              "        dataTable['output_type'] = 'display_data';\n",
              "        await google.colab.output.renderOutput(dataTable, element);\n",
              "        const docLink = document.createElement('div');\n",
              "        docLink.innerHTML = docLinkHtml;\n",
              "        element.appendChild(docLink);\n",
              "      }\n",
              "    </script>\n",
              "  </div>\n",
              "\n",
              "\n",
              "<div id=\"df-f1dcbeff-1789-4995-9de5-72e8384ba454\">\n",
              "  <button class=\"colab-df-quickchart\" onclick=\"quickchart('df-f1dcbeff-1789-4995-9de5-72e8384ba454')\"\n",
              "            title=\"Suggest charts\"\n",
              "            style=\"display:none;\">\n",
              "\n",
              "<svg xmlns=\"http://www.w3.org/2000/svg\" height=\"24px\"viewBox=\"0 0 24 24\"\n",
              "     width=\"24px\">\n",
              "    <g>\n",
              "        <path d=\"M19 3H5c-1.1 0-2 .9-2 2v14c0 1.1.9 2 2 2h14c1.1 0 2-.9 2-2V5c0-1.1-.9-2-2-2zM9 17H7v-7h2v7zm4 0h-2V7h2v10zm4 0h-2v-4h2v4z\"/>\n",
              "    </g>\n",
              "</svg>\n",
              "  </button>\n",
              "\n",
              "<style>\n",
              "  .colab-df-quickchart {\n",
              "      --bg-color: #E8F0FE;\n",
              "      --fill-color: #1967D2;\n",
              "      --hover-bg-color: #E2EBFA;\n",
              "      --hover-fill-color: #174EA6;\n",
              "      --disabled-fill-color: #AAA;\n",
              "      --disabled-bg-color: #DDD;\n",
              "  }\n",
              "\n",
              "  [theme=dark] .colab-df-quickchart {\n",
              "      --bg-color: #3B4455;\n",
              "      --fill-color: #D2E3FC;\n",
              "      --hover-bg-color: #434B5C;\n",
              "      --hover-fill-color: #FFFFFF;\n",
              "      --disabled-bg-color: #3B4455;\n",
              "      --disabled-fill-color: #666;\n",
              "  }\n",
              "\n",
              "  .colab-df-quickchart {\n",
              "    background-color: var(--bg-color);\n",
              "    border: none;\n",
              "    border-radius: 50%;\n",
              "    cursor: pointer;\n",
              "    display: none;\n",
              "    fill: var(--fill-color);\n",
              "    height: 32px;\n",
              "    padding: 0;\n",
              "    width: 32px;\n",
              "  }\n",
              "\n",
              "  .colab-df-quickchart:hover {\n",
              "    background-color: var(--hover-bg-color);\n",
              "    box-shadow: 0 1px 2px rgba(60, 64, 67, 0.3), 0 1px 3px 1px rgba(60, 64, 67, 0.15);\n",
              "    fill: var(--button-hover-fill-color);\n",
              "  }\n",
              "\n",
              "  .colab-df-quickchart-complete:disabled,\n",
              "  .colab-df-quickchart-complete:disabled:hover {\n",
              "    background-color: var(--disabled-bg-color);\n",
              "    fill: var(--disabled-fill-color);\n",
              "    box-shadow: none;\n",
              "  }\n",
              "\n",
              "  .colab-df-spinner {\n",
              "    border: 2px solid var(--fill-color);\n",
              "    border-color: transparent;\n",
              "    border-bottom-color: var(--fill-color);\n",
              "    animation:\n",
              "      spin 1s steps(1) infinite;\n",
              "  }\n",
              "\n",
              "  @keyframes spin {\n",
              "    0% {\n",
              "      border-color: transparent;\n",
              "      border-bottom-color: var(--fill-color);\n",
              "      border-left-color: var(--fill-color);\n",
              "    }\n",
              "    20% {\n",
              "      border-color: transparent;\n",
              "      border-left-color: var(--fill-color);\n",
              "      border-top-color: var(--fill-color);\n",
              "    }\n",
              "    30% {\n",
              "      border-color: transparent;\n",
              "      border-left-color: var(--fill-color);\n",
              "      border-top-color: var(--fill-color);\n",
              "      border-right-color: var(--fill-color);\n",
              "    }\n",
              "    40% {\n",
              "      border-color: transparent;\n",
              "      border-right-color: var(--fill-color);\n",
              "      border-top-color: var(--fill-color);\n",
              "    }\n",
              "    60% {\n",
              "      border-color: transparent;\n",
              "      border-right-color: var(--fill-color);\n",
              "    }\n",
              "    80% {\n",
              "      border-color: transparent;\n",
              "      border-right-color: var(--fill-color);\n",
              "      border-bottom-color: var(--fill-color);\n",
              "    }\n",
              "    90% {\n",
              "      border-color: transparent;\n",
              "      border-bottom-color: var(--fill-color);\n",
              "    }\n",
              "  }\n",
              "</style>\n",
              "\n",
              "  <script>\n",
              "    async function quickchart(key) {\n",
              "      const quickchartButtonEl =\n",
              "        document.querySelector('#' + key + ' button');\n",
              "      quickchartButtonEl.disabled = true;  // To prevent multiple clicks.\n",
              "      quickchartButtonEl.classList.add('colab-df-spinner');\n",
              "      try {\n",
              "        const charts = await google.colab.kernel.invokeFunction(\n",
              "            'suggestCharts', [key], {});\n",
              "      } catch (error) {\n",
              "        console.error('Error during call to suggestCharts:', error);\n",
              "      }\n",
              "      quickchartButtonEl.classList.remove('colab-df-spinner');\n",
              "      quickchartButtonEl.classList.add('colab-df-quickchart-complete');\n",
              "    }\n",
              "    (() => {\n",
              "      let quickchartButtonEl =\n",
              "        document.querySelector('#df-f1dcbeff-1789-4995-9de5-72e8384ba454 button');\n",
              "      quickchartButtonEl.style.display =\n",
              "        google.colab.kernel.accessAllowed ? 'block' : 'none';\n",
              "    })();\n",
              "  </script>\n",
              "</div>\n",
              "\n",
              "    </div>\n",
              "  </div>\n"
            ],
            "application/vnd.google.colaboratory.intrinsic+json": {
              "type": "dataframe",
              "variable_name": "models_predictions",
              "summary": "{\n  \"name\": \"models_predictions\",\n  \"rows\": 300,\n  \"fields\": [\n    {\n      \"column\": \"text\",\n      \"properties\": {\n        \"dtype\": \"string\",\n        \"num_unique_values\": 300,\n        \"samples\": [\n          \"what do you think about that ? Should i pay her ? Pay whatever she's minimally entitled to legally but kick her ass to the curb.\",\n          \"and whats new about this. a woman can be total garbage, but as long as she is fuckable she gets something.\",\n          \"Full on crotch grab from Biden. Even the baby's mom isn't holding him that way.\"\n        ],\n        \"semantic_type\": \"\",\n        \"description\": \"\"\n      }\n    },\n    {\n      \"column\": \"original_labels\",\n      \"properties\": {\n        \"dtype\": \"number\",\n        \"std\": 0,\n        \"min\": 0,\n        \"max\": 1,\n        \"num_unique_values\": 2,\n        \"samples\": [\n          1,\n          0\n        ],\n        \"semantic_type\": \"\",\n        \"description\": \"\"\n      }\n    },\n    {\n      \"column\": \"mistralv3_zero_shot_labels\",\n      \"properties\": {\n        \"dtype\": \"number\",\n        \"std\": 0,\n        \"min\": 0,\n        \"max\": 1,\n        \"num_unique_values\": 2,\n        \"samples\": [\n          0,\n          1\n        ],\n        \"semantic_type\": \"\",\n        \"description\": \"\"\n      }\n    },\n    {\n      \"column\": \"mistralv3_zero_shot_answers\",\n      \"properties\": {\n        \"dtype\": \"category\",\n        \"num_unique_values\": 9,\n        \"samples\": [\n          \"NO (The text does not contain sexism)\",\n          \"NO\"\n        ],\n        \"semantic_type\": \"\",\n        \"description\": \"\"\n      }\n    }\n  ]\n}"
            }
          },
          "metadata": {},
          "execution_count": 15
        }
      ],
      "execution_count": 15
    },
    {
      "cell_type": "markdown",
      "source": [
        "## Task 4 - Metrics\n",
        "\n",
        "In order to evaluate selected LLMs, we need to compute performance metrics.\n",
        "\n",
        "In particular, we are interested in computing **accuracy** since the provided data is balanced with respect to classification classes.\n",
        "\n",
        "Moreover, we want to compute the ratio of failed responses generated by models.\n",
        "\n",
        "That is, how frequent the LLM fails to follow instructions and provides incorrect responses that do not address the classification task.\n",
        "\n",
        "We denote this metric as **fail-ratio**.\n",
        "\n",
        "In summary, we parse generated responses as follows:\n",
        "- 1 if the model says YES\n",
        "- 0 if the model says NO\n",
        "- 0 if the model does not answer in either way"
      ],
      "metadata": {
        "id": "KyZ8WU09zz-a"
      }
    },
    {
      "cell_type": "markdown",
      "source": [
        "**Instructions**\n",
        "\n",
        "In order to get Task 4 points, we require you to:\n",
        "\n",
        "* Write a ``compute_metrics`` function as the one reported below.\n",
        "* Compute metrics for the two selected LLMs."
      ],
      "metadata": {
        "id": "y6lu64o80iX4"
      }
    },
    {
      "cell_type": "markdown",
      "source": [
        "We will define the function compute_metrics which given the predictions and the original labels, computes the accuracy and the fail-ratio of the model.\n",
        "\n",
        "```python\n",
        "def compute_metrics(self, responses: list, y_true: list) -> dict:\n",
        "    \"\"\"\n",
        "    Compute the accuracy and fail ratio of the model's predictions.\n",
        "\n",
        "    Args:\n",
        "        responses (list): A list of responses generated by the model.\n",
        "        y_true (list): A list of true labels corresponding to the responses.\n",
        "\n",
        "    Returns:\n",
        "        dict: A dictionary containing the accuracy and fail ratio of the predictions.\n",
        "            - 'accuracy' (float): The proportion of correct predictions.\n",
        "            - 'fail_ratio' (float): The proportion of incorrect predictions.\n",
        "    \"\"\"\n",
        "    y_pred = [self.process_response(response) for response in responses]\n",
        "    accuracy = (np.array(y_pred) == np.array(y_true)).mean()\n",
        "    fail_ratio = (np.array(y_pred) != np.array(y_true)).mean()\n",
        "    return {'accuracy': accuracy, 'fail_ratio': fail_ratio}\n",
        "```"
      ],
      "metadata": {
        "id": "n6lSSa8dlfFS"
      }
    },
    {
      "cell_type": "markdown",
      "source": [
        "Now we can compute the metrics for the Mistral V3 model given the previous predictions and the original labels"
      ],
      "metadata": {
        "id": "_d1hCKoAlfFS"
      }
    },
    {
      "cell_type": "code",
      "source": [
        "mistal_base_metrics = detector.compute_metrics(responses=answers, y_true=original_labels, tokenizer=tokenizer)\n",
        "print(f\"Mistral v3 Zero-Shot Metrics: {mistal_base_metrics}\")"
      ],
      "metadata": {
        "id": "rrIxiMwXryA0",
        "trusted": true,
        "execution": {
          "iopub.status.busy": "2024-12-28T20:16:54.362770Z",
          "iopub.execute_input": "2024-12-28T20:16:54.363127Z",
          "iopub.status.idle": "2024-12-28T20:16:54.404061Z",
          "shell.execute_reply.started": "2024-12-28T20:16:54.363089Z",
          "shell.execute_reply": "2024-12-28T20:16:54.402990Z"
        },
        "outputId": "509f588e-aff3-4d41-a608-7be261f76596",
        "colab": {
          "base_uri": "https://localhost:8080/"
        }
      },
      "outputs": [
        {
          "output_type": "stream",
          "name": "stdout",
          "text": [
            "Mistral v3 Zero-Shot Metrics: {'accuracy': 0.6133333333333333, 'fail_ratio': 0.38666666666666666}\n"
          ]
        }
      ],
      "execution_count": 16
    },
    {
      "cell_type": "code",
      "source": [
        "# Create the new dataset for storing the metrics\n",
        "model_metrics = pd.DataFrame(columns=['model', 'accuracy', 'fail_ratio'])"
      ],
      "metadata": {
        "id": "RDTwjbnfzes0",
        "trusted": true,
        "execution": {
          "iopub.status.busy": "2024-12-28T20:16:55.362721Z",
          "iopub.execute_input": "2024-12-28T20:16:55.363081Z",
          "iopub.status.idle": "2024-12-28T20:16:55.368893Z",
          "shell.execute_reply.started": "2024-12-28T20:16:55.363047Z",
          "shell.execute_reply": "2024-12-28T20:16:55.368047Z"
        }
      },
      "outputs": [],
      "execution_count": 17
    },
    {
      "cell_type": "code",
      "source": [
        "# Add the computed metrics to the metric dataset\n",
        "model_metrics.loc[len(model_metrics)] = {'model': 'Mistralv3_0_shot', **mistal_base_metrics}"
      ],
      "metadata": {
        "trusted": true,
        "execution": {
          "iopub.status.busy": "2024-12-28T20:16:55.868610Z",
          "iopub.execute_input": "2024-12-28T20:16:55.868826Z",
          "iopub.status.idle": "2024-12-28T20:16:55.873333Z",
          "shell.execute_reply.started": "2024-12-28T20:16:55.868807Z",
          "shell.execute_reply": "2024-12-28T20:16:55.872517Z"
        },
        "id": "xmhkJaPblfFU"
      },
      "outputs": [],
      "execution_count": 18
    },
    {
      "cell_type": "code",
      "source": [
        "model_metrics"
      ],
      "metadata": {
        "colab": {
          "base_uri": "https://localhost:8080/",
          "height": 89
        },
        "id": "ufKvwOZObXIC",
        "outputId": "48e698e4-24d3-4ac7-a5d2-39e037dea567",
        "trusted": true,
        "execution": {
          "iopub.status.busy": "2024-12-28T20:16:56.455170Z",
          "iopub.execute_input": "2024-12-28T20:16:56.455457Z",
          "iopub.status.idle": "2024-12-28T20:16:56.466671Z",
          "shell.execute_reply.started": "2024-12-28T20:16:56.455431Z",
          "shell.execute_reply": "2024-12-28T20:16:56.465816Z"
        }
      },
      "outputs": [
        {
          "output_type": "execute_result",
          "data": {
            "text/plain": [
              "              model  accuracy  fail_ratio\n",
              "0  Mistralv3_0_shot  0.613333    0.386667"
            ],
            "text/html": [
              "\n",
              "  <div id=\"df-f73a3999-c605-4976-afa4-d57df5455449\" class=\"colab-df-container\">\n",
              "    <div>\n",
              "<style scoped>\n",
              "    .dataframe tbody tr th:only-of-type {\n",
              "        vertical-align: middle;\n",
              "    }\n",
              "\n",
              "    .dataframe tbody tr th {\n",
              "        vertical-align: top;\n",
              "    }\n",
              "\n",
              "    .dataframe thead th {\n",
              "        text-align: right;\n",
              "    }\n",
              "</style>\n",
              "<table border=\"1\" class=\"dataframe\">\n",
              "  <thead>\n",
              "    <tr style=\"text-align: right;\">\n",
              "      <th></th>\n",
              "      <th>model</th>\n",
              "      <th>accuracy</th>\n",
              "      <th>fail_ratio</th>\n",
              "    </tr>\n",
              "  </thead>\n",
              "  <tbody>\n",
              "    <tr>\n",
              "      <th>0</th>\n",
              "      <td>Mistralv3_0_shot</td>\n",
              "      <td>0.613333</td>\n",
              "      <td>0.386667</td>\n",
              "    </tr>\n",
              "  </tbody>\n",
              "</table>\n",
              "</div>\n",
              "    <div class=\"colab-df-buttons\">\n",
              "\n",
              "  <div class=\"colab-df-container\">\n",
              "    <button class=\"colab-df-convert\" onclick=\"convertToInteractive('df-f73a3999-c605-4976-afa4-d57df5455449')\"\n",
              "            title=\"Convert this dataframe to an interactive table.\"\n",
              "            style=\"display:none;\">\n",
              "\n",
              "  <svg xmlns=\"http://www.w3.org/2000/svg\" height=\"24px\" viewBox=\"0 -960 960 960\">\n",
              "    <path d=\"M120-120v-720h720v720H120Zm60-500h600v-160H180v160Zm220 220h160v-160H400v160Zm0 220h160v-160H400v160ZM180-400h160v-160H180v160Zm440 0h160v-160H620v160ZM180-180h160v-160H180v160Zm440 0h160v-160H620v160Z\"/>\n",
              "  </svg>\n",
              "    </button>\n",
              "\n",
              "  <style>\n",
              "    .colab-df-container {\n",
              "      display:flex;\n",
              "      gap: 12px;\n",
              "    }\n",
              "\n",
              "    .colab-df-convert {\n",
              "      background-color: #E8F0FE;\n",
              "      border: none;\n",
              "      border-radius: 50%;\n",
              "      cursor: pointer;\n",
              "      display: none;\n",
              "      fill: #1967D2;\n",
              "      height: 32px;\n",
              "      padding: 0 0 0 0;\n",
              "      width: 32px;\n",
              "    }\n",
              "\n",
              "    .colab-df-convert:hover {\n",
              "      background-color: #E2EBFA;\n",
              "      box-shadow: 0px 1px 2px rgba(60, 64, 67, 0.3), 0px 1px 3px 1px rgba(60, 64, 67, 0.15);\n",
              "      fill: #174EA6;\n",
              "    }\n",
              "\n",
              "    .colab-df-buttons div {\n",
              "      margin-bottom: 4px;\n",
              "    }\n",
              "\n",
              "    [theme=dark] .colab-df-convert {\n",
              "      background-color: #3B4455;\n",
              "      fill: #D2E3FC;\n",
              "    }\n",
              "\n",
              "    [theme=dark] .colab-df-convert:hover {\n",
              "      background-color: #434B5C;\n",
              "      box-shadow: 0px 1px 3px 1px rgba(0, 0, 0, 0.15);\n",
              "      filter: drop-shadow(0px 1px 2px rgba(0, 0, 0, 0.3));\n",
              "      fill: #FFFFFF;\n",
              "    }\n",
              "  </style>\n",
              "\n",
              "    <script>\n",
              "      const buttonEl =\n",
              "        document.querySelector('#df-f73a3999-c605-4976-afa4-d57df5455449 button.colab-df-convert');\n",
              "      buttonEl.style.display =\n",
              "        google.colab.kernel.accessAllowed ? 'block' : 'none';\n",
              "\n",
              "      async function convertToInteractive(key) {\n",
              "        const element = document.querySelector('#df-f73a3999-c605-4976-afa4-d57df5455449');\n",
              "        const dataTable =\n",
              "          await google.colab.kernel.invokeFunction('convertToInteractive',\n",
              "                                                    [key], {});\n",
              "        if (!dataTable) return;\n",
              "\n",
              "        const docLinkHtml = 'Like what you see? Visit the ' +\n",
              "          '<a target=\"_blank\" href=https://colab.research.google.com/notebooks/data_table.ipynb>data table notebook</a>'\n",
              "          + ' to learn more about interactive tables.';\n",
              "        element.innerHTML = '';\n",
              "        dataTable['output_type'] = 'display_data';\n",
              "        await google.colab.output.renderOutput(dataTable, element);\n",
              "        const docLink = document.createElement('div');\n",
              "        docLink.innerHTML = docLinkHtml;\n",
              "        element.appendChild(docLink);\n",
              "      }\n",
              "    </script>\n",
              "  </div>\n",
              "\n",
              "\n",
              "  <div id=\"id_0c5476b2-dc63-458b-9f99-8c8b6871369c\">\n",
              "    <style>\n",
              "      .colab-df-generate {\n",
              "        background-color: #E8F0FE;\n",
              "        border: none;\n",
              "        border-radius: 50%;\n",
              "        cursor: pointer;\n",
              "        display: none;\n",
              "        fill: #1967D2;\n",
              "        height: 32px;\n",
              "        padding: 0 0 0 0;\n",
              "        width: 32px;\n",
              "      }\n",
              "\n",
              "      .colab-df-generate:hover {\n",
              "        background-color: #E2EBFA;\n",
              "        box-shadow: 0px 1px 2px rgba(60, 64, 67, 0.3), 0px 1px 3px 1px rgba(60, 64, 67, 0.15);\n",
              "        fill: #174EA6;\n",
              "      }\n",
              "\n",
              "      [theme=dark] .colab-df-generate {\n",
              "        background-color: #3B4455;\n",
              "        fill: #D2E3FC;\n",
              "      }\n",
              "\n",
              "      [theme=dark] .colab-df-generate:hover {\n",
              "        background-color: #434B5C;\n",
              "        box-shadow: 0px 1px 3px 1px rgba(0, 0, 0, 0.15);\n",
              "        filter: drop-shadow(0px 1px 2px rgba(0, 0, 0, 0.3));\n",
              "        fill: #FFFFFF;\n",
              "      }\n",
              "    </style>\n",
              "    <button class=\"colab-df-generate\" onclick=\"generateWithVariable('model_metrics')\"\n",
              "            title=\"Generate code using this dataframe.\"\n",
              "            style=\"display:none;\">\n",
              "\n",
              "  <svg xmlns=\"http://www.w3.org/2000/svg\" height=\"24px\"viewBox=\"0 0 24 24\"\n",
              "       width=\"24px\">\n",
              "    <path d=\"M7,19H8.4L18.45,9,17,7.55,7,17.6ZM5,21V16.75L18.45,3.32a2,2,0,0,1,2.83,0l1.4,1.43a1.91,1.91,0,0,1,.58,1.4,1.91,1.91,0,0,1-.58,1.4L9.25,21ZM18.45,9,17,7.55Zm-12,3A5.31,5.31,0,0,0,4.9,8.1,5.31,5.31,0,0,0,1,6.5,5.31,5.31,0,0,0,4.9,4.9,5.31,5.31,0,0,0,6.5,1,5.31,5.31,0,0,0,8.1,4.9,5.31,5.31,0,0,0,12,6.5,5.46,5.46,0,0,0,6.5,12Z\"/>\n",
              "  </svg>\n",
              "    </button>\n",
              "    <script>\n",
              "      (() => {\n",
              "      const buttonEl =\n",
              "        document.querySelector('#id_0c5476b2-dc63-458b-9f99-8c8b6871369c button.colab-df-generate');\n",
              "      buttonEl.style.display =\n",
              "        google.colab.kernel.accessAllowed ? 'block' : 'none';\n",
              "\n",
              "      buttonEl.onclick = () => {\n",
              "        google.colab.notebook.generateWithVariable('model_metrics');\n",
              "      }\n",
              "      })();\n",
              "    </script>\n",
              "  </div>\n",
              "\n",
              "    </div>\n",
              "  </div>\n"
            ],
            "application/vnd.google.colaboratory.intrinsic+json": {
              "type": "dataframe",
              "variable_name": "model_metrics",
              "summary": "{\n  \"name\": \"model_metrics\",\n  \"rows\": 1,\n  \"fields\": [\n    {\n      \"column\": \"model\",\n      \"properties\": {\n        \"dtype\": \"string\",\n        \"num_unique_values\": 1,\n        \"samples\": [\n          \"Mistralv3_0_shot\"\n        ],\n        \"semantic_type\": \"\",\n        \"description\": \"\"\n      }\n    },\n    {\n      \"column\": \"accuracy\",\n      \"properties\": {\n        \"dtype\": \"number\",\n        \"std\": null,\n        \"min\": 0.6133333333333333,\n        \"max\": 0.6133333333333333,\n        \"num_unique_values\": 1,\n        \"samples\": [\n          0.6133333333333333\n        ],\n        \"semantic_type\": \"\",\n        \"description\": \"\"\n      }\n    },\n    {\n      \"column\": \"fail_ratio\",\n      \"properties\": {\n        \"dtype\": \"number\",\n        \"std\": null,\n        \"min\": 0.38666666666666666,\n        \"max\": 0.38666666666666666,\n        \"num_unique_values\": 1,\n        \"samples\": [\n          0.38666666666666666\n        ],\n        \"semantic_type\": \"\",\n        \"description\": \"\"\n      }\n    }\n  ]\n}"
            }
          },
          "metadata": {},
          "execution_count": 19
        }
      ],
      "execution_count": 19
    },
    {
      "cell_type": "markdown",
      "source": [
        "## Task 5 - Few-shot Inference\n",
        "\n",
        "So far, we have tested models in a zero-shot fashion: we provide the input text to classify and instruct the model to generate a response.\n",
        "\n",
        "We are now interested in performing few-shot prompting to see the impact of providing demonstration examples.\n",
        "\n",
        "To do so, we slightly change the prompt template as follows."
      ],
      "metadata": {
        "id": "nHyvV4QD2vZS"
      }
    },
    {
      "cell_type": "code",
      "source": [
        "prompt_few_shot = [\n",
        "    {\n",
        "        'role': 'system',\n",
        "        'content': 'You are an annotator for sexism detection.'\n",
        "    },\n",
        "    {\n",
        "        'role': 'user',\n",
        "        'content': \"\"\"Your task is to classify input text as containing sexism or not. Respond only YES or NO.\n",
        "\n",
        "        EXAMPLES:\n",
        "        {examples}\n",
        "\n",
        "        TEXT:\n",
        "        {text}\n",
        "\n",
        "        ANSWER:\n",
        "        \"\"\"\n",
        "    }\n",
        "]"
      ],
      "metadata": {
        "id": "pEqsOHz63ReW",
        "trusted": true,
        "execution": {
          "iopub.status.busy": "2024-12-28T20:16:57.934101Z",
          "iopub.execute_input": "2024-12-28T20:16:57.934407Z",
          "iopub.status.idle": "2024-12-28T20:16:57.938294Z",
          "shell.execute_reply.started": "2024-12-28T20:16:57.934384Z",
          "shell.execute_reply": "2024-12-28T20:16:57.937419Z"
        }
      },
      "outputs": [],
      "execution_count": 20
    },
    {
      "cell_type": "markdown",
      "source": [
        "The new prompt template reports some demonstration examples to instruct the model.\n",
        "\n",
        "Generally, we provide an equal number of demonstrations per class as shown in the example below.\n",
        "\n",
        "```\n",
        "prompt = [\n",
        "    {\n",
        "        'role': 'system',\n",
        "        'content': 'You are an annotator for sexism detection.'\n",
        "    },\n",
        "    {\n",
        "        'role': 'user',\n",
        "        'content': \"\"\"Your task is to classify input text as containing sexism or not. Respond only YES or NO.\n",
        "\n",
        "        EXAMPLES:\n",
        "        TEXT: **example 1**\n",
        "        ANSWER: YES\n",
        "        TEXT: **example 2**\n",
        "        ANSWER: NO\n",
        "\n",
        "        TEXT:\n",
        "        {text}\n",
        "\n",
        "        ANSWER:\n",
        "        \"\"\"\n",
        "    }\n",
        "]\n",
        "```  "
      ],
      "metadata": {
        "id": "_SnaxuwN3ySF"
      }
    },
    {
      "cell_type": "markdown",
      "source": [
        "**Instructions**\n",
        "\n",
        "In order to get Task 5 points, we require you to:\n",
        "\n",
        "- Load ``demonstrations.csv`` and encode it into a ``pandas.DataFrame`` object.\n",
        "- Define a ``build_few_shot_demonstrations`` function as the one reported below.\n",
        "- Perform few-shot inference as in Task 3.\n",
        "- Compute metrics as in Task 4."
      ],
      "metadata": {
        "id": "OE0XnaVr3CZz"
      }
    },
    {
      "cell_type": "markdown",
      "source": [
        "### Task 5.1 - Data preparation"
      ],
      "metadata": {
        "id": "1NdDXMpdp4r3"
      }
    },
    {
      "cell_type": "markdown",
      "source": [
        "First we will load as a pandas DataFrame the demonstrations dataset"
      ],
      "metadata": {
        "id": "zZ-_V_mklfFW"
      }
    },
    {
      "cell_type": "code",
      "source": [
        "path_demonstrations = 'https://raw.githubusercontent.com/nlp-unibo/nlp-course-material/refs/heads/main/2024-2025/Assignment%202/data/demonstrations.csv'\n",
        "demonstrations = detector.download_corpus(url=path_demonstrations)"
      ],
      "metadata": {
        "colab": {
          "base_uri": "https://localhost:8080/"
        },
        "id": "6bbJtxNst2FF",
        "outputId": "46bce444-f464-48be-8c41-071d5c5d5fc8",
        "trusted": true,
        "execution": {
          "iopub.status.busy": "2024-12-28T20:17:01.288916Z",
          "iopub.execute_input": "2024-12-28T20:17:01.289252Z",
          "iopub.status.idle": "2024-12-28T20:17:01.488022Z",
          "shell.execute_reply.started": "2024-12-28T20:17:01.289227Z",
          "shell.execute_reply": "2024-12-28T20:17:01.487172Z"
        }
      },
      "outputs": [
        {
          "output_type": "stream",
          "name": "stdout",
          "text": [
            "Created folder data.\n"
          ]
        }
      ],
      "execution_count": 21
    },
    {
      "cell_type": "code",
      "source": [
        "demonstrations.head()"
      ],
      "metadata": {
        "trusted": true,
        "execution": {
          "iopub.status.busy": "2024-12-28T20:17:01.516419Z",
          "iopub.execute_input": "2024-12-28T20:17:01.516644Z",
          "iopub.status.idle": "2024-12-28T20:17:01.524096Z",
          "shell.execute_reply.started": "2024-12-28T20:17:01.516623Z",
          "shell.execute_reply": "2024-12-28T20:17:01.523381Z"
        },
        "id": "Gqr7bR_MlfFX",
        "outputId": "d1120863-b016-4abe-cd2b-a62c172bef9c",
        "colab": {
          "base_uri": "https://localhost:8080/",
          "height": 206
        }
      },
      "outputs": [
        {
          "output_type": "execute_result",
          "data": {
            "text/plain": [
              "                  rewire_id  \\\n",
              "0  sexism2022_english-10348   \n",
              "1   sexism2022_english-7950   \n",
              "2   sexism2022_english-7742   \n",
              "3  sexism2022_english-16170   \n",
              "4   sexism2022_english-9857   \n",
              "\n",
              "                                                text label_sexist  \n",
              "0  I would never have my kid go to a daycare with...   not sexist  \n",
              "1           Democrat women are so butt fucking ugly.       sexist  \n",
              "2  If you really wanted to twist the knife you’d ...   not sexist  \n",
              "3  Those women are pro-rape. They didn’t care abo...       sexist  \n",
              "4  Married a bitch... Is it the standard scenario...       sexist  "
            ],
            "text/html": [
              "\n",
              "  <div id=\"df-0666056b-92c7-42e5-9048-b8086e76b28a\" class=\"colab-df-container\">\n",
              "    <div>\n",
              "<style scoped>\n",
              "    .dataframe tbody tr th:only-of-type {\n",
              "        vertical-align: middle;\n",
              "    }\n",
              "\n",
              "    .dataframe tbody tr th {\n",
              "        vertical-align: top;\n",
              "    }\n",
              "\n",
              "    .dataframe thead th {\n",
              "        text-align: right;\n",
              "    }\n",
              "</style>\n",
              "<table border=\"1\" class=\"dataframe\">\n",
              "  <thead>\n",
              "    <tr style=\"text-align: right;\">\n",
              "      <th></th>\n",
              "      <th>rewire_id</th>\n",
              "      <th>text</th>\n",
              "      <th>label_sexist</th>\n",
              "    </tr>\n",
              "  </thead>\n",
              "  <tbody>\n",
              "    <tr>\n",
              "      <th>0</th>\n",
              "      <td>sexism2022_english-10348</td>\n",
              "      <td>I would never have my kid go to a daycare with...</td>\n",
              "      <td>not sexist</td>\n",
              "    </tr>\n",
              "    <tr>\n",
              "      <th>1</th>\n",
              "      <td>sexism2022_english-7950</td>\n",
              "      <td>Democrat women are so butt fucking ugly.</td>\n",
              "      <td>sexist</td>\n",
              "    </tr>\n",
              "    <tr>\n",
              "      <th>2</th>\n",
              "      <td>sexism2022_english-7742</td>\n",
              "      <td>If you really wanted to twist the knife you’d ...</td>\n",
              "      <td>not sexist</td>\n",
              "    </tr>\n",
              "    <tr>\n",
              "      <th>3</th>\n",
              "      <td>sexism2022_english-16170</td>\n",
              "      <td>Those women are pro-rape. They didn’t care abo...</td>\n",
              "      <td>sexist</td>\n",
              "    </tr>\n",
              "    <tr>\n",
              "      <th>4</th>\n",
              "      <td>sexism2022_english-9857</td>\n",
              "      <td>Married a bitch... Is it the standard scenario...</td>\n",
              "      <td>sexist</td>\n",
              "    </tr>\n",
              "  </tbody>\n",
              "</table>\n",
              "</div>\n",
              "    <div class=\"colab-df-buttons\">\n",
              "\n",
              "  <div class=\"colab-df-container\">\n",
              "    <button class=\"colab-df-convert\" onclick=\"convertToInteractive('df-0666056b-92c7-42e5-9048-b8086e76b28a')\"\n",
              "            title=\"Convert this dataframe to an interactive table.\"\n",
              "            style=\"display:none;\">\n",
              "\n",
              "  <svg xmlns=\"http://www.w3.org/2000/svg\" height=\"24px\" viewBox=\"0 -960 960 960\">\n",
              "    <path d=\"M120-120v-720h720v720H120Zm60-500h600v-160H180v160Zm220 220h160v-160H400v160Zm0 220h160v-160H400v160ZM180-400h160v-160H180v160Zm440 0h160v-160H620v160ZM180-180h160v-160H180v160Zm440 0h160v-160H620v160Z\"/>\n",
              "  </svg>\n",
              "    </button>\n",
              "\n",
              "  <style>\n",
              "    .colab-df-container {\n",
              "      display:flex;\n",
              "      gap: 12px;\n",
              "    }\n",
              "\n",
              "    .colab-df-convert {\n",
              "      background-color: #E8F0FE;\n",
              "      border: none;\n",
              "      border-radius: 50%;\n",
              "      cursor: pointer;\n",
              "      display: none;\n",
              "      fill: #1967D2;\n",
              "      height: 32px;\n",
              "      padding: 0 0 0 0;\n",
              "      width: 32px;\n",
              "    }\n",
              "\n",
              "    .colab-df-convert:hover {\n",
              "      background-color: #E2EBFA;\n",
              "      box-shadow: 0px 1px 2px rgba(60, 64, 67, 0.3), 0px 1px 3px 1px rgba(60, 64, 67, 0.15);\n",
              "      fill: #174EA6;\n",
              "    }\n",
              "\n",
              "    .colab-df-buttons div {\n",
              "      margin-bottom: 4px;\n",
              "    }\n",
              "\n",
              "    [theme=dark] .colab-df-convert {\n",
              "      background-color: #3B4455;\n",
              "      fill: #D2E3FC;\n",
              "    }\n",
              "\n",
              "    [theme=dark] .colab-df-convert:hover {\n",
              "      background-color: #434B5C;\n",
              "      box-shadow: 0px 1px 3px 1px rgba(0, 0, 0, 0.15);\n",
              "      filter: drop-shadow(0px 1px 2px rgba(0, 0, 0, 0.3));\n",
              "      fill: #FFFFFF;\n",
              "    }\n",
              "  </style>\n",
              "\n",
              "    <script>\n",
              "      const buttonEl =\n",
              "        document.querySelector('#df-0666056b-92c7-42e5-9048-b8086e76b28a button.colab-df-convert');\n",
              "      buttonEl.style.display =\n",
              "        google.colab.kernel.accessAllowed ? 'block' : 'none';\n",
              "\n",
              "      async function convertToInteractive(key) {\n",
              "        const element = document.querySelector('#df-0666056b-92c7-42e5-9048-b8086e76b28a');\n",
              "        const dataTable =\n",
              "          await google.colab.kernel.invokeFunction('convertToInteractive',\n",
              "                                                    [key], {});\n",
              "        if (!dataTable) return;\n",
              "\n",
              "        const docLinkHtml = 'Like what you see? Visit the ' +\n",
              "          '<a target=\"_blank\" href=https://colab.research.google.com/notebooks/data_table.ipynb>data table notebook</a>'\n",
              "          + ' to learn more about interactive tables.';\n",
              "        element.innerHTML = '';\n",
              "        dataTable['output_type'] = 'display_data';\n",
              "        await google.colab.output.renderOutput(dataTable, element);\n",
              "        const docLink = document.createElement('div');\n",
              "        docLink.innerHTML = docLinkHtml;\n",
              "        element.appendChild(docLink);\n",
              "      }\n",
              "    </script>\n",
              "  </div>\n",
              "\n",
              "\n",
              "<div id=\"df-b90f10a5-affe-4343-8693-67ade9a5b603\">\n",
              "  <button class=\"colab-df-quickchart\" onclick=\"quickchart('df-b90f10a5-affe-4343-8693-67ade9a5b603')\"\n",
              "            title=\"Suggest charts\"\n",
              "            style=\"display:none;\">\n",
              "\n",
              "<svg xmlns=\"http://www.w3.org/2000/svg\" height=\"24px\"viewBox=\"0 0 24 24\"\n",
              "     width=\"24px\">\n",
              "    <g>\n",
              "        <path d=\"M19 3H5c-1.1 0-2 .9-2 2v14c0 1.1.9 2 2 2h14c1.1 0 2-.9 2-2V5c0-1.1-.9-2-2-2zM9 17H7v-7h2v7zm4 0h-2V7h2v10zm4 0h-2v-4h2v4z\"/>\n",
              "    </g>\n",
              "</svg>\n",
              "  </button>\n",
              "\n",
              "<style>\n",
              "  .colab-df-quickchart {\n",
              "      --bg-color: #E8F0FE;\n",
              "      --fill-color: #1967D2;\n",
              "      --hover-bg-color: #E2EBFA;\n",
              "      --hover-fill-color: #174EA6;\n",
              "      --disabled-fill-color: #AAA;\n",
              "      --disabled-bg-color: #DDD;\n",
              "  }\n",
              "\n",
              "  [theme=dark] .colab-df-quickchart {\n",
              "      --bg-color: #3B4455;\n",
              "      --fill-color: #D2E3FC;\n",
              "      --hover-bg-color: #434B5C;\n",
              "      --hover-fill-color: #FFFFFF;\n",
              "      --disabled-bg-color: #3B4455;\n",
              "      --disabled-fill-color: #666;\n",
              "  }\n",
              "\n",
              "  .colab-df-quickchart {\n",
              "    background-color: var(--bg-color);\n",
              "    border: none;\n",
              "    border-radius: 50%;\n",
              "    cursor: pointer;\n",
              "    display: none;\n",
              "    fill: var(--fill-color);\n",
              "    height: 32px;\n",
              "    padding: 0;\n",
              "    width: 32px;\n",
              "  }\n",
              "\n",
              "  .colab-df-quickchart:hover {\n",
              "    background-color: var(--hover-bg-color);\n",
              "    box-shadow: 0 1px 2px rgba(60, 64, 67, 0.3), 0 1px 3px 1px rgba(60, 64, 67, 0.15);\n",
              "    fill: var(--button-hover-fill-color);\n",
              "  }\n",
              "\n",
              "  .colab-df-quickchart-complete:disabled,\n",
              "  .colab-df-quickchart-complete:disabled:hover {\n",
              "    background-color: var(--disabled-bg-color);\n",
              "    fill: var(--disabled-fill-color);\n",
              "    box-shadow: none;\n",
              "  }\n",
              "\n",
              "  .colab-df-spinner {\n",
              "    border: 2px solid var(--fill-color);\n",
              "    border-color: transparent;\n",
              "    border-bottom-color: var(--fill-color);\n",
              "    animation:\n",
              "      spin 1s steps(1) infinite;\n",
              "  }\n",
              "\n",
              "  @keyframes spin {\n",
              "    0% {\n",
              "      border-color: transparent;\n",
              "      border-bottom-color: var(--fill-color);\n",
              "      border-left-color: var(--fill-color);\n",
              "    }\n",
              "    20% {\n",
              "      border-color: transparent;\n",
              "      border-left-color: var(--fill-color);\n",
              "      border-top-color: var(--fill-color);\n",
              "    }\n",
              "    30% {\n",
              "      border-color: transparent;\n",
              "      border-left-color: var(--fill-color);\n",
              "      border-top-color: var(--fill-color);\n",
              "      border-right-color: var(--fill-color);\n",
              "    }\n",
              "    40% {\n",
              "      border-color: transparent;\n",
              "      border-right-color: var(--fill-color);\n",
              "      border-top-color: var(--fill-color);\n",
              "    }\n",
              "    60% {\n",
              "      border-color: transparent;\n",
              "      border-right-color: var(--fill-color);\n",
              "    }\n",
              "    80% {\n",
              "      border-color: transparent;\n",
              "      border-right-color: var(--fill-color);\n",
              "      border-bottom-color: var(--fill-color);\n",
              "    }\n",
              "    90% {\n",
              "      border-color: transparent;\n",
              "      border-bottom-color: var(--fill-color);\n",
              "    }\n",
              "  }\n",
              "</style>\n",
              "\n",
              "  <script>\n",
              "    async function quickchart(key) {\n",
              "      const quickchartButtonEl =\n",
              "        document.querySelector('#' + key + ' button');\n",
              "      quickchartButtonEl.disabled = true;  // To prevent multiple clicks.\n",
              "      quickchartButtonEl.classList.add('colab-df-spinner');\n",
              "      try {\n",
              "        const charts = await google.colab.kernel.invokeFunction(\n",
              "            'suggestCharts', [key], {});\n",
              "      } catch (error) {\n",
              "        console.error('Error during call to suggestCharts:', error);\n",
              "      }\n",
              "      quickchartButtonEl.classList.remove('colab-df-spinner');\n",
              "      quickchartButtonEl.classList.add('colab-df-quickchart-complete');\n",
              "    }\n",
              "    (() => {\n",
              "      let quickchartButtonEl =\n",
              "        document.querySelector('#df-b90f10a5-affe-4343-8693-67ade9a5b603 button');\n",
              "      quickchartButtonEl.style.display =\n",
              "        google.colab.kernel.accessAllowed ? 'block' : 'none';\n",
              "    })();\n",
              "  </script>\n",
              "</div>\n",
              "\n",
              "    </div>\n",
              "  </div>\n"
            ],
            "application/vnd.google.colaboratory.intrinsic+json": {
              "type": "dataframe",
              "variable_name": "demonstrations",
              "summary": "{\n  \"name\": \"demonstrations\",\n  \"rows\": 1000,\n  \"fields\": [\n    {\n      \"column\": \"rewire_id\",\n      \"properties\": {\n        \"dtype\": \"string\",\n        \"num_unique_values\": 1000,\n        \"samples\": [\n          \"sexism2022_english-1375\",\n          \"sexism2022_english-278\",\n          \"sexism2022_english-7964\"\n        ],\n        \"semantic_type\": \"\",\n        \"description\": \"\"\n      }\n    },\n    {\n      \"column\": \"text\",\n      \"properties\": {\n        \"dtype\": \"string\",\n        \"num_unique_values\": 1000,\n        \"samples\": [\n          \"untouched Not after 6 years, especially not if she went to college\",\n          \"I understand. We will purge hidden eurofag scum from Holy City of Miami, burn down their illegal particle accelerator labs stretching underneath the capital!\",\n          \"A Mississippi state senator hits the DC women protesters with a serious burn.\"\n        ],\n        \"semantic_type\": \"\",\n        \"description\": \"\"\n      }\n    },\n    {\n      \"column\": \"label_sexist\",\n      \"properties\": {\n        \"dtype\": \"category\",\n        \"num_unique_values\": 2,\n        \"samples\": [\n          \"sexist\",\n          \"not sexist\"\n        ],\n        \"semantic_type\": \"\",\n        \"description\": \"\"\n      }\n    }\n  ]\n}"
            }
          },
          "metadata": {},
          "execution_count": 22
        }
      ],
      "execution_count": 22
    },
    {
      "cell_type": "markdown",
      "source": [
        "Then we can define the build_few_shot_demonstrations function which given the demonstrations DataFrame, and the number of demonstrations per class, returns the demonstrations for the few shot prompting by taking a sample of the demonstrations for each class.\n",
        "\n",
        "```python\n",
        "def build_few_shot_demonstrations(self, demonstrations: pd.DataFrame, num_per_class: int = 2, custom_example_ids: list = []) -> list:\n",
        "    \"\"\"\n",
        "    Build few-shot demonstrations for a classification task.\n",
        "\n",
        "    This method extracts a specified number of positive and negative samples from the provided DataFrame\n",
        "    and combines them into a list of few-shot demonstrations. The demonstrations are then shuffled.\n",
        "\n",
        "    Args:\n",
        "        demonstrations (pd.DataFrame): A DataFrame containing the text samples and their corresponding labels.\n",
        "                                        The DataFrame must have at least two columns: 'text' and 'label_sexist'.\n",
        "        num_per_class (int): The number of samples to extract for each class (positive and negative). If an integer\n",
        "                                is provided, the same number of samples will be extracted for both classes. If a list\n",
        "                                of two integers is provided, the first integer specifies the number of positive samples\n",
        "                                and the second integer specifies the number of negative samples. Default is 2.\n",
        "        custom_example_ids (list, optional): A list of custom example IDs to include in the few-shot demonstrations. This will be used later to check specific examples manually or by passing top demonstration examples according to a ranking criterion. Defaults to an empty list.\n",
        "\n",
        "    Returns:\n",
        "        list: A list of few-shot demonstrations, where each demonstration is a list containing the text and its label.\n",
        "                The label is 1 for positive samples (sexist) and 0 for negative samples (not sexist).\n",
        "    \"\"\"\n",
        "    if isinstance(num_per_class, int):\n",
        "        num_per_class = [num_per_class, num_per_class]\n",
        "\n",
        "    if len(custom_example_ids) == 0:\n",
        "        # Extract a random sample of positive and negative demonstrations\n",
        "        yes_samples = demonstrations[demonstrations['label_sexist'] == 'sexist'].sample(num_per_class[0], random_state=self.seed)\n",
        "        no_samples = demonstrations[demonstrations['label_sexist'] == 'not sexist'].sample(num_per_class[1], random_state=self.seed)\n",
        "    else:\n",
        "        # Extract custom examples\n",
        "        yes_samples = demonstrations[demonstrations.index.isin(custom_example_ids)]\n",
        "        no_samples = demonstrations[~demonstrations.index.isin(custom_example_ids)]\n",
        "\n",
        "    # Combine the samples into a list of few-shot demonstrations\n",
        "    few_shot_demonstrations = list(pd.concat([yes_samples['text'], no_samples['text']]))\n",
        "    few_shot_demonstrations = [[demonstration, label] for demonstration, label in zip(few_shot_demonstrations,\n",
        "                                                                                        [1] * num_per_class[0] + [0] * num_per_class[1])]\n",
        "    # Shuffle the few-shot demonstrations\n",
        "    random.shuffle(few_shot_demonstrations)\n",
        "\n",
        "    return few_shot_demonstrations\n",
        "```\n",
        "\n",
        ">**Note**: The function has an optional parameter to include custom examples in the few-shot demonstrations. This will be used later to check specific examples manually or by passing top demonstration examples according to a ranking criterion with the aim of improving the model's performance."
      ],
      "metadata": {
        "id": "E5D10YdFlfFX"
      }
    },
    {
      "cell_type": "markdown",
      "source": [
        "### Task 5.2 - Few shot with randomly sampled examples"
      ],
      "metadata": {
        "id": "F5cXSQQdqCmZ"
      }
    },
    {
      "cell_type": "markdown",
      "source": [
        "#### Learning by 2-shot randomly sampled examples"
      ],
      "metadata": {
        "id": "Gv5E7-ah4QUB"
      }
    },
    {
      "cell_type": "code",
      "source": [
        "from bm25_pt import BM25\n",
        "\n",
        "bm25 = BM25(tokenizer=tokenizer, device='cuda')\n",
        "tokenizer.pad_token = tokenizer.eos_token\n",
        "bm25.index(df['text'].values.tolist())\n",
        "sexist_queries = demonstrations[demonstrations['label_sexist'] == 'sexist']['text'].values.tolist()\n",
        "sexist_scores = bm25.score_batch(sexist_queries)\n",
        "non_sexist_queries = demonstrations[demonstrations['label_sexist'] == 'not sexist']['text'].values.tolist()\n",
        "non_sexist_scores = bm25.score_batch(non_sexist_queries)\n",
        "\n",
        "mean_sexist_scores = torch.mean(sexist_scores, dim=1)\n",
        "mean_non_sexist_scores = torch.mean(non_sexist_scores, dim=1)\n",
        "\n",
        "top_k_sexist = torch.topk(mean_sexist_scores, k=4)\n",
        "top_k_non_sexist = torch.topk(mean_non_sexist_scores, k=4)"
      ],
      "metadata": {
        "id": "RdW9yx-mpO1G",
        "outputId": "1b8f076a-d507-4b65-f57e-7aac937d8a84",
        "colab": {
          "base_uri": "https://localhost:8080/",
          "height": 17,
          "referenced_widgets": [
            "cc273064518d4a00b9124d5c1f46cb2a",
            "d5f0ba3e1b0846b6848ed9060d3f21d4",
            "0cfd0ba75b3a41158dad72ee67f82e08",
            "a46fcfcd0136402895074ecd171f7ff2",
            "af23346b567f406481d1233a6d41fd37",
            "0c92115bffe84ae69056998a6230e17a",
            "23ba882e113846d08ab8477badade4b7",
            "16b1452393ee435497e6cabf451f5e16",
            "f086c3e01d764d0b80d4c72c186d345e",
            "3a6d00a0e8664b798bebc7e07eac63c4",
            "e43c93543e8e40639a85a3cab07ebd41"
          ]
        }
      },
      "execution_count": 77,
      "outputs": [
        {
          "output_type": "display_data",
          "data": {
            "text/plain": [
              "  0%|          | 0/300 [00:00<?, ?it/s]"
            ],
            "application/vnd.jupyter.widget-view+json": {
              "version_major": 2,
              "version_minor": 0,
              "model_id": "cc273064518d4a00b9124d5c1f46cb2a"
            }
          },
          "metadata": {}
        }
      ]
    },
    {
      "cell_type": "code",
      "source": [
        "top_k_sexist"
      ],
      "metadata": {
        "id": "CXrJviz0qege",
        "outputId": "02d62a7c-a502-4f69-fee4-8a1789200ac0",
        "colab": {
          "base_uri": "https://localhost:8080/"
        }
      },
      "execution_count": 78,
      "outputs": [
        {
          "output_type": "execute_result",
          "data": {
            "text/plain": [
              "torch.return_types.topk(\n",
              "values=tensor([14.0698, 13.6797, 13.4999, 13.4176], device='cuda:0'),\n",
              "indices=tensor([345, 100,  71, 351], device='cuda:0'))"
            ]
          },
          "metadata": {},
          "execution_count": 78
        }
      ]
    },
    {
      "cell_type": "code",
      "source": [
        "demonstrations[demonstrations['label_sexist'] == 'sexist'].reset_index(drop=True).iloc[100]"
      ],
      "metadata": {
        "id": "thOA2B8QwtCh",
        "outputId": "adfcf9fc-5688-4e08-de9e-95ca07f09b94",
        "colab": {
          "base_uri": "https://localhost:8080/",
          "height": 178
        }
      },
      "execution_count": 123,
      "outputs": [
        {
          "output_type": "execute_result",
          "data": {
            "text/plain": [
              "rewire_id                                 sexism2022_english-5433\n",
              "text            shower. Fucking plebe. Pretty much that whole ...\n",
              "label_sexist                                               sexist\n",
              "Name: 100, dtype: object"
            ],
            "text/html": [
              "<div>\n",
              "<style scoped>\n",
              "    .dataframe tbody tr th:only-of-type {\n",
              "        vertical-align: middle;\n",
              "    }\n",
              "\n",
              "    .dataframe tbody tr th {\n",
              "        vertical-align: top;\n",
              "    }\n",
              "\n",
              "    .dataframe thead th {\n",
              "        text-align: right;\n",
              "    }\n",
              "</style>\n",
              "<table border=\"1\" class=\"dataframe\">\n",
              "  <thead>\n",
              "    <tr style=\"text-align: right;\">\n",
              "      <th></th>\n",
              "      <th>100</th>\n",
              "    </tr>\n",
              "  </thead>\n",
              "  <tbody>\n",
              "    <tr>\n",
              "      <th>rewire_id</th>\n",
              "      <td>sexism2022_english-5433</td>\n",
              "    </tr>\n",
              "    <tr>\n",
              "      <th>text</th>\n",
              "      <td>shower. Fucking plebe. Pretty much that whole ...</td>\n",
              "    </tr>\n",
              "    <tr>\n",
              "      <th>label_sexist</th>\n",
              "      <td>sexist</td>\n",
              "    </tr>\n",
              "  </tbody>\n",
              "</table>\n",
              "</div><br><label><b>dtype:</b> object</label>"
            ]
          },
          "metadata": {},
          "execution_count": 123
        }
      ]
    },
    {
      "cell_type": "code",
      "source": [
        "# Extract original IDs\n",
        "def local_to_global_idx(topk_tensor, original_data, label_type: str):\n",
        "  # Make a copy of the tensor indices\n",
        "  topk_tensor_indices = topk_tensor.indices.clone()\n",
        "  topk_tensor_indices = topk_tensor_indices.cpu().numpy()\n",
        "  for idx, demo_idx in enumerate(topk_tensor_indices):\n",
        "    if label_type == 'sexist':\n",
        "      # Extract the sexist slice, reset indexes to local format and locate the correct one\n",
        "      example = original_data[original_data['label_sexist'] == 'sexist'].reset_index(drop=True).iloc[demo_idx]\n",
        "    else:\n",
        "      # Extract the non-sexist slice, reset indexes to local format and locate the correct one\n",
        "      example = original_data[original_data['label_sexist'] == 'not sexist'].reset_index(drop=True).iloc[demo_idx]\n",
        "\n",
        "    # Get the rewire_id of the example\n",
        "    rewire_id = example['rewire_id']\n",
        "    # Get the original index of the example\n",
        "    original_idx = original_data[original_data['rewire_id'] == rewire_id].index[0]\n",
        "    # Store the original index\n",
        "    topk_tensor_indices[idx] = original_idx\n",
        "  return topk_tensor_indices.tolist()"
      ],
      "metadata": {
        "id": "Gw3DGVjovNsZ"
      },
      "execution_count": 125,
      "outputs": []
    },
    {
      "cell_type": "code",
      "source": [
        "local_to_global_idx(top_k_sexist, demonstrations, label_type='sexist')"
      ],
      "metadata": {
        "id": "rqhXvK_0zm6q"
      },
      "execution_count": null,
      "outputs": []
    },
    {
      "cell_type": "code",
      "source": [
        "demonstrations[demonstrations['label_sexist'] == 'not sexist'].reset_index(drop=True).iloc[123]"
      ],
      "metadata": {
        "id": "wTuVNLk7slvl",
        "outputId": "1d77b2e9-7a48-4655-d40e-f1c8c8be967c",
        "colab": {
          "base_uri": "https://localhost:8080/",
          "height": 178
        }
      },
      "execution_count": 89,
      "outputs": [
        {
          "output_type": "execute_result",
          "data": {
            "text/plain": [
              "rewire_id                                sexism2022_english-12798\n",
              "text            [USER] you are correct. If they are fleeing wa...\n",
              "label_sexist                                           not sexist\n",
              "Name: 123, dtype: object"
            ],
            "text/html": [
              "<div>\n",
              "<style scoped>\n",
              "    .dataframe tbody tr th:only-of-type {\n",
              "        vertical-align: middle;\n",
              "    }\n",
              "\n",
              "    .dataframe tbody tr th {\n",
              "        vertical-align: top;\n",
              "    }\n",
              "\n",
              "    .dataframe thead th {\n",
              "        text-align: right;\n",
              "    }\n",
              "</style>\n",
              "<table border=\"1\" class=\"dataframe\">\n",
              "  <thead>\n",
              "    <tr style=\"text-align: right;\">\n",
              "      <th></th>\n",
              "      <th>123</th>\n",
              "    </tr>\n",
              "  </thead>\n",
              "  <tbody>\n",
              "    <tr>\n",
              "      <th>rewire_id</th>\n",
              "      <td>sexism2022_english-12798</td>\n",
              "    </tr>\n",
              "    <tr>\n",
              "      <th>text</th>\n",
              "      <td>[USER] you are correct. If they are fleeing wa...</td>\n",
              "    </tr>\n",
              "    <tr>\n",
              "      <th>label_sexist</th>\n",
              "      <td>not sexist</td>\n",
              "    </tr>\n",
              "  </tbody>\n",
              "</table>\n",
              "</div><br><label><b>dtype:</b> object</label>"
            ]
          },
          "metadata": {},
          "execution_count": 89
        }
      ]
    },
    {
      "cell_type": "code",
      "source": [
        "manually_checked_examples = {\n",
        "    \"sexist\" : local_to_global_idx(top_k_sexist, demonstrations, label_type='sexist'),\n",
        "    \"not_sexist\" : local_to_global_idx(top_k_non_sexist, demonstrations, label_type='not sexist')\n",
        "}\n",
        "\n",
        "manually_checked_examples"
      ],
      "metadata": {
        "id": "sqtCclSVt_VR",
        "outputId": "e4e5494a-44ce-41c0-c2b5-adb460246a38",
        "colab": {
          "base_uri": "https://localhost:8080/"
        }
      },
      "execution_count": 128,
      "outputs": [
        {
          "output_type": "execute_result",
          "data": {
            "text/plain": [
              "{'sexist': [684, 195, 138, 695], 'not_sexist': [255, 930, 837, 541]}"
            ]
          },
          "metadata": {},
          "execution_count": 128
        }
      ]
    },
    {
      "cell_type": "code",
      "source": [
        "detector.few_shot_experiment(\n",
        "    name='Mistralv3_2_shot_bm25',\n",
        "    model=model,\n",
        "    tokenizer=tokenizer,\n",
        "    data=df,\n",
        "    demonstrations=demonstrations,\n",
        "    prompt_template=prompt_few_shot,\n",
        "    original_labels=original_labels,\n",
        "    models_predictions=models_predictions,\n",
        "    model_metrics=model_metrics,\n",
        "    custom_example_ids=manually_checked_examples,\n",
        "    shots=1,\n",
        "    store_model_predictions=True\n",
        ")"
      ],
      "metadata": {
        "id": "AA049Zjzzx89",
        "outputId": "27426010-cc15-4158-8661-99bd44a4ac4d",
        "colab": {
          "base_uri": "https://localhost:8080/"
        }
      },
      "execution_count": 129,
      "outputs": [
        {
          "output_type": "stream",
          "name": "stdout",
          "text": [
            "Example of few-shot prompt\n",
            "<s>[INST] You are an annotator for sexism detection.\n",
            "\n",
            "Your task is to classify input text as containing sexism or not. Respond only YES or NO.\n",
            "\n",
            "        EXAMPLES:\n",
            "        TEXT: [USER] you are correct. If they are fleeing war, hunger, deprivation and leaving the women and children behind is that the kind of male we want in our countries? I wouldn't breed a mongrel with a purebred because I wouldn't want to degrade the stock.\n",
            "\tANSWER: NO\n",
            "\tTEXT: oi [USER] [USER] you're fucked. OBESE fat cunt knows monkey, has her phone number, and won't turn her in. that's embarrassing for tellmama and faith matters. tut tut. need to make sure they're aware of who they're nominating for awards in future.\n",
            "\tANSWER: YES\n",
            "\n",
            "\n",
            "        TEXT:\n",
            "        The boys must be gaming because there goes the wifi.\n",
            "\n",
            "        ANSWER:\n",
            "        [/INST]\n",
            "----------------------------------------------------------------------------------------------------\n",
            "Inference:\n"
          ]
        },
        {
          "output_type": "stream",
          "name": "stderr",
          "text": [
            "100%|██████████| 300/300 [06:09<00:00,  1.23s/it]\n"
          ]
        },
        {
          "output_type": "stream",
          "name": "stdout",
          "text": [
            "\n",
            "\n",
            "Model: Mistralv3_2_shot_bm25\tMetrics: {'accuracy': 0.73, 'fail_ratio': 0.27}\n"
          ]
        }
      ]
    },
    {
      "cell_type": "code",
      "source": [
        "detector.few_shot_experiment(\n",
        "    name='Mistralv3_4_shot_bm25',\n",
        "    model=model,\n",
        "    tokenizer=tokenizer,\n",
        "    data=df,\n",
        "    demonstrations=demonstrations,\n",
        "    prompt_template=prompt_few_shot,\n",
        "    original_labels=original_labels,\n",
        "    models_predictions=models_predictions,\n",
        "    model_metrics=model_metrics,\n",
        "    custom_example_ids=manually_checked_examples,\n",
        "    shots=2,\n",
        "    store_model_predictions=True\n",
        ")"
      ],
      "metadata": {
        "id": "GPcdcDo13Kvq",
        "outputId": "06444aa3-f75d-4ff3-eafb-930250711b01",
        "colab": {
          "base_uri": "https://localhost:8080/"
        }
      },
      "execution_count": 130,
      "outputs": [
        {
          "output_type": "stream",
          "name": "stdout",
          "text": [
            "Example of few-shot prompt\n",
            "<s>[INST] You are an annotator for sexism detection.\n",
            "\n",
            "Your task is to classify input text as containing sexism or not. Respond only YES or NO.\n",
            "\n",
            "        EXAMPLES:\n",
            "        TEXT: Why not do it in person at work? Even if she's shy, it'd be the most natural thing to do since that's how she knows you. If she's shy like does not ever want to talk shy, then texting would be a good choice\n",
            "\tANSWER: NO\n",
            "\tTEXT: [USER] you are correct. If they are fleeing war, hunger, deprivation and leaving the women and children behind is that the kind of male we want in our countries? I wouldn't breed a mongrel with a purebred because I wouldn't want to degrade the stock.\n",
            "\tANSWER: NO\n",
            "\tTEXT: oi [USER] [USER] you're fucked. OBESE fat cunt knows monkey, has her phone number, and won't turn her in. that's embarrassing for tellmama and faith matters. tut tut. need to make sure they're aware of who they're nominating for awards in future.\n",
            "\tANSWER: YES\n",
            "\tTEXT: shower. Fucking plebe. Pretty much that whole sub. \"Shower. You know you can't pause WOW in the middle of raid, right n00b? God females suck at logic, I'm Going My Own Way! God, I can't wait to tell everyone all the time for the next 50 years.\"\n",
            "\tANSWER: YES\n",
            "\n",
            "\n",
            "        TEXT:\n",
            "        The boys must be gaming because there goes the wifi.\n",
            "\n",
            "        ANSWER:\n",
            "        [/INST]\n",
            "----------------------------------------------------------------------------------------------------\n",
            "Inference:\n"
          ]
        },
        {
          "output_type": "stream",
          "name": "stderr",
          "text": [
            "100%|██████████| 300/300 [06:56<00:00,  1.39s/it]\n"
          ]
        },
        {
          "output_type": "stream",
          "name": "stdout",
          "text": [
            "\n",
            "\n",
            "Model: Mistralv3_4_shot_bm25\tMetrics: {'accuracy': 0.7433333333333333, 'fail_ratio': 0.25666666666666665}\n"
          ]
        }
      ]
    },
    {
      "cell_type": "markdown",
      "source": [
        "---"
      ],
      "metadata": {
        "id": "wsbfQH5bzybX"
      }
    },
    {
      "cell_type": "code",
      "source": [
        "detector.few_shot_experiment(\n",
        "    name='Mistralv3_2_shot',\n",
        "    model=model,\n",
        "    tokenizer=tokenizer,\n",
        "    data=df,\n",
        "    demonstrations=demonstrations,\n",
        "    prompt_template=prompt_few_shot,\n",
        "    original_labels=original_labels,\n",
        "    models_predictions=models_predictions,\n",
        "    model_metrics=model_metrics,\n",
        "    shots=1,\n",
        "    store_model_predictions=True\n",
        ")"
      ],
      "metadata": {
        "colab": {
          "base_uri": "https://localhost:8080/"
        },
        "id": "TblPYnh7YFPz",
        "outputId": "9add991b-9d68-46f6-affa-f9de93cd9771",
        "trusted": true,
        "execution": {
          "iopub.status.busy": "2024-12-28T20:17:04.644708Z",
          "iopub.execute_input": "2024-12-28T20:17:04.645063Z",
          "iopub.status.idle": "2024-12-28T20:29:42.227597Z",
          "shell.execute_reply.started": "2024-12-28T20:17:04.645032Z",
          "shell.execute_reply": "2024-12-28T20:29:42.226666Z"
        }
      },
      "outputs": [
        {
          "name": "stdout",
          "text": "Example of few-shot prompt\n<s>[INST] You are an annotator for sexism detection.\n\nYour task is to classify input text as containing sexism or not. Respond only YES or NO.\n\n        EXAMPLES:\n        TEXT: nothing irks a left wing feminist worse than seeing a beautiful virtuous woman who is conservative they HATE her H-A-T-E so they try to suppress her next it will be illegal to be born beautiful they'll call it \"Hate Birth\"\n\tANSWER: YES\n\tTEXT: Can't see much of her but she's hotter than any vagina-hat wearer in the Women's March\n\tANSWER: NO\n\n\n        TEXT:\n        The boys must be gaming because there goes the wifi.\n\n        ANSWER:\n        [/INST]\n----------------------------------------------------------------------------------------------------\nInference:\n",
          "output_type": "stream"
        },
        {
          "name": "stderr",
          "text": "100%|██████████| 300/300 [12:37<00:00,  2.52s/it]",
          "output_type": "stream"
        },
        {
          "name": "stdout",
          "text": "\n\nModel: Mistralv3_2_shot\tMetrics: {'accuracy': 0.6933333333333334, 'fail_ratio': 0.30666666666666664}\n",
          "output_type": "stream"
        },
        {
          "name": "stderr",
          "text": "\n",
          "output_type": "stream"
        }
      ],
      "execution_count": null
    },
    {
      "cell_type": "markdown",
      "source": [
        "#### Learning by 4-shot randomly sampled examples"
      ],
      "metadata": {
        "id": "zSDUqAWDuVQ-"
      }
    },
    {
      "cell_type": "code",
      "source": [
        "detector.few_shot_experiment(\n",
        "    name='Mistralv3_4_shot',\n",
        "    model=model,\n",
        "    tokenizer=tokenizer,\n",
        "    data=df,\n",
        "    demonstrations=demonstrations,\n",
        "    prompt_template=prompt_few_shot,\n",
        "    original_labels=original_labels,\n",
        "    models_predictions=models_predictions,\n",
        "    model_metrics=model_metrics,\n",
        "    shots=2,\n",
        "    store_model_predictions=True\n",
        ")"
      ],
      "metadata": {
        "colab": {
          "base_uri": "https://localhost:8080/"
        },
        "id": "T47iRshnY2Ph",
        "outputId": "bfeef7d4-b558-457c-93e1-f2df397d865c",
        "trusted": true,
        "execution": {
          "iopub.status.busy": "2024-12-28T20:29:42.230660Z",
          "iopub.execute_input": "2024-12-28T20:29:42.230883Z",
          "iopub.status.idle": "2024-12-28T20:35:50.609486Z",
          "shell.execute_reply.started": "2024-12-28T20:29:42.230863Z",
          "shell.execute_reply": "2024-12-28T20:35:50.608706Z"
        }
      },
      "outputs": [
        {
          "name": "stdout",
          "text": "Example of few-shot prompt\n<s>[INST] You are an annotator for sexism detection.\n\nYour task is to classify input text as containing sexism or not. Respond only YES or NO.\n\n        EXAMPLES:\n        TEXT: DOES BLACK HAMILTON STAR DRUNK-RAPE WHITE WOMEN? If you name-check the VP-Elect of the United States in a one-sided insulting harangue, it'd be wise to delete the tweets that suggest you rape drunk white girls: #BoycottHamilton [URL]\n\tANSWER: NO\n\tTEXT: Can't see much of her but she's hotter than any vagina-hat wearer in the Women's March\n\tANSWER: NO\n\tTEXT: nothing irks a left wing feminist worse than seeing a beautiful virtuous woman who is conservative they HATE her H-A-T-E so they try to suppress her next it will be illegal to be born beautiful they'll call it \"Hate Birth\"\n\tANSWER: YES\n\tTEXT: Get #TRIGGERED, Hillaryfags, femme-fags, and feminazis: [URL] #MAGA #TRUMP #ELECTION2016 [URL]\n\tANSWER: YES\n\n\n        TEXT:\n        The boys must be gaming because there goes the wifi.\n\n        ANSWER:\n        [/INST]\n----------------------------------------------------------------------------------------------------\nInference:\n",
          "output_type": "stream"
        },
        {
          "name": "stderr",
          "text": "100%|██████████| 300/300 [06:07<00:00,  1.23s/it]\n",
          "output_type": "stream"
        },
        {
          "name": "stdout",
          "text": "\n\nModel: Mistralv3_4_shot\tMetrics: {'accuracy': 0.73, 'fail_ratio': 0.27}\n",
          "output_type": "stream"
        }
      ],
      "execution_count": null
    },
    {
      "cell_type": "markdown",
      "source": [
        "#### Learning by 8-shot randomly sampled examples"
      ],
      "metadata": {
        "id": "Q3vNuk3GuadK"
      }
    },
    {
      "cell_type": "code",
      "source": [
        "detector.few_shot_experiment(\n",
        "    name='Mistralv3_8_shot',\n",
        "    model=model,\n",
        "    tokenizer=tokenizer,\n",
        "    data=df,\n",
        "    demonstrations=demonstrations,\n",
        "    prompt_template=prompt_few_shot,\n",
        "    original_labels=original_labels,\n",
        "    models_predictions=models_predictions,\n",
        "    model_metrics=model_metrics,\n",
        "    shots=4,\n",
        "    store_model_predictions=True\n",
        ")"
      ],
      "metadata": {
        "colab": {
          "base_uri": "https://localhost:8080/"
        },
        "id": "GO-put-jY7CW",
        "outputId": "cd7b03c3-ed4d-46da-ace8-5611feef16f7",
        "trusted": true,
        "execution": {
          "iopub.status.busy": "2024-12-28T20:35:50.614174Z",
          "iopub.execute_input": "2024-12-28T20:35:50.614412Z",
          "iopub.status.idle": "2024-12-28T20:42:21.823854Z",
          "shell.execute_reply.started": "2024-12-28T20:35:50.614385Z",
          "shell.execute_reply": "2024-12-28T20:42:21.822895Z"
        }
      },
      "outputs": [
        {
          "name": "stdout",
          "text": "Example of few-shot prompt\n<s>[INST] You are an annotator for sexism detection.\n\nYour task is to classify input text as containing sexism or not. Respond only YES or NO.\n\n        EXAMPLES:\n        TEXT: Can't see much of her but she's hotter than any vagina-hat wearer in the Women's March\n\tANSWER: NO\n\tTEXT: HAHAHA! Why would an alpha get married to an old hag when he has literally hundreds of hot 18-19 year olds (and older bitches too but eeewww amirite??) begging him to fuck them? Feeeemale logic.\n\tANSWER: YES\n\tTEXT: DOES BLACK HAMILTON STAR DRUNK-RAPE WHITE WOMEN? If you name-check the VP-Elect of the United States in a one-sided insulting harangue, it'd be wise to delete the tweets that suggest you rape drunk white girls: #BoycottHamilton [URL]\n\tANSWER: NO\n\tTEXT: nothing irks a left wing feminist worse than seeing a beautiful virtuous woman who is conservative they HATE her H-A-T-E so they try to suppress her next it will be illegal to be born beautiful they'll call it \"Hate Birth\"\n\tANSWER: YES\n\tTEXT: You mean like incels punch down on women?\n\tANSWER: NO\n\tTEXT: Once a pretty Jewish girl Worked at a place I used to drink. Prettier than Ann Frank, I think. Mama raised me a Christian world. Bar girl didn't give two toots, but I cared about my Christian Roots (((J U D A I S M)))\n\tANSWER: NO\n\tTEXT: Ohthisfucking fits so fking perfectly I am laughing my ass off! Scary bitch she is the devil and it is perfect it's in her state of ARKANSAS!!!\n\tANSWER: YES\n\tTEXT: Get #TRIGGERED, Hillaryfags, femme-fags, and feminazis: [URL] #MAGA #TRUMP #ELECTION2016 [URL]\n\tANSWER: YES\n\n\n        TEXT:\n        The boys must be gaming because there goes the wifi.\n\n        ANSWER:\n        [/INST]\n----------------------------------------------------------------------------------------------------\nInference:\n",
          "output_type": "stream"
        },
        {
          "name": "stderr",
          "text": "100%|██████████| 300/300 [06:30<00:00,  1.30s/it]\n",
          "output_type": "stream"
        },
        {
          "name": "stdout",
          "text": "\n\nModel: Mistralv3_8_shot\tMetrics: {'accuracy': 0.73, 'fail_ratio': 0.27}\n",
          "output_type": "stream"
        }
      ],
      "execution_count": null
    },
    {
      "cell_type": "markdown",
      "source": [
        "#### Mistral metrics so far"
      ],
      "metadata": {
        "id": "3qZYZ91YY-QB"
      }
    },
    {
      "cell_type": "code",
      "source": [
        "model_metrics"
      ],
      "metadata": {
        "colab": {
          "base_uri": "https://localhost:8080/",
          "height": 206
        },
        "id": "ClIt4V0JEF-H",
        "outputId": "bd688be6-9dcf-45c1-da68-613ba1ab0c7b",
        "trusted": true,
        "execution": {
          "iopub.status.busy": "2024-12-28T20:42:21.829474Z",
          "iopub.execute_input": "2024-12-28T20:42:21.829708Z",
          "iopub.status.idle": "2024-12-28T20:42:21.837835Z",
          "shell.execute_reply.started": "2024-12-28T20:42:21.829686Z",
          "shell.execute_reply": "2024-12-28T20:42:21.837020Z"
        }
      },
      "outputs": [
        {
          "execution_count": 26,
          "output_type": "execute_result",
          "data": {
            "text/plain": "              model  accuracy  fail_ratio\n0  Mistralv3_0_shot  0.613333    0.386667\n1  Mistralv3_2_shot  0.693333    0.306667\n2  Mistralv3_4_shot  0.730000    0.270000\n3  Mistralv3_8_shot  0.730000    0.270000",
            "text/html": "<div>\n<style scoped>\n    .dataframe tbody tr th:only-of-type {\n        vertical-align: middle;\n    }\n\n    .dataframe tbody tr th {\n        vertical-align: top;\n    }\n\n    .dataframe thead th {\n        text-align: right;\n    }\n</style>\n<table border=\"1\" class=\"dataframe\">\n  <thead>\n    <tr style=\"text-align: right;\">\n      <th></th>\n      <th>model</th>\n      <th>accuracy</th>\n      <th>fail_ratio</th>\n    </tr>\n  </thead>\n  <tbody>\n    <tr>\n      <th>0</th>\n      <td>Mistralv3_0_shot</td>\n      <td>0.613333</td>\n      <td>0.386667</td>\n    </tr>\n    <tr>\n      <th>1</th>\n      <td>Mistralv3_2_shot</td>\n      <td>0.693333</td>\n      <td>0.306667</td>\n    </tr>\n    <tr>\n      <th>2</th>\n      <td>Mistralv3_4_shot</td>\n      <td>0.730000</td>\n      <td>0.270000</td>\n    </tr>\n    <tr>\n      <th>3</th>\n      <td>Mistralv3_8_shot</td>\n      <td>0.730000</td>\n      <td>0.270000</td>\n    </tr>\n  </tbody>\n</table>\n</div>"
          },
          "metadata": {}
        }
      ],
      "execution_count": null
    },
    {
      "cell_type": "markdown",
      "source": [
        "### Task 5.3 - Few shot with manually checked examples"
      ],
      "metadata": {
        "id": "eAURpN5_oEsV"
      }
    },
    {
      "cell_type": "code",
      "source": [
        "manually_checked_examples = {\n",
        "    \"sexist\" : [7, 10, 23, 37],\n",
        "    \"not_sexist\" : [14, 15, 24, 32]\n",
        "}"
      ],
      "metadata": {
        "id": "h2OxB3Ubp6fE",
        "trusted": true,
        "execution": {
          "iopub.status.busy": "2024-12-28T20:42:21.838722Z",
          "iopub.execute_input": "2024-12-28T20:42:21.838976Z",
          "iopub.status.idle": "2024-12-28T20:42:21.856561Z",
          "shell.execute_reply.started": "2024-12-28T20:42:21.838946Z",
          "shell.execute_reply": "2024-12-28T20:42:21.855737Z"
        }
      },
      "outputs": [],
      "execution_count": null
    },
    {
      "cell_type": "code",
      "source": [
        "for key, values in manually_checked_examples.items():\n",
        "  print(f\"Examples for {key}\")\n",
        "  for value in values:\n",
        "    print(\"[\", demonstrations.iloc[value]['label_sexist'], \"] \", demonstrations.iloc[value]['text'])\n",
        "  print()"
      ],
      "metadata": {
        "colab": {
          "base_uri": "https://localhost:8080/"
        },
        "id": "ixDvXG0NIT-5",
        "outputId": "1fced3cf-aa51-42f7-a0ce-448e98e529ca",
        "trusted": true,
        "execution": {
          "iopub.status.busy": "2024-12-28T20:42:21.857357Z",
          "iopub.execute_input": "2024-12-28T20:42:21.857565Z",
          "iopub.status.idle": "2024-12-28T20:42:21.880984Z",
          "shell.execute_reply.started": "2024-12-28T20:42:21.857546Z",
          "shell.execute_reply": "2024-12-28T20:42:21.880101Z"
        }
      },
      "outputs": [
        {
          "name": "stdout",
          "text": "Examples for sexist\n[ sexist ]  Don't bother arguing with women. They don't care about the truth, only feelings.\n[ sexist ]  the stupid bitch thinks she's edgy and a 'bad ass'. these hoes are so fucking lame. bet the dumb bitch got 20,000 likes and simps saying retarded shit in her comments.\n[ sexist ]  The worthless bitch May her time is almost over ,there's a new man on the block motto Britain first British people first his name Jacob Rees Mogg now known as JRM to the people\n[ sexist ]  It’s different if you’re a woman. Spreading your legs just gives you sex\n\nExamples for not_sexist\n[ not sexist ]  Not all interactions with women have to result in dating, sex, or relationships. Just sharing a brief moment of subtle desire with a woman can be a sensual experience.\n[ not sexist ]  \"The stories of sexual harassment of women that Hollywood won't be telling.\" [URL]\n[ not sexist ]  That's the story, but I'm willing to bet that he just doesn't want to be part of all the mess that the royal family is involved with. I mean they did kill his mother after all.\n[ not sexist ]  hahahahahahah sad!! and ya i just noticed i already was following her.\n\n",
          "output_type": "stream"
        }
      ],
      "execution_count": null
    },
    {
      "cell_type": "markdown",
      "source": [
        "#### Learning by 2-shot manually checked examples"
      ],
      "metadata": {
        "id": "S-l_ksVXLMDE"
      }
    },
    {
      "cell_type": "code",
      "source": [
        "detector.few_shot_experiment(\n",
        "    name='Mistralv3_2_shot_custom',\n",
        "    model=model,\n",
        "    tokenizer=tokenizer,\n",
        "    data=df,\n",
        "    demonstrations=demonstrations,\n",
        "    prompt_template=prompt_few_shot,\n",
        "    original_labels=original_labels,\n",
        "    models_predictions=models_predictions,\n",
        "    model_metrics=model_metrics,\n",
        "    custom_example_ids=manually_checked_examples,\n",
        "    shots=1,\n",
        "    store_model_predictions=True\n",
        ")"
      ],
      "metadata": {
        "id": "rkc4vAlXv_gw",
        "trusted": true,
        "execution": {
          "iopub.status.busy": "2024-12-28T20:42:21.881673Z",
          "iopub.execute_input": "2024-12-28T20:42:21.881880Z",
          "iopub.status.idle": "2024-12-28T20:52:14.842647Z",
          "shell.execute_reply.started": "2024-12-28T20:42:21.881861Z",
          "shell.execute_reply": "2024-12-28T20:52:14.841723Z"
        },
        "outputId": "8e41830b-d15b-4067-a38e-b13ce84f7fe0"
      },
      "outputs": [
        {
          "name": "stdout",
          "text": "Example of few-shot prompt\n<s>[INST] You are an annotator for sexism detection.\n\nYour task is to classify input text as containing sexism or not. Respond only YES or NO.\n\n        EXAMPLES:\n        TEXT: Don't bother arguing with women. They don't care about the truth, only feelings.\n\tANSWER: YES\n\tTEXT: Not all interactions with women have to result in dating, sex, or relationships. Just sharing a brief moment of subtle desire with a woman can be a sensual experience.\n\tANSWER: NO\n\n\n        TEXT:\n        The boys must be gaming because there goes the wifi.\n\n        ANSWER:\n        [/INST]\n----------------------------------------------------------------------------------------------------\nInference:\n",
          "output_type": "stream"
        },
        {
          "name": "stderr",
          "text": "100%|██████████| 300/300 [09:52<00:00,  1.98s/it]",
          "output_type": "stream"
        },
        {
          "name": "stdout",
          "text": "\n\nModel: Mistralv3_2_shot_custom\tMetrics: {'accuracy': 0.64, 'fail_ratio': 0.36}\n",
          "output_type": "stream"
        },
        {
          "name": "stderr",
          "text": "\n",
          "output_type": "stream"
        }
      ],
      "execution_count": null
    },
    {
      "cell_type": "markdown",
      "source": [
        "#### Learning by 4-shot manually checked examples"
      ],
      "metadata": {
        "id": "928N3aykLPNJ"
      }
    },
    {
      "cell_type": "code",
      "source": [
        "detector.few_shot_experiment(\n",
        "    name='Mistralv3_4_shot_custom',\n",
        "    model=model,\n",
        "    tokenizer=tokenizer,\n",
        "    data=df,\n",
        "    demonstrations=demonstrations,\n",
        "    prompt_template=prompt_few_shot,\n",
        "    original_labels=original_labels,\n",
        "    models_predictions=models_predictions,\n",
        "    model_metrics=model_metrics,\n",
        "    custom_example_ids=manually_checked_examples,\n",
        "    shots=2,\n",
        "    store_model_predictions=True\n",
        ")"
      ],
      "metadata": {
        "id": "hlVkL_ic3D14",
        "trusted": true,
        "execution": {
          "iopub.status.busy": "2024-12-28T20:52:14.846853Z",
          "iopub.execute_input": "2024-12-28T20:52:14.847109Z",
          "iopub.status.idle": "2024-12-28T21:01:01.025429Z",
          "shell.execute_reply.started": "2024-12-28T20:52:14.847088Z",
          "shell.execute_reply": "2024-12-28T21:01:01.024543Z"
        },
        "outputId": "708f942a-7607-42bc-e957-dbd066f1d03d"
      },
      "outputs": [
        {
          "name": "stdout",
          "text": "Example of few-shot prompt\n<s>[INST] You are an annotator for sexism detection.\n\nYour task is to classify input text as containing sexism or not. Respond only YES or NO.\n\n        EXAMPLES:\n        TEXT: the stupid bitch thinks she's edgy and a 'bad ass'. these hoes are so fucking lame. bet the dumb bitch got 20,000 likes and simps saying retarded shit in her comments.\n\tANSWER: YES\n\tTEXT: Don't bother arguing with women. They don't care about the truth, only feelings.\n\tANSWER: YES\n\tTEXT: \"The stories of sexual harassment of women that Hollywood won't be telling.\" [URL]\n\tANSWER: NO\n\tTEXT: Not all interactions with women have to result in dating, sex, or relationships. Just sharing a brief moment of subtle desire with a woman can be a sensual experience.\n\tANSWER: NO\n\n\n        TEXT:\n        The boys must be gaming because there goes the wifi.\n\n        ANSWER:\n        [/INST]\n----------------------------------------------------------------------------------------------------\nInference:\n",
          "output_type": "stream"
        },
        {
          "name": "stderr",
          "text": "100%|██████████| 300/300 [08:45<00:00,  1.75s/it]\n",
          "output_type": "stream"
        },
        {
          "name": "stdout",
          "text": "\n\nModel: Mistralv3_4_shot_custom\tMetrics: {'accuracy': 0.7, 'fail_ratio': 0.3}\n",
          "output_type": "stream"
        }
      ],
      "execution_count": null
    },
    {
      "cell_type": "markdown",
      "source": [
        "#### Learning by 8-shot manually checked examples"
      ],
      "metadata": {
        "id": "U42p8NPWL0EO"
      }
    },
    {
      "cell_type": "code",
      "source": [
        "detector.few_shot_experiment(\n",
        "    name='Mistralv3_8_shot_custom',\n",
        "    model=model,\n",
        "    tokenizer=tokenizer,\n",
        "    data=df,\n",
        "    demonstrations=demonstrations,\n",
        "    prompt_template=prompt_few_shot,\n",
        "    original_labels=original_labels,\n",
        "    models_predictions=models_predictions,\n",
        "    model_metrics=model_metrics,\n",
        "    custom_example_ids=manually_checked_examples,\n",
        "    shots=4,\n",
        "    store_model_predictions=True\n",
        ")"
      ],
      "metadata": {
        "id": "kgvxsyQ83XAy",
        "trusted": true,
        "execution": {
          "iopub.status.busy": "2024-12-28T21:01:01.029676Z",
          "iopub.execute_input": "2024-12-28T21:01:01.029918Z",
          "iopub.status.idle": "2024-12-28T21:08:07.805225Z",
          "shell.execute_reply.started": "2024-12-28T21:01:01.029895Z",
          "shell.execute_reply": "2024-12-28T21:08:07.804505Z"
        },
        "outputId": "420c5c66-2e3b-41d3-a81b-9020a5a43365"
      },
      "outputs": [
        {
          "name": "stdout",
          "text": "Example of few-shot prompt\n<s>[INST] You are an annotator for sexism detection.\n\nYour task is to classify input text as containing sexism or not. Respond only YES or NO.\n\n        EXAMPLES:\n        TEXT: \"The stories of sexual harassment of women that Hollywood won't be telling.\" [URL]\n\tANSWER: NO\n\tTEXT: That's the story, but I'm willing to bet that he just doesn't want to be part of all the mess that the royal family is involved with. I mean they did kill his mother after all.\n\tANSWER: NO\n\tTEXT: It’s different if you’re a woman. Spreading your legs just gives you sex\n\tANSWER: YES\n\tTEXT: the stupid bitch thinks she's edgy and a 'bad ass'. these hoes are so fucking lame. bet the dumb bitch got 20,000 likes and simps saying retarded shit in her comments.\n\tANSWER: YES\n\tTEXT: The worthless bitch May her time is almost over ,there's a new man on the block motto Britain first British people first his name Jacob Rees Mogg now known as JRM to the people\n\tANSWER: YES\n\tTEXT: Don't bother arguing with women. They don't care about the truth, only feelings.\n\tANSWER: YES\n\tTEXT: Not all interactions with women have to result in dating, sex, or relationships. Just sharing a brief moment of subtle desire with a woman can be a sensual experience.\n\tANSWER: NO\n\tTEXT: hahahahahahah sad!! and ya i just noticed i already was following her.\n\tANSWER: NO\n\n\n        TEXT:\n        The boys must be gaming because there goes the wifi.\n\n        ANSWER:\n        [/INST]\n----------------------------------------------------------------------------------------------------\nInference:\n",
          "output_type": "stream"
        },
        {
          "name": "stderr",
          "text": "100%|██████████| 300/300 [07:06<00:00,  1.42s/it]\n",
          "output_type": "stream"
        },
        {
          "name": "stdout",
          "text": "\n\nModel: Mistralv3_8_shot_custom\tMetrics: {'accuracy': 0.74, 'fail_ratio': 0.26}\n",
          "output_type": "stream"
        }
      ],
      "execution_count": null
    },
    {
      "cell_type": "code",
      "source": [
        "model_metrics"
      ],
      "metadata": {
        "trusted": true,
        "execution": {
          "iopub.status.busy": "2024-12-28T21:08:07.810020Z",
          "iopub.execute_input": "2024-12-28T21:08:07.810262Z",
          "iopub.status.idle": "2024-12-28T21:08:07.818992Z",
          "shell.execute_reply.started": "2024-12-28T21:08:07.810240Z",
          "shell.execute_reply": "2024-12-28T21:08:07.818245Z"
        },
        "id": "REsKX_yMlfFb",
        "outputId": "a2f750c8-2ade-4562-df73-3adca3c68097"
      },
      "outputs": [
        {
          "execution_count": 32,
          "output_type": "execute_result",
          "data": {
            "text/plain": "                     model  accuracy  fail_ratio\n0         Mistralv3_0_shot  0.613333    0.386667\n1         Mistralv3_2_shot  0.693333    0.306667\n2         Mistralv3_4_shot  0.730000    0.270000\n3         Mistralv3_8_shot  0.730000    0.270000\n4  Mistralv3_2_shot_custom  0.640000    0.360000\n5  Mistralv3_4_shot_custom  0.700000    0.300000\n6  Mistralv3_8_shot_custom  0.740000    0.260000",
            "text/html": "<div>\n<style scoped>\n    .dataframe tbody tr th:only-of-type {\n        vertical-align: middle;\n    }\n\n    .dataframe tbody tr th {\n        vertical-align: top;\n    }\n\n    .dataframe thead th {\n        text-align: right;\n    }\n</style>\n<table border=\"1\" class=\"dataframe\">\n  <thead>\n    <tr style=\"text-align: right;\">\n      <th></th>\n      <th>model</th>\n      <th>accuracy</th>\n      <th>fail_ratio</th>\n    </tr>\n  </thead>\n  <tbody>\n    <tr>\n      <th>0</th>\n      <td>Mistralv3_0_shot</td>\n      <td>0.613333</td>\n      <td>0.386667</td>\n    </tr>\n    <tr>\n      <th>1</th>\n      <td>Mistralv3_2_shot</td>\n      <td>0.693333</td>\n      <td>0.306667</td>\n    </tr>\n    <tr>\n      <th>2</th>\n      <td>Mistralv3_4_shot</td>\n      <td>0.730000</td>\n      <td>0.270000</td>\n    </tr>\n    <tr>\n      <th>3</th>\n      <td>Mistralv3_8_shot</td>\n      <td>0.730000</td>\n      <td>0.270000</td>\n    </tr>\n    <tr>\n      <th>4</th>\n      <td>Mistralv3_2_shot_custom</td>\n      <td>0.640000</td>\n      <td>0.360000</td>\n    </tr>\n    <tr>\n      <th>5</th>\n      <td>Mistralv3_4_shot_custom</td>\n      <td>0.700000</td>\n      <td>0.300000</td>\n    </tr>\n    <tr>\n      <th>6</th>\n      <td>Mistralv3_8_shot_custom</td>\n      <td>0.740000</td>\n      <td>0.260000</td>\n    </tr>\n  </tbody>\n</table>\n</div>"
          },
          "metadata": {}
        }
      ],
      "execution_count": null
    },
    {
      "cell_type": "markdown",
      "source": [
        "## Task 5.3.1: Few shot with more not-sexist examples"
      ],
      "metadata": {
        "id": "HLyfUSocBCRy"
      }
    },
    {
      "cell_type": "markdown",
      "source": [
        "### 1_3 shot: 1 sexist and 3 not sexist examples"
      ],
      "metadata": {
        "id": "8SpK_b6zCWwm"
      }
    },
    {
      "cell_type": "code",
      "source": [
        "detector.few_shot_experiment(\n",
        "    name='Mistralv3_1_3_shot',\n",
        "    model=model,\n",
        "    tokenizer=tokenizer,\n",
        "    data=df,\n",
        "    demonstrations=demonstrations,\n",
        "    prompt_template=prompt_few_shot,\n",
        "    original_labels=original_labels,\n",
        "    models_predictions=models_predictions,\n",
        "    model_metrics=model_metrics,\n",
        "    shots=[1, 3],\n",
        "    store_model_predictions=True\n",
        ")"
      ],
      "metadata": {
        "trusted": true,
        "execution": {
          "iopub.status.busy": "2024-12-28T21:08:07.819807Z",
          "iopub.execute_input": "2024-12-28T21:08:07.820032Z",
          "iopub.status.idle": "2024-12-28T21:15:02.736995Z",
          "shell.execute_reply.started": "2024-12-28T21:08:07.820013Z",
          "shell.execute_reply": "2024-12-28T21:15:02.736241Z"
        },
        "id": "d8xLDzyTlfFc",
        "outputId": "53c6b6f0-0b86-4603-f692-c2ca839f8dde"
      },
      "outputs": [
        {
          "name": "stdout",
          "text": "Example of few-shot prompt\n<s>[INST] You are an annotator for sexism detection.\n\nYour task is to classify input text as containing sexism or not. Respond only YES or NO.\n\n        EXAMPLES:\n        TEXT: You mean like incels punch down on women?\n\tANSWER: NO\n\tTEXT: nothing irks a left wing feminist worse than seeing a beautiful virtuous woman who is conservative they HATE her H-A-T-E so they try to suppress her next it will be illegal to be born beautiful they'll call it \"Hate Birth\"\n\tANSWER: YES\n\tTEXT: DOES BLACK HAMILTON STAR DRUNK-RAPE WHITE WOMEN? If you name-check the VP-Elect of the United States in a one-sided insulting harangue, it'd be wise to delete the tweets that suggest you rape drunk white girls: #BoycottHamilton [URL]\n\tANSWER: NO\n\tTEXT: Can't see much of her but she's hotter than any vagina-hat wearer in the Women's March\n\tANSWER: NO\n\n\n        TEXT:\n        The boys must be gaming because there goes the wifi.\n\n        ANSWER:\n        [/INST]\n----------------------------------------------------------------------------------------------------\nInference:\n",
          "output_type": "stream"
        },
        {
          "name": "stderr",
          "text": "100%|██████████| 300/300 [06:54<00:00,  1.38s/it]\n",
          "output_type": "stream"
        },
        {
          "name": "stdout",
          "text": "\n\nModel: Mistralv3_1_3_shot\tMetrics: {'accuracy': 0.74, 'fail_ratio': 0.26}\n",
          "output_type": "stream"
        }
      ],
      "execution_count": null
    },
    {
      "cell_type": "markdown",
      "source": [
        "### 0_4 shot"
      ],
      "metadata": {
        "id": "4bye8yzKELZ4"
      }
    },
    {
      "cell_type": "code",
      "source": [
        "detector.few_shot_experiment(\n",
        "    name='Mistralv3_0_4_shot',\n",
        "    model=model,\n",
        "    tokenizer=tokenizer,\n",
        "    data=df,\n",
        "    demonstrations=demonstrations,\n",
        "    prompt_template=prompt_few_shot,\n",
        "    original_labels=original_labels,\n",
        "    models_predictions=models_predictions,\n",
        "    model_metrics=model_metrics,\n",
        "    shots=[0, 4],\n",
        "    store_model_predictions=True\n",
        ")"
      ],
      "metadata": {
        "trusted": true,
        "execution": {
          "iopub.status.busy": "2024-12-28T21:15:02.741256Z",
          "iopub.execute_input": "2024-12-28T21:15:02.741497Z",
          "iopub.status.idle": "2024-12-28T21:21:29.948550Z",
          "shell.execute_reply.started": "2024-12-28T21:15:02.741476Z",
          "shell.execute_reply": "2024-12-28T21:21:29.947670Z"
        },
        "id": "pGsTfpaulfFc",
        "outputId": "377b0482-940b-4b25-ca3d-24a353d737a2"
      },
      "outputs": [
        {
          "name": "stdout",
          "text": "Example of few-shot prompt\n<s>[INST] You are an annotator for sexism detection.\n\nYour task is to classify input text as containing sexism or not. Respond only YES or NO.\n\n        EXAMPLES:\n        TEXT: Once a pretty Jewish girl Worked at a place I used to drink. Prettier than Ann Frank, I think. Mama raised me a Christian world. Bar girl didn't give two toots, but I cared about my Christian Roots (((J U D A I S M)))\n\tANSWER: NO\n\tTEXT: DOES BLACK HAMILTON STAR DRUNK-RAPE WHITE WOMEN? If you name-check the VP-Elect of the United States in a one-sided insulting harangue, it'd be wise to delete the tweets that suggest you rape drunk white girls: #BoycottHamilton [URL]\n\tANSWER: NO\n\tTEXT: Can't see much of her but she's hotter than any vagina-hat wearer in the Women's March\n\tANSWER: NO\n\tTEXT: You mean like incels punch down on women?\n\tANSWER: NO\n\n\n        TEXT:\n        The boys must be gaming because there goes the wifi.\n\n        ANSWER:\n        [/INST]\n----------------------------------------------------------------------------------------------------\nInference:\n",
          "output_type": "stream"
        },
        {
          "name": "stderr",
          "text": "100%|██████████| 300/300 [06:26<00:00,  1.29s/it]\n",
          "output_type": "stream"
        },
        {
          "name": "stdout",
          "text": "\n\nModel: Mistralv3_0_4_shot\tMetrics: {'accuracy': 0.77, 'fail_ratio': 0.23}\n",
          "output_type": "stream"
        }
      ],
      "execution_count": null
    },
    {
      "cell_type": "code",
      "source": [
        "model_metrics"
      ],
      "metadata": {
        "trusted": true,
        "execution": {
          "iopub.status.busy": "2024-12-28T21:21:29.953300Z",
          "iopub.execute_input": "2024-12-28T21:21:29.953553Z",
          "iopub.status.idle": "2024-12-28T21:21:29.961649Z",
          "shell.execute_reply.started": "2024-12-28T21:21:29.953530Z",
          "shell.execute_reply": "2024-12-28T21:21:29.960997Z"
        },
        "id": "96lfVvXFlfFc",
        "outputId": "aedc8361-5759-44ce-a134-af23236b0f1c"
      },
      "outputs": [
        {
          "execution_count": 35,
          "output_type": "execute_result",
          "data": {
            "text/plain": "                     model  accuracy  fail_ratio\n0         Mistralv3_0_shot  0.613333    0.386667\n1         Mistralv3_2_shot  0.693333    0.306667\n2         Mistralv3_4_shot  0.730000    0.270000\n3         Mistralv3_8_shot  0.730000    0.270000\n4  Mistralv3_2_shot_custom  0.640000    0.360000\n5  Mistralv3_4_shot_custom  0.700000    0.300000\n6  Mistralv3_8_shot_custom  0.740000    0.260000\n7       Mistralv3_1_3_shot  0.740000    0.260000\n8       Mistralv3_0_4_shot  0.770000    0.230000",
            "text/html": "<div>\n<style scoped>\n    .dataframe tbody tr th:only-of-type {\n        vertical-align: middle;\n    }\n\n    .dataframe tbody tr th {\n        vertical-align: top;\n    }\n\n    .dataframe thead th {\n        text-align: right;\n    }\n</style>\n<table border=\"1\" class=\"dataframe\">\n  <thead>\n    <tr style=\"text-align: right;\">\n      <th></th>\n      <th>model</th>\n      <th>accuracy</th>\n      <th>fail_ratio</th>\n    </tr>\n  </thead>\n  <tbody>\n    <tr>\n      <th>0</th>\n      <td>Mistralv3_0_shot</td>\n      <td>0.613333</td>\n      <td>0.386667</td>\n    </tr>\n    <tr>\n      <th>1</th>\n      <td>Mistralv3_2_shot</td>\n      <td>0.693333</td>\n      <td>0.306667</td>\n    </tr>\n    <tr>\n      <th>2</th>\n      <td>Mistralv3_4_shot</td>\n      <td>0.730000</td>\n      <td>0.270000</td>\n    </tr>\n    <tr>\n      <th>3</th>\n      <td>Mistralv3_8_shot</td>\n      <td>0.730000</td>\n      <td>0.270000</td>\n    </tr>\n    <tr>\n      <th>4</th>\n      <td>Mistralv3_2_shot_custom</td>\n      <td>0.640000</td>\n      <td>0.360000</td>\n    </tr>\n    <tr>\n      <th>5</th>\n      <td>Mistralv3_4_shot_custom</td>\n      <td>0.700000</td>\n      <td>0.300000</td>\n    </tr>\n    <tr>\n      <th>6</th>\n      <td>Mistralv3_8_shot_custom</td>\n      <td>0.740000</td>\n      <td>0.260000</td>\n    </tr>\n    <tr>\n      <th>7</th>\n      <td>Mistralv3_1_3_shot</td>\n      <td>0.740000</td>\n      <td>0.260000</td>\n    </tr>\n    <tr>\n      <th>8</th>\n      <td>Mistralv3_0_4_shot</td>\n      <td>0.770000</td>\n      <td>0.230000</td>\n    </tr>\n  </tbody>\n</table>\n</div>"
          },
          "metadata": {}
        }
      ],
      "execution_count": null
    },
    {
      "cell_type": "markdown",
      "source": [
        "# Model 2 - Llama 3.1 8B"
      ],
      "metadata": {
        "id": "mk4fkuU63rud"
      }
    },
    {
      "cell_type": "markdown",
      "source": [
        "## Task 1 - Model setup"
      ],
      "metadata": {
        "id": "3sBEW4Bt4XZc"
      }
    },
    {
      "cell_type": "code",
      "source": [
        "del model"
      ],
      "metadata": {
        "trusted": true,
        "execution": {
          "iopub.status.busy": "2024-12-28T21:21:43.883591Z",
          "iopub.execute_input": "2024-12-28T21:21:43.883875Z",
          "iopub.status.idle": "2024-12-28T21:21:43.887585Z",
          "shell.execute_reply.started": "2024-12-28T21:21:43.883852Z",
          "shell.execute_reply": "2024-12-28T21:21:43.886628Z"
        },
        "id": "pkMLSp8dlfFd"
      },
      "outputs": [],
      "execution_count": null
    },
    {
      "cell_type": "code",
      "source": [
        "torch.cuda.empty_cache()\n",
        "\n",
        "with torch.no_grad():\n",
        "    torch.cuda.empty_cache()\n",
        "\n",
        "gc.collect()"
      ],
      "metadata": {
        "trusted": true,
        "execution": {
          "iopub.status.busy": "2024-12-28T21:21:45.185338Z",
          "iopub.execute_input": "2024-12-28T21:21:45.185668Z",
          "iopub.status.idle": "2024-12-28T21:21:45.525534Z",
          "shell.execute_reply.started": "2024-12-28T21:21:45.185645Z",
          "shell.execute_reply": "2024-12-28T21:21:45.524709Z"
        },
        "id": "2l2acxzNlfFd",
        "outputId": "85c7beb3-3d48-4a24-b214-c56f2882a2e9"
      },
      "outputs": [
        {
          "execution_count": 37,
          "output_type": "execute_result",
          "data": {
            "text/plain": "12905"
          },
          "metadata": {}
        }
      ],
      "execution_count": null
    },
    {
      "cell_type": "code",
      "source": [
        "#load Llama3.1 8B model\n",
        "model_card = 'meta-llama/Meta-Llama-3.1-8B-Instruct'\n",
        "model, tokenizer = detector.load_model(model_card, with_4_bit=False)\n",
        "\n",
        "device = model.device\n",
        "print(f'Model loaded on {device}')"
      ],
      "metadata": {
        "colab": {
          "base_uri": "https://localhost:8080/",
          "height": 231,
          "referenced_widgets": [
            "c3fbb07748d4401484c5bc660c069999",
            "58c1dcec11ba436f8e194fd6e9028732",
            "cd593e0d5cbd4a95b7a293fc672e458f",
            "dca2b2d544544178b6e94146a78942ae",
            "8b759e275c114c48842447b021321d5f",
            "40d30b719ff74703a12110df71e97981",
            "32cceb0bdd164546acfa4a4edc31097b"
          ]
        },
        "id": "JxLvpCzs31tB",
        "outputId": "95fed91c-de77-4e5e-a106-044e8c5a4160",
        "trusted": true,
        "execution": {
          "iopub.status.busy": "2024-12-28T21:21:54.135037Z",
          "iopub.execute_input": "2024-12-28T21:21:54.135349Z",
          "iopub.status.idle": "2024-12-28T21:29:15.992673Z",
          "shell.execute_reply.started": "2024-12-28T21:21:54.135322Z",
          "shell.execute_reply": "2024-12-28T21:29:15.991763Z"
        }
      },
      "outputs": [
        {
          "name": "stderr",
          "text": "`low_cpu_mem_usage` was None, now set to True since model is quantized.\n",
          "output_type": "stream"
        },
        {
          "output_type": "display_data",
          "data": {
            "text/plain": "Downloading shards:   0%|          | 0/4 [00:00<?, ?it/s]",
            "application/vnd.jupyter.widget-view+json": {
              "version_major": 2,
              "version_minor": 0,
              "model_id": "c3fbb07748d4401484c5bc660c069999"
            }
          },
          "metadata": {}
        },
        {
          "output_type": "display_data",
          "data": {
            "text/plain": "model-00001-of-00004.safetensors:   0%|          | 0.00/4.98G [00:00<?, ?B/s]",
            "application/vnd.jupyter.widget-view+json": {
              "version_major": 2,
              "version_minor": 0,
              "model_id": "58c1dcec11ba436f8e194fd6e9028732"
            }
          },
          "metadata": {}
        },
        {
          "output_type": "display_data",
          "data": {
            "text/plain": "model-00002-of-00004.safetensors:   0%|          | 0.00/5.00G [00:00<?, ?B/s]",
            "application/vnd.jupyter.widget-view+json": {
              "version_major": 2,
              "version_minor": 0,
              "model_id": "cd593e0d5cbd4a95b7a293fc672e458f"
            }
          },
          "metadata": {}
        },
        {
          "output_type": "display_data",
          "data": {
            "text/plain": "model-00003-of-00004.safetensors:   0%|          | 0.00/4.92G [00:00<?, ?B/s]",
            "application/vnd.jupyter.widget-view+json": {
              "version_major": 2,
              "version_minor": 0,
              "model_id": "dca2b2d544544178b6e94146a78942ae"
            }
          },
          "metadata": {}
        },
        {
          "output_type": "display_data",
          "data": {
            "text/plain": "model-00004-of-00004.safetensors:   0%|          | 0.00/1.17G [00:00<?, ?B/s]",
            "application/vnd.jupyter.widget-view+json": {
              "version_major": 2,
              "version_minor": 0,
              "model_id": "8b759e275c114c48842447b021321d5f"
            }
          },
          "metadata": {}
        },
        {
          "output_type": "display_data",
          "data": {
            "text/plain": "Loading checkpoint shards:   0%|          | 0/4 [00:00<?, ?it/s]",
            "application/vnd.jupyter.widget-view+json": {
              "version_major": 2,
              "version_minor": 0,
              "model_id": "40d30b719ff74703a12110df71e97981"
            }
          },
          "metadata": {}
        },
        {
          "output_type": "display_data",
          "data": {
            "text/plain": "generation_config.json:   0%|          | 0.00/184 [00:00<?, ?B/s]",
            "application/vnd.jupyter.widget-view+json": {
              "version_major": 2,
              "version_minor": 0,
              "model_id": "32cceb0bdd164546acfa4a4edc31097b"
            }
          },
          "metadata": {}
        },
        {
          "name": "stdout",
          "text": "Model loaded on cuda:0\n",
          "output_type": "stream"
        }
      ],
      "execution_count": null
    },
    {
      "cell_type": "markdown",
      "source": [
        "## Task 2 - Prompt setup"
      ],
      "metadata": {
        "id": "iScyBUeZ4Sa_"
      }
    },
    {
      "cell_type": "code",
      "source": [
        "prompts = detector.prepare_prompts(texts=df['text'], prompt_template=prompt, tokenizer=tokenizer)\n",
        "\n",
        "print(f\"Prompt example: \\n{tokenizer.decode(prompts[0].input_ids[0], skip_special_tokens=True)}\")"
      ],
      "metadata": {
        "colab": {
          "base_uri": "https://localhost:8080/"
        },
        "id": "HFjp7Bre4SAN",
        "outputId": "3eca832a-bfe0-4d65-f6dc-ed70854a8a23",
        "trusted": true,
        "execution": {
          "iopub.status.busy": "2024-12-28T21:30:14.278756Z",
          "iopub.execute_input": "2024-12-28T21:30:14.279106Z",
          "iopub.status.idle": "2024-12-28T21:30:14.488818Z",
          "shell.execute_reply.started": "2024-12-28T21:30:14.279076Z",
          "shell.execute_reply": "2024-12-28T21:30:14.487964Z"
        }
      },
      "outputs": [
        {
          "name": "stdout",
          "text": "Prompt example: \nsystem\n\nCutting Knowledge Date: December 2023\nToday Date: 26 Jul 2024\n\nYou are an annotator for sexism detection.user\n\nYour task is to classify input text as containing sexism or not. Respond only YES or NO.\n\n        TEXT:\n        The boys must be gaming because there goes the wifi.\n\n        ANSWER:assistant\n\n\n",
          "output_type": "stream"
        }
      ],
      "execution_count": null
    },
    {
      "cell_type": "markdown",
      "source": [
        "## Task 3 - Inference\n"
      ],
      "metadata": {
        "id": "B14-Hife4ffk"
      }
    },
    {
      "cell_type": "code",
      "source": [
        "answers = detector.generate_responses(model=model, tokenizer=tokenizer, prompt_examples=prompts)"
      ],
      "metadata": {
        "id": "W_YXwBmeDy7l",
        "trusted": true,
        "execution": {
          "iopub.status.busy": "2024-12-28T21:30:16.589606Z",
          "iopub.execute_input": "2024-12-28T21:30:16.589924Z",
          "iopub.status.idle": "2024-12-28T21:31:49.590917Z",
          "shell.execute_reply.started": "2024-12-28T21:30:16.589895Z",
          "shell.execute_reply": "2024-12-28T21:31:49.590025Z"
        },
        "outputId": "52f910f8-96a0-4835-c157-bd922e37ab60"
      },
      "outputs": [
        {
          "name": "stderr",
          "text": "100%|██████████| 300/300 [01:32<00:00,  3.23it/s]\n",
          "output_type": "stream"
        }
      ],
      "execution_count": null
    },
    {
      "cell_type": "code",
      "source": [
        "batch_predictions = [detector.process_response(response=item, tokenizer=tokenizer) for item in answers]\n",
        "generated_answers = [detector.get_generated_response(response=item, tokenizer=tokenizer) for item in answers]"
      ],
      "metadata": {
        "id": "kZ8WN74e4ega",
        "trusted": true,
        "execution": {
          "iopub.status.busy": "2024-12-28T21:32:34.745412Z",
          "iopub.execute_input": "2024-12-28T21:32:34.745716Z",
          "iopub.status.idle": "2024-12-28T21:32:34.813613Z",
          "shell.execute_reply.started": "2024-12-28T21:32:34.745693Z",
          "shell.execute_reply": "2024-12-28T21:32:34.813009Z"
        }
      },
      "outputs": [],
      "execution_count": null
    },
    {
      "cell_type": "code",
      "source": [
        "models_predictions"
      ],
      "metadata": {
        "trusted": true,
        "execution": {
          "iopub.status.busy": "2024-12-28T21:32:35.407811Z",
          "iopub.execute_input": "2024-12-28T21:32:35.408195Z",
          "iopub.status.idle": "2024-12-28T21:32:35.428192Z",
          "shell.execute_reply.started": "2024-12-28T21:32:35.408157Z",
          "shell.execute_reply": "2024-12-28T21:32:35.427323Z"
        },
        "id": "LLKltyrQlfFe",
        "outputId": "a194650f-8d94-4dc1-8e49-cd195d6a8605"
      },
      "outputs": [
        {
          "execution_count": 43,
          "output_type": "execute_result",
          "data": {
            "text/plain": "                                                  text  original_labels  \\\n0    The boys must be gaming because there goes the...                0   \n1    Look at those eyes. Either someone unexpectedl...                1   \n2                    Old man mogs everyone in this sub                0   \n3    Excellent, I was just looking at another post ...                0   \n4    So you run back to daddy whenever you need hel...                1   \n..                                                 ...              ...   \n295  It stops white women from being hit (or worse)...                0   \n296  Alexa Chung Her father is 3/4 Chinese if that ...                0   \n297  Chelsea Clinton leaned over to her husband and...                0   \n298  Thats because all women are different, but all...                0   \n299  I’d pay a weeks salary to have the opportunity...                1   \n\n     mistralv3_zero_shot_labels mistralv3_zero_shot_answers  \\\n0                             1                         YES   \n1                             1                         YES   \n2                             0                          NO   \n3                             1                         YES   \n4                             1                         YES   \n..                          ...                         ...   \n295                           1                         YES   \n296                           1                         YES   \n297                           1                         YES   \n298                           1                         YES   \n299                           1                         YES   \n\n     Mistralv3_2_shot_labels  \\\n0                          0   \n1                          1   \n2                          0   \n3                          1   \n4                          1   \n..                       ...   \n295                        1   \n296                        0   \n297                        1   \n298                        1   \n299                        1   \n\n                              Mistralv3_2_shot_answers  \\\n0                                                   NO   \n1                                                  YES   \n2    NO (The text does not contain sexism as it is ...   \n3                                                  YES   \n4                                                  YES   \n..                                                 ...   \n295                                                YES   \n296                                                 NO   \n297                                                YES   \n298  YES (This statement seems to generalize all wo...   \n299                                                YES   \n\n     Mistralv3_4_shot_labels Mistralv3_4_shot_answers  \\\n0                          0                       NO   \n1                          1                      YES   \n2                          0                       NO   \n3                          1                      YES   \n4                          1                      YES   \n..                       ...                      ...   \n295                        1                      YES   \n296                        0                       NO   \n297                        1                      YES   \n298                        1                      YES   \n299                        1                      YES   \n\n     Mistralv3_8_shot_labels Mistralv3_8_shot_answers  \\\n0                          0                       NO   \n1                          1                      YES   \n2                          0                       NO   \n3                          1                      YES   \n4                          1                      YES   \n..                       ...                      ...   \n295                        1                      YES   \n296                        0                       NO   \n297                        0                       NO   \n298                        1                      YES   \n299                        1                      YES   \n\n     Mistralv3_2_shot_custom_labels  \\\n0                                 1   \n1                                 1   \n2                                 0   \n3                                 1   \n4                                 1   \n..                              ...   \n295                               1   \n296                               1   \n297                               1   \n298                               1   \n299                               1   \n\n                       Mistralv3_2_shot_custom_answers  \\\n0    YES (implies that only boys game, which is a s...   \n1                                                  YES   \n2    NO (The text does not contain sexism as it is ...   \n3                                                  YES   \n4                                                  YES   \n..                                                 ...   \n295                                                YES   \n296  YES (The statement seems to imply a judgment a...   \n297                                                YES   \n298                                                YES   \n299                                                YES   \n\n     Mistralv3_4_shot_custom_labels  \\\n0                                 0   \n1                                 1   \n2                                 0   \n3                                 1   \n4                                 1   \n..                              ...   \n295                               1   \n296                               0   \n297                               1   \n298                               1   \n299                               1   \n\n                       Mistralv3_4_shot_custom_answers  \\\n0                                                   NO   \n1                                                  YES   \n2                                                   NO   \n3                                                  YES   \n4                                                  YES   \n..                                                 ...   \n295                                                YES   \n296  NO (The text does not contain sexism, it is di...   \n297                                                YES   \n298                                                YES   \n299                                                YES   \n\n     Mistralv3_8_shot_custom_labels Mistralv3_8_shot_custom_answers  \\\n0                                 0                              NO   \n1                                 1                             YES   \n2                                 0                              NO   \n3                                 1                             YES   \n4                                 1                             YES   \n..                              ...                             ...   \n295                               1                             YES   \n296                               0                              NO   \n297                               1                             YES   \n298                               1                             YES   \n299                               1                             YES   \n\n     Mistralv3_1_3_shot_labels Mistralv3_1_3_shot_answers  \\\n0                            0                         NO   \n1                            1                        YES   \n2                            0                         NO   \n3                            1                        YES   \n4                            1                        YES   \n..                         ...                        ...   \n295                          1                        YES   \n296                          0                         NO   \n297                          0                         NO   \n298                          1                        YES   \n299                          1                        YES   \n\n     Mistralv3_0_4_shot_labels Mistralv3_0_4_shot_answers  \n0                            0                         NO  \n1                            1                        YES  \n2                            0                         NO  \n3                            1                        YES  \n4                            1                        YES  \n..                         ...                        ...  \n295                          1                        YES  \n296                          0                         NO  \n297                          0                         NO  \n298                          1                        YES  \n299                          1                        YES  \n\n[300 rows x 20 columns]",
            "text/html": "<div>\n<style scoped>\n    .dataframe tbody tr th:only-of-type {\n        vertical-align: middle;\n    }\n\n    .dataframe tbody tr th {\n        vertical-align: top;\n    }\n\n    .dataframe thead th {\n        text-align: right;\n    }\n</style>\n<table border=\"1\" class=\"dataframe\">\n  <thead>\n    <tr style=\"text-align: right;\">\n      <th></th>\n      <th>text</th>\n      <th>original_labels</th>\n      <th>mistralv3_zero_shot_labels</th>\n      <th>mistralv3_zero_shot_answers</th>\n      <th>Mistralv3_2_shot_labels</th>\n      <th>Mistralv3_2_shot_answers</th>\n      <th>Mistralv3_4_shot_labels</th>\n      <th>Mistralv3_4_shot_answers</th>\n      <th>Mistralv3_8_shot_labels</th>\n      <th>Mistralv3_8_shot_answers</th>\n      <th>Mistralv3_2_shot_custom_labels</th>\n      <th>Mistralv3_2_shot_custom_answers</th>\n      <th>Mistralv3_4_shot_custom_labels</th>\n      <th>Mistralv3_4_shot_custom_answers</th>\n      <th>Mistralv3_8_shot_custom_labels</th>\n      <th>Mistralv3_8_shot_custom_answers</th>\n      <th>Mistralv3_1_3_shot_labels</th>\n      <th>Mistralv3_1_3_shot_answers</th>\n      <th>Mistralv3_0_4_shot_labels</th>\n      <th>Mistralv3_0_4_shot_answers</th>\n    </tr>\n  </thead>\n  <tbody>\n    <tr>\n      <th>0</th>\n      <td>The boys must be gaming because there goes the...</td>\n      <td>0</td>\n      <td>1</td>\n      <td>YES</td>\n      <td>0</td>\n      <td>NO</td>\n      <td>0</td>\n      <td>NO</td>\n      <td>0</td>\n      <td>NO</td>\n      <td>1</td>\n      <td>YES (implies that only boys game, which is a s...</td>\n      <td>0</td>\n      <td>NO</td>\n      <td>0</td>\n      <td>NO</td>\n      <td>0</td>\n      <td>NO</td>\n      <td>0</td>\n      <td>NO</td>\n    </tr>\n    <tr>\n      <th>1</th>\n      <td>Look at those eyes. Either someone unexpectedl...</td>\n      <td>1</td>\n      <td>1</td>\n      <td>YES</td>\n      <td>1</td>\n      <td>YES</td>\n      <td>1</td>\n      <td>YES</td>\n      <td>1</td>\n      <td>YES</td>\n      <td>1</td>\n      <td>YES</td>\n      <td>1</td>\n      <td>YES</td>\n      <td>1</td>\n      <td>YES</td>\n      <td>1</td>\n      <td>YES</td>\n      <td>1</td>\n      <td>YES</td>\n    </tr>\n    <tr>\n      <th>2</th>\n      <td>Old man mogs everyone in this sub</td>\n      <td>0</td>\n      <td>0</td>\n      <td>NO</td>\n      <td>0</td>\n      <td>NO (The text does not contain sexism as it is ...</td>\n      <td>0</td>\n      <td>NO</td>\n      <td>0</td>\n      <td>NO</td>\n      <td>0</td>\n      <td>NO (The text does not contain sexism as it is ...</td>\n      <td>0</td>\n      <td>NO</td>\n      <td>0</td>\n      <td>NO</td>\n      <td>0</td>\n      <td>NO</td>\n      <td>0</td>\n      <td>NO</td>\n    </tr>\n    <tr>\n      <th>3</th>\n      <td>Excellent, I was just looking at another post ...</td>\n      <td>0</td>\n      <td>1</td>\n      <td>YES</td>\n      <td>1</td>\n      <td>YES</td>\n      <td>1</td>\n      <td>YES</td>\n      <td>1</td>\n      <td>YES</td>\n      <td>1</td>\n      <td>YES</td>\n      <td>1</td>\n      <td>YES</td>\n      <td>1</td>\n      <td>YES</td>\n      <td>1</td>\n      <td>YES</td>\n      <td>1</td>\n      <td>YES</td>\n    </tr>\n    <tr>\n      <th>4</th>\n      <td>So you run back to daddy whenever you need hel...</td>\n      <td>1</td>\n      <td>1</td>\n      <td>YES</td>\n      <td>1</td>\n      <td>YES</td>\n      <td>1</td>\n      <td>YES</td>\n      <td>1</td>\n      <td>YES</td>\n      <td>1</td>\n      <td>YES</td>\n      <td>1</td>\n      <td>YES</td>\n      <td>1</td>\n      <td>YES</td>\n      <td>1</td>\n      <td>YES</td>\n      <td>1</td>\n      <td>YES</td>\n    </tr>\n    <tr>\n      <th>...</th>\n      <td>...</td>\n      <td>...</td>\n      <td>...</td>\n      <td>...</td>\n      <td>...</td>\n      <td>...</td>\n      <td>...</td>\n      <td>...</td>\n      <td>...</td>\n      <td>...</td>\n      <td>...</td>\n      <td>...</td>\n      <td>...</td>\n      <td>...</td>\n      <td>...</td>\n      <td>...</td>\n      <td>...</td>\n      <td>...</td>\n      <td>...</td>\n      <td>...</td>\n    </tr>\n    <tr>\n      <th>295</th>\n      <td>It stops white women from being hit (or worse)...</td>\n      <td>0</td>\n      <td>1</td>\n      <td>YES</td>\n      <td>1</td>\n      <td>YES</td>\n      <td>1</td>\n      <td>YES</td>\n      <td>1</td>\n      <td>YES</td>\n      <td>1</td>\n      <td>YES</td>\n      <td>1</td>\n      <td>YES</td>\n      <td>1</td>\n      <td>YES</td>\n      <td>1</td>\n      <td>YES</td>\n      <td>1</td>\n      <td>YES</td>\n    </tr>\n    <tr>\n      <th>296</th>\n      <td>Alexa Chung Her father is 3/4 Chinese if that ...</td>\n      <td>0</td>\n      <td>1</td>\n      <td>YES</td>\n      <td>0</td>\n      <td>NO</td>\n      <td>0</td>\n      <td>NO</td>\n      <td>0</td>\n      <td>NO</td>\n      <td>1</td>\n      <td>YES (The statement seems to imply a judgment a...</td>\n      <td>0</td>\n      <td>NO (The text does not contain sexism, it is di...</td>\n      <td>0</td>\n      <td>NO</td>\n      <td>0</td>\n      <td>NO</td>\n      <td>0</td>\n      <td>NO</td>\n    </tr>\n    <tr>\n      <th>297</th>\n      <td>Chelsea Clinton leaned over to her husband and...</td>\n      <td>0</td>\n      <td>1</td>\n      <td>YES</td>\n      <td>1</td>\n      <td>YES</td>\n      <td>1</td>\n      <td>YES</td>\n      <td>0</td>\n      <td>NO</td>\n      <td>1</td>\n      <td>YES</td>\n      <td>1</td>\n      <td>YES</td>\n      <td>1</td>\n      <td>YES</td>\n      <td>0</td>\n      <td>NO</td>\n      <td>0</td>\n      <td>NO</td>\n    </tr>\n    <tr>\n      <th>298</th>\n      <td>Thats because all women are different, but all...</td>\n      <td>0</td>\n      <td>1</td>\n      <td>YES</td>\n      <td>1</td>\n      <td>YES (This statement seems to generalize all wo...</td>\n      <td>1</td>\n      <td>YES</td>\n      <td>1</td>\n      <td>YES</td>\n      <td>1</td>\n      <td>YES</td>\n      <td>1</td>\n      <td>YES</td>\n      <td>1</td>\n      <td>YES</td>\n      <td>1</td>\n      <td>YES</td>\n      <td>1</td>\n      <td>YES</td>\n    </tr>\n    <tr>\n      <th>299</th>\n      <td>I’d pay a weeks salary to have the opportunity...</td>\n      <td>1</td>\n      <td>1</td>\n      <td>YES</td>\n      <td>1</td>\n      <td>YES</td>\n      <td>1</td>\n      <td>YES</td>\n      <td>1</td>\n      <td>YES</td>\n      <td>1</td>\n      <td>YES</td>\n      <td>1</td>\n      <td>YES</td>\n      <td>1</td>\n      <td>YES</td>\n      <td>1</td>\n      <td>YES</td>\n      <td>1</td>\n      <td>YES</td>\n    </tr>\n  </tbody>\n</table>\n<p>300 rows × 20 columns</p>\n</div>"
          },
          "metadata": {}
        }
      ],
      "execution_count": null
    },
    {
      "cell_type": "code",
      "source": [
        "original_labels = [1 if label == 'sexist' else 0 for label in df['label_sexist']]"
      ],
      "metadata": {
        "id": "i6qZ3dok4nLs",
        "trusted": true,
        "execution": {
          "iopub.status.busy": "2024-12-28T21:32:36.484195Z",
          "iopub.execute_input": "2024-12-28T21:32:36.484487Z",
          "iopub.status.idle": "2024-12-28T21:32:36.488241Z",
          "shell.execute_reply.started": "2024-12-28T21:32:36.484463Z",
          "shell.execute_reply": "2024-12-28T21:32:36.487325Z"
        }
      },
      "outputs": [],
      "execution_count": null
    },
    {
      "cell_type": "code",
      "source": [
        "models_predictions.loc[len(models_predictions)] = {\n",
        "    'text': df['text'],\n",
        "    'original_labels': original_labels,\n",
        "    'llama3_zero_shot_labels': batch_predictions,\n",
        "    'llama3_zero_shot_answers': generated_answers\n",
        "}"
      ],
      "metadata": {
        "id": "8pxVobfF4oM5",
        "trusted": true,
        "execution": {
          "iopub.status.busy": "2024-12-28T21:32:42.175305Z",
          "iopub.execute_input": "2024-12-28T21:32:42.175662Z",
          "iopub.status.idle": "2024-12-28T21:32:42.192209Z",
          "shell.execute_reply.started": "2024-12-28T21:32:42.175635Z",
          "shell.execute_reply": "2024-12-28T21:32:42.191002Z"
        }
      },
      "outputs": [],
      "execution_count": null
    },
    {
      "cell_type": "code",
      "source": [
        "models_predictions.head()"
      ],
      "metadata": {
        "trusted": true,
        "execution": {
          "iopub.status.busy": "2024-12-28T21:32:52.694793Z",
          "iopub.execute_input": "2024-12-28T21:32:52.695148Z",
          "iopub.status.idle": "2024-12-28T21:32:52.715592Z",
          "shell.execute_reply.started": "2024-12-28T21:32:52.695117Z",
          "shell.execute_reply": "2024-12-28T21:32:52.714781Z"
        },
        "id": "_SrJ1gxClfFf",
        "outputId": "a06be160-bc84-4baa-e1fb-47f7f8adc077"
      },
      "outputs": [
        {
          "execution_count": 46,
          "output_type": "execute_result",
          "data": {
            "text/plain": "                                                text original_labels  \\\n0  The boys must be gaming because there goes the...               0   \n1  Look at those eyes. Either someone unexpectedl...               1   \n2                  Old man mogs everyone in this sub               0   \n3  Excellent, I was just looking at another post ...               0   \n4  So you run back to daddy whenever you need hel...               1   \n\n   mistralv3_zero_shot_labels mistralv3_zero_shot_answers  \\\n0                         1.0                         YES   \n1                         1.0                         YES   \n2                         0.0                          NO   \n3                         1.0                         YES   \n4                         1.0                         YES   \n\n   Mistralv3_2_shot_labels                           Mistralv3_2_shot_answers  \\\n0                      0.0                                                 NO   \n1                      1.0                                                YES   \n2                      0.0  NO (The text does not contain sexism as it is ...   \n3                      1.0                                                YES   \n4                      1.0                                                YES   \n\n   Mistralv3_4_shot_labels Mistralv3_4_shot_answers  Mistralv3_8_shot_labels  \\\n0                      0.0                       NO                      0.0   \n1                      1.0                      YES                      1.0   \n2                      0.0                       NO                      0.0   \n3                      1.0                      YES                      1.0   \n4                      1.0                      YES                      1.0   \n\n  Mistralv3_8_shot_answers  Mistralv3_2_shot_custom_labels  \\\n0                       NO                             1.0   \n1                      YES                             1.0   \n2                       NO                             0.0   \n3                      YES                             1.0   \n4                      YES                             1.0   \n\n                     Mistralv3_2_shot_custom_answers  \\\n0  YES (implies that only boys game, which is a s...   \n1                                                YES   \n2  NO (The text does not contain sexism as it is ...   \n3                                                YES   \n4                                                YES   \n\n   Mistralv3_4_shot_custom_labels Mistralv3_4_shot_custom_answers  \\\n0                             0.0                              NO   \n1                             1.0                             YES   \n2                             0.0                              NO   \n3                             1.0                             YES   \n4                             1.0                             YES   \n\n   Mistralv3_8_shot_custom_labels Mistralv3_8_shot_custom_answers  \\\n0                             0.0                              NO   \n1                             1.0                             YES   \n2                             0.0                              NO   \n3                             1.0                             YES   \n4                             1.0                             YES   \n\n   Mistralv3_1_3_shot_labels Mistralv3_1_3_shot_answers  \\\n0                        0.0                         NO   \n1                        1.0                        YES   \n2                        0.0                         NO   \n3                        1.0                        YES   \n4                        1.0                        YES   \n\n   Mistralv3_0_4_shot_labels Mistralv3_0_4_shot_answers  \n0                        0.0                         NO  \n1                        1.0                        YES  \n2                        0.0                         NO  \n3                        1.0                        YES  \n4                        1.0                        YES  ",
            "text/html": "<div>\n<style scoped>\n    .dataframe tbody tr th:only-of-type {\n        vertical-align: middle;\n    }\n\n    .dataframe tbody tr th {\n        vertical-align: top;\n    }\n\n    .dataframe thead th {\n        text-align: right;\n    }\n</style>\n<table border=\"1\" class=\"dataframe\">\n  <thead>\n    <tr style=\"text-align: right;\">\n      <th></th>\n      <th>text</th>\n      <th>original_labels</th>\n      <th>mistralv3_zero_shot_labels</th>\n      <th>mistralv3_zero_shot_answers</th>\n      <th>Mistralv3_2_shot_labels</th>\n      <th>Mistralv3_2_shot_answers</th>\n      <th>Mistralv3_4_shot_labels</th>\n      <th>Mistralv3_4_shot_answers</th>\n      <th>Mistralv3_8_shot_labels</th>\n      <th>Mistralv3_8_shot_answers</th>\n      <th>Mistralv3_2_shot_custom_labels</th>\n      <th>Mistralv3_2_shot_custom_answers</th>\n      <th>Mistralv3_4_shot_custom_labels</th>\n      <th>Mistralv3_4_shot_custom_answers</th>\n      <th>Mistralv3_8_shot_custom_labels</th>\n      <th>Mistralv3_8_shot_custom_answers</th>\n      <th>Mistralv3_1_3_shot_labels</th>\n      <th>Mistralv3_1_3_shot_answers</th>\n      <th>Mistralv3_0_4_shot_labels</th>\n      <th>Mistralv3_0_4_shot_answers</th>\n    </tr>\n  </thead>\n  <tbody>\n    <tr>\n      <th>0</th>\n      <td>The boys must be gaming because there goes the...</td>\n      <td>0</td>\n      <td>1.0</td>\n      <td>YES</td>\n      <td>0.0</td>\n      <td>NO</td>\n      <td>0.0</td>\n      <td>NO</td>\n      <td>0.0</td>\n      <td>NO</td>\n      <td>1.0</td>\n      <td>YES (implies that only boys game, which is a s...</td>\n      <td>0.0</td>\n      <td>NO</td>\n      <td>0.0</td>\n      <td>NO</td>\n      <td>0.0</td>\n      <td>NO</td>\n      <td>0.0</td>\n      <td>NO</td>\n    </tr>\n    <tr>\n      <th>1</th>\n      <td>Look at those eyes. Either someone unexpectedl...</td>\n      <td>1</td>\n      <td>1.0</td>\n      <td>YES</td>\n      <td>1.0</td>\n      <td>YES</td>\n      <td>1.0</td>\n      <td>YES</td>\n      <td>1.0</td>\n      <td>YES</td>\n      <td>1.0</td>\n      <td>YES</td>\n      <td>1.0</td>\n      <td>YES</td>\n      <td>1.0</td>\n      <td>YES</td>\n      <td>1.0</td>\n      <td>YES</td>\n      <td>1.0</td>\n      <td>YES</td>\n    </tr>\n    <tr>\n      <th>2</th>\n      <td>Old man mogs everyone in this sub</td>\n      <td>0</td>\n      <td>0.0</td>\n      <td>NO</td>\n      <td>0.0</td>\n      <td>NO (The text does not contain sexism as it is ...</td>\n      <td>0.0</td>\n      <td>NO</td>\n      <td>0.0</td>\n      <td>NO</td>\n      <td>0.0</td>\n      <td>NO (The text does not contain sexism as it is ...</td>\n      <td>0.0</td>\n      <td>NO</td>\n      <td>0.0</td>\n      <td>NO</td>\n      <td>0.0</td>\n      <td>NO</td>\n      <td>0.0</td>\n      <td>NO</td>\n    </tr>\n    <tr>\n      <th>3</th>\n      <td>Excellent, I was just looking at another post ...</td>\n      <td>0</td>\n      <td>1.0</td>\n      <td>YES</td>\n      <td>1.0</td>\n      <td>YES</td>\n      <td>1.0</td>\n      <td>YES</td>\n      <td>1.0</td>\n      <td>YES</td>\n      <td>1.0</td>\n      <td>YES</td>\n      <td>1.0</td>\n      <td>YES</td>\n      <td>1.0</td>\n      <td>YES</td>\n      <td>1.0</td>\n      <td>YES</td>\n      <td>1.0</td>\n      <td>YES</td>\n    </tr>\n    <tr>\n      <th>4</th>\n      <td>So you run back to daddy whenever you need hel...</td>\n      <td>1</td>\n      <td>1.0</td>\n      <td>YES</td>\n      <td>1.0</td>\n      <td>YES</td>\n      <td>1.0</td>\n      <td>YES</td>\n      <td>1.0</td>\n      <td>YES</td>\n      <td>1.0</td>\n      <td>YES</td>\n      <td>1.0</td>\n      <td>YES</td>\n      <td>1.0</td>\n      <td>YES</td>\n      <td>1.0</td>\n      <td>YES</td>\n      <td>1.0</td>\n      <td>YES</td>\n    </tr>\n  </tbody>\n</table>\n</div>"
          },
          "metadata": {}
        }
      ],
      "execution_count": null
    },
    {
      "cell_type": "markdown",
      "source": [
        "## Task 4 - Metrics"
      ],
      "metadata": {
        "id": "iyy6Cb9a7iFi"
      }
    },
    {
      "cell_type": "code",
      "source": [
        "llama_base_metrics = detector.compute_metrics(responses=answers, y_true=original_labels, tokenizer=tokenizer)\n",
        "print(f\"Llama3 Zero-Shot Metrics: {llama_base_metrics}\")"
      ],
      "metadata": {
        "trusted": true,
        "execution": {
          "iopub.status.busy": "2024-12-28T21:32:55.042656Z",
          "iopub.execute_input": "2024-12-28T21:32:55.042977Z",
          "iopub.status.idle": "2024-12-28T21:32:55.079566Z",
          "shell.execute_reply.started": "2024-12-28T21:32:55.042915Z",
          "shell.execute_reply": "2024-12-28T21:32:55.078831Z"
        },
        "id": "YCaZEj3VlfFf",
        "outputId": "279fce7d-ecfa-4268-abaf-a946ecd35416"
      },
      "outputs": [
        {
          "name": "stdout",
          "text": "Llama3 Zero-Shot Metrics: {'accuracy': 0.6533333333333333, 'fail_ratio': 0.3466666666666667}\n",
          "output_type": "stream"
        }
      ],
      "execution_count": null
    },
    {
      "cell_type": "code",
      "source": [
        "# Add the computed metrics to the metric dataset\n",
        "model_metrics.loc[len(model_metrics)] = {'model': 'Llama3_0_shot', **llama_base_metrics}"
      ],
      "metadata": {
        "trusted": true,
        "execution": {
          "iopub.status.busy": "2024-12-28T21:32:56.369610Z",
          "iopub.execute_input": "2024-12-28T21:32:56.369897Z",
          "iopub.status.idle": "2024-12-28T21:32:56.375240Z",
          "shell.execute_reply.started": "2024-12-28T21:32:56.369873Z",
          "shell.execute_reply": "2024-12-28T21:32:56.374275Z"
        },
        "id": "TbbHQg5WlfFf"
      },
      "outputs": [],
      "execution_count": null
    },
    {
      "cell_type": "code",
      "source": [
        "model_metrics"
      ],
      "metadata": {
        "trusted": true,
        "execution": {
          "iopub.status.busy": "2024-12-28T21:32:57.008127Z",
          "iopub.execute_input": "2024-12-28T21:32:57.008442Z",
          "iopub.status.idle": "2024-12-28T21:32:57.017195Z",
          "shell.execute_reply.started": "2024-12-28T21:32:57.008413Z",
          "shell.execute_reply": "2024-12-28T21:32:57.016452Z"
        },
        "id": "4jRrLrKflfFf",
        "outputId": "ecd3157b-fcca-436d-c890-b22380fb2746"
      },
      "outputs": [
        {
          "execution_count": 49,
          "output_type": "execute_result",
          "data": {
            "text/plain": "                     model  accuracy  fail_ratio\n0         Mistralv3_0_shot  0.613333    0.386667\n1         Mistralv3_2_shot  0.693333    0.306667\n2         Mistralv3_4_shot  0.730000    0.270000\n3         Mistralv3_8_shot  0.730000    0.270000\n4  Mistralv3_2_shot_custom  0.640000    0.360000\n5  Mistralv3_4_shot_custom  0.700000    0.300000\n6  Mistralv3_8_shot_custom  0.740000    0.260000\n7       Mistralv3_1_3_shot  0.740000    0.260000\n8       Mistralv3_0_4_shot  0.770000    0.230000\n9            Llama3_0_shot  0.653333    0.346667",
            "text/html": "<div>\n<style scoped>\n    .dataframe tbody tr th:only-of-type {\n        vertical-align: middle;\n    }\n\n    .dataframe tbody tr th {\n        vertical-align: top;\n    }\n\n    .dataframe thead th {\n        text-align: right;\n    }\n</style>\n<table border=\"1\" class=\"dataframe\">\n  <thead>\n    <tr style=\"text-align: right;\">\n      <th></th>\n      <th>model</th>\n      <th>accuracy</th>\n      <th>fail_ratio</th>\n    </tr>\n  </thead>\n  <tbody>\n    <tr>\n      <th>0</th>\n      <td>Mistralv3_0_shot</td>\n      <td>0.613333</td>\n      <td>0.386667</td>\n    </tr>\n    <tr>\n      <th>1</th>\n      <td>Mistralv3_2_shot</td>\n      <td>0.693333</td>\n      <td>0.306667</td>\n    </tr>\n    <tr>\n      <th>2</th>\n      <td>Mistralv3_4_shot</td>\n      <td>0.730000</td>\n      <td>0.270000</td>\n    </tr>\n    <tr>\n      <th>3</th>\n      <td>Mistralv3_8_shot</td>\n      <td>0.730000</td>\n      <td>0.270000</td>\n    </tr>\n    <tr>\n      <th>4</th>\n      <td>Mistralv3_2_shot_custom</td>\n      <td>0.640000</td>\n      <td>0.360000</td>\n    </tr>\n    <tr>\n      <th>5</th>\n      <td>Mistralv3_4_shot_custom</td>\n      <td>0.700000</td>\n      <td>0.300000</td>\n    </tr>\n    <tr>\n      <th>6</th>\n      <td>Mistralv3_8_shot_custom</td>\n      <td>0.740000</td>\n      <td>0.260000</td>\n    </tr>\n    <tr>\n      <th>7</th>\n      <td>Mistralv3_1_3_shot</td>\n      <td>0.740000</td>\n      <td>0.260000</td>\n    </tr>\n    <tr>\n      <th>8</th>\n      <td>Mistralv3_0_4_shot</td>\n      <td>0.770000</td>\n      <td>0.230000</td>\n    </tr>\n    <tr>\n      <th>9</th>\n      <td>Llama3_0_shot</td>\n      <td>0.653333</td>\n      <td>0.346667</td>\n    </tr>\n  </tbody>\n</table>\n</div>"
          },
          "metadata": {}
        }
      ],
      "execution_count": null
    },
    {
      "cell_type": "markdown",
      "source": [
        "## Task 5 - Few-shot Inference"
      ],
      "metadata": {
        "id": "p6AQAD-S8xUr"
      }
    },
    {
      "cell_type": "markdown",
      "source": [
        "### Task 5.1 - Few shot with randomly sampled examples"
      ],
      "metadata": {
        "id": "TniAc_RPs8p1"
      }
    },
    {
      "cell_type": "markdown",
      "source": [
        "#### Learning by 2-shot randomly sampled examples"
      ],
      "metadata": {
        "id": "pSSUZfqA5dZ5"
      }
    },
    {
      "cell_type": "code",
      "source": [
        "detector.few_shot_experiment(\n",
        "    name='Llama3_2_shot',\n",
        "    model=model,\n",
        "    tokenizer=tokenizer,\n",
        "    data=df,\n",
        "    demonstrations=demonstrations,\n",
        "    prompt_template=prompt_few_shot,\n",
        "    original_labels=original_labels,\n",
        "    models_predictions=models_predictions,\n",
        "    model_metrics=model_metrics,\n",
        "    shots=1,\n",
        "    store_model_predictions=True\n",
        ")"
      ],
      "metadata": {
        "trusted": true,
        "execution": {
          "iopub.status.busy": "2024-12-28T21:47:03.858848Z",
          "iopub.execute_input": "2024-12-28T21:47:03.859210Z",
          "iopub.status.idle": "2024-12-28T21:48:49.093268Z",
          "shell.execute_reply.started": "2024-12-28T21:47:03.859180Z",
          "shell.execute_reply": "2024-12-28T21:48:49.092394Z"
        },
        "id": "io7Q75EAlfFg",
        "outputId": "95e6e381-729d-47b0-a4a7-6a8412e04341"
      },
      "outputs": [
        {
          "name": "stdout",
          "text": "Example of few-shot prompt\n<|begin_of_text|><|start_header_id|>system<|end_header_id|>\n\nCutting Knowledge Date: December 2023\nToday Date: 26 Jul 2024\n\nYou are an annotator for sexism detection.<|eot_id|><|start_header_id|>user<|end_header_id|>\n\nYour task is to classify input text as containing sexism or not. Respond only YES or NO.\n\n        EXAMPLES:\n        TEXT: Can't see much of her but she's hotter than any vagina-hat wearer in the Women's March\n\tANSWER: NO\n\tTEXT: nothing irks a left wing feminist worse than seeing a beautiful virtuous woman who is conservative they HATE her H-A-T-E so they try to suppress her next it will be illegal to be born beautiful they'll call it \"Hate Birth\"\n\tANSWER: YES\n\n\n        TEXT:\n        The boys must be gaming because there goes the wifi.\n\n        ANSWER:<|eot_id|><|start_header_id|>assistant<|end_header_id|>\n\n\n----------------------------------------------------------------------------------------------------\nInference:\n",
          "output_type": "stream"
        },
        {
          "name": "stderr",
          "text": "100%|██████████| 300/300 [01:44<00:00,  2.86it/s]",
          "output_type": "stream"
        },
        {
          "name": "stdout",
          "text": "\n\nModel: Llama3_2_shot\tMetrics: {'accuracy': 0.6666666666666666, 'fail_ratio': 0.3333333333333333}\n",
          "output_type": "stream"
        },
        {
          "name": "stderr",
          "text": "\n",
          "output_type": "stream"
        }
      ],
      "execution_count": null
    },
    {
      "cell_type": "markdown",
      "source": [
        "#### Learning by 4-shot randomly sampled examples"
      ],
      "metadata": {
        "id": "9cTQNJHK84PF"
      }
    },
    {
      "cell_type": "code",
      "source": [
        "detector.few_shot_experiment(\n",
        "    name='Llama3_4_shot',\n",
        "    model=model,\n",
        "    tokenizer=tokenizer,\n",
        "    data=df,\n",
        "    demonstrations=demonstrations,\n",
        "    prompt_template=prompt_few_shot,\n",
        "    original_labels=original_labels,\n",
        "    models_predictions=models_predictions,\n",
        "    model_metrics=model_metrics,\n",
        "    shots=2,\n",
        "    store_model_predictions=True\n",
        ")"
      ],
      "metadata": {
        "id": "HnVClc6U8wTn",
        "trusted": true,
        "execution": {
          "iopub.status.busy": "2024-12-28T21:48:49.096719Z",
          "iopub.execute_input": "2024-12-28T21:48:49.096980Z",
          "iopub.status.idle": "2024-12-28T21:50:55.274034Z",
          "shell.execute_reply.started": "2024-12-28T21:48:49.096946Z",
          "shell.execute_reply": "2024-12-28T21:50:55.273217Z"
        },
        "outputId": "b7db7ef7-bafd-4f0d-9a30-8729430ab1b4"
      },
      "outputs": [
        {
          "name": "stdout",
          "text": "Example of few-shot prompt\n<|begin_of_text|><|start_header_id|>system<|end_header_id|>\n\nCutting Knowledge Date: December 2023\nToday Date: 26 Jul 2024\n\nYou are an annotator for sexism detection.<|eot_id|><|start_header_id|>user<|end_header_id|>\n\nYour task is to classify input text as containing sexism or not. Respond only YES or NO.\n\n        EXAMPLES:\n        TEXT: nothing irks a left wing feminist worse than seeing a beautiful virtuous woman who is conservative they HATE her H-A-T-E so they try to suppress her next it will be illegal to be born beautiful they'll call it \"Hate Birth\"\n\tANSWER: YES\n\tTEXT: DOES BLACK HAMILTON STAR DRUNK-RAPE WHITE WOMEN? If you name-check the VP-Elect of the United States in a one-sided insulting harangue, it'd be wise to delete the tweets that suggest you rape drunk white girls: #BoycottHamilton [URL]\n\tANSWER: NO\n\tTEXT: Can't see much of her but she's hotter than any vagina-hat wearer in the Women's March\n\tANSWER: NO\n\tTEXT: Get #TRIGGERED, Hillaryfags, femme-fags, and feminazis: [URL] #MAGA #TRUMP #ELECTION2016 [URL]\n\tANSWER: YES\n\n\n        TEXT:\n        The boys must be gaming because there goes the wifi.\n\n        ANSWER:<|eot_id|><|start_header_id|>assistant<|end_header_id|>\n\n\n----------------------------------------------------------------------------------------------------\nInference:\n",
          "output_type": "stream"
        },
        {
          "name": "stderr",
          "text": "100%|██████████| 300/300 [02:05<00:00,  2.39it/s]",
          "output_type": "stream"
        },
        {
          "name": "stdout",
          "text": "\n\nModel: Llama3_4_shot\tMetrics: {'accuracy': 0.73, 'fail_ratio': 0.27}\n",
          "output_type": "stream"
        },
        {
          "name": "stderr",
          "text": "\n",
          "output_type": "stream"
        }
      ],
      "execution_count": null
    },
    {
      "cell_type": "markdown",
      "source": [
        "#### Learning by 8-shot randomly sampled examples"
      ],
      "metadata": {
        "id": "7uaGQ3vL9UqQ"
      }
    },
    {
      "cell_type": "code",
      "source": [
        "detector.few_shot_experiment(\n",
        "    name='Llama3_8_shot',\n",
        "    model=model,\n",
        "    tokenizer=tokenizer,\n",
        "    data=df,\n",
        "    demonstrations=demonstrations,\n",
        "    prompt_template=prompt_few_shot,\n",
        "    original_labels=original_labels,\n",
        "    models_predictions=models_predictions,\n",
        "    model_metrics=model_metrics,\n",
        "    shots=4,\n",
        "    store_model_predictions=True\n",
        ")"
      ],
      "metadata": {
        "id": "7zG6LSBm9UL3",
        "trusted": true,
        "execution": {
          "iopub.status.busy": "2024-12-28T21:50:55.278513Z",
          "iopub.execute_input": "2024-12-28T21:50:55.278732Z",
          "iopub.status.idle": "2024-12-28T21:53:29.155548Z",
          "shell.execute_reply.started": "2024-12-28T21:50:55.278711Z",
          "shell.execute_reply": "2024-12-28T21:53:29.154620Z"
        },
        "outputId": "3a6387e6-8a43-4d77-dec0-7392325225c3"
      },
      "outputs": [
        {
          "name": "stdout",
          "text": "Example of few-shot prompt\n<|begin_of_text|><|start_header_id|>system<|end_header_id|>\n\nCutting Knowledge Date: December 2023\nToday Date: 26 Jul 2024\n\nYou are an annotator for sexism detection.<|eot_id|><|start_header_id|>user<|end_header_id|>\n\nYour task is to classify input text as containing sexism or not. Respond only YES or NO.\n\n        EXAMPLES:\n        TEXT: DOES BLACK HAMILTON STAR DRUNK-RAPE WHITE WOMEN? If you name-check the VP-Elect of the United States in a one-sided insulting harangue, it'd be wise to delete the tweets that suggest you rape drunk white girls: #BoycottHamilton [URL]\n\tANSWER: NO\n\tTEXT: nothing irks a left wing feminist worse than seeing a beautiful virtuous woman who is conservative they HATE her H-A-T-E so they try to suppress her next it will be illegal to be born beautiful they'll call it \"Hate Birth\"\n\tANSWER: YES\n\tTEXT: HAHAHA! Why would an alpha get married to an old hag when he has literally hundreds of hot 18-19 year olds (and older bitches too but eeewww amirite??) begging him to fuck them? Feeeemale logic.\n\tANSWER: YES\n\tTEXT: You mean like incels punch down on women?\n\tANSWER: NO\n\tTEXT: Once a pretty Jewish girl Worked at a place I used to drink. Prettier than Ann Frank, I think. Mama raised me a Christian world. Bar girl didn't give two toots, but I cared about my Christian Roots (((J U D A I S M)))\n\tANSWER: NO\n\tTEXT: Get #TRIGGERED, Hillaryfags, femme-fags, and feminazis: [URL] #MAGA #TRUMP #ELECTION2016 [URL]\n\tANSWER: YES\n\tTEXT: Can't see much of her but she's hotter than any vagina-hat wearer in the Women's March\n\tANSWER: NO\n\tTEXT: Ohthisfucking fits so fking perfectly I am laughing my ass off! Scary bitch she is the devil and it is perfect it's in her state of ARKANSAS!!!\n\tANSWER: YES\n\n\n        TEXT:\n        The boys must be gaming because there goes the wifi.\n\n        ANSWER:<|eot_id|><|start_header_id|>assistant<|end_header_id|>\n\n\n----------------------------------------------------------------------------------------------------\nInference:\n",
          "output_type": "stream"
        },
        {
          "name": "stderr",
          "text": "100%|██████████| 300/300 [02:33<00:00,  1.96it/s]\n",
          "output_type": "stream"
        },
        {
          "name": "stdout",
          "text": "\n\nModel: Llama3_8_shot\tMetrics: {'accuracy': 0.6966666666666667, 'fail_ratio': 0.30333333333333334}\n",
          "output_type": "stream"
        }
      ],
      "execution_count": null
    },
    {
      "cell_type": "markdown",
      "source": [
        "### Task 5.2 - Few shot with manually annotated examples"
      ],
      "metadata": {
        "id": "ckkc8Dox9hiW"
      }
    },
    {
      "cell_type": "markdown",
      "source": [
        "#### Learning by 2-shot manually annotated examples"
      ],
      "metadata": {
        "id": "5-bpIPdhU9Cu"
      }
    },
    {
      "cell_type": "code",
      "source": [
        "detector.few_shot_experiment(\n",
        "    name='Llama3_2_shot_custom',\n",
        "    model=model,\n",
        "    tokenizer=tokenizer,\n",
        "    data=df,\n",
        "    demonstrations=demonstrations,\n",
        "    prompt_template=prompt_few_shot,\n",
        "    original_labels=original_labels,\n",
        "    models_predictions=models_predictions,\n",
        "    model_metrics=model_metrics,\n",
        "    custom_example_ids=manually_checked_examples,\n",
        "    shots=1,\n",
        "    store_model_predictions=True\n",
        ")"
      ],
      "metadata": {
        "trusted": true,
        "execution": {
          "iopub.status.busy": "2024-12-28T21:53:29.161775Z",
          "iopub.execute_input": "2024-12-28T21:53:29.162033Z",
          "iopub.status.idle": "2024-12-28T21:55:13.414711Z",
          "shell.execute_reply.started": "2024-12-28T21:53:29.162009Z",
          "shell.execute_reply": "2024-12-28T21:55:13.413921Z"
        },
        "id": "ERtEAGzhlfFh",
        "outputId": "ae36821a-e888-4826-e7c2-d2766273f6ea"
      },
      "outputs": [
        {
          "name": "stdout",
          "text": "Example of few-shot prompt\n<|begin_of_text|><|start_header_id|>system<|end_header_id|>\n\nCutting Knowledge Date: December 2023\nToday Date: 26 Jul 2024\n\nYou are an annotator for sexism detection.<|eot_id|><|start_header_id|>user<|end_header_id|>\n\nYour task is to classify input text as containing sexism or not. Respond only YES or NO.\n\n        EXAMPLES:\n        TEXT: Don't bother arguing with women. They don't care about the truth, only feelings.\n\tANSWER: YES\n\tTEXT: Not all interactions with women have to result in dating, sex, or relationships. Just sharing a brief moment of subtle desire with a woman can be a sensual experience.\n\tANSWER: NO\n\n\n        TEXT:\n        The boys must be gaming because there goes the wifi.\n\n        ANSWER:<|eot_id|><|start_header_id|>assistant<|end_header_id|>\n\n\n----------------------------------------------------------------------------------------------------\nInference:\n",
          "output_type": "stream"
        },
        {
          "name": "stderr",
          "text": "100%|██████████| 300/300 [01:43<00:00,  2.89it/s]",
          "output_type": "stream"
        },
        {
          "name": "stdout",
          "text": "\n\nModel: Llama3_2_shot_custom\tMetrics: {'accuracy': 0.6433333333333333, 'fail_ratio': 0.3566666666666667}\n",
          "output_type": "stream"
        },
        {
          "name": "stderr",
          "text": "\n",
          "output_type": "stream"
        }
      ],
      "execution_count": null
    },
    {
      "cell_type": "markdown",
      "source": [
        "#### Learning by 4-shot manually annotated examples"
      ],
      "metadata": {
        "id": "rMfyudXHVqNp"
      }
    },
    {
      "cell_type": "code",
      "source": [
        "detector.few_shot_experiment(\n",
        "    name='Llama3_4_shot_custom',\n",
        "    model=model,\n",
        "    tokenizer=tokenizer,\n",
        "    data=df,\n",
        "    demonstrations=demonstrations,\n",
        "    prompt_template=prompt_few_shot,\n",
        "    original_labels=original_labels,\n",
        "    models_predictions=models_predictions,\n",
        "    model_metrics=model_metrics,\n",
        "    custom_example_ids=manually_checked_examples,\n",
        "    shots=2,\n",
        "    store_model_predictions=True\n",
        ")"
      ],
      "metadata": {
        "colab": {
          "base_uri": "https://localhost:8080/"
        },
        "id": "5dH3hmLR-Bw3",
        "outputId": "142f42f8-e1ef-43f6-d612-7491380033e6",
        "trusted": true,
        "execution": {
          "iopub.status.busy": "2024-12-28T21:55:13.416029Z",
          "iopub.execute_input": "2024-12-28T21:55:13.416255Z",
          "iopub.status.idle": "2024-12-28T21:57:07.222065Z",
          "shell.execute_reply.started": "2024-12-28T21:55:13.416235Z",
          "shell.execute_reply": "2024-12-28T21:57:07.221253Z"
        }
      },
      "outputs": [
        {
          "name": "stdout",
          "text": "Example of few-shot prompt\n<|begin_of_text|><|start_header_id|>system<|end_header_id|>\n\nCutting Knowledge Date: December 2023\nToday Date: 26 Jul 2024\n\nYou are an annotator for sexism detection.<|eot_id|><|start_header_id|>user<|end_header_id|>\n\nYour task is to classify input text as containing sexism or not. Respond only YES or NO.\n\n        EXAMPLES:\n        TEXT: the stupid bitch thinks she's edgy and a 'bad ass'. these hoes are so fucking lame. bet the dumb bitch got 20,000 likes and simps saying retarded shit in her comments.\n\tANSWER: YES\n\tTEXT: \"The stories of sexual harassment of women that Hollywood won't be telling.\" [URL]\n\tANSWER: NO\n\tTEXT: Don't bother arguing with women. They don't care about the truth, only feelings.\n\tANSWER: YES\n\tTEXT: Not all interactions with women have to result in dating, sex, or relationships. Just sharing a brief moment of subtle desire with a woman can be a sensual experience.\n\tANSWER: NO\n\n\n        TEXT:\n        The boys must be gaming because there goes the wifi.\n\n        ANSWER:<|eot_id|><|start_header_id|>assistant<|end_header_id|>\n\n\n----------------------------------------------------------------------------------------------------\nInference:\n",
          "output_type": "stream"
        },
        {
          "name": "stderr",
          "text": "100%|██████████| 300/300 [01:53<00:00,  2.65it/s]",
          "output_type": "stream"
        },
        {
          "name": "stdout",
          "text": "\n\nModel: Llama3_4_shot_custom\tMetrics: {'accuracy': 0.7233333333333334, 'fail_ratio': 0.27666666666666667}\n",
          "output_type": "stream"
        },
        {
          "name": "stderr",
          "text": "\n",
          "output_type": "stream"
        }
      ],
      "execution_count": null
    },
    {
      "cell_type": "markdown",
      "source": [
        "#### Learning by 8-shot manually annotated examples"
      ],
      "metadata": {
        "id": "ebU-gjSDWo5I"
      }
    },
    {
      "cell_type": "code",
      "source": [
        "detector.few_shot_experiment(\n",
        "    name='Llama3_8_shot_custom',\n",
        "    model=model,\n",
        "    tokenizer=tokenizer,\n",
        "    data=df,\n",
        "    demonstrations=demonstrations,\n",
        "    prompt_template=prompt_few_shot,\n",
        "    original_labels=original_labels,\n",
        "    models_predictions=models_predictions,\n",
        "    model_metrics=model_metrics,\n",
        "    custom_example_ids=manually_checked_examples,\n",
        "    shots=4,\n",
        "    store_model_predictions=True\n",
        ")"
      ],
      "metadata": {
        "colab": {
          "base_uri": "https://localhost:8080/"
        },
        "id": "QFL7Wh1t-Luj",
        "outputId": "0657af4d-695f-44f4-c4f1-8ba43f65c30b",
        "trusted": true,
        "execution": {
          "iopub.status.busy": "2024-12-28T21:57:07.223227Z",
          "iopub.execute_input": "2024-12-28T21:57:07.223503Z",
          "iopub.status.idle": "2024-12-28T21:59:37.412266Z",
          "shell.execute_reply.started": "2024-12-28T21:57:07.223479Z",
          "shell.execute_reply": "2024-12-28T21:59:37.411518Z"
        }
      },
      "outputs": [
        {
          "name": "stdout",
          "text": "Example of few-shot prompt\n<|begin_of_text|><|start_header_id|>system<|end_header_id|>\n\nCutting Knowledge Date: December 2023\nToday Date: 26 Jul 2024\n\nYou are an annotator for sexism detection.<|eot_id|><|start_header_id|>user<|end_header_id|>\n\nYour task is to classify input text as containing sexism or not. Respond only YES or NO.\n\n        EXAMPLES:\n        TEXT: the stupid bitch thinks she's edgy and a 'bad ass'. these hoes are so fucking lame. bet the dumb bitch got 20,000 likes and simps saying retarded shit in her comments.\n\tANSWER: YES\n\tTEXT: It’s different if you’re a woman. Spreading your legs just gives you sex\n\tANSWER: YES\n\tTEXT: That's the story, but I'm willing to bet that he just doesn't want to be part of all the mess that the royal family is involved with. I mean they did kill his mother after all.\n\tANSWER: NO\n\tTEXT: The worthless bitch May her time is almost over,there's a new man on the block motto Britain first British people first his name Jacob Rees Mogg now known as JRM to the people\n\tANSWER: YES\n\tTEXT: Don't bother arguing with women. They don't care about the truth, only feelings.\n\tANSWER: YES\n\tTEXT: \"The stories of sexual harassment of women that Hollywood won't be telling.\" [URL]\n\tANSWER: NO\n\tTEXT: hahahahahahah sad!! and ya i just noticed i already was following her.\n\tANSWER: NO\n\tTEXT: Not all interactions with women have to result in dating, sex, or relationships. Just sharing a brief moment of subtle desire with a woman can be a sensual experience.\n\tANSWER: NO\n\n\n        TEXT:\n        The boys must be gaming because there goes the wifi.\n\n        ANSWER:<|eot_id|><|start_header_id|>assistant<|end_header_id|>\n\n\n----------------------------------------------------------------------------------------------------\nInference:\n",
          "output_type": "stream"
        },
        {
          "name": "stderr",
          "text": "100%|██████████| 300/300 [02:29<00:00,  2.01it/s]\n",
          "output_type": "stream"
        },
        {
          "name": "stdout",
          "text": "\n\nModel: Llama3_8_shot_custom\tMetrics: {'accuracy': 0.6566666666666666, 'fail_ratio': 0.3433333333333333}\n",
          "output_type": "stream"
        }
      ],
      "execution_count": null
    },
    {
      "cell_type": "markdown",
      "source": [
        "Export of the dataset"
      ],
      "metadata": {
        "id": "drhB9mzLaG90"
      }
    },
    {
      "cell_type": "code",
      "source": [
        "CSV_FOLDER = Path('csv')\n",
        "if not CSV_FOLDER.exists():\n",
        "    CSV_FOLDER.mkdir(parents=True)\n",
        "    print(f\"Created folder {CSV_FOLDER}.\")"
      ],
      "metadata": {
        "trusted": true,
        "execution": {
          "iopub.status.busy": "2024-12-28T21:59:37.413286Z",
          "iopub.execute_input": "2024-12-28T21:59:37.413599Z",
          "iopub.status.idle": "2024-12-28T21:59:37.418673Z",
          "shell.execute_reply.started": "2024-12-28T21:59:37.413563Z",
          "shell.execute_reply": "2024-12-28T21:59:37.417859Z"
        },
        "id": "IoZYHJM3lfFi",
        "outputId": "cfc9c1a8-9003-4054-8f76-b2e4ec266238"
      },
      "outputs": [
        {
          "name": "stdout",
          "text": "Created folder csv.\n",
          "output_type": "stream"
        }
      ],
      "execution_count": null
    },
    {
      "cell_type": "code",
      "source": [
        "models_predictions.to_csv(f'{CSV_FOLDER}{os.sep}models_predictions.csv', index=False)"
      ],
      "metadata": {
        "id": "nAm3C6zfaJxI",
        "trusted": true,
        "execution": {
          "iopub.status.busy": "2024-12-28T21:59:37.420727Z",
          "iopub.execute_input": "2024-12-28T21:59:37.420922Z",
          "iopub.status.idle": "2024-12-28T21:59:37.503346Z",
          "shell.execute_reply.started": "2024-12-28T21:59:37.420904Z",
          "shell.execute_reply": "2024-12-28T21:59:37.502764Z"
        }
      },
      "outputs": [],
      "execution_count": null
    },
    {
      "cell_type": "code",
      "source": [
        "model_metrics.to_csv(f'{CSV_FOLDER}{os.sep}model_metrics.csv', index=False)"
      ],
      "metadata": {
        "id": "lgb1w1LDaPId",
        "trusted": true,
        "execution": {
          "iopub.status.busy": "2024-12-28T21:59:37.504461Z",
          "iopub.execute_input": "2024-12-28T21:59:37.504745Z",
          "iopub.status.idle": "2024-12-28T21:59:37.509302Z",
          "shell.execute_reply.started": "2024-12-28T21:59:37.504713Z",
          "shell.execute_reply": "2024-12-28T21:59:37.508472Z"
        }
      },
      "outputs": [],
      "execution_count": null
    },
    {
      "cell_type": "code",
      "source": [
        "model_metrics"
      ],
      "metadata": {
        "colab": {
          "base_uri": "https://localhost:8080/",
          "height": 508
        },
        "id": "XADc4dcwajte",
        "outputId": "7a6a6d9a-f1ec-4220-ddf6-3e7006112e6d",
        "trusted": true,
        "execution": {
          "iopub.status.busy": "2024-12-28T21:59:37.510027Z",
          "iopub.execute_input": "2024-12-28T21:59:37.510268Z",
          "iopub.status.idle": "2024-12-28T21:59:37.529247Z",
          "shell.execute_reply.started": "2024-12-28T21:59:37.510248Z",
          "shell.execute_reply": "2024-12-28T21:59:37.528495Z"
        }
      },
      "outputs": [
        {
          "execution_count": 78,
          "output_type": "execute_result",
          "data": {
            "text/plain": "                      model  accuracy  fail_ratio\n0          Mistralv3_0_shot  0.613333    0.386667\n1          Mistralv3_2_shot  0.693333    0.306667\n2          Mistralv3_4_shot  0.730000    0.270000\n3          Mistralv3_8_shot  0.730000    0.270000\n4   Mistralv3_2_shot_custom  0.640000    0.360000\n5   Mistralv3_4_shot_custom  0.700000    0.300000\n6   Mistralv3_8_shot_custom  0.740000    0.260000\n7        Mistralv3_1_3_shot  0.740000    0.260000\n8        Mistralv3_0_4_shot  0.770000    0.230000\n9             Llama3_0_shot  0.653333    0.346667\n10            Llama3_2_shot  0.666667    0.333333\n11            Llama3_4_shot  0.730000    0.270000\n12            Llama3_8_shot  0.696667    0.303333\n13     Llama3_2_shot_custom  0.643333    0.356667\n14     Llama3_4_shot_custom  0.723333    0.276667\n15     Llama3_8_shot_custom  0.656667    0.343333",
            "text/html": "<div>\n<style scoped>\n    .dataframe tbody tr th:only-of-type {\n        vertical-align: middle;\n    }\n\n    .dataframe tbody tr th {\n        vertical-align: top;\n    }\n\n    .dataframe thead th {\n        text-align: right;\n    }\n</style>\n<table border=\"1\" class=\"dataframe\">\n  <thead>\n    <tr style=\"text-align: right;\">\n      <th></th>\n      <th>model</th>\n      <th>accuracy</th>\n      <th>fail_ratio</th>\n    </tr>\n  </thead>\n  <tbody>\n    <tr>\n      <th>0</th>\n      <td>Mistralv3_0_shot</td>\n      <td>0.613333</td>\n      <td>0.386667</td>\n    </tr>\n    <tr>\n      <th>1</th>\n      <td>Mistralv3_2_shot</td>\n      <td>0.693333</td>\n      <td>0.306667</td>\n    </tr>\n    <tr>\n      <th>2</th>\n      <td>Mistralv3_4_shot</td>\n      <td>0.730000</td>\n      <td>0.270000</td>\n    </tr>\n    <tr>\n      <th>3</th>\n      <td>Mistralv3_8_shot</td>\n      <td>0.730000</td>\n      <td>0.270000</td>\n    </tr>\n    <tr>\n      <th>4</th>\n      <td>Mistralv3_2_shot_custom</td>\n      <td>0.640000</td>\n      <td>0.360000</td>\n    </tr>\n    <tr>\n      <th>5</th>\n      <td>Mistralv3_4_shot_custom</td>\n      <td>0.700000</td>\n      <td>0.300000</td>\n    </tr>\n    <tr>\n      <th>6</th>\n      <td>Mistralv3_8_shot_custom</td>\n      <td>0.740000</td>\n      <td>0.260000</td>\n    </tr>\n    <tr>\n      <th>7</th>\n      <td>Mistralv3_1_3_shot</td>\n      <td>0.740000</td>\n      <td>0.260000</td>\n    </tr>\n    <tr>\n      <th>8</th>\n      <td>Mistralv3_0_4_shot</td>\n      <td>0.770000</td>\n      <td>0.230000</td>\n    </tr>\n    <tr>\n      <th>9</th>\n      <td>Llama3_0_shot</td>\n      <td>0.653333</td>\n      <td>0.346667</td>\n    </tr>\n    <tr>\n      <th>10</th>\n      <td>Llama3_2_shot</td>\n      <td>0.666667</td>\n      <td>0.333333</td>\n    </tr>\n    <tr>\n      <th>11</th>\n      <td>Llama3_4_shot</td>\n      <td>0.730000</td>\n      <td>0.270000</td>\n    </tr>\n    <tr>\n      <th>12</th>\n      <td>Llama3_8_shot</td>\n      <td>0.696667</td>\n      <td>0.303333</td>\n    </tr>\n    <tr>\n      <th>13</th>\n      <td>Llama3_2_shot_custom</td>\n      <td>0.643333</td>\n      <td>0.356667</td>\n    </tr>\n    <tr>\n      <th>14</th>\n      <td>Llama3_4_shot_custom</td>\n      <td>0.723333</td>\n      <td>0.276667</td>\n    </tr>\n    <tr>\n      <th>15</th>\n      <td>Llama3_8_shot_custom</td>\n      <td>0.656667</td>\n      <td>0.343333</td>\n    </tr>\n  </tbody>\n</table>\n</div>"
          },
          "metadata": {}
        }
      ],
      "execution_count": null
    },
    {
      "cell_type": "code",
      "source": [
        "models_predictions.columns"
      ],
      "metadata": {
        "colab": {
          "base_uri": "https://localhost:8080/"
        },
        "id": "YWVn7HGUbI_A",
        "outputId": "0d1c10a9-4b7b-4879-efd2-1417918bab4f",
        "trusted": true,
        "execution": {
          "iopub.status.busy": "2024-12-28T21:59:37.529893Z",
          "iopub.execute_input": "2024-12-28T21:59:37.530153Z",
          "iopub.status.idle": "2024-12-28T21:59:37.545742Z",
          "shell.execute_reply.started": "2024-12-28T21:59:37.530121Z",
          "shell.execute_reply": "2024-12-28T21:59:37.544882Z"
        }
      },
      "outputs": [
        {
          "execution_count": 79,
          "output_type": "execute_result",
          "data": {
            "text/plain": "Index(['text', 'original_labels', 'mistralv3_zero_shot_labels',\n       'mistralv3_zero_shot_answers', 'Mistralv3_2_shot_labels',\n       'Mistralv3_2_shot_answers', 'Mistralv3_4_shot_labels',\n       'Mistralv3_4_shot_answers', 'Mistralv3_8_shot_labels',\n       'Mistralv3_8_shot_answers', 'Mistralv3_2_shot_custom_labels',\n       'Mistralv3_2_shot_custom_answers', 'Mistralv3_4_shot_custom_labels',\n       'Mistralv3_4_shot_custom_answers', 'Mistralv3_8_shot_custom_labels',\n       'Mistralv3_8_shot_custom_answers', 'Mistralv3_1_3_shot_labels',\n       'Mistralv3_1_3_shot_answers', 'Mistralv3_0_4_shot_labels',\n       'Mistralv3_0_4_shot_answers', 'Llama3_2_shot_labels',\n       'Llama3_2_shot_answers', 'Llama3_4_shot_labels',\n       'Llama3_4_shot_answers', 'Llama3_8_shot_labels',\n       'Llama3_8_shot_answers', 'Llama3_2_shot_custom_labels',\n       'Llama3_2_shot_custom_answers', 'Llama3_4_shot_custom_labels',\n       'Llama3_4_shot_custom_answers', 'Llama3_8_shot_custom_labels',\n       'Llama3_8_shot_custom_answers'],\n      dtype='object')"
          },
          "metadata": {}
        }
      ],
      "execution_count": null
    },
    {
      "cell_type": "markdown",
      "source": [
        "# Task 6 -  Error Analysis and results comparison\n",
        "\n",
        "We are now interested in evaluating model responses and comparing their performance.\n",
        "\n",
        "This analysis helps us in understanding\n",
        "\n",
        "- Classification task performance gap: are the models good at this task?\n",
        "- Generation quality: which kind of responses do models generate?\n",
        "- Errors: which kind of mistakes do models do?"
      ],
      "metadata": {
        "id": "XHuT1a1GLJnd"
      }
    },
    {
      "cell_type": "markdown",
      "source": [
        "**Instructions**\n",
        "\n",
        "In order to get Task 6 points, we require you to:\n",
        "\n",
        "* Compare classification performance of selected LLMs in a Table.\n",
        "* Compute confusion matrices for selected LLMs.\n",
        "* Briefly summarize your observations on generated responses."
      ],
      "metadata": {
        "id": "7kjEAHD4LJne"
      }
    },
    {
      "cell_type": "markdown",
      "source": [
        "### Task 6.1 - Performance evaluation"
      ],
      "metadata": {
        "id": "nq55NqJGkZA2"
      }
    },
    {
      "cell_type": "markdown",
      "source": [
        "In order to being able to analyze all the answer given by the LLMs without re running all the answer evaluation we saved all the data inside the `models_predictions.csv` dataset, that can be easily imported using pandas.\n",
        "\n",
        "\n",
        "We are gonna then proceed doing some evaluation of the model, and show what are the most common error and which model is the best performing one  "
      ],
      "metadata": {
        "id": "RX4l16sPldpk"
      }
    },
    {
      "cell_type": "code",
      "source": [
        "models_predictions = pd.read_csv(f'{CSV_FOLDER}{os.sep}models_predictions.csv')\n",
        "model_metrics = pd.read_csv(f'{CSV_FOLDER}{os.sep}model_metrics.csv')"
      ],
      "metadata": {
        "id": "wCs-nUEkkc3w",
        "trusted": true,
        "execution": {
          "iopub.status.busy": "2024-12-28T21:59:37.546553Z",
          "iopub.execute_input": "2024-12-28T21:59:37.546830Z",
          "iopub.status.idle": "2024-12-28T21:59:37.593223Z",
          "shell.execute_reply.started": "2024-12-28T21:59:37.546789Z",
          "shell.execute_reply": "2024-12-28T21:59:37.592415Z"
        }
      },
      "outputs": [],
      "execution_count": null
    },
    {
      "cell_type": "code",
      "source": [
        "#Sort the dataframe by accuracy in descending order\n",
        "model_metrics_sorted = model_metrics.sort_values('accuracy', ascending=False)\n",
        "\n",
        "# Display the sorted scores\n",
        "model_metrics_sorted"
      ],
      "metadata": {
        "colab": {
          "base_uri": "https://localhost:8080/",
          "height": 508
        },
        "id": "JR-i3l97qJbw",
        "outputId": "341a879d-5088-413b-cf20-872241fb5796",
        "trusted": true,
        "execution": {
          "iopub.status.busy": "2024-12-28T21:59:37.594023Z",
          "iopub.execute_input": "2024-12-28T21:59:37.594329Z",
          "iopub.status.idle": "2024-12-28T21:59:37.603104Z",
          "shell.execute_reply.started": "2024-12-28T21:59:37.594299Z",
          "shell.execute_reply": "2024-12-28T21:59:37.602417Z"
        }
      },
      "outputs": [
        {
          "execution_count": 81,
          "output_type": "execute_result",
          "data": {
            "text/plain": "                      model  accuracy  fail_ratio\n8        Mistralv3_0_4_shot  0.770000    0.230000\n6   Mistralv3_8_shot_custom  0.740000    0.260000\n7        Mistralv3_1_3_shot  0.740000    0.260000\n3          Mistralv3_8_shot  0.730000    0.270000\n11            Llama3_4_shot  0.730000    0.270000\n2          Mistralv3_4_shot  0.730000    0.270000\n14     Llama3_4_shot_custom  0.723333    0.276667\n5   Mistralv3_4_shot_custom  0.700000    0.300000\n12            Llama3_8_shot  0.696667    0.303333\n1          Mistralv3_2_shot  0.693333    0.306667\n10            Llama3_2_shot  0.666667    0.333333\n15     Llama3_8_shot_custom  0.656667    0.343333\n9             Llama3_0_shot  0.653333    0.346667\n13     Llama3_2_shot_custom  0.643333    0.356667\n4   Mistralv3_2_shot_custom  0.640000    0.360000\n0          Mistralv3_0_shot  0.613333    0.386667",
            "text/html": "<div>\n<style scoped>\n    .dataframe tbody tr th:only-of-type {\n        vertical-align: middle;\n    }\n\n    .dataframe tbody tr th {\n        vertical-align: top;\n    }\n\n    .dataframe thead th {\n        text-align: right;\n    }\n</style>\n<table border=\"1\" class=\"dataframe\">\n  <thead>\n    <tr style=\"text-align: right;\">\n      <th></th>\n      <th>model</th>\n      <th>accuracy</th>\n      <th>fail_ratio</th>\n    </tr>\n  </thead>\n  <tbody>\n    <tr>\n      <th>8</th>\n      <td>Mistralv3_0_4_shot</td>\n      <td>0.770000</td>\n      <td>0.230000</td>\n    </tr>\n    <tr>\n      <th>6</th>\n      <td>Mistralv3_8_shot_custom</td>\n      <td>0.740000</td>\n      <td>0.260000</td>\n    </tr>\n    <tr>\n      <th>7</th>\n      <td>Mistralv3_1_3_shot</td>\n      <td>0.740000</td>\n      <td>0.260000</td>\n    </tr>\n    <tr>\n      <th>3</th>\n      <td>Mistralv3_8_shot</td>\n      <td>0.730000</td>\n      <td>0.270000</td>\n    </tr>\n    <tr>\n      <th>11</th>\n      <td>Llama3_4_shot</td>\n      <td>0.730000</td>\n      <td>0.270000</td>\n    </tr>\n    <tr>\n      <th>2</th>\n      <td>Mistralv3_4_shot</td>\n      <td>0.730000</td>\n      <td>0.270000</td>\n    </tr>\n    <tr>\n      <th>14</th>\n      <td>Llama3_4_shot_custom</td>\n      <td>0.723333</td>\n      <td>0.276667</td>\n    </tr>\n    <tr>\n      <th>5</th>\n      <td>Mistralv3_4_shot_custom</td>\n      <td>0.700000</td>\n      <td>0.300000</td>\n    </tr>\n    <tr>\n      <th>12</th>\n      <td>Llama3_8_shot</td>\n      <td>0.696667</td>\n      <td>0.303333</td>\n    </tr>\n    <tr>\n      <th>1</th>\n      <td>Mistralv3_2_shot</td>\n      <td>0.693333</td>\n      <td>0.306667</td>\n    </tr>\n    <tr>\n      <th>10</th>\n      <td>Llama3_2_shot</td>\n      <td>0.666667</td>\n      <td>0.333333</td>\n    </tr>\n    <tr>\n      <th>15</th>\n      <td>Llama3_8_shot_custom</td>\n      <td>0.656667</td>\n      <td>0.343333</td>\n    </tr>\n    <tr>\n      <th>9</th>\n      <td>Llama3_0_shot</td>\n      <td>0.653333</td>\n      <td>0.346667</td>\n    </tr>\n    <tr>\n      <th>13</th>\n      <td>Llama3_2_shot_custom</td>\n      <td>0.643333</td>\n      <td>0.356667</td>\n    </tr>\n    <tr>\n      <th>4</th>\n      <td>Mistralv3_2_shot_custom</td>\n      <td>0.640000</td>\n      <td>0.360000</td>\n    </tr>\n    <tr>\n      <th>0</th>\n      <td>Mistralv3_0_shot</td>\n      <td>0.613333</td>\n      <td>0.386667</td>\n    </tr>\n  </tbody>\n</table>\n</div>"
          },
          "metadata": {}
        }
      ],
      "execution_count": null
    },
    {
      "cell_type": "markdown",
      "source": [
        "When comparing **Mistral v3 4-shot** with the **Mistral v3 zero shot** (base-model), there is a significant difference in performance. The Mistral model promped with a 4 shot technique scored an accuracy of 0.75, while the Mistral v3 model promped with a zero-shot technique scored 0.613. This substantial improvement can be attributed to the additional context provided by the four examples, which enhances the model's predictive accuracy. In contrast, the zero-shot model relies solely on its pre-trained knowledge without specific examples to guide its predictions, resulting in lower performance.\n",
        "\n",
        "However, increasing the number of examples in the prompt beyond a certain point can significantly decrease the model's performance. This decline can be due to several factors, such as context overload where the model struggles to process too much information, and the introduction of noise and variability from additional examples. These factors can overwhelm the model, reducing its ability to generalize and make accurate predictions.\n",
        "\n",
        "From this empiric expents we shown that  while some additional context is beneficial, too many examples can be detrimental to the model's performance.\n"
      ],
      "metadata": {
        "id": "hHbPEudylwqi"
      }
    },
    {
      "cell_type": "markdown",
      "source": [
        "### Task 6.2 - Model performace evaluation with zero shot inference\n",
        "To begin the error analysis, we first evaluate which model performed better using zero-shot inference. This initial step is crucial as it allows us to identify the most effective model without any prior training on specific examples. By determining the best-performing model in a zero-shot context, we establish a strong baseline for comparison."
      ],
      "metadata": {
        "id": "Sp6UX2_hkGAF"
      }
    },
    {
      "cell_type": "code",
      "source": [
        "def print_models_confusion_matrixs(models_list, models_predictions):\n",
        "\n",
        "  figsize_x = len(models_list) * 8\n",
        "  figsize_y = 5\n",
        "  fig, axes = plt.subplots(1, len(models_list), figsize=(figsize_x, figsize_y))\n",
        "\n",
        "  actual = models_predictions['original_labels']\n",
        "\n",
        "  for i, model in enumerate(models_list):\n",
        "\n",
        "    predicted = models_predictions[model]\n",
        "    cm = confusion_matrix(actual, predicted)\n",
        "    cm_display = ConfusionMatrixDisplay(confusion_matrix=cm, display_labels=[\"not sexist\", \"sexist\"])\n",
        "\n",
        "    cm_display.plot(ax=axes[i])\n",
        "    axes[i].set_title(model)\n",
        "\n",
        "  plt.show()\n",
        "\n",
        "\n",
        "def print_misslabeled_tweets(model_name, model_list, misslabel_type=\"fp\", text_limit=10):\n",
        "  if misslabel_type == 'fp':\n",
        "    print(f\"Not sexist labeled tweet classified as sexist by {model_name}\")\n",
        "    flag = 0\n",
        "  elif misslabel_type == 'fn':\n",
        "    print(f\"Sexist labeled tweet classified as not sexist by {model_name}\")\n",
        "    flag = 1\n",
        "  else:\n",
        "    print(f\"ERROR, misslabel_type must be set to 'fp'or 'fn'\")\n",
        "    return\n",
        "\n",
        "  for model in model_list:\n",
        "    miss_labeled = models_predictions[models_predictions['original_labels'] != models_predictions[model]]\n",
        "    filtered_df = miss_labeled[miss_labeled['original_labels'] == flag]\n",
        "\n",
        "    print(f\"\\nAnalyzing {model}:\")\n",
        "    for i, (row_index, row) in enumerate(filtered_df.iterrows()):\n",
        "      print(f\"row {row_index}) {row['text']} \")\n",
        "      if i >= text_limit:\n",
        "        break"
      ],
      "metadata": {
        "id": "WHbCXr2SrKeZ",
        "trusted": true,
        "execution": {
          "iopub.status.busy": "2024-12-28T22:05:18.241019Z",
          "iopub.execute_input": "2024-12-28T22:05:18.241327Z",
          "iopub.status.idle": "2024-12-28T22:05:18.248641Z",
          "shell.execute_reply.started": "2024-12-28T22:05:18.241303Z",
          "shell.execute_reply": "2024-12-28T22:05:18.247694Z"
        }
      },
      "outputs": [],
      "execution_count": null
    },
    {
      "cell_type": "code",
      "source": [
        "print_models_confusion_matrixs(['mistralv3_zero_shot_labels', 'llama3_zero_shot_labels'], models_predictions)\n",
        "\n",
        "zero_shot_df = model_metrics[model_metrics['model'].str.contains('zero shot', case=False)]\n",
        "zero_shot_df.sort_values('accuracy', ascending=False)"
      ],
      "metadata": {
        "colab": {
          "base_uri": "https://localhost:8080/",
          "height": 602
        },
        "id": "3uMU30ZQeYMs",
        "outputId": "a1f26459-f0b0-4246-f72c-c408a583a097",
        "trusted": true,
        "execution": {
          "iopub.status.busy": "2024-12-28T22:05:29.326609Z",
          "iopub.execute_input": "2024-12-28T22:05:29.326944Z",
          "iopub.status.idle": "2024-12-28T22:05:29.775706Z",
          "shell.execute_reply.started": "2024-12-28T22:05:29.326918Z",
          "shell.execute_reply": "2024-12-28T22:05:29.774483Z"
        }
      },
      "outputs": [
        {
          "traceback": [
            "\u001b[0;31m---------------------------------------------------------------------------\u001b[0m",
            "\u001b[0;31mKeyError\u001b[0m                                  Traceback (most recent call last)",
            "\u001b[0;32m/usr/local/lib/python3.10/dist-packages/pandas/core/indexes/base.py\u001b[0m in \u001b[0;36mget_loc\u001b[0;34m(self, key)\u001b[0m\n\u001b[1;32m   3790\u001b[0m         \u001b[0;32mtry\u001b[0m\u001b[0;34m:\u001b[0m\u001b[0;34m\u001b[0m\u001b[0;34m\u001b[0m\u001b[0m\n\u001b[0;32m-> 3791\u001b[0;31m             \u001b[0;32mreturn\u001b[0m \u001b[0mself\u001b[0m\u001b[0;34m.\u001b[0m\u001b[0m_engine\u001b[0m\u001b[0;34m.\u001b[0m\u001b[0mget_loc\u001b[0m\u001b[0;34m(\u001b[0m\u001b[0mcasted_key\u001b[0m\u001b[0;34m)\u001b[0m\u001b[0;34m\u001b[0m\u001b[0;34m\u001b[0m\u001b[0m\n\u001b[0m\u001b[1;32m   3792\u001b[0m         \u001b[0;32mexcept\u001b[0m \u001b[0mKeyError\u001b[0m \u001b[0;32mas\u001b[0m \u001b[0merr\u001b[0m\u001b[0;34m:\u001b[0m\u001b[0;34m\u001b[0m\u001b[0;34m\u001b[0m\u001b[0m\n",
            "\u001b[0;32mindex.pyx\u001b[0m in \u001b[0;36mpandas._libs.index.IndexEngine.get_loc\u001b[0;34m()\u001b[0m\n",
            "\u001b[0;32mindex.pyx\u001b[0m in \u001b[0;36mpandas._libs.index.IndexEngine.get_loc\u001b[0;34m()\u001b[0m\n",
            "\u001b[0;32mpandas/_libs/hashtable_class_helper.pxi\u001b[0m in \u001b[0;36mpandas._libs.hashtable.PyObjectHashTable.get_item\u001b[0;34m()\u001b[0m\n",
            "\u001b[0;32mpandas/_libs/hashtable_class_helper.pxi\u001b[0m in \u001b[0;36mpandas._libs.hashtable.PyObjectHashTable.get_item\u001b[0;34m()\u001b[0m\n",
            "\u001b[0;31mKeyError\u001b[0m: 'Llama3_zero_shot_labels'",
            "\nThe above exception was the direct cause of the following exception:\n",
            "\u001b[0;31mKeyError\u001b[0m                                  Traceback (most recent call last)",
            "\u001b[0;32m<ipython-input-86-510a99792974>\u001b[0m in \u001b[0;36m<cell line: 1>\u001b[0;34m()\u001b[0m\n\u001b[0;32m----> 1\u001b[0;31m \u001b[0mprint_models_confusion_matrixs\u001b[0m\u001b[0;34m(\u001b[0m\u001b[0;34m[\u001b[0m\u001b[0;34m'mistralv3_zero_shot_labels'\u001b[0m\u001b[0;34m,\u001b[0m \u001b[0;34m'Llama3_zero_shot_labels'\u001b[0m\u001b[0;34m]\u001b[0m\u001b[0;34m,\u001b[0m \u001b[0mmodels_predictions\u001b[0m\u001b[0;34m)\u001b[0m\u001b[0;34m\u001b[0m\u001b[0;34m\u001b[0m\u001b[0m\n\u001b[0m\u001b[1;32m      2\u001b[0m \u001b[0;34m\u001b[0m\u001b[0m\n\u001b[1;32m      3\u001b[0m \u001b[0mzero_shot_df\u001b[0m \u001b[0;34m=\u001b[0m \u001b[0mmodel_metrics\u001b[0m\u001b[0;34m[\u001b[0m\u001b[0mmodel_metrics\u001b[0m\u001b[0;34m[\u001b[0m\u001b[0;34m'model'\u001b[0m\u001b[0;34m]\u001b[0m\u001b[0;34m.\u001b[0m\u001b[0mstr\u001b[0m\u001b[0;34m.\u001b[0m\u001b[0mcontains\u001b[0m\u001b[0;34m(\u001b[0m\u001b[0;34m'zero shot'\u001b[0m\u001b[0;34m,\u001b[0m \u001b[0mcase\u001b[0m\u001b[0;34m=\u001b[0m\u001b[0;32mFalse\u001b[0m\u001b[0;34m)\u001b[0m\u001b[0;34m]\u001b[0m\u001b[0;34m\u001b[0m\u001b[0;34m\u001b[0m\u001b[0m\n\u001b[1;32m      4\u001b[0m \u001b[0mzero_shot_df\u001b[0m\u001b[0;34m.\u001b[0m\u001b[0msort_values\u001b[0m\u001b[0;34m(\u001b[0m\u001b[0;34m'accuracy'\u001b[0m\u001b[0;34m,\u001b[0m \u001b[0mascending\u001b[0m\u001b[0;34m=\u001b[0m\u001b[0;32mFalse\u001b[0m\u001b[0;34m)\u001b[0m\u001b[0;34m\u001b[0m\u001b[0;34m\u001b[0m\u001b[0m\n",
            "\u001b[0;32m<ipython-input-84-2a83fd529ca4>\u001b[0m in \u001b[0;36mprint_models_confusion_matrixs\u001b[0;34m(models_list, models_predictions)\u001b[0m\n\u001b[1;32m      9\u001b[0m   \u001b[0;32mfor\u001b[0m \u001b[0mi\u001b[0m\u001b[0;34m,\u001b[0m \u001b[0mmodel\u001b[0m \u001b[0;32min\u001b[0m \u001b[0menumerate\u001b[0m\u001b[0;34m(\u001b[0m\u001b[0mmodels_list\u001b[0m\u001b[0;34m)\u001b[0m\u001b[0;34m:\u001b[0m\u001b[0;34m\u001b[0m\u001b[0;34m\u001b[0m\u001b[0m\n\u001b[1;32m     10\u001b[0m \u001b[0;34m\u001b[0m\u001b[0m\n\u001b[0;32m---> 11\u001b[0;31m     \u001b[0mpredicted\u001b[0m \u001b[0;34m=\u001b[0m \u001b[0mmodels_predictions\u001b[0m\u001b[0;34m[\u001b[0m\u001b[0mmodel\u001b[0m\u001b[0;34m]\u001b[0m\u001b[0;34m\u001b[0m\u001b[0;34m\u001b[0m\u001b[0m\n\u001b[0m\u001b[1;32m     12\u001b[0m     \u001b[0mcm\u001b[0m \u001b[0;34m=\u001b[0m \u001b[0mconfusion_matrix\u001b[0m\u001b[0;34m(\u001b[0m\u001b[0mactual\u001b[0m\u001b[0;34m,\u001b[0m \u001b[0mpredicted\u001b[0m\u001b[0;34m)\u001b[0m\u001b[0;34m\u001b[0m\u001b[0;34m\u001b[0m\u001b[0m\n\u001b[1;32m     13\u001b[0m     \u001b[0mcm_display\u001b[0m \u001b[0;34m=\u001b[0m \u001b[0mConfusionMatrixDisplay\u001b[0m\u001b[0;34m(\u001b[0m\u001b[0mconfusion_matrix\u001b[0m\u001b[0;34m=\u001b[0m\u001b[0mcm\u001b[0m\u001b[0;34m,\u001b[0m \u001b[0mdisplay_labels\u001b[0m\u001b[0;34m=\u001b[0m\u001b[0;34m[\u001b[0m\u001b[0;34m\"not sexist\"\u001b[0m\u001b[0;34m,\u001b[0m \u001b[0;34m\"sexist\"\u001b[0m\u001b[0;34m]\u001b[0m\u001b[0;34m)\u001b[0m\u001b[0;34m\u001b[0m\u001b[0;34m\u001b[0m\u001b[0m\n",
            "\u001b[0;32m/usr/local/lib/python3.10/dist-packages/pandas/core/frame.py\u001b[0m in \u001b[0;36m__getitem__\u001b[0;34m(self, key)\u001b[0m\n\u001b[1;32m   3891\u001b[0m             \u001b[0;32mif\u001b[0m \u001b[0mself\u001b[0m\u001b[0;34m.\u001b[0m\u001b[0mcolumns\u001b[0m\u001b[0;34m.\u001b[0m\u001b[0mnlevels\u001b[0m \u001b[0;34m>\u001b[0m \u001b[0;36m1\u001b[0m\u001b[0;34m:\u001b[0m\u001b[0;34m\u001b[0m\u001b[0;34m\u001b[0m\u001b[0m\n\u001b[1;32m   3892\u001b[0m                 \u001b[0;32mreturn\u001b[0m \u001b[0mself\u001b[0m\u001b[0;34m.\u001b[0m\u001b[0m_getitem_multilevel\u001b[0m\u001b[0;34m(\u001b[0m\u001b[0mkey\u001b[0m\u001b[0;34m)\u001b[0m\u001b[0;34m\u001b[0m\u001b[0;34m\u001b[0m\u001b[0m\n\u001b[0;32m-> 3893\u001b[0;31m             \u001b[0mindexer\u001b[0m \u001b[0;34m=\u001b[0m \u001b[0mself\u001b[0m\u001b[0;34m.\u001b[0m\u001b[0mcolumns\u001b[0m\u001b[0;34m.\u001b[0m\u001b[0mget_loc\u001b[0m\u001b[0;34m(\u001b[0m\u001b[0mkey\u001b[0m\u001b[0;34m)\u001b[0m\u001b[0;34m\u001b[0m\u001b[0;34m\u001b[0m\u001b[0m\n\u001b[0m\u001b[1;32m   3894\u001b[0m             \u001b[0;32mif\u001b[0m \u001b[0mis_integer\u001b[0m\u001b[0;34m(\u001b[0m\u001b[0mindexer\u001b[0m\u001b[0;34m)\u001b[0m\u001b[0;34m:\u001b[0m\u001b[0;34m\u001b[0m\u001b[0;34m\u001b[0m\u001b[0m\n\u001b[1;32m   3895\u001b[0m                 \u001b[0mindexer\u001b[0m \u001b[0;34m=\u001b[0m \u001b[0;34m[\u001b[0m\u001b[0mindexer\u001b[0m\u001b[0;34m]\u001b[0m\u001b[0;34m\u001b[0m\u001b[0;34m\u001b[0m\u001b[0m\n",
            "\u001b[0;32m/usr/local/lib/python3.10/dist-packages/pandas/core/indexes/base.py\u001b[0m in \u001b[0;36mget_loc\u001b[0;34m(self, key)\u001b[0m\n\u001b[1;32m   3796\u001b[0m             ):\n\u001b[1;32m   3797\u001b[0m                 \u001b[0;32mraise\u001b[0m \u001b[0mInvalidIndexError\u001b[0m\u001b[0;34m(\u001b[0m\u001b[0mkey\u001b[0m\u001b[0;34m)\u001b[0m\u001b[0;34m\u001b[0m\u001b[0;34m\u001b[0m\u001b[0m\n\u001b[0;32m-> 3798\u001b[0;31m             \u001b[0;32mraise\u001b[0m \u001b[0mKeyError\u001b[0m\u001b[0;34m(\u001b[0m\u001b[0mkey\u001b[0m\u001b[0;34m)\u001b[0m \u001b[0;32mfrom\u001b[0m \u001b[0merr\u001b[0m\u001b[0;34m\u001b[0m\u001b[0;34m\u001b[0m\u001b[0m\n\u001b[0m\u001b[1;32m   3799\u001b[0m         \u001b[0;32mexcept\u001b[0m \u001b[0mTypeError\u001b[0m\u001b[0;34m:\u001b[0m\u001b[0;34m\u001b[0m\u001b[0;34m\u001b[0m\u001b[0m\n\u001b[1;32m   3800\u001b[0m             \u001b[0;31m# If we have a listlike key, _check_indexing_error will raise\u001b[0m\u001b[0;34m\u001b[0m\u001b[0;34m\u001b[0m\u001b[0m\n",
            "\u001b[0;31mKeyError\u001b[0m: 'Llama3_zero_shot_labels'"
          ],
          "ename": "KeyError",
          "evalue": "'Llama3_zero_shot_labels'",
          "output_type": "error"
        },
        {
          "output_type": "display_data",
          "data": {
            "text/plain": "<Figure size 1600x500 with 3 Axes>",
            "image/png": "[encoded data removed]"
          },
          "metadata": {}
        }
      ],
      "execution_count": null
    },
    {
      "cell_type": "markdown",
      "source": [
        "LLaMA 3 outperforms Mistral v3 in zero-shot inference.\n",
        "The confusion matrix reveals that most errors made by both models involve misclassifying non-sexist tweets as sexist.\n",
        "\n",
        "Notably, Mistral v3 misclassifies over 75% of non-sexist tweets as sexist, whereas LLaMA 3 misclassifies only 64% of non-sexist tweets as sexist.\n",
        "Additionally, only a very small portion of comments classified as sexist are misclassified as non-sexist: 1.3% for Mistral v3 and 4.7% for LLaMA 3.\n",
        "\n",
        "This discrepancy may be due to several factors. The training data might be imbalanced, with more examples of sexist comments, leading to better recognition of sexist patterns. Sexist comments could also have more distinctive linguistic features, making them easier to identify. Additionally, biases in annotation and the need for nuanced understanding of non-sexist comments might contribute to the models' difficulties.\n",
        "\n",
        "One possible reason for the models being trained on unbalanced data is that the developers aimed to address the generation of unsuitable content. The techniques employed to prevent the generation of such content might have inadvertently led to a significant imbalance between the recognition of the two classes. This imbalance could result in the models being more adept at identifying one class over the other, thus affecting their overall performance."
      ],
      "metadata": {
        "id": "PwuPtOaRfBVK"
      }
    },
    {
      "cell_type": "code",
      "source": [
        "print_misslabeled_tweets('Mistralv3', ['mistralv3_zero_shot_labels'], misslabel_type=\"fn\", text_limit=10)"
      ],
      "metadata": {
        "colab": {
          "base_uri": "https://localhost:8080/"
        },
        "id": "dHudvuHckxvk",
        "outputId": "262a17d9-b8e0-46a5-f969-de66425cc34e"
      },
      "outputs": [
        {
          "name": "stdout",
          "output_type": "stream",
          "text": [
            "Sexist labeled tweet classified as not sexist by Mistralv3\n",
            "\n",
            "Analyzing mistralv3_zero_shot_labels:\n",
            "row 8) That's female fantasy. I have a lot of experience in that field and nurses marry doctors all the time. Something statistics also support. \n",
            "row 140) Karma's a bitch! \n"
          ]
        }
      ],
      "execution_count": null
    },
    {
      "cell_type": "code",
      "source": [
        "print_misslabeled_tweets('Llama3', ['llama3_zero_shot_labels'], misslabel_type=\"fn\", text_limit=10)"
      ],
      "metadata": {
        "colab": {
          "base_uri": "https://localhost:8080/"
        },
        "id": "txc_B5gymLWV",
        "outputId": "661cf93a-ff79-42c8-9d34-9d3c11867319"
      },
      "outputs": [
        {
          "name": "stdout",
          "output_type": "stream",
          "text": [
            "Sexist labeled tweet classified as not sexist by Llama3\n",
            "\n",
            "Analyzing llama3_zero_shot_labels:\n",
            "row 16) Giving women all your money is good personality. \n",
            "row 59) Greens, eh? The fateful question of the Occident is thus now whether young female university graduates can be continually served with yoga and Pilates courses even amidst the ruins looming on the horizon. \n",
            "row 75) Well said. Single mothers would not get this point. \n",
            "row 220) what have you tried already? I like to point out that nobody blinks when a smaller man starts shit with a larger man and gets his ass beat, men and women are equal right? \n",
            "row 238) Not all Blacks are complete NIGGERS like this whore The Pure POS Nigger bitch gives others a bad name fucking cunt Should investigate where she worked and deaths \n",
            "row 245) To female Bishops stop making fun of religion. \n",
            "row 249) I know mine is higher with smart women than dumb women. Or rather, it's lower with dumb women because my lack of knowledge or interest in what (Insert celebrity) did comes across as patronizing. \n"
          ]
        }
      ],
      "execution_count": null
    },
    {
      "cell_type": "markdown",
      "source": [
        "The comments misclassified by Mistral v3 are clearly mislabeled, whereas those misclassified by LLaMA 3 are clearly false negatives. This suggests that Mistral v3 received training that better enables it to identify sexist comments compared to LLaMA 3. This difference in performance may be attributed to the specific techniques used during training, which might have focused more on recognizing and preventing the generation of unsuitable content. Consequently, this focus could have led to an imbalance in the training data, enhancing Mistral v3's ability to detect sexist comments but also increasing the likelihood of misclassifying non-sexist comments."
      ],
      "metadata": {
        "id": "GMvwKsjmktv2"
      }
    },
    {
      "cell_type": "markdown",
      "source": [
        "### Task 6.3 - Model performance evaluation with few shot inference\n"
      ],
      "metadata": {
        "id": "wA4LOEw5m5qy"
      }
    },
    {
      "cell_type": "markdown",
      "source": [
        "In the next session, we will compare the performance of the base models with various few-shot techniques. The base model will serve as a baseline to evaluate the extent of improvements achieved through few-shot prompting. We aim to determine whether a model that performs poorly with zero-shot inference can improve when provided with a few examples in the prompt. Additionally, we will identify the most effective few-shot technique for the task of labeling comments as sexist or non-sexist. This analysis will help us understand the potential of few-shot learning in enhancing model accuracy for this specific classification task."
      ],
      "metadata": {
        "id": "UYdduFX3W32e"
      }
    },
    {
      "cell_type": "markdown",
      "source": [
        "#### Few shot with ramdomly sampled examplse from the dataset\n",
        "\n"
      ],
      "metadata": {
        "id": "G-E0qrkKYwDh"
      }
    },
    {
      "cell_type": "code",
      "source": [
        "mistral_models_labels = ['mistralv3_zero_shot_labels', 'mistralv3_2_shot_labels', 'mistralv3_4_shot_labels', 'mistralv3_8_shot_labels']\n",
        "print_models_confusion_matrixs(mistral_models_labels, models_predictions)\n",
        "mistral_base_prompting =  model_metrics[model_metrics['model'].str.contains('Mistral', case=False) & ~model_metrics['model'].str.endswith('ma')]\n",
        "mistral_base_prompting.sort_values('accuracy', ascending=False)"
      ],
      "metadata": {
        "colab": {
          "base_uri": "https://localhost:8080/",
          "height": 457
        },
        "id": "KJXmivjBwIjz",
        "outputId": "13dccef8-c0ef-4a96-e39d-65fd0d29efe3"
      },
      "outputs": [
        {
          "data": {
            "image/png": "[encoded data removed]",
            "text/plain": [
              "<Figure size 3200x500 with 8 Axes>"
            ]
          },
          "metadata": {},
          "output_type": "display_data"
        },
        {
          "data": {
            "application/vnd.google.colaboratory.intrinsic+json": {
              "summary": "{\n  \"name\": \"mistral_base_prompting\",\n  \"rows\": 4,\n  \"fields\": [\n    {\n      \"column\": \"model\",\n      \"properties\": {\n        \"dtype\": \"string\",\n        \"num_unique_values\": 4,\n        \"samples\": [\n          \"Mistral v3 4 shot\",\n          \"Mistral v3 8 shot\",\n          \"Mistral v3 2 shot\"\n        ],\n        \"semantic_type\": \"\",\n        \"description\": \"\"\n      }\n    },\n    {\n      \"column\": \"accuracy\",\n      \"properties\": {\n        \"dtype\": \"number\",\n        \"std\": 0.045246239868327445,\n        \"min\": 0.6133333333333333,\n        \"max\": 0.6933333333333334,\n        \"num_unique_values\": 3,\n        \"samples\": [\n          0.6933333333333334,\n          0.69,\n          0.6133333333333333\n        ],\n        \"semantic_type\": \"\",\n        \"description\": \"\"\n      }\n    },\n    {\n      \"column\": \"fail_ratio\",\n      \"properties\": {\n        \"dtype\": \"number\",\n        \"std\": 0.04524623986832741,\n        \"min\": 0.3066666666666666,\n        \"max\": 0.3866666666666666,\n        \"num_unique_values\": 3,\n        \"samples\": [\n          0.3066666666666666,\n          0.31,\n          0.3866666666666666\n        ],\n        \"semantic_type\": \"\",\n        \"description\": \"\"\n      }\n    }\n  ]\n}",
              "type": "dataframe"
            },
            "text/html": [
              "\n",
              "  <div id=\"df-297167e8-5ecd-4c8b-8e4e-99e8595ee7ac\" class=\"colab-df-container\">\n",
              "    <div>\n",
              "<style scoped>\n",
              "    .dataframe tbody tr th:only-of-type {\n",
              "        vertical-align: middle;\n",
              "    }\n",
              "\n",
              "    .dataframe tbody tr th {\n",
              "        vertical-align: top;\n",
              "    }\n",
              "\n",
              "    .dataframe thead th {\n",
              "        text-align: right;\n",
              "    }\n",
              "</style>\n",
              "<table border=\"1\" class=\"dataframe\">\n",
              "  <thead>\n",
              "    <tr style=\"text-align: right;\">\n",
              "      <th></th>\n",
              "      <th>model</th>\n",
              "      <th>accuracy</th>\n",
              "      <th>fail_ratio</th>\n",
              "    </tr>\n",
              "  </thead>\n",
              "  <tbody>\n",
              "    <tr>\n",
              "      <th>1</th>\n",
              "      <td>Mistral v3 2 shot</td>\n",
              "      <td>0.693333</td>\n",
              "      <td>0.306667</td>\n",
              "    </tr>\n",
              "    <tr>\n",
              "      <th>2</th>\n",
              "      <td>Mistral v3 4 shot</td>\n",
              "      <td>0.690000</td>\n",
              "      <td>0.310000</td>\n",
              "    </tr>\n",
              "    <tr>\n",
              "      <th>0</th>\n",
              "      <td>Mistral v3 zero shot</td>\n",
              "      <td>0.613333</td>\n",
              "      <td>0.386667</td>\n",
              "    </tr>\n",
              "    <tr>\n",
              "      <th>3</th>\n",
              "      <td>Mistral v3 8 shot</td>\n",
              "      <td>0.613333</td>\n",
              "      <td>0.386667</td>\n",
              "    </tr>\n",
              "  </tbody>\n",
              "</table>\n",
              "</div>\n",
              "    <div class=\"colab-df-buttons\">\n",
              "\n",
              "  <div class=\"colab-df-container\">\n",
              "    <button class=\"colab-df-convert\" onclick=\"convertToInteractive('df-297167e8-5ecd-4c8b-8e4e-99e8595ee7ac')\"\n",
              "            title=\"Convert this dataframe to an interactive table.\"\n",
              "            style=\"display:none;\">\n",
              "\n",
              "  <svg xmlns=\"http://www.w3.org/2000/svg\" height=\"24px\" viewBox=\"0 -960 960 960\">\n",
              "    <path d=\"M120-120v-720h720v720H120Zm60-500h600v-160H180v160Zm220 220h160v-160H400v160Zm0 220h160v-160H400v160ZM180-400h160v-160H180v160Zm440 0h160v-160H620v160ZM180-180h160v-160H180v160Zm440 0h160v-160H620v160Z\"/>\n",
              "  </svg>\n",
              "    </button>\n",
              "\n",
              "  <style>\n",
              "    .colab-df-container {\n",
              "      display:flex;\n",
              "      gap: 12px;\n",
              "    }\n",
              "\n",
              "    .colab-df-convert {\n",
              "      background-color: #E8F0FE;\n",
              "      border: none;\n",
              "      border-radius: 50%;\n",
              "      cursor: pointer;\n",
              "      display: none;\n",
              "      fill: #1967D2;\n",
              "      height: 32px;\n",
              "      padding: 0 0 0 0;\n",
              "      width: 32px;\n",
              "    }\n",
              "\n",
              "    .colab-df-convert:hover {\n",
              "      background-color: #E2EBFA;\n",
              "      box-shadow: 0px 1px 2px rgba(60, 64, 67, 0.3), 0px 1px 3px 1px rgba(60, 64, 67, 0.15);\n",
              "      fill: #174EA6;\n",
              "    }\n",
              "\n",
              "    .colab-df-buttons div {\n",
              "      margin-bottom: 4px;\n",
              "    }\n",
              "\n",
              "    [theme=dark] .colab-df-convert {\n",
              "      background-color: #3B4455;\n",
              "      fill: #D2E3FC;\n",
              "    }\n",
              "\n",
              "    [theme=dark] .colab-df-convert:hover {\n",
              "      background-color: #434B5C;\n",
              "      box-shadow: 0px 1px 3px 1px rgba(0, 0, 0, 0.15);\n",
              "      filter: drop-shadow(0px 1px 2px rgba(0, 0, 0, 0.3));\n",
              "      fill: #FFFFFF;\n",
              "    }\n",
              "  </style>\n",
              "\n",
              "    <script>\n",
              "      const buttonEl =\n",
              "        document.querySelector('#df-297167e8-5ecd-4c8b-8e4e-99e8595ee7ac button.colab-df-convert');\n",
              "      buttonEl.style.display =\n",
              "        google.colab.kernel.accessAllowed ? 'block' : 'none';\n",
              "\n",
              "      async function convertToInteractive(key) {\n",
              "        const element = document.querySelector('#df-297167e8-5ecd-4c8b-8e4e-99e8595ee7ac');\n",
              "        const dataTable =\n",
              "          await google.colab.kernel.invokeFunction('convertToInteractive',\n",
              "                                                    [key], {});\n",
              "        if (!dataTable) return;\n",
              "\n",
              "        const docLinkHtml = 'Like what you see? Visit the ' +\n",
              "          '<a target=\"_blank\" href=https://colab.research.google.com/notebooks/data_table.ipynb>data table notebook</a>'\n",
              "          + ' to learn more about interactive tables.';\n",
              "        element.innerHTML = '';\n",
              "        dataTable['output_type'] = 'display_data';\n",
              "        await google.colab.output.renderOutput(dataTable, element);\n",
              "        const docLink = document.createElement('div');\n",
              "        docLink.innerHTML = docLinkHtml;\n",
              "        element.appendChild(docLink);\n",
              "      }\n",
              "    </script>\n",
              "  </div>\n",
              "\n",
              "\n",
              "<div id=\"df-91b6671e-02cb-4910-b94b-520743b31bf9\">\n",
              "  <button class=\"colab-df-quickchart\" onclick=\"quickchart('df-91b6671e-02cb-4910-b94b-520743b31bf9')\"\n",
              "            title=\"Suggest charts\"\n",
              "            style=\"display:none;\">\n",
              "\n",
              "<svg xmlns=\"http://www.w3.org/2000/svg\" height=\"24px\"viewBox=\"0 0 24 24\"\n",
              "     width=\"24px\">\n",
              "    <g>\n",
              "        <path d=\"M19 3H5c-1.1 0-2 .9-2 2v14c0 1.1.9 2 2 2h14c1.1 0 2-.9 2-2V5c0-1.1-.9-2-2-2zM9 17H7v-7h2v7zm4 0h-2V7h2v10zm4 0h-2v-4h2v4z\"/>\n",
              "    </g>\n",
              "</svg>\n",
              "  </button>\n",
              "\n",
              "<style>\n",
              "  .colab-df-quickchart {\n",
              "      --bg-color: #E8F0FE;\n",
              "      --fill-color: #1967D2;\n",
              "      --hover-bg-color: #E2EBFA;\n",
              "      --hover-fill-color: #174EA6;\n",
              "      --disabled-fill-color: #AAA;\n",
              "      --disabled-bg-color: #DDD;\n",
              "  }\n",
              "\n",
              "  [theme=dark] .colab-df-quickchart {\n",
              "      --bg-color: #3B4455;\n",
              "      --fill-color: #D2E3FC;\n",
              "      --hover-bg-color: #434B5C;\n",
              "      --hover-fill-color: #FFFFFF;\n",
              "      --disabled-bg-color: #3B4455;\n",
              "      --disabled-fill-color: #666;\n",
              "  }\n",
              "\n",
              "  .colab-df-quickchart {\n",
              "    background-color: var(--bg-color);\n",
              "    border: none;\n",
              "    border-radius: 50%;\n",
              "    cursor: pointer;\n",
              "    display: none;\n",
              "    fill: var(--fill-color);\n",
              "    height: 32px;\n",
              "    padding: 0;\n",
              "    width: 32px;\n",
              "  }\n",
              "\n",
              "  .colab-df-quickchart:hover {\n",
              "    background-color: var(--hover-bg-color);\n",
              "    box-shadow: 0 1px 2px rgba(60, 64, 67, 0.3), 0 1px 3px 1px rgba(60, 64, 67, 0.15);\n",
              "    fill: var(--button-hover-fill-color);\n",
              "  }\n",
              "\n",
              "  .colab-df-quickchart-complete:disabled,\n",
              "  .colab-df-quickchart-complete:disabled:hover {\n",
              "    background-color: var(--disabled-bg-color);\n",
              "    fill: var(--disabled-fill-color);\n",
              "    box-shadow: none;\n",
              "  }\n",
              "\n",
              "  .colab-df-spinner {\n",
              "    border: 2px solid var(--fill-color);\n",
              "    border-color: transparent;\n",
              "    border-bottom-color: var(--fill-color);\n",
              "    animation:\n",
              "      spin 1s steps(1) infinite;\n",
              "  }\n",
              "\n",
              "  @keyframes spin {\n",
              "    0% {\n",
              "      border-color: transparent;\n",
              "      border-bottom-color: var(--fill-color);\n",
              "      border-left-color: var(--fill-color);\n",
              "    }\n",
              "    20% {\n",
              "      border-color: transparent;\n",
              "      border-left-color: var(--fill-color);\n",
              "      border-top-color: var(--fill-color);\n",
              "    }\n",
              "    30% {\n",
              "      border-color: transparent;\n",
              "      border-left-color: var(--fill-color);\n",
              "      border-top-color: var(--fill-color);\n",
              "      border-right-color: var(--fill-color);\n",
              "    }\n",
              "    40% {\n",
              "      border-color: transparent;\n",
              "      border-right-color: var(--fill-color);\n",
              "      border-top-color: var(--fill-color);\n",
              "    }\n",
              "    60% {\n",
              "      border-color: transparent;\n",
              "      border-right-color: var(--fill-color);\n",
              "    }\n",
              "    80% {\n",
              "      border-color: transparent;\n",
              "      border-right-color: var(--fill-color);\n",
              "      border-bottom-color: var(--fill-color);\n",
              "    }\n",
              "    90% {\n",
              "      border-color: transparent;\n",
              "      border-bottom-color: var(--fill-color);\n",
              "    }\n",
              "  }\n",
              "</style>\n",
              "\n",
              "  <script>\n",
              "    async function quickchart(key) {\n",
              "      const quickchartButtonEl =\n",
              "        document.querySelector('#' + key + ' button');\n",
              "      quickchartButtonEl.disabled = true;  // To prevent multiple clicks.\n",
              "      quickchartButtonEl.classList.add('colab-df-spinner');\n",
              "      try {\n",
              "        const charts = await google.colab.kernel.invokeFunction(\n",
              "            'suggestCharts', [key], {});\n",
              "      } catch (error) {\n",
              "        console.error('Error during call to suggestCharts:', error);\n",
              "      }\n",
              "      quickchartButtonEl.classList.remove('colab-df-spinner');\n",
              "      quickchartButtonEl.classList.add('colab-df-quickchart-complete');\n",
              "    }\n",
              "    (() => {\n",
              "      let quickchartButtonEl =\n",
              "        document.querySelector('#df-91b6671e-02cb-4910-b94b-520743b31bf9 button');\n",
              "      quickchartButtonEl.style.display =\n",
              "        google.colab.kernel.accessAllowed ? 'block' : 'none';\n",
              "    })();\n",
              "  </script>\n",
              "</div>\n",
              "\n",
              "    </div>\n",
              "  </div>\n"
            ],
            "text/plain": [
              "                  model  accuracy  fail_ratio\n",
              "1     Mistral v3 2 shot  0.693333    0.306667\n",
              "2     Mistral v3 4 shot  0.690000    0.310000\n",
              "0  Mistral v3 zero shot  0.613333    0.386667\n",
              "3     Mistral v3 8 shot  0.613333    0.386667"
            ]
          },
          "execution_count": 35,
          "metadata": {},
          "output_type": "execute_result"
        }
      ],
      "execution_count": null
    },
    {
      "cell_type": "markdown",
      "source": [
        "The results indicate that Mistral v3's performance improves with two-shot examples, achieving an accuracy of 0.693333 compared to the zero-shot baseline of 0.613333. However, increasing the number of examples to four or eight does not yield further improvements, with the eight-shot model performing identically to the zero-shot model.\n",
        "\n"
      ],
      "metadata": {
        "id": "JMdSkEkRbpmB"
      }
    },
    {
      "cell_type": "code",
      "source": [
        "llama_models_labels = ['llama3_zero_shot_labels', 'llama3_2_shot_labels', 'llama3_4_shot_labels', 'llama3_8_shot_labels']\n",
        "print_models_confusion_matrixs(llama_models_labels, models_predictions)\n",
        "llama3_base_prompting =  model_metrics[model_metrics['model'].str.contains('Llama3', case=False) & ~model_metrics['model'].str.endswith('ma')]\n",
        "llama3_base_prompting.sort_values('accuracy', ascending=False)"
      ],
      "metadata": {
        "colab": {
          "base_uri": "https://localhost:8080/",
          "height": 457
        },
        "id": "fPIxBGqCcrl8",
        "outputId": "e6dc57b6-ec03-41df-f092-2704cdc58cfb"
      },
      "outputs": [
        {
          "data": {
            "image/png": "[encoded data removed]",
            "text/plain": [
              "<Figure size 3200x500 with 8 Axes>"
            ]
          },
          "metadata": {},
          "output_type": "display_data"
        },
        {
          "data": {
            "application/vnd.google.colaboratory.intrinsic+json": {
              "summary": "{\n  \"name\": \"llama3_base_prompting\",\n  \"rows\": 4,\n  \"fields\": [\n    {\n      \"column\": \"model\",\n      \"properties\": {\n        \"dtype\": \"string\",\n        \"num_unique_values\": 4,\n        \"samples\": [\n          \"Llama3 2 shot\",\n          \"Llama3 8 shot\",\n          \"llama3 4 shot\"\n        ],\n        \"semantic_type\": \"\",\n        \"description\": \"\"\n      }\n    },\n    {\n      \"column\": \"accuracy\",\n      \"properties\": {\n        \"dtype\": \"number\",\n        \"std\": 0.028202311436660125,\n        \"min\": 0.6233333333333333,\n        \"max\": 0.69,\n        \"num_unique_values\": 4,\n        \"samples\": [\n          0.67,\n          0.6233333333333333,\n          0.69\n        ],\n        \"semantic_type\": \"\",\n        \"description\": \"\"\n      }\n    },\n    {\n      \"column\": \"fail_ratio\",\n      \"properties\": {\n        \"dtype\": \"number\",\n        \"std\": 0.028202311436660094,\n        \"min\": 0.31,\n        \"max\": 0.3766666666666666,\n        \"num_unique_values\": 4,\n        \"samples\": [\n          0.33,\n          0.3766666666666666,\n          0.31\n        ],\n        \"semantic_type\": \"\",\n        \"description\": \"\"\n      }\n    }\n  ]\n}",
              "type": "dataframe"
            },
            "text/html": [
              "\n",
              "  <div id=\"df-d60a9644-8f25-45fd-a093-ce9432e9b273\" class=\"colab-df-container\">\n",
              "    <div>\n",
              "<style scoped>\n",
              "    .dataframe tbody tr th:only-of-type {\n",
              "        vertical-align: middle;\n",
              "    }\n",
              "\n",
              "    .dataframe tbody tr th {\n",
              "        vertical-align: top;\n",
              "    }\n",
              "\n",
              "    .dataframe thead th {\n",
              "        text-align: right;\n",
              "    }\n",
              "</style>\n",
              "<table border=\"1\" class=\"dataframe\">\n",
              "  <thead>\n",
              "    <tr style=\"text-align: right;\">\n",
              "      <th></th>\n",
              "      <th>model</th>\n",
              "      <th>accuracy</th>\n",
              "      <th>fail_ratio</th>\n",
              "    </tr>\n",
              "  </thead>\n",
              "  <tbody>\n",
              "    <tr>\n",
              "      <th>9</th>\n",
              "      <td>llama3 4 shot</td>\n",
              "      <td>0.690000</td>\n",
              "      <td>0.310000</td>\n",
              "    </tr>\n",
              "    <tr>\n",
              "      <th>8</th>\n",
              "      <td>Llama3 2 shot</td>\n",
              "      <td>0.670000</td>\n",
              "      <td>0.330000</td>\n",
              "    </tr>\n",
              "    <tr>\n",
              "      <th>7</th>\n",
              "      <td>Llama3 zero shot</td>\n",
              "      <td>0.653333</td>\n",
              "      <td>0.346667</td>\n",
              "    </tr>\n",
              "    <tr>\n",
              "      <th>10</th>\n",
              "      <td>Llama3 8 shot</td>\n",
              "      <td>0.623333</td>\n",
              "      <td>0.376667</td>\n",
              "    </tr>\n",
              "  </tbody>\n",
              "</table>\n",
              "</div>\n",
              "    <div class=\"colab-df-buttons\">\n",
              "\n",
              "  <div class=\"colab-df-container\">\n",
              "    <button class=\"colab-df-convert\" onclick=\"convertToInteractive('df-d60a9644-8f25-45fd-a093-ce9432e9b273')\"\n",
              "            title=\"Convert this dataframe to an interactive table.\"\n",
              "            style=\"display:none;\">\n",
              "\n",
              "  <svg xmlns=\"http://www.w3.org/2000/svg\" height=\"24px\" viewBox=\"0 -960 960 960\">\n",
              "    <path d=\"M120-120v-720h720v720H120Zm60-500h600v-160H180v160Zm220 220h160v-160H400v160Zm0 220h160v-160H400v160ZM180-400h160v-160H180v160Zm440 0h160v-160H620v160ZM180-180h160v-160H180v160Zm440 0h160v-160H620v160Z\"/>\n",
              "  </svg>\n",
              "    </button>\n",
              "\n",
              "  <style>\n",
              "    .colab-df-container {\n",
              "      display:flex;\n",
              "      gap: 12px;\n",
              "    }\n",
              "\n",
              "    .colab-df-convert {\n",
              "      background-color: #E8F0FE;\n",
              "      border: none;\n",
              "      border-radius: 50%;\n",
              "      cursor: pointer;\n",
              "      display: none;\n",
              "      fill: #1967D2;\n",
              "      height: 32px;\n",
              "      padding: 0 0 0 0;\n",
              "      width: 32px;\n",
              "    }\n",
              "\n",
              "    .colab-df-convert:hover {\n",
              "      background-color: #E2EBFA;\n",
              "      box-shadow: 0px 1px 2px rgba(60, 64, 67, 0.3), 0px 1px 3px 1px rgba(60, 64, 67, 0.15);\n",
              "      fill: #174EA6;\n",
              "    }\n",
              "\n",
              "    .colab-df-buttons div {\n",
              "      margin-bottom: 4px;\n",
              "    }\n",
              "\n",
              "    [theme=dark] .colab-df-convert {\n",
              "      background-color: #3B4455;\n",
              "      fill: #D2E3FC;\n",
              "    }\n",
              "\n",
              "    [theme=dark] .colab-df-convert:hover {\n",
              "      background-color: #434B5C;\n",
              "      box-shadow: 0px 1px 3px 1px rgba(0, 0, 0, 0.15);\n",
              "      filter: drop-shadow(0px 1px 2px rgba(0, 0, 0, 0.3));\n",
              "      fill: #FFFFFF;\n",
              "    }\n",
              "  </style>\n",
              "\n",
              "    <script>\n",
              "      const buttonEl =\n",
              "        document.querySelector('#df-d60a9644-8f25-45fd-a093-ce9432e9b273 button.colab-df-convert');\n",
              "      buttonEl.style.display =\n",
              "        google.colab.kernel.accessAllowed ? 'block' : 'none';\n",
              "\n",
              "      async function convertToInteractive(key) {\n",
              "        const element = document.querySelector('#df-d60a9644-8f25-45fd-a093-ce9432e9b273');\n",
              "        const dataTable =\n",
              "          await google.colab.kernel.invokeFunction('convertToInteractive',\n",
              "                                                    [key], {});\n",
              "        if (!dataTable) return;\n",
              "\n",
              "        const docLinkHtml = 'Like what you see? Visit the ' +\n",
              "          '<a target=\"_blank\" href=https://colab.research.google.com/notebooks/data_table.ipynb>data table notebook</a>'\n",
              "          + ' to learn more about interactive tables.';\n",
              "        element.innerHTML = '';\n",
              "        dataTable['output_type'] = 'display_data';\n",
              "        await google.colab.output.renderOutput(dataTable, element);\n",
              "        const docLink = document.createElement('div');\n",
              "        docLink.innerHTML = docLinkHtml;\n",
              "        element.appendChild(docLink);\n",
              "      }\n",
              "    </script>\n",
              "  </div>\n",
              "\n",
              "\n",
              "<div id=\"df-e4e6cd48-3847-4c80-b0e5-e75cd39ea8bd\">\n",
              "  <button class=\"colab-df-quickchart\" onclick=\"quickchart('df-e4e6cd48-3847-4c80-b0e5-e75cd39ea8bd')\"\n",
              "            title=\"Suggest charts\"\n",
              "            style=\"display:none;\">\n",
              "\n",
              "<svg xmlns=\"http://www.w3.org/2000/svg\" height=\"24px\"viewBox=\"0 0 24 24\"\n",
              "     width=\"24px\">\n",
              "    <g>\n",
              "        <path d=\"M19 3H5c-1.1 0-2 .9-2 2v14c0 1.1.9 2 2 2h14c1.1 0 2-.9 2-2V5c0-1.1-.9-2-2-2zM9 17H7v-7h2v7zm4 0h-2V7h2v10zm4 0h-2v-4h2v4z\"/>\n",
              "    </g>\n",
              "</svg>\n",
              "  </button>\n",
              "\n",
              "<style>\n",
              "  .colab-df-quickchart {\n",
              "      --bg-color: #E8F0FE;\n",
              "      --fill-color: #1967D2;\n",
              "      --hover-bg-color: #E2EBFA;\n",
              "      --hover-fill-color: #174EA6;\n",
              "      --disabled-fill-color: #AAA;\n",
              "      --disabled-bg-color: #DDD;\n",
              "  }\n",
              "\n",
              "  [theme=dark] .colab-df-quickchart {\n",
              "      --bg-color: #3B4455;\n",
              "      --fill-color: #D2E3FC;\n",
              "      --hover-bg-color: #434B5C;\n",
              "      --hover-fill-color: #FFFFFF;\n",
              "      --disabled-bg-color: #3B4455;\n",
              "      --disabled-fill-color: #666;\n",
              "  }\n",
              "\n",
              "  .colab-df-quickchart {\n",
              "    background-color: var(--bg-color);\n",
              "    border: none;\n",
              "    border-radius: 50%;\n",
              "    cursor: pointer;\n",
              "    display: none;\n",
              "    fill: var(--fill-color);\n",
              "    height: 32px;\n",
              "    padding: 0;\n",
              "    width: 32px;\n",
              "  }\n",
              "\n",
              "  .colab-df-quickchart:hover {\n",
              "    background-color: var(--hover-bg-color);\n",
              "    box-shadow: 0 1px 2px rgba(60, 64, 67, 0.3), 0 1px 3px 1px rgba(60, 64, 67, 0.15);\n",
              "    fill: var(--button-hover-fill-color);\n",
              "  }\n",
              "\n",
              "  .colab-df-quickchart-complete:disabled,\n",
              "  .colab-df-quickchart-complete:disabled:hover {\n",
              "    background-color: var(--disabled-bg-color);\n",
              "    fill: var(--disabled-fill-color);\n",
              "    box-shadow: none;\n",
              "  }\n",
              "\n",
              "  .colab-df-spinner {\n",
              "    border: 2px solid var(--fill-color);\n",
              "    border-color: transparent;\n",
              "    border-bottom-color: var(--fill-color);\n",
              "    animation:\n",
              "      spin 1s steps(1) infinite;\n",
              "  }\n",
              "\n",
              "  @keyframes spin {\n",
              "    0% {\n",
              "      border-color: transparent;\n",
              "      border-bottom-color: var(--fill-color);\n",
              "      border-left-color: var(--fill-color);\n",
              "    }\n",
              "    20% {\n",
              "      border-color: transparent;\n",
              "      border-left-color: var(--fill-color);\n",
              "      border-top-color: var(--fill-color);\n",
              "    }\n",
              "    30% {\n",
              "      border-color: transparent;\n",
              "      border-left-color: var(--fill-color);\n",
              "      border-top-color: var(--fill-color);\n",
              "      border-right-color: var(--fill-color);\n",
              "    }\n",
              "    40% {\n",
              "      border-color: transparent;\n",
              "      border-right-color: var(--fill-color);\n",
              "      border-top-color: var(--fill-color);\n",
              "    }\n",
              "    60% {\n",
              "      border-color: transparent;\n",
              "      border-right-color: var(--fill-color);\n",
              "    }\n",
              "    80% {\n",
              "      border-color: transparent;\n",
              "      border-right-color: var(--fill-color);\n",
              "      border-bottom-color: var(--fill-color);\n",
              "    }\n",
              "    90% {\n",
              "      border-color: transparent;\n",
              "      border-bottom-color: var(--fill-color);\n",
              "    }\n",
              "  }\n",
              "</style>\n",
              "\n",
              "  <script>\n",
              "    async function quickchart(key) {\n",
              "      const quickchartButtonEl =\n",
              "        document.querySelector('#' + key + ' button');\n",
              "      quickchartButtonEl.disabled = true;  // To prevent multiple clicks.\n",
              "      quickchartButtonEl.classList.add('colab-df-spinner');\n",
              "      try {\n",
              "        const charts = await google.colab.kernel.invokeFunction(\n",
              "            'suggestCharts', [key], {});\n",
              "      } catch (error) {\n",
              "        console.error('Error during call to suggestCharts:', error);\n",
              "      }\n",
              "      quickchartButtonEl.classList.remove('colab-df-spinner');\n",
              "      quickchartButtonEl.classList.add('colab-df-quickchart-complete');\n",
              "    }\n",
              "    (() => {\n",
              "      let quickchartButtonEl =\n",
              "        document.querySelector('#df-e4e6cd48-3847-4c80-b0e5-e75cd39ea8bd button');\n",
              "      quickchartButtonEl.style.display =\n",
              "        google.colab.kernel.accessAllowed ? 'block' : 'none';\n",
              "    })();\n",
              "  </script>\n",
              "</div>\n",
              "\n",
              "    </div>\n",
              "  </div>\n"
            ],
            "text/plain": [
              "               model  accuracy  fail_ratio\n",
              "9      llama3 4 shot  0.690000    0.310000\n",
              "8      Llama3 2 shot  0.670000    0.330000\n",
              "7   Llama3 zero shot  0.653333    0.346667\n",
              "10     Llama3 8 shot  0.623333    0.376667"
            ]
          },
          "execution_count": 36,
          "metadata": {},
          "output_type": "execute_result"
        }
      ],
      "execution_count": null
    },
    {
      "cell_type": "markdown",
      "source": [
        "The table shows that LLaMA 3's performance improves with two-shot and four-shot examples, achieving the highest accuracy of 0.690000 with four-shot examples. However, the eight-shot model performs worse than the zero-shot model, with a decline in accuracy to 0.623333. This suggests that while a few examples can enhance performance, too many examples can degrade it.\n",
        "\n",
        "\n",
        "We suspect that the inconsistent performance in both models is due to the poor quality of the examples used in multiple-shot learning. These examples were randomly extracted from the dataset, which may have led to suboptimal training and the observed lack of improvement. It is important to note that, despite being random, the models were prompted with the same textual prompt for each respective prompting technique.\n",
        "\n",
        "To eliminate the potential problems associated with random selection and better assess the models' performance and to verify the previus claims, we conducted another evaluation of the prompt. This time, the examples injected into the prompt were manually checked by us in order to avoid issues arising from mislabeled or non-meaningful examples."
      ],
      "metadata": {
        "id": "Le0Eyc9AfqI7"
      }
    },
    {
      "cell_type": "markdown",
      "source": [
        "#### Few shot with manually annotated examples in the prompt"
      ],
      "metadata": {
        "id": "PFK_mzpujbDJ"
      }
    },
    {
      "cell_type": "code",
      "source": [
        "mistral_models_labels = ['mistralv3_zero_shot_labels', 'mistralv3_2_shot_ma_labels', 'mistralv3_4_shot_ma_labels', 'mistralv3_8_shot_ma_labels']\n",
        "print_models_confusion_matrixs(mistral_models_labels, models_predictions)\n",
        "mistral_base_prompting = model_metrics[model_metrics['model'].str.contains('Mistral', case=False) &\n",
        "                                                    (model_metrics['model'].str.endswith('ma') | model_metrics['model'].str.endswith('zero shot'))]\n",
        "mistral_base_prompting.sort_values('accuracy', ascending=False)"
      ],
      "metadata": {
        "colab": {
          "base_uri": "https://localhost:8080/",
          "height": 457
        },
        "id": "kq8lznLKdG6G",
        "outputId": "776d96a0-b378-4e45-92e6-7cb75c1343da"
      },
      "outputs": [
        {
          "data": {
            "image/png": "[encoded data removed]",
            "text/plain": [
              "<Figure size 3200x500 with 8 Axes>"
            ]
          },
          "metadata": {},
          "output_type": "display_data"
        },
        {
          "data": {
            "application/vnd.google.colaboratory.intrinsic+json": {
              "summary": "{\n  \"name\": \"mistral_base_prompting\",\n  \"rows\": 4,\n  \"fields\": [\n    {\n      \"column\": \"model\",\n      \"properties\": {\n        \"dtype\": \"string\",\n        \"num_unique_values\": 4,\n        \"samples\": [\n          \"Mistral v3 4 shot ma\",\n          \"Mistral v3 zero shot\",\n          \"Mistral v3 8 shot ma\"\n        ],\n        \"semantic_type\": \"\",\n        \"description\": \"\"\n      }\n    },\n    {\n      \"column\": \"accuracy\",\n      \"properties\": {\n        \"dtype\": \"number\",\n        \"std\": 0.04573474244670748,\n        \"min\": 0.6133333333333333,\n        \"max\": 0.72,\n        \"num_unique_values\": 4,\n        \"samples\": [\n          0.67,\n          0.6133333333333333,\n          0.72\n        ],\n        \"semantic_type\": \"\",\n        \"description\": \"\"\n      }\n    },\n    {\n      \"column\": \"fail_ratio\",\n      \"properties\": {\n        \"dtype\": \"number\",\n        \"std\": 0.04573474244670744,\n        \"min\": 0.28,\n        \"max\": 0.3866666666666666,\n        \"num_unique_values\": 4,\n        \"samples\": [\n          0.33,\n          0.3866666666666666,\n          0.28\n        ],\n        \"semantic_type\": \"\",\n        \"description\": \"\"\n      }\n    }\n  ]\n}",
              "type": "dataframe"
            },
            "text/html": [
              "\n",
              "  <div id=\"df-92957aaf-b894-41e3-b7ef-2d84a0a35c7d\" class=\"colab-df-container\">\n",
              "    <div>\n",
              "<style scoped>\n",
              "    .dataframe tbody tr th:only-of-type {\n",
              "        vertical-align: middle;\n",
              "    }\n",
              "\n",
              "    .dataframe tbody tr th {\n",
              "        vertical-align: top;\n",
              "    }\n",
              "\n",
              "    .dataframe thead th {\n",
              "        text-align: right;\n",
              "    }\n",
              "</style>\n",
              "<table border=\"1\" class=\"dataframe\">\n",
              "  <thead>\n",
              "    <tr style=\"text-align: right;\">\n",
              "      <th></th>\n",
              "      <th>model</th>\n",
              "      <th>accuracy</th>\n",
              "      <th>fail_ratio</th>\n",
              "    </tr>\n",
              "  </thead>\n",
              "  <tbody>\n",
              "    <tr>\n",
              "      <th>6</th>\n",
              "      <td>Mistral v3 8 shot ma</td>\n",
              "      <td>0.720000</td>\n",
              "      <td>0.280000</td>\n",
              "    </tr>\n",
              "    <tr>\n",
              "      <th>5</th>\n",
              "      <td>Mistral v3 4 shot ma</td>\n",
              "      <td>0.670000</td>\n",
              "      <td>0.330000</td>\n",
              "    </tr>\n",
              "    <tr>\n",
              "      <th>4</th>\n",
              "      <td>Mistral v3 2 shot ma</td>\n",
              "      <td>0.640000</td>\n",
              "      <td>0.360000</td>\n",
              "    </tr>\n",
              "    <tr>\n",
              "      <th>0</th>\n",
              "      <td>Mistral v3 zero shot</td>\n",
              "      <td>0.613333</td>\n",
              "      <td>0.386667</td>\n",
              "    </tr>\n",
              "  </tbody>\n",
              "</table>\n",
              "</div>\n",
              "    <div class=\"colab-df-buttons\">\n",
              "\n",
              "  <div class=\"colab-df-container\">\n",
              "    <button class=\"colab-df-convert\" onclick=\"convertToInteractive('df-92957aaf-b894-41e3-b7ef-2d84a0a35c7d')\"\n",
              "            title=\"Convert this dataframe to an interactive table.\"\n",
              "            style=\"display:none;\">\n",
              "\n",
              "  <svg xmlns=\"http://www.w3.org/2000/svg\" height=\"24px\" viewBox=\"0 -960 960 960\">\n",
              "    <path d=\"M120-120v-720h720v720H120Zm60-500h600v-160H180v160Zm220 220h160v-160H400v160Zm0 220h160v-160H400v160ZM180-400h160v-160H180v160Zm440 0h160v-160H620v160ZM180-180h160v-160H180v160Zm440 0h160v-160H620v160Z\"/>\n",
              "  </svg>\n",
              "    </button>\n",
              "\n",
              "  <style>\n",
              "    .colab-df-container {\n",
              "      display:flex;\n",
              "      gap: 12px;\n",
              "    }\n",
              "\n",
              "    .colab-df-convert {\n",
              "      background-color: #E8F0FE;\n",
              "      border: none;\n",
              "      border-radius: 50%;\n",
              "      cursor: pointer;\n",
              "      display: none;\n",
              "      fill: #1967D2;\n",
              "      height: 32px;\n",
              "      padding: 0 0 0 0;\n",
              "      width: 32px;\n",
              "    }\n",
              "\n",
              "    .colab-df-convert:hover {\n",
              "      background-color: #E2EBFA;\n",
              "      box-shadow: 0px 1px 2px rgba(60, 64, 67, 0.3), 0px 1px 3px 1px rgba(60, 64, 67, 0.15);\n",
              "      fill: #174EA6;\n",
              "    }\n",
              "\n",
              "    .colab-df-buttons div {\n",
              "      margin-bottom: 4px;\n",
              "    }\n",
              "\n",
              "    [theme=dark] .colab-df-convert {\n",
              "      background-color: #3B4455;\n",
              "      fill: #D2E3FC;\n",
              "    }\n",
              "\n",
              "    [theme=dark] .colab-df-convert:hover {\n",
              "      background-color: #434B5C;\n",
              "      box-shadow: 0px 1px 3px 1px rgba(0, 0, 0, 0.15);\n",
              "      filter: drop-shadow(0px 1px 2px rgba(0, 0, 0, 0.3));\n",
              "      fill: #FFFFFF;\n",
              "    }\n",
              "  </style>\n",
              "\n",
              "    <script>\n",
              "      const buttonEl =\n",
              "        document.querySelector('#df-92957aaf-b894-41e3-b7ef-2d84a0a35c7d button.colab-df-convert');\n",
              "      buttonEl.style.display =\n",
              "        google.colab.kernel.accessAllowed ? 'block' : 'none';\n",
              "\n",
              "      async function convertToInteractive(key) {\n",
              "        const element = document.querySelector('#df-92957aaf-b894-41e3-b7ef-2d84a0a35c7d');\n",
              "        const dataTable =\n",
              "          await google.colab.kernel.invokeFunction('convertToInteractive',\n",
              "                                                    [key], {});\n",
              "        if (!dataTable) return;\n",
              "\n",
              "        const docLinkHtml = 'Like what you see? Visit the ' +\n",
              "          '<a target=\"_blank\" href=https://colab.research.google.com/notebooks/data_table.ipynb>data table notebook</a>'\n",
              "          + ' to learn more about interactive tables.';\n",
              "        element.innerHTML = '';\n",
              "        dataTable['output_type'] = 'display_data';\n",
              "        await google.colab.output.renderOutput(dataTable, element);\n",
              "        const docLink = document.createElement('div');\n",
              "        docLink.innerHTML = docLinkHtml;\n",
              "        element.appendChild(docLink);\n",
              "      }\n",
              "    </script>\n",
              "  </div>\n",
              "\n",
              "\n",
              "<div id=\"df-89715ee5-622a-490b-a5d6-8e02d5a9cca1\">\n",
              "  <button class=\"colab-df-quickchart\" onclick=\"quickchart('df-89715ee5-622a-490b-a5d6-8e02d5a9cca1')\"\n",
              "            title=\"Suggest charts\"\n",
              "            style=\"display:none;\">\n",
              "\n",
              "<svg xmlns=\"http://www.w3.org/2000/svg\" height=\"24px\"viewBox=\"0 0 24 24\"\n",
              "     width=\"24px\">\n",
              "    <g>\n",
              "        <path d=\"M19 3H5c-1.1 0-2 .9-2 2v14c0 1.1.9 2 2 2h14c1.1 0 2-.9 2-2V5c0-1.1-.9-2-2-2zM9 17H7v-7h2v7zm4 0h-2V7h2v10zm4 0h-2v-4h2v4z\"/>\n",
              "    </g>\n",
              "</svg>\n",
              "  </button>\n",
              "\n",
              "<style>\n",
              "  .colab-df-quickchart {\n",
              "      --bg-color: #E8F0FE;\n",
              "      --fill-color: #1967D2;\n",
              "      --hover-bg-color: #E2EBFA;\n",
              "      --hover-fill-color: #174EA6;\n",
              "      --disabled-fill-color: #AAA;\n",
              "      --disabled-bg-color: #DDD;\n",
              "  }\n",
              "\n",
              "  [theme=dark] .colab-df-quickchart {\n",
              "      --bg-color: #3B4455;\n",
              "      --fill-color: #D2E3FC;\n",
              "      --hover-bg-color: #434B5C;\n",
              "      --hover-fill-color: #FFFFFF;\n",
              "      --disabled-bg-color: #3B4455;\n",
              "      --disabled-fill-color: #666;\n",
              "  }\n",
              "\n",
              "  .colab-df-quickchart {\n",
              "    background-color: var(--bg-color);\n",
              "    border: none;\n",
              "    border-radius: 50%;\n",
              "    cursor: pointer;\n",
              "    display: none;\n",
              "    fill: var(--fill-color);\n",
              "    height: 32px;\n",
              "    padding: 0;\n",
              "    width: 32px;\n",
              "  }\n",
              "\n",
              "  .colab-df-quickchart:hover {\n",
              "    background-color: var(--hover-bg-color);\n",
              "    box-shadow: 0 1px 2px rgba(60, 64, 67, 0.3), 0 1px 3px 1px rgba(60, 64, 67, 0.15);\n",
              "    fill: var(--button-hover-fill-color);\n",
              "  }\n",
              "\n",
              "  .colab-df-quickchart-complete:disabled,\n",
              "  .colab-df-quickchart-complete:disabled:hover {\n",
              "    background-color: var(--disabled-bg-color);\n",
              "    fill: var(--disabled-fill-color);\n",
              "    box-shadow: none;\n",
              "  }\n",
              "\n",
              "  .colab-df-spinner {\n",
              "    border: 2px solid var(--fill-color);\n",
              "    border-color: transparent;\n",
              "    border-bottom-color: var(--fill-color);\n",
              "    animation:\n",
              "      spin 1s steps(1) infinite;\n",
              "  }\n",
              "\n",
              "  @keyframes spin {\n",
              "    0% {\n",
              "      border-color: transparent;\n",
              "      border-bottom-color: var(--fill-color);\n",
              "      border-left-color: var(--fill-color);\n",
              "    }\n",
              "    20% {\n",
              "      border-color: transparent;\n",
              "      border-left-color: var(--fill-color);\n",
              "      border-top-color: var(--fill-color);\n",
              "    }\n",
              "    30% {\n",
              "      border-color: transparent;\n",
              "      border-left-color: var(--fill-color);\n",
              "      border-top-color: var(--fill-color);\n",
              "      border-right-color: var(--fill-color);\n",
              "    }\n",
              "    40% {\n",
              "      border-color: transparent;\n",
              "      border-right-color: var(--fill-color);\n",
              "      border-top-color: var(--fill-color);\n",
              "    }\n",
              "    60% {\n",
              "      border-color: transparent;\n",
              "      border-right-color: var(--fill-color);\n",
              "    }\n",
              "    80% {\n",
              "      border-color: transparent;\n",
              "      border-right-color: var(--fill-color);\n",
              "      border-bottom-color: var(--fill-color);\n",
              "    }\n",
              "    90% {\n",
              "      border-color: transparent;\n",
              "      border-bottom-color: var(--fill-color);\n",
              "    }\n",
              "  }\n",
              "</style>\n",
              "\n",
              "  <script>\n",
              "    async function quickchart(key) {\n",
              "      const quickchartButtonEl =\n",
              "        document.querySelector('#' + key + ' button');\n",
              "      quickchartButtonEl.disabled = true;  // To prevent multiple clicks.\n",
              "      quickchartButtonEl.classList.add('colab-df-spinner');\n",
              "      try {\n",
              "        const charts = await google.colab.kernel.invokeFunction(\n",
              "            'suggestCharts', [key], {});\n",
              "      } catch (error) {\n",
              "        console.error('Error during call to suggestCharts:', error);\n",
              "      }\n",
              "      quickchartButtonEl.classList.remove('colab-df-spinner');\n",
              "      quickchartButtonEl.classList.add('colab-df-quickchart-complete');\n",
              "    }\n",
              "    (() => {\n",
              "      let quickchartButtonEl =\n",
              "        document.querySelector('#df-89715ee5-622a-490b-a5d6-8e02d5a9cca1 button');\n",
              "      quickchartButtonEl.style.display =\n",
              "        google.colab.kernel.accessAllowed ? 'block' : 'none';\n",
              "    })();\n",
              "  </script>\n",
              "</div>\n",
              "\n",
              "    </div>\n",
              "  </div>\n"
            ],
            "text/plain": [
              "                  model  accuracy  fail_ratio\n",
              "6  Mistral v3 8 shot ma  0.720000    0.280000\n",
              "5  Mistral v3 4 shot ma  0.670000    0.330000\n",
              "4  Mistral v3 2 shot ma  0.640000    0.360000\n",
              "0  Mistral v3 zero shot  0.613333    0.386667"
            ]
          },
          "execution_count": 41,
          "metadata": {},
          "output_type": "execute_result"
        }
      ],
      "execution_count": null
    },
    {
      "cell_type": "code",
      "source": [
        "llama_models_labels = ['llama3_zero_shot_labels', 'llama3_2_shot_ma_labels', 'llama3_4_shot_ma_labels', 'llama3_8_shot_ma_labels']\n",
        "print_models_confusion_matrixs(llama_models_labels, models_predictions)\n",
        "mistral_base_prompting = model_metrics[model_metrics['model'].str.contains('Llama3', case=False) &\n",
        "                                                    (model_metrics['model'].str.endswith('ma') | model_metrics['model'].str.endswith('zero shot'))]\n",
        "mistral_base_prompting.sort_values('accuracy', ascending=False)"
      ],
      "metadata": {
        "colab": {
          "base_uri": "https://localhost:8080/",
          "height": 457
        },
        "id": "_yNc_Yq9dXGN",
        "outputId": "bdd6e9e6-d161-432d-f99e-210a9fea2404"
      },
      "outputs": [
        {
          "data": {
            "image/png": "[encoded data removed]",
            "text/plain": [
              "<Figure size 3200x500 with 8 Axes>"
            ]
          },
          "metadata": {},
          "output_type": "display_data"
        },
        {
          "data": {
            "application/vnd.google.colaboratory.intrinsic+json": {
              "summary": "{\n  \"name\": \"mistral_base_prompting\",\n  \"rows\": 4,\n  \"fields\": [\n    {\n      \"column\": \"model\",\n      \"properties\": {\n        \"dtype\": \"string\",\n        \"num_unique_values\": 4,\n        \"samples\": [\n          \"Llama3 8 shot ma\",\n          \"Llama3 zero shot\",\n          \"Llama3 4 shot ma\"\n        ],\n        \"semantic_type\": \"\",\n        \"description\": \"\"\n      }\n    },\n    {\n      \"column\": \"accuracy\",\n      \"properties\": {\n        \"dtype\": \"number\",\n        \"std\": 0.004303314829119365,\n        \"min\": 0.6533333333333333,\n        \"max\": 0.6633333333333333,\n        \"num_unique_values\": 4,\n        \"samples\": [\n          0.66,\n          0.6533333333333333,\n          0.6633333333333333\n        ],\n        \"semantic_type\": \"\",\n        \"description\": \"\"\n      }\n    },\n    {\n      \"column\": \"fail_ratio\",\n      \"properties\": {\n        \"dtype\": \"number\",\n        \"std\": 0.004303314829119373,\n        \"min\": 0.3366666666666666,\n        \"max\": 0.3466666666666667,\n        \"num_unique_values\": 4,\n        \"samples\": [\n          0.34,\n          0.3466666666666667,\n          0.3366666666666666\n        ],\n        \"semantic_type\": \"\",\n        \"description\": \"\"\n      }\n    }\n  ]\n}",
              "type": "dataframe"
            },
            "text/html": [
              "\n",
              "  <div id=\"df-686dd51a-1b70-4146-bbae-7e7bf26c3a82\" class=\"colab-df-container\">\n",
              "    <div>\n",
              "<style scoped>\n",
              "    .dataframe tbody tr th:only-of-type {\n",
              "        vertical-align: middle;\n",
              "    }\n",
              "\n",
              "    .dataframe tbody tr th {\n",
              "        vertical-align: top;\n",
              "    }\n",
              "\n",
              "    .dataframe thead th {\n",
              "        text-align: right;\n",
              "    }\n",
              "</style>\n",
              "<table border=\"1\" class=\"dataframe\">\n",
              "  <thead>\n",
              "    <tr style=\"text-align: right;\">\n",
              "      <th></th>\n",
              "      <th>model</th>\n",
              "      <th>accuracy</th>\n",
              "      <th>fail_ratio</th>\n",
              "    </tr>\n",
              "  </thead>\n",
              "  <tbody>\n",
              "    <tr>\n",
              "      <th>12</th>\n",
              "      <td>Llama3 4 shot ma</td>\n",
              "      <td>0.663333</td>\n",
              "      <td>0.336667</td>\n",
              "    </tr>\n",
              "    <tr>\n",
              "      <th>13</th>\n",
              "      <td>Llama3 8 shot ma</td>\n",
              "      <td>0.660000</td>\n",
              "      <td>0.340000</td>\n",
              "    </tr>\n",
              "    <tr>\n",
              "      <th>11</th>\n",
              "      <td>Llama3 2 shot ma</td>\n",
              "      <td>0.656667</td>\n",
              "      <td>0.343333</td>\n",
              "    </tr>\n",
              "    <tr>\n",
              "      <th>7</th>\n",
              "      <td>Llama3 zero shot</td>\n",
              "      <td>0.653333</td>\n",
              "      <td>0.346667</td>\n",
              "    </tr>\n",
              "  </tbody>\n",
              "</table>\n",
              "</div>\n",
              "    <div class=\"colab-df-buttons\">\n",
              "\n",
              "  <div class=\"colab-df-container\">\n",
              "    <button class=\"colab-df-convert\" onclick=\"convertToInteractive('df-686dd51a-1b70-4146-bbae-7e7bf26c3a82')\"\n",
              "            title=\"Convert this dataframe to an interactive table.\"\n",
              "            style=\"display:none;\">\n",
              "\n",
              "  <svg xmlns=\"http://www.w3.org/2000/svg\" height=\"24px\" viewBox=\"0 -960 960 960\">\n",
              "    <path d=\"M120-120v-720h720v720H120Zm60-500h600v-160H180v160Zm220 220h160v-160H400v160Zm0 220h160v-160H400v160ZM180-400h160v-160H180v160Zm440 0h160v-160H620v160ZM180-180h160v-160H180v160Zm440 0h160v-160H620v160Z\"/>\n",
              "  </svg>\n",
              "    </button>\n",
              "\n",
              "  <style>\n",
              "    .colab-df-container {\n",
              "      display:flex;\n",
              "      gap: 12px;\n",
              "    }\n",
              "\n",
              "    .colab-df-convert {\n",
              "      background-color: #E8F0FE;\n",
              "      border: none;\n",
              "      border-radius: 50%;\n",
              "      cursor: pointer;\n",
              "      display: none;\n",
              "      fill: #1967D2;\n",
              "      height: 32px;\n",
              "      padding: 0 0 0 0;\n",
              "      width: 32px;\n",
              "    }\n",
              "\n",
              "    .colab-df-convert:hover {\n",
              "      background-color: #E2EBFA;\n",
              "      box-shadow: 0px 1px 2px rgba(60, 64, 67, 0.3), 0px 1px 3px 1px rgba(60, 64, 67, 0.15);\n",
              "      fill: #174EA6;\n",
              "    }\n",
              "\n",
              "    .colab-df-buttons div {\n",
              "      margin-bottom: 4px;\n",
              "    }\n",
              "\n",
              "    [theme=dark] .colab-df-convert {\n",
              "      background-color: #3B4455;\n",
              "      fill: #D2E3FC;\n",
              "    }\n",
              "\n",
              "    [theme=dark] .colab-df-convert:hover {\n",
              "      background-color: #434B5C;\n",
              "      box-shadow: 0px 1px 3px 1px rgba(0, 0, 0, 0.15);\n",
              "      filter: drop-shadow(0px 1px 2px rgba(0, 0, 0, 0.3));\n",
              "      fill: #FFFFFF;\n",
              "    }\n",
              "  </style>\n",
              "\n",
              "    <script>\n",
              "      const buttonEl =\n",
              "        document.querySelector('#df-686dd51a-1b70-4146-bbae-7e7bf26c3a82 button.colab-df-convert');\n",
              "      buttonEl.style.display =\n",
              "        google.colab.kernel.accessAllowed ? 'block' : 'none';\n",
              "\n",
              "      async function convertToInteractive(key) {\n",
              "        const element = document.querySelector('#df-686dd51a-1b70-4146-bbae-7e7bf26c3a82');\n",
              "        const dataTable =\n",
              "          await google.colab.kernel.invokeFunction('convertToInteractive',\n",
              "                                                    [key], {});\n",
              "        if (!dataTable) return;\n",
              "\n",
              "        const docLinkHtml = 'Like what you see? Visit the ' +\n",
              "          '<a target=\"_blank\" href=https://colab.research.google.com/notebooks/data_table.ipynb>data table notebook</a>'\n",
              "          + ' to learn more about interactive tables.';\n",
              "        element.innerHTML = '';\n",
              "        dataTable['output_type'] = 'display_data';\n",
              "        await google.colab.output.renderOutput(dataTable, element);\n",
              "        const docLink = document.createElement('div');\n",
              "        docLink.innerHTML = docLinkHtml;\n",
              "        element.appendChild(docLink);\n",
              "      }\n",
              "    </script>\n",
              "  </div>\n",
              "\n",
              "\n",
              "<div id=\"df-b63b8090-88a4-47b2-b0a2-8b94f3942d76\">\n",
              "  <button class=\"colab-df-quickchart\" onclick=\"quickchart('df-b63b8090-88a4-47b2-b0a2-8b94f3942d76')\"\n",
              "            title=\"Suggest charts\"\n",
              "            style=\"display:none;\">\n",
              "\n",
              "<svg xmlns=\"http://www.w3.org/2000/svg\" height=\"24px\"viewBox=\"0 0 24 24\"\n",
              "     width=\"24px\">\n",
              "    <g>\n",
              "        <path d=\"M19 3H5c-1.1 0-2 .9-2 2v14c0 1.1.9 2 2 2h14c1.1 0 2-.9 2-2V5c0-1.1-.9-2-2-2zM9 17H7v-7h2v7zm4 0h-2V7h2v10zm4 0h-2v-4h2v4z\"/>\n",
              "    </g>\n",
              "</svg>\n",
              "  </button>\n",
              "\n",
              "<style>\n",
              "  .colab-df-quickchart {\n",
              "      --bg-color: #E8F0FE;\n",
              "      --fill-color: #1967D2;\n",
              "      --hover-bg-color: #E2EBFA;\n",
              "      --hover-fill-color: #174EA6;\n",
              "      --disabled-fill-color: #AAA;\n",
              "      --disabled-bg-color: #DDD;\n",
              "  }\n",
              "\n",
              "  [theme=dark] .colab-df-quickchart {\n",
              "      --bg-color: #3B4455;\n",
              "      --fill-color: #D2E3FC;\n",
              "      --hover-bg-color: #434B5C;\n",
              "      --hover-fill-color: #FFFFFF;\n",
              "      --disabled-bg-color: #3B4455;\n",
              "      --disabled-fill-color: #666;\n",
              "  }\n",
              "\n",
              "  .colab-df-quickchart {\n",
              "    background-color: var(--bg-color);\n",
              "    border: none;\n",
              "    border-radius: 50%;\n",
              "    cursor: pointer;\n",
              "    display: none;\n",
              "    fill: var(--fill-color);\n",
              "    height: 32px;\n",
              "    padding: 0;\n",
              "    width: 32px;\n",
              "  }\n",
              "\n",
              "  .colab-df-quickchart:hover {\n",
              "    background-color: var(--hover-bg-color);\n",
              "    box-shadow: 0 1px 2px rgba(60, 64, 67, 0.3), 0 1px 3px 1px rgba(60, 64, 67, 0.15);\n",
              "    fill: var(--button-hover-fill-color);\n",
              "  }\n",
              "\n",
              "  .colab-df-quickchart-complete:disabled,\n",
              "  .colab-df-quickchart-complete:disabled:hover {\n",
              "    background-color: var(--disabled-bg-color);\n",
              "    fill: var(--disabled-fill-color);\n",
              "    box-shadow: none;\n",
              "  }\n",
              "\n",
              "  .colab-df-spinner {\n",
              "    border: 2px solid var(--fill-color);\n",
              "    border-color: transparent;\n",
              "    border-bottom-color: var(--fill-color);\n",
              "    animation:\n",
              "      spin 1s steps(1) infinite;\n",
              "  }\n",
              "\n",
              "  @keyframes spin {\n",
              "    0% {\n",
              "      border-color: transparent;\n",
              "      border-bottom-color: var(--fill-color);\n",
              "      border-left-color: var(--fill-color);\n",
              "    }\n",
              "    20% {\n",
              "      border-color: transparent;\n",
              "      border-left-color: var(--fill-color);\n",
              "      border-top-color: var(--fill-color);\n",
              "    }\n",
              "    30% {\n",
              "      border-color: transparent;\n",
              "      border-left-color: var(--fill-color);\n",
              "      border-top-color: var(--fill-color);\n",
              "      border-right-color: var(--fill-color);\n",
              "    }\n",
              "    40% {\n",
              "      border-color: transparent;\n",
              "      border-right-color: var(--fill-color);\n",
              "      border-top-color: var(--fill-color);\n",
              "    }\n",
              "    60% {\n",
              "      border-color: transparent;\n",
              "      border-right-color: var(--fill-color);\n",
              "    }\n",
              "    80% {\n",
              "      border-color: transparent;\n",
              "      border-right-color: var(--fill-color);\n",
              "      border-bottom-color: var(--fill-color);\n",
              "    }\n",
              "    90% {\n",
              "      border-color: transparent;\n",
              "      border-bottom-color: var(--fill-color);\n",
              "    }\n",
              "  }\n",
              "</style>\n",
              "\n",
              "  <script>\n",
              "    async function quickchart(key) {\n",
              "      const quickchartButtonEl =\n",
              "        document.querySelector('#' + key + ' button');\n",
              "      quickchartButtonEl.disabled = true;  // To prevent multiple clicks.\n",
              "      quickchartButtonEl.classList.add('colab-df-spinner');\n",
              "      try {\n",
              "        const charts = await google.colab.kernel.invokeFunction(\n",
              "            'suggestCharts', [key], {});\n",
              "      } catch (error) {\n",
              "        console.error('Error during call to suggestCharts:', error);\n",
              "      }\n",
              "      quickchartButtonEl.classList.remove('colab-df-spinner');\n",
              "      quickchartButtonEl.classList.add('colab-df-quickchart-complete');\n",
              "    }\n",
              "    (() => {\n",
              "      let quickchartButtonEl =\n",
              "        document.querySelector('#df-b63b8090-88a4-47b2-b0a2-8b94f3942d76 button');\n",
              "      quickchartButtonEl.style.display =\n",
              "        google.colab.kernel.accessAllowed ? 'block' : 'none';\n",
              "    })();\n",
              "  </script>\n",
              "</div>\n",
              "\n",
              "    </div>\n",
              "  </div>\n"
            ],
            "text/plain": [
              "               model  accuracy  fail_ratio\n",
              "12  Llama3 4 shot ma  0.663333    0.336667\n",
              "13  Llama3 8 shot ma  0.660000    0.340000\n",
              "11  Llama3 2 shot ma  0.656667    0.343333\n",
              "7   Llama3 zero shot  0.653333    0.346667"
            ]
          },
          "execution_count": 42,
          "metadata": {},
          "output_type": "execute_result"
        }
      ],
      "execution_count": null
    },
    {
      "cell_type": "markdown",
      "source": [
        "The performance of Mistral v3 and LLaMA 3 with manually labeled examples in the prompt shows significant improvements over their zero-shot baselines. For Mistral v3, the zero-shot model has an accuracy of 0.61 and a fail ratio of 0.38. With two-shot manually labeled examples, the accuracy improves to 0.64, and further increases to 0.67 with four-shot examples. The eight-shot model achieves the highest accuracy of 0.72 and the lowest fail ratio of 0.28.\n",
        "\n",
        "Similarly, LLaMA 3's zero-shot model has an accuracy of 0.65 and a fail ratio of 0.34. The accuracy slightly improves to 0.65 with two-shot examples and further to 0.66 with four-shot examples. The eight-shot model achieves an accuracy of 0.66, which is slightly lower than the four-shot model but still better than the zero-shot baseline.\n",
        "\n",
        "These results confirm that manually labeled examples significantly enhance the performance of both models compared to randomly selected examples, highlighting the importance of carefully choosing the examples to be injected into the prompt."
      ],
      "metadata": {
        "id": "zcGnr1J-Qory"
      }
    },
    {
      "cell_type": "markdown",
      "source": [
        "### Task 6.4 Best prompting technique error analisys  "
      ],
      "metadata": {
        "id": "bZIKbtOwWtPh"
      }
    },
    {
      "cell_type": "markdown",
      "source": [
        "The objective of this section is to visualize the errors made by the two models using their best prompting techniques identified in the previous section. This analysis will help us identify the types of errors most commonly committed by the models, providing insights into areas where further improvements are needed.\n",
        "\n",
        "We start analysing the comment misslcassified as non sexist (false negative)  "
      ],
      "metadata": {
        "id": "U46u1_X3mUgP"
      }
    },
    {
      "cell_type": "code",
      "source": [
        "print_misslabeled_tweets('Mistralv3', [\"mistralv3_8_shot_ma_labels\"], misslabel_type=\"fn\", text_limit=10)"
      ],
      "metadata": {
        "colab": {
          "base_uri": "https://localhost:8080/"
        },
        "id": "RaHe3izlV93M",
        "outputId": "3deb1a1b-b3d2-4310-e234-68e80c3592ce"
      },
      "outputs": [
        {
          "name": "stdout",
          "output_type": "stream",
          "text": [
            "Sexist labeled tweet classified as not sexist by Mistralv3\n",
            "\n",
            "Analyzing mistralv3_8_shot_ma_labels:\n",
            "row 8) That's female fantasy. I have a lot of experience in that field and nurses marry doctors all the time. Something statistics also support. \n",
            "row 140) Karma's a bitch! \n",
            "row 167) I'm getting older and I can't keep doing that grind to spin plates / seek out new pussy. I want to be with a woman long term, but want to learn how to avoid this issue from getting in the way. \n",
            "row 220) what have you tried already? I like to point out that nobody blinks when a smaller man starts shit with a larger man and gets his ass beat, men and women are equal right? \n",
            "row 284) Don’t hate women I just understand the price that is paid being with them (not sex) and it’s not worth it...AT ALL. \n"
          ]
        }
      ],
      "execution_count": null
    },
    {
      "cell_type": "code",
      "source": [
        "print_misslabeled_tweets('Llama3', [\"llama3_4_shot_ma_labels\"], misslabel_type=\"fn\", text_limit=10)"
      ],
      "metadata": {
        "colab": {
          "base_uri": "https://localhost:8080/"
        },
        "id": "lqrsu8GsRih5",
        "outputId": "fa91ed29-b56f-4418-d8e4-92998d4bdbe5"
      },
      "outputs": [
        {
          "name": "stdout",
          "output_type": "stream",
          "text": [
            "Sexist labeled tweet classified as not sexist by Llama3\n",
            "\n",
            "Analyzing llama3_4_shot_ma_labels:\n",
            "row 8) That's female fantasy. I have a lot of experience in that field and nurses marry doctors all the time. Something statistics also support. \n",
            "row 59) Greens, eh? The fateful question of the Occident is thus now whether young female university graduates can be continually served with yoga and Pilates courses even amidst the ruins looming on the horizon. \n",
            "row 140) Karma's a bitch! \n",
            "row 167) I'm getting older and I can't keep doing that grind to spin plates / seek out new pussy. I want to be with a woman long term, but want to learn how to avoid this issue from getting in the way. \n",
            "row 220) what have you tried already? I like to point out that nobody blinks when a smaller man starts shit with a larger man and gets his ass beat, men and women are equal right? \n",
            "row 245) To female Bishops stop making fun of religion. \n",
            "row 249) I know mine is higher with smart women than dumb women. Or rather, it's lower with dumb women because my lack of knowledge or interest in what (Insert celebrity) did comes across as patronizing. \n"
          ]
        }
      ],
      "execution_count": null
    },
    {
      "cell_type": "markdown",
      "source": [
        "Add comment here of the false negative"
      ],
      "metadata": {
        "id": "_lt0aVM2QeMA"
      }
    },
    {
      "cell_type": "code",
      "source": [
        "print_misslabeled_tweets('Mistralv3', [\"mistralv3_8_shot_ma_labels\"], misslabel_type=\"fp\", text_limit=10)"
      ],
      "metadata": {
        "colab": {
          "base_uri": "https://localhost:8080/"
        },
        "id": "hoZWrCC2QdxN",
        "outputId": "94b3e481-7026-42a6-a6eb-ce60da980e4d"
      },
      "outputs": [
        {
          "name": "stdout",
          "output_type": "stream",
          "text": [
            "Not sexist labeled tweet classified as sexist by Mistralv3\n",
            "\n",
            "Analyzing mistralv3_8_shot_ma_labels:\n",
            "row 3) Excellent, I was just looking at another post where the female fvcked men to get grades, why support that, or even risk exposing ourselves to that type of fraudulent behavior. \n",
            "row 6) ‪Import the third world and become the third world. You won’t see feminists protesting about this. ‬ ‪[URL] \n",
            "row 10) The black African will soon be labeling her a racist. Race card coming soon \n",
            "row 26) Good - the grid girls can finally get back into F1 \n",
            "row 32) Before I decided to sack Twitter off entirely, I muted about 100 terms, things like Feminism, sexism, racism, Trump, Brexit. Massive fucking list. Made Twitter so much more fun. \n",
            "row 34) I'm his first ever girlfriend Incels do not get girlfriends ever \n",
            "row 38) Yes, let's all be LECTURED by a Jack-ass like this Jimbo Bono's Bud in Red #BoycottedOscars #BoycottHollywood \n",
            "row 44) They are just so pissed off cuz no woman wants neither one of them and they know it. Both little fat round pigs who probably play tiddlywinks together! \n",
            "row 47) The new Europeans are into all kinds of sex.... \n",
            "row 48) First. Black Democrats upset that Black unemployment is down. Now. Feminists upset with good looking women so they get Grid girls fired. Next. LGBTQ community wants AIDS to come back. \n",
            "row 52) Ah, /r/redpillwomen, where ladies are free to speak their minds about any subject they like, so long as it involves either trading recipes or bashing Gloria Steinem. And nothing else. \n"
          ]
        }
      ],
      "execution_count": null
    },
    {
      "cell_type": "code",
      "source": [
        "print_misslabeled_tweets('Llama3', [\"llama3_4_shot_ma_labels\"], misslabel_type=\"fp\", text_limit=10)"
      ],
      "metadata": {
        "colab": {
          "base_uri": "https://localhost:8080/"
        },
        "id": "syFNva4dW4GB",
        "outputId": "3e0e61b2-ce9e-401d-e109-4d593582d332"
      },
      "outputs": [
        {
          "name": "stdout",
          "output_type": "stream",
          "text": [
            "Not sexist labeled tweet classified as sexist by Llama3\n",
            "\n",
            "Analyzing llama3_4_shot_ma_labels:\n",
            "row 2) Old man mogs everyone in this sub \n",
            "row 3) Excellent, I was just looking at another post where the female fvcked men to get grades, why support that, or even risk exposing ourselves to that type of fraudulent behavior. \n",
            "row 6) ‪Import the third world and become the third world. You won’t see feminists protesting about this. ‬ ‪[URL] \n",
            "row 7) Most women find a highly educated and well traveled man sexy. \n",
            "row 10) The black African will soon be labeling her a racist. Race card coming soon \n",
            "row 14) The queen is not representing herself and a direct descendant of Muhammad & high up in the Catholic church of the illuminati ... so are you surprised about this abuse of children? \n",
            "row 17) Na he's not flirting with her so she's reading him as gay. \n",
            "row 26) Good - the grid girls can finally get back into F1 \n",
            "row 34) I'm his first ever girlfriend Incels do not get girlfriends ever \n",
            "row 38) Yes, let's all be LECTURED by a Jack-ass like this Jimbo Bono's Bud in Red #BoycottedOscars #BoycottHollywood \n",
            "row 44) They are just so pissed off cuz no woman wants neither one of them and they know it. Both little fat round pigs who probably play tiddlywinks together! \n"
          ]
        }
      ],
      "execution_count": null
    },
    {
      "cell_type": "markdown",
      "source": [
        "# Task 7 - Report\n",
        "\n",
        "Wrap up your experiment in a short report (up to 2 pages)."
      ],
      "metadata": {
        "id": "8QWlVXJgLJne"
      }
    },
    {
      "cell_type": "markdown",
      "source": [
        "### Instructions\n",
        "\n",
        "* Use the NLP course report template.\n",
        "* Summarize each task in the report following the provided template."
      ],
      "metadata": {
        "id": "_fsdV99TLJne"
      }
    },
    {
      "cell_type": "markdown",
      "source": [
        "### Recommendations\n",
        "\n",
        "The report is not a copy-paste of graphs, tables, and command outputs.\n",
        "\n",
        "* Summarize classification performance in Table format.\n",
        "* **Do not** report command outputs or screenshots.\n",
        "* Report learning curves in Figure format.\n",
        "* The error analysis section should summarize your findings."
      ],
      "metadata": {
        "id": "z-hUXYaLLJne"
      }
    },
    {
      "cell_type": "markdown",
      "source": [
        "# Submission\n",
        "\n",
        "* **Submit** your report in PDF format.\n",
        "* **Submit** your python notebook.\n",
        "* Make sure your notebook is **well organized**, with no temporary code, commented sections, tests, etc..."
      ],
      "metadata": {
        "id": "fURV8zfPLJne"
      }
    },
    {
      "cell_type": "markdown",
      "source": [
        "# FAQ\n",
        "\n",
        "Please check this frequently asked questions before contacting us."
      ],
      "metadata": {
        "id": "zn1tUeYzLJne"
      }
    },
    {
      "cell_type": "markdown",
      "source": [
        "### Model cards\n",
        "\n",
        "You can pick any open-source model card you like.\n",
        "\n",
        "We recommend starting from those reported in this assignment."
      ],
      "metadata": {
        "id": "FYAOVGvKhtTQ"
      }
    },
    {
      "cell_type": "markdown",
      "source": [
        "### Implementation\n",
        "\n",
        "Everything can be done via ``transformers`` APIs.\n",
        "\n",
        "However, you are free to test frameworks, such as [LangChain](https://www.langchain.com/), [LlamaIndex](https://www.llamaindex.ai/) [LitParrot](https://github.com/awesome-software/lit-parrot), provided that you correctly address task instructions."
      ],
      "metadata": {
        "id": "PWG72N-LLJne"
      }
    },
    {
      "cell_type": "markdown",
      "source": [
        "### Bonus Points\n",
        "\n",
        "0.5 bonus points are arbitrarily assigned based on significant contributions such as:\n",
        "\n",
        "- Outstanding error analysis\n",
        "- Masterclass code organization\n",
        "- Suitable extensions\n",
        "- Evaluate A1 dataset and perform comparison\n",
        "\n",
        "Note that bonus points are only assigned if all task points are attributed (i.e., 6/6)."
      ],
      "metadata": {
        "id": "9cplnq3dLJne"
      }
    },
    {
      "cell_type": "markdown",
      "source": [
        "### Prompt Template\n",
        "\n",
        "Do not change the provided prompt template.\n",
        "\n",
        "You are only allowed to change it in case of a possible extension."
      ],
      "metadata": {
        "id": "coy_pJ40LJne"
      }
    },
    {
      "cell_type": "markdown",
      "source": [
        "### Optimizations\n",
        "\n",
        "Any kind of code optimization (e.g., speedup model inference or reduce computational cost) is more than welcome!"
      ],
      "metadata": {
        "id": "aSiH0Xqj79wc"
      }
    },
    {
      "cell_type": "markdown",
      "source": [
        "# The End"
      ],
      "metadata": {
        "id": "Jpr-LSK7LJnh"
      }
    }
  ]
}